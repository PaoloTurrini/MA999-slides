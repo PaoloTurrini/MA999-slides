{
 "cells": [
  {
   "cell_type": "code",
   "execution_count": null,
   "metadata": {},
   "outputs": [],
   "source": [
    "using Pkg\n",
    "Pkg.activate(\".\")\n",
    "Pkg.instantiate()"
   ]
  },
  {
   "cell_type": "markdown",
   "metadata": {
    "slideshow": {
     "slide_type": "slide"
    }
   },
   "source": [
    "# MA999 - Agent based modelling 2 : the Schelling Model\n",
    "\n",
    "## MathSys CDT 2023\n",
    "\n",
    "### Lecturer: Paolo Turrini \n",
    "(thanks to Colm Connaughton and Stas Zhydkov) "
   ]
  },
  {
   "cell_type": "markdown",
   "metadata": {
    "slideshow": {
     "slide_type": "slide"
    }
   },
   "source": [
    "## Origin of the Schelling Model\n",
    "\n",
    "The Schelling model is a simple model of social segregation. \n",
    "\n",
    "<a href=\"https://www.uzh.ch/cmsssl/suz/dam/jcr:00000000-68cb-72db-ffff-ffffff8071db/04.02%7B_%7Dschelling%7B_%7D71.pdf\">\n",
    "Schelling, Thomas C. \"*Dynamic models of segregation.*\" Journal of mathematical sociology 1.2 (**1971**): 143-186.\n",
    "</a>\n",
    "\n",
    "Aim is to understand the social segregation that was a feature of US cities in the 1960's.\n",
    "\n",
    "One of the earliest computational social science models"
   ]
  },
  {
   "cell_type": "markdown",
   "metadata": {
    "slideshow": {
     "slide_type": "slide"
    }
   },
   "source": [
    "## The model\n",
    "\n",
    "* Agents belong to one of two groups (0 or 1).\n",
    "* The agents live in a two-dimensional $N \\times N$ grid with 8 neighboring positions per position (Chebyshev metric).\n",
    "* Each position of the grid can be occupied by at most one agent or empty.\n",
    "* If an agent has at least $n_\\text{happy}$ neighbors belonging to the same group, then it is content.\n",
    "* If an agent is discontent, it keeps moving to new locations until it is content.\n",
    "\n",
    "Many variations.\n"
   ]
  },
  {
   "cell_type": "markdown",
   "metadata": {
    "slideshow": {
     "slide_type": "slide"
    }
   },
   "source": [
    "## Findings\n",
    "\n",
    "* A priori one might expect that segregation results when agents prefer locations where a majority of their neighbours are of the same group ($n_\\text{happy} >4$ in this case).\n",
    "* Simulations show that even for $n_\\text{happy} = 3$, strong segregation develops over time.\n",
    "* Schelling's work demonstrates that \"mild\" in-group preference towards one's own group can still lead to a highly segregated society."
   ]
  },
  {
   "cell_type": "markdown",
   "metadata": {
    "slideshow": {
     "slide_type": "slide"
    }
   },
   "source": [
    "## How to quantify segregation?\n",
    "\n",
    "* Suppose the group of agent $i$ is $g_i$ and the neighbours of agent $i$ are $\\mathcal{N}_i$:\n",
    "* Proportion of \"out-group\" links for agent $i$ is\n",
    "\n",
    "$$ s_i = \\frac{\\sum_{j \\in \\mathcal{N}_i} \\left( 1 - \\delta_{g_i\\,g_j} \\right)}{\\left|\\mathcal{N}_i \\right|}$$\n",
    "\n",
    "* Average of $s_i$ over all the agents is called the interface density:\n",
    "\n",
    "$$S = \\frac{\\sum_{i=1}^{N^2} s_i}{N^2} $$."
   ]
  },
  {
   "cell_type": "markdown",
   "metadata": {
    "slideshow": {
     "slide_type": "slide"
    }
   },
   "source": [
    "## Building the model\n",
    "\n",
    "We need to define:\n",
    "\n",
    "* agent\n",
    "* space\n",
    "* agent update rule\n",
    "* scheduler\n",
    "* model update rule (to calculate the interface density *after* all agents have had an opportunity to move)"
   ]
  },
  {
   "cell_type": "code",
   "execution_count": null,
   "metadata": {
    "slideshow": {
     "slide_type": "slide"
    }
   },
   "outputs": [],
   "source": [
    "using Agents\n",
    "using Plots\n",
    "using Statistics\n",
    "include(\"code/Schelling.jl\")"
   ]
  },
  {
   "cell_type": "markdown",
   "metadata": {
    "slideshow": {
     "slide_type": "slide"
    }
   },
   "source": [
    "## Running the model and extracting data"
   ]
  },
  {
   "cell_type": "code",
   "execution_count": null,
   "metadata": {},
   "outputs": [],
   "source": [
    "N = 100\n",
    "vac=0.1\n",
    "results =Dict()\n",
    "for threshold in [1,2,3,4]\n",
    "    println(\"Running model with min_to_be_happy = \", threshold)\n",
    "    model = Schelling.initialize(numagents = floor(N*N*(1.0-vac)), griddims = (N, N), \n",
    "        min_to_be_happy = threshold)\n",
    "    adata = [(:mood, sum), (:interfaces, mean), (:neighbours, mean)]\n",
    "    data, _ = run!(model, Schelling.agent_step!, Schelling.model_step!, 100; adata)\n",
    "    results[threshold] = data\n",
    "end"
   ]
  },
  {
   "cell_type": "markdown",
   "metadata": {
    "slideshow": {
     "slide_type": "slide"
    }
   },
   "source": [
    "## The interface density"
   ]
  },
  {
   "cell_type": "code",
   "execution_count": null,
   "metadata": {},
   "outputs": [],
   "source": [
    "p = plot(ylim=[0,1], xlim=[0,50], title=\"Interface density\", xlabel=\"Steps\", ylabel=\"Fraction of out-group neighbours\")\n",
    "for threshold in [1,2,3,4]\n",
    "    plot!(p,results[threshold][2:end,:mean_interfaces], label=\"min_to_be_happy =\"*string(threshold))\n",
    "end\n",
    "p"
   ]
  },
  {
   "cell_type": "markdown",
   "metadata": {
    "slideshow": {
     "slide_type": "slide"
    }
   },
   "source": [
    "## Visualising the dynamics of the model"
   ]
  },
  {
   "cell_type": "code",
   "execution_count": null,
   "metadata": {},
   "outputs": [],
   "source": [
    "using InteractiveDynamics\n",
    "using CairoMakie # choosing a plotting backend"
   ]
  },
  {
   "cell_type": "code",
   "execution_count": null,
   "metadata": {},
   "outputs": [],
   "source": [
    "model = Schelling.initialize(numagents = floor(N*N*(1.0-vac)), griddims = (N, N), \n",
    "        min_to_be_happy = 4)\n",
    "run!(model, Schelling.agent_step!, Schelling.model_step!, 100)\n",
    "groupcolor(a) = a.group == 1 ? :blue : :orange\n",
    "groupmarker(a) = a.group == 1 ? :circle : :rect\n",
    "figure, _ = abm_plot(model; ac = groupcolor, am = groupmarker, as = 10)\n",
    "figure # returning the figure displays it"
   ]
  },
  {
   "cell_type": "markdown",
   "metadata": {
    "slideshow": {
     "slide_type": "slide"
    }
   },
   "source": [
    "## Making animations"
   ]
  },
  {
   "cell_type": "code",
   "execution_count": null,
   "metadata": {},
   "outputs": [],
   "source": [
    "model = Schelling.initialize(numagents = floor(N*N*(1.0-vac)), griddims = (N, N), min_to_be_happy = 4)\n",
    "abm_video(\n",
    "    \"schelling_happy_4.mp4\", model, Schelling.agent_step!, Schelling.model_step!;\n",
    "    ac = groupcolor, am = groupmarker, as = 10,\n",
    "    framerate = 4, frames = 100,\n",
    "    title = \"Schelling's segregation model, min_to_be_happy=4\"\n",
    ")"
   ]
  },
  {
   "cell_type": "markdown",
   "metadata": {
    "slideshow": {
     "slide_type": "slide"
    }
   },
   "source": [
    "## Discussion\n",
    "\n",
    "* What have we learned from this model? \n",
    "* Do you believe it?\n",
    "* Can you think of useful variations on the model?\n",
    "* Can you think of other problem domains where these ideas might be relevant?"
   ]
  },
  {
   "cell_type": "code",
   "execution_count": null,
   "metadata": {},
   "outputs": [],
   "source": []
  }
 ],
 "metadata": {
  "celltoolbar": "Slideshow",
  "kernelspec": {
   "display_name": "Julia 1.7.2",
   "language": "julia",
   "name": "julia-1.7"
  },
  "language_info": {
   "file_extension": ".jl",
   "mimetype": "application/julia",
   "name": "julia",
   "version": "1.7.2"
  }
 },
 "nbformat": 4,
 "nbformat_minor": 4
}

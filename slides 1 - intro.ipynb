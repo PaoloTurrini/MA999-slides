{
 "cells": [
  {
   "cell_type": "code",
   "execution_count": null,
   "metadata": {
    "slideshow": {
     "slide_type": "skip"
    }
   },
   "outputs": [],
   "source": [
    "using Pkg\n",
    "Pkg.activate(\".\")\n",
    "Pkg.instantiate()"
   ]
  },
  {
   "cell_type": "code",
   "execution_count": null,
   "metadata": {
    "slideshow": {
     "slide_type": "skip"
    }
   },
   "outputs": [],
   "source": [
    "using Agents\n",
    "using Plots\n",
    "using DataFrames"
   ]
  },
  {
   "cell_type": "markdown",
   "metadata": {
    "nbpresent": {
     "id": "645119a8-e06f-49fe-afef-aeb582bec315"
    },
    "slideshow": {
     "slide_type": "slide"
    }
   },
   "source": [
    "# MA999 - Agent based modelling 1 - introduction\n",
    "\n",
    "## MathSys CDT 2022\n",
    "\n",
    "### Lecturer: Colm Connaughton"
   ]
  },
  {
   "cell_type": "markdown",
   "metadata": {
    "nbpresent": {
     "id": "ee4a50a9-8c7a-4a04-8f5d-7936fa4915d7"
    },
    "slideshow": {
     "slide_type": "slide"
    }
   },
   "source": [
    "## Summary\n",
    "\n",
    "* What is agent-based modelling?\n",
    "* Example 1: one-dimensional cellular automata\n",
    "* Agents.jl - Agent-based modelling in Julia\n",
    "* Example 2: Traffic flow and congestion games\n",
    "* Mathematical analysis of congestion games: Braess' paradox and the price of anarchy\n",
    "* Example 3: Gaia hypothesis: planetary homeostasis in the Daisyworld model\n",
    "* Mathematical analysis of the mean field Daisyworld model"
   ]
  },
  {
   "cell_type": "markdown",
   "metadata": {
    "nbpresent": {
     "id": "bdddb761-088a-42b2-8b20-f600e76ade27"
    },
    "slideshow": {
     "slide_type": "slide"
    }
   },
   "source": [
    "## What is agent based modelling?\n",
    "* An ABM is a model built from multiple autonomous agents that react to their environment (including the other agents) using a predefined set of rules.\n",
    "* The environment can, in turn, be altered by the actions of the agents.\n",
    "### Advantages\n",
    "* Massive flexibility - many of the assumptions of \"mathematical\" models can be relaxed.\n",
    "* Easy to simulate and visualise.\n",
    "* Can handle heterogeneity in a natural way - not all agents need to be identical.\n",
    "* Often the only option for studying complex adaptive systems."
   ]
  },
  {
   "cell_type": "markdown",
   "metadata": {
    "nbpresent": {
     "id": "bdddb761-088a-42b2-8b20-f600e76ade27"
    },
    "slideshow": {
     "slide_type": "slide"
    }
   },
   "source": [
    "### Disadvantages\n",
    "* Potentially large number of parameters and rather under-developed theory for model selection.\n",
    "* Temptation to favour model \"fidelity\" over parsimony can lead to inappropriate predictive use.\n",
    "* Can become computationally expensive.\n",
    "* Complex ABMs are difficult to understand."
   ]
  },
  {
   "cell_type": "markdown",
   "metadata": {
    "nbpresent": {
     "id": "7317a812-d066-4166-af2f-9de07a7f42bc"
    },
    "slideshow": {
     "slide_type": "slide"
    }
   },
   "source": [
    "##  Example 1: one-dimensional cellular automata\n",
    "\n",
    "* \"Agents\" are nodes on a one-dimensional grid: $G = \\{v1, v2, \\ldots v_N\\}$.\n",
    "* Each agent has a single \"state\" attribute,$x_i$, taking values 0 or 1.\n",
    "* Time proceeds in discrete steps.\n",
    "* At each step, agents update states based on neighbouring states.\n",
    "* Such a model is specified by:\n",
    "    * initial state, $X(0) = \\{x_1(0), x_2(0), \\ldots x_N(0)\\}$.\n",
    "    * an update rule that maps the current states of an agent and its neighbours to the new state:\n",
    "    $$S : (x_{i-1},\\, x_i,\\, x_{i+1}) \\to x_i$$\n",
    "    "
   ]
  },
  {
   "cell_type": "markdown",
   "metadata": {
    "nbpresent": {
     "id": "7317a812-d066-4166-af2f-9de07a7f42bc"
    },
    "slideshow": {
     "slide_type": "slide"
    }
   },
   "source": [
    "##  Example 1: one-dimensional cellular automata\n",
    "\n",
    "$$S : (x_{i-1},\\, x_i,\\, x_{i+1}) \\to x_i$$\n",
    "\n",
    "* How many such rules are there?\n",
    "    * a rule must specify an output bit for $2^3 = 8$ possible input configurations of 3 bits.\n",
    "    * hence there are $2^8 = 256$ rules. "
   ]
  },
  {
   "cell_type": "markdown",
   "metadata": {
    "nbpresent": {
     "id": "803b0866-1d88-4f43-bda4-97ec3c766cc6"
    },
    "slideshow": {
     "slide_type": "slide"
    }
   },
   "source": [
    "## Naming one-dimensional CA : the Wolfram code\n",
    "\n",
    "Stephen Wolfram devised what is now the standard rule for naming 1D CA. Each rule is assigned a number between 0 and 255.\n",
    "\n",
    "* Write each of the possible configurations in order and its corresponding output value as follows:\n",
    "\n",
    "|Input | 111 | 110 | 101 | 100 | 011 | 010 | 001| 000 |\n",
    "| - | - | - | - | - | - | - | - | - |\n",
    "|Output | 0 | 1 | 1 | 0 | 1 | 1 | 1 | 0 |\n",
    "\n",
    "* Interpret the output row as a binary integer to give the rule number."
   ]
  },
  {
   "cell_type": "markdown",
   "metadata": {
    "nbpresent": {
     "id": "803b0866-1d88-4f43-bda4-97ec3c766cc6"
    },
    "slideshow": {
     "slide_type": "slide"
    }
   },
   "source": [
    "## Naming one-dimensional CA : the Wolfram code\n",
    "\n",
    "|Input | 111 | 110 | 101 | 100 | 011 | 010 | 001| 000 |\n",
    "| - | - | - | - | - | - | - | - | - |\n",
    "|Output | 0 | 1 | 1 | 0 | 1 | 1 | 1 | 0 |\n",
    "\n",
    "The above rule is $0 \\times 128 + 1\\times 64 + 1\\times 32 + 0\\times 16 + 1\\times 8 +1\\times 4 + 1 \\times 2 + 0\\times 1 = 110$. \n",
    "\n",
    "Let's simulate rule 110 in Julia to see what the evolution looks like."
   ]
  },
  {
   "cell_type": "markdown",
   "metadata": {
    "nbpresent": {
     "id": "2b3fb7c1-51f1-4a83-a6d8-2a9643612703"
    },
    "slideshow": {
     "slide_type": "slide"
    }
   },
   "source": [
    "## Simulation of 1D CA in Julia\n",
    "\n",
    "The Julia package Agents.jl provides a framework for simulating ABMs. I have written a custom module called ```CA1D``` that uses Agents.jl to simulate 1D CA. Let's first play around with it. Then we will look at how the code works. First load the module:"
   ]
  },
  {
   "cell_type": "code",
   "execution_count": null,
   "metadata": {
    "nbpresent": {
     "id": "f3a7e71d-0117-48ea-add6-312ab7ef2d3e"
    },
    "slideshow": {
     "slide_type": "-"
    }
   },
   "outputs": [],
   "source": [
    "include(\"code/CA1D.jl\")"
   ]
  },
  {
   "cell_type": "markdown",
   "metadata": {
    "nbpresent": {
     "id": "9a7aa806-6785-41ce-9ef3-d9a0bdb13671"
    }
   },
   "source": [
    "### Step 1 : define the update rule for an agent\n",
    "\n",
    "Agents.jl uses dictionaries a lot so learn how they work: "
   ]
  },
  {
   "cell_type": "code",
   "execution_count": null,
   "metadata": {
    "nbpresent": {
     "id": "ab1e565b-b1df-4a28-a169-ce2501155143"
    },
    "slideshow": {
     "slide_type": "slide"
    }
   },
   "outputs": [],
   "source": [
    "rule110 = Dict(\"111\"=>0, \"110\"=>1, \"101\"=>1, \"100\"=>0, \"011\"=>1,\n",
    "            \"010\"=>1, \"001\"=>1, \"000\"=>0)\n",
    "\n",
    "rule22 = Dict(\"111\"=>0, \"110\"=>0, \"101\"=>0, \"100\"=>1, \"011\"=>0,\n",
    "            \"010\"=>1, \"001\"=>1, \"000\"=>0)"
   ]
  },
  {
   "cell_type": "markdown",
   "metadata": {
    "nbpresent": {
     "id": "0c7e3d8f-5784-4aa9-84c4-cda08cd1cd00"
    },
    "slideshow": {
     "slide_type": "slide"
    }
   },
   "source": [
    "### Step 2 : build and initialise the model\n",
    "\n",
    "Building involves several sub-steps:\n",
    "\n",
    "* Define the spatial grid - in this case just a 1D grid.\n",
    "* Pass any additional model parameters to the model - none here\n",
    "* Add the agents to the model - trivial here since the agents and the grid are the same.\n",
    "* Initialise the parameters of the model - here we set the middle agent to be active"
   ]
  },
  {
   "cell_type": "code",
   "execution_count": null,
   "metadata": {
    "nbpresent": {
     "id": "53ad7d8c-a814-40c5-adec-f0b25fa14947"
    },
    "slideshow": {
     "slide_type": "slide"
    }
   },
   "outputs": [],
   "source": [
    "n = 101\n",
    "model = CA1D.initialise(;rules = rule110, gridsize = n, initial_condition=\"singleton\")"
   ]
  },
  {
   "cell_type": "markdown",
   "metadata": {
    "nbpresent": {
     "id": "3965bff0-902e-47e3-8d7b-0f5fdb948512"
    },
    "slideshow": {
     "slide_type": "slide"
    }
   },
   "source": [
    "### Step 3 : run the model and gather some data\n",
    "\n",
    "* We just need to specify the number of steps and let Agents.jl take care of the rest.\n",
    "* We do a number of runs half the size of the grid.\n",
    "* Data is returned from the simulation in a dataframe object : https://juliadata.github.io/DataFrames.jl/stable/"
   ]
  },
  {
   "cell_type": "code",
   "execution_count": null,
   "metadata": {
    "nbpresent": {
     "id": "00c85f07-4207-4731-8d37-46e909d4505b"
    },
    "slideshow": {
     "slide_type": "slide"
    }
   },
   "outputs": [],
   "source": [
    "steps = round(Int64, n)\n",
    "p, data = CA1D.run(;rules = rule22, gridsize = n, initial_condition=\"singleton\", nsteps=steps, update=\"synchronous\")"
   ]
  },
  {
   "cell_type": "code",
   "execution_count": null,
   "metadata": {},
   "outputs": [],
   "source": []
  },
  {
   "cell_type": "markdown",
   "metadata": {
    "cell_style": "split",
    "nbpresent": {
     "id": "aff3b643-7412-480c-8bfa-cc7bdbfa4a94"
    },
    "slideshow": {
     "slide_type": "slide"
    }
   },
   "source": [
    "### Step 4 : analyse the data\n",
    "\n",
    "* Here we just visualise the output by plotting the array of zeros and ones at consecutive steps."
   ]
  },
  {
   "cell_type": "code",
   "execution_count": null,
   "metadata": {
    "cell_style": "split",
    "nbpresent": {
     "id": "d1fecfec-1a1f-48fa-ac51-9e9f2ece8254"
    }
   },
   "outputs": [],
   "source": [
    "p"
   ]
  },
  {
   "cell_type": "markdown",
   "metadata": {
    "nbpresent": {
     "id": "d0e01c62-1aeb-470b-88cb-9f225f34dc27"
    }
   },
   "source": [
    "We conclude that even very simple ABMs can have very complex behaviour."
   ]
  },
  {
   "cell_type": "markdown",
   "metadata": {
    "cell_style": "center",
    "slideshow": {
     "slide_type": "slide"
    }
   },
   "source": [
    "Let's try it with a random initial condition or a different rule..."
   ]
  },
  {
   "cell_type": "code",
   "execution_count": null,
   "metadata": {
    "cell_style": "center"
   },
   "outputs": [],
   "source": [
    "p, data = CA1D.run(;rules = rule22, gridsize = n, initial_condition=\"random\", nsteps=steps, update=\"synchronous\")\n",
    "p"
   ]
  },
  {
   "cell_type": "markdown",
   "metadata": {
    "nbpresent": {
     "id": "6d7e43ba-d451-4b5e-84be-e90cd8737ecb"
    },
    "slideshow": {
     "slide_type": "slide"
    }
   },
   "source": [
    "## A closer look at Agents.jl\n",
    "The CA is too simple to illustrate all the features that are present in general ABMs. In particular, the lack of distinction between the space  grid and the agents is not generic. \n",
    "\n",
    "Agents.jl provides framework for constructing, running and analysing a broad class of ABMs. It *is* faster than writing yourself from scratch."
   ]
  },
  {
   "cell_type": "markdown",
   "metadata": {
    "nbpresent": {
     "id": "6d7e43ba-d451-4b5e-84be-e90cd8737ecb"
    },
    "slideshow": {
     "slide_type": "slide"
    }
   },
   "source": [
    "\n",
    "### Features of a general ABM\n",
    "\n",
    "* an **agent** object with its own features\n",
    "* a **model** object with its own features\n",
    "* a **space** in which the agents live (in Agents.jl the space is a feature of the model, \"no space\" is possible)\n",
    "* an **agent update** function\n",
    "* a **model update** function\n",
    "* a **scheduler**: a protocol for deciding the order in which the agents in the model run their update functions"
   ]
  },
  {
   "cell_type": "markdown",
   "metadata": {
    "nbpresent": {
     "id": "ffdf12b5-fa15-49a3-99a1-8372428310ae"
    },
    "slideshow": {
     "slide_type": "slide"
    }
   },
   "source": [
    "### Overview of the structure of the Agents.jl framework\n",
    "From https://juliadynamics.github.io/Agents.jl/dev/tutorial/ \n",
    "\n",
    "<img src=\"files/images/AgentsJL_overview.png\" alt=\"Agents\" style=\"width: 400px;\"/>\n",
    "\n"
   ]
  },
  {
   "cell_type": "markdown",
   "metadata": {
    "nbpresent": {
     "id": "4484d819-f11e-4d5e-8a81-75255e7aec09"
    },
    "slideshow": {
     "slide_type": "slide"
    }
   },
   "source": [
    "### Data types in the Agents.jl framework\n",
    "\n",
    "![Overview of Agents.jl](files/images/AgentsJL_model_object_structure.png \"Agents.jl\")\n",
    "\n",
    "from https://juliadynamics.github.io/Agents.jl/dev/tutorial/ "
   ]
  },
  {
   "cell_type": "markdown",
   "metadata": {
    "slideshow": {
     "slide_type": "slide"
    }
   },
   "source": [
    "## Example 1: the 1D CA \"under the hood\"\n",
    "\n",
    "Let's look at how the code for the 1D CA above fits into this framework.\n",
    "\n",
    "There are lots of other examples in the Agents.jl documentation."
   ]
  },
  {
   "cell_type": "markdown",
   "metadata": {
    "slideshow": {
     "slide_type": "slide"
    }
   },
   "source": [
    "### Step 1 : defining the agent, space and model objects\n",
    "\n",
    "Agents are always defined as mutable subtypes of ```AbstractAgent```. Depending on the space, the agent must have certain properties. For example, when the space is a ```GridSpace```, the agent must have a ```pos``` field of the appropriate dimension:"
   ]
  },
  {
   "cell_type": "code",
   "execution_count": null,
   "metadata": {},
   "outputs": [],
   "source": [
    "mutable struct CA1DAgent <: AbstractAgent\n",
    "    id::Int # The identifier number of the agent\n",
    "    pos::Dims{1} # The x location of the agent on a 1D grid\n",
    "    state::Int # The state of the agent - 0 or 1\n",
    "end"
   ]
  },
  {
   "cell_type": "markdown",
   "metadata": {
    "slideshow": {
     "slide_type": "slide"
    }
   },
   "source": [
    "### Step 1 : defining the agent, space and model objects\n",
    "\n",
    "Agents.jl pre-defines several types of agent matching with different types of space and provides a macro to customise these. In our case, we want to customise a ```GridAgent{1}```:"
   ]
  },
  {
   "cell_type": "code",
   "execution_count": null,
   "metadata": {},
   "outputs": [],
   "source": [
    "@agent CA1DAgent GridAgent{1} begin\n",
    "    state::Int\n",
    "end"
   ]
  },
  {
   "cell_type": "markdown",
   "metadata": {
    "slideshow": {
     "slide_type": "slide"
    }
   },
   "source": [
    "### Step 1 : defining the agent, space and model objects\n",
    "\n",
    "The space in this case is a 1D grid"
   ]
  },
  {
   "cell_type": "code",
   "execution_count": null,
   "metadata": {},
   "outputs": [],
   "source": [
    "gridsize = 101\n",
    "space = GridSpace((gridsize,), metric=:euclidean, periodic = true)"
   ]
  },
  {
   "cell_type": "markdown",
   "metadata": {
    "slideshow": {
     "slide_type": "slide"
    }
   },
   "source": [
    "### Step 1 : defining the agent, space and model objects\n",
    "\n",
    "The model incorporates the agent, the space and any additional properties needed to specify the model.\n",
    "\n",
    "In our case, the only additional properties the model needs is the rules that we have defined above"
   ]
  },
  {
   "cell_type": "code",
   "execution_count": null,
   "metadata": {},
   "outputs": [],
   "source": [
    "space = GridSpace((gridsize,), metric=:euclidean, periodic = true)\n",
    "properties = Dict(:rules => rule110)\n",
    "model = ABM(CA1DAgent, space; properties)"
   ]
  },
  {
   "cell_type": "markdown",
   "metadata": {
    "slideshow": {
     "slide_type": "slide"
    }
   },
   "source": [
    "### Step 1 : defining the agent, space and model objects\n",
    "\n",
    "After creating the model, we now need to add the agents to it. In this case, there is an agent at each point on the grid. Let's start off with all of them set to state 0 except for the last one:\n"
   ]
  },
  {
   "cell_type": "code",
   "execution_count": null,
   "metadata": {},
   "outputs": [],
   "source": [
    "for idx in 1:gridsize\n",
    "    add_agent_pos!(CA1DAgent(idx, (idx,), 0), model)\n",
    "end\n",
    "model.agents[gridsize].state = 1"
   ]
  },
  {
   "cell_type": "markdown",
   "metadata": {
    "slideshow": {
     "slide_type": "slide"
    }
   },
   "source": [
    "### Aside: Using a function to initialise an ABM\n",
    "\n",
    "It is a good idea to package all of this together into a single function to initialise an ABM. Here we take advantage of Julia's ability to define default function arguments:"
   ]
  },
  {
   "cell_type": "code",
   "execution_count": null,
   "metadata": {},
   "outputs": [],
   "source": [
    "function initialise(;rules = rule110, gridsize = 101)\n",
    "    space = GridSpace((gridsize,), metric=:euclidean, periodic = true)\n",
    "    properties = Dict(:rules => rules)\n",
    "    model = ABM(CA1DAgent, space; properties)\n",
    "    \n",
    "    for idx in 1:gridsize\n",
    "        add_agent_pos!(CA1DAgent(idx, (idx,), 0), model)\n",
    "    end\n",
    "    model.agents[gridsize].state = 1  \n",
    "    return model\n",
    "end"
   ]
  },
  {
   "cell_type": "markdown",
   "metadata": {
    "slideshow": {
     "slide_type": "slide"
    }
   },
   "source": [
    "### Step 2 : defining the agent update function\n",
    "\n",
    "This is where all of the action takes place:"
   ]
  },
  {
   "cell_type": "code",
   "execution_count": null,
   "metadata": {},
   "outputs": [],
   "source": [
    "function agent_step!(agent, model)\n",
    "    neighbourhood = nearby_ids(agent.pos, model)\n",
    "    str = \"\"\n",
    "    for idx in neighbourhood\n",
    "        str=str*string(model.agents[idx].state)\n",
    "    end\n",
    "    agent.state = model.rules[str]\n",
    "end"
   ]
  },
  {
   "cell_type": "markdown",
   "metadata": {
    "slideshow": {
     "slide_type": "slide"
    }
   },
   "source": [
    "### Step 3 : running the model and extracting data"
   ]
  },
  {
   "cell_type": "code",
   "execution_count": null,
   "metadata": {},
   "outputs": [],
   "source": [
    "nsteps = 50\n",
    "adata = [:pos, :state]\n",
    "data, _ = run!(model, agent_step!, nsteps; adata);"
   ]
  },
  {
   "cell_type": "code",
   "execution_count": null,
   "metadata": {},
   "outputs": [],
   "source": [
    "data[1:5,:]"
   ]
  },
  {
   "cell_type": "markdown",
   "metadata": {
    "slideshow": {
     "slide_type": "slide"
    }
   },
   "source": [
    "Agents.jl uses a DataFrame to return the data from run. You need to learn how to manipulate them"
   ]
  },
  {
   "cell_type": "code",
   "execution_count": null,
   "metadata": {},
   "outputs": [],
   "source": [
    "# Process the data into a simple array for plotting\n",
    "    A = zeros(Int64, (nsteps+1, nagents(model)))\n",
    "    for i in 0:nsteps\n",
    "        snapshot = data[data[!,:step] .== i, :]\n",
    "        for j in Iterators.flatten(snapshot.pos)\n",
    "            A[i+1,j] = snapshot.state[j]\n",
    "        end\n",
    "    end"
   ]
  },
  {
   "cell_type": "code",
   "execution_count": null,
   "metadata": {},
   "outputs": [],
   "source": [
    " # Reverse the image to make it plot nicer\n",
    "    B = map( x -> x == 0 ? 1 : 0, A)\n",
    "    p = plot(Gray.(B), aspect_ratio = :equal, ylim=(0,nsteps+1), axis=nothing, xaxis=false, yaxis=false)"
   ]
  },
  {
   "cell_type": "markdown",
   "metadata": {
    "slideshow": {
     "slide_type": "slide"
    }
   },
   "source": [
    "### Synchronous vs asynchronous update - defining a model update function\n",
    "\n",
    "What happened? We need our model to update synchronously. This is most easily done by defining a model update function that updates the agents:"
   ]
  },
  {
   "cell_type": "code",
   "execution_count": null,
   "metadata": {},
   "outputs": [],
   "source": [
    "function model_step!(model)\n",
    "    new_states =  fill(0, nagents(model))\n",
    "    for agent in allagents(model)\n",
    "        neighbourhood = nearby_ids(agent.pos, model)\n",
    "        str = \"\"\n",
    "        for idx in neighbourhood\n",
    "            str=str*string(model.agents[idx].state)\n",
    "        end\n",
    "        new_states[agent.id] = model.rules[str]\n",
    "    end\n",
    "    \n",
    "    # Now that we have worked out all the new states, overwrite the old states\n",
    "    for k in keys(model.agents)\n",
    "        model.agents[k].state = new_states[k]\n",
    "    end\n",
    "end"
   ]
  },
  {
   "cell_type": "markdown",
   "metadata": {
    "slideshow": {
     "slide_type": "slide"
    }
   },
   "source": [
    "### Synchronous vs asynchronous update - defining a model update function\n",
    "\n",
    "Now run again with a different form of the run!() function. Agents.jl provides a ```dummystep``` function for ABMs that don't require an ```agent_step!()``` function:"
   ]
  },
  {
   "cell_type": "code",
   "execution_count": null,
   "metadata": {},
   "outputs": [],
   "source": [
    "model = initialise(;rules = rule110, gridsize = 101)\n",
    "nsteps = 50\n",
    "adata = [:pos, :state]\n",
    "data, _ = run!(model, dummystep, model_step!, nsteps; adata);"
   ]
  },
  {
   "cell_type": "code",
   "execution_count": null,
   "metadata": {
    "slideshow": {
     "slide_type": "slide"
    }
   },
   "outputs": [],
   "source": [
    "# Process the data into a simple array for plotting\n",
    "    A = zeros(Int64, (nsteps+1, nagents(model)))\n",
    "    for i in 0:nsteps\n",
    "        snapshot = data[data[!,:step] .== i, :]\n",
    "        for j in Iterators.flatten(snapshot.pos)\n",
    "            A[i+1,j] = snapshot.state[j]\n",
    "        end\n",
    "    end\n",
    "\n",
    " # Reverse the image to make it plot nicer\n",
    "    B = map( x -> x == 0 ? 1 : 0, A)\n",
    "    p = plot(Gray.(B), aspect_ratio = :equal, ylim=(0,nsteps+1), axis=nothing, xaxis=false, yaxis=false)"
   ]
  },
  {
   "cell_type": "markdown",
   "metadata": {
    "slideshow": {
     "slide_type": "slide"
    }
   },
   "source": [
    "### Aside: Running an ABM inside a function\n",
    "\n",
    "As with initialisation, it can be helpful to wrap these commands into a single function that just returns the relevant data:\n"
   ]
  },
  {
   "cell_type": "code",
   "execution_count": null,
   "metadata": {},
   "outputs": [],
   "source": [
    "function run(;rules = rule110, gridsize = 100, nsteps=20)\n",
    "    # Initialise a new ABM\n",
    "    model = initialise(rules=rules, gridsize=gridsize)\n",
    "    # Specify what data to record from the simulation\n",
    "    adata = [:pos, :state]\n",
    "    # Run the model\n",
    "    data, _ = run!(model, dummystep, model_step!, nsteps; adata)\n",
    "    # Process the data into a simple array for plotting\n",
    "    A = zeros(Int64, (nsteps+1, nagents(model)))\n",
    "    for i in 0:nsteps\n",
    "        snapshot = data[data[!,:step] .== i, :]\n",
    "        for j in Iterators.flatten(snapshot.pos)\n",
    "            A[i+1,j] = snapshot.state[j]\n",
    "        end\n",
    "    end\n",
    "    # Reverse the image to make it plot nicer\n",
    "    B = map( x -> x == 0 ? 1 : 0, A)\n",
    "    p = plot(Gray.(B), aspect_ratio = :equal, ylim=(0,nsteps+1), axis=nothing, xaxis=false, yaxis=false)\n",
    "    return p, A\n",
    "end"
   ]
  },
  {
   "cell_type": "code",
   "execution_count": null,
   "metadata": {
    "slideshow": {
     "slide_type": "slide"
    }
   },
   "outputs": [],
   "source": [
    "p, _ = run(rules = rule22, gridsize=101, nsteps = 50)\n",
    "p"
   ]
  },
  {
   "cell_type": "code",
   "execution_count": null,
   "metadata": {
    "nbpresent": {
     "id": "90a8f86c-30e2-4459-a621-27e9b8a46e1b"
    }
   },
   "outputs": [],
   "source": []
  },
  {
   "cell_type": "code",
   "execution_count": null,
   "metadata": {
    "nbpresent": {
     "id": "65fc80f1-0db7-4916-baec-971eb591c557"
    }
   },
   "outputs": [],
   "source": []
  }
 ],
 "metadata": {
  "celltoolbar": "Slideshow",
  "kernelspec": {
   "display_name": "Julia 1.6.0",
   "language": "julia",
   "name": "julia-1.6"
  },
  "language_info": {
   "file_extension": ".jl",
   "mimetype": "application/julia",
   "name": "julia",
   "version": "1.6.0"
  }
 },
 "nbformat": 4,
 "nbformat_minor": 2
}

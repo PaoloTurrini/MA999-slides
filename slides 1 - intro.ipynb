{
 "cells": [
  {
   "cell_type": "code",
   "execution_count": 3,
   "metadata": {
    "scrolled": true,
    "slideshow": {
     "slide_type": "skip"
    }
   },
   "outputs": [
    {
     "name": "stderr",
     "output_type": "stream",
     "text": [
      "\u001b[32m\u001b[1m  Activating\u001b[22m\u001b[39m project at `~/Documents/GitHub/MA999-slides`\n",
      "\u001b[32m\u001b[1mPrecompiling\u001b[22m\u001b[39m project...\n",
      "\u001b[32m  ✓ \u001b[39m\u001b[90mSuiteSparse_jll\u001b[39m\n",
      "\u001b[32m  ✓ \u001b[39m\u001b[90mKLU\u001b[39m\n",
      "\u001b[32m  ✓ \u001b[39m\u001b[90mSundials_jll\u001b[39m\n",
      "\u001b[32m  ✓ \u001b[39m\u001b[90mLinearSolve\u001b[39m\n",
      "\u001b[32m  ✓ \u001b[39m\u001b[90mSundials\u001b[39m\n",
      "\u001b[32m  ✓ \u001b[39m\u001b[90mOrdinaryDiffEq\u001b[39m\n",
      "\u001b[32m  ✓ \u001b[39m\u001b[90mDiffEqCallbacks\u001b[39m\n",
      "\u001b[32m  ✓ \u001b[39m\u001b[90mDelayDiffEq\u001b[39m\n",
      "\u001b[32m  ✓ \u001b[39m\u001b[90mStochasticDiffEq\u001b[39m\n",
      "\u001b[32m  ✓ \u001b[39m\u001b[90mSteadyStateDiffEq\u001b[39m\n",
      "\u001b[32m  ✓ \u001b[39mDifferentialEquations\n",
      "  11 dependencies successfully precompiled in 109 seconds (297 already precompiled)\n"
     ]
    }
   ],
   "source": [
    "using Pkg\n",
    "Pkg.activate(\".\")\n",
    "Pkg.instantiate()"
   ]
  },
  {
   "cell_type": "code",
   "execution_count": 2,
   "metadata": {
    "slideshow": {
     "slide_type": "skip"
    }
   },
   "outputs": [],
   "source": [
    "using Agents\n",
    "using Plots\n",
    "using DataFrames"
   ]
  },
  {
   "cell_type": "markdown",
   "metadata": {
    "nbpresent": {
     "id": "645119a8-e06f-49fe-afef-aeb582bec315"
    },
    "slideshow": {
     "slide_type": "slide"
    }
   },
   "source": [
    "# MA999 - Agent based modelling 1 - introduction\n",
    "\n",
    "## MathSys CDT 2022\n",
    "\n",
    "### Lecturer: Paolo Turrini \n",
    "(thanks to Colm Connaughton and Stas Zhydkov) "
   ]
  },
  {
   "cell_type": "markdown",
   "metadata": {
    "nbpresent": {
     "id": "ee4a50a9-8c7a-4a04-8f5d-7936fa4915d7"
    },
    "slideshow": {
     "slide_type": "slide"
    }
   },
   "source": [
    "## Summary\n",
    "\n",
    "* What is agent-based modelling?\n",
    "* Example 1: one-dimensional cellular automata\n",
    "* Agents.jl - Agent-based modelling in Julia\n",
    "* Example 2: Schelling Segregation Model\n",
    "* Mathematical Analysis of the Schelling Segregation Model\n",
    "* Example 3: Traffic flow and congestion games\n",
    "* Mathematical analysis of congestion games: Braess' paradox and the price of anarchy\n",
    "* Example 4: Gaia hypothesis: planetary homeostasis in the Daisyworld model\n",
    "* Mathematical analysis of the mean field Daisyworld model"
   ]
  },
  {
   "cell_type": "markdown",
   "metadata": {
    "nbpresent": {
     "id": "bdddb761-088a-42b2-8b20-f600e76ade27"
    },
    "slideshow": {
     "slide_type": "slide"
    }
   },
   "source": [
    "## What is agent based modelling?\n",
    "* An ABM is a model built from multiple autonomous agents that react to their environment (including the other agents) using a predefined set of rules.\n",
    "* The environment can, in turn, be altered by the actions of the agents.\n",
    "### Advantages\n",
    "* Massive flexibility - many of the assumptions of \"mathematical\" models can be relaxed.\n",
    "* Easy to simulate and visualise.\n",
    "* Can handle heterogeneity in a natural way - not all agents need to be identical.\n",
    "* Often the only option for studying complex adaptive systems."
   ]
  },
  {
   "cell_type": "markdown",
   "metadata": {
    "nbpresent": {
     "id": "bdddb761-088a-42b2-8b20-f600e76ade27"
    },
    "slideshow": {
     "slide_type": "slide"
    }
   },
   "source": [
    "### Disadvantages\n",
    "* Potentially large number of parameters and rather under-developed theory for model selection.\n",
    "* Temptation to favour model \"fidelity\" over parsimony can lead to inappropriate predictive use.\n",
    "* Can become computationally expensive.\n",
    "* Complex ABMs are difficult to understand."
   ]
  },
  {
   "cell_type": "markdown",
   "metadata": {
    "nbpresent": {
     "id": "7317a812-d066-4166-af2f-9de07a7f42bc"
    },
    "slideshow": {
     "slide_type": "slide"
    }
   },
   "source": [
    "##  Example 1: one-dimensional cellular automata\n",
    "\n",
    "* \"Agents\" are nodes on a one-dimensional grid: $G = \\{v1, v2, \\ldots v_N\\}$.\n",
    "* Each agent has a single \"state\" attribute,$x_i$, taking values 0 or 1.\n",
    "* Time proceeds in discrete steps.\n",
    "* At each step, agents update states based on neighbouring states.\n",
    "* Such a model is specified by:\n",
    "    * initial state, $X(0) = \\{x_1(0), x_2(0), \\ldots x_N(0)\\}$.\n",
    "    * an update rule that maps the current states of an agent and its neighbours to the new state:\n",
    "    $$S : (x_{i-1},\\, x_i,\\, x_{i+1}) \\to x_i$$\n",
    "    "
   ]
  },
  {
   "cell_type": "markdown",
   "metadata": {
    "nbpresent": {
     "id": "7317a812-d066-4166-af2f-9de07a7f42bc"
    },
    "slideshow": {
     "slide_type": "slide"
    }
   },
   "source": [
    "##  Example 1: one-dimensional cellular automata\n",
    "\n",
    "$$S : (x_{i-1},\\, x_i,\\, x_{i+1}) \\to x_i$$\n",
    "\n",
    "* How many such rules are there?\n",
    "    * a rule must specify an output bit for $2^3 = 8$ possible input configurations of 3 bits.\n",
    "    * hence there are $2^8 = 256$ rules. "
   ]
  },
  {
   "cell_type": "markdown",
   "metadata": {
    "nbpresent": {
     "id": "803b0866-1d88-4f43-bda4-97ec3c766cc6"
    },
    "slideshow": {
     "slide_type": "slide"
    }
   },
   "source": [
    "## Naming one-dimensional CA : the Wolfram code\n",
    "\n",
    "Stephen Wolfram devised what is now the standard rule for naming 1D CA. Each rule is assigned a number between 0 and 255.\n",
    "\n",
    "* Write each of the possible configurations in order and its corresponding output value as follows:\n",
    "\n",
    "|Input | 111 | 110 | 101 | 100 | 011 | 010 | 001| 000 |\n",
    "| - | - | - | - | - | - | - | - | - |\n",
    "|Output | 0 | 1 | 1 | 0 | 1 | 1 | 1 | 0 |\n",
    "\n",
    "* Interpret the output row as a binary integer to give the rule number."
   ]
  },
  {
   "cell_type": "markdown",
   "metadata": {
    "nbpresent": {
     "id": "803b0866-1d88-4f43-bda4-97ec3c766cc6"
    },
    "slideshow": {
     "slide_type": "slide"
    }
   },
   "source": [
    "## Naming one-dimensional CA : the Wolfram code\n",
    "\n",
    "|Input | 111 | 110 | 101 | 100 | 011 | 010 | 001| 000 |\n",
    "| - | - | - | - | - | - | - | - | - |\n",
    "|Output | 0 | 1 | 1 | 0 | 1 | 1 | 1 | 0 |\n",
    "\n",
    "The above rule is $0 \\times 128 + 1\\times 64 + 1\\times 32 + 0\\times 16 + 1\\times 8 +1\\times 4 + 1 \\times 2 + 0\\times 1 = 110$. \n",
    "\n",
    "Let's simulate rule 110 in Julia to see what the evolution looks like."
   ]
  },
  {
   "cell_type": "markdown",
   "metadata": {
    "nbpresent": {
     "id": "2b3fb7c1-51f1-4a83-a6d8-2a9643612703"
    },
    "slideshow": {
     "slide_type": "slide"
    }
   },
   "source": [
    "## Simulation of 1D CA in Julia\n",
    "\n",
    "The Julia package Agents.jl provides a framework for simulating ABMs. There is a custom module called ```CA1D``` that uses Agents.jl to simulate 1D CA. Let's first play around with it. Then we will look at how the code works. First load the module:"
   ]
  },
  {
   "cell_type": "code",
   "execution_count": 4,
   "metadata": {
    "nbpresent": {
     "id": "f3a7e71d-0117-48ea-add6-312ab7ef2d3e"
    },
    "scrolled": true,
    "slideshow": {
     "slide_type": "-"
    }
   },
   "outputs": [
    {
     "data": {
      "text/plain": [
       "Main.CA1D"
      ]
     },
     "execution_count": 4,
     "metadata": {},
     "output_type": "execute_result"
    }
   ],
   "source": [
    "include(\"code/CA1D.jl\")"
   ]
  },
  {
   "cell_type": "markdown",
   "metadata": {
    "nbpresent": {
     "id": "9a7aa806-6785-41ce-9ef3-d9a0bdb13671"
    }
   },
   "source": [
    "### Step 1 : define the update rule for an agent\n",
    "\n",
    "Agents.jl uses dictionaries a lot so learn how they work: "
   ]
  },
  {
   "cell_type": "code",
   "execution_count": 7,
   "metadata": {
    "nbpresent": {
     "id": "ab1e565b-b1df-4a28-a169-ce2501155143"
    },
    "slideshow": {
     "slide_type": "slide"
    }
   },
   "outputs": [
    {
     "data": {
      "text/plain": [
       "Dict{String, Int64} with 8 entries:\n",
       "  \"000\" => 0\n",
       "  \"111\" => 0\n",
       "  \"001\" => 1\n",
       "  \"011\" => 0\n",
       "  \"101\" => 0\n",
       "  \"110\" => 0\n",
       "  \"010\" => 1\n",
       "  \"100\" => 1"
      ]
     },
     "execution_count": 7,
     "metadata": {},
     "output_type": "execute_result"
    }
   ],
   "source": [
    "rule110 = Dict(\"111\"=>0, \"110\"=>1, \"101\"=>1, \"100\"=>0, \"011\"=>1,\n",
    "            \"010\"=>1, \"001\"=>1, \"000\"=>0)\n",
    "\n",
    "rule22 = Dict(\"111\"=>0, \"110\"=>0, \"101\"=>0, \"100\"=>1, \"011\"=>0,\n",
    "            \"010\"=>1, \"001\"=>1, \"000\"=>0)"
   ]
  },
  {
   "cell_type": "markdown",
   "metadata": {
    "nbpresent": {
     "id": "0c7e3d8f-5784-4aa9-84c4-cda08cd1cd00"
    },
    "slideshow": {
     "slide_type": "slide"
    }
   },
   "source": [
    "### Step 2 : build and initialise the model\n",
    "\n",
    "Building involves several sub-steps:\n",
    "\n",
    "* Define the spatial grid - in this case just a 1D grid.\n",
    "* Pass any additional model parameters to the model - none here.\n",
    "* Add the agents to the model - trivial here since the agents and the grid are the same.\n",
    "* Initialise the parameters of the model - here we set the middle agent to be active."
   ]
  },
  {
   "cell_type": "code",
   "execution_count": 8,
   "metadata": {
    "nbpresent": {
     "id": "53ad7d8c-a814-40c5-adec-f0b25fa14947"
    },
    "slideshow": {
     "slide_type": "slide"
    }
   },
   "outputs": [
    {
     "data": {
      "text/plain": [
       "AgentBasedModel with 101 agents of type CA1DAgent\n",
       " space: GridSpace with size (101,), metric=euclidean, periodic=true\n",
       " scheduler: fastest\n",
       " properties: Dict(:rules => Dict(\"000\" => 0, \"111\" => 0, \"001\" => 1, \"011\" => 1, \"101\" => 1, \"110\" => 1, \"010\" => 1, \"100\" => 0))"
      ]
     },
     "execution_count": 8,
     "metadata": {},
     "output_type": "execute_result"
    }
   ],
   "source": [
    "n = 101\n",
    "model = CA1D.initialise(;rules = rule110, gridsize = n, initial_condition=\"singleton\")"
   ]
  },
  {
   "cell_type": "markdown",
   "metadata": {
    "nbpresent": {
     "id": "3965bff0-902e-47e3-8d7b-0f5fdb948512"
    },
    "slideshow": {
     "slide_type": "slide"
    }
   },
   "source": [
    "### Step 3 : run the model and gather some data\n",
    "\n",
    "* We just need to specify the number of steps and let Agents.jl take care of the rest.\n",
    "* We do a number of runs half the size of the grid.\n",
    "* Data is returned from the simulation in a dataframe object : https://juliadata.github.io/DataFrames.jl/stable/"
   ]
  },
  {
   "cell_type": "code",
   "execution_count": 9,
   "metadata": {
    "nbpresent": {
     "id": "00c85f07-4207-4731-8d37-46e909d4505b"
    },
    "slideshow": {
     "slide_type": "slide"
    }
   },
   "outputs": [
    {
     "data": {
      "text/plain": [
       "(Plot{Plots.GRBackend() n=1}, [0 0 … 0 1; 1 0 … 1 1; … ; 0 0 … 0 0; 0 0 … 0 0])"
      ]
     },
     "execution_count": 9,
     "metadata": {},
     "output_type": "execute_result"
    }
   ],
   "source": [
    "steps = round(Int64, n/2)\n",
    "p, data = CA1D.run(;rules = rule22, gridsize = n, initial_condition=\"singleton\", nsteps=steps, update=\"synchronous\")"
   ]
  },
  {
   "cell_type": "code",
   "execution_count": null,
   "metadata": {
    "slideshow": {
     "slide_type": "skip"
    }
   },
   "outputs": [],
   "source": []
  },
  {
   "cell_type": "markdown",
   "metadata": {
    "cell_style": "split",
    "nbpresent": {
     "id": "aff3b643-7412-480c-8bfa-cc7bdbfa4a94"
    },
    "slideshow": {
     "slide_type": "slide"
    }
   },
   "source": [
    "### Step 4 : analyse the data\n",
    "\n",
    "* Here we just visualise the output by plotting the array of zeros and ones at consecutive steps."
   ]
  },
  {
   "cell_type": "code",
   "execution_count": 10,
   "metadata": {
    "cell_style": "split",
    "nbpresent": {
     "id": "d1fecfec-1a1f-48fa-ac51-9e9f2ece8254"
    }
   },
   "outputs": [
    {
     "data": {
      "image/svg+xml": [
       "<?xml version=\"1.0\" encoding=\"utf-8\"?>\n",
       "<svg xmlns=\"http://www.w3.org/2000/svg\" xmlns:xlink=\"http://www.w3.org/1999/xlink\" width=\"600\" height=\"400\" viewBox=\"0 0 2400 1600\">\n",
       "<defs>\n",
       "  <clipPath id=\"clip790\">\n",
       "    <rect x=\"0\" y=\"0\" width=\"2400\" height=\"1600\"/>\n",
       "  </clipPath>\n",
       "</defs>\n",
       "<path clip-path=\"url(#clip790)\" d=\"\n",
       "M0 1600 L2400 1600 L2400 0 L0 0  Z\n",
       "  \" fill=\"#ffffff\" fill-rule=\"evenodd\" fill-opacity=\"1\"/>\n",
       "<defs>\n",
       "  <clipPath id=\"clip791\">\n",
       "    <rect x=\"480\" y=\"0\" width=\"1681\" height=\"1600\"/>\n",
       "  </clipPath>\n",
       "</defs>\n",
       "<path clip-path=\"url(#clip790)\" d=\"\n",
       "M47.2441 1387.91 L2352.76 1387.91 L2352.76 212.094 L47.2441 212.094  Z\n",
       "  \" fill=\"#ffffff\" fill-rule=\"evenodd\" fill-opacity=\"1\"/>\n",
       "<defs>\n",
       "  <clipPath id=\"clip792\">\n",
       "    <rect x=\"47\" y=\"212\" width=\"2307\" height=\"1177\"/>\n",
       "  </clipPath>\n",
       "</defs>\n",
       "<g clip-path=\"url(#clip792)\">\n",
       "<image width=\"2306\" height=\"1153\" xlink:href=\"data:image/png;base64,\n",
       "iVBORw0KGgoAAAANSUhEUgAACQIAAASBCAYAAABlkHHEAAAgAElEQVR4nOzcQW4kRRBA0Q7k+185\n",
       "WKDZUAKBcXZVf947QHYopu2RnF85u7svAAAAAAAAAADguJk5dvZvx04GAAAAAAAAAADeRggEAAAA\n",
       "AAAAAAABQiAAAAAAAAAAAAgQAgEAAAAAAAAAQIAQCAAAAAAAAAAAAoRAAAAAAAAAAAAQIAQCAAAA\n",
       "AAAAAIAAIRAAAAAAAAAAAAQIgQAAAAAAAAAAIEAIBAAAAAAAAAAAAUIgAAAAAAAAAAAIEAIBAAAA\n",
       "AAAAAECAEAgAAAAAAAAAAAKEQAAAAAAAAAAAECAEAgAAAAAAAACAACEQAAAAAAAAAAAECIEAAAAA\n",
       "AAAAACBACAQAAAAAAAAAAAFCIAAAAAAAAAAACBACAQAAAAAAAABAgBAIAAAAAAAAAAAChEAAAAAA\n",
       "AAAAABAgBAIAAAAAAAAAgIB5vV578gN2jx4PAAAAAAAAAAA/ambuHuFbvAgEAAAAAAAAAAABQiAA\n",
       "AAAAAAAAAAgQAgEAAAAAAAAAQIAQCAAAAAAAAAAAAoRAAAAAAAAAAAAQIAQCAAAAAAAAAIAAIRAA\n",
       "AAAAAAAAAAQIgQAAAAAAAAAAIEAIBAAAAAAAAAAAAUIgAAAAAAAAAAAIEAIBAAAAAAAAAECAEAgA\n",
       "AAAAAAAAAAKEQAAAAAAAAAAAECAEAgAAAAAAAACAACEQAAAAAAAAAAAECIEAAAAAAAAAACBACAQA\n",
       "AAAAAAAAAAFCIAAAAAAAAAAACBACAQAAAAAAAABAgBAIAAAAAAAAAAAChEAAAAAAAAAAABAgBAIA\n",
       "AAAAAAAAgICv3T36ATNz7OzTswMAAAAAAAAA8EyalCsvAgEAAAAAAAAAQIAQCAAAAAAAAAAAAoRA\n",
       "AAAAAAAAAAAQIAQCAAAAAAAAAIAAIRAAAAAAAAAAAAQIgQAAAAAAAAAAIEAIBAAAAAAAAAAAAUIg\n",
       "AAAAAAAAAAAIEAIBAAAAAAAAAECAEAgAAAAAAAAAAAKEQAAAAAAAAAAAECAEAgAAAAAAAACAACEQ\n",
       "AAAAAAAAAAAECIEAAAAAAAAAACBACAQAAAAAAAAAAAFCIAAAAAAAAAAACBACAQAAAAAAAABAgBAI\n",
       "AAAAAAAAAAAChEAAAAAAAAAAABAgBAIAAAAAAAAAgAAhEAAAAAAAAAAABAiBAAAAAAAAAAAgYF6v\n",
       "1949xBPtWgsAAAAAAAAAwH8xM3eP8DgnmxQvAgEAAAAAAAAAQIAQCAAAAAAAAAAAAoRAAAAAAAAA\n",
       "AAAQIAQCAAAAAAAAAIAAIRAAAAAAAAAAAAQIgQAAAAAAAAAAIEAIBAAAAAAAAAAAAUIgAAAAAAAA\n",
       "AAAIEAIBAAAAAAAAAECAEAgAAAAAAAAAAAKEQAAAAAAAAAAAECAEAgAAAAAAAACAACEQAAAAAAAA\n",
       "AAAECIEAAAAAAAAAACBACAQAAAAAAAAAAAFCIAAAAAAAAAAACBACAQAAAAAAAABAgBAIAAAAAAAA\n",
       "AAAChEAAAAAAAAAAABAgBAIAAAAAAAAAgAAhEAAAAAAAAAAABAiBAAAAAAAAAAAg4Gt3757hkWbm\n",
       "2Nl2DgAAAAAAAAA8hUaiw4tAAAAAAAAAAAAQIAQCAAAAAAAAAIAAIRAAAAAAAAAAAAQIgQAAAAAA\n",
       "AAAAIEAIBAAAAAAAAAAAAUIgAAAAAAAAAAAIEAIBAAAAAAAAAECAEAgAAAAAAAAAAAKEQAAAAAAA\n",
       "AAAAECAEAgAAAAAAAACAACEQAAAAAAAAAAAECIEAAAAAAAAAACBACAQAAAAAAAAAAAFCIAAAAAAA\n",
       "AAAACBACAQAAAAAAAABAgBAIAAAAAAAAAAAChEAAAAAAAAAAABAgBAIAAAAAAAAAgAAhEAAAAAAA\n",
       "AAAABMzu7t1DfNfM3D3C43zwPycAAAAAAAAA8Bc0ElcaiSsvAgEAAAAAAAAAQIAQCAAAAAAAAAAA\n",
       "AoRAAAAAAAAAAAAQIAQCAAAAAAAAAIAAIRAAAAAAAAAAAAQIgQAAAAAAAAAAIEAIBAAAAAAAAAAA\n",
       "AUIgAAAAAAAAAAAIEAIBAAAAAAAAAECAEAgAAAAAAAAAAAKEQAAAAAAAAAAAECAEAgAAAAAAAACA\n",
       "ACEQAAAAAAAAAAAECIEAAAAAAAAAACBACAQAAAAAAAAAAAFCIAAAAAAAAAAACBACAQAAAAAAAABA\n",
       "gBAIAAAAAAAAAAAChEAAAAAAAAAAABAgBAIAAAAAAAAAgAAhEAAAAAAAAAAABAiBAAAAAAAAAAAg\n",
       "QAgEAAAAAAAAAAABX6c/YGaOnb27x87+VPYNAAAAAAAAAPdwZ/9e9n3lRSAAAAAAAAAAAAgQAgEA\n",
       "AAAAAAAAQIAQCAAAAAAAAAAAAoRAAAAAAAAAAAAQIAQCAAAAAAAAAIAAIRAAAAAAAAAAAAQIgQAA\n",
       "AAAAAAAAIEAIBAAAAAAAAAAAAUIgAAAAAAAAAAAIEAIBAAAAAAAAAECAEAgAAAAAAAAAAAKEQAAA\n",
       "AAAAAAAAECAEAgAAAAAAAACAACEQAAAAAAAAAAAECIEAAAAAAAAAACBACAQAAAAAAAAAAAFCIAAA\n",
       "AAAAAAAACBACAQAAAAAAAABAgBAIAAAAAAAAAAAChEAAAAAAAAAAABAgBAIAAAAAAAAAgAAhEAAA\n",
       "AAAAAAAABMzr9dq7h3ii3XNrmZljZ3+qk/sGAAAAAAAAgF/c2V9pJN7r5L69CAQAAAAAAAAAAAFC\n",
       "IAAAAAAAAAAACBACAQAAAAAAAABAgBAIAAAAAAAAAAAChEAAAAAAAAAAABAgBAIAAAAAAAAAgAAh\n",
       "EAAAAAAAAAAABAiBAAAAAAAAAAAgQAgEAAAAAAAAAAABQiAAAAAAAAAAAAgQAgEAAAAAAAAAQIAQ\n",
       "CAAAAAAAAAAAAoRAAAAAAAAAAAAQIAQCAAAAAAAAAIAAIRAAAAAAAAAAAAQIgQAAAAAAAAAAIEAI\n",
       "BAAAAAAAAAAAAUIgAAAAAAAAAAAIEAIBAAAAAAAAAECAEAgAAAAAAAAAAAKEQAAAAAAAAAAAECAE\n",
       "AgAAAAAAAACAgNndvXsImJljZ/uKAwAAAAAAAHwWd8jwPV4EAgAAAAAAAACAACEQAAAAAAAAAAAE\n",
       "CIEAAAAAAAAAACBACAQAAAAAAAAAAAFCIAAAAAAAAAAACBACAQAAAAAAAABAgBAIAAAAAAAAAAAC\n",
       "hEAAAAAAAAAAABAgBAIAAAAAAAAAgAAhEAAAAAAAAAAABAiBAAAAAAAAAAAgQAgEAAAAAAAAAAAB\n",
       "QiAAAAAAAAAAAAgQAgEAAAAAAAAAQIAQCAAAAAAAAAAAAoRAAAAAAAAAAAAQIAQCAAAAAAAAAIAA\n",
       "IRAAAAAAAAAAAAQIgQAAAAAAAAAAIEAIBAAAAAAAAAAAAUIgAAAAAAAAAAAIEAIBAAAAAAAAAEDA\n",
       "7O7ePQSfYWbuHuFx/PgAAAAAAAAA/1fukK/cIXM3LwIBAAAAAAAAAECAEAgAAAAAAAAAAAKEQAAA\n",
       "AAAAAAAAECAEAgAAAAAAAACAACEQAAAAAAAAAAAECIEAAAAAAAAAACBACAQAAAAAAAAAAAFCIAAA\n",
       "AAAAAAAACBACAQAAAAAAAABAgBAIAAAAAAAAAAAChEAAAAAAAAAAABAgBAIAAAAAAAAAgAAhEAAA\n",
       "AAAAAAAABAiBAAAAAAAAAAAgQAgEAAAAAAAAAAABQiAAAAAAAAAAAAgQAgEAAAAAAAAAQIAQCAAA\n",
       "AAAAAAAAAoRAAAAAAAAAAAAQ8HX3APysmTl29u4eO/tT2TcAAAAAAADwZO4038u+uZsXgQAAAAAA\n",
       "AAAAIEAIBAAAAAAAAAAAAUIgAAAAAAAAAAAIEAIBAAAAAAAAAECAEAgAAAAAAAAAAAKEQAAAAAAA\n",
       "AAAAECAEAgAAAAAAAACAACEQAAAAAAAAAAAECIEAAAAAAAAAACBACAQAAAAAAAAAAAFCIAAAAAAA\n",
       "AAAACBACAQAAAAAAAABAgBAIAAAAAAAAAAAChEAAAAAAAAAAABAgBAIAAAAAAAAAgAAhEAAAAAAA\n",
       "AAAABAiBAAAAAAAAAAAgQAgEAAAAAAAAAAABQiAAAAAAAAAAAAgQAgEAAAAAAAAAQIAQCAAAAAAA\n",
       "AAAAAoRAAAAAAAAAAAAQIAQCAAAAAAAAAICA2d29e4j/m5m5e4THOfk1tO8rP/YAAAAAAADwHO40\n",
       "r9whv5c75A4vAgEAAAAAAAAAQIAQCAAAAAAAAAAAAoRAAAAAAAAAAAAQIAQCAAAAAAAAAIAAIRAA\n",
       "AAAAAAAAAAQIgQAAAAAAAAAAIEAIBAAAAAAAAAAAAUIgAAAAAAAAAAAIEAIBAAAAAAAAAECAEAgA\n",
       "AAAAAAAAAAKEQAAAAAAAAAAAECAEAgAAAAAAAACAACEQAAAAAAAAAAAECIEAAAAAAAAAACBACAQA\n",
       "AAAAAAAAAAFCIAAAAAAAAAAACBACAQAAAAAAAABAgBAIAAAAAAAAAAAChEAAAAAAAAAAABAgBAIA\n",
       "AAAAAAAAgAAhEAAAAAAAAAAABAiBAAAAAAAAAAAgYHZ37x7iiWbm2NlWzt18vwEAAAAAAODfccdG\n",
       "me93hxeBAAAAAAAAAAAgQAgEAAAAAAAAAAABQiAAAAAAAAAAAAgQAgEAAAAAAAAAQIAQCAAAAAAA\n",
       "AAAAAoRAAAAAAAAAAAAQIAQCAAAAAAAAAIAAIRAAAAAAAAAAAAQIgQAAAAAAAAAAIEAIBAAAAAAA\n",
       "AAAAAUIgAAAAAAAAAAAIEAIBAAAAAAAAAECAEAgAAAAAAAAAAAKEQAAAAAAAAAAAECAEAgAAAAAA\n",
       "AACAACEQAAAAAAAAAAAECIEAAAAAAAAAACBACAQAAAAAAAAAAAFCIAAAAAAAAAAACBACAQAAAAAA\n",
       "AABAgBAIAAAAAAAAAAAChEAAAAAAAAAAABAwu7t3D/FdM3P3CI/zwf+c/Inv95XvNwAAAAAAAH/H\n",
       "HduVO7YO3+8r3+8rLwIBAAAAAAAAAECAEAgAAAAAAAAAAAKEQAAAAAAAAAAAECAEAgAAAAAAAACA\n",
       "ACEQAAAAAAAAAAAECIEAAAAAAAAAACBACAQAAAAAAAAAAAFCIAAAAAAAAAAACBACAQAAAAAAAABA\n",
       "gBAIAAAAAAAAAAAChEAAAAAAAAAAABAgBAIAAAAAAAAAgAAhEAAAAAAAAAAABAiBAAAAAAAAAAAg\n",
       "QAgEAAAAAAAAAAABQiAAAAAAAAAAAAgQAgEAAAAAAAAAQIAQCAAAAAAAAAAAAoRAAAAAAAAAAAAQ\n",
       "8HX6A2bm2Nm7e+zsT2Xf72Xf72XfAAAAAAAAn8+dz3vZ93vZ93vZ95UXgQAAAAAAAAAAIEAIBAAA\n",
       "AAAAAAAAAUIgAAAAAAAAAAAIEAIBAAAAAAAAAECAEAgAAAAAAAAAAAKEQAAAAAAAAAAAECAEAgAA\n",
       "AAAAAACAACEQAAAAAAAAAAAECIEAAAAAAAAAACBACAQAAAAAAAAAAAFCIAAAAAAAAAAACBACAQAA\n",
       "AAAAAABAgBAIAAAAAAAAAAAChEAAAAAAAAAAABAgBAIAAAAAAAAAgAAhEAAAAAAAAAAABAiBAAAA\n",
       "AAAAAAAgQAgEAAAAAAAAAAABQiAAAAAAAAAAAAgQAgEAAAAAAAAAQIAQCAAAAAAAAAAAAoRAAAAA\n",
       "AAAAAAAQMK/Xa+8e4ol2z61lZo6d/ans+73s+71O7hsAAAAAAOAEdz5X7tjey77fy77f6+S+vQgE\n",
       "AAAAAAAAAAABQiAAAAAAAAAAAAgQAgEAAAAAAAAAQIAQCAAAAAAAAAAAAoRAAAAAAAAAAAAQIAQC\n",
       "AAAAAAAAAIAAIRAAAAAAAAAAAAQIgQAAAAAAAAAAIEAIBAAAAAAAAAAAAUIgAAAAAAAAAAAIEAIB\n",
       "AAAAAAAAAECAEAgAAAAAAAAAAAKEQAAAAAAAAAAAECAEAgAAAAAAAACAACEQAAAAAAAAAAAECIEA\n",
       "AAAAAAAAACBACAQAAAAAAAAAAAFCIAAAAAAAAAAACBACAQAAAAAAAABAgBAIAAAAAAAAAAAChEAA\n",
       "AAAAAAAAABAgBAIAAAAAAAAAgAAhEAAAAAAAAAAABMzu7t1DAJTNzLGz/QoHAAAAAAB++ck7CXcQ\n",
       "AJ/Ji0AAAAAAAAAAABAgBAIAAAAAAAAAgAAhEAAAAAAAAAAABAiBAAAAAAAAAAAgQAgEAAAAAAAA\n",
       "AAABQiAAAAAAAAAAAAgQAgEAAAAAAAAAQIAQCAAAAAAAAAAAAoRAAAAAAAAAAAAQIAQCAAAAAAAA\n",
       "AIAAIRAAAAAAAAAAAAQIgQAAAAAAAAAAIEAIBAAAAAAAAAAAAUIgAAAAAAAAAAAIEAIBAAAAAAAA\n",
       "AECAEAgAAAAAAAAAAAKEQAAAAAAAAAAAECAEAgAAAAAAAACAACEQAAAAAAAAAAAECIEAAAAAAAAA\n",
       "ACBACAQAAAAAAAAAAAFCIAAAAAAAAAAACJjd3buHALjbzNw9wu38dwAAAAAAAOe5k3AnAXCSF4EA\n",
       "AAAAAAAAACBACAQAAAAAAAAAAAFCIAAAAAAAAAAACBACAQAAAAAAAABAgBAIAAAAAAAAAAAChEAA\n",
       "AAAAAAAAABAgBAIAAAAAAAAAgAAhEAAAAAAAAAAABAiBAAAAAAAAAAAgQAgEAAAAAAAAAAABQiAA\n",
       "AAAAAAAAAAgQAgEAAAAAAAAAQIAQCAAAAAAAAAAAAoRAAAAAAAAAAAAQIAQCAAAAAAAAAIAAIRAA\n",
       "AAAAAAAAAAQIgQAAAAAAAAAAIEAIBAAAAAAAAAAAAUIgAAAAAAAAAAAIEAIBAAAAAAAAAECAEAgA\n",
       "AAAAAAAAAAKEQAAAAAAAAAAAEPB19wAA/9TMHDt7d4+d/SnsFwAAAAAA/uBv5mfZL8A5XgQCAAAA\n",
       "AAAAAIAAIRAAAAAAAAAAAAQIgQAAAAAAAAAAIEAIBAAAAAAAAAAAAUIgAAAAAAAAAAAIEAIBAAAA\n",
       "AAAAAECAEAgAAAAAAAAAAAKEQAAAAAAAAAAAECAEAgAAAAAAAACAACEQAAAAAAAAAAAECIEAAAAA\n",
       "AAAAACBACAQAAAAAAAAAAAFCIAAAAAAAAAAACBACAQAAAAAAAABAgBAIAAAAAAAAAAAChEAAAAAA\n",
       "AAAAABAgBAIAAAAAAAAAgAAhEAAAAAAAAAAABAiBAAAAAAAAAAAgYHZ37x4C6JiZu0d4nJO/Zu37\n",
       "7H4BAAAAAHgufyO/+sm/mdvvlTsJ4BN4EQgAAAAAAAAAAAKEQAAAAAAAAAAAECAEAgAAAAAAAACA\n",
       "ACEQAAAAAAAAAAAECIEAAAAAAAAAACBACAQAAAAAAAAAAAFCIAAAAAAAAAAACBACAQAAAAAAAABA\n",
       "gBAIAAAAAAAAAAAChEAAAAAAAAAAABAgBAIAAAAAAAAAgAAhEAAAAAAAAAAABAiBAAAAAAAAAAAg\n",
       "QAgEAAAAAAAAAAABQiAAAAAAAAAAAAgQAgEAAAAAAAAAQIAQCAAAAAAAAAAAAoRAAAAAAAAAAAAQ\n",
       "IAQCgN/ZuaMcOWEsgKL1pOx/y57/oUfKtMoGbs5ZALFeXAjoKwMAAAAAAAAECIEAAAAAAAAAACBA\n",
       "CAQAAAAAAAAAAAFCIAAAAAAAAAAACJi11rp7EcBZM7Pt2m4pnGY/AwAAAAA8l2+4lNjPwBs4EQgA\n",
       "AAAAAAAAAAKEQAAAAAAAAAAAECAEAgAAAAAAAACAACEQAAAAAAAAAAAECIEAAAAAAAAAACBACAQA\n",
       "AAAAAAAAAAFCIAAAAAAAAAAACBACAQAAAAAAAABAgBAIAAAAAAAAAAAChEAAAAAAAAAAABAgBAIA\n",
       "AAAAAAAAgAAhEAAAAAAAAAAABAiBAAAAAAAAAAAgQAgEAAAAAAAAAAABQiAAAAAAAAAAAAgQAgEA\n",
       "AAAAAAAAQIAQCAAAAAAAAAAAAoRAAAAAAAAAAAAQIAQCAAAAAAAAAIAAIRAAAAAAAAAAAAQIgQAA\n",
       "AAAAAAAAIEAIBAAAAAAAAAAAAUIgAAAAAAAAAAAImLXWunsRwNXM3L2Ex3G7ei/7+cp+BgAAAACe\n",
       "wjfcK99w38t+vrKf4d/iRCAAAAAAAAAAAAgQAgEAAAAAAAAAQIAQCAAAAAAAAAAAAoRAAAAAAAAA\n",
       "AAAQIAQCAAAAAAAAAIAAIRAAAAAAAAAAAAQIgQAAAAAAAAAAIEAIBAAAAAAAAAAAAUIgAAAAAAAA\n",
       "AAAIEAIBAAAAAAAAAECAEAgAAAAAAAAAAAKEQAAAAAAAAAAAECAEAgAAAAAAAACAACEQAAAAAAAA\n",
       "AAAECIEAAAAAAAAAACBACAQAAAAAAAAAAAFCIAAAAAAAAAAACBACAQAAAAAAAABAgBAIAAAAAAAA\n",
       "AAAChEAAAAAAAAAAABAgBAIAAAAAAAAAgAAhEAAAAAAAAAAABPy5ewHwZjOz7dprrW3Xfivz3st8\n",
       "zzJvAAAAAOD/4ZviWea9l/meZd7wb3EiEAAAAAAAAAAABAiBAAAAAAAAAAAgQAgEAAAAAAAAAAAB\n",
       "QiAAAAAAAAAAAAgQAgEAAAAAAAAAQIAQCAAAAAAAAAAAAoRAAAAAAAAAAAAQIAQCAAAAAAAAAIAA\n",
       "IRAAAAAAAAAAAAQIgQAAAAAAAAAAIEAIBAAAAAAAAAAAAUIgAAAAAAAAAAAIEAIBAAAAAAAAAECA\n",
       "EAgAAAAAAAAAAAKEQAAAAAAAAAAAECAEAgAAAAAAAACAACEQAAAAAAAAAAAECIEAAAAAAAAAACBA\n",
       "CAQAAAAAAAAAAAFCIAAAAAAAAAAACBACAQAAAAAAAABAgBAIAAAAAAAAAAACZq217l4E7DQzdy/h\n",
       "cXb+7M37yrz3Mt+zPDYAAAAAwP/mm+KVb7hnfXPe5ntlP5/lbxLwO04EAgAAAAAAAACAACEQAAAA\n",
       "AAAAAAAECIEAAAAAAAAAACBACAQAAAAAAAAAAAFCIAAAAAAAAAAACBACAQAAAAAAAABAgBAIAAAA\n",
       "AAAAAAAChEAAAAAAAAAAABAgBAIAAAAAAAAAgAAhEAAAAAAAAAAABAiBAAAAAAAAAAAgQAgEAAAA\n",
       "AAAAAAABQiAAAAAAAAAAAAgQAgEAAAAAAAAAQIAQCAAAAAAAAAAAAoRAAAAAAAAAAAAQIAQCAAAA\n",
       "AAAAAIAAIRAAAAAAAAAAAAQIgQAAAAAAAAAAIGDWWuvuRcDMbLu2LQ7wPe7XAAAAALydb1wA7+B+\n",
       "Db/jRCAAAAAAAAAAAAgQAgEAAAAAAAAAQIAQCAAAAAAAAAAAAoRAAAAAAAAAAAAQIAQCAAAAAAAA\n",
       "AIAAIRAAAAAAAAAAAAQIgQAAAAAAAAAAIEAIBAAAAAAAAAAAAUIgAAAAAAAAAAAIEAIBAAAAAAAA\n",
       "AECAEAgAAAAAAAAAAAKEQAAAAAAAAAAAECAEAgAAAAAAAACAACEQAAAAAAAAAAAECIEAAAAAAAAA\n",
       "ACBACAQAAAAAAAAAAAFCIAAAAAAAAAAACBACAQAAAAAAAABAgBAIAAAAAAAAAAAChEAAAAAAAAAA\n",
       "ABAgBAIAAAAAAAAAgAAhEAAAAAAAAAAABMxaa929CN5hZu5ewuP4+QBP5H595X4NAAAA8C6+cV35\n",
       "xgU8kfv1lfs1d3MiEAAAAAAAAAAABAiBAAAAAAAAAAAgQAgEAAAAAAAAAAABQiAAAAAAAAAAAAgQ\n",
       "AgEAAAAAAAAAQIAQCAAAAAAAAAAAAoRAAAAAAAAAAAAQIAQCAAAAAAAAAIAAIRAAAAAAAAAAAAQI\n",
       "gQAAAAAAAAAAIEAIBAAAAAAAAAAAAUIgAAAAAAAAAAAIEAIBAAAAAAAAAECAEAgAAAAAAAAAAAKE\n",
       "QAAAAAAAAAAAECAEAgAAAAAAAACAACEQAAAAAAAAAAAECIEAAAAAAAAAACBACAQAAAAAAAAAAAFC\n",
       "IAAAAAAAAAAACBACAQAAAAAAAABAgBAIAAAAAAAAAAAChEAAAAAAAAAAABDw5+4F8F0zs+3aa61t\n",
       "134r8wZ+y/3jLPMGAAAA+K6d31s+H99cfuIbF/Bb7h9nmTd3cyIQAAAAAAAAAAAECIEAAAAAAAAA\n",
       "ACBACAQAAAAAAAAAAAFCIAAAAAAAAAAACBACAQAAAAAAAABAgBAIAAAAAAAAAAAChEAAAAAAAAAA\n",
       "ABAgBAIAAAAAAAAAgAAhEAAAAAAAAAAABAiBAAAAAAAAAAAgQAgEAAAAAAAAAAABQiAAAAAAAAAA\n",
       "AAgQAgEAAAAAAAAAQIAQCAAAAAAAAAAAAoRAAAAAAAAAAAAQIAQCAAAAAAAAAIAAIRAAAAAAAAAA\n",
       "AAQIgQAAAAAAAAAAIEAIBAAAAAAAAAAAAUIgAAAAAAAAAAAIEAIBAAAAAAAAAECAEAgAAAAAAAAA\n",
       "AAJmrbXuXsS/ZmbuXsLj7NyG5n3lZw9/x/3jyv36PPdsAAAA4Ld8b/mZb1xn+b4Ff8f948r9+iz3\n",
       "6w4nAgEAAAAAAAAAQIAQCAAAAAAAAAAAAoRAAAAAAAAAAAAQIAQCAAAAAAAAAIAAIRAAAAAAAAAA\n",
       "AAQIgQAAAAAAAAAAIEAIBAAAAAAAAAAAAUIgAAAAAAAAAAAIEAIBAAAAAAAAAECAEAgAAAAAAAAA\n",
       "AAKEQAAAAAAAAAAAECAEAgAAAAAAAACAACEQAAAAAAAAAAAECIEAAAAAAAAAACBACAQAAAAAAAAA\n",
       "AAFCIAAAAAAAAAAACBACAQAAAAAAAABAgBAIAAAAAAAAAAAChEAAAAAAAAAAABAwa6119yKeaGa2\n",
       "XdvIuZv9TYn9TJ09DgAAAG3e/amzxymxnymzvzucCAQAAAAAAAAAAAFCIAAAAAAAAAAACBACAQAA\n",
       "AAAAAABAgBAIAAAAAAAAAAAChEAAAAAAAAAAABAgBAIAAAAAAAAAgAAhEAAAAAAAAAAABAiBAAAA\n",
       "AAAAAAAgQAgEAAAAAAAAAAABQiAAAAAAAAAAAAgQAgEAAAAAAAAAQIAQCAAAAAAAAAAAAoRAAAAA\n",
       "AAAAAAAQIAQCAAAAAAAAAIAAIRAAAAAAAAAAAAQIgQAAAAAAAAAAIEAIBAAAAAAAAAAAAUIgAAAA\n",
       "AAAAAAAIEAIBAAAAAAAAAECAEAgAAAAAAOlGtZIAABltSURBVAAAAAKEQAAAAAAAAAAAECAEAgAA\n",
       "AAAAAACAgFlrrbsX8Vszc/cSHufF/538F/v7yv5+L/v5yn7usL9/Zo8DAABQ4v3/yrt/iz1+ZY+/\n",
       "l/18ZT932N9X9veVE4EAAAAAAAAAACBACAQAAAAAAAAAAAFCIAAAAAAAAAAACBACAQAAAAAAAABA\n",
       "gBAIAAAAAAAAAAAChEAAAAAAAAAAABAgBAIAAAAAAAAAgAAhEAAAAAAAAAAABAiBAAAAAAAAAAAg\n",
       "QAgEAAAAAAAAAAABQiAAAAAAAAAAAAgQAgEAAAAAAAAAQIAQCAAAAAAAAAAAAoRAAAAAAAAAAAAQ\n",
       "IAQCAAAAAAAAAIAAIRAAAAAAAAAAAAQIgQAAAAAAAAAAIEAIBAAAAAAAAAAAAUIgAAAAAAAAAAAI\n",
       "EAIBAAAAAAAAAECAEAgAAAAAAAAAAAKEQAAAAAAAAAAAEPBn9z8wM9uuvdbadu23Mu+zzPss897L\n",
       "fM8y77PM+zwzBwAA4DTvomftnPfnY+Y/scfPMu+9zPcs8z7LvM8y7ysnAgEAAAAAAAAAQIAQCAAA\n",
       "AAAAAAAAAoRAAAAAAAAAAAAQIAQCAAAAAAAAAIAAIRAAAAAAAAAAAAQIgQAAAAAAAAAAIEAIBAAA\n",
       "AAAAAAAAAUIgAAAAAAAAAAAIEAIBAAAAAAAAAECAEAgAAAAAAAAAAAKEQAAAAAAAAAAAECAEAgAA\n",
       "AAAAAACAACEQAAAAAAAAAAAECIEAAAAAAAAAACBACAQAAAAAAAAAAAFCIAAAAAAAAAAACBACAQAA\n",
       "AAAAAABAgBAIAAAAAAAAAAAChEAAAAAAAAAAABAgBAIAAAAAAAAAgAAhEAAAAAAAAAAABAiBAAAA\n",
       "AAAAAAAgQAgEAAAAAAAAAAAB8/l81t2LeKK19o1lZrZd+63M+yzzPsu89zLfs8z7PDM/a+e8AQAA\n",
       "8C76E+/+55n5WeZ91jfnbb5X9vNZ5n2WeZ+1c95OBAIAAAAAAAAAgAAhEAAAAAAAAAAABAiBAAAA\n",
       "AAAAAAAgQAgEAAAAAAAAAAABQiAAAAAAAAAAAAgQAgEAAAAAAAAAQIAQCAAAAAAAAAAAAoRAAAAA\n",
       "AAAAAAAQIAQCAAAAAAAAAIAAIRAAAAAAAAAAAAQIgQAAAAAAAAAAIEAIBAAAAAAAAAAAAUIgAAAA\n",
       "AAAAAAAIEAIBAAAAAAAAAECAEAgAAAAAAAAAAAKEQAAAAAAAAAAAECAEAgAAAAAAAACAACEQAAAA\n",
       "AAAAAAAECIEAAAAAAAAAACBACAQAAAAAAAAAAAFCIAAAAAAAAAAACBACAQAAAAAAAABAwKy11t2L\n",
       "AACAJ5iZbdf22A0AALyFdyMAAHgvJwIBAAAAAAAAAECAEAgAAAAAAAAAAAKEQAAAAAAAAAAAECAE\n",
       "AgAAAAAAAACAACEQAAAAAAAAAAAECIEAAAAAAAAAACBACAQAAAAAAAAAAAFCIAAAAAAAAAAACBAC\n",
       "AQAAAAAAAABAgBAIAAAAAAAAAAAChEAAAAAAAAAAABAgBAIAAAAAAAAAgAAhEAAAAAAAAAAABAiB\n",
       "AAAAAAAAAAAgQAgEAAAAAAAAAAABQiAAAAAAAAAAAAgQAgEAAAAAAAAAQIAQCAAAAAAAAAAAAoRA\n",
       "AAAAAAAAAAAQMGutdfciAADgb83M3Ut4HI/0AADA5+N9ybsRAAA4EQgAAAAAAAAAABKEQAAAAAAA\n",
       "AAAAECAEAgAAAAAAAACAACEQAAAAAAAAAAAECIEAAAAAAAAAACBACAQAAAAAAAAAAAFCIAAAAAAA\n",
       "AAAACBACAQAAAAAAAABAgBAIAAAAAAAAAAAChEAAAAAAAAAAABAgBAIAAAAAAAAAgAAhEAAAAAAA\n",
       "AAAABAiBAAAAAAAAAAAgQAgEAAAAAAAAAAABQiAAAAAAAAAAAAgQAgEAAAAAAAAAQIAQCAAAAAAA\n",
       "AAAAAoRAAAAAAAAAAAAQIAQCAAAAAAAAAIAAIRAAAAAAAAAAAAQIgQAAAAAAAAAAIEAIBAAAAAAA\n",
       "AAAAAX/uXgAAAD0zs+3aa61t136rb83bbAEAYD/vS/uYLQAAOBEIAAAAAAAAAAAShEAAAAAAAAAA\n",
       "ABAgBAIAAAAAAAAAgAAhEAAAAAAAAAAABAiBAAAAAAAAAAAgQAgEAAAAAAAAAAABQiAAAAAAAAAA\n",
       "AAgQAgEAAAAAAAAAQIAQCAAAAAAAAAAAAoRAAAAAAAAAAAAQIAQCAAAAAAAAAIAAIRAAAAAAAAAA\n",
       "AAQIgQAAAAAAAAAAIEAIBAAAAAAAAAAAAUIgAAAAAAAAAAAIEAIBAAAAAAAAAECAEAgAAAAAAAAA\n",
       "AAKEQAAAAAAAAAAAECAEAgAAAAAAAACAACEQAAAAAAAAAAAECIEAAAAAAAAAACBACAQAAAAAAAAA\n",
       "AAGz1lp3LwIAgPNm5u4lPM7OR+N/fd5eOwAAeBPP796NTvK+BADANzkRCAAAAAAAAAAAAoRAAAAA\n",
       "AAAAAAAQIAQCAAAAAAAAAIAAIRAAAAAAAAAAAAQIgQAAAAAAAAAAIEAIBAAAAAAAAAAAAUIgAAAA\n",
       "AAAAAAAIEAIBAAAAAAAAAECAEAgAAAAAAAAAAAKEQAAAAAAAAAAAECAEAgAAAAAAAACAACEQAAAA\n",
       "AAAAAAAECIEAAAAAAAAAACBACAQAAAAAAAAAAAFCIAAAAAAAAAAACBACAQAAAAAAAABAgBAIAAAA\n",
       "AAAAAAAChEAAAAAAAAAAABAgBAIAAAAAAAAAgAAhEAAAAAAAAAAABAiBAAAAAAAAAAAgQAgEAAAA\n",
       "AAAAAAABQiAAAAAAAAAAAAiYtda6exEAAPxsZrZd22MgJ9nLAAB8m2dMKuxlAAC+yYlAAAAAAAAA\n",
       "AAAQIAQCAAAAAAAAAIAAIRAAAAAAAAAAAAQIgQAAAAAAAAAAIEAIBAAAAAAAAAAAAUIgAAAAAAAA\n",
       "AAAIEAIBAAAAAAAAAECAEAgAAAAAAAAAAAKEQAAAAAAAAAAAECAEAgAAAAAAAACAACEQAAAAAAAA\n",
       "AAAECIEAAAAAAAAAACBACAQAAAAAAAAAAAFCIAAAAAAAAAAACBACAQAAAAAAAABAgBAIAAAAAAAA\n",
       "AAAChEAAAAAAAAAAABAgBAIAAAAAAAAAgAAhEAAAAAAAAAAABAiBAAAAAAAAAAAgQAgEAAAAAAAA\n",
       "AAABQiAAAAAAAAAAAAiYtda6exEAAG81M3cv4ZE8Yr6T/XxlLwMA/J7ny595xnwn+/nKXgYAeCYn\n",
       "AgEAAAAAAAAAQIAQCAAAAAAAAAAAAoRAAAAAAAAAAAAQIAQCAAAAAAAAAIAAIRAAAAAAAAAAAAQI\n",
       "gQAAAAAAAAAAIEAIBAAAAAAAAAAAAUIgAAAAAAAAAAAIEAIBAAAAAAAAAECAEAgAAAAAAAAAAAKE\n",
       "QAAAAAAAAAAAECAEAgAAAAAAAACAACEQAAAAAAAAAAAECIEAAAAAAAAAACBACAQAAAAAAAAAAAFC\n",
       "IAAAAAAAAAAACBACAQAAAAAAAABAgBAIAAAAAAAAAAAChEAAAAAAAAAAABDw5+4FAADsNjPbrr3W\n",
       "2nbtNzPzs741b7O92rmXPx8zBwDu59n9PDPfx2zP8r4EAPBMTgQCAAAAAAAAAIAAIRAAAAAAAAAA\n",
       "AAQIgQAAAAAAAAAAIEAIBAAAAAAAAAAAAUIgAAAAAAAAAAAIEAIBAAAAAAAAAECAEAgAAAAAAAAA\n",
       "AAKEQAAAAAAAAAAAECAEAgAAAAAAAACAACEQAAAAAAAAAAAECIEAAAAAAAAAACBACAQAAAAAAAAA\n",
       "AAFCIAAAAAAAAAAACBACAQAAAAAAAABAgBAIAAAAAAAAAAAChEAAAAAAAAAAABAgBAIAAAAAAAAA\n",
       "gAAhEAAAAAAAAAAABAiBAAAAAAAAAAAgQAgEAAAAAAAAAAABQiAAAAAAAAAAAAgQAgEAAAAAAAAA\n",
       "QMCstdbdiwAAmJm7l/BIOx/VzPzKvPcx2/O86gFAh+edn3nG3MdszzLv87wvAQBlTgQCAAAAAAAA\n",
       "AIAAIRAAAAAAAAAAAAQIgQAAAAAAAAAAIEAIBAAAAAAAAAAAAUIgAAAAAAAAAAAIEAIBAAAAAAAA\n",
       "AECAEAgAAAAAAAAAAAKEQAAAAAAAAAAAECAEAgAAAAAAAACAACEQAAAAAAAAAAAECIEAAAAAAAAA\n",
       "ACBACAQAAAAAAAAAAAFCIAAAAAAAAAAACBACAf9p5w5QYoehAIr6wP1vOX8BHfgik3R6PWcBJTxj\n",
       "GuVSAAAAAAAAACBACAQAAAAAAAAAAAFCIAAAAAAAAAAACBACAQAAAAAAAABAgBAIAAAAAAAAAAAC\n",
       "hEAAAAAAAAAAABAgBAIAAAAAAAAAgAAhEAAAAAAAAAAABAiBAAAAAAAAAAAgYNZa6+5FAADPMDPb\n",
       "nu1KAvBezmwAOMu7F+A5nNkAQJkvAgEAAAAAAAAAQIAQCAAAAAAAAAAAAoRAAAAAAAAAAAAQIAQC\n",
       "AAAAAAAAAIAAIRAAAAAAAAAAAAQIgQAAAAAAAAAAIEAIBAAAAAAAAAAAAUIgAAAAAAAAAAAIEAIB\n",
       "AAAAAAAAAECAEAgAAAAAAAAAAAKEQAAAAAAAAAAAECAEAgAAAAAAAACAACEQAAAAAAAAAAAECIEA\n",
       "AAAAAAAAACBACAQAAAAAAAAAAAFCIAAAAAAAAAAACBACAQAAAAAAAABAgBAIAAAAAAAAAAAChEAA\n",
       "AAAAAAAAABAgBAIAAAAAAAAAgAAhEAAAAAAAAAAABAiBAAAAAAAAAAAgQAgEAAAAAAAAAAABs9Za\n",
       "dy8CAHifmbl7CR/HdQf4VM7sK2c2ADt591559wKfypl95cwGAH7CF4EAAAAAAAAAACBACAQAAAAA\n",
       "AAAAAAFCIAAAAAAAAAAACBACAQAAAAAAAABAgBAIAAAAAAAAAAAChEAAAAAAAAAAABAgBAIAAAAA\n",
       "AAAAgAAhEAAAAAAAAAAABAiBAAAAAAAAAAAgQAgEAAAAAAAAAAABQiAAAAAAAAAAAAgQAgEAAAAA\n",
       "AAAAQIAQCAAAAAAAAAAAAoRAAAAAAAAAAAAQIAQCAAAAAAAAAIAAIRAAAAAAAAAAAAQIgQAAAAAA\n",
       "AAAAIEAIBAAAAAAAAAAAAUIgAAAAAAAAAAAI+L57AQDwF83MtmevtbY9+6nMG/itnefH15cz5BVn\n",
       "NgDeBWeZN/Bb/l46z5kNAPyELwIBAAAAAAAAAECAEAgAAAAAAAAAAAKEQAAAAAAAAAAAECAEAgAA\n",
       "AAAAAACAACEQAAAAAAAAAAAECIEAAAAAAAAAACBACAQAAAAAAAAAAAFCIAAAAAAAAAAACBACAQAA\n",
       "AAAAAABAgBAIAAAAAAAAAAAChEAAAAAAAAAAABAgBAIAAAAAAAAAgAAhEAAAAAAAAAAABAiBAAAA\n",
       "AAAAAAAgQAgEAAAAAAAAAAABQiAAAAAAAAAAAAgQAgEAAAAAAAAAQIAQCAAAAAAAAAAAAoRAAAAA\n",
       "AAAAAAAQIAQCAAAAAAAAAIAAIRAAAAAAAAAAAAQIgQAAAAAAAAAAIGDWWuvuRQDAJ5qZu5fwcXZe\n",
       "G8z7NVc1+D/nx2vO7LOc18Bf411w5d17nvcv/J/z4zVn9lnOawA4yxeBAAAAAAAAAAAgQAgEAAAA\n",
       "AAAAAAABQiAAAAAAAAAAAAgQAgEAAAAAAAAAQIAQCAAAAAAAAAAAAoRAAAAAAAAAAAAQIAQCAAAA\n",
       "AAAAAIAAIRAAAAAAAAAAAAQIgQAAAAAAAAAAIEAIBAAAAAAAAAAAAUIgAAAAAAAAAAAIEAIBAAAA\n",
       "AAAAAECAEAgAAAAAAAAAAAKEQAAAAAAAAAAAECAEAgAAAAAAAACAACEQAAAAAAAAAAAECIEAAAAA\n",
       "AAAAACBACAQAAAAAAAAAAAFCIAAAAAAAAAAACBACAQAAAAAAAABAgBAIAAAAAAAAAAAChEAAAAAA\n",
       "AAAAABAwa6119yIA4LdmZtuzvSL5BPY4FfYydfY48ImcTdTZ41TYy9TZ4wBwli8CAQAAAAAAAABA\n",
       "gBAIAAAAAAAAAAAChEAAAAAAAAAAABAgBAIAAAAAAAAAgAAhEAAAAAAAAAAABAiBAAAAAAAAAAAg\n",
       "QAgEAAAAAAAAAAABQiAAAAAAAAAAAAgQAgEAAAAAAAAAQIAQCAAAAAAAAAAAAoRAAAAAAAAAAAAQ\n",
       "IAQCAAAAAAAAAIAAIRAAAAAAAAAAAAQIgQAAAAAAAAAAIEAIBAAAAAAAAAAAAUIgAAAAAAAAAAAI\n",
       "EAIBAAAAAAAAAECAEAgAAAAAAAAAAAKEQAAAAAAAAAAAECAEAgAAAAAAAACAACEQAAAAAAAAAAAE\n",
       "CIEAAAAAAAAAACBg1lrr7kUA0DYzdy/h43j9dtjfr9njz2Q/X9nLLfb4lT0O93M2XTmbOuzv1+zx\n",
       "Z7Kfr+zlFnv8yh4H4Kl8EQgAAAAAAAAAAAKEQAAAAAAAAAAAECAEAgAAAAAAAACAACEQAAAAAAAA\n",
       "AAAECIEAAAAAAAAAACBACAQAAAAAAAAAAAFCIAAAAAAAAAAACBACAQAAAAAAAABAgBAIAAAAAAAA\n",
       "AAAChEAAAAAAAAAAABAgBAIAAAAAAAAAgAAhEAAAAAAAAAAABAiBAAAAAAAAAAAgQAgEAAAAAAAA\n",
       "AAABQiAAAAAAAAAAAAgQAgEAAAAAAAAAQIAQCAAAAAAAAAAAAoRAAAAAAAAAAAAQIAQCAAAAAAAA\n",
       "AIAAIRAAAAAAAAAAAAQIgQAAAAAAAAAAIEAIBAAAAAAAAAAAAUIgAAAAAAAAAAAI+L57AQB8hpnZ\n",
       "9uy11rZnP5V5n2Xe55n5We+at9le7dzLX19m/orz4yzzhp/xu3KWeZ9l3ueZ+T5me5a/l86zx88y\n",
       "bwCeyheBAAAAAAAAAAAgQAgEAAAAAAAAAAABQiAAAAAAAAAAAAgQAgEAAAAAAAAAQIAQCAAAAAAA\n",
       "AAAAAoRAAAAAAAAAAAAQIAQCAAAAAAAAAIAAIRAAAAAAAAAAAAQIgQAAAAAAAAAAIEAIBAAAAAAA\n",
       "AAAAAUIgAAAAAAAAAAAIEAIBAAAAAAAAAECAEAgAAAAAAAAAAAKEQAAAAAAAAAAAECAEAgAAAAAA\n",
       "AACAACEQAAAAAAAAAAAECIEAAAAAAAAAACBACAQAAAAAAAAAAAFCIAAAAAAAAAAACJi11rp7EQD8\n",
       "zszcvYTb7XyNme+VeZ9n5meZ9z5me56Zn2XeZ/lXBq/4XblyNp1l3ueZ+T5me5Z5n2fmZ5n3Wf5e\n",
       "AsAXgQAAAAAAAAAAIEAIBAAAAAAAAAAAAUIgAAAAAAAAAAAIEAIBAAAAAAAAAECAEAgAAAAAAAAA\n",
       "AAKEQAAAAAAAAAAAECAEAgAAAAAAAACAACEQAAAAAAAAAAAECIEAAAAAAAAAACBACAQAAAAAAAAA\n",
       "AAFCIAAAAAAAAAAACBACAQAAAAAAAABAgBAIAAAAAAAAAAAChEAAAAAAAAAAABAgBAIAAAAAAAAA\n",
       "gAAhEAAAAAAAAAAABAiBAAAAAAAAAAAgQAgEAAAAAAAAAAABQiAAAAAAAAAAAAgQAgEAAAAAAAAA\n",
       "QIAQCAAAAAAAAAAAAoRAAAAAAAAAAAAQMGutdfciAMpmZtuzHeEAAPxF7tjP5WcHAAB7vfPO7Y4N\n",
       "8Ey+CAQAAAAAAAAAAAFCIAAAAAAAAAAACBACAQAAAAAAAABAgBAIAAAAAAAAAAAChEAAAAAAAAAA\n",
       "ABAgBAIAAAAAAAAAgAAhEAAAAAAAAAAABAiBAAAAAAAAAAAgQAgEAAAAAAAAAAABQiAAAAAAAAAA\n",
       "AAgQAgEAAAAAAAAAQIAQCAAAAAAAAAAAAoRAAAAAAAAAAAAQIAQCAAAAAAAAAIAAIRAAAAAAAAAA\n",
       "AAQIgQAAAAAAAAAAIEAIBAAAAAAAAAAAAUIgAAAAAAAAAAAIEAIBAAAAAAAAAECAEAgAAAAAAAAA\n",
       "AAKEQAAAAAAAAAAAECAEAgAAAAAAAACAgFlrrbsXAXC3mbl7CbfzOgAA4J3csa+ecuf2s7t6ys8O\n",
       "AIBncOd2xwbYyReBAAAAAAAAAAAgQAgEAAAAAAAAAAABQiAAAAAAAAAAAAgQAgEAAAAAAAAAQIAQ\n",
       "CAAAAAAAAAAAAoRAAAAAAAAAAAAQIAQCAAAAAAAAAIAAIRAAAAAAAAAAAAQIgQAAAAAAAAAAIEAI\n",
       "BAAAAAAAAAAAAUIgAAAAAAAAAAAIEAIBAAAAAAAAAECAEAgAAAAAAAAAAAKEQAAAAAAAAAAAECAE\n",
       "AgAAAAAAAACAACEQAAAAAAAAAAAECIEAAAAAAAAAACBACAQAAAAAAAAAAAFCIAAAAAAAAAAACBAC\n",
       "AQAAAAAAAABAgBAIAAAAAAAAAAAChEAAAAAAAAAAABDwffcCAH5qZrY9e6217dlPYb4AAH+PO+BZ\n",
       "O+f9Tn52V35XAAD+HnfAvcwXYB9fBAIAAAAAAAAAgAAhEAAAAAAAAAAABAiBAAAAAAAAAAAgQAgE\n",
       "AAAAAAAAAAABQiAAAAAAAAAAAAgQAgEAAAAAAAAAQIAQCAAAAAAAAAAAAoRAAAAAAAAAAAAQIAQC\n",
       "AAAAAAAAAIAAIRAAAAAAAAAAAAQIgQAAAAAAAAAAIEAIBAAAAAAAAAAAAUIgAAAAAAAAAAAIEAIB\n",
       "AAAAAAAAAECAEAgAAAAAAAAAAAKEQAAAAAAAAAAAECAEAgAAAAAAAACAACEQAAAAAAAAAAAECIEA\n",
       "AAAAAAAAACBACAQAAAAAAAAAAAFCIAAAAAAAAAAACBACAQAAAAAAAABAwD8+0eeTBg10aAAAAABJ\n",
       "RU5ErkJggg==\n",
       "\" transform=\"translate(47, 235)\"/>\n",
       "</g>\n",
       "</svg>\n"
      ]
     },
     "execution_count": 10,
     "metadata": {},
     "output_type": "execute_result"
    }
   ],
   "source": [
    "p"
   ]
  },
  {
   "cell_type": "markdown",
   "metadata": {
    "nbpresent": {
     "id": "d0e01c62-1aeb-470b-88cb-9f225f34dc27"
    }
   },
   "source": [
    "We conclude that even very simple ABMs can have very complex behaviour."
   ]
  },
  {
   "cell_type": "markdown",
   "metadata": {
    "cell_style": "center",
    "slideshow": {
     "slide_type": "slide"
    }
   },
   "source": [
    "Let's try it with a random initial condition or a different rule..."
   ]
  },
  {
   "cell_type": "code",
   "execution_count": 14,
   "metadata": {
    "cell_style": "center"
   },
   "outputs": [
    {
     "data": {
      "image/svg+xml": [
       "<?xml version=\"1.0\" encoding=\"utf-8\"?>\n",
       "<svg xmlns=\"http://www.w3.org/2000/svg\" xmlns:xlink=\"http://www.w3.org/1999/xlink\" width=\"600\" height=\"400\" viewBox=\"0 0 2400 1600\">\n",
       "<defs>\n",
       "  <clipPath id=\"clip910\">\n",
       "    <rect x=\"0\" y=\"0\" width=\"2400\" height=\"1600\"/>\n",
       "  </clipPath>\n",
       "</defs>\n",
       "<path clip-path=\"url(#clip910)\" d=\"\n",
       "M0 1600 L2400 1600 L2400 0 L0 0  Z\n",
       "  \" fill=\"#ffffff\" fill-rule=\"evenodd\" fill-opacity=\"1\"/>\n",
       "<defs>\n",
       "  <clipPath id=\"clip911\">\n",
       "    <rect x=\"480\" y=\"0\" width=\"1681\" height=\"1600\"/>\n",
       "  </clipPath>\n",
       "</defs>\n",
       "<path clip-path=\"url(#clip910)\" d=\"\n",
       "M47.2441 1387.91 L2352.76 1387.91 L2352.76 212.094 L47.2441 212.094  Z\n",
       "  \" fill=\"#ffffff\" fill-rule=\"evenodd\" fill-opacity=\"1\"/>\n",
       "<defs>\n",
       "  <clipPath id=\"clip912\">\n",
       "    <rect x=\"47\" y=\"212\" width=\"2307\" height=\"1177\"/>\n",
       "  </clipPath>\n",
       "</defs>\n",
       "<g clip-path=\"url(#clip912)\">\n",
       "<image width=\"2306\" height=\"1153\" xlink:href=\"data:image/png;base64,\n",
       "iVBORw0KGgoAAAANSUhEUgAACQIAAASBCAYAAABlkHHEAAAgAElEQVR4nOzcUW4juRVAUTHI/rfM\n",
       "fKepYIyOWfK7PmcB6hrykSUPLrRer9d+DbX3vUdfa137bM99uvncN1mT09Q1mfrcQN/U+2nqc990\n",
       "c02+i7Vtccbh70y9U5wddxNfM3VOPPd7U8/mhP30PuyYMG//y9Rnn/rcnNyF1oA2832yJqepa/Kv\n",
       "Tz8AAAAAAAAAAADw/xMCAQAAAAAAAABAgBAIAAAAAAAAAAAChEAAAAAAAAAAABAgBAIAAAAAAAAA\n",
       "gAAhEAAAAAAAAAAABAiBAAAAAAAAAAAgQAgEAAAAAAAAAAABQiAAAAAAAAAAAAgQAgEAAAAAAAAA\n",
       "QIAQCAAAAAAAAAAAAoRAAAAAAAAAAAAQIAQCAAAAAAAAAIAAIRAAAAAAAAAAAAQIgQAAAAAAAAAA\n",
       "IEAIBAAAAAAAAAAAAUIgAAAAAAAAAAAIEAIBAAAAAAAAAECAEAgAAAAAAAAAAAKEQAAAAAAAAAAA\n",
       "ECAEAgAAAAAAAACAACEQAAAAAAAAAAAECIEAAAAAAAAAACDg33vvTz8DvMzhyZp02EuA7zX1Xl1r\n",
       "ffoR/pG1Pd1ekwlz8bSpc0jH1HPp7NxlfeFncjbv8T6En8mMP2vqXfidpq6Bs8JXTJ3vm6zJaeqa\n",
       "+EUgAAAAAAAAAAAIEAIBAAAAAAAAAECAEAgAAAAAAAAAAAKEQAAAAAAAAAAAECAEAgAAAAAAAACA\n",
       "ACEQAAAAAAAAAAAECIEAAAAAAAAAACBACAQAAAAAAAAAAAFCIAAAAAAAAAAACBACAQAAAAAAAABA\n",
       "gBAIAAAAAAAAAAAChEAAAAAAAAAAABAgBAIAAAAAAAAAgAAhEAAAAAAAAAAABAiBAAAAAAAAAAAg\n",
       "QAgEAAAAAAAAAAABQiAAAAAAAAAAAAgQAgEAAAAAAAAAQIAQCAAAAAAAAAAAAoRAAAAAAAAAAAAQ\n",
       "IAQCAAAAAAAAAIAAIRAAAAAAAAAAAAT8e6119R/Ye1/77NvPzn+7ud4354RnTT2X5hv4qdyrp6nf\n",
       "Lye8D6bO22QT5uKd335W+DwzePrONZm6BvAVvu88a/L/e77Je+wea3ty7z3PHD7LevOOueiwl/B3\n",
       "/CIQAAAAAAAAAAAECIEAAAAAAAAAACBACAQAAAAAAAAAAAFCIAAAAAAAAAAACBACAQAAAAAAAABA\n",
       "gBAIAAAAAAAAAAAChEAAAAAAAAAAABAgBAIAAAAAAAAAgAAhEAAAAAAAAAAABAiBAAAAAAAAAAAg\n",
       "QAgEAAAAAAAAAAABQiAAAAAAAAAAAAgQAgEAAAAAAAAAQIAQCAAAAAAAAAAAAoRAAAAAAAAAAAAQ\n",
       "IAQCAAAAAAAAAIAAIRAAAAAAAAAAAAQIgQAAAAAAAAAAIEAIBAAAAAAAAAAAAUIgAAAAAAAAAAAI\n",
       "EAIBAAAAAAAAAECAEAgAAAAAAAAAAALW6/XaN/+Bva9+PBFrrWufbQZP1vtZ1hvabp7x18s5f9rt\n",
       "/fzpzNtp8hn/7fP8jhl/lhnkHeeQr/B3NF/lXXOP76kd7r2Wqe9I5/7kbJqLd6bOhb08Td1LnnXz\n",
       "7PhFIAAAAAAAAAAACBACAQAAAAAAAABAgBAIAAAAAAAAAAAChEAAAAAAAAAAABAgBAIAAAAAAAAA\n",
       "gAAhEAAAAAAAAAAABAiBAAAAAAAAAAAgQAgEAAAAAAAAAAABQiAAAAAAAAAAAAgQAgEAAAAAAAAA\n",
       "QIAQCAAAAAAAAAAAAoRAAAAAAAAAAAAQIAQCAAAAAAAAAIAAIRAAAAAAAAAAAAQIgQAAAAAAAAAA\n",
       "IEAIBAAAAAAAAAAAAUIgAAAAAAAAAAAIEAIBAAAAAAAAAECAEAgAAAAAAAAAAAKEQAAAAAAAAAAA\n",
       "ECAEAgAAAAAAAACAACEQAAAAAAAAAAAErL33vvoPrHXtsy8/On+4uZdT3ZxB632y3ne5Uylzxt+b\n",
       "eu59v7xn6tpOPuO/feaeNnXGb7ImPM3MdUx+/95iBk+358Sawz/z7n3e1Hek/XzWlLM55Tkr3B8d\n",
       "zk7H1L30i0AAAAAAAAAAABAgBAIAAAAAAAAAgAAhEAAAAAAAAAAABAiBAAAAAAAAAAAgQAgEAAAA\n",
       "AAAAAAABQiAAAAAAAAAAAAgQAgEAAAAAAAAAQIAQCAAAAAAAAAAAAoRAAAAAAAAAAAAQIAQCAAAA\n",
       "AAAAAIAAIRAAAAAAAAAAAAQIgQAAAAAAAAAAIEAIBAAAAAAAAAAAAUIgAAAAAAAAAAAIEAIBAAAA\n",
       "AAAAAECAEAgAAAAAAAAAAAKEQAAAAAAAAAAAECAEAgAAAAAAAACAACEQAAAAAAAAAAAErNfrtT/9\n",
       "ED/R3jOXZa117bOnrgnwNe4PPs0MPu/mmnO6OYcT9tI5fM/dd5owz3ze1Pmewjk8TZ0575lnTV1v\n",
       "Z/49M86TnMP3pt59U+8Pa3Kaeja/c72twclZOU1dk6nzfZMZ7PCLQAAAAAAAAAAAECAEAgAAAAAA\n",
       "AACAACEQAAAAAAAAAAAECIEAAAAAAAAAACBACAQAAAAAAAAAAAFCIAAAAAAAAAAACBACAQAAAAAA\n",
       "AABAgBAIAAAAAAAAAAAChEAAAAAAAAAAABAgBAIAAAAAAAAAgAAhEAAAAAAAAAAABAiBAAAAAAAA\n",
       "AAAgQAgEAAAAAAAAAAABQiAAAAAAAAAAAAgQAgEAAAAAAAAAQIAQCAAAAAAAAAAAAoRAAAAAAAAA\n",
       "AAAQIAQCAAAAAAAAAIAAIRAAAAAAAAAAAAQIgQAAAAAAAAAAIEAIBAAAAAAAAAAAAUIgAAAAAAAA\n",
       "AAAIEAIBAAAAAAAAAEDA2nvvTz/ET7TW+vQj/CrGEP6Ou8r98TQzd7o9gzfX3PnhSVNn2b33PHcT\n",
       "XzH1TrnpO9dk6hrc5H3wLO/2k3P5PO8a/mQmWqa+D3iWs8k77o9nOYfPmjrf5uTkF4EAAAAAAAAA\n",
       "ACBACAQAAAAAAAAAAAFCIAAAAAAAAAAACBACAQAAAAAAAABAgBAIAAAAAAAAAAAChEAAAAAAAAAA\n",
       "ABAgBAIAAAAAAAAAgAAhEAAAAAAAAAAABAiBAAAAAAAAAAAgQAgEAAAAAAAAAAABQiAAAAAAAAAA\n",
       "AAgQAgEAAAAAAAAAQIAQCAAAAAAAAAAAAoRAAAAAAAAAAAAQIAQCAAAAAAAAAIAAIRAAAAAAAAAA\n",
       "AAQIgQAAAAAAAAAAIEAIBAAAAAAAAAAAAUIgAAAAAAAAAAAIEAIBAAAAAAAAAECAEAgAAAAAAAAA\n",
       "AAKEQAAAAAAAAAAAELD23vvTD/G31lrXPnvwsoxkLykz33dZ35M1abm5nzeZlZnMGz+B91jH1DuF\n",
       "u26eQ/cHZeb7Pe+a0+T9/A5m4jR5Jtx9fJoZnMveddjLkzU5WZOTXwQCAAAAAAAAAIAAIRAAAAAA\n",
       "AAAAAAQIgQAAAAAAAAAAIEAIBAAAAAAAAAAAAUIgAAAAAAAAAAAIEAIBAAAAAAAAAECAEAgAAAAA\n",
       "AAAAAAKEQAAAAAAAAAAAECAEAgAAAAAAAACAACEQAAAAAAAAAAAECIEAAAAAAAAAACBACAQAAAAA\n",
       "AAAAAAFCIAAAAAAAAAAACBACAQAAAAAAAABAgBAIAAAAAAAAAAAChEAAAAAAAAAAABAgBAIAAAAA\n",
       "AAAAgAAhEAAAAAAAAAAABAiBAAAAAAAAAAAgQAgEAAAAAAAAAAABQiAAAAAAAAAAAAgQAgEAAAAA\n",
       "AAAAQMDae++r/8BaNz9+pMtLfo29PE3dS07m++48W1++Yuqdenu+rctp6prc9F3rPXVtzdvzvNtP\n",
       "U2fF+aFk6t3krHRMncHJnJ/ThL8NfP94lrvpeebwWWb8NGUG7d1pyt79yV7C37l55v0iEAAAAAAA\n",
       "AAAABAiBAAAAAAAAAAAgQAgEAAAAAAAAAAABQiAAAAAAAAAAAAgQAgEAAAAAAAAAQIAQCAAAAAAA\n",
       "AAAAAoRAAAAAAAAAAAAQIAQCAAAAAAAAAIAAIRAAAAAAAAAAAAQIgQAAAAAAAAAAIEAIBAAAAAAA\n",
       "AAAAAUIgAAAAAAAAAAAIEAIBAAAAAAAAAECAEAgAAAAAAAAAAAKEQAAAAAAAAAAAECAEAgAAAAAA\n",
       "AACAACEQAAAAAAAAAAAECIEAAAAAAAAAACBACAQAAAAAAAAAAAFCIAAAAAAAAAAACBACAQAAAAAA\n",
       "AABAgBAIAAAAAAAAAAAC1uv12jf/gb2vfvxIa61PP8JfsZenm3tpvU/WG9qmvh9pufk+MOO8M3Xm\n",
       "fHc6OePPMoNzuZtO1uRZ1rtl6n5O+N7w2//735m6Ju6m59nPkzV51pR71t6dpuzdn+wl/J2bZ94v\n",
       "AgEAAAAAAAAAQIAQCAAAAAAAAAAAAoRAAAAAAAAAAAAQIAQCAAAAAAAAAIAAIRAAAAAAAAAAAAQI\n",
       "gQAAAAAAAAAAIEAIBAAAAAAAAAAAAUIgAAAAAAAAAAAIEAIBAAAAAAAAAECAEAgAAAAAAAAAAAKE\n",
       "QAAAAAAAAAAAECAEAgAAAAAAAACAACEQAAAAAAAAAAAECIEAAAAAAAAAACBACAQAAAAAAAAAAAFC\n",
       "IAAAAAAAAAAACBACAQAAAAAAAABAgBAIAAAAAAAAAAAChEAAAAAAAAAAABCw9t776j+w1rXPvvno\n",
       "U5/7pqlrcvO5p7Lez5p65uGdqe8CgN9o6veyqd9VvceeZS/vmnp/8Kyp9/VUU++myXs5dc2ZaepZ\n",
       "mXxOpq45z5r6fWfK2Zy6BlOf+yZrQtnU+faLQAAAAAAAAAAAECAEAgAAAAAAAACAACEQAAAAAAAA\n",
       "AAAECIEAAAAAAAAAACBACAQAAAAAAAAAAAFCIAAAAAAAAAAACBACAQAAAAAAAABAgBAIAAAAAAAA\n",
       "AAAChEAAAAAAAAAAABAgBAIAAAAAAAAAgAAhEAAAAAAAAAAABAiBAAAAAAAAAAAgQAgEAAAAAAAA\n",
       "AAABQiAAAAAAAAAAAAgQAgEAAAAAAAAAQIAQCAAAAAAAAAAAAoRAAAAAAAAAAAAQIAQCAAAAAAAA\n",
       "AIAAIRAAAAAAAAAAAAQIgQAAAAAAAAAAIEAIBAAAAAAAAAAAAUIgAAAAAAAAAAAIEAIBAAAAAAAA\n",
       "AEDAer1e+9MP8bf2vvfoa61rn83p5l7Cp928T5wd3vEOOzkrwE/le8Kzpr4jp+7l1PW+acr/x5g6\n",
       "c1A29U6dfJ/4nsafzMRp6t30es1dczomn58JpvztxWd5F3Q4lye/CAQAAAAAAAAAAAFCIAAAAAAA\n",
       "AAAACBACAQAAAAAAAABAgBAIAAAAAAAAAAAChEAAAAAAAAAAABAgBAIAAAAAAAAAgAAhEAAAAAAA\n",
       "AAAABAiBAAAAAAAAAAAgQAgEAAAAAAAAAAABQiAAAAAAAAAAAAgQAgEAAAAAAAAAQIAQCAAAAAAA\n",
       "AAAAAoRAAAAAAAAAAAAQIAQCAAAAAAAAAIAAIRAAAAAAAAAAAAQIgQAAAAAAAAAAIEAIBAAAAAAA\n",
       "AAAAAUIgAAAAAAAAAAAIEAIBAAAAAAAAAECAEAgAAAAAAAAAAAKEQAAAAAAAAAAAECAEAgAAAAAA\n",
       "AACAgLX33p9+CFhrXftsI85X3JzBKZyVZ7n3nmW9gb/lO8J7N+8+d/Zp6hxOXe+ppsyJuaDMO+w0\n",
       "5W4qmTor38XMPWvyvLmz+QpzAm3O+LOs97P8IhAAAAAAAAAAAAQIgQAAAAAAAAAAIEAIBAAAAAAA\n",
       "AAAAAUIgAAAAAAAAAAAIEAIBAAAAAAAAAECAEAgAAAAAAAAAAAKEQAAAAAAAAAAAECAEAgAAAAAA\n",
       "AACAACEQAAAAAAAAAAAECIEAAAAAAAAAACBACAQAAAAAAAAAAAFCIAAAAAAAAAAACBACAQAAAAAA\n",
       "AABAgBAIAAAAAAAAAAAChEAAAAAAAAAAABAgBAIAAAAAAAAAgAAhEAAAAAAAAAAABAiBAAAAAAAA\n",
       "AAAgQAgEAAAAAAAAAAABQiAAAAAAAAAAAAgQAgEAAAAAAAAAQIAQCAAAAAAAAAAAAtbee3/6IZhh\n",
       "rfXpR/hxHJ9n3ZxBe2l933HvnW7upfV+b+r5gSd5h7V4H5ymzqGzebIm1oDP8555lnP5vO+a8al/\n",
       "/5u5Z7lTn2fGT+bwZE4occZPU7+nTTX1TvWLQAAAAAAAAAAAECAEAgAAAAAAAACAACEQAAAAAAAA\n",
       "AAAECIEAAAAAAAAAACBACAQAAAAAAAAAAAFCIAAAAAAAAAAACBACAQAAAAAAAABAgBAIAAAAAAAA\n",
       "AAAChEAAAAAAAAAAABAgBAIAAAAAAAAAgAAhEAAAAAAAAAAABAiBAAAAAAAAAAAgQAgEAAAAAAAA\n",
       "AAABQiAAAAAAAAAAAAgQAgEAAAAAAAAAQIAQCAAAAAAAAAAAAoRAAAAAAAAAAAAQIAQCAAAAAAAA\n",
       "AIAAIRAAAAAAAAAAAASsvff+9EPwfdZa1z7bqJys9+nmmkx1cy+t911TzyEt3jVUeGe9N/Ucupue\n",
       "5fzA57mbnuU903H7HTZ1Pye82/3/rJN5O01dk8mm7ufU557qO9fb+vIVzjhlU+fbLwIBAAAAAAAA\n",
       "AECAEAgAAAAAAAAAAAKEQAAAAAAAAAAAECAEAgAAAAAAAACAACEQAAAAAAAAAAAECIEAAAAAAAAA\n",
       "ACBACAQAAAAAAAAAAAFCIAAAAAAAAAAACBACAQAAAAAAAABAgBAIAAAAAAAAAAAChEAAAAAAAAAA\n",
       "ABAgBAIAAAAAAAAAgAAhEAAAAAAAAAAABAiBAAAAAAAAAAAgQAgEAAAAAAAAAAABQiAAAAAAAAAA\n",
       "AAgQAgEAAAAAAAAAQIAQCAAAAAAAAAAAAoRAAAAAAAAAAAAQIAQCAAAAAAAAAIAAIRAAAAAAAAAA\n",
       "AAQIgQAAAAAAAAAAIGDtvfenH+K3WWt9+hF+nJtjaL2f5Uqh5Ob94ax0eM+8Z8Zncu89zx3yrKl/\n",
       "dzg/8HnO+Mk77GQv+aqps/LbOSvPm3pWps7K1L+XbrImd00941OZuZMZ7DDfJ78IBAAAAAAAAAAA\n",
       "AUIgAAAAAAAAAAAIEAIBAAAAAAAAAECAEAgAAAAAAAAAAAKEQAAAAAAAAAAAECAEAgAAAAAAAACA\n",
       "ACEQAAAAAAAAAAAECIEAAAAAAAAAACBACAQAAAAAAAAAAAFCIAAAAAAAAAAACBACAQAAAAAAAABA\n",
       "gBAIAAAAAAAAAAAChEAAAAAAAAAAABAgBAIAAAAAAAAAgAAhEAAAAAAAAAAABAiBAAAAAAAAAAAg\n",
       "QAgEAAAAAAAAAAABQiAAAAAAAAAAAAgQAgEAAAAAAAAAQIAQCAAAAAAAAAAAAoRAAAAAAAAAAAAQ\n",
       "IAQCAAAAAAAAAIAAIRAAAAAAAAAAAASs1+u1b/4De1/9+GvWWtc+e+qawFc4Ozzt5sxN5ayc3E3P\n",
       "s+bP+u134c2ZuL225rlj6jk0g5RMPYdTuT9OU2fQXj7P30v3WNsW9yq0ubNP1uRZ1vtZ1vtZfhEI\n",
       "AAAAAAAAAAAChEAAAAAAAAAAABAgBAIAAAAAAAAAgAAhEAAAAAAAAAAABAiBAAAAAAAAAAAgQAgE\n",
       "AAAAAAAAAAABQiAAAAAAAAAAAAgQAgEAAAAAAAAAQIAQCAAAAAAAAAAAAoRAAAAAAAAAAAAQIAQC\n",
       "AAAAAAAAAIAAIRAAAAAAAAAAAAQIgQAAAAAAAAAAIEAIBAAAAAAAAAAAAUIgAAAAAAAAAAAIEAIB\n",
       "AAAAAAAAAECAEAgAAAAAAAAAAAKEQAAAAAAAAAAAECAEAgAAAAAAAACAACEQAAAAAAAAAAAECIEA\n",
       "AAAAAAAAACBACAQAAAAAAAAAAAHr9XrtTz8E32dv28k/W2t9+hF+HGfnrpszZ+9OU9fb3fSeNX/W\n",
       "1PV2F94z+ZyYi5NzeLImPM3MdUzdy6nPfZM1eW/y98DvMPUcTjX1rNzeS+tymromzOXO5it8b3iW\n",
       "9X7W1PX2i0AAAAAAAAAAABAgBAIAAAAAAAAAgAAhEAAAAAAAAAAABAiBAAAAAAAAAAAgQAgEAAAA\n",
       "AAAAAAABQiAAAAAAAAAAAAgQAgEAAAAAAAAAQIAQCAAAAAAAAAAAAoRAAAAAAAAAAAAQIAQCAAAA\n",
       "AAAAAIAAIRAAAAAAAAAAAAQIgQAAAAAAAAAAIEAIBAAAAAAAAAAAAUIgAAAAAAAAAAAIEAIBAAAA\n",
       "AAAAAECAEAgAAAAAAAAAAAKEQAAAAAAAAAAAECAEAgAAAAAAAACAACEQAAAAAAAAAAAECIEAAAAA\n",
       "AAAAACBACAQAAAAAAAAAAAFCIAAAAAAAAAAACFh77/3ph+D7rLWufbZReZa9fJb1vrsGU93cu6nr\n",
       "PWWe4SeacO6nnnHv8femrsuEs8LnTT6bEziHp6kzN3UvvWf4Caaee2ZyN/ETuPc6vvNOMRcAM/lF\n",
       "IAAAAAAAAAAACBACAQAAAAAAAABAgBAIAAAAAAAAAAAChEAAAAAAAAAAABAgBAIAAAAAAAAAgAAh\n",
       "EAAAAAAAAAAABAiBAAAAAAAAAAAgQAgEAAAAAAAAAAABQiAAAAAAAAAAAAgQAgEAAAAAAAAAQIAQ\n",
       "CAAAAAAAAAAAAoRAAAAAAAAAAAAQIAQCAAAAAAAAAIAAIRAAAAAAAAAAAAQIgQAAAAAAAAAAIEAI\n",
       "BAAAAAAAAAAAAUIgAAAAAAAAAAAIEAIBAAAAAAAAAECAEAgAAAAAAAAAAALW3nt/+iF+m7XWpx/h\n",
       "x5k6hvbydHMvrfddU88hz7p5Ds0gP8Fvn3HvWr5qwjzT9tvv63e+c02mrsFNU9+R9hL+nncNfzIT\n",
       "1JnxZ039fvmdzAXAPX4RCAAAAAAAAAAAAoRAAAAAAAAAAAAQIAQCAAAAAAAAAIAAIRAAAAAAAAAA\n",
       "AAQIgQAAAAAAAAAAIEAIBAAAAAAAAAAAAUIgAAAAAAAAAAAIEAIBAAAAAAAAAECAEAgAAAAAAAAA\n",
       "AAKEQAAAAAAAAAAAECAEAgAAAAAAAACAACHQf9i5g+TGcSAAgsL/H429L3RwTBiUu5T5AJnTBEBq\n",
       "okIAAAAAAAAAABAgBAIAAAAAAAAAgAAhEAAAAAAAAAAABAiBAAAAAAAAAAAgQAgEAAAAAAAAAAAB\n",
       "QiAAAAAAAAAAAAgQAgEAAAAAAAAAQIAQCAAAAAAAAAAAAoRAAAAAAAAAAAAQIAQCAAAAAAAAAIAA\n",
       "IRAAAAAAAAAAAASsvff+9EX8RWuta59t5Keb877JvaTEudcx9Uy9yRpsscbvsVf4Ke8N/ITzmndu\n",
       "7nFn08lMqPOsOX373rQmTt++Jmqs8ZP3y7nMF+AevwgEAAAAAAAAAAABQiAAAAAAAAAAAAgQAgEA\n",
       "AAAAAAAAQIAQCAAAAAAAAAAAAoRAAAAAAAAAAAAQIAQCAAAAAAAAAIAAIRAAAAAAAAAAAAQIgQAA\n",
       "AAAAAAAAIEAIBAAAAAAAAAAAAUIgAAAAAAAAAAAIEAIBAAAAAAAAAECAEAgAAAAAAAAAAAKEQAAA\n",
       "AAAAAAAAECAEAgAAAAAAAACAACEQAAAAAAAAAAAECIEAAAAAAAAAACBACAQAAAAAAAAAAAFCIAAA\n",
       "AAAAAAAACBACAQAAAAAAAABAgBAIAAAAAAAAAAAChEAAAAAAAAAAABAgBAIAAAAAAAAAgAAhEAAA\n",
       "AAAAAAAABKy99/70RfyrtdanL+HPuXk7b8576jI0Ez7NOTh3rzg/nmXezzPzmdy3Fu8JJ+vwZN9T\n",
       "4tzrcH503N6X1srpt2bu/5k7zPt5Zt4x9f3yN9fJ1BncZB8CE/hFIAAAAAAAAAAACBACAQAAAAAA\n",
       "AABAgBAIAAAAAAAAAAAChEAAAAAAAAAAABAgBAIAAAAAAAAAgAAhEAAAAAAAAAAABAiBAAAAAAAA\n",
       "AAAgQAgEAAAAAAAAAAABQiAAAAAAAAAAAAgQAgEAAAAAAAAAQIAQCAAAAAAAAAAAAoRAAAAAAAAA\n",
       "AAAQIAQCAAAAAAAAAIAAIRAAAAAAAAAAAAQIgQAAAAAAAAAAIEAIBAAAAAAAAAAAAUIgAAAAAAAA\n",
       "AAAIEAIBAAAAAAAAAECAEAgAAAAAAAAAAAKEQAAAAAAAAAAAECAEAgAAAAAAAACAACEQAAAAAAAA\n",
       "AAAErL33vvoH1rr22Zcvnf+5eS95lr3zLOfgXc6mZ91cc+7le2b+rKnn6rffy6n37fXynvC0qfP+\n",
       "9j3+jvU919R9yLOsk2d5zrz37c/2b//3v2MmzzPzZ019Rnpv4GnWHDCBXwQCAAAAAAAAAIAAIRAA\n",
       "AAAAAAAAAAQIgQAAAAAAAAAAIEAIBAAAAAAAAAAAAUIgAAAAAAAAAAAIEAIBAAAAAAAAAECAEAgA\n",
       "AAAAAAAAAAKEQAAAAAAAAAAAECAEAgAAAAAAAACAACEQAAAAAAAAAAAECIEAAAAAAAAAACBACAQA\n",
       "AAAAAAAAAAFCIAAAAAAAAAAACBACAQAAAAAAAABAgBAIAAAAAAAAAAAChEAAAAAAAAAAABAgBAIA\n",
       "AAAAAAAAgAAhEAAAAAAAAAAABAiBAAAAAAAAAAAgQAgEAAAAAAAAAAABQiAAAAAAAAAAAAgQAgEA\n",
       "AAAAAAAAQMB6vV770xfxF+09cyxrrWufPXUmnKyT082ZTHHz3llzwBRTnwfffhZOvW+TTX1vuOnb\n",
       "9+HTvF/eNXUf3mRdnKyT09Tno/UNwOvl2f40z9+7rOeTNQffxS8CAQAAAAAAAABAgBAIAAAAAAAA\n",
       "AAAChEAAAAAAAAAAABAgBAIAAAAAAAAAgAAhEAAAAAAAAAAABAiBAAAAAAAAAAAgQAgEAAAAAAAA\n",
       "AAABQiAAAAAAAAAAAAgQAgEAAAAAAAAAQIAQCAAAAAAAAAAAAoRAAAAAAAAAAAAQIAQCAAAAAAAA\n",
       "AIAAIRAAAAAAAAAAAAQIgQAAAAAAAAAAIEAIBAAAAAAAAAAAAUIgAAAAAAAAAAAIEAIBAAAAAAAA\n",
       "AECAEAgAAAAAAAAAAAKEQAAAAAAAAAAAELD23vvTF/EXrbU+fQlfxTI8WYPPsgbvmrqerQv4m26e\n",
       "KVP3/W/N5Oa/332jzho/TX0HvGnKOTt1zUpWG5wAACAASURBVN00dY9PvW5OU89U6wTgd3m2d7iX\n",
       "ZvA084a/5+a+9ItAAAAAAAAAAAAQIAQCAAAAAAAAAIAAIRAAAAAAAAAAAAQIgQAAAAAAAAAAIEAI\n",
       "BAAAAAAAAAAAAUIgAAAAAAAAAAAIEAIBAAAAAAAAAECAEAgAAAAAAAAAAAKEQAAAAAAAAAAAECAE\n",
       "AgAAAAAAAACAACEQAAAAAAAAAAAECIEAAAAAAAAAACBACAQAAAAAAAAAAAFCIAAAAAAAAAAACBAC\n",
       "AQAAAAAAAABAgBAIAAAAAAAAAAAChEAAAAAAAAAAABAgBAIAAAAAAAAAgAAhEAAAAAAAAAAABAiB\n",
       "AAAAAAAAAAAgQAgEAAAAAAAAAAABQiAAAAAAAAAAAAhYr9dr3/wDe9/7+LXWtc++ed2cpt7LqdfN\n",
       "yb00g3fMBP7dzf3DPVPfm25yXrdMXYdT2T/PmrK+PWtOZnKaen74Dnm6vQanzgVom/r8vWnqee1e\n",
       "8o7392dNPT/omLov/SIQAAAAAAAAAAAECIEAAAAAAAAAACBACAQAAAAAAAAAAAFCIAAAAAAAAAAA\n",
       "CBACAQAAAAAAAABAgBAIAAAAAAAAAAAChEAAAAAAAAAAABAgBAIAAAAAAAAAgAAhEAAAAAAAAAAA\n",
       "BAiBAAAAAAAAAAAgQAgEAAAAAAAAAAABQiAAAAAAAAAAAAgQAgEAAAAAAAAAQIAQCAAAAAAAAAAA\n",
       "AoRAAAAAAAAAAAAQIAQCAAAAAAAAAIAAIRAAAAAAAAAAAAQIgQAAAAAAAAAAIEAIBAAAAAAAAAAA\n",
       "AUIgAAAAAAAAAAAIEAIBAAAAAAAAAECAEAgAAAAAAAAAAAKEQAAAAAAAAAAAELD23vvTF/Gv1lqf\n",
       "voR/MnXk5n0yk2dNnTc8beoe53k3z1XrkIrb7x/2ysnZ1OFenswEfsb3f/4C5yq0eS971tRnu3sJ\n",
       "n+e85iesk5NfBAIAAAAAAAAAgAAhEAAAAAAAAAAABAiBAAAAAAAAAAAgQAgEAAAAAAAAAAABQiAA\n",
       "AAAAAAAAAAgQAgEAAAAAAAAAQIAQCAAAAAAAAAAAAoRAAAAAAAAAAAAQIAQCAAAAAAAAAIAAIRAA\n",
       "AAAAAAAAAAQIgQAAAAAAAAAAIEAIBAAAAAAAAAAAAUIgAAAAAAAAAAAIEAIBAAAAAAAAAECAEAgA\n",
       "AAAAAAAAAAKEQAAAAAAAAAAAECAEAgAAAAAAAACAACEQAAAAAAAAAAAECIEAAAAAAAAAACBACAQA\n",
       "AAAAAAAAAAFCIAAAAAAAAAAACBACAQAAAAAAAABAwNp776t/YK1rn3350q+5OZObps6bkzUIbZ69\n",
       "LVPP7JusQ/7PPnnv5l4x89PUs8m95J2p65ln+d5BnTUOn+dd9TT1e97Uc89M4Gec1yd7/GSdnG6u\n",
       "E78IBAAAAAAAAAAAAUIgAAAAAAAAAAAIEAIBAAAAAAAAAECAEAgAAAAAAAAAAAKEQAAAAAAAAAAA\n",
       "ECAEAgAAAAAAAACAACEQAAAAAAAAAAAECIEAAAAAAAAAACBACAQAAAAAAAAAAAFCIAAAAAAAAAAA\n",
       "CBACAQAAAAAAAABAgBAIAAAAAAAAAAAChEAAAAAAAAAAABAgBAIAAAAAAAAAgAAhEAAAAAAAAAAA\n",
       "BAiBAAAAAAAAAAAgQAgEAAAAAAAAAAABQiAAAAAAAAAAAAgQAgEAAAAAAAAAQMB6vV770xfxbfae\n",
       "OfK11rXPnjqTm8z7ZCaU3FzPU03dh7fv5dS53OR5MJP7Rt3UZ7v9wzvO7I6pZ9NN1mCLNX6yxnmS\n",
       "/xNpcaZ22Du843ves6bOe+p1T3Vz3n4RCAAAAAAAAAAAAoRAAAAAAAAAAAAQIAQCAAAAAAAAAIAA\n",
       "IRAAAAAAAAAAAAQIgQAAAAAAAAAAIEAIBAAAAAAAAAAAAUIgAAAAAAAAAAAIEAIBAAAAAAAAAECA\n",
       "EAgAAAAAAAAAAAKEQAAAAAAAAAAAECAEAgAAAAAAAACAACEQAAAAAAAAAAAECIEAAAAAAAAAACBA\n",
       "CAQAAAAAAAAAAAFCIAAAAAAAAAAACBACAQAAAAAAAABAgBAIAAAAAAAAAAAChEAAAAAAAAAAABAg\n",
       "BAIAAAAAAAAAgAAhEAAAAAAAAAAABAiBAAAAAAAAAAAgQAgEAAAAAAAAAAABa++9P30R32at9elL\n",
       "+Co3l7h7yU84Zue6uceti5Mz9Xmekc+asO/dt9OE+8bPebafzKTDGT53zdmHzzLvZ90+m8z89Fsz\n",
       "N9sO7wjvTV3jnmP8xG+uE+viWc7sk//DPpnJaepMbl63XwQCAAAAAAAAAIAAIRAAAAAAAAAAAAQI\n",
       "gQAAAAAAAAAAIEAIBAAAAAAAAAAAAUIgAAAAAAAAAAAIEAIBAAAAAAAAAECAEAgAAAAAAAAAAAKE\n",
       "QAAAAAAAAAAAECAEAgAAAAAAAACAACEQAAAAAAAAAAAECIEAAAAAAAAAACBACAQAAAAAAAAAAAFC\n",
       "IAAAAAAAAAAACBACAQAAAAAAAABAgBAIAAAAAAAAAAAChEAAAAAAAAAAABAgBAIAAAAAAAAAgAAh\n",
       "EAAAAAAAAAAABAiBAAAAAAAAAAAgQAgEAAAAAAAAAAABQiAAAAAAAAAAAAgQAgEAAAAAAAAAQMDa\n",
       "e+9PX8RftNa69tlGDt/FeXLXzflOdXNdWM/w7yacV/bh6fZ9M/PThL3C503dO96l7nJ+PGvq946p\n",
       "zPt5Zn6PZ9bJO8Lzvn0fPs06PFmDc9eFMxu+y9Tz2i8CAQAAAAAAAABAgBAIAAAAAAAAAAAChEAA\n",
       "AAAAAAAAABAgBAIAAAAAAAAAgAAhEAAAAAAAAAAABAiBAAAAAAAAAAAgQAgEAAAAAAAAAAABQiAA\n",
       "AAAAAAAAAAgQAgEAAAAAAAAAQIAQCAAAAAAAAAAAAoRAAAAAAAAAAAAQIAQCAAAAAAAAAIAAIRAA\n",
       "AAAAAAAAAAQIgQAAAAAAAAAAIEAIBAAAAAAAAAAAAUIgAAAAAAAAAAAIEAIBAAAAAAAAAECAEAgA\n",
       "AAAAAAAAAAKEQAAAAAAAAAAAECAEAgAAAAAAAACAACEQAAAAAAAAAAAECIEAAAAAAAAAACBACAQA\n",
       "AAAAAAAAAAHr9Xrtm39g73sfv9a69tlT3Zw3lDlP5p7Xzr1nTd0r1gk/9e3n1dR//9Sz6bapM5+w\n",
       "V/g8+/4u5wcAN019Fnj/ON1+9k5dK5ym3sup1z2Fc/VZ1hxlzuuTXwQCAAAAAAAAAIAAIRAAAAAA\n",
       "AAAAAAQIgQAAAAAAAAAAIEAIBAAAAAAAAAAAAUIgAAAAAAAAAAAIEAIBAAAAAAAAAECAEAgAAAAA\n",
       "AAAAAAKEQAAAAAAAAAAAECAEAgAAAAAAAACAACEQAAAAAAAAAAAECIEAAAAAAAAAACBACAQAAAAA\n",
       "AAAAAAFCIAAAAAAAAAAACBACAQAAAAAAAABAgBAIAAAAAAAAAAAChEAAAAAAAAAAABAgBAIAAAAA\n",
       "AAAAgAAhEAAAAAAAAAAABAiBAAAAAAAAAAAgQAgEAAAAAAAAAAABQiAAAAAAAAAAAAgQAgEAAAAA\n",
       "AAAAQMB6vV775h/Y++rH8z9rrWuf7V7yadb3XDfv3U1T14W9cjKTlqlnyrezV1qm7kPr8Fmev7zj\n",
       "/ACYwXnNX2AdPsu8T2bie12Je8mnTT1Tp/KLQAAAAAAAAAAAECAEAgAAAAAAAACAACEQAAAAAAAA\n",
       "AAAECIEAAAAAAAAAACBACAQAAAAAAAAAAAFCIAAAAAAAAAAACBACAQAAAAAAAABAgBAIAAAAAAAA\n",
       "AAAChEAAAAAAAAAAABAgBAIAAAAAAAAAgAAhEAAAAAAAAAAABAiBAAAAAAAAAAAgQAgEAAAAAAAA\n",
       "AAABQiAAAAAAAAAAAAgQAgEAAAAAAAAAQIAQCAAAAAAAAAAAAoRAAAAAAAAAAAAQIAQCAAAAAAAA\n",
       "AIAAIRAAAAAAAAAAAASsvfe++gfWuvbZly/9mpszmWrqveRkfZ+mrG/n9cl65i+wf05TZ/LtrInn\n",
       "mfnJTE7ed05T7+VvsldOZgJM8Vvn1dSzyXn9rNvvklNnPvUde+q8uct6ftbUed809V5O5V2qwy8C\n",
       "AQAAAAAAAABAgBAIAAAAAAAAAAAChEAAAAAAAAAAABAgBAIAAAAAAAAAgAAhEAAAAAAAAAAABAiB\n",
       "AAAAAAAAAAAgQAgEAAAAAAAAAAABQiAAAAAAAAAAAAgQAgEAAAAAAAAAQIAQCAAAAAAAAAAAAoRA\n",
       "AAAAAAAAAAAQIAQCAAAAAAAAAIAAIRAAAAAAAAAAAAQIgQAAAAAAAAAAIEAIBAAAAAAAAAAAAUIg\n",
       "AAAAAAAAAAAIEAIBAAAAAAAAAECAEAgAAAAAAAAAAAKEQAAAAAAAAAAAECAEAgAAAAAAAACAACEQ\n",
       "AAAAAAAAAAAECIEAAAAAAAAAACBgvV6v/emL+DZ7G/n/rbWufbZ5n8z7WTfnzV3WM3+BM+RZ377v\n",
       "rbfT7TVh5nzat59770z9vuQ84R17HP4mZzb/5x2hZerzd+p7MKffvJdT793Us2/qvG9yNp2mru+b\n",
       "pt7Lm/wiEAAAAAAAAAAABAiBAAAAAAAAAAAgQAgEAAAAAAAAAAABQiAAAAAAAAAAAAgQAgEAAAAA\n",
       "AAAAQIAQCAAAAAAAAAAAAoRAAAAAAAAAAAAQIAQCAAAAAAAAAIAAIRAAAAAAAAAAAAQIgQAAAAAA\n",
       "AAAAIEAIBAAAAAAAAAAAAUIgAAAAAAAAAAAIEAIBAAAAAAAAAECAEAgAAAAAAAAAAAKEQAAAAAAA\n",
       "AAAAECAEAgAAAAAAAACAACEQAAAAAAAAAAAECIEAAAAAAAAAACBACAQAAAAAAAAAAAFCIAAAAAAA\n",
       "AAAACBACAQAAAAAAAABAgBAIAAAAAAAAAAAC1t57f/oivs1a69pn37ydN697KvN+1tR5O2bnsi74\n",
       "idvntbXyrKn7/reu23qD7/Pt597TnLM8beoeh7/A/gH+1dR31ammnqnWyV3Wxcl39I6p6/sme+fk\n",
       "F4EAAAAAAAAAACBACAQAAAAAAAAAAAFCIAAAAAAAAAAACBACAQAAAAAAAABAgBAIAAAAAAAAAAAC\n",
       "hEAAAAAAAAAAABAgBAIAAAAAAAAAgAAhEAAAAAAAAAAABAiBAAAAAAAAAAAgQAgEAAAAAAAAAAAB\n",
       "QiAAAAAAAAAAAAgQAgEAAAAAAAAAQIAQCAAAAAAAAAAAAoRAAAAAAAAAAAAQIAQCAAAAAAAAAIAA\n",
       "IRAAAAAAAAAAAAQIgQAAAAAAAAAAIEAIBAAAAAAAAAAAAUIgAAAAAAAAAAAIEAIBAAAAAAAAAECA\n",
       "EAgAAAAAAAAAAAKEQAAAAAAAAAAAECAEAgAAAAAAAACAgPV6vfbNP7D31Y+/Zq316Uv4J1PnDZ9m\n",
       "z8819d7dZF2crJP3pq6Vqffz5rwnzGTqeoO/YMIef8e+P928l+Y919Q9fpP1zE/ZPyf7B37Ge1nH\n",
       "1GeBdXLX1HVxkzXXMfUZNnVfTp2JXwQCAAAAAAAAAIAAIRAAAAAAAAAAAAQIgQAAAAAAAAAAIEAI\n",
       "BAAAAAAAAAAAAUIgAAAAAAAAAAAIEAIBAAAAAAAAAECAEAgAAAAAAAAAAAKEQAAAAAAAAAAAECAE\n",
       "AgAAAAAAAACAACEQAAAAAAAAAAAECIEAAAAAAAAAACBACAQAAAAAAAAAAAFCIAAAAAAAAAAACBAC\n",
       "AQAAAAAAAABAgBAIAAAAAAAAAAAChEAAAAAAAAAAABAgBAIAAAAAAAAAgAAhEAAAAAAAAAAABAiB\n",
       "AAAAAAAAAAAgQAgEAAAAAAAAAAABQiAAAAAAAAAAAAgQAgEAAAAAAAAAQMDae++rf2Ctmx9/zeWx\n",
       "XHNz3lNnQof1ffrNmdycgXv3rKnznnrdk3lP40n2OHXW+GnqTKY+H3/T1DV309T1PJV5d9w+U93P\n",
       "02/N3Gz5C7yXnabuTc/2k5mYwdPM+1lTn2HuZYdfBAIAAAAAAAAAgAAhEAAAAAAAAAAABAiBAAAA\n",
       "AAAAAAAgQAgEAAAAAAAAAAABQiAAAAAAAAAAAAgQAgEAAAAAAAAAQIAQCAAAAAAAAAAAAoRAAAAA\n",
       "AAAAAAAQIAQCAAAAAAAAAIAAIRAAAAAAAAAAAAQIgQAAAAAAAAAAIEAIBAAAAAAAAAAAAUIgAAAA\n",
       "AAAAAAAIEAIBAAAAAAAAAECAEAgAAAAAAAAAAAKEQAAAAAAAAAAAECAEAgAAAAAAAACAACEQAAAA\n",
       "AAAAAAAECIEAAAAAAAAAACBgvV6vffMP7H31469Za336Er7K1HXCyd6Z6+Y+nLouzORkJqfbz7Cb\n",
       "c5n6/DWTe6buw5u+fU3UWOMd9uZdU5+19vjJvJ819WxyL9+zf+6Zulc43V7L1srp288P+Au8Izxr\n",
       "6rynPsPMpMMvAgEAAAAAAAAAQIAQCAAAAAAAAAAAAoRAAAAAAAAAAAAQIAQCAAAAAAAAAIAAIRAA\n",
       "AAAAAAAAAAQIgQAAAAAAAAAAIEAIBAAAAAAAAAAAAUIgAAAAAAAAAAAIEAIBAAAAAAAAAECAEAgA\n",
       "AAAAAAAAAAKEQAAAAAAAAAAAECAEAgAAAAAAAACAACEQAAAAAAAAAAAECIEAAAAAAAAAACBACAQA\n",
       "AAAAAAAAAAFCIAAAAAAAAAAACBACAQAAAAAAAABAgBAIAAAAAAAAAAAChEAAAAAAAAAAABAgBAIA\n",
       "AAAAAAAAgAAhEAAAAAAAAAAABAiBAAAAAAAAAAAgYL1er/3pi/iL9jaWJ621rn22e3kyb4A5bp7Z\n",
       "POvmM/K31onn+On2HjTzk3dVfsI6OU15Z5g6X/iJKfvw/+xLnuY5/qypZ9NtE76jv2ONA/wez8iO\n",
       "qc/Hm2vQLwIB8F87d5DcyA0EQFD4/6Phsxc6MBTCUF3MfAA1xjQArqOCAAAAAAAAAAQIgQAAAAAA\n",
       "AAAAIEAIBAAAAAAAAAAAAUIgAAAAAAAAAAAIEAIBAAAAAAAAAECAEAgAAAAAAAAAAAKEQAAAAAAA\n",
       "AAAAECAEAgAAAAAAAACAACEQAAAAAAAAAAAECIEAAAAAAAAAACBACAQAAAAAAAAAAAFCIAAAAAAA\n",
       "AAAACBACAQAAAAAAAABAgBAIAAAAAAAAAAAChEAAAAAAAAAAABAgBAIAAAAAAAAAgAAhEAAAAAAA\n",
       "AAAABAiBAAAAAAAAAAAgQAgEAAAAAAAAAAABQiAAAAAAAAAAAAgQAgEAAAAAAAAAQIAQCAAAAAAA\n",
       "AAAAAtbee7/7If6itda1z5665DfXZKqb79J6n6buHaDt9nnt7OMVE743+N70PGv+LOf1yZw8a8oM\n",
       "+v8tvJsZPFkTvuMeP039fm0fPm/q/jErwF/kjuQV7t6TXwQCAAAAAAAAAIAAIRAAAAAAAAAAAAQI\n",
       "gQAAAAAAAAAAIEAIBAAAAAAAAAAAAUIgAAAAAAAAAAAIEAIBAAAAAAAAAECAEAgAAAAAAAAAAAKE\n",
       "QAAAAAAAAAAAECAEAgAAAAAAAACAACEQAAAAAAAAAAAECIEAAAAAAAAAACBACAQAAAAAAAAAAAFC\n",
       "IAAAAAAAAAAACBACAQAAAAAAAABAgBAIAAAAAAAAAAAChEAAAAAAAAAAABAgBAIAAAAAAAAAgAAh\n",
       "EAAAAAAAAAAABAiBAAAAAAAAAAAgQAgEAAAAAAAAAAABQiAAAAAAAAAAAAgQAgEAAAAAAAAAQIAQ\n",
       "CAAAAAAAAAAAAtbee7/7IX5qrfXuR/gog0eFiJt73nxDm+8M33P2Pcs9Bm1T9/jU5+bk+85d5vlZ\n",
       "5plX2Zun39o/1vZZU8+9yXPie/DJmgA/NfUeu8m5d3LPnG6uiV8EAgAAAAAAAACAACEQAAAAAAAA\n",
       "AAAECIEAAAAAAAAAACBACAQAAAAAAAAAAAFCIAAAAAAAAAAACBACAQAAAAAAAABAgBAIAAAAAAAA\n",
       "AAAChEAAAAAAAAAAABAgBAIAAAAAAAAAgAAhEAAAAAAAAAAABAiBAAAAAAAAAAAgQAgEAAAAAAAA\n",
       "AAABQiAAAAAAAAAAAAgQAgEAAAAAAAAAQIAQCAAAAAAAAAAAAoRAAAAAAAAAAAAQIAQCAAAAAAAA\n",
       "AIAAIRAAAAAAAAAAAAQIgQAAAAAAAAAAIGB9fX3tdz/ET+099tFHWmtd+2zvsuPmnExlvuE17pnn\n",
       "WfPTp99jU98bvGrqHr+5N63Js9y9c3l3J2vCXzB1Dqfev79l6h6fOm83ffos8zdM3T/wNPfYs6au\n",
       "t7u9wy8CAQAAAAAAAABAgBAIAAAAAAAAAAAChEAAAAAAAAAAABAgBAIAAAAAAAAAgAAhEAAAAAAA\n",
       "AAAABAiBAAAAAAAAAAAgQAgEAAAAAAAAAAABQiAAAAAAAAAAAAgQAgEAAAAAAAAAQIAQCAAAAAAA\n",
       "AAAAAoRAAAAAAAAAAAAQIAQCAAAAAAAAAIAAIRAAAAAAAAAAAAQIgQAAAAAAAAAAIEAIBAAAAAAA\n",
       "AAAAAUIgAAAAAAAAAAAIEAIBAAAAAAAAAECAEAgAAAAAAAAAAAKEQAAAAAAAAAAAECAEAgAAAAAA\n",
       "AACAACEQAAAAAAAAAAAECIEAAAAAAAAAACBg7b33ux/ip9Za1z576rLcXJOppr7Lm+ydZ1lvStwz\n",
       "p9v70Jo/69PPVXcWf4E55BXux7um7hVzwSumzvdUk/elWbln8lzwf/YJf4F/Q1Lijjzd3IdT19vZ\n",
       "xCv8IhAAAAAAAAAAAAQIgQAAAAAAAAAAIEAIBAAAAAAAAAAAAUIgAAAAAAAAAAAIEAIBAAAAAAAA\n",
       "AECAEAgAAAAAAAAAAAKEQAAAAAAAAAAAECAEAgAAAAAAAACAACEQAAAAAAAAAAAECIEAAAAAAAAA\n",
       "ACBACAQAAAAAAAAAAAFCIAAAAAAAAAAACBACAQAAAAAAAABAgBAIAAAAAAAAAAAChEAAAAAAAAAA\n",
       "ABAgBAIAAAAAAAAAgAAhEAAAAAAAAAAABAiBAAAAAAAAAAAgQAgEAAAAAAAAAAABQiAAAAAAAAAA\n",
       "AAgQAgEAAAAAAAAAQIAQCAAAAAAAAAAAAtbee1/9A2vd/Hj+cfl1jnRzBm+ut71zst53OT86pp57\n",
       "8BdM3T+ffo85m5736TP3HXN4mnqmMnePmwte4Ww6WZPvffq6fPp/P6+5/Z3BrHRM/X55k/meyx3J\n",
       "u5lBXuEXgQAAAAAAAAAAIEAIBAAAAAAAAAAAAUIgAAAAAAAAAAAIEAIBAAAAAAAAAECAEAgAAAAA\n",
       "AAAAAAKEQAAAAAAAAAAAECAEAgAAAAAAAACAACEQAAAAAAAAAAAECIEAAAAAAAAAACBACAQAAAAA\n",
       "AAAAAAFCIAAAAAAAAAAACBACAQAAAAAAAABAgBAIAAAAAAAAAAAChEAAAAAAAAAAABAgBAIAAAAA\n",
       "AAAAgAAhEAAAAAAAAAAABAiBAAAAAAAAAAAgQAgEAAAAAAAAAAABQiAAAAAAAAAAAAgQAgEAAAAA\n",
       "AAAAQIAQCAAAAAAAAAAAAoRAAAAAAAAAAAAQsL6+vvbNP7D31Y/nH2uta599813efO6bzDclU8+P\n",
       "qaaeezeZE141df+Y8XvcYd+zLs+aut5Tz9Sbps73b75La3CauiZTOZuAn3Jen5yp3zMrJ9+lnmW9\n",
       "73L2nczFs8zgyQw+yy8CAQAAAAAAAABAgBAIAAAAAAAAAAAChEAAAAAAAAAAABAgBAIAAAAAAAAA\n",
       "gAAhEAAAAAAAAAAABAiBAAAAAAAAAAAgQAgEAAAAAAAAAAABQiAAAAAAAAAAAAgQAgEAAAAAAAAA\n",
       "QIAQCAAAAAAAAAAAAoRAAAAAAAAAAAAQIAQCAAAAAAAAAIAAIRAAAAAAAAAAAAQIgQAAAAAAAAAA\n",
       "IEAIBAAAAAAAAAAAAUIgAAAAAAAAAAAIEAIBAAAAAAAAAECAEAgAAAAAAAAAAAKEQAAAAAAAAAAA\n",
       "ECAEAgAAAAAAAACAACEQAAAAAAAAAAAECIEAAAAAAAAAACBACAQAAAAAAAAAAAHr6+trv/shfmrv\n",
       "mY++1nr3I/zI1PW+6ea7tN68Yup58ptu7hV7/FnWu8X7PH36mrizeNXUu/2mCXu8ZOqcMNfUPf7p\n",
       "322Av2nq2TT1uSebuua+q56s911T19fZd7LeJ2vyLOt9urkmfhEIAAAAAAAAAAAChEAAAAAAAAAA\n",
       "ABAgBAIAAAAAAAAAgAAhEAAAAAAAAAAABAiBAAAAAAAAAAAgQAgEAAAAAAAAAAABQiAAAAAAAAAA\n",
       "AAgQAgEAAAAAAAAAQIAQCAAAAAAAAAAAAoRAAAAAAAAAAAAQIAQCAAAAAAAAAIAAIRAAAAAAAAAA\n",
       "AAQIgQAAAAAAAAAAIEAIBAAAAAAAAAAAAUIgAAAAAAAAAAAIEAIBAAAAAAAAAECAEAgAAAAAAAAA\n",
       "AAKEQAAAAAAAAAAAECAEAgAAAAAAAACAgLX33u9+iJ9aa737EX5k6pLfXO+bazJ1Tm6aOoNTTd07\n",
       "zD0/nKnPmrwPvU+eNHmvwLv5PnmyJpT4TvYsexzeb+q55/+3nG6fqdYF2uzx09Q14VlmsOPmu/SL\n",
       "QAAAAAAAAAAAECAEAgAAAAAAAACAACEQAAAAAAAAAAAECIEAAAAAAAAAACBACAQAAAAAAAAAAAFC\n",
       "IAAAAAAAAAAACBACAQAAAAAAAABAgBAIAAAAAAAAAAAChEAAAAAAAAAAABAgBAIAAAAAAAAAgAAh\n",
       "EAAAAAAAAAAABAiBAAAAAAAAAAAgQAgEAAAAAAAAAAABQiAAAAAAAAAAAAgQAgEAAAAAAAAAQIAQ\n",
       "CAAAAAAAAAAAAoRAAAAAAAAAAAAQIAQCAAAAAAAAAIAAIRAAAAAAAAAAAAQIgQAAAAAAAAAAIEAI\n",
       "BAAAAAAAAAAAAUIgAAAAAAAAAAAIWHvvffUPrHXtsy8/+jU312Sqqe9yKvvyZF96d9+ZuiY8a/L5\n",
       "YcZ5kvOausn3Ac9xXs3lHuvwLuE19gr8nP1DiXkGuOfmGesXgQAAAAAAAAAAIEAIBAAAAAAAAAAA\n",
       "AUIgAAAAAAAAAAAIEAIBAAAAAAAAbKiAiQAAA35JREFUAECAEAgAAAAAAAAAAAKEQAAAAAAAAAAA\n",
       "ECAEAgAAAAAAAACAACEQAAAAAAAAAAAECIEAAAAAAAAAACBACAQAAAAAAAAAAAFCIAAAAAAAAAAA\n",
       "CBACAQAAAAAAAABAgBAIAAAAAAAAAAAChEAAAAAAAAAAABAgBAIAAAAAAAAAgAAhEAAAAAAAAAAA\n",
       "BAiBAAAAAAAAAAAgQAgEAAAAAAAAAAABQiAAAAAAAAAAAAgQAgEAAAAAAAAAQIAQCAAAAAAAAAAA\n",
       "AoRAAAAAAAAAAAAQsPbe++ofWOvmx490eclHujknU9fb3nnW1Dn5TWbuWWbuWe6Z71kX/uUuOJnl\n",
       "Fuce72YG73KPnabOhXd5mvoued6n7x97hVd9+l75jv3TYb7NM/B7pp6pfhEIAAAAAAAAAAAChEAA\n",
       "AAAAAAAAABAgBAIAAAAAAAAAgAAhEAAAAAAAAAAABAiBAAAAAAAAAAAgQAgEAAAAAAAAAAABQiAA\n",
       "AAAAAAAAAAgQAgEAAAAAAAAAQIAQCAAAAAAAAAAAAoRAAAAAAAAAAAAQIAQCAAAAAAAAAIAAIRAA\n",
       "AAAAAAAAAAQIgQAAAAAAAAAAIEAIBAAAAAAAAAAAAUIgAAAAAAAAAAAIEAIBAAAAAAAAAECAEAgA\n",
       "AAAAAAAAAAKEQAAAAAAAAAAAECAEAgAAAAAAAACAACEQAAAAAAAAAAAECIEAAAAAAAAAACBACAQA\n",
       "AAAAAAAAAAFr773f/RCfZq117bNvvs6bz83J1nyWfWnmnjZ15m5yz/CqqTN+02/tH2t7un02WfOT\n",
       "++BkTp5lBuf8G+Zf9spp6jx7lyd7p8X7vMfatnifz7Lez7Led1lf+Cz2/MkvAgEAAAAAAAAAQIAQ\n",
       "CAAAAAAAAAAAAoRAAAAAAAAAAAAQIAQCAAAAAAAAAIAAIRAAAAAAAAAAAAQIgQAAAAAAAAAAIEAI\n",
       "BAAAAAAAAAAAAUIgAAAAAAAAAAAIEAIBAAAAAAAAAECAEAgAAAAAAAAAAAKEQAAAAAAAAAAAECAE\n",
       "AgAAAAAAAACAACEQAAAAAAAAAAAECIEAAAAAAAAAACBACAQAAAAAAAAAAAFCIAAAAAAAAAAACBAC\n",
       "AQAAAAAAAABAgBAIAAAAAAAAAAAChEAAAAAAAAAAABAgBAIAAAAAAAAAgAAhEAAAAAAAAAAABAiB\n",
       "AAAAAAAAAAAg4D+gI7/k/4s1UwAAAABJRU5ErkJggg==\n",
       "\" transform=\"translate(47, 235)\"/>\n",
       "</g>\n",
       "</svg>\n"
      ]
     },
     "execution_count": 14,
     "metadata": {},
     "output_type": "execute_result"
    }
   ],
   "source": [
    "p, data = CA1D.run(;rules = rule22, gridsize = n, initial_condition=\"random\", nsteps=steps, update=\"synchronous\")\n",
    "p"
   ]
  },
  {
   "cell_type": "markdown",
   "metadata": {
    "nbpresent": {
     "id": "6d7e43ba-d451-4b5e-84be-e90cd8737ecb"
    },
    "slideshow": {
     "slide_type": "slide"
    }
   },
   "source": [
    "## A closer look at Agents.jl\n",
    "The CA is too simple to illustrate all the features that are present in general ABMs. In particular, the lack of distinction between the space  grid and the agents is not generic. \n",
    "\n",
    "Agents.jl provides framework for constructing, running and analysing a broad class of ABMs. It *is* faster than writing yourself from scratch."
   ]
  },
  {
   "cell_type": "markdown",
   "metadata": {
    "nbpresent": {
     "id": "6d7e43ba-d451-4b5e-84be-e90cd8737ecb"
    },
    "slideshow": {
     "slide_type": "slide"
    }
   },
   "source": [
    "\n",
    "### Features of a general ABM\n",
    "\n",
    "* an **agent** object with its own features\n",
    "* a **model** object with its own features\n",
    "* a **space** in which the agents live (in Agents.jl the space is a feature of the model, \"no space\" is possible)\n",
    "* an **agent update** function\n",
    "* a **model update** function\n",
    "* a **scheduler**: a protocol for deciding the order in which the agents in the model run their update functions"
   ]
  },
  {
   "cell_type": "markdown",
   "metadata": {
    "nbpresent": {
     "id": "ffdf12b5-fa15-49a3-99a1-8372428310ae"
    },
    "slideshow": {
     "slide_type": "slide"
    }
   },
   "source": [
    "### Overview of the structure of the Agents.jl framework\n",
    "From https://juliadynamics.github.io/Agents.jl/dev/tutorial/ \n",
    "\n",
    "<img src=\"files/images/AgentsJL_overview.png\" alt=\"Agents\" style=\"width: 400px;\"/>\n",
    "\n"
   ]
  },
  {
   "cell_type": "markdown",
   "metadata": {
    "nbpresent": {
     "id": "4484d819-f11e-4d5e-8a81-75255e7aec09"
    },
    "slideshow": {
     "slide_type": "slide"
    }
   },
   "source": [
    "### Data types in the Agents.jl framework\n",
    "\n",
    "![Overview of Agents.jl](files/images/AgentsJL_model_object_structure.png \"Agents.jl\")\n",
    "\n",
    "from https://juliadynamics.github.io/Agents.jl/dev/tutorial/ "
   ]
  },
  {
   "cell_type": "markdown",
   "metadata": {
    "slideshow": {
     "slide_type": "slide"
    }
   },
   "source": [
    "## Example 1: the 1D CA \"under the hood\"\n",
    "\n",
    "Let's look at how the code for the 1D CA above fits into this framework.\n",
    "\n",
    "There are lots of other examples in the Agents.jl documentation."
   ]
  },
  {
   "cell_type": "markdown",
   "metadata": {
    "slideshow": {
     "slide_type": "slide"
    }
   },
   "source": [
    "### Step 1 : defining the agent, space and model objects\n",
    "\n",
    "Agents are always defined as mutable subtypes of ```AbstractAgent```. Depending on the space, the agent must have certain properties. For example, when the space is a ```GridSpace```, the agent must have a ```pos``` field of the appropriate dimension:"
   ]
  },
  {
   "cell_type": "code",
   "execution_count": 15,
   "metadata": {},
   "outputs": [],
   "source": [
    "mutable struct CA1DAgent <: AbstractAgent\n",
    "    id::Int # The identifier number of the agent\n",
    "    pos::Dims{1} # The x location of the agent on a 1D grid\n",
    "    state::Int # The state of the agent - 0 or 1\n",
    "end"
   ]
  },
  {
   "cell_type": "markdown",
   "metadata": {
    "slideshow": {
     "slide_type": "slide"
    }
   },
   "source": [
    "### Step 1 : defining the agent, space and model objects\n",
    "\n",
    "Agents.jl pre-defines several types of agent matching with different types of space and provides a macro to customise these. In our case, we want to customise a ```GridAgent{1}```:"
   ]
  },
  {
   "cell_type": "code",
   "execution_count": 16,
   "metadata": {},
   "outputs": [],
   "source": [
    "@agent CA1DAgent GridAgent{1} begin\n",
    "    state::Int\n",
    "end"
   ]
  },
  {
   "cell_type": "markdown",
   "metadata": {
    "slideshow": {
     "slide_type": "slide"
    }
   },
   "source": [
    "### Step 1 : defining the agent, space and model objects\n",
    "\n",
    "The space in this case is a 1D grid"
   ]
  },
  {
   "cell_type": "code",
   "execution_count": 17,
   "metadata": {},
   "outputs": [
    {
     "data": {
      "text/plain": [
       "GridSpace with size (101,), metric=euclidean, periodic=true"
      ]
     },
     "execution_count": 17,
     "metadata": {},
     "output_type": "execute_result"
    }
   ],
   "source": [
    "gridsize = 101\n",
    "space = GridSpace((gridsize,), metric=:euclidean, periodic = true)"
   ]
  },
  {
   "cell_type": "markdown",
   "metadata": {
    "slideshow": {
     "slide_type": "slide"
    }
   },
   "source": [
    "### Step 1 : defining the agent, space and model objects\n",
    "\n",
    "The model incorporates the agent, the space and any additional properties needed to specify the model.\n",
    "\n",
    "In our case, the only additional properties the model needs is the rules that we have defined above"
   ]
  },
  {
   "cell_type": "code",
   "execution_count": 18,
   "metadata": {},
   "outputs": [
    {
     "data": {
      "text/plain": [
       "AgentBasedModel with 0 agents of type CA1DAgent\n",
       " space: GridSpace with size (101,), metric=euclidean, periodic=true\n",
       " scheduler: fastest\n",
       " properties: Dict(:rules => Dict(\"000\" => 0, \"111\" => 0, \"001\" => 1, \"011\" => 1, \"101\" => 1, \"110\" => 1, \"010\" => 1, \"100\" => 0))"
      ]
     },
     "execution_count": 18,
     "metadata": {},
     "output_type": "execute_result"
    }
   ],
   "source": [
    "space = GridSpace((gridsize,), metric=:euclidean, periodic = true)\n",
    "properties = Dict(:rules => rule110)\n",
    "model = ABM(CA1DAgent, space; properties)"
   ]
  },
  {
   "cell_type": "markdown",
   "metadata": {
    "slideshow": {
     "slide_type": "slide"
    }
   },
   "source": [
    "### Step 1 : defining the agent, space and model objects\n",
    "\n",
    "After creating the model, we now need to add the agents to it. In this case, there is an agent at each point on the grid. Let's start off with all of them set to state 0 except for the last one:\n"
   ]
  },
  {
   "cell_type": "code",
   "execution_count": 19,
   "metadata": {},
   "outputs": [
    {
     "data": {
      "text/plain": [
       "1"
      ]
     },
     "execution_count": 19,
     "metadata": {},
     "output_type": "execute_result"
    }
   ],
   "source": [
    "for idx in 1:gridsize\n",
    "    add_agent_pos!(CA1DAgent(idx, (idx,), 0), model)\n",
    "end\n",
    "model.agents[gridsize].state = 1"
   ]
  },
  {
   "cell_type": "markdown",
   "metadata": {
    "slideshow": {
     "slide_type": "slide"
    }
   },
   "source": [
    "### Aside: Using a function to initialise an ABM\n",
    "\n",
    "It is a good idea to package all of this together into a single function to initialise an ABM. Here we take advantage of Julia's ability to define default function arguments:"
   ]
  },
  {
   "cell_type": "code",
   "execution_count": 23,
   "metadata": {},
   "outputs": [
    {
     "data": {
      "text/plain": [
       "initialise (generic function with 1 method)"
      ]
     },
     "execution_count": 23,
     "metadata": {},
     "output_type": "execute_result"
    }
   ],
   "source": [
    "function initialise(;rules = rule110, gridsize = 101)\n",
    "    space = GridSpace((gridsize,), metric=:euclidean, periodic = true)\n",
    "    properties = Dict(:rules => rules)\n",
    "    model = ABM(CA1DAgent, space; properties)\n",
    "    \n",
    "    for idx in 1:gridsize\n",
    "        add_agent_pos!(CA1DAgent(idx, (idx,), 0), model)\n",
    "    end\n",
    "    model.agents[gridsize].state = 1  \n",
    "    return model\n",
    "end"
   ]
  },
  {
   "cell_type": "markdown",
   "metadata": {
    "slideshow": {
     "slide_type": "slide"
    }
   },
   "source": [
    "### Step 2 : defining the agent update function\n",
    "\n",
    "This is where all of the action takes place:"
   ]
  },
  {
   "cell_type": "code",
   "execution_count": 21,
   "metadata": {},
   "outputs": [
    {
     "data": {
      "text/plain": [
       "agent_step! (generic function with 1 method)"
      ]
     },
     "execution_count": 21,
     "metadata": {},
     "output_type": "execute_result"
    }
   ],
   "source": [
    "function agent_step!(agent, model)\n",
    "    neighbourhood = nearby_ids(agent.pos, model)\n",
    "    str = \"\"\n",
    "    for idx in neighbourhood\n",
    "        str=str*string(model.agents[idx].state)\n",
    "    end\n",
    "    agent.state = model.rules[str]\n",
    "end"
   ]
  },
  {
   "cell_type": "markdown",
   "metadata": {
    "slideshow": {
     "slide_type": "slide"
    }
   },
   "source": [
    "### Step 3 : running the model and extracting data"
   ]
  },
  {
   "cell_type": "code",
   "execution_count": 29,
   "metadata": {},
   "outputs": [],
   "source": [
    "nsteps = 50\n",
    "adata = [:pos, :state]\n",
    "data, _ = run!(model, agent_step!, nsteps; adata);"
   ]
  },
  {
   "cell_type": "code",
   "execution_count": 30,
   "metadata": {},
   "outputs": [
    {
     "data": {
      "text/html": [
       "<div class=\"data-frame\"><p>5 rows × 4 columns</p><table class=\"data-frame\"><thead><tr><th></th><th>step</th><th>id</th><th>pos</th><th>state</th></tr><tr><th></th><th title=\"Int64\">Int64</th><th title=\"Int64\">Int64</th><th title=\"Tuple{Int64}\">Tuple…</th><th title=\"Int64\">Int64</th></tr></thead><tbody><tr><th>1</th><td>0</td><td>1</td><td>(1,)</td><td>1</td></tr><tr><th>2</th><td>0</td><td>2</td><td>(2,)</td><td>1</td></tr><tr><th>3</th><td>0</td><td>3</td><td>(3,)</td><td>1</td></tr><tr><th>4</th><td>0</td><td>4</td><td>(4,)</td><td>0</td></tr><tr><th>5</th><td>0</td><td>5</td><td>(5,)</td><td>1</td></tr></tbody></table></div>"
      ],
      "text/latex": [
       "\\begin{tabular}{r|cccc}\n",
       "\t& step & id & pos & state\\\\\n",
       "\t\\hline\n",
       "\t& Int64 & Int64 & Tuple… & Int64\\\\\n",
       "\t\\hline\n",
       "\t1 & 0 & 1 & (1,) & 1 \\\\\n",
       "\t2 & 0 & 2 & (2,) & 1 \\\\\n",
       "\t3 & 0 & 3 & (3,) & 1 \\\\\n",
       "\t4 & 0 & 4 & (4,) & 0 \\\\\n",
       "\t5 & 0 & 5 & (5,) & 1 \\\\\n",
       "\\end{tabular}\n"
      ],
      "text/plain": [
       "\u001b[1m5×4 DataFrame\u001b[0m\n",
       "\u001b[1m Row \u001b[0m│\u001b[1m step  \u001b[0m\u001b[1m id    \u001b[0m\u001b[1m pos    \u001b[0m\u001b[1m state \u001b[0m\n",
       "\u001b[1m     \u001b[0m│\u001b[90m Int64 \u001b[0m\u001b[90m Int64 \u001b[0m\u001b[90m Tuple… \u001b[0m\u001b[90m Int64 \u001b[0m\n",
       "─────┼─────────────────────────────\n",
       "   1 │     0      1  (1,)        1\n",
       "   2 │     0      2  (2,)        1\n",
       "   3 │     0      3  (3,)        1\n",
       "   4 │     0      4  (4,)        0\n",
       "   5 │     0      5  (5,)        1"
      ]
     },
     "execution_count": 30,
     "metadata": {},
     "output_type": "execute_result"
    }
   ],
   "source": [
    "data[1:5,:]"
   ]
  },
  {
   "cell_type": "markdown",
   "metadata": {
    "slideshow": {
     "slide_type": "slide"
    }
   },
   "source": [
    "Agents.jl uses a DataFrame to return the data from run. You need to learn how to manipulate them"
   ]
  },
  {
   "cell_type": "code",
   "execution_count": 31,
   "metadata": {},
   "outputs": [],
   "source": [
    "# Process the data into a simple array for plotting\n",
    "    A = zeros(Int64, (nsteps+1, nagents(model)))\n",
    "    for i in 0:nsteps\n",
    "        snapshot = data[data[!,:step] .== i, :]\n",
    "        for j in Iterators.flatten(snapshot.pos)\n",
    "            A[i+1,j] = snapshot.state[j]\n",
    "        end\n",
    "    end"
   ]
  },
  {
   "cell_type": "code",
   "execution_count": 38,
   "metadata": {},
   "outputs": [
    {
     "data": {
      "image/svg+xml": [
       "<?xml version=\"1.0\" encoding=\"utf-8\"?>\n",
       "<svg xmlns=\"http://www.w3.org/2000/svg\" xmlns:xlink=\"http://www.w3.org/1999/xlink\" width=\"600\" height=\"400\" viewBox=\"0 0 2400 1600\">\n",
       "<defs>\n",
       "  <clipPath id=\"clip030\">\n",
       "    <rect x=\"0\" y=\"0\" width=\"2400\" height=\"1600\"/>\n",
       "  </clipPath>\n",
       "</defs>\n",
       "<path clip-path=\"url(#clip030)\" d=\"\n",
       "M0 1600 L2400 1600 L2400 0 L0 0  Z\n",
       "  \" fill=\"#ffffff\" fill-rule=\"evenodd\" fill-opacity=\"1\"/>\n",
       "<defs>\n",
       "  <clipPath id=\"clip031\">\n",
       "    <rect x=\"480\" y=\"0\" width=\"1681\" height=\"1600\"/>\n",
       "  </clipPath>\n",
       "</defs>\n",
       "<path clip-path=\"url(#clip030)\" d=\"\n",
       "M47.2441 1387.91 L2352.76 1387.91 L2352.76 212.094 L47.2441 212.094  Z\n",
       "  \" fill=\"#ffffff\" fill-rule=\"evenodd\" fill-opacity=\"1\"/>\n",
       "<defs>\n",
       "  <clipPath id=\"clip032\">\n",
       "    <rect x=\"47\" y=\"212\" width=\"2307\" height=\"1177\"/>\n",
       "  </clipPath>\n",
       "</defs>\n",
       "<g clip-path=\"url(#clip032)\">\n",
       "<image width=\"2306\" height=\"1153\" xlink:href=\"data:image/png;base64,\n",
       "iVBORw0KGgoAAAANSUhEUgAACQIAAASBCAYAAABlkHHEAAAgAElEQVR4nOzcUYpjuRJFUenNf856\n",
       "/9aFuhSOcMXptQbgEicjDd1scq+1zuJyTt0se++yzwb4W773eMOd9LN5L3vXsW0/m/eyN0ncM2+4\n",
       "k15T965891pu5cm3Np96F27iZu9+Nod3pv6uTH03vabeydR3T1W59//KPhkAAAAAAAAAAGgjBAIA\n",
       "AAAAAAAAgABCIAAAAAAAAAAACCAEAgAAAAAAAACAAEIgAAAAAAAAAAAIIAQCAAAAAAAAAIAAQiAA\n",
       "AAAAAAAAAAggBAIAAAAAAAAAgABCIAAAAAAAAAAACCAEAgAAAAAAAACAAEIgAAAAAAAAAAAIIAQC\n",
       "AAAAAAAAAIAAQiAAAAAAAAAAAAggBAIAAAAAAAAAgABCIAAAAAAAAAAACCAEAgAAAAAAAACAAEIg\n",
       "AAAAAAAAAAAIIAQCAAAAAAAAAIAAQiAAAAAAAAAAAAggBAIAAAAAAAAAgABCIAAAAAAAAAAACCAE\n",
       "AgAAAAAAAACAAEIgAAAAAAAAAAAIsNdap/IfOKfu4/feZZ89lb1vUzfx7psbvE3d5Jum7jv13VPZ\n",
       "u5/Ne31rb9veKm95LZs/8f3Ra+re3n1z33P3nfruqezNW26FT26in817Td176rsrfXOTqRtwm/q7\n",
       "MvXd9HInN38RCAAAAAAAAAAAAgiBAAAAAAAAAAAggBAIAAAAAAAAAAACCIEAAAAAAAAAACCAEAgA\n",
       "AAAAAAAAAAIIgQAAAAAAAAAAIIAQCAAAAAAAAAAAAgiBAAAAAAAAAAAggBAIAAAAAAAAAAACCIEA\n",
       "AAAAAAAAACCAEAgAAAAAAAAAAAIIgQAAAAAAAAAAIIAQCAAAAAAAAAAAAgiBAAAAAAAAAAAggBAI\n",
       "AAAAAAAAAAACCIEAAAAAAAAAACCAEAgAAAAAAAAAAAIIgQAAAAAAAAAAIIAQCAAAAAAAAAAAAgiB\n",
       "AAAAAAAAAAAggBAIAAAAAAAAAAACCIEAAAAAAAAAACDAXmudXz/iX3RO3Sx777LPrmQTfs0N1rIv\n",
       "b7iTfjbvZe86tu1n8172Jol75g130mvq3pXvXsutPPnW5lPvwk3c7N3P5rzhTuZuMPXd9Jp6J1Pf\n",
       "PVXl3v4iEAAAAAAAAAAABBACAQAAAAAAAABAACEQAAAAAAAAAAAEEAIBAAAAAAAAAEAAIRAAAAAA\n",
       "AAAAAAQQAgEAAAAAAAAAQAAhEAAAAAAAAAAABBACAQAAAAAAAABAACEQAAAAAAAAAAAEEAIBAAAA\n",
       "AAAAAEAAIRAAAAAAAAAAAAQQAgEAAAAAAAAAQAAhEAAAAAAAAAAABBACAQAAAAAAAABAACEQAAAA\n",
       "AAAAAAAEEAIBAAAAAAAAAEAAIRAAAAAAAAAAAAQQAgEAAAAAAAAAQAAhEAAAAAAAAAAABBACAQAA\n",
       "AAAAAABAACEQAAAAAAAAAAAEEAIBAAAAAAAAAECAvdY6lf/AOXUfv/cu+2x6Tb0T7775vbzZu9bU\n",
       "fae+eyp797N5r2/tbdtb5S2vZfMnvj96Td3bu2/ue+6+U989lb15y63wyU30s3mvqXtPfTd0m/q7\n",
       "MvXd9HInN38RCAAAAAAAAAAAAgiBAAAAAAAAAAAggBAIAAAAAAAAAAACCIEAAAAAAAAAACCAEAgA\n",
       "AAAAAAAAAAIIgQAAAAAAAAAAIIAQCAAAAAAAAAAAAgiBAAAAAAAAAAAggBAIAAAAAAAAAAACCIEA\n",
       "AAAAAAAAACCAEAgAAAAAAAAAAAIIgQAAAAAAAAAAIIAQCAAAAAAAAAAAAgiBAAAAAAAAAAAggBAI\n",
       "AAAAAAAAAAACCIEAAAAAAAAAACCAEAgAAAAAAAAAAAIIgQAAAAAAAAAAIIAQCAAAAAAAAAAAAgiB\n",
       "AAAAAAAAAAAggBAIAAAAAAAAAAACCIEAAAAAAAAAACDAXmudXz/ib51T9/S9d9lnT303/JrfnVr2\n",
       "5Q130s/mvexdx7b9bN7L3iRxz7zhTnpN3bvy3Wu5lSff2nzqXbiJm7372Zw3ptzJlHd+mvpucky9\n",
       "wanvnqpyb38RCAAAAAAAAAAAAgiBAAAAAAAAAAAggBAIAAAAAAAAAAACCIEAAAAAAAAAACCAEAgA\n",
       "AAAAAAAAAAIIgQAAAAAAAAAAIIAQCAAAAAAAAAAAAgiBAAAAAAAAAAAggBAIAAAAAAAAAAACCIEA\n",
       "AAAAAAAAACCAEAgAAAAAAAAAAAIIgQAAAAAAAAAAIIAQCAAAAAAAAAAAAgiBAAAAAAAAAAAggBAI\n",
       "AAAAAAAAAAACCIEAAAAAAAAAACCAEAgAAAAAAAAAAAIIgQAAAAAAAAAAIIAQCAAAAAAAAAAAAuxz\n",
       "zin9B/au/Hg+VP44K3+W3n3z7hz2rjV136nvnsre/Wze61t72/ZW/J9LNn/g+6PX1L29++a+5+47\n",
       "9d1T2Zu33Aqf3EQ/m/eauvfUd8OTqffs3TffH738LG/+IhAAAAAAAAAAAAQQAgEAAAAAAAAAQAAh\n",
       "EAAAAAAAAAAABBACAQAAAAAAAABAACEQAAAAAAAAAAAEEAIBAAAAAAAAAEAAIRAAAAAAAAAAAAQQ\n",
       "AgEAAAAAAAAAQAAhEAAAAAAAAAAABBACAQAAAAAAAABAACEQAAAAAAAAAAAEEAIBAAAAAAAAAEAA\n",
       "IRAAAAAAAAAAAAQQAgEAAAAAAAAAQAAhEAAAAAAAAAAABBACAQAAAAAAAABAACEQAAAAAAAAAAAE\n",
       "EAIBAAAAAAAAAEAAIRAAAAAAAAAAAAQQAgEAAAAAAAAAQAAhEAAAAAAAAAAABBACAQAAAAAAAABA\n",
       "ACEQAAAAAAAAAAAE2Gut8+tH/IvOqZtl71322ZDM72Ut+/KGO+ln8172rmPbfjbvZW+SuGfecCe9\n",
       "pu5d+e613MqTb20+9S7cxM3e/WzOG1PuZMo7P019N7zhvnnDXwQCAAAAAAAAAIAAQiAAAAAAAAAA\n",
       "AAggBAIAAAAAAAAAgABCIAAAAAAAAAAACCAEAgAAAAAAAACAAEIgAAAAAAAAAAAIIAQCAAAAAAAA\n",
       "AIAAQiAAAAAAAAAAAAggBAIAAAAAAAAAgABCIAAAAAAAAAAACCAEAgAAAAAAAACAAEIgAAAAAAAA\n",
       "AAAIIAQCAAAAAAAAAIAAQiAAAAAAAAAAAAggBAIAAAAAAAAAgABCIAAAAAAAAAAACCAEAgAAAAAA\n",
       "AACAAEIgAAAAAAAAAAAIIAQCAAAAAAAAAIAAQiAAAAAAAAAAAAggBAIAAAAAAAAAgABCIAAAAAAA\n",
       "AAAACLDXWqfyHzin7uP33mWfPdXUvb375t057F1r6r5T3z2VvfvZvNe39rbtrfKW17L5E98fvabu\n",
       "7d039z1336nvnsrevOVW+OQm+tm819S9p74bnky9Z++++f64Td176rv9RSAAAAAAAAAAAAggBAIA\n",
       "AAAAAAAAgABCIAAAAAAAAAAACCAEAgAAAAAAAACAAEIgAAAAAAAAAAAIIAQCAAAAAAAAAIAAQiAA\n",
       "AAAAAAAAAAggBAIAAAAAAAAAgABCIAAAAAAAAAAACCAEAgAAAAAAAACAAEIgAAAAAAAAAAAIIAQC\n",
       "AAAAAAAAAIAAQiAAAAAAAAAAAAggBAIAAAAAAAAAgABCIAAAAAAAAAAACCAEAgAAAAAAAACAAEIg\n",
       "AAAAAAAAAAAIIAQCAAAAAAAAAIAAQiAAAAAAAAAAAAggBAIAAAAAAAAAgABCIAAAAAAAAAAACCAE\n",
       "AgAAAAAAAACAAHutdX79iH/ROXWz7L3LPhuS+b2sZV/ecCf9bN7L3nVs28/mvexNEvfMG+6k19S9\n",
       "K9+9llt58q3Np96Fm7jZu5/NeWPKnUx556ep74Y33Pdt6iaV7/YXgQAAAAAAAAAAIIAQCAAAAAAA\n",
       "AAAAAgiBAAAAAAAAAAAggBAIAAAAAAAAAAACCIEAAAAAAAAAACCAEAgAAAAAAAAAAAIIgQAAAAAA\n",
       "AAAAIIAQCAAAAAAAAAAAAgiBAAAAAAAAAAAggBAIAAAAAAAAAAACCIEAAAAAAAAAACCAEAgAAAAA\n",
       "AAAAAAIIgQAAAAAAAAAAIIAQCAAAAAAAAAAAAgiBAAAAAAAAAAAggBAIAAAAAAAAAAACCIEAAAAA\n",
       "AAAAACCAEAgAAAAAAAAAAAIIgQAAAAAAAAAAIIAQCAAAAAAAAAAAAgiBAAAAAAAAAAAggBAIAAAA\n",
       "AAAAAAAC7LXWqfwHzqn7+L132WdPNXVv7755dw5715q679R3T2Xvfjbv9a29bXurvOW1bP7E90ev\n",
       "qXt79819z9136runsjdvuRU+uYl+Nu81de+p74YnU+/Zu29Tvz9sksNfBAIAAAAAAAAAgABCIAAA\n",
       "AAAAAAAACCAEAgAAAAAAAACAAEIgAAAAAAAAAAAIIAQCAAAAAAAAAIAAQiAAAAAAAAAAAAggBAIA\n",
       "AAAAAAAAgABCIAAAAAAAAAAACCAEAgAAAAAAAACAAEIgAAAAAAAAAAAIIAQCAAAAAAAAAIAAQiAA\n",
       "AAAAAAAAAAggBAIAAAAAAAAAgABCIAAAAAAAAAAACCAEAgAAAAAAAACAAEIgAAAAAAAAAAAIIAQC\n",
       "AAAAAAAAAIAAQiAAAAAAAAAAAAggBAIAAAAAAAAAgAD7nHNK/4G9Kz++TOUsUzeBX/N7Wcu+vOFO\n",
       "+tm8l73r2LafzXvZmyTumTfcSa+pexf/r2e38uBbm0+9Czdxs3c/m/PGlDuZ8s5PU98N/Humfp/4\n",
       "i0AAAAAAAAAAABBACAQAAAAAAAAAAAGEQAAAAAAAAAAAEEAIBAAAAAAAAAAAAYRAAAAAAAAAAAAQ\n",
       "QAgEAAAAAAAAAAABhEAAAAAAAAAAABBACAQAAAAAAAAAAAGEQAAAAAAAAAAAEEAIBAAAAAAAAAAA\n",
       "AYRAAAAAAAAAAAAQQAgEAAAAAAAAAAABhEAAAAAAAAAAABBACAQAAAAAAAAAAAGEQAAAAAAAAAAA\n",
       "EEAIBAAAAAAAAAAAAYRAAAAAAAAAAAAQQAgEAAAAAAAAAAABhEAAAAAAAAAAABBACAQAAAAAAAAA\n",
       "AAGEQAAAAAAAAAAAEEAIBAAAAAAAAAAAAYRAAAAAAAAAAAAQYK+1zq8f8bfOqXv63rvssytN3cS7\n",
       "b96dw961pu479d1T2bufzXt9a2/b3ipveS2bP/H90Wvq3t59c99z95367qnszVtuhU9uop/Ne03d\n",
       "e+q74cnUe5767ko2udmkl78IBAAAAAAAAAAAAYRAAAAAAAAAAAAQQAgEAAAAAAAAAAABhEAAAAAA\n",
       "AAAAABBACAQAAAAAAAAAAAGEQAAAAAAAAAAAEEAIBAAAAAAAAAAAAYRAAAAAAAAAAAAQQAgEAAAA\n",
       "AAAAAAABhEAAAAAAAAAAABBACAQAAAAAAAAAAAGEQAAAAAAAAAAAEEAIBAAAAAAAAAAAAYRAAAAA\n",
       "AAAAAAAQQAgEAAAAAAAAAAABhEAAAAAAAAAAABBACAQAAAAAAAAAAAGEQAAAAAAAAAAAEEAIBAAA\n",
       "AAAAAAAAAYRAAAAAAAAAAAAQQAgEAAAAAAAAAAABhEAAAAAAAAAAABBgn3NO6T+wd+XHA/8hlV9X\n",
       "vqvsyzvupJ/Ne9m7jm372byXvUninnnDnfSaunfx/3p2Kw++tfnUu3ATN3v3szlvTLmTKe/8NPXd\n",
       "3PwsbzbpNXVvfxEIAAAAAAAAAAACCIEAAAAAAAAAACCAEAgAAAAAAAAAAAIIgQAAAAAAAAAAIIAQ\n",
       "CAAAAAAAAAAAAgiBAAAAAAAAAAAggBAIAAAAAAAAAAACCIEAAAAAAAAAACCAEAgAAAAAAAAAAAII\n",
       "gQAAAAAAAAAAIIAQCAAAAAAAAAAAAgiBAAAAAAAAAAAggBAIAAAAAAAAAAACCIEAAAAAAAAAACCA\n",
       "EAgAAAAAAAAAAAIIgQAAAAAAAAAAIIAQCAAAAAAAAAAAAgiBAAAAAAAAAAAggBAIAAAAAAAAAAAC\n",
       "CIEAAAAAAAAAACCAEAgAAAAAAAAAAAIIgQAAAAAAAAAAIMBea51fP+JvnVP39L132Wd7963y3ZWm\n",
       "bjL13VPZu9bUfae+eyp797N5r2/tbdtb5S2vZfMnvj96Td3bu2/ue+6+U989lb15y63wyU30s3mv\n",
       "qXtPfTc8cc+97N3L3r38RSAAAAAAAAAAAAggBAIAAAAAAAAAgABCIAAAAAAAAAAACCAEAgAAAAAA\n",
       "AACAAEIgAAAAAAAAAAAIIAQCAAAAAAAAAIAAQiAAAAAAAAAAAAggBAIAAAAAAAAAgABCIAAAAAAA\n",
       "AAAACCAEAgAAAAAAAACAAEIgAAAAAAAAAAAIIAQCAAAAAAAAAIAAQiAAAAAAAAAAAAggBAIAAAAA\n",
       "AAAAgABCIAAAAAAAAAAACCAEAgAAAAAAAACAAEIgAAAAAAAAAAAIIAQCAAAAAAAAAIAAQiAAAAAA\n",
       "AAAAAAiwzzmn9B/Yu/Lj4Y8qT9x99/KzrGVf3nAn/Wzey951bNvP5r3sTRL3zBvupNfUvYv/17Nb\n",
       "efCtzafehZu42bufzXljyp1Meeenqe+uZJMcfpa9pu7tLwIBAAAAAAAAAEAAIRAAAAAAAAAAAAQQ\n",
       "AgEAAAAAAAAAQAAhEAAAAAAAAAAABBACAQAAAAAAAABAACEQAAAAAAAAAAAEEAIBAAAAAAAAAEAA\n",
       "IRAAAAAAAAAAAAQQAgEAAAAAAAAAQAAhEAAAAAAAAAAABBACAQAAAAAAAABAACEQAAAAAAAAAAAE\n",
       "EAIBAAAAAAAAAEAAIRAAAAAAAAAAAAQQAgEAAAAAAAAAQAAhEAAAAAAAAAAABBACAQAAAAAAAABA\n",
       "ACEQAAAAAAAAAAAEEAIBAAAAAAAAAEAAIRAAAAAAAAAAAAQQAgEAAAAAAAAAQAAhEAAAAAAAAAAA\n",
       "BNhrrfPrR/ytc+qevvcu+2zvvlW+m5ufZS9715q679R3T2Xvfjbv9a29bXurvOW1bP7E90evqXt7\n",
       "9819z9136runsjdvuRU+uYl+Nu81de+p72YuN3ebusnUd09l717+IhAAAAAAAAAAAAQQAgEAAAAA\n",
       "AAAAQAAhEAAAAAAAAAAABBACAQAAAAAAAABAACEQAAAAAAAAAAAEEAIBAAAAAAAAAEAAIRAAAAAA\n",
       "AAAAAAQQAgEAAAAAAAAAQAAhEAAAAAAAAAAABBACAQAAAAAAAABAACEQAAAAAAAAAAAEEAIBAAAA\n",
       "AAAAAEAAIRAAAAAAAAAAAAQQAgEAAAAAAAAAQAAhEAAAAAAAAAAABBACAQAAAAAAAABAACEQAAAA\n",
       "AAAAAAAEEAIBAAAAAAAAAEAAIRAAAAAAAAAAAAQQAgEAAAAAAAAAQAAhEAAAAAAAAAAABBACAQAA\n",
       "AAAAAABAACEQAAAAAAAAAAAE2OecU/oP7F358fBHlSdeed9T313JJrXsyxvupJ/Ne9m7jm372byX\n",
       "vUninnnDnfSaunfx/3p2Kw++tfnUu3ATN3v3szlvTLmTKe+E/xK/l72m7u0vAgEAAAAAAAAAQAAh\n",
       "EAAAAAAAAAAABBACAQAAAAAAAABAACEQAAAAAAAAAAAEEAIBAAAAAAAAAEAAIRAAAAAAAAAAAAQQ\n",
       "AgEAAAAAAAAAQAAhEAAAAAAAAAAABBACAQAAAAAAAABAACEQAAAAAAAAAAAEEAIBAAAAAAAAAEAA\n",
       "IRAAAAAAAAAAAAQQAgEAAAAAAAAAQAAhEAAAAAAAAAAABBACAQAAAAAAAABAACEQAAAAAAAAAAAE\n",
       "EAIBAAAAAAAAAEAAIRAAAAAAAAAAAAQQAgEAAAAAAAAAQAAhEAAAAAAAAAAABBACAQAAAAAAAABA\n",
       "ACEQAAAAAAAAAAAE2Gut8+tH/K1z6p6+9y77bO++Vb4bfs3vTq2p+05991T27mfzXt/a27a3ylte\n",
       "y+ZPfH/0mrq3d9/c99x9p757Knvzllvhk5voZ/NeU/ee+m787J5M3cS7b1NvsJK9e/mLQAAAAAAA\n",
       "AAAAEEAIBAAAAAAAAAAAAYRAAAAAAAAAAAAQQAgEAAAAAAAAAAABhEAAAAAAAAAAABBACAQAAAAA\n",
       "AAAAAAGEQAAAAAAAAAAAEEAIBAAAAAAAAAAAAYRAAAAAAAAAAAAQQAgEAAAAAAAAAAABhEAAAAAA\n",
       "AAAAABBACAQAAAAAAAAAAAGEQAAAAAAAAAAAEEAIBAAAAAAAAAAAAYRAAAAAAAAAAAAQQAgEAAAA\n",
       "AAAAAAABhEAAAAAAAAAAABBACAQAAAAAAAAAAAGEQAAAAAAAAAAAEEAIBAAAAAAAAAAAAYRAAAAA\n",
       "AAAAAAAQQAgEAAAAAAAAAAAB9jnnlP4De1d+PPxR5YlX3rd337y7lg14w530s3kve9exbT+b97I3\n",
       "Sdwzb7iTXlP3Lv5fz27lwbc2n3oXbuJm7342zzH1Z/nNd0+9uak/O3jDffeaure/CAQAAAAAAAAA\n",
       "AAGEQAAAAAAAAAAAEEAIBAAAAAAAAAAAAYRAAAAAAAAAAAAQQAgEAAAAAAAAAAABhEAAAAAAAAAA\n",
       "ABBACAQAAAAAAAAAAAGEQAAAAAAAAAAAEEAIBAAAAAAAAAAAAYRAAAAAAAAAAAAQQAgEAAAAAAAA\n",
       "AAABhEAAAAAAAAAAABBACAQAAAAAAAAAAAGEQAAAAAAAAAAAEEAIBAAAAAAAAAAAAYRAAAAAAAAA\n",
       "AAAQQAgEAAAAAAAAAAABhEAAAAAAAAAAABBACAQAAAAAAAAAAAH2Wuv8+hF/65y6p++9yz7bu2+V\n",
       "74Zk3/y9nPp7OPW7aeq7p7J3P5v3+tbetr1V3vJaNn/i+6PX1L29++a+5+479d1T2Zu33Aqf3EQ/\n",
       "m+fws4R3pv6uePfNd9PN3r38RSAAAAAAAAAAAAggBAIAAAAAAAAAgABCIAAAAAAAAAAACCAEAgAA\n",
       "AAAAAACAAEIgAAAAAAAAAAAIIAQCAAAAAAAAAIAAQiAAAAAAAAAAAAggBAIAAAAAAAAAgABCIAAA\n",
       "AAAAAADg/+zcUW7jypJAQXL/i+Z8j0uAiYaq/PLciAVI2amkgDYOBAQIgQAAAAAAAAAAIEAIBAAA\n",
       "AAAAAAAAAUIgAAAAAAAAAAAIEAIBAAAAAAAAAECAEAgAAAAAAAAAAAKEQAAAAAAAAAAAECAEAgAA\n",
       "AAAAAACAACEQAAAAAAAAAAAECIEAAAAAAAAAACBACAQAAAAAAAAAAAFCIAAAAAAAAAAACBACAQAA\n",
       "AAAAAABAgBAIAAAAAAAAAAAC7ud5nq1vcN87Xx5+tfPEd963uVfmnst+O3yW59n5Wfa9j92eZ+dn\n",
       "2Tcl7pk33MlZU/e9+U/PbuWDb+186l24iZV9t/g8O6Z8llPm/Gnq3PCG+z5r6r79IhAAAAAAAAAA\n",
       "AAQIgQAAAAAAAAAAIEAIBAAAAAAAAAAAAUIgAAAAAAAAAAAIEAIBAAAAAAAAAECAEAgAAAAAAAAA\n",
       "AAKEQAAAAAAAAAAAECAEAgAAAAAAAACAACEQAAAAAAAAAAAECIEAAAAAAAAAACBACAQAAAAAAAAA\n",
       "AAFCIAAAAAAAAAAACBACAQAAAAAAAABAgBAIAAAAAAAAAAAChEAAAAAAAAAAABAgBAIAAAAAAAAA\n",
       "gAAhEAAAAAAAAAAABAiBAAAAAAAAAAAgQAgEAAAAAAAAAAABQiAAAAAAAAAAAAgQAgEAAAAAAAAA\n",
       "QIAQCAAAAAAAAAAAAoRAAAAAAAAAAAAQcF/X9fz1EP/qefaNft/3ttc292rn3FD2zefSc7jyvdfh\n",
       "szzPzs/61r7tdrXzlq/Lzj/x/XHW1H2be+W+5+536txT2TdvuRV+chMtPs/V1J1MnRs+mXrP5l75\n",
       "/ljZ91l+EQgAAAAAAAAAAAKEQAAAAAAAAAAAECAEAgAAAAAAAACAACEQAAAAAAAAAAAECIEAAAAA\n",
       "AAAAACBACAQAAAAAAAAAAAFCIAAAAAAAAAAACBACAQAAAAAAAABAgBAIAAAAAAAAAAAChEAAAAAA\n",
       "AAAAABAgBAIAAAAAAAAAgAAhEAAAAAAAAAAABAiBAAAAAAAAAAAgQAgEAAAAAAAAAAABQiAAAAAA\n",
       "AAAAAAgQAgEAAAAAAAAAQIAQCAAAAAAAAAAAAoRAAAAAAAAAAAAQIAQCAAAAAAAAAIAAIRAAAAAA\n",
       "AAAAAAQIgQAAAAAAAAAAIEAIBAAAAAAAAAAAAffzPM/WN7jvnS8Pv9p54jvv29wrc89lv2fZd4vP\n",
       "8yz73sduz7Pzs+ybEvfMG+7krKn73vynZ7fywbd2PvUu3MRZnvHP3DhvTLmTKXP+NHVueMN9nzV1\n",
       "334RCAAAAAAAAAAAAoRAAAAAAAAAAAAQIAQCAAAAAAAAAIAAIRAAAAAAAAAAAAQIgQAAAAAAAAAA\n",
       "IEAIBAAAAAAAAAAAAUIgAAAAAAAAAAAIEAIBAAAAAAAAAECAEAgAAAAAAAAAAAKEQAAAAAAAAAAA\n",
       "ECAEAgAAAAAAAACAACEQAAAAAAAAAAAECIEAAAAAAAAAACBACAQAAAAAAAAAAAFCIAAAAAAAAAAA\n",
       "CBACAQAAAAAAAABAgBAIAAAAAAAAAAAChEAAAAAAAAAAABAgBAIAAAAAAAAAgAAhEAAAAAAAAAAA\n",
       "BAiBAAAAAAAAAAAgQAgEAAAAAAAAAAAB93Vdz18P8a+eZ9/o931ve21zr3bODWXffC49hyvfe2dN\n",
       "3ffOua9r7q1M/Tyn+ta+7XblGT/P98dZU/dt7pX7nrvfqXNPZd+85VY4yb19Zi9nTd331Lnhk6n3\n",
       "bO6V74+VfZ/lF4EAAAAAAAAAACBACAQAAAAAAAAAAAFCIAAAAAAAAAAACBACAQAAAAAAAABAgBAI\n",
       "AAAAAAAAAAAChEAAAAAAAAAAABAgBAIAAAAAAAAAgAAhEAAAAAAAAAAABAiBAAAAAAAAAAAgQAgE\n",
       "AAAAAAAAAAABQiAAAAAAAAAAAAgQAgEAAAAAAAAAQIAQCAAAAAAAAAAAAoRAAAAAAAAAAAAQIAQC\n",
       "AAAAAAAAAIAAIRAAAAAAAAAAAAQIgQAAAAAAAAAAIEAIBAAAAAAAAAAAAUIgAAAAAAAAAAAIuJ/n\n",
       "eba+wX3vfHn41c4T33nf5l6Zey77Pcu+eSNl5JEAACAASURBVMutrOxkH7s9z87Psm9K3DNvuJOz\n",
       "pu5785+e3coH39r51N1OfVZ2spPz7Jw3ptzJlDl/mjo3vOG+z5q6b78IBAAAAAAAAAAAAUIgAAAA\n",
       "AAAAAAAIEAIBAAAAAAAAAECAEAgAAAAAAAAAAAKEQAAAAAAAAAAAECAEAgAAAAAAAACAACEQAAAA\n",
       "AAAAAAAECIEAAAAAAAAAACBACAQAAAAAAAAAAAFCIAAAAAAAAAAACBACAQAAAAAAAABAgBAIAAAA\n",
       "AAAAAAAChEAAAAAAAAAAABAgBAIAAAAAAAAAgAAhEAAAAAAAAAAABAiBAAAAAAAAAAAgQAgEAAAA\n",
       "AAAAAAABQiAAAAAAAAAAAAgQAgEAAAAAAAAAQIAQCAAAAAAAAAAAAoRAAAAAAAAAAAAQIAQCAAAA\n",
       "AAAAAICA+7qu56+H+FfPs2/0+763vba5VzvnhrJvPpeew5XvvbOm7nvn3NflVj6Zeis7fWsnU//9\n",
       "O3nGz/OMnzV13+Zeue+5+50691T2zVv/9Vv5r//7P7GT8+z8rKn7njo3fDL1ns298v2xsu+z/CIQ\n",
       "AAAAAAAAAAAECIEAAAAAAAAAACBACAQAAAAAAAAAAAFCIAAAAAAAAAAACBACAQAAAAAAAABAgBAI\n",
       "AAAAAAAAAAAChEAAAAAAAAAAABAgBAIAAAAAAAAAgAAhEAAAAAAAAAAABAiBAAAAAAAAAAAgQAgE\n",
       "AAAAAAAAAAABQiAAAAAAAAAAAAgQAgEAAAAAAAAAQIAQCAAAAAAAAAAAAoRAAAAAAAAAAAAQIAQC\n",
       "AAAAAAAAAIAAIRAAAAAAAAAAAAQIgQAAAAAAAAAAIEAIBAAAAAAAAAAAAUIgAAAAAAAAAAAIEAIB\n",
       "AAAAAAAAAECAEAgAAAAAAAAAAAKEQAAAAAAAAAAAEHA/z/NsfYP73vny8KudJ77zvs29Mvdc9nuW\n",
       "ffOWWznrv77v//q//y/Y+Vn2TYl75g13ctbUfW/+07NbGWrqPU9l3+fZOW9MuZMpc/40dW54w32f\n",
       "NXXffhEIAAAAAAAAAAAChEAAAAAAAAAAABAgBAIAAAAAAAAAgAAhEAAAAAAAAAAABAiBAAAAAAAA\n",
       "AAAgQAgEAAAAAAAAAAABQiAAAAAAAAAAAAgQAgEAAAAAAAAAQIAQCAAAAAAAAAAAAoRAAAAAAAAA\n",
       "AAAQIAQCAAAAAAAAAIAAIRAAAAAAAAAAAAQIgQAAAAAAAAAAIEAIBAAAAAAAAAAAAUIgAAAAAAAA\n",
       "AAAIEAIBAAAAAAAAAECAEAgAAAAAAAAAAAKEQAAAAAAAAAAAECAEAgAAAAAAAACAACEQAAAAAAAA\n",
       "AAAECIEAAAAAAAAAACBACAQAAAAAAAAAAAH3dV3PXw/xr55n3+j3fW97bXOvds4NZd98Lj2HK997\n",
       "Z03d9865r8utfDL1VpjJM36eZ/ysqfs298p9z93v1Lmnsu+WqZ/n1Ln/63xu59n5WVP3PXVu+GTq\n",
       "PZt75ftjZd9n+UUgAAAAAAAAAAAIEAIBAAAAAAAAAECAEAgAAAAAAAAAAAKEQAAAAAAAAAAAECAE\n",
       "AgAAAAAAAACAACEQAAAAAAAAAAAECIEAAAAAAAAAACBACAQAAAAAAAAAAAFCIAAAAAAAAAAACBAC\n",
       "AQAAAAAAAABAgBAIAAAAAAAAAAAChEAAAAAAAAAAABAgBAIAAAAAAAAAgAAhEAAAAAAAAAAABAiB\n",
       "AAAAAAAAAAAgQAgEAAAAAAAAAAABQiAAAAAAAAAAAAgQAgEAAAAAAAAAQIAQCAAAAAAAAAAAAu7n\n",
       "eZ6tb3DfO18efrXzxHfet7lX5p7Lfs+yb95yK2dN2PeEGT+ZOvdu9nKWfVPinnnDnaym7mTq3Hz2\n",
       "rc/TzXXY93l2zhtT7mTKnD9NnRvecN9nTd23XwQCAAAAAAAAAIAAIRAAAAAAAAAAAAQIgQAAAAAA\n",
       "AAAAIEAIBAAAAAAAAAAAAUIgAAAAAAAAAAAIEAIBAAAAAAAAAECAEAgAAAAAAAAAAAKEQAAAAAAA\n",
       "AAAAECAEAgAAAAAAAACAACEQAAAAAAAAAAAECIEAAAAAAAAAACBACAQAAAAAAAAAAAFCIAAAAAAA\n",
       "AAAACBACAQAAAAAAAABAgBAIAAAAAAAAAAAChEAAAAAAAAAAABAgBAIAAAAAAAAAgAAhEAAAAAAA\n",
       "AAAABAiBAAAAAAAAAAAgQAgEAAAAAAAAAAABQiAAAAAAAAAAAAgQAgEAAAAAAAAAQMB9Xdfz10P8\n",
       "q+fZN/p939te29yrnXND2TefS8/hyvfeWVP3vXPu63Irn0y9FeAdz/hZU/dt7pX7nrvfqXPvZCf8\n",
       "L3CH/OQmzrPzs6bue+rc8MnUezb3yvfHyr7P8otAAAAAAAAAAAAQIAQCAAAAAAAAAIAAIRAAAAAA\n",
       "AAAAAAQIgQAAAAAAAAAAIEAIBAAAAAAAAAAAAUIgAAAAAAAAAAAIEAIBAAAAAAAAAECAEAgAAAAA\n",
       "AAAAAAKEQAAAAAAAAAAAECAEAgAAAAAAAACAACEQAAAAAAAAAAAECIEAAAAAAAAAACBACAQAAAAA\n",
       "AAAAAAFCIAAAAAAAAAAACBACAQAAAAAAAABAgBAIAAAAAAAAAAAChEAAAAAAAAAAABAgBAIAAAAA\n",
       "AAAAgAAhEAAAAAAAAAAABAiBAAAAAAAAAAAgQAgEAAAAAAAAAAABQiAAAAAAAAAAAAi4n+d5tr7B\n",
       "fe98efjVzhPfed/mXpl7Lvs9y755y62cNWHfE2b8ZOrc1zV7dv4/nyUl7rnDZ9kx9bPc/Kdnd/jB\n",
       "t3Y+9S7cxMq+z7Nz3phyJ1Pm/Gnq3PCG+z5r6r79IhAAAAAAAAAAAAQIgQAAAAAAAAAAIEAIBAAA\n",
       "AAAAAAAAAUIgAAAAAAAAAAAIEAIBAAAAAAAAAECAEAgAAAAAAAAAAAKEQAAAAAAAAAAAECAEAgAA\n",
       "AAAAAACAACEQAAAAAAAAAAAECIEAAAAAAAAAACBACAQAAAAAAAAAAAFCIAAAAAAAAAAACBACAQAA\n",
       "AAAAAABAgBAIAAAAAAAAAAAChEAAAAAAAAAAABAgBAIAAAAAAAAAgAAhEAAAAAAAAAAABAiBAAAA\n",
       "AAAAAAAgQAgEAAAAAAAAAAABQiAAAAAAAAAAAAgQAgEAAAAAAAAAQIAQCAAAAAAAAAAAAoRAAAAA\n",
       "AAAAAAAQcF/X9fz1EP/qefaNft/3ttc292rn3FD2zefSc7jyvXfW1H3vnPu63MonU28FSjyHHVM/\n",
       "S3Ovpjw7U3cwdW5WPkveciv85CbOs/Ozpu576tzwydR7NvfK98fKvs/yi0AAAAAAAAAAABAgBAIA\n",
       "AAAAAAAAgAAhEAAAAAAAAAAABAiBAAAAAAAAAAAgQAgEAAAAAAAAAAABQiAAAAAAAAAAAAgQAgEA\n",
       "AAAAAAAAQIAQCAAAAAAAAAAAAoRAAAAAAAAAAAAQIAQCAAAAAAAAAIAAIRAAAAAAAAAAAAQIgQAA\n",
       "AAAAAAAAIEAIBAAAAAAAAAAAAUIgAAAAAAAAAAAIEAIBAAAAAAAAAECAEAgAAAAAAAAAAAKEQAAA\n",
       "AAAAAAAAECAEAgAAAAAAAACAACEQAAAAAAAAAAAECIEAAAAAAAAAACBACAQAAAAAAAAAAAFCIAAA\n",
       "AAAAAAAACLif53m2vsF973x5+NXOE9953+ZemXsu+z3LvnnLrZw1Yd8TZvxk6tzXNXv2ieybsm/e\n",
       "t3vmDd+pZ03d9+Y/PbuVD76186l34SZW9n2enfPGlDuZMudPU+eGN9z3WVP37ReBAAAAAAAAAAAg\n",
       "QAgEAAAAAAAAAAABQiAAAAAAAAAAAAgQAgEAAAAAAAAAQIAQCAAAAAAAAAAAAoRAAAAAAAAAAAAQ\n",
       "IAQCAAAAAAAAAIAAIRAAAAAAAAAAAAQIgQAAAAAAAAAAIEAIBAAAAAAAAAAAAUIgAAAAAAAAAAAI\n",
       "EAIBAAAAAAAAAECAEAgAAAAAAAAAAAKEQAAAAAAAAAAAECAEAgAAAAAAAACAACEQAAAAAAAAAAAE\n",
       "CIEAAAAAAAAAACBACAQAAAAAAAAAAAFCIAAAAAAAAAAACLiv63r+eoh/9Tz7Rr/ve9trm3u1c24o\n",
       "++Zz6Tlc+d47a+q+d859XW7lk6m3AiWew7Om7tvcK/e919TPburcU9k3b7kVfnIT59n5WVP3PXVu\n",
       "+GTqPZt75ftjZd9n+UUgAAAAAAAAAAAIEAIBAAAAAAAAAECAEAgAAAAAAAAAAAKEQAAAAAAAAAAA\n",
       "ECAEAgAAAAAAAACAACEQAAAAAAAAAAAECIEAAAAAAAAAACBACAQAAAAAAAAAAAFCIAAAAAAAAAAA\n",
       "CBACAQAAAAAAAABAgBAIAAAAAAAAAAAChEAAAAAAAAAAABAgBAIAAAAAAAAAgAAhEAAAAAAAAAAA\n",
       "BAiBAAAAAAAAAAAgQAgEAAAAAAAAAAABQiAAAAAAAAAAAAgQAgEAAAAAAAAAQIAQCAAAAAAAAAAA\n",
       "AoRAAAAAAAAAAAAQIAQCAAAAAAAAAIAAIRAAAAAAAAAAAATcz/M8W9/gvne+PPxq54nvvG9zr8w9\n",
       "l/2eZd+85VbOmrDvCTN+MnXu65o9+0T23eGz3Mt+ecOdnDV135v/9OxWPvjWzqfehZtY2fd5ds4b\n",
       "U+5kypw/TZ0b3nDfZ03dt18EAgAAAAAAAACAACEQAAAAAAAAAAAECIEAAAAAAAAAACBACAQAAAAA\n",
       "AAAAAAFCIAAAAAAAAAAACBACAQAAAAAAAABAgBAIAAAAAAAAAAAChEAAAAAAAAAAABAgBAIAAAAA\n",
       "AAAAgAAhEAAAAAAAAAAABAiBAAAAAAAAAAAgQAgEAAAAAAAAAAABQiAAAAAAAAAAAAgQAgEAAAAA\n",
       "AAAAQIAQCAAAAAAAAAAAAoRAAAAAAAAAAAAQIAQCAAAAAAAAAIAAIRAAAAAAAAAAAAQIgQAAAAAA\n",
       "AAAAIEAIBAAAAAAAAAAAAUIgAAAAAAAAAAAIEAIBAAAAAAAAAEDAfV3X89dD/Kvn2Tf6fd/bXtvc\n",
       "q51zQ9k3n0vP4cr33llT971z7utyK59MvRUo8RyeZd8dPsu9pu536txT2TdvuRV+chPn2flZU/c9\n",
       "dW74ZOo9m3vl+2Nl32f5RSAAAAAAAAAAAAgQAgEAAAAAAAAAQIAQCAAAAAAAAAAAAoRAAAAAAAAA\n",
       "AAAQIAQCAAAAAAAAAIAAIRAAAAAAAAAAAAQIgQAAAAAAAAAAIEAIBAAAAAAAAAAAAUIgAAAAAAAA\n",
       "AAAIEAIBAAAAAAAAAECAEAgAAAAAAAAAAAKEQAAAAAAAAAAAECAEAgAAAAAAAACAACEQAAAAAAAA\n",
       "AAAECIEAAAAAAAAAACBACAQAAAAAAAAAAAFCIAAAAAAAAAAACBACAQAAAAAAAABAgBAIAAAAAAAA\n",
       "AAAChEAAAAAAAAAAABAgBAIAAAAAAAAAgAAhEAAAAAAAAAAABAiBAAAAAAAAAAAg4H6e59n6Bve9\n",
       "8+XhVztPfOd9m3tl7rns9yz75i23ctaEfU+Y8ZOpc1/X7Nknsu+VnazsxA54x52cNXXfm//07FY+\n",
       "+NbOp96Fm1jZ93l2zhtT7mTKnD9NnRvecN9nTd23XwQCAAAAAAAAAIAAIRAAAAAAAAAAAAQIgQAA\n",
       "AAAAAAAAIEAIBAAAAAAAAAAAAUIgAAAAAAAAAAAIEAIBAAAAAAAAAECAEAgAAAAAAAAAAAKEQAAA\n",
       "AAAAAAAAECAEAgAAAAAAAACAACEQAAAAAAAAAAAECIEAAAAAAAAAACBACAQAAAAAAAAAAAFCIAAA\n",
       "AAAAAAAACBACAQAAAAAAAABAgBAIAAAAAAAAAAAChEAAAAAAAAAAABAgBAIAAAAAAAAAgAAhEAAA\n",
       "AAAAAAAABAiBAAAAAAAAAAAgQAgEAAAAAAAAAAABQiAAAAAAAAAAAAgQAgEAAAAAAAAAQMB9Xdfz\n",
       "10P8q+fZN/p939te29yrnXND2TefS8/hyvfeWVP3vXPu63Irn0y9FSjxHK7sZGUnZ/m/wdybmzr3\n",
       "VPbNW26Fn9zEeXZ+1tR9T50bPpl6z+Ze+f5Y2fdZfhEIAAAAAAAAAAAChEAAAAAAAAAAABAgBAIA\n",
       "AAAAAAAAgAAhEAAAAAAAAAAABAiBAAAAAAAAAAAgQAgEAAAAAAAAAAABQiAAAAAAAAAAAAgQAgEA\n",
       "AAAAAAAAQIAQCAAAAAAAAAAAAoRAAAAAAAAAAAAQIAQCAAAAAAAAAIAAIRAAAAAAAAAAAAQIgQAA\n",
       "AAAAAAAAIEAIBAAAAAAAAAAAAUIgAAAAAAAAAAAIEAIBAAAAAAAAAECAEAgAAAAAAAAAAAKEQAAA\n",
       "AAAAAAAAECAEAgAAAAAAAACAgPt5nmfrG9z3zpeHX+088Z33be6Vueey37Psm7fcylkT9j1hxk+m\n",
       "zn1ds2ffxU74a25wL/vt8FmeNXXfm//07FY++NbOp96Fm1jZ93l2zhtT7mTKnD9NnRvecN9nTd23\n",
       "XwQCAAAAAAAAAIAAIRAAAAAAAAAAAAQIgQAAAAAAAAAAIEAIBAAAAAAAAAAAAUIgAAAAAAAAAAAI\n",
       "EAIBAAAAAAAAAECAEAgAAAAAAAAAAAKEQAAAAAAAAAAAECAEAgAAAAAAAACAACEQAAAAAAAAAAAE\n",
       "CIEAAAAAAAAAACBACAQAAAAAAAAAAAFCIAAAAAAAAAAACBACAQAAAAAAAABAgBAIAAAAAAAAAAAC\n",
       "hEAAAAAAAAAAABAgBAIAAAAAAAAAgAAhEAAAAAAAAAAABAiBAAAAAAAAAAAgQAgEAAAAAADwf+3c\n",
       "UW4jORBEQfL+h+b+iw24YYj0ZG7EAeRCqVq7GjwIAAAKCIEAAAAAAAAAAKCAEAgAAAAAAAAAAArM\n",
       "Mcb66yF+a61zo885j722uXcn54Zm33wuPYc7n3t3pe775NxjuJUnqbcCt3lWeqS+l6lzp/LdIJdn\n",
       "5S775i23wic3cZ+d35W679S54UnqPZt75/NjZ993+UUgAAAAAAAAAAAoIAQCAAAAAAAAAIACQiAA\n",
       "AAAAAAAAACggBAIAAAAAAAAAgAJCIAAAAAAAAAAAKCAEAgAAAAAAAACAAkIgAAAAAAAAAAAoIAQC\n",
       "AAAAAAAAAIACQiAAAAAAAAAAACggBAIAAAAAAAAAgAJCIAAAAAAAAAAAKCAEAgAAAAAAAACAAkIg\n",
       "AAAAAAAAAAAoIAQCAAAAAAAAAIACQiAAAAAAAAAAACggBAIAAAAAAAAAgAJCIAAAAAAAAAAAKCAE\n",
       "AgAAAAAAAACAAkIgAAAAAAAAAAAoIAQCAAAAAAAAAIACQiAAAAAAAAAAACggBAIAAAAAAAAAgAJz\n",
       "rbWO/oE5T748/OjkiZ+8b3PvzJ3Lfu+yb95yK3cl7DthxtsOf12K3UsqN84b7uSs1P2mzn2SndyV\n",
       "um//L3Xft3aeehduYmff99k5b6TcScqcn1Lnhjfc912p+/aLQAAAAAAAAAAAUEAIBAAAAAAAAAAA\n",
       "BYRAAAAAAAAAAABQQAgEAAAAAAAAAAAFhEAAAAAAAAAAAFBACAQAAAAAAAAAAAWEQAAAAAAAAAAA\n",
       "UEAIBAAAAAAAAAAABYRAAAAAAAAAAABQQAgEAAAAAAAAAAAFhEAAAAAAAAAAAFBACAQAAAAAAAAA\n",
       "AAWEQAAAAAAAAAAAUEAIBAAAAAAAAAAABYRAAAAAAAAAAABQQAgEAAAAAAAAAAAFhEAAAAAAAAAA\n",
       "AFBACAQAAAAAAAAAAAWEQAAAAAAAAAAAUEAIBAAAAAAAAAAABYRAAAAAAAAAAABQQAgEAAAAAAAA\n",
       "AAAFhEAAAAAAAAAAAFBgjjHWXw/xW2udG33Oeey1zb07OTc0++Zz6Tnc+dy7K3XfJ+cew608Sb2V\n",
       "/zvvWxfv512p+06dO5XvBjzxHO7shLfcCp/cxH12flfqvlPnhiep92zunc+PnX3f5ReBAAAAAAAA\n",
       "AACggBAIAAAAAAAAAAAKCIEAAAAAAAAAAKCAEAgAAAAAAAAAAAoIgQAAAAAAAAAAoIAQCAAAAAAA\n",
       "AAAACgiBAAAAAAAAAACggBAIAAAAAAAAAAAKCIEAAAAAAAAAAKCAEAgAAAAAAAAAAAoIgQAAAAAA\n",
       "AAAAoIAQCAAAAAAAAAAACgiBAAAAAAAAAACggBAIAAAAAAAAAAAKCIEAAAAAAAAAAKCAEAgAAAAA\n",
       "AAAAAAoIgQAAAAAAAAAAoIAQCAAAAAAAAAAACgiBAAAAAAAAAACgwFxrraN/YM6TLw8/OnniJ+/b\n",
       "3Dtz57Lfu+ybt9xKj2+9l6nvW/ItJ8+eyL55w52clbrf1LlT2fcudSeH/+k59v08KeG7Qeo9p7Lv\n",
       "++ycN1LuJGXOT6lzwxvu+67UfftFIAAAAAAAAAAAKCAEAgAAAAAAAACAAkIgAAAAAAAAAAAoIAQC\n",
       "AAAAAAAAAIACQiAAAAAAAAAAACggBAIAAAAAAAAAgAJCIAAAAAAAAAAAKCAEAgAAAAAAAACAAkIg\n",
       "AAAAAAAAAAAoIAQCAAAAAAAAAIACQiAAAAAAAAAAACggBAIAAAAAAAAAgAJCIAAAAAAAAAAAKCAE\n",
       "AgAAAAAAAACAAkIgAAAAAAAAAAAoIAQCAAAAAAAAAIACQiAAAAAAAAAAACggBAIAAAAAAAAAgAJC\n",
       "IAAAAAAAAAAAKCAEAgAAAAAAAACAAkIgAAAAAAAAAAAoIAQCAAAAAAAAAIACc4yx/nqI31rr3Ohz\n",
       "zmOvbe7dybmh2TefS8/hzufeXan7Pjn3GG7lttQ7hNs8K3el7jt17lS+G/DEc3iXfXfxfvLJTdxn\n",
       "53el7jt1bniSes/m3vn82Nn3XX4RCAAAAAAAAAAACgiBAAAAAAAAAACggBAIAAAAAAAAAAAKCIEA\n",
       "AAAAAAAAAKCAEAgAAAAAAAAAAAoIgQAAAAAAAAAAoIAQCAAAAAAAAAAACgiBAAAAAAAAAACggBAI\n",
       "AAAAAAAAAAAKCIEAAAAAAAAAAKCAEAgAAAAAAAAAAAoIgQAAAAAAAAAAoIAQCAAAAAAAAAAACgiB\n",
       "AAAAAAAAAACggBAIAAAAAAAAAAAKCIEAAAAAAAAAAKCAEAgAAAAAAAAAAAoIgQAAAAAAAAAAoIAQ\n",
       "CAAAAAAAAAAACgiBAAAAAAAAAACggBAIAAAAAAAAAAAKCIEAAAAAAAAAAKDAXGuto39gzpMvDz86\n",
       "eeIn79vcO3Pnst+77Jt/gTvcJewkYcYnqXOPkT17IvvmDXdyVup+U+dOZd89Dv/Ts/fzwbd27jO1\n",
       "h33fZ+e8kXInKXN+Sp0b3nDfd6Xu2y8CAQAAAAAAAABAASEQAAAAAAAAAAAUEAIBAAAAAAAAAEAB\n",
       "IRAAAAAAAAAAABQQAgEAAAAAAAAAQAEhEAAAAAAAAAAAFBACAQAAAAAAAABAASEQAAAAAAAAAAAU\n",
       "EAIBAAAAAAAAAEABIRAAAAAAAAAAABQQAgEAAAAAAAAAQAEhEAAAAAAAAAAAFBACAQAAAAAAAABA\n",
       "ASEQAAAAAAAAAAAUEAIBAAAAAAAAAEABIRAAAAAAAAAAABQQAgEAAAAAAAAAQAEhEAAAAAAAAAAA\n",
       "FBACAQAAAAAAAABAASEQAAAAAAAAAAAUEAIBAAAAAAAAAEABIRAAAAAAAAAAABSYY4z110P81lrn\n",
       "Rp9zHnttc+9Ozg3Nvvlceg53Pvfusu9n9rKzE/h7nsO7UvedOncq3w144jm8K3XfqXOfZi98chP3\n",
       "2fldqftOnRuepN6zuXc+P3b2fZdfBAIAAAAAAAAAgAJCIAAAAAAAAAAAKCAEAgAAAAAAAACAAkIg\n",
       "AAAAAAAAAAAoIAQCAAAAAAAAAIACQiAAAAAAAAAAACggBAIAAAAAAAAAgAJCIAAAAAAAAAAAKCAE\n",
       "AgAAAAAAAACAAkIgAAAAAAAAAAAoIAQCAAAAAAAAAIACQiAAAAAAAAAAACggBAIAAAAAAAAAgAJC\n",
       "IAAAAAAAAAAAKCAEAgAAAAAAAACAAkIgAAAAAAAAAAAoIAQCAAAAAAAAAIACQiAAAAAAAAAAACgg\n",
       "BAIAAAAAAAAAgAJCIAAAAAAAAAAAKCAEAgAAAAAAAACAAkIgAAAAAAAAAAAoIAQCAAAAAAAAAIAC\n",
       "c621jv6BOU++PPzo5ImfvG9z78ydy37vsu+dnTyzl7sS9p0w45PUucfInj2RffOGOzkrdb+pc6ey\n",
       "b95yK7tv7cRnag/7vs/OeSPlTlLm/JQ6N7zhvu9K3bdfBAIAAAAAAAAAgAJCIAAAAAAAAAAAKCAE\n",
       "AgAAAAAAAACAAkIgAAAAAAAAAAAoIAQCAAAAAAAAAIACQiAAAAAAAAAAACggBAIAAAAAAAAAgAJC\n",
       "IAAAAAAAAAAAKCAEAgAAAAAAAACAAkIgAAAAAAAAAAAoIAQCAAAAAAAAAIACQiAAAAAAAAAAACgg\n",
       "BAIAAAAAAAAAgAJCIAAAAAAAAAAAKCAEAgAAAAAAAACAAkIgAAAAAAAAAAAoIAQCAAAAAAAAAIAC\n",
       "QiAAAAAAAAAAACggBAIAAAAAAAAAgAJzjLH+eojfWuvc6HPOY69t7t3JuaHZN59Lz+HO597OTnYn\n",
       "dzJG7l5Ocofw9zyHd6XuO3XuVL4b8MRzeFfqvlPnhts8K/fZ+V2p+06dG56k3rO5dz4/dvZ9l18E\n",
       "AgAAAAAAAACAAkIgAAAAAAAAAAAoIAQCAAAAAAAAAIACQiAAAAAAAAAAACggBAIAAAAAAAAAgAJC\n",
       "IAAAAAAAAAAAKCAEAgAAAAAAAACAAkIgAAAAAAAAAAAoIAQCAAAAAAAAAIACQiAAAAAAAAAAACgg\n",
       "BAIAAAAAAAAAgAJCIAAAAAAAAAAAKCAEAgAAAAAAAACAAkIgAAAAAAAAAAAoIAQCAAAAAAAAAIAC\n",
       "QiAAAAAAAAAAACggBAIAAAAAAAAAgAJCIAAAAAAAAAAAKCAEAgAAAAAAAACAAkIgAAAAAAAAAAAo\n",
       "IAQCAAAAAAAAAIACQiAAAAAAAAAAACgw11rr6B+Y8+TLw49OnvjJ+zb3zty57HdnJ/wL3OFdCftO\n",
       "mPFJ6txjZM+eyL55w52clbrf1LlTHx2SiwAAA85JREFU2Tdvpd5KwtwJM/KO9/I+O+eNlDtJmfNT\n",
       "6tzwhvu+K3XffhEIAAAAAAAAAAAKCIEAAAAAAAAAAKCAEAgAAAAAAAAAAAoIgQAAAAAAAAAAoIAQ\n",
       "CAAAAAAAAAAACgiBAAAAAAAAAACggBAIAAAAAAAAAAAKCIEAAAAAAAAAAKCAEAgAAAAAAAAAAAoI\n",
       "gQAAAAAAAAAAoIAQCAAAAAAAAAAACgiBAAAAAAAAAACggBAIAAAAAAAAAAAKCIEAAAAAAAAAAKCA\n",
       "EAgAAAAAAAAAAAoIgQAAAAAAAAAAoIAQCAAAAAAAAAAACgiBAAAAAAAAAACggBAIAAAAAAAAAAAK\n",
       "CIEAAAAAAAAAAKCAEAgAAAAAAAAAAAoIgQAAAAAAAAAAoMAcY6y/HuK31jo3+pzz2Gube3dybmj2\n",
       "zefSc8hfS/3vzMm5x/BsPkm9FWjiObwrdd+pc6fy3YAnnsO7UvedOjc8cc9dvJ93pe47dW54knrP\n",
       "5t75/NjZ911+EQgAAAAAAAAAAAoIgQAAAAAAAAAAoIAQCAAAAAAAAAAACgiBAAAAAAAAAACggBAI\n",
       "AAAAAAAAAAAKCIEAAAAAAAAAAKCAEAgAAAAAAAAAAAoIgQAAAAAAAAAAoIAQCAAAAAAAAAAACgiB\n",
       "AAAAAAAAAACggBAIAAAAAAAAAAAKCIEAAAAAAAAAAKCAEAgAAAAAAAAAAAoIgQAAAAAAAAAAoIAQ\n",
       "CAAAAAAAAAAACgiBAAAAAAAAAACggBAIAAAAAAAAAAAKCIEAAAAAAAAAAKCAEAgAAAAAAAAAAAoI\n",
       "gQAAAAAAAAAAoIAQCAAAAAAAAAAACgiBAAAAAAAAAACgwFxrraN/YM6TLw8/OnniJ+/b3Dtz88R7\n",
       "t7MT3nIrdyXsO2HGJ6lzj5E9eyL75g13clbqflPnTmXfvJV6KwlzJ8zYxL67eD95I+VOUub8lDo3\n",
       "vOG+70rdt18EAgAAAAAAAACAAkIgAAAAAAAAAAAoIAQCAAAAAAAAAIACQiAAAAAAAAAAACggBAIA\n",
       "AAAAAAAAgAJCIAAAAAAAAAAAKCAEAgAAAAAAAACAAkIgAAAAAAAAAAAoIAQCAAAAAAAAAIACQiAA\n",
       "AAAAAAAAACggBAIAAAAAAAAAgAJCIAAAAAAAAAAAKCAEAgAAAAAAAACAAkIgAAAAAAAAAAAoIAQC\n",
       "AAAAAAAAAIACQiAAAAAAAAAAACggBAIAAAAAAAAAgAJCIAAAAAAAAAAAKCAEAgAAAAAAAACAAkIg\n",
       "AAAAAAAAAAAoIAQCAAAAAAAAAIACQiAAAAAAAAAAACjwH7mwUXI4207+AAAAAElFTkSuQmCC\n",
       "\" transform=\"translate(47, 235)\"/>\n",
       "</g>\n",
       "</svg>\n"
      ]
     },
     "execution_count": 38,
     "metadata": {},
     "output_type": "execute_result"
    }
   ],
   "source": [
    " # Reverse the image to make it plot nicer\n",
    "    B = map( x -> x == 0 ? 1 : 0, A)\n",
    "    p = plot(Gray.(B), aspect_ratio = :equal, ylim=(0,nsteps+1), axis=nothing, xaxis=false, yaxis=false)"
   ]
  },
  {
   "cell_type": "markdown",
   "metadata": {
    "slideshow": {
     "slide_type": "slide"
    }
   },
   "source": [
    "### Synchronous vs asynchronous update - defining a model update function\n",
    "\n",
    "What happened? We need our model to update synchronously. This is most easily done by defining a model update function that updates the agents:"
   ]
  },
  {
   "cell_type": "code",
   "execution_count": 39,
   "metadata": {},
   "outputs": [
    {
     "data": {
      "text/plain": [
       "model_step! (generic function with 1 method)"
      ]
     },
     "execution_count": 39,
     "metadata": {},
     "output_type": "execute_result"
    }
   ],
   "source": [
    "function model_step!(model)\n",
    "    new_states =  fill(0, nagents(model))\n",
    "    for agent in allagents(model)\n",
    "        neighbourhood = nearby_ids(agent.pos, model)\n",
    "        str = \"\"\n",
    "        for idx in neighbourhood\n",
    "            str=str*string(model.agents[idx].state)\n",
    "        end\n",
    "        new_states[agent.id] = model.rules[str]\n",
    "    end\n",
    "    \n",
    "    # Now that we have worked out all the new states, overwrite the old states\n",
    "    for k in keys(model.agents)\n",
    "        model.agents[k].state = new_states[k]\n",
    "    end\n",
    "end"
   ]
  },
  {
   "cell_type": "markdown",
   "metadata": {
    "slideshow": {
     "slide_type": "slide"
    }
   },
   "source": [
    "### Synchronous vs asynchronous update - defining a model update function\n",
    "\n",
    "Now run again with a different form of the run!() function. Agents.jl provides a ```dummystep``` function for ABMs that don't require an ```agent_step!()``` function:"
   ]
  },
  {
   "cell_type": "code",
   "execution_count": 40,
   "metadata": {},
   "outputs": [],
   "source": [
    "model = initialise(;rules = rule110, gridsize = 101)\n",
    "nsteps = 50\n",
    "adata = [:pos, :state]\n",
    "data, _ = run!(model, dummystep, model_step!, nsteps; adata);"
   ]
  },
  {
   "cell_type": "code",
   "execution_count": 42,
   "metadata": {
    "slideshow": {
     "slide_type": "slide"
    }
   },
   "outputs": [
    {
     "data": {
      "image/svg+xml": [
       "<?xml version=\"1.0\" encoding=\"utf-8\"?>\n",
       "<svg xmlns=\"http://www.w3.org/2000/svg\" xmlns:xlink=\"http://www.w3.org/1999/xlink\" width=\"600\" height=\"400\" viewBox=\"0 0 2400 1600\">\n",
       "<defs>\n",
       "  <clipPath id=\"clip090\">\n",
       "    <rect x=\"0\" y=\"0\" width=\"2400\" height=\"1600\"/>\n",
       "  </clipPath>\n",
       "</defs>\n",
       "<path clip-path=\"url(#clip090)\" d=\"\n",
       "M0 1600 L2400 1600 L2400 0 L0 0  Z\n",
       "  \" fill=\"#ffffff\" fill-rule=\"evenodd\" fill-opacity=\"1\"/>\n",
       "<defs>\n",
       "  <clipPath id=\"clip091\">\n",
       "    <rect x=\"480\" y=\"0\" width=\"1681\" height=\"1600\"/>\n",
       "  </clipPath>\n",
       "</defs>\n",
       "<path clip-path=\"url(#clip090)\" d=\"\n",
       "M47.2441 1387.91 L2352.76 1387.91 L2352.76 212.094 L47.2441 212.094  Z\n",
       "  \" fill=\"#ffffff\" fill-rule=\"evenodd\" fill-opacity=\"1\"/>\n",
       "<defs>\n",
       "  <clipPath id=\"clip092\">\n",
       "    <rect x=\"47\" y=\"212\" width=\"2307\" height=\"1177\"/>\n",
       "  </clipPath>\n",
       "</defs>\n",
       "<g clip-path=\"url(#clip092)\">\n",
       "<image width=\"2306\" height=\"1153\" xlink:href=\"data:image/png;base64,\n",
       "iVBORw0KGgoAAAANSUhEUgAACQIAAASBCAYAAABlkHHEAAAgAElEQVR4nOzcQW4kNxQFQX+j7n9l\n",
       "zsorAfZMuyk2UxEHKDyQLa0SnLXW+gsAAAAAAAAAANhuZrZ9++9tXwYAAAAAAAAAAL6NEAgAAAAA\n",
       "AAAAAAKEQAAAAAAAAAAAECAEAgAAAAAAAACAACEQAAAAAAAAAAAECIEAAAAAAAAAACBACAQAAAAA\n",
       "AAAAAAFCIAAAAAAAAAAACBACAQAAAAAAAABAgBAIAAAAAAAAAAAChEAAAAAAAAAAABAgBAIAAAAA\n",
       "AAAAgAAhEAAAAAAAAAAABAiBAAAAAAAAAAAgQAgEAAAAAAAAAAABQiAAAAAAAAAAAAgQAgEAAAAA\n",
       "AAAAQIAQCAAAAAAAAAAAAoRAAAAAAAAAAAAQIAQCAAAAAAAAAIAAIRAAAAAAAAAAAAQIgQAAAAAA\n",
       "AAAAIEAIBAAAAAAAAAAAAc/pAQAAAAAAAAAA8Elm5vSEl3gRCAAAAAAAAAAAAoRAAAAAAAAAAAAQ\n",
       "IAQCAAAAAAAAAIAAIRAAAAAAAAAAAAQIgQAAAAAAAAAAIEAIBAAAAAAAAAAAAUIgAAAAAAAAAAAI\n",
       "EAIBAAAAAAAAAECAEAgAAAAAAAAAAAKEQAAAAAAAAAAAECAEAgAAAAAAAACAACEQAAAAAAAAAAAE\n",
       "CIEAAAAAAAAAACBACAQAAAAAAAAAAAFCIAAAAAAAAAAACBACAQAAAAAAAABAgBAIAAAAAAAAAAAC\n",
       "hEAAAAAAAAAAABAgBAIAAAAAAAAAgAAhEAAAAAAAAAAABAiBAAAAAAAAAAAgQAgEAAAAAAAAAAAB\n",
       "z+kBAAAAAAAAAADwp2bm9ISP40UgAAAAAAAAAAAIEAIBAAAAAAAAAECAEAgAAAAAAAAAAAKEQAAA\n",
       "AAAAAAAAECAEAgAAAAAAAACAACEQAAAAAAAAAAAECIEAAAAAAAAAACBACAQAAAAAAAAAAAFCIAAA\n",
       "AAAAAAAACBACAQAAAAAAAABAgBAIAAAAAAAAAAAChEAAAAAAAAAAABAgBAIAAAAAAAAAgAAhEAAA\n",
       "AAAAAAAABAiBAAAAAAAAAAAgQAgEAAAAAAAAAAABQiAAAAAAAAAAAAgQAgEAAAAAAAAAQIAQCAAA\n",
       "AAAAAAAAAoRAAAAAAAAAAAAQIAQCAAAAAAAAAIAAIRAAAAAAAAAAAAQ8pwcAAAAAAAAAANA0M6cn\n",
       "vGStte3bO8/Ei0AAAAAAAAAAABAgBAIAAAAAAAAAgAAhEAAAAAAAAAAABAiBAAAAAAAAAAAgQAgE\n",
       "AAAAAAAAAAABQiAAAAAAAAAAAAgQAgEAAAAAAAAAQIAQCAAAAAAAAAAAAoRAAAAAAAAAAAAQIAQC\n",
       "AAAAAAAAAIAAIRAAAAAAAAAAAAQIgQAAAAAAAAAAIEAIBAAAAAAAAAAAAUIgAAAAAAAAAAAIEAIB\n",
       "AAAAAAAAAECAEAgAAAAAAAAAAAKEQAAAAAAAAAAAECAEAgAAAAAAAACAACEQAAAAAAAAAAAECIEA\n",
       "AAAAAAAAACBACAQAAAAAAAAAAAFCIAAAAAAAAAAACHhODwAAAAAAAAAA4JyZOT3h49x6Jl4EAgAA\n",
       "AAAAAACAACEQAAAAAAAAAAAECIEAAAAAAAAAACBACAQAAAAAAAAAAAFCIAAAAAAAAAAACBACAQAA\n",
       "AAAAAABAgBAIAAAAAAAAAAAChEAAAAAAAAAAABAgBAIAAAAAAAAAgAAhEAAAAAAAAAAABAiBAAAA\n",
       "AAAAAAAgQAgEAAAAAAAAAAABQiAAAAAAAAAAAAgQAgEAAAAAAAAAQIAQCAAAAAAAAAAAAoRAAAAA\n",
       "AAAAAAAQIAQCAAAAAAAAAIAAIRAAAAAAAAAAAAQIgQAAAAAAAAAAIOA5PQAAAAAAAAAAgH83M6cn\n",
       "vGStdXrCx9l5l14EAgAAAAAAAACAACEQAAAAAAAAAAAECIEAAAAAAAAAACBACAQAAAAAAAAAAAFC\n",
       "IAAAAAAAAAAACBACAQAAAAAAAABAgBAIAAAAAAAAAAAChEAAAAAAAAAAABAgBAIAAAAAAAAAgAAh\n",
       "EAAAAAAAAAAABAiBAAAAAAAAAAAgQAgEAAAAAAAAAAABQiAAAAAAAAAAAAgQAgEAAAAAAAAAQIAQ\n",
       "CAAAAAAAAAAAAoRAAAAAAAAAAAAQIAQCAAAAAAAAAIAAIRAAAAAAAAAAAAQIgQAAAAAAAAAAIEAI\n",
       "BAAAAAAAAAAAAUIgAAAAAAAAAAAIEAIBAAAAAAAAAECAEAgAAAAAAAAAAAKe0wMAAAAAAAAAAApm\n",
       "5vQE3uTWu/QiEAAAAAAAAAAABAiBAAAAAAAAAAAgQAgEAAAAAAAAAAABQiAAAAAAAAAAAAgQAgEA\n",
       "AAAAAAAAQIAQCAAAAAAAAAAAAoRAAAAAAAAAAAAQIAQCAAAAAAAAAIAAIRAAAAAAAAAAAAQIgQAA\n",
       "AAAAAAAAIEAIBAAAAAAAAAAAAUIgAAAAAAAAAAAIEAIBAAAAAAAAAECAEAgAAAAAAAAAAAKEQAAA\n",
       "AAAAAAAAECAEAgAAAAAAAACAACEQAAAAAAAAAAAECIEAAAAAAAAAACBACAQAAAAAAAAAAAFCIAAA\n",
       "AAAAAAAACBACAQAAAAAAAABAgBAIAAAAAAAAAAACntMDAAAAAAAAAAC+y8ycnvCStda2b996Jrfu\n",
       "3smLQAAAAAAAAAAAECAEAgAAAAAAAACAACEQAAAAAAAAAAAECIEAAAAAAAAAACBACAQAAAAAAAAA\n",
       "AAFCIAAAAAAAAAAACBACAQAAAAAAAABAgBAIAAAAAAAAAAAChEAAAAAAAAAAABAgBAIAAAAAAAAA\n",
       "gAAhEAAAAAAAAAAABAiBAAAAAAAAAAAgQAgEAAAAAAAAAAABQiAAAAAAAAAAAAgQAgEAAAAAAAAA\n",
       "QIAQCAAAAAAAAAAAAoRAAAAAAAAAAAAQIAQCAAAAAAAAAIAAIRAAAAAAAAAAAAQIgQAAAAAAAAAA\n",
       "IEAIBAAAAAAAAAAAAUIgAAAAAAAAAAAImLXWOj0CAAAAAAAAAOAfM3N6Aj/czpxm5+/bi0AAAAAA\n",
       "AAAAABAgBAIAAAAAAAAAgAAhEAAAAAAAAAAABAiBAAAAAAAAAAAgQAgEAAAAAAAAAAABQiAAAAAA\n",
       "AAAAAAgQAgEAAAAAAAAAQIAQCAAAAAAAAAAAAoRAAAAAAAAAAAAQIAQCAAAAAAAAAIAAIRAAAAAA\n",
       "AAAAAAQIgQAAAAAAAAAAIEAIBAAAAAAAAAAAAUIgAAAAAAAAAAAIEAIBAAAAAAAAAECAEAgAAAAA\n",
       "AAAAAAKEQAAAAAAAAAAAECAEAgAAAAAAAACAACEQAAAAAAAAAAAECIEAAAAAAAAAACBACAQAAAAA\n",
       "AAAAAAFCIAAAAAAAAAAACHhODwAAAAAAAAAA7jMzpye8ZK11egJvsvM3eOvv24tAAAAAAAAAAAAQ\n",
       "IAQCAAAAAAAAAIAAIRAAAAAAAAAAAAQIgQAAAAAAAAAAIEAIBAAAAAAAAAAAAUIgAAAAAAAAAAAI\n",
       "EAIBAAAAAAAAAECAEAgAAAAAAAAAAAKEQAAAAAAAAAAAECAEAgAAAAAAAACAACEQAAAAAAAAAAAE\n",
       "CIEAAAAAAAAAACBACAQAAAAAAAAAAAFCIAAAAAAAAAAACBACAQAAAAAAAABAgBAIAAAAAAAAAAAC\n",
       "hEAAAAAAAAAAABAgBAIAAAAAAAAAgAAhEAAAAAAAAAAABDynBwAAAAAAAAAAe8zM6Qn8cLf+Btda\n",
       "276980y8CAQAAAAAAAAAAAFCIAAAAAAAAAAACBACAQAAAAAAAABAgBAIAAAAAAAAAAAChEAAAAAA\n",
       "AAAAABAgBAIAAAAAAAAAgAAhEAAAAAAAAAAABAiBAAAAAAAAAAAgQAgEAAAAAAAAAAABQiAAAAAA\n",
       "AAAAAAgQAgEAAAAAAAAAQIAQCAAAAAAAAAAAAoRAAAAAAAAAAAAQIAQCAAAAAAAAAIAAIRAAAAAA\n",
       "AAAAAAQIgQAAAAAAAAAAIEAIBAAAAAAAAAAAAUIgAAAAAAAAAAAIEAIBAAAAAAAAAECAEAgAAAAA\n",
       "AAAAAAKEQAAAAAAAAAAAECAEAgAAAAAAAACAACEQAAAAAAAAAAAEPKcHAAAAAAAAAMBPNjOnJ7xk\n",
       "rbXt27eeya2c91e3nokXgQAAAAAAAAAAIEAIBAAAAAAAAAAAAUIgAAAAAAAAAAAIEAIBAAAAAAAA\n",
       "AECAEAgAAAAAAAAAAAKEQAAAAAAAAAAAECAEAgAAAAAAAACAACEQAAAAAAAAAAAECIEAAAAAAAAA\n",
       "ACBACAQAAAAAAAAAAAFCIAAAAAAAAAAACBACAQAAAAAAAABAgBAIAAAAAAAAAAAChEAAAAAAAAAA\n",
       "ABAgBAIAAAAAAAAAgAAhEAAAAAAAAAAABAiBAAAAAAAAAAAgQAgEAAAAAAAAAAABQiAAAAAAAAAA\n",
       "AAgQAgEAAAAAAAAAQIAQCAAAAAAAAAAAAoRAAAAAAAAAAAAQ8JweAAAAAAAAAACfbmZOT/g4zuR7\n",
       "3Xrea63TEz7Ozrv0IhAAAAAAAAAAAAQIgQAAAAAAAAAAIEAIBAAAAAAAAAAAAUIgAAAAAAAAAAAI\n",
       "EAIBAAAAAAAAAECAEAgAAAAAAAAAAAKEQAAAAAAAAAAAECAEAgAAAAAAAACAACEQAAAAAAAAAAAE\n",
       "CIEAAAAAAAAAACBACAQAAAAAAAAAAAFCIAAAAAAAAAAACBACAQAAAAAAAABAgBAIAAAAAAAAAAAC\n",
       "hEAAAAAAAAAAABAgBAIAAAAAAAAAgAAhEAAAAAAAAAAABAiBAAAAAAAAAAAgQAgEAAAAAAAAAAAB\n",
       "QiAAAAAAAAAAAAgQAgEAAAAAAAAAQIAQCAAAAAAAAAAAAp7TAwAAAAAAAADgHWbm9ISXrLVOT/g4\n",
       "t97lrbv56ta79CIQAAAAAAAAAAAECIEAAAAAAAAAACBACAQAAAAAAAAAAAFCIAAAAAAAAAAACBAC\n",
       "AQAAAAAAAABAgBAIAAAAAAAAAAAChEAAAAAAAAAAABAgBAIAAAAAAAAAgAAhEAAAAAAAAAAABAiB\n",
       "AAAAAAAAAAAgQAgEAAAAAAAAAAABQiAAAAAAAAAAAAgQAgEAAAAAAAAAQIAQCAAAAAAAAAAAAoRA\n",
       "AAAAAAAAAAAQIAQCAAAAAAAAAIAAIRAAAAAAAAAAAAQIgQAAAAAAAAAAIEAIBAAAAAAAAAAAAc/p\n",
       "AQAAAAAAAAD8HDNzegJvcutd3rp7rbXt27eeya27d/IiEAAAAAAAAAAABAiBAAAAAAAAAAAgQAgE\n",
       "AAAAAAAAAAABQiAAAAAAAAAAAAgQAgEAAAAAAAAAQIAQCAAAAAAAAAAAAoRAAAAAAAAAAAAQIAQC\n",
       "AAAAAAAAAIAAIRAAAAAAAAAAAAQIgQAAAAAAAAAAIEAIBAAAAAAAAAAAAUIgAAAAAAAAAAAIEAIB\n",
       "AAAAAAAAAECAEAgAAAAAAAAAAAKEQAAAAAAAAAAAECAEAgAAAAAAAACAACEQAAAAAAAAAAAECIEA\n",
       "AAAAAAAAACBACAQAAAAAAAAAAAFCIAAAAAAAAAAACBACAQAAAAAAAABAgBAIAAAAAAAAAAACntMD\n",
       "AAAAAAAAAPgsM3N6wkvWWtu+feuZ3Lp7513utPO8b73LW3ff+v/Ei0AAAAAAAAAAABAgBAIAAAAA\n",
       "AAAAgAAhEAAAAAAAAAAABAiBAAAAAAAAAAAgQAgEAAAAAAAAAAABQiAAAAAAAAAAAAgQAgEAAAAA\n",
       "AAAAQIAQCAAAAAAAAAAAAoRAAAAAAAAAAAAQIAQCAAAAAAAAAIAAIRAAAAAAAAAAAAQIgQAAAAAA\n",
       "AAAAIEAIBAAAAAAAAAAAAUIgAAAAAAAAAAAIEAIBAAAAAAAAAECAEAgAAAAAAAAAAAKEQAAAAAAA\n",
       "AAAAECAEAgAAAAAAAACAACEQAAAAAAAAAAAECIEAAAAAAAAAACBACAQAAAAAAAAAAAFCIAAAAAAA\n",
       "AAAACBACAQAAAAAAAABAwKy11ukRAAAAAAAAAPw/M3N6ArzNzpTh1r8VecdXt97lTl4EAgAAAAAA\n",
       "AACAACEQAAAAAAAAAAAECIEAAAAAAAAAACBACAQAAAAAAAAAAAFCIAAAAAAAAAAACBACAQAAAAAA\n",
       "AABAgBAIAAAAAAAAAAAChEAAAAAAAAAAABAgBAIAAAAAAAAAgAAhEAAAAAAAAAAABAiBAAAAAAAA\n",
       "AAAgQAgEAAAAAAAAAAABQiAAAAAAAAAAAAgQAgEAAAAAAAAAQIAQCAAAAAAAAAAAAoRAAAAAAAAA\n",
       "AAAQIAQCAAAAAAAAAIAAIRAAAAAAAAAAAAQIgQAAAAAAAAAAIEAIBAAAAAAAAAAAAUIgAAAAAAAA\n",
       "AAAIEAIBAAAAAAAAAEDAc3oAAAAAAAAAwE8xM6cn/Ja11ukJXGDn7/mWvxX+2613ufP/4M4z8SIQ\n",
       "AAAAAAAAAAAECIEAAAAAAAAAACBACAQAAAAAAAAAAAFCIAAAAAAAAAAACBACAQAAAAAAAABAgBAI\n",
       "AAAAAAAAAAAChEAAAAAAAAAAABAgBAIAAAAAAAAAgAAhEAAAAAAAAAAABAiBAAAAAAAAAAAgQAgE\n",
       "AAAAAAAAAAABQiAAAAAAAAAAAAgQAgEAAAAAAAAAQIAQCAAAAAAAAAAAAoRAAAAAAAAAAAAQIAQC\n",
       "AAAAAAAAAIAAIRAAAAAAAAAAAAQIgQAAAAAAAAAAIEAIBAAAAAAAAAAAAUIgAAAAAAAAAAAIEAIB\n",
       "AAAAAAAAAECAEAgAAAAAAAAAAAKe0wMAAAAAAAAAPsnMnJ4Ab3Pr73mtdXrCS24971t373TrmXgR\n",
       "CAAAAAAAAAAAAoRAAAAAAAAAAAAQIAQCAAAAAAAAAIAAIRAAAAAAAAAAAAQIgQAAAAAAAAAAIEAI\n",
       "BAAAAAAAAAAAAUIgAAAAAAAAAAAIEAIBAAAAAAAAAECAEAgAAAAAAAAAAAKEQAAAAAAAAAAAECAE\n",
       "AgAAAAAAAACAACEQAAAAAAAAAAAECIEAAAAAAAAAACBACAQAAAAAAAAAAAFCIAAAAAAAAAAACBAC\n",
       "AQAAAAAAAABAgBAIAAAAAAAAAAAChEAAAAAAAAAAABAgBAIAAAAAAAAAgIDn9AAAAAAAAACAPzUz\n",
       "pye8ZK217du3ngnu7rvdet637t75f+9WO+/Si0AAAAAAAAAAABAgBAIAAAAAAAAAgAAhEAAAAAAA\n",
       "AAAABAiBAAAAAAAAAAAgQAgEAAAAAAAAAAABQiAAAAAAAAAAAAgQAgEAAAAAAAAAQIAQCAAAAAAA\n",
       "AAAAAoRAAAAAAAAAAAAQIAQCAAAAAAAAAIAAIRAAAAAAAAAAAAQIgQAAAAAAAAAAIEAIBAAAAAAA\n",
       "AAAAAUIgAAAAAAAAAAAIEAIBAAAAAAAAAECAEAgAAAAAAAAAAAKEQAAAAAAAAAAAECAEAgAAAAAA\n",
       "AACAACEQAAAAAAAAAAAECIEAAPjFzh3lRpIbARRcAn3/K9O/xtbYlrVNsfMp4gCNVJJVGGAeCgAA\n",
       "AAAAgAAhEAAAAAAAAAAABAiBAAAAAAAAAAAg4HV7AAAAAAAAAKBprXV7hI9jJ3NNPbu997HfPrkT\n",
       "+/5ZU/d90tSd+CIQAAAAAAAAAAAECIEAAAAAAAAAACBACAQAAAAAAAAAAAFCIAAAAAAAAAAACBAC\n",
       "AQAAAAAAAABAgBAIAAAAAAAAAAAChEAAAAAAAAAAABAgBAIAAAAAAAAAgAAhEAAAAAAAAAAABAiB\n",
       "AAAAAAAAAAAgQAgEAAAAAAAAAAABQiAAAAAAAAAAAAgQAgEAAAAAAAAAQIAQCAAAAAAAAAAAAoRA\n",
       "AAAAAAAAAAAQIAQCAAAAAAAAAIAAIRAAAAAAAAAAAAQIgQAAAAAAAAAAIEAIBAAAAAAAAAAAAUIg\n",
       "AAAAAAAAAAAIEAIBAAAAAAAAAECAEAgAAAAAAAAAAAKEQAAAAAAAAAAAEPC6PQAAAAAAAABwz1rr\n",
       "9gjfsve+PcLHmXqW72QHT1N3cvIZn7qTqXOfZCdPvggEAAAAAAAAAAABQiAAAAAAAAAAAAgQAgEA\n",
       "AAAAAAAAQIAQCAAAAAAAAAAAAoRAAAAAAAAAAAAQIAQCAAAAAAAAAIAAIRAAAAAAAAAAAAQIgQAA\n",
       "AAAAAAAAIEAIBAAAAAAAAAAAAUIgAAAAAAAAAAAIEAIBAAAAAAAAAECAEAgAAAAAAAAAAAKEQAAA\n",
       "AAAAAAAAECAEAgAAAAAAAACAACEQAAAAAAAAAAAECIEAAAAAAAAAACBACAQAAAAAAAAAAAFCIAAA\n",
       "AAAAAAAACBACAQAAAAAAAABAgBAIAAAAAAAAAAAChEAAAAAAAAAAABAgBAIAAAAAAAAAgIDX7QEA\n",
       "AAAAAACA/26tdXsE3sRZzt3B3vv2CB/n5FlOvSdT5z5p6k5OPvMnd+KLQAAAAAAAAAAAECAEAgAA\n",
       "AAAAAACAACEQAAAAAAAAAAAECIEAAAAAAAAAACBACAQAAAAAAAAAAAFCIAAAAAAAAAAACBACAQAA\n",
       "AAAAAABAgBAIAAAAAAAAAAAChEAAAAAAAAAAABAgBAIAAAAAAAAAgAAhEAAAAAAAAAAABAiBAAAA\n",
       "AAAAAAAgQAgEAAAAAAAAAAABQiAAAAAAAAAAAAgQAgEAAAAAAAAAQIAQCAAAAAAAAAAAAoRAAAAA\n",
       "AAAAAAAQIAQCAAAAAAAAAIAAIRAAAAAAAAAAAAQIgQAAAAAAAAAAIEAIBAAAAAAAAAAAAUIgAAAA\n",
       "AAAAAAAIeN0eAAAAAAAAAArWWrdH+Ja997HfnrqTqXO/kx10TD3Lk+8mOk7e76nPji8CAQAAAAAA\n",
       "AABAgBAIAAAAAAAAAAAChEAAAAAAAAAAABAgBAIAAAAAAAAAgAAhEAAAAAAAAAAABAiBAAAAAAAA\n",
       "AAAgQAgEAAAAAAAAAAABQiAAAAAAAAAAAAgQAgEAAAAAAAAAQIAQCAAAAAAAAAAAAoRAAAAAAAAA\n",
       "AAAQIAQCAAAAAAAAAIAAIRAAAAAAAAAAAAQIgQAAAAAAAAAAIEAIBAAAAAAAAAAAAUIgAAAAAAAA\n",
       "AAAIEAIBAAAAAAAAAECAEAgAAAAAAAAAAAKEQAAAAAAAAAAAEPC6PQAAAAAAAAD8lLXW7RE+ztSd\n",
       "TJ177317hLSp92Lq3PAVU+/3yff1yZ34IhAAAAAAAAAAAAQIgQAAAAAAAAAAIEAIBAAAAAAAAAAA\n",
       "AUIgAAAAAAAAAAAIEAIBAAAAAAAAAECAEAgAAAAAAAAAAAKEQAAAAAAAAAAAECAEAgAAAAAAAACA\n",
       "ACEQAAAAAAAAAAAECIEAAAAAAAAAACBACAQAAAAAAAAAAAFCIAAAAAAAAAAACBACAQAAAAAAAABA\n",
       "gBAIAAAAAAAAAAAChEAAAAAAAAAAABAgBAIAAAAAAAAAgAAhEAAAAAAAAAAABAiBAAAAAAAAAAAg\n",
       "QAgEAAAAAAAAAAABQiAAAAAAAAAAAAgQAgEAAAAAAAAAQIAQCAAAAAAAAAAAAl63BwAAAAAAAIB/\n",
       "t9a6PcK37L1vj8CbTL2DU0zd79S5T76bpu6EJ2f5NHUnvggEAAAAAAAAAAABQiAAAAAAAAAAAAgQ\n",
       "AgEAAAAAAAAAQIAQCAAAAAAAAAAAAoRAAAAAAAAAAAAQIAQCAAAAAAAAAIAAIRAAAAAAAAAAAAQI\n",
       "gQAAAAAAAAAAIEAIBAAAAAAAAAAAAUIgAAAAAAAAAAAIEAIBAAAAAAAAAECAEAgAAAAAAAAAAAKE\n",
       "QAAAAAAAAAAAECAEAgAAAAAAAACAACEQAAAAAAAAAAAECIEAAAAAAAAAACBACAQAAAAAAAAAAAFC\n",
       "IAAAAAAAAAAACBACAQAAAAAAAABAgBAIAAAAAAAAAAAChEAAAAAAAAAAABAgBAIAAAAAAAAAgAAh\n",
       "EAAAAAAAAAAABLxuDwAAAAAAAMAsa63bI4B7eNjU/e69b4/wLSf3PfUseZp6llOfy5NOnqUvAgEA\n",
       "AAAAAAAAQIAQCAAAAAAAAAAAAoRAAAAAAAAAAAAQIAQCAAAAAAAAAIAAIRAAAAAAAAAAAAQIgQAA\n",
       "AAAAAAAAIEAIBAAAAAAAAAAAAUIgAAAAAAAAAAAIEAIBAAAAAAAAAECAEAgAAAAAAAAAAAKEQAAA\n",
       "AAAAAAAAECAEAgAAAAAAAACAACEQAAAAAAAAAAAECIEAAAAAAAAAACBACAQAAAAAAAAAAAFCIAAA\n",
       "AAAAAAAACBACAQAAAAAAAABAgBAIAAAAAAAAAAAChEAAAAAAAAAAABAgBAIAAAAAAAAAgAAhEAAA\n",
       "AAAAAAAABAiBAAAAAAAAAAAg4HV7AAAAAAAAAN5vrXV7hG/bex/77cl7mci+f5Z9nzV1v96pP8tO\n",
       "OqaepS8CAQAAAAAAAABAgBAIAAAAAAAAAAAChEAAAAAAAAAAABAgBAIAAAAAAAAAgAAhEAAAAAAA\n",
       "AAAABAiBAAAAAAAAAAAgQAgEAAAAAAAAAAABQiAAAAAAAAAAAAgQAgEAAAAAAAAAQIAQCAAAAAAA\n",
       "AAAAAoRAAAAAAAAAAAAQIAQCAAAAAAAAAIAAIRAAAAAAAAAAAAQIgQAAAAAAAAAAIEAIBAAAAAAA\n",
       "AAAAAUIgAAAAAAAAAAAIEAIBAAAAAAAAAECAEAgAAAAAAAAAAAKEQAAAAAAAAAAAEPC6PQAAAAAA\n",
       "AMBvtda6PcJHspefNXXfe+9jv31yJ1P2bb8ddvI0dSdTn8uTps59ki8CAQAAAAAAAABAgBAIAAAA\n",
       "AAAAAAAChEAAAAAAAAAAABAgBAIAAAAAAAAAgAAhEAAAAAAAAAAABAiBAAAAAAAAAAAgQAgEAAAA\n",
       "AAAAAAABQiAAAAAAAAAAAAgQAgEAAAAAAAAAQIAQCAAAAAAAAAAAAoRAAAAAAAAAAAAQIAQCAAAA\n",
       "AAAAAIAAIRAAAAAAAAAAAAQIgQAAAAAAAAAAIEAIBAAAAAAAAAAAAUIgAAAAAAAAAAAIEAIBAAAA\n",
       "AAAAAECAEAgAAAAAAAAAAAKEQAAAAAAAAAAAECAEAgAAAAAAAACAACEQAAAAAAAAAAAECIEAAAAA\n",
       "AAAAACBg7b337SEAAAAAAAA+1Vrr9gjf4v3DV6gAABoVSURBVL+A/uzkeZ7c+dR7yJN7cpZ3389y\n",
       "5yib+r72RSAAAAAAAAAAAAgQAgEAAAAAAAAAQIAQCAAAAAAAAAAAAoRAAAAAAAAAAAAQIAQCAAAA\n",
       "AAAAAIAAIRAAAAAAAAAAAAQIgQAAAAAAAAAAIEAIBAAAAAAAAAAAAUIgAAAAAAAAAAAIEAIBAAAA\n",
       "AAAAAECAEAgAAAAAAAAAAAKEQAAAAAAAAAAAECAEAgAAAAAAAACAACEQAAAAAAAAAAAECIEAAAAA\n",
       "AAAAACBACAQAAAAAAAAAAAFCIAAAAAAAAAAACBACAQAAAAAAAABAgBAIAAAAAAAAAAAChEAAAAAA\n",
       "AAAAABAgBAIAAAAAAAAAgAAhEAAAAAAAAAAABLxuDwAAAAAAAPBPrbVuj8AbTT3PqXPvvW+P8HFO\n",
       "nuWUe3LyXkzZQcXUfXs38RXe10++CAQAAAAAAAAAAAFCIAAAAAAAAAAACBACAQAAAAAAAABAgBAI\n",
       "AAAAAAAAAAAChEAAAAAAAAAAABAgBAIAAAAAAAAAgAAhEAAAAAAAAAAABAiBAAAAAAAAAAAgQAgE\n",
       "AAAAAAAAAAABQiAAAAAAAAAAAAgQAgEAAAAAAAAAQIAQCAAAAAAAAAAAAoRAAAAAAAAAAAAQIAQC\n",
       "AAAAAAAAAIAAIRAAAAAAAAAAAAQIgQAAAAAAAAAAIEAIBAAAAAAAAAAAAUIgAAAAAAAAAAAIEAIB\n",
       "AAAAAAAAAECAEAgAAAAAAAAAAAKEQAAAAAAAAAAAECAEAgAAAAAAAACAACEQAAAAAAAAAAAEvG4P\n",
       "AAAAAAAA/A5rrdsjfMve+9hvT93J1Ln/+uvseZ40eeenTN3JlHfK1P1OZd+UTb3fU97Xf+eLQAAA\n",
       "AAAAAAAAECAEAgAAAAAAAACAACEQAAAAAAAAAAAECIEAAAAAAAAAACBACAQAAAAAAAAAAAFCIAAA\n",
       "AAAAAAAACBACAQAAAAAAAABAgBAIAAAAAAAAAAAChEAAAAAAAAAAABAgBAIAAAAAAAAAgAAhEAAA\n",
       "AAAAAAAABAiBAAAAAAAAAAAgQAgEAAAAAAAAAAABQiAAAAAAAAAAAAgQAgEAAAAAAAAAQIAQCAAA\n",
       "AAAAAAAAAoRAAAAAAAAAAAAQIAQCAAAAAAAAAIAAIRAAAAAAAAAAAAQIgQAAAAAAAAAAIEAIBAAA\n",
       "AAAAAAAAAUIgAAAAAAAAAAAIeN0eAAAAAAAA+BxrrdsjfJypO5k692R2/mQnT1N2svc+9ttTdvB3\n",
       "U+d2lnyFs3yauhNfBAIAAAAAAAAAgAAhEAAAAAAAAAAABAiBAAAAAAAAAAAgQAgEAAAAAAAAAAAB\n",
       "QiAAAAAAAAAAAAgQAgEAAAAAAAAAQIAQCAAAAAAAAAAAAoRAAAAAAAAAAAAQIAQCAAAAAAAAAIAA\n",
       "IRAAAAAAAAAAAAQIgQAAAAAAAAAAIEAIBAAAAAAAAAAAAUIgAAAAAAAAAAAIEAIBAAAAAAAAAECA\n",
       "EAgAAAAAAAAAAAKEQAAAAAAAAAAAECAEAgAAAAAAAACAACEQAAAAAAAAAAAECIEAAAAAAAAAACBg\n",
       "7b337SEAAAAAAIB/Zq11e4T/yX9J8FUT7jP3eac8eXYo8Yw/TX3GneXTybP0RSAAAAAAAAAAAAgQ\n",
       "AgEAAAAAAAAAQIAQCAAAAAAAAAAAAoRAAAAAAAAAAAAQIAQCAAAAAAAAAIAAIRAAAAAAAAAAAAQI\n",
       "gQAAAAAAAAAAIEAIBAAAAAAAAAAAAUIgAAAAAAAAAAAIEAIBAAAAAAAAAECAEAgAAAAAAAAAAAKE\n",
       "QAAAAAAAAAAAECAEAgAAAAAAAACAACEQAAAAAAAAAAAECIEAAAAAAAAAACBACAQAAAAAAAAAAAFC\n",
       "IAAAAAAAAAAACBACAQAAAAAAAABAgBAIAAAAAAAAAAAChEAAAAAAAAAAABAgBAIAAAAAAAAAgAAh\n",
       "EAAAAAAAAAAABLxuDwAAAAAAAL/FWuv2CPAWk+/y3vv2CL/K5LtyypSdeFb4iin3+SfZScfUs/RF\n",
       "IAAAAAAAAAAACBACAQAAAAAAAABAgBAIAAAAAAAAAAAChEAAAAAAAAAAABAgBAIAAAAAAAAAgAAh\n",
       "EAAAAAAAAAAABAiBAAAAAAAAAAAgQAgEAAAAAAAAAAABQiAAAAAAAAAAAAgQAgEAAAAAAAAAQIAQ\n",
       "CAAAAAAAAAAAAoRAAAAAAAAAAAAQIAQCAAAAAAAAAIAAIRAAAAAAAAAAAAQIgQAAAAAAAAAAIEAI\n",
       "BAAAAAAAAAAAAUIgAAAAAAAAAAAIEAIBAAAAAAAAAECAEAgAAAAAAAAAAAKEQAAAAAAAAAAAECAE\n",
       "AgAAAAAAAACAACEQAAAAAAAAAAAEvG4PAAAAAAAAn2StdXuEb9l7v+V3pv79PDlLvspdebITStzn\n",
       "p6k7ede/9/5k6k6mzn2SLwIBAAAAAAAAAECAEAgAAAAAAAAAAAKEQAAAAAAAAAAAECAEAgAAAAAA\n",
       "AACAACEQAAAAAAAAAAAECIEAAAAAAAAAACBACAQAAAAAAAAAAAFCIAAAAAAAAAAACBACAQAAAAAA\n",
       "AABAgBAIAAAAAAAAAAAChEAAAAAAAAAAABAgBAIAAAAAAAAAgAAhEAAAAAAAAAAABAiBAAAAAAAA\n",
       "AAAgQAgEAAAAAAAAAAABQiAAAAAAAAAAAAgQAgEAAAAAAAAAQIAQCAAAAAAAAAAAAoRAAAAAAAAA\n",
       "AAAQIAQCAAAAAAAAAIAAIRAAAAAAAAAAAAQIgQAAAAAAAAAAIEAIBAAAAAAAAAAAAWvvvW8PAQAA\n",
       "AAAA/4+11u0R+Ab/JfE09S6fPsuTe5l6D6feFZ5O3sF33pOpz8pUnnH4PFPe13/ni0AAAAAAAAAA\n",
       "ABAgBAIAAAAAAAAAgAAhEAAAAAAAAAAABAiBAAAAAAAAAAAgQAgEAAAAAAAAAAABQiAAAAAAAAAA\n",
       "AAgQAgEAAAAAAAAAQIAQCAAAAAAAAAAAAoRAAAAAAAAAAAAQIAQCAAAAAAAAAIAAIRAAAAAAAAAA\n",
       "AAQIgQAAAAAAAAAAIEAIBAAAAAAAAAAAAUIgAAAAAAAAAAAIEAIBAAAAAAAAAECAEAgAAAAAAAAA\n",
       "AAKEQAAAAAAAAAAAECAEAgAAAAAAAACAACEQAAAAAAAAAAAECIEAAAAAAAAAACBACAQAAAAAAAAA\n",
       "AAFCIAAAAAAAAAAACHjdHgAAAAAAgJ611u0Rvm3vfXuEqyaf3Sl28mQnfzZ1L7/9vfcnJ89y6j1h\n",
       "7tl5xinzvn7yRSAAAAAAAAAAAAgQAgEAAAAAAAAAQIAQCAAAAAAAAAAAAoRAAAAAAAAAAAAQIAQC\n",
       "AAAAAAAAAIAAIRAAAAAAAAAAAAQIgQAAAAAAAAAAIEAIBAAAAAAAAAAAAUIgAAAAAAAAAAAIEAIB\n",
       "AAAAAAAAAECAEAgAAAAAAAAAAAKEQAAAAAAAAAAAECAEAgAAAAAAAACAACEQAAAAAAAAAAAECIEA\n",
       "AAAAAAAAACBACAQAAAAAAAAAAAFCIAAAAAAAAAAACBACAQAAAAAAAABAgBAIAAAAAAAAAAACXrcH\n",
       "AAAAAADgjrXW7RF4o99+nlP//r337RE+0snznHpXeJp6lief+6k7eSc7gM8z9bmc+r72RSAAAAAA\n",
       "AAAAAAgQAgEAAAAAAAAAQIAQCAAAAAAAAAAAAoRAAAAAAAAAAAAQIAQCAAAAAAAAAIAAIRAAAAAA\n",
       "AAAAAAQIgQAAAAAAAAAAIEAIBAAAAAAAAAAAAUIgAAAAAAAAAAAIEAIBAAAAAAAAAECAEAgAAAAA\n",
       "AAAAAAKEQAAAAAAAAAAAECAEAgAAAAAAAACAACEQAAAAAAAAAAAECIEAAAAAAAAAACBACAQAAAAA\n",
       "AAAAAAFCIAAAAAAAAAAACBACAQAAAAAAAABAgBAIAAAAAAAAAAAChEAAAAAAAAAAABAgBAIAAAAA\n",
       "AAAAgAAhEAAAAAAAAAAABLxuDwAAAAAAwH+21ro9wrfsvY/+/tS9TJ37XX77318y+SxPv59Ombrz\n",
       "qXOfZCdzd3Dy/TF1J3S4g09Td+KLQAAAAAAAAAAAECAEAgAAAAAAAACAACEQAAAAAAAAAAAECIEA\n",
       "AAAAAAAAACBACAQAAAAAAAAAAAFCIAAAAAAAAAAACBACAQAAAAAAAABAgBAIAAAAAAAAAAAChEAA\n",
       "AAAAAAAAABAgBAIAAAAAAAAAgAAhEAAAAAAAAAAABAiBAAAAAAAAAAAgQAgEAAAAAAAAAAABQiAA\n",
       "AAAAAAAAAAgQAsG/2rmj3NZxIACCIZD7X5n7tV8OsA9eU8z0qzpAMB5RcmA0BAAAAAAAAAAQIAQC\n",
       "AAAAAAAAAIAAIRAAAAAAAAAAAAQIgQAAAAAAAAAAIEAIBAAAAAAAAAAAAUIgAAAAAAAAAAAIEAIB\n",
       "AAAAAAAAAECAEAgAAAAAAAAAAALW3nvfHgIAAAAAYLK11u0R4MvP/eecvMdPXjfPpp/ZeYfn3itn\n",
       "kJ+4Vzqm3uPO4KuT19IbgQAAAAAAAAAAIEAIBAAAAAAAAAAAAUIgAAAAAAAAAAAIEAIBAAAAAAAA\n",
       "AECAEAgAAAAAAAAAAAKEQAAAAAAAAAAAECAEAgAAAAAAAACAACEQAAAAAAAAAAAECIEAAAAAAAAA\n",
       "ACBACAQAAAAAAAAAAAFCIAAAAAAAAAAACBACAQAAAAAAAABAgBAIAAAAAAAAAAAChEAAAAAAAAAA\n",
       "ABAgBAIAAAAAAAAAgAAhEAAAAAAAAAAABAiBAAAAAAAAAAAgQAgEAAAAAAAAAAABQiAAAAAAAAAA\n",
       "AAgQAgEAAAAAAAAAQIAQCAAAAAAAAAAAAoRAAAAAAAAAAAAQIAQCAAAAAAAAAICA79sDAAAAAAA8\n",
       "Ya11e4S37L1vj8AHTT2HE0zd7dS5Tz+bTu7Fzp81dd8nTdnJ1DM31ZRzwX9zLTumXktvBAIAAAAA\n",
       "AAAAgAAhEAAAAAAAAAAABAiBAAAAAAAAAAAgQAgEAAAAAAAAAAABQiAAAAAAAAAAAAgQAgEAAAAA\n",
       "AAAAQIAQCAAAAAAAAAAAAoRAAAAAAAAAAAAQIAQCAAAAAAAAAIAAIRAAAAAAAAAAAAQIgQAAAAAA\n",
       "AAAAIEAIBAAAAAAAAAAAAUIgAAAAAAAAAAAIEAIBAAAAAAAAAECAEAgAAAAAAAAAAAKEQAAAAAAA\n",
       "AAAAECAEAgAAAAAAAACAACEQAAAAAAAAAAAECIEAAAAAAAAAACDg+/YAAAAAAAD/WmvdHgGcw4Om\n",
       "7nbvfXuEt5zc99Rr+fV19npO3cvUuU+yE37iXHRMvZa+w15NnfskbwQCAAAAAAAAAIAAIRAAAAAA\n",
       "AAAAAAQIgQAAAAAAAAAAIEAIBAAAAAAAAAAAAUIgAAAAAAAAAAAIEAIBAAAAAAAAAECAEAgAAAAA\n",
       "AAAAAAKEQAAAAAAAAAAAECAEAgAAAAAAAACAACEQAAAAAAAAAAAECIEAAAAAAAAAACBACAQAAAAA\n",
       "AAAAAAFCIAAAAAAAAAAACBACAQAAAAAAAABAgBAIAAAAAAAAAAAChEAAAAAAAAAAABAgBAIAAAAA\n",
       "AAAAgAAhEAAAAAAAAAAABAiBAAAAAAAAAAAgQAgEAAAAAAAAAAABQiAAAAAAAAAAAAgQAgEAAAAA\n",
       "AAAAQMD37QEAAAAAgFnWWrdHeMve+9jfnrqTyez8HLt91tR9n3ymfn2d3cvUnU+d+6SpO/E/yVl2\n",
       "0OFavpq6k6lzT31eeyMQAAAAAAAAAAAECIEAAAAAAAAAACBACAQAAAAAAAAAAAFCIAAAAAAAAAAA\n",
       "CBACAQAAAAAAAABAgBAIAAAAAAAAAAAChEAAAAAAAAAAABAgBAIAAAAAAAAAgAAhEAAAAAAAAAAA\n",
       "BAiBAAAAAAAAAAAgQAgEAAAAAAAAAAABQiAAAAAAAAAAAAgQAgEAAAAAAAAAQIAQCAAAAAAAAAAA\n",
       "AoRAAAAAAAAAAAAQIAQCAAAAAAAAAIAAIRAAAAAAAAAAAAQIgQAAAAAAAAAAIEAIBAAAAAAAAAAA\n",
       "AUIgAAAAAAAAAAAIEAIBAAAAAAAAAECAEAgAAAAAAAAAAALW3nvfHgIAAAAA+Ky11u0R+JCpP+FO\n",
       "PoMndz55L59gt/wGU5+rPMszxTP7J1N3MnXuk3wXdEw9gyd5IxAAAAAAAAAAAAQIgQAAAAAAAAAA\n",
       "IEAIBAAAAAAAAAAAAUIgAAAAAAAAAAAIEAIBAAAAAAAAAECAEAgAAAAAAAAAAAKEQAAAAAAAAAAA\n",
       "ECAEAgAAAAAAAACAACEQAAAAAAAAAAAECIEAAAAAAAAAACBACAQAAAAAAAAAAAFCIAAAAAAAAAAA\n",
       "CBACAQAAAAAAAABAgBAIAAAAAAAAAAAChEAAAAAAAAAAABAgBAIAAAAAAAAAgAAhEAAAAAAAAAAA\n",
       "BAiBAAAAAAAAAAAgQAgEAAAAAAAAAAABQiAAAAAAAAAAAAgQAgEAAAAAAAAAQIAQCAAAAAAAAAAA\n",
       "Atbee98eAgAAAAD+Rmut2yO8xU+Kr05ey5P7nnoG+dmnzopz8cpz73lTn6s8a+rzync73Oe74FlT\n",
       "n01Tn9feCAQAAAAAAAAAAAFCIAAAAAAAAAAACBACAQAAAAAAAABAgBAIAAAAAAAAAAAChEAAAAAA\n",
       "AAAAABAgBAIAAAAAAAAAgAAhEAAAAAAAAAAABAiBAAAAAAAAAAAgQAgEAAAAAAAAAAABQiAAAAAA\n",
       "AAAAAAgQAgEAAAAAAAAAQIAQCAAAAAAAAAAAAoRAAAAAAAAAAAAQIAQCAAAAAAAAAIAAIRAAAAAA\n",
       "AAAAAAQIgQAAAAAAAAAAIEAIBAAAAAAAAAAAAUIgAAAAAAAAAAAIEAIBAAAAAAAAAECAEAgAAAAA\n",
       "AAAAAAKEQAAAAAAAAAAAECAEAgAAAAAAAACAACEQAAAAAAAAAAAEfN8eAAAAAAB+s7XW7RH4kKnX\n",
       "curce+/bI/xKJ6/nhLNy8lxM+Pwl9s2fclZeTdmJ73Jum3KvVNj3q6k78UYgAAAAAAAAAAAIEAIB\n",
       "AAAAAAAAAECAEAgAAAAAAAAAAAKEQAAAAAAAAAAAECAEAgAAAAAAAACAACEQAAAAAAAAAAAECIEA\n",
       "AAAAAAAAACBACAQAAAAAAAAAAAFCIAAAAAAAAAAACBACAQAAAAAAAABAgBAIAAAAAAAAAAAChEAA\n",
       "AAAAAAAAABAgBAIAAAAAAAAAgAAhEAAAAAAAAAAABAiBAAAAAAAAAAAgQAgEAAAAAAAAAAABQiAA\n",
       "AAAAAAAAAAgQAgEAAAAAAAAAQIAQCAAAAAAAAAAAAr5vDwAAAAAA/9da6/YIb9l7H/vbU3cyde6T\n",
       "1/Kkqfs+bepePnUOT37+qbudyr75U1PPytTv35OmXkvmcuaeNXXfntevTl5LbwQCAAAAAAAAAIAA\n",
       "IRAAAAAAAAAAAAQIgQAAAAAAAAAAIEAIBAAAAAAAAAAAAUIgAAAAAAAAAAAIEAIBAAAAAAAAAECA\n",
       "EAgAAAAAAAAAAAKEQAAAAAAAAAAAECAEAgAAAAAAAACAACEQAAAAAAAAAAAECIEAAAAAAAAAACBA\n",
       "CAQAAAAAAAAAAAFCIAAAAAAAAAAACBACAQAAAAAAAABAgBAIAAAAAAAAAAAChEAAAAAAAAAAABAg\n",
       "BAIAAAAAAAAAgAAhEAAAAAAAAAAABAiBAAAAAAAAAAAgQAgEAAAAAAAAAAABQiAAAAAAAAAAAAgQ\n",
       "AgEAAAAAAAAAQMD37QEAAAAA+DustW6P8OtM3cnUuaey75/Zy6sJO9l7H/vbEz7/T6bOffJafn3N\n",
       "3ctJdtLhWvI0Z+5Z9t0x9Vp6IxAAAAAAAAAAAAQIgQAAAAAAAAAAIEAIBAAAAAAAAAAAAUIgAAAA\n",
       "AAAAAAAIEAIBAAAAAAAAAECAEAgAAAAAAAAAAAKEQAAAAAAAAAAAECAEAgAAAAAAAACAACEQAAAA\n",
       "AAAAAAAECIEAAAAAAAAAACBACAQAAAAAAAAAAAFCIAAAAAAAAAAACBACAQAAAAAAAABAgBAIAAAA\n",
       "AAAAAAAChEAAAAAAAAAAABAgBAIAAAAAAAAAgAAhEAAAAAAAAAAABAiBAAAAAAAAAAAgQAgEAAAA\n",
       "AAAAAAABQiAAAAAAAAAAAAgQAgEAAAAAAAAAQIAQCAAAAAAAAAAAAtbee98eAgAAAIDfYa11e4S3\n",
       "+ImLPzH1fPO8v/2Z4l6h7uQ9PvX+mbqTqXNP8bd/Hz5t6plzHz5r6r6nzj2VNwIBAAAAAAAAAECA\n",
       "EAgAAAAAAAAAAAKEQAAAAAAAAAAAECAEAgAAAAAAAACAACEQAAAAAAAAAAAECIEAAAAAAAAAACBA\n",
       "CAQAAAAAAAAAAAFCIAAAAAAAAAAACBACAQAAAAAAAABAgBAIAAAAAAAAAAAChEAAAAAAAAAAABAg\n",
       "BAIAAAAAAAAAgAAhEAAAAAAAAAAABAiBAAAAAAAAAAAgQAgEAAAAAAAAAAABQiAAAAAAAAAAAAgQ\n",
       "AgEAAAAAAAAAQIAQCAAAAAAAAAAAAoRAAAAAAAAAAAAQIAQCAAAAAAAAAIAAIRAAAAAAAAAAAAQI\n",
       "gQAAAAAAAAAAIGDtvfftIQAAAAB431rr9gjX+YmrY+p5dgafd/KsTL2eE+6fqbvleRPOM7zr5LPw\n",
       "k/eOZ/Yrz6aOKfchd009J94IBAAAAAAAAAAAAUIgAAAAAAAAAAAIEAIBAAAAAAAAAECAEAgAAAAA\n",
       "AAAAAAKEQAAAAAAAAAAAECAEAgAAAAAAAACAACEQAAAAAAAAAAAECIEAAAAAAAAAACBACAQAAAAA\n",
       "AAAAAAFCIAAAAAAAAAAACBACAQAAAAAAAABAgBAIAAAAAAAAAAAChEAAAAAAAAAAABAgBAIAAAAA\n",
       "AAAAgAAhEAAAAAAAAAAABAiBAAAAAAAAAAAgQAgEAAAAAAAAAAABQiAAAAAAAAAAAAgQAgEAAAAA\n",
       "AAAAQIAQCAAAAAAAAAAAAoRAAAAAAAAAAAAQIAQCAAAAAAAAAICAfwCjEM+wd2UkrQAAAABJRU5E\n",
       "rkJggg==\n",
       "\" transform=\"translate(47, 235)\"/>\n",
       "</g>\n",
       "</svg>\n"
      ]
     },
     "execution_count": 42,
     "metadata": {},
     "output_type": "execute_result"
    }
   ],
   "source": [
    "# Process the data into a simple array for plotting\n",
    "    A = zeros(Int64, (nsteps+1, nagents(model)))\n",
    "    for i in 0:nsteps\n",
    "        snapshot = data[data[!,:step] .== i, :]\n",
    "        for j in Iterators.flatten(snapshot.pos)\n",
    "            A[i+1,j] = snapshot.state[j]\n",
    "        end\n",
    "    end\n",
    "\n",
    " # Reverse the image to make it plot nicer\n",
    "    B = map( x -> x == 0 ? 1 : 0, A)\n",
    "    p = plot(Gray.(B), aspect_ratio = :equal, ylim=(0,nsteps+1), axis=nothing, xaxis=false, yaxis=false)"
   ]
  },
  {
   "cell_type": "markdown",
   "metadata": {
    "slideshow": {
     "slide_type": "slide"
    }
   },
   "source": [
    "### Aside: Running an ABM inside a function\n",
    "\n",
    "As with initialisation, it can be helpful to wrap these commands into a single function that just returns the relevant data:\n"
   ]
  },
  {
   "cell_type": "code",
   "execution_count": 43,
   "metadata": {},
   "outputs": [
    {
     "data": {
      "text/plain": [
       "run (generic function with 1 method)"
      ]
     },
     "execution_count": 43,
     "metadata": {},
     "output_type": "execute_result"
    }
   ],
   "source": [
    "function run(;rules = rule110, gridsize = 100, nsteps=20)\n",
    "    # Initialise a new ABM\n",
    "    model = initialise(rules=rules, gridsize=gridsize)\n",
    "    # Specify what data to record from the simulation\n",
    "    adata = [:pos, :state]\n",
    "    # Run the model\n",
    "    data, _ = run!(model, dummystep, model_step!, nsteps; adata)\n",
    "    # Process the data into a simple array for plotting\n",
    "    A = zeros(Int64, (nsteps+1, nagents(model)))\n",
    "    for i in 0:nsteps\n",
    "        snapshot = data[data[!,:step] .== i, :]\n",
    "        for j in Iterators.flatten(snapshot.pos)\n",
    "            A[i+1,j] = snapshot.state[j]\n",
    "        end\n",
    "    end\n",
    "    # Reverse the image to make it plot nicer\n",
    "    B = map( x -> x == 0 ? 1 : 0, A)\n",
    "    p = plot(Gray.(B), aspect_ratio = :equal, ylim=(0,nsteps+1), axis=nothing, xaxis=false, yaxis=false)\n",
    "    return p, A\n",
    "end"
   ]
  },
  {
   "cell_type": "code",
   "execution_count": 44,
   "metadata": {
    "slideshow": {
     "slide_type": "slide"
    }
   },
   "outputs": [
    {
     "data": {
      "image/svg+xml": [
       "<?xml version=\"1.0\" encoding=\"utf-8\"?>\n",
       "<svg xmlns=\"http://www.w3.org/2000/svg\" xmlns:xlink=\"http://www.w3.org/1999/xlink\" width=\"600\" height=\"400\" viewBox=\"0 0 2400 1600\">\n",
       "<defs>\n",
       "  <clipPath id=\"clip120\">\n",
       "    <rect x=\"0\" y=\"0\" width=\"2400\" height=\"1600\"/>\n",
       "  </clipPath>\n",
       "</defs>\n",
       "<path clip-path=\"url(#clip120)\" d=\"\n",
       "M0 1600 L2400 1600 L2400 0 L0 0  Z\n",
       "  \" fill=\"#ffffff\" fill-rule=\"evenodd\" fill-opacity=\"1\"/>\n",
       "<defs>\n",
       "  <clipPath id=\"clip121\">\n",
       "    <rect x=\"480\" y=\"0\" width=\"1681\" height=\"1600\"/>\n",
       "  </clipPath>\n",
       "</defs>\n",
       "<path clip-path=\"url(#clip120)\" d=\"\n",
       "M47.2441 1387.91 L2352.76 1387.91 L2352.76 212.094 L47.2441 212.094  Z\n",
       "  \" fill=\"#ffffff\" fill-rule=\"evenodd\" fill-opacity=\"1\"/>\n",
       "<defs>\n",
       "  <clipPath id=\"clip122\">\n",
       "    <rect x=\"47\" y=\"212\" width=\"2307\" height=\"1177\"/>\n",
       "  </clipPath>\n",
       "</defs>\n",
       "<g clip-path=\"url(#clip122)\">\n",
       "<image width=\"2306\" height=\"1153\" xlink:href=\"data:image/png;base64,\n",
       "iVBORw0KGgoAAAANSUhEUgAACQIAAASBCAYAAABlkHHEAAAgAElEQVR4nOzcQW4kRRBA0Q7k+185\n",
       "WKDZUAKBcXZVf947QHYopu2RnF85u7svAAAAAAAAAADguJk5dvZvx04GAAAAAAAAAADeRggEAAAA\n",
       "AAAAAAABQiAAAAAAAAAAAAgQAgEAAAAAAAAAQIAQCAAAAAAAAAAAAoRAAAAAAAAAAAAQIAQCAAAA\n",
       "AAAAAIAAIRAAAAAAAAAAAAQIgQAAAAAAAAAAIEAIBAAAAAAAAAAAAUIgAAAAAAAAAAAIEAIBAAAA\n",
       "AAAAAECAEAgAAAAAAAAAAAKEQAAAAAAAAAAAECAEAgAAAAAAAACAACEQAAAAAAAAAAAECIEAAAAA\n",
       "AAAAACBACAQAAAAAAAAAAAFCIAAAAAAAAAAACBACAQAAAAAAAABAgBAIAAAAAAAAAAAChEAAAAAA\n",
       "AAAAABAgBAIAAAAAAAAAgIB5vV578gN2jx4PAAAAAAAAAAA/ambuHuFbvAgEAAAAAAAAAAABQiAA\n",
       "AAAAAAAAAAgQAgEAAAAAAAAAQIAQCAAAAAAAAAAAAoRAAAAAAAAAAAAQIAQCAAAAAAAAAIAAIRAA\n",
       "AAAAAAAAAAQIgQAAAAAAAAAAIEAIBAAAAAAAAAAAAUIgAAAAAAAAAAAIEAIBAAAAAAAAAECAEAgA\n",
       "AAAAAAAAAAKEQAAAAAAAAAAAECAEAgAAAAAAAACAACEQAAAAAAAAAAAECIEAAAAAAAAAACBACAQA\n",
       "AAAAAAAAAAFCIAAAAAAAAAAACBACAQAAAAAAAABAgBAIAAAAAAAAAAAChEAAAAAAAAAAABAgBAIA\n",
       "AAAAAAAAgICv3T36ATNz7OzTswMAAAAAAAAA8EyalCsvAgEAAAAAAAAAQIAQCAAAAAAAAAAAAoRA\n",
       "AAAAAAAAAAAQIAQCAAAAAAAAAIAAIRAAAAAAAAAAAAQIgQAAAAAAAAAAIEAIBAAAAAAAAAAAAUIg\n",
       "AAAAAAAAAAAIEAIBAAAAAAAAAECAEAgAAAAAAAAAAAKEQAAAAAAAAAAAECAEAgAAAAAAAACAACEQ\n",
       "AAAAAAAAAAAECIEAAAAAAAAAACBACAQAAAAAAAAAAAFCIAAAAAAAAAAACBACAQAAAAAAAABAgBAI\n",
       "AAAAAAAAAAAChEAAAAAAAAAAABAgBAIAAAAAAAAAgAAhEAAAAAAAAAAABAiBAAAAAAAAAAAgYF6v\n",
       "1949xBPtWgsAAAAAAAAAwH8xM3eP8DgnmxQvAgEAAAAAAAAAQIAQCAAAAAAAAAAAAoRAAAAAAAAA\n",
       "AAAQIAQCAAAAAAAAAIAAIRAAAAAAAAAAAAQIgQAAAAAAAAAAIEAIBAAAAAAAAAAAAUIgAAAAAAAA\n",
       "AAAIEAIBAAAAAAAAAECAEAgAAAAAAAAAAAKEQAAAAAAAAAAAECAEAgAAAAAAAACAACEQAAAAAAAA\n",
       "AAAECIEAAAAAAAAAACBACAQAAAAAAAAAAAFCIAAAAAAAAAAACBACAQAAAAAAAABAgBAIAAAAAAAA\n",
       "AAAChEAAAAAAAAAAABAgBAIAAAAAAAAAgAAhEAAAAAAAAAAABAiBAAAAAAAAAAAg4Gt3757hkWbm\n",
       "2Nl2DgAAAAAAAAA8hUaiw4tAAAAAAAAAAAAQIAQCAAAAAAAAAIAAIRAAAAAAAAAAAAQIgQAAAAAA\n",
       "AAAAIEAIBAAAAAAAAAAAAUIgAAAAAAAAAAAIEAIBAAAAAAAAAECAEAgAAAAAAAAAAAKEQAAAAAAA\n",
       "AAAAECAEAgAAAAAAAACAACEQAAAAAAAAAAAECIEAAAAAAAAAACBACAQAAAAAAAAAAAFCIAAAAAAA\n",
       "AAAACBACAQAAAAAAAABAgBAIAAAAAAAAAAAChEAAAAAAAAAAABAgBAIAAAAAAAAAgAAhEAAAAAAA\n",
       "AAAABMzu7t1DfNfM3D3C43zwPycAAAAAAAAA8Bc0ElcaiSsvAgEAAAAAAAAAQIAQCAAAAAAAAAAA\n",
       "AoRAAAAAAAAAAAAQIAQCAAAAAAAAAIAAIRAAAAAAAAAAAAQIgQAAAAAAAAAAIEAIBAAAAAAAAAAA\n",
       "AUIgAAAAAAAAAAAIEAIBAAAAAAAAAECAEAgAAAAAAAAAAAKEQAAAAAAAAAAAECAEAgAAAAAAAACA\n",
       "ACEQAAAAAAAAAAAECIEAAAAAAAAAACBACAQAAAAAAAAAAAFCIAAAAAAAAAAACBACAQAAAAAAAABA\n",
       "gBAIAAAAAAAAAAAChEAAAAAAAAAAABAgBAIAAAAAAAAAgAAhEAAAAAAAAAAABAiBAAAAAAAAAAAg\n",
       "QAgEAAAAAAAAAAABX6c/YGaOnb27x87+VPYNAAAAAAAAAPdwZ/9e9n3lRSAAAAAAAAAAAAgQAgEA\n",
       "AAAAAAAAQIAQCAAAAAAAAAAAAoRAAAAAAAAAAAAQIAQCAAAAAAAAAIAAIRAAAAAAAAAAAAQIgQAA\n",
       "AAAAAAAAIEAIBAAAAAAAAAAAAUIgAAAAAAAAAAAIEAIBAAAAAAAAAECAEAgAAAAAAAAAAAKEQAAA\n",
       "AAAAAAAAECAEAgAAAAAAAACAACEQAAAAAAAAAAAECIEAAAAAAAAAACBACAQAAAAAAAAAAAFCIAAA\n",
       "AAAAAAAACBACAQAAAAAAAABAgBAIAAAAAAAAAAAChEAAAAAAAAAAABAgBAIAAAAAAAAAgAAhEAAA\n",
       "AAAAAAAABMzr9dq7h3ii3XNrmZljZ3+qk/sGAAAAAAAAgF/c2V9pJN7r5L69CAQAAAAAAAAAAAFC\n",
       "IAAAAAAAAAAACBACAQAAAAAAAABAgBAIAAAAAAAAAAAChEAAAAAAAAAAABAgBAIAAAAAAAAAgAAh\n",
       "EAAAAAAAAAAABAiBAAAAAAAAAAAgQAgEAAAAAAAAAAABQiAAAAAAAAAAAAgQAgEAAAAAAAAAQIAQ\n",
       "CAAAAAAAAAAAAoRAAAAAAAAAAAAQIAQCAAAAAAAAAIAAIRAAAAAAAAAAAAQIgQAAAAAAAAAAIEAI\n",
       "BAAAAAAAAAAAAUIgAAAAAAAAAAAIEAIBAAAAAAAAAECAEAgAAAAAAAAAAAKEQAAAAAAAAAAAECAE\n",
       "AgAAAAAAAACAgNndvXsImJljZ/uKAwAAAAAAAHwWd8jwPV4EAgAAAAAAAACAACEQAAAAAAAAAAAE\n",
       "CIEAAAAAAAAAACBACAQAAAAAAAAAAAFCIAAAAAAAAAAACBACAQAAAAAAAABAgBAIAAAAAAAAAAAC\n",
       "hEAAAAAAAAAAABAgBAIAAAAAAAAAgAAhEAAAAAAAAAAABAiBAAAAAAAAAAAgQAgEAAAAAAAAAAAB\n",
       "QiAAAAAAAAAAAAgQAgEAAAAAAAAAQIAQCAAAAAAAAAAAAoRAAAAAAAAAAAAQIAQCAAAAAAAAAIAA\n",
       "IRAAAAAAAAAAAAQIgQAAAAAAAAAAIEAIBAAAAAAAAAAAAUIgAAAAAAAAAAAIEAIBAAAAAAAAAEDA\n",
       "7O7ePQSfYWbuHuFx/PgAAAAAAAAA/1fukK/cIXM3LwIBAAAAAAAAAECAEAgAAAAAAAAAAAKEQAAA\n",
       "AAAAAAAAECAEAgAAAAAAAACAACEQAAAAAAAAAAAECIEAAAAAAAAAACBACAQAAAAAAAAAAAFCIAAA\n",
       "AAAAAAAACBACAQAAAAAAAABAgBAIAAAAAAAAAAAChEAAAAAAAAAAABAgBAIAAAAAAAAAgAAhEAAA\n",
       "AAAAAAAABAiBAAAAAAAAAAAgQAgEAAAAAAAAAAABQiAAAAAAAAAAAAgQAgEAAAAAAAAAQIAQCAAA\n",
       "AAAAAAAAAoRAAAAAAAAAAAAQ8HX3APysmTl29u4eO/tT2TcAAAAAAADwZO4038u+uZsXgQAAAAAA\n",
       "AAAAIEAIBAAAAAAAAAAAAUIgAAAAAAAAAAAIEAIBAAAAAAAAAECAEAgAAAAAAAAAAAKEQAAAAAAA\n",
       "AAAAECAEAgAAAAAAAACAACEQAAAAAAAAAAAECIEAAAAAAAAAACBACAQAAAAAAAAAAAFCIAAAAAAA\n",
       "AAAACBACAQAAAAAAAABAgBAIAAAAAAAAAAAChEAAAAAAAAAAABAgBAIAAAAAAAAAgAAhEAAAAAAA\n",
       "AAAABAiBAAAAAAAAAAAgQAgEAAAAAAAAAAABQiAAAAAAAAAAAAgQAgEAAAAAAAAAQIAQCAAAAAAA\n",
       "AAAAAoRAAAAAAAAAAAAQIAQCAAAAAAAAAICA2d29e4j/m5m5e4THOfk1tO8rP/YAAAAAAADwHO40\n",
       "r9whv5c75A4vAgEAAAAAAAAAQIAQCAAAAAAAAAAAAoRAAAAAAAAAAAAQIAQCAAAAAAAAAIAAIRAA\n",
       "AAAAAAAAAAQIgQAAAAAAAAAAIEAIBAAAAAAAAAAAAUIgAAAAAAAAAAAIEAIBAAAAAAAAAECAEAgA\n",
       "AAAAAAAAAAKEQAAAAAAAAAAAECAEAgAAAAAAAACAACEQAAAAAAAAAAAECIEAAAAAAAAAACBACAQA\n",
       "AAAAAAAAAAFCIAAAAAAAAAAACBACAQAAAAAAAABAgBAIAAAAAAAAAAAChEAAAAAAAAAAABAgBAIA\n",
       "AAAAAAAAgAAhEAAAAAAAAAAABAiBAAAAAAAAAAAgYHZ37x7iiWbm2NlWzt18vwEAAAAAAODfccdG\n",
       "me93hxeBAAAAAAAAAAAgQAgEAAAAAAAAAAABQiAAAAAAAAAAAAgQAgEAAAAAAAAAQIAQCAAAAAAA\n",
       "AAAAAoRAAAAAAAAAAAAQIAQCAAAAAAAAAIAAIRAAAAAAAAAAAAQIgQAAAAAAAAAAIEAIBAAAAAAA\n",
       "AAAAAUIgAAAAAAAAAAAIEAIBAAAAAAAAAECAEAgAAAAAAAAAAAKEQAAAAAAAAAAAECAEAgAAAAAA\n",
       "AACAACEQAAAAAAAAAAAECIEAAAAAAAAAACBACAQAAAAAAAAAAAFCIAAAAAAAAAAACBACAQAAAAAA\n",
       "AABAgBAIAAAAAAAAAAAChEAAAAAAAAAAABAwu7t3D/FdM3P3CI/zwf+c/Inv95XvNwAAAAAAAH/H\n",
       "HduVO7YO3+8r3+8rLwIBAAAAAAAAAECAEAgAAAAAAAAAAAKEQAAAAAAAAAAAECAEAgAAAAAAAACA\n",
       "ACEQAAAAAAAAAAAECIEAAAAAAAAAACBACAQAAAAAAAAAAAFCIAAAAAAAAAAACBACAQAAAAAAAABA\n",
       "gBAIAAAAAAAAAAAChEAAAAAAAAAAABAgBAIAAAAAAAAAgAAhEAAAAAAAAAAABAiBAAAAAAAAAAAg\n",
       "QAgEAAAAAAAAAAABQiAAAAAAAAAAAAgQAgEAAAAAAAAAQIAQCAAAAAAAAAAAAoRAAAAAAAAAAAAQ\n",
       "8HX6A2bm2Nm7e+zsT2Xf72Xf72XfAAAAAAAAn8+dz3vZ93vZ93vZ95UXgQAAAAAAAAAAIEAIBAAA\n",
       "AAAAAAAAAUIgAAAAAAAAAAAIEAIBAAAAAAAAAECAEAgAAAAAAAAAAAKEQAAAAAAAAAAAECAEAgAA\n",
       "AAAAAACAACEQAAAAAAAAAAAECIEAAAAAAAAAACBACAQAAAAAAAAAAAFCIAAAAAAAAAAACBACAQAA\n",
       "AAAAAABAgBAIAAAAAAAAAAAChEAAAAAAAAAAABAgBAIAAAAAAAAAgAAhEAAAAAAAAAAABAiBAAAA\n",
       "AAAAAAAgQAgEAAAAAAAAAAABQiAAAAAAAAAAAAgQAgEAAAAAAAAAQIAQCAAAAAAAAAAAAoRAAAAA\n",
       "AAAAAAAQMK/Xa+8e4ol2z61lZo6d/ans+73s+71O7hsAAAAAAOAEdz5X7tjey77fy77f6+S+vQgE\n",
       "AAAAAAAAAAABQiAAAAAAAAAAAAgQAgEAAAAAAAAAQIAQCAAAAAAAAAAAAoRAAAAAAAAAAAAQIAQC\n",
       "AAAAAAAAAIAAIRAAAAAAAAAAAAQIgQAAAAAAAAAAIEAIBAAAAAAAAAAAAUIgAAAAAAAAAAAIEAIB\n",
       "AAAAAAAAAECAEAgAAAAAAAAAAAKEQAAAAAAAAAAAECAEAgAAAAAAAACAACEQAAAAAAAAAAAECIEA\n",
       "AAAAAAAAACBACAQAAAAAAAAAAAFCIAAAAAAAAAAACBACAQAAAAAAAABAgBAIAAAAAAAAAAAChEAA\n",
       "AAAAAAAAABAgBAIAAAAAAAAAgAAhEAAAAAAAAAAABMzu7t1DAJTNzLGz/QoHAAAAAAB++ck7CXcQ\n",
       "AJ/Ji0AAAAAAAAAAABAgBAIAAAAAAAAAgAAhEAAAAAAAAAAABAiBAAAAAAAAAAAgQAgEAAAAAAAA\n",
       "AAABQiAAAAAAAAAAAAgQAgEAAAAAAAAAQIAQCAAAAAAAAAAAAoRAAAAAAAAAAAAQIAQCAAAAAAAA\n",
       "AIAAIRAAAAAAAAAAAAQIgQAAAAAAAAAAIEAIBAAAAAAAAAAAAUIgAAAAAAAAAAAIEAIBAAAAAAAA\n",
       "AECAEAgAAAAAAAAAAAKEQAAAAAAAAAAAECAEAgAAAAAAAACAACEQAAAAAAAAAAAECIEAAAAAAAAA\n",
       "ACBACAQAAAAAAAAAAAFCIAAAAAAAAAAACJjd3buHALjbzNw9wu38dwAAAAAAAOe5k3AnAXCSF4EA\n",
       "AAAAAAAAACBACAQAAAAAAAAAAAFCIAAAAAAAAAAACBACAQAAAAAAAABAgBAIAAAAAAAAAAAChEAA\n",
       "AAAAAAAAABAgBAIAAAAAAAAAgAAhEAAAAAAAAAAABAiBAAAAAAAAAAAgQAgEAAAAAAAAAAABQiAA\n",
       "AAAAAAAAAAgQAgEAAAAAAAAAQIAQCAAAAAAAAAAAAoRAAAAAAAAAAAAQIAQCAAAAAAAAAIAAIRAA\n",
       "AAAAAAAAAAQIgQAAAAAAAAAAIEAIBAAAAAAAAAAAAUIgAAAAAAAAAAAIEAIBAAAAAAAAAECAEAgA\n",
       "AAAAAAAAAAKEQAAAAAAAAAAAEPB19wAA/9TMHDt7d4+d/SnsFwAAAAAA/uBv5mfZL8A5XgQCAAAA\n",
       "AAAAAIAAIRAAAAAAAAAAAAQIgQAAAAAAAAAAIEAIBAAAAAAAAAAAAUIgAAAAAAAAAAAIEAIBAAAA\n",
       "AAAAAECAEAgAAAAAAAAAAAKEQAAAAAAAAAAAECAEAgAAAAAAAACAACEQAAAAAAAAAAAECIEAAAAA\n",
       "AAAAACBACAQAAAAAAAAAAAFCIAAAAAAAAAAACBACAQAAAAAAAABAgBAIAAAAAAAAAAAChEAAAAAA\n",
       "AAAAABAgBAIAAAAAAAAAgAAhEAAAAAAAAAAABAiBAAAAAAAAAAAgYHZ37x4C6JiZu0d4nJO/Zu37\n",
       "7H4BAAAAAHgufyO/+sm/mdvvlTsJ4BN4EQgAAAAAAAAAAAKEQAAAAAAAAAAAECAEAgAAAAAAAACA\n",
       "ACEQAAAAAAAAAAAECIEAAAAAAAAAACBACAQAAAAAAAAAAAFCIAAAAAAAAAAACBACAQAAAAAAAABA\n",
       "gBAIAAAAAAAAAAAChEAAAAAAAAAAABAgBAIAAAAAAAAAgAAhEAAAAAAAAAAABAiBAAAAAAAAAAAg\n",
       "QAgEAAAAAAAAAAABQiAAAAAAAAAAAAgQAgEAAAAAAAAAQIAQCAAAAAAAAAAAAoRAAAAAAAAAAAAQ\n",
       "IAQCgN/ZuaMcOWEsgKL1pOx/y57/oUfKtMoGbs5ZALFeXAjoKwMAAAAAAAAECIEAAAAAAAAAACBA\n",
       "CAQAAAAAAAAAAAFCIAAAAAAAAAAACJi11rp7EcBZM7Pt2m4pnGY/AwAAAAA8l2+4lNjPwBs4EQgA\n",
       "AAAAAAAAAAKEQAAAAAAAAAAAECAEAgAAAAAAAACAACEQAAAAAAAAAAAECIEAAAAAAAAAACBACAQA\n",
       "AAAAAAAAAAFCIAAAAAAAAAAACBACAQAAAAAAAABAgBAIAAAAAAAAAAAChEAAAAAAAAAAABAgBAIA\n",
       "AAAAAAAAgAAhEAAAAAAAAAAABAiBAAAAAAAAAAAgQAgEAAAAAAAAAAABQiAAAAAAAAAAAAgQAgEA\n",
       "AAAAAAAAQIAQCAAAAAAAAAAAAoRAAAAAAAAAAAAQIAQCAAAAAAAAAIAAIRAAAAAAAAAAAAQIgQAA\n",
       "AAAAAAAAIEAIBAAAAAAAAAAAAUIgAAAAAAAAAAAImLXWunsRwNXM3L2Ex3G7ei/7+cp+BgAAAACe\n",
       "wjfcK99w38t+vrKf4d/iRCAAAAAAAAAAAAgQAgEAAAAAAAAAQIAQCAAAAAAAAAAAAoRAAAAAAAAA\n",
       "AAAQIAQCAAAAAAAAAIAAIRAAAAAAAAAAAAQIgQAAAAAAAAAAIEAIBAAAAAAAAAAAAUIgAAAAAAAA\n",
       "AAAIEAIBAAAAAAAAAECAEAgAAAAAAAAAAAKEQAAAAAAAAAAAECAEAgAAAAAAAACAACEQAAAAAAAA\n",
       "AAAECIEAAAAAAAAAACBACAQAAAAAAAAAAAFCIAAAAAAAAAAACBACAQAAAAAAAABAgBAIAAAAAAAA\n",
       "AAAChEAAAAAAAAAAABAgBAIAAAAAAAAAgAAhEAAAAAAAAAAABPy5ewHwZjOz7dprrW3Xfivz3st8\n",
       "zzJvAAAAAOD/4ZviWea9l/meZd7wb3EiEAAAAAAAAAAABAiBAAAAAAAAAAAgQAgEAAAAAAAAAAAB\n",
       "QiAAAAAAAAAAAAgQAgEAAAAAAAAAQIAQCAAAAAAAAAAAAoRAAAAAAAAAAAAQIAQCAAAAAAAAAIAA\n",
       "IRAAAAAAAAAAAAQIgQAAAAAAAAAAIEAIBAAAAAAAAAAAAUIgAAAAAAAAAAAIEAIBAAAAAAAAAECA\n",
       "EAgAAAAAAAAAAAKEQAAAAAAAAAAAECAEAgAAAAAAAACAACEQAAAAAAAAAAAECIEAAAAAAAAAACBA\n",
       "CAQAAAAAAAAAAAFCIAAAAAAAAAAACBACAQAAAAAAAABAgBAIAAAAAAAAAAACZq217l4E7DQzdy/h\n",
       "cXb+7M37yrz3Mt+zPDYAAAAAwP/mm+KVb7hnfXPe5ntlP5/lbxLwO04EAgAAAAAAAACAACEQAAAA\n",
       "AAAAAAAECIEAAAAAAAAAACBACAQAAAAAAAAAAAFCIAAAAAAAAAAACBACAQAAAAAAAABAgBAIAAAA\n",
       "AAAAAAAChEAAAAAAAAAAABAgBAIAAAAAAAAAgAAhEAAAAAAAAAAABAiBAAAAAAAAAAAgQAgEAAAA\n",
       "AAAAAAABQiAAAAAAAAAAAAgQAgEAAAAAAAAAQIAQCAAAAAAAAAAAAoRAAAAAAAAAAAAQIAQCAAAA\n",
       "AAAAAIAAIRAAAAAAAAAAAAQIgQAAAAAAAAAAIGDWWuvuRcDMbLu2LQ7wPe7XAAAAALydb1wA7+B+\n",
       "Db/jRCAAAAAAAAAAAAgQAgEAAAAAAAAAQIAQCAAAAAAAAAAAAoRAAAAAAAAAAAAQIAQCAAAAAAAA\n",
       "AIAAIRAAAAAAAAAAAAQIgQAAAAAAAAAAIEAIBAAAAAAAAAAAAUIgAAAAAAAAAAAIEAIBAAAAAAAA\n",
       "AECAEAgAAAAAAAAAAAKEQAAAAAAAAAAAECAEAgAAAAAAAACAACEQAAAAAAAAAAAECIEAAAAAAAAA\n",
       "ACBACAQAAAAAAAAAAAFCIAAAAAAAAAAACBACAQAAAAAAAABAgBAIAAAAAAAAAAAChEAAAAAAAAAA\n",
       "ABAgBAIAAAAAAAAAgAAhEAAAAAAAAAAABMxaa929CN5hZu5ewuP4+QBP5H595X4NAAAA8C6+cV35\n",
       "xgU8kfv1lfs1d3MiEAAAAAAAAAAABAiBAAAAAAAAAAAgQAgEAAAAAAAAAAABQiAAAAAAAAAAAAgQ\n",
       "AgEAAAAAAAAAQIAQCAAAAAAAAAAAAoRAAAAAAAAAAAAQIAQCAAAAAAAAAIAAIRAAAAAAAAAAAAQI\n",
       "gQAAAAAAAAAAIEAIBAAAAAAAAAAAAUIgAAAAAAAAAAAIEAIBAAAAAAAAAECAEAgAAAAAAAAAAAKE\n",
       "QAAAAAAAAAAAECAEAgAAAAAAAACAACEQAAAAAAAAAAAECIEAAAAAAAAAACBACAQAAAAAAAAAAAFC\n",
       "IAAAAAAAAAAACBACAQAAAAAAAABAgBAIAAAAAAAAAAAChEAAAAAAAAAAABDw5+4F8F0zs+3aa61t\n",
       "134r8wZ+y/3jLPMGAAAA+K6d31s+H99cfuIbF/Bb7h9nmTd3cyIQAAAAAAAAAAAECIEAAAAAAAAA\n",
       "ACBACAQAAAAAAAAAAAFCIAAAAAAAAAAACBACAQAAAAAAAABAgBAIAAAAAAAAAAAChEAAAAAAAAAA\n",
       "ABAgBAIAAAAAAAAAgAAhEAAAAAAAAAAABAiBAAAAAAAAAAAgQAgEAAAAAAAAAAABQiAAAAAAAAAA\n",
       "AAgQAgEAAAAAAAAAQIAQCAAAAAAAAAAAAoRAAAAAAAAAAAAQIAQCAAAAAAAAAIAAIRAAAAAAAAAA\n",
       "AAQIgQAAAAAAAAAAIEAIBAAAAAAAAAAAAUIgAAAAAAAAAAAIEAIBAAAAAAAAAECAEAgAAAAAAAAA\n",
       "AAJmrbXuXsS/ZmbuXsLj7NyG5n3lZw9/x/3jyv36PPdsAAAA4Ld8b/mZb1xn+b4Ff8f948r9+iz3\n",
       "6w4nAgEAAAAAAAAAQIAQCAAAAAAAAAAAAoRAAAAAAAAAAAAQIAQCAAAAAAAAAIAAIRAAAAAAAAAA\n",
       "AAQIgQAAAAAAAAAAIEAIBAAAAAAAAAAAAUIgAAAAAAAAAAAIEAIBAAAAAAAAAECAEAgAAAAAAAAA\n",
       "AAKEQAAAAAAAAAAAECAEAgAAAAAAAACAACEQAAAAAAAAAAAECIEAAAAAAAAAACBACAQAAAAAAAAA\n",
       "AAFCIAAAAAAAAAAACBACAQAAAAAAAABAgBAIAAAAAAAAAAAChEAAAAAAAAAAABAwa6119yKeaGa2\n",
       "XdvIuZv9TYn9TJ09DgAAAG3e/amzxymxnymzvzucCAQAAAAAAAAAAAFCIAAAAAAAAAAACBACAQAA\n",
       "AAAAAABAgBAIAAAAAAAAAAAChEAAAAAAAAAAABAgBAIAAAAAAAAAgAAhEAAAAAAAAAAABAiBAAAA\n",
       "AAAAAAAgQAgEAAAAAAAAAAABQiAAAAAAAAAAAAgQAgEAAAAAAAAAQIAQCAAAAAAAAAAAAoRAAAAA\n",
       "AAAAAAAQIAQCAAAAAAAAAIAAIRAAAAAAAAAAAAQIgQAAAAAAAAAAIEAIBAAAAAAAAAAAAUIgAAAA\n",
       "AAAAAAAIEAIBAAAAAAAAAECAEAgAAAAAAOlGtZIAABltSURBVAAAAAKEQAAAAAAAAAAAECAEAgAA\n",
       "AAAAAACAgFlrrbsX8Vszc/cSHufF/538F/v7yv5+L/v5yn7usL9/Zo8DAABQ4v3/yrt/iz1+ZY+/\n",
       "l/18ZT932N9X9veVE4EAAAAAAAAAACBACAQAAAAAAAAAAAFCIAAAAAAAAAAACBACAQAAAAAAAABA\n",
       "gBAIAAAAAAAAAAAChEAAAAAAAAAAABAgBAIAAAAAAAAAgAAhEAAAAAAAAAAABAiBAAAAAAAAAAAg\n",
       "QAgEAAAAAAAAAAABQiAAAAAAAAAAAAgQAgEAAAAAAAAAQIAQCAAAAAAAAAAAAoRAAAAAAAAAAAAQ\n",
       "IAQCAAAAAAAAAIAAIRAAAAAAAAAAAAQIgQAAAAAAAAAAIEAIBAAAAAAAAAAAAUIgAAAAAAAAAAAI\n",
       "EAIBAAAAAAAAAECAEAgAAAAAAAAAAAKEQAAAAAAAAAAAEPBn9z8wM9uuvdbadu23Mu+zzPss897L\n",
       "fM8y77PM+zwzBwAA4DTvomftnPfnY+Y/scfPMu+9zPcs8z7LvM8y7ysnAgEAAAAAAAAAQIAQCAAA\n",
       "AAAAAAAAAoRAAAAAAAAAAAAQIAQCAAAAAAAAAIAAIRAAAAAAAAAAAAQIgQAAAAAAAAAAIEAIBAAA\n",
       "AAAAAAAAAUIgAAAAAAAAAAAIEAIBAAAAAAAAAECAEAgAAAAAAAAAAAKEQAAAAAAAAAAAECAEAgAA\n",
       "AAAAAACAACEQAAAAAAAAAAAECIEAAAAAAAAAACBACAQAAAAAAAAAAAFCIAAAAAAAAAAACBACAQAA\n",
       "AAAAAABAgBAIAAAAAAAAAAAChEAAAAAAAAAAABAgBAIAAAAAAAAAgAAhEAAAAAAAAAAABAiBAAAA\n",
       "AAAAAAAgQAgEAAAAAAAAAAAB8/l81t2LeKK19o1lZrZd+63M+yzzPsu89zLfs8z7PDM/a+e8AQAA\n",
       "8C76E+/+55n5WeZ91jfnbb5X9vNZ5n2WeZ+1c95OBAIAAAAAAAAAgAAhEAAAAAAAAAAABAiBAAAA\n",
       "AAAAAAAgQAgEAAAAAAAAAAABQiAAAAAAAAAAAAgQAgEAAAAAAAAAQIAQCAAAAAAAAAAAAoRAAAAA\n",
       "AAAAAAAQIAQCAAAAAAAAAIAAIRAAAAAAAAAAAAQIgQAAAAAAAAAAIEAIBAAAAAAAAAAAAUIgAAAA\n",
       "AAAAAAAIEAIBAAAAAAAAAECAEAgAAAAAAAAAAAKEQAAAAAAAAAAAECAEAgAAAAAAAACAACEQAAAA\n",
       "AAAAAAAECIEAAAAAAAAAACBACAQAAAAAAAAAAAFCIAAAAAAAAAAACBACAQAAAAAAAABAwKy11t2L\n",
       "AACAJ5iZbdf22A0AALyFdyMAAHgvJwIBAAAAAAAAAECAEAgAAAAAAAAAAAKEQAAAAAAAAAAAECAE\n",
       "AgAAAAAAAACAACEQAAAAAAAAAAAECIEAAAAAAAAAACBACAQAAAAAAAAAAAFCIAAAAAAAAAAACBAC\n",
       "AQAAAAAAAABAgBAIAAAAAAAAAAAChEAAAAAAAAAAABAgBAIAAAAAAAAAgAAhEAAAAAAAAAAABAiB\n",
       "AAAAAAAAAAAgQAgEAAAAAAAAAAABQiAAAAAAAAAAAAgQAgEAAAAAAAAAQIAQCAAAAAAAAAAAAoRA\n",
       "AAAAAAAAAAAQMGutdfciAADgb83M3Ut4HI/0AADA5+N9ybsRAAA4EQgAAAAAAAAAABKEQAAAAAAA\n",
       "AAAAECAEAgAAAAAAAACAACEQAAAAAAAAAAAECIEAAAAAAAAAACBACAQAAAAAAAAAAAFCIAAAAAAA\n",
       "AAAACBACAQAAAAAAAABAgBAIAAAAAAAAAAAChEAAAAAAAAAAABAgBAIAAAAAAAAAgAAhEAAAAAAA\n",
       "AAAABAiBAAAAAAAAAAAgQAgEAAAAAAAAAAABQiAAAAAAAAAAAAgQAgEAAAAAAAAAQIAQCAAAAAAA\n",
       "AAAAAoRAAAAAAAAAAAAQIAQCAAAAAAAAAIAAIRAAAAAAAAAAAAQIgQAAAAAAAAAAIEAIBAAAAAAA\n",
       "AAAAAX/uXgAAAD0zs+3aa61t136rb83bbAEAYD/vS/uYLQAAOBEIAAAAAAAAAAAShEAAAAAAAAAA\n",
       "ABAgBAIAAAAAAAAAgAAhEAAAAAAAAAAABAiBAAAAAAAAAAAgQAgEAAAAAAAAAAABQiAAAAAAAAAA\n",
       "AAgQAgEAAAAAAAAAQIAQCAAAAAAAAAAAAoRAAAAAAAAAAAAQIAQCAAAAAAAAAIAAIRAAAAAAAAAA\n",
       "AAQIgQAAAAAAAAAAIEAIBAAAAAAAAAAAAUIgAAAAAAAAAAAIEAIBAAAAAAAAAECAEAgAAAAAAAAA\n",
       "AAKEQAAAAAAAAAAAECAEAgAAAAAAAACAACEQAAAAAAAAAAAECIEAAAAAAAAAACBACAQAAAAAAAAA\n",
       "AAGz1lp3LwIAgPNm5u4lPM7OR+N/fd5eOwAAeBPP796NTvK+BADANzkRCAAAAAAAAAAAAoRAAAAA\n",
       "AAAAAAAQIAQCAAAAAAAAAIAAIRAAAAAAAAAAAAQIgQAAAAAAAAAAIEAIBAAAAAAAAAAAAUIgAAAA\n",
       "AAAAAAAIEAIBAAAAAAAAAECAEAgAAAAAAAAAAAKEQAAAAAAAAAAAECAEAgAAAAAAAACAACEQAAAA\n",
       "AAAAAAAECIEAAAAAAAAAACBACAQAAAAAAAAAAAFCIAAAAAAAAAAACBACAQAAAAAAAABAgBAIAAAA\n",
       "AAAAAAAChEAAAAAAAAAAABAgBAIAAAAAAAAAgAAhEAAAAAAAAAAABAiBAAAAAAAAAAAgQAgEAAAA\n",
       "AAAAAAABQiAAAAAAAAAAAAiYtda6exEAAPxsZrZd22MgJ9nLAAB8m2dMKuxlAAC+yYlAAAAAAAAA\n",
       "AAAQIAQCAAAAAAAAAIAAIRAAAAAAAAAAAAQIgQAAAAAAAAAAIEAIBAAAAAAAAAAAAUIgAAAAAAAA\n",
       "AAAIEAIBAAAAAAAAAECAEAgAAAAAAAAAAAKEQAAAAAAAAAAAECAEAgAAAAAAAACAACEQAAAAAAAA\n",
       "AAAECIEAAAAAAAAAACBACAQAAAAAAAAAAAFCIAAAAAAAAAAACBACAQAAAAAAAABAgBAIAAAAAAAA\n",
       "AAAChEAAAAAAAAAAABAgBAIAAAAAAAAAgAAhEAAAAAAAAAAABAiBAAAAAAAAAAAgQAgEAAAAAAAA\n",
       "AAABQiAAAAAAAAAAAAiYtda6exEAAG81M3cv4ZE8Yr6T/XxlLwMA/J7ny595xnwn+/nKXgYAeCYn\n",
       "AgEAAAAAAAAAQIAQCAAAAAAAAAAAAoRAAAAAAAAAAAAQIAQCAAAAAAAAAIAAIRAAAAAAAAAAAAQI\n",
       "gQAAAAAAAAAAIEAIBAAAAAAAAAAAAUIgAAAAAAAAAAAIEAIBAAAAAAAAAECAEAgAAAAAAAAAAAKE\n",
       "QAAAAAAAAAAAECAEAgAAAAAAAACAACEQAAAAAAAAAAAECIEAAAAAAAAAACBACAQAAAAAAAAAAAFC\n",
       "IAAAAAAAAAAACBACAQAAAAAAAABAgBAIAAAAAAAAAAAChEAAAAAAAAAAABDw5+4FAADsNjPbrr3W\n",
       "2nbtNzPzs741b7O92rmXPx8zBwDu59n9PDPfx2zP8r4EAPBMTgQCAAAAAAAAAIAAIRAAAAAAAAAA\n",
       "AAQIgQAAAAAAAAAAIEAIBAAAAAAAAAAAAUIgAAAAAAAAAAAIEAIBAAAAAAAAAECAEAgAAAAAAAAA\n",
       "AAKEQAAAAAAAAAAAECAEAgAAAAAAAACAACEQAAAAAAAAAAAECIEAAAAAAAAAACBACAQAAAAAAAAA\n",
       "AAFCIAAAAAAAAAAACBACAQAAAAAAAABAgBAIAAAAAAAAAAAChEAAAAAAAAAAABAgBAIAAAAAAAAA\n",
       "gAAhEAAAAAAAAAAABAiBAAAAAAAAAAAgQAgEAAAAAAAAAAABQiAAAAAAAAAAAAgQAgEAAAAAAAAA\n",
       "QMCstdbdiwAAmJm7l/BIOx/VzPzKvPcx2/O86gFAh+edn3nG3MdszzLv87wvAQBlTgQCAAAAAAAA\n",
       "AIAAIRAAAAAAAAAAAAQIgQAAAAAAAAAAIEAIBAAAAAAAAAAAAUIgAAAAAAAAAAAIEAIBAAAAAAAA\n",
       "AECAEAgAAAAAAAAAAAKEQAAAAAAAAAAAECAEAgAAAAAAAACAACEQAAAAAAAAAAAECIEAAAAAAAAA\n",
       "ACBACAQAAAAAAAAAAAFCIAAAAAAAAAAACBACAf9p5w5QYoehAIr6wP1vOX8BHfgik3R6PWcBJTxj\n",
       "GuVSAAAAAAAAACBACAQAAAAAAAAAAAFCIAAAAAAAAAAACBACAQAAAAAAAABAgBAIAAAAAAAAAAAC\n",
       "hEAAAAAAAAAAABAgBAIAAAAAAAAAgAAhEAAAAAAAAAAABAiBAAAAAAAAAAAgYNZa6+5FAADPMDPb\n",
       "nu1KAvBezmwAOMu7F+A5nNkAQJkvAgEAAAAAAAAAQIAQCAAAAAAAAAAAAoRAAAAAAAAAAAAQIAQC\n",
       "AAAAAAAAAIAAIRAAAAAAAAAAAAQIgQAAAAAAAAAAIEAIBAAAAAAAAAAAAUIgAAAAAAAAAAAIEAIB\n",
       "AAAAAAAAAECAEAgAAAAAAAAAAAKEQAAAAAAAAAAAECAEAgAAAAAAAACAACEQAAAAAAAAAAAECIEA\n",
       "AAAAAAAAACBACAQAAAAAAAAAAAFCIAAAAAAAAAAACBACAQAAAAAAAABAgBAIAAAAAAAAAAAChEAA\n",
       "AAAAAAAAABAgBAIAAAAAAAAAgAAhEAAAAAAAAAAABAiBAAAAAAAAAAAgQAgEAAAAAAAAAAABs9Za\n",
       "dy8CAHifmbl7CR/HdQf4VM7sK2c2ADt591559wKfypl95cwGAH7CF4EAAAAAAAAAACBACAQAAAAA\n",
       "AAAAAAFCIAAAAAAAAAAACBACAQAAAAAAAABAgBAIAAAAAAAAAAAChEAAAAAAAAAAABAgBAIAAAAA\n",
       "AAAAgAAhEAAAAAAAAAAABAiBAAAAAAAAAAAgQAgEAAAAAAAAAAABQiAAAAAAAAAAAAgQAgEAAAAA\n",
       "AAAAQIAQCAAAAAAAAAAAAoRAAAAAAAAAAAAQIAQCAAAAAAAAAIAAIRAAAAAAAAAAAAQIgQAAAAAA\n",
       "AAAAIEAIBAAAAAAAAAAAAUIgAAAAAAAAAAAI+L57AQDwF83MtmevtbY9+6nMG/itnefH15cz5BVn\n",
       "NgDeBWeZN/Bb/l46z5kNAPyELwIBAAAAAAAAAECAEAgAAAAAAAAAAAKEQAAAAAAAAAAAECAEAgAA\n",
       "AAAAAACAACEQAAAAAAAAAAAECIEAAAAAAAAAACBACAQAAAAAAAAAAAFCIAAAAAAAAAAACBACAQAA\n",
       "AAAAAABAgBAIAAAAAAAAAAAChEAAAAAAAAAAABAgBAIAAAAAAAAAgAAhEAAAAAAAAAAABAiBAAAA\n",
       "AAAAAAAgQAgEAAAAAAAAAAABQiAAAAAAAAAAAAgQAgEAAAAAAAAAQIAQCAAAAAAAAAAAAoRAAAAA\n",
       "AAAAAAAQIAQCAAAAAAAAAIAAIRAAAAAAAAAAAAQIgQAAAAAAAAAAIGDWWuvuRQDAJ5qZu5fwcXZe\n",
       "G8z7NVc1+D/nx2vO7LOc18Bf411w5d17nvcv/J/z4zVn9lnOawA4yxeBAAAAAAAAAAAgQAgEAAAA\n",
       "AAAAAAABQiAAAAAAAAAAAAgQAgEAAAAAAAAAQIAQCAAAAAAAAAAAAoRAAAAAAAAAAAAQIAQCAAAA\n",
       "AAAAAIAAIRAAAAAAAAAAAAQIgQAAAAAAAAAAIEAIBAAAAAAAAAAAAUIgAAAAAAAAAAAIEAIBAAAA\n",
       "AAAAAECAEAgAAAAAAAAAAAKEQAAAAAAAAAAAECAEAgAAAAAAAACAACEQAAAAAAAAAAAECIEAAAAA\n",
       "AAAAACBACAQAAAAAAAAAAAFCIAAAAAAAAAAACBACAQAAAAAAAABAgBAIAAAAAAAAAAAChEAAAAAA\n",
       "AAAAABAwa6119yIA4LdmZtuzvSL5BPY4FfYydfY48ImcTdTZ41TYy9TZ4wBwli8CAQAAAAAAAABA\n",
       "gBAIAAAAAAAAAAAChEAAAAAAAAAAABAgBAIAAAAAAAAAgAAhEAAAAAAAAAAABAiBAAAAAAAAAAAg\n",
       "QAgEAAAAAAAAAAABQiAAAAAAAAAAAAgQAgEAAAAAAAAAQIAQCAAAAAAAAAAAAoRAAAAAAAAAAAAQ\n",
       "IAQCAAAAAAAAAIAAIRAAAAAAAAAAAAQIgQAAAAAAAAAAIEAIBAAAAAAAAAAAAUIgAAAAAAAAAAAI\n",
       "EAIBAAAAAAAAAECAEAgAAAAAAAAAAAKEQAAAAAAAAAAAECAEAgAAAAAAAACAACEQAAAAAAAAAAAE\n",
       "CIEAAAAAAAAAACBg1lrr7kUA0DYzdy/h43j9dtjfr9njz2Q/X9nLLfb4lT0O93M2XTmbOuzv1+zx\n",
       "Z7Kfr+zlFnv8yh4H4Kl8EQgAAAAAAAAAAAKEQAAAAAAAAAAAECAEAgAAAAAAAACAACEQAAAAAAAA\n",
       "AAAECIEAAAAAAAAAACBACAQAAAAAAAAAAAFCIAAAAAAAAAAACBACAQAAAAAAAABAgBAIAAAAAAAA\n",
       "AAAChEAAAAAAAAAAABAgBAIAAAAAAAAAgAAhEAAAAAAAAAAABAiBAAAAAAAAAAAgQAgEAAAAAAAA\n",
       "AAABQiAAAAAAAAAAAAgQAgEAAAAAAAAAQIAQCAAAAAAAAAAAAoRAAAAAAAAAAAAQIAQCAAAAAAAA\n",
       "AIAAIRAAAAAAAAAAAAQIgQAAAAAAAAAAIEAIBAAAAAAAAAAAAUIgAAAAAAAAAAAI+L57AQB8hpnZ\n",
       "9uy11rZnP5V5n2Xe55n5We+at9le7dzLX19m/orz4yzzhp/xu3KWeZ9l3ueZ+T5me5a/l86zx88y\n",
       "bwCeyheBAAAAAAAAAAAgQAgEAAAAAAAAAAABQiAAAAAAAAAAAAgQAgEAAAAAAAAAQIAQCAAAAAAA\n",
       "AAAAAoRAAAAAAAAAAAAQIAQCAAAAAAAAAIAAIRAAAAAAAAAAAAQIgQAAAAAAAAAAIEAIBAAAAAAA\n",
       "AAAAAUIgAAAAAAAAAAAIEAIBAAAAAAAAAECAEAgAAAAAAAAAAAKEQAAAAAAAAAAAECAEAgAAAAAA\n",
       "AACAACEQAAAAAAAAAAAECIEAAAAAAAAAACBACAQAAAAAAAAAAAFCIAAAAAAAAAAACJi11rp7EQD8\n",
       "zszcvYTb7XyNme+VeZ9n5meZ9z5me56Zn2XeZ/lXBq/4XblyNp1l3ueZ+T5me5Z5n2fmZ5n3Wf5e\n",
       "AsAXgQAAAAAAAAAAIEAIBAAAAAAAAAAAAUIgAAAAAAAAAAAIEAIBAAAAAAAAAECAEAgAAAAAAAAA\n",
       "AAKEQAAAAAAAAAAAECAEAgAAAAAAAACAACEQAAAAAAAAAAAECIEAAAAAAAAAACBACAQAAAAAAAAA\n",
       "AAFCIAAAAAAAAAAACBACAQAAAAAAAABAgBAIAAAAAAAAAAAChEAAAAAAAAAAABAgBAIAAAAAAAAA\n",
       "gAAhEAAAAAAAAAAABAiBAAAAAAAAAAAgQAgEAAAAAAAAAAABQiAAAAAAAAAAAAgQAgEAAAAAAAAA\n",
       "QIAQCAAAAAAAAAAAAoRAAAAAAAAAAAAQMGutdfciAMpmZtuzHeEAAPxF7tjP5WcHAAB7vfPO7Y4N\n",
       "8Ey+CAQAAAAAAAAAAAFCIAAAAAAAAAAACBACAQAAAAAAAABAgBAIAAAAAAAAAAAChEAAAAAAAAAA\n",
       "ABAgBAIAAAAAAAAAgAAhEAAAAAAAAAAABAiBAAAAAAAAAAAgQAgEAAAAAAAAAAABQiAAAAAAAAAA\n",
       "AAgQAgEAAAAAAAAAQIAQCAAAAAAAAAAAAoRAAAAAAAAAAAAQIAQCAAAAAAAAAIAAIRAAAAAAAAAA\n",
       "AAQIgQAAAAAAAAAAIEAIBAAAAAAAAAAAAUIgAAAAAAAAAAAIEAIBAAAAAAAAAECAEAgAAAAAAAAA\n",
       "AAKEQAAAAAAAAAAAECAEAgAAAAAAAACAgFlrrbsXAXC3mbl7CbfzOgAA4J3csa+ecuf2s7t6ys8O\n",
       "AIBncOd2xwbYyReBAAAAAAAAAAAgQAgEAAAAAAAAAAABQiAAAAAAAAAAAAgQAgEAAAAAAAAAQIAQ\n",
       "CAAAAAAAAAAAAoRAAAAAAAAAAAAQIAQCAAAAAAAAAIAAIRAAAAAAAAAAAAQIgQAAAAAAAAAAIEAI\n",
       "BAAAAAAAAAAAAUIgAAAAAAAAAAAIEAIBAAAAAAAAAECAEAgAAAAAAAAAAAKEQAAAAAAAAAAAECAE\n",
       "AgAAAAAAAACAACEQAAAAAAAAAAAECIEAAAAAAAAAACBACAQAAAAAAAAAAAFCIAAAAAAAAAAACBAC\n",
       "AQAAAAAAAABAgBAIAAAAAAAAAAAChEAAAAAAAAAAABDwffcCAH5qZrY9e6217dlPYb4AAH+PO+BZ\n",
       "O+f9Tn52V35XAAD+HnfAvcwXYB9fBAIAAAAAAAAAgAAhEAAAAAAAAAAABAiBAAAAAAAAAAAgQAgE\n",
       "AAAAAAAAAAABQiAAAAAAAAAAAAgQAgEAAAAAAAAAQIAQCAAAAAAAAAAAAoRAAAAAAAAAAAAQIAQC\n",
       "AAAAAAAAAIAAIRAAAAAAAAAAAAQIgQAAAAAAAAAAIEAIBAAAAAAAAAAAAUIgAAAAAAAAAAAIEAIB\n",
       "AAAAAAAAAECAEAgAAAAAAAAAAAKEQAAAAAAAAAAAECAEAgAAAAAAAACAACEQAAAAAAAAAAAECIEA\n",
       "AAAAAAAAACBACAQAAAAAAAAAAAFCIAAAAAAAAAAACBACAQAAAAAAAABAwD8+0eeTBg10aAAAAABJ\n",
       "RU5ErkJggg==\n",
       "\" transform=\"translate(47, 235)\"/>\n",
       "</g>\n",
       "</svg>\n"
      ]
     },
     "execution_count": 44,
     "metadata": {},
     "output_type": "execute_result"
    }
   ],
   "source": [
    "p, _ = run(rules = rule22, gridsize=101, nsteps = 50)\n",
    "p"
   ]
  },
  {
   "cell_type": "code",
   "execution_count": null,
   "metadata": {
    "nbpresent": {
     "id": "90a8f86c-30e2-4459-a621-27e9b8a46e1b"
    }
   },
   "outputs": [],
   "source": []
  },
  {
   "cell_type": "code",
   "execution_count": null,
   "metadata": {
    "nbpresent": {
     "id": "65fc80f1-0db7-4916-baec-971eb591c557"
    }
   },
   "outputs": [],
   "source": []
  }
 ],
 "metadata": {
  "celltoolbar": "Slideshow",
  "kernelspec": {
   "display_name": "Julia 1.7.2",
   "language": "julia",
   "name": "julia-1.7"
  },
  "language_info": {
   "file_extension": ".jl",
   "mimetype": "application/julia",
   "name": "julia",
   "version": "1.7.2"
  }
 },
 "nbformat": 4,
 "nbformat_minor": 2
}

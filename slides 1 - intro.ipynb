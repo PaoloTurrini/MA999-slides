{
 "cells": [
  {
   "cell_type": "code",
   "execution_count": 12,
   "metadata": {
    "scrolled": true,
    "slideshow": {
     "slide_type": "skip"
    }
   },
   "outputs": [
    {
     "name": "stderr",
     "output_type": "stream",
     "text": [
      "\u001b[32m\u001b[1m  Activating\u001b[22m\u001b[39m project at `~/Documents/GitHub/MA999-slides`\n",
      "┌ Warning: The active manifest file is an older format with no julia version entry. Dependencies may have been resolved with a different julia version.\n",
      "└ @ nothing /Users/paoloturrini/Documents/GitHub/MA999-slides/Manifest.toml:0\n",
      "\u001b[32m\u001b[1mPrecompiling\u001b[22m\u001b[39m project...\n",
      "\u001b[32m  ✓ \u001b[39m\u001b[90mSuiteSparse_jll\u001b[39m\n",
      "\u001b[32m  ✓ \u001b[39m\u001b[90mKLU\u001b[39m\n",
      "\u001b[32m  ✓ \u001b[39m\u001b[90mSundials_jll\u001b[39m\n",
      "\u001b[32m  ✓ \u001b[39m\u001b[90mLinearSolve\u001b[39m\n",
      "\u001b[32m  ✓ \u001b[39m\u001b[90mSundials\u001b[39m\n",
      "\u001b[32m  ✓ \u001b[39m\u001b[90mOrdinaryDiffEq\u001b[39m\n",
      "\u001b[32m  ✓ \u001b[39m\u001b[90mDiffEqCallbacks\u001b[39m\n",
      "\u001b[32m  ✓ \u001b[39m\u001b[90mDelayDiffEq\u001b[39m\n",
      "\u001b[32m  ✓ \u001b[39m\u001b[90mStochasticDiffEq\u001b[39m\n",
      "\u001b[32m  ✓ \u001b[39m\u001b[90mSteadyStateDiffEq\u001b[39m\n",
      "\u001b[32m  ✓ \u001b[39mDifferentialEquations\n",
      "  11 dependencies successfully precompiled in 128 seconds (297 already precompiled)\n"
     ]
    }
   ],
   "source": [
    "using Pkg\n",
    "Pkg.activate(\".\")\n",
    "Pkg.instantiate()"
   ]
  },
  {
   "cell_type": "code",
   "execution_count": 13,
   "metadata": {
    "slideshow": {
     "slide_type": "skip"
    }
   },
   "outputs": [],
   "source": [
    "using Agents\n",
    "using Plots\n",
    "using DataFrames"
   ]
  },
  {
   "cell_type": "markdown",
   "metadata": {
    "nbpresent": {
     "id": "645119a8-e06f-49fe-afef-aeb582bec315"
    },
    "slideshow": {
     "slide_type": "slide"
    }
   },
   "source": [
    "# MA999 - Agent based modelling 1 - introduction\n",
    "\n",
    "## MathSys CDT 2022\n",
    "\n",
    "### Lecturer: Paolo Turrini (with massive acknowledgments to Colm Connaughton) "
   ]
  },
  {
   "cell_type": "markdown",
   "metadata": {
    "nbpresent": {
     "id": "ee4a50a9-8c7a-4a04-8f5d-7936fa4915d7"
    },
    "slideshow": {
     "slide_type": "slide"
    }
   },
   "source": [
    "## Summary\n",
    "\n",
    "* What is agent-based modelling?\n",
    "* Example 1: one-dimensional cellular automata\n",
    "* Agents.jl - Agent-based modelling in Julia\n",
    "* Example 2: Traffic flow and congestion games\n",
    "* Mathematical analysis of congestion games: Braess' paradox and the price of anarchy\n",
    "* Example 3: Gaia hypothesis: planetary homeostasis in the Daisyworld model\n",
    "* Mathematical analysis of the mean field Daisyworld model"
   ]
  },
  {
   "cell_type": "markdown",
   "metadata": {
    "nbpresent": {
     "id": "bdddb761-088a-42b2-8b20-f600e76ade27"
    },
    "slideshow": {
     "slide_type": "slide"
    }
   },
   "source": [
    "## What is agent based modelling?\n",
    "* An ABM is a model built from multiple autonomous agents that react to their environment (including the other agents) using a predefined set of rules.\n",
    "* The environment can, in turn, be altered by the actions of the agents.\n",
    "### Advantages\n",
    "* Massive flexibility - many of the assumptions of \"mathematical\" models can be relaxed.\n",
    "* Easy to simulate and visualise.\n",
    "* Can handle heterogeneity in a natural way - not all agents need to be identical.\n",
    "* Often the only option for studying complex adaptive systems."
   ]
  },
  {
   "cell_type": "markdown",
   "metadata": {
    "nbpresent": {
     "id": "bdddb761-088a-42b2-8b20-f600e76ade27"
    },
    "slideshow": {
     "slide_type": "slide"
    }
   },
   "source": [
    "### Disadvantages\n",
    "* Potentially large number of parameters and rather under-developed theory for model selection.\n",
    "* Temptation to favour model \"fidelity\" over parsimony can lead to inappropriate predictive use.\n",
    "* Can become computationally expensive.\n",
    "* Complex ABMs are difficult to understand."
   ]
  },
  {
   "cell_type": "markdown",
   "metadata": {
    "nbpresent": {
     "id": "7317a812-d066-4166-af2f-9de07a7f42bc"
    },
    "slideshow": {
     "slide_type": "slide"
    }
   },
   "source": [
    "##  Example 1: one-dimensional cellular automata\n",
    "\n",
    "* \"Agents\" are nodes on a one-dimensional grid: $G = \\{v1, v2, \\ldots v_N\\}$.\n",
    "* Each agent has a single \"state\" attribute,$x_i$, taking values 0 or 1.\n",
    "* Time proceeds in discrete steps.\n",
    "* At each step, agents update states based on neighbouring states.\n",
    "* Such a model is specified by:\n",
    "    * initial state, $X(0) = \\{x_1(0), x_2(0), \\ldots x_N(0)\\}$.\n",
    "    * an update rule that maps the current states of an agent and its neighbours to the new state:\n",
    "    $$S : (x_{i-1},\\, x_i,\\, x_{i+1}) \\to x_i$$\n",
    "    "
   ]
  },
  {
   "cell_type": "markdown",
   "metadata": {
    "nbpresent": {
     "id": "7317a812-d066-4166-af2f-9de07a7f42bc"
    },
    "slideshow": {
     "slide_type": "slide"
    }
   },
   "source": [
    "##  Example 1: one-dimensional cellular automata\n",
    "\n",
    "$$S : (x_{i-1},\\, x_i,\\, x_{i+1}) \\to x_i$$\n",
    "\n",
    "* How many such rules are there?\n",
    "    * a rule must specify an output bit for $2^3 = 8$ possible input configurations of 3 bits.\n",
    "    * hence there are $2^8 = 256$ rules. "
   ]
  },
  {
   "cell_type": "markdown",
   "metadata": {
    "nbpresent": {
     "id": "803b0866-1d88-4f43-bda4-97ec3c766cc6"
    },
    "slideshow": {
     "slide_type": "slide"
    }
   },
   "source": [
    "## Naming one-dimensional CA : the Wolfram code\n",
    "\n",
    "Stephen Wolfram devised what is now the standard rule for naming 1D CA. Each rule is assigned a number between 0 and 255.\n",
    "\n",
    "* Write each of the possible configurations in order and its corresponding output value as follows:\n",
    "\n",
    "|Input | 111 | 110 | 101 | 100 | 011 | 010 | 001| 000 |\n",
    "| - | - | - | - | - | - | - | - | - |\n",
    "|Output | 0 | 1 | 1 | 0 | 1 | 1 | 1 | 0 |\n",
    "\n",
    "* Interpret the output row as a binary integer to give the rule number."
   ]
  },
  {
   "cell_type": "markdown",
   "metadata": {
    "nbpresent": {
     "id": "803b0866-1d88-4f43-bda4-97ec3c766cc6"
    },
    "slideshow": {
     "slide_type": "slide"
    }
   },
   "source": [
    "## Naming one-dimensional CA : the Wolfram code\n",
    "\n",
    "|Input | 111 | 110 | 101 | 100 | 011 | 010 | 001| 000 |\n",
    "| - | - | - | - | - | - | - | - | - |\n",
    "|Output | 0 | 1 | 1 | 0 | 1 | 1 | 1 | 0 |\n",
    "\n",
    "The above rule is $0 \\times 128 + 1\\times 64 + 1\\times 32 + 0\\times 16 + 1\\times 8 +1\\times 4 + 1 \\times 2 + 0\\times 1 = 110$. \n",
    "\n",
    "Let's simulate rule 110 in Julia to see what the evolution looks like."
   ]
  },
  {
   "cell_type": "markdown",
   "metadata": {
    "nbpresent": {
     "id": "2b3fb7c1-51f1-4a83-a6d8-2a9643612703"
    },
    "slideshow": {
     "slide_type": "slide"
    }
   },
   "source": [
    "## Simulation of 1D CA in Julia\n",
    "\n",
    "The Julia package Agents.jl provides a framework for simulating ABMs. I have written a custom module called ```CA1D``` that uses Agents.jl to simulate 1D CA. Let's first play around with it. Then we will look at how the code works. First load the module:"
   ]
  },
  {
   "cell_type": "code",
   "execution_count": 14,
   "metadata": {
    "nbpresent": {
     "id": "f3a7e71d-0117-48ea-add6-312ab7ef2d3e"
    },
    "slideshow": {
     "slide_type": "-"
    }
   },
   "outputs": [
    {
     "data": {
      "text/plain": [
       "Main.CA1D"
      ]
     },
     "execution_count": 14,
     "metadata": {},
     "output_type": "execute_result"
    }
   ],
   "source": [
    "include(\"code/CA1D.jl\")"
   ]
  },
  {
   "cell_type": "markdown",
   "metadata": {
    "nbpresent": {
     "id": "9a7aa806-6785-41ce-9ef3-d9a0bdb13671"
    }
   },
   "source": [
    "### Step 1 : define the update rule for an agent\n",
    "\n",
    "Agents.jl uses dictionaries a lot so learn how they work: "
   ]
  },
  {
   "cell_type": "code",
   "execution_count": 15,
   "metadata": {
    "nbpresent": {
     "id": "ab1e565b-b1df-4a28-a169-ce2501155143"
    },
    "slideshow": {
     "slide_type": "slide"
    }
   },
   "outputs": [
    {
     "data": {
      "text/plain": [
       "Dict{String, Int64} with 8 entries:\n",
       "  \"000\" => 0\n",
       "  \"111\" => 0\n",
       "  \"001\" => 1\n",
       "  \"011\" => 0\n",
       "  \"101\" => 0\n",
       "  \"110\" => 0\n",
       "  \"010\" => 1\n",
       "  \"100\" => 1"
      ]
     },
     "execution_count": 15,
     "metadata": {},
     "output_type": "execute_result"
    }
   ],
   "source": [
    "rule110 = Dict(\"111\"=>0, \"110\"=>1, \"101\"=>1, \"100\"=>0, \"011\"=>1,\n",
    "            \"010\"=>1, \"001\"=>1, \"000\"=>0)\n",
    "\n",
    "rule22 = Dict(\"111\"=>0, \"110\"=>0, \"101\"=>0, \"100\"=>1, \"011\"=>0,\n",
    "            \"010\"=>1, \"001\"=>1, \"000\"=>0)"
   ]
  },
  {
   "cell_type": "markdown",
   "metadata": {
    "nbpresent": {
     "id": "0c7e3d8f-5784-4aa9-84c4-cda08cd1cd00"
    },
    "slideshow": {
     "slide_type": "slide"
    }
   },
   "source": [
    "### Step 2 : build and initialise the model\n",
    "\n",
    "Building involves several sub-steps:\n",
    "\n",
    "* Define the spatial grid - in this case just a 1D grid.\n",
    "* Pass any additional model parameters to the model - none here\n",
    "* Add the agents to the model - trivial here since the agents and the grid are the same.\n",
    "* Initialise the parameters of the model - here we set the middle agent to be active"
   ]
  },
  {
   "cell_type": "code",
   "execution_count": 16,
   "metadata": {
    "nbpresent": {
     "id": "53ad7d8c-a814-40c5-adec-f0b25fa14947"
    },
    "slideshow": {
     "slide_type": "slide"
    }
   },
   "outputs": [
    {
     "data": {
      "text/plain": [
       "AgentBasedModel with 101 agents of type CA1DAgent\n",
       " space: GridSpace with size (101,), metric=euclidean, periodic=true\n",
       " scheduler: fastest\n",
       " properties: Dict(:rules => Dict(\"000\" => 0, \"111\" => 0, \"001\" => 1, \"011\" => 1, \"101\" => 1, \"110\" => 1, \"010\" => 1, \"100\" => 0))"
      ]
     },
     "execution_count": 16,
     "metadata": {},
     "output_type": "execute_result"
    }
   ],
   "source": [
    "n = 101\n",
    "model = CA1D.initialise(;rules = rule110, gridsize = n, initial_condition=\"singleton\")"
   ]
  },
  {
   "cell_type": "markdown",
   "metadata": {
    "nbpresent": {
     "id": "3965bff0-902e-47e3-8d7b-0f5fdb948512"
    },
    "slideshow": {
     "slide_type": "slide"
    }
   },
   "source": [
    "### Step 3 : run the model and gather some data\n",
    "\n",
    "* We just need to specify the number of steps and let Agents.jl take care of the rest.\n",
    "* We do a number of runs half the size of the grid.\n",
    "* Data is returned from the simulation in a dataframe object : https://juliadata.github.io/DataFrames.jl/stable/"
   ]
  },
  {
   "cell_type": "code",
   "execution_count": 17,
   "metadata": {
    "nbpresent": {
     "id": "00c85f07-4207-4731-8d37-46e909d4505b"
    },
    "slideshow": {
     "slide_type": "slide"
    }
   },
   "outputs": [
    {
     "data": {
      "text/plain": [
       "(Plot{Plots.GRBackend() n=1}, [0 0 … 0 1; 1 0 … 1 1; … ; 1 1 … 1 0; 0 0 … 0 0])"
      ]
     },
     "execution_count": 17,
     "metadata": {},
     "output_type": "execute_result"
    }
   ],
   "source": [
    "steps = round(Int64, n)\n",
    "p, data = CA1D.run(;rules = rule22, gridsize = n, initial_condition=\"singleton\", nsteps=steps, update=\"synchronous\")"
   ]
  },
  {
   "cell_type": "code",
   "execution_count": null,
   "metadata": {},
   "outputs": [],
   "source": []
  },
  {
   "cell_type": "markdown",
   "metadata": {
    "cell_style": "split",
    "nbpresent": {
     "id": "aff3b643-7412-480c-8bfa-cc7bdbfa4a94"
    },
    "slideshow": {
     "slide_type": "slide"
    }
   },
   "source": [
    "### Step 4 : analyse the data\n",
    "\n",
    "* Here we just visualise the output by plotting the array of zeros and ones at consecutive steps."
   ]
  },
  {
   "cell_type": "code",
   "execution_count": 18,
   "metadata": {
    "cell_style": "split",
    "nbpresent": {
     "id": "d1fecfec-1a1f-48fa-ac51-9e9f2ece8254"
    }
   },
   "outputs": [
    {
     "data": {
      "image/svg+xml": [
       "<?xml version=\"1.0\" encoding=\"utf-8\"?>\n",
       "<svg xmlns=\"http://www.w3.org/2000/svg\" xmlns:xlink=\"http://www.w3.org/1999/xlink\" width=\"600\" height=\"400\" viewBox=\"0 0 2400 1600\">\n",
       "<defs>\n",
       "  <clipPath id=\"clip590\">\n",
       "    <rect x=\"0\" y=\"0\" width=\"2400\" height=\"1600\"/>\n",
       "  </clipPath>\n",
       "</defs>\n",
       "<path clip-path=\"url(#clip590)\" d=\"\n",
       "M0 1600 L2400 1600 L2400 0 L0 0  Z\n",
       "  \" fill=\"#ffffff\" fill-rule=\"evenodd\" fill-opacity=\"1\"/>\n",
       "<defs>\n",
       "  <clipPath id=\"clip591\">\n",
       "    <rect x=\"480\" y=\"0\" width=\"1681\" height=\"1600\"/>\n",
       "  </clipPath>\n",
       "</defs>\n",
       "<path clip-path=\"url(#clip590)\" d=\"\n",
       "M47.2441 1552.76 L2352.76 1552.76 L2352.76 47.2441 L47.2441 47.2441  Z\n",
       "  \" fill=\"#ffffff\" fill-rule=\"evenodd\" fill-opacity=\"1\"/>\n",
       "<defs>\n",
       "  <clipPath id=\"clip592\">\n",
       "    <rect x=\"47\" y=\"47\" width=\"2307\" height=\"1507\"/>\n",
       "  </clipPath>\n",
       "</defs>\n",
       "<g clip-path=\"url(#clip592)\">\n",
       "<image width=\"1476\" height=\"1491\" xlink:href=\"data:image/png;base64,\n",
       "iVBORw0KGgoAAAANSUhEUgAABcQAAAXTCAYAAAD9Gj+tAAAgAElEQVR4nOzawW7jwJJgUcbA///L\n",
       "0atBGw+vuizaLoq85+wJZzhJSbzI2d09AAAAAADgJmbm1HX/74fXAQAAAAAAb0kQBwAAAAAgQRAH\n",
       "AAAAACBBEAcAAAAAIEEQBwAAAAAgQRAHAAAAACBBEAcAAAAAIEEQBwAAAAAgQRAHAAAAACBBEAcA\n",
       "AAAAIEEQBwAAAAAgQRAHAAAAACBBEAcAAAAAIEEQBwAAAAAgYY7j2LMX756+FAAAAACAsJn553/T\n",
       "CXEAAAAAABIEcQAAAAAAEgRxAAAAAAASBHEAAAAAABIEcQAAAAAAEgRxAAAAAAASBHEAAAAAABIE\n",
       "cQAAAAAAEgRxAAAAAAASBHEAAAAAABIEcQAAAAAAEgRxAAAAAAASBHEAAAAAABIEcQAAAAAAEj52\n",
       "9/TFM3P62u/8XQAAAAAArne3RuyEOAAAAAAACYI4AAAAAAAJgjgAAAAAAAmCOAAAAAAACYI4AAAA\n",
       "AAAJgjgAAAAAAAmCOAAAAAAACYI4AAAAAAAJgjgAAAAAAAmCOAAAAAAACYI4AAAAAAAJgjgAAAAA\n",
       "AAmCOAAAAAAACYI4AAAAAAAJcxzHXr2IV+3ebskAAAAAAG9pZq5ewsvONmInxAEAAAAASBDEAQAA\n",
       "AABIEMQBAAAAAEgQxAEAAAAASBDEAQAAAABIEMQBAAAAAEgQxAEAAAAASBDEAQAAAABIEMQBAAAA\n",
       "AEgQxAEAAAAASBDEAQAAAABIEMQBAAAAAEgQxAEAAAAASBDEAQAAAABI+Njdq9fwspk5fe0d5wUA\n",
       "AAAA+Juz3bTUTJ0QBwAAAAAgQRAHAAAAACBBEAcAAAAAIEEQBwAAAAAgQRAHAAAAACBBEAcAAAAA\n",
       "IEEQBwAAAAAgQRAHAAAAACBBEAcAAAAAIEEQBwAAAAAgQRAHAAAAACBBEAcAAAAAIEEQBwAAAAAg\n",
       "QRAHAAAAACBhdncv+cMzV/zZ0y76NwEAAAAAIbrp73JCHAAAAACABEEcAAAAAIAEQRwAAAAAgARB\n",
       "HAAAAACABEEcAAAAAIAEQRwAAAAAgARBHAAAAACABEEcAAAAAIAEQRwAAAAAgARBHAAAAACABEEc\n",
       "AAAAAIAEQRwAAAAAgARBHAAAAACABEEcAAAAAICEj+9cPDOnr93d7/zpf640KwAAAABwXqkl3m1W\n",
       "J8QBAAAAAEgQxAEAAAAASBDEAQAAAABIEMQBAAAAAEgQxAEAAAAASBDEAQAAAABIEMQBAAAAAEgQ\n",
       "xAEAAAAASBDEAQAAAABIEMQBAAAAAEgQxAEAAAAASBDEAQAAAABIEMQBAAAAAEgQxAEAAAAASJjj\n",
       "OPbqRbxq9/ySZ+YHV/L7vjMrAAAAAHDO3TricZxviaVZnRAHAAAAACBBEAcAAAAAIEEQBwAAAAAg\n",
       "QRAHAAAAACBBEAcAAAAAIEEQBwAAAAAgQRAHAAAAACBBEAcAAAAAIEEQBwAAAAAgQRAHAAAAACBB\n",
       "EAcAAAAAIEEQBwAAAAAgQRAHAAAAACBBEAcAAAAAIGF2d69eBH82M6evtbUAAAAA1J3ta9raMzkh\n",
       "DgAAAABAgiAOAAAAAECCIA4AAAAAQIIgDgAAAABAgiAOAAAAAECCIA4AAAAAQIIgDgAAAABAgiAO\n",
       "AAAAAECCIA4AAAAAQIIgDgAAAABAgiAOAAAAAECCIA4AAAAAQIIgDgAAAABAgiAOAAAAAEDC7O5e\n",
       "vYinm5mrl/AStwQAAAAA70Rf46c4IQ4AAAAAQIIgDgAAAABAgiAOAAAAAECCIA4AAAAAQIIgDgAA\n",
       "AABAgiAOAAAAAECCIA4AAAAAQIIgDgAAAABAgiAOAAAAAECCIA4AAAAAQIIgDgAAAABAwsfVC7iL\n",
       "mTl97e7+4Ep+X2lWAAAAAP6NUnMqzXo3TogDAAAAAJAgiAMAAAAAkCCIAwAAAACQIIgDAAAAAJAg\n",
       "iAMAAAAAkCCIAwAAAACQIIgDAAAAAJAgiAMAAAAAkCCIAwAAAACQIIgDAAAAAJAgiAMAAAAAkCCI\n",
       "AwAAAACQIIgDAAAAAJAgiAMAAAAAkDC7u1cv4l+amauX8JLvbE9pVgAAAAB+391603Gcb06lWUuc\n",
       "EAcAAAAAIEEQBwAAAAAgQRAHAAAAACBBEAcAAAAAIEEQBwAAAAAgQRAHAAAAACBBEAcAAAAAIEEQ\n",
       "BwAAAAAgQRAHAAAAACBBEAcAAAAAIEEQBwAAAAAgQRAHAAAAACBBEAcAAAAAIGF2d69exKtm5vS1\n",
       "Nxw3w74CAAAA/BtnO4wG897s6985IQ4AAAAAQIIgDgAAAABAgiAOAAAAAECCIA4AAAAAQIIgDgAA\n",
       "AABAgiAOAAAAAECCIA4AAAAAQIIgDgAAAABAgiAOAAAAAECCIA4AAAAAQIIgDgAAAABAgiAOAAAA\n",
       "AECCIA4AAAAAQIIgDgAAAABAwuzuXvKHZ674s6dd9G+6HfsKAAAA8G/oMM9kX3+XE+IAAAAAACQI\n",
       "4gAAAAAAJAjiAAAAAAAkCOIAAAAAACQI4gAAAAAAJAjiAAAAAAAkCOIAAAAAACQI4gAAAAAAJAji\n",
       "AAAAAAAkCOIAAAAAACQI4gAAAAAAJAjiAAAAAAAkCOIAAAAAACQI4gAAAAAAJHx85+KZOX3t7n7n\n",
       "T/9zZv0aswIAAAB8XalNmPVrzPq7nBAHAAAAACBBEAcAAAAAIEEQBwAAAAAgQRAHAAAAACBBEAcA\n",
       "AAAAIEEQBwAAAAAgQRAHAAAAACBBEAcAAAAAIEEQBwAAAAAgQRAHAAAAACBBEAcAAAAAIEEQBwAA\n",
       "AAAgQRAHAAAAACBBEAcAAAAAIGGO49irF/Gq3fNLnpkfXMnvM+vXlGYFAAAA3svdusRxnG8TZn1v\n",
       "Zv07J8QBAAAAAEgQxAEAAAAASBDEAQAAAABIEMQBAAAAAEgQxAEAAAAASBDEAQAAAABIEMQBAAAA\n",
       "AEgQxAEAAAAASBDEAQAAAABIEMQBAAAAAEgQxAEAAAAASBDEAQAAAABIEMQBAAAAAEgQxAEAAAAA\n",
       "SJjd3asXATUzc/pajywAAAD8vlfe3b2rw304IQ4AAAAAQIIgDgAAAABAgiAOAAAAAECCIA4AAAAA\n",
       "QIIgDgAAAABAgiAOAAAAAECCIA4AAAAAQIIgDgAAAABAgiAOAAAAAECCIA4AAAAAQIIgDgAAAABA\n",
       "giAOAAAAAECCIA4AAAAAQIIgDgAAAABAwuzuXr0IuKOZuXoJf+XxBgAAoMy7O/CfnBAHAAAAACBB\n",
       "EAcAAAAAIEEQBwAAAAAgQRAHAAAAACBBEAcAAAAAIEEQBwAAAAAgQRAHAAAAACBBEAcAAAAAIEEQ\n",
       "BwAAAAAgQRAHAAAAACBBEAcAAAAAIEEQBwAAAAAgQRAHAAAAACBBEAcAAAAAIOHj6gXAlWbm9LW7\n",
       "+4Mr+R1Pnw8AAIDne/q77dPng3fjhDgAAAAAAAmCOAAAAAAACYI4AAAAAAAJgjgAAAAAAAmCOAAA\n",
       "AAAACYI4AAAAAAAJgjgAAAAAAAmCOAAAAAAACYI4AAAAAAAJgjgAAAAAAAmCOAAAAAAACbO7e/Ui\n",
       "4Ltm5uolvOQ7j90dZvWxAgAAwGd3eJf9T6+82z59PngSJ8QBAAAAAEgQxAEAAAAASBDEAQAAAABI\n",
       "EMQBAAAAAEgQxAEAAAAASBDEAQAAAABIEMQBAAAAAEgQxAEAAAAASBDEAQAAAABIEMQBAAAAAEgQ\n",
       "xAEAAAAASBDEAQAAAABIEMQBAAAAAEgQxAEAAAAASJjd3asXAcdxHDNz+lq38XuxlwAAAM/jXe9Z\n",
       "zu6nveTunBAHAAAAACBBEAcAAAAAIEEQBwAAAAAgQRAHAAAAACBBEAcAAAAAIEEQBwAAAAAgQRAH\n",
       "AAAAACBBEAcAAAAAIEEQBwAAAAAgQRAHAAAAACBBEAcAAAAAIEEQBwAAAAAgQRAHAAAAACBBEAcA\n",
       "AAAAIGF2d69eBM8xM1cv4SVu/z+7214eh/0EAAD4iru973nX+zN7Ca9zQhwAAAAAgARBHAAAAACA\n",
       "BEEcAAAAAIAEQRwAAAAAgARBHAAAAACABEEcAAAAAIAEQRwAAAAAgARBHAAAAACABEEcAAAAAIAE\n",
       "QRwAAAAAgARBHAAAAACABEEcAAAAAIAEQRwAAAAAgARBHAAAAACAhI+rF8D7mZnT1+7uD67k9z19\n",
       "1qfP95/OznvHWQEAgLbS+97TZ336fJ+VZuV9OSEOAAAAAECCIA4AAAAAQIIgDgAAAABAgiAOAAAA\n",
       "AECCIA4AAAAAQIIgDgAAAABAgiAOAAAAAECCIA4AAAAAQIIgDgAAAABAgiAOAAAAAECCIA4AAAAA\n",
       "QIIgDgAAAABAgiAOAAAAAEDC7O5evQh+x8xcvYSXfOdWNOt7efp8n/kIBQAAziq9/9xt1uN4bd6n\n",
       "z/dZaVaeyQlxAAAAAAASBHEAAAAAABIEcQAAAAAAEgRxAAAAAAASBHEAAAAAABIEcQAAAAAAEgRx\n",
       "AAAAAAASBHEAAAAAABIEcQAAAAAAEgRxAAAAAAASBHEAAAAAABIEcQAAAAAAEgRxAAAAAAASBHEA\n",
       "AAAAABJmd/fqRfBnM3P6WlsLv88zCgAAbd4J4P2dfU49o8/khDgAAAAAAAmCOAAAAAAACYI4AAAA\n",
       "AAAJgjgAAAAAAAmCOAAAAAAACYI4AAAAAAAJgjgAAAAAAAmCOAAAAAAACYI4AAAAAAAJgjgAAAAA\n",
       "AAmCOAAAAAAACYI4AAAAAAAJgjgAAAAAAAmCOAAAAAAACbO7e/Uinm5mrl7CS9wS1NztGT0OzykA\n",
       "APy0u70XeCegxjPKT3FCHAAAAACABEEcAAAAAIAEQRwAAAAAgARBHAAAAACABEEcAAAAAIAEQRwA\n",
       "AAAAgARBHAAAAACABEEcAAAAAIAEQRwAAAAAgARBHAAAAACABEEcAAAAAIAEQRwAAAAAgARBHAAA\n",
       "AACABEEcAAAAAICEj6sXcBczc/ra3f3Blfy+0qw8y9l79473bWlWAAD4qtL7bGlWnqN035ZmvRsn\n",
       "xAEAAAAASBDEAQAAAABIEMQBAAAAAEgQxAEAAAAASBDEAQAAAABIEMQBAAAAAEgQxAEAAAAASBDE\n",
       "AQAAAABIEMQBAAAAAEgQxAEAAAAASBDEAQAAAABIEMQBAAAAAEgQxAEAAAAASBDEAQAAAABImN3d\n",
       "qxfxL83M1Ut4yXe2pzQrz1G6b0uzAgDAV5V+J5dm5Tnudt8ex/l7tzRriRPiAAAAAAAkCOIAAAAA\n",
       "ACQI4gAAAAAAJAjiAAAAAAAkCOIAAAAAACQI4gAAAAAAJAjiAAAAAAAkCOIAAAAAACQI4gAAAAAA\n",
       "JAjiAAAAAAAkCOIAAAAAACTM7u7Vi3jVzJy+9objZtjX57CXz2RfAQD4Kr8dn8m+PsvZ/bSX782+\n",
       "/p0T4gAAAAAAJAjiAAAAAAAkCOIAAAAAACQI4gAAAAAAJAjiAAAAAAAkCOIAAAAAACQI4gAAAAAA\n",
       "JAjiAAAAAAAkCOIAAAAAACQI4gAAAAAAJAjiAAAAAAAkCOIAAAAAACQI4gAAAAAAJAjiAAAAAAAk\n",
       "zO7uJX945oo/e9pF/6bbsa/Pcbe9PA77+RX2FQCAV9zt96Pfjl9jX5/DXj6Tff1dTogDAAAAAJAg\n",
       "iAMAAAAAkCCIAwAAAACQIIgDAAAAAJAgiAMAAAAAkCCIAwAAAACQIIgDAAAAAJAgiAMAAAAAkCCI\n",
       "AwAAAACQIIgDAAAAAJAgiAMAAAAAkCCIAwAAAACQIIgDAAAAAJAgiAMAAAAAkPDxnYtn5vS1u/ud\n",
       "P/3PmfVrzPpenj7ffzo7r1nfW2lWAIDfUHovMOvXmPW9PH2+z8z6NWb9XU6IAwAAAACQIIgDAAAA\n",
       "AJAgiAMAAAAAkCCIAwAAAACQIIgDAAAAAJAgiAMAAAAAkCCIAwAAAACQIIgDAAAAAJAgiAMAAAAA\n",
       "kCCIAwAAAACQIIgDAAAAAJAgiAMAAAAAkCCIAwAAAACQIIgDAAAAAJAwx3Hs1Yt41e75Jc/MD67k\n",
       "95n1a8z6Xp4+32dm/ZrSrAAAv6H0e8qs76s063G8Nu/T5/vMrO/NrH/nhDgAAAAAAAmCOAAAAAAA\n",
       "CYI4AAAAAAAJgjgAAAAAAAmCOAAAAAAACYI4AAAAAAAJgjgAAAAAAAmCOAAAAAAACYI4AAAAAAAJ\n",
       "gjgAAAAAAAmCOAAAAAAACYI4AAAAAAAJgjgAAAAAAAmCOAAAAAAACbO7e/UiAOCdzMzpa32tAgB/\n",
       "4jcGAFzPCXEAAAAAABIEcQAAAAAAEgRxAAAAAAASBHEAAAAAABIEcQAAAAAAEgRxAAAAAAASBHEA\n",
       "AAAAABIEcQAAAAAAEgRxAAAAAAASBHEAAAAAABIEcQAAAAAAEgRxAAAAAAASBHEAAAAAABIEcQAA\n",
       "AAAAEmZ39+pFAMBPm5mrl/AyX8kAcD93+M3hNwYA/C8nxAEAAAAASBDEAQAAAABIEMQBAAAAAEgQ\n",
       "xAEAAAAASBDEAQAAAABIEMQBAAAAAEgQxAEAAAAASBDEAQAAAABIEMQBAAAAAEgQxAEAAAAASBDE\n",
       "AQAAAABIEMQBAAAAAEgQxAEAAAAASPi4egEA8H+ZmVPX7e4Pr+T3vTLrHecDgHd19vfGcdzjO/np\n",
       "8wHAK5wQBwAAAAAgQRAHAAAAACBBEAcAAAAAIEEQBwAAAAAgQRAHAAAAACBBEAcAAAAAIEEQBwAA\n",
       "AAAgQRAHAAAAACBBEAcAAAAAIEEQBwAAAAAgQRAHAAAAACBBEAcAAAAAIEEQBwAAAAAgQRAHAAAA\n",
       "ACBhdnevXgQAzzYzVy/hJd/5arzDrL76AXiip38H32G+z/zeAOBdOSEOAAAAAECCIA4AAAAAQIIg\n",
       "DgAAAABAgiAOAAAAAECCIA4AAAAAQIIgDgAAAABAgiAOAAAAAECCIA4AAAAAQIIgDgAAAABAgiAO\n",
       "AAAAAECCIA4AAAAAQIIgDgAAAABAgiAOAAAAAECCIA4AAAAAQMLs7l69CADe38ycvtZXzXuxlwC8\n",
       "K99Rz2EvAXhXTogDAAAAAJAgiAMAAAAAkCCIAwAAAACQIIgDAAAAAJAgiAMAAAAAkCCIAwAAAACQ\n",
       "IIgDAAAAAJAgiAMAAAAAkCCIAwAAAACQIIgDAAAAAJAgiAMAAAAAkCCIAwAAAACQIIgDAAAAAJAg\n",
       "iAMAAAAAkDC7u1cvAoB/Y2auXsLLfE39d/YSgHd2t+8p31F/Zi8BeBonxAEAAAAASBDEAQAAAABI\n",
       "EMQBAAAAAEgQxAEAAAAASBDEAQAAAABIEMQBAAAAAEgQxAEAAAAASBDEAQAAAABIEMQBAAAAAEgQ\n",
       "xAEAAAAASBDEAQAAAABI+Lh6AQC8bmZOXbe7P7yS32fW/+7p8312x1kBnuDs5/Zx3O+z++mzPn2+\n",
       "z0qzAnCOE+IAAAAAACQI4gAAAAAAJAjiAAAAAAAkCOIAAAAAACQI4gAAAAAAJAjiAAAAAAAkCOIA\n",
       "AAAAACQI4gAAAAAAJAjiAAAAAAAkCOIAAAAAACQI4gAAAAAAJAjiAAAAAAAkCOIAAAAAACQI4gAA\n",
       "AAAAJMzu7tWLACiamauX8JLvfF2Y9b08fb7P/MwB6kqf23eY9enzfWZWAN6VE+IAAAAAACQI4gAA\n",
       "AAAAJAjiAAAAAAAkCOIAAAAAACQI4gAAAAAAJAjiAAAAAAAkCOIAAAAAACQI4gAAAAAAJAjiAAAA\n",
       "AAAkCOIAAAAAACQI4gAAAAAAJAjiAAAAAAAkCOIAAAAAACQI4gAAAAAAJMzu7tWLALirmTl9rY9f\n",
       "+H2eUeAJfJbBe/OMAtyLE+IAAAAAACQI4gAAAAAAJAjiAAAAAAAkCOIAAAAAACQI4gAAAAAAJAji\n",
       "AAAAAAAkCOIAAAAAACQI4gAAAAAAJAjiAAAAAAAkCOIAAAAAACQI4gAAAAAAJAjiAAAAAAAkCOIA\n",
       "AAAAACQI4gAAAAAAJMzu7tWLALjSzFy9hJf56KbEMwo8gc8yeH93e049owDnOCEOAAAAAECCIA4A\n",
       "AAAAQIIgDgAAAABAgiAOAAAAAECCIA4AAAAAQIIgDgAAAABAgiAOAAAAAECCIA4AAAAAQIIgDgAA\n",
       "AABAgiAOAAAAAECCIA4AAAAAQIIgDgAAAABAgiAOAAAAAECCIA4AAAAAQMLH1QsA+Ckzc+q63f3h\n",
       "lfy+0qw8R+m+PTvrcdxzXijxWfY1d5yXZyjdt6VZAX6SE+IAAAAAACQI4gAAAAAAJAjiAAAAAAAk\n",
       "COIAAAAAACQI4gAAAAAAJAjiAAAAAAAkCOIAAAAAACQI4gAAAAAAJAjiAAAAAAAkCOIAAAAAACQI\n",
       "4gAAAAAAJAjiAAAAAAAkCOIAAAAAACQI4gAAAAAAJMzu7tWLAPj/ZubqJbzkOx+hpVl5jtJ9W5oV\n",
       "akrPd2lWnqN035ZmBXgXTogDAAAAAJAgiAMAAAAAkCCIAwAAAACQIIgDAAAAAJAgiAMAAAAAkCCI\n",
       "AwAAAACQIIgDAAAAAJAgiAMAAAAAkCCIAwAAAACQIIgDAAAAAJAgiAMAAAAAkCCIAwAAAACQIIgD\n",
       "AAAAAJAgiAMAAAAAkDC7u1cvAniWmTl9rY+k92Vfn8NePpN9pcY9/0z29Tns5TPZV+AJnBAHAAAA\n",
       "ACBBEAcAAAAAIEEQBwAAAAAgQRAHAAAAACBBEAcAAAAAIEEQBwAAAAAgQRAHAAAAACBBEAcAAAAA\n",
       "IEEQBwAAAAAgQRAHAAAAACBBEAcAAAAAIEEQBwAAAAAgQRAHAAAAACBBEAcAAAAAIGF2d69eBPB+\n",
       "ZubqJbzMx9nf2dfnsJfPdbe9ta98x93u9+Nwz3/V3fbWvv6ZvXwm+wqUOSEOAAAAAECCIA4AAAAA\n",
       "QIIgDgAAAABAgiAOAAAAAECCIA4AAAAAQIIgDgAAAABAgiAOAAAAAECCIA4AAAAAQIIgDgAAAABA\n",
       "giAOAAAAAECCIA4AAAAAQIIgDgAAAABAgiAOAAAAAEDCx9ULAH7PzJy+dnd/cCX/xtl5zfrezPrf\n",
       "PX2+z0qzHsf95i3Nyp95vv+uNOtx3G/ep8/69Pk+M+vXmBUoc0IcAAAAAIAEQRwAAAAAgARBHAAA\n",
       "AACABEEcAAAAAIAEQRwAAAAAgARBHAAAAACABEEcAAAAAIAEQRwAAAAAgARBHAAAAACABEGc/2HX\n",
       "jnYkxbVFi2Kp/v+XfR6urnYq1aUiiMg0Zo7x3KHywgaypwAAAAAASBDEAQAAAABIGHPOuXoRwHlj\n",
       "jNVL+Kd3His7zPeVWc8x6708fb6vzHpOaVb+rnQOzHpfT5/16fN9ZdZzzHpv/uaAZ/KFOAAAAAAA\n",
       "CYI4AAAAAAAJgjgAAAAAAAmCOAAAAAAACYI4AAAAAAAJgjgAAAAAAAmCOAAAAAAACYI4AAAAAAAJ\n",
       "gjgAAAAAAAmCOAAAAAAACYI4AAAAAAAJgjgAAAAAAAmCOAAAAAAACYI4AAAAAAAJY845Vy8CasYY\n",
       "l3/rlgWgznv071wbAPicV96r3qOwD1+IAwAAAACQIIgDAAAAAJAgiAMAAAAAkCCIAwAAAACQIIgD\n",
       "AAAAAJAgiAMAAAAAkCCIAwAAAACQIIgDAAAAAJAgiAMAAAAAkCCIAwAAAACQIIgDAAAAAJAgiAMA\n",
       "AAAAkCCIAwAAAACQIIgDAAAAAJAw5pxz9SJgR2OM1Uv4J7c3AHe2w7v0q996r+52XY7D3xwA3NcO\n",
       "71XvUfhdvhAHAAAAACBBEAcAAAAAIEEQBwAAAAAgQRAHAAAAACBBEAcAAAAAIEEQBwAAAAAgQRAH\n",
       "AAAAACBBEAcAAAAAIEEQBwAAAAAgQRAHAAAAACBBEAcAAAAAIEEQBwAAAAAgQRAHAAAAACBBEAcA\n",
       "AAAAIOHP6gXASmOMy7+dc35wJT/j6fMBsF7pXfPOrK/Y7bocx/Vrs+OsAPy+p/+98fT54G58IQ4A\n",
       "AAAAQIIgDgAAAABAgiAOAAAAAECCIA4AAAAAQIIgDgAAAABAgiAOAAAAAECCIA4AAAAAQIIgDgAA\n",
       "AABAgiAOAAAAAECCIA4AAAAAQIIgDgAAAABAgiAOAAAAAECCIA4AAAAAQIIgDgAAAABAwphzztWL\n",
       "gHeNMVYv4SXv3HY7zOqxArCXHd4tX616j/7W+23VGkvnAIDft9t75jhee9c8fT54El+IAwAAAACQ\n",
       "IIgDAAAAAJAgiAMAAAAAkCCIAwAAAACQIIgDAAAAAJAgiAMAAAAAkCCIAwAAAACQIIgDAAAAAJAg\n",
       "iAMAAAAAkCCIAwAAAACQIIgDAAAAAJAgiAMAAAAAkCCIAwAAAACQIIgDAAAAAJAw5pxz9SLgOI5j\n",
       "jHH5t47xvdhLgN/n2XvOO9dpB/bynNJ1Avgkz95nubqf9pLd+UIcAAAAAIAEQRwAAAAAgARBHAAA\n",
       "AACABEEcAAAAAIAEQRwAAAAAgARBHAAAAACABEEcAAAAAIAEQRwAAAAAgARBHAAAAACABEEcAAAA\n",
       "AIAEQRwAAAAAgARBHAAAAACABEEcAAAAAIAEQRwAAAAAgIQx55yrF8FzjDFWL+Eljv/f7baXx2E/\n",
       "gWfY7fm74tn7zjV6+rtit2uz23k/juefIaBht+evZ+/f2Ut4nS/EAQAAAABIEMQBAAAAAEgQxAEA\n",
       "AAAASBDEAQAAAABIEMQBAAAAAEgQxAEAAAAASBDEAQAAAABIEMQBAAAAAEgQxAEAAAAASBDEAQAA\n",
       "AABIEMQBAAAAAEgQxAEAAAAASBDEAQAAAABIEMQBAAAAAEgYc865ehHcyxjj8m93O05Pn/Xp8313\n",
       "dd4dZwXurfT8fWfW3fzW3rim9+bvDeAu/L1xzg6zPn2+r0qzcl++EAcAAAAAIEEQBwAAAAAgQRAH\n",
       "AAAAACBBEAcAAAAAIEEQBwAAAAAgQRAHAAAAACBBEAcAAAAAIEEQBwAAAAAgQRAHAAAAACBBEAcA\n",
       "AAAAIEEQBwAAAAAgQRAHAAAAACBBEAcAAAAAIEEQBwAAAAAgYcw55+pF8DPGGKuX8JJ3jqJZ7+Xp\n",
       "833lEQrPVXoevTNr6Tn4W2fCNT3H3xvAEw+TVQwAAB0xSURBVJSeR7vNehyvzfv0+b4qzcoz+UIc\n",
       "AAAAAIAEQRwAAAAAgARBHAAAAACABEEcAAAAAIAEQRwAAAAAgARBHAAAAACABEEcAAAAAIAEQRwA\n",
       "AAAAgARBHAAAAACABEEcAAAAAIAEQRwAAAAAgIQx55yrF8HfjTEu/9bWws9zj8K9uUfPeec6vWPF\n",
       "Nd7hTOywxu9WnCH36Dml6wSruEfh/q7ep+7RZ/KFOAAAAAAACYI4AAAAAAAJgjgAAAAAAAmCOAAA\n",
       "AAAACYI4AAAAAAAJgjgAAAAAAAmCOAAAAAAACYI4AAAAAAAJgjgAAAAAAAmCOAAAAAAACYI4AAAA\n",
       "AAAJgjgAAAAAAAmCOAAAAAAACWPOOVcv4unGGKuX8BJHgprd7tHjcJ/S4h49553rtOqZsuPe8t+c\n",
       "+X/b8bz7e4Oa3e5T9yg17lE+xRfiAAAAAAAkCOIAAAAAACQI4gAAAAAAJAjiAAAAAAAkCOIAAAAA\n",
       "ACQI4gAAAAAAJAjiAAAAAAAkCOIAAAAAACQI4gAAAAAAJAjiAAAAAAAkCOIAAAAAACQI4gAAAAAA\n",
       "JAjiAAAAAAAkCOIAAAAAACSMOedcvYgdjDEu/3a3S1yalWe5enZ3PLelWXmO0rl9511asuPe8t+c\n",
       "+X/b8bz7/wJ2VDq3pVl5jtK5Lc26G1+IAwAAAACQIIgDAAAAAJAgiAMAAAAAkCCIAwAAAACQIIgD\n",
       "AAAAAJAgiAMAAAAAkCCIAwAAAACQIIgDAAAAAJAgiAMAAAAAkCCIAwAAAACQIIgDAAAAAJAgiAMA\n",
       "AAAAkCCIAwAAAACQIIgDAAAAAJAw5pxz9SJ+0xhj9RJe8s72lGblOUrntjQrz1E6t+/M6n455+o1\n",
       "dn1/hjP/s1Zd39Jzm+condvSrDzHbuf2OK6f3dKsJb4QBwAAAAAgQRAHAAAAACBBEAcAAAAAIEEQ\n",
       "BwAAAAAgQRAHAAAAACBBEAcAAAAAIEEQBwAAAAAgQRAHAAAAACBBEAcAAAAAIEEQBwAAAAAgQRAH\n",
       "AAAAACBBEAcAAAAAIEEQBwAAAAAgQRAHAAAAACBhzDnn6kW8aoxx+bcbjpthX5/DXj6TfX0Oe3nO\n",
       "O9fpHbtd41XX6ardru+r7MfPW3GNd7xOV3lHPYe9fCb7+ixX99Ne3pt9/TdfiAMAAAAAkCCIAwAA\n",
       "AACQIIgDAAAAAJAgiAMAAAAAkCCIAwAAAACQIIgDAAAAAJAgiAMAAAAAkCCIAwAAAACQIIgDAAAA\n",
       "AJAgiAMAAAAAkCCIAwAAAACQIIgDAAAAAJAgiAMAAAAAkCCIAwAAAACQMOacc8k/PMaKf/ayRZdp\n",
       "O/b1OXbby+Own2fY1+ewl+e8c51Wnb2ra35nvTtep6t2mHWHNX7Kqll3u8a7rfc49ntP7Xbv/CZ7\n",
       "+Uz29Tns5TPZ15/lC3EAAAAAABIEcQAAAAAAEgRxAAAAAAASBHEAAAAAABIEcQAAAAAAEgRxAAAA\n",
       "AAASBHEAAAAAABIEcQAAAAAAEgRxAAAAAAASBHEAAAAAABIEcQAAAAAAEgRxAAAAAAASBHEAAAAA\n",
       "ABIEcQAAAAAAEsacc17+8RiX/+E3/tklzHqOWe/l6fN9d3Ves96bWf/b0+fjde+ciVV7c3XNztLP\n",
       "2O0M7bbemt3eU0//u/np831l1nPMei9Pn+8rs55j1p/lC3EAAAAAABIEcQAAAAAAEgRxAAAAAAAS\n",
       "BHEAAAAAABIEcQAAAAAAEgRxAAAAAAASBHEAAAAAABIEcQAAAAAAEgRxAAAAAAASBHEAAAAAABIE\n",
       "cQAAAAAAEgRxAAAAAAASBHEAAAAAABIEcQAAAAAAEsZxHHP1Il415/UljzE+uJKfZ9ZzzHovT5/v\n",
       "K7OeY9Z7WTXfO/8uAHu5+r7wDv67Heb7yqznmPXeXpn36fN9ZdZ7M+u/+UIcAAAAAIAEQRwAAAAA\n",
       "gARBHAAAAACABEEcAAAAAIAEQRwAAAAAgARBHAAAAACABEEcAAAAAIAEQRwAAAAAgARBHAAAAACA\n",
       "BEEcAAAAAIAEQRwAAAAAgARBHAAAAACABEEcAAAAAIAEQRwAAAAAgIQx55yrFwEA7GGM8ev/pj9V\n",
       "ANbwzAcAnsgX4gAAAAAAJAjiAAAAAAAkCOIAAAAAACQI4gAAAAAAJAjiAAAAAAAkCOIAAAAAACQI\n",
       "4gAAAAAAJAjiAAAAAAAkCOIAAAAAACQI4gAAAAAAJAjiAAAAAAAk/Fm9AADgd40xLv92zvnBlZyz\n",
       "23oB7mS3Z+hu6wUA9uMLcQAAAAAAEgRxAAAAAAASBHEAAAAAABIEcQAAAAAAEgRxAAAAAAASBHEA\n",
       "AAAAABIEcQAAAAAAEgRxAAAAAAASBHEAAAAAABIEcQAAAAAAEgRxAAAAAAASBHEAAAAAABIEcQAA\n",
       "AAAAEgRxAAAAAAASxpxzrl4EAPCaMcbqJTyeP5GAu/DM/3me+QDQ4QtxAAAAAAASBHEAAAAAABIE\n",
       "cQAAAAAAEgRxAAAAAAASBHEAAAAAABIEcQAAAAAAEgRxAAAAAAASBHEAAAAAABIEcQAAAAAAEgRx\n",
       "AAAAAAASBHEAAAAAABIEcQAAAAAAEgRxAAAAAAASBHEAAAAAABL+rF4AAPD/jDFO/7dzzh9cCcfx\n",
       "2n58Z3+A7zxT7s3+AECHL8QBAAAAAEgQxAEAAAAASBDEAQAAAABIEMQBAAAAAEgQxAEAAAAASBDE\n",
       "AQAAAABIEMQBAAAAAEgQxAEAAAAASBDEAQAAAABIEMQBAAAAAEgQxAEAAAAASBDEAQAAAABIEMQB\n",
       "AAAAAEgQxAEAAAAASBhzzrl6EQDwFGOM1Uv4p9Krf4f9+K60P7Cj3Z4rpWfKDntT2g8AuCtfiAMA\n",
       "AAAAkCCIAwAAAACQIIgDAAAAAJAgiAMAAAAAkCCIAwAAAACQIIgDAAAAAJAgiAMAAAAAkCCIAwAA\n",
       "AACQIIgDAAAAAJAgiAMAAAAAkCCIAwAAAACQIIgDAAAAAJAgiAMAAAAAkPBn9QIA4G7GGJd/O+f8\n",
       "4Ep+xm7z7bbed12dd8dZYZXSc2W3WXdb76uePh8A7MAX4gAAAAAAJAjiAAAAAAAkCOIAAAAAACQI\n",
       "4gAAAAAAJAjiAAAAAAAkCOIAAAAAACQI4gAAAAAAJAjiAAAAAAAkCOIAAAAAACQI4gAAAAAAJAji\n",
       "AAAAAAAkCOIAAAAAACQI4gAAAAAAJAjiAAAAAAAkjDnnXL0IAPi0McbqJbzslVfyjvPt5p0/kXbb\n",
       "H38OsqPSfbbbrDt6+v54zgPA//hCHAAAAACABEEcAAAAAIAEQRwAAAAAgARBHAAAAACABEEcAAAA\n",
       "AIAEQRwAAAAAgARBHAAAAACABEEcAAAAAIAEQRwAAAAAgARBHAAAAACABEEcAAAAAIAEQRwAAAAA\n",
       "gARBHAAAAACABEEcAAAAAICEMeecqxcBAH8zxrj0O683OO/qfXYc7jXe4+zB73CvAcD/+EIcAAAA\n",
       "AIAEQRwAAAAAgARBHAAAAACABEEcAAAAAIAEQRwAAAAAgARBHAAAAACABEEcAAAAAIAEQRwAAAAA\n",
       "gARBHAAAAACABEEcAAAAAIAEQRwAAAAAgARBHAAAAACABEEcAAAAAIAEQRwAAAAAgIQx55yrFwHA\n",
       "s40xVi/hJV6N7Gi3++w43GtPstv5c/bYkfsMAD7DF+IAAAAAACQI4gAAAAAAJAjiAAAAAAAkCOIA\n",
       "AAAAACQI4gAAAAAAJAjiAAAAAAAkCOIAAAAAACQI4gAAAAAAJAjiAAAAAAAkCOIAAAAAACQI4gAA\n",
       "AAAAJAjiAAAAAAAkCOIAAAAAACQI4gAAAAAAJPxZvQAA9jDGuPzbOecHV/LzSrNyP1fP345nrzTr\n",
       "DkrPvtKs3Evp7JVmBWAvvhAHAAAAACBBEAcAAAAAIEEQBwAAAAAgQRAHAAAAACBBEAcAAAAAIEEQ\n",
       "BwAAAAAgQRAHAAAAACBBEAcAAAAAIEEQBwAAAAAgQRAHAAAAACBBEAcAAAAAIEEQBwAAAAAgQRAH\n",
       "AAAAACBBEAcAAAAAIGHMOefqRQDwO8YYq5fwsquvqdKs3M9u5++ds1eadQel/SjNyr3tcBbdawDw\n",
       "P74QBwAAAAAgQRAHAAAAACBBEAcAAAAAIEEQBwAAAAAgQRAHAAAAACBBEAcAAAAAIEEQBwAAAAAg\n",
       "QRAHAAAAACBBEAcAAAAAIEEQBwAAAAAgQRAHAAAAACBhzDnn6kUA8JoxxqXfeeTf2yv7ai9/3tX7\n",
       "7Djsz53tsK87rJHX2dd7sz/PYS8B+BdfiAMAAAAAkCCIAwAAAACQIIgDAAAAAJAgiAMAAAAAkCCI\n",
       "AwAAAACQIIgDAAAAAJAgiAMAAAAAkCCIAwAAAACQIIgDAAAAAJAgiAMAAAAAkCCIAwAAAACQIIgD\n",
       "AAAAAJAgiAMAAAAAkCCIAwAAAACQMOacc/UiAIrGGKuX8BKvi3N22NfSXu6wH9+V9ueqHfd1B87e\n",
       "Obudv9K+7rA3pf14xw57+ZV9BdiLL8QBAAAAAEgQxAEAAAAASBDEAQAAAABIEMQBAAAAAEgQxAEA\n",
       "AAAASBDEAQAAAABIEMQBAAAAAEgQxAEAAAAASBDEAQAAAABIEMQBAAAAAEgQxAEAAAAASBDEAQAA\n",
       "AABIEMQBAAAAAEgQxAEAAAAASPizegEAOxtjXP7tnPODK/l5Zj1nh1l3m2+39b7r6rxm5V2le82s\n",
       "53jmf97T5/vKrOfsNivAE/hCHAAAAACABEEcAAAAAIAEQRwAAAAAgARBHAAAAACABEEcAAAAAIAE\n",
       "QRwAAAAAgARBHAAAAACABEEcAAAAAIAEQRwAAAAAgARBHAAAAACABEEcAAAAAIAEQRwAAAAAgARB\n",
       "HAAAAACABEEcAAAAAICEMeecqxcBsNIYY/USXnb10W3We3tl1h3n2807fyLttj9mfY7SfpiVT3r6\n",
       "/jx9vq/MCsC/+EIcAAAAAIAEQRwAAAAAgARBHAAAAACABEEcAAAAAIAEQRwAAAAAgARBHAAAAACA\n",
       "BEEcAAAAAIAEQRwAAAAAgARBHAAAAACABEEcAAAAAIAEQRwAAAAAgARBHAAAAACABEEcAAAAAIAE\n",
       "QRwAAAAAgIQx55yrFwHwCWOMS7/zGATouPquOI7fe1/ssEYA1vO+ALjGF+IAAAAAACQI4gAAAAAA\n",
       "JAjiAAAAAAAkCOIAAAAAACQI4gAAAAAAJAjiAAAAAAAkCOIAAAAAACQI4gAAAAAAJAjiAAAAAAAk\n",
       "COIAAAAAACQI4gAAAAAAJAjiAAAAAAAkCOIAAAAAACSMOedcvQiA/2+MsXoJL/EIBfh9u70rduGd\n",
       "BvD7dnuneVcAT+ALcQAAAAAAEgRxAAAAAAASBHEAAAAAABIEcQAAAAAAEgRxAAAAAAASBHEAAAAA\n",
       "ABIEcQAAAAAAEgRxAAAAAAASBHEAAAAAABIEcQAAAAAAEgRxAAAAAAASBHEAAAAAABIEcQAAAAAA\n",
       "EgRxAAAAAAAS/qxeAPA8Y4zLv51zfnAlP680K8CnXX2Gen7+DO80gGtKz8/SrMBz+UIcAAAAAIAE\n",
       "QRwAAAAAgARBHAAAAACABEEcAAAAAIAEQRwAAAAAgARBHAAAAACABEEcAAAAAIAEQRwAAAAAgARB\n",
       "HAAAAACABEEcAAAAAIAEQRwAAAAAgARBHAAAAACABEEcAAAAAIAEQRwAAAAAgIQx55yrFwHczxhj\n",
       "9RJedvVxVpoV4NN2e4Y+/flpPwCuKz1DS7MCfOcLcQAAAAAAEgRxAAAAAAASBHEAAAAAABIEcQAA\n",
       "AAAAEgRxAAAAAAASBHEAAAAAABIEcQAAAAAAEgRxAAAAAAASBHEAAAAAABIEcQAAAAAAEgRxAAAA\n",
       "AAASBHEAAAAAABIEcQAAAAAAEgRxAAAAAAASxpxzrl4E8DPGGJd/69Fwb1f31r4C/6X0vthh1h3W\n",
       "+CmlWYHf4bnyTPYV+CRfiAMAAAAAkCCIAwAAAACQIIgDAAAAAJAgiAMAAAAAkCCIAwAAAACQIIgD\n",
       "AAAAAJAgiAMAAAAAkCCIAwAAAACQIIgDAAAAAJAgiAMAAAAAkCCIAwAAAACQMOacc/UigPPGGKuX\n",
       "8E8eK+fssJdf2Ve4t92eKcdx/bmy46w7eOc5v9ueeKfBvXmmPNNu+3oc9haeyhfiAAAAAAAkCOIA\n",
       "AAAAACQI4gAAAAAAJAjiAAAAAAAkCOIAAAAAACQI4gAAAAAAJAjiAAAAAAAkCOIAAAAAACQI4gAA\n",
       "AAAAJAjiAAAAAAAkCOIAAAAAACQI4gAAAAAAJAjiAAAAAAAkCOIAAAAAACSMOedcvQioGWNc/u0O\n",
       "t+zT5/vKrOfsNiusdPVec5/Bed5p8PNK95lZz9lt1uN4bd4d54MqX4gDAAAAAJAgiAMAAAAAkCCI\n",
       "AwAAAACQIIgDAAAAAJAgiAMAAAAAkCCIAwAAAACQIIgDAAAAAJAgiAMAAAAAkCCIAwAAAACQIIgD\n",
       "AAAAAJAgiAMAAAAAkCCIAwAAAACQIIgDAAAAAJAgiAMAAAAAkDDmnHP1ImBHY4zVS/ind27vHeb7\n",
       "7uq8Zr03ryl2tNu95j5jR+4z+B2le82s9/X0Wb0j4Hf5QhwAAAAAgARBHAAAAACABEEcAAAAAIAE\n",
       "QRwAAAAAgARBHAAAAACABEEcAAAAAIAEQRwAAAAAgARBHAAAAACABEEcAAAAAIAEQRwAAAAAgARB\n",
       "HAAAAACABEEcAAAAAIAEQRwAAAAAgARBHAAAAACAhDHnnKsXAauMMS7/1q0Dv+Pqfeoe5V2ld0Rp\n",
       "Vu6ldPZKs3I/zh/cm3sUfpcvxAEAAAAASBDEAQAAAABIEMQBAAAAAEgQxAEAAAAASBDEAQAAAABI\n",
       "EMQBAAAAAEgQxAEAAAAASBDEAQAAAABIEMQBAAAAAEgQxAEAAAAASBDEAQAAAABIEMQBAAAAAEgQ\n",
       "xAEAAAAASBDEAQAAAABIGHPOuXoR8K4xxuolvMRtR417lFV2O3vHcf38lWblfnY7f++cvdKs3Iuz\n",
       "B/e22z16HO5TunwhDgAAAABAgiAOAAAAAECCIA4AAAAAQIIgDgAAAABAgiAOAAAAAECCIA4AAAAA\n",
       "QIIgDgAAAABAgiAOAAAAAECCIA4AAAAAQIIgDgAAAABAgiAOAAAAAECCIA4AAAAAQIIgDgAAAABA\n",
       "giAOAAAAAEDCmHPO1YuA4ziOMcbl3+52jEuz8hylc1uadQf247mu7q19/RnutWeyr/dS2o/SrDzX\n",
       "K+d4x3PrbzGqfCEOAAAAAECCIA4AAAAAQIIgDgAAAABAgiAOAAAAAECCIA4AAAAAQIIgDgAAAABA\n",
       "giAOAAAAAECCIA4AAAAAQIIgDgAAAABAgiAOAAAAAECCIA4AAAAAQIIgDgAAAABAgiAOAAAAAECC\n",
       "IA4AAAAAQMKYc87Vi+A5xhirl/CSd47/DrO6vfluh3P73dVzXJp1F7vtydP341Ps673Yj2fabV+P\n",
       "o7W3O+zP0/+/56vS2eOcHc6wexR+ly/EAQAAAABIEMQBAAAAAEgQxAEAAAAASBDEAQAAAABIEMQB\n",
       "AAAAAEgQxAEAAAAASBDEAQAAAABIEMQBAAAAAEgQxAEAAAAASBDEAQAAAABIEMQBAAAAAEgQxAEA\n",
       "AAAASBDEAQAAAABIGHPOuXoR3MsY4/JvHad7sZfPdXVv7eu9vbKvq/ay9Fwx6zlm/bwd1vgpZj1n\n",
       "t1mPY7+/VWr782T28pns63PYS+7AF+IAAAAAACQI4gAAAAAAJAjiAAAAAAAkCOIAAAAAACQI4gAA\n",
       "AAAAJAjiAAAAAAAkCOIAAAAAACQI4gAAAAAAJAjiAAAAAAAkCOIAAAAAACQI4gAAAAAAJAjiAAAA\n",
       "AAAkCOIAAAAAACQI4gAAAAAAJIw551y9CH7GGGP1El7iKJ6zw77ay3N22Muv7Os5u+3rDt45ezvu\n",
       "x9V5zcq7SveaWc/ZbdYd+HvqnN3Onn09Z7d9PQ57+zf2kt35QhwAAAAAgARBHAAAAACABEEcAAAA\n",
       "AIAEQRwAAAAAgARBHAAAAACABEEcAAAAAIAEQRwAAAAAgARBHAAAAACABEEcAAAAAIAEQRwAAAAA\n",
       "gARBHAAAAACAhDHnnKsXwd+NMS7/dretNes5O8z69Pm+Mus5ZgUAaP2NYdZzzHpvr8z79Pm+Miu7\n",
       "84U4AAAAAAAJgjgAAAAAAAmCOAAAAAAACYI4/F+7drCbOAwFUDSW+v+/7NmibkpSOol9z9kj/HCx\n",
       "y1UAAAAAgARBHAAAAACABEEcAAAAAIAEQRwAAAAAgARBHAAAAACABEEcAAAAAIAEQRwAAAAAgARB\n",
       "HAAAAACABEEcAAAAAIAEQRwAAAAAgARBHAAAAACAhDHnnHcvYndjjLuXcMpv/iTM+iy7z/fd1XnN\n",
       "+mxmBQCebIX/OUq/C8z6HrM+y+7zvTIrT+AJcQAAAAAAEgRxAAAAAAASBHEAAAAAABIEcQAAAAAA\n",
       "EgRxAAAAAAASBHEAAAAAABIEcQAAAAAAEgRxAAAAAAASBHEAAAAAABIEcQAAAAAAEgRxAAAAAAAS\n",
       "BHEAAAAAABIEcQAAAAAAEgRxAAAAAAASxpxz3r2IFYwxLr/WRwzAO87cNe4WAPgcv/cA+DR3y3N5\n",
       "QhwAAAAAgARBHAAAAACABEEcAAAAAIAEQRwAAAAAgARBHAAAAACABEEcAAAAAIAEQRwAAAAAgARB\n",
       "HAAAAACABEEcAAAAAIAEQRwAAAAAgARBHAAAAACABEEcAAAAAIAEQRwAAAAAgARBHAAAAACAhDHn\n",
       "nHcv4n8aY9y9hFNi2wOwvBXuGXcLADtyBwPwaSvcLd+5a37mCXEAAAAAABIEcQAAAAAAEgRxAAAA\n",
       "AAASBHEAAAAAABIEcQAAAAAAEgRxAAAAAAASBHEAAAAAABIEcQAAAAAAEgRxAAAAAAASBHEAAAAA\n",
       "ABIEcQAAAAAAEgRxAAAAAAASBHEAAAAAABIEcQAAAAAAEr7uXsAVY4zLr51zfnAlf680K8BT7H72\n",
       "7j4fAOva/Y7afT6Ap7p6/q549pZmvcoT4gAAAAAAJAjiAAAAAAAkCOIAAAAAACQI4gAAAAAAJAji\n",
       "AAAAAAAkCOIAAAAAACQI4gAAAAAAJAjiAAAAAAAkCOIAAAAAACQI4gAAAAAAJAjiAAAAAAAkCOIA\n",
       "AAAAACQI4gAAAAAAJAjiAAAAAAAkjDnnvOWNx7jjbS/7zcdUmhXgKVY7e4/j3Pm7+3wArG21e2r3\n",
       "33vuYGAHK5y3r3a/W16tds94QhwAAAAAgARBHAAAAACABEEcAAAAAIAEQRwAAAAAgARBHAAAAACA\n",
       "BEEcAAAAAIAEQRwAAAAAgARBHAAAAACABEEcAAAAAIAEQRwAAAAAgARBHAAAAACABEEcAAAAAIAE\n",
       "QRwAAAAAgARBHAAAAACAhDHnnJdfPMblN/7F2/LH7CvwJFfPJOfR89hLgLX4XbAPewk8hfNoT6vt\n",
       "qyfEAQAAAABIEMQBAAAAAEgQxAEAAAAASBDEAQAAAABIEMQBAAAAAEgQxAEAAAAASBDEAQAAAABI\n",
       "EMQBAAAAAEgQxAEAAAAASBDEAQAAAABIEMQBAAAAAEgQxAEAAAAASBDEAQAAAABIEMQBAAAAAEgY\n",
       "x3HMuxdx1pzLLfkWY4y7l3CKfYV9OY/2YS8B1uLc3oe9BJ5itfPoOJxJ7yjtqyfEAQAAAABIEMQB\n",
       "AAAAAEgQxAEAAAAASBDEAQAAAABIEMQBAAAAAEgQxAEAAAAASBDEAQAAAABIEMQBAAAAAEgQxAEA\n",
       "AAAASBDEAQAAAABIEMQBAAAAAEgQxAEAAAAASBDEAQAAAABIEMQBAAAAAEj4mnPevYbTxhiXX7va\n",
       "vGZ9z2qzwopK39HdZ919vlelWYF9lc6y3Wfdfb5XpVlhVVe/pyt+R836sxVnvcoT4gAAAAAAJAji\n",
       "AAAAAAAkCOIAAAAAACQI4gAAAAAAJAjiAAAAAAAkCOIAAAAAACQI4gAAAAAAJAjiAAAAAAAkCOIA\n",
       "AAAAACQI4gAAAAAAJAjiAAAAAAAkCOIAAAAAACQI4gAAAAAAJPwDt/oO1iN3mdgAAAAASUVORK5C\n",
       "YII=\n",
       "\" transform=\"translate(462, 62)\"/>\n",
       "</g>\n",
       "</svg>\n"
      ]
     },
     "execution_count": 18,
     "metadata": {},
     "output_type": "execute_result"
    }
   ],
   "source": [
    "p"
   ]
  },
  {
   "cell_type": "markdown",
   "metadata": {
    "nbpresent": {
     "id": "d0e01c62-1aeb-470b-88cb-9f225f34dc27"
    }
   },
   "source": [
    "We conclude that even very simple ABMs can have very complex behaviour."
   ]
  },
  {
   "cell_type": "markdown",
   "metadata": {
    "cell_style": "center",
    "slideshow": {
     "slide_type": "slide"
    }
   },
   "source": [
    "Let's try it with a random initial condition or a different rule..."
   ]
  },
  {
   "cell_type": "code",
   "execution_count": 19,
   "metadata": {
    "cell_style": "center"
   },
   "outputs": [
    {
     "data": {
      "image/svg+xml": [
       "<?xml version=\"1.0\" encoding=\"utf-8\"?>\n",
       "<svg xmlns=\"http://www.w3.org/2000/svg\" xmlns:xlink=\"http://www.w3.org/1999/xlink\" width=\"600\" height=\"400\" viewBox=\"0 0 2400 1600\">\n",
       "<defs>\n",
       "  <clipPath id=\"clip620\">\n",
       "    <rect x=\"0\" y=\"0\" width=\"2400\" height=\"1600\"/>\n",
       "  </clipPath>\n",
       "</defs>\n",
       "<path clip-path=\"url(#clip620)\" d=\"\n",
       "M0 1600 L2400 1600 L2400 0 L0 0  Z\n",
       "  \" fill=\"#ffffff\" fill-rule=\"evenodd\" fill-opacity=\"1\"/>\n",
       "<defs>\n",
       "  <clipPath id=\"clip621\">\n",
       "    <rect x=\"480\" y=\"0\" width=\"1681\" height=\"1600\"/>\n",
       "  </clipPath>\n",
       "</defs>\n",
       "<path clip-path=\"url(#clip620)\" d=\"\n",
       "M47.2441 1552.76 L2352.76 1552.76 L2352.76 47.2441 L47.2441 47.2441  Z\n",
       "  \" fill=\"#ffffff\" fill-rule=\"evenodd\" fill-opacity=\"1\"/>\n",
       "<defs>\n",
       "  <clipPath id=\"clip622\">\n",
       "    <rect x=\"47\" y=\"47\" width=\"2307\" height=\"1507\"/>\n",
       "  </clipPath>\n",
       "</defs>\n",
       "<g clip-path=\"url(#clip622)\">\n",
       "<image width=\"1476\" height=\"1491\" xlink:href=\"data:image/png;base64,\n",
       "iVBORw0KGgoAAAANSUhEUgAABcQAAAXTCAYAAAD9Gj+tAAAgAElEQVR4nOza0ZK0LJAtUDgx7//K\n",
       "nNuOnr/nU6iqrHSvdW8IZIK6w7nWWmPTnHP30nFw23ZO1ulE0hrvqurhT9336fN75X0rdJtrt/F2\n",
       "9KlzO+n53bH3dtfY2UulbmdDN0n7++nvoFV7pVstu0l6Fj59j57ct+P8KnQ7G5K+napU9PD/+/gd\n",
       "AQAAAACggEAcAAAAAIAIAnEAAAAAACIIxAEAAAAAiCAQBwAAAAAggkAcAAAAAIAIAnEAAAAAACII\n",
       "xAEAAAAAiCAQBwAAAAAggkAcAAAAAIAIAnEAAAAAACIIxAEAAAAAiCAQBwAAAAAggkAcAAAAAIAI\n",
       "/1N14znn9rVrrReO5Jpu4x1jf8xV4z1xUh+eo2Pv7uo2127jrdLhLKt4HnZ8BiexxoyR9d65q8MZ\n",
       "/1tSfT6lqg98Q1/jLKOjbv1XdTZUnL8dz8Fd3ebqD3EAAAAAACIIxAEAAAAAiCAQBwAAAAAggkAc\n",
       "AAAAAIAIAnEAAAAAACIIxAEAAAAAiCAQBwAAAAAggkAcAAAAAIAIAnEAAAAAACIIxAEAAAAAiCAQ\n",
       "BwAAAAAggkAcAAAAAIAIAnEAAAAAACIIxAEAAAAAiDDHGGv34rW2Lz0y5yy5L/920hMnda3qxV2f\n",
       "mmvVmlbt0W59wDMlnWWfknamdHvP0bfPofeu2V2nbuMdo2bMaWf+p3Tb30m69V7HPdrh+/uEs/qZ\n",
       "Kp7fHZ8Vu3P1hzgAAAAAABEE4gAAAAAARBCIAwAAAAAQQSAOAAAAAEAEgTgAAAAAABEE4gAAAAAA\n",
       "RBCIAwAAAAAQQSAOAAAAAEAEgTgAAAAAABEE4gAAAAAARBCIAwAAAAAQQSAOAAAAAEAEgTgAAAAA\n",
       "ABEE4gAAAAAARJhjjFU9iLvWajdkLphzfvyeJ71UMd4x7o35ZIwd99nufDvOlfeq2t93dOzbbnu0\n",
       "wzn/DdKeNd8uqR4dzmru63jmf2rMHcbIfVV17fZeduLpe6dblnKiWy19T3wvf4gDAAAAABBBIA4A\n",
       "AAAAQASBOAAAAAAAEQTiAAAAAABEEIgDAAAAABBBIA4AAAAAQASBOAAAAAAAEQTiAAAAAABEEIgD\n",
       "AAAAABBBIA4AAAAAQASBOAAAAAAAEQTiAAAAAABEEIgDAAAAABBBIA4AAAAAQIS51lrVg7hrzrl9\n",
       "bcPptqI23+WkHidOalk15l369ns9/Tyqml+3PXqiqg921ziprh326Ilu9RhjvyZPP6u5r2P/P529\n",
       "9m++u67pNt67quZXsUc71OMbJH1PVNmdqz/EAQAAAACIIBAHAAAAACCCQBwAAAAAgAgCcQAAAAAA\n",
       "IgjEAQAAAACIIBAHAAAAACCCQBwAAAAAgAgCcQAAAAAAIgjEAQAAAACIIBAHAAAAACCCQBwAAAAA\n",
       "gAgCcQAAAAAAIgjEAQAAAACIIBAHAAAAACDCHGOs3YvX2r50zDm3r61wMtduutVmDPX5S9K6VDnZ\n",
       "L+pzTbczqcOzUe9dk9R73XQ8ez2//1vVPkta4yq7tVWb75NUy6S58l28dz5Tt7qe6PAd/JM/xAEA\n",
       "AAAAiCAQBwAAAAAggkAcAAAAAIAIAnEAAAAAACIIxAEAAAAAiCAQBwAAAAAggkAcAAAAAIAIAnEA\n",
       "AAAAACIIxAEAAAAAiCAQBwAAAAAggkAcAAAAAIAIAnEAAAAAACIIxAEAAAAAiCAQBwAAAAAgwlxr\n",
       "repBdDDn3L62aol3x9yxJbrN9aSfPqVjH+zqUI/futWn4xn6ZEn1MNdrPA+fo1stu413jH5nw4lu\n",
       "ezSpNncl1TJprnyXpGeLuV7Tba5J/CEOAAAAAEAEgTgAAAAAABEE4gAAAAAARBCIAwAAAAAQQSAO\n",
       "AAAAAEAEgTgAAAAAABEE4gAAAAAARBCIAwAAAAAQQSAOAAAAAEAEgTgAAAAAABEE4gAAAAAARBCI\n",
       "AwAAAAAQQSAOAAAAAEAEgTgAAAAAABHmWmtVD+KT5pzVQ3i0k3ZKqk2HbXdSj6r57Y65Qz1+q5hr\n",
       "tz3asa53dKvHGPs1SZrrGD3nu+vp+7RCUv900+39aIx+e/Tpc336/FKp63fr8FxNeu80V17FH+IA\n",
       "AAAAAEQQiAMAAAAAEEEgDgAAAABABIE4AAAAAAARBOIAAAAAAEQQiAMAAAAAEEEgDgAAAABABIE4\n",
       "AAAAAAARBOIAAAAAAEQQiAMAAAAAEEEgDgAAAABABIE4AAAAAAARBOIAAAAAAEQQiAMAAAAAEGGu\n",
       "tVb1IO6ac25f23C6PNCnevjkPlxzcqZU1CfpDOz4rLgz5qRa8ly7+/Tp/d/x/OLf0t7Ldnux4zo9\n",
       "/f3cufJv6vrdPFfpSN++lz/EAQAAAACIIBAHAAAAACCCQBwAAAAAgAgCcQAAAAAAIgjEAQAAAACI\n",
       "IBAHAAAAACCCQBwAAAAAgAgCcQAAAAAAIgjEAQAAAACIIBAHAAAAACCCQBwAAAAAgAgCcQAAAAAA\n",
       "IgjEAQAAAACIIBAHAAAAACDCXGutkhvPWXHbbUXLxBer6mG9yImTvq3qvW7Piw6cI7xStz3qLPub\n",
       "s+Ga3VpaX7pK6nlz/TfP0b917APeq0Pf/pTUw/4QBwAAAAAggkAcAAAAAIAIAnEAAAAAACIIxAEA\n",
       "AAAAiCAQBwAAAAAggkAcAAAAAIAIAnEAAAAAACIIxAEAAAAAiCAQBwAAAAAggkAcAAAAAIAIAnEA\n",
       "AAAAACLMtdbavnjO7Rsf3LZE0lyTdKzrnTHrvec66d1u9PHrdTz7eK+knqg6Pzuskz74Xt3Wl++T\n",
       "1PPm+kwdzsGk52iSpLomzdUf4gAAAAAARBCIAwAAAAAQQSAOAAAAAEAEgTgAAAAAABEE4gAAAAAA\n",
       "RBCIAwAAAAAQQSAOAAAAAEAEgTgAAAAAABEE4gAAAAAARBCIAwAAAAAQQSAOAAAAAEAEgTgAAAAA\n",
       "ABEE4gAAAAAARBCIAwAAAAAQYY4xVvUg7lprf8hzzheO5P1O5pqkW1070Hvvd9K3SfXZXaenr1HH\n",
       "c+/pNamW1BMdz887Y/aue03HPtiVNFf+pg9IVtX/HZ6r9vc1HWr509P79qeKHvaHOAAAAAAAEQTi\n",
       "AAAAAABEEIgDAAAAABBBIA4AAAAAQASBOAAAAAAAEQTiAAAAAABEEIgDAAAAABBBIA4AAAAAQASB\n",
       "OAAAAAAAEQTiAAAAAABEEIgDAAAAABBBIA4AAAAAQASBOAAAAAAAEeZaa1UPgr/NObev7VbapLl2\n",
       "oB7XnKxTharaWKdr7qxTx3222wcd53rCOv1btzPlrqRanqjqg936dOxbvfh6+oBk3c7tLpK+3ZPm\n",
       "mqTibPCHOAAAAAAAEQTiAAAAAABEEIgDAAAAABBBIA4AAAAAQASBOAAAAAAAEQTiAAAAAABEEIgD\n",
       "AAAAABBBIA4AAAAAQASBOAAAAAAAEQTiAAAAAABEEIgDAAAAABBBIA4AAAAAQASBOAAAAAAAEQTi\n",
       "AAAAAABEmGOMtXvxWtuXRplzVg/hlpO6Js21g271GKOmJifr1K2HqnrCOn0X5/z7Wadrdtep25ly\n",
       "l+fSNd3m2pH6XHNnnTqui7OanzqeCx3GnPTumDTXJB322U/+EAcAAAAAIIJAHAAAAACACAJxAAAA\n",
       "AAAiCMQBAAAAAIggEAcAAAAAIIJAHAAAAACACAJxAAAAAAAiCMQBAAAAAIggEAcAAAAAIIJAHAAA\n",
       "AACACAJxAAAAAAAiCMQBAAAAAIggEAcAAAAAIIJAHAAAAACACHOMsSpuvFbJbbfNObev7TbXJB3r\n",
       "emfMHXvvpCbdnNRnd5069O1vu2PuuL95vaozpVsPOXvfr8MaVzyXqnTboyfU5poO62SP8krdeuLp\n",
       "9Pz3SvquTDoX/CEOAAAAAEAEgTgAAAAAABEE4gAAAAAARBCIAwAAAAAQQSAOAAAAAEAEgTgAAAAA\n",
       "ABEE4gAAAAAARBCIAwAAAAAQQSAOAAAAAEAEgTgAAAAAABEE4gAAAAAARBCIAwAAAAAQQSAOAAAA\n",
       "AEAEgTgAAAAAABHmWmuV3HjO7WtPhnxy3wpF5WmnW107qNpnev6apJ7f7YmqNdLDr9fxTKkYc8d1\n",
       "quBsYIx++6XbeE/Yo4yR1fMnrNNzqOX7dfuGrshkknrJH+IAAAAAAEQQiAMAAAAAEEEgDgAAAABA\n",
       "BIE4AAAAAAARBOIAAAAAAEQQiAMAAAAAEEEgDgAAAABABIE4AAAAAAARBOIAAAAAAEQQiAMAAAAA\n",
       "EEEgDgAAAABABIE4AAAAAAARBOIAAAAAAEQQiAMAAAAAEGGutdb2xXO+ciyXHQy5nZM17rZOSXN9\n",
       "OmfDNXr+mdT1b1VnQze7fZB09nbcZ3fG/PSz4FWcKe930ou79emwR3+zZ/9bxz3a7ZlWQb//rVst\n",
       "x+hXT2f1NRW92G19/SEOAAAAAEAEgTgAAAAAABEE4gAAAAAARBCIAwAAAAAQQSAOAAAAAEAEgTgA\n",
       "AAAAABEE4gAAAAAARBCIAwAAAAAQQSAOAAAAAEAEgTgAAAAAABEE4gAAAAAARBCIAwAAAAAQQSAO\n",
       "AAAAAEAEgTgAAAAAABHmGGPtXrzW9qVH5pzb11aM+WS8FU7WKGmuT9dtn42xP2Y9z28d6tptn42h\n",
       "/56qw35J0m2fOVOey9nw3zr2bcU7dpWKvu22Tmnn9p35Pn1+P/mGfr9ue63beP0hDgAAAABABIE4\n",
       "AAAAAAARBOIAAAAAAEQQiAMAAAAAEEEgDgAAAABABIE4AAAAAAARBOIAAAAAAEQQiAMAAAAAEEEg\n",
       "DgAAAABABIE4AAAAAAARBOIAAAAAAEQQiAMAAAAAEEEgDgAAAABABIE4AAAAAAAR5hhjVQ/i6day\n",
       "xN9qzrl9bYe6nswvSYdavsrTe/6np881aX93qEd3T98vSapq2e1M0rfXOBtezx69pmquFX2rJ655\n",
       "+ly7zS/pjO/QP9znD3EAAAAAACIIxAEAAAAAiCAQBwAAAAAggkAcAAAAAIAIAnEAAAAAACIIxAEA\n",
       "AAAAiCAQBwAAAAAggkAcAAAAAIAIAnEAAAAAACIIxAEAAAAAiCAQBwAAAAAgwlxrrepBPN2cc/ta\n",
       "5bnmZI0rnNT1zlz1zzUd96ie/1729+t13KMVuu2VMbLqc0dVLZPqkXSudDsbuq3vGJ9b445rU6Fb\n",
       "z5/QE1Tp+BzdHbN99kz+EAcAAAAAIIJAHAAAAACACAJxAAAAAAAiCMQBAAAAAIggEAcAAAAAIIJA\n",
       "HAAAAACACAJxAAAAAAAiCMQBAAAAAIggEAcAAAAAIIJAHAAAAACACAJxAAAAAAAiCMQBAAAAAIgg\n",
       "EAcAAAAAIIJAHAAAAACACHOttaoH0cGcs3oIt3Ur7ckad5vriU/1Ysc17bhPd3WsD//29P3dbY92\n",
       "W6eO54K5/rduvTdGzZiTzpRutTlRNdcOa9xhjK+SNNcT1olT3Z6l3dhn38sf4gAAAAAARBCIAwAA\n",
       "AAAQQSAOAAAAAEAEgTgAAAAAABEE4gAAAAAARBCIAwAAAAAQQSAOAAAAAEAEgTgAAAAAABEE4gAA\n",
       "AAAARBCIAwAAAAAQQSAOAAAAAEAEgTgAAAAAABEE4gAAAAAARBCIAwAAAAAQYa61VvUgPmnOuXVd\n",
       "x2WqmOvuPatU1fVknT415qoxdlibb5B0lnXToYerzupu/dftmXbCs/+abnN9um5nyomO53bFmLuN\n",
       "t4vdde24phXnSrd1Sjp7u+jw/ZFKbb6XP8QBAAAAAIggEAcAAAAAIIJAHAAAAACACAJxAAAAAAAi\n",
       "CMQBAAAAAIggEAcAAAAAIIJAHAAAAACACAJxAAAAAAAiCMQBAAAAAIggEAcAAAAAIIJAHAAAAACA\n",
       "CAJxAAAAAAAiCMQBAAAAAIggEAcAAAAAIMJca63qQdw156wewi0nS1wx14Ytsa1bL3Wh56/p1n/O\n",
       "hufo1vNVZ0pSz0NH3fZ3t/FCoqRvkV3Osvfo9v2RVMtutRkjqz67/CEOAAAAAEAEgTgAAAAAABEE\n",
       "4gAAAAAARBCIAwAAAAAQQSAOAAAAAEAEgTgAAAAAABEE4gAAAAAARBCIAwAAAAAQQSAOAAAAAEAE\n",
       "gTgAAAAAABEE4gAAAAAARBCIAwAAAAAQQSAOAAAAAECEudZaJTeec/vaoiHH6Fib3THrJcY46/kT\n",
       "3fqv29nQbbyfVNXzu07qYX/Dd+t2HnXkPCJNt3fAqvF2O387nGXdeu9Ex7km5UZJc93lD3EAAAAA\n",
       "ACIIxAEAAAAAiCAQBwAAAAAggkAcAAAAAIAIAnEAAAAAACIIxAEAAAAAiCAQBwAAAAAggkAcAAAA\n",
       "AIAIAnEAAAAAACIIxAEAAAAAiCAQBwAAAAAggkAcAAAAAIAIAnEAAAAAACIIxAEAAAAAiDDXWmv7\n",
       "4jlfOZaPOJhuOx3r00lSL3Wx2/NVtTzZo7tjdi6836f6qaJ/uE59SNPtGZzEeURH3lmvSdqjVWdZ\n",
       "h158+vw6S6pNt/PIH+IAAAAAAEQQiAMAAAAAEEEgDgAAAABABIE4AAAAAAARBOIAAAAAAEQQiAMA\n",
       "AAAAEEEgDgAAAABABIE4AAAAAAARBOIAAAAAAEQQiAMAAAAAEEEgDgAAAABABIE4AAAAAAARBOIA\n",
       "AAAAAEQQiAMAAAAAEGGOMdbuxWttX1pmzrl1XdVcd8c7Rs/6dKI273Gyrkn00Pd6eg8n9V63WibV\n",
       "hvfQ89+rW23GyKoP/8330vt1W+Oqs0w/wft1O4/8IQ4AAAAAQASBOAAAAAAAEQTiAAAAAABEEIgD\n",
       "AAAAABBBIA4AAAAAQASBOAAAAAAAEQTiAAAAAABEEIgDAAAAABBBIA4AAAAAQASBOAAAAAAAEQTi\n",
       "AAAAAABEEIgDAAAAABBBIA4AAAAAQASBOAAAAAAAEeYYY1XceK392845XzgSfjupTTcde6lDfU7W\n",
       "tcP8vsHuGlvfa/Tw37qtTbfxnkiaK39L6oNuc+023lPeVZ6j2zdTtx7qtr4nqmqTdv7CrqTzyB/i\n",
       "AAAAAABEEIgDAAAAABBBIA4AAAAAQASBOAAAAAAAEQTiAAAAAABEEIgDAAAAABBBIA4AAAAAQASB\n",
       "OAAAAAAAEQTiAAAAAABEEIgDAAAAABBBIA4AAAAAQASBOAAAAAAAEQTiAAAAAABEEIgDAAAAABBh\n",
       "rrVW9SD4LnPO7Wur2ml3zB3b/85cT+Z30gdVutWz2xpb3/f71Bp3XJtuks7fbmdDB916YIz9Pug4\n",
       "126cR4zR8xtvV8Vck9b3RLcz5a6kWvLdkjKyXf4QBwAAAAAggkAcAAAAAIAIAnEAAAAAACIIxAEA\n",
       "AAAAiCAQBwAAAAAggkAcAAAAAIAIAnEAAAAAACIIxAEAAAAAiCAQBwAAAAAggkAcAAAAAIAIAnEA\n",
       "AAAAACLMtdaqHgTvMeesHsKjnWydT9UmbXvvrmtVLbvVp2quFXWt4mygo6Rz8MSddUpaF3ilp59H\n",
       "3b7vOnwv/bY75m7jPfH0fXbC2vBKSWd+BX+IAwAAAAAQQSAOAAAAAEAEgTgAAAAAABEE4gAAAAAA\n",
       "RBCIAwAAAAAQQSAOAAAAAEAEgTgAAAAAABEE4gAAAAAARBCIAwAAAAAQQSAOAAAAAEAEgTgAAAAA\n",
       "ABEE4gAAAAAARBCIAwAAAAAQQSAOAAAAAECEudZa1YPgb3PO7WuVlo79czLmXSdzrRjvGPtj7jbe\n",
       "MbJ64lP7rsMY+ayqs2FX0jPqLnuU7jrss9/u7DvPYF6p437Z5dn/N2fD90o687vN1R/iAAAAAABE\n",
       "EIgDAAAAABBBIA4AAAAAQASBOAAAAAAAEQTiAAAAAABEEIgDAAAAABBBIA4AAAAAQASBOAAAAAAA\n",
       "EQTiAAAAAABEEIgDAAAAABBBIA4AAAAAQASBOAAAAAAAEQTiAAAAAABEEIgDAAAAABBhrrVW9SCe\n",
       "bs5ZPYRbtMR369ZPd+k/unv6Hj1hf7/XSe91q03VPuuwTkl9wHfb7cWn96Hzi9+c29fYO3/TQ+/V\n",
       "8ftut65Jc/WHOAAAAAAAEQTiAAAAAABEEIgDAAAAABBBIA4AAAAAQASBOAAAAAAAEQTiAAAAAABE\n",
       "EIgDAAAAABBBIA4AAAAAQASBOAAAAAAAEQTiAAAAAABEEIgDAAAAABBBIA4AAAAAQASBOAAAAAAA\n",
       "EQTiAAAAAABEmGutVT2IDuac29d2W+KkuVaxxn+zNnwDffgeu+uatqYn/VfhpD7deuJTZ0O3Hhgj\n",
       "b5+m6NaLHc6GDmP8zf7+t257ZYyaunbsw0/t72491PFc6PbeyTW7dfWHOAAAAAAAEQTiAAAAAABE\n",
       "EIgDAAAAABBBIA4AAAAAQASBOAAAAAAAEQTiAAAAAABEEIgDAAAAABBBIA4AAAAAQASBOAAAAAAA\n",
       "EQTiAAAAAABEEIgDAAAAABBBIA4AAAAAQASBOAAAAAAAEQTiAAAAAABEmGOMtXvxWtuXlplzVg/h\n",
       "lpM1TpprhQ7rW7WmHdbmp269xzXd+nCMHr3YbV07noMd+uBVuvXTiafXdbeWT1+Xb5B0HiWdKR10\n",
       "658xss4y++X1OvbBrqpnS7e+TeqJExV19Yc4AAAAAAARBOIAAAAAAEQQiAMAAAAAEEEgDgAAAABA\n",
       "BIE4AAAAAAARBOIAAAAAAEQQiAMAAAAAEEEgDgAAAABABIE4AAAAAAARBOIAAAAAAEQQiAMAAAAA\n",
       "EEEgDgAAAABABIE4AAAAAAARBOIAAAAAAESYa621ffGc2zc+uG3ZfXmviro+vZdO5neiw9r89PQ+\n",
       "6G63Ph1rc2eunqPXVJ2DFapqk9RPJz61v0902y/657t5P6djXlDBO91zdKxHxX5J6r2OPbGr21z9\n",
       "IQ4AAAAAQASBOAAAAAAAEQTiAAAAAABEEIgDAAAAABBBIA4AAAAAQASBOAAAAAAAEQTiAAAAAABE\n",
       "EIgDAAAAABBBIA4AAAAAQASBOAAAAAAAEQTiAAAAAABEEIgDAAAAABBBIA4AAAAAQIQ5xlgVN15r\n",
       "/7ZzzheO5JqT8SapqM0Y+/XpNt4x7o25qm9P1rXb2XAi6VxJqs2n5tphjL9VnNX22TN1fL510G2/\n",
       "dDsbuo23SrdnVALf399Lbd7Ps//1uj0PO/ZAt4zsxO5c/SEOAAAAAEAEgTgAAAAAABEE4gAAAAAA\n",
       "RBCIAwAAAAAQQSAOAAAAAEAEgTgAAAAAABEE4gAAAAAARBCIAwAAAAAQQSAOAAAAAEAEgTgAAAAA\n",
       "ABEE4gAAAAAARBCIAwAAAAAQQSAOAAAAAEAEgTgAAAAAABHmWmtVD6KDOef2td2WOGmuHZ3Up4Ok\n",
       "Huq217qNl+eoOveq+nZ3vkn7LK0nPqXinH/6e803cJZd8/T3nG7z6zbeE93m2m28Y/Qc86d4Dv/b\n",
       "03sglT/EAQAAAACIIBAHAAAAACCCQBwAAAAAgAgCcQAAAAAAIgjEAQAAAACIIBAHAAAAACCCQBwA\n",
       "AAAAgAgCcQAAAAAAIgjEAQAAAACIIBAHAAAAACCCQBwAAAAAgAgCcQAAAAAAIgjEAQAAAACIIBAH\n",
       "AAAAACDCXGut6kF80pyzegi3nJQnaa7dnNTm6evUbW267bOOnt7zSXb3S1UPJO3vbmvcbbxjfG7M\n",
       "VX3rrP5eSWdZB0nfdx3t1kdtGMP7yVNZ32fyhzgAAAAAABEE4gAAAAAARBCIAwAAAAAQQSAOAAAA\n",
       "AEAEgTgAAAAAABEE4gAAAAAARBCIAwAAAAAQQSAOAAAAAEAEgTgAAAAAABEE4gAAAAAARBCIAwAA\n",
       "AAAQQSAOAAAAAEAEgTgAAAAAABEE4gAAAAAARJhrrVU9iLvmnNvXNpxujG51PRnvp1T1e4e1eRVn\n",
       "yvvt9pPavIf9/UxJdX26bs/+pH12ott7MkCipPepjs+WbvXpuMad+EMcAAAAAIAIAnEAAAAAACII\n",
       "xAEAAAAAiCAQBwAAAAAggkAcAAAAAIAIAnEAAAAAACIIxAEAAAAAiCAQBwAAAAAggkAcAAAAAIAI\n",
       "AnEAAAAAACIIxAEAAAAAiDDXWqvkxnNW3HZb0TK1062uJzr0RFU9OqzNq5yssXX6Xk+vjb69pts6\n",
       "dRsv79HtvD3RrW871qbbGgO82p2zO+nMrHrvTHrfTZprBX+IAwAAAAAQQSAOAAAAAEAEgTgAAAAA\n",
       "ABEE4gAAAAAARBCIAwAAAAAQQSAOAAAAAEAEgTgAAAAAABEE4gAAAAAARBCIAwAAAAAQQSAOAAAA\n",
       "AEAEgTgAAAAAABEE4gAAAAAARBCIAwAAAAAQQSAOAAAAAECEudZa2xfPuX3jg9uWMNdrus31RNU6\n",
       "3blvVT269dDJeKt0W6duZ0OHuerbazquUzfd9ncHHc6gb9DhXexV96yiF4En6PA+2PHbfVfFM/hE\n",
       "t/GeSHp2+0McAAAAAIAIAnEAAAAAACIIxAEAAAAAiCAQBwAAAAAggkAcAAAAAIAIAnEAAAAAACII\n",
       "xAEAAAAAiCAQBwAAAAAggkAcAAAAAIAIAnEAAAAAACIIxAEAAAAAiCAQBwAAAAAggkAcAAAAAIAI\n",
       "AnEAAAAAACLMMcaqHsRda+0Pec75wpG8n7m+V9UaJdW1g4reO5XUB7v1efoa6dtrOq5TNyd1TapP\n",
       "hzPJu9g13c6yDr33U9K5AFz39PeNjs9Dnufp++wnf4gDAAAAABBBIA4AAAAAQASBOAAAAAAAEQTi\n",
       "AAAAAABEEIgDAAAAABBBIA4AAAAAQASBOAAAAAAAEQTiAAAAAABEEIgDAAAAABBBIA4AAAAAQASB\n",
       "OAAAAAAAEQTiAAAAAABEEIgDAAAAABBBIA4AAAAAQIS51lrVg4Axxphzfvye2p8xznrvpIeq7ssz\n",
       "6Ntruo23SsUz+ERVbZ7eT97F+AZP32eQrNv7xhj3zpWO59fumJ23363bXqv4PvWHOAAAAAAAEQTi\n",
       "AAAAAABEEIgDAAAAABBBIA4AAAAAQASBOAAAAAAAEQTiAAAAAABEEIgDAAAAABBBIA4AAAAAQASB\n",
       "OAAAAAAAEQTiAAAAAABEEIgDAAAAABBBICFfV7EAACAASURBVA4AAAAAQASBOAAAAAAAEQTiAAAA\n",
       "AABEmGOMtXvxWtuX8lBzzu1rK/qp23j5v53Uc9dJH3QbL+/3qZ7o1rcdeaa919P7sGqP6lteqds+\n",
       "1U9wjXP7b93OvSpP74NXsdeu2V0nf4gDAAAAABBBIA4AAAAAQASBOAAAAAAAEQTiAAAAAABEEIgD\n",
       "AAAAABBBIA4AAAAAQASBOAAAAAAAEQTiAAAAAABEEIgDAAAAABBBIA4AAAAAQASBOAAAAAAAEQTi\n",
       "AAAAAABEEIgDAAAAABBBIA4AAAAAQIS51lrbF8+5feOD2/JmJ3XlGv3/N+fKe1nf97PGjJH1LD3p\n",
       "2911slf+ltR7J/TQNUnPtKS5whj9nhdV++zOOjkLrkk6b+2zayp6wh/iAAAAAABEEIgDAAAAABBB\n",
       "IA4AAAAAQASBOAAAAAAAEQTiAAAAAABEEIgDAAAAABBBIA4AAAAAQASBOAAAAAAAEQTiAAAAAABE\n",
       "EIgDAAAAABBBIA4AAAAAQASBOAAAAAAAEQTiAAAAAABEEIgDAAAAABBhjjFW9SDuWqvdkEvMObeu\n",
       "s77vt1ubMXrU52R+FTqs6W/W+L06rG+3Ne3o6Wf1N6jYax1qo/feL2mNOzzTfjpZ3w5z7dY/fDdn\n",
       "2XOox/vtrrF99kz+EAcAAAAAIIJAHAAAAACACAJxAAAAAAAiCMQBAAAAAIggEAcAAAAAIIJAHAAA\n",
       "AACACAJxAAAAAAAiCMQBAAAAAIggEAcAAAAAIIJAHAAAAACACAJxAAAAAAAiCMQBAAAAAIggEAcA\n",
       "AAAAIIJAHAAAAACACHOttaoHcdecc/vabtM9mWuFbut7okNtTuphn11jja+pmOvT1/fp83uVDmf1\n",
       "b93q060XO575n5LUexW8MzCGWvK/Ocvef98Our2fPL0eP1XtUXV9L3+I/3927WjHdRCJAiBI+/+/\n",
       "zL5Go529DkzcaZ+qd8vQNJAcGQAAAACACAJxAAAAAAAiCMQBAAAAAIggEAcAAAAAIIJAHAAAAACA\n",
       "CAJxAAAAAAAiCMQBAAAAAIggEAcAAAAAIIJAHAAAAACACAJxAAAAAAAiCMQBAAAAAIggEAcAAAAA\n",
       "IIJAHAAAAACACP+pevGcs9V711q3v/P0vRW6zbXbeLuoqmvVuVKh21nWzdN7uNvZ1228p5L2d9K5\n",
       "0qEXK/Za2v6uoMaf5/7G2nxehxon/a7psB4/VfzG7qbjuu7yhTgAAAAAABEE4gAAAAAARBCIAwAA\n",
       "AAAQQSAOAAAAAEAEgTgAAAAAABEE4gAAAAAARBCIAwAAAAAQQSAOAAAAAEAEgTgAAAAAABEE4gAA\n",
       "AAAARBCIAwAAAAAQYa611vbDc26/+OC17ZzU6cRujavGm+Su/rdHgb+WdEecnIMVdXJuf16He9Xv\n",
       "zmsq9kuH/vmp45h3PX2uT5/fX+n2O8dZds1d65q0V05022cnqv5POBv+zRfiAAAAAABEEIgDAAAA\n",
       "ABBBIA4AAAAAQASBOAAAAAAAEQTiAAAAAABEEIgDAAAAABBBIA4AAAAAQASBOAAAAAAAEQTiAAAA\n",
       "AABEEIgDAAAAABBBIA4AAAAAQASBOAAAAAAAEQTiAAAAAABEEIgDAAAAABBhjjFW9SDetdb9Q55z\n",
       "bj9bMV6+20k/daDn4bu5057Jul7jDmaM5/dBZyc93GFdnz6/V1XnUdJ92K0nqty1rnrvmm5zrWJ/\n",
       "X7PbT74QBwAAAAAggkAcAAAAAIAIAnEAAAAAACIIxAEAAAAAiCAQBwAAAAAggkAcAAAAAIAIAnEA\n",
       "AAAAACIIxAEAAAAAiCAQBwAAAAAggkAcAAAAAIAIAnEAAAAAACIIxAEAAAAAiCAQBwAAAAAggkAc\n",
       "AAAAAIAIc621qgfxrjln9RBu03B5Ypz04dPXVW3g8zrehfb3Nd3WtmJd3TO/S6pN0lyho2732YmT\n",
       "M8VZ9nlP78Wq/qvQreft7+/lC3EAAAAAACIIxAEAAAAAiCAQBwAAAAAggkAcAAAAAIAIAnEAAAAA\n",
       "ACIIxAEAAAAAiCAQBwAAAAAggkAcAAAAAIAIAnEAAAAAACIIxAEAAAAAiCAQBwAAAAAggkAcAAAA\n",
       "AIAIAnEAAAAAACIIxAEAAAAAiDDXWqvkxXNuP1s05BLq9Fkn9a1y17qqDdzvnX3Xsd93z5WkuY7R\n",
       "b74d74td7uDf7dYmaa7QVdL9XaHqHOy2Pkm/rfhdRR/4rfJMvhAHAAAAACCCQBwAAAAAgAgCcQAA\n",
       "AAAAIgjEAQAAAACIIBAHAAAAACCCQBwAAAAAgAgCcQAAAAAAIgjEAQAAAACIIBAHAAAAACCCQBwA\n",
       "AAAAgAgCcQAAAAAAIgjEAQAAAACIIBAHAAAAACCCQBwAAAAAgAhzrbW2H57zL8dyi4PpbutWp4oa\n",
       "ndqtcdJc35VUm45z5Xt1OPNPer7D/F6Z6zUnc006Q93BjOH3Bj0l3WkVOt6jFWdZtz4co18vdlDV\n",
       "B0lr6bfKv/lCHAAAAACACAJxAAAAAAAiCMQBAAAAAIggEAcAAAAAIIJAHAAAAACACAJxAAAAAAAi\n",
       "CMQBAAAAAIggEAcAAAAAIIJAHAAAAACACAJxAAAAAAAiCMQBAAAAAIggEAcAAAAAIIJAHAAAAACA\n",
       "CAJxAAAAAAAizDHG2n14re1Hy8w5b39ntzqd1OhkrhVrc6Jqrnf1kz64ptv+5poOexT+UtXZW7Ff\n",
       "OuzvDmPszu8NOko6G/wX+V7deunUOz2RVJuO59HumLuNt0q3/veFOAAAAAAAEQTiAAAAAABEEIgD\n",
       "AAAAABBBIA4AAAAAQASBOAAAAAAAEQTiAAAAAABEEIgDAAAAABBBIA4AAAAAQASBOAAAAAAAEQTi\n",
       "AAAAAABEEIgDAAAAABBBIA4AAAAAQASBOAAAAAAAEQTiAAAAAABEmGOMVfHitfZfO+csee+uqvGe\n",
       "vHdXRX07qlibOyX1QbfzKEnHfaYnONHxPOq4T5+s2xnUsed3Jc316Tqee7s9VDVXPf9ZHc+jDvtO\n",
       "bfip21nWLfv0hTgAAAAAABEE4gAAAAAARBCIAwAAAAAQQSAOAAAAAEAEgTgAAAAAABEE4gAAAAAA\n",
       "RBCIAwAAAAAQQSAOAAAAAEAEgTgAAAAAABEE4gAAAAAARBCIAwAAAAAQQSAOAAAAAEAEgTgAAAAA\n",
       "ABEE4gAAAAAARJhrrVU9iHfNOauHcJtuy3OyNub6HN1q0/FMeXoPvdpdn441emeuHefHNR3PpF36\n",
       "+LtU3N8d+91c+cn9/V26/Rep0vFM2tVhXavWo0NtUiX9LqvoQ1+IAwAAAAAQQSAOAAAAAEAEgTgA\n",
       "AAAAABEE4gAAAAAARBCIAwAAAAAQQSAOAAAAAEAEgTgAAAAAABEE4gAAAAAARBCIAwAAAAAQQSAO\n",
       "AAAAAEAEgTgAAAAAABEE4gAAAAAARBCIAwAAAAAQQSAOAAAAAECEudZaJS+ec/vZoiGXqKjTyTur\n",
       "mOvf61ibXR3PlN31qZprt346qVOHuXbs+W78zrmm21nWQdUZZE2eKeksc39/lw7r8arjb2z9dM07\n",
       "deq4Hn6LfZbfZddU7B1fiAMAAAAAEEEgDgAAAABABIE4AAAAAAARBOIAAAAAAEQQiAMAAAAAEEEg\n",
       "DgAAAABABIE4AAAAAAARBOIAAAAAAEQQiAMAAAAAEEEgDgAAAABABIE4AAAAAAAR5lprbT8851+O\n",
       "5RYH091WVaeKufJ5d/VTUv+c1PSkTh3P0F1J/dRBVc93022PVq2NOv29jnt0d8wd1qO7pD3ace+8\n",
       "o9v8uo33RLd9dqLbPXPqnfkm9cGJpP3dbb8k5Ru+EAcAAAAAIIJAHAAAAACACAJxAAAAAAAiCMQB\n",
       "AAAAAIggEAcAAAAAIIJAHAAAAACACAJxAAAAAAAiCMQBAAAAAIggEAcAAAAAIIJAHAAAAACACAJx\n",
       "AAAAAAAiCMQBAAAAAIggEAcAAAAAIMJca63qQdxpznn7O6tKvDvXsJYocdKHd61PhzH+lLS/u+nY\n",
       "T9+uot9PVaxlUu9V9URSnU7m2nHPfrtuvXci6Sw70eEcdBZ8XsVZbZ99XlKNn85vse+VtM98IQ4A\n",
       "AAAAQASBOAAAAAAAEQTiAAAAAABEEIgDAAAAABBBIA4AAAAAQASBOAAAAAAAEQTiAAAAAABEEIgD\n",
       "AAAAABBBIA4AAAAAQASBOAAAAAAAEQTiAAAAAABEEIgDAAAAABBBIA4AAAAAQASBOAAAAAAAEeZa\n",
       "a1UP4l1zzu1nK6Z7Mt5uGrbTtqR17aLb/u62X7r1fLf6jvFejZ8+v+5O1me3TlU9UXEOVvVSx333\n",
       "ZN3u4I5nYLc62aOcqtin3e7vbuMdw9nwCX6LPVPSPvOFOAAAAAAAEQTiAAAAAABEEIgDAAAAABBB\n",
       "IA4AAAAAQASBOAAAAAAAEQTiAAAAAABEEIgDAAAAABBBIA4AAAAAQASBOAAAAAAAEQTiAAAAAABE\n",
       "EIgDAAAAABBBIA4AAAAAQASBOAAAAAAAEQTiAAAAAABEmGutVfLiOSteW6KoxCVO1rWiTt3Gy//n\n",
       "XPm3pJ6vmmuHPqyaX7ceqtKhh/5Kt57Q/39Pv38360NH3c7qpH3W0dPPht3+q6pLt/1dpdu5UrE2\n",
       "vhAHAAAAACCCQBwAAAAAgAgCcQAAAAAAIgjEAQAAAACIIBAHAAAAACCCQBwAAAAAgAgCcQAAAAAA\n",
       "IgjEAQAAAACIIBAHAAAAACCCQBwAAAAAgAgCcQAAAAAAIgjEAQAAAACIIBAHAAAAACCCQBwAAAAA\n",
       "gAhzrbW2H55z+8UHr22nW51Oxss1Sf3/rm77pZuq/X2yNhVj1ku/sx7XOMuu2a1TtzPlXR17oGIt\n",
       "u6k6F5xH16jTd+lwVv8V/fPd3unFqrVM2i8VOq5rt3OlYq6+EAcAAAAAIIJAHAAAAACACAJxAAAA\n",
       "AAAiCMQBAAAAAIggEAcAAAAAIIJAHAAAAACACAJxAAAAAAAiCMQBAAAAAIggEAcAAAAAIIJAHAAA\n",
       "AACACAJxAAAAAAAiCMQBAAAAAIggEAcAAAAAIIJAHAAAAACACHOMsaoH8a617h/ynPP2d1apqG+a\n",
       "k37qsD7d9kuHmv60W+OOc61gj/6u2x18Ml5n2TUVdeqwz07o+Wv0/DVV69rtvrjL08+vV91+b1RR\n",
       "p8/rcDac0Aef9fT+edXx98YuX4gDAAAAABBBIA4AAAAAQASBOAAAAAAAEQTiAAAAAABEEIgDAAAA\n",
       "ABBBIA4AAAAAQASBOAAAAAAAEQTiAAAAAABEEIgDAAAAABBBIA4AAAAAQASBOAAAAAAAEQTiAAAA\n",
       "AABEEIgDAAAAABBBIA4AAAAAQIS51lrVg3jXnPP2dzYs07aT+qrTdzlZj6Q+qJprhx56lbSuVd6p\n",
       "ccf5VejWtyeqeqKixh3vqLvWR89/XlKNT/jP9r85vz6v271UpcN+edVx79xFba7ZrVNSjZL4QhwA\n",
       "AAAAgAgCcQAAAAAAIgjEAQAAAACIIBAHAAAAACCCQBwAAAAAgAgCcQAAAAAAIgjEAQAAAACIIBAH\n",
       "AAAAACCCQBwAAAAAgAgCcQAAAAAAIgjEAQAAAACIIBAHAAAAACCCQBwAAAAAgAgCcQAAAAAAIsy1\n",
       "1ip58Zzbz1YMudt4xzgbcwXr+l2q+uekrhVjfnofvKraL7vvTVobftfxnO/W891+b1S5a3269Xy3\n",
       "8Y7Rb4+e6LY+3X6rdNGtd/0nuKbiLOu4Vzrc3xW63cFVOp4NKXwhDgAAAABABIE4AAAAAAARBOIA\n",
       "AAAAAEQQiAMAAAAAEEEgDgAAAABABIE4AAAAAAARBOIAAAAAAEQQiAMAAAAAEEEgDgAAAABABIE4\n",
       "AAAAAAARBOIAAAAAAEQQiAMAAAAAEEEgDgAAAABABIE4AAAAAAAR5lprbT8851+OhT92sLQlkvrp\n",
       "rrU5qWm3/qnSrcZV++xkrhVj1v/fJel+6Mh+uUYfc6LbPdqRs+x3uz1U1bfdfmN3299pe+WuGner\n",
       "a8f/lRW6nWVJfCEOAAAAAEAEgTgAAAAAABEE4gAAAAAARBCIAwAAAAAQQSAOAAAAAEAEgTgAAAAA\n",
       "ABEE4gAAAAAARBCIAwAAAAAQQSAOAAAAAEAEgTgAAAAAABEE4gAAAAAARJhjjLX78Frbj3KDOefW\n",
       "cyfruvvO0/d2c1KnDrqt5dPX41W3taniLPuMinuJz0vaL0lzhTRP398Vv3er/ld206F/XnXcKx3G\n",
       "XDXGbr/PK+rU8Tzqdq5U8IU4AAAAAAARBOIAAAAAAEQQiAMAAAAAEEEgDgAAAABABIE4AAAAAAAR\n",
       "BOIAAAAAAEQQiAMAAAAAEEEgDgAAAABABIE4AAAAAAARBOIAAAAAAEQQiAMAAAAAEEEgDgAAAABA\n",
       "BIE4AAAAAAARBOIAAAAAAESYY4xV8eK1Sl7bzpzz9neerE3FeMeo6aeTuT69/6tqs/vep6/Hq6S+\n",
       "rTqPTnSocbe6dqjpN0ha1w5z1bew5+n7O+l3XJJu/534PvrgmqRzMCkb2Z2rL8QBAAAAAIggEAcA\n",
       "AAAAIIJAHAAAAACACAJxAAAAAAAiCMQBAAAAAIggEAcAAAAAIIJAHAAAAACACAJxAAAAAAAiCMQB\n",
       "AAAAAIggEAcAAAAAIIJAHAAAAACACAJxAAAAAAAiCMQBAAAAAIggEAcAAAAAIMJca62SF8+5/WzR\n",
       "kLclzbXKSY27uasnqmp6Mr+KMVft0W49X7GuHc/Pd+ZatVe61dVcr+k216ezliTT/7/r+Ps8hbWB\n",
       "79ftf6X//J99ry/EAQAAAACIIBAHAAAAACCCQBwAAAAAgAgCcQAAAAAAIgjEAQAAAACIIBAHAAAA\n",
       "ACCCQBwAAAAAgAgCcQAAAAAAIgjEAQAAAACIIBAHAAAAACCCQBwAAAAAgAgCcQAAAAAAIgjEAQAA\n",
       "AACIIBAHAAAAACDCXGut7Yfn/Mux3GJ3uklzrXJS425zPXFXLybV9ETV2ZC0PhU1Pqlvhz3arW/T\n",
       "7uBu8006j050WFdryV/q0POv7ur/jv95dsfc8UzpNteO/QQnut0tJ5L2aMW6+kIcAAAAAIAIAnEA\n",
       "AAAAACIIxAEAAAAAiCAQBwAAAAAggkAcAAAAAIAIAnEAAAAAACIIxAEAAAAAiCAQBwAAAAAggkAc\n",
       "AAAAAIAIAnEAAAAAACIIxAEAAAAAiCAQBwAAAAAggkAcAAAAAIAIc621qgfBZ8w5t547aYndd1ap\n",
       "av+TOt015g5j/Csd51qxv090rDFwTdL+fvpcnz4/3pfUE93+xzxd0n/Sbrrtbb5P0t1yoluduo3X\n",
       "F+IAAAAAAEQQiAMAAAAAEEEgDgAAAABABIE4AAAAAAARBOIAAAAAAEQQiAMAAAAAEEEgDgAAAABA\n",
       "BIE4AAAAAAARBOIAAAAAAEQQiAMAAAAAEEEgDgAAAABABIE4AAAAAAARBOIAAAAAAEQQiAMAAAAA\n",
       "EGGutVb1IPjdnPP2dya1REV9+f9O+s968irpLINT3c7Pp98VT5/fK2f15yX1xMlc9SJcY58xRr+7\n",
       "ZYya/utYp25219UX4gAAAAAARBCIAwAAAAAQQSAOAAAAAEAEgTgAAAAAABEE4gAAAAAARBCIAwAA\n",
       "AAAQQSAOAAAAAEAEgTgAAAAAABEE4gAAAAAARBCIAwAAAAAQQSAOAAAAAEAEgTgAAAAAABEE4gAA\n",
       "AAAARBCIAwAAAAAQYa61VvUgnm7Ouf1sxfJ0G+8Y+2PW/vBcHc8yOKHn6UjfXqNO15zU6URSjXmO\n",
       "qv2yyz77jKQspaLnO9apm9119YU4AAAAAAARBOIAAAAAAEQQiAMAAAAAEEEgDgAAAABABIE4AAAA\n",
       "AAARBOIAAAAAAEQQiAMAAAAAEEEgDgAAAABABIE4AAAAAAARBOIAAAAAAEQQiAMAAAAAEEEgDgAA\n",
       "AABABIE4AAAAAAARBOIAAAAAAESYY4y1+/Ba24+2M+esHgJfJqn/oVK389fZwCk9T0f69t+61WiM\n",
       "fnWqOo/eGbMzk7/Ucb/sSprru7rdLyfr0a0Puo23SkUP+0IcAAAAAIAIAnEAAAAAACIIxAEAAAAA\n",
       "iCAQBwAAAAAggkAcAAAAAIAIAnEAAAAAACIIxAEAAAAAiCAQBwAAAAAggkAcAAAAAIAIAnEAAAAA\n",
       "ACIIxAEAAAAAiCAQBwAAAAAggkAcAAAAAIAIAnEAAAAAACLMtdbafnjO7RcfvPbI7pirxsv36tj/\n",
       "UCVpvyTNld8l9UHSXJ8uaS1P5rqrW43GqKkTv+vYQ/xbt3120ofd5jrGffsu6Q4+0bGHKlT0RLce\n",
       "9oU4AAAAAAARBOIAAAAAAEQQiAMAAAAAEEEgDgAAAABABIE4AAAAAAARBOIAAAAAAEQQiAMAAAAA\n",
       "EEEgDgAAAABABIE4AAAAAAARBOIAAAAAAEQQiAMAAAAAEEEgDgAAAABABIE4AAAAAAARBOIAAAAA\n",
       "AESYY4xVPYinW0uJv9Wcs3oIb9NPVOm2X072Soe5Ogs+r0MfvHp6z7/S/79LWsuTuVb0UNV4u9WJ\n",
       "31nL72VtnqvbvfqupPswydP79tVuT/hCHAAAAACACAJxAAAAAAAiCMQBAAAAAIggEAcAAAAAIIJA\n",
       "HAAAAACACAJxAAAAAAAiCMQBAAAAAIggEAcAAAAAIIJAHAAAAACACAJxAAAAAAAiCMQBAAAAAIgw\n",
       "11qrehBPN+fcftbyXLNb4471fWeuHefHZzmPnsNaXqNOz/T0dX36/P7KSZ26OVnXqjol9eI7OvZt\n",
       "0lp2W5+ktTnhXv1dt54/0W0t9e1n+UIcAAAAAIAIAnEAAAAAACIIxAEAAAAAiCAQBwAAAAAggkAc\n",
       "AAAAAIAIAnEAAAAAACIIxAEAAAAAiCAQBwAAAAAggkAcAAAAAIAIAnEAAAAAACIIxAEAAAAAiCAQ\n",
       "BwAAAAAggkAcAAAAAIAIAnEAAAAAACLMtdaqHkQHc87qIbyt29J2q/FJfTvMtVv/pOnQQ6/00zUd\n",
       "1rViLTvU5Sc9f023tXX3/72Tuthn3213bTuu6ztzffr8XlXNNelcMdfvoue/W8VZ1qFvXyX1gy/E\n",
       "AQAAAACIIBAHAAAAACCCQBwAAAAAgAgCcQAAAAAAIgjEAQAAAACIIBAHAAAAACCCQBwAAAAAgAgC\n",
       "cQAAAAAAIgjEAQAAAACIIBAHAAAAACCCQBwAAAAAgAgCcQAAAAAAIgjEAQAAAACIIBAHAAAAACDC\n",
       "XGut6kHcac659VzHMlXMdfedp+/l71nLz0uqsble02GuJ/Pb1aEuPz29D14lzfXpKvZ3Fb13Tbee\n",
       "qPofc5enz6+zpLWRF/yu21qeqFoP/0U+6+l79JUvxAEAAAAAiCAQBwAAAAAggkAcAAAAAIAIAnEA\n",
       "AAAAACIIxAEAAAAAiCAQBwAAAAAggkAcAAAAAIAIAnEAAAAAACIIxAEAAAAAiCAQBwAAAAAggkAc\n",
       "AAAAAIAIAnEAAAAAACIIxAEAAAAAiCAQBwAAAAAgwlxrrepBvGvOWT2Et5yUuGKu3cY7xtmYn6zb\n",
       "Xhmj31p2q3HH/b3r6XOtml/FHq0ab4c+eGWujNFvf1dJqlPSXIHv1jEveGfMSWdmx7Xc1fEe9dv+\n",
       "33whDgAAAABABIE4AAAAAAARBOIAAAAAAEQQiAMAAAAAEEEgDgAAAABABIE4AAAAAAARBOIAAAAA\n",
       "AEQQiAMAAAAAEEEgDgAAAABABIE4AAAAAAARBOIAAAAAAEQQiAMAAAAAEEEgDgAAAABABIE4AAAA\n",
       "AAAR5lprlbx4zu1ni4bMF9vtp4699M5cnz6/n3bn6zwizUnPd2OPPtPTz+2Oe7Sirt3qdFKjbnMd\n",
       "o8deA9739Dv4p7vO36radMtSOt6HFbrttYpzxRfiAAAAAABEEIgDAAAAABBBIA4AAAAAQASBOAAA\n",
       "AAAAEQTiAAAAAABEEIgDAAAAABBBIA4AAAAAQASBOAAAAAAAEQTiAAAAAABEEIgDAAAAABBBIA4A\n",
       "AAAAQASBOAAAAAAAEQTiAAAAAABEmGuttf3wnH85llscTJcP69ZPJ73UYa4d57c75m7jhTHO+jap\n",
       "99Tpu3W4D1/ddTd27L2KtexYpyS7PWFd4R7u4M+/9x3d1qOKO+Kaiju4Ww/7QhwAAAAAgAgCcQAA\n",
       "AAAAIgjEAQAAAACIIBAHAAAAACCCQBwAAAAAgAgCcQAAAAAAIgjEAQAAAACIIBAHAAAAACCCQBwA\n",
       "AAAAgAgCcQAAAAAAIgjEAQAAAACIIBAHAAAAACCCQBwAAAAAgAgCcQAAAAAAIsy11qoexJ3mnFvP\n",
       "hZVp2259x1Bj8tgv/HTSE3ep6L0OdfkpaY86y665q49PatptLbuNt6Nu5691JY1z8JoOZ1nSepxI\n",
       "6vmKvu1WoxO+EAcAAAAAIIJAHAAAAACACAJxAAAAAAAiCMQBAAAAAIggEAcAAAAAIIJAHAAAAACA\n",
       "CAJxAAAAAAAiCMQBAAAAAIggEAcAAAAAIIJAHAAAAACACAJxAAAAAAAiCMQBAAAAAIggEAcAAAAA\n",
       "IIJAHAAAAACACHOttaoH8a45Z/UQ3tKtxN3qO0a/GvMc3faLvfJ5Jz3RYX0qer5DXX7q1gfOsmu6\n",
       "reu7uvVBlQ5r+erpffsqaa48R7ez1x38GU+f36uknu+2rt3Ge8IX4gAAAAAARBCIAwAAAAAQQSAO\n",
       "AAAAAEAEgTgAAAAAABEE4gAAAAAARBCIAwAAAAAQQSAOAAAAAEAEgTgAAAAAABEE4gAAAAAARBCI\n",
       "AwAAAAAQQSAOAAAAAEAEgTgAAAAAABEE4gAAAAAARBCIAwAAAAAQYa61VsmL59x+tmjI26rmuvve\n",
       "bvUdI2uu/D3n0TXd5nripE53qbgfTt+7q9s92lG3/f30tUna3x1V/O7s2PO7802aK8+RdPZ23KMn\n",
       "3lmfjrWpOKu79fyJjj1RoaInfCEOAAAAAEAEgTgAAAAAABEE4gAAAAAARBCIAwAAAAAQQSAOAAAA\n",
       "AEAEgTgAAAAAABEE4gAAAAAARBCIJfuw8gAADehJREFUAwAAAAAQQSAOAAAAAEAEgTgAAAAAABEE\n",
       "4gAAAAAARJhrrbX98Jx/OZZb7E63aq4Hy1My5m7jPXEyVz4jqYeS5rrrpEZP39/d+ufE09fyr1Tt\n",
       "l933WtffdfzNWqHb72S+2zv9pA++W7ffSO5gqiT93vC/8vMqauwLcQAAAAAAIgjEAQAAAACIIBAH\n",
       "AAAAACCCQBwAAAAAgAgCcQAAAAAAIgjEAQAAAACIIBAHAAAAACCCQBwAAAAAgAgCcQAAAAAAIgjE\n",
       "AQAAAACIIBAHAAAAACCCQBwAAAAAgAgCcQAAAAAAIgjEAQAAAACIMMcYa/fhtbYfhfbmnNvP2ju/\n",
       "U9dnOlnXbu7qQ3vlmqQ6Ve2zkzpVjLnDunbs290xV/VPRZ26jTdNh98q+uAae+0adzBj1NzfJzqc\n",
       "1X+l237ptja+EAcAAAAAIIJAHAAAAACACAJxAAAAAAAiCMQBAAAAAIggEAcAAAAAIIJAHAAAAACA\n",
       "CAJxAAAAAAAiCMQBAAAAAIggEAcAAAAAIIJAHAAAAACACAJxAAAAAAAiCMQBAAAAAIggEAcAAAAA\n",
       "IIJAHAAAAACACHOttbYfnnP7xQevhT9z0sNVOuydbnXtUNNv4My/plv/v6tiLTvW9KROu/NN2mcn\n",
       "qs6yjn18BzX9vKSz4em/VZ4+v1fd9ndVfbv1RLfxdtFtv5xI6oOK/ZK0R30hDgAAAABABIE4AAAA\n",
       "AAARBOIAAAAAAEQQiAMAAAAAEEEgDgAAAABABIE4AAAAAAARBOIAAAAAAEQQiAMAAAAAEEEgDgAA\n",
       "AABABIE4AAAAAAARBOIAAAAAAEQQiAMAAAAAEEEgDgAAAABABIE4AAAAAAAR5hhjVQ/iXWu1GzIf\n",
       "Nufceq5jL70z15P57db09L0VzPW7VdQ4qSfeVdFDT6/pT2r8b1VnWbc6wRj97rSn/1Z5+vxedeu9\n",
       "Ex3XNUmHfkraLye61anbb9Zu4z3hC3EAAAAAACIIxAEAAAAAiCAQBwAAAAAggkAcAAAAAIAIAnEA\n",
       "AAAAACIIxAEAAAAAiCAQBwAAAAAggkAcAAAAAIAIAnEAAAAAACIIxAEAAAAAiCAQBwAAAAAggkAc\n",
       "AAAAAIAIAnEAAAAAACIIxAEAAAAAiDDXWqt6EO+ac24/23C6MU7WtcJJL9011w5j/KnjmHdVzLXj\n",
       "GdhtXU/ctT7d7tFu4x2j35irxtvtLOu2rjyHu5COkv5P6Nvvdtf93fGs7va7sxtnwzUVPeELcQAA\n",
       "AAAAIgjEAQAAAACIIBAHAAAAACCCQBwAAAAAgAgCcQAAAAAAIgjEAQAAAACIIBAHAAAAACCCQBwA\n",
       "AAAAgAgCcQAAAAAAIgjEAQAAAACIIBAHAAAAACCCQBwAAAAAgAgCcQAAAAAAIgjEAQAAAACIMMcY\n",
       "a/fhtbYfHXPO7WcrnMw1ycm6qjFcV3GGVp35SWdDt7sRxsj6PXiXpHMvibvwGnX6Prtr0nE9uv3G\n",
       "TlL1m+Hp66PnPyvpTus2V1+IAwAAAAAQQSAOAAAAAEAEgTgAAAAAABEE4gAAAAAARBCIAwAAAAAQ\n",
       "QSAOAAAAAEAEgTgAAAAAABEE4gAAAAAARBCIAwAAAAAQQSAOAAAAAEAEgTgAAAAAABEE4gAAAAAA\n",
       "RBCIAwAAAAAQQSAOAAAAAECEOcZYuw+vtf1oO3PO7We71elkrlW61RjGcK58WlWNktYV+AznyHfr\n",
       "9lu5431Y4el7J2k9up2h3cZ7ouNc3xlzhzH+pOf/rdv5OcZ+nTrOdZcvxAEAAAAAiCAQBwAAAAAg\n",
       "gkAcAAAAAIAIAnEAAAAAACIIxAEAAAAAiCAQBwAAAAAggkAcAOC/7dpBjuwoEAVAuP+hme2opdZ3\n",
       "QbvS6RexR4YkoVxPBgAAIIJAHAAAAACACAJxAAAAAAAiCMQBAAAAAIggEAcAAAAAIIJAHAAAAACA\n",
       "CAJxAAAAAAAizLXW2h485/aDDx575GTOFU7qtLvWqr05kbRWnsWdcv9zd3Xbm0+5v6CXDndS0r3S\n",
       "7TftRFXvJdXpW2vtMMcn6HDfPsFuT6gvaZLuzyS+EAcAAAAAIIJAHAAAAACACAJxAAAAAAAiCMQB\n",
       "AAAAAIggEAcAAAAAIIJAHAAAAACACAJxAAAAAAAiCMQBAAAAAIggEAcAAAAAIIJAHAAAAACACAJx\n",
       "AAAAAAAiCMQBAAAAAIggEAcAAAAAIIJAHAAAAACACHOMsaon8U1r5Sx3zvn1Z57Ut2K+J5J66e1O\n",
       "ei+pD5zRZ9G38H1vP3fd1pf0u9Rtb8bYn3PS/4kuup3vDvct0If76J18IQ4AAAAAQASBOAAAAAAA\n",
       "EQTiAAAAAABEEIgDAAAAABBBIA4AAAAAQASBOAAAAAAAEQTiAAAAAABEEIgDAAAAABBBIA4AAAAA\n",
       "QASBOAAAAAAAEQTiAAAAAABEmGutVT2Jb5pzbo2rKtPufMeom3MKe/M8J3tSoaIPkvq241o79HC3\n",
       "PoCf3n7OOqzvryTdR/aVSvoPeINud5n76JrdffWFOAAAAAAAEQTiAAAAAABEEIgDAAAAABBBIA4A\n",
       "AAAAQASBOAAAAAAAEQTiAAAAAABEEIgDAAAAABBBIA4AAAAAQASBOAAAAAAAEQTiAAAAAABEEIgD\n",
       "AAAAABBBIA4AAAAAQASBOAAAAAAAEQTiAAAAAABEmGOMtTt4re2hR+acJc9NUbWvFTr20tv352RP\n",
       "utWmY//tOtkbdXqWpDPKc+lDxujXB93mW0Wd7qGu1+zWKalGUCnpLrPWe/lCHAAAAACACAJxAAAA\n",
       "AAAiCMQBAAAAAIggEAcAAAAAIIJAHAAAAACACAJxAAAAAAAiCMQBAAAAAIggEAcAAAAAIIJAHAAA\n",
       "AACACAJxAAAAAAAiCMQBAAAAAIggEAcAAAAAIIJAHAAAAACACAJxAAAAAAAizLXW2h4851/O5bKD\n",
       "KXPByb5W7c3unDv20idr7bYfVU7q1PG88FzfOt9JZ5Rn04t064GOvA9e0+F8q+k16gTPlnRGrfX+\n",
       "5+7yhTgAAAAAABEE4gAAAAAARBCIAwAAAAAQQSAOAAAAAEAEgTgAAAAAABEE4gAAAAAARBCIAwAA\n",
       "AAAQQSAOAAAAAEAEgTgAAAAAABEE4gAAAAAARBCIAwAAAAAQQSAOAAAAAEAEgTgAAAAAABEE4gAA\n",
       "AAAARJhjjLU7eK3toUfmnNtjq+Zc4aRO/NtJL719b5yz+yXVuJtv9URSD/jdf7ak/Ula66d2a/P2\n",
       "ujyBd5VrvnW+k+4RvXdNUk/wHvqWn7rd+b4QBwAAAAAggkAcAAAAAIAIAnEAAAAAACIIxAEAAAAA\n",
       "iCAQBwAAAAAggkAcAAAAAIAIAnEAAAAAACIIxAEAAAAAiCAQBwAAAAAggkAcAAAAAIAIAnEAAAAA\n",
       "ACIIxAEAAAAAiCAQBwAAAAAggkAcAAAAAIAIc4yxqifRwVo1ZZpzbo+tmjN069tu8x1jf87uhWs6\n",
       "9ESHOf50MucKSeclaW86rNUZvcYZvaZbP3U835/MucMcf+r23llxXrrdn2Nk3aH8rlvv6tt7dXzf\n",
       "2OULcQAAAAAAIgjEAQAAAACIIBAHAAAAACCCQBwAAAAAgAgCcQAAAAAAIgjEAQAAAACIIBAHAAAA\n",
       "ACCCQBwAAAAAgAgCcQAAAAAAIgjEAQAAAACIIBAHAAAAACCCQBwAAAAAgAgCcQAAAAAAIgjEAQAA\n",
       "AACIMNdaq3oSHcw5q6fwNVqCMbJ6nmu63Q16+HmSeqhird3my++q7q9ufdCt5/0uXdOtDxMk9W5S\n",
       "/+3ua1KNuuj2e3giaa0nut3bJ3uzu1ZfiAMAAAAAEEEgDgAAAABABIE4AAAAAAARBOIAAAAAAEQQ\n",
       "iAMAAAAAEEEgDgAAAABABIE4AAAAAAARBOIAAAAAAEQQiAMAAAAAEEEgDgAAAABABIE4AAAAAAAR\n",
       "BOIAAAAAAEQQiAMAAAAAEEEgDgAAAABAhDnGWLuD19oeWmbOuTWu41p37dZojKw6dWAv+UtV/eTe\n",
       "fo+KvTzpW65x1q75pBeralpxzyedUWflGu+v91DXa7q9d3a7Q5N66VNJe5m01hPu7Wt26+QLcQAA\n",
       "AAAAIgjEAQAAAACIIBAHAAAAACCCQBwAAAAAgAgCcQAAAAAAIgjEAQAAAACIIBAHAAAAACCCQBwA\n",
       "AAAAgAgCcQAAAAAAIgjEAQAAAACIIBAHAAAAACCCQBwAAAAAgAgCcQAAAAAAIgjEAQAAAACIMNda\n",
       "a3vwnNsPPnjs0XMrnKz1hDq9U4d9tZfPVdU/3e58Pfw7+8FPVe+DFTr8BlfptpcVks7KGP3OS4ca\n",
       "q+k13ep0okPf/t/b78G3ry+VO+V+FWfHF+IAAAAAAEQQiAMAAAAAEEEgDgAAAABABIE4AAAAAAAR\n",
       "BOIAAAAAAEQQiAMAAAAAEEEgDgAAAABABIE4AAAAAAARBOIAAAAAAEQQiAMAAAAAEEEgDgAAAABA\n",
       "BIE4AAAAAAARBOIAAAAAAEQQiAMAAAAAEGGOMVbFg9cqeWyJOWfJc7vV+KRO1vosb1/fE+zWWH2v\n",
       "eXsPd1tft/l2VPWusutkX/XTPZJ+l5yX+59b4VtrVdP7davTiYp+6nYHjlF3D35LUs+fSHpX2dWh\n",
       "3/+KL8QBAAAAAIggEAcAAAAAIIJAHAAAAACACAJxAAAAAAAiCMQBAAAAAIggEAcAAAAAIIJAHAAA\n",
       "AACACAJxAAAAAAAiCMQBAAAAAIggEAcAAAAAIIJAHAAAAACACAJxAAAAAAAiCMQBAAAAAIjwH+m2\n",
       "UVVIv626AAAAAElFTkSuQmCC\n",
       "\" transform=\"translate(462, 62)\"/>\n",
       "</g>\n",
       "</svg>\n"
      ]
     },
     "execution_count": 19,
     "metadata": {},
     "output_type": "execute_result"
    }
   ],
   "source": [
    "p, data = CA1D.run(;rules = rule22, gridsize = n, initial_condition=\"random\", nsteps=steps, update=\"synchronous\")\n",
    "p"
   ]
  },
  {
   "cell_type": "markdown",
   "metadata": {
    "nbpresent": {
     "id": "6d7e43ba-d451-4b5e-84be-e90cd8737ecb"
    },
    "slideshow": {
     "slide_type": "slide"
    }
   },
   "source": [
    "## A closer look at Agents.jl\n",
    "The CA is too simple to illustrate all the features that are present in general ABMs. In particular, the lack of distinction between the space  grid and the agents is not generic. \n",
    "\n",
    "Agents.jl provides framework for constructing, running and analysing a broad class of ABMs. It *is* faster than writing yourself from scratch."
   ]
  },
  {
   "cell_type": "markdown",
   "metadata": {
    "nbpresent": {
     "id": "6d7e43ba-d451-4b5e-84be-e90cd8737ecb"
    },
    "slideshow": {
     "slide_type": "slide"
    }
   },
   "source": [
    "\n",
    "### Features of a general ABM\n",
    "\n",
    "* an **agent** object with its own features\n",
    "* a **model** object with its own features\n",
    "* a **space** in which the agents live (in Agents.jl the space is a feature of the model, \"no space\" is possible)\n",
    "* an **agent update** function\n",
    "* a **model update** function\n",
    "* a **scheduler**: a protocol for deciding the order in which the agents in the model run their update functions"
   ]
  },
  {
   "cell_type": "markdown",
   "metadata": {
    "nbpresent": {
     "id": "ffdf12b5-fa15-49a3-99a1-8372428310ae"
    },
    "slideshow": {
     "slide_type": "slide"
    }
   },
   "source": [
    "### Overview of the structure of the Agents.jl framework\n",
    "From https://juliadynamics.github.io/Agents.jl/dev/tutorial/ \n",
    "\n",
    "<img src=\"files/images/AgentsJL_overview.png\" alt=\"Agents\" style=\"width: 400px;\"/>\n",
    "\n"
   ]
  },
  {
   "cell_type": "markdown",
   "metadata": {
    "nbpresent": {
     "id": "4484d819-f11e-4d5e-8a81-75255e7aec09"
    },
    "slideshow": {
     "slide_type": "slide"
    }
   },
   "source": [
    "### Data types in the Agents.jl framework\n",
    "\n",
    "![Overview of Agents.jl](files/images/AgentsJL_model_object_structure.png \"Agents.jl\")\n",
    "\n",
    "from https://juliadynamics.github.io/Agents.jl/dev/tutorial/ "
   ]
  },
  {
   "cell_type": "markdown",
   "metadata": {
    "slideshow": {
     "slide_type": "slide"
    }
   },
   "source": [
    "## Example 1: the 1D CA \"under the hood\"\n",
    "\n",
    "Let's look at how the code for the 1D CA above fits into this framework.\n",
    "\n",
    "There are lots of other examples in the Agents.jl documentation."
   ]
  },
  {
   "cell_type": "markdown",
   "metadata": {
    "slideshow": {
     "slide_type": "slide"
    }
   },
   "source": [
    "### Step 1 : defining the agent, space and model objects\n",
    "\n",
    "Agents are always defined as mutable subtypes of ```AbstractAgent```. Depending on the space, the agent must have certain properties. For example, when the space is a ```GridSpace```, the agent must have a ```pos``` field of the appropriate dimension:"
   ]
  },
  {
   "cell_type": "code",
   "execution_count": 20,
   "metadata": {},
   "outputs": [],
   "source": [
    "mutable struct CA1DAgent <: AbstractAgent\n",
    "    id::Int # The identifier number of the agent\n",
    "    pos::Dims{1} # The x location of the agent on a 1D grid\n",
    "    state::Int # The state of the agent - 0 or 1\n",
    "end"
   ]
  },
  {
   "cell_type": "markdown",
   "metadata": {
    "slideshow": {
     "slide_type": "slide"
    }
   },
   "source": [
    "### Step 1 : defining the agent, space and model objects\n",
    "\n",
    "Agents.jl pre-defines several types of agent matching with different types of space and provides a macro to customise these. In our case, we want to customise a ```GridAgent{1}```:"
   ]
  },
  {
   "cell_type": "code",
   "execution_count": 21,
   "metadata": {},
   "outputs": [],
   "source": [
    "@agent CA1DAgent GridAgent{1} begin\n",
    "    state::Int\n",
    "end"
   ]
  },
  {
   "cell_type": "markdown",
   "metadata": {
    "slideshow": {
     "slide_type": "slide"
    }
   },
   "source": [
    "### Step 1 : defining the agent, space and model objects\n",
    "\n",
    "The space in this case is a 1D grid"
   ]
  },
  {
   "cell_type": "code",
   "execution_count": 22,
   "metadata": {},
   "outputs": [
    {
     "data": {
      "text/plain": [
       "GridSpace with size (101,), metric=euclidean, periodic=true"
      ]
     },
     "execution_count": 22,
     "metadata": {},
     "output_type": "execute_result"
    }
   ],
   "source": [
    "gridsize = 101\n",
    "space = GridSpace((gridsize,), metric=:euclidean, periodic = true)"
   ]
  },
  {
   "cell_type": "markdown",
   "metadata": {
    "slideshow": {
     "slide_type": "slide"
    }
   },
   "source": [
    "### Step 1 : defining the agent, space and model objects\n",
    "\n",
    "The model incorporates the agent, the space and any additional properties needed to specify the model.\n",
    "\n",
    "In our case, the only additional properties the model needs is the rules that we have defined above"
   ]
  },
  {
   "cell_type": "code",
   "execution_count": 23,
   "metadata": {},
   "outputs": [
    {
     "data": {
      "text/plain": [
       "AgentBasedModel with 0 agents of type CA1DAgent\n",
       " space: GridSpace with size (101,), metric=euclidean, periodic=true\n",
       " scheduler: fastest\n",
       " properties: Dict(:rules => Dict(\"000\" => 0, \"111\" => 0, \"001\" => 1, \"011\" => 1, \"101\" => 1, \"110\" => 1, \"010\" => 1, \"100\" => 0))"
      ]
     },
     "execution_count": 23,
     "metadata": {},
     "output_type": "execute_result"
    }
   ],
   "source": [
    "space = GridSpace((gridsize,), metric=:euclidean, periodic = true)\n",
    "properties = Dict(:rules => rule110)\n",
    "model = ABM(CA1DAgent, space; properties)"
   ]
  },
  {
   "cell_type": "markdown",
   "metadata": {
    "slideshow": {
     "slide_type": "slide"
    }
   },
   "source": [
    "### Step 1 : defining the agent, space and model objects\n",
    "\n",
    "After creating the model, we now need to add the agents to it. In this case, there is an agent at each point on the grid. Let's start off with all of them set to state 0 except for the last one:\n"
   ]
  },
  {
   "cell_type": "code",
   "execution_count": 24,
   "metadata": {},
   "outputs": [
    {
     "data": {
      "text/plain": [
       "1"
      ]
     },
     "execution_count": 24,
     "metadata": {},
     "output_type": "execute_result"
    }
   ],
   "source": [
    "for idx in 1:gridsize\n",
    "    add_agent_pos!(CA1DAgent(idx, (idx,), 0), model)\n",
    "end\n",
    "model.agents[gridsize].state = 1"
   ]
  },
  {
   "cell_type": "markdown",
   "metadata": {
    "slideshow": {
     "slide_type": "slide"
    }
   },
   "source": [
    "### Aside: Using a function to initialise an ABM\n",
    "\n",
    "It is a good idea to package all of this together into a single function to initialise an ABM. Here we take advantage of Julia's ability to define default function arguments:"
   ]
  },
  {
   "cell_type": "code",
   "execution_count": 25,
   "metadata": {},
   "outputs": [
    {
     "data": {
      "text/plain": [
       "initialise (generic function with 1 method)"
      ]
     },
     "execution_count": 25,
     "metadata": {},
     "output_type": "execute_result"
    }
   ],
   "source": [
    "function initialise(;rules = rule110, gridsize = 101)\n",
    "    space = GridSpace((gridsize,), metric=:euclidean, periodic = true)\n",
    "    properties = Dict(:rules => rules)\n",
    "    model = ABM(CA1DAgent, space; properties)\n",
    "    \n",
    "    for idx in 1:gridsize\n",
    "        add_agent_pos!(CA1DAgent(idx, (idx,), 0), model)\n",
    "    end\n",
    "    model.agents[gridsize].state = 1  \n",
    "    return model\n",
    "end"
   ]
  },
  {
   "cell_type": "markdown",
   "metadata": {
    "slideshow": {
     "slide_type": "slide"
    }
   },
   "source": [
    "### Step 2 : defining the agent update function\n",
    "\n",
    "This is where all of the action takes place:"
   ]
  },
  {
   "cell_type": "code",
   "execution_count": 26,
   "metadata": {},
   "outputs": [
    {
     "data": {
      "text/plain": [
       "agent_step! (generic function with 1 method)"
      ]
     },
     "execution_count": 26,
     "metadata": {},
     "output_type": "execute_result"
    }
   ],
   "source": [
    "function agent_step!(agent, model)\n",
    "    neighbourhood = nearby_ids(agent.pos, model)\n",
    "    str = \"\"\n",
    "    for idx in neighbourhood\n",
    "        str=str*string(model.agents[idx].state)\n",
    "    end\n",
    "    agent.state = model.rules[str]\n",
    "end"
   ]
  },
  {
   "cell_type": "markdown",
   "metadata": {
    "slideshow": {
     "slide_type": "slide"
    }
   },
   "source": [
    "### Step 3 : running the model and extracting data"
   ]
  },
  {
   "cell_type": "code",
   "execution_count": 27,
   "metadata": {},
   "outputs": [],
   "source": [
    "nsteps = 50\n",
    "adata = [:pos, :state]\n",
    "data, _ = run!(model, agent_step!, nsteps; adata);"
   ]
  },
  {
   "cell_type": "code",
   "execution_count": 28,
   "metadata": {},
   "outputs": [
    {
     "data": {
      "text/html": [
       "<div class=\"data-frame\"><p>5 rows × 4 columns</p><table class=\"data-frame\"><thead><tr><th></th><th>step</th><th>id</th><th>pos</th><th>state</th></tr><tr><th></th><th title=\"Int64\">Int64</th><th title=\"Int64\">Int64</th><th title=\"Tuple{Int64}\">Tuple…</th><th title=\"Int64\">Int64</th></tr></thead><tbody><tr><th>1</th><td>0</td><td>1</td><td>(1,)</td><td>0</td></tr><tr><th>2</th><td>0</td><td>2</td><td>(2,)</td><td>0</td></tr><tr><th>3</th><td>0</td><td>3</td><td>(3,)</td><td>0</td></tr><tr><th>4</th><td>0</td><td>4</td><td>(4,)</td><td>0</td></tr><tr><th>5</th><td>0</td><td>5</td><td>(5,)</td><td>0</td></tr></tbody></table></div>"
      ],
      "text/latex": [
       "\\begin{tabular}{r|cccc}\n",
       "\t& step & id & pos & state\\\\\n",
       "\t\\hline\n",
       "\t& Int64 & Int64 & Tuple… & Int64\\\\\n",
       "\t\\hline\n",
       "\t1 & 0 & 1 & (1,) & 0 \\\\\n",
       "\t2 & 0 & 2 & (2,) & 0 \\\\\n",
       "\t3 & 0 & 3 & (3,) & 0 \\\\\n",
       "\t4 & 0 & 4 & (4,) & 0 \\\\\n",
       "\t5 & 0 & 5 & (5,) & 0 \\\\\n",
       "\\end{tabular}\n"
      ],
      "text/plain": [
       "\u001b[1m5×4 DataFrame\u001b[0m\n",
       "\u001b[1m Row \u001b[0m│\u001b[1m step  \u001b[0m\u001b[1m id    \u001b[0m\u001b[1m pos    \u001b[0m\u001b[1m state \u001b[0m\n",
       "\u001b[1m     \u001b[0m│\u001b[90m Int64 \u001b[0m\u001b[90m Int64 \u001b[0m\u001b[90m Tuple… \u001b[0m\u001b[90m Int64 \u001b[0m\n",
       "─────┼─────────────────────────────\n",
       "   1 │     0      1  (1,)        0\n",
       "   2 │     0      2  (2,)        0\n",
       "   3 │     0      3  (3,)        0\n",
       "   4 │     0      4  (4,)        0\n",
       "   5 │     0      5  (5,)        0"
      ]
     },
     "execution_count": 28,
     "metadata": {},
     "output_type": "execute_result"
    }
   ],
   "source": [
    "data[1:5,:]"
   ]
  },
  {
   "cell_type": "markdown",
   "metadata": {
    "slideshow": {
     "slide_type": "slide"
    }
   },
   "source": [
    "Agents.jl uses a DataFrame to return the data from run. You need to learn how to manipulate them"
   ]
  },
  {
   "cell_type": "code",
   "execution_count": 29,
   "metadata": {},
   "outputs": [],
   "source": [
    "# Process the data into a simple array for plotting\n",
    "    A = zeros(Int64, (nsteps+1, nagents(model)))\n",
    "    for i in 0:nsteps\n",
    "        snapshot = data[data[!,:step] .== i, :]\n",
    "        for j in Iterators.flatten(snapshot.pos)\n",
    "            A[i+1,j] = snapshot.state[j]\n",
    "        end\n",
    "    end"
   ]
  },
  {
   "cell_type": "code",
   "execution_count": 30,
   "metadata": {},
   "outputs": [
    {
     "data": {
      "image/svg+xml": [
       "<?xml version=\"1.0\" encoding=\"utf-8\"?>\n",
       "<svg xmlns=\"http://www.w3.org/2000/svg\" xmlns:xlink=\"http://www.w3.org/1999/xlink\" width=\"600\" height=\"400\" viewBox=\"0 0 2400 1600\">\n",
       "<defs>\n",
       "  <clipPath id=\"clip650\">\n",
       "    <rect x=\"0\" y=\"0\" width=\"2400\" height=\"1600\"/>\n",
       "  </clipPath>\n",
       "</defs>\n",
       "<path clip-path=\"url(#clip650)\" d=\"\n",
       "M0 1600 L2400 1600 L2400 0 L0 0  Z\n",
       "  \" fill=\"#ffffff\" fill-rule=\"evenodd\" fill-opacity=\"1\"/>\n",
       "<defs>\n",
       "  <clipPath id=\"clip651\">\n",
       "    <rect x=\"480\" y=\"0\" width=\"1681\" height=\"1600\"/>\n",
       "  </clipPath>\n",
       "</defs>\n",
       "<path clip-path=\"url(#clip650)\" d=\"\n",
       "M47.2441 1387.91 L2352.76 1387.91 L2352.76 212.094 L47.2441 212.094  Z\n",
       "  \" fill=\"#ffffff\" fill-rule=\"evenodd\" fill-opacity=\"1\"/>\n",
       "<defs>\n",
       "  <clipPath id=\"clip652\">\n",
       "    <rect x=\"47\" y=\"212\" width=\"2307\" height=\"1177\"/>\n",
       "  </clipPath>\n",
       "</defs>\n",
       "<g clip-path=\"url(#clip652)\">\n",
       "<image width=\"2306\" height=\"1153\" xlink:href=\"data:image/png;base64,\n",
       "iVBORw0KGgoAAAANSUhEUgAACQIAAASBCAYAAABlkHHEAAAgAElEQVR4nOzcQW4ktxIA0Z8fc/8r\n",
       "p1feTAuGLA+7xNB7BygksoneMMDZ3f0fAAAAAAAAAABw3Mwc+/b/j30ZAAAAAAAAAAB4GyEQAAAA\n",
       "AAAAAAAECIEAAAAAAAAAACBACAQAAAAAAAAAAAFCIAAAAAAAAAAACBACAQAAAAAAAABAgBAIAAAA\n",
       "AAAAAAAChEAAAAAAAAAAABAgBAIAAAAAAAAAgAAhEAAAAAAAAAAABAiBAAAAAAAAAAAgQAgEAAAA\n",
       "AAAAAAABQiAAAAAAAAAAAAgQAgEAAAAAAAAAQIAQCAAAAAAAAAAAAoRAAAAAAAAAAAAQIAQCAAAA\n",
       "AAAAAIAAIRAAAAAAAAAAAAQIgQAAAAAAAAAAIEAIBAAAAAAAAAAAAUIgAAAAAAAAAAAIEAIBAAAA\n",
       "AAAAAECAEAgAAAAAAAAAAAJ+PT0AAAAAAAAAAAD8WzPz9AjfjheBAAAAAAAAAAAgQAgEAAAAAAAA\n",
       "AAABQiAAAAAAAAAAAAgQAgEAAAAAAAAAQIAQCAAAAAAAAAAAAoRAAAAAAAAAAAAQIAQCAAAAAAAA\n",
       "AIAAIRAAAAAAAAAAAAQIgQAAAAAAAAAAIEAIBAAAAAAAAAAAAUIgAAAAAAAAAAAIEAIBAAAAAAAA\n",
       "AECAEAgAAAAAAAAAAAKEQAAAAAAAAAAAECAEAgAAAAAAAACAACEQAAAAAAAAAAAECIEAAAAAAAAA\n",
       "ACBACAQAAAAAAAAAAAFCIAAAAAAAAAAACBACAQAAAAAAAABAgBAIAAAAAAAAAAAChEAAAAAAAAAA\n",
       "ABDw6+kBAAAAAAAAAAB4zsw8PcK3s7vHvn1y314EAgAAAAAAAACAACEQAAAAAAAAAAAECIEAAAAA\n",
       "AAAAACBACAQAAAAAAAAAAAFCIAAAAAAAAAAACBACAQAAAAAAAABAgBAIAAAAAAAAAAAChEAAAAAA\n",
       "AAAAABAgBAIAAAAAAAAAgAAhEAAAAAAAAAAABAiBAAAAAAAAAAAgQAgEAAAAAAAAAAABQiAAAAAA\n",
       "AAAAAAgQAgEAAAAAAAAAQIAQCAAAAAAAAAAAAoRAAAAAAAAAAAAQIAQCAAAAAAAAAIAAIRAAAAAA\n",
       "AAAAAAQIgQAAAAAAAAAAIEAIBAAAAAAAAAAAAUIgAAAAAAAAAAAIEAIBAAAAAAAAAEDAr6cHAAAA\n",
       "AAAAAADgn83M0yN8ye4e+/bJndy6by8CAQAAAAAAAABAgBAIAAAAAAAAAAAChEAAAAAAAAAAABAg\n",
       "BAIAAAAAAAAAgAAhEAAAAAAAAAAABAiBAAAAAAAAAAAgQAgEAAAAAAAAAAABQiAAAAAAAAAAAAgQ\n",
       "AgEAAAAAAAAAQIAQCAAAAAAAAAAAAoRAAAAAAAAAAAAQIAQCAAAAAAAAAIAAIRAAAAAAAAAAAAQI\n",
       "gQAAAAAAAAAAIEAIBAAAAAAAAAAAAUIgAAAAAAAAAAAIEAIBAAAAAAAAAECAEAgAAAAAAAAAAAKE\n",
       "QAAAAAAAAAAAECAEAgAAAAAAAACAACEQAAAAAAAAAAAECIEAAAAAAAAAACDg19MDAAAAAAAAAAC8\n",
       "y8w8PcKX7O6xb5/ciX2/OrkTLwIBAAAAAAAAAECAEAgAAAAAAAAAAAKEQAAAAAAAAAAAECAEAgAA\n",
       "AAAAAACAACEQAAAAAAAAAAAECIEAAAAAAAAAACBACAQAAAAAAAAAAAFCIAAAAAAAAAAACBACAQAA\n",
       "AAAAAABAgBAIAAAAAAAAAAAChEAAAAAAAAAAABAgBAIAAAAAAAAAgAAhEAAAAAAAAAAABAiBAAAA\n",
       "AAAAAAAgQAgEAAAAAAAAAAABQiAAAAAAAAAAAAgQAgEAAAAAAAAAQIAQCAAAAAAAAAAAAoRAAAAA\n",
       "AAAAAAAQMLu7Tw8BAAAAAAAAAPC3mTn27ZOZxMm5b2Xf7+VFIAAAAAAAAAAACBACAQAAAAAAAABA\n",
       "gBAIAAAAAAAAAAAChEAAAAAAAAAAABAgBAIAAAAAAAAAgAAhEAAAAAAAAAAABAiBAAAAAAAAAAAg\n",
       "QAgEAAAAAAAAAAABQiAAAAAAAAAAAAgQAgEAAAAAAAAAQIAQCAAAAAAAAAAAAoRAAAAAAAAAAAAQ\n",
       "IAQCAAAAAAAAAIAAIRAAAAAAAAAAAAQIgQAAAAAAAAAAIEAIBAAAAAAAAAAAAUIgAAAAAAAAAAAI\n",
       "EAIBAAAAAAAAAECAEAgAAAAAAAAAAAKEQAAAAAAAAAAAECAEAgAAAAAAAACAACEQAAAAAAAAAAAE\n",
       "CIEAAAAAAAAAACBgdnefHgIAAAAAAAAAuMvMPD3Cj3Iy7/Bbvrp1314EAgAAAAAAAACAACEQAAAA\n",
       "AAAAAAAECIEAAAAAAAAAACBACAQAAAAAAAAAAAFCIAAAAAAAAAAACBACAQAAAAAAAABAgBAIAAAA\n",
       "AAAAAAAChEAAAAAAAAAAABAgBAIAAAAAAAAAgAAhEAAAAAAAAAAABAiBAAAAAAAAAAAgQAgEAAAA\n",
       "AAAAAAABQiAAAAAAAAAAAAgQAgEAAAAAAAAAQIAQCAAAAAAAAAAAAoRAAAAAAAAAAAAQIAQCAAAA\n",
       "AAAAAIAAIRAAAAAAAAAAAAQIgQAAAAAAAAAAIEAIBAAAAAAAAAAAAUIgAAAAAAAAAAAIEAIBAAAA\n",
       "AAAAAEDA7O4+PQQAAAAAAAAA8OfNzLFvn8wNzN1h3+/lRSAAAAAAAAAAAAgQAgEAAAAAAAAAQIAQ\n",
       "CAAAAAAAAAAAAoRAAAAAAAAAAAAQIAQCAAAAAAAAAIAAIRAAAAAAAAAAAAQIgQAAAAAAAAAAIEAI\n",
       "BAAAAAAAAAAAAUIgAAAAAAAAAAAIEAIBAAAAAAAAAECAEAgAAAAAAAAAAAKEQAAAAAAAAAAAECAE\n",
       "AgAAAAAAAACAACEQAAAAAAAAAAAECIEAAAAAAAAAACBACAQAAAAAAAAAAAFCIAAAAAAAAAAACBAC\n",
       "AQAAAAAAAABAgBAIAAAAAAAAAAAChEAAAAAAAAAAABAgBAIAAAAAAAAAgAAhEAAAAAAAAAAABMzu\n",
       "7tNDAAAAAAAAAMB3NjNPj8APdzLvcL5f3bpvLwIBAAAAAAAAAECAEAgAAAAAAAAAAAKEQAAAAAAA\n",
       "AAAAECAEAgAAAAAAAACAACEQAAAAAAAAAAAECIEAAAAAAAAAACBACAQAAAAAAAAAAAFCIAAAAAAA\n",
       "AAAACBACAQAAAAAAAABAgBAIAAAAAAAAAAAChEAAAAAAAAAAABAgBAIAAAAAAAAAgAAhEAAAAAAA\n",
       "AAAABAiBAAAAAAAAAAAgQAgEAAAAAAAAAAABQiAAAAAAAAAAAAgQAgEAAAAAAAAAQIAQCAAAAAAA\n",
       "AAAAAoRAAAAAAAAAAAAQIAQCAAAAAAAAAIAAIRAAAAAAAAAAAAQIgQAAAAAAAAAAIGB2d58eAgAA\n",
       "AAAAAAD+q5l5eoQvOXltf3In5n516xk8yb7fy4tAAAAAAAAAAAAQIAQCAAAAAAAAAIAAIRAAAAAA\n",
       "AAAAAAQIgQAAAAAAAAAAIEAIBAAAAAAAAAAAAUIgAAAAAAAAAAAIEAIBAAAAAAAAAECAEAgAAAAA\n",
       "AAAAAAKEQAAAAAAAAAAAECAEAgAAAAAAAACAACEQAAAAAAAAAAAECIEAAAAAAAAAACBACAQAAAAA\n",
       "AAAAAAFCIAAAAAAAAAAACBACAQAAAAAAAABAgBAIAAAAAAAAAAAChEAAAAAAAAAAABAgBAIAAAAA\n",
       "AAAAgAAhEAAAAAAAAAAABMzu7tNDAAAAAAAAAPAzzMyxb5+8/j45N3yG8/1et+7bi0AAAAAAAAAA\n",
       "ABAgBAIAAAAAAAAAgAAhEAAAAAAAAAAABAiBAAAAAAAAAAAgQAgEAAAAAAAAAAABQiAAAAAAAAAA\n",
       "AAgQAgEAAAAAAAAAQIAQCAAAAAAAAAAAAoRAAAAAAAAAAAAQIAQCAAAAAAAAAIAAIRAAAAAAAAAA\n",
       "AAQIgQAAAAAAAAAAIEAIBAAAAAAAAAAAAUIgAAAAAAAAAAAIEAIBAAAAAAAAAECAEAgAAAAAAAAA\n",
       "AAKEQAAAAAAAAAAAECAEAgAAAAAAAACAACEQAAAAAAAAAAAECIEAAAAAAAAAACBACAQAAAAAAAAA\n",
       "AAFCIAAAAAAAAAAACBACAQAAAAAAAABAwOzuPj0EAAAAAAAAwHcxM0+PwA9z8tr+5Hk29yv/H6/s\n",
       "+728CAQAAAAAAAAAAAFCIAAAAAAAAAAACBACAQAAAAAAAABAgBAIAAAAAAAAAAAChEAAAAAAAAAA\n",
       "ABAgBAIAAAAAAAAAgAAhEAAAAAAAAAAABAiBAAAAAAAAAAAgQAgEAAAAAAAAAAABQiAAAAAAAAAA\n",
       "AAgQAgEAAAAAAAAAQIAQCAAAAAAAAAAAAoRAAAAAAAAAAAAQIAQCAAAAAAAAAIAAIRAAAAAAAAAA\n",
       "AAQIgQAAAAAAAAAAIEAIBAAAAAAAAAAAAUIgAAAAAAAAAAAIEAIBAAAAAAAAAECAEAgAAAAAAAAA\n",
       "AAKEQAAAAAAAAAAAECAEAgAAAAAAAACAgNndfXoIAAAAAAAA4Bkz8/QIP8rJ69k/+VveMufvbp0b\n",
       "PsP5fq9b9+1FIAAAAAAAAAAACBACAQAAAAAAAABAgBAIAAAAAAAAAAAChEAAAAAAAAAAABAgBAIA\n",
       "AAAAAAAAgAAhEAAAAAAAAAAABAiBAAAAAAAAAAAgQAgEAAAAAAAAAAABQiAAAAAAAAAAAAgQAgEA\n",
       "AAAAAAAAQIAQCAAAAAAAAAAAAoRAAAAAAAAAAAAQIAQCAAAAAAAAAIAAIRAAAAAAAAAAAAQIgQAA\n",
       "AAAAAAAAIEAIBAAAAAAAAAAAAUIgAAAAAAAAAAAIEAIBAAAAAAAAAECAEAgAAAAAAAAAAAKEQAAA\n",
       "AAAAAAAAECAEAgAAAAAAAACAACEQAAAAAAAAAAAEzO7u00MAAAAAAADA7Wbm6RG+5OR14cmd3Do3\n",
       "fOTW82zuV/4/Xtn3e3kRCAAAAAAAAAAAAoRAAAAAAAAAAAAQIAQCAAAAAAAAAIAAIRAAAAAAAAAA\n",
       "AAQIgQAAAAAAAAAAIEAIBAAAAAAAAAAAAUIgAAAAAAAAAAAIEAIBAAAAAAAAAECAEAgAAAAAAAAA\n",
       "AAKEQAAAAAAAAAAAECAEAgAAAAAAAACAACEQAAAAAAAAAAAECIEAAAAAAAAAACBACAQAAAAAAAAA\n",
       "AAFCIAAAAAAAAAAACBACAQAAAAAAAABAgBAIAAAAAAAAAAAChEAAAAAAAAAAABAgBAIAAAAAAAAA\n",
       "gIDZ3X16CAAAAAAAAPjbzDw9wpecvHa7dSe8uuWc3DLn726dGz7D+X6vW/ftRSAAAAAAAAAAAAgQ\n",
       "AgEAAAAAAAAAQIAQCAAAAAAAAAAAAoRAAAAAAAAAAAAQIAQCAAAAAAAAAIAAIRAAAAAAAAAAAAQI\n",
       "gQAAAAAAAAAAIEAIBAAAAAAAAAAAAUIgAAAAAAAAAAAIEAIBAAAAAAAAAECAEAgAAAAAAAAAAAKE\n",
       "QAAAAAAAAAAAECAEAgAAAAAAAACAACEQAAAAAAAAAAAECIEAAAAAAAAAACBACAQAAAAAAAAAAAFC\n",
       "IAAAAAAAAAAACBACAQAAAAAAAABAgBAIAAAAAAAAAAAChEAAAAAAAAAAABAgBAIAAAAAAAAAgAAh\n",
       "EAAAAAAAAAAABMzu7tNDAAAAAAAA8GfNzNMjfNnJ66ub93LKrfu+dW74yK3n2dyv/H+8su/38iIQ\n",
       "AAAAAAAAAAAECIEAAAAAAAAAACBACAQAAAAAAAAAAAFCIAAAAAAAAAAACBACAQAAAAAAAABAgBAI\n",
       "AAAAAAAAAAAChEAAAAAAAAAAABAgBAIAAAAAAAAAgAAhEAAAAAAAAAAABAiBAAAAAAAAAAAgQAgE\n",
       "AAAAAAAAAAABQiAAAAAAAAAAAAgQAgEAAAAAAAAAQIAQCAAAAAAAAAAAAoRAAAAAAAAAAAAQIAQC\n",
       "AAAAAAAAAIAAIRAAAAAAAAAAAAQIgQAAAAAAAAAAIEAIBAAAAAAAAAAAAUIgAAAAAAAAAAAIEAIB\n",
       "AAAAAAAAAECAEAgAAAAAAAAAAAKEQAAAAAAAAAAAEDC7u08PAQAAAAAA8F3NzNMjfMnJK6Bbd3Ka\n",
       "nfMZt5yTW+b83a1zw2c43+916769CAQAAAAAAAAAAAFCIAAAAAAAAAAACBACAQAAAAAAAABAgBAI\n",
       "AAAAAAAAAAAChEAAAAAAAAAAABAgBAIAAAAAAAAAgAAhEAAAAAAAAAAABAiBAAAAAAAAAAAgQAgE\n",
       "AAAAAAAAAAABQiAAAAAAAAAAAAgQAgEAAAAAAAAAQIAQCAAAAAAAAAAAAoRAAAAAAAAAAAAQIAQC\n",
       "AAAAAAAAAIAAIRAAAAAAAAAAAAQIgQAAAAAAAAAAIEAIBAAAAAAAAAAAAUIgAAAAAAAAAAAIEAIB\n",
       "AAAAAAAAAECAEAgAAAAAAAAAAAKEQAAAAAAAAAAAECAEAgAAAAAAAACAgNndfXoIAAAAAACgb2ae\n",
       "HuFLTl6l3LqT0+z8vW7d961zw0duPc/mfuX/45V9v5cXgQAAAAAAAAAAIEAIBAAAAAAAAAAAAUIg\n",
       "AAAAAAAAAAAIEAIBAAAAAAAAAECAEAgAAAAAAAAAAAKEQAAAAAAAAAAAECAEAgAAAAAAAACAACEQ\n",
       "AAAAAAAAAAAECIEAAAAAAAAAACBACAQAAAAAAAAAAAFCIAAAAAAAAAAACBACAQAAAAAAAABAgBAI\n",
       "AAAAAAAAAAAChEAAAAAAAAAAABAgBAIAAAAAAAAAgAAhEAAAAAAAAAAABAiBAAAAAAAAAAAgQAgE\n",
       "AAAAAAAAAAABQiAAAAAAAAAAAAgQAgEAAAAAAAAAQIAQCAAAAAAAAAAAAoRAAAAAAAAAAAAQMLu7\n",
       "Tw8BAAAAAAB8DzNz7NsnryROzn0r+34/O+czbjknt8z5u1vnhs9wvt/r1n17EQgAAAAAAAAAAAKE\n",
       "QAAAAAAAAAAAECAEAgAAAAAAAACAACEQAAAAAAAAAAAECIEAAAAAAAAAACBACAQAAAAAAAAAAAFC\n",
       "IAAAAAAAAAAACBACAQAAAAAAAABAgBAIAAAAAAAAAAAChEAAAAAAAAAAABAgBAIAAAAAAAAAgAAh\n",
       "EAAAAAAAAAAABAiBAAAAAAAAAAAgQAgEAAAAAAAAAAABQiAAAAAAAAAAAAgQAgEAAAAAAAAAQIAQ\n",
       "CAAAAAAAAAAAAoRAAAAAAAAAAAAQIAQCAAAAAAAAAICA2d19eggAAAAAAOC/mZmnR8g6eZXid/uY\n",
       "nb/Xrfu+dW74yK3n2dyv/H+8su/38iIQAAAAAAAAAAAECIEAAAAAAAAAACBACAQAAAAAAAAAAAFC\n",
       "IAAAAAAAAAAACBACAQAAAAAAAABAgBAIAAAAAAAAAAAChEAAAAAAAAAAABAgBAIAAAAAAAAAgAAh\n",
       "EAAAAAAAAAAABAiBAAAAAAAAAAAgQAgEAAAAAAAAAAABQiAAAAAAAAAAAAgQAgEAAAAAAAAAQIAQ\n",
       "CAAAAAAAAAAAAoRAAAAAAAAAAAAQIAQCAAAAAAAAAIAAIRAAAAAAAAAAAAQIgQAAAAAAAADgL3bu\n",
       "KDdyJAegoPP+h879L3kBbaOUMt9GHGBAcAjBpX4QQIAQCAAAAAAAAAAAAoRAAAAAAAAAAAAQIAQC\n",
       "AAAAAAAAAIAAIRAAAAAAAAAAAASsvfd+ewgAAAAAAPhfrLXeHuHP+dbr/id3++Q/SbiJK/s+z865\n",
       "Y8qdTJnz09S54Q73fdbUffsiEAAAAAAAAAAABAiBAAAAAAAAAAAgQAgEAAAAAAAAAAABQiAAAAAA\n",
       "AAAAAAgQAgEAAAAAAAAAQIAQCAAAAAAAAAAAAoRAAAAAAAAAAAAQIAQCAAAAAAAAAIAAIRAAAAAA\n",
       "AAAAAAQIgQAAAAAAAAAAIEAIBAAAAAAAAAAAAUIgAAAAAAAAAAAIEAIBAAAAAAAAAECAEAgAAAAA\n",
       "AAAAAAKEQAAAAAAAAAAAECAEAgAAAAAAAACAACEQAAAAAAAAAAAECIEAAAAAAAAAACBACAQAAAAA\n",
       "AAAAAAFCIAAAAAAAAAAACBACAQAAAAAAAABAgBAIAAAAAAAAAAAChEAAAAAAAAAAABCw9t777SEA\n",
       "AAAAACZba709Al/05GtztzKTmzjPzs+auu+pc8Nvpt6zua88P67s+yxfBAIAAAAAAAAAgAAhEAAA\n",
       "AAAAAAAABAiBAAAAAAAAAAAgQAgEAAAAAAAAAAABQiAAAAAAAAAAAAgQAgEAAAAAAAAAQIAQCAAA\n",
       "AAAAAAAAAoRAAAAAAAAAAAAQIAQCAAAAAAAAAIAAIRAAAAAAAAAAAAQIgQAAAAAAAAAAIEAIBAAA\n",
       "AAAAAAAAAUIgAAAAAAAAAAAIEAIBAAAAAAAAAECAEAgAAAAAAAAAAAKEQAAAAAAAAAAAECAEAgAA\n",
       "AAAAAACAACEQAAAAAAAAAAAECIEAAAAAAAAAACBACAQAAAAAAAAAAAFCIAAAAAAAAAAACBACAQAA\n",
       "AAAAAABAwNp777eHAAAAAAD4+fn5WWu9PcKf8+Qr3Cf3/fSrZ7dy9a2dT70LN3Fl3+fZOXdMuZMp\n",
       "c36aOjfc4b7PmrpvXwQCAAAAAAAAAIAAIRAAAAAAAAAAAAQIgQAAAAAAAAAAIEAIBAAAAAAAAAAA\n",
       "AUIgAAAAAAAAAAAIEAIBAAAAAAAAAECAEAgAAAAAAAAAAAKEQAAAAAAAAAAAECAEAgAAAAAAAACA\n",
       "ACEQAAAAAAAAAAAECIEAAAAAAAAAACBACAQAAAAAAAAAAAFCIAAAAAAAAAAACBACAQAAAAAAAABA\n",
       "gBAIAAAAAAAAAAAChEAAAAAAAAAAABAgBAIAAAAAAAAAgAAhEAAAAAAAAAAABAiBAAAAAAAAAAAg\n",
       "QAgEAAAAAAAAAAABQiAAAAAAAAAAAAgQAgEAAAAAAAAAQMDae++3hwAAAAAAvmut9fYIf86Tr0Lt\n",
       "u8Wt8MlNnGfnZ03d99S54TdT79ncV54fV/Z9li8CAQAAAAAAAABAgBAIAAAAAAAAAAAChEAAAAAA\n",
       "AAAAABAgBAIAAAAAAAAAgAAhEAAAAAAAAAAABAiBAAAAAAAAAAAgQAgEAAAAAAAAAAABQiAAAAAA\n",
       "AAAAAAgQAgEAAAAAAAAAQIAQCAAAAAAAAAAAAoRAAAAAAAAAAAAQIAQCAAAAAAAAAIAAIRAAAAAA\n",
       "AAAAAAQIgQAAAAAAAAAAIEAIBAAAAAAAAAAAAUIgAAAAAAAAAAAIEAIBAAAAAAAAAECAEAgAAAAA\n",
       "AAAAAAKEQAAAAAAAAAAAELD23vvtIQAAAADoW2u9PQJf8uQrRXdyNXXfT796ditX39r51LtwE1f2\n",
       "fZ6dc8eUO5ky56epc8Md7vusqfv2RSAAAAAAAAAAAAgQAgEAAAAAAAAAQIAQCAAAAAAAAAAAAoRA\n",
       "AAAAAAAAAAAQIAQCAAAAAAAAAIAAIRAAAAAAAAAAAAQIgQAAAAAAAAAAIEAIBAAAAAAAAAAAAUIg\n",
       "AAAAAAAAAAAIEAIBAAAAAAAAAECAEAgAAAAAAAAAAAKEQAAAAAAAAAAAECAEAgAAAAAAAACAACEQ\n",
       "AAAAAAAAAAAECIEAAAAAAAAAACBACAQAAAAAAAAAAAFCIAAAAAAAAAAACBACAQAAAAAAAABAgBAI\n",
       "AAAAAAAAAAAChEAAAAAAAAAAABAgBAIAAAAAAAAAgAAhEAAAAAAAAAAABKy99357CAAAAAD+3Vrr\n",
       "7RFe9+Qrrif3O3Xuqeybu9wKn9zEeXZ+1tR9T50bfjP1ns195flxZd9n+SIQAAAAAAAAAAAECIEA\n",
       "AAAAAAAAACBACAQAAAAAAAAAAAFCIAAAAAAAAAAACBACAQAAAAAAAABAgBAIAAAAAAAAAAAChEAA\n",
       "AAAAAAAAABAgBAIAAAAAAAAAgAAhEAAAAAAAAAAABAiBAAAAAAAAAAAgQAgEAAAAAAAAAAABQiAA\n",
       "AAAAAAAAAAgQAgEAAAAAAAAAQIAQCAAAAAAAAAAAAoRAAAAAAAAAAAAQIAQCAAAAAAAAAIAAIRAA\n",
       "AAAAAAAAAAQIgQAAAAAAAAAAIEAIBAAAAAAAAAAAAUIgAAAAAAAAAAAIEAIBAAAAAAAAAECAEAgA\n",
       "AAAAAAAAAAKEQAAAAAAAAAAAELD23vvtIQAAAADuWmu9PULak6+K/L/rcCdnTd3306+e3crVt3Y+\n",
       "9S7cxJV9n2fn3DHlTqbM+Wnq3HCH+z5r6r59EQgAAAAAAAAAAAKEQAAAAAAAAAAAECAEAgAAAAAA\n",
       "AACAACEQAAAAAAAAAAAECIEAAAAAAAAAACBACAQAAAAAAAAAAAFCIAAAAAAAAAAACBACAQAAAAAA\n",
       "AABAgBAIAAAAAAAAAAAChEAAAAAAAAAAABAgBAIAAAAAAAAAgAAhEAAAAAAAAAAABAiBAAAAAAAA\n",
       "AAAgQAgEAAAAAAAAAAABQiAAAAAAAAAAAAgQAgEAAAAAAAAAQIAQCAAAAAAAAAAAAoRAAAAAAAAA\n",
       "AAAQIAQCAAAAAAAAAIAAIRAAAAAAAAAAAAQIgQAAAAAAAAAAIEAIBAAAAAAAAAAAAWvvvd8eAgAA\n",
       "AGhZaz32337yVYa555q636lzT2Xf3OVW+OQmzrPzs6bue+rc8Jup92zuK8+PK/s+yxeBAAAAAAAA\n",
       "AAAgQAgEAAAAAAAAAAABQiAAAAAAAAAAAAgQAgEAAAAAAAAAQIAQCAAAAAAAAAAAAoRAAAAAAAAA\n",
       "AAAQIAQCAAAAAAAAAIAAIRAAAAAAAAAAAAQIgQAAAAAAAAAAIEAIBAAAAAAAAAAAAUIgAAAAAAAA\n",
       "AAAIEAIBAAAAAAAAAECAEAgAAAAAAAAAAAKEQAAAAAAAAAAAECAEAgAAAAAAAACAACEQAAAAAAAA\n",
       "AAAECIEAAAAAAAAAACBACAQAAAAAAAAAAAFCIAAAAAAAAAAACFh77/32EAAAAMB5a623R+APevJV\n",
       "kZvrcCdnTd3306+e3crVt3Y+9S7cxJV9n2fn3DHlTqbM+Wnq3HCH+z5r6r59EQgAAAAAAAAAAAKE\n",
       "QAAAAAAAAAAAECAEAgAAAAAAAACAACEQAGnUIHcAABzsSURBVAAAAAAAAAAECIEAAAAAAAAAACBA\n",
       "CAQAAAAAAAAAAAFCIAAAAAAAAAAACBACAQAAAAAAAABAgBAIAAAAAAAAAAAChEAAAAAAAAAAABAg\n",
       "BAIAAAAAAAAAgAAhEAAAAAAAAAAABAiBAAAAAAAAAAAgQAgEAAAAAAAAAAABQiAAAAAAAAAAAAgQ\n",
       "AgEAAAAAAAAAQIAQCAAAAAAAAAAAAoRAAAAAAAAAAAAQIAQCAAAAAAAAAIAAIRAAAAAAAAAAAAQI\n",
       "gQAAAAAAAAAAIEAIBAAAAAAAAAAAAWvvvd8eAgAAACZba709wj958pXAkzsx99XUG/ymqfudOvdU\n",
       "9s1dboVPbuI8Oz9r6r6nzg2/mXrP5r7y/Liy77N8EQgAAAAAAAAAAAKEQAAAAAAAAAAAECAEAgAA\n",
       "AAAAAACAACEQAAAAAAAAAAAECIEAAAAAAAAAACBACAQAAAAAAAAAAAFCIAAAAAAAAAAACBACAQAA\n",
       "AAAAAABAgBAIAAAAAAAAAAAChEAAAAAAAAAAABAgBAIAAAAAAAAAgAAhEAAAAAAAAAAABAiBAAAA\n",
       "AAAAAAAgQAgEAAAAAAAAAAABQiAAAAAAAAAAAAgQAgEAAAAAAAAAQIAQCAAAAAAAAAAAAoRAAAAA\n",
       "AAAAAAAQIAQCAAAAAAAAAIAAIRAAAAAAAAAAAAQIgQAAAAAAAAAAIEAIBAAAAAAAAAAAAWvvvd8e\n",
       "AgAAAH5+fn7WWm+P8E+e/Gk9dSfM5Z65w52cNXXfT796ditX39r51LtwE1f2fZ6dc8eUO5ky56ep\n",
       "c8Md7vusqfv2RSAAAAAAAAAAAAgQAgEAAAAAAAAAQIAQCAAAAAAAAAAAAoRAAAAAAAAAAAAQIAQC\n",
       "AAAAAAAAAIAAIRAAAAAAAAAAAAQIgQAAAAAAAAAAIEAIBAAAAAAAAAAAAUIgAAAAAAAAAAAIEAIB\n",
       "AAAAAAAAAECAEAgAAAAAAAAAAAKEQAAAAAAAAAAAECAEAgAAAAAAAACAACEQAAAAAAAAAAAECIEA\n",
       "AAAAAAAAACBACAQAAAAAAAAAAAFCIAAAAAAAAAAACBACAQAAAAAAAABAgBAIAAAAAAAAAAAChEAA\n",
       "AAAAAAAAABAgBAIAAAAAAAAAgAAhEAAAAAAAAAAABAiBAAAAAAAAAAAgYO2999tDAAAA8F1rrbdH\n",
       "+CdP/kSdupMnTd23ua/c99z9Tp17KvvmLrfCJzdxnp2fNXXfU+eG30y9Z3NfeX5c2fdZvggEAAAA\n",
       "AAAAAAABQiAAAAAAAAAAAAgQAgEAAAAAAAAAQIAQCAAAAAAAAAAAAoRAAAAAAAAAAAAQIAQCAAAA\n",
       "AAAAAIAAIRAAAAAAAAAAAAQIgQAAAAAAAAAAIEAIBAAAAAAAAAAAAUIgAAAAAAAAAAAIEAIBAAAA\n",
       "AAAAAECAEAgAAAAAAAAAAAKEQAAAAAAAAAAAECAEAgAAAAAAAACAACEQAAAAAAAAAAAECIEAAAAA\n",
       "AAAAACBACAQAAAAAAAAAAAFCIAAAAAAAAAAACBACAQAAAAAAAABAgBAIAAAAAAAAAAAChEAAAAAA\n",
       "AAAAABAgBAIAAAAAAAAAgIC1995vDwEAAPCv1lpvj/AnPflTz86v7JsS98wd7uSsqft++tWzW7n6\n",
       "1s6n3oWbuLLv8+ycO6bcyZQ5P02dG+5w32dN3bcvAgEAAAAAAAAAQIAQCAAAAAAAAAAAAoRAAAAA\n",
       "AAAAAAAQIAQCAAAAAAAAAIAAIRAAAAAAAAAAAAQIgQAAAAAAAAAAIEAIBAAAAAAAAAAAAUIgAAAA\n",
       "AAAAAAAIEAIBAAAAAAAAAECAEAgAAAAAAAAAAAKEQAAAAAAAAAAAECAEAgAAAAAAAACAACEQAAAA\n",
       "AAAAAAAECIEAAAAAAAAAACBACAQAAAAAAAAAAAFCIAAAAAAAAAAACBACAQAAAAAAAABAgBAIAAAA\n",
       "AAAAAAAChEAAAAAAAAAAABCw9t777SEAAIC2tdbbI/yTp38uTd3Lk57cuX1fTd23ua/c99z9Tp17\n",
       "KvvmLrfCJzdxnp2fNXXfU+eG30y9Z3NfeX5c2fdZvggEAAAAAAAAAAABQiAAAAAAAAAAAAgQAgEA\n",
       "AAAAAAAAQIAQCAAAAAAAAAAAAoRAAAAAAAAAAAAQIAQCAAAAAAAAAIAAIRAAAAAAAAAAAAQIgQAA\n",
       "AAAAAAAAIEAIBAAAAAAAAAAAAUIgAAAAAAAAAAAIEAIBAAAAAAAAAECAEAgAAAAAAAAAAAKEQAAA\n",
       "AAAAAAAAECAEAgAAAAAAAACAACEQAAAAAAAAAAAECIEAAAAAAAAAACBACAQAAAAAAAAAAAFCIAAA\n",
       "AAAAAAAACBACAQAAAAAAAABAgBAIAAAAAAAAAAAChEAAAAAAAAAAABAgBAIAAAAAAAAAgIC1995v\n",
       "DwEAAHVrrbdHeNWTPzv+33f739j5WfZNiXvmDndy1tR9P/3q2a1cfWvnU+/CTVzZ93l2zh1T7mTK\n",
       "nJ+mzg13uO+zpu7bF4EAAAAAAAAAACBACAQAAAAAAAAAAAFCIAAAAAAAAAAACBACAQAAAAAAAABA\n",
       "gBAIAAAAAAAAAAAChEAAAAAAAAAAABAgBAIAAAAAAAAAgAAhEAAAAAAAAAAABAiBAAAAAAAAAAAg\n",
       "QAgEAAAAAAAAAAABQiAAAAAAAAAAAAgQAgEAAAAAAAAAQIAQCAAAAAAAAAAAAoRAAAAAAAAAAAAQ\n",
       "IAQCAAAAAAAAAIAAIRAAAAAAAAAAAAQIgQAAAAAAAAAAIEAIBAAAAAAAAAAAAUIgAAAAAAAAAAAI\n",
       "EAIBAAAAAAAAAECAEAgAAAAAAAAAAAKEQAAAAAAAAAAAELD23vvtIQAA4K611tsj/Dnf+pPebq+e\n",
       "/rlk51dP7ty+r6bu29xX7nvufqfOPZV9c5db4ZObOM/Oz5q676lzw2+m3rO5rzw/ruz7LF8EAgAA\n",
       "AAAAAACAACEQAAAAAAAAAAAECIEAAAAAAAAAACBACAQAAAAAAAAAAAFCIAAAAAAAAAAACBACAQAA\n",
       "AAAAAABAgBAIAAAAAAAAAAAChEAAAAAAAAAAABAgBAIAAAAAAAAAgAAhEAAAAAAAAAAABAiBAAAA\n",
       "AAAAAAAgQAgEAAAAAAAAAAABQiAAAAAAAAAAAAgQAgEAAAAAAAAAQIAQCAAAAAAAAAAAAoRAAAAA\n",
       "AAAAAAAQIAQCAAAAAAAAAIAAIRAAAAAAAAAAAAQIgQAAAAAAAAAAIEAIBAAAAAAAAAAAAUIgAAAA\n",
       "AAAAAAAIEAIBAAAAAAAAAECAEAgAAAAAAAAAAALW3nu/PQQAAOettd4e4c958k/j//d92+15dn6W\n",
       "fVPinrnDnZw1dd9Pv3p2K1ff2vnUu3ATV/Z9np1zx5Q7mTLnp6lzwx3u+6yp+/ZFIAAAAAAAAAAA\n",
       "CBACAQAAAAAAAABAgBAIAAAAAAAAAAAChEAAAAAAAAAAABAgBAIAAAAAAAAAgAAhEAAAAAAAAAAA\n",
       "BAiBAAAAAAAAAAAgQAgEAAAAAAAAAAABQiAAAAAAAAAAAAgQAgEAAAAAAAAAQIAQCAAAAAAAAAAA\n",
       "AoRAAAAAAAAAAAAQIAQCAAAAAAAAAIAAIRAAAAAAAAAAAAQIgQAAAAAAAAAAIEAIBAAAAAAAAAAA\n",
       "AUIgAAAAAAAAAAAIEAIBAAAAAAAAAECAEAgAAAAAAAAAAAKEQAAAAAAAAAAAECAEAgAAAAAAAACA\n",
       "ACEQAAAAAAAAAAAErL33fnsIAICp1lpvj/AnPfknpp1ffWvfdnv19M8lO7/y/Dhr6r7NfeW+5+53\n",
       "6txT2Td3uRU+uYnz7PysqfueOjf8Zuo9m/vK8+PKvs/yRSAAAAAAAAAAAAgQAgEAAAAAAAAAQIAQ\n",
       "CAAAAAAAAAAAAoRAAAAAAAAAAAAQIAQCAAAAAAAAAIAAIRAAAAAAAAAAAAQIgQAAAAAAAAAAIEAI\n",
       "BAAAAAAAAAAAAUIgAAAAAAAAAAAIEAIBAAAAAAAAAECAEAgAAAAAAAAAAAKEQAAAAAAAAAAAECAE\n",
       "AgAAAAAAAACAACEQAAAAAAAAAAAECIEAAAAAAAAAACBACAQAAAAAAAAAAAFCIAAAAAAAAAAACBAC\n",
       "AQAAAAAAAABAgBAIAAAAAAAAAAAC1t57vz0EAMCT1lpvj/DPnvxTbfJenmLfz7Hb8+z8LPumxD1z\n",
       "hzs5a+q+n3717FauvrXzqXfhJq7s+zw7544pdzJlzk9T54Y73PdZU/fti0AAAAAAAAAAABAgBAIA\n",
       "AAAAAAAAgAAhEAAAAAAAAAAABAiBAAAAAAAAAAAgQAgEAAAAAAAAAAABQiAAAAAAAAAAAAgQAgEA\n",
       "AAAAAAAAQIAQCAAAAAAAAAAAAoRAAAAAAAAAAAAQIAQCAAAAAAAAAIAAIRAAAAAAAAAAAAQIgQAA\n",
       "AAAAAAAAIEAIBAAAAAAAAAAAAUIgAAAAAAAAAAAIEAIBAAAAAAAAAECAEAgAAAAAAAAAAAKEQAAA\n",
       "AAAAAAAAECAEAgAAAAAAAACAACEQAAAAAAAAAAAECIEAAAAAAAAAACBACAQAAAAAAAAAAAFCIAAA\n",
       "AAAAAAAACFh77/32EADADGutt0f4J0/+uTN1J0+z87O+tW+7vXr655KdX3l+nDV13+a+ct9z9zt1\n",
       "7qnsm7vcCp/cxHl2ftbUfU+dG34z9Z7NfeX5cWXfZ/kiEAAAAAAAAAAABAiBAAAAAAAAAAAgQAgE\n",
       "AAAAAAAAAAABQiAAAAAAAAAAAAgQAgEAAAAAAAAAQIAQCAAAAAAAAAAAAoRAAAAAAAAAAAAQIAQC\n",
       "AAAAAAAAAIAAIRAAAAAAAAAAAAQIgQDgP+3cQW4cRxBFQdb9D13eT3PRIKarlc8RBxAK3+mRSDwM\n",
       "AAAAAAAAQIAQCAAAAAAAAAAAAoRAAAAAAAAAAAAQIAQCAAAAAAAAAIAAIRAAAAAAAAAAAAQIgQAA\n",
       "AAAAAAAAIEAIBAAAAAAAAAAAAUIgAAAAAAAAAAAIEAIBAAAAAAAAAECAEAgAAAAAAAAAAAKEQAAA\n",
       "AAAAAAAAECAEAgAAAAAAAACAACEQAAAAAAAAAAAErL33fvsRAPB/s9Z6+wl/8uQ/G6Zu8jSbn2Xv\n",
       "59j2PJufZW9K3DN3uJOzpu799K+e3crVtzafehdu4sre59mcO6bcyZR3fpr6brjDfZ81dW/fCAQA\n",
       "AAAAAAAAAAFCIAAAAAAAAAAACBACAQAAAAAAAABAgBAIAAAAAAAAAAAChEAAAAAAAAAAABAgBAIA\n",
       "AAAAAAAAgAAhEAAAAAAAAAAABAiBAAAAAAAAAAAgQAgEAAAAAAAAAAABQiAAAAAAAAAAAAgQAgEA\n",
       "AAAAAAAAQIAQCAAAAAAAAAAAAoRAAAAAAAAAAAAQIAQCAAAAAAAAAIAAIRAAAAAAAAAAAAQIgQAA\n",
       "AAAAAAAAIEAIBAAAAAAAAAAAAUIgAAAAAAAAAAAIEAIBAAAAAAAAAECAEAgAAAAAAAAAAAKEQAAA\n",
       "AAAAAAAAECAEAgAAAAAAAACAACEQAAAAAAAAAAAErL33fvsRAPAvWms99mc/+dfvk++eyt7n2fys\n",
       "b+1t26unf1yy+ZXPj7Om7u3dV+577r5T3z2VvbnLrfDJTZxn87Om7j313fCbqffs3Vc+P67sfZZv\n",
       "BAIAAAAAAAAAgAAhEAAAAAAAAAAABAiBAAAAAAAAAAAgQAgEAAAAAAAAAAABQiAAAAAAAAAAAAgQ\n",
       "AgEAAAAAAAAAQIAQCAAAAAAAAAAAAoRAAAAAAAAAAAAQIAQCAAAAAAAAAIAAIRAAAAAAAAAAAAQI\n",
       "gQAAAAAAAAAAIEAIBAAAAAAAAAAAAUIgAAAAAAAAAAAIEAIBAAAAAAAAAECAEAgAAAAAAAAAAAKE\n",
       "QAAAAAAAAAAAECAEAgAAAAAAAACAACEQAAAAAAAAAAAECIEAAAAAAAAAACBg7b33248AoG2t9fYT\n",
       "+JIn/9ngTn5n87Ps/Rzbnmfzs+xNiXvmDndy1tS9n/7Vs1u5+tbmU+/CTVzZ+zybc8eUO5nyzk9T\n",
       "3w13uO+zpu7tG4EAAAAAAAAAACBACAQAAAAAAAAAAAFCIAAAAAAAAAAACBACAQAAAAAAAABAgBAI\n",
       "AAAAAAAAAAAChEAAAAAAAAAAABAgBAIAAAAAAAAAgAAhEAAAAAAAAAAABAiBAAAAAAAAAAAgQAgE\n",
       "AAAAAAAAAAABQiAAAAAAAAAAAAgQAgEAAAAAAAAAQIAQCAAAAAAAAAAAAoRAAAAAAAAAAAAQIAQC\n",
       "AAAAAAAAAIAAIRAAAAAAAAAAAAQIgQAAAAAAAAAAIEAIBAAAAAAAAAAAAUIgAAAAAAAAAAAIEAIB\n",
       "AAAAAAAAAECAEAgAAAAAAAAAAAKEQAAAAAAAAAAAELD23vvtRwDwN2utt5/wuif/Gnty36nvnsre\n",
       "59n8rG/tbdurp39csvmVz4+zpu7t3Vfue+6+U989lb25y63wyU2cZ/Ozpu499d3wm6n37N1XPj+u\n",
       "7H2WbwQCAAAAAAAAAIAAIRAAAAAAAAAAAAQIgQAAAAAAAAAAIEAIBAAAAAAAAAAAAUIgAAAAAAAA\n",
       "AAAIEAIBAAAAAAAAAECAEAgAAAAAAAAAAAKEQAAAAAAAAAAAECAEAgAAAAAAAACAACEQAAAAAAAA\n",
       "AAAECIEAAAAAAAAAACBACAQAAAAAAAAAAAFCIAAAAAAAAAAACBACAQAAAAAAAABAgBAIAAAAAAAA\n",
       "AAAChEAAAAAAAAAAABAgBAIAAAAAAAAAgAAhEAAAAAAAAAAABAiBAAAAAAAAAAAgQAgEAAAAAAAA\n",
       "AAABQiAAAAAAAAAAAAgQAgEAAAAAAAAAQMDae++3HwHwtrXW20943ZN/Hdi3w52cZ/Oz7P0c255n\n",
       "87PsTYl75g53ctbUvZ/+1bNbufrW5lPvwk1c2fs8m3PHlDuZ8s5PU98Nd7jvs6bu7RuBAAAAAAAA\n",
       "AAAgQAgEAAAAAAAAAAABQiAAAAAAAAAAAAgQAgEAAAAAAAAAQIAQCAAAAAAAAAAAAoRAAAAAAAAA\n",
       "AAAQIAQCAAAAAAAAAIAAIRAAAAAAAAAAAAQIgQAAAAAAAAAAIEAIBAAAAAAAAAAAAUIgAAAAAAAA\n",
       "AAAIEAIBAAAAAAAAAECAEAgAAAAAAAAAAAKEQAAAAAAAAAAAECAEAgAAAAAAAACAACEQAAAAAAAA\n",
       "AAAECIEAAAAAAAAAACBACAQAAAAAAAAAAAFCIAAAAAAAAAAACBACAQAAAAAAAABAgBAIAAAAAAAA\n",
       "AAAChEAAAAAAAAAAABCw9t777UcA3LHWevsJf/Lkx+zUTb5p6r5T3z2Vvc+z+Vnf2tu2V0//uGTz\n",
       "K58fZ03d27uv3Pfcfae+eyp7c5db4ZObOM/mZ03de+q74TdT79m7r3x+XNn7LN8IBAAAAAAAAAAA\n",
       "AUIgAAAAAAAAAAAIEAIBAAAAAAAAAECAEAgAAAAAAAAAAAKEQAAAAAAAAAAAECAEAgAAAAAAAACA\n",
       "ACEQAAAAAAAAAAAECIEAAAAAAAAAACBACAQAAAAAAAAAAAFCIAAAAAAAAAAACBACAQAAAAAAAABA\n",
       "gBAIAAAAAAAAAAAChEAAAAAAAAAAABAgBAIAAAAAAAAAgAAhEAAAAAAAAAAABAiBAAAAAAAAAAAg\n",
       "QAgEAAAAAAAAAAABQiAAAAAAAAAAAAgQAgEAAAAAAAAAQIAQCAAAAAAAAAAAAoRAAAAAAAAAAAAQ\n",
       "IAQCAAAAAAAAAIAAIRAAAAAAAAAAAASsvfd++xGw1nr7CQzw5MeVG7Qv97iT82x+lr2fY9vzbH6W\n",
       "vSlxz9zhTs6auvfTv3p2K1ff2nzqXbiJK3ufZ3PumHInU975aeq74Q73fdbUvX0jEAAAAAAAAAAA\n",
       "BAiBAAAAAAAAAAAgQAgEAAAAAAAAAAABQiAAAAAAAAAAAAgQAgEAAAAAAAAAQIAQCAAAAAAAAAAA\n",
       "AoRAAAAAAAAAAAAQIAQCAAAAAAAAAIAAIRAAAAAAAAAAAAQIgQAAAAAAAAAAIEAIBAAAAAAAAAAA\n",
       "AUIgAAAAAAAAAAAIEAIBAAAAAAAAAECAEAgAAAAAAAAAAAKEQAAAAAAAAAAAECAEAgAAAAAAAACA\n",
       "ACEQAAAAAAAAAAAECIEAAAAAAAAAACBACAQAAAAAAAAAAAFr773ffgQzrLUe+7OfPEPvvpr67qns\n",
       "/ayp+05991T2Ps/mZ31rb9tePf3jks2vfH6cNXVv775y33P3nfruqezNXW6FT27iPJufNXXvqe+G\n",
       "30y9Z+++8vlxZe+zfCMQAAAAAAAAAAAECIEAAAAAAAAAACBACAQAAAAAAAAAAAFCIAAAAAAAAAAA\n",
       "CBACAQAAAAAAAABAgBAIAAAAAAAAAAAChEAAAAAAAAAAABAgBAIAAAAAAAAAgAAhEAAAAAAAAAAA\n",
       "BAiBAAAAAAAAAAAgQAgEAAAAAAAAAAABQiAAAAAAAAAAAAgQAgEAAAAAAAAAQIAQCAAAAAAAAAAA\n",
       "AoRAAAAAAAAAAAAQIAQCAAAAAAAAAIAAIRAAAAAAAAAAAAQIgQAAAAAAAAAAIEAIBAAAAAAAAAAA\n",
       "AUIgAAAAAAAAAAAIEAIBAAAAAAAAAECAEAgAAAAAAAAAAALW3nu//Qi+Z6319hPgMU9+XPl/x77c\n",
       "407Os/lZ9n6Obc+z+Vn2psQ9c4c7OWvq3k//6tmtXH1r86l34Sau7H2ezbljyp1Meeenqe+GO9z3\n",
       "WVP39o1AAAAAAAAAAAAQIAQCAAAAAAAAAIAAIRAAAAAAAAAAAAQIgQAAAAAAAAAAIEAIBAAAAAAA\n",
       "AAAAAUIgAAAAAAAAAAAIEAIBAAAAAAAAAECAEAgAAAAAAAAAAAKEQAAAAAAAAAAAECAEAgAAAAAA\n",
       "AACAACEQAAAAAAAAAAAECIEAAAAAAAAAACBACAQAAAAAAAAAAAFCIAAAAAAAAAAACBACAQAAAAAA\n",
       "AABAgBAIAAAAAAAAAAAChEAAAAAAAAAAABAgBAIAAAAAAAAAgAAhEAAAAAAAAAAABAiBAAAAAAAA\n",
       "AAAgQAgEAAAAAAAAAAABQiAAAAAAAAAAAAhYe+/99iP+aq319hP+OU/+53xyb+++8u4Oez9r6r5T\n",
       "3z2Vvc+z+Vnf2tu2V0//uGTzK58fZ03d27uv3Pfcfae+eyp7c5db4ZObOM/mZ03de+q74TdT79m7\n",
       "r3x+XNn7LN8IBAAAAAAAAAAAAUIgAAAAAAAAAAAIEAIBAAAAAAAAAECAEAgAAAAAAAAAAAKEQAAA\n",
       "AAAAAAAAECAEAgAAAAAAAACAACEQAAAAAAAAAAAECIEAAAAAAAAAACBACAQAAAAAAAAAAAFCIAAA\n",
       "AAAAAAAACBACAQAAAAAAAABAgBAIAAAAAAAAAAAChEAAAAAAAAAAABAgBAIAAAAAAAAAgAAhEAAA\n",
       "AAAAAAAABAiBAAAAAAAAAAAgQAgEAAAAAAAAAAABQiAAAAAAAAAAAAgQAgEAAAAAAAAAQIAQCAAA\n",
       "AAAAAAAAAoRAAAAAAAAAAAAQIAQCAAAAAAAAAICA9fPzs99+xL9o7+dmWWs99mdDmf8vn2Vf7nAn\n",
       "59n8LHs/x7bn2fwse1PinrnDnZw1de8n3/3z41Z+863Np96Fm7iy93k2544pdzLlnZ+mvhvucN9n\n",
       "Td3bNwIBAAAAAAAAAECAEAgAAAAAAAAAAAKEQAAAAAAAAAAAECAEAgAAAAAAAACAACEQAAAAAAAA\n",
       "AAAECIEAAAAAAAAAACBACAQAAAAAAAAAAAFCIAAAAAAAAAAACBACAQAAAAAAAABAgBAIAAAAAAAA\n",
       "AAAChEAAAAAAAAAAABAgBAIAAAAAAAAAgAAhEAAAAAAAAAAABAiBAAAAAAAAAAAgQAgEAAAAAAAA\n",
       "AAABQiAAAAAAAAAAAAgQAgEAAAAAAAAAQIAQCAAAAAAAAAAAAoRAAAAAAAAAAAAQIAQCAAAAAAAA\n",
       "AIAAIRAAAAAAAAAAAAQIgQAAAAAAAAAAIOA/TmviKCmTFkMAAAAASUVORK5CYII=\n",
       "\" transform=\"translate(47, 235)\"/>\n",
       "</g>\n",
       "</svg>\n"
      ]
     },
     "execution_count": 30,
     "metadata": {},
     "output_type": "execute_result"
    }
   ],
   "source": [
    " # Reverse the image to make it plot nicer\n",
    "    B = map( x -> x == 0 ? 1 : 0, A)\n",
    "    p = plot(Gray.(B), aspect_ratio = :equal, ylim=(0,nsteps+1), axis=nothing, xaxis=false, yaxis=false)"
   ]
  },
  {
   "cell_type": "markdown",
   "metadata": {
    "slideshow": {
     "slide_type": "slide"
    }
   },
   "source": [
    "### Synchronous vs asynchronous update - defining a model update function\n",
    "\n",
    "What happened? We need our model to update synchronously. This is most easily done by defining a model update function that updates the agents:"
   ]
  },
  {
   "cell_type": "code",
   "execution_count": 31,
   "metadata": {},
   "outputs": [
    {
     "data": {
      "text/plain": [
       "model_step! (generic function with 1 method)"
      ]
     },
     "execution_count": 31,
     "metadata": {},
     "output_type": "execute_result"
    }
   ],
   "source": [
    "function model_step!(model)\n",
    "    new_states =  fill(0, nagents(model))\n",
    "    for agent in allagents(model)\n",
    "        neighbourhood = nearby_ids(agent.pos, model)\n",
    "        str = \"\"\n",
    "        for idx in neighbourhood\n",
    "            str=str*string(model.agents[idx].state)\n",
    "        end\n",
    "        new_states[agent.id] = model.rules[str]\n",
    "    end\n",
    "    \n",
    "    # Now that we have worked out all the new states, overwrite the old states\n",
    "    for k in keys(model.agents)\n",
    "        model.agents[k].state = new_states[k]\n",
    "    end\n",
    "end"
   ]
  },
  {
   "cell_type": "markdown",
   "metadata": {
    "slideshow": {
     "slide_type": "slide"
    }
   },
   "source": [
    "### Synchronous vs asynchronous update - defining a model update function\n",
    "\n",
    "Now run again with a different form of the run!() function. Agents.jl provides a ```dummystep``` function for ABMs that don't require an ```agent_step!()``` function:"
   ]
  },
  {
   "cell_type": "code",
   "execution_count": 32,
   "metadata": {},
   "outputs": [],
   "source": [
    "model = initialise(;rules = rule110, gridsize = 101)\n",
    "nsteps = 50\n",
    "adata = [:pos, :state]\n",
    "data, _ = run!(model, dummystep, model_step!, nsteps; adata);"
   ]
  },
  {
   "cell_type": "code",
   "execution_count": 33,
   "metadata": {
    "slideshow": {
     "slide_type": "slide"
    }
   },
   "outputs": [
    {
     "data": {
      "image/svg+xml": [
       "<?xml version=\"1.0\" encoding=\"utf-8\"?>\n",
       "<svg xmlns=\"http://www.w3.org/2000/svg\" xmlns:xlink=\"http://www.w3.org/1999/xlink\" width=\"600\" height=\"400\" viewBox=\"0 0 2400 1600\">\n",
       "<defs>\n",
       "  <clipPath id=\"clip680\">\n",
       "    <rect x=\"0\" y=\"0\" width=\"2400\" height=\"1600\"/>\n",
       "  </clipPath>\n",
       "</defs>\n",
       "<path clip-path=\"url(#clip680)\" d=\"\n",
       "M0 1600 L2400 1600 L2400 0 L0 0  Z\n",
       "  \" fill=\"#ffffff\" fill-rule=\"evenodd\" fill-opacity=\"1\"/>\n",
       "<defs>\n",
       "  <clipPath id=\"clip681\">\n",
       "    <rect x=\"480\" y=\"0\" width=\"1681\" height=\"1600\"/>\n",
       "  </clipPath>\n",
       "</defs>\n",
       "<path clip-path=\"url(#clip680)\" d=\"\n",
       "M47.2441 1387.91 L2352.76 1387.91 L2352.76 212.094 L47.2441 212.094  Z\n",
       "  \" fill=\"#ffffff\" fill-rule=\"evenodd\" fill-opacity=\"1\"/>\n",
       "<defs>\n",
       "  <clipPath id=\"clip682\">\n",
       "    <rect x=\"47\" y=\"212\" width=\"2307\" height=\"1177\"/>\n",
       "  </clipPath>\n",
       "</defs>\n",
       "<g clip-path=\"url(#clip682)\">\n",
       "<image width=\"2306\" height=\"1153\" xlink:href=\"data:image/png;base64,\n",
       "iVBORw0KGgoAAAANSUhEUgAACQIAAASBCAYAAABlkHHEAAAgAElEQVR4nOzcQW4kNxQFQX+j7n9l\n",
       "zsorAfZMuyk2UxEHKDyQLa0SnLXW+gsAAAAAAAAAANhuZrZ9++9tXwYAAAAAAAAAAL6NEAgAAAAA\n",
       "AAAAAAKEQAAAAAAAAAAAECAEAgAAAAAAAACAACEQAAAAAAAAAAAECIEAAAAAAAAAACBACAQAAAAA\n",
       "AAAAAAFCIAAAAAAAAAAACBACAQAAAAAAAABAgBAIAAAAAAAAAAAChEAAAAAAAAAAABAgBAIAAAAA\n",
       "AAAAgAAhEAAAAAAAAAAABAiBAAAAAAAAAAAgQAgEAAAAAAAAAAABQiAAAAAAAAAAAAgQAgEAAAAA\n",
       "AAAAQIAQCAAAAAAAAAAAAoRAAAAAAAAAAAAQIAQCAAAAAAAAAIAAIRAAAAAAAAAAAAQIgQAAAAAA\n",
       "AAAAIEAIBAAAAAAAAAAAAc/pAQAAAAAAAAAA8Elm5vSEl3gRCAAAAAAAAAAAAoRAAAAAAAAAAAAQ\n",
       "IAQCAAAAAAAAAIAAIRAAAAAAAAAAAAQIgQAAAAAAAAAAIEAIBAAAAAAAAAAAAUIgAAAAAAAAAAAI\n",
       "EAIBAAAAAAAAAECAEAgAAAAAAAAAAAKEQAAAAAAAAAAAECAEAgAAAAAAAACAACEQAAAAAAAAAAAE\n",
       "CIEAAAAAAAAAACBACAQAAAAAAAAAAAFCIAAAAAAAAAAACBACAQAAAAAAAABAgBAIAAAAAAAAAAAC\n",
       "hEAAAAAAAAAAABAgBAIAAAAAAAAAgAAhEAAAAAAAAAAABAiBAAAAAAAAAAAgQAgEAAAAAAAAAAAB\n",
       "z+kBAAAAAAAAAADwp2bm9ISP40UgAAAAAAAAAAAIEAIBAAAAAAAAAECAEAgAAAAAAAAAAAKEQAAA\n",
       "AAAAAAAAECAEAgAAAAAAAACAACEQAAAAAAAAAAAECIEAAAAAAAAAACBACAQAAAAAAAAAAAFCIAAA\n",
       "AAAAAAAACBACAQAAAAAAAABAgBAIAAAAAAAAAAAChEAAAAAAAAAAABAgBAIAAAAAAAAAgAAhEAAA\n",
       "AAAAAAAABAiBAAAAAAAAAAAgQAgEAAAAAAAAAAABQiAAAAAAAAAAAAgQAgEAAAAAAAAAQIAQCAAA\n",
       "AAAAAAAAAoRAAAAAAAAAAAAQIAQCAAAAAAAAAIAAIRAAAAAAAAAAAAQ8pwcAAAAAAAAAANA0M6cn\n",
       "vGStte3bO8/Ei0AAAAAAAAAAABAgBAIAAAAAAAAAgAAhEAAAAAAAAAAABAiBAAAAAAAAAAAgQAgE\n",
       "AAAAAAAAAAABQiAAAAAAAAAAAAgQAgEAAAAAAAAAQIAQCAAAAAAAAAAAAoRAAAAAAAAAAAAQIAQC\n",
       "AAAAAAAAAIAAIRAAAAAAAAAAAAQIgQAAAAAAAAAAIEAIBAAAAAAAAAAAAUIgAAAAAAAAAAAIEAIB\n",
       "AAAAAAAAAECAEAgAAAAAAAAAAAKEQAAAAAAAAAAAECAEAgAAAAAAAACAACEQAAAAAAAAAAAECIEA\n",
       "AAAAAAAAACBACAQAAAAAAAAAAAFCIAAAAAAAAAAACHhODwAAAAAAAAAA4JyZOT3h49x6Jl4EAgAA\n",
       "AAAAAACAACEQAAAAAAAAAAAECIEAAAAAAAAAACBACAQAAAAAAAAAAAFCIAAAAAAAAAAACBACAQAA\n",
       "AAAAAABAgBAIAAAAAAAAAAAChEAAAAAAAAAAABAgBAIAAAAAAAAAgAAhEAAAAAAAAAAABAiBAAAA\n",
       "AAAAAAAgQAgEAAAAAAAAAAABQiAAAAAAAAAAAAgQAgEAAAAAAAAAQIAQCAAAAAAAAAAAAoRAAAAA\n",
       "AAAAAAAQIAQCAAAAAAAAAIAAIRAAAAAAAAAAAAQIgQAAAAAAAAAAIOA5PQAAAAAAAAAAgH83M6cn\n",
       "vGStdXrCx9l5l14EAgAAAAAAAACAACEQAAAAAAAAAAAECIEAAAAAAAAAACBACAQAAAAAAAAAAAFC\n",
       "IAAAAAAAAAAACBACAQAAAAAAAABAgBAIAAAAAAAAAAAChEAAAAAAAAAAABAgBAIAAAAAAAAAgAAh\n",
       "EAAAAAAAAAAABAiBAAAAAAAAAAAgQAgEAAAAAAAAAAABQiAAAAAAAAAAAAgQAgEAAAAAAAAAQIAQ\n",
       "CAAAAAAAAAAAAoRAAAAAAAAAAAAQIAQCAAAAAAAAAIAAIRAAAAAAAAAAAAQIgQAAAAAAAAAAIEAI\n",
       "BAAAAAAAAAAAAUIgAAAAAAAAAAAIEAIBAAAAAAAAAECAEAgAAAAAAAAAAAKe0wMAAAAAAAAAAApm\n",
       "5vQE3uTWu/QiEAAAAAAAAAAABAiBAAAAAAAAAAAgQAgEAAAAAAAAAAABQiAAAAAAAAAAAAgQAgEA\n",
       "AAAAAAAAQIAQCAAAAAAAAAAAAoRAAAAAAAAAAAAQIAQCAAAAAAAAAIAAIRAAAAAAAAAAAAQIgQAA\n",
       "AAAAAAAAIEAIBAAAAAAAAAAAAUIgAAAAAAAAAAAIEAIBAAAAAAAAAECAEAgAAAAAAAAAAAKEQAAA\n",
       "AAAAAAAAECAEAgAAAAAAAACAACEQAAAAAAAAAAAECIEAAAAAAAAAACBACAQAAAAAAAAAAAFCIAAA\n",
       "AAAAAAAACBACAQAAAAAAAABAgBAIAAAAAAAAAAACntMDAAAAAAAAAAC+y8ycnvCStda2b996Jrfu\n",
       "3smLQAAAAAAAAAAAECAEAgAAAAAAAACAACEQAAAAAAAAAAAECIEAAAAAAAAAACBACAQAAAAAAAAA\n",
       "AAFCIAAAAAAAAAAACBACAQAAAAAAAABAgBAIAAAAAAAAAAAChEAAAAAAAAAAABAgBAIAAAAAAAAA\n",
       "gAAhEAAAAAAAAAAABAiBAAAAAAAAAAAgQAgEAAAAAAAAAAABQiAAAAAAAAAAAAgQAgEAAAAAAAAA\n",
       "QIAQCAAAAAAAAAAAAoRAAAAAAAAAAAAQIAQCAAAAAAAAAIAAIRAAAAAAAAAAAAQIgQAAAAAAAAAA\n",
       "IEAIBAAAAAAAAAAAAUIgAAAAAAAAAAAImLXWOj0CAAAAAAAAAOAfM3N6Aj/czpxm5+/bi0AAAAAA\n",
       "AAAAABAgBAIAAAAAAAAAgAAhEAAAAAAAAAAABAiBAAAAAAAAAAAgQAgEAAAAAAAAAAABQiAAAAAA\n",
       "AAAAAAgQAgEAAAAAAAAAQIAQCAAAAAAAAAAAAoRAAAAAAAAAAAAQIAQCAAAAAAAAAIAAIRAAAAAA\n",
       "AAAAAAQIgQAAAAAAAAAAIEAIBAAAAAAAAAAAAUIgAAAAAAAAAAAIEAIBAAAAAAAAAECAEAgAAAAA\n",
       "AAAAAAKEQAAAAAAAAAAAECAEAgAAAAAAAACAACEQAAAAAAAAAAAECIEAAAAAAAAAACBACAQAAAAA\n",
       "AAAAAAFCIAAAAAAAAAAACHhODwAAAAAAAAAA7jMzpye8ZK11egJvsvM3eOvv24tAAAAAAAAAAAAQ\n",
       "IAQCAAAAAAAAAIAAIRAAAAAAAAAAAAQIgQAAAAAAAAAAIEAIBAAAAAAAAAAAAUIgAAAAAAAAAAAI\n",
       "EAIBAAAAAAAAAECAEAgAAAAAAAAAAAKEQAAAAAAAAAAAECAEAgAAAAAAAACAACEQAAAAAAAAAAAE\n",
       "CIEAAAAAAAAAACBACAQAAAAAAAAAAAFCIAAAAAAAAAAACBACAQAAAAAAAABAgBAIAAAAAAAAAAAC\n",
       "hEAAAAAAAAAAABAgBAIAAAAAAAAAgAAhEAAAAAAAAAAABDynBwAAAAAAAAAAe8zM6Qn8cLf+Btda\n",
       "276980y8CAQAAAAAAAAAAAFCIAAAAAAAAAAACBACAQAAAAAAAABAgBAIAAAAAAAAAAAChEAAAAAA\n",
       "AAAAABAgBAIAAAAAAAAAgAAhEAAAAAAAAAAABAiBAAAAAAAAAAAgQAgEAAAAAAAAAAABQiAAAAAA\n",
       "AAAAAAgQAgEAAAAAAAAAQIAQCAAAAAAAAAAAAoRAAAAAAAAAAAAQIAQCAAAAAAAAAIAAIRAAAAAA\n",
       "AAAAAAQIgQAAAAAAAAAAIEAIBAAAAAAAAAAAAUIgAAAAAAAAAAAIEAIBAAAAAAAAAECAEAgAAAAA\n",
       "AAAAAAKEQAAAAAAAAAAAECAEAgAAAAAAAACAACEQAAAAAAAAAAAEPKcHAAAAAAAAAMBPNjOnJ7xk\n",
       "rbXt27eeya2c91e3nokXgQAAAAAAAAAAIEAIBAAAAAAAAAAAAUIgAAAAAAAAAAAIEAIBAAAAAAAA\n",
       "AECAEAgAAAAAAAAAAAKEQAAAAAAAAAAAECAEAgAAAAAAAACAACEQAAAAAAAAAAAECIEAAAAAAAAA\n",
       "ACBACAQAAAAAAAAAAAFCIAAAAAAAAAAACBACAQAAAAAAAABAgBAIAAAAAAAAAAAChEAAAAAAAAAA\n",
       "ABAgBAIAAAAAAAAAgAAhEAAAAAAAAAAABAiBAAAAAAAAAAAgQAgEAAAAAAAAAAABQiAAAAAAAAAA\n",
       "AAgQAgEAAAAAAAAAQIAQCAAAAAAAAAAAAoRAAAAAAAAAAAAQ8JweAAAAAAAAAACfbmZOT/g4zuR7\n",
       "3Xrea63TEz7Ozrv0IhAAAAAAAAAAAAQIgQAAAAAAAAAAIEAIBAAAAAAAAAAAAUIgAAAAAAAAAAAI\n",
       "EAIBAAAAAAAAAECAEAgAAAAAAAAAAAKEQAAAAAAAAAAAECAEAgAAAAAAAACAACEQAAAAAAAAAAAE\n",
       "CIEAAAAAAAAAACBACAQAAAAAAAAAAAFCIAAAAAAAAAAACBACAQAAAAAAAABAgBAIAAAAAAAAAAAC\n",
       "hEAAAAAAAAAAABAgBAIAAAAAAAAAgAAhEAAAAAAAAAAABAiBAAAAAAAAAAAgQAgEAAAAAAAAAAAB\n",
       "QiAAAAAAAAAAAAgQAgEAAAAAAAAAQIAQCAAAAAAAAAAAAp7TAwAAAAAAAADgHWbm9ISXrLVOT/g4\n",
       "t97lrbv56ta79CIQAAAAAAAAAAAECIEAAAAAAAAAACBACAQAAAAAAAAAAAFCIAAAAAAAAAAACBAC\n",
       "AQAAAAAAAABAgBAIAAAAAAAAAAAChEAAAAAAAAAAABAgBAIAAAAAAAAAgAAhEAAAAAAAAAAABAiB\n",
       "AAAAAAAAAAAgQAgEAAAAAAAAAAABQiAAAAAAAAAAAAgQAgEAAAAAAAAAQIAQCAAAAAAAAAAAAoRA\n",
       "AAAAAAAAAAAQIAQCAAAAAAAAAIAAIRAAAAAAAAAAAAQIgQAAAAAAAAAAIEAIBAAAAAAAAAAAAc/p\n",
       "AQAAAAAAAAD8HDNzegJvcutd3rp7rbXt27eeya27d/IiEAAAAAAAAAAABAiBAAAAAAAAAAAgQAgE\n",
       "AAAAAAAAAAABQiAAAAAAAAAAAAgQAgEAAAAAAAAAQIAQCAAAAAAAAAAAAoRAAAAAAAAAAAAQIAQC\n",
       "AAAAAAAAAIAAIRAAAAAAAAAAAAQIgQAAAAAAAAAAIEAIBAAAAAAAAAAAAUIgAAAAAAAAAAAIEAIB\n",
       "AAAAAAAAAECAEAgAAAAAAAAAAAKEQAAAAAAAAAAAECAEAgAAAAAAAACAACEQAAAAAAAAAAAECIEA\n",
       "AAAAAAAAACBACAQAAAAAAAAAAAFCIAAAAAAAAAAACBACAQAAAAAAAABAgBAIAAAAAAAAAAACntMD\n",
       "AAAAAAAAAPgsM3N6wkvWWtu+feuZ3Lp7513utPO8b73LW3ff+v/Ei0AAAAAAAAAAABAgBAIAAAAA\n",
       "AAAAgAAhEAAAAAAAAAAABAiBAAAAAAAAAAAgQAgEAAAAAAAAAAABQiAAAAAAAAAAAAgQAgEAAAAA\n",
       "AAAAQIAQCAAAAAAAAAAAAoRAAAAAAAAAAAAQIAQCAAAAAAAAAIAAIRAAAAAAAAAAAAQIgQAAAAAA\n",
       "AAAAIEAIBAAAAAAAAAAAAUIgAAAAAAAAAAAIEAIBAAAAAAAAAECAEAgAAAAAAAAAAAKEQAAAAAAA\n",
       "AAAAECAEAgAAAAAAAACAACEQAAAAAAAAAAAECIEAAAAAAAAAACBACAQAAAAAAAAAAAFCIAAAAAAA\n",
       "AAAACBACAQAAAAAAAABAwKy11ukRAAAAAAAAAPw/M3N6ArzNzpTh1r8VecdXt97lTl4EAgAAAAAA\n",
       "AACAACEQAAAAAAAAAAAECIEAAAAAAAAAACBACAQAAAAAAAAAAAFCIAAAAAAAAAAACBACAQAAAAAA\n",
       "AABAgBAIAAAAAAAAAAAChEAAAAAAAAAAABAgBAIAAAAAAAAAgAAhEAAAAAAAAAAABAiBAAAAAAAA\n",
       "AAAgQAgEAAAAAAAAAAABQiAAAAAAAAAAAAgQAgEAAAAAAAAAQIAQCAAAAAAAAAAAAoRAAAAAAAAA\n",
       "AAAQIAQCAAAAAAAAAIAAIRAAAAAAAAAAAAQIgQAAAAAAAAAAIEAIBAAAAAAAAAAAAUIgAAAAAAAA\n",
       "AAAIEAIBAAAAAAAAAEDAc3oAAAAAAAAAwE8xM6cn/Ja11ukJXGDn7/mWvxX+2613ufP/4M4z8SIQ\n",
       "AAAAAAAAAAAECIEAAAAAAAAAACBACAQAAAAAAAAAAAFCIAAAAAAAAAAACBACAQAAAAAAAABAgBAI\n",
       "AAAAAAAAAAAChEAAAAAAAAAAABAgBAIAAAAAAAAAgAAhEAAAAAAAAAAABAiBAAAAAAAAAAAgQAgE\n",
       "AAAAAAAAAAABQiAAAAAAAAAAAAgQAgEAAAAAAAAAQIAQCAAAAAAAAAAAAoRAAAAAAAAAAAAQIAQC\n",
       "AAAAAAAAAIAAIRAAAAAAAAAAAAQIgQAAAAAAAAAAIEAIBAAAAAAAAAAAAUIgAAAAAAAAAAAIEAIB\n",
       "AAAAAAAAAECAEAgAAAAAAAAAAAKe0wMAAAAAAAAAPsnMnJ4Ab3Pr73mtdXrCS24971t373TrmXgR\n",
       "CAAAAAAAAAAAAoRAAAAAAAAAAAAQIAQCAAAAAAAAAIAAIRAAAAAAAAAAAAQIgQAAAAAAAAAAIEAI\n",
       "BAAAAAAAAAAAAUIgAAAAAAAAAAAIEAIBAAAAAAAAAECAEAgAAAAAAAAAAAKEQAAAAAAAAAAAECAE\n",
       "AgAAAAAAAACAACEQAAAAAAAAAAAECIEAAAAAAAAAACBACAQAAAAAAAAAAAFCIAAAAAAAAAAACBAC\n",
       "AQAAAAAAAABAgBAIAAAAAAAAAAAChEAAAAAAAAAAABAgBAIAAAAAAAAAgIDn9AAAAAAAAACAPzUz\n",
       "pye8ZK217du3ngnu7rvdet637t75f+9WO+/Si0AAAAAAAAAAABAgBAIAAAAAAAAAgAAhEAAAAAAA\n",
       "AAAABAiBAAAAAAAAAAAgQAgEAAAAAAAAAAABQiAAAAAAAAAAAAgQAgEAAAAAAAAAQIAQCAAAAAAA\n",
       "AAAAAoRAAAAAAAAAAAAQIAQCAAAAAAAAAIAAIRAAAAAAAAAAAAQIgQAAAAAAAAAAIEAIBAAAAAAA\n",
       "AAAAAUIgAAAAAAAAAAAIEAIBAAAAAAAAAECAEAgAAAAAAAAAAAKEQAAAAAAAAAAAECAEAgAAAAAA\n",
       "AACAACEQAAAAAAAAAAAECIEAAPjFzh3lRpIbARRcAn3/K9O/xtbYlrVNsfMp4gCNVJJVGGAeCgAA\n",
       "AAAAgAAhEAAAAAAAAAAABAiBAAAAAAAAAAAg4HV7AAAAAAAAAKBprXV7hI9jJ3NNPbu997HfPrkT\n",
       "+/5ZU/d90tSd+CIQAAAAAAAAAAAECIEAAAAAAAAAACBACAQAAAAAAAAAAAFCIAAAAAAAAAAACBAC\n",
       "AQAAAAAAAABAgBAIAAAAAAAAAAAChEAAAAAAAAAAABAgBAIAAAAAAAAAgAAhEAAAAAAAAAAABAiB\n",
       "AAAAAAAAAAAgQAgEAAAAAAAAAAABQiAAAAAAAAAAAAgQAgEAAAAAAAAAQIAQCAAAAAAAAAAAAoRA\n",
       "AAAAAAAAAAAQIAQCAAAAAAAAAIAAIRAAAAAAAAAAAAQIgQAAAAAAAAAAIEAIBAAAAAAAAAAAAUIg\n",
       "AAAAAAAAAAAIEAIBAAAAAAAAAECAEAgAAAAAAAAAAAKEQAAAAAAAAAAAEPC6PQAAAAAAAABwz1rr\n",
       "9gjfsve+PcLHmXqW72QHT1N3cvIZn7qTqXOfZCdPvggEAAAAAAAAAAABQiAAAAAAAAAAAAgQAgEA\n",
       "AAAAAAAAQIAQCAAAAAAAAAAAAoRAAAAAAAAAAAAQIAQCAAAAAAAAAIAAIRAAAAAAAAAAAAQIgQAA\n",
       "AAAAAAAAIEAIBAAAAAAAAAAAAUIgAAAAAAAAAAAIEAIBAAAAAAAAAECAEAgAAAAAAAAAAAKEQAAA\n",
       "AAAAAAAAECAEAgAAAAAAAACAACEQAAAAAAAAAAAECIEAAAAAAAAAACBACAQAAAAAAAAAAAFCIAAA\n",
       "AAAAAAAACBACAQAAAAAAAABAgBAIAAAAAAAAAAAChEAAAAAAAAAAABAgBAIAAAAAAAAAgIDX7QEA\n",
       "AAAAAACA/26tdXsE3sRZzt3B3vv2CB/n5FlOvSdT5z5p6k5OPvMnd+KLQAAAAAAAAAAAECAEAgAA\n",
       "AAAAAACAACEQAAAAAAAAAAAECIEAAAAAAAAAACBACAQAAAAAAAAAAAFCIAAAAAAAAAAACBACAQAA\n",
       "AAAAAABAgBAIAAAAAAAAAAAChEAAAAAAAAAAABAgBAIAAAAAAAAAgAAhEAAAAAAAAAAABAiBAAAA\n",
       "AAAAAAAgQAgEAAAAAAAAAAABQiAAAAAAAAAAAAgQAgEAAAAAAAAAQIAQCAAAAAAAAAAAAoRAAAAA\n",
       "AAAAAAAQIAQCAAAAAAAAAIAAIRAAAAAAAAAAAAQIgQAAAAAAAAAAIEAIBAAAAAAAAAAAAUIgAAAA\n",
       "AAAAAAAIeN0eAAAAAAAAAArWWrdH+Ja997HfnrqTqXO/kx10TD3Lk+8mOk7e76nPji8CAQAAAAAA\n",
       "AABAgBAIAAAAAAAAAAAChEAAAAAAAAAAABAgBAIAAAAAAAAAgAAhEAAAAAAAAAAABAiBAAAAAAAA\n",
       "AAAgQAgEAAAAAAAAAAABQiAAAAAAAAAAAAgQAgEAAAAAAAAAQIAQCAAAAAAAAAAAAoRAAAAAAAAA\n",
       "AAAQIAQCAAAAAAAAAIAAIRAAAAAAAAAAAAQIgQAAAAAAAAAAIEAIBAAAAAAAAAAAAUIgAAAAAAAA\n",
       "AAAIEAIBAAAAAAAAAECAEAgAAAAAAAAAAAKEQAAAAAAAAAAAEPC6PQAAAAAAAAD8lLXW7RE+ztSd\n",
       "TJ177317hLSp92Lq3PAVU+/3yff1yZ34IhAAAAAAAAAAAAQIgQAAAAAAAAAAIEAIBAAAAAAAAAAA\n",
       "AUIgAAAAAAAAAAAIEAIBAAAAAAAAAECAEAgAAAAAAAAAAAKEQAAAAAAAAAAAECAEAgAAAAAAAACA\n",
       "ACEQAAAAAAAAAAAECIEAAAAAAAAAACBACAQAAAAAAAAAAAFCIAAAAAAAAAAACBACAQAAAAAAAABA\n",
       "gBAIAAAAAAAAAAAChEAAAAAAAAAAABAgBAIAAAAAAAAAgAAhEAAAAAAAAAAABAiBAAAAAAAAAAAg\n",
       "QAgEAAAAAAAAAAABQiAAAAAAAAAAAAgQAgEAAAAAAAAAQIAQCAAAAAAAAAAAAl63BwAAAAAAAIB/\n",
       "t9a6PcK37L1vj8CbTL2DU0zd79S5T76bpu6EJ2f5NHUnvggEAAAAAAAAAAABQiAAAAAAAAAAAAgQ\n",
       "AgEAAAAAAAAAQIAQCAAAAAAAAAAAAoRAAAAAAAAAAAAQIAQCAAAAAAAAAIAAIRAAAAAAAAAAAAQI\n",
       "gQAAAAAAAAAAIEAIBAAAAAAAAAAAAUIgAAAAAAAAAAAIEAIBAAAAAAAAAECAEAgAAAAAAAAAAAKE\n",
       "QAAAAAAAAAAAECAEAgAAAAAAAACAACEQAAAAAAAAAAAECIEAAAAAAAAAACBACAQAAAAAAAAAAAFC\n",
       "IAAAAAAAAAAACBACAQAAAAAAAABAgBAIAAAAAAAAAAAChEAAAAAAAAAAABAgBAIAAAAAAAAAgAAh\n",
       "EAAAAAAAAAAABLxuDwAAAAAAAMAsa63bI4B7eNjU/e69b4/wLSf3PfUseZp6llOfy5NOnqUvAgEA\n",
       "AAAAAAAAQIAQCAAAAAAAAAAAAoRAAAAAAAAAAAAQIAQCAAAAAAAAAIAAIRAAAAAAAAAAAAQIgQAA\n",
       "AAAAAAAAIEAIBAAAAAAAAAAAAUIgAAAAAAAAAAAIEAIBAAAAAAAAAECAEAgAAAAAAAAAAAKEQAAA\n",
       "AAAAAAAAECAEAgAAAAAAAACAACEQAAAAAAAAAAAECIEAAAAAAAAAACBACAQAAAAAAAAAAAFCIAAA\n",
       "AAAAAAAACBACAQAAAAAAAABAgBAIAAAAAAAAAAAChEAAAAAAAAAAABAgBAIAAAAAAAAAgAAhEAAA\n",
       "AAAAAAAABAiBAAAAAAAAAAAg4HV7AAAAAAAAAN5vrXV7hG/bex/77cl7mci+f5Z9nzV1v96pP8tO\n",
       "OqaepS8CAQAAAAAAAABAgBAIAAAAAAAAAAAChEAAAAAAAAAAABAgBAIAAAAAAAAAgAAhEAAAAAAA\n",
       "AAAABAiBAAAAAAAAAAAgQAgEAAAAAAAAAAABQiAAAAAAAAAAAAgQAgEAAAAAAAAAQIAQCAAAAAAA\n",
       "AAAAAoRAAAAAAAAAAAAQIAQCAAAAAAAAAIAAIRAAAAAAAAAAAAQIgQAAAAAAAAAAIEAIBAAAAAAA\n",
       "AAAAAUIgAAAAAAAAAAAIEAIBAAAAAAAAAECAEAgAAAAAAAAAAAKEQAAAAAAAAAAAEPC6PQAAAAAA\n",
       "AMBvtda6PcJHspefNXXfe+9jv31yJ1P2bb8ddvI0dSdTn8uTps59ki8CAQAAAAAAAABAgBAIAAAA\n",
       "AAAAAAAChEAAAAAAAAAAABAgBAIAAAAAAAAAgAAhEAAAAAAAAAAABAiBAAAAAAAAAAAgQAgEAAAA\n",
       "AAAAAAABQiAAAAAAAAAAAAgQAgEAAAAAAAAAQIAQCAAAAAAAAAAAAoRAAAAAAAAAAAAQIAQCAAAA\n",
       "AAAAAIAAIRAAAAAAAAAAAAQIgQAAAAAAAAAAIEAIBAAAAAAAAAAAAUIgAAAAAAAAAAAIEAIBAAAA\n",
       "AAAAAECAEAgAAAAAAAAAAAKEQAAAAAAAAAAAECAEAgAAAAAAAACAACEQAAAAAAAAAAAECIEAAAAA\n",
       "AAAAACBg7b337SEAAAAAAAA+1Vrr9gjf4v3DV6gAABoVSURBVL+A/uzkeZ7c+dR7yJN7cpZ3389y\n",
       "5yib+r72RSAAAAAAAAAAAAgQAgEAAAAAAAAAQIAQCAAAAAAAAAAAAoRAAAAAAAAAAAAQIAQCAAAA\n",
       "AAAAAIAAIRAAAAAAAAAAAAQIgQAAAAAAAAAAIEAIBAAAAAAAAAAAAUIgAAAAAAAAAAAIEAIBAAAA\n",
       "AAAAAECAEAgAAAAAAAAAAAKEQAAAAAAAAAAAECAEAgAAAAAAAACAACEQAAAAAAAAAAAECIEAAAAA\n",
       "AAAAACBACAQAAAAAAAAAAAFCIAAAAAAAAAAACBACAQAAAAAAAABAgBAIAAAAAAAAAAAChEAAAAAA\n",
       "AAAAABAgBAIAAAAAAAAAgAAhEAAAAAAAAAAABLxuDwAAAAAAAPBPrbVuj8AbTT3PqXPvvW+P8HFO\n",
       "nuWUe3LyXkzZQcXUfXs38RXe10++CAQAAAAAAAAAAAFCIAAAAAAAAAAACBACAQAAAAAAAABAgBAI\n",
       "AAAAAAAAAAAChEAAAAAAAAAAABAgBAIAAAAAAAAAgAAhEAAAAAAAAAAABAiBAAAAAAAAAAAgQAgE\n",
       "AAAAAAAAAAABQiAAAAAAAAAAAAgQAgEAAAAAAAAAQIAQCAAAAAAAAAAAAoRAAAAAAAAAAAAQIAQC\n",
       "AAAAAAAAAIAAIRAAAAAAAAAAAAQIgQAAAAAAAAAAIEAIBAAAAAAAAAAAAUIgAAAAAAAAAAAIEAIB\n",
       "AAAAAAAAAECAEAgAAAAAAAAAAAKEQAAAAAAAAAAAECAEAgAAAAAAAACAACEQAAAAAAAAAAAEvG4P\n",
       "AAAAAAAA/A5rrdsjfMve+9hvT93J1Ln/+uvseZ40eeenTN3JlHfK1P1OZd+UTb3fU97Xf+eLQAAA\n",
       "AAAAAAAAECAEAgAAAAAAAACAACEQAAAAAAAAAAAECIEAAAAAAAAAACBACAQAAAAAAAAAAAFCIAAA\n",
       "AAAAAAAACBACAQAAAAAAAABAgBAIAAAAAAAAAAAChEAAAAAAAAAAABAgBAIAAAAAAAAAgAAhEAAA\n",
       "AAAAAAAABAiBAAAAAAAAAAAgQAgEAAAAAAAAAAABQiAAAAAAAAAAAAgQAgEAAAAAAAAAQIAQCAAA\n",
       "AAAAAAAAAoRAAAAAAAAAAAAQIAQCAAAAAAAAAIAAIRAAAAAAAAAAAAQIgQAAAAAAAAAAIEAIBAAA\n",
       "AAAAAAAAAUIgAAAAAAAAAAAIeN0eAAAAAAAA+BxrrdsjfJypO5k692R2/mQnT1N2svc+9ttTdvB3\n",
       "U+d2lnyFs3yauhNfBAIAAAAAAAAAgAAhEAAAAAAAAAAABAiBAAAAAAAAAAAgQAgEAAAAAAAAAAAB\n",
       "QiAAAAAAAAAAAAgQAgEAAAAAAAAAQIAQCAAAAAAAAAAAAoRAAAAAAAAAAAAQIAQCAAAAAAAAAIAA\n",
       "IRAAAAAAAAAAAAQIgQAAAAAAAAAAIEAIBAAAAAAAAAAAAUIgAAAAAAAAAAAIEAIBAAAAAAAAAECA\n",
       "EAgAAAAAAAAAAAKEQAAAAAAAAAAAECAEAgAAAAAAAACAACEQAAAAAAAAAAAECIEAAAAAAAAAACBg\n",
       "7b337SEAAAAAAIB/Zq11e4T/yX9J8FUT7jP3eac8eXYo8Yw/TX3GneXTybP0RSAAAAAAAAAAAAgQ\n",
       "AgEAAAAAAAAAQIAQCAAAAAAAAAAAAoRAAAAAAAAAAAAQIAQCAAAAAAAAAIAAIRAAAAAAAAAAAAQI\n",
       "gQAAAAAAAAAAIEAIBAAAAAAAAAAAAUIgAAAAAAAAAAAIEAIBAAAAAAAAAECAEAgAAAAAAAAAAAKE\n",
       "QAAAAAAAAAAAECAEAgAAAAAAAACAACEQAAAAAAAAAAAECIEAAAAAAAAAACBACAQAAAAAAAAAAAFC\n",
       "IAAAAAAAAAAACBACAQAAAAAAAABAgBAIAAAAAAAAAAAChEAAAAAAAAAAABAgBAIAAAAAAAAAgAAh\n",
       "EAAAAAAAAAAABLxuDwAAAAAAAL/FWuv2CPAWk+/y3vv2CL/K5LtyypSdeFb4iin3+SfZScfUs/RF\n",
       "IAAAAAAAAAAACBACAQAAAAAAAABAgBAIAAAAAAAAAAAChEAAAAAAAAAAABAgBAIAAAAAAAAAgAAh\n",
       "EAAAAAAAAAAABAiBAAAAAAAAAAAgQAgEAAAAAAAAAAABQiAAAAAAAAAAAAgQAgEAAAAAAAAAQIAQ\n",
       "CAAAAAAAAAAAAoRAAAAAAAAAAAAQIAQCAAAAAAAAAIAAIRAAAAAAAAAAAAQIgQAAAAAAAAAAIEAI\n",
       "BAAAAAAAAAAAAUIgAAAAAAAAAAAIEAIBAAAAAAAAAECAEAgAAAAAAAAAAAKEQAAAAAAAAAAAECAE\n",
       "AgAAAAAAAACAACEQAAAAAAAAAAAEvG4PAAAAAAAAn2StdXuEb9l7v+V3pv79PDlLvspdebITStzn\n",
       "p6k7ede/9/5k6k6mzn2SLwIBAAAAAAAAAECAEAgAAAAAAAAAAAKEQAAAAAAAAAAAECAEAgAAAAAA\n",
       "AACAACEQAAAAAAAAAAAECIEAAAAAAAAAACBACAQAAAAAAAAAAAFCIAAAAAAAAAAACBACAQAAAAAA\n",
       "AABAgBAIAAAAAAAAAAAChEAAAAAAAAAAABAgBAIAAAAAAAAAgAAhEAAAAAAAAAAABAiBAAAAAAAA\n",
       "AAAgQAgEAAAAAAAAAAABQiAAAAAAAAAAAAgQAgEAAAAAAAAAQIAQCAAAAAAAAAAAAoRAAAAAAAAA\n",
       "AAAQIAQCAAAAAAAAAIAAIRAAAAAAAAAAAAQIgQAAAAAAAAAAIEAIBAAAAAAAAAAAAWvvvW8PAQAA\n",
       "AAAA/4+11u0R+Ab/JfE09S6fPsuTe5l6D6feFZ5O3sF33pOpz8pUnnH4PFPe13/ni0AAAAAAAAAA\n",
       "ABAgBAIAAAAAAAAAgAAhEAAAAAAAAAAABAiBAAAAAAAAAAAgQAgEAAAAAAAAAAABQiAAAAAAAAAA\n",
       "AAgQAgEAAAAAAAAAQIAQCAAAAAAAAAAAAoRAAAAAAAAAAAAQIAQCAAAAAAAAAIAAIRAAAAAAAAAA\n",
       "AAQIgQAAAAAAAAAAIEAIBAAAAAAAAAAAAUIgAAAAAAAAAAAIEAIBAAAAAAAAAECAEAgAAAAAAAAA\n",
       "AAKEQAAAAAAAAAAAECAEAgAAAAAAAACAACEQAAAAAAAAAAAECIEAAAAAAAAAACBACAQAAAAAAAAA\n",
       "AAFCIAAAAAAAAAAACHjdHgAAAAAAgJ611u0Rvm3vfXuEqyaf3Sl28mQnfzZ1L7/9vfcnJ89y6j1h\n",
       "7tl5xinzvn7yRSAAAAAAAAAAAAgQAgEAAAAAAAAAQIAQCAAAAAAAAAAAAoRAAAAAAAAAAAAQIAQC\n",
       "AAAAAAAAAIAAIRAAAAAAAAAAAAQIgQAAAAAAAAAAIEAIBAAAAAAAAAAAAUIgAAAAAAAAAAAIEAIB\n",
       "AAAAAAAAAECAEAgAAAAAAAAAAAKEQAAAAAAAAAAAECAEAgAAAAAAAACAACEQAAAAAAAAAAAECIEA\n",
       "AAAAAAAAACBACAQAAAAAAAAAAAFCIAAAAAAAAAAACBACAQAAAAAAAABAgBAIAAAAAAAAAAACXrcH\n",
       "AAAAAADgjrXW7RF4o99+nlP//r337RE+0snznHpXeJp6lief+6k7eSc7gM8z9bmc+r72RSAAAAAA\n",
       "AAAAAAgQAgEAAAAAAAAAQIAQCAAAAAAAAAAAAoRAAAAAAAAAAAAQIAQCAAAAAAAAAIAAIRAAAAAA\n",
       "AAAAAAQIgQAAAAAAAAAAIEAIBAAAAAAAAAAAAUIgAAAAAAAAAAAIEAIBAAAAAAAAAECAEAgAAAAA\n",
       "AAAAAAKEQAAAAAAAAAAAECAEAgAAAAAAAACAACEQAAAAAAAAAAAECIEAAAAAAAAAACBACAQAAAAA\n",
       "AAAAAAFCIAAAAAAAAAAACBACAQAAAAAAAABAgBAIAAAAAAAAAAAChEAAAAAAAAAAABAgBAIAAAAA\n",
       "AAAAgAAhEAAAAAAAAAAABLxuDwAAAAAAwH+21ro9wrfsvY/+/tS9TJ37XX77318y+SxPv59Ombrz\n",
       "qXOfZCdzd3Dy/TF1J3S4g09Td+KLQAAAAAAAAAAAECAEAgAAAAAAAACAACEQAAAAAAAAAAAECIEA\n",
       "AAAAAAAAACBACAQAAAAAAAAAAAFCIAAAAAAAAAAACBACAQAAAAAAAABAgBAIAAAAAAAAAAAChEAA\n",
       "AAAAAAAAABAgBAIAAAAAAAAAgAAhEAAAAAAAAAAABAiBAAAAAAAAAAAgQAgEAAAAAAAAAAABQiAA\n",
       "AAAAAAAAAAgQAsG/2rmj3NZxIACCIZD7X5n7tV8OsA9eU8z0qzpAMB5RcmA0BAAAAAAAAAAQIAQC\n",
       "AAAAAAAAAIAAIRAAAAAAAAAAAAQIgQAAAAAAAAAAIEAIBAAAAAAAAAAAAUIgAAAAAAAAAAAIEAIB\n",
       "AAAAAAAAAECAEAgAAAAAAAAAAALW3nvfHgIAAAAAYLK11u0R4MvP/eecvMdPXjfPpp/ZeYfn3itn\n",
       "kJ+4Vzqm3uPO4KuT19IbgQAAAAAAAAAAIEAIBAAAAAAAAAAAAUIgAAAAAAAAAAAIEAIBAAAAAAAA\n",
       "AECAEAgAAAAAAAAAAAKEQAAAAAAAAAAAECAEAgAAAAAAAACAACEQAAAAAAAAAAAECIEAAAAAAAAA\n",
       "ACBACAQAAAAAAAAAAAFCIAAAAAAAAAAACBACAQAAAAAAAABAgBAIAAAAAAAAAAAChEAAAAAAAAAA\n",
       "ABAgBAIAAAAAAAAAgAAhEAAAAAAAAAAABAiBAAAAAAAAAAAgQAgEAAAAAAAAAAABQiAAAAAAAAAA\n",
       "AAgQAgEAAAAAAAAAQIAQCAAAAAAAAAAAAoRAAAAAAAAAAAAQIAQCAAAAAAAAAICA79sDAAAAAAA8\n",
       "Ya11e4S37L1vj8AHTT2HE0zd7dS5Tz+bTu7Fzp81dd8nTdnJ1DM31ZRzwX9zLTumXktvBAIAAAAA\n",
       "AAAAgAAhEAAAAAAAAAAABAiBAAAAAAAAAAAgQAgEAAAAAAAAAAABQiAAAAAAAAAAAAgQAgEAAAAA\n",
       "AAAAQIAQCAAAAAAAAAAAAoRAAAAAAAAAAAAQIAQCAAAAAAAAAIAAIRAAAAAAAAAAAAQIgQAAAAAA\n",
       "AAAAIEAIBAAAAAAAAAAAAUIgAAAAAAAAAAAIEAIBAAAAAAAAAECAEAgAAAAAAAAAAAKEQAAAAAAA\n",
       "AAAAECAEAgAAAAAAAACAACEQAAAAAAAAAAAECIEAAAAAAAAAACDg+/YAAAAAAAD/WmvdHgGcw4Om\n",
       "7nbvfXuEt5zc99Rr+fV19npO3cvUuU+yE37iXHRMvZa+w15NnfskbwQCAAAAAAAAAIAAIRAAAAAA\n",
       "AAAAAAQIgQAAAAAAAAAAIEAIBAAAAAAAAAAAAUIgAAAAAAAAAAAIEAIBAAAAAAAAAECAEAgAAAAA\n",
       "AAAAAAKEQAAAAAAAAAAAECAEAgAAAAAAAACAACEQAAAAAAAAAAAECIEAAAAAAAAAACBACAQAAAAA\n",
       "AAAAAAFCIAAAAAAAAAAACBACAQAAAAAAAABAgBAIAAAAAAAAAAAChEAAAAAAAAAAABAgBAIAAAAA\n",
       "AAAAgAAhEAAAAAAAAAAABAiBAAAAAAAAAAAgQAgEAAAAAAAAAAABQiAAAAAAAAAAAAgQAgEAAAAA\n",
       "AAAAQMD37QEAAAAAgFnWWrdHeMve+9jfnrqTyez8HLt91tR9n3ymfn2d3cvUnU+d+6SpO/E/yVl2\n",
       "0OFavpq6k6lzT31eeyMQAAAAAAAAAAAECIEAAAAAAAAAACBACAQAAAAAAAAAAAFCIAAAAAAAAAAA\n",
       "CBACAQAAAAAAAABAgBAIAAAAAAAAAAAChEAAAAAAAAAAABAgBAIAAAAAAAAAgAAhEAAAAAAAAAAA\n",
       "BAiBAAAAAAAAAAAgQAgEAAAAAAAAAAABQiAAAAAAAAAAAAgQAgEAAAAAAAAAQIAQCAAAAAAAAAAA\n",
       "AoRAAAAAAAAAAAAQIAQCAAAAAAAAAIAAIRAAAAAAAAAAAAQIgQAAAAAAAAAAIEAIBAAAAAAAAAAA\n",
       "AUIgAAAAAAAAAAAIEAIBAAAAAAAAAECAEAgAAAAAAAAAAALW3nvfHgIAAAAA+Ky11u0R+JCpP+FO\n",
       "PoMndz55L59gt/wGU5+rPMszxTP7J1N3MnXuk3wXdEw9gyd5IxAAAAAAAAAAAAQIgQAAAAAAAAAA\n",
       "IEAIBAAAAAAAAAAAAUIgAAAAAAAAAAAIEAIBAAAAAAAAAECAEAgAAAAAAAAAAAKEQAAAAAAAAAAA\n",
       "ECAEAgAAAAAAAACAACEQAAAAAAAAAAAECIEAAAAAAAAAACBACAQAAAAAAAAAAAFCIAAAAAAAAAAA\n",
       "CBACAQAAAAAAAABAgBAIAAAAAAAAAAAChEAAAAAAAAAAABAgBAIAAAAAAAAAgAAhEAAAAAAAAAAA\n",
       "BAiBAAAAAAAAAAAgQAgEAAAAAAAAAAABQiAAAAAAAAAAAAgQAgEAAAAAAAAAQIAQCAAAAAAAAAAA\n",
       "Atbee98eAgAAAAD+Rmut2yO8xU+Kr05ey5P7nnoG+dmnzopz8cpz73lTn6s8a+rzync73Oe74FlT\n",
       "n01Tn9feCAQAAAAAAAAAAAFCIAAAAAAAAAAACBACAQAAAAAAAABAgBAIAAAAAAAAAAAChEAAAAAA\n",
       "AAAAABAgBAIAAAAAAAAAgAAhEAAAAAAAAAAABAiBAAAAAAAAAAAgQAgEAAAAAAAAAAABQiAAAAAA\n",
       "AAAAAAgQAgEAAAAAAAAAQIAQCAAAAAAAAAAAAoRAAAAAAAAAAAAQIAQCAAAAAAAAAIAAIRAAAAAA\n",
       "AAAAAAQIgQAAAAAAAAAAIEAIBAAAAAAAAAAAAUIgAAAAAAAAAAAIEAIBAAAAAAAAAECAEAgAAAAA\n",
       "AAAAAAKEQAAAAAAAAAAAECAEAgAAAAAAAACAACEQAAAAAAAAAAAEfN8eAAAAAAB+s7XW7RH4kKnX\n",
       "curce+/bI/xKJ6/nhLNy8lxM+Pwl9s2fclZeTdmJ73Jum3KvVNj3q6k78UYgAAAAAAAAAAAIEAIB\n",
       "AAAAAAAAAECAEAgAAAAAAAAAAAKEQAAAAAAAAAAAECAEAgAAAAAAAACAACEQAAAAAAAAAAAECIEA\n",
       "AAAAAAAAACBACAQAAAAAAAAAAAFCIAAAAAAAAAAACBACAQAAAAAAAABAgBAIAAAAAAAAAAAChEAA\n",
       "AAAAAAAAABAgBAIAAAAAAAAAgAAhEAAAAAAAAAAABAiBAAAAAAAAAAAgQAgEAAAAAAAAAAABQiAA\n",
       "AAAAAAAAAAgQAgEAAAAAAAAAQIAQCAAAAAAAAAAAAr5vDwAAAAAA/9da6/YIb9l7H/vbU3cyde6T\n",
       "1/Kkqfs+bepePnUOT37+qbudyr75U1PPytTv35OmXkvmcuaeNXXfntevTl5LbwQCAAAAAAAAAIAA\n",
       "IRAAAAAAAAAAAAQIgQAAAAAAAAAAIEAIBAAAAAAAAAAAAUIgAAAAAAAAAAAIEAIBAAAAAAAAAECA\n",
       "EAgAAAAAAAAAAAKEQAAAAAAAAAAAECAEAgAAAAAAAACAACEQAAAAAAAAAAAECIEAAAAAAAAAACBA\n",
       "CAQAAAAAAAAAAAFCIAAAAAAAAAAACBACAQAAAAAAAABAgBAIAAAAAAAAAAAChEAAAAAAAAAAABAg\n",
       "BAIAAAAAAAAAgAAhEAAAAAAAAAAABAiBAAAAAAAAAAAgQAgEAAAAAAAAAAABQiAAAAAAAAAAAAgQ\n",
       "AgEAAAAAAAAAQMD37QEAAAAA+DustW6P8OtM3cnUuaey75/Zy6sJO9l7H/vbEz7/T6bOffJafn3N\n",
       "3ctJdtLhWvI0Z+5Z9t0x9Vp6IxAAAAAAAAAAAAQIgQAAAAAAAAAAIEAIBAAAAAAAAAAAAUIgAAAA\n",
       "AAAAAAAIEAIBAAAAAAAAAECAEAgAAAAAAAAAAAKEQAAAAAAAAAAAECAEAgAAAAAAAACAACEQAAAA\n",
       "AAAAAAAECIEAAAAAAAAAACBACAQAAAAAAAAAAAFCIAAAAAAAAAAACBACAQAAAAAAAABAgBAIAAAA\n",
       "AAAAAAAChEAAAAAAAAAAABAgBAIAAAAAAAAAgAAhEAAAAAAAAAAABAiBAAAAAAAAAAAgQAgEAAAA\n",
       "AAAAAAABQiAAAAAAAAAAAAgQAgEAAAAAAAAAQIAQCAAAAAAAAAAAAtbee98eAgAAAIDfYa11e4S3\n",
       "+ImLPzH1fPO8v/2Z4l6h7uQ9PvX+mbqTqXNP8bd/Hz5t6plzHz5r6r6nzj2VNwIBAAAAAAAAAECA\n",
       "EAgAAAAAAAAAAAKEQAAAAAAAAAAAECAEAgAAAAAAAACAACEQAAAAAAAAAAAECIEAAAAAAAAAACBA\n",
       "CAQAAAAAAAAAAAFCIAAAAAAAAAAACBACAQAAAAAAAABAgBAIAAAAAAAAAAAChEAAAAAAAAAAABAg\n",
       "BAIAAAAAAAAAgAAhEAAAAAAAAAAABAiBAAAAAAAAAAAgQAgEAAAAAAAAAAABQiAAAAAAAAAAAAgQ\n",
       "AgEAAAAAAAAAQIAQCAAAAAAAAAAAAoRAAAAAAAAAAAAQIAQCAAAAAAAAAIAAIRAAAAAAAAAAAAQI\n",
       "gQAAAAAAAAAAIGDtvfftIQAAAAB431rr9gjX+YmrY+p5dgafd/KsTL2eE+6fqbvleRPOM7zr5LPw\n",
       "k/eOZ/Yrz6aOKfchd009J94IBAAAAAAAAAAAAUIgAAAAAAAAAAAIEAIBAAAAAAAAAECAEAgAAAAA\n",
       "AAAAAAKEQAAAAAAAAAAAECAEAgAAAAAAAACAACEQAAAAAAAAAAAECIEAAAAAAAAAACBACAQAAAAA\n",
       "AAAAAAFCIAAAAAAAAAAACBACAQAAAAAAAABAgBAIAAAAAAAAAAAChEAAAAAAAAAAABAgBAIAAAAA\n",
       "AAAAgAAhEAAAAAAAAAAABAiBAAAAAAAAAAAgQAgEAAAAAAAAAAABQiAAAAAAAAAAAAgQAgEAAAAA\n",
       "AAAAQIAQCAAAAAAAAAAAAoRAAAAAAAAAAAAQIAQCAAAAAAAAAICAfwCjEM+wd2UkrQAAAABJRU5E\n",
       "rkJggg==\n",
       "\" transform=\"translate(47, 235)\"/>\n",
       "</g>\n",
       "</svg>\n"
      ]
     },
     "execution_count": 33,
     "metadata": {},
     "output_type": "execute_result"
    }
   ],
   "source": [
    "# Process the data into a simple array for plotting\n",
    "    A = zeros(Int64, (nsteps+1, nagents(model)))\n",
    "    for i in 0:nsteps\n",
    "        snapshot = data[data[!,:step] .== i, :]\n",
    "        for j in Iterators.flatten(snapshot.pos)\n",
    "            A[i+1,j] = snapshot.state[j]\n",
    "        end\n",
    "    end\n",
    "\n",
    " # Reverse the image to make it plot nicer\n",
    "    B = map( x -> x == 0 ? 1 : 0, A)\n",
    "    p = plot(Gray.(B), aspect_ratio = :equal, ylim=(0,nsteps+1), axis=nothing, xaxis=false, yaxis=false)"
   ]
  },
  {
   "cell_type": "markdown",
   "metadata": {
    "slideshow": {
     "slide_type": "slide"
    }
   },
   "source": [
    "### Aside: Running an ABM inside a function\n",
    "\n",
    "As with initialisation, it can be helpful to wrap these commands into a single function that just returns the relevant data:\n"
   ]
  },
  {
   "cell_type": "code",
   "execution_count": 34,
   "metadata": {},
   "outputs": [
    {
     "data": {
      "text/plain": [
       "run (generic function with 1 method)"
      ]
     },
     "execution_count": 34,
     "metadata": {},
     "output_type": "execute_result"
    }
   ],
   "source": [
    "function run(;rules = rule110, gridsize = 100, nsteps=20)\n",
    "    # Initialise a new ABM\n",
    "    model = initialise(rules=rules, gridsize=gridsize)\n",
    "    # Specify what data to record from the simulation\n",
    "    adata = [:pos, :state]\n",
    "    # Run the model\n",
    "    data, _ = run!(model, dummystep, model_step!, nsteps; adata)\n",
    "    # Process the data into a simple array for plotting\n",
    "    A = zeros(Int64, (nsteps+1, nagents(model)))\n",
    "    for i in 0:nsteps\n",
    "        snapshot = data[data[!,:step] .== i, :]\n",
    "        for j in Iterators.flatten(snapshot.pos)\n",
    "            A[i+1,j] = snapshot.state[j]\n",
    "        end\n",
    "    end\n",
    "    # Reverse the image to make it plot nicer\n",
    "    B = map( x -> x == 0 ? 1 : 0, A)\n",
    "    p = plot(Gray.(B), aspect_ratio = :equal, ylim=(0,nsteps+1), axis=nothing, xaxis=false, yaxis=false)\n",
    "    return p, A\n",
    "end"
   ]
  },
  {
   "cell_type": "code",
   "execution_count": 35,
   "metadata": {
    "slideshow": {
     "slide_type": "slide"
    }
   },
   "outputs": [
    {
     "data": {
      "image/svg+xml": [
       "<?xml version=\"1.0\" encoding=\"utf-8\"?>\n",
       "<svg xmlns=\"http://www.w3.org/2000/svg\" xmlns:xlink=\"http://www.w3.org/1999/xlink\" width=\"600\" height=\"400\" viewBox=\"0 0 2400 1600\">\n",
       "<defs>\n",
       "  <clipPath id=\"clip710\">\n",
       "    <rect x=\"0\" y=\"0\" width=\"2400\" height=\"1600\"/>\n",
       "  </clipPath>\n",
       "</defs>\n",
       "<path clip-path=\"url(#clip710)\" d=\"\n",
       "M0 1600 L2400 1600 L2400 0 L0 0  Z\n",
       "  \" fill=\"#ffffff\" fill-rule=\"evenodd\" fill-opacity=\"1\"/>\n",
       "<defs>\n",
       "  <clipPath id=\"clip711\">\n",
       "    <rect x=\"480\" y=\"0\" width=\"1681\" height=\"1600\"/>\n",
       "  </clipPath>\n",
       "</defs>\n",
       "<path clip-path=\"url(#clip710)\" d=\"\n",
       "M47.2441 1387.91 L2352.76 1387.91 L2352.76 212.094 L47.2441 212.094  Z\n",
       "  \" fill=\"#ffffff\" fill-rule=\"evenodd\" fill-opacity=\"1\"/>\n",
       "<defs>\n",
       "  <clipPath id=\"clip712\">\n",
       "    <rect x=\"47\" y=\"212\" width=\"2307\" height=\"1177\"/>\n",
       "  </clipPath>\n",
       "</defs>\n",
       "<g clip-path=\"url(#clip712)\">\n",
       "<image width=\"2306\" height=\"1153\" xlink:href=\"data:image/png;base64,\n",
       "iVBORw0KGgoAAAANSUhEUgAACQIAAASBCAYAAABlkHHEAAAgAElEQVR4nOzcQW4kRRBA0Q7k+185\n",
       "WKDZUAKBcXZVf947QHYopu2RnF85u7svAAAAAAAAAADguJk5dvZvx04GAAAAAAAAAADeRggEAAAA\n",
       "AAAAAAABQiAAAAAAAAAAAAgQAgEAAAAAAAAAQIAQCAAAAAAAAAAAAoRAAAAAAAAAAAAQIAQCAAAA\n",
       "AAAAAIAAIRAAAAAAAAAAAAQIgQAAAAAAAAAAIEAIBAAAAAAAAAAAAUIgAAAAAAAAAAAIEAIBAAAA\n",
       "AAAAAECAEAgAAAAAAAAAAAKEQAAAAAAAAAAAECAEAgAAAAAAAACAACEQAAAAAAAAAAAECIEAAAAA\n",
       "AAAAACBACAQAAAAAAAAAAAFCIAAAAAAAAAAACBACAQAAAAAAAABAgBAIAAAAAAAAAAAChEAAAAAA\n",
       "AAAAABAgBAIAAAAAAAAAgIB5vV578gN2jx4PAAAAAAAAAAA/ambuHuFbvAgEAAAAAAAAAAABQiAA\n",
       "AAAAAAAAAAgQAgEAAAAAAAAAQIAQCAAAAAAAAAAAAoRAAAAAAAAAAAAQIAQCAAAAAAAAAIAAIRAA\n",
       "AAAAAAAAAAQIgQAAAAAAAAAAIEAIBAAAAAAAAAAAAUIgAAAAAAAAAAAIEAIBAAAAAAAAAECAEAgA\n",
       "AAAAAAAAAAKEQAAAAAAAAAAAECAEAgAAAAAAAACAACEQAAAAAAAAAAAECIEAAAAAAAAAACBACAQA\n",
       "AAAAAAAAAAFCIAAAAAAAAAAACBACAQAAAAAAAABAgBAIAAAAAAAAAAAChEAAAAAAAAAAABAgBAIA\n",
       "AAAAAAAAgICv3T36ATNz7OzTswMAAAAAAAAA8EyalCsvAgEAAAAAAAAAQIAQCAAAAAAAAAAAAoRA\n",
       "AAAAAAAAAAAQIAQCAAAAAAAAAIAAIRAAAAAAAAAAAAQIgQAAAAAAAAAAIEAIBAAAAAAAAAAAAUIg\n",
       "AAAAAAAAAAAIEAIBAAAAAAAAAECAEAgAAAAAAAAAAAKEQAAAAAAAAAAAECAEAgAAAAAAAACAACEQ\n",
       "AAAAAAAAAAAECIEAAAAAAAAAACBACAQAAAAAAAAAAAFCIAAAAAAAAAAACBACAQAAAAAAAABAgBAI\n",
       "AAAAAAAAAAAChEAAAAAAAAAAABAgBAIAAAAAAAAAgAAhEAAAAAAAAAAABAiBAAAAAAAAAAAgYF6v\n",
       "1949xBPtWgsAAAAAAAAAwH8xM3eP8DgnmxQvAgEAAAAAAAAAQIAQCAAAAAAAAAAAAoRAAAAAAAAA\n",
       "AAAQIAQCAAAAAAAAAIAAIRAAAAAAAAAAAAQIgQAAAAAAAAAAIEAIBAAAAAAAAAAAAUIgAAAAAAAA\n",
       "AAAIEAIBAAAAAAAAAECAEAgAAAAAAAAAAAKEQAAAAAAAAAAAECAEAgAAAAAAAACAACEQAAAAAAAA\n",
       "AAAECIEAAAAAAAAAACBACAQAAAAAAAAAAAFCIAAAAAAAAAAACBACAQAAAAAAAABAgBAIAAAAAAAA\n",
       "AAAChEAAAAAAAAAAABAgBAIAAAAAAAAAgAAhEAAAAAAAAAAABAiBAAAAAAAAAAAg4Gt3757hkWbm\n",
       "2Nl2DgAAAAAAAAA8hUaiw4tAAAAAAAAAAAAQIAQCAAAAAAAAAIAAIRAAAAAAAAAAAAQIgQAAAAAA\n",
       "AAAAIEAIBAAAAAAAAAAAAUIgAAAAAAAAAAAIEAIBAAAAAAAAAECAEAgAAAAAAAAAAAKEQAAAAAAA\n",
       "AAAAECAEAgAAAAAAAACAACEQAAAAAAAAAAAECIEAAAAAAAAAACBACAQAAAAAAAAAAAFCIAAAAAAA\n",
       "AAAACBACAQAAAAAAAABAgBAIAAAAAAAAAAAChEAAAAAAAAAAABAgBAIAAAAAAAAAgAAhEAAAAAAA\n",
       "AAAABMzu7t1DfNfM3D3C43zwPycAAAAAAAAA8Bc0ElcaiSsvAgEAAAAAAAAAQIAQCAAAAAAAAAAA\n",
       "AoRAAAAAAAAAAAAQIAQCAAAAAAAAAIAAIRAAAAAAAAAAAAQIgQAAAAAAAAAAIEAIBAAAAAAAAAAA\n",
       "AUIgAAAAAAAAAAAIEAIBAAAAAAAAAECAEAgAAAAAAAAAAAKEQAAAAAAAAAAAECAEAgAAAAAAAACA\n",
       "ACEQAAAAAAAAAAAECIEAAAAAAAAAACBACAQAAAAAAAAAAAFCIAAAAAAAAAAACBACAQAAAAAAAABA\n",
       "gBAIAAAAAAAAAAAChEAAAAAAAAAAABAgBAIAAAAAAAAAgAAhEAAAAAAAAAAABAiBAAAAAAAAAAAg\n",
       "QAgEAAAAAAAAAAABX6c/YGaOnb27x87+VPYNAAAAAAAAAPdwZ/9e9n3lRSAAAAAAAAAAAAgQAgEA\n",
       "AAAAAAAAQIAQCAAAAAAAAAAAAoRAAAAAAAAAAAAQIAQCAAAAAAAAAIAAIRAAAAAAAAAAAAQIgQAA\n",
       "AAAAAAAAIEAIBAAAAAAAAAAAAUIgAAAAAAAAAAAIEAIBAAAAAAAAAECAEAgAAAAAAAAAAAKEQAAA\n",
       "AAAAAAAAECAEAgAAAAAAAACAACEQAAAAAAAAAAAECIEAAAAAAAAAACBACAQAAAAAAAAAAAFCIAAA\n",
       "AAAAAAAACBACAQAAAAAAAABAgBAIAAAAAAAAAAAChEAAAAAAAAAAABAgBAIAAAAAAAAAgAAhEAAA\n",
       "AAAAAAAABMzr9dq7h3ii3XNrmZljZ3+qk/sGAAAAAAAAgF/c2V9pJN7r5L69CAQAAAAAAAAAAAFC\n",
       "IAAAAAAAAAAACBACAQAAAAAAAABAgBAIAAAAAAAAAAAChEAAAAAAAAAAABAgBAIAAAAAAAAAgAAh\n",
       "EAAAAAAAAAAABAiBAAAAAAAAAAAgQAgEAAAAAAAAAAABQiAAAAAAAAAAAAgQAgEAAAAAAAAAQIAQ\n",
       "CAAAAAAAAAAAAoRAAAAAAAAAAAAQIAQCAAAAAAAAAIAAIRAAAAAAAAAAAAQIgQAAAAAAAAAAIEAI\n",
       "BAAAAAAAAAAAAUIgAAAAAAAAAAAIEAIBAAAAAAAAAECAEAgAAAAAAAAAAAKEQAAAAAAAAAAAECAE\n",
       "AgAAAAAAAACAgNndvXsImJljZ/uKAwAAAAAAAHwWd8jwPV4EAgAAAAAAAACAACEQAAAAAAAAAAAE\n",
       "CIEAAAAAAAAAACBACAQAAAAAAAAAAAFCIAAAAAAAAAAACBACAQAAAAAAAABAgBAIAAAAAAAAAAAC\n",
       "hEAAAAAAAAAAABAgBAIAAAAAAAAAgAAhEAAAAAAAAAAABAiBAAAAAAAAAAAgQAgEAAAAAAAAAAAB\n",
       "QiAAAAAAAAAAAAgQAgEAAAAAAAAAQIAQCAAAAAAAAAAAAoRAAAAAAAAAAAAQIAQCAAAAAAAAAIAA\n",
       "IRAAAAAAAAAAAAQIgQAAAAAAAAAAIEAIBAAAAAAAAAAAAUIgAAAAAAAAAAAIEAIBAAAAAAAAAEDA\n",
       "7O7ePQSfYWbuHuFx/PgAAAAAAAAA/1fukK/cIXM3LwIBAAAAAAAAAECAEAgAAAAAAAAAAAKEQAAA\n",
       "AAAAAAAAECAEAgAAAAAAAACAACEQAAAAAAAAAAAECIEAAAAAAAAAACBACAQAAAAAAAAAAAFCIAAA\n",
       "AAAAAAAACBACAQAAAAAAAABAgBAIAAAAAAAAAAAChEAAAAAAAAAAABAgBAIAAAAAAAAAgAAhEAAA\n",
       "AAAAAAAABAiBAAAAAAAAAAAgQAgEAAAAAAAAAAABQiAAAAAAAAAAAAgQAgEAAAAAAAAAQIAQCAAA\n",
       "AAAAAAAAAoRAAAAAAAAAAAAQ8HX3APysmTl29u4eO/tT2TcAAAAAAADwZO4038u+uZsXgQAAAAAA\n",
       "AAAAIEAIBAAAAAAAAAAAAUIgAAAAAAAAAAAIEAIBAAAAAAAAAECAEAgAAAAAAAAAAAKEQAAAAAAA\n",
       "AAAAECAEAgAAAAAAAACAACEQAAAAAAAAAAAECIEAAAAAAAAAACBACAQAAAAAAAAAAAFCIAAAAAAA\n",
       "AAAACBACAQAAAAAAAABAgBAIAAAAAAAAAAAChEAAAAAAAAAAABAgBAIAAAAAAAAAgAAhEAAAAAAA\n",
       "AAAABAiBAAAAAAAAAAAgQAgEAAAAAAAAAAABQiAAAAAAAAAAAAgQAgEAAAAAAAAAQIAQCAAAAAAA\n",
       "AAAAAoRAAAAAAAAAAAAQIAQCAAAAAAAAAICA2d29e4j/m5m5e4THOfk1tO8rP/YAAAAAAADwHO40\n",
       "r9whv5c75A4vAgEAAAAAAAAAQIAQCAAAAAAAAAAAAoRAAAAAAAAAAAAQIAQCAAAAAAAAAIAAIRAA\n",
       "AAAAAAAAAAQIgQAAAAAAAAAAIEAIBAAAAAAAAAAAAUIgAAAAAAAAAAAIEAIBAAAAAAAAAECAEAgA\n",
       "AAAAAAAAAAKEQAAAAAAAAAAAECAEAgAAAAAAAACAACEQAAAAAAAAAAAECIEAAAAAAAAAACBACAQA\n",
       "AAAAAAAAAAFCIAAAAAAAAAAACBACAQAAAAAAAABAgBAIAAAAAAAAAAAChEAAAAAAAAAAABAgBAIA\n",
       "AAAAAAAAgAAhEAAAAAAAAAAABAiBAAAAAAAAAAAgYHZ37x7iiWbm2NlWzt18vwEAAAAAAODfccdG\n",
       "me93hxeBAAAAAAAAAAAgQAgEAAAAAAAAAAABQiAAAAAAAAAAAAgQAgEAAAAAAAAAQIAQCAAAAAAA\n",
       "AAAAAoRAAAAAAAAAAAAQIAQCAAAAAAAAAIAAIRAAAAAAAAAAAAQIgQAAAAAAAAAAIEAIBAAAAAAA\n",
       "AAAAAUIgAAAAAAAAAAAIEAIBAAAAAAAAAECAEAgAAAAAAAAAAAKEQAAAAAAAAAAAECAEAgAAAAAA\n",
       "AACAACEQAAAAAAAAAAAECIEAAAAAAAAAACBACAQAAAAAAAAAAAFCIAAAAAAAAAAACBACAQAAAAAA\n",
       "AABAgBAIAAAAAAAAAAAChEAAAAAAAAAAABAwu7t3D/FdM3P3CI/zwf+c/Inv95XvNwAAAAAAAH/H\n",
       "HduVO7YO3+8r3+8rLwIBAAAAAAAAAECAEAgAAAAAAAAAAAKEQAAAAAAAAAAAECAEAgAAAAAAAACA\n",
       "ACEQAAAAAAAAAAAECIEAAAAAAAAAACBACAQAAAAAAAAAAAFCIAAAAAAAAAAACBACAQAAAAAAAABA\n",
       "gBAIAAAAAAAAAAAChEAAAAAAAAAAABAgBAIAAAAAAAAAgAAhEAAAAAAAAAAABAiBAAAAAAAAAAAg\n",
       "QAgEAAAAAAAAAAABQiAAAAAAAAAAAAgQAgEAAAAAAAAAQIAQCAAAAAAAAAAAAoRAAAAAAAAAAAAQ\n",
       "8HX6A2bm2Nm7e+zsT2Xf72Xf72XfAAAAAAAAn8+dz3vZ93vZ93vZ95UXgQAAAAAAAAAAIEAIBAAA\n",
       "AAAAAAAAAUIgAAAAAAAAAAAIEAIBAAAAAAAAAECAEAgAAAAAAAAAAAKEQAAAAAAAAAAAECAEAgAA\n",
       "AAAAAACAACEQAAAAAAAAAAAECIEAAAAAAAAAACBACAQAAAAAAAAAAAFCIAAAAAAAAAAACBACAQAA\n",
       "AAAAAABAgBAIAAAAAAAAAAAChEAAAAAAAAAAABAgBAIAAAAAAAAAgAAhEAAAAAAAAAAABAiBAAAA\n",
       "AAAAAAAgQAgEAAAAAAAAAAABQiAAAAAAAAAAAAgQAgEAAAAAAAAAQIAQCAAAAAAAAAAAAoRAAAAA\n",
       "AAAAAAAQMK/Xa+8e4ol2z61lZo6d/ans+73s+71O7hsAAAAAAOAEdz5X7tjey77fy77f6+S+vQgE\n",
       "AAAAAAAAAAABQiAAAAAAAAAAAAgQAgEAAAAAAAAAQIAQCAAAAAAAAAAAAoRAAAAAAAAAAAAQIAQC\n",
       "AAAAAAAAAIAAIRAAAAAAAAAAAAQIgQAAAAAAAAAAIEAIBAAAAAAAAAAAAUIgAAAAAAAAAAAIEAIB\n",
       "AAAAAAAAAECAEAgAAAAAAAAAAAKEQAAAAAAAAAAAECAEAgAAAAAAAACAACEQAAAAAAAAAAAECIEA\n",
       "AAAAAAAAACBACAQAAAAAAAAAAAFCIAAAAAAAAAAACBACAQAAAAAAAABAgBAIAAAAAAAAAAAChEAA\n",
       "AAAAAAAAABAgBAIAAAAAAAAAgAAhEAAAAAAAAAAABMzu7t1DAJTNzLGz/QoHAAAAAAB++ck7CXcQ\n",
       "AJ/Ji0AAAAAAAAAAABAgBAIAAAAAAAAAgAAhEAAAAAAAAAAABAiBAAAAAAAAAAAgQAgEAAAAAAAA\n",
       "AAABQiAAAAAAAAAAAAgQAgEAAAAAAAAAQIAQCAAAAAAAAAAAAoRAAAAAAAAAAAAQIAQCAAAAAAAA\n",
       "AIAAIRAAAAAAAAAAAAQIgQAAAAAAAAAAIEAIBAAAAAAAAAAAAUIgAAAAAAAAAAAIEAIBAAAAAAAA\n",
       "AECAEAgAAAAAAAAAAAKEQAAAAAAAAAAAECAEAgAAAAAAAACAACEQAAAAAAAAAAAECIEAAAAAAAAA\n",
       "ACBACAQAAAAAAAAAAAFCIAAAAAAAAAAACJjd3buHALjbzNw9wu38dwAAAAAAAOe5k3AnAXCSF4EA\n",
       "AAAAAAAAACBACAQAAAAAAAAAAAFCIAAAAAAAAAAACBACAQAAAAAAAABAgBAIAAAAAAAAAAAChEAA\n",
       "AAAAAAAAABAgBAIAAAAAAAAAgAAhEAAAAAAAAAAABAiBAAAAAAAAAAAgQAgEAAAAAAAAAAABQiAA\n",
       "AAAAAAAAAAgQAgEAAAAAAAAAQIAQCAAAAAAAAAAAAoRAAAAAAAAAAAAQIAQCAAAAAAAAAIAAIRAA\n",
       "AAAAAAAAAAQIgQAAAAAAAAAAIEAIBAAAAAAAAAAAAUIgAAAAAAAAAAAIEAIBAAAAAAAAAECAEAgA\n",
       "AAAAAAAAAAKEQAAAAAAAAAAAEPB19wAA/9TMHDt7d4+d/SnsFwAAAAAA/uBv5mfZL8A5XgQCAAAA\n",
       "AAAAAIAAIRAAAAAAAAAAAAQIgQAAAAAAAAAAIEAIBAAAAAAAAAAAAUIgAAAAAAAAAAAIEAIBAAAA\n",
       "AAAAAECAEAgAAAAAAAAAAAKEQAAAAAAAAAAAECAEAgAAAAAAAACAACEQAAAAAAAAAAAECIEAAAAA\n",
       "AAAAACBACAQAAAAAAAAAAAFCIAAAAAAAAAAACBACAQAAAAAAAABAgBAIAAAAAAAAAAAChEAAAAAA\n",
       "AAAAABAgBAIAAAAAAAAAgAAhEAAAAAAAAAAABAiBAAAAAAAAAAAgYHZ37x4C6JiZu0d4nJO/Zu37\n",
       "7H4BAAAAAHgufyO/+sm/mdvvlTsJ4BN4EQgAAAAAAAAAAAKEQAAAAAAAAAAAECAEAgAAAAAAAACA\n",
       "ACEQAAAAAAAAAAAECIEAAAAAAAAAACBACAQAAAAAAAAAAAFCIAAAAAAAAAAACBACAQAAAAAAAABA\n",
       "gBAIAAAAAAAAAAAChEAAAAAAAAAAABAgBAIAAAAAAAAAgAAhEAAAAAAAAAAABAiBAAAAAAAAAAAg\n",
       "QAgEAAAAAAAAAAABQiAAAAAAAAAAAAgQAgEAAAAAAAAAQIAQCAAAAAAAAAAAAoRAAAAAAAAAAAAQ\n",
       "IAQCgN/ZuaMcOWEsgKL1pOx/y57/oUfKtMoGbs5ZALFeXAjoKwMAAAAAAAAECIEAAAAAAAAAACBA\n",
       "CAQAAAAAAAAAAAFCIAAAAAAAAAAACJi11rp7EcBZM7Pt2m4pnGY/AwAAAAA8l2+4lNjPwBs4EQgA\n",
       "AAAAAAAAAAKEQAAAAAAAAAAAECAEAgAAAAAAAACAACEQAAAAAAAAAAAECIEAAAAAAAAAACBACAQA\n",
       "AAAAAAAAAAFCIAAAAAAAAAAACBACAQAAAAAAAABAgBAIAAAAAAAAAAAChEAAAAAAAAAAABAgBAIA\n",
       "AAAAAAAAgAAhEAAAAAAAAAAABAiBAAAAAAAAAAAgQAgEAAAAAAAAAAABQiAAAAAAAAAAAAgQAgEA\n",
       "AAAAAAAAQIAQCAAAAAAAAAAAAoRAAAAAAAAAAAAQIAQCAAAAAAAAAIAAIRAAAAAAAAAAAAQIgQAA\n",
       "AAAAAAAAIEAIBAAAAAAAAAAAAUIgAAAAAAAAAAAImLXWunsRwNXM3L2Ex3G7ei/7+cp+BgAAAACe\n",
       "wjfcK99w38t+vrKf4d/iRCAAAAAAAAAAAAgQAgEAAAAAAAAAQIAQCAAAAAAAAAAAAoRAAAAAAAAA\n",
       "AAAQIAQCAAAAAAAAAIAAIRAAAAAAAAAAAAQIgQAAAAAAAAAAIEAIBAAAAAAAAAAAAUIgAAAAAAAA\n",
       "AAAIEAIBAAAAAAAAAECAEAgAAAAAAAAAAAKEQAAAAAAAAAAAECAEAgAAAAAAAACAACEQAAAAAAAA\n",
       "AAAECIEAAAAAAAAAACBACAQAAAAAAAAAAAFCIAAAAAAAAAAACBACAQAAAAAAAABAgBAIAAAAAAAA\n",
       "AAAChEAAAAAAAAAAABAgBAIAAAAAAAAAgAAhEAAAAAAAAAAABPy5ewHwZjOz7dprrW3Xfivz3st8\n",
       "zzJvAAAAAOD/4ZviWea9l/meZd7wb3EiEAAAAAAAAAAABAiBAAAAAAAAAAAgQAgEAAAAAAAAAAAB\n",
       "QiAAAAAAAAAAAAgQAgEAAAAAAAAAQIAQCAAAAAAAAAAAAoRAAAAAAAAAAAAQIAQCAAAAAAAAAIAA\n",
       "IRAAAAAAAAAAAAQIgQAAAAAAAAAAIEAIBAAAAAAAAAAAAUIgAAAAAAAAAAAIEAIBAAAAAAAAAECA\n",
       "EAgAAAAAAAAAAAKEQAAAAAAAAAAAECAEAgAAAAAAAACAACEQAAAAAAAAAAAECIEAAAAAAAAAACBA\n",
       "CAQAAAAAAAAAAAFCIAAAAAAAAAAACBACAQAAAAAAAABAgBAIAAAAAAAAAAACZq217l4E7DQzdy/h\n",
       "cXb+7M37yrz3Mt+zPDYAAAAAwP/mm+KVb7hnfXPe5ntlP5/lbxLwO04EAgAAAAAAAACAACEQAAAA\n",
       "AAAAAAAECIEAAAAAAAAAACBACAQAAAAAAAAAAAFCIAAAAAAAAAAACBACAQAAAAAAAABAgBAIAAAA\n",
       "AAAAAAAChEAAAAAAAAAAABAgBAIAAAAAAAAAgAAhEAAAAAAAAAAABAiBAAAAAAAAAAAgQAgEAAAA\n",
       "AAAAAAABQiAAAAAAAAAAAAgQAgEAAAAAAAAAQIAQCAAAAAAAAAAAAoRAAAAAAAAAAAAQIAQCAAAA\n",
       "AAAAAIAAIRAAAAAAAAAAAAQIgQAAAAAAAAAAIGDWWuvuRcDMbLu2LQ7wPe7XAAAAALydb1wA7+B+\n",
       "Db/jRCAAAAAAAAAAAAgQAgEAAAAAAAAAQIAQCAAAAAAAAAAAAoRAAAAAAAAAAAAQIAQCAAAAAAAA\n",
       "AIAAIRAAAAAAAAAAAAQIgQAAAAAAAAAAIEAIBAAAAAAAAAAAAUIgAAAAAAAAAAAIEAIBAAAAAAAA\n",
       "AECAEAgAAAAAAAAAAAKEQAAAAAAAAAAAECAEAgAAAAAAAACAACEQAAAAAAAAAAAECIEAAAAAAAAA\n",
       "ACBACAQAAAAAAAAAAAFCIAAAAAAAAAAACBACAQAAAAAAAABAgBAIAAAAAAAAAAAChEAAAAAAAAAA\n",
       "ABAgBAIAAAAAAAAAgAAhEAAAAAAAAAAABMxaa929CN5hZu5ewuP4+QBP5H595X4NAAAA8C6+cV35\n",
       "xgU8kfv1lfs1d3MiEAAAAAAAAAAABAiBAAAAAAAAAAAgQAgEAAAAAAAAAAABQiAAAAAAAAAAAAgQ\n",
       "AgEAAAAAAAAAQIAQCAAAAAAAAAAAAoRAAAAAAAAAAAAQIAQCAAAAAAAAAIAAIRAAAAAAAAAAAAQI\n",
       "gQAAAAAAAAAAIEAIBAAAAAAAAAAAAUIgAAAAAAAAAAAIEAIBAAAAAAAAAECAEAgAAAAAAAAAAAKE\n",
       "QAAAAAAAAAAAECAEAgAAAAAAAACAACEQAAAAAAAAAAAECIEAAAAAAAAAACBACAQAAAAAAAAAAAFC\n",
       "IAAAAAAAAAAACBACAQAAAAAAAABAgBAIAAAAAAAAAAAChEAAAAAAAAAAABDw5+4F8F0zs+3aa61t\n",
       "134r8wZ+y/3jLPMGAAAA+K6d31s+H99cfuIbF/Bb7h9nmTd3cyIQAAAAAAAAAAAECIEAAAAAAAAA\n",
       "ACBACAQAAAAAAAAAAAFCIAAAAAAAAAAACBACAQAAAAAAAABAgBAIAAAAAAAAAAAChEAAAAAAAAAA\n",
       "ABAgBAIAAAAAAAAAgAAhEAAAAAAAAAAABAiBAAAAAAAAAAAgQAgEAAAAAAAAAAABQiAAAAAAAAAA\n",
       "AAgQAgEAAAAAAAAAQIAQCAAAAAAAAAAAAoRAAAAAAAAAAAAQIAQCAAAAAAAAAIAAIRAAAAAAAAAA\n",
       "AAQIgQAAAAAAAAAAIEAIBAAAAAAAAAAAAUIgAAAAAAAAAAAIEAIBAAAAAAAAAECAEAgAAAAAAAAA\n",
       "AAJmrbXuXsS/ZmbuXsLj7NyG5n3lZw9/x/3jyv36PPdsAAAA4Ld8b/mZb1xn+b4Ff8f948r9+iz3\n",
       "6w4nAgEAAAAAAAAAQIAQCAAAAAAAAAAAAoRAAAAAAAAAAAAQIAQCAAAAAAAAAIAAIRAAAAAAAAAA\n",
       "AAQIgQAAAAAAAAAAIEAIBAAAAAAAAAAAAUIgAAAAAAAAAAAIEAIBAAAAAAAAAECAEAgAAAAAAAAA\n",
       "AAKEQAAAAAAAAAAAECAEAgAAAAAAAACAACEQAAAAAAAAAAAECIEAAAAAAAAAACBACAQAAAAAAAAA\n",
       "AAFCIAAAAAAAAAAACBACAQAAAAAAAABAgBAIAAAAAAAAAAAChEAAAAAAAAAAABAwa6119yKeaGa2\n",
       "XdvIuZv9TYn9TJ09DgAAAG3e/amzxymxnymzvzucCAQAAAAAAAAAAAFCIAAAAAAAAAAACBACAQAA\n",
       "AAAAAABAgBAIAAAAAAAAAAAChEAAAAAAAAAAABAgBAIAAAAAAAAAgAAhEAAAAAAAAAAABAiBAAAA\n",
       "AAAAAAAgQAgEAAAAAAAAAAABQiAAAAAAAAAAAAgQAgEAAAAAAAAAQIAQCAAAAAAAAAAAAoRAAAAA\n",
       "AAAAAAAQIAQCAAAAAAAAAIAAIRAAAAAAAAAAAAQIgQAAAAAAAAAAIEAIBAAAAAAAAAAAAUIgAAAA\n",
       "AAAAAAAIEAIBAAAAAAAAAECAEAgAAAAAAOlGtZIAABltSURBVAAAAAKEQAAAAAAAAAAAECAEAgAA\n",
       "AAAAAACAgFlrrbsX8Vszc/cSHufF/538F/v7yv5+L/v5yn7usL9/Zo8DAABQ4v3/yrt/iz1+ZY+/\n",
       "l/18ZT932N9X9veVE4EAAAAAAAAAACBACAQAAAAAAAAAAAFCIAAAAAAAAAAACBACAQAAAAAAAABA\n",
       "gBAIAAAAAAAAAAAChEAAAAAAAAAAABAgBAIAAAAAAAAAgAAhEAAAAAAAAAAABAiBAAAAAAAAAAAg\n",
       "QAgEAAAAAAAAAAABQiAAAAAAAAAAAAgQAgEAAAAAAAAAQIAQCAAAAAAAAAAAAoRAAAAAAAAAAAAQ\n",
       "IAQCAAAAAAAAAIAAIRAAAAAAAAAAAAQIgQAAAAAAAAAAIEAIBAAAAAAAAAAAAUIgAAAAAAAAAAAI\n",
       "EAIBAAAAAAAAAECAEAgAAAAAAAAAAAKEQAAAAAAAAAAAEPBn9z8wM9uuvdbadu23Mu+zzPss897L\n",
       "fM8y77PM+zwzBwAA4DTvomftnPfnY+Y/scfPMu+9zPcs8z7LvM8y7ysnAgEAAAAAAAAAQIAQCAAA\n",
       "AAAAAAAAAoRAAAAAAAAAAAAQIAQCAAAAAAAAAIAAIRAAAAAAAAAAAAQIgQAAAAAAAAAAIEAIBAAA\n",
       "AAAAAAAAAUIgAAAAAAAAAAAIEAIBAAAAAAAAAECAEAgAAAAAAAAAAAKEQAAAAAAAAAAAECAEAgAA\n",
       "AAAAAACAACEQAAAAAAAAAAAECIEAAAAAAAAAACBACAQAAAAAAAAAAAFCIAAAAAAAAAAACBACAQAA\n",
       "AAAAAABAgBAIAAAAAAAAAAAChEAAAAAAAAAAABAgBAIAAAAAAAAAgAAhEAAAAAAAAAAABAiBAAAA\n",
       "AAAAAAAgQAgEAAAAAAAAAAAB8/l81t2LeKK19o1lZrZd+63M+yzzPsu89zLfs8z7PDM/a+e8AQAA\n",
       "8C76E+/+55n5WeZ91jfnbb5X9vNZ5n2WeZ+1c95OBAIAAAAAAAAAgAAhEAAAAAAAAAAABAiBAAAA\n",
       "AAAAAAAgQAgEAAAAAAAAAAABQiAAAAAAAAAAAAgQAgEAAAAAAAAAQIAQCAAAAAAAAAAAAoRAAAAA\n",
       "AAAAAAAQIAQCAAAAAAAAAIAAIRAAAAAAAAAAAAQIgQAAAAAAAAAAIEAIBAAAAAAAAAAAAUIgAAAA\n",
       "AAAAAAAIEAIBAAAAAAAAAECAEAgAAAAAAAAAAAKEQAAAAAAAAAAAECAEAgAAAAAAAACAACEQAAAA\n",
       "AAAAAAAECIEAAAAAAAAAACBACAQAAAAAAAAAAAFCIAAAAAAAAAAACBACAQAAAAAAAABAwKy11t2L\n",
       "AACAJ5iZbdf22A0AALyFdyMAAHgvJwIBAAAAAAAAAECAEAgAAAAAAAAAAAKEQAAAAAAAAAAAECAE\n",
       "AgAAAAAAAACAACEQAAAAAAAAAAAECIEAAAAAAAAAACBACAQAAAAAAAAAAAFCIAAAAAAAAAAACBAC\n",
       "AQAAAAAAAABAgBAIAAAAAAAAAAAChEAAAAAAAAAAABAgBAIAAAAAAAAAgAAhEAAAAAAAAAAABAiB\n",
       "AAAAAAAAAAAgQAgEAAAAAAAAAAABQiAAAAAAAAAAAAgQAgEAAAAAAAAAQIAQCAAAAAAAAAAAAoRA\n",
       "AAAAAAAAAAAQMGutdfciAADgb83M3Ut4HI/0AADA5+N9ybsRAAA4EQgAAAAAAAAAABKEQAAAAAAA\n",
       "AAAAECAEAgAAAAAAAACAACEQAAAAAAAAAAAECIEAAAAAAAAAACBACAQAAAAAAAAAAAFCIAAAAAAA\n",
       "AAAACBACAQAAAAAAAABAgBAIAAAAAAAAAAAChEAAAAAAAAAAABAgBAIAAAAAAAAAgAAhEAAAAAAA\n",
       "AAAABAiBAAAAAAAAAAAgQAgEAAAAAAAAAAABQiAAAAAAAAAAAAgQAgEAAAAAAAAAQIAQCAAAAAAA\n",
       "AAAAAoRAAAAAAAAAAAAQIAQCAAAAAAAAAIAAIRAAAAAAAAAAAAQIgQAAAAAAAAAAIEAIBAAAAAAA\n",
       "AAAAAX/uXgAAAD0zs+3aa61t136rb83bbAEAYD/vS/uYLQAAOBEIAAAAAAAAAAAShEAAAAAAAAAA\n",
       "ABAgBAIAAAAAAAAAgAAhEAAAAAAAAAAABAiBAAAAAAAAAAAgQAgEAAAAAAAAAAABQiAAAAAAAAAA\n",
       "AAgQAgEAAAAAAAAAQIAQCAAAAAAAAAAAAoRAAAAAAAAAAAAQIAQCAAAAAAAAAIAAIRAAAAAAAAAA\n",
       "AAQIgQAAAAAAAAAAIEAIBAAAAAAAAAAAAUIgAAAAAAAAAAAIEAIBAAAAAAAAAECAEAgAAAAAAAAA\n",
       "AAKEQAAAAAAAAAAAECAEAgAAAAAAAACAACEQAAAAAAAAAAAECIEAAAAAAAAAACBACAQAAAAAAAAA\n",
       "AAGz1lp3LwIAgPNm5u4lPM7OR+N/fd5eOwAAeBPP796NTvK+BADANzkRCAAAAAAAAAAAAoRAAAAA\n",
       "AAAAAAAQIAQCAAAAAAAAAIAAIRAAAAAAAAAAAAQIgQAAAAAAAAAAIEAIBAAAAAAAAAAAAUIgAAAA\n",
       "AAAAAAAIEAIBAAAAAAAAAECAEAgAAAAAAAAAAAKEQAAAAAAAAAAAECAEAgAAAAAAAACAACEQAAAA\n",
       "AAAAAAAECIEAAAAAAAAAACBACAQAAAAAAAAAAAFCIAAAAAAAAAAACBACAQAAAAAAAABAgBAIAAAA\n",
       "AAAAAAAChEAAAAAAAAAAABAgBAIAAAAAAAAAgAAhEAAAAAAAAAAABAiBAAAAAAAAAAAgQAgEAAAA\n",
       "AAAAAAABQiAAAAAAAAAAAAiYtda6exEAAPxsZrZd22MgJ9nLAAB8m2dMKuxlAAC+yYlAAAAAAAAA\n",
       "AAAQIAQCAAAAAAAAAIAAIRAAAAAAAAAAAAQIgQAAAAAAAAAAIEAIBAAAAAAAAAAAAUIgAAAAAAAA\n",
       "AAAIEAIBAAAAAAAAAECAEAgAAAAAAAAAAAKEQAAAAAAAAAAAECAEAgAAAAAAAACAACEQAAAAAAAA\n",
       "AAAECIEAAAAAAAAAACBACAQAAAAAAAAAAAFCIAAAAAAAAAAACBACAQAAAAAAAABAgBAIAAAAAAAA\n",
       "AAAChEAAAAAAAAAAABAgBAIAAAAAAAAAgAAhEAAAAAAAAAAABAiBAAAAAAAAAAAgQAgEAAAAAAAA\n",
       "AAABQiAAAAAAAAAAAAiYtda6exEAAG81M3cv4ZE8Yr6T/XxlLwMA/J7ny595xnwn+/nKXgYAeCYn\n",
       "AgEAAAAAAAAAQIAQCAAAAAAAAAAAAoRAAAAAAAAAAAAQIAQCAAAAAAAAAIAAIRAAAAAAAAAAAAQI\n",
       "gQAAAAAAAAAAIEAIBAAAAAAAAAAAAUIgAAAAAAAAAAAIEAIBAAAAAAAAAECAEAgAAAAAAAAAAAKE\n",
       "QAAAAAAAAAAAECAEAgAAAAAAAACAACEQAAAAAAAAAAAECIEAAAAAAAAAACBACAQAAAAAAAAAAAFC\n",
       "IAAAAAAAAAAACBACAQAAAAAAAABAgBAIAAAAAAAAAAAChEAAAAAAAAAAABDw5+4FAADsNjPbrr3W\n",
       "2nbtNzPzs741b7O92rmXPx8zBwDu59n9PDPfx2zP8r4EAPBMTgQCAAAAAAAAAIAAIRAAAAAAAAAA\n",
       "AAQIgQAAAAAAAAAAIEAIBAAAAAAAAAAAAUIgAAAAAAAAAAAIEAIBAAAAAAAAAECAEAgAAAAAAAAA\n",
       "AAKEQAAAAAAAAAAAECAEAgAAAAAAAACAACEQAAAAAAAAAAAECIEAAAAAAAAAACBACAQAAAAAAAAA\n",
       "AAFCIAAAAAAAAAAACBACAQAAAAAAAABAgBAIAAAAAAAAAAAChEAAAAAAAAAAABAgBAIAAAAAAAAA\n",
       "gAAhEAAAAAAAAAAABAiBAAAAAAAAAAAgQAgEAAAAAAAAAAABQiAAAAAAAAAAAAgQAgEAAAAAAAAA\n",
       "QMCstdbdiwAAmJm7l/BIOx/VzPzKvPcx2/O86gFAh+edn3nG3MdszzLv87wvAQBlTgQCAAAAAAAA\n",
       "AIAAIRAAAAAAAAAAAAQIgQAAAAAAAAAAIEAIBAAAAAAAAAAAAUIgAAAAAAAAAAAIEAIBAAAAAAAA\n",
       "AECAEAgAAAAAAAAAAAKEQAAAAAAAAAAAECAEAgAAAAAAAACAACEQAAAAAAAAAAAECIEAAAAAAAAA\n",
       "ACBACAQAAAAAAAAAAAFCIAAAAAAAAAAACBACAf9p5w5QYoehAIr6wP1vOX8BHfgik3R6PWcBJTxj\n",
       "GuVSAAAAAAAAACBACAQAAAAAAAAAAAFCIAAAAAAAAAAACBACAQAAAAAAAABAgBAIAAAAAAAAAAAC\n",
       "hEAAAAAAAAAAABAgBAIAAAAAAAAAgAAhEAAAAAAAAAAABAiBAAAAAAAAAAAgYNZa6+5FAADPMDPb\n",
       "nu1KAvBezmwAOMu7F+A5nNkAQJkvAgEAAAAAAAAAQIAQCAAAAAAAAAAAAoRAAAAAAAAAAAAQIAQC\n",
       "AAAAAAAAAIAAIRAAAAAAAAAAAAQIgQAAAAAAAAAAIEAIBAAAAAAAAAAAAUIgAAAAAAAAAAAIEAIB\n",
       "AAAAAAAAAECAEAgAAAAAAAAAAAKEQAAAAAAAAAAAECAEAgAAAAAAAACAACEQAAAAAAAAAAAECIEA\n",
       "AAAAAAAAACBACAQAAAAAAAAAAAFCIAAAAAAAAAAACBACAQAAAAAAAABAgBAIAAAAAAAAAAAChEAA\n",
       "AAAAAAAAABAgBAIAAAAAAAAAgAAhEAAAAAAAAAAABAiBAAAAAAAAAAAgQAgEAAAAAAAAAAABs9Za\n",
       "dy8CAHifmbl7CR/HdQf4VM7sK2c2ADt591559wKfypl95cwGAH7CF4EAAAAAAAAAACBACAQAAAAA\n",
       "AAAAAAFCIAAAAAAAAAAACBACAQAAAAAAAABAgBAIAAAAAAAAAAAChEAAAAAAAAAAABAgBAIAAAAA\n",
       "AAAAgAAhEAAAAAAAAAAABAiBAAAAAAAAAAAgQAgEAAAAAAAAAAABQiAAAAAAAAAAAAgQAgEAAAAA\n",
       "AAAAQIAQCAAAAAAAAAAAAoRAAAAAAAAAAAAQIAQCAAAAAAAAAIAAIRAAAAAAAAAAAAQIgQAAAAAA\n",
       "AAAAIEAIBAAAAAAAAAAAAUIgAAAAAAAAAAAI+L57AQDwF83MtmevtbY9+6nMG/itnefH15cz5BVn\n",
       "NgDeBWeZN/Bb/l46z5kNAPyELwIBAAAAAAAAAECAEAgAAAAAAAAAAAKEQAAAAAAAAAAAECAEAgAA\n",
       "AAAAAACAACEQAAAAAAAAAAAECIEAAAAAAAAAACBACAQAAAAAAAAAAAFCIAAAAAAAAAAACBACAQAA\n",
       "AAAAAABAgBAIAAAAAAAAAAAChEAAAAAAAAAAABAgBAIAAAAAAAAAgAAhEAAAAAAAAAAABAiBAAAA\n",
       "AAAAAAAgQAgEAAAAAAAAAAABQiAAAAAAAAAAAAgQAgEAAAAAAAAAQIAQCAAAAAAAAAAAAoRAAAAA\n",
       "AAAAAAAQIAQCAAAAAAAAAIAAIRAAAAAAAAAAAAQIgQAAAAAAAAAAIGDWWuvuRQDAJ5qZu5fwcXZe\n",
       "G8z7NVc1+D/nx2vO7LOc18Bf411w5d17nvcv/J/z4zVn9lnOawA4yxeBAAAAAAAAAAAgQAgEAAAA\n",
       "AAAAAAABQiAAAAAAAAAAAAgQAgEAAAAAAAAAQIAQCAAAAAAAAAAAAoRAAAAAAAAAAAAQIAQCAAAA\n",
       "AAAAAIAAIRAAAAAAAAAAAAQIgQAAAAAAAAAAIEAIBAAAAAAAAAAAAUIgAAAAAAAAAAAIEAIBAAAA\n",
       "AAAAAECAEAgAAAAAAAAAAAKEQAAAAAAAAAAAECAEAgAAAAAAAACAACEQAAAAAAAAAAAECIEAAAAA\n",
       "AAAAACBACAQAAAAAAAAAAAFCIAAAAAAAAAAACBACAQAAAAAAAABAgBAIAAAAAAAAAAAChEAAAAAA\n",
       "AAAAABAwa6119yIA4LdmZtuzvSL5BPY4FfYydfY48ImcTdTZ41TYy9TZ4wBwli8CAQAAAAAAAABA\n",
       "gBAIAAAAAAAAAAAChEAAAAAAAAAAABAgBAIAAAAAAAAAgAAhEAAAAAAAAAAABAiBAAAAAAAAAAAg\n",
       "QAgEAAAAAAAAAAABQiAAAAAAAAAAAAgQAgEAAAAAAAAAQIAQCAAAAAAAAAAAAoRAAAAAAAAAAAAQ\n",
       "IAQCAAAAAAAAAIAAIRAAAAAAAAAAAAQIgQAAAAAAAAAAIEAIBAAAAAAAAAAAAUIgAAAAAAAAAAAI\n",
       "EAIBAAAAAAAAAECAEAgAAAAAAAAAAAKEQAAAAAAAAAAAECAEAgAAAAAAAACAACEQAAAAAAAAAAAE\n",
       "CIEAAAAAAAAAACBg1lrr7kUA0DYzdy/h43j9dtjfr9njz2Q/X9nLLfb4lT0O93M2XTmbOuzv1+zx\n",
       "Z7Kfr+zlFnv8yh4H4Kl8EQgAAAAAAAAAAAKEQAAAAAAAAAAAECAEAgAAAAAAAACAACEQAAAAAAAA\n",
       "AAAECIEAAAAAAAAAACBACAQAAAAAAAAAAAFCIAAAAAAAAAAACBACAQAAAAAAAABAgBAIAAAAAAAA\n",
       "AAAChEAAAAAAAAAAABAgBAIAAAAAAAAAgAAhEAAAAAAAAAAABAiBAAAAAAAAAAAgQAgEAAAAAAAA\n",
       "AAABQiAAAAAAAAAAAAgQAgEAAAAAAAAAQIAQCAAAAAAAAAAAAoRAAAAAAAAAAAAQIAQCAAAAAAAA\n",
       "AIAAIRAAAAAAAAAAAAQIgQAAAAAAAAAAIEAIBAAAAAAAAAAAAUIgAAAAAAAAAAAI+L57AQB8hpnZ\n",
       "9uy11rZnP5V5n2Xe55n5We+at9le7dzLX19m/orz4yzzhp/xu3KWeZ9l3ueZ+T5me5a/l86zx88y\n",
       "bwCeyheBAAAAAAAAAAAgQAgEAAAAAAAAAAABQiAAAAAAAAAAAAgQAgEAAAAAAAAAQIAQCAAAAAAA\n",
       "AAAAAoRAAAAAAAAAAAAQIAQCAAAAAAAAAIAAIRAAAAAAAAAAAAQIgQAAAAAAAAAAIEAIBAAAAAAA\n",
       "AAAAAUIgAAAAAAAAAAAIEAIBAAAAAAAAAECAEAgAAAAAAAAAAAKEQAAAAAAAAAAAECAEAgAAAAAA\n",
       "AACAACEQAAAAAAAAAAAECIEAAAAAAAAAACBACAQAAAAAAAAAAAFCIAAAAAAAAAAACJi11rp7EQD8\n",
       "zszcvYTb7XyNme+VeZ9n5meZ9z5me56Zn2XeZ/lXBq/4XblyNp1l3ueZ+T5me5Z5n2fmZ5n3Wf5e\n",
       "AsAXgQAAAAAAAAAAIEAIBAAAAAAAAAAAAUIgAAAAAAAAAAAIEAIBAAAAAAAAAECAEAgAAAAAAAAA\n",
       "AAKEQAAAAAAAAAAAECAEAgAAAAAAAACAACEQAAAAAAAAAAAECIEAAAAAAAAAACBACAQAAAAAAAAA\n",
       "AAFCIAAAAAAAAAAACBACAQAAAAAAAABAgBAIAAAAAAAAAAAChEAAAAAAAAAAABAgBAIAAAAAAAAA\n",
       "gAAhEAAAAAAAAAAABAiBAAAAAAAAAAAgQAgEAAAAAAAAAAABQiAAAAAAAAAAAAgQAgEAAAAAAAAA\n",
       "QIAQCAAAAAAAAAAAAoRAAAAAAAAAAAAQMGutdfciAMpmZtuzHeEAAPxF7tjP5WcHAAB7vfPO7Y4N\n",
       "8Ey+CAQAAAAAAAAAAAFCIAAAAAAAAAAACBACAQAAAAAAAABAgBAIAAAAAAAAAAAChEAAAAAAAAAA\n",
       "ABAgBAIAAAAAAAAAgAAhEAAAAAAAAAAABAiBAAAAAAAAAAAgQAgEAAAAAAAAAAABQiAAAAAAAAAA\n",
       "AAgQAgEAAAAAAAAAQIAQCAAAAAAAAAAAAoRAAAAAAAAAAAAQIAQCAAAAAAAAAIAAIRAAAAAAAAAA\n",
       "AAQIgQAAAAAAAAAAIEAIBAAAAAAAAAAAAUIgAAAAAAAAAAAIEAIBAAAAAAAAAECAEAgAAAAAAAAA\n",
       "AAKEQAAAAAAAAAAAECAEAgAAAAAAAACAgFlrrbsXAXC3mbl7CbfzOgAA4J3csa+ecuf2s7t6ys8O\n",
       "AIBncOd2xwbYyReBAAAAAAAAAAAgQAgEAAAAAAAAAAABQiAAAAAAAAAAAAgQAgEAAAAAAAAAQIAQ\n",
       "CAAAAAAAAAAAAoRAAAAAAAAAAAAQIAQCAAAAAAAAAIAAIRAAAAAAAAAAAAQIgQAAAAAAAAAAIEAI\n",
       "BAAAAAAAAAAAAUIgAAAAAAAAAAAIEAIBAAAAAAAAAECAEAgAAAAAAAAAAAKEQAAAAAAAAAAAECAE\n",
       "AgAAAAAAAACAACEQAAAAAAAAAAAECIEAAAAAAAAAACBACAQAAAAAAAAAAAFCIAAAAAAAAAAACBAC\n",
       "AQAAAAAAAABAgBAIAAAAAAAAAAAChEAAAAAAAAAAABDwffcCAH5qZrY9e6217dlPYb4AAH+PO+BZ\n",
       "O+f9Tn52V35XAAD+HnfAvcwXYB9fBAIAAAAAAAAAgAAhEAAAAAAAAAAABAiBAAAAAAAAAAAgQAgE\n",
       "AAAAAAAAAAABQiAAAAAAAAAAAAgQAgEAAAAAAAAAQIAQCAAAAAAAAAAAAoRAAAAAAAAAAAAQIAQC\n",
       "AAAAAAAAAIAAIRAAAAAAAAAAAAQIgQAAAAAAAAAAIEAIBAAAAAAAAAAAAUIgAAAAAAAAAAAIEAIB\n",
       "AAAAAAAAAECAEAgAAAAAAAAAAAKEQAAAAAAAAAAAECAEAgAAAAAAAACAACEQAAAAAAAAAAAECIEA\n",
       "AAAAAAAAACBACAQAAAAAAAAAAAFCIAAAAAAAAAAACBACAQAAAAAAAABAwD8+0eeTBg10aAAAAABJ\n",
       "RU5ErkJggg==\n",
       "\" transform=\"translate(47, 235)\"/>\n",
       "</g>\n",
       "</svg>\n"
      ]
     },
     "execution_count": 35,
     "metadata": {},
     "output_type": "execute_result"
    }
   ],
   "source": [
    "p, _ = run(rules = rule22, gridsize=101, nsteps = 50)\n",
    "p"
   ]
  },
  {
   "cell_type": "code",
   "execution_count": null,
   "metadata": {
    "nbpresent": {
     "id": "90a8f86c-30e2-4459-a621-27e9b8a46e1b"
    }
   },
   "outputs": [],
   "source": []
  },
  {
   "cell_type": "code",
   "execution_count": null,
   "metadata": {
    "nbpresent": {
     "id": "65fc80f1-0db7-4916-baec-971eb591c557"
    }
   },
   "outputs": [],
   "source": []
  }
 ],
 "metadata": {
  "celltoolbar": "Slideshow",
  "kernelspec": {
   "display_name": "Julia 1.7.2",
   "language": "julia",
   "name": "julia-1.7"
  },
  "language_info": {
   "file_extension": ".jl",
   "mimetype": "application/julia",
   "name": "julia",
   "version": "1.7.2"
  }
 },
 "nbformat": 4,
 "nbformat_minor": 2
}

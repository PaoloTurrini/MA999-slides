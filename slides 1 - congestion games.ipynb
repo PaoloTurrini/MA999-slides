{
 "cells": [
  {
   "cell_type": "code",
   "execution_count": 1,
   "metadata": {
    "slideshow": {
     "slide_type": "skip"
    }
   },
   "outputs": [
    {
     "name": "stderr",
     "output_type": "stream",
     "text": [
      "\u001b[32m\u001b[1m Activating\u001b[22m\u001b[39m environment at `~/GitHub/MathSys/teaching/MA999/MA999-slides/Project.toml`\n"
     ]
    }
   ],
   "source": [
    "using Pkg\n",
    "Pkg.activate(\".\")"
   ]
  },
  {
   "cell_type": "code",
   "execution_count": 2,
   "metadata": {
    "slideshow": {
     "slide_type": "skip"
    }
   },
   "outputs": [],
   "source": [
    "using Revise\n",
    "using Agents\n",
    "using Plots\n",
    "using LightGraphs\n",
    "using GraphPlot, Compose\n",
    "using Statistics\n",
    "using DataFrames"
   ]
  },
  {
   "cell_type": "markdown",
   "metadata": {
    "nbpresent": {
     "id": "645119a8-e06f-49fe-afef-aeb582bec315"
    },
    "slideshow": {
     "slide_type": "slide"
    }
   },
   "source": [
    "# MA999 - Agent based modelling\n",
    "\n",
    "## MathSys CDT 2021\n",
    "\n",
    "### Lecturer: Colm Connaughton"
   ]
  },
  {
   "cell_type": "markdown",
   "metadata": {
    "nbpresent": {
     "id": "ee4a50a9-8c7a-4a04-8f5d-7936fa4915d7"
    },
    "slideshow": {
     "slide_type": "slide"
    }
   },
   "source": [
    "## Summary\n",
    "\n",
    "* What is agent-based modelling?\n",
    "* Example 1: one-dimensional cellular automata\n",
    "* Agents.jl - Agent-based modelling in Julia\n",
    "* Example 2: Traffic flow and congestion games\n",
    "* Mathematical analysis of congestion games: Braess' paradox and the price of anarchy\n",
    "* Example 3: Gaia hypothesis: planetary homeostasis in the Daisyworld model\n",
    "* Mathematical analysis of the mean field Daisyworld model"
   ]
  },
  {
   "cell_type": "markdown",
   "metadata": {
    "nbpresent": {
     "id": "bdddb761-088a-42b2-8b20-f600e76ade27"
    },
    "slideshow": {
     "slide_type": "slide"
    }
   },
   "source": [
    "## What is agent based modelling?\n",
    "* An ABM is a model built from multiple autonomous agents that react to their environment (including the other agents) using a predefined set of rules.\n",
    "* The environment can, in turn, be altered by the actions of the agents.\n",
    "### Advantages\n",
    "* Massive flexibility - many of the assumptions of \"mathematical\" models can be relaxed.\n",
    "* Easy to simulate and visualise.\n",
    "* Can handle heterogeneity in a natural way - not all agents need to be identical.\n",
    "* Often the only option for studying complex adaptive systems."
   ]
  },
  {
   "cell_type": "markdown",
   "metadata": {
    "nbpresent": {
     "id": "bdddb761-088a-42b2-8b20-f600e76ade27"
    },
    "slideshow": {
     "slide_type": "slide"
    }
   },
   "source": [
    "### Disadvantages\n",
    "* Potentially large number of parameters and rather under-developed theory for model selection.\n",
    "* Temptation to favour model \"fidelity\" over parsimony can lead to inappropriate predictive use.\n",
    "* Can become computationally expensive.\n",
    "* Complex ABMs are difficult to understand."
   ]
  },
  {
   "cell_type": "markdown",
   "metadata": {
    "nbpresent": {
     "id": "7317a812-d066-4166-af2f-9de07a7f42bc"
    },
    "slideshow": {
     "slide_type": "slide"
    }
   },
   "source": [
    "##  Example 1: one-dimensional cellular automata\n",
    "\n",
    "* \"Agents\" are nodes on a one-dimensional grid: $G = \\{v1, v2, \\ldots v_N\\}$.\n",
    "* Each agent has a single \"state\" attribute,$x_i$, taking values 0 or 1.\n",
    "* Time proceeds in discrete steps.\n",
    "* At each step, agents update states based on neighbouring states.\n",
    "* Such a model is specified by:\n",
    "    * initial state, $X(0) = \\{x_1(0), x_2(0), \\ldots x_N(0)\\}$.\n",
    "    * an update rule that maps the current states of an agent and its neighbours to the new state:\n",
    "    $$S : (x_{i-1},\\, x_i,\\, x_{i+1}) \\to x_i$$\n",
    "    "
   ]
  },
  {
   "cell_type": "markdown",
   "metadata": {
    "nbpresent": {
     "id": "7317a812-d066-4166-af2f-9de07a7f42bc"
    },
    "slideshow": {
     "slide_type": "slide"
    }
   },
   "source": [
    "##  Example 1: one-dimensional cellular automata\n",
    "\n",
    "$$S : (x_{i-1},\\, x_i,\\, x_{i+1}) \\to x_i$$\n",
    "\n",
    "* How many such rules are there?\n",
    "    * a rule must specify an output bit for $2^3 = 8$ possible input configurations of 3 bits.\n",
    "    * hence there are $2^8 = 256$ rules. "
   ]
  },
  {
   "cell_type": "markdown",
   "metadata": {
    "nbpresent": {
     "id": "803b0866-1d88-4f43-bda4-97ec3c766cc6"
    },
    "slideshow": {
     "slide_type": "slide"
    }
   },
   "source": [
    "## Naming one-dimensional CA : the Wolfram code\n",
    "\n",
    "Stephen Wolfram devised what is now the standard rule for naming 1D CA. Each rule is assigned a number between 0 and 255.\n",
    "\n",
    "* Write each of the possible configurations in order and its corresponding output value as follows:\n",
    "\n",
    "|Input | 111 | 110 | 101 | 100 | 011 | 010 | 001| 000 |\n",
    "| - | - | - | - | - | - | - | - | - |\n",
    "|Output | 0 | 1 | 1 | 0 | 1 | 1 | 1 | 0 |\n",
    "\n",
    "* Interpret the output row as a binary integer to give the rule number."
   ]
  },
  {
   "cell_type": "markdown",
   "metadata": {
    "nbpresent": {
     "id": "803b0866-1d88-4f43-bda4-97ec3c766cc6"
    },
    "slideshow": {
     "slide_type": "slide"
    }
   },
   "source": [
    "## Naming one-dimensional CA : the Wolfram code\n",
    "\n",
    "|Input | 111 | 110 | 101 | 100 | 011 | 010 | 001| 000 |\n",
    "| - | - | - | - | - | - | - | - | - |\n",
    "|Output | 0 | 1 | 1 | 0 | 1 | 1 | 1 | 0 |\n",
    "\n",
    "The above rule is $0 \\times 128 + 1\\times 64 + 1\\times 32 + 0\\times 16 + 1\\times 8 +1\\times 4 + 1 \\times 2 + 0\\times 1 = 110$. \n",
    "\n",
    "Let's simulate rule 110 in Julia to see what the evolution looks like."
   ]
  },
  {
   "cell_type": "markdown",
   "metadata": {
    "nbpresent": {
     "id": "2b3fb7c1-51f1-4a83-a6d8-2a9643612703"
    },
    "slideshow": {
     "slide_type": "slide"
    }
   },
   "source": [
    "## Simulation of 1D CA in Julia\n",
    "\n",
    "The Julia package Agents.jl provides a framework for simulating ABMs. I have written a custom module called ```CA1D``` that uses Agents.jl to simulate 1D CA. Let's first play around with it. Then we will look at how the code works. First load the module:"
   ]
  },
  {
   "cell_type": "code",
   "execution_count": 10,
   "metadata": {
    "nbpresent": {
     "id": "f3a7e71d-0117-48ea-add6-312ab7ef2d3e"
    },
    "slideshow": {
     "slide_type": "-"
    }
   },
   "outputs": [
    {
     "name": "stderr",
     "output_type": "stream",
     "text": [
      "WARNING: replacing module CA1D.\n"
     ]
    },
    {
     "data": {
      "text/plain": [
       "Main.CA1D"
      ]
     },
     "execution_count": 10,
     "metadata": {},
     "output_type": "execute_result"
    }
   ],
   "source": [
    "include(\"code/CA1D.jl\")"
   ]
  },
  {
   "cell_type": "markdown",
   "metadata": {
    "nbpresent": {
     "id": "9a7aa806-6785-41ce-9ef3-d9a0bdb13671"
    }
   },
   "source": [
    "### Step 1 : define the update rule for an agent\n",
    "\n",
    "Agents.jl uses dictionaries a lot so learn how they work: "
   ]
  },
  {
   "cell_type": "code",
   "execution_count": 11,
   "metadata": {
    "nbpresent": {
     "id": "ab1e565b-b1df-4a28-a169-ce2501155143"
    },
    "slideshow": {
     "slide_type": "slide"
    }
   },
   "outputs": [
    {
     "data": {
      "text/plain": [
       "Dict{String,Int64} with 8 entries:\n",
       "  \"000\" => 0\n",
       "  \"111\" => 0\n",
       "  \"001\" => 1\n",
       "  \"011\" => 0\n",
       "  \"101\" => 0\n",
       "  \"110\" => 0\n",
       "  \"010\" => 1\n",
       "  \"100\" => 1"
      ]
     },
     "execution_count": 11,
     "metadata": {},
     "output_type": "execute_result"
    }
   ],
   "source": [
    "rule110 = Dict(\"111\"=>0, \"110\"=>1, \"101\"=>1, \"100\"=>0, \"011\"=>1,\n",
    "            \"010\"=>1, \"001\"=>1, \"000\"=>0)\n",
    "\n",
    "rule22 = Dict(\"111\"=>0, \"110\"=>0, \"101\"=>0, \"100\"=>1, \"011\"=>0,\n",
    "            \"010\"=>1, \"001\"=>1, \"000\"=>0)"
   ]
  },
  {
   "cell_type": "markdown",
   "metadata": {
    "nbpresent": {
     "id": "0c7e3d8f-5784-4aa9-84c4-cda08cd1cd00"
    },
    "slideshow": {
     "slide_type": "slide"
    }
   },
   "source": [
    "### Step 2 : build and initialise the model\n",
    "\n",
    "Building involves several sub-steps:\n",
    "\n",
    "* Define the spatial grid - in this case just a 1D grid.\n",
    "* Pass any additional model parameters to the model - none here\n",
    "* Add the agents to the model - trivial here since the agents and the grid are the same.\n",
    "* Initialise the parameters of the model - here we set the middle agent to be active"
   ]
  },
  {
   "cell_type": "code",
   "execution_count": 12,
   "metadata": {
    "nbpresent": {
     "id": "53ad7d8c-a814-40c5-adec-f0b25fa14947"
    },
    "slideshow": {
     "slide_type": "slide"
    }
   },
   "outputs": [
    {
     "data": {
      "text/plain": [
       "AgentBasedModel with 101 agents of type CA1DAgent\n",
       " space: GridSpace with size (101,), metric=euclidean and periodic=true\n",
       " scheduler: fastest\n",
       " properties: Dict(:rules => Dict(\"000\" => 0,\"111\" => 0,\"001\" => 1,\"011\" => 1,\"101\" => 1,\"110\" => 1,\"010\" => 1,\"100\" => 0))"
      ]
     },
     "execution_count": 12,
     "metadata": {},
     "output_type": "execute_result"
    }
   ],
   "source": [
    "n = 101\n",
    "model = CA1D.initialise(;rules = rule110, gridsize = n, initial_condition=\"singleton\")"
   ]
  },
  {
   "cell_type": "markdown",
   "metadata": {
    "nbpresent": {
     "id": "3965bff0-902e-47e3-8d7b-0f5fdb948512"
    },
    "slideshow": {
     "slide_type": "slide"
    }
   },
   "source": [
    "### Step 3 : run the model and gather some data\n",
    "\n",
    "* We just need to specify the number of steps and let Agents.jl take care of the rest.\n",
    "* We do a number of runs half the size of the grid.\n",
    "* Data is returned from the simulation in a dataframe object : https://juliadata.github.io/DataFrames.jl/stable/"
   ]
  },
  {
   "cell_type": "code",
   "execution_count": 20,
   "metadata": {
    "nbpresent": {
     "id": "00c85f07-4207-4731-8d37-46e909d4505b"
    },
    "slideshow": {
     "slide_type": "slide"
    }
   },
   "outputs": [
    {
     "data": {
      "text/plain": [
       "(Plot{Plots.GRBackend() n=1}, [0 0 … 0 1; 1 0 … 1 1; … ; 1 1 … 1 0; 0 0 … 0 0])"
      ]
     },
     "execution_count": 20,
     "metadata": {},
     "output_type": "execute_result"
    }
   ],
   "source": [
    "steps = round(Int64, n)\n",
    "p, data = CA1D.run(;rules = rule22, gridsize = n, initial_condition=\"singleton\", nsteps=steps, update=\"synchronous\")"
   ]
  },
  {
   "cell_type": "code",
   "execution_count": null,
   "metadata": {},
   "outputs": [],
   "source": []
  },
  {
   "cell_type": "markdown",
   "metadata": {
    "cell_style": "split",
    "nbpresent": {
     "id": "aff3b643-7412-480c-8bfa-cc7bdbfa4a94"
    },
    "slideshow": {
     "slide_type": "slide"
    }
   },
   "source": [
    "### Step 4 : analyse the data\n",
    "\n",
    "* Here we just visualise the output by plotting the array of zeros and ones at consecutive steps."
   ]
  },
  {
   "cell_type": "code",
   "execution_count": 21,
   "metadata": {
    "cell_style": "split",
    "nbpresent": {
     "id": "d1fecfec-1a1f-48fa-ac51-9e9f2ece8254"
    }
   },
   "outputs": [
    {
     "data": {
      "image/svg+xml": [
       "<?xml version=\"1.0\" encoding=\"utf-8\"?>\n",
       "<svg xmlns=\"http://www.w3.org/2000/svg\" xmlns:xlink=\"http://www.w3.org/1999/xlink\" width=\"600\" height=\"400\" viewBox=\"0 0 2400 1600\">\n",
       "<defs>\n",
       "  <clipPath id=\"clip340\">\n",
       "    <rect x=\"0\" y=\"0\" width=\"2400\" height=\"1600\"/>\n",
       "  </clipPath>\n",
       "</defs>\n",
       "<path clip-path=\"url(#clip340)\" d=\"\n",
       "M0 1600 L2400 1600 L2400 0 L0 0  Z\n",
       "  \" fill=\"#ffffff\" fill-rule=\"evenodd\" fill-opacity=\"1\"/>\n",
       "<defs>\n",
       "  <clipPath id=\"clip341\">\n",
       "    <rect x=\"480\" y=\"0\" width=\"1681\" height=\"1600\"/>\n",
       "  </clipPath>\n",
       "</defs>\n",
       "<path clip-path=\"url(#clip340)\" d=\"\n",
       "M86.9921 1521.01 L2352.76 1521.01 L2352.76 47.2441 L86.9921 47.2441  Z\n",
       "  \" fill=\"#ffffff\" fill-rule=\"evenodd\" fill-opacity=\"1\"/>\n",
       "<defs>\n",
       "  <clipPath id=\"clip342\">\n",
       "    <rect x=\"86\" y=\"47\" width=\"2267\" height=\"1475\"/>\n",
       "  </clipPath>\n",
       "</defs>\n",
       "<g clip-path=\"url(#clip342)\">\n",
       "<image width=\"1445\" height=\"1459\" xlink:href=\"data:image/png;base64,\n",
       "iVBORw0KGgoAAAANSUhEUgAABaUAAAWzCAYAAADLy1+5AAAgAElEQVR4nOzaQW7jsJZAUbKR/W+Z\n",
       "PWh8IL+rKoll58qUzpkL4QstS77gXGutAQAAAAAAD5hzHrruf168DgAAAAAA+CdRGgAAAACAjCgN\n",
       "AAAAAEBGlAYAAAAAICNKAwAAAACQEaUBAAAAAMiI0gAAAAAAZERpAAAAAAAyojQAAAAAABlRGgAA\n",
       "AACAjCgNAAAAAEBGlAYAAAAAICNKAwAAAACQEaUBAAAAAMjMMcY6evFahy8FAAAAAOANzDnTv+ek\n",
       "NAAAAAAAGVEaAAAAAICMKA0AAAAAQEaUBgAAAAAgI0oDAAAAAJARpQEAAAAAyIjSAAAAAABkRGkA\n",
       "AAAAADKiNAAAAAAAGVEaAAAAAICMKA0AAAAAQEaUBgAAAAAgI0oDAAAAAJARpQEAAAAAyHystQ5f\n",
       "POc8dN0zfxMAAAAAgP92tNWO0fdaJ6UBAAAAAMiI0gAAAAAAZERpAAAAAAAyojQAAAAAABlRGgAA\n",
       "AACAjCgNAAAAAEBGlAYAAAAAICNKAwAAAACQEaUBAAAAAMiI0gAAAAAAZERpAAAAAAAyojQAAAAA\n",
       "ABlRGgAAAACAzBxjrLMX8Yi1tlouAAAAAMCPzTnPXsKPHW21TkoDAAAAAJARpQEAAAAAyIjSAAAA\n",
       "AABkRGkAAAAAADKiNAAAAAAAGVEaAAAAAICMKA0AAAAAQEaUBgAAAAAgI0oDAAAAAJARpQEAAAAA\n",
       "yIjSAAAAAABkRGkAAAAAADKiNAAAAAAAGVEaAAAAAIDMx1rr7DU8ZM556Lrd5gQAAAAA9nS0YY5x\n",
       "j47ppDQAAAAAABlRGgAAAACAjCgNAAAAAEBGlAYAAAAAICNKAwAAAACQEaUBAAAAAMiI0gAAAAAA\n",
       "ZERpAAAAAAAyojQAAAAAABlRGgAAAACAjCgNAAAAAEBGlAYAAAAAICNKAwAAAACQmWutlf/ROes/\n",
       "+ZQT/kUAAAAAwMl26pg7NUwnpQEAAAAAyIjSAAAAAABkRGkAAAAAADKiNAAAAAAAGVEaAAAAAICM\n",
       "KA0AAAAAQEaUBgAAAAAgI0oDAAAAAJARpQEAAAAAyIjSAAAAAABkRGkAAAAAADKiNAAAAAAAGVEa\n",
       "AAAAAICMKA0AAAAAQObjmYvnnIeuW2s982dzd5kTAAAAAK7maNsbY6++t9OcTkoDAAAAAJARpQEA\n",
       "AAAAyIjSAAAAAABkRGkAAAAAADKiNAAAAAAAGVEaAAAAAICMKA0AAAAAQEaUBgAAAAAgI0oDAAAA\n",
       "AJARpQEAAAAAyIjSAAAAAABkRGkAAAAAADKiNAAAAAAAGVEaAAAAAIDMHGOssxfxiLWOLXfO+eKV\n",
       "/K6jcwIAAADAFe3U955pe3eY00lpAAAAAAAyojQAAAAAABlRGgAAAACAjCgNAAAAAEBGlAYAAAAA\n",
       "ICNKAwAAAACQEaUBAAAAAMiI0gAAAAAAZERpAAAAAAAyojQAAAAAABlRGgAAAACAjCgNAAAAAEBG\n",
       "lAYAAAAAIDPXWuvsRfCnOeeh62wnAAAAAO/qaPMaQ/e6EielAQAAAADIiNIAAAAAAGREaQAAAAAA\n",
       "MqI0AAAAAAAZURoAAAAAgIwoDQAAAABARpQGAAAAACAjSgMAAAAAkBGlAQAAAADIiNIAAAAAAGRE\n",
       "aQAAAAAAMqI0AAAAAAAZURoAAAAAgIwoDQAAAABAZq611tmLuKo559lLeIiPAgAAAAA/sVP30rze\n",
       "j5PSAAAAAABkRGkAAAAAADKiNAAAAAAAGVEaAAAAAICMKA0AAAAAQEaUBgAAAAAgI0oDAAAAAJAR\n",
       "pQEAAAAAyIjSAAAAAABkRGkAAAAAADIfZy9gB3POQ9ettV68kt91lzkBAAAA+D936EFHZxxjrzl3\n",
       "4qQ0AAAAAAAZURoAAAAAgIwoDQAAAABARpQGAAAAACAjSgMAAAAAkBGlAQAAAADIiNIAAAAAAGRE\n",
       "aQAAAAAAMqI0AAAAAAAZURoAAAAAgIwoDQAAAABARpQGAAAAACAjSgMAAAAAkBGlAQAAAADIzLXW\n",
       "OnsRhTnn2Ut4yNFt2WnOm3z0AAAAAH7VXXrQXea8AyelAQAAAADIiNIAAAAAAGREaQAAAAAAMqI0\n",
       "AAAAAAAZURoAAAAAgIwoDQAAAABARpQGAAAAACAjSgMAAAAAkBGlAQAAAADIiNIAAAAAAGREaQAA\n",
       "AAAAMqI0AAAAAAAZURoAAAAAgIwoDQAAAABAZq611tmLeMSc89B1m415C0f3cgz7CQAAAFyP7nUd\n",
       "utfXnJQGAAAAACAjSgMAAAAAkBGlAQAAAADIiNIAAAAAAGREaQAAAAAAMqI0AAAAAAAZURoAAAAA\n",
       "gIwoDQAAAABARpQGAAAAACAjSgMAAAAAkBGlAQAAAADIiNIAAAAAAGREaQAAAAAAMnOttfI/Omf9\n",
       "J59ywr9oKzvtp70EAAAAftNOnWQMreQ7O+3nTnvppDQAAAAAABlRGgAAAACAjCgNAAAAAEBGlAYA\n",
       "AAAAICNKAwAAAACQEaUBAAAAAMiI0gAAAAAAZERpAAAAAAAyojQAAAAAABlRGgAAAACAjCgNAAAA\n",
       "AEBGlAYAAAAAICNKAwAAAACQEaUBAAAAAMh8PHPxnPPQdWutZ/5szpxf22nOozOOsdecAAAAwHPu\n",
       "0EnGuMecd+lBO83ppDQAAAAAABlRGgAAAACAjCgNAAAAAEBGlAYAAAAAICNKAwAAAACQEaUBAAAA\n",
       "AMiI0gAAAAAAZERpAAAAAAAyojQAAAAAABlRGgAAAACAjCgNAAAAAEBGlAYAAAAAICNKAwAAAACQ\n",
       "mWOMdfYiHrHWseXOOV+8kt91hzmPzjjGfeYEAAAAjtupH4yhB33HnO/n6JxOSgMAAAAAkBGlAQAA\n",
       "AADIiNIAAAAAAGREaQAAAAAAMqI0AAAAAAAZURoAAAAAgIwoDQAAAABARpQGAAAAACAjSgMAAAAA\n",
       "kBGlAQAAAADIiNIAAAAAAGREaQAAAAAAMqI0AAAAAAAZURoAAAAAgMxca62zFwFXNuc8fK3bEwAA\n",
       "AP7bI7+z/a6G9+SkNAAAAAAAGVEaAAAAAICMKA0AAAAAQEaUBgAAAAAgI0oDAAAAAJARpQEAAAAA\n",
       "yIjSAAAAAABkRGkAAAAAADKiNAAAAAAAGVEaAAAAAICMKA0AAAAAQEaUBgAAAAAgI0oDAAAAAJAR\n",
       "pQEAAAAAyMy11jp7EbCDOefZS/iSWxkAAIBdvPtv7DH8zobf5KQ0AAAAAAAZURoAAAAAgIwoDQAA\n",
       "AABARpQGAAAAACAjSgMAAAAAkBGlAQAAAADIiNIAAAAAAGREaQAAAAAAMqI0AAAAAAAZURoAAAAA\n",
       "gIwoDQAAAABARpQGAAAAACAjSgMAAAAAkPk4ewFQmnMevnat9cKVvN6VZwMAAOA9Hf0tusPv0CvP\n",
       "BmdzUhoAAAAAgIwoDQAAAABARpQGAAAAACAjSgMAAAAAkBGlAQAAAADIiNIAAAAAAGREaQAAAAAA\n",
       "MqI0AAAAAAAZURoAAAAAgIwoDQAAAABARpQGAAAAACAz11rr7EXAo+acZy/hx565xd59Tl8fAAAA\n",
       "+3v3357/3yO/Ra88G+zMSWkAAAAAADKiNAAAAAAAGVEaAAAAAICMKA0AAAAAQEaUBgAAAAAgI0oD\n",
       "AAAAAJARpQEAAAAAyIjSAAAAAABkRGkAAAAAADKiNAAAAAAAGVEaAAAAAICMKA0AAAAAQEaUBgAA\n",
       "AAAgM9da6+xFcE9zzsPX+ti+B3sIAADwPo7+RvP77H3YQ+7CSWkAAAAAADKiNAAAAAAAGVEaAAAA\n",
       "AICMKA0AAAAAQEaUBgAAAAAgI0oDAAAAAJARpQEAAAAAyIjSAAAAAABkRGkAAAAAADKiNAAAAAAA\n",
       "GVEaAAAAAICMKA0AAAAAQEaUBgAAAAAgI0oDAAAAAJCZa6119iLY25zz7CX8mI/739lDAACA97DT\n",
       "77Mx/Eb7G3sI33NSGgAAAACAjCgNAAAAAEBGlAYAAAAAICNKAwAAAACQEaUBAAAAAMiI0gAAAAAA\n",
       "ZERpAAAAAAAyojQAAAAAABlRGgAAAACAjCgNAAAAAEBGlAYAAAAAICNKAwAAAACQEaUBAAAAAMiI\n",
       "0gAAAAAAZD7OXgDvY8556Lq11otX8nuOzjjG+8955dk+u8ucAADA3u7wG3uMa8955dk+u8ucvBcn\n",
       "pQEAAAAAyIjSAAAAAABkRGkAAAAAADKiNAAAAAAAGVEaAAAAAICMKA0AAAAAQEaUBgAAAAAgI0oD\n",
       "AAAAAJARpQEAAAAAyIjSAAAAAABkRGkAAAAAADKiNAAAAAAAGVEaAAAAAIDMXGutsxfB68w5z17C\n",
       "jz3z0TPne7jybJ/5mgQAgPu6w2+XnWYc47E5rzzbZzvN6Tc2YzgpDQAAAABASJQGAAAAACAjSgMA\n",
       "AAAAkBGlAQAAAADIiNIAAAAAAGREaQAAAAAAMqI0AAAAAAAZURoAAAAAgIwoDQAAAABARpQGAAAA\n",
       "ACAjSgMAAAAAkBGlAQAAAADIiNIAAAAAAGREaQAAAAAAMnOttc5eBH+acx66znbC67kfAQBgb0ff\n",
       "6cfwXg+v5n5kDCelAQAAAAAIidIAAAAAAGREaQAAAAAAMqI0AAAAAAAZURoAAAAAgIwoDQAAAABA\n",
       "RpQGAAAAACAjSgMAAAAAkBGlAQAAAADIiNIAAAAAAGREaQAAAAAAMqI0AAAAAAAZURoAAAAAgMxc\n",
       "a62zF3FVc86zl/AQHwWubqd70v0IAAB/8k4P78P9yDOclAYAAAAAICNKAwAAAACQEaUBAAAAAMiI\n",
       "0gAAAAAAZERpAAAAAAAyojQAAAAAABlRGgAAAACAjCgNAAAAAEBGlAYAAAAAICNKAwAAAACQEaUB\n",
       "AAAAAMiI0gAAAAAAZERpAAAAAAAyojQAAAAAAJmPsxewgznnoevWWi9eye+6y5zs7ejndIy9Pqvu\n",
       "RwAArso7/dd2mpFruMNn9S7fOztxUhoAAAAAgIwoDQAAAABARpQGAAAAACAjSgMAAAAAkBGlAQAA\n",
       "AADIiNIAAAAAAGREaQAAAAAAMqI0AAAAAAAZURoAAAAAgIwoDQAAAABARpQGAAAAACAjSgMAAAAA\n",
       "kBGlAQAAAADIiNIAAAAAAGTmWmudvYjCnPPsJTzk6LbsNOdNPnr8wx0+qzvNOIZ7EgCAx+z0vvvM\n",
       "u+5d5mRvd/mc3mXOO3BSGgAAAACAjCgNAAAAAEBGlAYAAAAAICNKAwAAAACQEaUBAAAAAMiI0gAA\n",
       "AAAAZERpAAAAAAAyojQAAAAAABlRGgAAAACAjCgNAAAAAEBmrrXW2Yt4xJzz0HWbjXkLR/dyDPv5\n",
       "Luzhtfh+BQC4H+/01+Kdfn/28Dp8v37NSWkAAAAAADKiNAAAAAAAGVEaAAAAAICMKA0AAAAAQEaU\n",
       "BgAAAAAgI0oDAAAAAJARpQEAAAAAyIjSAAAAAABkRGkAAAAAADKiNAAAAAAAGVEaAAAAAICMKA0A\n",
       "AAAAQEaUBgAAAAAgI0oDAAAAAJCZa62V/9E56z/5lBP+RVvZaT/t5d/Zw+vYaS/HsJ8AAK+y03ug\n",
       "d8Cv7bSXY9jPv7GH17LTfu60l05KAwAAAACQEaUBAAAAAMiI0gAAAAAAZERpAAAAAAAyojQAAAAA\n",
       "ABlRGgAAAACAjCgNAAAAAEBGlAYAAAAAICNKAwAAAACQEaUBAAAAAMiI0gAAAAAAZERpAAAAAAAy\n",
       "ojQAAAAAAJmPZy6ecx66bq31zJ/NmfNrO815dMYx3n/OK8/2mTm/ttOMY9xnTgCAn/Cu+707zLnT\n",
       "jGNce84rz/bZHeb0vfO9ek4npQEAAAAAyIjSAAAAAABkRGkAAAAAADKiNAAAAAAAGVEaAAAAAICM\n",
       "KA0AAAAAQEaUBgAAAAAgI0oDAAAAAJARpQEAAAAAyIjSAAAAAABkRGkAAAAAADKiNAAAAAAAGVEa\n",
       "AAAAAICMKA0AAAAAQGaOMdbZi3jEWseWO+d88Up+1x3mPDrjGOZ8F1ee7bM73I9jmBMA4FV2ej/y\n",
       "Tv+9O8y504xjPDbnlWf7bKc53Y/fu8OcTkoDAAAAAJARpQEAAAAAyIjSAAAAAABkRGkAAAAAADKi\n",
       "NAAAAAAAGVEaAAAAAICMKA0AAAAAQEaUBgAAAAAgI0oDAAAAAJARpQEAAAAAyIjSAAAAAABkRGkA\n",
       "AAAAADKiNAAAAAAAGVEaAAAAAIDMXGutsxcBAJU556HrPC4B4H68NwDA73BSGgAAAACAjCgNAAAA\n",
       "AEBGlAYAAAAAICNKAwAAAACQEaUBAAAAAMiI0gAAAAAAZERpAAAAAAAyojQAAAAAABlRGgAAAACA\n",
       "jCgNAAAAAEBGlAYAAAAAICNKAwAAAACQEaUBAAAAAMjMtdY6exEA8Ig559lL+DGPWQB4H+/+DuG9\n",
       "AYC7cFIaAAAAAICMKA0AAAAAQEaUBgAAAAAgI0oDAAAAAJARpQEAAAAAyIjSAAAAAABkRGkAAAAA\n",
       "ADKiNAAAAAAAGVEaAAAAAICMKA0AAAAAQEaUBgAAAAAgI0oDAAAAAJARpQEAAAAAyIjSAAAAAABk\n",
       "Ps5eAAD3Nec8dN1a68Ur+T2PzrjTbABwlqu+Qxyda4z3nw0APnNSGgAAAACAjCgNAAAAAEBGlAYA\n",
       "AAAAICNKAwAAAACQEaUBAAAAAMiI0gAAAAAAZERpAAAAAAAyojQAAAAAABlRGgAAAACAjCgNAAAA\n",
       "AEBGlAYAAAAAICNKAwAAAACQEaUBAAAAAMjMtdY6exEA7GvOefYSHnL0sffuc3qcA7Cbd3+2jnHd\n",
       "94bPvEMAcAYnpQEAAAAAyIjSAAAAAABkRGkAAAAAADKiNAAAAAAAGVEaAAAAAICMKA0AAAAAQEaU\n",
       "BgAAAAAgI0oDAAAAAJARpQEAAAAAyIjSAAAAAABkRGkAAAAAADKiNAAAAAAAGVEaAAAAAICMKA0A\n",
       "AAAAQGautdbZiwDgfHPOQ9d5jLyHo/s3hj0E4DneIfbmHQKAMzgpDQAAAABARpQGAAAAACAjSgMA\n",
       "AAAAkBGlAQAAAADIiNIAAAAAAGREaQAAAAAAMqI0AAAAAAAZURoAAAAAgIwoDQAAAABARpQGAAAA\n",
       "ACAjSgMAAAAAkBGlAQAAAADIiNIAAAAAAGREaQAAAAAAMnOttc5eBACvMec8ewkP8Qj60057aP8A\n",
       "rmOn588YnkF/s9Me2j8AnJQGAAAAACAjSgMAAAAAkBGlAQAAAADIiNIAAAAAAGREaQAAAAAAMqI0\n",
       "AAAAAAAZURoAAAAAgIwoDQAAAABARpQGAAAAACAjSgMAAAAAkPk4ewEA/GnOeei6tdaLV/K77jDn\n",
       "ozNeebbPdpoTYCd3eLaOcd057/JsvcucAPybk9IAAAAAAGREaQAAAAAAMqI0AAAAAAAZURoAAAAA\n",
       "gIwoDQAAAABARpQGAAAAACAjSgMAAAAAkBGlAQAAAADIiNIAAAAAAGREaQAAAAAAMqI0AAAAAAAZ\n",
       "URoAAAAAgIwoDQAAAABARpQGAAAAACAz11rr7EUAXNGc8+wlPOTo48Cc7+GZx/m7z/aZ1xbgDnb6\n",
       "Xh7jus/WMa492394hwDgDE5KAwAAAACQEaUBAAAAAMiI0gAAAAAAZERpAAAAAAAyojQAAAAAABlR\n",
       "GgAAAACAjCgNAAAAAEBGlAYAAAAAICNKAwAAAACQEaUBAAAAAMiI0gAAAAAAZERpAAAAAAAyojQA\n",
       "AAAAAJm51lpnLwLgnc05D13n6xVe7+j9OIZ7Euh5h4D34R0C4L04KQ0AAAAAQEaUBgAAAAAgI0oD\n",
       "AAAAAJARpQEAAAAAyIjSAAAAAABkRGkAAAAAADKiNAAAAAAAGVEaAAAAAICMKA0AAAAAQEaUBgAA\n",
       "AAAgI0oDAAAAAJARpQEAAAAAyIjSAAAAAABkRGkAAAAAADJzrbXOXgRAYc559hJ+zFczV+d+BHax\n",
       "0/fVGL6zuL6d7kn3I8C/OSkNAAAAAEBGlAYAAAAAICNKAwAAAACQEaUBAAAAAMiI0gAAAAAAZERp\n",
       "AAAAAAAyojQAAAAAABlRGgAAAACAjCgNAAAAAEBGlAYAAAAAICNKAwAAAACQEaUBAAAAAMiI0gAA\n",
       "AAAAZERpAAAAAAAyH2cvAOARc87D1661XriS33V0zp1mZH/ux+/tNCdc3V2erXeZk73d5dnqfgT4\n",
       "NyelAQAAAADIiNIAAAAAAGREaQAAAAAAMqI0AAAAAAAZURoAAAAAgIwoDQAAAABARpQGAAAAACAj\n",
       "SgMAAAAAkBGlAQAAAADIiNIAAAAAAGREaQAAAAAAMqI0AAAAAAAZURoAAAAAgMxca62zFwHcz5zz\n",
       "7CX82NGvyZ1mHOP4nOxvp8/qM5/Tu8wJV7bTfTyGdwiub6fPqncIgPfipDQAAAAAABlRGgAAAACA\n",
       "jCgNAAAAAEBGlAYAAAAAICNKAwAAAACQEaUBAAAAAMiI0gAAAAAAZERpAAAAAAAyojQAAAAAABlR\n",
       "GgAAAACAjCgNAAAAAEBGlAYAAAAAICNKAwAAAACQEaUBAAAAAMjMtdY6exHAnuach6/11fN+ju6n\n",
       "vXwP7sdrsZ9cnWfOtdjPvXnmXIv7EdiFk9IAAAAAAGREaQAAAAAAMqI0AAAAAAAZURoAAAAAgIwo\n",
       "DQAAAABARpQGAAAAACAjSgMAAAAAkBGlAQAAAADIiNIAAAAAAGREaQAAAAAAMqI0AAAAAAAZURoA\n",
       "AAAAgIwoDQAAAABAZq611tmLAM415zx7CT/mK+trO+3lGPbzb3baQ/v3PfvJ1fmMX8dOezmG/fyb\n",
       "nfbQ/n1tp70cw34CxzgpDQAAAABARpQGAAAAACAjSgMAAAAAkBGlAQAAAADIiNIAAAAAAGREaQAA\n",
       "AAAAMqI0AAAAAAAZURoAAAAAgIwoDQAAAABARpQGAAAAACAjSgMAAAAAkBGlAQAAAADIiNIAAAAA\n",
       "AGREaQAAAAAAMh9nLwB4jTnn4WvXWi9cye8y59d2mnGMe8z56IxXnu0zc76fO9yP/J3P+Nd2mnEM\n",
       "c37n3ed0P37vDnPuNOMY95kTeC0npQEAAAAAyIjSAAAAAABkRGkAAAAAADKiNAAAAAAAGVEaAAAA\n",
       "AICMKA0AAAAAQEaUBgAAAAAgI0oDAAAAAJARpQEAAAAAyIjSAAAAAABkRGkAAAAAADJzrbXOXgTw\n",
       "d3POs5fwpWe+Pt59ts+OzrnTjGOY8zvvPqf78XvmfD9eQ1/rDnu/04xjmPM7O8x55dn+wzPne3eY\n",
       "c6cZx/AOAVfgpDQAAAAAABlRGgAAAACAjCgNAAAAAEBGlAYAAAAAICNKAwAAAACQEaUBAAAAAMiI\n",
       "0gAAAAAAZERpgP9l1452G8eZdo2ygLn/W659sDFA/v56nEROXqrEtY7bCMukJPcDAQAAABAjSgMA\n",
       "AAAAECNKAwAAAAAQI0oDAAAAABAjSgMAAAAAECNKAwAAAAAQU93duxcBT1ZVlz/r8gTgya4+I5/8\n",
       "fPS7AQA+953npecj3JM3pQEAAAAAiBGlAQAAAACIEaUBAAAAAIgRpQEAAAAAiBGlAQAAAACIEaUB\n",
       "AAAAAIgRpQEAAAAAiBGlAQAAAACIEaUBAAAAAIgRpQEAAAAAiBGlAQAAAACIEaUBAAAAAIgRpQEA\n",
       "AAAAiBGlAQAAAACIqe7u3YuACapq9xJecikDsMPdn49/Sj0vJ30vfkMAsMOEZ6VnJPweb0oDAAAA\n",
       "ABAjSgMAAAAAECNKAwAAAAAQI0oDAAAAABAjSgMAAAAAECNKAwAAAAAQI0oDAAAAABAjSgMAAAAA\n",
       "ECNKAwAAAAAQI0oDAAAAABAjSgMAAAAAECNKAwAAAAAQI0oDAAAAABDzz+4FQFJVXf5sd//gSn7e\n",
       "k2cD4PddfY5Me4a887z8jknfi98QALzjyb8hnjwb7OZNaQAAAAAAYkRpAAAAAABiRGkAAAAAAGJE\n",
       "aQAAAAAAYkRpAAAAAABiRGkAAAAAAGJEaQAAAAAAYkRpAAAAAABiRGkAAAAAAGJEaQAAAAAAYkRp\n",
       "AAAAAABiRGkAAAAAAGJEaQAAAAAAYkRpAAAAAABiqrt79yLgu6pq9xK+7J1L7O5zun0A3M/dnx0f\n",
       "XX2OvDNj6tl1dY1P/t3wkd8QAPcy6Rmy1veeI0+eDSbzpjQAAAAAADGiNAAAAAAAMaI0AAAAAAAx\n",
       "ojQAAAAAADGiNAAAAAAAMaI0AAAAAAAxojQAAAAAADGiNAAAAAAAMaI0AAAAAAAxojQAAAAAADGi\n",
       "NAAAAAAAMaI0AAAAAAAxojQAAAAAADGiNAAAAAAAMdXdvXsRnKmqLn/Wsb0HewjwO9xfX3vn+7m7\n",
       "E/Zvret7eMr3A3CV++t89pBTeFMaAAAAAIAYURoAAAAAgBhRGgAAAACAGFEaAAAAAIAYURoAAAAA\n",
       "gBhRGgAAAACAGFEaAAAAAIAYURoAAAAAgBhRGgAAAACAGFEaAAAAAIAYURoAAAAAgBhRGgAAAACA\n",
       "GFEaAAAAAICY6u7evQhmq6rdS/gyx/3v7CHA73B/fe3q9/PkZ8E7Z2bSHu7w5HMDPMuke+ta7q9/\n",
       "Yw/hc96UBgAAAAAgRpQGAAAAACBGlAYAAAAAIEaUBgAAAAAgRpQGAAAAACBGlAYAAAAAIEaUBgAA\n",
       "AAAgRpQGAAAAACBGlAYAAAAAIEaUBgAAAAAgRpQGAAAAACBGlAYAAAAAIEaUBgAAAAAgRpQGAAAA\n",
       "ACCmurt3L4J7qKpLn5t0hK7OuNb953zybB+dMidwH6fcd96Zc5LUnvg+7+eE37rAvZxy33nynE+e\n",
       "7aNT5uRevCkNAAAAAECMKA0AAAAAQIwoDQAAAABAjCgNAAAAAECMKA0AAAAAQIwoDQAAAABAjCgN\n",
       "AAAAAECMKA0AAAAAQIwoDQAAAABAjCgNAAAAAECMKA0AAAAAQIwoDQAAAABAjCgNAAAAAEBMdXfv\n",
       "XgQ/p6p2L+HL3jl65ryHJ8/2kdskPMMp952rc55yr0udA9/na1e/n0nX8VrnnAN4ukn3HvfX//Xk\n",
       "2T6aNKfnI2t5UxoAAAAAgCBRGgAAAACAGIBZkQQAAB0USURBVFEaAAAAAIAYURoAAAAAgBhRGgAA\n",
       "AACAGFEaAAAAAIAYURoAAAAAgBhRGgAAAACAGFEaAAAAAIAYURoAAAAAgBhRGgAAAACAmOru3r0I\n",
       "/ldVXfqc7YSf53qE+7h6Pa51zjX5znd0xY7vdcI5mPTsSJ+ZtVyPnznl+4GkCc8OOIXrkbW8KQ0A\n",
       "AAAAQJAoDQAAAABAjCgNAAAAAECMKA0AAAAAQIwoDQAAAABAjCgNAAAAAECMKA0AAAAAQIwoDQAA\n",
       "AABAjCgNAAAAAECMKA0AAAAAQIwoDQAAAABAjCgNAAAAAECMKA0AAAAAQIwoDQAAAABATHV3717E\n",
       "U1XV7iV8i6PA0026Jl2PPJ3r8bV3vp/0eiftJX836YxPWusufkPwdJOuSdcjT+d65B3elAYAAAAA\n",
       "IEaUBgAAAAAgRpQGAAAAACBGlAYAAAAAIEaUBgAAAAAgRpQGAAAAACBGlAYAAAAAIEaUBgAAAAAg\n",
       "RpQGAAAAACBGlAYAAAAAIEaUBgAAAAAgRpQGAAAAACBGlAYAAAAAIKa6u3cv4u6q6tLnpn21p8zJ\n",
       "bFfP6VqzzqrrkQlcj6w1ay/5O2f8tWln3G8IJvAb4rVJM/IMJ5zVU+47k3hTGgAAAACAGFEaAAAA\n",
       "AIAYURoAAAAAgBhRGgAAAACAGFEaAAAAAIAYURoAAAAAgBhRGgAAAACAGFEaAAAAAIAYURoAAAAA\n",
       "gBhRGgAAAACAGFEaAAAAAIAYURoAAAAAgBhRGgAAAACAGFEaAAAAAICY6u7evYiEqtq9hG+5ui2T\n",
       "5jzk6PEfTjirk2ZcyzV5skln9Z1zenVO18Zr75wf3+3PcsZ/x44zPum+vJYzdLJJZ3XHb4gdXI/n\n",
       "OuWcnjLnCbwpDQAAAABAjCgNAAAAAECMKA0AAAAAQIwoDQAAAABAjCgNAAAAAECMKA0AAAAAQIwo\n",
       "DQAAAABAjCgNAAAAAECMKA0AAAAAQIwoDQAAAABAjCgNAAAAAECMKA0AAAAAQIwoDQAAAABATHV3\n",
       "717Ed1TVpc8NG/MIV/dyLft5F/bwWdxfZ3M9fu6d7+iqSd/tju/nqknf63dN2oe1Zu2Fe8Dv8Rti\n",
       "Nr8hnsX1OJ89fA7319e8KQ0AAAAAQIwoDQAAAABAjCgNAAAAAECMKA0AAAAAQIwoDQAAAABAjCgN\n",
       "AAAAAECMKA0AAAAAQIwoDQAAAABAjCgNAAAAAECMKA0AAAAAQIwoDQAAAABAjCgNAAAAAECMKA0A\n",
       "AAAAQIwoDQAAAABATHV3x/9oVfpPvmXDVzTKpP20l39nD59j0l6uZT//ZtIe7ti/d76fSet9Z607\n",
       "/mbahHNwwj6slZ9zwt5/NOkcTHr+rDXvWkmYtIf277VJe7mW/fwbe/gsk/Zz0l56UxoAAAAAgBhR\n",
       "GgAAAACAGFEaAAAAAIAYURoAAAAAgBhRGgAAAACAGFEaAAAAAIAYURoAAAAAgBhRGgAAAACAGFEa\n",
       "AAAAAIAYURoAAAAAgBhRGgAAAACAGFEaAAAAAIAYURoAAAAAgBhRGgAAAACAmOruvvzhqkufe+NP\n",
       "bmHO1ybNeXXGte4/55Nn+8icr02aca0z5vzujE+eja975xyk92XSWp/u6l7s2IdJaz3FpOfPWs/9\n",
       "DeG37udOmHPSjGs9e84nz/bRCXO673wuPac3pQEAAAAAiBGlAQAAAACIEaUBAAAAAIgRpQEAAAAA\n",
       "iBGlAQAAAACIEaUBAAAAAIgRpQEAAAAAiBGlAQAAAACIEaUBAAAAAIgRpQEAAAAAiBGlAQAAAACI\n",
       "EaUBAAAAAIgRpQEAAAAAiKm1Vu9exHd0X1tuVf3wSn7XCXNenXEtc97Fk2f76ITrcS1zfubuc+64\n",
       "Ht/5mwDcyzvPuac+W9d69mz/8pv+cyfMOWnGtb4355Nn+2jSnK7Hz50wpzelAQAAAACIEaUBAAAA\n",
       "AIgRpQEAAAAAiBGlAQAAAACIEaUBAAAAAIgRpQEAAAAAiBGlAQAAAACIEaUBAAAAAIgRpQEAAAAA\n",
       "iBGlAQAAAACIEaUBAAAAAIgRpQEAAAAAiBGlAQAAAACIEaUBAAAAAIip7u7diwAA9qmq+N/08wPg\n",
       "d7inAwATeFMaAAAAAIAYURoAAAAAgBhRGgAAAACAGFEaAAAAAIAYURoAAAAAgBhRGgAAAACAGFEa\n",
       "AAAAAIAYURoAAAAAgBhRGgAAAACAGFEaAAAAAICYf3YvAAB4X1Vd/mx3/+BKvubqenesFSDNPR0A\n",
       "eDpvSgMAAAAAECNKAwAAAAAQI0oDAAAAABAjSgMAAAAAECNKAwAAAAAQI0oDAAAAABAjSgMAAAAA\n",
       "ECNKAwAAAAAQI0oDAAAAABAjSgMAAAAAECNKAwAAAAAQI0oDAAAAABAjSgMAAAAAECNKAwAAAAAQ\n",
       "U93duxcBAPx/VbV7CY/lJw+Q5p7+e9zTAWA2b0oDAAAAABAjSgMAAAAAECNKAwAAAAAQI0oDAAAA\n",
       "ABAjSgMAAAAAECNKAwAAAAAQI0oDAAAAABAjSgMAAAAAECNKAwAAAAAQI0oDAAAAABAjSgMAAAAA\n",
       "ECNKAwAAAAAQI0oDAAAAABAjSgMAAAAAEPPP7gUAwJNV1bf+fXf/0kr47l78y57A2a7eO9Zy//hN\n",
       "7ukAMJs3pQEAAAAAiBGlAQAAAACIEaUBAAAAAIgRpQEAAAAAiBGlAQAAAACIEaUBAAAAAIgRpQEA\n",
       "AAAAiBGlAQAAAACIEaUBAAAAAIgRpQEAAAAAiBGlAQAAAACIEaUBAAAAAIgRpQEAAAAAiKnu7t2L\n",
       "AIC7q6rdS3jplMf53ffhT6fsC0ww6f5xyr1jwp6cshcAkOZNaQAAAAAAYkRpAAAAAABiRGkAAAAA\n",
       "AGJEaQAAAAAAYkRpAAAAAABiRGkAAAAAAGJEaQAAAAAAYkRpAAAAAABiRGkAAAAAAGJEaQAAAAAA\n",
       "YkRpAAAAAABiRGkAAAAAAGJEaQAAAAAAYkRpAAAAAABi/tm9AABIqqpLn+vuH17Jz7o611p7Znvq\n",
       "PvzplDkhZdq97qppcz75Xvfk2QBgJ29KAwAAAAAQI0oDAAAAABAjSgMAAAAAECNKAwAAAAAQI0oD\n",
       "AAAAABAjSgMAAAAAECNKAwAAAAAQI0oDAAAAABAjSgMAAAAAECNKAwAAAAAQI0oDAAAAABAjSgMA\n",
       "AAAAECNKAwAAAAAQU93duxcBAN9RVbuX8GXffcxOmm2aqz95pu2Jn3ZMMOm6eueamjTnNE+9p7uH\n",
       "A3AKb0oDAAAAABAjSgMAAAAAECNKAwAAAAAQI0oDAAAAABAjSgMAAAAAECNKAwAAAAAQI0oDAAAA\n",
       "ABAjSgMAAAAAECNKAwAAAAAQI0oDAAAAABAjSgMAAAAAECNKAwAAAAAQI0oDAAAAABAjSgMAAAAA\n",
       "EFPd3bsXAcCZqurS5zy64L+5rkhy3uBnXb2m1nJdATCLN6UBAAAAAIgRpQEAAAAAiBGlAQAAAACI\n",
       "EaUBAAAAAIgRpQEAAAAAiBGlAQAAAACIEaUBAAAAAIgRpQEAAAAAiBGlAQAAAACIEaUBAAAAAIgR\n",
       "pQEAAAAAiBGlAQAAAACIEaUBAAAAAIgRpQEAAAAAiKnu7t2LAGCuqtq9hG/x2GOCSdeVa2o+5w1+\n",
       "nusKAF7zpjQAAAAAADGiNAAAAAAAMaI0AAAAAAAxojQAAAAAADGiNAAAAAAAMaI0AAAAAAAxojQA\n",
       "AAAAADGiNAAAAAAAMaI0AAAAAAAxojQAAAAAADGiNAAAAAAAMaI0AAAAAAAxojQAAAAAADH/7F4A\n",
       "APdQVZc+190/vJLfdcqc3MMJ5+3qjGvNmnMC5+21SXNyH66r1ybNCcC9eFMaAAAAAIAYURoAAAAA\n",
       "gBhRGgAAAACAGFEaAAAAAIAYURoAAAAAgBhRGgAAAACAGFEaAAAAAIAYURoAAAAAgBhRGgAAAACA\n",
       "GFEaAAAAAIAYURoAAAAAgBhRGgAAAACAGFEaAAAAAIAYURoAAAAAgJjq7t69CAB+RlXtXsK3XH0E\n",
       "TZrTY3a+SedtLdfVdJP2YS3njXnufvbeOW93n+0j1xUA3pQGAAAAACBGlAYAAAAAIEaUBgAAAAAg\n",
       "RpQGAAAAACBGlAYAAAAAIEaUBgAAAAAgRpQGAAAAACBGlAYAAAAAIEaUBgAAAAAgRpQGAAAAACCm\n",
       "urt3LwKA/6uqLn3OLf1+vruX9vD3uK6e4+perpXbT+ftOSactxO5xmZzXQHgTWkAAAAAAGJEaQAA\n",
       "AAAAYkRpAAAAAABiRGkAAAAAAGJEaQAAAAAAYkRpAAAAAABiRGkAAAAAAGJEaQAAAAAAYkRpAAAA\n",
       "AABiRGkAAAAAAGJEaQAAAAAAYkRpAAAAAABiRGkAAAAAAGJEaQAAAAAAYqq7e/ciAJ6oqnYv4Vs8\n",
       "Dl67+36esn9334c/nbIvV03bz7tz3l6bdN5O2csJe3LKXlw1YQ//ZS8B7sWb0gAAAAAAxIjSAAAA\n",
       "AADEiNIAAAAAAMSI0gAAAAAAxIjSAAAAAADEiNIAAAAAAMSI0gAAAAAAxIjSAAAAAADEiNIAAAAA\n",
       "AMSI0gAAAAAAxIjSAAAAAADEiNIAAAAAAMSI0gAAAAAAxIjSAAAAAADE/LN7AQB3V1WXPtfdP7yS\n",
       "32XO1+4+59W51toz21P34U8nzDnt7D2Z8/aaOX/Pk8/ek2f717TzdtUpcwJM4U1pAAAAAABiRGkA\n",
       "AAAAAGJEaQAAAAAAYkRpAAAAAABiRGkAAAAAAGJEaQAAAAAAYkRpAAAAAABiRGkAAAAAAGJEaQAA\n",
       "AAAAYkRpAAAAAABiRGkAAAAAAGJEaQAAAAAAYkRpAAAAAABiqrt79yIAEqpq9xK+7OqtedKMa50x\n",
       "53dnnDTbNCect7XOmPPJP18n7cNazttnJs05zVPP3innzZwAeFMaAAAAAIAYURoAAAAAgBhRGgAA\n",
       "AACAGFEaAAAAAIAYURoAAAAAgBhRGgAAAACAGFEaAAAAAIAYURoAAAAAgBhRGgAAAACAGFEaAAAA\n",
       "AIAYURoAAAAAgBhRGgAAAACAGFEaAAAAAIAYURoAAAAAgJjq7t69CICvqqrLn3W7A3iGCc+Cq2v0\n",
       "rAJ4Ds8CgP/mTWkAAAAAAGJEaQAAAAAAYkRpAAAAAABiRGkAAAAAAGJEaQAAAAAAYkRpAAAAAABi\n",
       "RGkAAAAAAGJEaQAAAAAAYkRpAAAAAABiRGkAAAAAAGJEaQAAAAAAYkRpAAAAAABiRGkAAAAAAGKq\n",
       "u3v3IoDzVNXuJXyZ2yTA75j0LJjA8wrgd0x6XnkWAFN4UxoAAAAAgBhRGgAAAACAGFEaAAAAAIAY\n",
       "URoAAAAAgBhRGgAAAACAGFEaAAAAAIAYURoAAAAAgBhRGgAAAACAGFEaAAAAAIAYURoAAAAAgBhR\n",
       "GgAAAACAGFEaAAAAAIAYURoAAAAAgBhRGgAAAACAmH92LwCYq6ouf7a7f3Alv+vqnJNmBLjqlGfB\n",
       "BJ5XAP/tlOeVZwEwhTelAQAAAACIEaUBAAAAAIgRpQEAAAAAiBGlAQAAAACIEaUBAAAAAIgRpQEA\n",
       "AAAAiBGlAQAAAACIEaUBAAAAAIgRpQEAAAAAiBGlAQAAAACIEaUBAAAAAIgRpQEAAAAAiBGlAQAA\n",
       "AACIEaUBAAAAAIip7u7diwD2qqrdS/iyd25Zp8wJcIV75D1M2oe1nr0XwD1Nuk9evUdOmnEtzwLg\n",
       "Gm9KAwAAAAAQI0oDAAAAABAjSgMAAAAAECNKAwAAAAAQI0oDAAAAABAjSgMAAAAAECNKAwAAAAAQ\n",
       "I0oDAAAAABAjSgMAAAAAECNKAwAAAAAQI0oDAAAAABAjSgMAAAAAECNKAwAAAAAQU93duxcBvK+q\n",
       "Ln/WbeB+ru6nvQROuH9MeOadsA9rnTMn8LMm3Mf5Os8C4ApvSgMAAAAAECNKAwAAAAAQI0oDAAAA\n",
       "ABAjSgMAAAAAECNKAwAAAAAQI0oDAAAAABAjSgMAAAAAECNKAwAAAAAQI0oDAAAAABAjSgMAAAAA\n",
       "ECNKAwAAAAAQU93duxcB/F1V7V7CS24fr919//5kP+E+Jt0/3rl3TJpzgqt7MWkfPKvgXtw/nmPS\n",
       "Xq5lP+EJvCkNAAAAAECMKA0AAAAAQIwoDQAAAABAjCgNAAAAAECMKA0AAAAAQIwoDQAAAABAjCgN\n",
       "AAAAAECMKA0AAAAAQIwoDQAAAABAjCgNAAAAAECMKA0AAAAAQIwoDQAAAABAjCgNAAAAAEBMdXfv\n",
       "XgQ8WVVd/uzdL88nz/bR1TknzbjWOXNCkusKftYpvz0g6ZTrypyvTZpxre/NOW02OIU3pQEAAAAA\n",
       "iBGlAQAAAACIEaUBAAAAAIgRpQEAAAAAiBGlAQAAAACIEaUBAAAAAIgRpQEAAAAAiBGlAQAAAACI\n",
       "EaUBAAAAAIgRpQEAAAAAiBGlAQAAAACIEaUBAAAAAIgRpQEAAAAAiBGlAQAAAACIqe7u3YuACapq\n",
       "9xJeeudSvvtsH5nztUkzrvXefkKK6wp+3qTryjXFFKdcVyfMOWnGtZ49p2cA/B5vSgMAAAAAECNK\n",
       "AwAAAAAQI0oDAAAAABAjSgMAAAAAECNKAwAAAAAQI0oDAAAAABAjSgMAAAAAECNKAwAAAAAQI0oD\n",
       "AAAAABAjSgMAAAAAECNKAwAAAAAQI0oDAAAAABAjSgMAAAAAECNKAwAAAAAQU93duxcBKVV1+bMu\n",
       "Ffh5V69J1yNXnHLeTpmTezjhvPn9SJLzBvdywnMOdvGmNAAAAAAAMaI0AAAAAAAxojQAAAAAADGi\n",
       "NAAAAAAAMaI0AAAAAAAxojQAAAAAADGiNAAAAAAAMaI0AAAAAAAxojQAAAAAADGiNAAAAAAAMaI0\n",
       "AAAAAAAxojQAAAAAADGiNAAAAAAAMdXdvXsR8F1VtXsJX+YS4+kmXY9ruSanO+W8TZrTNTXfKeft\n",
       "lDm5B+cN7mPS9biWa5JzeFMaAAAAAIAYURoAAAAAgBhRGgAAAACAGFEaAAAAAIAYURoAAAAAgBhR\n",
       "GgAAAACAGFEaAAAAAIAYURoAAAAAgBhRGgAAAACAGFEaAAAAAIAYURoAAAAAgBhRGgAAAACAGFEa\n",
       "AAAAAIAYURoAAAAAgJjq7t69CM5UVZc/O+nYnjIn8109q9PO6Slz3p19eA7PuftwXT2H6+o+Triu\n",
       "nDcm+s65nXZOT7jvwFrelAYAAAAAIEiUBgAAAAAgRpQGAAAAACBGlAYAAAAAIEaUBgAAAAAgRpQG\n",
       "AAAAACBGlAYAAAAAIEaUBgAAAAAgRpQGAAAAACBGlAYAAAAAIEaUBgAAAAAgRpQGAAAAACBGlAYA\n",
       "AAAAIKa6u3cvgtmqavcSvuyd4373OV3KrHX/c/qnq+d20pxPvjYn7cNaz96LnzBpP5+8l5P2Ya1n\n",
       "78VPmLSfp+zl3ffkyf9f+eiU88ZrE87sCf9fWcs1yR7elAYAAAAAIEaUBgAAAAAgRpQGAAAAACBG\n",
       "lAYAAAAAIEaUBgAAAAAgRpQGAAAAACBGlAYAAAAAIEaUBgAAAAAgRpQGAAAAACBGlAYAAAAAIEaU\n",
       "BgAAAAAgRpQGAAAAACBGlAYAAAAAIEaUBgAAAAAgprq7dy+Ce6iqS59zhO7h6v6tZQ/vyPX4HN/d\n",
       "yx17eMp5M+drk+ac8Mw7YR/WOmPOCeftJ0yb84Sz92TTzhuvuR7ns4fs4E1pAAAAAABiRGkAAAAA\n",
       "AGJEaQAAAAAAYkRpAAAAAABiRGkAAAAAAGJEaQAAAAAAYkRpAAAAAABiRGkAAAAAAGJEaQAAAAAA\n",
       "YkRpAAAAAABiRGkAAAAAAGJEaQAAAAAAYkRpAAAAAABiRGkAAAAAAGKqu3v3Ivg5VbV7CV/m6H3u\n",
       "7vtpD1+7+/79yX6+Nm0/7+7qeZu2DyfM+c69Y9KcEzhvr5mTK/w+em3SebOXr03ay7Xs599M2kP7\n",
       "x1relAYAAAAAIEiUBgAAAAAgRpQGAAAAACBGlAYAAAAAIEaUBgAAAAAgRpQGAAAAACBGlAYAAAAA\n",
       "IEaUBgAAAAAgRpQGAAAAACBGlAYAAAAAIKa6u3cvgv9VVZc+N2k7r864ljnv4smzfXTC9biWOT8z\n",
       "bU4A4H0n/G7wm/5zJ8w5aca1vjfnk2f7aNKcp1yPvOZNaQAAAAAAYkRpAAAAAABiRGkAAAAAAGJE\n",
       "aQAAAAAAYkRpAAAAAABiRGkAAAAAAGJEaQAAAAAAYkRpAAAAAABiRGkAAAAAAGJEaQAAAAAAYkRp\n",
       "AAAAAABiRGkAAAAAAGJEaQAAAAAAYkRpAAAAAABiqrt79yKeqqp2L+Fbrh6FSXO+c9zvPueTZ/vI\n",
       "nK9NmnGtM+b0mAWA+7j7bwi/dT93wpyTZlzr2XM+ebaPTpjT/8vux5vSAAAAAADEiNIAAAAAAMSI\n",
       "0gAAAAAAxIjSAAAAAADEiNIAAAAAAMSI0gAAAAAAxIjSAAAAAADEiNIAAAAAAMSI0gAAAAAAxIjS\n",
       "AAAAAADEiNIAAMD/a9eOVuOGoQAKSpD//2X1KVBKSLtO99iyZ97NSivQxQcDAEBGlAYAAAAAICNK\n",
       "AwAAAACQmWutdfYirm7Oeeg5fy0Ar84QswMA/s47GgCvODo3xjA73sWX0gAAAAAAZERpAAAAAAAy\n",
       "ojQAAAAAABlRGgAAAACAjCgNAAAAAEBGlAYAAAAAICNKAwAAAACQEaUBAAAAAMiI0gAAAAAAZERp\n",
       "AAAAAAAyojQAAAAAABlRGgAAAACAjCgNAAAAAEBGlAYAAAAAIDPXWuvsRRTmnGcv4SUPORaAbVx9\n",
       "jpgbAOzm6rN1DPMV4Gp2mB2fzJDv+VIaAAAAAICMKA0AAAAAQEaUBgAAAAAgI0oDAAAAAJARpQEA\n",
       "AAAAyIjSAAAAAABkRGkAAAAAADKiNAAAAAAAGVEaAAAAAICMKA0AAAAAQEaUBgAAAAAgI0oDAAAA\n",
       "AJARpQEAAAAAyIjSAAAAAABkPs5ewKvmnIeeW2v955W811P2CVC76/16dF9jXH9vAFzbXWfrGPfe\n",
       "G8BZnvLu8pR9HuVLaQAAAAAAMqI0AAAAAAAZURoAAAAAgIwoDQAAAABARpQGAAAAACAjSgMAAAAA\n",
       "kBGlAQAAAADIiNIAAAAAAGREaQAAAAAAMqI0AAAAAAAZURoAAAAAgIwoDQAAAABARpQGAAAAACAz\n",
       "11or/9E565/8kaN/0VP2CVDb6X599W69894AuK6d5s8Y931HM1uBnVz9Tv3dT+7Xp+yz5ktpAAAA\n",
       "AAAyojQAAAAAABlRGgAAAACAjCgNAAAAAEBGlAYAAAAAICNKAwAAAACQEaUBAAAAAMiI0gAAAAAA\n",
       "ZERpAAAAAAAyojQAAAAAABlRGgAAAACAjCgNAAAAAEBGlAYAAAAAICNKAwAAAACQmWutdfjhOQ89\n",
       "94Of5I2cJ1Bz7+zt6PmN4QwB3sVs3ZvZCpzB7LiPneaIL6UBAAAAAMiI0gAAAAAAZERpAAAAAAAy\n",
       "ojQAAAAAABlRGgAAAACAjCgNAAAAAEBGlAYAAAAAICNKAwAAAACQEaUBAAAAAMiI0gAAAAAAZERp\n",
       "AAAAAAAyojQAAAAAABlRGgAAAACAzBxjrLMX8Yq1tlpubs559hL+mbOEe9jp3hnD3fOVnc7Q+QFP\n",
       "sNO9PIa7+Ss7naHzg3tw79zLE87Tl9IAAAAAAGREaQAAAAAAMqI0AAAAAAAZURoAAAAAgIwoDQAA\n",
       "AABARpQGAAAAACAjSgMAAAAAkBGlAQAAAADIiNIAAAAAAGREaQAAAAAAMqI0AAAAAAAZURoAAAAA\n",
       "gIwoDQAAAABARpQGAAAAACDzsdY6ew0vmXMees4+r+foHsfYa5+wiyfcO2Pcd59PuVOfsk/gHu46\n",
       "c/50533eeW+fzFa4FvfO9+zzPnwpDQAAAABARpQGAAAAACAjSgMAAAAAkBGlAQAAAADIiNIAAAAA\n",
       "AGREaQAAAAAAMqI0AAAAAAAZURoAAAAAgIwoDQAAAABARpQGAAAAACAjSgMAAAAAkBGlAQAAAADI\n",
       "iNIAAAAAAGR+AYNCDpYSCVX1AAAAAElFTkSuQmCC\n",
       "\" transform=\"translate(497, 62)\"/>\n",
       "</g>\n",
       "</svg>\n"
      ]
     },
     "execution_count": 21,
     "metadata": {},
     "output_type": "execute_result"
    }
   ],
   "source": [
    "p"
   ]
  },
  {
   "cell_type": "markdown",
   "metadata": {
    "nbpresent": {
     "id": "d0e01c62-1aeb-470b-88cb-9f225f34dc27"
    }
   },
   "source": [
    "We conclude that even very simple ABMs can have very complex behaviour."
   ]
  },
  {
   "cell_type": "markdown",
   "metadata": {
    "cell_style": "center",
    "slideshow": {
     "slide_type": "slide"
    }
   },
   "source": [
    "Let's try it with a random initial condition or a different rule..."
   ]
  },
  {
   "cell_type": "code",
   "execution_count": 19,
   "metadata": {
    "cell_style": "center"
   },
   "outputs": [
    {
     "data": {
      "image/svg+xml": [
       "<?xml version=\"1.0\" encoding=\"utf-8\"?>\n",
       "<svg xmlns=\"http://www.w3.org/2000/svg\" xmlns:xlink=\"http://www.w3.org/1999/xlink\" width=\"600\" height=\"400\" viewBox=\"0 0 2400 1600\">\n",
       "<defs>\n",
       "  <clipPath id=\"clip300\">\n",
       "    <rect x=\"0\" y=\"0\" width=\"2400\" height=\"1600\"/>\n",
       "  </clipPath>\n",
       "</defs>\n",
       "<path clip-path=\"url(#clip300)\" d=\"\n",
       "M0 1600 L2400 1600 L2400 0 L0 0  Z\n",
       "  \" fill=\"#ffffff\" fill-rule=\"evenodd\" fill-opacity=\"1\"/>\n",
       "<defs>\n",
       "  <clipPath id=\"clip301\">\n",
       "    <rect x=\"480\" y=\"0\" width=\"1681\" height=\"1600\"/>\n",
       "  </clipPath>\n",
       "</defs>\n",
       "<path clip-path=\"url(#clip300)\" d=\"\n",
       "M86.9921 1521.01 L2352.76 1521.01 L2352.76 47.2441 L86.9921 47.2441  Z\n",
       "  \" fill=\"#ffffff\" fill-rule=\"evenodd\" fill-opacity=\"1\"/>\n",
       "<defs>\n",
       "  <clipPath id=\"clip302\">\n",
       "    <rect x=\"86\" y=\"47\" width=\"2267\" height=\"1475\"/>\n",
       "  </clipPath>\n",
       "</defs>\n",
       "<g clip-path=\"url(#clip302)\">\n",
       "<image width=\"1445\" height=\"1459\" xlink:href=\"data:image/png;base64,\n",
       "iVBORw0KGgoAAAANSUhEUgAABaUAAAWzCAYAAADLy1+5AAAgAElEQVR4nOza0a7rqpIFUGjd//9l\n",
       "+qW3tHT36awTSCaUGeM9MlSVsTPlPsYYLaz3nr5kW9nm7Ho3lLZUbVfWuqO2O7xTo2o12XFf7bg/\n",
       "Zt1yfsx68pl++vp+qjQzu9zQlxv22Nr7+6ywxp1ueQ/wnvxapZ6k7Oj9Ldfc4ZZ3pSfPQaVzqkI9\n",
       "/6i01tbuuZdnzfbkfz68DgAAAAAA+H8JpQEAAAAAiBFKAwAAAAAQI5QGAAAAACBGKA0AAAAAQIxQ\n",
       "GgAAAACAGKE0AAAAAAAxQmkAAAAAAGKE0gAAAAAAxAilAQAAAACIEUoDAAAAABAjlAYAAAAAIEYo\n",
       "DQAAAABAjFAaAAAAAICY/6z8uPc+9bsxxsply5itzwq1fW1HfVJzsHKd2brsmPEVle4P58d5Tp93\n",
       "M3OmG/pywx5nVHrnWFnr6WfjTxXm5hMqzUGF++SW9+RKzDit5e6xW3pY6czy7nme2Z74UhoAAAAA\n",
       "gBihNAAAAAAAMUJpAAAAAABihNIAAAAAAMQIpQEAAAAAiBFKAwAAAAAQI5QGAAAAACBGKA0AAAAA\n",
       "QIxQGgAAAACAGKE0AAAAAAAxQmkAAAAAAGKE0gAAAAAAxAilAQAAAACIEUoDAAAAABDznx0X7b1P\n",
       "/3aMUeaaO1Sq7Y66rtRnVqX5eVe1HqbXW2mtrd1zLz/5nky7pQ/V9pl+1lXb4+mzt+NdZYVn62uV\n",
       "nq07VJv3d9zSw1m31OeWM+DJ+9yxtyfXs6pbepJ+LvtSGgAAAACAGKE0AAAAAAAxQmkAAAAAAGKE\n",
       "0gAAAAAAxAilAQAAAACIEUoDAAAAABAjlAYAAAAAIEYoDQAAAABAjFAaAAAAAIAYoTQAAAAAADFC\n",
       "aQAAAAAAYoTSAAAAAADECKUBAAAAAIjpY4yxexEJvff4NVdKW2m9O9Y6a8e4r9TnybdnpbmB1tyP\n",
       "p6j2bN0hPavq+s9m63LLu8otc7PDjp54Rv6t2r2cVq0+lZ6tt5zL7+yzUr7SWr31VvHkGf+p0lnn\n",
       "S2kAAAAAAGKE0gAAAAAAxAilAQAAAACIEUoDAAAAABAjlAYAAAAAIEYoDQAAAABAjFAaAAAAAIAY\n",
       "oTQAAAAAADFCaQAAAAAAYoTSAAAAAADECKUBAAAAAIgRSgMAAAAAECOUBgAAAAAgRigNAAAAAEBM\n",
       "H2OM3Yt4R+996nfFtsmXzM5PBTtmfKWe7kmqOf35437kj/Szzvz8sye/c/yk/8+xY2arvb+ertL9\n",
       "+OQ+7FZpDjjH6f91fqq01h0qPc99KQ0AAAAAQIxQGgAAAACAGKE0AAAAAAAxQmkAAAAAAGKE0gAA\n",
       "AAAAxAilAQAAAACIEUoDAAAAABAjlAYAAAAAIEYoDQAAAABAjFAaAAAAAIAYoTQAAAAAADFCaQAA\n",
       "AAAAYoTSAAAAAADE9DHGiF+09/Qll2woEb+YnaEn97LafTXryT0k45Z7JcH9+D0rc5ruS6W1rnh3\n",
       "n5X2tsI72Xkq9WTHM/nJs7ej95Xm7RZ6ci//c76n0jOy0lp9KQ0AAAAAQIxQGgAAAACAGKE0AAAA\n",
       "AAAxQmkAAAAAAGKE0gAAAAAAxAilAQAAAACIEUoDAAAAABAjlAYAAAAAIEYoDQAAAABAjFAaAAAA\n",
       "AIAYoTQAAAAAADFCaQAAAAAAYoTSAAAAAADECKUBAAAAAIjprbWRvugY8Usu6b1P/a7aPtNm67rL\n",
       "jn6+U6Nb5m1lbm6p0Q3MwRn04XfVnnVVrMzP6T05/X1jN2fHs1SY9/Qad/S+2pl6wzlQ7Qy4oSdJ\n",
       "MqjzVLsnq/ClNAAAAAAAMUJpAAAAAABihNIAAAAAAMQIpQEAAAAAiBFKAwAAAAAQI5QGAAAAACBG\n",
       "KA0AAAAAQIxQGgAAAACAGKE0AAAAAAAxQmkAAAAAAGKE0gAAAAAAxAilAQAAAACIEUoDAAAAABAj\n",
       "lAYAAAAAIKaPMUb8or1P/3Z2uSvX3GFDW6bN1rbSHlurN0Pv2NGLSvWsNquVmIMz6MNrO95buNeO\n",
       "+7HSnFa7H295T55V6fmTckvvV1S6ryqtdcUt+3xHtfPtyb34o9o7xA18KQ0AAAAAQIxQGgAAAACA\n",
       "GKE0AAAAAAAxQmkAAAAAAGKE0gAAAAAAxAilAQAAAACIEUoDAAAAABAjlAYAAAAAIEYoDQAAAABA\n",
       "jFAaAAAAAIAYoTQAAAAAADFCaQAAAAAAYoTSAAAAAADE9DHGmP5x759cy7+ysNxSZmu7Up8d/Zw1\n",
       "u8+VPT559tzLr+24Hyu55b46fQ704Vkq9YR/dvqZ8dOO8+OWe3mHSjPkrPub5zmrbjmXT3/HrnQ/\n",
       "tlZrn5VmtdocpPlSGgAAAACAGKE0AAAAAAAxQmkAAAAAAGKE0gAAAAAAxAilAQAAAACIEUoDAAAA\n",
       "ABAjlAYAAAAAIEYoDQAAAABAjFAaAAAAAIAYoTQAAAAAADFCaQAAAAAAYoTSAAAAAADECKUBAAAA\n",
       "AIgRSgMAAAAAENNba2P2x2NM/3Ra733qd5XWumLHPit5ck9W9lbp/lhZ647+z6rUkx1umYPT7ejD\n",
       "Lc+5amf6DZwd/8y8neeWWT199ir1wfOciirdY++avT+eXJOfKp0f3ulf86U0AAAAAAAxQmkAAAAA\n",
       "AGKE0gAAAAAAxAilAQAAAACIEUoDAAAAABAjlAYAAAAAIEYoDQAAAABAjFAaAAAAAIAYoTQAAAAA\n",
       "ADFCaQAAAAAAYnprbexexFONkS9t7336tzvWO2t2n9V6wt8qzemKHXNzS205wy0zXukZcMsZUOkd\n",
       "ogL1/I5b3ulXpGbPjL92y/Oc73DWMWPHueyd/rXZ+vhSGgAAAACAGKE0AAAAAAAxQmkAAAAAAGKE\n",
       "0gAAAAAAxAilAQAAAACIEUoDAAAAABAjlAYAAAAAIEYoDQAAAABAjFAaAAAAAIAYoTQAAAAAADFC\n",
       "aQAAAAAAYoTSAAAAAADECKUBAAAAAIgRSgMAAAAAENPHGGP3Ip6q9757CRGzI6Q+zFiZm3QvKq21\n",
       "tfn1mvF73TLjKyrdH5XOgArvEDf0fodKdW1NbX9T4VxOr7FaHyqtt9r5UcnpZ53en6fC+V9Vpdr6\n",
       "UhoAAAAAgBihNAAAAAAAMUJpAAAAAABihNIAAAAAAMQIpQEAAAAAiBFKAwAAAAAQI5QGAAAAACBG\n",
       "KA0AAAAAQIxQGgAAAACAGKE0AAAAAAAxQmkAAAAAAGKE0gAAAAAAxAilAQAAAACIEUoDAAAAABDT\n",
       "xxhj9yJO13uf+p3S0tr8/LT27BlaqQvP8eQZr+SW+3HHvO14h7ihnxXOjkq9r1DPP3a8V93yLrfj\n",
       "7KhUn5QbzvCKbpjVJ591T97bbpXeParNwQ219aU0AAAAAAAxQmkAAAAAAGKE0gAAAAAAxAilAQAA\n",
       "AACIEUoDAAAAABAjlAYAAAAAIEYoDQAAAABAjFAaAAAAAIAYoTQAAAAAADFCaQAAAAAAYoTSAAAA\n",
       "AADECKUBAAAAAIgRSgMAAAAAENNba2P2x2NM/zSu9757CW+pVNtbnD5DO2ZmpSZmnNbmZ8j8/M39\n",
       "+LvTz/GfbunJrB3znpqfld7vmPHT6/nTDWttrdaz9cnPrkp94HeV+nnL+87p+6x2L59eT57Jl9IA\n",
       "AAAAAMQIpQEAAAAAiBFKAwAAAAAQI5QGAAAAACBGKA0AAAAAQIxQGgAAAACAGKE0AAAAAAAxQmkA\n",
       "AAAAAGKE0gAAAAAAxAilAQAAAACIEUoDAAAAABAjlAYAAAAAIEYoDQAAAABAjFAaAAAAAICYPsYY\n",
       "0z/ufep3C5fccs0dbtln2mxdWzu/tit7q+T0Ptyo2uydPkOV6rmjlk8+x3+yz++pVB+YUek5ssO7\n",
       "Z0ClejrfXqvUyxXm4Aw73uVueX/kOXwpDQAAAABAjFAaAAAAAIAYoTQAAAAAADFCaQAAAAAAYoTS\n",
       "AAAAAADECKUBAAAAAIgRSgMAAAAAECOUBgAAAAAgRigNAAAAAECMUBoAAAAAgBihNAAAAAAAMUJp\n",
       "AAAAAABihNIAAAAAAMT01tpIX3SM+Uv23j+4kn9ndr071rpipS9plWqbmvdK/Vux0vtbajRrtrbV\n",
       "6pre57vXq1TPSmfximrvLbN2vO/smPdbzjpqq3ZfcYZbzrdb9jlLfT5LBvWauWGFL6UBAAAAAIgR\n",
       "SgMAAAAAECOUBgAAAAAgRigNAAAAAECMUBoAAAAAgBihNAAAAAAAMUJpAAAAAABihNIAAAAAAMQI\n",
       "pQEAAAAAiBFKAwAAAAAQI5QGAAAAACBGKA0AAAAAQIxQGgAAAACAGKE0AAAAAAAxfYwxdi+CM/Te\n",
       "p343O0Kz11u5ZjUrNXrHjnqm9vYJleatUl1b23N+zDp9rStzmj7/eZZq506K+4PWat0fZvYMlWam\n",
       "tfPfjz4lfX+oz2fJHr7H/wham58DX0oDAAAAABAjlAYAAAAAIEYoDQAAAABAjFAaAAAAAIAYoTQA\n",
       "AAAAADFCaQAAAAAAYoTSAAAAAADECKUBAAAAAIgRSgMAAAAAECOUBgAAAAAgRigNAAAAAECMUBoA\n",
       "AAAAgBihNAAAAAAAMUJpAAAAAABiemttzP54jOmf8iW99/g1Z+eg0lpXrOwztd5bejFrtj4re9xx\n",
       "Te7lDKA1586nqedzVHiX+4Rb9pniDHiW9LtStTmo9H8p5ZYe7lCttpWk58CX0gAAAAAAxAilAQAA\n",
       "AACIEUoDAAAAABAjlAYAAAAAIEYoDQAAAABAjFAaAAAAAIAYoTQAAAAAADFCaQAAAAAAYoTSAAAA\n",
       "AADECKUBAAAAAIgRSgMAAAAAECOUBgAAAAAgRigNAAAAAEBMH2OM6R/3PvW7hUteQ22/Y7auT7dj\n",
       "bnbMeLr/ldbamvOjupWZueUMuEWlZ12lflaoa6V67lChh39Ue4eYVWFm1fM5Kr0r7Vir/x+fVa2H\n",
       "lXrhf8RrlebAl9IAAAAAAMQIpQEAAAAAiBFKAwAAAAAQI5QGAAAAACBGKA0AAAAAQIxQGgAAAACA\n",
       "GKE0AAAAAAAxQmkAAAAAAGKE0gAAAAAAxAilAQAAAACIEUoDAAAAABDTW2tj9yLeMUad5fbedy/h\n",
       "LTfUttIekyrNqh5+j/vqDJXux2oqzerKHNywz5U9Pvmse/Le/rjl3rjFjn6+e81Kc3PDGdCad6Xf\n",
       "VOpnhTN9x7ylzrdPqLTWFTvuq0o1mq2PL6UBAAAAAIgRSgMAAAAAECOUBgAAAAAgRigNAAAAAECM\n",
       "UBoAAAAAgBihNAAAAAAAMUJpAAAAAABihNIAAAAAAMQIpQEAAAAAiBFKAwAAAAAQI5QGAAAAACBG\n",
       "KA0AAAAAQIxQGgAAAACAmD7GGLsX8Y7e+9TvVra545o7pPc5e71dTu/nSj1P39tPt+xzlvvqPO/2\n",
       "5Iaa7FLpHWKHSs/zCj2pVM8VN+zTufy7SueAM+CzduzTPfma953PMm+0Vus5V4kvpQEAAAAAiBFK\n",
       "AwAAAAAQI5QGAAAAACBGKA0AAAAAQIxQGgAAAACAGKE0AAAAAAAxQmkAAAAAAGKE0gAAAAAAxAil\n",
       "AQAAAACIEUoDAAAAABAjlAYAAAAAIEYoDQAAAABAjFAaAAAAAIAYoTQAAAAAADF9jDHiF+09fcm2\n",
       "ss1K66201mpma1tt9t7x5L39tGPGd8zbDpX2efrMVuv9LM85IG3l3Kl0ftyyT87gef6a+pyj0v8V\n",
       "Xqv2nLth9nwpDQAAAABAjFAaAAAAAIAYoTQAAAAAADFCaQAAAAAAYoTSAAAAAADECKUBAAAAAIgR\n",
       "SgMAAAAAECOUBgAAAAAgRigNAAAAAECMUBoAAAAAgBihNAAAAAAAMUJpAAAAAABihNIAAAAAAMQI\n",
       "pQEAAAAAiOljjDH9496nfrdwSQ5UaQ5m17rCvNe3Y252mJ1V9TnDSh8qnceV1tra+XMDN6n0vFo5\n",
       "O27ZJ2fwPP/ONW+pT0qlc7G18+u5W7V+VpKePV9KAwAAAAAQI5QGAAAAACBGKA0AAAAAQIxQGgAA\n",
       "AACAGKE0AAAAAAAxQmkAAAAAAGKE0gAAAAAAxAilAQAAAACIEUoDAAAAABAjlAYAAAAAIEYoDQAA\n",
       "AABAjFAaAAAAAIAYoTQAAAAAADG9tTZ2L+IdY5Rabim9991L+Lod87NSV/P+WbO90Aday83PDWcx\n",
       "v3PuwD/zXvUs+nkG7x6/m503tX1t5T5+p7bVzosb/rc6/8+Unj1fSgMAAAAAECOUBgAAAAAgRigN\n",
       "AAAAAECMUBoAAAAAgBihNAAAAAAAMUJpAAAAAABihNIAAAAAAMQIpQEAAAAAiBFKAwAAAAAQI5QG\n",
       "AAAAACBGKA0AAAAAQIxQGgAAAACAGKE0AAAAAAAxQmkAAAAAAGL6GGPsXsQ7eu9Tvyu2zWmz9Wnt\n",
       "jhqt1Od0N/SvtVo9vKUn1aRnyBwww/Ocp/M8fxb9PIP/ytwkde7M3h+VzsXW7tjnLWfdjp7M1taX\n",
       "0gAAAAAAxAilAQAAAACIEUoDAAAAABAjlAYAAAAAIEYoDQAAAABAjFAaAAAAAIAYoTQAAAAAADFC\n",
       "aQAAAAAAYoTSAAAAAADECKUBAAAAAIgRSgMAAAAAECOUBgAAAAAgRigNAAAAAEBMH2OM+EV7T19y\n",
       "yYYSlapRpfrsWGvKyszo4XdU60kllWr77lr1/lk8z3k6z/PX7PM8pz+XKz03WqvVe85zy7nDGarN\n",
       "W6V3rNm1+lIaAAAAAIAYoTQAAAAAADFCaQAAAAAAYoTSAAAAAADECKUBAAAAAIgRSgMAAAAAECOU\n",
       "BgAAAAAgRigNAAAAAECMUBoAAAAAgBihNAAAAAAAMUJpAAAAAABihNIAAAAAAMQIpQEAAAAAiBFK\n",
       "AwAAAAAQ01trI33RMeKXXNJ7j1+zUo121GeHHT25pbYpsz2s1IdKZ0drtWp7umq9r2RlTiv1ZXaf\n",
       "lfbIP6t0Fq/Mm32e55Z9vqPamerZQWvn34/m7VlOnzf+PV9KAwAAAAAQI5QGAAAAACBGKA0AAAAA\n",
       "QIxQGgAAAACAGKE0AAAAAAAxQmkAAAAAAGKE0gAAAAAAxAilAQAAAACIEUoDAAAAABAjlAYAAAAA\n",
       "IEYoDQAAAABAjFAaAAAAAIAYoTQAAAAAADFCaQAAAAAAYvoYY8Qv2vv0b2eXu+OaK2bXu7LWHdes\n",
       "ZGWGZt1SWz7H+XovffjdjnN81o7n+Q63zF6Kdzmor9q73A7OrO948rvkk/dWlZ7Qmi+lAQAAAAAI\n",
       "EkoDAAAAABAjlAYAAAAAIEYoDQAAAABAjFAaAAAAAIAYoTQAAAAAADFCaQAAAAAAYoTSAAAAAADE\n",
       "CKUBAAAAAIgRSgMAAAAAENPHGGP6x71/ci3/yuxyd6x1h4V2xmu0stZZK3s8fb071sf3OF9fe/K8\n",
       "V3penX4u/rcnz01Vs/18ci8rnQGtPbsXsML70fd4drxW6TlSKb94l3k7zy09qcSX0gAAAAAAxAil\n",
       "AQAAAACIEUoDAAAAABAjlAYAAAAAIEYoDQAAAABAjFAaAAAAAIAYoTQAAAAAADFCaQAAAAAAYoTS\n",
       "AAAAAADECKUBAAAAAIgRSgMAAAAAECOUBgAAAAAgRigNAAAAAECMUBoAAAAAgJjeWhuzPx5j+qfQ\n",
       "eu+7l8D/cS9/x8qM68lrlWr77lor9f6Wc7xST3aoNgepfs7Wpdq83bJP7lVpxm9Y6y6nvz/+5Hw9\n",
       "Q7UeVjo/ZlXryQ18KQ0AAAAAQIxQGgAAAACAGKE0AAAAAAAxQmkAAAAAAGKE0gAAAAAAxAilAQAA\n",
       "AACIEUoDAAAAABAjlAYAAAAAIEYoDQAAAABAjFAaAAAAAIAYoTQAAAAAADFCaQAAAAAAYoTSAAAA\n",
       "AADE9NbaSF90jPgl+aLe+9TvzME59PC12frsUK0nlWp7upXeOwNeW5nTSjW6ZQ6efO7M9qJSTarN\n",
       "G+epNO9PVu1evmFuqvUk5Ybe77Djv8sOt9xXsz3xpTQAAAAAADFCaQAAAAAAYoTSAAAAAADECKUB\n",
       "AAAAAIgRSgMAAAAAECOUBgAAAAAgRigNAAAAAECMUBoAAAAAgBihNAAAAAAAMUJpAAAAAABihNIA\n",
       "AAAAAMQIpQEAAAAAiBFKAwAAAAAQI5QGAAAAACCmjzFG/KK9T/92w3KvsdKXNHPwt0r9a21PD2dr\n",
       "VGnedpyvzvT6dpwflc6AHVbqc8M+nTv30nv+uOG97sm8s57nyfV58t44W7XZSz9bfSkNAAAAAECM\n",
       "UBoAAAAAgBihNAAAAAAAMUJpAAAAAABihNIAAAAAAMQIpQEAAAAAiBFKAwAAAAAQI5QGAAAAACBG\n",
       "KA0AAAAAQIxQGgAAAACAGKE0AAAAAAAxQmkAAAAAAGKE0gAAAAAAxAilAQAAAACI6WOMMf3j3j+5\n",
       "lq9a2GYpKz2pVKPZfVbaY2vv7fPJe6tqpSc76jO73kprfbJq57+5YYX5qa/Se4Def0+FOdD/1yqd\n",
       "x5XWuqLCffVHtf9L73B2PMvp81aVL6UBAAAAAIgRSgMAAAAAECOUBgAAAAAgRigNAAAAAECMUBoA\n",
       "AAAAgBihNAAAAAAAMUJpAAAAAABihNIAAAAAAMQIpQEAAAAAiBFKAwAAAAAQI5QGAAAAACBGKA0A\n",
       "AAAAQIxQGgAAAACAmD7GGLsXkdB7n/7tjhKtrDdttj6V9tjas/e5Y2+XHD18yZNnr8KZ8QmVnq2n\n",
       "z0xllXry7lpvmZtKPZz15GfOpzx5Dp68tz/M+PfseK/TkzO4r86jJ+fxpTQAAAAAADFCaQAAAAAA\n",
       "YoTSAAAAAADECKUBAAAAAIgRSgMAAAAAECOUBgAAAAAgRigNAAAAAECMUBoAAAAAgBihNAAAAAAA\n",
       "MUJpAAAAAABihNIAAAAAAMQIpQEAAAAAiBFKAwAAAAAQI5QGAAAAACCmjzHG7kW8o/e+ewkRxdrC\n",
       "pXbcj+6NZ6l0ps/O3rt7vGXGK/V+xQ39vKWXKTtmplIPV+pzyz5nVapPa7nncpoZP9NsbSvdy9V6\n",
       "kuK+Oo+ePIcvpQEAAAAAiBFKAwAAAAAQI5QGAAAAACBGKA0AAAAAQIxQGgAAAACAGKE0AAAAAAAx\n",
       "QmkAAAAAAGKE0gAAAAAAxAilAQAAAACIEUoDAAAAABAjlAYAAAAAIEYoDQAAAABAjFAaAAAAAICY\n",
       "PsYY8Yv2Pv3bDcvdYrZGt9SHz6o0b86P8+jJayv1eYf78Uw3nK+39DIldWb8pIfnMQc83Y53iB33\n",
       "1S1OPz9ueWettM9Ka11xyz5n+VIaAAAAAIAYoTQAAAAAADFCaQAAAAAAYoTSAAAAAADECKUBAAAA\n",
       "AIgRSgMAAAAAECOUBgAAAAAgRigNAAAAAECMUBoAAAAAgBihNAAAAAAAMUJpAAAAAABihNIAAAAA\n",
       "AMQIpQEAAAAAiBFKAwAAAAAQ08cYY/rHvX9yLV+1sM1plerT2p4a8TnV5q2SW+6NSjNU6UxPrbVS\n",
       "/1ZU6j2/e/L5evqZ8dPKjD+5h59gDni6Hc9I83aeHWfd6e9nT95bVbf0pNIZ6UtpAAAAAABihNIA\n",
       "AAAAAMQIpQEAAAAAiBFKAwAAAAAQI5QGAAAAACBGKA0AAAAAQIxQGgAAAACAGKE0AAAAAAAxQmkA\n",
       "AAAAAGKE0gAAAAAAxAilAQAAAACIEUoDAAAAABAjlAYAAAAAIEYoDQAAAABATG+tjdkfjzH907je\n",
       "e/yalerT2nyNqu2zknd6og/fU+neWDnrKs3QjjP9dJX6t8Lz/FluOV/5W6X7Su+/p9IcPFm198dK\n",
       "z45KvGPBM1Q6030pDQAAAABAjFAaAAAAAIAYoTQAAAAAADFCaQAAAAAAYoTSAAAAAADECKUBAAAA\n",
       "AIgRSgMAAAAAECOUBgAAAAAgRigNAAAAAECMUBoAAAAAgJjeWhvpi44xf8nee/yas2bX2tr8eleu\n",
       "mbajJztU6IlesOKWM/10O545Kyr1vlpt0245W2/oZdKOM6DSuXML5+tn3XIe71Bp3iqddc4A+P/d\n",
       "cKb7UhoAAAAAgBihNAAAAAAAMUJpAAAAAABihNIAAAAAAMQIpQEAAAAAiBFKAwAAAAAQI5QGAAAA\n",
       "ACBGKA0AAAAAQIxQGgAAAACAGKE0AAAAAAAxQmkAAAAAAGKE0gAAAAAAxAilAQAAAACIEUoDAAAA\n",
       "ABDTxxhj9yLe0XvfvYSIYm2ZstLLHfWZXW+FXlbaW7W54bUdZ/rpc3DLc47XKp2vp99Tn/JufdTl\n",
       "O1bq6pnzPZWeXaf3xLvumdLPyEr3VAXuDXZxpr/mS2kAAAAAAGKE0gAAAAAAxAilAQAAAACIEUoD\n",
       "AAAAABAjlAYAAAAAIEYoDQAAAABAjFAaAAAAAIAYoTQAAAAAADFCaQAAAAAAYoTSAAAAAADECKUB\n",
       "AAAAAIgRSgMAAAAAECOUBgAAAAAgpo8xRvyivU//dsNyt5it0Y76rPST197ppz58zy3nzqxqZ3r6\n",
       "fH33euaN1u450yudASnVauLMeu2Wd/pKc5B6Lp9+1vxUqX8rdvTkltqe7pbzje9xpn+HL6UBAAAA\n",
       "AIgRSgMAAAAAECOUBgAAAAAgRigNAAAAAECMUBoAAAAAgBihNAAAAAAAMUJpAAAAAABihNIAAAAA\n",
       "AMQIpQEAAAAAiBFKAwAAAAAQI5QGAAAAACBGKA0AAAAAQIxQGgAAAACAGKE0AAAAAAAxfYwxpn/c\n",
       "+yfX8lUL25xWqT4rdtQWkmbv5Wr3xi1n1qzZfqbqWm3ebnHL+TFrx7lzem1vOYtP78NPt/Rkh5U5\n",
       "8Hz9nJVaVvqfba3PcvrZrIfnqXbWzaq0T19KAwAAAAAQI5QGAAAAACBGKA0AAAAAQIxQGgAAAACA\n",
       "GKE0AAAAAAAxQmkAAAAAAGKE0gAAAAAAxAilAQAAAACIEUoDAAAAABAjlAYAAAAAIEYoDQAAAABA\n",
       "jFAaAAAAAIAYoTQAAAAAADFCaQAAAAAAYnprbcz+eIzpn8b13uPXrFSfFbO1vaU+nGPHOTBr9v5Y\n",
       "2aN7sja9/55KZ0dr+X5Wm73Ue4v3o9d21EffzKQAACAASURBVEdPmFFpbqo9r/iOSmdWtXeIdzx5\n",
       "b7tVOut2vLfsMLtPX0oDAAAAABAjlAYAAAAAIEYoDQAAAABAjFAaAAAAAIAYoTQAAAAAADFCaQAA\n",
       "AAAAYoTSAAAAAADECKUBAAAAAIgRSgMAAAAAECOUBgAAAAAgRigNAAAAAECMUBoAAAAAgBihNAAA\n",
       "AAAAMb21NtIXHWP+kr33+DVnza61tXrrTdtRH85Q7b5K23Ef31DXJGfx91R6h1hRaYYqeXcObjmP\n",
       "0/vc8T9iRbXz4wZPPiPNG63ted85/b568t5+qnQG+F9Pa76UBgAAAAAgSCgNAAAAAECMUBoAAAAA\n",
       "gBihNAAAAAAAMUJpAAAAAABihNIAAAAAAMQIpQEAAAAAiBFKAwAAAAAQI5QGAAAAACBGKA0AAAAA\n",
       "QIxQGgAAAACAGKE0AAAAAAAxQmkAAAAAAGKE0gAAAAAAxPQxxti9iHf03ncv4bEqjcLsHFTa49NV\n",
       "upd3zE2lGV/p5Q335Lv1qVSTHb2vdHa0tmeflWaIz9pxf5i31yo9z6tR27+pyXM4z5nh3fw1M/49\n",
       "s3PgS2kAAAAAAGKE0gAAAAAAxAilAQAAAACIEUoDAAAAABAjlAYAAAAAIEYoDQAAAABAjFAaAAAA\n",
       "AIAYoTQAAAAAADFCaQAAAAAAYoTSAAAAAADECKUBAAAAAIgRSgMAAAAAECOUBgAAAAAgprfWxuyP\n",
       "x5j7ae999pLT1+R3s33ZMQc7mL2/3XIvV5vVG+yYn9PnYKUmO/ZW6QzYQU/uVe3Zmn5/3OH08/+/\n",
       "qe1npetZoSY/VZq3HSqdkdWeP0/mPfA7zPjv0rPnS2kAAAAAAGKE0gAAAAAAxAilAQAAAACIEUoD\n",
       "AAAAABAjlAYAAAAAIEYoDQAAAABAjFAaAAAAAIAYoTQAAAAAADFCaQAAAAAAYoTSAAAAAADECKUB\n",
       "AAAAAIgRSgMAAAAAECOUBgAAAAAgRigNAAAAAEBMH2P8L7t2tOO4qkQBFP7/o7lPLUVn5iZj6Gxc\n",
       "Zq33yEAV4Gx5xB/ae/qRbcM0t7C23zO7thXWZ0ffzFpZzyfX8DTOuvpO2Y+V5llprBVUulsr8R7w\n",
       "2Y55Pnlt03u5wpq8enLtXznTv6NaH1yx0jPeA9+rtB+rrU96vL6UBgAAAAAgRigNAAAAAECMUBoA\n",
       "AAAAgBihNAAAAAAAMUJpAAAAAABihNIAAAAAAMQIpQEAAAAAiBFKAwAAAAAQI5QGAAAAACBGKA0A\n",
       "AAAAQIxQGgAAAACAmD7GGNM/7n3qdwuPnDY71tZqjddY31vpgx2urFG1Ht8hXf9T1nXFCefHk/vg\n",
       "yWfqq2rzrKTS/rjaB5Xmdoode7nSubPSs5XGe/e9vOOdvto9t2OezvTvqFCTavvjBJX24yn9M1sT\n",
       "X0oDAAAAABAjlAYAAAAAIEYoDQAAAABAjFAaAAAAAIAYoTQAAAAAADFCaQAAAAAAYoTSAAAAAADE\n",
       "CKUBAAAAAIgRSgMAAAAAECOUBgAAAAAgRigNAAAAAECMUBoAAAAAgBihNAAAAAAAMb21NnYPAlLG\n",
       "eG67997jz9yxnivzTI+30lhX7Oi9J6u0ryr1Kfe0o/fufmbZV++dcrfyPXc/A1bo8fdO+b+0g31F\n",
       "UqX3x1P6Z3Z9fCkNAAAAAECMUBoAAAAAgBihNAAAAAAAMUJpAAAAAABihNIAAAAAAMQIpQEAAAAA\n",
       "iBFKAwAAAAAQI5QGAAAAACBGKA0AAAAAQIxQGgAAAACAGKE0AAAAAAAxQmkAAAAAAGKE0gAAAAAA\n",
       "xAilAQAAAACI6WOMsXsQkNJ7n/7tjq1yZbx3Hx8ZK30wW0/XyO86ZV/pm+fY0bNP7p9q7yqzKp11\n",
       "ldb1JN5b/nTKmlSa5wljba1eD11RqYaVVHt/rDbeWel+96U0AAAAAAAxQmkAAAAAAGKE0gAAAAAA\n",
       "xAilAQAAAACIEUoDAAAAABAjlAYAAAAAIEYoDQAAAABAjFAaAAAAAIAYoTQAAAAAADFCaQAAAAAA\n",
       "YoTSAAAAAADECKUBAAAAAIgRSgMAAAAAENPHGGP3IOCq3vvuIdBac3w8y459dUIPXV3XE9aktfl+\n",
       "O2V9dqhUk5XzKjXeSu8qK2tSqW9mVei3qirsk3QNK6zJq9n1qTZPvsOd/HeV7o4T3gN2qda3M3wp\n",
       "DQAAAABAjFAaAAAAAIAYoTQAAAAAADFCaQAAAAAAYoTSAAAAAADECKUBAAAAAIgRSgMAAAAAECOU\n",
       "BgAAAAAgRigNAAAAAECMUBoAAAAAgBihNAAAAAAAMUJpAAAAAABihNIAAAAAAMQIpQEAAAAAiOmt\n",
       "tTH74zGmfwqt9z79W713D2p4P9VqMjveSmNNsSafnXLuVKvLU+m371hZ10p7o1r/VLrPr6rU41BN\n",
       "an9V21c7zlR35HdU+3+e5ktpAAAAAABihNIAAAAAAMQIpQEAAAAAiBFKAwAAAAAQI5QGAAAAACBG\n",
       "KA0AAAAAQIxQGgAAAACAGKE0AAAAAAAxQmkAAAAAAGKE0gAAAAAAxAilAQAAAACIEUoDAAAAABAj\n",
       "lAYAAAAAIEYoDQAAAABATG+tjfRDx4g/ki/qve8ewj/Te3+nhvdTqSanuHvv7eiZu6/Jf82u0Y55\n",
       "rtSzWl2eSr+xYkdNqr17pOaZ7nH7kYrufuedcqaecgbs6LdKd2Sld0lfSgMAAAAAECOUBgAAAAAg\n",
       "RigNAAAAAECMUBoAAAAAgBihNAAAAAAAMUJpAAAAAABihNIAAAAAAMQIpQEAAAAAiBFKAwAAAAAQ\n",
       "I5QGAAAAACBGKA0AAAAAQIxQGgAAAACAGKE0AAAAAAAxfYwx4g/tffq3G4Z7jNm6VKrJk3vvyXN7\n",
       "VWmelcbKZ6kzstJZvKPHV57Je86d9/Te7zql33b0zSlrO8te/pOeoTV74/+ptD8q/f90P35PpbX1\n",
       "pTQAAAAAADFCaQAAAAAAYoTSAAAAAADECKUBAAAAAIgRSgMAAAAAECOUBgAAAAAgRigNAAAAAECM\n",
       "UBoAAAAAgBihNAAAAAAAMUJpAAAAAABihNIAAAAAAMQIpQEAAAAAiBFKAwAAAAAQI5QGAAAAACCm\n",
       "jzHG9I97/82xfNXCNEs5pSbmeQ9PnltVp5x1K9K9d7Ump+wNvXo/s71XrZanzPPuKtVh5VyuNN5q\n",
       "PX7KPBOq9Tjv2Ru/a8d6nvB/oNL92Fqt8VYaqy+lAQAAAACIEUoDAAAAABAjlAYAAAAAIEYoDQAA\n",
       "AABAjFAaAAAAAIAYoTQAAAAAADFCaQAAAAAAYoTSAAAAAADECKUBAAAAAIgRSgMAAAAAECOUBgAA\n",
       "AAAgRigNAAAAAECMUBoAAAAAgJg+xhi7B5HQe5/+7Y4lmh3vIeUE/o9qZ92sU+b5ZO6571nZH2mz\n",
       "9awwx1N6tUIt+D57+R4qrOePSuu6Q6Vatnb/eu5Yz7uvyW7Vepzv8KU0AAAAAAAxQmkAAAAAAGKE\n",
       "0gAAAAAAxAilAQAAAACIEUoDAAAAABAjlAYAAAAAIEYoDQAAAABAjFAaAAAAAIAYoTQAAAAAADFC\n",
       "aQAAAAAAYoTSAAAAAADE9NbamP3xGNM/ndZ7jz/zFDvqCfxdpbNu5ew4ZZ5PVal+rdWq4craVprn\n",
       "k83WsNr7tX7j6dJ7+ZT9aJ7vVZpja3vmeeWZ7tbvOaXH+Q5fSgMAAAAAECOUBgAAAAAgRigNAAAA\n",
       "AECMUBoAAAAAgBihNAAAAAAAMUJpAAAAAABihNIAAAAAAMQIpQEAAAAAiBFKAwAAAAAQI5QGAAAA\n",
       "ACBGKA0AAAAAQIxQGgAAAACAGKE0AAAAAAAxQmkAAAAAAGJ6a23sHsQVY5Qabim996nfqQn83eye\n",
       "as2+uqMnn5FPnturHfNcOQfSqtUzrVItK9Bv7JLay7M9vuOscc99dsI89V59p6ynd4j7me0fX0oD\n",
       "AAAAABAjlAYAAAAAIEYoDQAAAABAjFAaAAAAAIAYoTQAAAAAADFCaQAAAAAAYoTSAAAAAADECKUB\n",
       "AAAAAIgRSgMAAAAAECOUBgAAAAAgRigNAAAAAECMUBoAAAAAgBihNAAAAAAAMX2MMXYP4ore+9Tv\n",
       "ik1z2uz67HBKTajPvnqWu9dztoZ3n9d/VZrnKfvqlHesU+Z5d+rAKj0EcCbn//ek19aX0gAAAAAA\n",
       "xAilAQAAAACIEUoDAAAAABAjlAYAAAAAIEYoDQAAAABAjFAaAAAAAIAYoTQAAAAAADFCaQAAAAAA\n",
       "YoTSAAAAAADECKUBAAAAAIgRSgMAAAAAECOUBgAAAAAgRigNAAAAAECMUBoAAAAAgJg+xhjxh/ae\n",
       "fuSSDUs0vUY7xjprpQ8qzZP7sK/eM0/4u2r9Vuk9a3Z9KszxlLOmQi1+nFKTSir0j74B+H0Vzv9X\n",
       "le6CSmvrS2kAAAAAAGKE0gAAAAAAxAilAQAAAACIEUoDAAAAABAjlAYAAAAAIEYoDQAAAABAjFAa\n",
       "AAAAAIAYoTQAAAAAADFCaQAAAAAAYoTSAAAAAADECKUBAAAAAIgRSgMAAAAAECOUBgAAAAAgprfW\n",
       "RvqhY8QfuaT3vnsIEbN1qbQ+1XqPP53Sb+Z5P86P+ir12wq9eg+z/bajfit7o1K/VapJNU9e2yfP\n",
       "DWDVKWfkjnmesLa+lAYAAAAAIEYoDQAAAABAjFAaAAAAAIAYoTQAAAAAADFCaQAAAAAAYoTSAAAA\n",
       "AADECKUBAAAAAIgRSgMAAAAAECOUBgAAAAAgRigNAAAAAECMUBoAAAAAgBihNAAAAAAAMUJpAAAA\n",
       "AABihNIAAAAAAMT0McaIP7T36d/ODnfHM7kffXAfs7VQB3bRs/fgHP9Mr37HSu/xpx3v9DtU2len\n",
       "rO3d51mpZ4DnuPvZ+KrS+b9yplca7+xYfSkNAAAAAECMUBoAAAAAgBihNAAAAAAAMUJpAAAAAABi\n",
       "hNIAAAAAAMQIpQEAAAAAiBFKAwAAAAAQI5QGAAAAACBGKA0AAAAAQIxQGgAAAACAGKE0AAAAAAAx\n",
       "QmkAAAAAAGKE0gAAAAAAxAilAQAAAACI6a21sXsQV4wxN9ze+y+P5LPZsfLZjnrOenIfVKpDa8+u\n",
       "Bf/u7n17Sp/evQ6vdtTE+nzP7NpWmyf3sKPf9HhtK+e/GsLZnB/sMtt7vpQGAAAAACBGKA0AAAAA\n",
       "QIxQGgAAAACAGKE0AAAAAAAxQmkAAAAAAGKE0gAAAAAAxAilAQAAAACIEUoDAAAAABAjlAYAAAAA\n",
       "IEYoDQAAAABAjFAaAAAAAIAYoTQAAAAAADFCaQAAAAAAYvoYY+wexFP13qd/e0JZTlmfCvOcHWOl\n",
       "OrR2zjxPUGFfzarUp0+uw6uVec46ZX1m57mjJldVqiHvVTsDqo33qSqcUz/UD+7F+cEu6f+ivpQG\n",
       "AAAAACBGKA0AAAAAQIxQGgAAAACAGKE0AAAAAAAxQmkAAAAAAGKE0gAAAAAAxAilAQAAAACIEUoD\n",
       "AAAAABAjlAYAAAAAIEYoDQAAAABAjFAaAAAAAIAYoTQAAAAAADFCaQAAAAAAYoTSAAAAAADE9DHG\n",
       "2D2Iu+u97x7CP9tRzlPWp9I8K5itRaU6OF4/O6GeleZYwY5zvNrdWqlXn3xOVuq3U6jJ9zx5bZ88\n",
       "tx877hx4ulP21QlnZDWV/n/6UhoAAAAAgBihNAAAAAAAMUJpAAAAAABihNIAAAAAAMQIpQEAAAAA\n",
       "iBFKAwAAAAAQI5QGAAAAACBGKA0AAAAAQIxQGgAAAACAGKE0AAAAAAAxvbU2Zn88xvRP43rv0789\n",
       "ZZ6zKq0PJDl3Pqs0T+rbcUfuUGlfzdZkxxwr9E+l2s+qUIdXlWpyytrefZ4rPXP3ub2qtDc42yn7\n",
       "6pR5VlLpPXmWL6UBAAAAAIgRSgMAAAAAECOUBgAAAAAgRigNAAAAAECMUBoAAAAAgBihNAAAAAAA\n",
       "MUJpAAAAAABihNIAAAAAAMQIpQEAAAAAiBFKAwAAAAAQI5QGAAAAACBGKA0AAAAAQIxQGgAAAACA\n",
       "GKE0AAAAAAAxvbU20g8dY/6RvfdfHMl37ZjnyjNnVRorzHDu3I/z41wrfXpK36Tv5Upnx4oK/VPp\n",
       "nazSWFfsmOcpa0tt7nOS9NuzVLrnqr0np/8P+FIaAAAAAIAYoTQAAAAAADFCaQAAAAAAYoTSAAAA\n",
       "AADECKUBAAAAAIgRSgMAAAAAECOUBgAAAAAgRigNAAAAAECMUBoAAAAAgBihNAAAAAAAMUJpAAAA\n",
       "AABihNIAAAAAAMQIpQEAAAAAiBFKAwAAAAAQ08cYY/cg+FPvffcQbk3bMmN2X+m3+1k5I9XzHird\n",
       "czt6Zsf62BvvXa3J7HpW2hvVVKrJyn6sNl5qq3Rm6dNnuXvv6bf37l6/36IP3vOlNAAAAAAAMUJp\n",
       "AAAAAABihNIAAAAAAMQIpQEAAAAAiBFKAwAAAAAQI5QGAAAAACBGKA0AAAAAQIxQGgAAAACAGKE0\n",
       "AAAAAAAxQmkAAAAAAGKE0gAAAAAAxAilAQAAAACIEUoDAAAAABDTxxhj9yCeqvc+/VtleW92ba1r\n",
       "fSv7Kk2/faaetZ1yz+3o0x3rc8rdmqpntXWBFaecH0/lPv+s0jwreXJNnjy3V87/907pg1m+lAYA\n",
       "AAAAIEYoDQAAAABAjFAaAAAAAIAYoTQAAAAAADFCaQAAAAAAYoTSAAAAAADECKUBAAAAAIgRSgMA\n",
       "AAAAECOUBgAAAAAgRigNAAAAAECMUBoAAAAAgBihNAAAAAAAMUJpAAAAAABihNIAAAAAAMT0McbY\n",
       "PYi7673vHsI/q1TOSuvaWq21rWC2/pXqsNLj5nk/T+7ZSufxynpWqmGlmqyYXdsK506lfoPW6p07\n",
       "9sqfKtVwx32+wyl9evea6LfPTpnnLOvzHb6UBgAAAAAgRigNAAAAAECMUBoAAAAAgBihNAAAAAAA\n",
       "MUJpAAAAAABihNIAAAAAAMQIpQEAAAAAiBFKAwAAAAAQI5QGAAAAACBGKA0AAAAAQIxQGgAAAACA\n",
       "GKE0AAAAAAAxQmkAAAAAAGL6GGPsHkRC7336t5WWaMc8Z59ZaV1bO2eeV6z02w7pHt9hpd/M8x52\n",
       "9OmTz6lXd6/9q1NqMqtSLZP0Da2d88761Hm6z5+lUp/qParY8R5Yqccr7WVfSgMAAAAAECOUBgAA\n",
       "AAAgRigNAAAAAECMUBoAAAAAgBihNAAAAAAAMUJpAAAAAABihNIAAAAAAMQIpQEAAAAAiBFKAwAA\n",
       "AAAQI5QGAAAAACBGKA0AAAAAQIxQGgAAAACAGKE0AAAAAAAxQmkAAAAAAGL6GGPsHsQVvffdQ/hn\n",
       "K0u7Y56z4zXW70ltz9l1KXZ8wKNVOotXrMyz0pllnu9VmmOS9XyOU95ZK8zzyXP74Qz4rFI9K9F7\n",
       "56r2rrvjHavSuTM7T19KAwAAAAAQI5QGAAAAACBGKA0AAAAAQIxQGgAAAACAGKE0AAAAAAAxQmkA\n",
       "AAAAAGKE0gAAAAAAxAilAQAAAACIEUoDAAAAABAjlAYAAAAAIEYoDQAAAABAjFAaAAAAAIAYoTQA\n",
       "AAAAADFCaQAAAAAAYvoYY8Qf2vv0bzcMF7ZZ2St3Zy/D383u+x176sln1KuVta20RrPzrDTH1u5/\n",
       "/1jPZ6l0pnOuU/6fnzLPStSkvmrvLWmn9OlsH/hSGgAAAACAGKE0AAAAAAAxQmkAAAAAAGKE0gAA\n",
       "AAAAxAilAQAAAACIEUoDAAAAABAjlAYAAAAAIEYoDQAAAABAjFAaAAAAAIAYoTQAAAAAADFCaQAA\n",
       "AAAAYoTSAAAAAADECKUBAAAAAIjprbWxexAJYxwxTW6o9z792yf37ey6PHlNeKaVM+Du7EcqSt0/\n",
       "p9xzJ8yz2jleaW35XZV6daVPT5lnJXevySl1WHHCfb5DtTwovZd9KQ0AAAAAQIxQGgAAAACAGKE0\n",
       "AAAAAAAxQmkAAAAAAGKE0gAAAAAAxAilAQAAAACIEUoDAAAAABAjlAYAAAAAIEYoDQAAAABAjFAa\n",
       "AAAAAIAYoTQAAAAAADFCaQAAAAAAYoTSAAAAAADECKUBAAAAAIjpY4yxexAJvffp3x6yRHyw0kMJ\n",
       "O/r07mvyX/YyK2b7/cl9525llx33z9WerTDGH5Xu85Wz45Rz/JR5PpW79Vkq7ccn996T5/bqlPt8\n",
       "h0pruyJdF19KAwAAAAAQI5QGAAAAACBGKA0AAAAAQIxQGgAAAACAGKE0AAAAAAAxQmkAAAAAAGKE\n",
       "0gAAAAAAxAilAQAAAACIEUoDAAAAABAjlAYAAAAAIKaPMcbuQVzRe989hH9WbGmPsNI/d6/njr1x\n",
       "9zX5r9k1qjZP3rv7PbKj3+6+Jq/sx2dxLpNU6V2p0rncmj35N5VqqH6fVapnJSu9d/ea7Jhbpb28\n",
       "I5t5ch70W9K950tpAAAAAABihNIAAAAAAMQIpQEAAAAAiBFKAwAAAAAQI5QGAAAAACBGKA0AAAAA\n",
       "QIxQGgAAAACAGKE0AAAAAAAxQmkAAAAAAGKE0gAAAAAAxAilAQAAAACIEUoDAAAAABAjlAYAAAAA\n",
       "IEYoDQAAAABATB9jjPhDe5/+7YbhTjtlnjusrG3aSi2vzHNHz+zo8VNqz3tPPl939Pjd1+TVk2tf\n",
       "VaVzuTV9UJ0z4J5m61KhJk+e249T9tUp86S+Sv8HjPW9ajlNmi+lAQAAAACIEUoDAAAAABAjlAYA\n",
       "AAAAIEYoDQAAAABAjFAaAAAAAIAYoTQAAAAAADFCaQAAAAAAYoTSAAAAAADECKUBAAAAAIgRSgMA\n",
       "AAAAECOUBgAAAAAgRigNAAAAAECMUBoAAAAAgBihNAAAAAAAMb21NnYPImGM+Wn23n9xJN+1Ms+0\n",
       "lXWtNM8VlXrvqhNqqMc/q9TjszW5OscdtZ+tg7v1WXb0wQ6nzPPunAH3U6kmreXu5TR362enzJPa\n",
       "/BektT3nVaX+8aU0AAAAAAAxQmkAAAAAAGKE0gAAAAAAxAilAQAAAACIEUoDAAAAABAjlAYAAAAA\n",
       "IEYoDQAAAABAjFAaAAAAAIAYoTQAAAAAADFCaQAAAAAAYoTSAAAAAADECKUBAAAAAIgRSgMAAAAA\n",
       "ENPHGGP3IPg9vffp3862wsoz03a0+46aVDC7LtVqmFZtfZ7c4z8q9c9VJ9SvtXo9XqnnnvzuYX+8\n",
       "V2l9TjkDKtUEqrAf66vwzvFD33xPpb1cKRf0pTQAAAAAADFCaQAAAAAAYoTSAAAAAADECKUBAAAA\n",
       "AIgRSgMAAAAAECOUBgAAAAAgRigNAAAAAECMUBoAAAAAgBihNAAAAAAAMUJpAAAAAABihNIAAAAA\n",
       "AMQIpQEAAAAAiBFKAwAAAAAQI5QGAAAAACCmt9bG7I/HmP4pH/Te4888oZ471jVlR/2evJ6vKu0N\n",
       "Nfme2bWt1D9XrfRbpRpW8+Seq6TSmVFpb6ysT6V5VuPc4ekqnR/245+qvbPOOmWesyrt411m+2B2\n",
       "bX0pDQAAAABAjFAaAAAAAIAYoTQAAAAAADFCaQAAAAAAYoTSAAAAAADECKUBAAAAAIgRSgMAAAAA\n",
       "ECOUBgAAAAAgRigNAAAAAECMUBoAAAAAgBihNAAAAAAAMUJpAAAAAABihNIAAAAAAMT0McaY/nHv\n",
       "U79beGQps+vT2p41qlTPSmNNWem3WU9ez1c7+k2Pv7ej31MqnanV2B/vnbI+s568T9SeVc4dKqj2\n",
       "/3zWKfvx7vfyjv+CO1T671Ktx0/gS2kAAAAAAGKE0gAAAAAAxAilAQAAAACIEUoDAAAAABAjlAYA\n",
       "AAAAIEYoDQAAAABAjFAaAAAAAIAYoTQAAAAAADFCaQAAAAAAYoTSAAAAAADECKUBAAAAAIgRSgMA\n",
       "AAAAECOUBgAAAAAgRigNAAAAAEBMb62N3YO4Yoz8cHvv8WdyP3fvvbuP77+qjXfGyhx3nDuVarJj\n",
       "rCmn1H6HSv1W6d2jWv9U6oOUavc531Hp3GlN752sUq/O9mmlOba2Z57OgHuo1quz9Nt3+FIaAAAA\n",
       "AIAYoTQAAAAAADFCaQAAAAAAYoTSAAAAAADECKUBAAAAAIgRSgMAAAAAECOUBgAAAAAgRigNAAAA\n",
       "AECMUBoAAAAAgBihNAAAAAAAMUJpAAAAAABihNIAAAAAAMQIpQEAAAAAiBFKAwAAAAAQ08cYY/cg\n",
       "rui9x59ZbIn4kh29x++yl987pcfTfXB1XXf06WztK421mkrn1UpNZudZoQ/sj/cq9Xg1lc70FafM\n",
       "86l23B3cT+re0jOfOVPfsz7vza6PL6UBAAAAAIgRSgMAAAAAECOUBgAAAAAgRigNAAAAAECMUBoA\n",
       "AAAAgBihNAAAAAAAMUJpAAAAAABihNIAAAAAAMQIpQEAAAAAiBFKAwAAAAAQI5QGAAAAACBGKA0A\n",
       "AAAAQIxQGgAAAACAmN5aG7M/HmPup7332UdOP3PF7Hh3jJX3qvUev+uEvazHP1tZI/bTp5/teD+b\n",
       "9eR6Ws/3TriTV1S7qyqdO1ed0nOzKtTwh1p+z93P9FP+I9mP71Van9bOWCNfSgMAAAAAECOUBgAA\n",
       "AAAgRigNAAAAAECMUBoAAAAAgBihNAAAAAAAMUJpAAAAAABihNIAAAAAAMQIpQEAAAAAiBFKAwAA\n",
       "AAAQI5QGAAAAACBGKA0AAAAAQEwfY4z4Q3tPP7KcDWUppVIPqeXvOqX2p8xz1sr62JO1Vav9jr1c\n",
       "qcdn16dCLSuM8Yf76nsq9Th/d0INq92ts06Z56xK53kFO+7WSn3qHfmzE9bIl9IAAAAAAMQIpQEA\n",
       "AAAAiBFKAwAAAAAQI5QGAAAAACBGKA0AAAAAQIxQGgAAAACAGKE0AAAAAAAxQmkAAAAAAGKE0gAA\n",
       "AAAAxAilAQAAAACIEUoDAAAAABAjlAYAAAAAIEYoDQAAAABATB9jjOkf9z71u4VHHuOEtZ2dY2vm\n",
       "+QQn9PgpVnq8Er33u/TN96TP11Nq+WSnnG+n9Oop9Zx19z5Yqd/d5/bKPL/H/6z6dvR4+j2w0t5o\n",
       "bc97cqU1mh2rL6UBAAAAAIgRSgMAyYbf8gAADL9JREFUAAAAECOUBgAAAAAgRigNAAAAAECMUBoA\n",
       "AAAAgBihNAAAAAAAMUJpAAAAAABihNIAAAAAAMQIpQEAAAAAiBFKAwAAAAAQI5QGAAAAACBGKA0A\n",
       "AAAAQIxQGgAAAACAGKE0AAAAAAAxvbU2dg/iijHqDLf3vnsIl8yubaV5rvTP3ee5Y2/cfU3+q9L5\n",
       "scNsPU9ZV+vzp5Uz4Mnr8qrSOXlKTfhTpb1caay7nHJfnTJPaqv0HrDCvvrTKfeVHn/vlPWZ5Utp\n",
       "AAAAAABihNIAAAAAAMQIpQEAAAAAiBFKAwAAAAAQI5QGAAAAACBGKA0AAAAAQIxQGgAAAACAGKE0\n",
       "AAAAAAAxQmkAAAAAAGKE0gAAAAAAxAilAQAAAACIEUoDAAAAABAjlAYAAAAAIEYoDQAAAABATB9j\n",
       "jN2DuKL3PvW7lWnueCZcNdunK6r1+Al7eUcfrNixtndfI2vyXrX1OeH8qDTHp6u0lyupdu7sMLtG\n",
       "FebpjKM1d+QnT16fCufUD7kX1fhSGgAAAACAGKE0AAAAAAAxQmkAAAAAAGKE0gAAAAAAxAilAQAA\n",
       "AACIEUoDAAAAABAjlAYAAAAAIEYoDQAAAABAjFAaAAAAAIAYoTQAAAAAADFCaQAAAAAAYoTSAAAA\n",
       "AADECKUBAAAAAIjpY4wRf2jv6Ue2lWlWGy/PcaX3dvTMyt6YHe+O/Thrx7lT7exwvv7JmrxX6QxY\n",
       "Ue29ZVal3kvZcbfynnP5bKe8k53A/fhepfVp7doauVs/S9f/lHXlPV9KAwAAAAAQI5QGAAAAACBG\n",
       "KA0AAAAAQIxQGgAAAACAGKE0AAAAAAAxQmkAAAAAAGKE0gAAAAAAxAilAQAAAACIEUoDAAAAABAj\n",
       "lAYAAAAAIEYoDQAAAABAjFAaAAAAAIAYoTQAAAAAADFCaQAAAAAAYvoYY0z/uPep3y088hjW9jlm\n",
       "a/l0evW9HX0zW5OVse7og/T5evV5J6zJrmdyP0/ug0r3f4X1/A2V+q3a3VrJ3fem+n1WaS/PqvRf\n",
       "oIJT1rPS3VFprHyPL6UBAAAAAIgRSgMAAAAAECOUBgAAAAAgRigNAAAAAECMUBoAAAAAgBihNAAA\n",
       "AAAAMUJpAAAAAABihNIAAAAAAMQIpQEAAAAAiBFKAwAAAAAQI5QGAAAAACBGKA0AAAAAQIxQGgAA\n",
       "AACAmN5aG7sHccUYdYbbe989hEsqre0Os/W0rn93wnqunAGnzLOS2Zo8eX1W+nTHulTaV5VU6/HU\n",
       "Xq7Ub5Xuq2r9Vkmlnm3tue+Slfbjimp7Of0euKOW1XrvynjvPj4yKp2Rp/ClNAAAAAAAMUJpAAAA\n",
       "AABihNIAAAAAAMQIpQEAAAAAiBFKAwAAAAAQI5QGAAAAACBGKA0AAAAAQIxQGgAAAACAGKE0AAAA\n",
       "AAAxQmkAAAAAAGKE0gAAAAAAxAilAQAAAACIEUoDAAAAABAjlAYAAAAAIKaPMcbuQVzRe5/63co0\n",
       "dzxzhxPmOTvHXe6+tqesZ6V5Ouvg/9Pj71mf91J3wY5zvJJT+m2Hlf558jvWk+f2w/vj91TqA37X\n",
       "KT1eyY577hSza+tLaQAAAAAAYoTSAAAAAADECKUBAAAAAIgRSgMAAAAAECOUBgAAAAAgRigNAAAA\n",
       "AECMUBoAAAAAgBihNAAAAAAAMUJpAAAAAABihNIAAAAAAMQIpQEAAAAAiBFKAwAAAAAQI5QGAAAA\n",
       "ACBGKA0AAAAAQExvrY3ZH48x99Pe++wjp82OtbVa490x1lk7arLyzB2uzNN6sqrSWce5Kt1zre3p\n",
       "8UprVGl9nFf3sNLfp9TQfU7SKf3m7uAq99X3eNf9nvTa+lIaAAAAAIAYoTQAAAAAADFCaQAAAAAA\n",
       "YoTSAAD8r107SGIkhYEACP9/NHPaiD15xmAXLSvz3mFAAtoVDQAAECOUBgAAAAAgRigNAAAAAECM\n",
       "UBoAAAAAgBihNAAAAAAAMUJpAAAAAABihNIAAAAAAMTMtda6PQh415wz/pu7WyU11pOtXGk9ee2k\n",
       "ljdqsjte/VNfl9o7X1+7sT4plepwQ6XaV7ofx6g1XvvkGbr0WyX2xnNU6rdKfVPt3Nl1Y56V1taX\n",
       "0gAAAAAAxAilAQAAAACIEUoDAAAAABAjlAYAAAAAIEYoDQAAAABAjFAaAAAAAIAYoTQAAAAAADFC\n",
       "aQAAAAAAYoTSAAAAAADECKUBAAAAAIgRSgMAAAAAECOUBgAAAAAgRigNAAAAAECMUBoAAAAAgJi5\n",
       "1lq3B0FPc87tZ7Vtfbv171L7k/3Ba116KKFan+7Wvtp9lT5fq61PSpd7rsM8q511XVTqoZQuvdqh\n",
       "9u7Wz+qynjfmWencOanljXlWqsnuWH0pDQAAAABAjFAaAAAAAIAYoTQAAAAAADFCaQAAAAAAYoTS\n",
       "AAAAAADECKUBAAAAAIgRSgMAAAAAECOUBgAAAAAgRigNAAAAAECMUBoAAAAAgBihNAAAAAAAMUJp\n",
       "AAAAAABihNIAAAAAAMTMtda6PQhqm3PeHsI/0+6fVan2Y+Trf7I+evV7duvyyzWxJq9VO+t27dbz\n",
       "xvrc6L0KfVCphrtOau+s+y2/Wk/vj39XqfZdztcbnr62N+6rE9Xqz7Ps9qwvpQEAAAAAiBFKAwAA\n",
       "AAAQI5QGAAAAACBGKA0AAAAAQIxQGgAAAACAGKE0AAAAAAAxQmkAAAAAAGKE0gAAAAAAxAilAQAA\n",
       "AACIEUoDAAAAABAjlAYAAAAAIEYoDQAAAABAjFAaAAAAAIAYoTQAAAAAADFzjLF2H15r+1EeaM65\n",
       "9VylPtid4xi15vmuDrUf46z+VVSrya5KtUzVpNKajHGnV7ucdR3c6Hd9UJ++eZ4Kd9duDSvM7T+V\n",
       "7uRqKp0BN/4r+3/+HN6TGSN/NvtSGgAAAACAGKE0AAAAAAAxQmkAAAAAAGKE0gAAAAAAxAilAQAA\n",
       "AACIEUoDAAAAABAjlAYAAAAAIEYoDQAAAABAjFAaAAAAAIAYoTQAAAAAADFCaQAAAAAAYoTSAAAA\n",
       "AADECKUBAAAAAIgRSgMAAAAAEDPXWmv74Tm3njv4Sf5ityY3nPRBl3m+o9KajLG/Lifz7HD2VFuf\n",
       "DvdIam9WWpMx6p1Zu6rVJa3SGfDuWNX+O9xzz9Rlnr/qxp3cpfY39kalenpP/qxK79ddanJDpXcl\n",
       "X0oDAAAAABAjlAYAAAAAIEYoDQAAAABAjFAaAAAAAIAYoTQAAAAAADFCaQAAAAAAYoTSAAAAAADE\n",
       "CKUBAAAAAIgRSgMAAAAAECOUBgAAAAAgRigNAAAAAECMUBoAAAAAgBihNAAAAAAAMXOMsW4P4h1r\n",
       "lRrutjnn1nNd1qeS3Vq+q0vtU+v5fzfW9sY8u9it59PP5ZOeSa/JyW9W8/S++QTn1WdVqv0JffM9\n",
       "N870G7rslXdUunOqvUOk94f+/qwu/Vapb6rV5IZK9/JuTXwpDQAAAABAjFAaAAAAAIAYoTQAAAAA\n",
       "ADFCaQAAAAAAYoTSAAAAAADECKUBAAAAAIgRSgMAAAAAECOUBgAAAAAgRigNAAAAAECMUBoAAAAA\n",
       "gBihNAAAAAAAMUJpAAAAAABihNIAAAAAAMQIpQEAAAAAiJlrrXV7EO+Yc249d2Oau2O9pVgrxD29\n",
       "9076rdL+qDTWE/bj81Q709+x229d9ka12qfr6bz6LPc5/Jtf7b1qd04X6b6pdhfcYK98VqX/A7sq\n",
       "vSeN0WMv+1IaAAAAAIAYoTQAAAAAADFCaQAAAAAAYoTSAAAAAADECKUBAAAAAIgRSgMAAAAAECOU\n",
       "BgAAAAAgRigNAAAAAECMUBoAAAAAgBihNAAAAAAAMUJpAAAAAABihNIAAAAAAMQIpQEAAAAAiJlr\n",
       "rRX/0TnTP3nFhaU9sluXSvPs0nt81o0e77Afb7G2td04x7vU3tp+lneO7/jlnumowj7Z7TnvG7+l\n",
       "Qq+eqvSfZwx7hfd12Mdj1NobvpQGAAAAACBGKA0AAAAAQIxQGgAAAACAGKE0AAAAAAAxQmkAAAAA\n",
       "AGKE0gAAAAAAxAilAQAAAACIEUoDAAAAABAjlAYAAAAAIEYoDQAAAABAjFAaAAAAAIAYoTQAAAAA\n",
       "ADFCaQAAAAAAYoTSAAAAAADEzLXW2n54zq3nDn6ylN31GWN/jU5+M+2kD/QeSZX21YlK+6NSTSqt\n",
       "a1Klc/zGfX6iw9pWGKu9/x3V9mMXlfZyyo13lV9ez09wfrxW6f36XR3q14k757VKZ50vpQEAAAAA\n",
       "iBFKAwAAAAAQI5QGAAAAACBGKA0AAAAAQIxQGgAAAACAGKE0AAAAAAAxQmkAAAAAAGKE0gAAAAAA\n",
       "xAilAQAAAACIEUoDAAAAABAjlAYAAAAAIEYoDQAAAABAjFAaAAAAAICYP9qOJyr7kvBkAAAAAElF\n",
       "TkSuQmCC\n",
       "\" transform=\"translate(497, 62)\"/>\n",
       "</g>\n",
       "</svg>\n"
      ]
     },
     "execution_count": 19,
     "metadata": {},
     "output_type": "execute_result"
    }
   ],
   "source": [
    "p, data = CA1D.run(;rules = rule22, gridsize = n, initial_condition=\"random\", nsteps=steps, update=\"synchronous\")\n",
    "p"
   ]
  },
  {
   "cell_type": "markdown",
   "metadata": {
    "nbpresent": {
     "id": "6d7e43ba-d451-4b5e-84be-e90cd8737ecb"
    },
    "slideshow": {
     "slide_type": "slide"
    }
   },
   "source": [
    "## A closer look at Agents.jl\n",
    "The CA is too simple to illustrate all the features that are present in general ABMs. In particular, the lack of distinction between the space  grid and the agents is not generic. \n",
    "\n",
    "Agents.jl provides framework for constructing, running and analysing a broad class of ABMs. It *is* faster than writing yourself from scratch."
   ]
  },
  {
   "cell_type": "markdown",
   "metadata": {
    "nbpresent": {
     "id": "6d7e43ba-d451-4b5e-84be-e90cd8737ecb"
    },
    "slideshow": {
     "slide_type": "slide"
    }
   },
   "source": [
    "\n",
    "### Features of a general ABM\n",
    "\n",
    "* an **agent** object with its own features\n",
    "* a **model** object with its own features\n",
    "* a **space** in which the agents live (in Agents.jl the space is a feature of the model, \"no space\" is possible)\n",
    "* an **agent update** function\n",
    "* a **model update** function\n",
    "* a **scheduler**: a protocol for deciding the order in which the agents in the model run their update functions"
   ]
  },
  {
   "cell_type": "markdown",
   "metadata": {
    "nbpresent": {
     "id": "ffdf12b5-fa15-49a3-99a1-8372428310ae"
    },
    "slideshow": {
     "slide_type": "slide"
    }
   },
   "source": [
    "### Overview of the structure of the Agents.jl framework\n",
    "From https://juliadynamics.github.io/Agents.jl/dev/tutorial/ \n",
    "\n",
    "<img src=\"files/images/AgentsJL_overview.png\" alt=\"Agents\" style=\"width: 400px;\"/>\n",
    "\n"
   ]
  },
  {
   "cell_type": "markdown",
   "metadata": {
    "nbpresent": {
     "id": "4484d819-f11e-4d5e-8a81-75255e7aec09"
    },
    "slideshow": {
     "slide_type": "slide"
    }
   },
   "source": [
    "### Data types in the Agents.jl framework\n",
    "\n",
    "![Overview of Agents.jl](files/images/AgentsJL_model_object_structure.png \"Agents.jl\")\n",
    "\n",
    "from https://juliadynamics.github.io/Agents.jl/dev/tutorial/ "
   ]
  },
  {
   "cell_type": "markdown",
   "metadata": {
    "slideshow": {
     "slide_type": "slide"
    }
   },
   "source": [
    "## Example 1: the 1D CA \"under the hood\"\n",
    "\n",
    "Let's look at how the code for the 1D CA above fits into this framework.\n",
    "\n",
    "There are lots of other examples in the Agents.jl documentation."
   ]
  },
  {
   "cell_type": "markdown",
   "metadata": {
    "slideshow": {
     "slide_type": "slide"
    }
   },
   "source": [
    "### Step 1 : defining the agent, space and model objects\n",
    "\n",
    "Agents are always defined as mutable subtypes of ```AbstractAgent```. Depending on the space, the agent must have certain properties. For example, when the space is a ```GridSpace```, the agent must have a ```pos``` field of the appropriate dimension:"
   ]
  },
  {
   "cell_type": "code",
   "execution_count": 22,
   "metadata": {},
   "outputs": [],
   "source": [
    "mutable struct CA1DAgent <: AbstractAgent\n",
    "    id::Int # The identifier number of the agent\n",
    "    pos::Dims{1} # The x location of the agent on a 1D grid\n",
    "    state::Int # The state of the agent - 0 or 1\n",
    "end"
   ]
  },
  {
   "cell_type": "markdown",
   "metadata": {
    "slideshow": {
     "slide_type": "slide"
    }
   },
   "source": [
    "### Step 1 : defining the agent, space and model objects\n",
    "\n",
    "Agents.jl pre-defines several types of agent matching with different types of space and provides a macro to customise these. In our case, we want to customise a ```GridAgent{1}```:"
   ]
  },
  {
   "cell_type": "code",
   "execution_count": 23,
   "metadata": {},
   "outputs": [],
   "source": [
    "@agent CA1DAgent GridAgent{1} begin\n",
    "    state::Int\n",
    "end"
   ]
  },
  {
   "cell_type": "markdown",
   "metadata": {
    "slideshow": {
     "slide_type": "slide"
    }
   },
   "source": [
    "### Step 1 : defining the agent, space and model objects\n",
    "\n",
    "The space in this case is a 1D grid"
   ]
  },
  {
   "cell_type": "code",
   "execution_count": 24,
   "metadata": {},
   "outputs": [
    {
     "data": {
      "text/plain": [
       "GridSpace with size (101,), metric=euclidean and periodic=true"
      ]
     },
     "execution_count": 24,
     "metadata": {},
     "output_type": "execute_result"
    }
   ],
   "source": [
    "gridsize = 101\n",
    "space = GridSpace((gridsize,), metric=:euclidean, periodic = true)"
   ]
  },
  {
   "cell_type": "markdown",
   "metadata": {
    "slideshow": {
     "slide_type": "slide"
    }
   },
   "source": [
    "### Step 1 : defining the agent, space and model objects\n",
    "\n",
    "The model incorporates the agent, the space and any additional properties needed to specify the model.\n",
    "\n",
    "In our case, the only additional properties the model needs is the rules that we have defined above"
   ]
  },
  {
   "cell_type": "code",
   "execution_count": 29,
   "metadata": {},
   "outputs": [
    {
     "data": {
      "text/plain": [
       "AgentBasedModel with 0 agents of type CA1DAgent\n",
       " space: GridSpace with size (101,), metric=euclidean and periodic=true\n",
       " scheduler: fastest\n",
       " properties: Dict(:rules => Dict(\"000\" => 0,\"111\" => 0,\"001\" => 1,\"011\" => 1,\"101\" => 1,\"110\" => 1,\"010\" => 1,\"100\" => 0))"
      ]
     },
     "execution_count": 29,
     "metadata": {},
     "output_type": "execute_result"
    }
   ],
   "source": [
    "space = GridSpace((gridsize,), metric=:euclidean, periodic = true)\n",
    "properties = Dict(:rules => rule110)\n",
    "model = ABM(CA1DAgent, space; properties)"
   ]
  },
  {
   "cell_type": "markdown",
   "metadata": {
    "slideshow": {
     "slide_type": "slide"
    }
   },
   "source": [
    "### Step 1 : defining the agent, space and model objects\n",
    "\n",
    "After creating the model, we now need to add the agents to it. In this case, there is an agent at each point on the grid. Let's start off with all of them set to state 0 except for the last one:\n"
   ]
  },
  {
   "cell_type": "code",
   "execution_count": 30,
   "metadata": {},
   "outputs": [
    {
     "data": {
      "text/plain": [
       "1"
      ]
     },
     "execution_count": 30,
     "metadata": {},
     "output_type": "execute_result"
    }
   ],
   "source": [
    "for idx in 1:gridsize\n",
    "    add_agent_pos!(CA1DAgent(idx, (idx,), 0), model)\n",
    "end\n",
    "model.agents[gridsize].state = 1"
   ]
  },
  {
   "cell_type": "markdown",
   "metadata": {
    "slideshow": {
     "slide_type": "slide"
    }
   },
   "source": [
    "### Aside: Using a function to initialise an ABM\n",
    "\n",
    "It is a good idea to package all of this together into a single function to initialise an ABM. Here we take advantage of Julia's ability to define default function arguments:"
   ]
  },
  {
   "cell_type": "code",
   "execution_count": 26,
   "metadata": {},
   "outputs": [
    {
     "data": {
      "text/plain": [
       "initialise (generic function with 1 method)"
      ]
     },
     "execution_count": 26,
     "metadata": {},
     "output_type": "execute_result"
    }
   ],
   "source": [
    "function initialise(;rules = rule110, gridsize = 101)\n",
    "    space = GridSpace((gridsize,), metric=:euclidean, periodic = true)\n",
    "    properties = Dict(:rules => rules)\n",
    "    model = ABM(CA1DAgent, space; properties)\n",
    "    \n",
    "    for idx in 1:gridsize\n",
    "        add_agent_pos!(CA1DAgent(idx, (idx,), 0), model)\n",
    "    end\n",
    "    model.agents[gridsize].state = 1  \n",
    "    return model\n",
    "end"
   ]
  },
  {
   "cell_type": "markdown",
   "metadata": {
    "slideshow": {
     "slide_type": "slide"
    }
   },
   "source": [
    "### Step 2 : defining the agent update function\n",
    "\n",
    "This is where all of the action takes place:"
   ]
  },
  {
   "cell_type": "code",
   "execution_count": 31,
   "metadata": {},
   "outputs": [
    {
     "data": {
      "text/plain": [
       "agent_step! (generic function with 1 method)"
      ]
     },
     "execution_count": 31,
     "metadata": {},
     "output_type": "execute_result"
    }
   ],
   "source": [
    "function agent_step!(agent, model)\n",
    "    neighbourhood = nearby_ids(agent.pos, model)\n",
    "    str = \"\"\n",
    "    for idx in neighbourhood\n",
    "        str=str*string(model.agents[idx].state)\n",
    "    end\n",
    "    agent.state = model.rules[str]\n",
    "end"
   ]
  },
  {
   "cell_type": "markdown",
   "metadata": {
    "slideshow": {
     "slide_type": "slide"
    }
   },
   "source": [
    "### Step 3 : running the model and extracting data"
   ]
  },
  {
   "cell_type": "code",
   "execution_count": 32,
   "metadata": {},
   "outputs": [],
   "source": [
    "nsteps = 50\n",
    "adata = [:pos, :state]\n",
    "data, _ = run!(model, agent_step!, nsteps; adata);"
   ]
  },
  {
   "cell_type": "code",
   "execution_count": 33,
   "metadata": {},
   "outputs": [
    {
     "data": {
      "text/html": [
       "<table class=\"data-frame\"><thead><tr><th></th><th>step</th><th>id</th><th>pos</th><th>state</th></tr><tr><th></th><th>Int64</th><th>Int64</th><th>Tuple…</th><th>Int64</th></tr></thead><tbody><p>5 rows × 4 columns</p><tr><th>1</th><td>0</td><td>1</td><td>(1,)</td><td>0</td></tr><tr><th>2</th><td>0</td><td>2</td><td>(2,)</td><td>0</td></tr><tr><th>3</th><td>0</td><td>3</td><td>(3,)</td><td>0</td></tr><tr><th>4</th><td>0</td><td>4</td><td>(4,)</td><td>0</td></tr><tr><th>5</th><td>0</td><td>5</td><td>(5,)</td><td>0</td></tr></tbody></table>"
      ],
      "text/latex": [
       "\\begin{tabular}{r|cccc}\n",
       "\t& step & id & pos & state\\\\\n",
       "\t\\hline\n",
       "\t& Int64 & Int64 & Tuple… & Int64\\\\\n",
       "\t\\hline\n",
       "\t1 & 0 & 1 & (1,) & 0 \\\\\n",
       "\t2 & 0 & 2 & (2,) & 0 \\\\\n",
       "\t3 & 0 & 3 & (3,) & 0 \\\\\n",
       "\t4 & 0 & 4 & (4,) & 0 \\\\\n",
       "\t5 & 0 & 5 & (5,) & 0 \\\\\n",
       "\\end{tabular}\n"
      ],
      "text/plain": [
       "\u001b[1m5×4 DataFrame\u001b[0m\n",
       "\u001b[1m Row \u001b[0m│\u001b[1m step  \u001b[0m\u001b[1m id    \u001b[0m\u001b[1m pos    \u001b[0m\u001b[1m state \u001b[0m\n",
       "\u001b[1m     \u001b[0m│\u001b[90m Int64 \u001b[0m\u001b[90m Int64 \u001b[0m\u001b[90m Tuple… \u001b[0m\u001b[90m Int64 \u001b[0m\n",
       "─────┼─────────────────────────────\n",
       "   1 │     0      1  (1,)        0\n",
       "   2 │     0      2  (2,)        0\n",
       "   3 │     0      3  (3,)        0\n",
       "   4 │     0      4  (4,)        0\n",
       "   5 │     0      5  (5,)        0"
      ]
     },
     "execution_count": 33,
     "metadata": {},
     "output_type": "execute_result"
    }
   ],
   "source": [
    "data[1:5,:]"
   ]
  },
  {
   "cell_type": "markdown",
   "metadata": {
    "slideshow": {
     "slide_type": "slide"
    }
   },
   "source": [
    "Agents.jl uses a DataFrame to return the data from run. You need to learn how to manipulate them"
   ]
  },
  {
   "cell_type": "code",
   "execution_count": 34,
   "metadata": {},
   "outputs": [],
   "source": [
    "# Process the data into a simple array for plotting\n",
    "    A = zeros(Int64, (nsteps+1, nagents(model)))\n",
    "    for i in 0:nsteps\n",
    "        snapshot = data[data[!,:step] .== i, :]\n",
    "        for j in Iterators.flatten(snapshot.pos)\n",
    "            A[i+1,j] = snapshot.state[j]\n",
    "        end\n",
    "    end"
   ]
  },
  {
   "cell_type": "code",
   "execution_count": 35,
   "metadata": {},
   "outputs": [
    {
     "data": {
      "image/svg+xml": [
       "<?xml version=\"1.0\" encoding=\"utf-8\"?>\n",
       "<svg xmlns=\"http://www.w3.org/2000/svg\" xmlns:xlink=\"http://www.w3.org/1999/xlink\" width=\"600\" height=\"400\" viewBox=\"0 0 2400 1600\">\n",
       "<defs>\n",
       "  <clipPath id=\"clip380\">\n",
       "    <rect x=\"0\" y=\"0\" width=\"2400\" height=\"1600\"/>\n",
       "  </clipPath>\n",
       "</defs>\n",
       "<path clip-path=\"url(#clip380)\" d=\"\n",
       "M0 1600 L2400 1600 L2400 0 L0 0  Z\n",
       "  \" fill=\"#ffffff\" fill-rule=\"evenodd\" fill-opacity=\"1\"/>\n",
       "<defs>\n",
       "  <clipPath id=\"clip381\">\n",
       "    <rect x=\"480\" y=\"0\" width=\"1681\" height=\"1600\"/>\n",
       "  </clipPath>\n",
       "</defs>\n",
       "<path clip-path=\"url(#clip380)\" d=\"\n",
       "M86.9921 1361.9 L2352.76 1361.9 L2352.76 206.356 L86.9921 206.356  Z\n",
       "  \" fill=\"#ffffff\" fill-rule=\"evenodd\" fill-opacity=\"1\"/>\n",
       "<defs>\n",
       "  <clipPath id=\"clip382\">\n",
       "    <rect x=\"86\" y=\"206\" width=\"2267\" height=\"1157\"/>\n",
       "  </clipPath>\n",
       "</defs>\n",
       "<g clip-path=\"url(#clip382)\">\n",
       "<image width=\"2266\" height=\"1133\" xlink:href=\"data:image/png;base64,\n",
       "iVBORw0KGgoAAAANSUhEUgAACNoAAARtCAYAAACJXrpAAAAgAElEQVR4nOzcQXIkNxIAwc61+f+X\n",
       "c888aDckE6oI0v0BZSkwew5CGGZ39wMAAAAAAAAAAD/EzBz57n+OfBUAAAAAAAAAAH4YoQ0AAAAA\n",
       "AAAAAARCGwAAAAAAAAAACIQ2AAAAAAAAAAAQCG0AAAAAAAAAACAQ2gAAAAAAAAAAQCC0AQAAAAAA\n",
       "AACAQGgDAAAAAAAAAACB0AYAAAAAAAAAAAKhDQAAAAAAAAAABEIbAAAAAAAAAAAIhDYAAAAAAAAA\n",
       "ABAIbQAAAAAAAAAAIBDaAAAAAAAAAABAILQBAAAAAAAAAIBAaAMAAAAAAAAAAIHQBgAAAAAAAAAA\n",
       "AqENAAAAAAAAAAAEQhsAAAAAAAAAAAiENgAAAAAAAAAAEAhtAAAAAAAAAAAgENoAAAAAAAAAAEDw\n",
       "5+0BAAAAAAAAAAD4fWbm7RH+Ni/aAAAAAAAAAABAILQBAAAAAAAAAIBAaAMAAAAAAAAAAIHQBgAA\n",
       "AAAAAAAAAqENAAAAAAAAAAAEQhsAAAAAAAAAAAiENgAAAAAAAAAAEAhtAAAAAAAAAAAgENoAAAAA\n",
       "AAAAAEAgtAEAAAAAAAAAgEBoAwAAAAAAAAAAgdAGAAAAAAAAAAACoQ0AAAAAAAAAAARCGwAAAAAA\n",
       "AAAACIQ2AAAAAAAAAAAQCG0AAAAAAAAAACAQ2gAAAAAAAAAAQCC0AQAAAAAAAACAQGgDAAAAAAAA\n",
       "AACB0AYAAAAAAAAAAAKhDQAAAAAAAAAABEIbAAAAAAAAAAAI/rw9AAAAAAAAAADAbzAzb4/wrezu\n",
       "sW+fOmsv2gAAAAAAAAAAQCC0AQAAAAAAAACAQGgDAAAAAAAAAACB0AYAAAAAAAAAAAKhDQAAAAAA\n",
       "AAAABEIbAAAAAAAAAAAIhDYAAAAAAAAAABAIbQAAAAAAAAAAIBDaAAAAAAAAAABAILQBAAAAAAAA\n",
       "AIBAaAMAAAAAAAAAAIHQBgAAAAAAAAAAAqENAAAAAAAAAAAEQhsAAAAAAAAAAAiENgAAAAAAAAAA\n",
       "EAhtAAAAAAAAAAAgENoAAAAAAAAAAEAgtAEAAAAAAAAAgEBoAwAAAAAAAAAAgdAGAAAAAAAAAAAC\n",
       "oQ0AAAAAAAAAAAR/3h4AAAAAAAAAAOA7mZm3R/jbdvfYt0+dx43n7EUbAAAAAAAAAAAIhDYAAAAA\n",
       "AAAAABAIbQAAAAAAAAAAIBDaAAAAAAAAAABAILQBAAAAAAAAAIBAaAMAAAAAAAAAAIHQBgAAAAAA\n",
       "AAAAAqENAAAAAAAAAAAEQhsAAAAAAAAAAAiENgAAAAAAAAAAEAhtAAAAAAAAAAAgENoAAAAAAAAA\n",
       "AEAgtAEAAAAAAAAAgEBoAwAAAAAAAAAAgdAGAAAAAAAAAAACoQ0AAAAAAAAAAARCGwAAAAAAAAAA\n",
       "CIQ2AAAAAAAAAAAQCG0AAAAAAAAAACAQ2gAAAAAAAAAAQCC0AQAAAAAAAACAQGgDAAAAAAAAAADB\n",
       "n7cHAAAAAAAAAAB+ppl5e4R/ZHePfPfkedx41qfO+fM5dx5etAEAAAAAAAAAgEBoAwAAAAAAAAAA\n",
       "gdAGAAAAAAAAAAACoQ0AAAAAAAAAAARCGwAAAAAAAAAACIQ2AAAAAAAAAAAQCG0AAAAAAAAAACAQ\n",
       "2gAAAAAAAAAAQCC0AQAAAAAAAACAQGgDAAAAAAAAAACB0AYAAAAAAAAAAAKhDQAAAAAAAAAABEIb\n",
       "AAAAAAAAAAAIhDYAAAAAAAAAABAIbQAAAAAAAAAAIBDaAAAAAAAAAABAILQBAAAAAAAAAIBAaAMA\n",
       "AAAAAAAAAIHQBgAAAAAAAAAAAqENAAAAAAAAAAAEs7v79hAAAAAAAAAAwP82M2+P8LedTBJuPI+T\n",
       "nPUzvGgDAAAAAAAAAACB0AYAAAAAAAAAAAKhDQAAAAAAAAAABEIbAAAAAAAAAAAIhDYAAAAAAAAA\n",
       "ABAIbQAAAAAAAAAAIBDaAAAAAAAAAABAILQBAAAAAAAAAIBAaAMAAAAAAAAAAIHQBgAAAAAAAAAA\n",
       "AqENAAAAAAAAAAAEQhsAAAAAAAAAAAiENgAAAAAAAAAAEAhtAAAAAAAAAAAgENoAAAAAAAAAAEAg\n",
       "tAEAAAAAAAAAgEBoAwAAAAAAAAAAgdAGAAAAAAAAAAACoQ0AAAAAAAAAAARCGwAAAAAAAAAACIQ2\n",
       "AAAAAAAAAAAQzO7u20MAAAAAAAAAwE8wM8e+ffJ6/+TcNzp11s75qxt32os2AAAAAAAAAAAQCG0A\n",
       "AAAAAAAAACAQ2gAAAAAAAAAAQCC0AQAAAAAAAACAQGgDAAAAAAAAAACB0AYAAAAAAAAAAAKhDQAA\n",
       "AAAAAAAABEIbAAAAAAAAAAAIhDYAAAAAAAAAABAIbQAAAAAAAAAAIBDaAAAAAAAAAABAILQBAAAA\n",
       "AAAAAIBAaAMAAAAAAAAAAIHQBgAAAAAAAAAAAqENAAAAAAAAAAAEQhsAAAAAAAAAAAiENgAAAAAA\n",
       "AAAAEAhtAAAAAAAAAAAgENoAAAAAAAAAAEAgtAEAAAAAAAAAgEBoAwAAAAAAAAAAgdAGAAAAAAAA\n",
       "AACC2d19ewgAAAAAAAAAeNLMvD3Cr3AySfA3/MpZP8OLNgAAAAAAAAAAEAhtAAAAAAAAAAAgENoA\n",
       "AAAAAAAAAEAgtAEAAAAAAAAAgEBoAwAAAAAAAAAAgdAGAAAAAAAAAAACoQ0AAAAAAAAAAARCGwAA\n",
       "AAAAAAAACIQ2AAAAAAAAAAAQCG0AAAAAAAAAACAQ2gAAAAAAAAAAQCC0AQAAAAAAAACAQGgDAAAA\n",
       "AAAAAACB0AYAAAAAAAAAAAKhDQAAAAAAAAAABEIbAAAAAAAAAAAIhDYAAAAAAAAAABAIbQAAAAAA\n",
       "AAAAIBDaAAAAAAAAAABAILQBAAAAAAAAAIBAaAMAAAAAAAAAAIHQBgAAAAAAAAAAgtndfXsIAAAA\n",
       "AAAAAO40M2+P8I+cuio/eR4nr/dv/TuecuN+3OjGnfaiDQAAAAAAAAAABEIbAAAAAAAAAAAIhDYA\n",
       "AAAAAAAAABAIbQAAAAAAAAAAIBDaAAAAAAAAAABAILQBAAAAAAAAAIBAaAMAAAAAAAAAAIHQBgAA\n",
       "AAAAAAAAAqENAAAAAAAAAAAEQhsAAAAAAAAAAAiENgAAAAAAAAAAEAhtAAAAAAAAAAAgENoAAAAA\n",
       "AAAAAEAgtAEAAAAAAAAAgEBoAwAAAAAAAAAAgdAGAAAAAAAAAAACoQ0AAAAAAAAAAARCGwAAAAAA\n",
       "AAAACIQ2AAAAAAAAAAAQCG0AAAAAAAAAACAQ2gAAAAAAAAAAQDC7u28PAQAAAAAAAMBZM3Pkuyev\n",
       "nE/NzHPsx3Oc9TO8aAMAAAAAAAAAAIHQBgAAAAAAAAAAAqENAAAAAAAAAAAEQhsAAAAAAAAAAAiE\n",
       "NgAAAAAAAAAAEAhtAAAAAAAAAAAgENoAAAAAAAAAAEAgtAEAAAAAAAAAgEBoAwAAAAAAAAAAgdAG\n",
       "AAAAAAAAAAACoQ0AAAAAAAAAAARCGwAAAAAAAAAACIQ2AAAAAAAAAAAQCG0AAAAAAAAAACAQ2gAA\n",
       "AAAAAAAAQCC0AQAAAAAAAACAQGgDAAAAAAAAAACB0AYAAAAAAAAAAAKhDQAAAAAAAAAABEIbAAAA\n",
       "AAAAAAAIZnf37SEAAAAAAAAA+Hxm5u0Rfo1TV+Un/4Ynr/ft3lc37seNbtxpL9oAAAAAAAAAAEAg\n",
       "tAEAAAAAAAAAgEBoAwAAAAAAAAAAgdAGAAAAAAAAAAACoQ0AAAAAAAAAAARCGwAAAAAAAAAACIQ2\n",
       "AAAAAAAAAAAQCG0AAAAAAAAAACAQ2gAAAAAAAAAAQCC0AQAAAAAAAACAQGgDAAAAAAAAAACB0AYA\n",
       "AAAAAAAAAAKhDQAAAAAAAAAABEIbAAAAAAAAAAAIhDYAAAAAAAAAABAIbQAAAAAAAAAAIBDaAAAA\n",
       "AAAAAABAILQBAAAAAAAAAIBAaAMAAAAAAAAAAIHQBgAAAAAAAAAAAqENAAAAAAAAAAAEs7v79hAA\n",
       "AAAAAAAAp83M2yP8Xyevb0/99984M8+xH89x1s/wog0AAAAAAAAAAARCGwAAAAAAAAAACIQ2AAAA\n",
       "AAAAAAAQCG0AAAAAAAAAACAQ2gAAAAAAAAAAQCC0AQAAAAAAAACAQGgDAAAAAAAAAACB0AYAAAAA\n",
       "AAAAAAKhDQAAAAAAAAAABEIbAAAAAAAAAAAIhDYAAAAAAAAAABAIbQAAAAAAAAAAIBDaAAAAAAAA\n",
       "AABAILQBAAAAAAAAAIBAaAMAAAAAAAAAAIHQBgAAAAAAAAAAAqENAAAAAAAAAAAEQhsAAAAAAAAA\n",
       "AAiENgAAAAAAAAAAEAhtAAAAAAAAAAAgENoAAAAAAAAAAEAgtAEAAAAAAAAAgGB2d98eAgAAAAAA\n",
       "APj3zczbI3wrJ69GnfV9Tu3DyV2ww8+5cT9udONOe9EGAAAAAAAAAAACoQ0AAAAAAAAAAARCGwAA\n",
       "AAAAAAAACIQ2AAAAAAAAAAAQCG0AAAAAAAAAACAQ2gAAAAAAAAAAQCC0AQAAAAAAAACAQGgDAAAA\n",
       "AAAAAACB0AYAAAAAAAAAAAKhDQAAAAAAAAAABEIbAAAAAAAAAAAIhDYAAAAAAAAAABAIbQAAAAAA\n",
       "AAAAIBDaAAAAAAAAAABAILQBAAAAAAAAAIBAaAMAAAAAAAAAAIHQBgAAAAAAAAAAAqENAAAAAAAA\n",
       "AAAEQhsAAAAAAAAAAAiENgAAAAAAAAAAEAhtAAAAAAAAAAAgENoAAAAAAAAAAEAwu7tvDwEAAAAA\n",
       "AADf3cy8PcK3cuqa8bef88nr21Nne+PMPMd+PMdZP8OLNgAAAAAAAAAAEAhtAAAAAAAAAAAgENoA\n",
       "AAAAAAAAAEAgtAEAAAAAAAAAgEBoAwAAAAAAAAAAgdAGAAAAAAAAAAACoQ0AAAAAAAAAAARCGwAA\n",
       "AAAAAAAACIQ2AAAAAAAAAAAQCG0AAAAAAAAAACAQ2gAAAAAAAAAAQCC0AQAAAAAAAACAQGgDAAAA\n",
       "AAAAAACB0AYAAAAAAAAAAAKhDQAAAAAAAAAABEIbAAAAAAAAAAAIhDYAAAAAAAAAABAIbQAAAAAA\n",
       "AAAAIBDaAAAAAAAAAABAMLu7bw8BAAAAAADA9zMzb4/wa5y6svM3/Ork1aizvs+Nvzs7/Jwb9+NG\n",
       "N+60F20AAAAAAAAAACAQ2gAAAAAAAAAAQCC0AQAAAAAAAACAQGgDAAAAAAAAAACB0AYAAAAAAAAA\n",
       "AAKhDQAAAAAAAAAABEIbAAAAAAAAAAAIhDYAAAAAAAAAABAIbQAAAAAAAAAAIBDaAAAAAAAAAABA\n",
       "ILQBAAAAAAAAAIBAaAMAAAAAAAAAAIHQBgAAAAAAAAAAAqENAAAAAAAAAAAEQhsAAAAAAAAAAAiE\n",
       "NgAAAAAAAAAAEAhtAAAAAAAAAAAgENoAAAAAAAAAAEAgtAEAAAAAAAAAgEBoAwAAAAAAAAAAgdAG\n",
       "AAAAAAAAAAACoQ0AAAAAAAAAAASzu/v2EAAAAAAAAPwzM3Ps2yevkU7NfePMtzp11r/9nG/c4Rtn\n",
       "5jn24znO+hletAEAAAAAAAAAgEBoAwAAAAAAAAAAgdAGAAAAAAAAAAACoQ0AAAAAAAAAAARCGwAA\n",
       "AAAAAAAACIQ2AAAAAAAAAAAQCG0AAAAAAAAAACAQ2gAAAAAAAAAAQCC0AQAAAAAAAACAQGgDAAAA\n",
       "AAAAAACB0AYAAAAAAAAAAAKhDQAAAAAAAAAABEIbAAAAAAAAAAAIhDYAAAAAAAAAABAIbQAAAAAA\n",
       "AAAAIBDaAAAAAAAAAABAILQBAAAAAAAAAIBAaAMAAAAAAAAAAIHQBgAAAAAAAAAAAqENAAAAAAAA\n",
       "AAAEQhsAAAAAAAAAAAhmd/ftIQAAAAAAAKqZeXsE+NedurLze/nq5NWos77Pjb87O/ycG/fjRjfu\n",
       "tBdtAAAAAAAAAAAgENoAAAAAAAAAAEAgtAEAAAAAAAAAgEBoAwAAAAAAAAAAgdAGAAAAAAAAAAAC\n",
       "oQ0AAAAAAAAAAARCGwAAAAAAAAAACIQ2AAAAAAAAAAAQCG0AAAAAAAAAACAQ2gAAAAAAAAAAQCC0\n",
       "AQAAAAAAAACAQGgDAAAAAAAAAACB0AYAAAAAAAAAAAKhDQAAAAAAAAAABEIbAAAAAAAAAAAIhDYA\n",
       "AAAAAAAAABAIbQAAAAAAAAAAIBDaAAAAAAAAAABAILQBAAAAAAAAAIBAaAMAAAAAAAAAAIHQBgAA\n",
       "AAAAAAAAAqENAAAAAAAAAAAEs7v79hAAAAAAAMDPMzNHvnvyauPUzJ/PublvnPnzsR8/wY07fYMb\n",
       "d/jGmXmO/XiOs36GF20AAAAAAAAAACAQ2gAAAAAAAAAAQCC0AQAAAAAAAACAQGgDAAAAAAAAAACB\n",
       "0AYAAAAAAAAAAAKhDQAAAAAAAAAABEIbAAAAAAAAAAAIhDYAAAAAAAAAABAIbQAAAAAAAAAAIBDa\n",
       "AAAAAAAAAABAILQBAAAAAAAAAIBAaAMAAAAAAAAAAIHQBgAAAAAAAAAAAqENAAAAAAAAAAAEQhsA\n",
       "AAAAAAAAAAiENgAAAAAAAAAAEAhtAAAAAAAAAAAgENoAAAAAAAAAAEAgtAEAAAAAAAAAgEBoAwAA\n",
       "AAAAAAAAgdAGAAAAAAAAAAACoQ0AAAAAAAAAAASzu/v2EAAAAAAAwF+bmbdHAA47dWXn34+vTl6N\n",
       "Ouv73Pi7s8PPuXE/bnTjTnvRBgAAAAAAAAAAAqENAAAAAAAAAAAEQhsAAAAAAAAAAAiENgAAAAAA\n",
       "AAAAEAhtAAAAAAAAAAAgENoAAAAAAAAAAEAgtAEAAAAAAAAAgEBoAwAAAAAAAAAAgdAGAAAAAAAA\n",
       "AAACoQ0AAAAAAAAAAARCGwAAAAAAAAAACIQ2AAAAAAAAAAAQCG0AAAAAAAAAACAQ2gAAAAAAAAAA\n",
       "QCC0AQAAAAAAAACAQGgDAAAAAAAAAACB0AYAAAAAAAAAAAKhDQAAAAAAAAAABEIbAAAAAAAAAAAI\n",
       "Znf37SEAAAAAAOAtM/P2CK86eU1w6mxvnPnzOTf3jTN/PvbjJ7hxp29w4w7fODPPsR/PcdbP8KIN\n",
       "AAAAAAAAAAAEQhsAAAAAAAAAAAiENgAAAAAAAAAAEAhtAAAAAAAAAAAgENoAAAAAAAAAAEAgtAEA\n",
       "AAAAAAAAgEBoAwAAAAAAAAAAgdAGAAAAAAAAAAACoQ0AAAAAAAAAAARCGwAAAAAAAAAACIQ2AAAA\n",
       "AAAAAAAQCG0AAAAAAAAAACAQ2gAAAAAAAAAAQCC0AQAAAAAAAACAQGgDAAAAAAAAAACB0AYAAAAA\n",
       "AAAAAAKhDQAAAAAAAAAABEIbAAAAAAAAAAAIhDYAAAAAAAAAABAIbQAAAAAAAAAAIBDaAAAAAAAA\n",
       "AABAILQBAAAAAAAAAIBgdnffHgIAAAAAgJ9hZt4e4Vv5t/4XvHOFn+/UlZ1/P746eTXqrO9z4+/O\n",
       "Dj/nxv240Y077UUbAAAAAAAAAAAIhDYAAAAAAAD/ZeeOchtJjgCIsu5/6PKHPyyNgXWMwapWiu8d\n",
       "YJDKTZISN9AAABAIbQAAAAAAAAAAIBDaAAAAAAAAAABAILQBAAAAAAAAAIBAaAMAAAAAAAAAAIHQ\n",
       "BgAAAAAAAAAAAqENAAAAAAAAAAAEQhsAAAAAAAAAAAiENgAAAAAAAAAAEAhtAAAAAAAAAAAgENoA\n",
       "AAAAAAAAAEAgtAEAAAAAAAAAgEBoAwAAAAAAAAAAgdAGAAAAAAAAAAACoQ0AAAAAAAAAAARCGwAA\n",
       "AAAAAAAACIQ2AAAAAAAAAAAQCG0AAAAAAAAAACAQ2gAAAAAAAAAAQCC0AQAAAAAAAACAYO2999ND\n",
       "AAAAAADw39ZaT4/wo5z6OvvT93zyfxOc2u3EmV+vmTc8cdcTZ55q4k1PMPGGJ87MPe7jHru+wxNt\n",
       "AAAAAAAAAAAgENoAAAAAAAAAAEAgtAEAAAAAAAAAgEBoAwAAAAAAAAAAgdAGAAAAAAAAAAACoQ0A\n",
       "AAAAAAAAAARCGwAAAAAAAAAACIQ2AAAAAAAAAAAQCG0AAAAAAAAAACAQ2gAAAAAAAAAAQCC0AQAA\n",
       "AAAAAACAQGgDAAAAAAAAAACB0AYAAAAAAAAAAAKhDQAAAAAAAAAABEIbAAAAAAAAAAAIhDYAAAAA\n",
       "AAAAABAIbQAAAAAAAAAAIBDaAAAAAAAAAABAILQBAAAAAAAAAIBAaAMAAAAAAAAAAIHQBgAAAAAA\n",
       "AAAAAqENAAAAAAAAAAAEa++9nx4CAAAAAGCqtdbTI/y1k18LT9zHSe/atb3C73fqvdn7x3c+A/lq\n",
       "4uvODd8z8T4mmnjTnmgDAAAAAAAAAACB0AYAAAAAAAAAAAKhDQAAAAAAAAAABEIbAAAAAAAAAAAI\n",
       "hDYAAAAAAAAAABAIbQAAAAAAAAAAIBDaAAAAAAAAAABAILQBAAAAAAAAAIBAaAMAAAAAAAAAAIHQ\n",
       "BgAAAAAAAAAAAqENAAAAAAAAAAAEQhsAAAAAAAAAAAiENgAAAAAAAAAAEAhtAAAAAAAAAAAgENoA\n",
       "AAAAAAAAAEAgtAEAAAAAAAAAgEBoAwAAAAAAAAAAgdAGAAAAAAAAAAACoQ0AAAAAAAAAAARCGwAA\n",
       "AAAAAAAACIQ2AAAAAAAAAAAQCG0AAAAAAAAAACBYe+/99BAAAAAAAKettY78uye/Yj0181Sndv3p\n",
       "e554wxNnfr1m3vDEXU+ceaqJNz3BxBueODP3uI977PoOT7QBAAAAAAAAAIBAaAMAAAAAAAAAAIHQ\n",
       "BgAAAAAAAAAAAqENAAAAAAAAAAAEQhsAAAAAAAAAAAiENgAAAAAAAAAAEAhtAAAAAAAAAAAgENoA\n",
       "AAAAAAAAAEAgtAEAAAAAAAAAgEBoAwAAAAAAAAAAgdAGAAAAAAAAAAACoQ0AAAAAAAAAAARCGwAA\n",
       "AAAAAAAACIQ2AAAAAAAAAAAQCG0AAAAAAAAAACAQ2gAAAAAAAAAAQCC0AQAAAAAAAACAQGgDAAAA\n",
       "AAAAAACB0AYAAAAAAAAAAIK1995PDwEAAAAA8Hq9Xmutp0f4CCe/Fvbf8Lt37dpe4fc79d7s/eM7\n",
       "n4F8NfF154bvmXgfE028aU+0AQAAAAAAAACAQGgDAAAAAAAAAACB0AYAAAAAAAAAAAKhDQAAAAAA\n",
       "AAAABEIbAAAAAAAAAAAIhDYAAAAAAAAAABAIbQAAAAAAAAAAIBDaAAAAAAAAAABAILQBAAAAAAAA\n",
       "AIBAaAMAAAAAAAAAAIHQBgAAAAAAAAAAAqENAAAAAAAAAAAEQhsAAAAAAAAAAAiENgAAAAAAAAAA\n",
       "EAhtAAAAAAAAAAAgENoAAAAAAAAAAEAgtAEAAAAAAAAAgEBoAwAAAAAAAAAAgdAGAAAAAAAAAAAC\n",
       "oQ0AAAAAAAAAAARCGwAAAAAAAAAACIQ2AAAAAAAAAAAQrL33fnoIAAAAAGCOtdaxf/vk15Wn5p44\n",
       "81Sndv3pe554wxNnfr1m3vDEXU+ceaqJNz3BxBueODP3uI977PoOT7QBAAAAAAAAAIBAaAMAAAAA\n",
       "AAAAAIHQBgAAAAAAAAAAAqENAAAAAAAAAAAEQhsAAAAAAAAAAAiENgAAAAAAAAAAEAhtAAAAAAAA\n",
       "AAAgENoAAAAAAAAAAEAgtAEAAAAAAAAAgEBoAwAAAAAAAAAAgdAGAAAAAAAAAAACoQ0AAAAAAAAA\n",
       "AARCGwAAAAAAAAAACIQ2AAAAAAAAAAAQCG0AAAAAAAAAACAQ2gAAAAAAAAAAQCC0AQAAAAAAAACA\n",
       "QGgDAAAAAAAAAACB0AYAAAAAAAAAAAKhDQAAAAAAAAAABEIbAAAAAAAAAAAI1t57Pz0EAAAAAPxk\n",
       "a62nR4C3Ovm1sNfLd+/atb3C73fqvdn7x3c+A/lq4uvODd8z8T4mmnjTnmgDAAAAAAAAAACB0AYA\n",
       "AAAAAAAAAAKhDQAAAAAAAAAABEIbAAAAAAAAAAAIhDYAAAAAAAAAABAIbQAAAAAAAAAAIBDaAAAA\n",
       "AAAAAABAILQBAAAAAAAAAIBAaAMAAAAAAAAAAIHQBgAAAAAAAAAAAqENAAAAAAAAAAAEQhsAAAAA\n",
       "AAAAAAiENgAAAAAAAAAAEAhtAAAAAAAAAAAgENoAAAAAAAAAAEAgtAEAAAAAAAAAgEBoAwAAAAAA\n",
       "AAAAgdAGAAAAAAAAAAACoQ0AAAAAAAAAAARCGwAAAAAAAAAACIQ2AAAAAAAAAAAQCG0AAAAAAAAA\n",
       "ACBYe+/99BAAAAAA/CxrradH+FFOfoV2cten5p448+t1bu6JM0818aYnmHjDE2d+vWbe8MRdT5x5\n",
       "qok3PcHEG544M/e4j3vs+g5PtAEAAAAAAAAAgEBoAwAAAAAAAAAAgdAGAAAAAAAAAAACoQ0AAAAA\n",
       "AAAAAARCGwAAAAAAAAAACIQ2AAAAAAAAAAAQCG0AAAAAAAAAACAQ2gAAAAAAAAAAQCC0AQAAAAAA\n",
       "AACAQGgDAAAAAAAAAACB0AYAAAAAAAAAAAKhDQAAAAAAAAAABEIbAAAAAAAAAAAIhDYAAAAAAAAA\n",
       "ABAIbQAAAAAAAAAAIBDaAAAAAAAAAABAILQBAAAAAAAAAIBAaAMAAAAAAAAAAIHQBgAAAAAAAAAA\n",
       "grX33k8PAQAAAPBJ1lpPj/Cok19HffpuofI6vOddu7ZX+P1OvTd7//jOZyBfTXzdueF7Jt7HRBNv\n",
       "2hNtAAAAAAAAAAAgENoAAAAAAAAAAEAgtAEAAAAAAAAAgEBoAwAAAAAAAAAAgdAGAAAAAAAAAAAC\n",
       "oQ0AAAAAAAAAAARCGwAAAAAAAAAACIQ2AAAAAAAAAAAQCG0AAAAAAAAAACAQ2gAAAAAAAAAAQCC0\n",
       "AQAAAAAAAACAQGgDAAAAAAAAAACB0AYAAAAAAAAAAAKhDQAAAAAAAAAABEIbAAAAAAAAAAAIhDYA\n",
       "AAAAAAAAABAIbQAAAAAAAAAAIBDaAAAAAAAAAABAILQBAAAAAAAAAIBAaAMAAAAAAAAAAIHQBgAA\n",
       "AAAAAAAAAqENAAAAAAAAAAAEa++9nx4CAPb4mxoAABtRSURBVAAA4Cdaaz09wv906qudCT/7TSe/\n",
       "Qju564n3MXHXE2eeauJNTzDxhifO/HrNvOGJu54481QTb3qCiTc8cWbucR/32PUdnmgDAAAAAAAA\n",
       "AACB0AYAAAAAAAAAAAKhDQAAAAAAAAAABEIbAAAAAAAAAAAIhDYAAAAAAAAAABAIbQAAAAAAAAAA\n",
       "IBDaAAAAAAAAAABAILQBAAAAAAAAAIBAaAMAAAAAAAAAAIHQBgAAAAAAAAAAAqENAAAAAAAAAAAE\n",
       "QhsAAAAAAAAAAAiENgAAAAAAAAAAEAhtAAAAAAAAAAAgENoAAAAAAAAAAEAgtAEAAAAAAAAAgEBo\n",
       "AwAAAAAAAAAAgdAGAAAAAAAAAAACoQ0AAAAAAAAAAARCGwAAAAAAAAAACIQ2AAAAAAAAAAAQCG0A\n",
       "AAAAAAAAACBYe+/99BAAAADA77bWenqE/8upr02m7uNdTn4d9em7hcrr8J537dpe4ffzu+cdPgP5\n",
       "auLrzg3fM/E+Jpp4055oAwAAAAAAAAAAgdAGAAAAAAAAAAACoQ0AAAAAAAAAAARCGwAAAAAAAAAA\n",
       "CIQ2AAAAAAAAAAAQCG0AAAAAAAAAACAQ2gAAAAAAAAAAQCC0AQAAAAAAAACAQGgDAAAAAAAAAACB\n",
       "0AYAAAAAAAAAAAKhDQAAAAAAAAAABEIbAAAAAAAAAAAIhDYAAAAAAAAAABAIbQAAAAAAAAAAIBDa\n",
       "AAAAAAAAAABAILQBAAAAAAAAAIBAaAMAAAAAAAAAAIHQBgAAAAAAAAAAAqENAAAAAAAAAAAEQhsA\n",
       "AAAAAAAAAAiENgAAAAAAAAAAEKy99356CAAAAOBnWGsd+XdPfv1wauYpTu320/f6p6k3PPE+Ju56\n",
       "4sxTTbzpCSbe8MSZX6+ZNzxx1xNnnmriTU8w8YYnzsw97uMeu77DE20AAAAAAAAAACAQ2gAAAAAA\n",
       "AAAAQCC0AQAAAAAAAACAQGgDAAAAAAAAAACB0AYAAAAAAAAAAAKhDQAAAAAAAAAABEIbAAAAAAAA\n",
       "AAAIhDYAAAAAAAAAABAIbQAAAAAAAAAAIBDaAAAAAAAAAABAILQBAAAAAAAAAIBAaAMAAAAAAAAA\n",
       "AIHQBgAAAAAAAAAAAqENAAAAAAAAAAAEQhsAAAAAAAAAAAiENgAAAAAAAAAAEAhtAAAAAAAAAAAg\n",
       "ENoAAAAAAAAAAEAgtAEAAAAAAAAAgEBoAwAAAAAAAAAAgdAGAAAAAAAAAAACoQ0AAAAAAAAAAARr\n",
       "772fHgIAAAB+m7XW0yPwBqe+Nvn0+zj5ddSn7xYqr8N73rVre4Xfz++ed/gM5KuJrzs3fM/E+5ho\n",
       "4k17og0AAAAAAAAAAARCGwAAAAAAAAAACIQ2AAAAAAAAAAAQCG0AAAAAAAAAACAQ2gAAAAAAAAAA\n",
       "QCC0AQAAAAAAAACAQGgDAAAAAAAAAACB0AYAAAAAAAAAAAKhDQAAAAAAAAAABEIbAAAAAAAAAAAI\n",
       "hDYAAAAAAAAAABAIbQAAAAAAAAAAIBDaAAAAAAAAAABAILQBAAAAAAAAAIBAaAMAAAAAAAAAAIHQ\n",
       "BgAAAAAAAAAAAqENAAAAAAAAAAAEQhsAAAAAAAAAAAiENgAAAAAAAAAAEKy99356CAAAAPgna62n\n",
       "R/hRTv4pf2rXE2ee4tRuP32vf5p6wxPvY+KuJ8481cSbnmDiDU+c+fWaecMTdz1x5qkm3vQEE294\n",
       "4szc4z7uses7PNEGAAAAAAAAAAACoQ0AAAAAAAAAAARCGwAAAAAAAAAACIQ2AAAAAAAAAAAQCG0A\n",
       "AAAAAAAAACAQ2gAAAAAAAAAAQCC0AQAAAAAAAACAQGgDAAAAAAAAAACB0AYAAAAAAAAAAAKhDQAA\n",
       "AAAAAAAABEIbAAAAAAAAAAAIhDYAAAAAAAAAABAIbQAAAAAAAAAAIBDaAAAAAAAAAABAILQBAAAA\n",
       "AAAAAIBAaAMAAAAAAAAAAIHQBgAAAAAAAAAAAqENAAAAAAAAAAAEQhsAAAAAAAAAAAiENgAAAAAA\n",
       "AAAAEAhtAAAAAAAAAAAgENoAAAAAAAAAAECw9t776SEAAAC4Z6319Ag/yqk/i+35d3AfZ5z8OurT\n",
       "dwuV1+E979q1vcLv53fPO3wG8tXE150bvmfifUw08aY90QYAAAAAAAAAAAKhDQAAAAAAAAAABEIb\n",
       "AAAAAAAAAAAIhDYAAAAAAAAAABAIbQAAAAAAAAAAIBDaAAAAAAAAAABAILQBAAAAAAAAAIBAaAMA\n",
       "AAAAAAAAAIHQBgAAAAAAAAAAAqENAAAAAAAAAAAEQhsAAAAAAAAAAAiENgAAAAAAAAAAEAhtAAAA\n",
       "AAAAAAAgENoAAAAAAAAAAEAgtAEAAAAAAAAAgEBoAwAAAAAAAAAAgdAGAAAAAAAAAAACoQ0AAAAA\n",
       "AAAAAARCGwAAAAAAAAAACIQ2AAAAAAAAAAAQCG0AAAAAAAAAACAQ2gAAAAAAAAAAQLD23vvpIQAA\n",
       "APhurfX0CH/t5J+XE/dx0sRdT5x5ilO7/fS9/mnqDU+8j4m7njjzVBNveoKJNzxx5tdr5g1P3PXE\n",
       "maeaeNMTTLzhiTNzj/u4x67v8EQbAAAAAAAAAAAIhDYAAAAAAAAAABAIbQAAAAAAAAAAIBDaAAAA\n",
       "AAAAAABAILQBAAAAAAAAAIBAaAMAAAAAAAAAAIHQBgAAAAAAAAAAAqENAAAAAAAAAAAEQhsAAAAA\n",
       "AAAAAAiENgAAAAAAAAAAEAhtAAAAAAAAAAAgENoAAAAAAAAAAEAgtAEAAAAAAAAAgEBoAwAAAAAA\n",
       "AAAAgdAGAAAAAAAAAAACoQ0AAAAAAAAAAARCGwAAAAAAAAAACIQ2AAAAAAAAAAAQCG0AAAAAAAAA\n",
       "ACAQ2gAAAAAAAAAAQCC0AQAAAAAAAACAYO2999NDAAAAnLTWenqEv3byT7WJ+zjp1K7t+XdwH2d4\n",
       "j4PneR3e865d2yv8fn73vMNnIF9NfN254Xsm3sdEE2/aE20AAAAAAAAAACAQ2gAAAAAAAAAAQCC0\n",
       "AQAAAAAAAACAQGgDAAAAAAAAAACB0AYAAAAAAAAAAAKhDQAAAAAAAAAABEIbAAAAAAAAAAAIhDYA\n",
       "AAAAAAAAABAIbQAAAAAAAAAAIBDaAAAAAAAAAABAILQBAAAAAAAAAIBAaAMAAAAAAAAAAIHQBgAA\n",
       "AAAAAAAAAqENAAAAAAAAAAAEQhsAAAAAAAAAAAiENgAAAAAAAAAAEAhtAAAAAAAAAAAgENoAAAAA\n",
       "AAAAAEAgtAEAAAAAAAAAgEBoAwAAAAAAAAAAgdAGAAAAAAAAAAACoQ0AAAAAAAAAAARr772fHgIA\n",
       "AJhjrfX0CH/t5J89E/dxij3fM3HXE2ee4tRuP32vf5p6wxPvY+KuJ8481cSbnmDiDU+c+fWaecMT\n",
       "dz1x5qkm3vQEE2944szc4z7uses7PNEGAAAAAAAAAAACoQ0AAAAAAAAAAARCGwAAAAAAAAAACIQ2\n",
       "AAAAAAAAAAAQCG0AAAAAAAAAACAQ2gAAAAAAAAAAQCC0AQAAAAAAAACAQGgDAAAAAAAAAACB0AYA\n",
       "AAAAAAAAAAKhDQAAAAAAAAAABEIbAAAAAAAAAAAIhDYAAAAAAAAAABAIbQAAAAAAAAAAIBDaAAAA\n",
       "AAAAAABAILQBAAAAAAAAAIBAaAMAAAAAAAAAAIHQBgAAAAAAAAAAAqENAAAAAAAAAAAEQhsAAAAA\n",
       "AAAAAAjW3ns/PQQAAPBva62nR/ifTv0JMeFnv+nkn2p2/Z2b5p+4jzO8x8HzvA7vedeu7RV+P797\n",
       "3uEzkK8mvu7c8D0T72OiiTftiTYAAAAAAAAAABAIbQAAAAAAAAAAIBDaAAAAAAAAAABAILQBAAAA\n",
       "AAAAAIBAaAMAAAAAAAAAAIHQBgAAAAAAAAAAAqENAAAAAAAAAAAEQhsAAAAAAAAAAAiENgAAAAAA\n",
       "AAAAEAhtAAAAAAAAAAAgENoAAAAAAAAAAEAgtAEAAAAAAAAAgEBoAwAAAAAAAAAAgdAGAAAAAAAA\n",
       "AAACoQ0AAAAAAAAAAARCGwAAAAAAAAAACIQ2AAAAAAAAAAAQCG0AAAAAAAAAACAQ2gAAAAAAAAAA\n",
       "QCC0AQAAAAAAAACAQGgDAAAAAAAAAACB0AYAAAAAAAAAAIK1995PDwEAAO+21np6hP/Lu349n/rz\n",
       "n3Lyzx67/g97vmfirifOPMWp3X76Xv809YYn3sfEXU+ceaqJNz3BxBueOPPrNfOGJ+564sxTTbzp\n",
       "CSbe8MSZucd93GPXd3iiDQAAAAAAAAAABEIbAAAAAAAAAAAIhDYAAAAAAAAAABAIbQAAAAAAAAAA\n",
       "IBDaAAAAAAAAAABAILQBAAAAAAAAAIBAaAMAAAAAAAAAAIHQBgAAAAAAAAAAAqENAAAAAAAAAAAE\n",
       "QhsAAAAAAAAAAAiENgAAAAAAAAAAEAhtAAAAAAAAAAAgENoAAAAAAAAAAEAgtAEAAAAAAAAAgEBo\n",
       "AwAAAAAAAAAAgdAGAAAAAAAAAAACoQ0AAAAAAAAAAARCGwAAAAAAAAAACIQ2AAAAAAAAAAAQCG0A\n",
       "AAAAAAAAACAQ2gAAAAAAAAAAQCC0AQAAAAAAAACAYO2999NDAADws621nh7hr538NXfiPt7p1G4/\n",
       "fa9/csP3uGn+ifs4w3scPM/r8J537dpe4ffzu+cdPgP5auLrzg3fM/E+Jpp4055oAwAAAAAAAAAA\n",
       "gdAGAAAAAAAAAAACoQ3/aucOchvJgSCKivc/NHs5rl4Y0R4x6bDfO4CRSGdJtfgQAAAAAAAAAAAB\n",
       "oQ0AAAAAAAAAAASENgAAAAAAAAAAEBDaAAAAAAAAAABAQGgDAAAAAAAAAAABoQ0AAAAAAAAAAASE\n",
       "NgAAAAAAAAAAEBDaAAAAAAAAAABAQGgDAAAAAAAAAAABoQ0AAAAAAAAAAASENgAAAAAAAAAAEBDa\n",
       "AAAAAAAAAABAQGgDAAAAAAAAAAABoQ0AAAAAAAAAAASENgAAAAAAAAAAEBDaAAAAAAAAAABAQGgD\n",
       "AAAAAAAAAAABoQ0AAAAAAAAAAASENgAAAAAAAAAAEFh77317CACA72atdXuEb+XkK6NdP71r1/b6\n",
       "5IZn2POcxl03ztzi1G5/+17/1nrDjffRuOvGmVs13nSDxhtunPn16rzhxl03ztyq8aYbNN5w48zM\n",
       "cR9z7HqGX7QBAAAAAAAAAICA0AYAAAAAAAAAAAJCGwAAAAAAAAAACAhtAAAAAAAAAAAgILQBAAAA\n",
       "AAAAAICA0AYAAAAAAAAAAAJCGwAAAAAAAAAACAhtAAAAAAAAAAAgILQBAAAAAAAAAICA0AYAAAAA\n",
       "AAAAAAJCGwAAAAAAAAAACAhtAAAAAAAAAAAgILQBAAAAAAAAAICA0AYAAAAAAAAAAAJCGwAAAAAA\n",
       "AAAACAhtAAAAAAAAAAAgILQBAAAAAAAAAICA0AYAAAAAAAAAAAJCGwAAAAAAAAAACAhtAAAAAAAA\n",
       "AAAgsPbe+/YQAABfsda6PcKXnHr9at3HKSdfc3/7rt3wDDc8x03zGfdxhs84uM9zOOddu7ZX+Pm8\n",
       "e87wHchHjc+dG57TeB+NGm/aL9oAAAAAAAAAAEBAaAMAAAAAAAAAAAGhDQAAAAAAAAAABIQ2AAAA\n",
       "AAAAAAAQENoAAAAAAAAAAEBAaAMAAAAAAAAAAAGhDQAAAAAAAAAABIQ2AAAAAAAAAAAQENoAAAAA\n",
       "AAAAAEBAaAMAAAAAAAAAAAGhDQAAAAAAAAAABIQ2AAAAAAAAAAAQENoAAAAAAAAAAEBAaAMAAAAA\n",
       "AAAAAAGhDQAAAAAAAAAABIQ2AAAAAAAAAAAQENoAAAAAAAAAAEBAaAMAAAAAAAAAAAGhDQAAAAAA\n",
       "AAAABIQ2AAAAAAAAAAAQENoAAAAAAAAAAEBg7b337SEAgMxa6/YI38rJ1xi7frLrOe/atb0+ueEZ\n",
       "9jyncdeNM7c4tdvfvte/td5w43007rpx5laNN92g8YYbZ369Om+4cdeNM7dqvOkGjTfcODNz3Mcc\n",
       "u57hF20AAAAAAAAAACAgtAEAAAAAAAAAgIDQBgAAAAAAAAAAAkIbAAAAAAAAAAAICG0AAAAAAAAA\n",
       "ACAgtAEAAAAAAAAAgIDQBgAAAAAAAAAAAkIbAAAAAAAAAAAICG0AAAAAAAAAACAgtAEAAAAAAAAA\n",
       "gIDQBgAAAAAAAAAAAkIbAAAAAAAAAAAICG0AAAAAAAAAACAgtAEAAAAAAAAAgIDQBgAAAAAAAAAA\n",
       "AkIbAAAAAAAAAAAICG0AAAAAAAAAACAgtAEAAAAAAAAAgIDQBgAAAAAAAAAAAkIbAAAAAAAAAAAI\n",
       "CG0AAAAAAAAAACAgtAEAAAAAAAAAgMDae+/bQwDAT7PWuj3CPzv5StC4j5NO7dqen9z0OW54hhue\n",
       "46b5jPs4w2cc3Oc5nPOuXdsr/HzePWf4DuSjxufODc9pvI9GjTftF20AAAAAAAAAACAgtAEAAAAA\n",
       "AAAAgIDQBgAAAAAAAAAAAkIbAAAAAAAAAAAICG0AAAAAAAAAACAgtAEAAAAAAAAAgIDQBgAAAAAA\n",
       "AAAAAkIbAAAAAAAAAAAICG0AAAAAAAAAACAgtAEAAAAAAAAAgIDQBgAAAAAAAAAAAkIbAAAAAAAA\n",
       "AAAICG0AAAAAAAAAACAgtAEAAAAAAAAAgIDQBgAAAAAAAAAAAkIbAAAAAAAAAAAICG0AAAAAAAAA\n",
       "ACAgtAEAAAAAAAAAgIDQBgAAAAAAAAAAAkIbAAAAAAAAAAAICG0AAAAAAAAAACAgtAEAAAAAAAAA\n",
       "gMDae+/bQwDADWutY3/71NfryZkbnXyNsesnu57zrl3b65MbnmHPcxp33ThzC++eM1pvuPE+Gnfd\n",
       "OHOrxptu0HjDjTO/Xp033LjrxplbNd50g8YbbpyZOe5jjl3P8Is2AAAAAAAAAAAQENoAAAAAAAAA\n",
       "AEBAaAMAAAAAAAAAAAGhDQAAAAAAAAAABIQ2AAAAAAAAAAAQENoAAAAAAAAAAEBAaAMAAAAAAAAA\n",
       "AAGhDQAAAAAAAAAABIQ2AAAAAAAAAAAQENoAAAAAAAAAAEBAaAMAAAAAAAAAAAGhDQAAAAAAAAAA\n",
       "BIQ2AAAAAAAAAAAQENoAAAAAAAAAAEBAaAMAAAAAAAAAAAGhDQAAAAAAAAAABIQ2AAAAAAAAAAAQ\n",
       "ENoAAAAAAAAAAEBAaAMAAAAAAAAAAAGhDQAAAAAAAAAABIQ2AAAAAAAAAAAQWHvvfXsIAPqttW6P\n",
       "wP908pXAfTyd2rU9P7npc9zwDDc8x03zGfdxhs84uM9zOOddu7ZX+Pm8e87wHchHjc+dG57TeB+N\n",
       "Gm/aL9oAAAAAAAAAAEBAaAMAAAAAAAAAAAGhDQAAAAAAAAAABIQ2AAAAAAAAAAAQENoAAAAAAAAA\n",
       "AEBAaAMAAAAAAAAAAAGhDQAAAAAAAAAABIQ2AAAAAAAAAAAQENoAAAAAAAAAAEBAaAMAAAAAAAAA\n",
       "AAGhDQAAAAAAAAAABIQ2AAAAAAAAAAAQENoAAAAAAAAAAEBAaAMAAAAAAAAAAAGhDQAAAAAAAAAA\n",
       "BIQ2AAAAAAAAAAAQENoAAAAAAAAAAEBAaAMAAAAAAAAAAAGhDQAAAAAAAAAABIQ2AAAAAAAAAAAQ\n",
       "WHvvfXsIgElrrdsj8I9OfVWdvIXGmRudfI2x6ye7nvOuXdvrkxueYc9zGnfdOHML754zWm+48T4a\n",
       "d904c6vGm27QeMONM79enTfcuOvGmVs13nSDxhtunJk57mOOXc/wizYAAAAAAAAAABAQ2gAAAAAA\n",
       "AAAAQEBoAwAAAAAAAAAAAaENAAAAAAAAAAAEhDYAAAAAAAAAABAQ2gAAAAAAAAAAQEBoAwAAAAAA\n",
       "AAAAAaENAAAAAAAAAAAEhDYAAAAAAAAAABAQ2gAAAAAAAAAAQEBoAwAAAAAAAAAAAaENAAAAAAAA\n",
       "AAAEhDYAAAAAAAAAABAQ2gAAAAAAAAAAQEBoAwAAAAAAAAAAAaENAAAAAAAAAAAEhDYAAAAAAAAA\n",
       "ABAQ2gAAAAAAAAAAQEBoAwAAAAAAAAAAAaENAAAAAAAAAAAEhDYAAAAAAAAAABAQ2gAAAAAAAAAA\n",
       "QGDtvfftIYCz1lq3R/gVTn6cvut/2DAj97iPOad2bc9PbvocNzzDDc9x03zGfZzhMw7u8xzOedeu\n",
       "7RV+Pu+eM3wH8lHjc+eG5zTeR6PGm/aLNgAAAAAAAAAAEBDaAAAAAAAAAABAQGgDAAAAAAAAAAAB\n",
       "oQ0AAAAAAAAAAASENgAAAAAAAAAAEBDaAAAAAAAAAABAQGgDAAAAAAAAAAABoQ0AAAAAAAAAAASE\n",
       "NgAAAAAAAAAAEBDaAAAAAAAAAABAQGgDAAAAAAAAAAABoQ0AAAAAAAAAAASENgAAAAAAAAAAEBDa\n",
       "AAAAAAAAAABAQGgDAAAAAAAAAAABoQ0AAAAAAAAAAASENgAAAAAAAAAAEBDaAAAAAAAAAABAQGgD\n",
       "AAAAAAAAAAABoQ0AAAAAAAAAAASENgAAAAAAAAAAEFh77317CGix1ro9wpecesxP7uPkR1Pr//E3\n",
       "c8P/cb9PPivm2PWcd+3aXp/c8Ax7ntO468aZW3j3nNF6w4330bjrxplbNd50g8Ybbpz59eq84cZd\n",
       "N87cqvGmGzTecOPMzHEfc+x6hl+0AQAAAAAAAACAgNAGAAAAAAAAAAACQhsAAAAAAAAAAAgIbQAA\n",
       "AAAAAAAAICC0AQAAAAAAAACAgNAGAAAAAAAAAAACQhsAAAAAAAAAAAgIbQAAAAAAAAAAICC0AQAA\n",
       "AAAAAACAgNAGAAAAAAAAAAACQhsAAAAAAAAAAAgIbQAAAAAAAAAAICC0AQAAAAAAAACAgNAGAAAA\n",
       "AAAAAAACQhsAAAAAAAAAAAgIbQAAAAAAAAAAICC0AQAAAAAAAACAgNAGAAAAAAAAAAACQhsAAAAA\n",
       "AAAAAAgIbQAAAAAAAAAAICC0AQAAAAAAAACAgNAGAAAAAAAAAAACa++9bw8B77bWOvJ3Tz4up2Zm\n",
       "TsN9NMzIPe5jzqld2/OTmz7HDc9ww3PcNJ9xH2f4jIP7PIdz3rVre4Wfz7vnDN+BfNT43LnhOY33\n",
       "0ajxpv2iDQAAAAAAAAAABIQ2AAAAAAAAAAAQENoAAAAAAAAAAEBAaAMAAAAAAAAAAAGhDQAAAAAA\n",
       "AAAABIQ2AAAAAAAAAAAQENoAAAAAAAAAAEBAaAMAAAAAAAAAAAGhDQAAAAAAAAAABIQ2AAAAAAAA\n",
       "AAAQENoAAAAAAAAAAEBAaAMAAAAAAAAAAAGhDQAAAAAAAAAABIQ2AAAAAAAAAAAQENoAAAAAAAAA\n",
       "AEBAaAMAAAAAAAAAAAGhDQAAAAAAAAAABIQ2AAAAAAAAAAAQENoAAAAAAAAAAEBAaAMAAAAAAAAA\n",
       "AAGhDQAAAAAAAAAABP4AysRMAK5V+pUAAAAASUVORK5CYII=\n",
       "\" transform=\"translate(87, 229)\"/>\n",
       "</g>\n",
       "</svg>\n"
      ]
     },
     "execution_count": 35,
     "metadata": {},
     "output_type": "execute_result"
    }
   ],
   "source": [
    " # Reverse the image to make it plot nicer\n",
    "    B = map( x -> x == 0 ? 1 : 0, A)\n",
    "    p = plot(Gray.(B), aspect_ratio = :equal, ylim=(0,nsteps+1), axis=nothing, xaxis=false, yaxis=false)"
   ]
  },
  {
   "cell_type": "markdown",
   "metadata": {
    "slideshow": {
     "slide_type": "slide"
    }
   },
   "source": [
    "### Synchronous vs asynchronous update - defining a model update function\n",
    "\n",
    "What happened? We need our model to update synchronously. This is most easily done by defining a model update function that updates the agents:"
   ]
  },
  {
   "cell_type": "code",
   "execution_count": 36,
   "metadata": {},
   "outputs": [
    {
     "data": {
      "text/plain": [
       "model_step! (generic function with 1 method)"
      ]
     },
     "execution_count": 36,
     "metadata": {},
     "output_type": "execute_result"
    }
   ],
   "source": [
    "function model_step!(model)\n",
    "    new_states =  fill(0, nagents(model))\n",
    "    for agent in allagents(model)\n",
    "        neighbourhood = nearby_ids(agent.pos, model)\n",
    "        str = \"\"\n",
    "        for idx in neighbourhood\n",
    "            str=str*string(model.agents[idx].state)\n",
    "        end\n",
    "        new_states[agent.id] = model.rules[str]\n",
    "    end\n",
    "    \n",
    "    # Now that we have worked out all the new states, overwrite the old states\n",
    "    for k in keys(model.agents)\n",
    "        model.agents[k].state = new_states[k]\n",
    "    end\n",
    "end"
   ]
  },
  {
   "cell_type": "markdown",
   "metadata": {
    "slideshow": {
     "slide_type": "slide"
    }
   },
   "source": [
    "### Synchronous vs asynchronous update - defining a model update function\n",
    "\n",
    "Now run again with a different form of the run!() function. Agents.jl provides a ```dummystep``` function for ABMs that don't require an ```agent_step!()``` function:"
   ]
  },
  {
   "cell_type": "code",
   "execution_count": 37,
   "metadata": {},
   "outputs": [],
   "source": [
    "model = initialise(;rules = rule110, gridsize = 101)\n",
    "nsteps = 50\n",
    "adata = [:pos, :state]\n",
    "data, _ = run!(model, dummystep, model_step!, nsteps; adata);"
   ]
  },
  {
   "cell_type": "code",
   "execution_count": 38,
   "metadata": {
    "slideshow": {
     "slide_type": "slide"
    }
   },
   "outputs": [
    {
     "data": {
      "image/svg+xml": [
       "<?xml version=\"1.0\" encoding=\"utf-8\"?>\n",
       "<svg xmlns=\"http://www.w3.org/2000/svg\" xmlns:xlink=\"http://www.w3.org/1999/xlink\" width=\"600\" height=\"400\" viewBox=\"0 0 2400 1600\">\n",
       "<defs>\n",
       "  <clipPath id=\"clip420\">\n",
       "    <rect x=\"0\" y=\"0\" width=\"2400\" height=\"1600\"/>\n",
       "  </clipPath>\n",
       "</defs>\n",
       "<path clip-path=\"url(#clip420)\" d=\"\n",
       "M0 1600 L2400 1600 L2400 0 L0 0  Z\n",
       "  \" fill=\"#ffffff\" fill-rule=\"evenodd\" fill-opacity=\"1\"/>\n",
       "<defs>\n",
       "  <clipPath id=\"clip421\">\n",
       "    <rect x=\"480\" y=\"0\" width=\"1681\" height=\"1600\"/>\n",
       "  </clipPath>\n",
       "</defs>\n",
       "<path clip-path=\"url(#clip420)\" d=\"\n",
       "M86.9921 1361.9 L2352.76 1361.9 L2352.76 206.356 L86.9921 206.356  Z\n",
       "  \" fill=\"#ffffff\" fill-rule=\"evenodd\" fill-opacity=\"1\"/>\n",
       "<defs>\n",
       "  <clipPath id=\"clip422\">\n",
       "    <rect x=\"86\" y=\"206\" width=\"2267\" height=\"1157\"/>\n",
       "  </clipPath>\n",
       "</defs>\n",
       "<g clip-path=\"url(#clip422)\">\n",
       "<image width=\"2266\" height=\"1133\" xlink:href=\"data:image/png;base64,\n",
       "iVBORw0KGgoAAAANSUhEUgAACNoAAARtCAYAAACJXrpAAAAgAElEQVR4nOzcQW4kNxQFQX2j7n9l\n",
       "emF4MYDhybZMsSlFHKDwQLa0SnDWWusDAAAAAAAAAAC+iZnZ8t0/tnwVAAAAAAAAAAC+GaENAAAA\n",
       "AAAAAAAEQhsAAAAAAAAAAAiENgAAAAAAAAAAEAhtAAAAAAAAAAAgENoAAAAAAAAAAEAgtAEAAAAA\n",
       "AAAAgEBoAwAAAAAAAAAAgdAGAAAAAAAAAAACoQ0AAAAAAAAAAARCGwAAAAAAAAAACIQ2AAAAAAAA\n",
       "AAAQCG0AAAAAAAAAACAQ2gAAAAAAAAAAQCC0AQAAAAAAAACAQGgDAAAAAAAAAACB0AYAAAAAAAAA\n",
       "AAKhDQAAAAAAAAAABEIbAAAAAAAAAAAIhDYAAAAAAAAAABAIbQAAAAAAAAAAIBDaAAAAAAAAAABA\n",
       "8JweAAAAAAAAAADAzzMzpye8zIs2AAAAAAAAAAAQCG0AAAAAAAAAACAQ2gAAAAAAAAAAQCC0AQAA\n",
       "AAAAAACAQGgDAAAAAAAAAACB0AYAAAAAAAAAAAKhDQAAAAAAAAAABEIbAAAAAAAAAAAIhDYAAAAA\n",
       "AAAAABAIbQAAAAAAAAAAIBDaAAAAAAAAAABAILQBAAAAAAAAAIBAaAMAAAAAAAAAAIHQBgAAAAAA\n",
       "AAAAAqENAAAAAAAAAAAEQhsAAAAAAAAAAAiENgAAAAAAAAAAEAhtAAAAAAAAAAAgENoAAAAAAAAA\n",
       "AEAgtAEAAAAAAAAAgEBoAwAAAAAAAAAAgdAGAAAAAAAAAACC5/QAAAAAAAAAAADe18ycnvA2vGgD\n",
       "AAAAAAAAAACB0AYAAAAAAAAAAAKhDQAAAAAAAAAABEIbAAAAAAAAAAAIhDYAAAAAAAAAABAIbQAA\n",
       "AAAAAAAAIBDaAAAAAAAAAABAILQBAAAAAAAAAIBAaAMAAAAAAAAAAIHQBgAAAAAAAAAAAqENAAAA\n",
       "AAAAAAAEQhsAAAAAAAAAAAiENgAAAAAAAAAAEAhtAAAAAAAAAAAgENoAAAAAAAAAAEAgtAEAAAAA\n",
       "AAAAgEBoAwAAAAAAAAAAgdAGAAAAAAAAAAACoQ0AAAAAAAAAAARCGwAAAAAAAAAACIQ2AAAAAAAA\n",
       "AAAQPKcHAAAAAAAAAADwOTNzesLL1lrbvr3rPLxoAwAAAAAAAAAAgdAGAAAAAAAAAAACoQ0AAAAA\n",
       "AAAAAARCGwAAAAAAAAAACIQ2AAAAAAAAAAAQCG0AAAAAAAAAACAQ2gAAAAAAAAAAQCC0AQAAAAAA\n",
       "AACAQGgDAAAAAAAAAACB0AYAAAAAAAAAAAKhDQAAAAAAAAAABEIbAAAAAAAAAAAIhDYAAAAAAAAA\n",
       "ABAIbQAAAAAAAAAAIBDaAAAAAAAAAABAILQBAAAAAAAAAIBAaAMAAAAAAAAAAIHQBgAAAAAAAAAA\n",
       "AqENAAAAAAAAAAAEQhsAAAAAAAAAAAiENgAAAAAAAAAAEAhtAAAAAAAAAAAgeE4PAAAAAAAAAAD4\n",
       "CWbm9IS3cuN5eNEGAAAAAAAAAAACoQ0AAAAAAAAAAARCGwAAAAAAAAAACIQ2AAAAAAAAAAAQCG0A\n",
       "AAAAAAAAACAQ2gAAAAAAAAAAQCC0AQAAAAAAAACAQGgDAAAAAAAAAACB0AYAAAAAAAAAAAKhDQAA\n",
       "AAAAAAAABEIbAAAAAAAAAAAIhDYAAAAAAAAAABAIbQAAAAAAAAAAIBDaAAAAAAAAAABAILQBAAAA\n",
       "AAAAAIBAaAMAAAAAAAAAAIHQBgAAAAAAAAAAAqENAAAAAAAAAAAEQhsAAAAAAAAAAAiENgAAAAAA\n",
       "AAAAEDynBwAAAAAAAAAAvJOZOT3hZWut0xPeyq479KINAAAAAAAAAAAEQhsAAAAAAAAAAAiENgAA\n",
       "AAAAAAAAEAhtAAAAAAAAAAAgENoAAAAAAAAAAEAgtAEAAAAAAAAAgEBoAwAAAAAAAAAAgdAGAAAA\n",
       "AAAAAAACoQ0AAAAAAAAAAARCGwAAAAAAAAAACIQ2AAAAAAAAAAAQCG0AAAAAAAAAACAQ2gAAAAAA\n",
       "AAAAQCC0AQAAAAAAAACAQGgDAAAAAAAAAACB0AYAAAAAAAAAAAKhDQAAAAAAAAAABEIbAAAAAAAA\n",
       "AAAIhDYAAAAAAAAAABAIbQAAAAAAAAAAIBDaAAAAAAAAAABA8JweAAAAAAAAAADwqpk5PYFPuvEO\n",
       "vWgDAAAAAAAAAACB0AYAAAAAAAAAAAKhDQAAAAAAAAAABEIbAAAAAAAAAAAIhDYAAAAAAAAAABAI\n",
       "bQAAAAAAAAAAIBDaAAAAAAAAAABAILQBAAAAAAAAAIBAaAMAAAAAAAAAAIHQBgAAAAAAAAAAAqEN\n",
       "AAAAAAAAAAAEQhsAAAAAAAAAAAiENgAAAAAAAAAAEAhtAAAAAAAAAAAgENoAAAAAAAAAAEAgtAEA\n",
       "AAAAAAAAgEBoAwAAAAAAAAAAgdAGAAAAAAAAAAACoQ0AAAAAAAAAAARCGwAAAAAAAAAACIQ2AAAA\n",
       "AAAAAAAQCG0AAAAAAAAAACB4Tg8AAAAAAAAAAL6nmTk94T9Za2357q3ncevuHbxoAwAAAAAAAAAA\n",
       "gdAGAAAAAAAAAAACoQ0AAAAAAAAAAARCGwAAAAAAAAAACIQ2AAAAAAAAAAAQCG0AAAAAAAAAACAQ\n",
       "2gAAAAAAAAAAQCC0AQAAAAAAAACAQGgDAAAAAAAAAACB0AYAAAAAAAAAAAKhDQAAAAAAAAAABEIb\n",
       "AAAAAAAAAAAIhDYAAAAAAAAAABAIbQAAAAAAAAAAIBDaAAAAAAAAAABAILQBAAAAAAAAAIBAaAMA\n",
       "AAAAAAAAAIHQBgAAAAAAAAAAAqENAAAAAAAAAAAEQhsAAAAAAAAAAAiENgAAAAAAAAAAEAhtAAAA\n",
       "AAAAAAAgmLXWOj0CAAAAAAAAADhnZk5P4Afamazs+k170QYAAAAAAAAAAAKhDQAAAAAAAAAABEIb\n",
       "AAAAAAAAAAAIhDYAAAAAAAAAABAIbQAAAAAAAAAAIBDaAAAAAAAAAABAILQBAAAAAAAAAIBAaAMA\n",
       "AAAAAAAAAIHQBgAAAAAAAAAAAqENAAAAAAAAAAAEQhsAAAAAAAAAAAiENgAAAAAAAAAAEAhtAAAA\n",
       "AAAAAAAgENoAAAAAAAAAAEAgtAEAAAAAAAAAgEBoAwAAAAAAAAAAgdAGAAAAAAAAAAACoQ0AAAAA\n",
       "AAAAAARCGwAAAAAAAAAACIQ2AAAAAAAAAAAQCG0AAAAAAAAAACB4Tg8AAAAAAAAAAH5vZk5PeNla\n",
       "6/QE/ge7fns3/qa9aAMAAAAAAAAAAIHQBgAAAAAAAAAAAqENAAAAAAAAAAAEQhsAAAAAAAAAAAiE\n",
       "NgAAAAAAAAAAEAhtAAAAAAAAAAAgENoAAAAAAAAAAEAgtAEAAAAAAAAAgEBoAwAAAAAAAAAAgdAG\n",
       "AAAAAAAAAAACoQ0AAAAAAAAAAARCGwAAAAAAAAAACIQ2AAAAAAAAAAAQCG0AAAAAAAAAACAQ2gAA\n",
       "AAAAAAAAQCC0AQAAAAAAAACAQGgDAAAAAAAAAACB0AYAAAAAAAAAAAKhDQAAAAAAAAAABEIbAAAA\n",
       "AAAAAAAIntMDAAAAAAAAAOC7mJnTE/ihbvztrbW2fXvXeXjRBgAAAAAAAAAAAqENAAAAAAAAAAAE\n",
       "QhsAAAAAAAAAAAiENgAAAAAAAAAAEAhtAAAAAAAAAAAgENoAAAAAAAAAAEAgtAEAAAAAAAAAgEBo\n",
       "AwAAAAAAAAAAgdAGAAAAAAAAAAACoQ0AAAAAAAAAAARCGwAAAAAAAAAACIQ2AAAAAAAAAAAQCG0A\n",
       "AAAAAAAAACAQ2gAAAAAAAAAAQCC0AQAAAAAAAACAQGgDAAAAAAAAAACB0AYAAAAAAAAAAAKhDQAA\n",
       "AAAAAAAABEIbAAAAAAAAAAAIhDYAAAAAAAAAABAIbQAAAAAAAAAAIHhODwAAAAAAAACArzYzpye8\n",
       "bK217ds3nseNnPOvbjwPL9oAAAAAAAAAAEAgtAEAAAAAAAAAgEBoAwAAAAAAAAAAgdAGAAAAAAAA\n",
       "AAACoQ0AAAAAAAAAAARCGwAAAAAAAAAACIQ2AAAAAAAAAAAQCG0AAAAAAAAAACAQ2gAAAAAAAAAA\n",
       "QCC0AQAAAAAAAACAQGgDAAAAAAAAAACB0AYAAAAAAAAAAAKhDQAAAAAAAAAABEIbAAAAAAAAAAAI\n",
       "hDYAAAAAAAAAABAIbQAAAAAAAAAAIBDaAAAAAAAAAABAILQBAAAAAAAAAIBAaAMAAAAAAAAAAIHQ\n",
       "BgAAAAAAAAAAAqENAAAAAAAAAAAEQhsAAAAAAAAAAAie0wMAAAAAAAAA4J/MzOkJb8V5fJ0bz3qt\n",
       "dXrCW9l1h160AQAAAAAAAACAQGgDAAAAAAAAAACB0AYAAAAAAAAAAAKhDQAAAAAAAAAABEIbAAAA\n",
       "AAAAAAAIhDYAAAAAAAAAABAIbQAAAAAAAAAAIBDaAAAAAAAAAABAILQBAAAAAAAAAIBAaAMAAAAA\n",
       "AAAAAIHQBgAAAAAAAAAAAqENAAAAAAAAAAAEQhsAAAAAAAAAAAiENgAAAAAAAAAAEAhtAAAAAAAA\n",
       "AAAgENoAAAAAAAAAAEAgtAEAAAAAAAAAgEBoAwAAAAAAAAAAgdAGAAAAAAAAAAACoQ0AAAAAAAAA\n",
       "AARCGwAAAAAAAAAACIQ2AAAAAAAAAAAQPKcHAAAAAAAAAHCvmTk94T9Za52e8FZuvMcbN/OrG+/Q\n",
       "izYAAAAAAAAAABAIbQAAAAAAAAAAIBDaAAAAAAAAAABAILQBAAAAAAAAAIBAaAMAAAAAAAAAAIHQ\n",
       "BgAAAAAAAAAAAqENAAAAAAAAAAAEQhsAAAAAAAAAAAiENgAAAAAAAAAAEAhtAAAAAAAAAAAgENoA\n",
       "AAAAAAAAAEAgtAEAAAAAAAAAgEBoAwAAAAAAAAAAgdAGAAAAAAAAAAACoQ0AAAAAAAAAAARCGwAA\n",
       "AAAAAAAACIQ2AAAAAAAAAAAQCG0AAAAAAAAAACAQ2gAAAAAAAAAAQPCcHgAAAAAAAADAfjNzegKf\n",
       "dOMd3rj54+PjY6215bu3nsetu3fwog0AAAAAAAAAAARCGwAAAAAAAAAACIQ2AAAAAAAAAAAQCG0A\n",
       "AAAAAAAAACAQ2gAAAAAAAAAAQCC0AQAAAAAAAACAQGgDAAAAAAAAAACB0AYAAAAAAAAAAAKhDQAA\n",
       "AAAAAAAABEIbAAAAAAAAAAAIhDYAAAAAAAAAABAIbQAAAAAAAAAAIBDaAAAAAAAAAABAILQBAAAA\n",
       "AAAAAIBAaAMAAAAAAAAAAIHQBgAAAAAAAAAAAqENAAAAAAAAAAAEQhsAAAAAAAAAAAiENgAAAAAA\n",
       "AAAAEAhtAAAAAAAAAAAgENoAAAAAAAAAAEAgtAEAAAAAAAAAgOA5PQAAAAAAAACAv8zM6QkvW2tt\n",
       "+/aN53Hj5o+Pvfe4y86zvvEeb9x84/8PL9oAAAAAAAAAAEAgtAEAAAAAAAAAgEBoAwAAAAAAAAAA\n",
       "gdAGAAAAAAAAAAACoQ0AAAAAAAAAAARCGwAAAAAAAAAACIQ2AAAAAAAAAAAQCG0AAAAAAAAAACAQ\n",
       "2gAAAAAAAAAAQCC0AQAAAAAAAACAQGgDAAAAAAAAAACB0AYAAAAAAAAAAAKhDQAAAAAAAAAABEIb\n",
       "AAAAAAAAAAAIhDYAAAAAAAAAABAIbQAAAAAAAAAAIBDaAAAAAAAAAABAILQBAAAAAAAAAIBAaAMA\n",
       "AAAAAAAAAIHQBgAAAAAAAAAAAqENAAAAAAAAAAAEs9Zap0cAAAAAAAAA3GxmTk+AT9mVDtz6tyGl\n",
       "+NWt97iDF20AAAAAAAAAACAQ2gAAAAAAAAAAQCC0AQAAAAAAAACAQGgDAAAAAAAAAACB0AYAAAAA\n",
       "AAAAAAKhDQAAAAAAAAAABEIbAAAAAAAAAAAIhDYAAAAAAAAAABAIbQAAAAAAAAAAIBDaAAAAAAAA\n",
       "AABAILQBAAAAAAAAAIBAaAMAAAAAAAAAAIHQBgAAAAAAAAAAAqENAAAAAAAAAAAEQhsAAAAAAAAA\n",
       "AAiENgAAAAAAAAAAEAhtAAAAAAAAAAAgENoAAAAAAAAAAEAgtAEAAAAAAAAAgEBoAwAAAAAAAAAA\n",
       "gdAGAAAAAAAAAAACoQ0AAAAAAAAAAATP6QEAAAAAAAAAX2FmTk/4rbXW6Qm8sZ2/4Rv+Pvh3N97h\n",
       "zv95u87DizYAAAAAAAAAABAIbQAAAAAAAAAAIBDaAAAAAAAAAABAILQBAAAAAAAAAIBAaAMAAAAA\n",
       "AAAAAIHQBgAAAAAAAAAAAqENAAAAAAAAAAAEQhsAAAAAAAAAAAiENgAAAAAAAAAAEAhtAAAAAAAA\n",
       "AAAgENoAAAAAAAAAAEAgtAEAAAAAAAAAgEBoAwAAAAAAAAAAgdAGAAAAAAAAAAACoQ0AAAAAAAAA\n",
       "AARCGwAAAAAAAAAACIQ2AAAAAAAAAAAQCG0AAAAAAAAAACAQ2gAAAAAAAAAAQCC0AQAAAAAAAACA\n",
       "QGgDAAAAAAAAAACB0AYAAAAAAAAAAILn9AAAAAAAAACAv83M6QnwKbf+htdapye87MazvnHzTjee\n",
       "hxdtAAAAAAAAAAAgENoAAAAAAAAAAEAgtAEAAAAAAAAAgEBoAwAAAAAAAAAAgdAGAAAAAAAAAAAC\n",
       "oQ0AAAAAAAAAAARCGwAAAAAAAAAACIQ2AAAAAAAAAAAQCG0AAAAAAAAAACAQ2gAAAAAAAAAAQCC0\n",
       "AQAAAAAAAACAQGgDAAAAAAAAAACB0AYAAAAAAAAAAAKhDQAAAAAAAAAABEIbAAAAAAAAAAAIhDYA\n",
       "AAAAAAAAABAIbQAAAAAAAAAAIBDaAAAAAAAAAABAILQBAAAAAAAAAIDgOT0AAAAAAAAAuM/MnJ7w\n",
       "srXWtm/feB4/nTv7Gree8427d/6Pu9GuO/SiDQAAAAAAAAAABEIbAAAAAAAAAAAIhDYAAAAAAAAA\n",
       "ABAIbQAAAAAAAAAAIBDaAAAAAAAAAABAILQBAAAAAAAAAIBAaAMAAAAAAAAAAIHQBgAAAAAAAAAA\n",
       "AqENAAAAAAAAAAAEQhsAAAAAAAAAAAiENgAAAAAAAAAAEAhtAAAAAAAAAAAgENoAAAAAAAAAAEAg\n",
       "tAEAAAAAAAAAgEBoAwAAAAAAAAAAgdAGAAAAAAAAAAACoQ0AAAAAAAAAAARCGwAAAAAAAAAACIQ2\n",
       "AAAAAAAAAAAQCG0AAAAAAAAAACAQ2gAAAAAAAAAAQCC0AQAAAAAAAACA4Dk9AAAAAAAAANhjZk5P\n",
       "eCvO4z433tlaa9u3d56Hs/4aN57zTjeehxdtAAAAAAAAAAAgENoAAAAAAAAAAEAgtAEAAAAAAAAA\n",
       "gEBoA/zJzh3lxpEjARQUgb7/lblfC6M9s9onWxSV6ogDCNlJVmEwfigAAAAAAAAAIBDaAAAAAAAA\n",
       "AABAILQBAAAAAAAAAIBAaAMAAAAAAAAAAIHQBgAAAAAAAAAAAqENAAAAAAAAAAAEQhsAAAAAAAAA\n",
       "AAiENgAAAAAAAAAAEAhtAAAAAAAAAAAgENoAAAAAAAAAAEAgtAEAAAAAAAAAgEBoAwAAAAAAAAAA\n",
       "gdAGAAAAAAAAAAACoQ0AAAAAAAAAAARCGwAAAAAAAAAACIQ2AAAAAAAAAAAQCG0AAAAAAAAAACAQ\n",
       "2gAAAAAAAAAAQPC4PQAAAAAAAAC8urXW7RE+bO99e4RvZeIZfpZX/u3/Zuo+Tj3TU/cxde5T7OMX\n",
       "X7QBAAAAAAAAAIBAaAMAAAAAAAAAAIHQBgAAAAAAAAAAAqENAAAAAAAAAAAEQhsAAAAAAAAAAAiE\n",
       "NgAAAAAAAAAAEAhtAAAAAAAAAAAgENoAAAAAAAAAAEAgtAEAAAAAAAAAgEBoAwAAAAAAAAAAgdAG\n",
       "AAAAAAAAAAACoQ0AAAAAAAAAAARCGwAAAAAAAAAACIQ2AAAAAAAAAAAQCG0AAAAAAAAAACAQ2gAA\n",
       "AAAAAAAAQCC0AQAAAAAAAACAQGgDAAAAAAAAAACB0AYAAAAAAAAAAAKhDQAAAAAAAAAABEIbAAAA\n",
       "AAAAAAAIhDYAAAAAAAAAABA8bg8AAAAAAAAAE6y1bo/AX3r1M5z4+/fet0f4Vk6e4cT7MXHmkybu\n",
       "4+QzfmofvmgDAAAAAAAAAACB0AYAAAAAAAAAAAKhDQAAAAAAAAAABEIbAAAAAAAAAAAIhDYAAAAA\n",
       "AAAAABAIbQAAAAAAAAAAIBDaAAAAAAAAAABAILQBAAAAAAAAAIBAaAMAAAAAAAAAAIHQBgAAAAAA\n",
       "AAAAAqENAAAAAAAAAAAEQhsAAAAAAAAAAAiENgAAAAAAAAAAEAhtAAAAAAAAAAAgENoAAAAAAAAA\n",
       "AEAgtAEAAAAAAAAAgEBoAwAAAAAAAAAAgdAGAAAAAAAAAAACoQ0AAAAAAAAAAARCGwAAAAAAAAAA\n",
       "CIQ2AAAAAAAAAAAQCG0AAAAAAAAAACB43B4AAAAAAAAAPsta6/YIf2TvfeTvTtzHxJk/06v//p9g\n",
       "6hmeeg/xM5y61xOfF1+0AQAAAAAAAACAQGgDAAAAAAAAAACB0AYAAAAAAAAAAAKhDQAAAAAAAAAA\n",
       "BEIbAAAAAAAAAAAIhDYAAAAAAAAAABAIbQAAAAAAAAAAIBDaAAAAAAAAAABAILQBAAAAAAAAAIBA\n",
       "aAMAAAAAAAAAAIHQBgAAAAAAAAAAAqENAAAAAAAAAAAEQhsAAAAAAAAAAAiENgAAAAAAAAAAEAht\n",
       "AAAAAAAAAAAgENoAAAAAAAAAAEAgtAEAAAAAAAAAgEBoAwAAAAAAAAAAgdAGAAAAAAAAAACCx+0B\n",
       "AAAAAAAAeD1rrdsjfCsT9zFx5r337RF+pIl34e1t7tzwv0y80yffy6f24Ys2AAAAAAAAAAAQCG0A\n",
       "AAAAAAAAACAQ2gAAAAAAAAAAQCC0AQAAAAAAAACAQGgDAAAAAAAAAACB0AYAAAAAAAAAAAKhDQAA\n",
       "AAAAAAAABEIbAAAAAAAAAAAIhDYAAAAAAAAAABAIbQAAAAAAAAAAIBDaAAAAAAAAAABAILQBAAAA\n",
       "AAAAAIBAaAMAAAAAAAAAAIHQBgAAAAAAAAAAAqENAAAAAAAAAAAEQhsAAAAAAAAAAAiENgAAAAAA\n",
       "AAAAEAhtAAAAAAAAAAAgENoAAAAAAAAAAEAgtAEAAAAAAAAAgEBoAwAAAAAAAAAAgdAGAAAAAAAA\n",
       "AACCx+0BAAAAAAAA+J7WWrdH+LC99+0R+EsT790UE3c7ceaT76GJ++CZM3w2cR++aAMAAAAAAAAA\n",
       "AIHQBgAAAAAAAAAAAqENAAAAAAAAAAAEQhsAAAAAAAAAAAiENgAAAAAAAAAAEAhtAAAAAAAAAAAg\n",
       "ENoAAAAAAAAAAEAgtAEAAAAAAAAAgEBoAwAAAAAAAAAAgdAGAAAAAAAAAAACoQ0AAAAAAAAAAARC\n",
       "GwAAAAAAAAAACIQ2AAAAAAAAAAAQCG0AAAAAAAAAACAQ2gAAAAAAAAAAQCC0AQAAAAAAAACAQGgD\n",
       "AAAAAAAAAACB0AYAAAAAAAAAAAKhDQAAAAAAAAAABEIbAAAAAAAAAAAIhDYAAAAAAAAAABA8bg8A\n",
       "AAAAAADAn1tr3R6BF+XunTFxr3vv2yP8kVO7nniG/NPEc5z6LJ5y6gx90QYAAAAAAAAAAAKhDQAA\n",
       "AAAAAAAABEIbAAAAAAAAAAAIhDYAAAAAAAAAABAIbQAAAAAAAAAAIBDaAAAAAAAAAABAILQBAAAA\n",
       "AAAAAIBAaAMAAAAAAAAAAIHQBgAAAAAAAAAAAqENAAAAAAAAAAAEQhsAAAAAAAAAAAiENgAAAAAA\n",
       "AAAAEAhtAAAAAAAAAAAgENoAAAAAAAAAAEAgtAEAAAAAAAAAgEBoAwAAAAAAAAAAgdAGAAAAAAAA\n",
       "AAACoQ0AAAAAAAAAAARCGwAAAAAAAAAACIQ2AAAAAAAAAAAQCG0AAAAAAAAAACAQ2gAAAAAAAAAA\n",
       "QPC4PQAAAAAAAMArWGvdHuHD9t7H/vbEfUxkz1/Hrs+YuFfvzq9jH/NNPENftAEAAAAAAAAAgEBo\n",
       "AwAAAAAAAAAAgdAGAAAAAAAAAAACoQ0AAAAAAAAAAARCGwAAAAAAAAAACIQ2AAAAAAAAAAAQCG0A\n",
       "AAAAAAAAACAQ2gAAAAAAAAAAQCC0AQAAAAAAAACAQGgDAAAAAAAAAACB0AYAAAAAAAAAAAKhDQAA\n",
       "AAAAAAAABEIbAAAAAAAAAAAIhDYAAAAAAAAAABAIbQAAAAAAAAAAIBDaAAAAAAAAAABAILQBAAAA\n",
       "AAAAAIBAaAMAAAAAAAAAAIHQBgAAAAAAAAAAgsftAQAAAAAAAL6LtdbtEb4V+/g6E3e99z7yd0/u\n",
       "YsKeT+317e3c75+w169kH8+m7mPiO+6kqXOf4Is2AAAAAAAAAAAQCG0AAAAAAAAAACAQ2gAAAAAA\n",
       "AAAAQCC0AQAAAAAAAACAQGgDAAAAAAAAAACB0AYAAAAAAAAAAAKhDQAAAAAAAAAABEIbAAAAAAAA\n",
       "AAAIhDYAAAAAAAAAABAIbQAAAAAAAAAAIBDaAAAAAAAAAABAILQBAAAAAAAAAIBAaAMAAAAAAAAA\n",
       "AIHQBgAAAAAAAAAAAqENAAAAAAAAAAAEQhsAAAAAAAAAAAiENgAAAAAAAAAAEAhtAAAAAAAAAAAg\n",
       "ENoAAAAAAAAAAEAgtAEAAAAAAAAAgEBoAwAAAAAAAAAAgdAGAAAAAAAAAACCtffet4cAAAAAAACo\n",
       "1lq3R/gj/knm2alzPLnnqXePX9yPM7zfvs4r3zN+ponvZV+0AQAAAAAAAACAQGgDAAAAAAAAAACB\n",
       "0AYAAAAAAAAAAAKhDQAAAAAAAAAABEIbAAAAAAAAAAAIhDYAAAAAAAAAABAIbQAAAAAAAAAAIBDa\n",
       "AAAAAAAAAABAILQBAAAAAAAAAIBAaAMAAAAAAAAAAIHQBgAAAAAAAAAAAqENAAAAAAAAAAAEQhsA\n",
       "AAAAAAAAAAiENgAAAAAAAAAAEAhtAAAAAAAAAAAgENoAAAAAAAAAAEAgtAEAAAAAAAAAgEBoAwAA\n",
       "AAAAAAAAgdAGAAAAAAAAAAACoQ0AAAAAAMB9xXoAABhgSURBVAAAAARCGwAAAAAAAAAACIQ2AAAA\n",
       "AAAAAAAQPG4PAAAAAAAA/Exrrdsj8JcmnuHEmd/e3t723rdH+DZOnuGE+3HyLkz4/T/B1D17D/Ge\n",
       "U/d64vPiizYAAAAAAAAAABAIbQAAAAAAAAAAIBDaAAAAAAAAAABAILQBAAAAAAAAAIBAaAMAAAAA\n",
       "AAAAAIHQBgAAAAAAAAAAAqENAAAAAAAAAAAEQhsAAAAAAAAAAAiENgAAAAAAAAAAEAhtAAAAAAAA\n",
       "AAAgENoAAAAAAAAAAEAgtAEAAAAAAAAAgEBoAwAAAAAAAAAAgdAGAAAAAAAAAAACoQ0AAAAAAAAA\n",
       "AARCGwAAAAAAAAAACIQ2AAAAAAAAAAAQCG0AAAAAAAAAACAQ2gAAAAAAAAAAQCC0AQAAAAAAAACA\n",
       "QGgDAAAAAAAAAADB4/YAAAAAAADAPWut2yN82N772N+euI+JM7+9nT3HU6bu+pSJ+5jw/pi416ns\n",
       "mp9m4p2e8F7+nS/aAAAAAAAAAABAILQBAAAAAAAAAIBAaAMAAAAAAAAAAIHQBgAAAAAAAAAAAqEN\n",
       "AAAAAAAAAAAEQhsAAAAAAAAAAAiENgAAAAAAAAAAEAhtAAAAAAAAAAAgENoAAAAAAAAAAEAgtAEA\n",
       "AAAAAAAAgEBoAwAAAAAAAAAAgdAGAAAAAAAAAAACoQ0AAAAAAAAAAARCGwAAAAAAAAAACIQ2AAAA\n",
       "AAAAAAAQCG0AAAAAAAAAACAQ2gAAAAAAAAAAQCC0AQAAAAAAAACAQGgDAAAAAAAAAACB0AYAAAAA\n",
       "AAAAAAKhDQAAAAAAAAAABEIbAAAAAAAAAAAIHrcHAAAAAAAA3rfWuj3CtzJ1H1Pnnsaen9nHswn7\n",
       "2Hsf+9sTfv/vJs7sDHmPM3w2cR++aAMAAAAAAAAAAIHQBgAAAAAAAAAAAqENAAAAAAAAAAAEQhsA\n",
       "AAAAAAAAAAiENgAAAAAAAAAAEAhtAAAAAAAAAAAgENoAAAAAAAAAAEAgtAEAAAAAAAAAgEBoAwAA\n",
       "AAAAAAAAgdAGAAAAAAAAAAACoQ0AAAAAAAAAAARCGwAAAAAAAAAACIQ2AAAAAAAAAAAQCG0AAAAA\n",
       "AAAAACAQ2gAAAAAAAAAAQCC0AQAAAAAAAACAQGgDAAAAAAAAAACB0AYAAAAAAAAAAAKhDQAAAAAA\n",
       "AAAABGvvvW8PAQAAAAAAP9Fa6/YI/5d/JuA9E+4w93h/PPO8MJ1n+tnEZ9oZPjt1hr5oAwAAAAAA\n",
       "AAAAgdAGAAAAAAAAAAACoQ0AAAAAAAAAAARCGwAAAAAAAAAACIQ2AAAAAAAAAAAQCG0AAAAAAAAA\n",
       "ACAQ2gAAAAAAAAAAQCC0AQAAAAAAAACAQGgDAAAAAAAAAACB0AYAAAAAAAAAAAKhDQAAAAAAAAAA\n",
       "BEIbAAAAAAAAAAAIhDYAAAAAAAAAABAIbQAAAAAAAAAAIBDaAAAAAAAAAABAILQBAAAAAAAAAIBA\n",
       "aAMAAAAAAAAAAIHQBgAAAAAAAAAAAqENAAAAAAAAAAAEQhsAAAAAAAAAAAiENgAAAAAAAAAAEAht\n",
       "AAAAAAAAAAAgeNweAAAAAAAAblpr3R4B/srUO7z3vj3CS5h6P06ZsA/PBu+ZcIe/kn3MN/EMfdEG\n",
       "AAAAAAAAAAACoQ0AAAAAAAAAAARCGwAAAAAAAAAACIQ2AAAAAAAAAAAQCG0AAAAAAAAAACAQ2gAA\n",
       "AAAAAAAAQCC0AQAAAAAAAACAQGgDAAAAAAAAAACB0AYAAAAAAAAAAAKhDQAAAAAAAAAABEIbAAAA\n",
       "AAAAAAAIhDYAAAAAAAAAABAIbQAAAAAAAAAAIBDaAAAAAAAAAABAILQBAAAAAAAAAIBAaAMAAAAA\n",
       "AAAAAIHQBgAAAAAAAAAAAqENAAAAAAAAAAAEQhsAAAAAAAAAAAiENgAAAAAAAAAAEAhtAAAAAAAA\n",
       "AAAgENoAAAAAAAAAAEDwuD0AAAAAAAAUa63bI3zY3vtT/s7E384/OUfe4378YhdM5w4/m7qPz/rv\n",
       "uN9N3cfUuU/wRRsAAAAAAAAAAAiENgAAAAAAAAAAEAhtAAAAAAAAAAAgENoAAAAAAAAAAEAgtAEA\n",
       "AAAAAAAAgEBoAwAAAAAAAAAAgdAGAAAAAAAAAAACoQ0AAAAAAAAAAARCGwAAAAAAAAAACIQ2AAAA\n",
       "AAAAAAAQCG0AAAAAAAAAACAQ2gAAAAAAAAAAQCC0AQAAAAAAAACAQGgDAAAAAAAAAACB0AYAAAAA\n",
       "AAAAAAKhDQAAAAAAAAAABEIbAAAAAAAAAAAIhDYAAAAAAAAAABAIbQAAAAAAAAAAIBDaAAAAAAAA\n",
       "AABAILQBAAAAAAAAAIBg7b337SEAAAAAAPgZ1lq3R+CD/DPBs4l3+OQZntzHxLs38X7wbMLzMvHZ\n",
       "mMozDfdNeC//zhdtAAAAAAAAAAAgENoAAAAAAAAAAEAgtAEAAAAAAAAAgEBoAwAAAAAAAAAAgdAG\n",
       "AAAAAAAAAAACoQ0AAAAAAAAAAARCGwAAAAAAAAAACIQ2AAAAAAAAAAAQCG0AAAAAAAAAACAQ2gAA\n",
       "AAAAAAAAQCC0AQAAAAAAAACAQGgDAAAAAAAAAACB0AYAAAAAAAAAAAKhDQAAAAAAAAAABEIbAAAA\n",
       "AAAAAAAIhDYAAAAAAAAAABAIbQAAAAAAAAAAIBDaAAAAAAAAAABAILQBAAAAAAAAAIBAaAMAAAAA\n",
       "AAAAAIHQBgAAAAAAAAAAAqENAAAAAAAAAAAEj9sDAAAAAADwtdZat0f4I3vv2yNcM/XMTrGPZ/bx\n",
       "bOo+Xvkd97uTZzj1fryyiWfmeeYnOvUsTnzGfdEGAAAAAAAAAAACoQ0AAAAAAAAAAARCGwAAAAAA\n",
       "AAAACIQ2AAAAAAAAAAAQCG0AAAAAAAAAACAQ2gAAAAAAAAAAQCC0AQAAAAAAAACAQGgDAAAAAAAA\n",
       "AACB0AYAAAAAAAAAAAKhDQAAAAAAAAAABEIbAAAAAAAAAAAIhDYAAAAAAAAAABAIbQAAAAAAAAAA\n",
       "IBDaAAAAAAAAAABAILQBAAAAAAAAAIBAaAMAAAAAAAAAAIHQBgAAAAAAAAAAAqENAAAAAAAAAAAE\n",
       "QhsAAAAAAAAAAAgetwcAAAAAAODfrbVuj8BfevUznPj79963R/hWTp7hxPvBs4lnePIZn7iPz/LK\n",
       "vx2+k4nP4sT3si/aAAAAAAAAAABAILQBAAAAAAAAAIBAaAMAAAAAAAAAAIHQBgAAAAAAAAAAAqEN\n",
       "AAAAAAAAAAAEQhsAAAAAAAAAAAiENgAAAAAAAAAAEAhtAAAAAAAAAAAgENoAAAAAAAAAAEAgtAEA\n",
       "AAAAAAAAgEBoAwAAAAAAAAAAgdAGAAAAAAAAAAACoQ0AAAAAAAAAAARCGwAAAAAAAAAACIQ2AAAA\n",
       "AAAAAAAQCG0AAAAAAAAAACAQ2gAAAAAAAAAAQCC0AQAAAAAAAACAQGgDAAAAAAAAAACB0AYAAAAA\n",
       "AAAAAAKhDQAAAAAAAAAABEIbAAAAAAAAAAAIHrcHAAAAAACYbK11e4QP23sf+9sT9zFx5s/06r//\n",
       "J5h6hiffRadM3PXEmU969X1M/P3+u4Wfxr17NnEfvmgDAAAAAAAAAACB0AYAAAAAAAAAAAKhDQAA\n",
       "AAAAAAAABEIbAAAAAAAAAAAIhDYAAAAAAAAAABAIbQAAAAAAAAAAIBDaAAAAAAAAAABAILQBAAAA\n",
       "AAAAAIBAaAMAAAAAAAAAAIHQBgAAAAAAAAAAAqENAAAAAAAAAAAEQhsAAAAAAAAAAAiENgAAAAAA\n",
       "AAAAEAhtAAAAAAAAAAAgENoAAAAAAAAAAEAgtAEAAAAAAAAAgEBoAwAAAAAAAAAAgdAGAAAAAAAA\n",
       "AAACoQ0AAAAAAAAAAARCGwAAAAAAAAAACIQ2AAAAAAAAAAAQCG0AAAAAAAAAACBYe+99ewgAAAAA\n",
       "gNPWWrdH4AX5X/BnnHyeT56Z99CzU7u256/jHffM3eO/PBs/w8Rn2t17duoMfdEGAAAAAAAAAAAC\n",
       "oQ0AAAAAAAAAAARCGwAAAAAAAAAACIQ2AAAAAAAAAAAQCG0AAAAAAAAAACAQ2gAAAAAAAAD8p517\n",
       "yW0kBwIoaAK6/5U5q0a3ZmE8f1jltCIOYKSyKAowHgoAAqENAAAAAAAAAAAEQhsAAAAAAAAAAAiE\n",
       "NgAAAAAAAAAAEAhtAAAAAAAAAAAgENoAAAAAAAAAAEAgtAEAAAAAAAAAgEBoAwAAAAAAAAAAgdAG\n",
       "AAAAAAAAAAACoQ0AAAAAAAAAAARCGwAAAAAAAAAACIQ2AAAAAAAAAAAQCG0AAAAAAAAAACAQ2gAA\n",
       "AAAAAAAAQCC0AQAAAAAAAACAQGgDAAAAAAAAAADB4+4BAAAAAAD+WGvdPcKH7b3vHoEvmnjuppi4\n",
       "24kzn7yHTu7Drq8xcc8nTdjHxHM21YTzwPs8w/kmPkNvtAEAAAAAAAAAgEBoAwAAAAAAAAAAgdAG\n",
       "AAAAAAAAAAACoQ0AAAAAAAAAAARCGwAAAAAAAAAACIQ2AAAAAAAAAAAQCG0AAAAAAAAAACAQ2gAA\n",
       "AAAAAAAAQCC0AQAAAAAAAACAQGgDAAAAAAAAAACB0AYAAAAAAAAAAAKhDQAAAAAAAAAABEIbAAAA\n",
       "AAAAAAAIhDYAAAAAAAAAABAIbQAAAAAAAAAAIBDaAAAAAAAAAABAILQBAAAAAAAAAIBAaAMAAAAA\n",
       "AAAAAIHQBgAAAAAAAAAAAqENAAAAAAAAAAAEj7sHAAAAAABmWWvdPQIvytk7Y+Je9953j/App3Y9\n",
       "8Rm+vZ17jlP3MXXuE+yCfzkP8019hn6nnk2d+wRvtAEAAAAAAAAAgEBoAwAAAAAAAAAAgdAGAAAA\n",
       "AAAAAAACoQ0AAAAAAAAAAARCGwAAAAAAAAAACIQ2AAAAAAAAAAAQCG0AAAAAAAAAACAQ2gAAAAAA\n",
       "AAAAQCC0AQAAAAAAAACAQGgDAAAAAAAAAACB0AYAAAAAAAAAAAKhDQAAAAAAAAAABEIbAAAAAAAA\n",
       "AAAIhDYAAAAAAAAAABAIbQAAAAAAAAAAIBDaAAAAAAAAAABAILQBAAAAAAAAAIBAaAMAAAAAAAAA\n",
       "AIHQBgAAAAAAAAAAAqENAAAAAAAAAAAEQhsAAAAAAAAAAAgedw8AAAAAAJyx1rp7hA/bex/72xP3\n",
       "MZE9n2Gv15m466l358RdT5z5pIn7mPp9+ele+bP/Jp7js4n7mDjzxHvZG20AAAAAAAAAACAQ2gAA\n",
       "AAAAAAAAQCC0AQAAAAAAAACAQGgDAAAAAAAAAACB0AYAAAAAAAAAAAKhDQAAAAAAAAAABEIbAAAA\n",
       "AAAAAAAIhDYAAAAAAAAAABAIbQAAAAAAAAAAIBDaAAAAAAAAAABAILQBAAAAAAAAAIBAaAMAAAAA\n",
       "AAAAAIHQBgAAAAAAAAAAAqENAAAAAAAAAAAEQhsAAAAAAAAAAAiENgAAAAAAAAAAEAhtAAAAAAAA\n",
       "AAAgENoAAAAAAAAAAEAgtAEAAAAAAAAAgEBoAwAAAAAAAAAAgdAGAAAAAAAAAAACoQ0AAAAAAAAA\n",
       "AARr773vHgIAAAAAXtVa6+4R+KKJ/2Kdeu5O7XrqPr7LyTP86rvlfRPvT67x6neHe/nZxH1MnPkk\n",
       "9/3vMPHsneKNNgAAAAAAAAAAEAhtAAAAAAAAAAAgENoAAAAAAAAAAEAgtAEAAAAAAAAAgEBoAwAA\n",
       "AAAAAAAAgdAGAAAAAAAAAAACoQ0AAAAAAAAAAARCGwAAAAAAAAAACIQ2AAAAAAAAAAAQCG0AAAAA\n",
       "AAAAACAQ2gAAAAAAAAAAQCC0AQAAAAAAAACAQGgDAAAAAAAAAACB0AYAAAAAAAAAAAKhDQAAAAAA\n",
       "AAAABEIbAAAAAAAAAAAIhDYAAAAAAAAAABAIbQAAAAAAAAAAIBDaAAAAAAAAAABAILQBAAAAAAAA\n",
       "AIBAaAMAAAAAAAAAAIHQBgAAAAAAAAAAgrX33ncPAQAAAAA/2Vrr7hE+xb/+np16jif3PPXs8dd3\n",
       "nQ9n4Zn77Tonz57nON/Eu8nvNlzPfX+diffQxHvZG20AAAAAAAAAACAQ2gAAAAAAAAAAQCC0AQAA\n",
       "AAAAAACAQGgDAAAAAAAAAACB0AYAAAAAAAAAAAKhDQAAAAAAAAAABEIbAAAAAAAAAAAIhDYAAAAA\n",
       "AAAAABAIbQAAAAAAAAAAIBDaAAAAAAAAAABAILQBAAAAAAAAAIBAaAMAAAAAAAAAAIHQBgAAAAAA\n",
       "AAAAAqENAAAAAAAAAAAEQhsAAAAAAAAAAAiENgAAAAAAAAAAEAhtAAAAAAAAAAAgENoAAAAAAAAA\n",
       "AEAgtAEAAAAAAAAAgEBoAwAAAAAAAAAAgdAGAAAAAAAAAACCx90DAAAAAMB3WWvdPQJfNPEZTpx5\n",
       "7333CD/KyWc44XycPA8TPv9vYM+8x/l4NmEffqe5y4Tvx29gz88m7sMbbQAAAAAAAAAAIBDaAAAA\n",
       "AAAAAABAILQBAAAAAAAAAIBAaAMAAAAAAAAAAIHQBgAAAAAAAAAAAqENAAAAAAAAAAAEQhsAAAAA\n",
       "AAAAAAiENgAAAAAAAAAAEAhtAAAAAAAAAAAgENoAAAAAAAAAAEAgtAEAAAAAAAAAgEBoAwAAAAAA\n",
       "AAAAgdAGAAAAAAAAAAACoQ0AAAAAAAAAAARCGwAAAAAAAAAACIQ2AAAAAAAAAAAQCG0AAAAAAAAA\n",
       "ACAQ2gAAAAAAAAAAQCC0AQAAAAAAAACAQGgDAAAAAAAAAADB4+4BAAAAAHgta627R/iwvfexvz1x\n",
       "HxNnfns7+xxPmbrrUybu47vO3cnPPnGvU9k175l4Pib+tp408Rkyj3N2nYm7di8/O/UMvdEGAAAA\n",
       "AAAAAAACoQ0AAAAAAAAAAARCGwAAAAAAAAAACIQ2AAAAAAAAAAAQCG0AAAAAAAAAACAQ2gAAAAAA\n",
       "AAAAQCC0AQAAAAAAAACAQGgDAAAAAAAAAACB0AYAAAAAAAAAAAKhDQAAAAAAAAAABEIbAAAAAAAA\n",
       "AAAIhDYAAAAAAAAAABAIbQAAAAAAAAAAIBDaAAAAAAAAAABAILQBAAAAAAAAAIBAaAMAAAAAAAAA\n",
       "AIHQBgAAAAAAAAAAAqENAAAAAAAAAAAEQhsAAAAAAAAAAAiENgAAAAAAAAAAEAhtAAAAAAAAAAAg\n",
       "ENoAAAAAAAAAAEDwuHsAAAAAAH6etdbdI/woU/cxde5p7PmZfTybsI+997G/PeHz/9/EmT3D69jH\n",
       "fJ4hV3DOrmPX8018ht5oAwAAAAAAAAAAgdAGAAAAAAAAAAACoQ0AAAAAAAAAAARCGwAAAAAAAAAA\n",
       "CIQ2AAAAAAAAAAAQCG0AAAAAAAAAACAQ2gAAAAAAAAAAQCC0AQAAAAAAAACAQGgDAAAAAAAAAACB\n",
       "0AYAAAAAAAAAAAKhDQAAAAAAAAAABEIbAAAAAAAAAAAIhDYAAAAAAAAAABAIbQAAAAAAAAAAIBDa\n",
       "AAAAAAAAAABAILQBAAAAAAAAAIBAaAMAAAAAAAAAAIHQBgAAAAAAAAAAAqENAAAAAAAAAAAEQhsA\n",
       "AAAAAAAAAAiENgAAAAAAAAAAEKy99757CAAAAAA+Z6119wgf5t9RvGfimeY6r3x/+G7wG536Tk/9\n",
       "vkzcx8SZJ3jl37urTTxrJ8/HxH2cNPGOcz6u4Y02AAAAAAAAAAAQCG0AAAAAAAAAACAQ2gAAAAAA\n",
       "AAAAQCC0AQAAAAAAAACAQGgDAAAAAAAAAACB0AYAAAAAAAAAAAKhDQAAAAAAAAAABEIbAAAAAAAA\n",
       "AAAIhDYAAAAAAAAAABAIbQAAAAAAAAAAIBDaAAAAAAAAAABAILQBAAAAAAAAAIBAaAMAAAAAAAAA\n",
       "AIHQBgAAAAAAAAAAAqENAAAAAAAAAAAEQhsAAAAAAAAAAAiENgAAAAAAAAAAEAhtAAAAAAAAAAAg\n",
       "ENoAAAAAAAAAAEAgtAEAAAAAAAAAgEBoAwAAAAAAAAAAgdAGAAAAAAAAAACCtffedw8BAAAA8ErW\n",
       "WnePcCv/jppv6hl29q5x8nxMfIYTvi8T98p1Jpxh+IiTd953fV/cy8/cQ/NN+N5xn4nnwxttAAAA\n",
       "AAAAAAAgENoAAAAAAAAAAEAgtAEAAAAAAAAAgEBoAwAAAAAAAAAAgdAGAAAAAAAAAAACoQ0AAAAA\n",
       "AAAAAARCGwAAAAAAAAAACIQ2AAAAAAAAAAAQCG0AAAAAAAAAACAQ2gAAAAAAAAAAQCC0AQAAAAAA\n",
       "AACAQGgDAAAAAAAAAACB0AYAAAAAAAAAAAKhDQAAAAAAAAAABEIbAAAAAAAAAAAIhDYAAAAAAAAA\n",
       "ABAIbQAAAAAAAAAAIBDaAAAAAAAAAABAILQBAAAAAAAAAIBAaAMAAAAAAAAAAIHQBgAAAAAAAAAA\n",
       "gv8A8fLPiBOv92kAAAAASUVORK5CYII=\n",
       "\" transform=\"translate(87, 229)\"/>\n",
       "</g>\n",
       "</svg>\n"
      ]
     },
     "execution_count": 38,
     "metadata": {},
     "output_type": "execute_result"
    }
   ],
   "source": [
    "# Process the data into a simple array for plotting\n",
    "    A = zeros(Int64, (nsteps+1, nagents(model)))\n",
    "    for i in 0:nsteps\n",
    "        snapshot = data[data[!,:step] .== i, :]\n",
    "        for j in Iterators.flatten(snapshot.pos)\n",
    "            A[i+1,j] = snapshot.state[j]\n",
    "        end\n",
    "    end\n",
    "\n",
    " # Reverse the image to make it plot nicer\n",
    "    B = map( x -> x == 0 ? 1 : 0, A)\n",
    "    p = plot(Gray.(B), aspect_ratio = :equal, ylim=(0,nsteps+1), axis=nothing, xaxis=false, yaxis=false)"
   ]
  },
  {
   "cell_type": "markdown",
   "metadata": {
    "slideshow": {
     "slide_type": "slide"
    }
   },
   "source": [
    "### Aside: Running an ABM inside a function\n",
    "\n",
    "As with initialisation, it can be helpful to wrap these commands into a single function that just returns the relevant data:\n"
   ]
  },
  {
   "cell_type": "code",
   "execution_count": 39,
   "metadata": {},
   "outputs": [
    {
     "data": {
      "text/plain": [
       "run (generic function with 1 method)"
      ]
     },
     "execution_count": 39,
     "metadata": {},
     "output_type": "execute_result"
    }
   ],
   "source": [
    "function run(;rules = rule110, gridsize = 100, nsteps=20)\n",
    "    # Initialise a new ABM\n",
    "    model = initialise(rules=rules, gridsize=gridsize)\n",
    "    # Specify what data to record from the simulation\n",
    "    adata = [:pos, :state]\n",
    "    # Run the model\n",
    "    data, _ = run!(model, dummystep, model_step!, nsteps; adata)\n",
    "    # Process the data into a simple array for plotting\n",
    "    A = zeros(Int64, (nsteps+1, nagents(model)))\n",
    "    for i in 0:nsteps\n",
    "        snapshot = data[data[!,:step] .== i, :]\n",
    "        for j in Iterators.flatten(snapshot.pos)\n",
    "            A[i+1,j] = snapshot.state[j]\n",
    "        end\n",
    "    end\n",
    "    # Reverse the image to make it plot nicer\n",
    "    B = map( x -> x == 0 ? 1 : 0, A)\n",
    "    p = plot(Gray.(B), aspect_ratio = :equal, ylim=(0,nsteps+1), axis=nothing, xaxis=false, yaxis=false)\n",
    "    return p, A\n",
    "end"
   ]
  },
  {
   "cell_type": "code",
   "execution_count": 40,
   "metadata": {
    "slideshow": {
     "slide_type": "slide"
    }
   },
   "outputs": [
    {
     "data": {
      "image/svg+xml": [
       "<?xml version=\"1.0\" encoding=\"utf-8\"?>\n",
       "<svg xmlns=\"http://www.w3.org/2000/svg\" xmlns:xlink=\"http://www.w3.org/1999/xlink\" width=\"600\" height=\"400\" viewBox=\"0 0 2400 1600\">\n",
       "<defs>\n",
       "  <clipPath id=\"clip460\">\n",
       "    <rect x=\"0\" y=\"0\" width=\"2400\" height=\"1600\"/>\n",
       "  </clipPath>\n",
       "</defs>\n",
       "<path clip-path=\"url(#clip460)\" d=\"\n",
       "M0 1600 L2400 1600 L2400 0 L0 0  Z\n",
       "  \" fill=\"#ffffff\" fill-rule=\"evenodd\" fill-opacity=\"1\"/>\n",
       "<defs>\n",
       "  <clipPath id=\"clip461\">\n",
       "    <rect x=\"480\" y=\"0\" width=\"1681\" height=\"1600\"/>\n",
       "  </clipPath>\n",
       "</defs>\n",
       "<path clip-path=\"url(#clip460)\" d=\"\n",
       "M86.9921 1361.9 L2352.76 1361.9 L2352.76 206.356 L86.9921 206.356  Z\n",
       "  \" fill=\"#ffffff\" fill-rule=\"evenodd\" fill-opacity=\"1\"/>\n",
       "<defs>\n",
       "  <clipPath id=\"clip462\">\n",
       "    <rect x=\"86\" y=\"206\" width=\"2267\" height=\"1157\"/>\n",
       "  </clipPath>\n",
       "</defs>\n",
       "<g clip-path=\"url(#clip462)\">\n",
       "<image width=\"2266\" height=\"1133\" xlink:href=\"data:image/png;base64,\n",
       "iVBORw0KGgoAAAANSUhEUgAACNoAAARtCAYAAACJXrpAAAAgAElEQVR4nOzcQW4ruxFA0a7A+99y\n",
       "ZZDB+woyuHkw1S37nAUQRImWAfGCs7t7AQAAAAAAAADADzEzR9b915FVAQAAAAAAAADghxHaAAAA\n",
       "AAAAAABAILQBAAAAAAAAAIBAaAMAAAAAAAAAAIHQBgAAAAAAAAAAAqENAAAAAAAAAAAEQhsAAAAA\n",
       "AAAAAAiENgAAAAAAAAAAEAhtAAAAAAAAAAAgENoAAAAAAAAAAEAgtAEAAAAAAAAAgEBoAwAAAAAA\n",
       "AAAAgdAGAAAAAAAAAAACoQ0AAAAAAAAAAARCGwAAAAAAAAAACIQ2AAAAAAAAAAAQCG0AAAAAAAAA\n",
       "ACAQ2gAAAAAAAAAAQCC0AQAAAAAAAACAQGgDAAAAAAAAAACB0AYAAAAAAAAAAAKhDQAAAAAAAAAA\n",
       "BHNd155afPfY0gAAAAAAAAAAfLCZuXsL/zcv2gAAAAAAAAAAQCC0AQAAAAAAAACAQGgDAAAAAAAA\n",
       "AACB0AYAAAAAAAAAAAKhDQAAAAAAAAAABEIbAAAAAAAAAAAIhDYAAAAAAAAAABAIbQAAAAAAAAAA\n",
       "IBDaAAAAAAAAAABAILQBAAAAAAAAAIBAaAMAAAAAAAAAAIHQBgAAAAAAAAAAAqENAAAAAAAAAAAE\n",
       "QhsAAAAAAAAAAAiENgAAAAAAAAAAEAhtAAAAAAAAAAAgENoAAAAAAAAAAEAgtAEAAAAAAAAAgEBo\n",
       "AwAAAAAAAAAAgdAGAAAAAAAAAAACoQ0AAAAAAAAAAARCGwAAAAAAAAAACL5299jiM3Ns7ZP7BgAA\n",
       "AAAAAADgP071H5/YfnjRBgAAAAAAAAAAAqENAAAAAAAAAAAEQhsAAAAAAAAAAAiENgAAAAAAAAAA\n",
       "EAhtAAAAAAAAAAAgENoAAAAAAAAAAEAgtAEAAAAAAAAAgEBoAwAAAAAAAAAAgdAGAAAAAAAAAAAC\n",
       "oQ0AAAAAAAAAAARCGwAAAAAAAAAACIQ2AAAAAAAAAAAQCG0AAAAAAAAAACAQ2gAAAAAAAAAAQCC0\n",
       "AQAAAAAAAACAQGgDAAAAAAAAAACB0AYAAAAAAAAAAAKhDQAAAAAAAAAABEIbAAAAAAAAAAAIhDYA\n",
       "AAAAAAAAABAIbQAAAAAAAAAAIJjruvbuTTzJrnEAAAAAAAAAAJ9lZu7ewqOc6j+8aAMAAAAAAAAA\n",
       "AIHQBgAAAAAAAAAAAqENAAAAAAAAAAAEQhsAAAAAAAAAAAiENgAAAAAAAAAAEAhtAAAAAAAAAAAg\n",
       "ENoAAAAAAAAAAEAgtAEAAAAAAAAAgEBoAwAAAAAAAAAAgdAGAAAAAAAAAAACoQ0AAAAAAAAAAARC\n",
       "GwAAAAAAAAAACIQ2AAAAAAAAAAAQCG0AAAAAAAAAACAQ2gAAAAAAAAAAQCC0AQAAAAAAAACAQGgD\n",
       "AAAAAAAAAACB0AYAAAAAAAAAAAKhDQAAAAAAAAAABEIbAAAAAAAAAAAIhDYAAAAAAAAAABAIbQAA\n",
       "AAAAAAAAIPja3bv38Cgzc2xtswYAAAAAAACA30uT8Pm8aAMAAAAAAAAAAIHQBgAAAAAAAAAAAqEN\n",
       "AAAAAAAAAAAEQhsAAAAAAAAAAAiENgAAAAAAAAAAEAhtAAAAAAAAAAAgENoAAAAAAAAAAEAgtAEA\n",
       "AAAAAAAAgEBoAwAAAAAAAAAAgdAGAAAAAAAAAAACoQ0AAAAAAAAAAARCGwAAAAAAAAAACIQ2AAAA\n",
       "AAAAAAAQCG0AAAAAAAAAACAQ2gAAAAAAAAAAQCC0AQAAAAAAAACAQGgDAAAAAAAAAACB0AYAAAAA\n",
       "AAAAAAKhDQAAAAAAAAAABEIbAAAAAAAAAAAIZnf37k38jZm5ewuP8qEfIwAAAAAAAAA8jibhlSbh\n",
       "Dy/aAAAAAAAAAABAILQBAAAAAAAAAIBAaAMAAAAAAAAAAIHQBgAAAAAAAAAAAqENAAAAAAAAAAAE\n",
       "QhsAAAAAAAAAAAiENgAAAAAAAAAAEAhtAAAAAAAAAAAgENoAAAAAAAAAAEAgtAEAAAAAAAAAgEBo\n",
       "AwAAAAAAAAAAgdAGAAAAAAAAAAACoQ0AAAAAAAAAAARCGwAAAAAAAAAACIQ2AAAAAAAAAAAQCG0A\n",
       "AAAAAAAAACAQ2gAAAAAAAAAAQCC0AQAAAAAAAACAQGgDAAAAAAAAAACB0AYAAAAAAAAAAAKhDQAA\n",
       "AAAAAAAABF8nF5+ZY2vv7rG1P9GpWZszAAAAAAAAAE+kSXgfTcIfXrQBAAAAAAAAAIBAaAMAAAAA\n",
       "AAAAAIHQBgAAAAAAAAAAAqENAAAAAAAAAAAEQhsAAAAAAAAAAAiENgAAAAAAAAAAEAhtAAAAAAAA\n",
       "AAAgENoAAAAAAAAAAEAgtAEAAAAAAAAAgEBoAwAAAAAAAAAAgdAGAAAAAAAAAAACoQ0AAAAAAAAA\n",
       "AARCGwAAAAAAAAAACIQ2AAAAAAAAAAAQCG0AAAAAAAAAACAQ2gAAAAAAAAAAQCC0AQAAAAAAAACA\n",
       "QGgDAAAAAAAAAACB0AYAAAAAAAAAAAKhDQAAAAAAAAAABEIbAAAAAAAAAAAIhDYAAAAAAAAAABDM\n",
       "dV179yaeZPfcOGbm2Nqf6OSsAQAAAAAAALife/JXmoT3OTVrL9oAAAAAAAAAAEAgtAEAAAAAAAAA\n",
       "gEBoAwAAAAAAAAAAgdAGAAAAAAAAAAACoQ0AAAAAAAAAAARCGwAAAAAAAAAACIQ2AAAAAAAAAAAQ\n",
       "CG0AAAAAAAAAACAQ2gAAAAAAAAAAQCC0AQAAAAAAAACAQGgDAAAAAAAAAACB0AYAAAAAAAAAAAKh\n",
       "DQAAAAAAAAAABEIbAAAAAAAAAAAIhDYAAAAAAAAAABAIbQAAAAAAAAAAIBDaAAAAAAAAAABAILQB\n",
       "AAAAAAAAAIBAaAMAAAAAAAAAAIHQBgAAAAAAAAAAAqENAAAAAAAAAAAEQhsAAAAAAAAAAAhmd/fu\n",
       "TfA7zcyxtR1rAAAAAAAAgO7U/a27W34aL9oAAAAAAAAAAEAgtAEAAAAAAAAAgEBoAwAAAAAAAAAA\n",
       "gdAGAAAAAAAAAAACoQ0AAAAAAAAAAARCGwAAAAAAAAAACIQ2AAAAAAAAAAAQCG0AAAAAAAAAACAQ\n",
       "2gAAAAAAAAAAQCC0AQAAAAAAAACAQGgDAAAAAAAAAACB0AYAAAAAAAAAAAKhDQAAAAAAAAAABEIb\n",
       "AAAAAAAAAAAIhDYAAAAAAAAAABAIbQAAAAAAAAAAIBDaAAAAAAAAAABAILQBAAAAAAAAAIBAaAMA\n",
       "AAAAAAAAAIHQBgAAAAAAAAAAAqENAAAAAAAAAAAEs7t79yZ4rpm5ewuP4s8FAAAAAAAAuIv721fu\n",
       "b7mDF20AAAAAAAAAACAQ2gAAAAAAAAAAQCC0AQAAAAAAAACAQGgDAAAAAAAAAACB0AYAAAAAAAAA\n",
       "AAKhDQAAAAAAAAAABEIbAAAAAAAAAAAIhDYAAAAAAAAAABAIbQAAAAAAAAAAIBDaAAAAAAAAAABA\n",
       "ILQBAAAAAAAAAIBAaAMAAAAAAAAAAIHQBgAAAAAAAAAAAqENAAAAAAAAAAAEQhsAAAAAAAAAAAiE\n",
       "NgAAAAAAAAAAEAhtAAAAAAAAAAAgENoAAAAAAAAAAEAgtAEAAAAAAAAAgEBoAwAAAAAAAAAAwdfd\n",
       "G+B7zMyRdXf3yLqf6tScr8usAQAAAAAA4Cdwp/g+Zs0dvGgDAAAAAAAAAACB0AYAAAAAAAAAAAKh\n",
       "DQAAAAAAAAAABEIbAAAAAAAAAAAIhDYAAAAAAAAAABAIbQAAAAAAAAAAIBDaAAAAAAAAAABAILQB\n",
       "AAAAAAAAAIBAaAMAAAAAAAAAAIHQBgAAAAAAAAAAAqENAAAAAAAAAAAEQhsAAAAAAAAAAAiENgAA\n",
       "AAAAAAAAEAhtAAAAAAAAAAAgENoAAAAAAAAAAEAgtAEAAAAAAAAAgEBoAwAAAAAAAAAAgdAGAAAA\n",
       "AAAAAAACoQ0AAAAAAAAAAARCGwAAAAAAAAAACIQ2AAAAAAAAAAAQzO7u3Zv4LWbm7i08ysmjZ9av\n",
       "/JkDAAAAAADAK3eKr07dKZrzK3e3n8+LNgAAAAAAAAAAEAhtAAAAAAAAAAAgENoAAAAAAAAAAEAg\n",
       "tAEAAAAAAAAAgEBoAwAAAAAAAAAAgdAGAAAAAAAAAAACoQ0AAAAAAAAAAARCGwAAAAAAAAAACIQ2\n",
       "AAAAAAAAAAAQCG0AAAAAAAAAACAQ2gAAAAAAAAAAQCC0AQAAAAAAAACAQGgDAAAAAAAAAACB0AYA\n",
       "AAAAAAAAAAKhDQAAAAAAAAAABEIbAAAAAAAAAAAIhDYAAAAAAAAAABAIbQAAAAAAAAAAIBDaAAAA\n",
       "AAAAAABAILQBAAAAAAAAAIBAaAMAAAAAAAAAAIHQBgAAAAAAAAAAgtndvXsTTzIzx9Y2au5y6lw7\n",
       "0wAAAAAAAJzk/pafxpn+fF60AQAAAAAAAACAQGgDAAAAAAAAAACB0AYAAAAAAAAAAAKhDQAAAAAA\n",
       "AAAABEIbAAAAAAAAAAAIhDYAAAAAAAAAABAIbQAAAAAAAAAAIBDaAAAAAAAAAABAILQBAAAAAAAA\n",
       "AIBAaAMAAAAAAAAAAIHQBgAAAAAAAAAAAqENAAAAAAAAAAAEQhsAAAAAAAAAAAiENgAAAAAAAAAA\n",
       "EAhtAAAAAAAAAAAgENoAAAAAAAAAAEAgtAEAAAAAAAAAgEBoAwAAAAAAAAAAgdAGAAAAAAAAAAAC\n",
       "oQ0AAAAAAAAAAARCGwAAAAAAAAAACIQ2AAAAAAAAAAAQzO7u3Zv4GzNz9xYe5UM/Rv7BmX7lTAMA\n",
       "AAAAAHwG91yv3HP9DM71K+f6Dy/aAAAAAAAAAABAILQBAAAAAAAAAIBAaAMAAAAAAAAAAIHQBgAA\n",
       "AAAAAAAAAqENAAAAAAAAAAAEQhsAAAAAAAAAAAiENgAAAAAAAAAAEAhtAAAAAAAAAAAgENoAAAAA\n",
       "AAAAAEAgtAEAAAAAAAAAgEBoAwAAAAAAAAAAgdAGAAAAAAAAAAACoQ0AAAAAAAAAAARCGwAAAAAA\n",
       "AAAACIQ2AAAAAAAAAAAQCG0AAAAAAAAAACAQ2gAAAAAAAAAAQCC0AQAAAAAAAACAQGgDAAAAAAAA\n",
       "AADB18nFZ+bY2rt7bO1PdGrW5vzKmX4fswYAAAAAAPhe7hTfwz3X+5j1+/j++MOLNgAAAAAAAAAA\n",
       "EAhtAAAAAAAAAAAgENoAAAAAAAAAAEAgtAEAAAAAAAAAgEBoAwAAAAAAAAAAgdAGAAAAAAAAAAAC\n",
       "oQ0AAAAAAAAAAARCGwAAAAAAAAAACIQ2AAAAAAAAAAAQCG0AAAAAAAAAACAQ2gAAAAAAAAAAQCC0\n",
       "AQAAAAAAAACAQGgDAAAAAAAAAACB0AYAAAAAAAAAAAKhDQAAAAAAAAAABEIbAAAAAAAAAAAIhDYA\n",
       "AAAAAAAAABAIbQAAAAAAAAAAIBDaAAAAAAAAAABAILQBAAAAAAAAAIBAaAMAAAAAAAAAAIHQBgAA\n",
       "AAAAAAAAgrmua+/exJPsnhvHzBxb+xOZ9fucmrU5vzp5pgEAAAAAgN/B/csrd4rv407xPZzp9zk1\n",
       "ay/aAAAAAAAAAABAILQBAAAAAAAAAIBAaAMAAAAAAAAAAIHQBgAAAAAAAAAAAqENAAAAAAAAAAAE\n",
       "QhsAAAAAAAAAAAiENgAAAAAAAAAAEAhtAAAAAAAAAAAgENoAAAAAAAAAAEAgtAEAAAAAAAAAgEBo\n",
       "AwAAAAAAAAAAgdAGAAAAAAAAAAACoQ0AAAAAAAAAAARCGwAAAAAAAAAACIQ2AAAAAAAAAAAQCG0A\n",
       "AAAAAAAAACAQ2gAAAAAAAAAAQCC0AQAAAAAAAACAQGgDAAAAAAAAAACB0AYAAAAAAAAAAAKhDQAA\n",
       "AAAAAAAABLO7e/cmAH6CmTm2tq9qAAAAAAB4tu+6J3AnAPBsXrQBAAAAAAAAAIBAaAMAAAAAAAAA\n",
       "AIHQBgAAAAAAAAAAAqENAAAAAAAAAAAEQhsAAAAAAAAAAAiENgAAAAAAAAAAEAhtAAAAAAAAAAAg\n",
       "ENoAAAAAAAAAAEAgtAEAAAAAAAAAgEBoAwAAAAAAAAAAgdAGAAAAAAAAAAACoQ0AAAAAAAAAAARC\n",
       "GwAAAAAAAAAACIQ2AAAAAAAAAAAQCG0AAAAAAAAAACAQ2gAAAAAAAAAAQCC0AQAAAAAAAACAQGgD\n",
       "AAAAAAAAAACB0AYAAAAAAAAAAAKhDQAAAAAAAAAABEIbAAAAAAAAAAAIhDYAAAAAAAAAABDM7u7d\n",
       "mwB4p5m5ewu38ZUPAAAAAMBv9pvvCK7LPQHAd/CiDQAAAAAAAAAABEIbAAAAAAAAAAAIhDYAAAAA\n",
       "AAAAABAIbQAAAAAAAAAAIBDaAAAAAAAAAABAILQBAAAAAAAAAIBAaAMAAAAAAAAAAIHQBgAAAAAA\n",
       "AAAAAqENAAAAAAAAAAAEQhsAAAAAAAAAAAiENgAAAAAAAAAAEAhtAAAAAAAAAAAgENoAAAAAAAAA\n",
       "AEAgtAEAAAAAAAAAgEBoAwAAAAAAAAAAgdAGAAAAAAAAAAACoQ0AAAAAAAAAAARCGwAAAAAAAAAA\n",
       "CIQ2AAAAAAAAAAAQCG0AAAAAAAAAACAQ2gAAAAAAAAAAQCC0AQAAAAAAAACA4OvuDQD8LzNzbO3d\n",
       "Pbb205krAAAAAABP57fsc07N9rfPFfhdvGgDAAAAAAAAAACB0AYAAAAAAAAAAAKhDQAAAAAAAAAA\n",
       "BEIbAAAAAAAAAAAIhDYAAAAAAAAAABAIbQAAAAAAAAAAIBDaAAAAAAAAAABAILQBAAAAAAAAAIBA\n",
       "aAMAAAAAAAAAAIHQBgAAAAAAAAAAAqENAAAAAAAAAAAEQhsAAAAAAAAAAAiENgAAAAAAAAAAEAht\n",
       "AAAAAAAAAAAgENoAAAAAAAAAAEAgtAEAAAAAAAAAgEBoAwAAAAAAAAAAgdAGAAAAAAAAAAACoQ0A\n",
       "AAAAAAAAAASzu3v3JoDPNDN3b+FRTn6d/vZZ+1cFAAAAAPA8v/236//2Xb9lm+srdwTA03jRBgAA\n",
       "AAAAAAAAAqENAAAAAAAAAAAEQhsAAAAAAAAAAAiENgAAAAAAAAAAEAhtAAAAAAAAAAAgENoAAAAA\n",
       "AAAAAEAgtAEAAAAAAAAAgEBoAwAAAAAAAAAAgdAGAAAAAAAAAAACoQ0AAAAAAAAAAARCGwAAAAAA\n",
       "AAAACIQ2AAAAAAAAAAAQCG0AAAAAAAAAACAQ2gAAAAAAAAAAQCC0AQAAAAAAAACAQGgDAAAAAAAA\n",
       "AACB0AYAAAAAAAAAAAKhDQAAAAAAAAAABEIbAAAAAAAAAAAIhDYAAAAAAAAAABAIbQAAAAAAAAAA\n",
       "IBDaAAAAAAAAAABAMLu7d28COGtmjqzr64N3cYYBAAAAAP7Oqd9Xr8tvrLyHMww8jRdtAAAAAAAA\n",
       "AAAgENoAAAAAAAAAAMC/2bmj3MhxJICCTqDvf2XuZ4+A2cZrj0mVqiIOIBB0mpbkBwVCGwAAAAAA\n",
       "AAAACIQ2AAAAAAAAAAAQCG0AAAAAAAAAACAQ2gAAAAAAAAAAQCC0AQAAAAAAAACAQGgDAAAAAAAA\n",
       "AACB0AYAAAAAAAAAAAKhDQAAAAAAAAAABEIbAAAAAAAAAAAIhDYAAAAAAAAAABAIbQAAAAAAAAAA\n",
       "IBDaAAAAAAAAAABAILQBAAAAAAAAAIBAaAMAAAAAAAAAAIHQBgAAAAAAAAAAAqENAAAAAAAAAAAE\n",
       "QhsAAAAAAAAAAAiENgAAAAAAAAAAEAhtAAAAAAAAAAAgmLXWunsRwNfXzNy9hJfiaHoeM3xlhgEA\n",
       "AACAv+Ed62/erz6P+b0yw/DefNEGAAAAAAAAAAACoQ0AAAAAAAAAAARCGwAAAAAAAAAACIQ2AAAA\n",
       "AAAAAAAQCG0AAAAAAAAAACAQ2gAAAAAAAAAAQCC0AQAAAAAAAACAQGgDAAAAAAAAAACB0AYAAAAA\n",
       "AAAAAAKhDQAAAAAAAAAABEIbAAAAAAAAAAAIhDYAAAAAAAAAABAIbQAAAAAAAAAAIBDaAAAAAAAA\n",
       "AABAILQBAAAAAAAAAIBAaAMAAAAAAAAAAIHQBgAAAAAAAAAAAqENAAAAAAAAAAAEQhsAAAAAAAAA\n",
       "AAiENgAAAAAAAAAAEAhtAAAAAAAAAAAgENoAAAAAAAAAAEDw6+4FwJPMzLZrr7W2XfuJ7PUe9vWc\n",
       "XXttnwEAAADgPt6xnmGf9/Hu+gwzDO/NF20AAAAAAAAAACAQ2gAAAAAAAAAAQCC0AQAAAAAAAACA\n",
       "QGgDAAAAAAAAAACB0AYAAAAAAAAAAAKhDQAAAAAAAAAABEIbAAAAAAAAAAAIhDYAAAAAAAAAABAI\n",
       "bQAAAAAAAAAAIBDaAAAAAAAAAABAILQBAAAAAAAAAIBAaAMAAAAAAAAAAIHQBgAAAAAAAAAAAqEN\n",
       "AAAAAAAAAAAEQhsAAAAAAAAAAAiENgAAAAAAAAAAEAhtAAAAAAAAAAAgENoAAAAAAAAAAEAgtAEA\n",
       "AAAAAAAAgEBoAwAAAAAAAAAAgdAGAAAAAAAAAAACoQ0AAAAAAAAAAASz1lp3LwJ+2szcvYSXsuvX\n",
       "3D5f7TxOP32vzfAZbgkAAAAAeAfe+115d33OT+21fb0yw+f4PwE0vmgDAAAAAAAAAACB0AYAAAAA\n",
       "AAAAAAKhDQAAAAAAAAAABEIbAAAAAAAAAAAIhDYAAAAAAAAAABAIbQAAAAAAAAAAIBDaAAAAAAAA\n",
       "AABAILQBAAAAAAAAAIBAaAMAAAAAAAAAAIHQBgAAAAAAAAAAAqENAAAAAAAAAAAEQhsAAAAAAAAA\n",
       "AAiENgAAAAAAAAAAEAhtAAAAAAAAAAAgENoAAAAAAAAAAEAgtAEAAAAAAAAAgEBoAwAAAAAAAAAA\n",
       "gdAGAAAAAAAAAAACoQ0AAAAAAAAAAASz1lp3L4LPNDPbrm2sAf6ecxkAAACAk3a9j/IuCuB7nMvQ\n",
       "+KINAAAAAAAAAAAEQhsAAAAAAAAAAAiENgAAAAAAAAAAEAhtAAAAAAAAAAAgENoAAAAAAAAAAEAg\n",
       "tAEAAAAAAAAAgEBoAwAAAAAAAAAAgdAGAAAAAAAAAAACoQ0AAAAAAAAAAARCGwAAAAAAAAAACIQ2\n",
       "AAAAAAAAAAAQCG0AAAAAAAAAACAQ2gAAAAAAAAAAQCC0AQAAAAAAAACAQGgDAAAAAAAAAACB0AYA\n",
       "AAAAAAAAAAKhDQAAAAAAAAAABEIbAAAAAAAAAAAIhDYAAAAAAAAAABAIbQAAAAAAAAAAIBDaAAAA\n",
       "AAAAAABAILQBAAAAAAAAAIBg1lrr7kXwumbm7iW8FL8uwN2cy1fOZQAAAIC9vI+68j4KuJtz+cq5\n",
       "zB180QYAAAAAAAAAAAKhDQAAAAAAAAAABEIbAAAAAAAAAAAIhDYAAAAAAAAAABAIbQAAAAAAAAAA\n",
       "IBDaAAAAAAAAAABAILQBAAAAAAAAAIBAaAMAAAAAAAAAAIHQBgAAAAAAAAAAAqENAAAAAAAAAAAE\n",
       "QhsAAAAAAAAAAAiENgAAAAAAAAAAEAhtAAAAAAAAAAAgENoAAAAAAAAAAEAgtAEAAAAAAAAAgEBo\n",
       "AwAAAAAAAAAAgdAGAAAAAAAAAAACoQ0AAAAAAAAAAARCGwAAAAAAAAAACIQ2AAAAAAAAAAAQCG0A\n",
       "AAAAAAAAACD4dfcC+Bkzs+W6a60t132qXfv89WWv4d04l89wLgMAAAB4R3KSvQYKZ8U59po7+KIN\n",
       "AAAAAAAAAAAEQhsAAAAAAAAAAAiENgAAAAAAAAAAEAhtAAAAAAAAAAAgENoAAAAAAAAAAEAgtAEA\n",
       "AAAAAAAAgEBoAwAAAAAAAAAAgdAGAAAAAAAAAAACoQ0AAAAAAAAAAARCGwAAAAAAAAAACIQ2AAAA\n",
       "AAAAAAAQCG0AAAAAAAAAACAQ2gAAAAAAAAAAQCC0AQAAAAAAAACAQGgDAAAAAAAAAACB0AYAAAAA\n",
       "AAAAAAKhDQAAAAAAAAAABEIbAAAAAAAAAAAIhDYAAAAAAAAAABAIbQAAAAAAAAAAIBDaAAAAAAAA\n",
       "AABAILQBAAAAAAAAAIBg1lrr7kV8ipm5ewkvZefo2esrv+bw75wVV87lc5zLAAAA8Jm8I7na9Y7E\n",
       "Pl95FwX/n/Piyrl8hnP5+XzRBgAAAAAAAAAAAqENAAAAAAAAAAAEQhsAAAAAAAAAAAiENgAAAAAA\n",
       "AAAAEAhtAAAAAAAAAAAgENoAAAAAAAAAAEAgtAEAAAAAAAAAgEBoAwAAAAAAAAAAgdAGAAAAAAAA\n",
       "AAACoQ0AAAAAAAAAAARCGwAAAAAAAAAACIQ2AAAAAAAAAAAQCG0AAAAAAAAAACAQ2gAAAAAAAAAA\n",
       "QCC0AQAAAAAAAACAQGgDAAAAAAAAAACB0AYAAAAAAAAAAAKhDQAAAAAAAAAABEIbAAAAAAAAAAAI\n",
       "Zq217l7EK5mZbde21dxl11ybaU4xw7wbMw0AAACvy/8JeDdmmqczw7wbM/18vmgDAAAAAAAAAACB\n",
       "0AYAAAAAAAAAAAKhDQAAAAAAAAAABEIbAAAAAAAAAAAIhDYAAAAAAAAAABAIbQAAAAAAAAAAIBDa\n",
       "AAAAAAAAAABAILQBAAAAAAAAAIBAaAMAAAAAAAAAAIHQBgAAAAAAAAAAAqENAAAAAAAAAAAEQhsA\n",
       "AAAAAAAAAAiENgAAAAAAAAAAEAhtAAAAAAAAAAAgENoAAAAAAAAAAEAgtAEAAAAAAAAAgEBoAwAA\n",
       "AAAAAAAAgdAGAAAAAAAAAAACoQ0AAAAAAAAAAARCGwAAAAAAAAAACIQ2AAAAAAAAAAAQCG0AAAAA\n",
       "AAAAACCYtda6exHfMTN3L+GlPPTHyD+Y6Ssz/Txm+MoMP5+ZvjLTAAAAvBLP7Vee29+Duf7NTD+P\n",
       "+b0yw+/BXF+Z69980QYAAAAAAAAAAAKhDQAAAAAAAAAABEIbAAAAAAAAAAAIhDYAAAAAAAAAABAI\n",
       "bQAAAAAAAAAAIBDaAAAAAAAAAABAILQBAAAAAAAAAIBAaAMAAAAAAAAAAIHQBgAAAAAAAAAAAqEN\n",
       "AAAAAAAAAAAEQhsAAAAAAAAAAAiENgAAAPRC4cYAABfvSURBVAAAAAAAEAhtAAAAAAAAAAAgENoA\n",
       "AAAAAAAAAEAgtAEAAAAAAAAAgEBoAwAAAAAAAAAAgdAGAAAAAAAAAAACoQ0AAAAAAAAAAARCGwAA\n",
       "AAAAAAAACIQ2AAAAAAAAAAAQCG0AAAAAAAAAACAQ2gAAAAAAAAAAQPBr58VnZtu111rbrv1Eu/ba\n",
       "Pl+Z6XPs9R729Rzn8hlm+hx7DQAAwHd4R3KG5/Zz7PUZ9nkf5/IZZvgce32O8+M3X7QBAAAAAAAA\n",
       "AIBAaAMAAAAAAAAAAIHQBgAAAAAAAAAAAqENAAAAAAAAAAAEQhsAAAAAAAAAAAiENgAAAAAAAAAA\n",
       "EAhtAAAAAAAAAAAgENoAAAAAAAAAAEAgtAEAAAAAAAAAgEBoAwAAAAAAAAAAgdAGAAAAAAAAAAAC\n",
       "oQ0AAAAAAAAAAARCGwAAAAAAAAAACIQ2AAAAAAAAAAAQCG0AAAAAAAAAACAQ2gAAAAAAAAAAQCC0\n",
       "AQAAAAAAAACAQGgDAAAAAAAAAACB0AYAAAAAAAAAAAKhDQAAAAAAAAAABEIbAAAAAAAAAAAI5uvr\n",
       "a929iFey1r7tmJlt134ie33Orr22z1dmeh8zfIYZPsdMn7FzpgEAAN6J58kr70jO8Y7kDDN9zk/t\n",
       "tX29MsPnOJfPMNPn7NprX7QBAAAAAAAAAIBAaAMAAAAAAAAAAIHQBgAAAAAAAAAAAqENAAAAAAAA\n",
       "AAAEQhsAAAAAAAAAAAiENgAAAAAAAAAAEAhtAAAAAAAAAAAgENoAAAAAAAAAAEAgtAEAAAAAAAAA\n",
       "gEBoAwAAAAAAAAAAgdAGAAAAAAAAAAACoQ0AAAAAAAAAAARCGwAAAAAAAAAACIQ2AAAAAAAAAAAQ\n",
       "CG0AAAAAAAAAACAQ2gAAAAAAAAAAQCC0AQAAAAAAAACAQGgDAAAAAAAAAACB0AYAAAAAAAAAAAKh\n",
       "DQAAAAAAAAAABEIbAAAAAAAAAAAIhDYAAAAAAAAAABDMWmvdvQgAAPhpM7Pt2m6hAQCA0zzjAADA\n",
       "a/BFGwAAAAAAAAAACIQ2AAAAAAAAAAAQCG0AAAAAAAAAACAQ2gAAAAAAAAAAQCC0AQAAAAAAAACA\n",
       "QGgDAAAAAAAAAACB0AYAAAAAAAAAAAKhDQAAAAAAAAAABEIbAAAAAAAAAAAIhDYAAAAAAAAAABAI\n",
       "bQAAAAAAAAAAIBDaAAAAAAAAAABAILQBAAAAAAAAAIBAaAMAAAAAAAAAAIHQBgAAAAAAAAAAAqEN\n",
       "AAAAAAAAAAAEQhsAAAAAAAAAAAiENgAAAAAAAAAAEAhtAAAAAAAAAAAgmLXWunsRAAB8rpm5ewkv\n",
       "xe05AAC8l09/5vGMAwDAu/FFGwAAAAAAAAAACIQ2AAAAAAAAAAAQCG0AAAAAAAAAACAQ2gAAAAAA\n",
       "AAAAQCC0AQAAAAAAAACAQGgDAAAAAAAAAACB0AYAAAAAAAAAAAKhDQAAAAAAAAAABEIbAAAAAAAA\n",
       "AAAIhDYAAAAAAAAAABAIbQAAAAAAAAAAIBDaAAAAAAAAAABAILQBAAAAAAAAAIBAaAMAAAAAAAAA\n",
       "AIHQBgAAAAAAAAAAAqENAAAAAAAAAAAEQhsAAAAAAAAAAAiENgAAAAAAAAAAEAhtAAAAAAAAAAAg\n",
       "ENoAAAAAAAAAAEAgtAEAAAAAAAAAgEBoAwAAAAAAAAAAwa+7FwAAwOubmW3XXmttu/YT/dRe21cA\n",
       "AOg88+yza28/fV8BALiPL9oAAAAAAAAAAEAgtAEAAAAAAAAAgEBoAwAAAAAAAAAAgdAGAAAAAAAA\n",
       "AAACoQ0AAAAAAAAAAARCGwAAAAAAAAAACIQ2AAAAAAAAAAAQCG0AAAAAAAAAACAQ2gAAAAAAAAAA\n",
       "QCC0AQAAAAAAAACAQGgDAAAAAAAAAACB0AYAAAAAAAAAAAKhDQAAAAAAAAAABEIbAAAAAAAAAAAI\n",
       "hDYAAAAAAAAAABAIbQAAAAAAAAAAIBDaAAAAAAAAAABAILQBAAAAAAAAAIBAaAMAAAAAAAAAAIHQ\n",
       "BgAAAAAAAAAAAqENAAAAAAAAAAAEQhsAAAAAAAAAAAhmrbXuXgQAAP/dzNy9hJey8zb30/faIwQA\n",
       "AHf55HtxzzjneOYBAOBPfNEGAAAAAAAAAAACoQ0AAAAAAAAAAARCGwAAAAAAAAAACIQ2AAAAAAAA\n",
       "AAAQCG0AAAAAAAAAACAQ2gAAAAAAAAAAQCC0AQAAAAAAAACAQGgDAAAAAAAAAACB0AYAAAAAAAAA\n",
       "AAKhDQAAAAAAAAAABEIbAAAAAAAAAAAIhDYAAAAAAAAAABAIbQAAAAAAAAAAIBDaAAAAAAAAAABA\n",
       "ILQBAAAAAAAAAIBAaAMAAAAAAAAAAIHQBgAAAAAAAAAAAqENAAAAAAAAAAAEQhsAAAAAAAAAAAiE\n",
       "NgAAAAAAAAAAEAhtAAAAAAAAAAAgmLXWunsRAACfZGa2XNdtHaeYYQAA/mTX/eLXl3tGzjDDAAD8\n",
       "iS/aAAAAAAAAAABAILQBAAAAAAAAAIBAaAMAAAAAAAAAAIHQBgAAAAAAAAAAAqENAAAAAAAAAAAE\n",
       "QhsAAAAAAAAAAAiENgAAAAAAAAAAEAhtAAAAAAAAAAAgENoAAAAAAAAAAEAgtAEAAAAAAAAAgEBo\n",
       "AwAAAAAAAAAAgdAGAAAAAAAAAAACoQ0AAAAAAAAAAARCGwAAAAAAAAAACIQ2AAAAAAAAAAAQCG0A\n",
       "AAAAAAAAACAQ2gAAAAAAAAAAQCC0AQAAAAAAAACAQGgDAAAAAAAAAACB0AYAAAAAAAAAAAKhDQAA\n",
       "AAAAAAAABEIbAAAAAAAAAAAIZq217l4EAMCrmZm7l/BS3DI+jxm+MsMAAFfuF6/cLz6PGb4ywwAA\n",
       "5/iiDQAAAAAAAAAABEIbAAAAAAAAAAAIhDYAAAAAAAAAABAIbQAAAAAAAAAAIBDaAAAAAAAAAABA\n",
       "ILQBAAAAAAAAAIBAaAMAAAAAAAAAAIHQBgAAAAAAAAAAAqENAAAAAAAAAAAEQhsAAAAAAAAAAAiE\n",
       "NgAAAAAAAAAAEAhtAAAAAAAAAAAgENoAAAAAAAAAAEAgtAEAAAAAAAAAgEBoAwAAAAAAAAAAgdAG\n",
       "AAAAAAAAAAACoQ0AAAAAAAAAAARCGwAAAAAAAAAACIQ2AAAAAAAAAAAQ/Lp7AQAA3zUz26691tp2\n",
       "7Sey1+f81F7b1yszDAA81a77GPcwV+4X9zHDZ5hhAIBzfNEGAAAAAAAAAAACoQ0AAAAAAAAAAARC\n",
       "GwAAAAAAAAAACIQ2AAAAAAAAAAAQCG0AAAAAAAAAACAQ2gAAAAAAAAAAQCC0AQAAAAAAAACAQGgD\n",
       "AAAAAAAAAACB0AYAAAAAAAAAAAKhDQAAAAAAAAAABEIbAAAAAAAAAAAIhDYAAAAAAAAAABAIbQAA\n",
       "AAAAAAAAIBDaAAAAAAAAAABAILQBAAAAAAAAAIBAaAMAAAAAAAAAAIHQBgAAAAAAAAAAAqENAAAA\n",
       "AAAAAAAEQhsAAAAAAAAAAAiENgAAAAAAAAAAEAhtAAAAAAAAAAAgENoAAAAAAAAAAEAwa6119yIA\n",
       "gPc2M3cv4aXsuv2yz1c7b3M/fa/N8Bke1QDgOdzHXLkX38O+nmOvz/HcAwA8kS/aAAAAAAAAAABA\n",
       "ILQBAAAAAAAAAIBAaAMAAAAAAAAAAIHQBgAAAAAAAAAAAqENAAAAAAAAAAAEQhsAAAAAAAAAAAiE\n",
       "NgAAAAAAAAAAEAhtAAAAAAAAAAAgENoAAAAAAAAAAEAgtAEAAAAAAAAAgEBoAwAAAAAAAAAAgdAG\n",
       "AAAAAAAAAAACoQ0AAAAAAAAAAARCGwAAAAAAAAAACIQ2AAAAAAAAAAAQCG0AAAAAAAAAACAQ2gAA\n",
       "AAAAAAAAQCC0AQAAAAAAAACAQGgDAAAAAAAAAACB0AYAAAAAAAAAAAKhDQAAAAAAAAAABEIbAAAA\n",
       "AAAAAAAIZq217l4EAHC/mdl2bbcbAH/PuQwAP2/X31d/WwG+x7kMADyRL9oAAAAAAAAAAEAgtAEA\n",
       "AAAAAAAAgEBoAwAAAAAAAAAAgdAGAAAAAAAAAAACoQ0AAAAAAAAAAP9r545yo4ahAIrWUve/ZfMJ\n",
       "QQUu6tiezJyzgMjyPBwXXYVAaAMAAAAAAAAAAIHQBgAAAAAAAAAAAqENAAAAAAAAAAAEQhsAAAAA\n",
       "AAAAAAiENgAAAAAAAAAAEAhtAAAAAAAAAAAgENoAAAAAAAAAAEAgtAEAAAAAAAAAgEBoAwAAAAAA\n",
       "AAAAgdAGAAAAAAAAAAACoQ0AAAAAAAAAAARCGwAAAAAAAAAACIQ2AAAAAAAAAAAQCG0AAAAAAAAA\n",
       "ACAQ2gAAAAAAAAAAQCC0AQAAAAAAAACAYMw55+lFAADNGOP0Ep6KawzwDJzNPzmXAXgE79Yr71fg\n",
       "NOfylXMZAPBFGwAAAAAAAAAACIQ2AAAAAAAAAAAQCG0AAAAAAAAAACAQ2gAAAAAAAAAAQCC0AQAA\n",
       "AAAAAACAQGgDAAAAAAAAAACB0AYAAAAAAAAAAAKhDQAAAAAAAAAABEIbAAAAAAAAAAAIhDYAAAAA\n",
       "AAAAABAIbQAAAAAAAAAAIBDaAAAAAAAAAABAILQBAAAAAAAAAIBAaAMAAAAAAAAAAIHQBgAAAAAA\n",
       "AAAAAqENAAAAAAAAAAAEQhsAAAAAAAAAAAiENgAAAAAAAAAAEAhtAAAAAAAAAAAgENoAAAAAAAAA\n",
       "AEDweXoBAPCKxhhLnjvnXPLcu1q1zx8f9hpejfNiD/sM8D6c+fv4+xIonMv72GsAwBdtAAAAAAAA\n",
       "AAAgENoAAAAAAAAAAEAgtAEAAAAAAAAAgEBoAwAAAAAAAAAAgdAGAAAAAAAAAAACoQ0AAAAAAAAA\n",
       "AARCGwAAAAAAAAAACIQ2AAAAAAAAAAAQCG0AAAAAAAAAACAQ2gAAAAAAAAAAQCC0AQAAAAAAAACA\n",
       "QGgDAAAAAAAAAACB0AYAAAAAAAAAAAKhDQAAAAAAAAAABEIbAAAAAAAAAAAIhDYAAAAAAAAAABAI\n",
       "bQAAAAAAAAAAIBDaAAAAAAAAAABAILQBAAAAAAAAAIBAaAMAAAAAAAAAAIHQBgAAAAAAAAAAgjHn\n",
       "nKcXAQAnjDFOL+GprLwS2Osr1y/4mrPiyrm8j3MZeGXO/KtVZ759vvJuhT9zXlw5l/dwLgPAY/mi\n",
       "DQAAAAAAAAAABEIbAAAAAAAAAAAIhDYAAAAAAAAAABAIbQAAAAAAAAAAIBDaAAAAAAAAAABAILQB\n",
       "AAAAAAAAAIBAaAMAAAAAAAAAAIHQBgAAAAAAAAAAAqENAAAAAAAAAAAEQhsAAAAAAAAAAAiENgAA\n",
       "AAAAAAAAEAhtAAAAAAAAAAAgENoAAAAAAAAAAEAgtAEAAAAAAAAAgEBoAwAAAAAAAAAAgdAGAAAA\n",
       "AAAAAAACoQ0AAAAAAAAAAARCGwAAAAAAAAAACIQ2AAAAAAAAAAAQCG0AAAAAAAAAACAQ2gAAAAAA\n",
       "AAAAQCC0AQAAAAAAAACAYMw55+lFAMDfjDGWPNcrkFPMNHdnhnk1Zho4bdU59PHhLOIMM83dmWFe\n",
       "jZkGgMfyRRsAAAAAAAAAAAiENgAAAAAAAAAAEAhtAAAAAAAAAAAgENoAAAAAAAAAAEAgtAEAAAAA\n",
       "AAAAgEBoAwAAAAAAAAAAgdAGAAAAAAAAAAACoQ0AAAAAAAAAAARCGwAAAAAAAAAACIQ2AAAAAAAA\n",
       "AAAQCG0AAAAAAAAAACAQ2gAAAAAAAAAAQCC0AQAAAAAAAACAQGgDAAAAAAAAAACB0AYAAAAAAAAA\n",
       "AAKhDQAAAAAAAAAABEIbAAAAAAAAAAAIhDYAAAAAAAAAABAIbQAAAAAAAAAAIBDaAAAAAAAAAABA\n",
       "ILQBAAAAAAAAAIBAaAMAAAAAAAAAAMGYc87TiwDg/sYYp5fwVLxe789MX5np+zHDV2b4/sz0lZmG\n",
       "/ZxDV86h+zPTV2b6fszwlRl+Deb6JzMNwDPzRRsAAAAAAAAAAAiENgAAAAAAAAAAEAhtAAAAAAAA\n",
       "AAAgENoAAAAAAAAAAEAgtAEAAAAAAAAAgEBoAwAAAAAAAAAAgdAGAAAAAAAAAAACoQ0AAAAAAAAA\n",
       "AARCGwAAAAAAAAAACIQ2AAAAAAAAAAAQCG0AAAAAAAAAACAQ2gAAAAAAAAAAQCC0AQAAAAAAAACA\n",
       "QGgDAAAAAAAAAACB0AYAAAAAAAAAAAKhDQAAAAAAAAAABEIbAAAAAAAAAAAIhDYAAAAAAAAAABAI\n",
       "bQAAAAAAAAAAIBDaAAAAAAAAAABAILQBAAAAAAAAAIDg8/QCANhnjLHs2XPOZc++o1V7bZ+vzPQ+\n",
       "9nqfR+21fb0yw3vY533sNfyZu/gezqF9zPQeZnodM7yHGd7HXu9hnwF4Zr5oAwAAAAAAAAAAgdAG\n",
       "AAAAAAAAAAACoQ0AAAAAAAAAAARCGwAAAAAAAAAACIQ2AAAAAAAAAAAQCG0AAAAAAAAAACAQ2gAA\n",
       "AAAAAAAAQCC0AQAAAAAAAACAQGgDAAAAAAAAAACB0AYAAAAAAAAAAAKhDQAAAAAAAAAABEIbAAAA\n",
       "AAAAAAAIhDYAAAAAAAAAABAIbQAAAAAAAAAAIBDaAAAAAAAAAABAILQBAAAAAAAAAIBAaAMAAAAA\n",
       "AAAAAIHQBgAAAAAAAAAAAqENAAAAAAAAAAAEQhsAAAAAAAAAAAjGnHOeXgQAfzfGOL2Eo1a9qt59\n",
       "X3+38kpgr6/M9B5meh0zvIcZ3sdM7+G/H/iVfx9Xzvx9nPl7mOk17Os+9nof5/IeZnoff/cAvAdf\n",
       "tAEAAAAAAAAAgEBoAwAAAAAAAAAAgdAGAAAAAAAAAAACoQ0AAAAAAAAAAARCGwAAAAAAAAAACIQ2\n",
       "AAAAAAAAAAAQCG0AAAAAAAAAACAQ2gAAAAAAAAAAQCC0AQAAAAAAAACAQGgDAAAAAAAAAACB0AYA\n",
       "AAAAAAAAAAKhDQAAAAAAAAAABEIbAAAAAAAAAAAIhDYAAAAAAAAAABAIbQAAAAAAAAAAIBDaAAAA\n",
       "AAAAAABAILQBAAAAAAAAAIBAaAMAAAAAAAAAAIHQBgAAAAAAAAAAAqENAAAAAAAAAAAEQhsAAAAA\n",
       "AAAAAAiENgAAAAAAAAAAEIw55zy9CIBXMMZY9mxHNQAAd+e+fD9+MwAA+D+PukO7LwM8N1+0AQAA\n",
       "AAAAAACAQGgDAAAAAAAAAACB0AYAAAAAAAAAAAKhDQAAAAAAAAAABEIbAAAAAAAAAAAIhDYAAAAA\n",
       "AAAAABAIbQAAAAAAAAAAIBDaAAAAAAAAAABAILQBAAAAAAAAAIBAaAMAAAAAAAAAAIHQBgAAAAAA\n",
       "AAAAAqENAAAAAAAAAAAEQhsAAAAAAAAAAAiENgAAAAAAAAAAEAhtAAAAAAAAAAAgENoAAAAAAAAA\n",
       "AEAgtAEAAAAAAAAAgEBoAwAAAAAAAAAAgdAGAAAAAAAAAAACoQ0AAAAAAAAAAARCGwAAAAAAAAAA\n",
       "CMacc55eBMBOY4zTSzjGkQ8AwL+88335K3e4Q/vNru7wmwEAcM6735/dlwG+zxdtAAAAAAAAAAAg\n",
       "ENoAAAAAAAAAAEAgtAEAAAAAAAAAgEBoAwAAAAAAAAAAgdAGAAAAAAAAAAACoQ0AAAAAAAAAAARC\n",
       "GwAAAAAAAAAACIQ2AAAAAAAAAAAQCG0AAAAAAAAAACAQ2gAAAAAAAAAAQCC0AQAAAAAAAACAQGgD\n",
       "AAAAAAAAAACB0AYAAAAAAAAAAAKhDQAAAAAAAAAABEIbAAAAAAAAAAAIhDYAAAAAAAAAABAIbQAA\n",
       "AAAAAAAAIBDaAAAAAAAAAABAILQBAAAAAAAAAIBAaAMAAAAAAAAAAIHQBgAAAAAAAAAAAqENAAAA\n",
       "AAAAAAAEn6cXAPCVMcayZ885lz372dlXAIDX4F63z8q9fhS/2dWq38w+AwDs42+eddyXAb7PF20A\n",
       "AAAAAAAAACAQ2gAAAAAAAAAAQCC0AQAAAAAAAACAQGgDAAAAAAAAAACB0AYAAAAAAAAAAAKhDQAA\n",
       "AAAAAAAABEIbAAAAAAAAAAAIhDYAAAAAAAAAABAIbQAAAAAAAAAAIBDaAAAAAAAAAABAILQBAAAA\n",
       "AAAAAIBAaAMAAAAAAAAAAIHQBgAAAAAAAAAAAqENAAAAAAAAAAAEQhsAAAAAAAAAAAiENgAAAAAA\n",
       "AAAAEAhtAAAAAAAAAAAgENoAAAAAAAAAAEAgtAEAAAAAAAAAgEBoAwAAAAAAAAAAgdAGAAAAAAAA\n",
       "AACCH0au52u8KE4RAAAAAElFTkSuQmCC\n",
       "\" transform=\"translate(87, 229)\"/>\n",
       "</g>\n",
       "</svg>\n"
      ]
     },
     "execution_count": 40,
     "metadata": {},
     "output_type": "execute_result"
    }
   ],
   "source": [
    "p, _ = run(rules = rule22, gridsize=101, nsteps = 50)\n",
    "p"
   ]
  },
  {
   "cell_type": "markdown",
   "metadata": {
    "nbpresent": {
     "id": "0a4b00e1-10f3-4ffc-a645-58da215badc8"
    },
    "slideshow": {
     "slide_type": "slide"
    }
   },
   "source": [
    "## Example 2: Traffic flow patterns\n",
    "\n",
    "* Suppose we have $N = 100$ drivers who commute every day from point 1 to point 4 on a simple road network:\n",
    "<img src=\"files/images/network1.png\" alt=\"Drawing\" style=\"width: 200px;\"/>\n",
    "* There are multiple paths in the network leading from 1 to 4.\n",
    "* The travel time for each link, $i$, depends on the number of drivers, $x_i$, travelling on that link: generally travel time increases as the usage goes up.\n",
    "* Build a model to estimate the average travel time from 1 to 4."
   ]
  },
  {
   "cell_type": "markdown",
   "metadata": {
    "nbpresent": {
     "id": "77a5e7fb-4564-4513-9e54-ff3a72016004"
    },
    "slideshow": {
     "slide_type": "slide"
    }
   },
   "source": [
    "### Wardrop equilibrium and congestion games\n",
    "\n",
    "We can think of this problem as a repeated multiplayer game in which each player (agent) tries to choose the route that minimises its travel time subject to the choices of all the other agents.\n",
    "\n",
    "[John Wardrop](https://en.wikipedia.org/wiki/John_Glen_Wardrop) (a Warwick local!) suggested in 1952 that the observed pattern of use should satisfy the following principle: \n",
    "\n",
    "> journey times in all routes actually used are equal and less than those that would be experienced by a single vehicle on any unused route.\n",
    "\n",
    "This is nowadays known as Wardrop equilibrium."
   ]
  },
  {
   "cell_type": "markdown",
   "metadata": {
    "nbpresent": {
     "id": "77a5e7fb-4564-4513-9e54-ff3a72016004"
    },
    "slideshow": {
     "slide_type": "slide"
    }
   },
   "source": [
    "### Wardrop equilibrium and congestion games\n",
    "\n",
    "It is a multiplayer analogue of a Nash equilibrium: no driver can improve their journey time by unilaterally switching to a different route.\n",
    "\n",
    "Can we build an ABM to demonstrate the existence of Wardrop equilibrium from simple and plausible behavioural rules?"
   ]
  },
  {
   "cell_type": "markdown",
   "metadata": {
    "nbpresent": {
     "id": "0d14555b-0251-4d49-a0d8-12025e9baebd"
    },
    "slideshow": {
     "slide_type": "slide"
    }
   },
   "source": [
    "### ABM model of commuter patterns\n",
    "We shall assume that the travel time, $\\tau_i$, for each link, $i$, is a linear function of the number of agents $x_i$ travelling on that link on a given day:\n",
    "$$ \\tau_i(x_i) = a_i\\ x_i + b_i $$\n",
    "with the parameters $a_i$ and $b_i$ varying from link to link. These are called **demand-delay functions**."
   ]
  },
  {
   "cell_type": "markdown",
   "metadata": {
    "nbpresent": {
     "id": "0d14555b-0251-4d49-a0d8-12025e9baebd"
    },
    "slideshow": {
     "slide_type": "slide"
    }
   },
   "source": [
    "### Model description:\n",
    "* Each agent has a prefered route.\n",
    "* At each step (1 day) each agent travels its prefered route.\n",
    "* Travel times for all routes are calculated based on the choices of the agents.\n",
    "* Each agent compares travel time, $\\tau_\\text{c}$, of its current prefered route to the travel time of a randomly chosen alternative route, $\\tau_\\text{a}$, and calculates $\\Delta \\tau = \\tau_\\text{a} - \\tau_\\text{c}$. \n",
    "* If $\\Delta \\tau <0$, the agent updates its prefered route with probability\n",
    "$$P = 1 - \\exp(\\Delta \\tau/T),$$\n",
    "before the next iteration where $T$ is a model parameter."
   ]
  },
  {
   "cell_type": "markdown",
   "metadata": {
    "nbpresent": {
     "id": "79302d21-dd83-4865-9a22-4f9832efe020"
    },
    "slideshow": {
     "slide_type": "slide"
    }
   },
   "source": [
    "### Implementation of the model\n",
    "\n",
    "First we need to define the graph. To do this we use LightGraphs.jl:"
   ]
  },
  {
   "cell_type": "code",
   "execution_count": 41,
   "metadata": {
    "cell_style": "split",
    "nbpresent": {
     "id": "3b354c6a-6734-45b1-96fc-8354e4f35a1b"
    },
    "slideshow": {
     "slide_type": "-"
    }
   },
   "outputs": [
    {
     "data": {
      "text/plain": [
       "true"
      ]
     },
     "execution_count": 41,
     "metadata": {},
     "output_type": "execute_result"
    }
   ],
   "source": [
    "using LightGraphs\n",
    "using GraphPlot, Compose\n",
    "using Statistics\n",
    "using DataFrames\n",
    "\n",
    "# Make a graph\n",
    "G = DiGraph(4) # graph with 4 vertices\n",
    "add_edge!(G, 1, 2)\n",
    "add_edge!(G, 1, 3)\n",
    "add_edge!(G, 2, 4)\n",
    "add_edge!(G, 3, 4)"
   ]
  },
  {
   "cell_type": "code",
   "execution_count": 42,
   "metadata": {
    "cell_style": "split"
   },
   "outputs": [
    {
     "data": {
      "image/svg+xml": [
       "<?xml version=\"1.0\" encoding=\"UTF-8\"?>\n",
       "<svg xmlns=\"http://www.w3.org/2000/svg\"\n",
       "     xmlns:xlink=\"http://www.w3.org/1999/xlink\"\n",
       "     version=\"1.2\"\n",
       "     width=\"141.42mm\" height=\"100mm\" viewBox=\"0 0 141.42 100\"\n",
       "     stroke=\"none\"\n",
       "     fill=\"#000000\"\n",
       "     stroke-width=\"0.3\"\n",
       "     font-size=\"3.88\"\n",
       ">\n",
       "<defs>\n",
       "  <marker id=\"arrow\" markerWidth=\"15\" markerHeight=\"7\" refX=\"5\" refY=\"3.5\" orient=\"auto\" markerUnits=\"strokeWidth\">\n",
       "    <path d=\"M0,0 L15,3.5 L0,7 z\" stroke=\"context-stroke\" fill=\"context-stroke\"/>\n",
       "  </marker>\n",
       "</defs>\n",
       "<g stroke-width=\"1.5\" fill=\"#000000\" fill-opacity=\"0.000\" stroke=\"#D3D3D3\" id=\"img-f6528c62-1\">\n",
       "  <g transform=\"translate(109.07,35.42)\">\n",
       "    <path fill=\"none\" d=\"M-17.09,-22.49 L17.09,22.49 \" class=\"primitive\"/>\n",
       "  </g>\n",
       "  <g transform=\"translate(50.14,22.92)\">\n",
       "    <path fill=\"none\" d=\"M31.87,-12.12 L-31.87,12.12 \" class=\"primitive\"/>\n",
       "  </g>\n",
       "  <g transform=\"translate(91.28,77.08)\">\n",
       "    <path fill=\"none\" d=\"M31.87,-12.12 L-31.87,12.12 \" class=\"primitive\"/>\n",
       "  </g>\n",
       "  <g transform=\"translate(32.36,64.58)\">\n",
       "    <path fill=\"none\" d=\"M-17.09,-22.49 L17.09,22.49 \" class=\"primitive\"/>\n",
       "  </g>\n",
       "</g>\n",
       "<g stroke-width=\"1.5\" stroke=\"#D3D3D3\" id=\"img-f6528c62-2\">\n",
       "  <g transform=\"translate(124.4,55.61)\">\n",
       "    <path fill=\"none\" d=\"M0.9,-1.82 L1.75,2.3 -2.65,-0.48 \" class=\"primitive\"/>\n",
       "  </g>\n",
       "  <g transform=\"translate(21.52,33.8)\">\n",
       "    <path fill=\"none\" d=\"M2.58,0.64 L-3.25,1.24 0.67,-1.87 \" class=\"primitive\"/>\n",
       "  </g>\n",
       "  <g transform=\"translate(62.66,87.96)\">\n",
       "    <path fill=\"none\" d=\"M2.58,0.64 L-3.25,1.24 0.67,-1.87 \" class=\"primitive\"/>\n",
       "  </g>\n",
       "  <g transform=\"translate(47.69,84.78)\">\n",
       "    <path fill=\"none\" d=\"M0.9,-1.82 L1.75,2.3 -2.65,-0.48 \" class=\"primitive\"/>\n",
       "  </g>\n",
       "</g>\n",
       "<g font-size=\"4\" stroke=\"#000000\" stroke-opacity=\"0.000\" fill=\"#000000\" id=\"img-f6528c62-3\">\n",
       "</g>\n",
       "<g stroke-width=\"0\" stroke=\"#000000\" stroke-opacity=\"0.000\" fill=\"#40E0D0\" id=\"img-f6528c62-4\">\n",
       "  <g transform=\"translate(88.5,8.33)\">\n",
       "    <circle cx=\"0\" cy=\"0\" r=\"7.07\" class=\"primitive\"/>\n",
       "  </g>\n",
       "  <g transform=\"translate(129.64,62.5)\">\n",
       "    <circle cx=\"0\" cy=\"0\" r=\"7.07\" class=\"primitive\"/>\n",
       "  </g>\n",
       "  <g transform=\"translate(11.79,37.5)\">\n",
       "    <circle cx=\"0\" cy=\"0\" r=\"7.07\" class=\"primitive\"/>\n",
       "  </g>\n",
       "  <g transform=\"translate(52.93,91.67)\">\n",
       "    <circle cx=\"0\" cy=\"0\" r=\"7.07\" class=\"primitive\"/>\n",
       "  </g>\n",
       "</g>\n",
       "<g font-size=\"4\" stroke=\"#000000\" stroke-opacity=\"0.000\" fill=\"#000000\" id=\"img-f6528c62-5\">\n",
       "  <g transform=\"translate(88.5,8.33)\">\n",
       "    <g class=\"primitive\">\n",
       "      <text text-anchor=\"middle\" dy=\"0.35em\">1</text>\n",
       "    </g>\n",
       "  </g>\n",
       "  <g transform=\"translate(129.64,62.5)\">\n",
       "    <g class=\"primitive\">\n",
       "      <text text-anchor=\"middle\" dy=\"0.35em\">2</text>\n",
       "    </g>\n",
       "  </g>\n",
       "  <g transform=\"translate(11.79,37.5)\">\n",
       "    <g class=\"primitive\">\n",
       "      <text text-anchor=\"middle\" dy=\"0.35em\">3</text>\n",
       "    </g>\n",
       "  </g>\n",
       "  <g transform=\"translate(52.93,91.67)\">\n",
       "    <g class=\"primitive\">\n",
       "      <text text-anchor=\"middle\" dy=\"0.35em\">4</text>\n",
       "    </g>\n",
       "  </g>\n",
       "</g>\n",
       "</svg>\n"
      ],
      "text/html": [
       "<?xml version=\"1.0\" encoding=\"UTF-8\"?>\n",
       "<svg xmlns=\"http://www.w3.org/2000/svg\"\n",
       "     xmlns:xlink=\"http://www.w3.org/1999/xlink\"\n",
       "     version=\"1.2\"\n",
       "     width=\"141.42mm\" height=\"100mm\" viewBox=\"0 0 141.42 100\"\n",
       "     stroke=\"none\"\n",
       "     fill=\"#000000\"\n",
       "     stroke-width=\"0.3\"\n",
       "     font-size=\"3.88\"\n",
       "\n",
       "     id=\"img-1925b330\">\n",
       "<defs>\n",
       "  <marker id=\"arrow\" markerWidth=\"15\" markerHeight=\"7\" refX=\"5\" refY=\"3.5\" orient=\"auto\" markerUnits=\"strokeWidth\">\n",
       "    <path d=\"M0,0 L15,3.5 L0,7 z\" stroke=\"context-stroke\" fill=\"context-stroke\"/>\n",
       "  </marker>\n",
       "</defs>\n",
       "<g stroke-width=\"1.5\" fill=\"#000000\" fill-opacity=\"0.000\" stroke=\"#D3D3D3\" id=\"img-1925b330-1\">\n",
       "  <g transform=\"translate(109.07,35.42)\">\n",
       "    <path fill=\"none\" d=\"M-17.09,-22.49 L17.09,22.49 \" class=\"primitive\"/>\n",
       "  </g>\n",
       "  <g transform=\"translate(50.14,22.92)\">\n",
       "    <path fill=\"none\" d=\"M31.87,-12.12 L-31.87,12.12 \" class=\"primitive\"/>\n",
       "  </g>\n",
       "  <g transform=\"translate(91.28,77.08)\">\n",
       "    <path fill=\"none\" d=\"M31.87,-12.12 L-31.87,12.12 \" class=\"primitive\"/>\n",
       "  </g>\n",
       "  <g transform=\"translate(32.36,64.58)\">\n",
       "    <path fill=\"none\" d=\"M-17.09,-22.49 L17.09,22.49 \" class=\"primitive\"/>\n",
       "  </g>\n",
       "</g>\n",
       "<g stroke-width=\"1.5\" stroke=\"#D3D3D3\" id=\"img-1925b330-2\">\n",
       "  <g transform=\"translate(124.4,55.61)\">\n",
       "    <path fill=\"none\" d=\"M0.9,-1.82 L1.75,2.3 -2.65,-0.48 \" class=\"primitive\"/>\n",
       "  </g>\n",
       "  <g transform=\"translate(21.52,33.8)\">\n",
       "    <path fill=\"none\" d=\"M2.58,0.64 L-3.25,1.24 0.67,-1.87 \" class=\"primitive\"/>\n",
       "  </g>\n",
       "  <g transform=\"translate(62.66,87.96)\">\n",
       "    <path fill=\"none\" d=\"M2.58,0.64 L-3.25,1.24 0.67,-1.87 \" class=\"primitive\"/>\n",
       "  </g>\n",
       "  <g transform=\"translate(47.69,84.78)\">\n",
       "    <path fill=\"none\" d=\"M0.9,-1.82 L1.75,2.3 -2.65,-0.48 \" class=\"primitive\"/>\n",
       "  </g>\n",
       "</g>\n",
       "<g font-size=\"4\" stroke=\"#000000\" stroke-opacity=\"0.000\" fill=\"#000000\" id=\"img-1925b330-3\">\n",
       "</g>\n",
       "<g stroke-width=\"0\" stroke=\"#000000\" stroke-opacity=\"0.000\" fill=\"#40E0D0\" id=\"img-1925b330-4\">\n",
       "  <g transform=\"translate(88.5,8.33)\">\n",
       "    <circle cx=\"0\" cy=\"0\" r=\"7.07\" class=\"primitive\"/>\n",
       "  </g>\n",
       "  <g transform=\"translate(129.64,62.5)\">\n",
       "    <circle cx=\"0\" cy=\"0\" r=\"7.07\" class=\"primitive\"/>\n",
       "  </g>\n",
       "  <g transform=\"translate(11.79,37.5)\">\n",
       "    <circle cx=\"0\" cy=\"0\" r=\"7.07\" class=\"primitive\"/>\n",
       "  </g>\n",
       "  <g transform=\"translate(52.93,91.67)\">\n",
       "    <circle cx=\"0\" cy=\"0\" r=\"7.07\" class=\"primitive\"/>\n",
       "  </g>\n",
       "</g>\n",
       "<g font-size=\"4\" stroke=\"#000000\" stroke-opacity=\"0.000\" fill=\"#000000\" id=\"img-1925b330-5\">\n",
       "  <g transform=\"translate(88.5,8.33)\">\n",
       "    <g class=\"primitive\">\n",
       "      <text text-anchor=\"middle\" dy=\"0.35em\">1</text>\n",
       "    </g>\n",
       "  </g>\n",
       "  <g transform=\"translate(129.64,62.5)\">\n",
       "    <g class=\"primitive\">\n",
       "      <text text-anchor=\"middle\" dy=\"0.35em\">2</text>\n",
       "    </g>\n",
       "  </g>\n",
       "  <g transform=\"translate(11.79,37.5)\">\n",
       "    <g class=\"primitive\">\n",
       "      <text text-anchor=\"middle\" dy=\"0.35em\">3</text>\n",
       "    </g>\n",
       "  </g>\n",
       "  <g transform=\"translate(52.93,91.67)\">\n",
       "    <g class=\"primitive\">\n",
       "      <text text-anchor=\"middle\" dy=\"0.35em\">4</text>\n",
       "    </g>\n",
       "  </g>\n",
       "</g>\n",
       "<script> <![CDATA[\n",
       "(function(N){var k=/[\\.\\/]/,L=/\\s*,\\s*/,C=function(a,d){return a-d},a,v,y={n:{}},M=function(){for(var a=0,d=this.length;a<d;a++)if(\"undefined\"!=typeof this[a])return this[a]},A=function(){for(var a=this.length;--a;)if(\"undefined\"!=typeof this[a])return this[a]},w=function(k,d){k=String(k);var f=v,n=Array.prototype.slice.call(arguments,2),u=w.listeners(k),p=0,b,q=[],e={},l=[],r=a;l.firstDefined=M;l.lastDefined=A;a=k;for(var s=v=0,x=u.length;s<x;s++)\"zIndex\"in u[s]&&(q.push(u[s].zIndex),0>u[s].zIndex&&\n",
       "(e[u[s].zIndex]=u[s]));for(q.sort(C);0>q[p];)if(b=e[q[p++] ],l.push(b.apply(d,n)),v)return v=f,l;for(s=0;s<x;s++)if(b=u[s],\"zIndex\"in b)if(b.zIndex==q[p]){l.push(b.apply(d,n));if(v)break;do if(p++,(b=e[q[p] ])&&l.push(b.apply(d,n)),v)break;while(b)}else e[b.zIndex]=b;else if(l.push(b.apply(d,n)),v)break;v=f;a=r;return l};w._events=y;w.listeners=function(a){a=a.split(k);var d=y,f,n,u,p,b,q,e,l=[d],r=[];u=0;for(p=a.length;u<p;u++){e=[];b=0;for(q=l.length;b<q;b++)for(d=l[b].n,f=[d[a[u] ],d[\"*\"] ],n=2;n--;)if(d=\n",
       "f[n])e.push(d),r=r.concat(d.f||[]);l=e}return r};w.on=function(a,d){a=String(a);if(\"function\"!=typeof d)return function(){};for(var f=a.split(L),n=0,u=f.length;n<u;n++)(function(a){a=a.split(k);for(var b=y,f,e=0,l=a.length;e<l;e++)b=b.n,b=b.hasOwnProperty(a[e])&&b[a[e] ]||(b[a[e] ]={n:{}});b.f=b.f||[];e=0;for(l=b.f.length;e<l;e++)if(b.f[e]==d){f=!0;break}!f&&b.f.push(d)})(f[n]);return function(a){+a==+a&&(d.zIndex=+a)}};w.f=function(a){var d=[].slice.call(arguments,1);return function(){w.apply(null,\n",
       "[a,null].concat(d).concat([].slice.call(arguments,0)))}};w.stop=function(){v=1};w.nt=function(k){return k?(new RegExp(\"(?:\\\\.|\\\\/|^)\"+k+\"(?:\\\\.|\\\\/|$)\")).test(a):a};w.nts=function(){return a.split(k)};w.off=w.unbind=function(a,d){if(a){var f=a.split(L);if(1<f.length)for(var n=0,u=f.length;n<u;n++)w.off(f[n],d);else{for(var f=a.split(k),p,b,q,e,l=[y],n=0,u=f.length;n<u;n++)for(e=0;e<l.length;e+=q.length-2){q=[e,1];p=l[e].n;if(\"*\"!=f[n])p[f[n] ]&&q.push(p[f[n] ]);else for(b in p)p.hasOwnProperty(b)&&\n",
       "q.push(p[b]);l.splice.apply(l,q)}n=0;for(u=l.length;n<u;n++)for(p=l[n];p.n;){if(d){if(p.f){e=0;for(f=p.f.length;e<f;e++)if(p.f[e]==d){p.f.splice(e,1);break}!p.f.length&&delete p.f}for(b in p.n)if(p.n.hasOwnProperty(b)&&p.n[b].f){q=p.n[b].f;e=0;for(f=q.length;e<f;e++)if(q[e]==d){q.splice(e,1);break}!q.length&&delete p.n[b].f}}else for(b in delete p.f,p.n)p.n.hasOwnProperty(b)&&p.n[b].f&&delete p.n[b].f;p=p.n}}}else w._events=y={n:{}}};w.once=function(a,d){var f=function(){w.unbind(a,f);return d.apply(this,\n",
       "arguments)};return w.on(a,f)};w.version=\"0.4.2\";w.toString=function(){return\"You are running Eve 0.4.2\"};\"undefined\"!=typeof module&&module.exports?module.exports=w:\"function\"===typeof define&&define.amd?define(\"eve\",[],function(){return w}):N.eve=w})(this);\n",
       "(function(N,k){\"function\"===typeof define&&define.amd?define(\"Snap.svg\",[\"eve\"],function(L){return k(N,L)}):k(N,N.eve)})(this,function(N,k){var L=function(a){var k={},y=N.requestAnimationFrame||N.webkitRequestAnimationFrame||N.mozRequestAnimationFrame||N.oRequestAnimationFrame||N.msRequestAnimationFrame||function(a){setTimeout(a,16)},M=Array.isArray||function(a){return a instanceof Array||\"[object Array]\"==Object.prototype.toString.call(a)},A=0,w=\"M\"+(+new Date).toString(36),z=function(a){if(null==\n",
       "a)return this.s;var b=this.s-a;this.b+=this.dur*b;this.B+=this.dur*b;this.s=a},d=function(a){if(null==a)return this.spd;this.spd=a},f=function(a){if(null==a)return this.dur;this.s=this.s*a/this.dur;this.dur=a},n=function(){delete k[this.id];this.update();a(\"mina.stop.\"+this.id,this)},u=function(){this.pdif||(delete k[this.id],this.update(),this.pdif=this.get()-this.b)},p=function(){this.pdif&&(this.b=this.get()-this.pdif,delete this.pdif,k[this.id]=this)},b=function(){var a;if(M(this.start)){a=[];\n",
       "for(var b=0,e=this.start.length;b<e;b++)a[b]=+this.start[b]+(this.end[b]-this.start[b])*this.easing(this.s)}else a=+this.start+(this.end-this.start)*this.easing(this.s);this.set(a)},q=function(){var l=0,b;for(b in k)if(k.hasOwnProperty(b)){var e=k[b],f=e.get();l++;e.s=(f-e.b)/(e.dur/e.spd);1<=e.s&&(delete k[b],e.s=1,l--,function(b){setTimeout(function(){a(\"mina.finish.\"+b.id,b)})}(e));e.update()}l&&y(q)},e=function(a,r,s,x,G,h,J){a={id:w+(A++).toString(36),start:a,end:r,b:s,s:0,dur:x-s,spd:1,get:G,\n",
       "set:h,easing:J||e.linear,status:z,speed:d,duration:f,stop:n,pause:u,resume:p,update:b};k[a.id]=a;r=0;for(var K in k)if(k.hasOwnProperty(K)&&(r++,2==r))break;1==r&&y(q);return a};e.time=Date.now||function(){return+new Date};e.getById=function(a){return k[a]||null};e.linear=function(a){return a};e.easeout=function(a){return Math.pow(a,1.7)};e.easein=function(a){return Math.pow(a,0.48)};e.easeinout=function(a){if(1==a)return 1;if(0==a)return 0;var b=0.48-a/1.04,e=Math.sqrt(0.1734+b*b);a=e-b;a=Math.pow(Math.abs(a),\n",
       "1/3)*(0>a?-1:1);b=-e-b;b=Math.pow(Math.abs(b),1/3)*(0>b?-1:1);a=a+b+0.5;return 3*(1-a)*a*a+a*a*a};e.backin=function(a){return 1==a?1:a*a*(2.70158*a-1.70158)};e.backout=function(a){if(0==a)return 0;a-=1;return a*a*(2.70158*a+1.70158)+1};e.elastic=function(a){return a==!!a?a:Math.pow(2,-10*a)*Math.sin(2*(a-0.075)*Math.PI/0.3)+1};e.bounce=function(a){a<1/2.75?a*=7.5625*a:a<2/2.75?(a-=1.5/2.75,a=7.5625*a*a+0.75):a<2.5/2.75?(a-=2.25/2.75,a=7.5625*a*a+0.9375):(a-=2.625/2.75,a=7.5625*a*a+0.984375);return a};\n",
       "return N.mina=e}(\"undefined\"==typeof k?function(){}:k),C=function(){function a(c,t){if(c){if(c.tagName)return x(c);if(y(c,\"array\")&&a.set)return a.set.apply(a,c);if(c instanceof e)return c;if(null==t)return c=G.doc.querySelector(c),x(c)}return new s(null==c?\"100%\":c,null==t?\"100%\":t)}function v(c,a){if(a){\"#text\"==c&&(c=G.doc.createTextNode(a.text||\"\"));\"string\"==typeof c&&(c=v(c));if(\"string\"==typeof a)return\"xlink:\"==a.substring(0,6)?c.getAttributeNS(m,a.substring(6)):\"xml:\"==a.substring(0,4)?c.getAttributeNS(la,\n",
       "a.substring(4)):c.getAttribute(a);for(var da in a)if(a[h](da)){var b=J(a[da]);b?\"xlink:\"==da.substring(0,6)?c.setAttributeNS(m,da.substring(6),b):\"xml:\"==da.substring(0,4)?c.setAttributeNS(la,da.substring(4),b):c.setAttribute(da,b):c.removeAttribute(da)}}else c=G.doc.createElementNS(la,c);return c}function y(c,a){a=J.prototype.toLowerCase.call(a);return\"finite\"==a?isFinite(c):\"array\"==a&&(c instanceof Array||Array.isArray&&Array.isArray(c))?!0:\"null\"==a&&null===c||a==typeof c&&null!==c||\"object\"==\n",
       "a&&c===Object(c)||$.call(c).slice(8,-1).toLowerCase()==a}function M(c){if(\"function\"==typeof c||Object(c)!==c)return c;var a=new c.constructor,b;for(b in c)c[h](b)&&(a[b]=M(c[b]));return a}function A(c,a,b){function m(){var e=Array.prototype.slice.call(arguments,0),f=e.join(\"\\u2400\"),d=m.cache=m.cache||{},l=m.count=m.count||[];if(d[h](f)){a:for(var e=l,l=f,B=0,H=e.length;B<H;B++)if(e[B]===l){e.push(e.splice(B,1)[0]);break a}return b?b(d[f]):d[f]}1E3<=l.length&&delete d[l.shift()];l.push(f);d[f]=c.apply(a,\n",
       "e);return b?b(d[f]):d[f]}return m}function w(c,a,b,m,e,f){return null==e?(c-=b,a-=m,c||a?(180*I.atan2(-a,-c)/C+540)%360:0):w(c,a,e,f)-w(b,m,e,f)}function z(c){return c%360*C/180}function d(c){var a=[];c=c.replace(/(?:^|\\s)(\\w+)\\(([^)]+)\\)/g,function(c,b,m){m=m.split(/\\s*,\\s*|\\s+/);\"rotate\"==b&&1==m.length&&m.push(0,0);\"scale\"==b&&(2<m.length?m=m.slice(0,2):2==m.length&&m.push(0,0),1==m.length&&m.push(m[0],0,0));\"skewX\"==b?a.push([\"m\",1,0,I.tan(z(m[0])),1,0,0]):\"skewY\"==b?a.push([\"m\",1,I.tan(z(m[0])),\n",
       "0,1,0,0]):a.push([b.charAt(0)].concat(m));return c});return a}function f(c,t){var b=O(c),m=new a.Matrix;if(b)for(var e=0,f=b.length;e<f;e++){var h=b[e],d=h.length,B=J(h[0]).toLowerCase(),H=h[0]!=B,l=H?m.invert():0,E;\"t\"==B&&2==d?m.translate(h[1],0):\"t\"==B&&3==d?H?(d=l.x(0,0),B=l.y(0,0),H=l.x(h[1],h[2]),l=l.y(h[1],h[2]),m.translate(H-d,l-B)):m.translate(h[1],h[2]):\"r\"==B?2==d?(E=E||t,m.rotate(h[1],E.x+E.width/2,E.y+E.height/2)):4==d&&(H?(H=l.x(h[2],h[3]),l=l.y(h[2],h[3]),m.rotate(h[1],H,l)):m.rotate(h[1],\n",
       "h[2],h[3])):\"s\"==B?2==d||3==d?(E=E||t,m.scale(h[1],h[d-1],E.x+E.width/2,E.y+E.height/2)):4==d?H?(H=l.x(h[2],h[3]),l=l.y(h[2],h[3]),m.scale(h[1],h[1],H,l)):m.scale(h[1],h[1],h[2],h[3]):5==d&&(H?(H=l.x(h[3],h[4]),l=l.y(h[3],h[4]),m.scale(h[1],h[2],H,l)):m.scale(h[1],h[2],h[3],h[4])):\"m\"==B&&7==d&&m.add(h[1],h[2],h[3],h[4],h[5],h[6])}return m}function n(c,t){if(null==t){var m=!0;t=\"linearGradient\"==c.type||\"radialGradient\"==c.type?c.node.getAttribute(\"gradientTransform\"):\"pattern\"==c.type?c.node.getAttribute(\"patternTransform\"):\n",
       "c.node.getAttribute(\"transform\");if(!t)return new a.Matrix;t=d(t)}else t=a._.rgTransform.test(t)?J(t).replace(/\\.{3}|\\u2026/g,c._.transform||aa):d(t),y(t,\"array\")&&(t=a.path?a.path.toString.call(t):J(t)),c._.transform=t;var b=f(t,c.getBBox(1));if(m)return b;c.matrix=b}function u(c){c=c.node.ownerSVGElement&&x(c.node.ownerSVGElement)||c.node.parentNode&&x(c.node.parentNode)||a.select(\"svg\")||a(0,0);var t=c.select(\"defs\"),t=null==t?!1:t.node;t||(t=r(\"defs\",c.node).node);return t}function p(c){return c.node.ownerSVGElement&&\n",
       "x(c.node.ownerSVGElement)||a.select(\"svg\")}function b(c,a,m){function b(c){if(null==c)return aa;if(c==+c)return c;v(B,{width:c});try{return B.getBBox().width}catch(a){return 0}}function h(c){if(null==c)return aa;if(c==+c)return c;v(B,{height:c});try{return B.getBBox().height}catch(a){return 0}}function e(b,B){null==a?d[b]=B(c.attr(b)||0):b==a&&(d=B(null==m?c.attr(b)||0:m))}var f=p(c).node,d={},B=f.querySelector(\".svg---mgr\");B||(B=v(\"rect\"),v(B,{x:-9E9,y:-9E9,width:10,height:10,\"class\":\"svg---mgr\",\n",
       "fill:\"none\"}),f.appendChild(B));switch(c.type){case \"rect\":e(\"rx\",b),e(\"ry\",h);case \"image\":e(\"width\",b),e(\"height\",h);case \"text\":e(\"x\",b);e(\"y\",h);break;case \"circle\":e(\"cx\",b);e(\"cy\",h);e(\"r\",b);break;case \"ellipse\":e(\"cx\",b);e(\"cy\",h);e(\"rx\",b);e(\"ry\",h);break;case \"line\":e(\"x1\",b);e(\"x2\",b);e(\"y1\",h);e(\"y2\",h);break;case \"marker\":e(\"refX\",b);e(\"markerWidth\",b);e(\"refY\",h);e(\"markerHeight\",h);break;case \"radialGradient\":e(\"fx\",b);e(\"fy\",h);break;case \"tspan\":e(\"dx\",b);e(\"dy\",h);break;default:e(a,\n",
       "b)}f.removeChild(B);return d}function q(c){y(c,\"array\")||(c=Array.prototype.slice.call(arguments,0));for(var a=0,b=0,m=this.node;this[a];)delete this[a++];for(a=0;a<c.length;a++)\"set\"==c[a].type?c[a].forEach(function(c){m.appendChild(c.node)}):m.appendChild(c[a].node);for(var h=m.childNodes,a=0;a<h.length;a++)this[b++]=x(h[a]);return this}function e(c){if(c.snap in E)return E[c.snap];var a=this.id=V(),b;try{b=c.ownerSVGElement}catch(m){}this.node=c;b&&(this.paper=new s(b));this.type=c.tagName;this.anims=\n",
       "{};this._={transform:[]};c.snap=a;E[a]=this;\"g\"==this.type&&(this.add=q);if(this.type in{g:1,mask:1,pattern:1})for(var e in s.prototype)s.prototype[h](e)&&(this[e]=s.prototype[e])}function l(c){this.node=c}function r(c,a){var b=v(c);a.appendChild(b);return x(b)}function s(c,a){var b,m,f,d=s.prototype;if(c&&\"svg\"==c.tagName){if(c.snap in E)return E[c.snap];var l=c.ownerDocument;b=new e(c);m=c.getElementsByTagName(\"desc\")[0];f=c.getElementsByTagName(\"defs\")[0];m||(m=v(\"desc\"),m.appendChild(l.createTextNode(\"Created with Snap\")),\n",
       "b.node.appendChild(m));f||(f=v(\"defs\"),b.node.appendChild(f));b.defs=f;for(var ca in d)d[h](ca)&&(b[ca]=d[ca]);b.paper=b.root=b}else b=r(\"svg\",G.doc.body),v(b.node,{height:a,version:1.1,width:c,xmlns:la});return b}function x(c){return!c||c instanceof e||c instanceof l?c:c.tagName&&\"svg\"==c.tagName.toLowerCase()?new s(c):c.tagName&&\"object\"==c.tagName.toLowerCase()&&\"image/svg+xml\"==c.type?new s(c.contentDocument.getElementsByTagName(\"svg\")[0]):new e(c)}a.version=\"0.3.0\";a.toString=function(){return\"Snap v\"+\n",
       "this.version};a._={};var G={win:N,doc:N.document};a._.glob=G;var h=\"hasOwnProperty\",J=String,K=parseFloat,U=parseInt,I=Math,P=I.max,Q=I.min,Y=I.abs,C=I.PI,aa=\"\",$=Object.prototype.toString,F=/^\\s*((#[a-f\\d]{6})|(#[a-f\\d]{3})|rgba?\\(\\s*([\\d\\.]+%?\\s*,\\s*[\\d\\.]+%?\\s*,\\s*[\\d\\.]+%?(?:\\s*,\\s*[\\d\\.]+%?)?)\\s*\\)|hsba?\\(\\s*([\\d\\.]+(?:deg|\\xb0|%)?\\s*,\\s*[\\d\\.]+%?\\s*,\\s*[\\d\\.]+(?:%?\\s*,\\s*[\\d\\.]+)?%?)\\s*\\)|hsla?\\(\\s*([\\d\\.]+(?:deg|\\xb0|%)?\\s*,\\s*[\\d\\.]+%?\\s*,\\s*[\\d\\.]+(?:%?\\s*,\\s*[\\d\\.]+)?%?)\\s*\\))\\s*$/i;a._.separator=\n",
       "RegExp(\"[,\\t\\n\\x0B\\f\\r \\u00a0\\u1680\\u180e\\u2000\\u2001\\u2002\\u2003\\u2004\\u2005\\u2006\\u2007\\u2008\\u2009\\u200a\\u202f\\u205f\\u3000\\u2028\\u2029]+\");var S=RegExp(\"[\\t\\n\\x0B\\f\\r \\u00a0\\u1680\\u180e\\u2000\\u2001\\u2002\\u2003\\u2004\\u2005\\u2006\\u2007\\u2008\\u2009\\u200a\\u202f\\u205f\\u3000\\u2028\\u2029]*,[\\t\\n\\x0B\\f\\r \\u00a0\\u1680\\u180e\\u2000\\u2001\\u2002\\u2003\\u2004\\u2005\\u2006\\u2007\\u2008\\u2009\\u200a\\u202f\\u205f\\u3000\\u2028\\u2029]*\"),X={hs:1,rg:1},W=RegExp(\"([a-z])[\\t\\n\\x0B\\f\\r \\u00a0\\u1680\\u180e\\u2000\\u2001\\u2002\\u2003\\u2004\\u2005\\u2006\\u2007\\u2008\\u2009\\u200a\\u202f\\u205f\\u3000\\u2028\\u2029,]*((-?\\\\d*\\\\.?\\\\d*(?:e[\\\\-+]?\\\\d+)?[\\t\\n\\x0B\\f\\r \\u00a0\\u1680\\u180e\\u2000\\u2001\\u2002\\u2003\\u2004\\u2005\\u2006\\u2007\\u2008\\u2009\\u200a\\u202f\\u205f\\u3000\\u2028\\u2029]*,?[\\t\\n\\x0B\\f\\r \\u00a0\\u1680\\u180e\\u2000\\u2001\\u2002\\u2003\\u2004\\u2005\\u2006\\u2007\\u2008\\u2009\\u200a\\u202f\\u205f\\u3000\\u2028\\u2029]*)+)\",\n",
       "\"ig\"),ma=RegExp(\"([rstm])[\\t\\n\\x0B\\f\\r \\u00a0\\u1680\\u180e\\u2000\\u2001\\u2002\\u2003\\u2004\\u2005\\u2006\\u2007\\u2008\\u2009\\u200a\\u202f\\u205f\\u3000\\u2028\\u2029,]*((-?\\\\d*\\\\.?\\\\d*(?:e[\\\\-+]?\\\\d+)?[\\t\\n\\x0B\\f\\r \\u00a0\\u1680\\u180e\\u2000\\u2001\\u2002\\u2003\\u2004\\u2005\\u2006\\u2007\\u2008\\u2009\\u200a\\u202f\\u205f\\u3000\\u2028\\u2029]*,?[\\t\\n\\x0B\\f\\r \\u00a0\\u1680\\u180e\\u2000\\u2001\\u2002\\u2003\\u2004\\u2005\\u2006\\u2007\\u2008\\u2009\\u200a\\u202f\\u205f\\u3000\\u2028\\u2029]*)+)\",\"ig\"),Z=RegExp(\"(-?\\\\d*\\\\.?\\\\d*(?:e[\\\\-+]?\\\\d+)?)[\\t\\n\\x0B\\f\\r \\u00a0\\u1680\\u180e\\u2000\\u2001\\u2002\\u2003\\u2004\\u2005\\u2006\\u2007\\u2008\\u2009\\u200a\\u202f\\u205f\\u3000\\u2028\\u2029]*,?[\\t\\n\\x0B\\f\\r \\u00a0\\u1680\\u180e\\u2000\\u2001\\u2002\\u2003\\u2004\\u2005\\u2006\\u2007\\u2008\\u2009\\u200a\\u202f\\u205f\\u3000\\u2028\\u2029]*\",\n",
       "\"ig\"),na=0,ba=\"S\"+(+new Date).toString(36),V=function(){return ba+(na++).toString(36)},m=\"http://www.w3.org/1999/xlink\",la=\"http://www.w3.org/2000/svg\",E={},ca=a.url=function(c){return\"url('#\"+c+\"')\"};a._.$=v;a._.id=V;a.format=function(){var c=/\\{([^\\}]+)\\}/g,a=/(?:(?:^|\\.)(.+?)(?=\\[|\\.|$|\\()|\\[('|\")(.+?)\\2\\])(\\(\\))?/g,b=function(c,b,m){var h=m;b.replace(a,function(c,a,b,m,t){a=a||m;h&&(a in h&&(h=h[a]),\"function\"==typeof h&&t&&(h=h()))});return h=(null==h||h==m?c:h)+\"\"};return function(a,m){return J(a).replace(c,\n",
       "function(c,a){return b(c,a,m)})}}();a._.clone=M;a._.cacher=A;a.rad=z;a.deg=function(c){return 180*c/C%360};a.angle=w;a.is=y;a.snapTo=function(c,a,b){b=y(b,\"finite\")?b:10;if(y(c,\"array\"))for(var m=c.length;m--;){if(Y(c[m]-a)<=b)return c[m]}else{c=+c;m=a%c;if(m<b)return a-m;if(m>c-b)return a-m+c}return a};a.getRGB=A(function(c){if(!c||(c=J(c)).indexOf(\"-\")+1)return{r:-1,g:-1,b:-1,hex:\"none\",error:1,toString:ka};if(\"none\"==c)return{r:-1,g:-1,b:-1,hex:\"none\",toString:ka};!X[h](c.toLowerCase().substring(0,\n",
       "2))&&\"#\"!=c.charAt()&&(c=T(c));if(!c)return{r:-1,g:-1,b:-1,hex:\"none\",error:1,toString:ka};var b,m,e,f,d;if(c=c.match(F)){c[2]&&(e=U(c[2].substring(5),16),m=U(c[2].substring(3,5),16),b=U(c[2].substring(1,3),16));c[3]&&(e=U((d=c[3].charAt(3))+d,16),m=U((d=c[3].charAt(2))+d,16),b=U((d=c[3].charAt(1))+d,16));c[4]&&(d=c[4].split(S),b=K(d[0]),\"%\"==d[0].slice(-1)&&(b*=2.55),m=K(d[1]),\"%\"==d[1].slice(-1)&&(m*=2.55),e=K(d[2]),\"%\"==d[2].slice(-1)&&(e*=2.55),\"rgba\"==c[1].toLowerCase().slice(0,4)&&(f=K(d[3])),\n",
       "d[3]&&\"%\"==d[3].slice(-1)&&(f/=100));if(c[5])return d=c[5].split(S),b=K(d[0]),\"%\"==d[0].slice(-1)&&(b/=100),m=K(d[1]),\"%\"==d[1].slice(-1)&&(m/=100),e=K(d[2]),\"%\"==d[2].slice(-1)&&(e/=100),\"deg\"!=d[0].slice(-3)&&\"\\u00b0\"!=d[0].slice(-1)||(b/=360),\"hsba\"==c[1].toLowerCase().slice(0,4)&&(f=K(d[3])),d[3]&&\"%\"==d[3].slice(-1)&&(f/=100),a.hsb2rgb(b,m,e,f);if(c[6])return d=c[6].split(S),b=K(d[0]),\"%\"==d[0].slice(-1)&&(b/=100),m=K(d[1]),\"%\"==d[1].slice(-1)&&(m/=100),e=K(d[2]),\"%\"==d[2].slice(-1)&&(e/=100),\n",
       "\"deg\"!=d[0].slice(-3)&&\"\\u00b0\"!=d[0].slice(-1)||(b/=360),\"hsla\"==c[1].toLowerCase().slice(0,4)&&(f=K(d[3])),d[3]&&\"%\"==d[3].slice(-1)&&(f/=100),a.hsl2rgb(b,m,e,f);b=Q(I.round(b),255);m=Q(I.round(m),255);e=Q(I.round(e),255);f=Q(P(f,0),1);c={r:b,g:m,b:e,toString:ka};c.hex=\"#\"+(16777216|e|m<<8|b<<16).toString(16).slice(1);c.opacity=y(f,\"finite\")?f:1;return c}return{r:-1,g:-1,b:-1,hex:\"none\",error:1,toString:ka}},a);a.hsb=A(function(c,b,m){return a.hsb2rgb(c,b,m).hex});a.hsl=A(function(c,b,m){return a.hsl2rgb(c,\n",
       "b,m).hex});a.rgb=A(function(c,a,b,m){if(y(m,\"finite\")){var e=I.round;return\"rgba(\"+[e(c),e(a),e(b),+m.toFixed(2)]+\")\"}return\"#\"+(16777216|b|a<<8|c<<16).toString(16).slice(1)});var T=function(c){var a=G.doc.getElementsByTagName(\"head\")[0]||G.doc.getElementsByTagName(\"svg\")[0];T=A(function(c){if(\"red\"==c.toLowerCase())return\"rgb(255, 0, 0)\";a.style.color=\"rgb(255, 0, 0)\";a.style.color=c;c=G.doc.defaultView.getComputedStyle(a,aa).getPropertyValue(\"color\");return\"rgb(255, 0, 0)\"==c?null:c});return T(c)},\n",
       "qa=function(){return\"hsb(\"+[this.h,this.s,this.b]+\")\"},ra=function(){return\"hsl(\"+[this.h,this.s,this.l]+\")\"},ka=function(){return 1==this.opacity||null==this.opacity?this.hex:\"rgba(\"+[this.r,this.g,this.b,this.opacity]+\")\"},D=function(c,b,m){null==b&&y(c,\"object\")&&\"r\"in c&&\"g\"in c&&\"b\"in c&&(m=c.b,b=c.g,c=c.r);null==b&&y(c,string)&&(m=a.getRGB(c),c=m.r,b=m.g,m=m.b);if(1<c||1<b||1<m)c/=255,b/=255,m/=255;return[c,b,m]},oa=function(c,b,m,e){c=I.round(255*c);b=I.round(255*b);m=I.round(255*m);c={r:c,\n",
       "g:b,b:m,opacity:y(e,\"finite\")?e:1,hex:a.rgb(c,b,m),toString:ka};y(e,\"finite\")&&(c.opacity=e);return c};a.color=function(c){var b;y(c,\"object\")&&\"h\"in c&&\"s\"in c&&\"b\"in c?(b=a.hsb2rgb(c),c.r=b.r,c.g=b.g,c.b=b.b,c.opacity=1,c.hex=b.hex):y(c,\"object\")&&\"h\"in c&&\"s\"in c&&\"l\"in c?(b=a.hsl2rgb(c),c.r=b.r,c.g=b.g,c.b=b.b,c.opacity=1,c.hex=b.hex):(y(c,\"string\")&&(c=a.getRGB(c)),y(c,\"object\")&&\"r\"in c&&\"g\"in c&&\"b\"in c&&!(\"error\"in c)?(b=a.rgb2hsl(c),c.h=b.h,c.s=b.s,c.l=b.l,b=a.rgb2hsb(c),c.v=b.b):(c={hex:\"none\"},\n",
       "c.r=c.g=c.b=c.h=c.s=c.v=c.l=-1,c.error=1));c.toString=ka;return c};a.hsb2rgb=function(c,a,b,m){y(c,\"object\")&&\"h\"in c&&\"s\"in c&&\"b\"in c&&(b=c.b,a=c.s,c=c.h,m=c.o);var e,h,d;c=360*c%360/60;d=b*a;a=d*(1-Y(c%2-1));b=e=h=b-d;c=~~c;b+=[d,a,0,0,a,d][c];e+=[a,d,d,a,0,0][c];h+=[0,0,a,d,d,a][c];return oa(b,e,h,m)};a.hsl2rgb=function(c,a,b,m){y(c,\"object\")&&\"h\"in c&&\"s\"in c&&\"l\"in c&&(b=c.l,a=c.s,c=c.h);if(1<c||1<a||1<b)c/=360,a/=100,b/=100;var e,h,d;c=360*c%360/60;d=2*a*(0.5>b?b:1-b);a=d*(1-Y(c%2-1));b=e=\n",
       "h=b-d/2;c=~~c;b+=[d,a,0,0,a,d][c];e+=[a,d,d,a,0,0][c];h+=[0,0,a,d,d,a][c];return oa(b,e,h,m)};a.rgb2hsb=function(c,a,b){b=D(c,a,b);c=b[0];a=b[1];b=b[2];var m,e;m=P(c,a,b);e=m-Q(c,a,b);c=((0==e?0:m==c?(a-b)/e:m==a?(b-c)/e+2:(c-a)/e+4)+360)%6*60/360;return{h:c,s:0==e?0:e/m,b:m,toString:qa}};a.rgb2hsl=function(c,a,b){b=D(c,a,b);c=b[0];a=b[1];b=b[2];var m,e,h;m=P(c,a,b);e=Q(c,a,b);h=m-e;c=((0==h?0:m==c?(a-b)/h:m==a?(b-c)/h+2:(c-a)/h+4)+360)%6*60/360;m=(m+e)/2;return{h:c,s:0==h?0:0.5>m?h/(2*m):h/(2-2*\n",
       "m),l:m,toString:ra}};a.parsePathString=function(c){if(!c)return null;var b=a.path(c);if(b.arr)return a.path.clone(b.arr);var m={a:7,c:6,o:2,h:1,l:2,m:2,r:4,q:4,s:4,t:2,v:1,u:3,z:0},e=[];y(c,\"array\")&&y(c[0],\"array\")&&(e=a.path.clone(c));e.length||J(c).replace(W,function(c,a,b){var h=[];c=a.toLowerCase();b.replace(Z,function(c,a){a&&h.push(+a)});\"m\"==c&&2<h.length&&(e.push([a].concat(h.splice(0,2))),c=\"l\",a=\"m\"==a?\"l\":\"L\");\"o\"==c&&1==h.length&&e.push([a,h[0] ]);if(\"r\"==c)e.push([a].concat(h));else for(;h.length>=\n",
       "m[c]&&(e.push([a].concat(h.splice(0,m[c]))),m[c]););});e.toString=a.path.toString;b.arr=a.path.clone(e);return e};var O=a.parseTransformString=function(c){if(!c)return null;var b=[];y(c,\"array\")&&y(c[0],\"array\")&&(b=a.path.clone(c));b.length||J(c).replace(ma,function(c,a,m){var e=[];a.toLowerCase();m.replace(Z,function(c,a){a&&e.push(+a)});b.push([a].concat(e))});b.toString=a.path.toString;return b};a._.svgTransform2string=d;a._.rgTransform=RegExp(\"^[a-z][\\t\\n\\x0B\\f\\r \\u00a0\\u1680\\u180e\\u2000\\u2001\\u2002\\u2003\\u2004\\u2005\\u2006\\u2007\\u2008\\u2009\\u200a\\u202f\\u205f\\u3000\\u2028\\u2029]*-?\\\\.?\\\\d\",\n",
       "\"i\");a._.transform2matrix=f;a._unit2px=b;a._.getSomeDefs=u;a._.getSomeSVG=p;a.select=function(c){return x(G.doc.querySelector(c))};a.selectAll=function(c){c=G.doc.querySelectorAll(c);for(var b=(a.set||Array)(),m=0;m<c.length;m++)b.push(x(c[m]));return b};setInterval(function(){for(var c in E)if(E[h](c)){var a=E[c],b=a.node;(\"svg\"!=a.type&&!b.ownerSVGElement||\"svg\"==a.type&&(!b.parentNode||\"ownerSVGElement\"in b.parentNode&&!b.ownerSVGElement))&&delete E[c]}},1E4);(function(c){function m(c){function a(c,\n",
       "b){var m=v(c.node,b);(m=(m=m&&m.match(d))&&m[2])&&\"#\"==m.charAt()&&(m=m.substring(1))&&(f[m]=(f[m]||[]).concat(function(a){var m={};m[b]=ca(a);v(c.node,m)}))}function b(c){var a=v(c.node,\"xlink:href\");a&&\"#\"==a.charAt()&&(a=a.substring(1))&&(f[a]=(f[a]||[]).concat(function(a){c.attr(\"xlink:href\",\"#\"+a)}))}var e=c.selectAll(\"*\"),h,d=/^\\s*url\\((\"|'|)(.*)\\1\\)\\s*$/;c=[];for(var f={},l=0,E=e.length;l<E;l++){h=e[l];a(h,\"fill\");a(h,\"stroke\");a(h,\"filter\");a(h,\"mask\");a(h,\"clip-path\");b(h);var t=v(h.node,\n",
       "\"id\");t&&(v(h.node,{id:h.id}),c.push({old:t,id:h.id}))}l=0;for(E=c.length;l<E;l++)if(e=f[c[l].old])for(h=0,t=e.length;h<t;h++)e[h](c[l].id)}function e(c,a,b){return function(m){m=m.slice(c,a);1==m.length&&(m=m[0]);return b?b(m):m}}function d(c){return function(){var a=c?\"<\"+this.type:\"\",b=this.node.attributes,m=this.node.childNodes;if(c)for(var e=0,h=b.length;e<h;e++)a+=\" \"+b[e].name+'=\"'+b[e].value.replace(/\"/g,'\\\\\"')+'\"';if(m.length){c&&(a+=\">\");e=0;for(h=m.length;e<h;e++)3==m[e].nodeType?a+=m[e].nodeValue:\n",
       "1==m[e].nodeType&&(a+=x(m[e]).toString());c&&(a+=\"</\"+this.type+\">\")}else c&&(a+=\"/>\");return a}}c.attr=function(c,a){if(!c)return this;if(y(c,\"string\"))if(1<arguments.length){var b={};b[c]=a;c=b}else return k(\"snap.util.getattr.\"+c,this).firstDefined();for(var m in c)c[h](m)&&k(\"snap.util.attr.\"+m,this,c[m]);return this};c.getBBox=function(c){if(!a.Matrix||!a.path)return this.node.getBBox();var b=this,m=new a.Matrix;if(b.removed)return a._.box();for(;\"use\"==b.type;)if(c||(m=m.add(b.transform().localMatrix.translate(b.attr(\"x\")||\n",
       "0,b.attr(\"y\")||0))),b.original)b=b.original;else var e=b.attr(\"xlink:href\"),b=b.original=b.node.ownerDocument.getElementById(e.substring(e.indexOf(\"#\")+1));var e=b._,h=a.path.get[b.type]||a.path.get.deflt;try{if(c)return e.bboxwt=h?a.path.getBBox(b.realPath=h(b)):a._.box(b.node.getBBox()),a._.box(e.bboxwt);b.realPath=h(b);b.matrix=b.transform().localMatrix;e.bbox=a.path.getBBox(a.path.map(b.realPath,m.add(b.matrix)));return a._.box(e.bbox)}catch(d){return a._.box()}};var f=function(){return this.string};\n",
       "c.transform=function(c){var b=this._;if(null==c){var m=this;c=new a.Matrix(this.node.getCTM());for(var e=n(this),h=[e],d=new a.Matrix,l=e.toTransformString(),b=J(e)==J(this.matrix)?J(b.transform):l;\"svg\"!=m.type&&(m=m.parent());)h.push(n(m));for(m=h.length;m--;)d.add(h[m]);return{string:b,globalMatrix:c,totalMatrix:d,localMatrix:e,diffMatrix:c.clone().add(e.invert()),global:c.toTransformString(),total:d.toTransformString(),local:l,toString:f}}c instanceof a.Matrix?this.matrix=c:n(this,c);this.node&&\n",
       "(\"linearGradient\"==this.type||\"radialGradient\"==this.type?v(this.node,{gradientTransform:this.matrix}):\"pattern\"==this.type?v(this.node,{patternTransform:this.matrix}):v(this.node,{transform:this.matrix}));return this};c.parent=function(){return x(this.node.parentNode)};c.append=c.add=function(c){if(c){if(\"set\"==c.type){var a=this;c.forEach(function(c){a.add(c)});return this}c=x(c);this.node.appendChild(c.node);c.paper=this.paper}return this};c.appendTo=function(c){c&&(c=x(c),c.append(this));return this};\n",
       "c.prepend=function(c){if(c){if(\"set\"==c.type){var a=this,b;c.forEach(function(c){b?b.after(c):a.prepend(c);b=c});return this}c=x(c);var m=c.parent();this.node.insertBefore(c.node,this.node.firstChild);this.add&&this.add();c.paper=this.paper;this.parent()&&this.parent().add();m&&m.add()}return this};c.prependTo=function(c){c=x(c);c.prepend(this);return this};c.before=function(c){if(\"set\"==c.type){var a=this;c.forEach(function(c){var b=c.parent();a.node.parentNode.insertBefore(c.node,a.node);b&&b.add()});\n",
       "this.parent().add();return this}c=x(c);var b=c.parent();this.node.parentNode.insertBefore(c.node,this.node);this.parent()&&this.parent().add();b&&b.add();c.paper=this.paper;return this};c.after=function(c){c=x(c);var a=c.parent();this.node.nextSibling?this.node.parentNode.insertBefore(c.node,this.node.nextSibling):this.node.parentNode.appendChild(c.node);this.parent()&&this.parent().add();a&&a.add();c.paper=this.paper;return this};c.insertBefore=function(c){c=x(c);var a=this.parent();c.node.parentNode.insertBefore(this.node,\n",
       "c.node);this.paper=c.paper;a&&a.add();c.parent()&&c.parent().add();return this};c.insertAfter=function(c){c=x(c);var a=this.parent();c.node.parentNode.insertBefore(this.node,c.node.nextSibling);this.paper=c.paper;a&&a.add();c.parent()&&c.parent().add();return this};c.remove=function(){var c=this.parent();this.node.parentNode&&this.node.parentNode.removeChild(this.node);delete this.paper;this.removed=!0;c&&c.add();return this};c.select=function(c){return x(this.node.querySelector(c))};c.selectAll=\n",
       "function(c){c=this.node.querySelectorAll(c);for(var b=(a.set||Array)(),m=0;m<c.length;m++)b.push(x(c[m]));return b};c.asPX=function(c,a){null==a&&(a=this.attr(c));return+b(this,c,a)};c.use=function(){var c,a=this.node.id;a||(a=this.id,v(this.node,{id:a}));c=\"linearGradient\"==this.type||\"radialGradient\"==this.type||\"pattern\"==this.type?r(this.type,this.node.parentNode):r(\"use\",this.node.parentNode);v(c.node,{\"xlink:href\":\"#\"+a});c.original=this;return c};var l=/\\S+/g;c.addClass=function(c){var a=(c||\n",
       "\"\").match(l)||[];c=this.node;var b=c.className.baseVal,m=b.match(l)||[],e,h,d;if(a.length){for(e=0;d=a[e++];)h=m.indexOf(d),~h||m.push(d);a=m.join(\" \");b!=a&&(c.className.baseVal=a)}return this};c.removeClass=function(c){var a=(c||\"\").match(l)||[];c=this.node;var b=c.className.baseVal,m=b.match(l)||[],e,h;if(m.length){for(e=0;h=a[e++];)h=m.indexOf(h),~h&&m.splice(h,1);a=m.join(\" \");b!=a&&(c.className.baseVal=a)}return this};c.hasClass=function(c){return!!~(this.node.className.baseVal.match(l)||[]).indexOf(c)};\n",
       "c.toggleClass=function(c,a){if(null!=a)return a?this.addClass(c):this.removeClass(c);var b=(c||\"\").match(l)||[],m=this.node,e=m.className.baseVal,h=e.match(l)||[],d,f,E;for(d=0;E=b[d++];)f=h.indexOf(E),~f?h.splice(f,1):h.push(E);b=h.join(\" \");e!=b&&(m.className.baseVal=b);return this};c.clone=function(){var c=x(this.node.cloneNode(!0));v(c.node,\"id\")&&v(c.node,{id:c.id});m(c);c.insertAfter(this);return c};c.toDefs=function(){u(this).appendChild(this.node);return this};c.pattern=c.toPattern=function(c,\n",
       "a,b,m){var e=r(\"pattern\",u(this));null==c&&(c=this.getBBox());y(c,\"object\")&&\"x\"in c&&(a=c.y,b=c.width,m=c.height,c=c.x);v(e.node,{x:c,y:a,width:b,height:m,patternUnits:\"userSpaceOnUse\",id:e.id,viewBox:[c,a,b,m].join(\" \")});e.node.appendChild(this.node);return e};c.marker=function(c,a,b,m,e,h){var d=r(\"marker\",u(this));null==c&&(c=this.getBBox());y(c,\"object\")&&\"x\"in c&&(a=c.y,b=c.width,m=c.height,e=c.refX||c.cx,h=c.refY||c.cy,c=c.x);v(d.node,{viewBox:[c,a,b,m].join(\" \"),markerWidth:b,markerHeight:m,\n",
       "orient:\"auto\",refX:e||0,refY:h||0,id:d.id});d.node.appendChild(this.node);return d};var E=function(c,a,b,m){\"function\"!=typeof b||b.length||(m=b,b=L.linear);this.attr=c;this.dur=a;b&&(this.easing=b);m&&(this.callback=m)};a._.Animation=E;a.animation=function(c,a,b,m){return new E(c,a,b,m)};c.inAnim=function(){var c=[],a;for(a in this.anims)this.anims[h](a)&&function(a){c.push({anim:new E(a._attrs,a.dur,a.easing,a._callback),mina:a,curStatus:a.status(),status:function(c){return a.status(c)},stop:function(){a.stop()}})}(this.anims[a]);\n",
       "return c};a.animate=function(c,a,b,m,e,h){\"function\"!=typeof e||e.length||(h=e,e=L.linear);var d=L.time();c=L(c,a,d,d+m,L.time,b,e);h&&k.once(\"mina.finish.\"+c.id,h);return c};c.stop=function(){for(var c=this.inAnim(),a=0,b=c.length;a<b;a++)c[a].stop();return this};c.animate=function(c,a,b,m){\"function\"!=typeof b||b.length||(m=b,b=L.linear);c instanceof E&&(m=c.callback,b=c.easing,a=b.dur,c=c.attr);var d=[],f=[],l={},t,ca,n,T=this,q;for(q in c)if(c[h](q)){T.equal?(n=T.equal(q,J(c[q])),t=n.from,ca=\n",
       "n.to,n=n.f):(t=+T.attr(q),ca=+c[q]);var la=y(t,\"array\")?t.length:1;l[q]=e(d.length,d.length+la,n);d=d.concat(t);f=f.concat(ca)}t=L.time();var p=L(d,f,t,t+a,L.time,function(c){var a={},b;for(b in l)l[h](b)&&(a[b]=l[b](c));T.attr(a)},b);T.anims[p.id]=p;p._attrs=c;p._callback=m;k(\"snap.animcreated.\"+T.id,p);k.once(\"mina.finish.\"+p.id,function(){delete T.anims[p.id];m&&m.call(T)});k.once(\"mina.stop.\"+p.id,function(){delete T.anims[p.id]});return T};var T={};c.data=function(c,b){var m=T[this.id]=T[this.id]||\n",
       "{};if(0==arguments.length)return k(\"snap.data.get.\"+this.id,this,m,null),m;if(1==arguments.length){if(a.is(c,\"object\")){for(var e in c)c[h](e)&&this.data(e,c[e]);return this}k(\"snap.data.get.\"+this.id,this,m[c],c);return m[c]}m[c]=b;k(\"snap.data.set.\"+this.id,this,b,c);return this};c.removeData=function(c){null==c?T[this.id]={}:T[this.id]&&delete T[this.id][c];return this};c.outerSVG=c.toString=d(1);c.innerSVG=d()})(e.prototype);a.parse=function(c){var a=G.doc.createDocumentFragment(),b=!0,m=G.doc.createElement(\"div\");\n",
       "c=J(c);c.match(/^\\s*<\\s*svg(?:\\s|>)/)||(c=\"<svg>\"+c+\"</svg>\",b=!1);m.innerHTML=c;if(c=m.getElementsByTagName(\"svg\")[0])if(b)a=c;else for(;c.firstChild;)a.appendChild(c.firstChild);m.innerHTML=aa;return new l(a)};l.prototype.select=e.prototype.select;l.prototype.selectAll=e.prototype.selectAll;a.fragment=function(){for(var c=Array.prototype.slice.call(arguments,0),b=G.doc.createDocumentFragment(),m=0,e=c.length;m<e;m++){var h=c[m];h.node&&h.node.nodeType&&b.appendChild(h.node);h.nodeType&&b.appendChild(h);\n",
       "\"string\"==typeof h&&b.appendChild(a.parse(h).node)}return new l(b)};a._.make=r;a._.wrap=x;s.prototype.el=function(c,a){var b=r(c,this.node);a&&b.attr(a);return b};k.on(\"snap.util.getattr\",function(){var c=k.nt(),c=c.substring(c.lastIndexOf(\".\")+1),a=c.replace(/[A-Z]/g,function(c){return\"-\"+c.toLowerCase()});return pa[h](a)?this.node.ownerDocument.defaultView.getComputedStyle(this.node,null).getPropertyValue(a):v(this.node,c)});var pa={\"alignment-baseline\":0,\"baseline-shift\":0,clip:0,\"clip-path\":0,\n",
       "\"clip-rule\":0,color:0,\"color-interpolation\":0,\"color-interpolation-filters\":0,\"color-profile\":0,\"color-rendering\":0,cursor:0,direction:0,display:0,\"dominant-baseline\":0,\"enable-background\":0,fill:0,\"fill-opacity\":0,\"fill-rule\":0,filter:0,\"flood-color\":0,\"flood-opacity\":0,font:0,\"font-family\":0,\"font-size\":0,\"font-size-adjust\":0,\"font-stretch\":0,\"font-style\":0,\"font-variant\":0,\"font-weight\":0,\"glyph-orientation-horizontal\":0,\"glyph-orientation-vertical\":0,\"image-rendering\":0,kerning:0,\"letter-spacing\":0,\n",
       "\"lighting-color\":0,marker:0,\"marker-end\":0,\"marker-mid\":0,\"marker-start\":0,mask:0,opacity:0,overflow:0,\"pointer-events\":0,\"shape-rendering\":0,\"stop-color\":0,\"stop-opacity\":0,stroke:0,\"stroke-dasharray\":0,\"stroke-dashoffset\":0,\"stroke-linecap\":0,\"stroke-linejoin\":0,\"stroke-miterlimit\":0,\"stroke-opacity\":0,\"stroke-width\":0,\"text-anchor\":0,\"text-decoration\":0,\"text-rendering\":0,\"unicode-bidi\":0,visibility:0,\"word-spacing\":0,\"writing-mode\":0};k.on(\"snap.util.attr\",function(c){var a=k.nt(),b={},a=a.substring(a.lastIndexOf(\".\")+\n",
       "1);b[a]=c;var m=a.replace(/-(\\w)/gi,function(c,a){return a.toUpperCase()}),a=a.replace(/[A-Z]/g,function(c){return\"-\"+c.toLowerCase()});pa[h](a)?this.node.style[m]=null==c?aa:c:v(this.node,b)});a.ajax=function(c,a,b,m){var e=new XMLHttpRequest,h=V();if(e){if(y(a,\"function\"))m=b,b=a,a=null;else if(y(a,\"object\")){var d=[],f;for(f in a)a.hasOwnProperty(f)&&d.push(encodeURIComponent(f)+\"=\"+encodeURIComponent(a[f]));a=d.join(\"&\")}e.open(a?\"POST\":\"GET\",c,!0);a&&(e.setRequestHeader(\"X-Requested-With\",\"XMLHttpRequest\"),\n",
       "e.setRequestHeader(\"Content-type\",\"application/x-www-form-urlencoded\"));b&&(k.once(\"snap.ajax.\"+h+\".0\",b),k.once(\"snap.ajax.\"+h+\".200\",b),k.once(\"snap.ajax.\"+h+\".304\",b));e.onreadystatechange=function(){4==e.readyState&&k(\"snap.ajax.\"+h+\".\"+e.status,m,e)};if(4==e.readyState)return e;e.send(a);return e}};a.load=function(c,b,m){a.ajax(c,function(c){c=a.parse(c.responseText);m?b.call(m,c):b(c)})};a.getElementByPoint=function(c,a){var b,m,e=G.doc.elementFromPoint(c,a);if(G.win.opera&&\"svg\"==e.tagName){b=\n",
       "e;m=b.getBoundingClientRect();b=b.ownerDocument;var h=b.body,d=b.documentElement;b=m.top+(g.win.pageYOffset||d.scrollTop||h.scrollTop)-(d.clientTop||h.clientTop||0);m=m.left+(g.win.pageXOffset||d.scrollLeft||h.scrollLeft)-(d.clientLeft||h.clientLeft||0);h=e.createSVGRect();h.x=c-m;h.y=a-b;h.width=h.height=1;b=e.getIntersectionList(h,null);b.length&&(e=b[b.length-1])}return e?x(e):null};a.plugin=function(c){c(a,e,s,G,l)};return G.win.Snap=a}();C.plugin(function(a,k,y,M,A){function w(a,d,f,b,q,e){null==\n",
       "d&&\"[object SVGMatrix]\"==z.call(a)?(this.a=a.a,this.b=a.b,this.c=a.c,this.d=a.d,this.e=a.e,this.f=a.f):null!=a?(this.a=+a,this.b=+d,this.c=+f,this.d=+b,this.e=+q,this.f=+e):(this.a=1,this.c=this.b=0,this.d=1,this.f=this.e=0)}var z=Object.prototype.toString,d=String,f=Math;(function(n){function k(a){return a[0]*a[0]+a[1]*a[1]}function p(a){var d=f.sqrt(k(a));a[0]&&(a[0]/=d);a[1]&&(a[1]/=d)}n.add=function(a,d,e,f,n,p){var k=[[],[],[] ],u=[[this.a,this.c,this.e],[this.b,this.d,this.f],[0,0,1] ];d=[[a,\n",
       "e,n],[d,f,p],[0,0,1] ];a&&a instanceof w&&(d=[[a.a,a.c,a.e],[a.b,a.d,a.f],[0,0,1] ]);for(a=0;3>a;a++)for(e=0;3>e;e++){for(f=n=0;3>f;f++)n+=u[a][f]*d[f][e];k[a][e]=n}this.a=k[0][0];this.b=k[1][0];this.c=k[0][1];this.d=k[1][1];this.e=k[0][2];this.f=k[1][2];return this};n.invert=function(){var a=this.a*this.d-this.b*this.c;return new w(this.d/a,-this.b/a,-this.c/a,this.a/a,(this.c*this.f-this.d*this.e)/a,(this.b*this.e-this.a*this.f)/a)};n.clone=function(){return new w(this.a,this.b,this.c,this.d,this.e,\n",
       "this.f)};n.translate=function(a,d){return this.add(1,0,0,1,a,d)};n.scale=function(a,d,e,f){null==d&&(d=a);(e||f)&&this.add(1,0,0,1,e,f);this.add(a,0,0,d,0,0);(e||f)&&this.add(1,0,0,1,-e,-f);return this};n.rotate=function(b,d,e){b=a.rad(b);d=d||0;e=e||0;var l=+f.cos(b).toFixed(9);b=+f.sin(b).toFixed(9);this.add(l,b,-b,l,d,e);return this.add(1,0,0,1,-d,-e)};n.x=function(a,d){return a*this.a+d*this.c+this.e};n.y=function(a,d){return a*this.b+d*this.d+this.f};n.get=function(a){return+this[d.fromCharCode(97+\n",
       "a)].toFixed(4)};n.toString=function(){return\"matrix(\"+[this.get(0),this.get(1),this.get(2),this.get(3),this.get(4),this.get(5)].join()+\")\"};n.offset=function(){return[this.e.toFixed(4),this.f.toFixed(4)]};n.determinant=function(){return this.a*this.d-this.b*this.c};n.split=function(){var b={};b.dx=this.e;b.dy=this.f;var d=[[this.a,this.c],[this.b,this.d] ];b.scalex=f.sqrt(k(d[0]));p(d[0]);b.shear=d[0][0]*d[1][0]+d[0][1]*d[1][1];d[1]=[d[1][0]-d[0][0]*b.shear,d[1][1]-d[0][1]*b.shear];b.scaley=f.sqrt(k(d[1]));\n",
       "p(d[1]);b.shear/=b.scaley;0>this.determinant()&&(b.scalex=-b.scalex);var e=-d[0][1],d=d[1][1];0>d?(b.rotate=a.deg(f.acos(d)),0>e&&(b.rotate=360-b.rotate)):b.rotate=a.deg(f.asin(e));b.isSimple=!+b.shear.toFixed(9)&&(b.scalex.toFixed(9)==b.scaley.toFixed(9)||!b.rotate);b.isSuperSimple=!+b.shear.toFixed(9)&&b.scalex.toFixed(9)==b.scaley.toFixed(9)&&!b.rotate;b.noRotation=!+b.shear.toFixed(9)&&!b.rotate;return b};n.toTransformString=function(a){a=a||this.split();if(+a.shear.toFixed(9))return\"m\"+[this.get(0),\n",
       "this.get(1),this.get(2),this.get(3),this.get(4),this.get(5)];a.scalex=+a.scalex.toFixed(4);a.scaley=+a.scaley.toFixed(4);a.rotate=+a.rotate.toFixed(4);return(a.dx||a.dy?\"t\"+[+a.dx.toFixed(4),+a.dy.toFixed(4)]:\"\")+(1!=a.scalex||1!=a.scaley?\"s\"+[a.scalex,a.scaley,0,0]:\"\")+(a.rotate?\"r\"+[+a.rotate.toFixed(4),0,0]:\"\")}})(w.prototype);a.Matrix=w;a.matrix=function(a,d,f,b,k,e){return new w(a,d,f,b,k,e)}});C.plugin(function(a,v,y,M,A){function w(h){return function(d){k.stop();d instanceof A&&1==d.node.childNodes.length&&\n",
       "(\"radialGradient\"==d.node.firstChild.tagName||\"linearGradient\"==d.node.firstChild.tagName||\"pattern\"==d.node.firstChild.tagName)&&(d=d.node.firstChild,b(this).appendChild(d),d=u(d));if(d instanceof v)if(\"radialGradient\"==d.type||\"linearGradient\"==d.type||\"pattern\"==d.type){d.node.id||e(d.node,{id:d.id});var f=l(d.node.id)}else f=d.attr(h);else f=a.color(d),f.error?(f=a(b(this).ownerSVGElement).gradient(d))?(f.node.id||e(f.node,{id:f.id}),f=l(f.node.id)):f=d:f=r(f);d={};d[h]=f;e(this.node,d);this.node.style[h]=\n",
       "x}}function z(a){k.stop();a==+a&&(a+=\"px\");this.node.style.fontSize=a}function d(a){var b=[];a=a.childNodes;for(var e=0,f=a.length;e<f;e++){var l=a[e];3==l.nodeType&&b.push(l.nodeValue);\"tspan\"==l.tagName&&(1==l.childNodes.length&&3==l.firstChild.nodeType?b.push(l.firstChild.nodeValue):b.push(d(l)))}return b}function f(){k.stop();return this.node.style.fontSize}var n=a._.make,u=a._.wrap,p=a.is,b=a._.getSomeDefs,q=/^url\\(#?([^)]+)\\)$/,e=a._.$,l=a.url,r=String,s=a._.separator,x=\"\";k.on(\"snap.util.attr.mask\",\n",
       "function(a){if(a instanceof v||a instanceof A){k.stop();a instanceof A&&1==a.node.childNodes.length&&(a=a.node.firstChild,b(this).appendChild(a),a=u(a));if(\"mask\"==a.type)var d=a;else d=n(\"mask\",b(this)),d.node.appendChild(a.node);!d.node.id&&e(d.node,{id:d.id});e(this.node,{mask:l(d.id)})}});(function(a){k.on(\"snap.util.attr.clip\",a);k.on(\"snap.util.attr.clip-path\",a);k.on(\"snap.util.attr.clipPath\",a)})(function(a){if(a instanceof v||a instanceof A){k.stop();if(\"clipPath\"==a.type)var d=a;else d=\n",
       "n(\"clipPath\",b(this)),d.node.appendChild(a.node),!d.node.id&&e(d.node,{id:d.id});e(this.node,{\"clip-path\":l(d.id)})}});k.on(\"snap.util.attr.fill\",w(\"fill\"));k.on(\"snap.util.attr.stroke\",w(\"stroke\"));var G=/^([lr])(?:\\(([^)]*)\\))?(.*)$/i;k.on(\"snap.util.grad.parse\",function(a){a=r(a);var b=a.match(G);if(!b)return null;a=b[1];var e=b[2],b=b[3],e=e.split(/\\s*,\\s*/).map(function(a){return+a==a?+a:a});1==e.length&&0==e[0]&&(e=[]);b=b.split(\"-\");b=b.map(function(a){a=a.split(\":\");var b={color:a[0]};a[1]&&\n",
       "(b.offset=parseFloat(a[1]));return b});return{type:a,params:e,stops:b}});k.on(\"snap.util.attr.d\",function(b){k.stop();p(b,\"array\")&&p(b[0],\"array\")&&(b=a.path.toString.call(b));b=r(b);b.match(/[ruo]/i)&&(b=a.path.toAbsolute(b));e(this.node,{d:b})})(-1);k.on(\"snap.util.attr.#text\",function(a){k.stop();a=r(a);for(a=M.doc.createTextNode(a);this.node.firstChild;)this.node.removeChild(this.node.firstChild);this.node.appendChild(a)})(-1);k.on(\"snap.util.attr.path\",function(a){k.stop();this.attr({d:a})})(-1);\n",
       "k.on(\"snap.util.attr.class\",function(a){k.stop();this.node.className.baseVal=a})(-1);k.on(\"snap.util.attr.viewBox\",function(a){a=p(a,\"object\")&&\"x\"in a?[a.x,a.y,a.width,a.height].join(\" \"):p(a,\"array\")?a.join(\" \"):a;e(this.node,{viewBox:a});k.stop()})(-1);k.on(\"snap.util.attr.transform\",function(a){this.transform(a);k.stop()})(-1);k.on(\"snap.util.attr.r\",function(a){\"rect\"==this.type&&(k.stop(),e(this.node,{rx:a,ry:a}))})(-1);k.on(\"snap.util.attr.textpath\",function(a){k.stop();if(\"text\"==this.type){var d,\n",
       "f;if(!a&&this.textPath){for(a=this.textPath;a.node.firstChild;)this.node.appendChild(a.node.firstChild);a.remove();delete this.textPath}else if(p(a,\"string\")?(d=b(this),a=u(d.parentNode).path(a),d.appendChild(a.node),d=a.id,a.attr({id:d})):(a=u(a),a instanceof v&&(d=a.attr(\"id\"),d||(d=a.id,a.attr({id:d})))),d)if(a=this.textPath,f=this.node,a)a.attr({\"xlink:href\":\"#\"+d});else{for(a=e(\"textPath\",{\"xlink:href\":\"#\"+d});f.firstChild;)a.appendChild(f.firstChild);f.appendChild(a);this.textPath=u(a)}}})(-1);\n",
       "k.on(\"snap.util.attr.text\",function(a){if(\"text\"==this.type){for(var b=this.node,d=function(a){var b=e(\"tspan\");if(p(a,\"array\"))for(var f=0;f<a.length;f++)b.appendChild(d(a[f]));else b.appendChild(M.doc.createTextNode(a));b.normalize&&b.normalize();return b};b.firstChild;)b.removeChild(b.firstChild);for(a=d(a);a.firstChild;)b.appendChild(a.firstChild)}k.stop()})(-1);k.on(\"snap.util.attr.fontSize\",z)(-1);k.on(\"snap.util.attr.font-size\",z)(-1);k.on(\"snap.util.getattr.transform\",function(){k.stop();\n",
       "return this.transform()})(-1);k.on(\"snap.util.getattr.textpath\",function(){k.stop();return this.textPath})(-1);(function(){function b(d){return function(){k.stop();var b=M.doc.defaultView.getComputedStyle(this.node,null).getPropertyValue(\"marker-\"+d);return\"none\"==b?b:a(M.doc.getElementById(b.match(q)[1]))}}function d(a){return function(b){k.stop();var d=\"marker\"+a.charAt(0).toUpperCase()+a.substring(1);if(\"\"==b||!b)this.node.style[d]=\"none\";else if(\"marker\"==b.type){var f=b.node.id;f||e(b.node,{id:b.id});\n",
       "this.node.style[d]=l(f)}}}k.on(\"snap.util.getattr.marker-end\",b(\"end\"))(-1);k.on(\"snap.util.getattr.markerEnd\",b(\"end\"))(-1);k.on(\"snap.util.getattr.marker-start\",b(\"start\"))(-1);k.on(\"snap.util.getattr.markerStart\",b(\"start\"))(-1);k.on(\"snap.util.getattr.marker-mid\",b(\"mid\"))(-1);k.on(\"snap.util.getattr.markerMid\",b(\"mid\"))(-1);k.on(\"snap.util.attr.marker-end\",d(\"end\"))(-1);k.on(\"snap.util.attr.markerEnd\",d(\"end\"))(-1);k.on(\"snap.util.attr.marker-start\",d(\"start\"))(-1);k.on(\"snap.util.attr.markerStart\",\n",
       "d(\"start\"))(-1);k.on(\"snap.util.attr.marker-mid\",d(\"mid\"))(-1);k.on(\"snap.util.attr.markerMid\",d(\"mid\"))(-1)})();k.on(\"snap.util.getattr.r\",function(){if(\"rect\"==this.type&&e(this.node,\"rx\")==e(this.node,\"ry\"))return k.stop(),e(this.node,\"rx\")})(-1);k.on(\"snap.util.getattr.text\",function(){if(\"text\"==this.type||\"tspan\"==this.type){k.stop();var a=d(this.node);return 1==a.length?a[0]:a}})(-1);k.on(\"snap.util.getattr.#text\",function(){return this.node.textContent})(-1);k.on(\"snap.util.getattr.viewBox\",\n",
       "function(){k.stop();var b=e(this.node,\"viewBox\");if(b)return b=b.split(s),a._.box(+b[0],+b[1],+b[2],+b[3])})(-1);k.on(\"snap.util.getattr.points\",function(){var a=e(this.node,\"points\");k.stop();if(a)return a.split(s)})(-1);k.on(\"snap.util.getattr.path\",function(){var a=e(this.node,\"d\");k.stop();return a})(-1);k.on(\"snap.util.getattr.class\",function(){return this.node.className.baseVal})(-1);k.on(\"snap.util.getattr.fontSize\",f)(-1);k.on(\"snap.util.getattr.font-size\",f)(-1)});C.plugin(function(a,v,y,\n",
       "M,A){function w(a){return a}function z(a){return function(b){return+b.toFixed(3)+a}}var d={\"+\":function(a,b){return a+b},\"-\":function(a,b){return a-b},\"/\":function(a,b){return a/b},\"*\":function(a,b){return a*b}},f=String,n=/[a-z]+$/i,u=/^\\s*([+\\-\\/*])\\s*=\\s*([\\d.eE+\\-]+)\\s*([^\\d\\s]+)?\\s*$/;k.on(\"snap.util.attr\",function(a){if(a=f(a).match(u)){var b=k.nt(),b=b.substring(b.lastIndexOf(\".\")+1),q=this.attr(b),e={};k.stop();var l=a[3]||\"\",r=q.match(n),s=d[a[1] ];r&&r==l?a=s(parseFloat(q),+a[2]):(q=this.asPX(b),\n",
       "a=s(this.asPX(b),this.asPX(b,a[2]+l)));isNaN(q)||isNaN(a)||(e[b]=a,this.attr(e))}})(-10);k.on(\"snap.util.equal\",function(a,b){var q=f(this.attr(a)||\"\"),e=f(b).match(u);if(e){k.stop();var l=e[3]||\"\",r=q.match(n),s=d[e[1] ];if(r&&r==l)return{from:parseFloat(q),to:s(parseFloat(q),+e[2]),f:z(r)};q=this.asPX(a);return{from:q,to:s(q,this.asPX(a,e[2]+l)),f:w}}})(-10)});C.plugin(function(a,v,y,M,A){var w=y.prototype,z=a.is;w.rect=function(a,d,k,p,b,q){var e;null==q&&(q=b);z(a,\"object\")&&\"[object Object]\"==\n",
       "a?e=a:null!=a&&(e={x:a,y:d,width:k,height:p},null!=b&&(e.rx=b,e.ry=q));return this.el(\"rect\",e)};w.circle=function(a,d,k){var p;z(a,\"object\")&&\"[object Object]\"==a?p=a:null!=a&&(p={cx:a,cy:d,r:k});return this.el(\"circle\",p)};var d=function(){function a(){this.parentNode.removeChild(this)}return function(d,k){var p=M.doc.createElement(\"img\"),b=M.doc.body;p.style.cssText=\"position:absolute;left:-9999em;top:-9999em\";p.onload=function(){k.call(p);p.onload=p.onerror=null;b.removeChild(p)};p.onerror=a;\n",
       "b.appendChild(p);p.src=d}}();w.image=function(f,n,k,p,b){var q=this.el(\"image\");if(z(f,\"object\")&&\"src\"in f)q.attr(f);else if(null!=f){var e={\"xlink:href\":f,preserveAspectRatio:\"none\"};null!=n&&null!=k&&(e.x=n,e.y=k);null!=p&&null!=b?(e.width=p,e.height=b):d(f,function(){a._.$(q.node,{width:this.offsetWidth,height:this.offsetHeight})});a._.$(q.node,e)}return q};w.ellipse=function(a,d,k,p){var b;z(a,\"object\")&&\"[object Object]\"==a?b=a:null!=a&&(b={cx:a,cy:d,rx:k,ry:p});return this.el(\"ellipse\",b)};\n",
       "w.path=function(a){var d;z(a,\"object\")&&!z(a,\"array\")?d=a:a&&(d={d:a});return this.el(\"path\",d)};w.group=w.g=function(a){var d=this.el(\"g\");1==arguments.length&&a&&!a.type?d.attr(a):arguments.length&&d.add(Array.prototype.slice.call(arguments,0));return d};w.svg=function(a,d,k,p,b,q,e,l){var r={};z(a,\"object\")&&null==d?r=a:(null!=a&&(r.x=a),null!=d&&(r.y=d),null!=k&&(r.width=k),null!=p&&(r.height=p),null!=b&&null!=q&&null!=e&&null!=l&&(r.viewBox=[b,q,e,l]));return this.el(\"svg\",r)};w.mask=function(a){var d=\n",
       "this.el(\"mask\");1==arguments.length&&a&&!a.type?d.attr(a):arguments.length&&d.add(Array.prototype.slice.call(arguments,0));return d};w.ptrn=function(a,d,k,p,b,q,e,l){if(z(a,\"object\"))var r=a;else arguments.length?(r={},null!=a&&(r.x=a),null!=d&&(r.y=d),null!=k&&(r.width=k),null!=p&&(r.height=p),null!=b&&null!=q&&null!=e&&null!=l&&(r.viewBox=[b,q,e,l])):r={patternUnits:\"userSpaceOnUse\"};return this.el(\"pattern\",r)};w.use=function(a){return null!=a?(make(\"use\",this.node),a instanceof v&&(a.attr(\"id\")||\n",
       "a.attr({id:ID()}),a=a.attr(\"id\")),this.el(\"use\",{\"xlink:href\":a})):v.prototype.use.call(this)};w.text=function(a,d,k){var p={};z(a,\"object\")?p=a:null!=a&&(p={x:a,y:d,text:k||\"\"});return this.el(\"text\",p)};w.line=function(a,d,k,p){var b={};z(a,\"object\")?b=a:null!=a&&(b={x1:a,x2:k,y1:d,y2:p});return this.el(\"line\",b)};w.polyline=function(a){1<arguments.length&&(a=Array.prototype.slice.call(arguments,0));var d={};z(a,\"object\")&&!z(a,\"array\")?d=a:null!=a&&(d={points:a});return this.el(\"polyline\",d)};\n",
       "w.polygon=function(a){1<arguments.length&&(a=Array.prototype.slice.call(arguments,0));var d={};z(a,\"object\")&&!z(a,\"array\")?d=a:null!=a&&(d={points:a});return this.el(\"polygon\",d)};(function(){function d(){return this.selectAll(\"stop\")}function n(b,d){var f=e(\"stop\"),k={offset:+d+\"%\"};b=a.color(b);k[\"stop-color\"]=b.hex;1>b.opacity&&(k[\"stop-opacity\"]=b.opacity);e(f,k);this.node.appendChild(f);return this}function u(){if(\"linearGradient\"==this.type){var b=e(this.node,\"x1\")||0,d=e(this.node,\"x2\")||\n",
       "1,f=e(this.node,\"y1\")||0,k=e(this.node,\"y2\")||0;return a._.box(b,f,math.abs(d-b),math.abs(k-f))}b=this.node.r||0;return a._.box((this.node.cx||0.5)-b,(this.node.cy||0.5)-b,2*b,2*b)}function p(a,d){function f(a,b){for(var d=(b-u)/(a-w),e=w;e<a;e++)h[e].offset=+(+u+d*(e-w)).toFixed(2);w=a;u=b}var n=k(\"snap.util.grad.parse\",null,d).firstDefined(),p;if(!n)return null;n.params.unshift(a);p=\"l\"==n.type.toLowerCase()?b.apply(0,n.params):q.apply(0,n.params);n.type!=n.type.toLowerCase()&&e(p.node,{gradientUnits:\"userSpaceOnUse\"});\n",
       "var h=n.stops,n=h.length,u=0,w=0;n--;for(var v=0;v<n;v++)\"offset\"in h[v]&&f(v,h[v].offset);h[n].offset=h[n].offset||100;f(n,h[n].offset);for(v=0;v<=n;v++){var y=h[v];p.addStop(y.color,y.offset)}return p}function b(b,k,p,q,w){b=a._.make(\"linearGradient\",b);b.stops=d;b.addStop=n;b.getBBox=u;null!=k&&e(b.node,{x1:k,y1:p,x2:q,y2:w});return b}function q(b,k,p,q,w,h){b=a._.make(\"radialGradient\",b);b.stops=d;b.addStop=n;b.getBBox=u;null!=k&&e(b.node,{cx:k,cy:p,r:q});null!=w&&null!=h&&e(b.node,{fx:w,fy:h});\n",
       "return b}var e=a._.$;w.gradient=function(a){return p(this.defs,a)};w.gradientLinear=function(a,d,e,f){return b(this.defs,a,d,e,f)};w.gradientRadial=function(a,b,d,e,f){return q(this.defs,a,b,d,e,f)};w.toString=function(){var b=this.node.ownerDocument,d=b.createDocumentFragment(),b=b.createElement(\"div\"),e=this.node.cloneNode(!0);d.appendChild(b);b.appendChild(e);a._.$(e,{xmlns:\"http://www.w3.org/2000/svg\"});b=b.innerHTML;d.removeChild(d.firstChild);return b};w.clear=function(){for(var a=this.node.firstChild,\n",
       "b;a;)b=a.nextSibling,\"defs\"!=a.tagName?a.parentNode.removeChild(a):w.clear.call({node:a}),a=b}})()});C.plugin(function(a,k,y,M){function A(a){var b=A.ps=A.ps||{};b[a]?b[a].sleep=100:b[a]={sleep:100};setTimeout(function(){for(var d in b)b[L](d)&&d!=a&&(b[d].sleep--,!b[d].sleep&&delete b[d])});return b[a]}function w(a,b,d,e){null==a&&(a=b=d=e=0);null==b&&(b=a.y,d=a.width,e=a.height,a=a.x);return{x:a,y:b,width:d,w:d,height:e,h:e,x2:a+d,y2:b+e,cx:a+d/2,cy:b+e/2,r1:F.min(d,e)/2,r2:F.max(d,e)/2,r0:F.sqrt(d*\n",
       "d+e*e)/2,path:s(a,b,d,e),vb:[a,b,d,e].join(\" \")}}function z(){return this.join(\",\").replace(N,\"$1\")}function d(a){a=C(a);a.toString=z;return a}function f(a,b,d,h,f,k,l,n,p){if(null==p)return e(a,b,d,h,f,k,l,n);if(0>p||e(a,b,d,h,f,k,l,n)<p)p=void 0;else{var q=0.5,O=1-q,s;for(s=e(a,b,d,h,f,k,l,n,O);0.01<Z(s-p);)q/=2,O+=(s<p?1:-1)*q,s=e(a,b,d,h,f,k,l,n,O);p=O}return u(a,b,d,h,f,k,l,n,p)}function n(b,d){function e(a){return+(+a).toFixed(3)}return a._.cacher(function(a,h,l){a instanceof k&&(a=a.attr(\"d\"));\n",
       "a=I(a);for(var n,p,D,q,O=\"\",s={},c=0,t=0,r=a.length;t<r;t++){D=a[t];if(\"M\"==D[0])n=+D[1],p=+D[2];else{q=f(n,p,D[1],D[2],D[3],D[4],D[5],D[6]);if(c+q>h){if(d&&!s.start){n=f(n,p,D[1],D[2],D[3],D[4],D[5],D[6],h-c);O+=[\"C\"+e(n.start.x),e(n.start.y),e(n.m.x),e(n.m.y),e(n.x),e(n.y)];if(l)return O;s.start=O;O=[\"M\"+e(n.x),e(n.y)+\"C\"+e(n.n.x),e(n.n.y),e(n.end.x),e(n.end.y),e(D[5]),e(D[6])].join();c+=q;n=+D[5];p=+D[6];continue}if(!b&&!d)return n=f(n,p,D[1],D[2],D[3],D[4],D[5],D[6],h-c)}c+=q;n=+D[5];p=+D[6]}O+=\n",
       "D.shift()+D}s.end=O;return n=b?c:d?s:u(n,p,D[0],D[1],D[2],D[3],D[4],D[5],1)},null,a._.clone)}function u(a,b,d,e,h,f,k,l,n){var p=1-n,q=ma(p,3),s=ma(p,2),c=n*n,t=c*n,r=q*a+3*s*n*d+3*p*n*n*h+t*k,q=q*b+3*s*n*e+3*p*n*n*f+t*l,s=a+2*n*(d-a)+c*(h-2*d+a),t=b+2*n*(e-b)+c*(f-2*e+b),x=d+2*n*(h-d)+c*(k-2*h+d),c=e+2*n*(f-e)+c*(l-2*f+e);a=p*a+n*d;b=p*b+n*e;h=p*h+n*k;f=p*f+n*l;l=90-180*F.atan2(s-x,t-c)/S;return{x:r,y:q,m:{x:s,y:t},n:{x:x,y:c},start:{x:a,y:b},end:{x:h,y:f},alpha:l}}function p(b,d,e,h,f,n,k,l){a.is(b,\n",
       "\"array\")||(b=[b,d,e,h,f,n,k,l]);b=U.apply(null,b);return w(b.min.x,b.min.y,b.max.x-b.min.x,b.max.y-b.min.y)}function b(a,b,d){return b>=a.x&&b<=a.x+a.width&&d>=a.y&&d<=a.y+a.height}function q(a,d){a=w(a);d=w(d);return b(d,a.x,a.y)||b(d,a.x2,a.y)||b(d,a.x,a.y2)||b(d,a.x2,a.y2)||b(a,d.x,d.y)||b(a,d.x2,d.y)||b(a,d.x,d.y2)||b(a,d.x2,d.y2)||(a.x<d.x2&&a.x>d.x||d.x<a.x2&&d.x>a.x)&&(a.y<d.y2&&a.y>d.y||d.y<a.y2&&d.y>a.y)}function e(a,b,d,e,h,f,n,k,l){null==l&&(l=1);l=(1<l?1:0>l?0:l)/2;for(var p=[-0.1252,\n",
       "0.1252,-0.3678,0.3678,-0.5873,0.5873,-0.7699,0.7699,-0.9041,0.9041,-0.9816,0.9816],q=[0.2491,0.2491,0.2335,0.2335,0.2032,0.2032,0.1601,0.1601,0.1069,0.1069,0.0472,0.0472],s=0,c=0;12>c;c++)var t=l*p[c]+l,r=t*(t*(-3*a+9*d-9*h+3*n)+6*a-12*d+6*h)-3*a+3*d,t=t*(t*(-3*b+9*e-9*f+3*k)+6*b-12*e+6*f)-3*b+3*e,s=s+q[c]*F.sqrt(r*r+t*t);return l*s}function l(a,b,d){a=I(a);b=I(b);for(var h,f,l,n,k,s,r,O,x,c,t=d?0:[],w=0,v=a.length;w<v;w++)if(x=a[w],\"M\"==x[0])h=k=x[1],f=s=x[2];else{\"C\"==x[0]?(x=[h,f].concat(x.slice(1)),\n",
       "h=x[6],f=x[7]):(x=[h,f,h,f,k,s,k,s],h=k,f=s);for(var G=0,y=b.length;G<y;G++)if(c=b[G],\"M\"==c[0])l=r=c[1],n=O=c[2];else{\"C\"==c[0]?(c=[l,n].concat(c.slice(1)),l=c[6],n=c[7]):(c=[l,n,l,n,r,O,r,O],l=r,n=O);var z;var K=x,B=c;z=d;var H=p(K),J=p(B);if(q(H,J)){for(var H=e.apply(0,K),J=e.apply(0,B),H=~~(H/8),J=~~(J/8),U=[],A=[],F={},M=z?0:[],P=0;P<H+1;P++){var C=u.apply(0,K.concat(P/H));U.push({x:C.x,y:C.y,t:P/H})}for(P=0;P<J+1;P++)C=u.apply(0,B.concat(P/J)),A.push({x:C.x,y:C.y,t:P/J});for(P=0;P<H;P++)for(K=\n",
       "0;K<J;K++){var Q=U[P],L=U[P+1],B=A[K],C=A[K+1],N=0.001>Z(L.x-Q.x)?\"y\":\"x\",S=0.001>Z(C.x-B.x)?\"y\":\"x\",R;R=Q.x;var Y=Q.y,V=L.x,ea=L.y,fa=B.x,ga=B.y,ha=C.x,ia=C.y;if(W(R,V)<X(fa,ha)||X(R,V)>W(fa,ha)||W(Y,ea)<X(ga,ia)||X(Y,ea)>W(ga,ia))R=void 0;else{var $=(R*ea-Y*V)*(fa-ha)-(R-V)*(fa*ia-ga*ha),aa=(R*ea-Y*V)*(ga-ia)-(Y-ea)*(fa*ia-ga*ha),ja=(R-V)*(ga-ia)-(Y-ea)*(fa-ha);if(ja){var $=$/ja,aa=aa/ja,ja=+$.toFixed(2),ba=+aa.toFixed(2);R=ja<+X(R,V).toFixed(2)||ja>+W(R,V).toFixed(2)||ja<+X(fa,ha).toFixed(2)||\n",
       "ja>+W(fa,ha).toFixed(2)||ba<+X(Y,ea).toFixed(2)||ba>+W(Y,ea).toFixed(2)||ba<+X(ga,ia).toFixed(2)||ba>+W(ga,ia).toFixed(2)?void 0:{x:$,y:aa}}else R=void 0}R&&F[R.x.toFixed(4)]!=R.y.toFixed(4)&&(F[R.x.toFixed(4)]=R.y.toFixed(4),Q=Q.t+Z((R[N]-Q[N])/(L[N]-Q[N]))*(L.t-Q.t),B=B.t+Z((R[S]-B[S])/(C[S]-B[S]))*(C.t-B.t),0<=Q&&1>=Q&&0<=B&&1>=B&&(z?M++:M.push({x:R.x,y:R.y,t1:Q,t2:B})))}z=M}else z=z?0:[];if(d)t+=z;else{H=0;for(J=z.length;H<J;H++)z[H].segment1=w,z[H].segment2=G,z[H].bez1=x,z[H].bez2=c;t=t.concat(z)}}}return t}\n",
       "function r(a){var b=A(a);if(b.bbox)return C(b.bbox);if(!a)return w();a=I(a);for(var d=0,e=0,h=[],f=[],l,n=0,k=a.length;n<k;n++)l=a[n],\"M\"==l[0]?(d=l[1],e=l[2],h.push(d),f.push(e)):(d=U(d,e,l[1],l[2],l[3],l[4],l[5],l[6]),h=h.concat(d.min.x,d.max.x),f=f.concat(d.min.y,d.max.y),d=l[5],e=l[6]);a=X.apply(0,h);l=X.apply(0,f);h=W.apply(0,h);f=W.apply(0,f);f=w(a,l,h-a,f-l);b.bbox=C(f);return f}function s(a,b,d,e,h){if(h)return[[\"M\",+a+ +h,b],[\"l\",d-2*h,0],[\"a\",h,h,0,0,1,h,h],[\"l\",0,e-2*h],[\"a\",h,h,0,0,1,\n",
       "-h,h],[\"l\",2*h-d,0],[\"a\",h,h,0,0,1,-h,-h],[\"l\",0,2*h-e],[\"a\",h,h,0,0,1,h,-h],[\"z\"] ];a=[[\"M\",a,b],[\"l\",d,0],[\"l\",0,e],[\"l\",-d,0],[\"z\"] ];a.toString=z;return a}function x(a,b,d,e,h){null==h&&null==e&&(e=d);a=+a;b=+b;d=+d;e=+e;if(null!=h){var f=Math.PI/180,l=a+d*Math.cos(-e*f);a+=d*Math.cos(-h*f);var n=b+d*Math.sin(-e*f);b+=d*Math.sin(-h*f);d=[[\"M\",l,n],[\"A\",d,d,0,+(180<h-e),0,a,b] ]}else d=[[\"M\",a,b],[\"m\",0,-e],[\"a\",d,e,0,1,1,0,2*e],[\"a\",d,e,0,1,1,0,-2*e],[\"z\"] ];d.toString=z;return d}function G(b){var e=\n",
       "A(b);if(e.abs)return d(e.abs);Q(b,\"array\")&&Q(b&&b[0],\"array\")||(b=a.parsePathString(b));if(!b||!b.length)return[[\"M\",0,0] ];var h=[],f=0,l=0,n=0,k=0,p=0;\"M\"==b[0][0]&&(f=+b[0][1],l=+b[0][2],n=f,k=l,p++,h[0]=[\"M\",f,l]);for(var q=3==b.length&&\"M\"==b[0][0]&&\"R\"==b[1][0].toUpperCase()&&\"Z\"==b[2][0].toUpperCase(),s,r,w=p,c=b.length;w<c;w++){h.push(s=[]);r=b[w];p=r[0];if(p!=p.toUpperCase())switch(s[0]=p.toUpperCase(),s[0]){case \"A\":s[1]=r[1];s[2]=r[2];s[3]=r[3];s[4]=r[4];s[5]=r[5];s[6]=+r[6]+f;s[7]=+r[7]+\n",
       "l;break;case \"V\":s[1]=+r[1]+l;break;case \"H\":s[1]=+r[1]+f;break;case \"R\":for(var t=[f,l].concat(r.slice(1)),u=2,v=t.length;u<v;u++)t[u]=+t[u]+f,t[++u]=+t[u]+l;h.pop();h=h.concat(P(t,q));break;case \"O\":h.pop();t=x(f,l,r[1],r[2]);t.push(t[0]);h=h.concat(t);break;case \"U\":h.pop();h=h.concat(x(f,l,r[1],r[2],r[3]));s=[\"U\"].concat(h[h.length-1].slice(-2));break;case \"M\":n=+r[1]+f,k=+r[2]+l;default:for(u=1,v=r.length;u<v;u++)s[u]=+r[u]+(u%2?f:l)}else if(\"R\"==p)t=[f,l].concat(r.slice(1)),h.pop(),h=h.concat(P(t,\n",
       "q)),s=[\"R\"].concat(r.slice(-2));else if(\"O\"==p)h.pop(),t=x(f,l,r[1],r[2]),t.push(t[0]),h=h.concat(t);else if(\"U\"==p)h.pop(),h=h.concat(x(f,l,r[1],r[2],r[3])),s=[\"U\"].concat(h[h.length-1].slice(-2));else for(t=0,u=r.length;t<u;t++)s[t]=r[t];p=p.toUpperCase();if(\"O\"!=p)switch(s[0]){case \"Z\":f=+n;l=+k;break;case \"H\":f=s[1];break;case \"V\":l=s[1];break;case \"M\":n=s[s.length-2],k=s[s.length-1];default:f=s[s.length-2],l=s[s.length-1]}}h.toString=z;e.abs=d(h);return h}function h(a,b,d,e){return[a,b,d,e,d,\n",
       "e]}function J(a,b,d,e,h,f){var l=1/3,n=2/3;return[l*a+n*d,l*b+n*e,l*h+n*d,l*f+n*e,h,f]}function K(b,d,e,h,f,l,n,k,p,s){var r=120*S/180,q=S/180*(+f||0),c=[],t,x=a._.cacher(function(a,b,c){var d=a*F.cos(c)-b*F.sin(c);a=a*F.sin(c)+b*F.cos(c);return{x:d,y:a}});if(s)v=s[0],t=s[1],l=s[2],u=s[3];else{t=x(b,d,-q);b=t.x;d=t.y;t=x(k,p,-q);k=t.x;p=t.y;F.cos(S/180*f);F.sin(S/180*f);t=(b-k)/2;v=(d-p)/2;u=t*t/(e*e)+v*v/(h*h);1<u&&(u=F.sqrt(u),e*=u,h*=u);var u=e*e,w=h*h,u=(l==n?-1:1)*F.sqrt(Z((u*w-u*v*v-w*t*t)/\n",
       "(u*v*v+w*t*t)));l=u*e*v/h+(b+k)/2;var u=u*-h*t/e+(d+p)/2,v=F.asin(((d-u)/h).toFixed(9));t=F.asin(((p-u)/h).toFixed(9));v=b<l?S-v:v;t=k<l?S-t:t;0>v&&(v=2*S+v);0>t&&(t=2*S+t);n&&v>t&&(v-=2*S);!n&&t>v&&(t-=2*S)}if(Z(t-v)>r){var c=t,w=k,G=p;t=v+r*(n&&t>v?1:-1);k=l+e*F.cos(t);p=u+h*F.sin(t);c=K(k,p,e,h,f,0,n,w,G,[t,c,l,u])}l=t-v;f=F.cos(v);r=F.sin(v);n=F.cos(t);t=F.sin(t);l=F.tan(l/4);e=4/3*e*l;l*=4/3*h;h=[b,d];b=[b+e*r,d-l*f];d=[k+e*t,p-l*n];k=[k,p];b[0]=2*h[0]-b[0];b[1]=2*h[1]-b[1];if(s)return[b,d,k].concat(c);\n",
       "c=[b,d,k].concat(c).join().split(\",\");s=[];k=0;for(p=c.length;k<p;k++)s[k]=k%2?x(c[k-1],c[k],q).y:x(c[k],c[k+1],q).x;return s}function U(a,b,d,e,h,f,l,k){for(var n=[],p=[[],[] ],s,r,c,t,q=0;2>q;++q)0==q?(r=6*a-12*d+6*h,s=-3*a+9*d-9*h+3*l,c=3*d-3*a):(r=6*b-12*e+6*f,s=-3*b+9*e-9*f+3*k,c=3*e-3*b),1E-12>Z(s)?1E-12>Z(r)||(s=-c/r,0<s&&1>s&&n.push(s)):(t=r*r-4*c*s,c=F.sqrt(t),0>t||(t=(-r+c)/(2*s),0<t&&1>t&&n.push(t),s=(-r-c)/(2*s),0<s&&1>s&&n.push(s)));for(r=q=n.length;q--;)s=n[q],c=1-s,p[0][q]=c*c*c*a+3*\n",
       "c*c*s*d+3*c*s*s*h+s*s*s*l,p[1][q]=c*c*c*b+3*c*c*s*e+3*c*s*s*f+s*s*s*k;p[0][r]=a;p[1][r]=b;p[0][r+1]=l;p[1][r+1]=k;p[0].length=p[1].length=r+2;return{min:{x:X.apply(0,p[0]),y:X.apply(0,p[1])},max:{x:W.apply(0,p[0]),y:W.apply(0,p[1])}}}function I(a,b){var e=!b&&A(a);if(!b&&e.curve)return d(e.curve);var f=G(a),l=b&&G(b),n={x:0,y:0,bx:0,by:0,X:0,Y:0,qx:null,qy:null},k={x:0,y:0,bx:0,by:0,X:0,Y:0,qx:null,qy:null},p=function(a,b,c){if(!a)return[\"C\",b.x,b.y,b.x,b.y,b.x,b.y];a[0]in{T:1,Q:1}||(b.qx=b.qy=null);\n",
       "switch(a[0]){case \"M\":b.X=a[1];b.Y=a[2];break;case \"A\":a=[\"C\"].concat(K.apply(0,[b.x,b.y].concat(a.slice(1))));break;case \"S\":\"C\"==c||\"S\"==c?(c=2*b.x-b.bx,b=2*b.y-b.by):(c=b.x,b=b.y);a=[\"C\",c,b].concat(a.slice(1));break;case \"T\":\"Q\"==c||\"T\"==c?(b.qx=2*b.x-b.qx,b.qy=2*b.y-b.qy):(b.qx=b.x,b.qy=b.y);a=[\"C\"].concat(J(b.x,b.y,b.qx,b.qy,a[1],a[2]));break;case \"Q\":b.qx=a[1];b.qy=a[2];a=[\"C\"].concat(J(b.x,b.y,a[1],a[2],a[3],a[4]));break;case \"L\":a=[\"C\"].concat(h(b.x,b.y,a[1],a[2]));break;case \"H\":a=[\"C\"].concat(h(b.x,\n",
       "b.y,a[1],b.y));break;case \"V\":a=[\"C\"].concat(h(b.x,b.y,b.x,a[1]));break;case \"Z\":a=[\"C\"].concat(h(b.x,b.y,b.X,b.Y))}return a},s=function(a,b){if(7<a[b].length){a[b].shift();for(var c=a[b];c.length;)q[b]=\"A\",l&&(u[b]=\"A\"),a.splice(b++,0,[\"C\"].concat(c.splice(0,6)));a.splice(b,1);v=W(f.length,l&&l.length||0)}},r=function(a,b,c,d,e){a&&b&&\"M\"==a[e][0]&&\"M\"!=b[e][0]&&(b.splice(e,0,[\"M\",d.x,d.y]),c.bx=0,c.by=0,c.x=a[e][1],c.y=a[e][2],v=W(f.length,l&&l.length||0))},q=[],u=[],c=\"\",t=\"\",x=0,v=W(f.length,\n",
       "l&&l.length||0);for(;x<v;x++){f[x]&&(c=f[x][0]);\"C\"!=c&&(q[x]=c,x&&(t=q[x-1]));f[x]=p(f[x],n,t);\"A\"!=q[x]&&\"C\"==c&&(q[x]=\"C\");s(f,x);l&&(l[x]&&(c=l[x][0]),\"C\"!=c&&(u[x]=c,x&&(t=u[x-1])),l[x]=p(l[x],k,t),\"A\"!=u[x]&&\"C\"==c&&(u[x]=\"C\"),s(l,x));r(f,l,n,k,x);r(l,f,k,n,x);var w=f[x],z=l&&l[x],y=w.length,U=l&&z.length;n.x=w[y-2];n.y=w[y-1];n.bx=$(w[y-4])||n.x;n.by=$(w[y-3])||n.y;k.bx=l&&($(z[U-4])||k.x);k.by=l&&($(z[U-3])||k.y);k.x=l&&z[U-2];k.y=l&&z[U-1]}l||(e.curve=d(f));return l?[f,l]:f}function P(a,\n",
       "b){for(var d=[],e=0,h=a.length;h-2*!b>e;e+=2){var f=[{x:+a[e-2],y:+a[e-1]},{x:+a[e],y:+a[e+1]},{x:+a[e+2],y:+a[e+3]},{x:+a[e+4],y:+a[e+5]}];b?e?h-4==e?f[3]={x:+a[0],y:+a[1]}:h-2==e&&(f[2]={x:+a[0],y:+a[1]},f[3]={x:+a[2],y:+a[3]}):f[0]={x:+a[h-2],y:+a[h-1]}:h-4==e?f[3]=f[2]:e||(f[0]={x:+a[e],y:+a[e+1]});d.push([\"C\",(-f[0].x+6*f[1].x+f[2].x)/6,(-f[0].y+6*f[1].y+f[2].y)/6,(f[1].x+6*f[2].x-f[3].x)/6,(f[1].y+6*f[2].y-f[3].y)/6,f[2].x,f[2].y])}return d}y=k.prototype;var Q=a.is,C=a._.clone,L=\"hasOwnProperty\",\n",
       "N=/,?([a-z]),?/gi,$=parseFloat,F=Math,S=F.PI,X=F.min,W=F.max,ma=F.pow,Z=F.abs;M=n(1);var na=n(),ba=n(0,1),V=a._unit2px;a.path=A;a.path.getTotalLength=M;a.path.getPointAtLength=na;a.path.getSubpath=function(a,b,d){if(1E-6>this.getTotalLength(a)-d)return ba(a,b).end;a=ba(a,d,1);return b?ba(a,b).end:a};y.getTotalLength=function(){if(this.node.getTotalLength)return this.node.getTotalLength()};y.getPointAtLength=function(a){return na(this.attr(\"d\"),a)};y.getSubpath=function(b,d){return a.path.getSubpath(this.attr(\"d\"),\n",
       "b,d)};a._.box=w;a.path.findDotsAtSegment=u;a.path.bezierBBox=p;a.path.isPointInsideBBox=b;a.path.isBBoxIntersect=q;a.path.intersection=function(a,b){return l(a,b)};a.path.intersectionNumber=function(a,b){return l(a,b,1)};a.path.isPointInside=function(a,d,e){var h=r(a);return b(h,d,e)&&1==l(a,[[\"M\",d,e],[\"H\",h.x2+10] ],1)%2};a.path.getBBox=r;a.path.get={path:function(a){return a.attr(\"path\")},circle:function(a){a=V(a);return x(a.cx,a.cy,a.r)},ellipse:function(a){a=V(a);return x(a.cx||0,a.cy||0,a.rx,\n",
       "a.ry)},rect:function(a){a=V(a);return s(a.x||0,a.y||0,a.width,a.height,a.rx,a.ry)},image:function(a){a=V(a);return s(a.x||0,a.y||0,a.width,a.height)},line:function(a){return\"M\"+[a.attr(\"x1\")||0,a.attr(\"y1\")||0,a.attr(\"x2\"),a.attr(\"y2\")]},polyline:function(a){return\"M\"+a.attr(\"points\")},polygon:function(a){return\"M\"+a.attr(\"points\")+\"z\"},deflt:function(a){a=a.node.getBBox();return s(a.x,a.y,a.width,a.height)}};a.path.toRelative=function(b){var e=A(b),h=String.prototype.toLowerCase;if(e.rel)return d(e.rel);\n",
       "a.is(b,\"array\")&&a.is(b&&b[0],\"array\")||(b=a.parsePathString(b));var f=[],l=0,n=0,k=0,p=0,s=0;\"M\"==b[0][0]&&(l=b[0][1],n=b[0][2],k=l,p=n,s++,f.push([\"M\",l,n]));for(var r=b.length;s<r;s++){var q=f[s]=[],x=b[s];if(x[0]!=h.call(x[0]))switch(q[0]=h.call(x[0]),q[0]){case \"a\":q[1]=x[1];q[2]=x[2];q[3]=x[3];q[4]=x[4];q[5]=x[5];q[6]=+(x[6]-l).toFixed(3);q[7]=+(x[7]-n).toFixed(3);break;case \"v\":q[1]=+(x[1]-n).toFixed(3);break;case \"m\":k=x[1],p=x[2];default:for(var c=1,t=x.length;c<t;c++)q[c]=+(x[c]-(c%2?l:\n",
       "n)).toFixed(3)}else for(f[s]=[],\"m\"==x[0]&&(k=x[1]+l,p=x[2]+n),q=0,c=x.length;q<c;q++)f[s][q]=x[q];x=f[s].length;switch(f[s][0]){case \"z\":l=k;n=p;break;case \"h\":l+=+f[s][x-1];break;case \"v\":n+=+f[s][x-1];break;default:l+=+f[s][x-2],n+=+f[s][x-1]}}f.toString=z;e.rel=d(f);return f};a.path.toAbsolute=G;a.path.toCubic=I;a.path.map=function(a,b){if(!b)return a;var d,e,h,f,l,n,k;a=I(a);h=0;for(l=a.length;h<l;h++)for(k=a[h],f=1,n=k.length;f<n;f+=2)d=b.x(k[f],k[f+1]),e=b.y(k[f],k[f+1]),k[f]=d,k[f+1]=e;return a};\n",
       "a.path.toString=z;a.path.clone=d});C.plugin(function(a,v,y,C){var A=Math.max,w=Math.min,z=function(a){this.items=[];this.bindings={};this.length=0;this.type=\"set\";if(a)for(var f=0,n=a.length;f<n;f++)a[f]&&(this[this.items.length]=this.items[this.items.length]=a[f],this.length++)};v=z.prototype;v.push=function(){for(var a,f,n=0,k=arguments.length;n<k;n++)if(a=arguments[n])f=this.items.length,this[f]=this.items[f]=a,this.length++;return this};v.pop=function(){this.length&&delete this[this.length--];\n",
       "return this.items.pop()};v.forEach=function(a,f){for(var n=0,k=this.items.length;n<k&&!1!==a.call(f,this.items[n],n);n++);return this};v.animate=function(d,f,n,u){\"function\"!=typeof n||n.length||(u=n,n=L.linear);d instanceof a._.Animation&&(u=d.callback,n=d.easing,f=n.dur,d=d.attr);var p=arguments;if(a.is(d,\"array\")&&a.is(p[p.length-1],\"array\"))var b=!0;var q,e=function(){q?this.b=q:q=this.b},l=0,r=u&&function(){l++==this.length&&u.call(this)};return this.forEach(function(a,l){k.once(\"snap.animcreated.\"+\n",
       "a.id,e);b?p[l]&&a.animate.apply(a,p[l]):a.animate(d,f,n,r)})};v.remove=function(){for(;this.length;)this.pop().remove();return this};v.bind=function(a,f,k){var u={};if(\"function\"==typeof f)this.bindings[a]=f;else{var p=k||a;this.bindings[a]=function(a){u[p]=a;f.attr(u)}}return this};v.attr=function(a){var f={},k;for(k in a)if(this.bindings[k])this.bindings[k](a[k]);else f[k]=a[k];a=0;for(k=this.items.length;a<k;a++)this.items[a].attr(f);return this};v.clear=function(){for(;this.length;)this.pop()};\n",
       "v.splice=function(a,f,k){a=0>a?A(this.length+a,0):a;f=A(0,w(this.length-a,f));var u=[],p=[],b=[],q;for(q=2;q<arguments.length;q++)b.push(arguments[q]);for(q=0;q<f;q++)p.push(this[a+q]);for(;q<this.length-a;q++)u.push(this[a+q]);var e=b.length;for(q=0;q<e+u.length;q++)this.items[a+q]=this[a+q]=q<e?b[q]:u[q-e];for(q=this.items.length=this.length-=f-e;this[q];)delete this[q++];return new z(p)};v.exclude=function(a){for(var f=0,k=this.length;f<k;f++)if(this[f]==a)return this.splice(f,1),!0;return!1};\n",
       "v.insertAfter=function(a){for(var f=this.items.length;f--;)this.items[f].insertAfter(a);return this};v.getBBox=function(){for(var a=[],f=[],k=[],u=[],p=this.items.length;p--;)if(!this.items[p].removed){var b=this.items[p].getBBox();a.push(b.x);f.push(b.y);k.push(b.x+b.width);u.push(b.y+b.height)}a=w.apply(0,a);f=w.apply(0,f);k=A.apply(0,k);u=A.apply(0,u);return{x:a,y:f,x2:k,y2:u,width:k-a,height:u-f,cx:a+(k-a)/2,cy:f+(u-f)/2}};v.clone=function(a){a=new z;for(var f=0,k=this.items.length;f<k;f++)a.push(this.items[f].clone());\n",
       "return a};v.toString=function(){return\"Snap\\u2018s set\"};v.type=\"set\";a.set=function(){var a=new z;arguments.length&&a.push.apply(a,Array.prototype.slice.call(arguments,0));return a}});C.plugin(function(a,v,y,C){function A(a){var b=a[0];switch(b.toLowerCase()){case \"t\":return[b,0,0];case \"m\":return[b,1,0,0,1,0,0];case \"r\":return 4==a.length?[b,0,a[2],a[3] ]:[b,0];case \"s\":return 5==a.length?[b,1,1,a[3],a[4] ]:3==a.length?[b,1,1]:[b,1]}}function w(b,d,f){d=q(d).replace(/\\.{3}|\\u2026/g,b);b=a.parseTransformString(b)||\n",
       "[];d=a.parseTransformString(d)||[];for(var k=Math.max(b.length,d.length),p=[],v=[],h=0,w,z,y,I;h<k;h++){y=b[h]||A(d[h]);I=d[h]||A(y);if(y[0]!=I[0]||\"r\"==y[0].toLowerCase()&&(y[2]!=I[2]||y[3]!=I[3])||\"s\"==y[0].toLowerCase()&&(y[3]!=I[3]||y[4]!=I[4])){b=a._.transform2matrix(b,f());d=a._.transform2matrix(d,f());p=[[\"m\",b.a,b.b,b.c,b.d,b.e,b.f] ];v=[[\"m\",d.a,d.b,d.c,d.d,d.e,d.f] ];break}p[h]=[];v[h]=[];w=0;for(z=Math.max(y.length,I.length);w<z;w++)w in y&&(p[h][w]=y[w]),w in I&&(v[h][w]=I[w])}return{from:u(p),\n",
       "to:u(v),f:n(p)}}function z(a){return a}function d(a){return function(b){return+b.toFixed(3)+a}}function f(b){return a.rgb(b[0],b[1],b[2])}function n(a){var b=0,d,f,k,n,h,p,q=[];d=0;for(f=a.length;d<f;d++){h=\"[\";p=['\"'+a[d][0]+'\"'];k=1;for(n=a[d].length;k<n;k++)p[k]=\"val[\"+b++ +\"]\";h+=p+\"]\";q[d]=h}return Function(\"val\",\"return Snap.path.toString.call([\"+q+\"])\")}function u(a){for(var b=[],d=0,f=a.length;d<f;d++)for(var k=1,n=a[d].length;k<n;k++)b.push(a[d][k]);return b}var p={},b=/[a-z]+$/i,q=String;\n",
       "p.stroke=p.fill=\"colour\";v.prototype.equal=function(a,b){return k(\"snap.util.equal\",this,a,b).firstDefined()};k.on(\"snap.util.equal\",function(e,k){var r,s;r=q(this.attr(e)||\"\");var x=this;if(r==+r&&k==+k)return{from:+r,to:+k,f:z};if(\"colour\"==p[e])return r=a.color(r),s=a.color(k),{from:[r.r,r.g,r.b,r.opacity],to:[s.r,s.g,s.b,s.opacity],f:f};if(\"transform\"==e||\"gradientTransform\"==e||\"patternTransform\"==e)return k instanceof a.Matrix&&(k=k.toTransformString()),a._.rgTransform.test(k)||(k=a._.svgTransform2string(k)),\n",
       "w(r,k,function(){return x.getBBox(1)});if(\"d\"==e||\"path\"==e)return r=a.path.toCubic(r,k),{from:u(r[0]),to:u(r[1]),f:n(r[0])};if(\"points\"==e)return r=q(r).split(a._.separator),s=q(k).split(a._.separator),{from:r,to:s,f:function(a){return a}};aUnit=r.match(b);s=q(k).match(b);return aUnit&&aUnit==s?{from:parseFloat(r),to:parseFloat(k),f:d(aUnit)}:{from:this.asPX(e),to:this.asPX(e,k),f:z}})});C.plugin(function(a,v,y,C){var A=v.prototype,w=\"createTouch\"in C.doc;v=\"click dblclick mousedown mousemove mouseout mouseover mouseup touchstart touchmove touchend touchcancel\".split(\" \");\n",
       "var z={mousedown:\"touchstart\",mousemove:\"touchmove\",mouseup:\"touchend\"},d=function(a,b){var d=\"y\"==a?\"scrollTop\":\"scrollLeft\",e=b&&b.node?b.node.ownerDocument:C.doc;return e[d in e.documentElement?\"documentElement\":\"body\"][d]},f=function(){this.returnValue=!1},n=function(){return this.originalEvent.preventDefault()},u=function(){this.cancelBubble=!0},p=function(){return this.originalEvent.stopPropagation()},b=function(){if(C.doc.addEventListener)return function(a,b,e,f){var k=w&&z[b]?z[b]:b,l=function(k){var l=\n",
       "d(\"y\",f),q=d(\"x\",f);if(w&&z.hasOwnProperty(b))for(var r=0,u=k.targetTouches&&k.targetTouches.length;r<u;r++)if(k.targetTouches[r].target==a||a.contains(k.targetTouches[r].target)){u=k;k=k.targetTouches[r];k.originalEvent=u;k.preventDefault=n;k.stopPropagation=p;break}return e.call(f,k,k.clientX+q,k.clientY+l)};b!==k&&a.addEventListener(b,l,!1);a.addEventListener(k,l,!1);return function(){b!==k&&a.removeEventListener(b,l,!1);a.removeEventListener(k,l,!1);return!0}};if(C.doc.attachEvent)return function(a,\n",
       "b,e,h){var k=function(a){a=a||h.node.ownerDocument.window.event;var b=d(\"y\",h),k=d(\"x\",h),k=a.clientX+k,b=a.clientY+b;a.preventDefault=a.preventDefault||f;a.stopPropagation=a.stopPropagation||u;return e.call(h,a,k,b)};a.attachEvent(\"on\"+b,k);return function(){a.detachEvent(\"on\"+b,k);return!0}}}(),q=[],e=function(a){for(var b=a.clientX,e=a.clientY,f=d(\"y\"),l=d(\"x\"),n,p=q.length;p--;){n=q[p];if(w)for(var r=a.touches&&a.touches.length,u;r--;){if(u=a.touches[r],u.identifier==n.el._drag.id||n.el.node.contains(u.target)){b=\n",
       "u.clientX;e=u.clientY;(a.originalEvent?a.originalEvent:a).preventDefault();break}}else a.preventDefault();b+=l;e+=f;k(\"snap.drag.move.\"+n.el.id,n.move_scope||n.el,b-n.el._drag.x,e-n.el._drag.y,b,e,a)}},l=function(b){a.unmousemove(e).unmouseup(l);for(var d=q.length,f;d--;)f=q[d],f.el._drag={},k(\"snap.drag.end.\"+f.el.id,f.end_scope||f.start_scope||f.move_scope||f.el,b);q=[]};for(y=v.length;y--;)(function(d){a[d]=A[d]=function(e,f){a.is(e,\"function\")&&(this.events=this.events||[],this.events.push({name:d,\n",
       "f:e,unbind:b(this.node||document,d,e,f||this)}));return this};a[\"un\"+d]=A[\"un\"+d]=function(a){for(var b=this.events||[],e=b.length;e--;)if(b[e].name==d&&(b[e].f==a||!a)){b[e].unbind();b.splice(e,1);!b.length&&delete this.events;break}return this}})(v[y]);A.hover=function(a,b,d,e){return this.mouseover(a,d).mouseout(b,e||d)};A.unhover=function(a,b){return this.unmouseover(a).unmouseout(b)};var r=[];A.drag=function(b,d,f,h,n,p){function u(r,v,w){(r.originalEvent||r).preventDefault();this._drag.x=v;\n",
       "this._drag.y=w;this._drag.id=r.identifier;!q.length&&a.mousemove(e).mouseup(l);q.push({el:this,move_scope:h,start_scope:n,end_scope:p});d&&k.on(\"snap.drag.start.\"+this.id,d);b&&k.on(\"snap.drag.move.\"+this.id,b);f&&k.on(\"snap.drag.end.\"+this.id,f);k(\"snap.drag.start.\"+this.id,n||h||this,v,w,r)}if(!arguments.length){var v;return this.drag(function(a,b){this.attr({transform:v+(v?\"T\":\"t\")+[a,b]})},function(){v=this.transform().local})}this._drag={};r.push({el:this,start:u});this.mousedown(u);return this};\n",
       "A.undrag=function(){for(var b=r.length;b--;)r[b].el==this&&(this.unmousedown(r[b].start),r.splice(b,1),k.unbind(\"snap.drag.*.\"+this.id));!r.length&&a.unmousemove(e).unmouseup(l);return this}});C.plugin(function(a,v,y,C){y=y.prototype;var A=/^\\s*url\\((.+)\\)/,w=String,z=a._.$;a.filter={};y.filter=function(d){var f=this;\"svg\"!=f.type&&(f=f.paper);d=a.parse(w(d));var k=a._.id(),u=z(\"filter\");z(u,{id:k,filterUnits:\"userSpaceOnUse\"});u.appendChild(d.node);f.defs.appendChild(u);return new v(u)};k.on(\"snap.util.getattr.filter\",\n",
       "function(){k.stop();var d=z(this.node,\"filter\");if(d)return(d=w(d).match(A))&&a.select(d[1])});k.on(\"snap.util.attr.filter\",function(d){if(d instanceof v&&\"filter\"==d.type){k.stop();var f=d.node.id;f||(z(d.node,{id:d.id}),f=d.id);z(this.node,{filter:a.url(f)})}d&&\"none\"!=d||(k.stop(),this.node.removeAttribute(\"filter\"))});a.filter.blur=function(d,f){null==d&&(d=2);return a.format('<feGaussianBlur stdDeviation=\"{def}\"/>',{def:null==f?d:[d,f]})};a.filter.blur.toString=function(){return this()};a.filter.shadow=\n",
       "function(d,f,k,u,p){\"string\"==typeof k&&(p=u=k,k=4);\"string\"!=typeof u&&(p=u,u=\"#000\");null==k&&(k=4);null==p&&(p=1);null==d&&(d=0,f=2);null==f&&(f=d);u=a.color(u||\"#000\");return a.format('<feGaussianBlur in=\"SourceAlpha\" stdDeviation=\"{blur}\"/><feOffset dx=\"{dx}\" dy=\"{dy}\" result=\"offsetblur\"/><feFlood flood-color=\"{color}\"/><feComposite in2=\"offsetblur\" operator=\"in\"/><feComponentTransfer><feFuncA type=\"linear\" slope=\"{opacity}\"/></feComponentTransfer><feMerge><feMergeNode/><feMergeNode in=\"SourceGraphic\"/></feMerge>',\n",
       "{color:u,dx:d,dy:f,blur:k,opacity:p})};a.filter.shadow.toString=function(){return this()};a.filter.grayscale=function(d){null==d&&(d=1);return a.format('<feColorMatrix type=\"matrix\" values=\"{a} {b} {c} 0 0 {d} {e} {f} 0 0 {g} {b} {h} 0 0 0 0 0 1 0\"/>',{a:0.2126+0.7874*(1-d),b:0.7152-0.7152*(1-d),c:0.0722-0.0722*(1-d),d:0.2126-0.2126*(1-d),e:0.7152+0.2848*(1-d),f:0.0722-0.0722*(1-d),g:0.2126-0.2126*(1-d),h:0.0722+0.9278*(1-d)})};a.filter.grayscale.toString=function(){return this()};a.filter.sepia=\n",
       "function(d){null==d&&(d=1);return a.format('<feColorMatrix type=\"matrix\" values=\"{a} {b} {c} 0 0 {d} {e} {f} 0 0 {g} {h} {i} 0 0 0 0 0 1 0\"/>',{a:0.393+0.607*(1-d),b:0.769-0.769*(1-d),c:0.189-0.189*(1-d),d:0.349-0.349*(1-d),e:0.686+0.314*(1-d),f:0.168-0.168*(1-d),g:0.272-0.272*(1-d),h:0.534-0.534*(1-d),i:0.131+0.869*(1-d)})};a.filter.sepia.toString=function(){return this()};a.filter.saturate=function(d){null==d&&(d=1);return a.format('<feColorMatrix type=\"saturate\" values=\"{amount}\"/>',{amount:1-\n",
       "d})};a.filter.saturate.toString=function(){return this()};a.filter.hueRotate=function(d){return a.format('<feColorMatrix type=\"hueRotate\" values=\"{angle}\"/>',{angle:d||0})};a.filter.hueRotate.toString=function(){return this()};a.filter.invert=function(d){null==d&&(d=1);return a.format('<feComponentTransfer><feFuncR type=\"table\" tableValues=\"{amount} {amount2}\"/><feFuncG type=\"table\" tableValues=\"{amount} {amount2}\"/><feFuncB type=\"table\" tableValues=\"{amount} {amount2}\"/></feComponentTransfer>',{amount:d,\n",
       "amount2:1-d})};a.filter.invert.toString=function(){return this()};a.filter.brightness=function(d){null==d&&(d=1);return a.format('<feComponentTransfer><feFuncR type=\"linear\" slope=\"{amount}\"/><feFuncG type=\"linear\" slope=\"{amount}\"/><feFuncB type=\"linear\" slope=\"{amount}\"/></feComponentTransfer>',{amount:d})};a.filter.brightness.toString=function(){return this()};a.filter.contrast=function(d){null==d&&(d=1);return a.format('<feComponentTransfer><feFuncR type=\"linear\" slope=\"{amount}\" intercept=\"{amount2}\"/><feFuncG type=\"linear\" slope=\"{amount}\" intercept=\"{amount2}\"/><feFuncB type=\"linear\" slope=\"{amount}\" intercept=\"{amount2}\"/></feComponentTransfer>',\n",
       "{amount:d,amount2:0.5-d/2})};a.filter.contrast.toString=function(){return this()}});return C});\n",
       "\n",
       "]]> </script>\n",
       "</svg>\n"
      ],
      "text/plain": [
       "Context(BBox{l,t,r,b,w,h = 0.0w,0.0h, 1.0w,1.0h, 1.0w,1.0h}, UnitBox{Float64,Float64,Float64,Float64}(-1.2, -1.2, 2.4, 2.4, 0.0mm, 0.0mm, 0.0mm, 0.0mm), nothing, nothing, nothing, List([Context(BBox{l,t,r,b,w,h = 0.0w,0.0h, 1.0w,1.0h, 1.0w,1.0h}, nothing, nothing, nothing, nothing, List([]), List([Compose.Form{Compose.LinePrimitive}(Compose.LinePrimitive[Compose.LinePrimitive{Tuple{Measure,Measure}}(Tuple{Measure,Measure}[(0.36096049015136966cx, -0.8898774323743969cy), (0.9408559377490482cx, 0.18985184582253856cy)]), Compose.LinePrimitive{Tuple{Measure,Measure}}(Tuple{Measure,Measure}[(0.1917239338221654cx, -0.9407999767936706cy), (-0.8899075059217476cx, -0.35917443665447085cy)]), Compose.LinePrimitive{Tuple{Measure,Measure}}(Tuple{Measure,Measure}[(0.8899075059217476cx, 0.3591744366544712cy), (-0.1917239338221653cx, 0.9407999767936706cy)]), Compose.LinePrimitive{Tuple{Measure,Measure}}(Tuple{Measure,Measure}[(-0.9408559377490482cx, -0.18985184582253822cy), (-0.36096049015136955cx, 0.8898774323743969cy)])], Symbol(\"\"))]), List([Compose.Property{Compose.LineWidthPrimitive}(Compose.LineWidthPrimitive[Compose.LineWidthPrimitive(1.5mm)]), Compose.Property{Compose.FillPrimitive}(Compose.FillPrimitive[Compose.FillPrimitive(RGBA{Float64}(0.0,0.0,0.0,0.0))]), Compose.Property{Compose.StrokePrimitive}(Compose.StrokePrimitive[Compose.StrokePrimitive(RGBA{Float64}(0.8274509803921568,0.8274509803921568,0.8274509803921568,1.0))])]), 0, false, false, false, false, nothing, nothing, 0.0, Symbol(\"\")), Context(BBox{l,t,r,b,w,h = 0.0w,0.0h, 1.0w,1.0h, 1.0w,1.0h}, nothing, nothing, nothing, nothing, List([]), List([Compose.Form{Compose.LinePrimitive}(Compose.LinePrimitive[Compose.LinePrimitive{Tuple{Measure,Measure}}(Tuple{Measure,Measure}[(0.9265254557507903cx, 0.09088398596037114cy), (0.9408559377490482cx, 0.18985184582253856cy), (0.8662628375704712cx, 0.12324952299706363cy)]), Compose.LinePrimitive{Tuple{Measure,Measure}}(Tuple{Measure,Measure}[(-0.7909469421528181cx, -0.3735552161373653cy), (-0.8899075059217476cx, -0.35917443665447085cy), (-0.8233431028278769cx, -0.4338013771033241cy)]), Compose.LinePrimitive{Tuple{Measure,Measure}}(Tuple{Measure,Measure}[(-0.09276337005323579cx, 0.926419197310776cy), (-0.1917239338221653cx, 0.9407999767936706cy), (-0.12515953072829455cx, 0.8661730363448172cy)]), Compose.LinePrimitive{Tuple{Measure,Measure}}(Tuple{Measure,Measure}[(-0.3752909721496275cx, 0.7909095725122295cy), (-0.36096049015136955cx, 0.8898774323743969cy), (-0.43555359032994656cx, 0.8232751095489219cy)])], Symbol(\"\"))]), List([Compose.Property{Compose.LineWidthPrimitive}(Compose.LineWidthPrimitive[Compose.LineWidthPrimitive(1.5mm)]), Compose.Property{Compose.StrokePrimitive}(Compose.StrokePrimitive[Compose.StrokePrimitive(RGBA{Float64}(0.8274509803921568,0.8274509803921568,0.8274509803921568,1.0))])]), 0, false, false, false, false, nothing, nothing, 0.0, Symbol(\"\")), Context(BBox{l,t,r,b,w,h = 0.0w,0.0h, 1.0w,1.0h, 1.0w,1.0h}, nothing, nothing, nothing, nothing, List([]), List([]), List([Compose.Property{Compose.FontSizePrimitive}(Compose.FontSizePrimitive[Compose.FontSizePrimitive(4.0mm)]), Compose.Property{Compose.StrokePrimitive}(Compose.StrokePrimitive[Compose.StrokePrimitive(RGBA{Float64}(0.0,0.0,0.0,0.0))]), Compose.Property{Compose.FillPrimitive}(Compose.FillPrimitive[Compose.FillPrimitive(RGBA{Float64}(0.0,0.0,0.0,1.0))])]), 0, false, false, false, false, nothing, nothing, 0.0, Symbol(\"\")), Context(BBox{l,t,r,b,w,h = 0.0w,0.0h, 1.0w,1.0h, 1.0w,1.0h}, nothing, nothing, nothing, nothing, List([]), List([Compose.Form{Compose.CirclePrimitive{Tuple{Measure,Measure},Measure}}(Compose.CirclePrimitive{Tuple{Measure,Measure},Measure}[Compose.CirclePrimitive{Tuple{Measure,Measure},Measure}((0.30181642790041785cx, -1.0cy), 0.05w), Compose.CirclePrimitive{Tuple{Measure,Measure},Measure}((1.0cx, 0.2999744134481417cy), 0.05w), Compose.CirclePrimitive{Tuple{Measure,Measure},Measure}((-1.0cx, -0.29997441344814135cy), 0.05w), Compose.CirclePrimitive{Tuple{Measure,Measure},Measure}((-0.30181642790041774cx, 1.0cy), 0.05w)], Symbol(\"\"))]), List([Compose.Property{Compose.LineWidthPrimitive}(Compose.LineWidthPrimitive[Compose.LineWidthPrimitive(0.0mm)]), Compose.Property{Compose.StrokePrimitive}(Compose.StrokePrimitive[Compose.StrokePrimitive(RGBA{Float64}(0.0,0.0,0.0,0.0))]), Compose.Property{Compose.FillPrimitive}(Compose.FillPrimitive[Compose.FillPrimitive(RGBA{Float64}(0.25098039215686274,0.8784313725490196,0.8156862745098039,1.0))])]), 0, false, false, false, false, nothing, nothing, 0.0, Symbol(\"\")), Context(BBox{l,t,r,b,w,h = 0.0w,0.0h, 1.0w,1.0h, 1.0w,1.0h}, nothing, nothing, nothing, nothing, List([]), List([Compose.Form{Compose.TextPrimitive{Tuple{Measures.Length{:cx,Float64},Measures.Length{:cy,Float64}},Rotation{Tuple{Measures.Length{:w,Float64},Measures.Length{:h,Float64}}},Tuple{Measures.Length{:mm,Float64},Measures.Length{:mm,Float64}}}}(Compose.TextPrimitive{Tuple{Measures.Length{:cx,Float64},Measures.Length{:cy,Float64}},Rotation{Tuple{Measures.Length{:w,Float64},Measures.Length{:h,Float64}}},Tuple{Measures.Length{:mm,Float64},Measures.Length{:mm,Float64}}}[Compose.TextPrimitive{Tuple{Measures.Length{:cx,Float64},Measures.Length{:cy,Float64}},Rotation{Tuple{Measures.Length{:w,Float64},Measures.Length{:h,Float64}}},Tuple{Measures.Length{:mm,Float64},Measures.Length{:mm,Float64}}}((0.30181642790041785cx, -1.0cy), \"1\", Compose.HCenter(), Compose.VCenter(), Rotation{Tuple{Measures.Length{:w,Float64},Measures.Length{:h,Float64}}}(0.0, (0.5w, 0.5h)), (0.0mm, 0.0mm)), Compose.TextPrimitive{Tuple{Measures.Length{:cx,Float64},Measures.Length{:cy,Float64}},Rotation{Tuple{Measures.Length{:w,Float64},Measures.Length{:h,Float64}}},Tuple{Measures.Length{:mm,Float64},Measures.Length{:mm,Float64}}}((1.0cx, 0.2999744134481417cy), \"2\", Compose.HCenter(), Compose.VCenter(), Rotation{Tuple{Measures.Length{:w,Float64},Measures.Length{:h,Float64}}}(0.0, (0.5w, 0.5h)), (0.0mm, 0.0mm)), Compose.TextPrimitive{Tuple{Measures.Length{:cx,Float64},Measures.Length{:cy,Float64}},Rotation{Tuple{Measures.Length{:w,Float64},Measures.Length{:h,Float64}}},Tuple{Measures.Length{:mm,Float64},Measures.Length{:mm,Float64}}}((-1.0cx, -0.29997441344814135cy), \"3\", Compose.HCenter(), Compose.VCenter(), Rotation{Tuple{Measures.Length{:w,Float64},Measures.Length{:h,Float64}}}(0.0, (0.5w, 0.5h)), (0.0mm, 0.0mm)), Compose.TextPrimitive{Tuple{Measures.Length{:cx,Float64},Measures.Length{:cy,Float64}},Rotation{Tuple{Measures.Length{:w,Float64},Measures.Length{:h,Float64}}},Tuple{Measures.Length{:mm,Float64},Measures.Length{:mm,Float64}}}((-0.30181642790041774cx, 1.0cy), \"4\", Compose.HCenter(), Compose.VCenter(), Rotation{Tuple{Measures.Length{:w,Float64},Measures.Length{:h,Float64}}}(0.0, (0.5w, 0.5h)), (0.0mm, 0.0mm))], Symbol(\"\"))]), List([Compose.Property{Compose.FontSizePrimitive}(Compose.FontSizePrimitive[Compose.FontSizePrimitive(4.0mm)]), Compose.Property{Compose.StrokePrimitive}(Compose.StrokePrimitive[Compose.StrokePrimitive(RGBA{Float64}(0.0,0.0,0.0,0.0))]), Compose.Property{Compose.FillPrimitive}(Compose.FillPrimitive[Compose.FillPrimitive(RGBA{Float64}(0.0,0.0,0.0,1.0))])]), 0, false, false, false, false, nothing, nothing, 0.0, Symbol(\"\"))]), List([]), List([]), 0, false, false, false, false, nothing, nothing, 0.0, Symbol(\"\"))"
      ]
     },
     "execution_count": 42,
     "metadata": {},
     "output_type": "execute_result"
    }
   ],
   "source": [
    "nodelabel = 1:nv(G)\n",
    "gplot(G, nodelabel=nodelabel)"
   ]
  },
  {
   "cell_type": "markdown",
   "metadata": {
    "nbpresent": {
     "id": "168b3d5b-ec1f-4fda-92aa-978e93b9e2c6"
    },
    "slideshow": {
     "slide_type": "slide"
    }
   },
   "source": [
    "Next we make a list the available paths from 1 to 4"
   ]
  },
  {
   "cell_type": "code",
   "execution_count": 43,
   "metadata": {
    "nbpresent": {
     "id": "c2661e6c-25bc-4f76-bde4-1e96fa36e924"
    }
   },
   "outputs": [
    {
     "data": {
      "text/plain": [
       "SimplePathIterator{Int64}({4, 4} directed simple Int64 graph, 1, Set([4]), nothing)"
      ]
     },
     "execution_count": 43,
     "metadata": {},
     "output_type": "execute_result"
    }
   ],
   "source": [
    "include(\"code/all_simple_paths.jl\")\n",
    "paths = all_simple_paths(G, 1, 4)"
   ]
  },
  {
   "cell_type": "code",
   "execution_count": 44,
   "metadata": {},
   "outputs": [
    {
     "name": "stdout",
     "output_type": "stream",
     "text": [
      "1 : [1, 3, 4]\n",
      "2 : [1, 2, 4]\n"
     ]
    }
   ],
   "source": [
    "for (i, path) in enumerate(paths)\n",
    "    println(i, \" : \", path)\n",
    "end"
   ]
  },
  {
   "cell_type": "markdown",
   "metadata": {
    "nbpresent": {
     "id": "a382f662-5986-4cce-a299-3f187db024bb"
    },
    "slideshow": {
     "slide_type": "slide"
    }
   },
   "source": [
    "We use a dictionary to store the parameters $(a_i, b_i)$ for each link:"
   ]
  },
  {
   "cell_type": "code",
   "execution_count": 47,
   "metadata": {
    "nbpresent": {
     "id": "8938f57d-d106-4981-b7a5-b92d11387071"
    }
   },
   "outputs": [],
   "source": [
    "linkparams = [(0.1, 0.0), (0.0, 15.0), (0.0, 15.0), (0.1, 0.0)];"
   ]
  },
  {
   "cell_type": "markdown",
   "metadata": {
    "nbpresent": {
     "id": "e29970c4-1833-4386-ba51-4ff87ac22cab"
    }
   },
   "source": [
    "Since paths can share links, it will be helpful to define a link-path adjacency matrix:\n",
    "\n",
    "$$A_{i j} = \\left\\{\\begin{array}{ll}1& \\text{if link $i$ is part of path $j$}\\\\\n",
    "          0 & \\text{otherwise}\\end{array}\\right.$$"
   ]
  },
  {
   "cell_type": "code",
   "execution_count": 45,
   "metadata": {
    "nbpresent": {
     "id": "94a04644-2278-4299-8859-8027d2d478a1"
    },
    "slideshow": {
     "slide_type": "slide"
    }
   },
   "outputs": [
    {
     "data": {
      "text/plain": [
       "4×2 Array{Int64,2}:\n",
       " 0  1\n",
       " 1  0\n",
       " 0  1\n",
       " 1  0"
      ]
     },
     "execution_count": 45,
     "metadata": {},
     "output_type": "execute_result"
    }
   ],
   "source": [
    "function link_path_adjacency(link, path)\n",
    "    for i in 1:(length(path)-1)\n",
    "        (link.src == path[i] && link.dst == path[i+1]) && return 1\n",
    "    end\n",
    "    return 0\n",
    "end\n",
    "\n",
    "E = collect(edges(G))\n",
    "A = zeros(Int64, (length(E), length(paths)))\n",
    "for (i, edge) in enumerate(E), (j, path) in enumerate(paths)\n",
    "    A[i,j] = link_path_adjacency(edge, path)\n",
    "end\n",
    "A"
   ]
  },
  {
   "cell_type": "markdown",
   "metadata": {
    "nbpresent": {
     "id": "a84d50d4-9c4c-4d39-8e21-d02365064c36"
    },
    "slideshow": {
     "slide_type": "slide"
    }
   },
   "source": [
    "Now we define demand-delay functions and store them as a dictionary (again) of functions that will be passed as properties to the model. This is a very dense piece of code so check it at home: "
   ]
  },
  {
   "cell_type": "code",
   "execution_count": 48,
   "metadata": {
    "nbpresent": {
     "id": "b7b3baee-574c-4486-84a9-f5666929af3f"
    }
   },
   "outputs": [
    {
     "data": {
      "text/plain": [
       "Dict{Int64,var\"#14#16\"{Int64}} with 4 entries:\n",
       "  4 => #14\n",
       "  2 => #14\n",
       "  3 => #14\n",
       "  1 => #14"
      ]
     },
     "execution_count": 48,
     "metadata": {},
     "output_type": "execute_result"
    }
   ],
   "source": [
    "n = length(linkparams)\n",
    "a1 = collect(1:n)\n",
    "a2 = [x -> linkparams[i][1] * x + linkparams[i][2] for i in 1:n]\n",
    "demand_delay_functions = Dict( a1 .=> a2)"
   ]
  },
  {
   "cell_type": "markdown",
   "metadata": {
    "nbpresent": {
     "id": "708352b7-a7e2-4dfb-8855-7c809f07d5f2"
    }
   },
   "source": [
    "Now we are ready to start setting up the ABM."
   ]
  },
  {
   "cell_type": "markdown",
   "metadata": {
    "nbpresent": {
     "id": "e7764dc1-42b0-4709-8f0a-874b387362b3"
    },
    "slideshow": {
     "slide_type": "slide"
    }
   },
   "source": [
    "First we define the **agent** object. Our agents have three properties: \n",
    "* an id : every agent in Agents.jl must have a unique integer identifier\n",
    "* current preferred route\n",
    "* travel time for that route (not strictly necessary?)"
   ]
  },
  {
   "cell_type": "code",
   "execution_count": 33,
   "metadata": {
    "nbpresent": {
     "id": "aef3179e-f064-4928-a281-91beb4b7610b"
    }
   },
   "outputs": [],
   "source": [
    "mutable struct driverAgent <: AbstractAgent\n",
    "    id::Int\n",
    "    route_choice::Int\n",
    "    travel_time::Float64\n",
    "end"
   ]
  },
  {
   "cell_type": "markdown",
   "metadata": {
    "nbpresent": {
     "id": "ac4fd9bf-283b-4d1b-a862-985deee9089d"
    }
   },
   "source": [
    "Note that our custom-defined **driverAgent** object inherits properties from **AbstractAgent** which is defined by Agents.jl. This means we only need to worry about the aspects of the agent that are specific to our particular model."
   ]
  },
  {
   "cell_type": "markdown",
   "metadata": {
    "nbpresent": {
     "id": "261243ca-f311-4119-874c-a15f76e46ed9"
    },
    "slideshow": {
     "slide_type": "slide"
    }
   },
   "source": [
    "Next we have to decide what information needs to be passed to the **model** object as properties:\n",
    "* the \"temperature\" parameter, $T$\n",
    "* the link-path adjacency matrix we contructed above\n",
    "* the demand-delay functions we defined above\n",
    "* an array to store the travel times for each path"
   ]
  },
  {
   "cell_type": "code",
   "execution_count": 34,
   "metadata": {
    "nbpresent": {
     "id": "b6b3657c-61bf-4f15-8ba1-e23db258e320"
    }
   },
   "outputs": [
    {
     "data": {
      "text/plain": [
       "Dict{Symbol,Any} with 5 entries:\n",
       "  :T                => 50.0\n",
       "  :routes           => SimplePathIterator{Int64}({4, 4} directed simple Int64 g…\n",
       "  :demand_delay     => Dict{Int64,var\"#14#16\"{Int64}}(4=>#14,2=>#14,3=>#14,1=>#…\n",
       "  :route_times      => [0.0, 0.0]\n",
       "  :link_path_matrix => [0 1; 1 0; 0 1; 1 0]"
      ]
     },
     "execution_count": 34,
     "metadata": {},
     "output_type": "execute_result"
    }
   ],
   "source": [
    "route_times = zeros(Float64,length(paths))\n",
    "properties = Dict{Symbol, Any}(\n",
    "    :T => 50.0, \n",
    "    :link_path_matrix => A, \n",
    "    :demand_delay => demand_delay_functions, \n",
    "    :route_times => route_times,\n",
    "    :routes => paths\n",
    ")"
   ]
  },
  {
   "cell_type": "markdown",
   "metadata": {
    "nbpresent": {
     "id": "32bcd5c2-b8ea-4f18-9758-1de77aa74907"
    }
   },
   "source": [
    "Note that we again use a dictionary to pass properties to the model. The :x syntax creates a symbol in Julia - here it helps avoid confusion with variables that might contain values."
   ]
  },
  {
   "cell_type": "markdown",
   "metadata": {
    "nbpresent": {
     "id": "4691f7cc-5e62-44fe-841f-b4ebe00c7b4a"
    },
    "slideshow": {
     "slide_type": "slide"
    }
   },
   "source": [
    "### Building the model\n",
    "\n",
    "It is common practice to encapsulate the building and initialisation into a function so that model instances can be created easily"
   ]
  },
  {
   "cell_type": "code",
   "execution_count": 35,
   "metadata": {
    "nbpresent": {
     "id": "1f2082a2-bd96-4f0b-8e4b-3f7f7efe31fd"
    }
   },
   "outputs": [
    {
     "data": {
      "text/plain": [
       "initialise (generic function with 1 method)"
      ]
     },
     "execution_count": 35,
     "metadata": {},
     "output_type": "execute_result"
    }
   ],
   "source": [
    "function initialise(;numagents = 100, properties = Dict{Symbol,Any})\n",
    "    model = ABM(driverAgent, scheduler=fastest, properties=properties)\n",
    "    for i in 1:numagents\n",
    "        add_agent!(model, 1, 0.0)\n",
    "    end\n",
    "    return model\n",
    "end"
   ]
  },
  {
   "cell_type": "markdown",
   "metadata": {
    "nbpresent": {
     "id": "481c3450-406d-46bf-a602-9dc90b23d8eb"
    },
    "slideshow": {
     "slide_type": "slide"
    }
   },
   "source": [
    "### Defining the agent update function"
   ]
  },
  {
   "cell_type": "code",
   "execution_count": 36,
   "metadata": {
    "nbpresent": {
     "id": "6a5f91ad-cd57-4826-b5c7-84da31088ba0"
    }
   },
   "outputs": [
    {
     "data": {
      "text/plain": [
       "agent_step! (generic function with 1 method)"
      ]
     },
     "execution_count": 36,
     "metadata": {},
     "output_type": "execute_result"
    }
   ],
   "source": [
    "function agent_step!(agent, model)\n",
    "    T = model.properties[:T] \n",
    "    previous_route_times = model.properties[:route_times]; \n",
    "    nroutes = length(previous_route_times)\n",
    "    # Check how long agent's current route choice took the previous day\n",
    "    t = previous_route_times[agent.route_choice]\n",
    "    # Make a list of alternative routes\n",
    "    alternative_routes = collect(1:nroutes)\n",
    "    deleteat!(alternative_routes, alternative_routes .== agent.route_choice)\n",
    "    # Check how long a random alternative would have taken\n",
    "    alternative_route = rand(alternative_routes)\n",
    "    t_alternative = previous_route_times[alternative_route]\n",
    "    # Calculate the difference between the times for chosen route and alternative\n",
    "    Δt = t_alternative - t\n",
    "    # Switch route if Δt is negative with a probability that goes to 0 with Δt\n",
    "    if Δt <=0\n",
    "        P = 1.0 - exp(Δt/T)\n",
    "        rand() < P && (agent.route_choice = alternative_route)\n",
    "    end\n",
    "end"
   ]
  },
  {
   "cell_type": "markdown",
   "metadata": {
    "nbpresent": {
     "id": "60bbbcf8-ed7b-42c4-95a3-6c5de891ae4c"
    },
    "slideshow": {
     "slide_type": "slide"
    }
   },
   "source": [
    "### Defining the model update function\n",
    "At each iteration of the model, this is run *after* all the agents have updated.\n",
    "The model update needs to do the following:\n",
    "1. count how many agents chose each route in the previous iteration. These are the \"path flows\", $\\{h_i,\\ i=1\\ldots n_p\\}$, where $n_p$ is the number of paths from origin to destination.\n",
    "2. use the path flows to determine how many agents use each link (remember in general paths can share links). The \"link flows\",  $\\{x_i,\\ i=1\\ldots n_e\\}$, where $n_e$ is the number of edges in the network. The link-path adjacency matrix comes in handy here:"
   ]
  },
  {
   "cell_type": "markdown",
   "metadata": {
    "nbpresent": {
     "id": "60bbbcf8-ed7b-42c4-95a3-6c5de891ae4c"
    },
    "slideshow": {
     "slide_type": "slide"
    }
   },
   "source": [
    "### Defining the model update function\n",
    "\n",
    "$$ x_i = \\sum_{j=1}^{n_p} A_{i\\,j}\\, h_j $$\n",
    "3. Calculate the path travel times and update the agents' estimates of the travel times for their prefered routes. The link-path adjacency matrix again comes in handy here. The travel time for path $k$ is:\n",
    "$$ T_k = \\sum_{j=1}^{n_e} A_{j\\,k}\\, \\tau_j(x_j) $$"
   ]
  },
  {
   "cell_type": "markdown",
   "metadata": {
    "nbpresent": {
     "id": "bbd7912c-eac4-4126-8566-621c553151f6"
    },
    "slideshow": {
     "slide_type": "slide"
    }
   },
   "source": [
    "Here's the function:"
   ]
  },
  {
   "cell_type": "code",
   "execution_count": 37,
   "metadata": {
    "nbpresent": {
     "id": "a0344ade-a6f2-46f6-bb09-a903e11e1401"
    }
   },
   "outputs": [
    {
     "data": {
      "text/plain": [
       "model_step! (generic function with 1 method)"
      ]
     },
     "execution_count": 37,
     "metadata": {},
     "output_type": "execute_result"
    }
   ],
   "source": [
    "function model_step!(model)\n",
    "    A = model.properties[:link_path_matrix]\n",
    "    nlinks=size(A)[1]\n",
    "    npaths=size(A)[2]\n",
    "    # Count how many agents chose each route\n",
    "    path_counts = zeros(Int64,npaths)\n",
    "    for agent in allagents(model)\n",
    "        r = agent.route_choice\n",
    "        path_counts[r]+=1\n",
    "    end\n",
    "    # Derive the link counts from the path counts\n",
    "    link_counts = A * path_counts\n",
    "    # Derive the link travel times from the link counts\n",
    "    link_travel_times = [model.properties[:demand_delay][i](link_counts[i]) for i in 1:nlinks]\n",
    "    # Calculate updated path travel times for each route based on the link travel times\n",
    "    model.properties[:route_times] = link_travel_times'*A\n",
    "    # Update the agents travel times\n",
    "    for agent in allagents(model)\n",
    "        r = agent.route_choice\n",
    "        agent.travel_time = model.properties[:route_times][r]\n",
    "    end\n",
    "end"
   ]
  },
  {
   "cell_type": "markdown",
   "metadata": {
    "nbpresent": {
     "id": "49d74200-b77d-4721-b09e-d4dc78184177"
    },
    "slideshow": {
     "slide_type": "slide"
    }
   },
   "source": [
    "## Running the model and gathering the data"
   ]
  },
  {
   "cell_type": "code",
   "execution_count": 38,
   "metadata": {
    "nbpresent": {
     "id": "7b55b2f6-ec43-4c1d-8b73-75f46b3ac06c"
    }
   },
   "outputs": [],
   "source": [
    "# Set up data gathering\n",
    "adata = [:route_choice, :travel_time]\n",
    "n = 100  # number of time steps to run the simulation\n",
    "when = 1:n  # At which steps to collect data\n",
    "# Initialise the model\n",
    "model = initialise(properties = properties)\n",
    "# Run the model\n",
    "data, _  = run!(model, agent_step!, model_step!, n; adata);"
   ]
  },
  {
   "cell_type": "markdown",
   "metadata": {
    "nbpresent": {
     "id": "abfdc902-f51e-4ee7-bb02-668233484679"
    }
   },
   "source": [
    "* `adata` are the agent properties to measure during the run.\n",
    "* `when` specifies the time steps you want to gather data. You don't have to output at every step.\n",
    "* `properties` is the dictionary of model properties defined above.\n",
    "* `agent_step!` and `model_step!` are the functions defined above."
   ]
  },
  {
   "cell_type": "markdown",
   "metadata": {
    "nbpresent": {
     "id": "b043867b-3c18-418c-bfc4-b236b62aec08"
    },
    "slideshow": {
     "slide_type": "slide"
    }
   },
   "source": [
    "## Analysing the output\n",
    "\n",
    "The output looks like this:"
   ]
  },
  {
   "cell_type": "code",
   "execution_count": 39,
   "metadata": {
    "nbpresent": {
     "id": "15b571a0-7a8c-4c94-8de3-42eef0119bf9"
    }
   },
   "outputs": [
    {
     "data": {
      "text/html": [
       "<table class=\"data-frame\"><thead><tr><th></th><th>step</th><th>id</th><th>route_choice</th><th>travel_time</th></tr><tr><th></th><th>Int64</th><th>Int64</th><th>Int64</th><th>Float64</th></tr></thead><tbody><p>10 rows × 4 columns</p><tr><th>1</th><td>0</td><td>1</td><td>1</td><td>0.0</td></tr><tr><th>2</th><td>0</td><td>2</td><td>1</td><td>0.0</td></tr><tr><th>3</th><td>0</td><td>3</td><td>1</td><td>0.0</td></tr><tr><th>4</th><td>0</td><td>4</td><td>1</td><td>0.0</td></tr><tr><th>5</th><td>0</td><td>5</td><td>1</td><td>0.0</td></tr><tr><th>6</th><td>0</td><td>6</td><td>1</td><td>0.0</td></tr><tr><th>7</th><td>0</td><td>7</td><td>1</td><td>0.0</td></tr><tr><th>8</th><td>0</td><td>8</td><td>1</td><td>0.0</td></tr><tr><th>9</th><td>0</td><td>9</td><td>1</td><td>0.0</td></tr><tr><th>10</th><td>0</td><td>10</td><td>1</td><td>0.0</td></tr></tbody></table>"
      ],
      "text/latex": [
       "\\begin{tabular}{r|cccc}\n",
       "\t& step & id & route\\_choice & travel\\_time\\\\\n",
       "\t\\hline\n",
       "\t& Int64 & Int64 & Int64 & Float64\\\\\n",
       "\t\\hline\n",
       "\t1 & 0 & 1 & 1 & 0.0 \\\\\n",
       "\t2 & 0 & 2 & 1 & 0.0 \\\\\n",
       "\t3 & 0 & 3 & 1 & 0.0 \\\\\n",
       "\t4 & 0 & 4 & 1 & 0.0 \\\\\n",
       "\t5 & 0 & 5 & 1 & 0.0 \\\\\n",
       "\t6 & 0 & 6 & 1 & 0.0 \\\\\n",
       "\t7 & 0 & 7 & 1 & 0.0 \\\\\n",
       "\t8 & 0 & 8 & 1 & 0.0 \\\\\n",
       "\t9 & 0 & 9 & 1 & 0.0 \\\\\n",
       "\t10 & 0 & 10 & 1 & 0.0 \\\\\n",
       "\\end{tabular}\n"
      ],
      "text/plain": [
       "\u001b[1m10×4 DataFrame\u001b[0m\n",
       "\u001b[1m Row \u001b[0m│\u001b[1m step  \u001b[0m\u001b[1m id    \u001b[0m\u001b[1m route_choice \u001b[0m\u001b[1m travel_time \u001b[0m\n",
       "\u001b[1m     \u001b[0m│\u001b[90m Int64 \u001b[0m\u001b[90m Int64 \u001b[0m\u001b[90m Int64        \u001b[0m\u001b[90m Float64     \u001b[0m\n",
       "─────┼─────────────────────────────────────────\n",
       "   1 │     0      1             1          0.0\n",
       "   2 │     0      2             1          0.0\n",
       "   3 │     0      3             1          0.0\n",
       "   4 │     0      4             1          0.0\n",
       "   5 │     0      5             1          0.0\n",
       "   6 │     0      6             1          0.0\n",
       "   7 │     0      7             1          0.0\n",
       "   8 │     0      8             1          0.0\n",
       "   9 │     0      9             1          0.0\n",
       "  10 │     0     10             1          0.0"
      ]
     },
     "execution_count": 39,
     "metadata": {},
     "output_type": "execute_result"
    }
   ],
   "source": [
    "data[1:10, :]"
   ]
  },
  {
   "cell_type": "markdown",
   "metadata": {
    "nbpresent": {
     "id": "f3ef2931-3e5e-447b-87bc-b68a597d19fc"
    },
    "slideshow": {
     "slide_type": "slide"
    }
   },
   "source": [
    "## Analysing the output\n",
    "\n",
    "You will need to learn a bit about manipulating data frames: https://juliadata.github.io/DataFrames.jl/stable/"
   ]
  },
  {
   "cell_type": "code",
   "execution_count": 40,
   "metadata": {
    "cell_style": "split",
    "nbpresent": {
     "id": "85210e26-dd7b-4082-8722-712b81719f96"
    }
   },
   "outputs": [
    {
     "data": {
      "text/html": [
       "<table class=\"data-frame\"><thead><tr><th></th><th>step</th><th>T</th></tr><tr><th></th><th>Int64</th><th>Float64</th></tr></thead><tbody><p>100 rows × 2 columns</p><tr><th>1</th><td>1</td><td>25.0</td></tr><tr><th>2</th><td>2</td><td>22.178</td></tr><tr><th>3</th><td>3</td><td>21.568</td></tr><tr><th>4</th><td>4</td><td>20.578</td></tr><tr><th>5</th><td>5</td><td>20.392</td></tr><tr><th>6</th><td>6</td><td>20.162</td></tr><tr><th>7</th><td>7</td><td>20.128</td></tr><tr><th>8</th><td>8</td><td>20.018</td></tr><tr><th>9</th><td>9</td><td>20.008</td></tr><tr><th>10</th><td>10</td><td>20.008</td></tr><tr><th>11</th><td>11</td><td>20.0</td></tr><tr><th>12</th><td>12</td><td>20.0</td></tr><tr><th>13</th><td>13</td><td>20.0</td></tr><tr><th>14</th><td>14</td><td>20.0</td></tr><tr><th>15</th><td>15</td><td>20.0</td></tr><tr><th>16</th><td>16</td><td>20.0</td></tr><tr><th>17</th><td>17</td><td>20.0</td></tr><tr><th>18</th><td>18</td><td>20.0</td></tr><tr><th>19</th><td>19</td><td>20.0</td></tr><tr><th>20</th><td>20</td><td>20.0</td></tr><tr><th>21</th><td>21</td><td>20.0</td></tr><tr><th>22</th><td>22</td><td>20.0</td></tr><tr><th>23</th><td>23</td><td>20.0</td></tr><tr><th>24</th><td>24</td><td>20.0</td></tr><tr><th>25</th><td>25</td><td>20.0</td></tr><tr><th>26</th><td>26</td><td>20.0</td></tr><tr><th>27</th><td>27</td><td>20.0</td></tr><tr><th>28</th><td>28</td><td>20.0</td></tr><tr><th>29</th><td>29</td><td>20.0</td></tr><tr><th>30</th><td>30</td><td>20.0</td></tr><tr><th>&vellip;</th><td>&vellip;</td><td>&vellip;</td></tr></tbody></table>"
      ],
      "text/latex": [
       "\\begin{tabular}{r|cc}\n",
       "\t& step & T\\\\\n",
       "\t\\hline\n",
       "\t& Int64 & Float64\\\\\n",
       "\t\\hline\n",
       "\t1 & 1 & 25.0 \\\\\n",
       "\t2 & 2 & 22.178 \\\\\n",
       "\t3 & 3 & 21.568 \\\\\n",
       "\t4 & 4 & 20.578 \\\\\n",
       "\t5 & 5 & 20.392 \\\\\n",
       "\t6 & 6 & 20.162 \\\\\n",
       "\t7 & 7 & 20.128 \\\\\n",
       "\t8 & 8 & 20.018 \\\\\n",
       "\t9 & 9 & 20.008 \\\\\n",
       "\t10 & 10 & 20.008 \\\\\n",
       "\t11 & 11 & 20.0 \\\\\n",
       "\t12 & 12 & 20.0 \\\\\n",
       "\t13 & 13 & 20.0 \\\\\n",
       "\t14 & 14 & 20.0 \\\\\n",
       "\t15 & 15 & 20.0 \\\\\n",
       "\t16 & 16 & 20.0 \\\\\n",
       "\t17 & 17 & 20.0 \\\\\n",
       "\t18 & 18 & 20.0 \\\\\n",
       "\t19 & 19 & 20.0 \\\\\n",
       "\t20 & 20 & 20.0 \\\\\n",
       "\t21 & 21 & 20.0 \\\\\n",
       "\t22 & 22 & 20.0 \\\\\n",
       "\t23 & 23 & 20.0 \\\\\n",
       "\t24 & 24 & 20.0 \\\\\n",
       "\t25 & 25 & 20.0 \\\\\n",
       "\t26 & 26 & 20.0 \\\\\n",
       "\t27 & 27 & 20.0 \\\\\n",
       "\t28 & 28 & 20.0 \\\\\n",
       "\t29 & 29 & 20.0 \\\\\n",
       "\t30 & 30 & 20.0 \\\\\n",
       "\t$\\dots$ & $\\dots$ & $\\dots$ \\\\\n",
       "\\end{tabular}\n"
      ],
      "text/plain": [
       "\u001b[1m100×2 DataFrame\u001b[0m\n",
       "\u001b[1m Row \u001b[0m│\u001b[1m step  \u001b[0m\u001b[1m T       \u001b[0m\n",
       "\u001b[1m     \u001b[0m│\u001b[90m Int64 \u001b[0m\u001b[90m Float64 \u001b[0m\n",
       "─────┼────────────────\n",
       "   1 │     1   25.0\n",
       "   2 │     2   22.178\n",
       "   3 │     3   21.568\n",
       "   4 │     4   20.578\n",
       "   5 │     5   20.392\n",
       "   6 │     6   20.162\n",
       "   7 │     7   20.128\n",
       "   8 │     8   20.018\n",
       "   9 │     9   20.008\n",
       "  10 │    10   20.008\n",
       "  11 │    11   20.0\n",
       "  ⋮  │   ⋮       ⋮\n",
       "  91 │    91   20.0\n",
       "  92 │    92   20.0\n",
       "  93 │    93   20.0\n",
       "  94 │    94   20.0\n",
       "  95 │    95   20.0\n",
       "  96 │    96   20.0\n",
       "  97 │    97   20.0\n",
       "  98 │    98   20.0\n",
       "  99 │    99   20.0\n",
       " 100 │   100   20.0\n",
       "\u001b[36m       79 rows omitted\u001b[0m"
      ]
     },
     "execution_count": 40,
     "metadata": {},
     "output_type": "execute_result"
    }
   ],
   "source": [
    "using DataFrames\n",
    "gdf = groupby(data, :step)\n",
    "df_average_travel = combine(gdf, :travel_time => mean => :T)\n",
    "delete!(df_average_travel, 1)"
   ]
  },
  {
   "cell_type": "markdown",
   "metadata": {
    "cell_style": "split",
    "nbpresent": {
     "id": "39a425a9-73aa-4df7-b0d9-82af70c083af"
    }
   },
   "source": [
    "Especially the [split-apply-combine](https://juliadata.github.io/DataFrames.jl/stable/man/split_apply_combine/) functionality of the `groupby` command which allows us to group the data by the step and the ```combine``` command to perform operations such as counts or averages on the groups. This is the analogue of the `pandas.DataFrame.groupby()` for those of you familiar with Python's pandas library."
   ]
  },
  {
   "cell_type": "markdown",
   "metadata": {
    "nbpresent": {
     "id": "08538037-fe2f-499e-87f7-ba6e3de5015d"
    },
    "slideshow": {
     "slide_type": "slide"
    }
   },
   "source": [
    "## Path flows\n",
    "\n",
    "Let's plot the number of users of each path"
   ]
  },
  {
   "cell_type": "code",
   "execution_count": 41,
   "metadata": {
    "cell_style": "split",
    "nbpresent": {
     "id": "260b2083-30f7-4c59-b431-a33a67d55d08"
    }
   },
   "outputs": [],
   "source": [
    "gdf = groupby(data, [:step, :route_choice])\n",
    "df = combine(gdf, nrow => :count)\n",
    "routes_df = groupby(df, :route_choice);"
   ]
  },
  {
   "cell_type": "code",
   "execution_count": 45,
   "metadata": {
    "cell_style": "split"
   },
   "outputs": [
    {
     "data": {
      "image/svg+xml": [
       "<?xml version=\"1.0\" encoding=\"utf-8\"?>\n",
       "<svg xmlns=\"http://www.w3.org/2000/svg\" xmlns:xlink=\"http://www.w3.org/1999/xlink\" width=\"600\" height=\"400\" viewBox=\"0 0 2400 1600\">\n",
       "<defs>\n",
       "  <clipPath id=\"clip070\">\n",
       "    <rect x=\"0\" y=\"0\" width=\"2400\" height=\"1600\"/>\n",
       "  </clipPath>\n",
       "</defs>\n",
       "<path clip-path=\"url(#clip070)\" d=\"\n",
       "M0 1600 L2400 1600 L2400 0 L0 0  Z\n",
       "  \" fill=\"#ffffff\" fill-rule=\"evenodd\" fill-opacity=\"1\"/>\n",
       "<defs>\n",
       "  <clipPath id=\"clip071\">\n",
       "    <rect x=\"480\" y=\"0\" width=\"1681\" height=\"1600\"/>\n",
       "  </clipPath>\n",
       "</defs>\n",
       "<path clip-path=\"url(#clip070)\" d=\"\n",
       "M224.866 1423.18 L2352.76 1423.18 L2352.76 47.2441 L224.866 47.2441  Z\n",
       "  \" fill=\"#ffffff\" fill-rule=\"evenodd\" fill-opacity=\"1\"/>\n",
       "<defs>\n",
       "  <clipPath id=\"clip072\">\n",
       "    <rect x=\"224\" y=\"47\" width=\"2129\" height=\"1377\"/>\n",
       "  </clipPath>\n",
       "</defs>\n",
       "<polyline clip-path=\"url(#clip072)\" style=\"stroke:#000000; stroke-width:2; stroke-opacity:0.1; fill:none\" points=\"\n",
       "  285.09,1423.18 285.09,47.2441 \n",
       "  \"/>\n",
       "<polyline clip-path=\"url(#clip072)\" style=\"stroke:#000000; stroke-width:2; stroke-opacity:0.1; fill:none\" points=\"\n",
       "  786.95,1423.18 786.95,47.2441 \n",
       "  \"/>\n",
       "<polyline clip-path=\"url(#clip072)\" style=\"stroke:#000000; stroke-width:2; stroke-opacity:0.1; fill:none\" points=\"\n",
       "  1288.81,1423.18 1288.81,47.2441 \n",
       "  \"/>\n",
       "<polyline clip-path=\"url(#clip072)\" style=\"stroke:#000000; stroke-width:2; stroke-opacity:0.1; fill:none\" points=\"\n",
       "  1790.67,1423.18 1790.67,47.2441 \n",
       "  \"/>\n",
       "<polyline clip-path=\"url(#clip072)\" style=\"stroke:#000000; stroke-width:2; stroke-opacity:0.1; fill:none\" points=\"\n",
       "  2292.53,1423.18 2292.53,47.2441 \n",
       "  \"/>\n",
       "<polyline clip-path=\"url(#clip070)\" style=\"stroke:#000000; stroke-width:4; stroke-opacity:1; fill:none\" points=\"\n",
       "  224.866,1423.18 2352.76,1423.18 \n",
       "  \"/>\n",
       "<polyline clip-path=\"url(#clip070)\" style=\"stroke:#000000; stroke-width:4; stroke-opacity:1; fill:none\" points=\"\n",
       "  285.09,1423.18 285.09,1406.67 \n",
       "  \"/>\n",
       "<polyline clip-path=\"url(#clip070)\" style=\"stroke:#000000; stroke-width:4; stroke-opacity:1; fill:none\" points=\"\n",
       "  786.95,1423.18 786.95,1406.67 \n",
       "  \"/>\n",
       "<polyline clip-path=\"url(#clip070)\" style=\"stroke:#000000; stroke-width:4; stroke-opacity:1; fill:none\" points=\"\n",
       "  1288.81,1423.18 1288.81,1406.67 \n",
       "  \"/>\n",
       "<polyline clip-path=\"url(#clip070)\" style=\"stroke:#000000; stroke-width:4; stroke-opacity:1; fill:none\" points=\"\n",
       "  1790.67,1423.18 1790.67,1406.67 \n",
       "  \"/>\n",
       "<polyline clip-path=\"url(#clip070)\" style=\"stroke:#000000; stroke-width:4; stroke-opacity:1; fill:none\" points=\"\n",
       "  2292.53,1423.18 2292.53,1406.67 \n",
       "  \"/>\n",
       "<path clip-path=\"url(#clip070)\" d=\"M 0 0 M285.09 1452.37 Q281.478 1452.37 279.65 1455.94 Q277.844 1459.48 277.844 1466.61 Q277.844 1473.71 279.65 1477.28 Q281.478 1480.82 285.09 1480.82 Q288.724 1480.82 290.529 1477.28 Q292.358 1473.71 292.358 1466.61 Q292.358 1459.48 290.529 1455.94 Q288.724 1452.37 285.09 1452.37 M285.09 1448.67 Q290.9 1448.67 293.955 1453.27 Q297.034 1457.86 297.034 1466.61 Q297.034 1475.33 293.955 1479.94 Q290.9 1484.52 285.09 1484.52 Q279.279 1484.52 276.201 1479.94 Q273.145 1475.33 273.145 1466.61 Q273.145 1457.86 276.201 1453.27 Q279.279 1448.67 285.09 1448.67 Z\" fill=\"#000000\" fill-rule=\"evenodd\" fill-opacity=\"1\" /><path clip-path=\"url(#clip070)\" d=\"M 0 0 M768.594 1479.92 L784.913 1479.92 L784.913 1483.85 L762.969 1483.85 L762.969 1479.92 Q765.631 1477.16 770.214 1472.53 Q774.821 1467.88 776.001 1466.54 Q778.247 1464.01 779.126 1462.28 Q780.029 1460.52 780.029 1458.83 Q780.029 1456.07 778.085 1454.34 Q776.163 1452.6 773.061 1452.6 Q770.862 1452.6 768.409 1453.37 Q765.978 1454.13 763.2 1455.68 L763.2 1450.96 Q766.024 1449.82 768.478 1449.25 Q770.932 1448.67 772.969 1448.67 Q778.339 1448.67 781.534 1451.35 Q784.728 1454.04 784.728 1458.53 Q784.728 1460.66 783.918 1462.58 Q783.131 1464.48 781.024 1467.07 Q780.446 1467.74 777.344 1470.96 Q774.242 1474.15 768.594 1479.92 Z\" fill=\"#000000\" fill-rule=\"evenodd\" fill-opacity=\"1\" /><path clip-path=\"url(#clip070)\" d=\"M 0 0 M790.029 1449.29 L808.385 1449.29 L808.385 1453.23 L794.311 1453.23 L794.311 1461.7 Q795.33 1461.35 796.348 1461.19 Q797.367 1461 798.385 1461 Q804.172 1461 807.552 1464.18 Q810.932 1467.35 810.932 1472.76 Q810.932 1478.34 807.459 1481.44 Q803.987 1484.52 797.668 1484.52 Q795.492 1484.52 793.223 1484.15 Q790.978 1483.78 788.571 1483.04 L788.571 1478.34 Q790.654 1479.48 792.876 1480.03 Q795.098 1480.59 797.575 1480.59 Q801.58 1480.59 803.918 1478.48 Q806.256 1476.38 806.256 1472.76 Q806.256 1469.15 803.918 1467.05 Q801.58 1464.94 797.575 1464.94 Q795.7 1464.94 793.825 1465.36 Q791.973 1465.77 790.029 1466.65 L790.029 1449.29 Z\" fill=\"#000000\" fill-rule=\"evenodd\" fill-opacity=\"1\" /><path clip-path=\"url(#clip070)\" d=\"M 0 0 M1265.58 1449.29 L1283.94 1449.29 L1283.94 1453.23 L1269.86 1453.23 L1269.86 1461.7 Q1270.88 1461.35 1271.9 1461.19 Q1272.92 1461 1273.94 1461 Q1279.73 1461 1283.11 1464.18 Q1286.48 1467.35 1286.48 1472.76 Q1286.48 1478.34 1283.01 1481.44 Q1279.54 1484.52 1273.22 1484.52 Q1271.04 1484.52 1268.78 1484.15 Q1266.53 1483.78 1264.12 1483.04 L1264.12 1478.34 Q1266.21 1479.48 1268.43 1480.03 Q1270.65 1480.59 1273.13 1480.59 Q1277.13 1480.59 1279.47 1478.48 Q1281.81 1476.38 1281.81 1472.76 Q1281.81 1469.15 1279.47 1467.05 Q1277.13 1464.94 1273.13 1464.94 Q1271.25 1464.94 1269.38 1465.36 Q1267.53 1465.77 1265.58 1466.65 L1265.58 1449.29 Z\" fill=\"#000000\" fill-rule=\"evenodd\" fill-opacity=\"1\" /><path clip-path=\"url(#clip070)\" d=\"M 0 0 M1301.55 1452.37 Q1297.94 1452.37 1296.11 1455.94 Q1294.31 1459.48 1294.31 1466.61 Q1294.31 1473.71 1296.11 1477.28 Q1297.94 1480.82 1301.55 1480.82 Q1305.19 1480.82 1306.99 1477.28 Q1308.82 1473.71 1308.82 1466.61 Q1308.82 1459.48 1306.99 1455.94 Q1305.19 1452.37 1301.55 1452.37 M1301.55 1448.67 Q1307.36 1448.67 1310.42 1453.27 Q1313.5 1457.86 1313.5 1466.61 Q1313.5 1475.33 1310.42 1479.94 Q1307.36 1484.52 1301.55 1484.52 Q1295.74 1484.52 1292.67 1479.94 Q1289.61 1475.33 1289.61 1466.61 Q1289.61 1457.86 1292.67 1453.27 Q1295.74 1448.67 1301.55 1448.67 Z\" fill=\"#000000\" fill-rule=\"evenodd\" fill-opacity=\"1\" /><path clip-path=\"url(#clip070)\" d=\"M 0 0 M1766.55 1449.29 L1788.77 1449.29 L1788.77 1451.28 L1776.23 1483.85 L1771.34 1483.85 L1783.15 1453.23 L1766.55 1453.23 L1766.55 1449.29 Z\" fill=\"#000000\" fill-rule=\"evenodd\" fill-opacity=\"1\" /><path clip-path=\"url(#clip070)\" d=\"M 0 0 M1793.89 1449.29 L1812.25 1449.29 L1812.25 1453.23 L1798.17 1453.23 L1798.17 1461.7 Q1799.19 1461.35 1800.21 1461.19 Q1801.23 1461 1802.25 1461 Q1808.03 1461 1811.41 1464.18 Q1814.79 1467.35 1814.79 1472.76 Q1814.79 1478.34 1811.32 1481.44 Q1807.85 1484.52 1801.53 1484.52 Q1799.35 1484.52 1797.08 1484.15 Q1794.84 1483.78 1792.43 1483.04 L1792.43 1478.34 Q1794.51 1479.48 1796.74 1480.03 Q1798.96 1480.59 1801.44 1480.59 Q1805.44 1480.59 1807.78 1478.48 Q1810.12 1476.38 1810.12 1472.76 Q1810.12 1469.15 1807.78 1467.05 Q1805.44 1464.94 1801.44 1464.94 Q1799.56 1464.94 1797.69 1465.36 Q1795.83 1465.77 1793.89 1466.65 L1793.89 1449.29 Z\" fill=\"#000000\" fill-rule=\"evenodd\" fill-opacity=\"1\" /><path clip-path=\"url(#clip070)\" d=\"M 0 0 M2255.9 1479.92 L2263.54 1479.92 L2263.54 1453.55 L2255.23 1455.22 L2255.23 1450.96 L2263.49 1449.29 L2268.17 1449.29 L2268.17 1479.92 L2275.81 1479.92 L2275.81 1483.85 L2255.9 1483.85 L2255.9 1479.92 Z\" fill=\"#000000\" fill-rule=\"evenodd\" fill-opacity=\"1\" /><path clip-path=\"url(#clip070)\" d=\"M 0 0 M2290.88 1452.37 Q2287.27 1452.37 2285.44 1455.94 Q2283.63 1459.48 2283.63 1466.61 Q2283.63 1473.71 2285.44 1477.28 Q2287.27 1480.82 2290.88 1480.82 Q2294.51 1480.82 2296.32 1477.28 Q2298.15 1473.71 2298.15 1466.61 Q2298.15 1459.48 2296.32 1455.94 Q2294.51 1452.37 2290.88 1452.37 M2290.88 1448.67 Q2296.69 1448.67 2299.74 1453.27 Q2302.82 1457.86 2302.82 1466.61 Q2302.82 1475.33 2299.74 1479.94 Q2296.69 1484.52 2290.88 1484.52 Q2285.07 1484.52 2281.99 1479.94 Q2278.93 1475.33 2278.93 1466.61 Q2278.93 1457.86 2281.99 1453.27 Q2285.07 1448.67 2290.88 1448.67 Z\" fill=\"#000000\" fill-rule=\"evenodd\" fill-opacity=\"1\" /><path clip-path=\"url(#clip070)\" d=\"M 0 0 M2317.89 1452.37 Q2314.28 1452.37 2312.45 1455.94 Q2310.65 1459.48 2310.65 1466.61 Q2310.65 1473.71 2312.45 1477.28 Q2314.28 1480.82 2317.89 1480.82 Q2321.53 1480.82 2323.33 1477.28 Q2325.16 1473.71 2325.16 1466.61 Q2325.16 1459.48 2323.33 1455.94 Q2321.53 1452.37 2317.89 1452.37 M2317.89 1448.67 Q2323.7 1448.67 2326.76 1453.27 Q2329.84 1457.86 2329.84 1466.61 Q2329.84 1475.33 2326.76 1479.94 Q2323.7 1484.52 2317.89 1484.52 Q2312.08 1484.52 2309 1479.94 Q2305.95 1475.33 2305.95 1466.61 Q2305.95 1457.86 2309 1453.27 Q2312.08 1448.67 2317.89 1448.67 Z\" fill=\"#000000\" fill-rule=\"evenodd\" fill-opacity=\"1\" /><path clip-path=\"url(#clip070)\" d=\"M 0 0 M1238.06 1522.08 L1238.06 1528.35 Q1234.4 1526.6 1231.15 1525.74 Q1227.91 1524.88 1224.88 1524.88 Q1219.63 1524.88 1216.77 1526.92 Q1213.93 1528.96 1213.93 1532.71 Q1213.93 1535.87 1215.81 1537.49 Q1217.72 1539.08 1223.01 1540.07 L1226.89 1540.86 Q1234.08 1542.23 1237.49 1545.7 Q1240.93 1549.14 1240.93 1554.93 Q1240.93 1561.84 1236.28 1565.4 Q1231.66 1568.97 1222.72 1568.97 Q1219.35 1568.97 1215.53 1568.2 Q1211.74 1567.44 1207.66 1565.94 L1207.66 1559.32 Q1211.58 1561.52 1215.33 1562.63 Q1219.09 1563.75 1222.72 1563.75 Q1228.23 1563.75 1231.22 1561.58 Q1234.21 1559.42 1234.21 1555.41 Q1234.21 1551.91 1232.04 1549.93 Q1229.91 1547.96 1225.01 1546.97 L1221.1 1546.21 Q1213.9 1544.78 1210.69 1541.72 Q1207.47 1538.67 1207.47 1533.22 Q1207.47 1526.92 1211.9 1523.29 Q1216.35 1519.66 1224.15 1519.66 Q1227.49 1519.66 1230.96 1520.27 Q1234.43 1520.87 1238.06 1522.08 Z\" fill=\"#000000\" fill-rule=\"evenodd\" fill-opacity=\"1\" /><path clip-path=\"url(#clip070)\" d=\"M 0 0 M1252.86 1522.27 L1252.86 1532.4 L1264.92 1532.4 L1264.92 1536.95 L1252.86 1536.95 L1252.86 1556.3 Q1252.86 1560.66 1254.04 1561.9 Q1255.25 1563.14 1258.91 1563.14 L1264.92 1563.14 L1264.92 1568.04 L1258.91 1568.04 Q1252.13 1568.04 1249.55 1565.53 Q1246.97 1562.98 1246.97 1556.3 L1246.97 1536.95 L1242.68 1536.95 L1242.68 1532.4 L1246.97 1532.4 L1246.97 1522.27 L1252.86 1522.27 Z\" fill=\"#000000\" fill-rule=\"evenodd\" fill-opacity=\"1\" /><path clip-path=\"url(#clip070)\" d=\"M 0 0 M1301.56 1548.76 L1301.56 1551.62 L1274.63 1551.62 Q1275.01 1557.67 1278.26 1560.85 Q1281.54 1564 1287.36 1564 Q1290.74 1564 1293.89 1563.17 Q1297.07 1562.35 1300.19 1560.69 L1300.19 1566.23 Q1297.04 1567.57 1293.73 1568.27 Q1290.42 1568.97 1287.01 1568.97 Q1278.48 1568.97 1273.49 1564 Q1268.52 1559.04 1268.52 1550.57 Q1268.52 1541.82 1273.23 1536.69 Q1277.97 1531.54 1285.99 1531.54 Q1293.19 1531.54 1297.36 1536.18 Q1301.56 1540.8 1301.56 1548.76 M1295.7 1547.04 Q1295.64 1542.23 1293 1539.37 Q1290.39 1536.5 1286.06 1536.5 Q1281.16 1536.5 1278.2 1539.27 Q1275.27 1542.04 1274.82 1547.07 L1295.7 1547.04 Z\" fill=\"#000000\" fill-rule=\"evenodd\" fill-opacity=\"1\" /><path clip-path=\"url(#clip070)\" d=\"M 0 0 M1313.37 1562.7 L1313.37 1581.6 L1307.48 1581.6 L1307.48 1532.4 L1313.37 1532.4 L1313.37 1537.81 Q1315.21 1534.62 1318.01 1533.1 Q1320.85 1531.54 1324.76 1531.54 Q1331.25 1531.54 1335.3 1536.69 Q1339.37 1541.85 1339.37 1550.25 Q1339.37 1558.65 1335.3 1563.81 Q1331.25 1568.97 1324.76 1568.97 Q1320.85 1568.97 1318.01 1567.44 Q1315.21 1565.88 1313.37 1562.7 M1333.29 1550.25 Q1333.29 1543.79 1330.62 1540.13 Q1327.98 1536.44 1323.33 1536.44 Q1318.68 1536.44 1316.01 1540.13 Q1313.37 1543.79 1313.37 1550.25 Q1313.37 1556.71 1316.01 1560.4 Q1318.68 1564.07 1323.33 1564.07 Q1327.98 1564.07 1330.62 1560.4 Q1333.29 1556.71 1333.29 1550.25 Z\" fill=\"#000000\" fill-rule=\"evenodd\" fill-opacity=\"1\" /><path clip-path=\"url(#clip070)\" d=\"M 0 0 M1368.24 1533.45 L1368.24 1538.98 Q1365.76 1537.71 1363.08 1537.07 Q1360.41 1536.44 1357.54 1536.44 Q1353.18 1536.44 1350.99 1537.77 Q1348.82 1539.11 1348.82 1541.79 Q1348.82 1543.82 1350.38 1545 Q1351.94 1546.15 1356.65 1547.2 L1358.66 1547.64 Q1364.9 1548.98 1367.51 1551.43 Q1370.15 1553.85 1370.15 1558.21 Q1370.15 1563.17 1366.2 1566.07 Q1362.29 1568.97 1355.41 1568.97 Q1352.55 1568.97 1349.43 1568.39 Q1346.34 1567.85 1342.9 1566.74 L1342.9 1560.69 Q1346.15 1562.38 1349.3 1563.24 Q1352.45 1564.07 1355.54 1564.07 Q1359.68 1564.07 1361.91 1562.66 Q1364.13 1561.23 1364.13 1558.65 Q1364.13 1556.27 1362.51 1554.99 Q1360.92 1553.72 1355.48 1552.54 L1353.44 1552.07 Q1348 1550.92 1345.58 1548.56 Q1343.16 1546.18 1343.16 1542.04 Q1343.16 1537.01 1346.72 1534.27 Q1350.29 1531.54 1356.84 1531.54 Q1360.09 1531.54 1362.96 1532.01 Q1365.82 1532.49 1368.24 1533.45 Z\" fill=\"#000000\" fill-rule=\"evenodd\" fill-opacity=\"1\" /><polyline clip-path=\"url(#clip072)\" style=\"stroke:#000000; stroke-width:2; stroke-opacity:0.1; fill:none\" points=\"\n",
       "  224.866,1337.32 2352.76,1337.32 \n",
       "  \"/>\n",
       "<polyline clip-path=\"url(#clip072)\" style=\"stroke:#000000; stroke-width:2; stroke-opacity:0.1; fill:none\" points=\"\n",
       "  224.866,1024.54 2352.76,1024.54 \n",
       "  \"/>\n",
       "<polyline clip-path=\"url(#clip072)\" style=\"stroke:#000000; stroke-width:2; stroke-opacity:0.1; fill:none\" points=\"\n",
       "  224.866,711.753 2352.76,711.753 \n",
       "  \"/>\n",
       "<polyline clip-path=\"url(#clip072)\" style=\"stroke:#000000; stroke-width:2; stroke-opacity:0.1; fill:none\" points=\"\n",
       "  224.866,398.969 2352.76,398.969 \n",
       "  \"/>\n",
       "<polyline clip-path=\"url(#clip072)\" style=\"stroke:#000000; stroke-width:2; stroke-opacity:0.1; fill:none\" points=\"\n",
       "  224.866,86.1857 2352.76,86.1857 \n",
       "  \"/>\n",
       "<polyline clip-path=\"url(#clip070)\" style=\"stroke:#000000; stroke-width:4; stroke-opacity:1; fill:none\" points=\"\n",
       "  224.866,1423.18 224.866,47.2441 \n",
       "  \"/>\n",
       "<polyline clip-path=\"url(#clip070)\" style=\"stroke:#000000; stroke-width:4; stroke-opacity:1; fill:none\" points=\"\n",
       "  224.866,1337.32 250.401,1337.32 \n",
       "  \"/>\n",
       "<polyline clip-path=\"url(#clip070)\" style=\"stroke:#000000; stroke-width:4; stroke-opacity:1; fill:none\" points=\"\n",
       "  224.866,1024.54 250.401,1024.54 \n",
       "  \"/>\n",
       "<polyline clip-path=\"url(#clip070)\" style=\"stroke:#000000; stroke-width:4; stroke-opacity:1; fill:none\" points=\"\n",
       "  224.866,711.753 250.401,711.753 \n",
       "  \"/>\n",
       "<polyline clip-path=\"url(#clip070)\" style=\"stroke:#000000; stroke-width:4; stroke-opacity:1; fill:none\" points=\"\n",
       "  224.866,398.969 250.401,398.969 \n",
       "  \"/>\n",
       "<polyline clip-path=\"url(#clip070)\" style=\"stroke:#000000; stroke-width:4; stroke-opacity:1; fill:none\" points=\"\n",
       "  224.866,86.1857 250.401,86.1857 \n",
       "  \"/>\n",
       "<path clip-path=\"url(#clip070)\" d=\"M 0 0 M145.533 1350.67 L161.852 1350.67 L161.852 1354.6 L139.908 1354.6 L139.908 1350.67 Q142.57 1347.91 147.153 1343.28 Q151.76 1338.63 152.941 1337.29 Q155.186 1334.76 156.065 1333.03 Q156.968 1331.27 156.968 1329.58 Q156.968 1326.82 155.024 1325.09 Q153.103 1323.35 150.001 1323.35 Q147.802 1323.35 145.348 1324.11 Q142.917 1324.88 140.14 1326.43 L140.14 1321.71 Q142.964 1320.57 145.417 1319.99 Q147.871 1319.42 149.908 1319.42 Q155.278 1319.42 158.473 1322.1 Q161.667 1324.79 161.667 1329.28 Q161.667 1331.41 160.857 1333.33 Q160.07 1335.23 157.964 1337.82 Q157.385 1338.49 154.283 1341.71 Q151.181 1344.9 145.533 1350.67 Z\" fill=\"#000000\" fill-rule=\"evenodd\" fill-opacity=\"1\" /><path clip-path=\"url(#clip070)\" d=\"M 0 0 M176.922 1323.12 Q173.311 1323.12 171.482 1326.68 Q169.677 1330.23 169.677 1337.36 Q169.677 1344.46 171.482 1348.03 Q173.311 1351.57 176.922 1351.57 Q180.556 1351.57 182.362 1348.03 Q184.19 1344.46 184.19 1337.36 Q184.19 1330.23 182.362 1326.68 Q180.556 1323.12 176.922 1323.12 M176.922 1319.42 Q182.732 1319.42 185.788 1324.02 Q188.866 1328.61 188.866 1337.36 Q188.866 1346.08 185.788 1350.69 Q182.732 1355.27 176.922 1355.27 Q171.112 1355.27 168.033 1350.69 Q164.977 1346.08 164.977 1337.36 Q164.977 1328.61 168.033 1324.02 Q171.112 1319.42 176.922 1319.42 Z\" fill=\"#000000\" fill-rule=\"evenodd\" fill-opacity=\"1\" /><path clip-path=\"url(#clip070)\" d=\"M 0 0 M152.269 1011.33 L140.464 1029.78 L152.269 1029.78 L152.269 1011.33 M151.042 1007.26 L156.922 1007.26 L156.922 1029.78 L161.852 1029.78 L161.852 1033.67 L156.922 1033.67 L156.922 1041.82 L152.269 1041.82 L152.269 1033.67 L136.667 1033.67 L136.667 1029.15 L151.042 1007.26 Z\" fill=\"#000000\" fill-rule=\"evenodd\" fill-opacity=\"1\" /><path clip-path=\"url(#clip070)\" d=\"M 0 0 M176.922 1010.34 Q173.311 1010.34 171.482 1013.9 Q169.677 1017.44 169.677 1024.57 Q169.677 1031.68 171.482 1035.24 Q173.311 1038.78 176.922 1038.78 Q180.556 1038.78 182.362 1035.24 Q184.19 1031.68 184.19 1024.57 Q184.19 1017.44 182.362 1013.9 Q180.556 1010.34 176.922 1010.34 M176.922 1006.63 Q182.732 1006.63 185.788 1011.24 Q188.866 1015.82 188.866 1024.57 Q188.866 1033.3 185.788 1037.9 Q182.732 1042.49 176.922 1042.49 Q171.112 1042.49 168.033 1037.9 Q164.977 1033.3 164.977 1024.57 Q164.977 1015.82 168.033 1011.24 Q171.112 1006.63 176.922 1006.63 Z\" fill=\"#000000\" fill-rule=\"evenodd\" fill-opacity=\"1\" /><path clip-path=\"url(#clip070)\" d=\"M 0 0 M150.325 709.89 Q147.177 709.89 145.325 712.043 Q143.496 714.195 143.496 717.945 Q143.496 721.672 145.325 723.848 Q147.177 726.001 150.325 726.001 Q153.473 726.001 155.302 723.848 Q157.153 721.672 157.153 717.945 Q157.153 714.195 155.302 712.043 Q153.473 709.89 150.325 709.89 M159.607 695.237 L159.607 699.496 Q157.848 698.663 156.042 698.223 Q154.26 697.783 152.501 697.783 Q147.871 697.783 145.417 700.908 Q142.987 704.033 142.64 710.353 Q144.005 708.339 146.066 707.274 Q148.126 706.186 150.603 706.186 Q155.811 706.186 158.82 709.357 Q161.852 712.505 161.852 717.945 Q161.852 723.269 158.704 726.487 Q155.556 729.704 150.325 729.704 Q144.329 729.704 141.158 725.121 Q137.987 720.515 137.987 711.788 Q137.987 703.594 141.876 698.732 Q145.765 693.848 152.316 693.848 Q154.075 693.848 155.857 694.195 Q157.663 694.543 159.607 695.237 Z\" fill=\"#000000\" fill-rule=\"evenodd\" fill-opacity=\"1\" /><path clip-path=\"url(#clip070)\" d=\"M 0 0 M176.922 697.552 Q173.311 697.552 171.482 701.117 Q169.677 704.658 169.677 711.788 Q169.677 718.894 171.482 722.459 Q173.311 726.001 176.922 726.001 Q180.556 726.001 182.362 722.459 Q184.19 718.894 184.19 711.788 Q184.19 704.658 182.362 701.117 Q180.556 697.552 176.922 697.552 M176.922 693.848 Q182.732 693.848 185.788 698.455 Q188.866 703.038 188.866 711.788 Q188.866 720.515 185.788 725.121 Q182.732 729.704 176.922 729.704 Q171.112 729.704 168.033 725.121 Q164.977 720.515 164.977 711.788 Q164.977 703.038 168.033 698.455 Q171.112 693.848 176.922 693.848 Z\" fill=\"#000000\" fill-rule=\"evenodd\" fill-opacity=\"1\" /><path clip-path=\"url(#clip070)\" d=\"M 0 0 M150.001 399.837 Q146.667 399.837 144.746 401.62 Q142.848 403.402 142.848 406.527 Q142.848 409.652 144.746 411.435 Q146.667 413.217 150.001 413.217 Q153.334 413.217 155.255 411.435 Q157.177 409.629 157.177 406.527 Q157.177 403.402 155.255 401.62 Q153.357 399.837 150.001 399.837 M145.325 397.847 Q142.316 397.106 140.626 395.046 Q138.959 392.986 138.959 390.023 Q138.959 385.879 141.899 383.472 Q144.862 381.064 150.001 381.064 Q155.163 381.064 158.103 383.472 Q161.042 385.879 161.042 390.023 Q161.042 392.986 159.353 395.046 Q157.686 397.106 154.7 397.847 Q158.079 398.634 159.954 400.925 Q161.852 403.217 161.852 406.527 Q161.852 411.55 158.774 414.236 Q155.718 416.921 150.001 416.921 Q144.283 416.921 141.204 414.236 Q138.149 411.55 138.149 406.527 Q138.149 403.217 140.047 400.925 Q141.945 398.634 145.325 397.847 M143.612 390.463 Q143.612 393.148 145.279 394.652 Q146.968 396.157 150.001 396.157 Q153.01 396.157 154.7 394.652 Q156.413 393.148 156.413 390.463 Q156.413 387.777 154.7 386.273 Q153.01 384.768 150.001 384.768 Q146.968 384.768 145.279 386.273 Q143.612 387.777 143.612 390.463 Z\" fill=\"#000000\" fill-rule=\"evenodd\" fill-opacity=\"1\" /><path clip-path=\"url(#clip070)\" d=\"M 0 0 M176.922 384.768 Q173.311 384.768 171.482 388.333 Q169.677 391.875 169.677 399.004 Q169.677 406.111 171.482 409.675 Q173.311 413.217 176.922 413.217 Q180.556 413.217 182.362 409.675 Q184.19 406.111 184.19 399.004 Q184.19 391.875 182.362 388.333 Q180.556 384.768 176.922 384.768 M176.922 381.064 Q182.732 381.064 185.788 385.671 Q188.866 390.254 188.866 399.004 Q188.866 407.731 185.788 412.337 Q182.732 416.921 176.922 416.921 Q171.112 416.921 168.033 412.337 Q164.977 407.731 164.977 399.004 Q164.977 390.254 168.033 385.671 Q171.112 381.064 176.922 381.064 Z\" fill=\"#000000\" fill-rule=\"evenodd\" fill-opacity=\"1\" /><path clip-path=\"url(#clip070)\" d=\"M 0 0 M114.931 99.5305 L122.57 99.5305 L122.57 73.1649 L114.26 74.8316 L114.26 70.5723 L122.524 68.9057 L127.2 68.9057 L127.2 99.5305 L134.839 99.5305 L134.839 103.466 L114.931 103.466 L114.931 99.5305 Z\" fill=\"#000000\" fill-rule=\"evenodd\" fill-opacity=\"1\" /><path clip-path=\"url(#clip070)\" d=\"M 0 0 M149.908 71.9844 Q146.297 71.9844 144.468 75.5492 Q142.663 79.0908 142.663 86.2204 Q142.663 93.3268 144.468 96.8916 Q146.297 100.433 149.908 100.433 Q153.542 100.433 155.348 96.8916 Q157.177 93.3268 157.177 86.2204 Q157.177 79.0908 155.348 75.5492 Q153.542 71.9844 149.908 71.9844 M149.908 68.2807 Q155.718 68.2807 158.774 72.8871 Q161.852 77.4704 161.852 86.2204 Q161.852 94.9472 158.774 99.5537 Q155.718 104.137 149.908 104.137 Q144.098 104.137 141.019 99.5537 Q137.964 94.9472 137.964 86.2204 Q137.964 77.4704 141.019 72.8871 Q144.098 68.2807 149.908 68.2807 Z\" fill=\"#000000\" fill-rule=\"evenodd\" fill-opacity=\"1\" /><path clip-path=\"url(#clip070)\" d=\"M 0 0 M176.922 71.9844 Q173.311 71.9844 171.482 75.5492 Q169.677 79.0908 169.677 86.2204 Q169.677 93.3268 171.482 96.8916 Q173.311 100.433 176.922 100.433 Q180.556 100.433 182.362 96.8916 Q184.19 93.3268 184.19 86.2204 Q184.19 79.0908 182.362 75.5492 Q180.556 71.9844 176.922 71.9844 M176.922 68.2807 Q182.732 68.2807 185.788 72.8871 Q188.866 77.4704 188.866 86.2204 Q188.866 94.9472 185.788 99.5537 Q182.732 104.137 176.922 104.137 Q171.112 104.137 168.033 99.5537 Q164.977 94.9472 164.977 86.2204 Q164.977 77.4704 168.033 72.8871 Q171.112 68.2807 176.922 68.2807 Z\" fill=\"#000000\" fill-rule=\"evenodd\" fill-opacity=\"1\" /><path clip-path=\"url(#clip070)\" d=\"M 0 0 M16.4842 815.897 L16.4842 809.436 L45.3526 809.436 Q52.9915 809.436 56.3653 806.667 Q59.7073 803.898 59.7073 797.691 Q59.7073 791.517 56.3653 788.748 Q52.9915 785.978 45.3526 785.978 L16.4842 785.978 L16.4842 779.517 L46.1484 779.517 Q55.4423 779.517 60.1847 784.132 Q64.9272 788.716 64.9272 797.691 Q64.9272 806.699 60.1847 811.314 Q55.4423 815.897 46.1484 815.897 L16.4842 815.897 Z\" fill=\"#000000\" fill-rule=\"evenodd\" fill-opacity=\"1\" /><path clip-path=\"url(#clip070)\" d=\"M 0 0 M29.4065 750.649 L34.9447 750.649 Q33.6716 753.131 33.035 755.805 Q32.3984 758.479 32.3984 761.343 Q32.3984 765.704 33.7352 767.9 Q35.072 770.064 37.7456 770.064 Q39.7826 770.064 40.9603 768.505 Q42.1061 766.945 43.1565 762.234 L43.6021 760.229 Q44.9389 753.991 47.3897 751.381 Q49.8086 748.739 54.1691 748.739 Q59.1344 748.739 62.0308 752.686 Q64.9272 756.601 64.9272 763.476 Q64.9272 766.34 64.3543 769.459 Q63.8132 772.547 62.6992 775.984 L56.6518 775.984 Q58.3387 772.738 59.198 769.587 Q60.0256 766.436 60.0256 763.348 Q60.0256 759.211 58.6251 756.983 Q57.1929 754.755 54.6147 754.755 Q52.2276 754.755 50.9545 756.378 Q49.6813 757.969 48.5037 763.412 L48.0262 765.449 Q46.8804 770.892 44.5251 773.311 Q42.138 775.73 38.0002 775.73 Q32.9713 775.73 30.2341 772.165 Q27.4968 768.6 27.4968 762.043 Q27.4968 758.797 27.9743 755.932 Q28.4517 753.068 29.4065 750.649 Z\" fill=\"#000000\" fill-rule=\"evenodd\" fill-opacity=\"1\" /><path clip-path=\"url(#clip070)\" d=\"M 0 0 M44.7161 712.104 L47.5806 712.104 L47.5806 739.031 Q53.6281 738.649 56.8109 735.403 Q59.9619 732.125 59.9619 726.3 Q59.9619 722.926 59.1344 719.775 Q58.3069 716.592 56.6518 713.473 L62.1899 713.473 Q63.5267 716.624 64.227 719.934 Q64.9272 723.244 64.9272 726.65 Q64.9272 735.18 59.9619 740.177 Q54.9967 745.142 46.5303 745.142 Q37.7774 745.142 32.6531 740.432 Q27.4968 735.689 27.4968 727.669 Q27.4968 720.475 32.1438 716.306 Q36.7589 712.104 44.7161 712.104 M42.9973 717.961 Q38.1912 718.025 35.3266 720.666 Q32.4621 723.276 32.4621 727.605 Q32.4621 732.507 35.2312 735.467 Q38.0002 738.395 43.0292 738.84 L42.9973 717.961 Z\" fill=\"#000000\" fill-rule=\"evenodd\" fill-opacity=\"1\" /><path clip-path=\"url(#clip070)\" d=\"M 0 0 M33.8307 685.305 Q33.2578 686.292 33.0032 687.469 Q32.7167 688.615 32.7167 690.015 Q32.7167 694.981 35.9632 697.654 Q39.1779 700.296 45.2253 700.296 L64.0042 700.296 L64.0042 706.184 L28.3562 706.184 L28.3562 700.296 L33.8944 700.296 Q30.6479 698.45 29.0883 695.49 Q27.4968 692.53 27.4968 688.297 Q27.4968 687.692 27.5923 686.96 Q27.656 686.228 27.8151 685.337 L33.8307 685.305 Z\" fill=\"#000000\" fill-rule=\"evenodd\" fill-opacity=\"1\" /><path clip-path=\"url(#clip070)\" d=\"M 0 0 M29.4065 656.436 L34.9447 656.436 Q33.6716 658.919 33.035 661.593 Q32.3984 664.266 32.3984 667.131 Q32.3984 671.491 33.7352 673.687 Q35.072 675.852 37.7456 675.852 Q39.7826 675.852 40.9603 674.292 Q42.1061 672.733 43.1565 668.022 L43.6021 666.017 Q44.9389 659.778 47.3897 657.168 Q49.8086 654.527 54.1691 654.527 Q59.1344 654.527 62.0308 658.473 Q64.9272 662.388 64.9272 669.263 Q64.9272 672.128 64.3543 675.247 Q63.8132 678.334 62.6992 681.772 L56.6518 681.772 Q58.3387 678.525 59.198 675.374 Q60.0256 672.223 60.0256 669.136 Q60.0256 664.998 58.6251 662.77 Q57.1929 660.542 54.6147 660.542 Q52.2276 660.542 50.9545 662.165 Q49.6813 663.757 48.5037 669.2 L48.0262 671.237 Q46.8804 676.679 44.5251 679.098 Q42.138 681.517 38.0002 681.517 Q32.9713 681.517 30.2341 677.952 Q27.4968 674.388 27.4968 667.831 Q27.4968 664.584 27.9743 661.72 Q28.4517 658.855 29.4065 656.436 Z\" fill=\"#000000\" fill-rule=\"evenodd\" fill-opacity=\"1\" /><polyline clip-path=\"url(#clip072)\" style=\"stroke:#009af9; stroke-width:4; stroke-opacity:1; fill:none\" points=\"\n",
       "  285.09,86.1857 305.164,86.1857 325.238,352.052 345.313,430.248 365.387,602.279 385.462,649.196 405.536,727.392 425.611,743.032 445.685,821.228 465.759,836.867 \n",
       "  485.834,836.867 505.908,868.145 525.983,868.145 546.057,868.145 566.132,868.145 586.206,868.145 606.28,868.145 626.355,868.145 646.429,868.145 666.504,868.145 \n",
       "  686.578,868.145 706.653,868.145 726.727,868.145 746.801,868.145 766.876,868.145 786.95,868.145 807.025,868.145 827.099,868.145 847.174,868.145 867.248,868.145 \n",
       "  887.322,868.145 907.397,868.145 927.471,868.145 947.546,868.145 967.62,868.145 987.695,868.145 1007.77,868.145 1027.84,868.145 1047.92,868.145 1067.99,868.145 \n",
       "  1088.07,868.145 1108.14,868.145 1128.22,868.145 1148.29,868.145 1168.36,868.145 1188.44,868.145 1208.51,868.145 1228.59,868.145 1248.66,868.145 1268.74,868.145 \n",
       "  1288.81,868.145 1308.89,868.145 1328.96,868.145 1349.03,868.145 1369.11,868.145 1389.18,868.145 1409.26,868.145 1429.33,868.145 1449.41,868.145 1469.48,868.145 \n",
       "  1489.56,868.145 1509.63,868.145 1529.7,868.145 1549.78,868.145 1569.85,868.145 1589.93,868.145 1610,868.145 1630.08,868.145 1650.15,868.145 1670.23,868.145 \n",
       "  1690.3,868.145 1710.37,868.145 1730.45,868.145 1750.52,868.145 1770.6,868.145 1790.67,868.145 1810.75,868.145 1830.82,868.145 1850.9,868.145 1870.97,868.145 \n",
       "  1891.04,868.145 1911.12,868.145 1931.19,868.145 1951.27,868.145 1971.34,868.145 1991.42,868.145 2011.49,868.145 2031.57,868.145 2051.64,868.145 2071.71,868.145 \n",
       "  2091.79,868.145 2111.86,868.145 2131.94,868.145 2152.01,868.145 2172.09,868.145 2192.16,868.145 2212.23,868.145 2232.31,868.145 2252.38,868.145 2272.46,868.145 \n",
       "  2292.53,868.145 \n",
       "  \"/>\n",
       "<polyline clip-path=\"url(#clip072)\" style=\"stroke:#e26f46; stroke-width:4; stroke-opacity:1; fill:none\" points=\"\n",
       "  325.238,1384.24 345.313,1306.04 365.387,1134.01 385.462,1087.09 405.536,1008.9 425.611,993.259 445.685,915.063 465.759,899.423 485.834,899.423 505.908,868.145 \n",
       "  525.983,868.145 546.057,868.145 566.132,868.145 586.206,868.145 606.28,868.145 626.355,868.145 646.429,868.145 666.504,868.145 686.578,868.145 706.653,868.145 \n",
       "  726.727,868.145 746.801,868.145 766.876,868.145 786.95,868.145 807.025,868.145 827.099,868.145 847.174,868.145 867.248,868.145 887.322,868.145 907.397,868.145 \n",
       "  927.471,868.145 947.546,868.145 967.62,868.145 987.695,868.145 1007.77,868.145 1027.84,868.145 1047.92,868.145 1067.99,868.145 1088.07,868.145 1108.14,868.145 \n",
       "  1128.22,868.145 1148.29,868.145 1168.36,868.145 1188.44,868.145 1208.51,868.145 1228.59,868.145 1248.66,868.145 1268.74,868.145 1288.81,868.145 1308.89,868.145 \n",
       "  1328.96,868.145 1349.03,868.145 1369.11,868.145 1389.18,868.145 1409.26,868.145 1429.33,868.145 1449.41,868.145 1469.48,868.145 1489.56,868.145 1509.63,868.145 \n",
       "  1529.7,868.145 1549.78,868.145 1569.85,868.145 1589.93,868.145 1610,868.145 1630.08,868.145 1650.15,868.145 1670.23,868.145 1690.3,868.145 1710.37,868.145 \n",
       "  1730.45,868.145 1750.52,868.145 1770.6,868.145 1790.67,868.145 1810.75,868.145 1830.82,868.145 1850.9,868.145 1870.97,868.145 1891.04,868.145 1911.12,868.145 \n",
       "  1931.19,868.145 1951.27,868.145 1971.34,868.145 1991.42,868.145 2011.49,868.145 2031.57,868.145 2051.64,868.145 2071.71,868.145 2091.79,868.145 2111.86,868.145 \n",
       "  2131.94,868.145 2152.01,868.145 2172.09,868.145 2192.16,868.145 2212.23,868.145 2232.31,868.145 2252.38,868.145 2272.46,868.145 2292.53,868.145 \n",
       "  \"/>\n",
       "<path clip-path=\"url(#clip070)\" d=\"\n",
       "M1683.94 274.549 L2281.83 274.549 L2281.83 93.1086 L1683.94 93.1086  Z\n",
       "  \" fill=\"#ffffff\" fill-rule=\"evenodd\" fill-opacity=\"1\"/>\n",
       "<polyline clip-path=\"url(#clip070)\" style=\"stroke:#000000; stroke-width:4; stroke-opacity:1; fill:none\" points=\"\n",
       "  1683.94,274.549 2281.83,274.549 2281.83,93.1086 1683.94,93.1086 1683.94,274.549 \n",
       "  \"/>\n",
       "<polyline clip-path=\"url(#clip070)\" style=\"stroke:#009af9; stroke-width:4; stroke-opacity:1; fill:none\" points=\"\n",
       "  1707.58,153.589 1849.44,153.589 \n",
       "  \"/>\n",
       "<path clip-path=\"url(#clip070)\" d=\"M 0 0 M1889.47 154.665 Q1890.98 155.174 1892.39 156.841 Q1893.82 158.508 1895.26 161.424 L1900 170.869 L1894.98 170.869 L1890.56 162.003 Q1888.85 158.531 1887.23 157.396 Q1885.63 156.262 1882.85 156.262 L1877.76 156.262 L1877.76 170.869 L1873.08 170.869 L1873.08 136.309 L1883.64 136.309 Q1889.56 136.309 1892.48 138.785 Q1895.4 141.262 1895.4 146.262 Q1895.4 149.526 1893.87 151.679 Q1892.37 153.832 1889.47 154.665 M1877.76 140.151 L1877.76 152.42 L1883.64 152.42 Q1887.02 152.42 1888.73 150.869 Q1890.47 149.295 1890.47 146.262 Q1890.47 143.23 1888.73 141.702 Q1887.02 140.151 1883.64 140.151 L1877.76 140.151 Z\" fill=\"#000000\" fill-rule=\"evenodd\" fill-opacity=\"1\" /><path clip-path=\"url(#clip070)\" d=\"M 0 0 M1912.39 147.929 Q1908.96 147.929 1906.97 150.614 Q1904.98 153.276 1904.98 157.929 Q1904.98 162.582 1906.95 165.267 Q1908.94 167.929 1912.39 167.929 Q1915.79 167.929 1917.78 165.244 Q1919.77 162.558 1919.77 157.929 Q1919.77 153.322 1917.78 150.637 Q1915.79 147.929 1912.39 147.929 M1912.39 144.318 Q1917.94 144.318 1921.12 147.929 Q1924.29 151.54 1924.29 157.929 Q1924.29 164.295 1921.12 167.929 Q1917.94 171.54 1912.39 171.54 Q1906.81 171.54 1903.64 167.929 Q1900.49 164.295 1900.49 157.929 Q1900.49 151.54 1903.64 147.929 Q1906.81 144.318 1912.39 144.318 Z\" fill=\"#000000\" fill-rule=\"evenodd\" fill-opacity=\"1\" /><path clip-path=\"url(#clip070)\" d=\"M 0 0 M1928.31 160.637 L1928.31 144.943 L1932.57 144.943 L1932.57 160.475 Q1932.57 164.156 1934.01 166.008 Q1935.44 167.836 1938.31 167.836 Q1941.76 167.836 1943.75 165.637 Q1945.77 163.438 1945.77 159.642 L1945.77 144.943 L1950.03 144.943 L1950.03 170.869 L1945.77 170.869 L1945.77 166.887 Q1944.22 169.248 1942.16 170.406 Q1940.12 171.54 1937.41 171.54 Q1932.94 171.54 1930.63 168.762 Q1928.31 165.984 1928.31 160.637 M1939.03 144.318 L1939.03 144.318 Z\" fill=\"#000000\" fill-rule=\"evenodd\" fill-opacity=\"1\" /><path clip-path=\"url(#clip070)\" d=\"M 0 0 M1958.71 137.582 L1958.71 144.943 L1967.48 144.943 L1967.48 148.253 L1958.71 148.253 L1958.71 162.327 Q1958.71 165.498 1959.56 166.401 Q1960.44 167.304 1963.11 167.304 L1967.48 167.304 L1967.48 170.869 L1963.11 170.869 Q1958.18 170.869 1956.3 169.04 Q1954.43 167.188 1954.43 162.327 L1954.43 148.253 L1951.3 148.253 L1951.3 144.943 L1954.43 144.943 L1954.43 137.582 L1958.71 137.582 Z\" fill=\"#000000\" fill-rule=\"evenodd\" fill-opacity=\"1\" /><path clip-path=\"url(#clip070)\" d=\"M 0 0 M1994.12 156.841 L1994.12 158.924 L1974.54 158.924 Q1974.82 163.322 1977.18 165.637 Q1979.56 167.929 1983.8 167.929 Q1986.25 167.929 1988.55 167.327 Q1990.86 166.725 1993.13 165.521 L1993.13 169.549 Q1990.84 170.521 1988.43 171.031 Q1986.02 171.54 1983.55 171.54 Q1977.34 171.54 1973.71 167.929 Q1970.1 164.318 1970.1 158.16 Q1970.1 151.795 1973.52 148.068 Q1976.97 144.318 1982.81 144.318 Q1988.04 144.318 1991.07 147.697 Q1994.12 151.054 1994.12 156.841 M1989.87 155.591 Q1989.82 152.096 1987.9 150.012 Q1986 147.929 1982.85 147.929 Q1979.29 147.929 1977.13 149.943 Q1975 151.957 1974.68 155.614 L1989.87 155.591 Z\" fill=\"#000000\" fill-rule=\"evenodd\" fill-opacity=\"1\" /><path clip-path=\"url(#clip070)\" d=\"M 0 0 M2015.07 166.933 L2022.71 166.933 L2022.71 140.568 L2014.4 142.235 L2014.4 137.975 L2022.67 136.309 L2027.34 136.309 L2027.34 166.933 L2034.98 166.933 L2034.98 170.869 L2015.07 170.869 L2015.07 166.933 Z\" fill=\"#000000\" fill-rule=\"evenodd\" fill-opacity=\"1\" /><path clip-path=\"url(#clip070)\" d=\"M 0 0 M2055.61 164.989 L2060.49 164.989 L2060.49 170.869 L2055.61 170.869 L2055.61 164.989 M2055.61 146.355 L2060.49 146.355 L2060.49 152.234 L2055.61 152.234 L2055.61 146.355 Z\" fill=\"#000000\" fill-rule=\"evenodd\" fill-opacity=\"1\" /><path clip-path=\"url(#clip070)\" d=\"M 0 0 M2079.63 134.85 L2089.45 134.85 L2089.45 138.16 L2083.89 138.16 L2083.89 173.808 L2089.45 173.808 L2089.45 177.119 L2079.63 177.119 L2079.63 134.85 Z\" fill=\"#000000\" fill-rule=\"evenodd\" fill-opacity=\"1\" /><path clip-path=\"url(#clip070)\" d=\"M 0 0 M2095.33 166.933 L2102.97 166.933 L2102.97 140.568 L2094.66 142.235 L2094.66 137.975 L2102.92 136.309 L2107.6 136.309 L2107.6 166.933 L2115.23 166.933 L2115.23 170.869 L2095.33 170.869 L2095.33 166.933 Z\" fill=\"#000000\" fill-rule=\"evenodd\" fill-opacity=\"1\" /><path clip-path=\"url(#clip070)\" d=\"M 0 0 M2120.79 164.989 L2125.67 164.989 L2125.67 168.97 L2121.88 176.378 L2118.89 176.378 L2120.79 168.97 L2120.79 164.989 Z\" fill=\"#000000\" fill-rule=\"evenodd\" fill-opacity=\"1\" /><path clip-path=\"url(#clip070)\" d=\"M 0 0 M2159.98 152.234 Q2163.34 152.952 2165.21 155.221 Q2167.11 157.489 2167.11 160.822 Q2167.11 165.938 2163.59 168.739 Q2160.07 171.54 2153.59 171.54 Q2151.42 171.54 2149.1 171.1 Q2146.81 170.683 2144.36 169.827 L2144.36 165.313 Q2146.3 166.447 2148.61 167.026 Q2150.93 167.605 2153.45 167.605 Q2157.85 167.605 2160.14 165.869 Q2162.46 164.133 2162.46 160.822 Q2162.46 157.767 2160.3 156.054 Q2158.17 154.318 2154.36 154.318 L2150.33 154.318 L2150.33 150.475 L2154.54 150.475 Q2157.99 150.475 2159.82 149.109 Q2161.65 147.721 2161.65 145.128 Q2161.65 142.466 2159.75 141.054 Q2157.87 139.619 2154.36 139.619 Q2152.43 139.619 2150.23 140.035 Q2148.04 140.452 2145.4 141.332 L2145.4 137.165 Q2148.06 136.424 2150.37 136.054 Q2152.71 135.684 2154.77 135.684 Q2160.1 135.684 2163.2 138.114 Q2166.3 140.522 2166.3 144.642 Q2166.3 147.512 2164.66 149.503 Q2163.01 151.471 2159.98 152.234 Z\" fill=\"#000000\" fill-rule=\"evenodd\" fill-opacity=\"1\" /><path clip-path=\"url(#clip070)\" d=\"M 0 0 M2172.67 164.989 L2177.55 164.989 L2177.55 168.97 L2173.75 176.378 L2170.77 176.378 L2172.67 168.97 L2172.67 164.989 Z\" fill=\"#000000\" fill-rule=\"evenodd\" fill-opacity=\"1\" /><path clip-path=\"url(#clip070)\" d=\"M 0 0 M2210.54 140.383 L2198.73 158.832 L2210.54 158.832 L2210.54 140.383 M2209.31 136.309 L2215.19 136.309 L2215.19 158.832 L2220.12 158.832 L2220.12 162.721 L2215.19 162.721 L2215.19 170.869 L2210.54 170.869 L2210.54 162.721 L2194.93 162.721 L2194.93 158.207 L2209.31 136.309 Z\" fill=\"#000000\" fill-rule=\"evenodd\" fill-opacity=\"1\" /><path clip-path=\"url(#clip070)\" d=\"M 0 0 M2234.54 134.85 L2234.54 177.119 L2224.73 177.119 L2224.73 173.808 L2230.26 173.808 L2230.26 138.16 L2224.73 138.16 L2224.73 134.85 L2234.54 134.85 Z\" fill=\"#000000\" fill-rule=\"evenodd\" fill-opacity=\"1\" /><polyline clip-path=\"url(#clip070)\" style=\"stroke:#e26f46; stroke-width:4; stroke-opacity:1; fill:none\" points=\"\n",
       "  1707.58,214.069 1849.44,214.069 \n",
       "  \"/>\n",
       "<path clip-path=\"url(#clip070)\" d=\"M 0 0 M1889.47 215.145 Q1890.98 215.654 1892.39 217.321 Q1893.82 218.988 1895.26 221.904 L1900 231.349 L1894.98 231.349 L1890.56 222.483 Q1888.85 219.011 1887.23 217.876 Q1885.63 216.742 1882.85 216.742 L1877.76 216.742 L1877.76 231.349 L1873.08 231.349 L1873.08 196.789 L1883.64 196.789 Q1889.56 196.789 1892.48 199.265 Q1895.4 201.742 1895.4 206.742 Q1895.4 210.006 1893.87 212.159 Q1892.37 214.312 1889.47 215.145 M1877.76 200.631 L1877.76 212.9 L1883.64 212.9 Q1887.02 212.9 1888.73 211.349 Q1890.47 209.775 1890.47 206.742 Q1890.47 203.71 1888.73 202.182 Q1887.02 200.631 1883.64 200.631 L1877.76 200.631 Z\" fill=\"#000000\" fill-rule=\"evenodd\" fill-opacity=\"1\" /><path clip-path=\"url(#clip070)\" d=\"M 0 0 M1912.39 208.409 Q1908.96 208.409 1906.97 211.094 Q1904.98 213.756 1904.98 218.409 Q1904.98 223.062 1906.95 225.747 Q1908.94 228.409 1912.39 228.409 Q1915.79 228.409 1917.78 225.724 Q1919.77 223.038 1919.77 218.409 Q1919.77 213.802 1917.78 211.117 Q1915.79 208.409 1912.39 208.409 M1912.39 204.798 Q1917.94 204.798 1921.12 208.409 Q1924.29 212.02 1924.29 218.409 Q1924.29 224.775 1921.12 228.409 Q1917.94 232.02 1912.39 232.02 Q1906.81 232.02 1903.64 228.409 Q1900.49 224.775 1900.49 218.409 Q1900.49 212.02 1903.64 208.409 Q1906.81 204.798 1912.39 204.798 Z\" fill=\"#000000\" fill-rule=\"evenodd\" fill-opacity=\"1\" /><path clip-path=\"url(#clip070)\" d=\"M 0 0 M1928.31 221.117 L1928.31 205.423 L1932.57 205.423 L1932.57 220.955 Q1932.57 224.636 1934.01 226.488 Q1935.44 228.316 1938.31 228.316 Q1941.76 228.316 1943.75 226.117 Q1945.77 223.918 1945.77 220.122 L1945.77 205.423 L1950.03 205.423 L1950.03 231.349 L1945.77 231.349 L1945.77 227.367 Q1944.22 229.728 1942.16 230.886 Q1940.12 232.02 1937.41 232.02 Q1932.94 232.02 1930.63 229.242 Q1928.31 226.464 1928.31 221.117 M1939.03 204.798 L1939.03 204.798 Z\" fill=\"#000000\" fill-rule=\"evenodd\" fill-opacity=\"1\" /><path clip-path=\"url(#clip070)\" d=\"M 0 0 M1958.71 198.062 L1958.71 205.423 L1967.48 205.423 L1967.48 208.733 L1958.71 208.733 L1958.71 222.807 Q1958.71 225.978 1959.56 226.881 Q1960.44 227.784 1963.11 227.784 L1967.48 227.784 L1967.48 231.349 L1963.11 231.349 Q1958.18 231.349 1956.3 229.52 Q1954.43 227.668 1954.43 222.807 L1954.43 208.733 L1951.3 208.733 L1951.3 205.423 L1954.43 205.423 L1954.43 198.062 L1958.71 198.062 Z\" fill=\"#000000\" fill-rule=\"evenodd\" fill-opacity=\"1\" /><path clip-path=\"url(#clip070)\" d=\"M 0 0 M1994.12 217.321 L1994.12 219.404 L1974.54 219.404 Q1974.82 223.802 1977.18 226.117 Q1979.56 228.409 1983.8 228.409 Q1986.25 228.409 1988.55 227.807 Q1990.86 227.205 1993.13 226.001 L1993.13 230.029 Q1990.84 231.001 1988.43 231.511 Q1986.02 232.02 1983.55 232.02 Q1977.34 232.02 1973.71 228.409 Q1970.1 224.798 1970.1 218.64 Q1970.1 212.275 1973.52 208.548 Q1976.97 204.798 1982.81 204.798 Q1988.04 204.798 1991.07 208.177 Q1994.12 211.534 1994.12 217.321 M1989.87 216.071 Q1989.82 212.576 1987.9 210.492 Q1986 208.409 1982.85 208.409 Q1979.29 208.409 1977.13 210.423 Q1975 212.437 1974.68 216.094 L1989.87 216.071 Z\" fill=\"#000000\" fill-rule=\"evenodd\" fill-opacity=\"1\" /><path clip-path=\"url(#clip070)\" d=\"M 0 0 M2018.29 227.413 L2034.61 227.413 L2034.61 231.349 L2012.67 231.349 L2012.67 227.413 Q2015.33 224.659 2019.91 220.029 Q2024.52 215.376 2025.7 214.034 Q2027.94 211.511 2028.82 209.775 Q2029.73 208.015 2029.73 206.326 Q2029.73 203.571 2027.78 201.835 Q2025.86 200.099 2022.76 200.099 Q2020.56 200.099 2018.11 200.863 Q2015.68 201.627 2012.9 203.177 L2012.9 198.455 Q2015.72 197.321 2018.18 196.742 Q2020.63 196.164 2022.67 196.164 Q2028.04 196.164 2031.23 198.849 Q2034.43 201.534 2034.43 206.025 Q2034.43 208.154 2033.61 210.076 Q2032.83 211.974 2030.72 214.566 Q2030.14 215.238 2027.04 218.455 Q2023.94 221.65 2018.29 227.413 Z\" fill=\"#000000\" fill-rule=\"evenodd\" fill-opacity=\"1\" /><path clip-path=\"url(#clip070)\" d=\"M 0 0 M2055.24 225.469 L2060.12 225.469 L2060.12 231.349 L2055.24 231.349 L2055.24 225.469 M2055.24 206.835 L2060.12 206.835 L2060.12 212.714 L2055.24 212.714 L2055.24 206.835 Z\" fill=\"#000000\" fill-rule=\"evenodd\" fill-opacity=\"1\" /><path clip-path=\"url(#clip070)\" d=\"M 0 0 M2079.26 195.33 L2089.08 195.33 L2089.08 198.64 L2083.52 198.64 L2083.52 234.288 L2089.08 234.288 L2089.08 237.599 L2079.26 237.599 L2079.26 195.33 Z\" fill=\"#000000\" fill-rule=\"evenodd\" fill-opacity=\"1\" /><path clip-path=\"url(#clip070)\" d=\"M 0 0 M2094.96 227.413 L2102.6 227.413 L2102.6 201.048 L2094.29 202.715 L2094.29 198.455 L2102.55 196.789 L2107.23 196.789 L2107.23 227.413 L2114.86 227.413 L2114.86 231.349 L2094.96 231.349 L2094.96 227.413 Z\" fill=\"#000000\" fill-rule=\"evenodd\" fill-opacity=\"1\" /><path clip-path=\"url(#clip070)\" d=\"M 0 0 M2120.42 225.469 L2125.3 225.469 L2125.3 229.45 L2121.51 236.858 L2118.52 236.858 L2120.42 229.45 L2120.42 225.469 Z\" fill=\"#000000\" fill-rule=\"evenodd\" fill-opacity=\"1\" /><path clip-path=\"url(#clip070)\" d=\"M 0 0 M2149.47 227.413 L2165.79 227.413 L2165.79 231.349 L2143.85 231.349 L2143.85 227.413 Q2146.51 224.659 2151.09 220.029 Q2155.7 215.376 2156.88 214.034 Q2159.12 211.511 2160 209.775 Q2160.91 208.015 2160.91 206.326 Q2160.91 203.571 2158.96 201.835 Q2157.04 200.099 2153.94 200.099 Q2151.74 200.099 2149.29 200.863 Q2146.86 201.627 2144.08 203.177 L2144.08 198.455 Q2146.9 197.321 2149.36 196.742 Q2151.81 196.164 2153.85 196.164 Q2159.22 196.164 2162.41 198.849 Q2165.6 201.534 2165.6 206.025 Q2165.6 208.154 2164.79 210.076 Q2164.01 211.974 2161.9 214.566 Q2161.32 215.238 2158.22 218.455 Q2155.12 221.65 2149.47 227.413 Z\" fill=\"#000000\" fill-rule=\"evenodd\" fill-opacity=\"1\" /><path clip-path=\"url(#clip070)\" d=\"M 0 0 M2171.35 225.469 L2176.23 225.469 L2176.23 229.45 L2172.43 236.858 L2169.45 236.858 L2171.35 229.45 L2171.35 225.469 Z\" fill=\"#000000\" fill-rule=\"evenodd\" fill-opacity=\"1\" /><path clip-path=\"url(#clip070)\" d=\"M 0 0 M2209.22 200.863 L2197.41 219.312 L2209.22 219.312 L2209.22 200.863 M2207.99 196.789 L2213.87 196.789 L2213.87 219.312 L2218.8 219.312 L2218.8 223.201 L2213.87 223.201 L2213.87 231.349 L2209.22 231.349 L2209.22 223.201 L2193.61 223.201 L2193.61 218.687 L2207.99 196.789 Z\" fill=\"#000000\" fill-rule=\"evenodd\" fill-opacity=\"1\" /><path clip-path=\"url(#clip070)\" d=\"M 0 0 M2233.22 195.33 L2233.22 237.599 L2223.41 237.599 L2223.41 234.288 L2228.94 234.288 L2228.94 198.64 L2223.41 198.64 L2223.41 195.33 L2233.22 195.33 Z\" fill=\"#000000\" fill-rule=\"evenodd\" fill-opacity=\"1\" /></svg>\n"
      ]
     },
     "execution_count": 45,
     "metadata": {},
     "output_type": "execute_result"
    }
   ],
   "source": [
    "p1 = plot()\n",
    "paths = collect(model.properties[:routes])\n",
    "for (key, df) in pairs(routes_df)\n",
    "    idx = key.route_choice\n",
    "    label = \"Route \"*string(idx)*\" : \"*string(paths[idx])\n",
    "    plot!(df.step, df.count, label=label )\n",
    "end\n",
    "xlabel!(\"Steps\")\n",
    "ylabel!(\"Users\")"
   ]
  },
  {
   "cell_type": "markdown",
   "metadata": {
    "nbpresent": {
     "id": "24570d3d-4633-49eb-94ed-d269d01e8621"
    },
    "slideshow": {
     "slide_type": "slide"
    }
   },
   "source": [
    "Perhaps unsurprisingly, the agents quickly learn to distribute themeselves evenly between the two available routes."
   ]
  },
  {
   "cell_type": "code",
   "execution_count": 46,
   "metadata": {},
   "outputs": [
    {
     "data": {
      "image/svg+xml": [
       "<?xml version=\"1.0\" encoding=\"utf-8\"?>\n",
       "<svg xmlns=\"http://www.w3.org/2000/svg\" xmlns:xlink=\"http://www.w3.org/1999/xlink\" width=\"600\" height=\"400\" viewBox=\"0 0 2400 1600\">\n",
       "<defs>\n",
       "  <clipPath id=\"clip110\">\n",
       "    <rect x=\"0\" y=\"0\" width=\"2400\" height=\"1600\"/>\n",
       "  </clipPath>\n",
       "</defs>\n",
       "<path clip-path=\"url(#clip110)\" d=\"\n",
       "M0 1600 L2400 1600 L2400 0 L0 0  Z\n",
       "  \" fill=\"#ffffff\" fill-rule=\"evenodd\" fill-opacity=\"1\"/>\n",
       "<defs>\n",
       "  <clipPath id=\"clip111\">\n",
       "    <rect x=\"480\" y=\"0\" width=\"1681\" height=\"1600\"/>\n",
       "  </clipPath>\n",
       "</defs>\n",
       "<path clip-path=\"url(#clip110)\" d=\"\n",
       "M224.866 1423.18 L2352.76 1423.18 L2352.76 47.2441 L224.866 47.2441  Z\n",
       "  \" fill=\"#ffffff\" fill-rule=\"evenodd\" fill-opacity=\"1\"/>\n",
       "<defs>\n",
       "  <clipPath id=\"clip112\">\n",
       "    <rect x=\"224\" y=\"47\" width=\"2129\" height=\"1377\"/>\n",
       "  </clipPath>\n",
       "</defs>\n",
       "<polyline clip-path=\"url(#clip112)\" style=\"stroke:#000000; stroke-width:2; stroke-opacity:0.1; fill:none\" points=\"\n",
       "  285.09,1423.18 285.09,47.2441 \n",
       "  \"/>\n",
       "<polyline clip-path=\"url(#clip112)\" style=\"stroke:#000000; stroke-width:2; stroke-opacity:0.1; fill:none\" points=\"\n",
       "  786.95,1423.18 786.95,47.2441 \n",
       "  \"/>\n",
       "<polyline clip-path=\"url(#clip112)\" style=\"stroke:#000000; stroke-width:2; stroke-opacity:0.1; fill:none\" points=\"\n",
       "  1288.81,1423.18 1288.81,47.2441 \n",
       "  \"/>\n",
       "<polyline clip-path=\"url(#clip112)\" style=\"stroke:#000000; stroke-width:2; stroke-opacity:0.1; fill:none\" points=\"\n",
       "  1790.67,1423.18 1790.67,47.2441 \n",
       "  \"/>\n",
       "<polyline clip-path=\"url(#clip112)\" style=\"stroke:#000000; stroke-width:2; stroke-opacity:0.1; fill:none\" points=\"\n",
       "  2292.53,1423.18 2292.53,47.2441 \n",
       "  \"/>\n",
       "<polyline clip-path=\"url(#clip110)\" style=\"stroke:#000000; stroke-width:4; stroke-opacity:1; fill:none\" points=\"\n",
       "  224.866,1423.18 2352.76,1423.18 \n",
       "  \"/>\n",
       "<polyline clip-path=\"url(#clip110)\" style=\"stroke:#000000; stroke-width:4; stroke-opacity:1; fill:none\" points=\"\n",
       "  285.09,1423.18 285.09,1406.67 \n",
       "  \"/>\n",
       "<polyline clip-path=\"url(#clip110)\" style=\"stroke:#000000; stroke-width:4; stroke-opacity:1; fill:none\" points=\"\n",
       "  786.95,1423.18 786.95,1406.67 \n",
       "  \"/>\n",
       "<polyline clip-path=\"url(#clip110)\" style=\"stroke:#000000; stroke-width:4; stroke-opacity:1; fill:none\" points=\"\n",
       "  1288.81,1423.18 1288.81,1406.67 \n",
       "  \"/>\n",
       "<polyline clip-path=\"url(#clip110)\" style=\"stroke:#000000; stroke-width:4; stroke-opacity:1; fill:none\" points=\"\n",
       "  1790.67,1423.18 1790.67,1406.67 \n",
       "  \"/>\n",
       "<polyline clip-path=\"url(#clip110)\" style=\"stroke:#000000; stroke-width:4; stroke-opacity:1; fill:none\" points=\"\n",
       "  2292.53,1423.18 2292.53,1406.67 \n",
       "  \"/>\n",
       "<path clip-path=\"url(#clip110)\" d=\"M 0 0 M285.09 1452.37 Q281.478 1452.37 279.65 1455.94 Q277.844 1459.48 277.844 1466.61 Q277.844 1473.71 279.65 1477.28 Q281.478 1480.82 285.09 1480.82 Q288.724 1480.82 290.529 1477.28 Q292.358 1473.71 292.358 1466.61 Q292.358 1459.48 290.529 1455.94 Q288.724 1452.37 285.09 1452.37 M285.09 1448.67 Q290.9 1448.67 293.955 1453.27 Q297.034 1457.86 297.034 1466.61 Q297.034 1475.33 293.955 1479.94 Q290.9 1484.52 285.09 1484.52 Q279.279 1484.52 276.201 1479.94 Q273.145 1475.33 273.145 1466.61 Q273.145 1457.86 276.201 1453.27 Q279.279 1448.67 285.09 1448.67 Z\" fill=\"#000000\" fill-rule=\"evenodd\" fill-opacity=\"1\" /><path clip-path=\"url(#clip110)\" d=\"M 0 0 M768.594 1479.92 L784.913 1479.92 L784.913 1483.85 L762.969 1483.85 L762.969 1479.92 Q765.631 1477.16 770.214 1472.53 Q774.821 1467.88 776.001 1466.54 Q778.247 1464.01 779.126 1462.28 Q780.029 1460.52 780.029 1458.83 Q780.029 1456.07 778.085 1454.34 Q776.163 1452.6 773.061 1452.6 Q770.862 1452.6 768.409 1453.37 Q765.978 1454.13 763.2 1455.68 L763.2 1450.96 Q766.024 1449.82 768.478 1449.25 Q770.932 1448.67 772.969 1448.67 Q778.339 1448.67 781.534 1451.35 Q784.728 1454.04 784.728 1458.53 Q784.728 1460.66 783.918 1462.58 Q783.131 1464.48 781.024 1467.07 Q780.446 1467.74 777.344 1470.96 Q774.242 1474.15 768.594 1479.92 Z\" fill=\"#000000\" fill-rule=\"evenodd\" fill-opacity=\"1\" /><path clip-path=\"url(#clip110)\" d=\"M 0 0 M790.029 1449.29 L808.385 1449.29 L808.385 1453.23 L794.311 1453.23 L794.311 1461.7 Q795.33 1461.35 796.348 1461.19 Q797.367 1461 798.385 1461 Q804.172 1461 807.552 1464.18 Q810.932 1467.35 810.932 1472.76 Q810.932 1478.34 807.459 1481.44 Q803.987 1484.52 797.668 1484.52 Q795.492 1484.52 793.223 1484.15 Q790.978 1483.78 788.571 1483.04 L788.571 1478.34 Q790.654 1479.48 792.876 1480.03 Q795.098 1480.59 797.575 1480.59 Q801.58 1480.59 803.918 1478.48 Q806.256 1476.38 806.256 1472.76 Q806.256 1469.15 803.918 1467.05 Q801.58 1464.94 797.575 1464.94 Q795.7 1464.94 793.825 1465.36 Q791.973 1465.77 790.029 1466.65 L790.029 1449.29 Z\" fill=\"#000000\" fill-rule=\"evenodd\" fill-opacity=\"1\" /><path clip-path=\"url(#clip110)\" d=\"M 0 0 M1265.58 1449.29 L1283.94 1449.29 L1283.94 1453.23 L1269.86 1453.23 L1269.86 1461.7 Q1270.88 1461.35 1271.9 1461.19 Q1272.92 1461 1273.94 1461 Q1279.73 1461 1283.11 1464.18 Q1286.48 1467.35 1286.48 1472.76 Q1286.48 1478.34 1283.01 1481.44 Q1279.54 1484.52 1273.22 1484.52 Q1271.04 1484.52 1268.78 1484.15 Q1266.53 1483.78 1264.12 1483.04 L1264.12 1478.34 Q1266.21 1479.48 1268.43 1480.03 Q1270.65 1480.59 1273.13 1480.59 Q1277.13 1480.59 1279.47 1478.48 Q1281.81 1476.38 1281.81 1472.76 Q1281.81 1469.15 1279.47 1467.05 Q1277.13 1464.94 1273.13 1464.94 Q1271.25 1464.94 1269.38 1465.36 Q1267.53 1465.77 1265.58 1466.65 L1265.58 1449.29 Z\" fill=\"#000000\" fill-rule=\"evenodd\" fill-opacity=\"1\" /><path clip-path=\"url(#clip110)\" d=\"M 0 0 M1301.55 1452.37 Q1297.94 1452.37 1296.11 1455.94 Q1294.31 1459.48 1294.31 1466.61 Q1294.31 1473.71 1296.11 1477.28 Q1297.94 1480.82 1301.55 1480.82 Q1305.19 1480.82 1306.99 1477.28 Q1308.82 1473.71 1308.82 1466.61 Q1308.82 1459.48 1306.99 1455.94 Q1305.19 1452.37 1301.55 1452.37 M1301.55 1448.67 Q1307.36 1448.67 1310.42 1453.27 Q1313.5 1457.86 1313.5 1466.61 Q1313.5 1475.33 1310.42 1479.94 Q1307.36 1484.52 1301.55 1484.52 Q1295.74 1484.52 1292.67 1479.94 Q1289.61 1475.33 1289.61 1466.61 Q1289.61 1457.86 1292.67 1453.27 Q1295.74 1448.67 1301.55 1448.67 Z\" fill=\"#000000\" fill-rule=\"evenodd\" fill-opacity=\"1\" /><path clip-path=\"url(#clip110)\" d=\"M 0 0 M1766.55 1449.29 L1788.77 1449.29 L1788.77 1451.28 L1776.23 1483.85 L1771.34 1483.85 L1783.15 1453.23 L1766.55 1453.23 L1766.55 1449.29 Z\" fill=\"#000000\" fill-rule=\"evenodd\" fill-opacity=\"1\" /><path clip-path=\"url(#clip110)\" d=\"M 0 0 M1793.89 1449.29 L1812.25 1449.29 L1812.25 1453.23 L1798.17 1453.23 L1798.17 1461.7 Q1799.19 1461.35 1800.21 1461.19 Q1801.23 1461 1802.25 1461 Q1808.03 1461 1811.41 1464.18 Q1814.79 1467.35 1814.79 1472.76 Q1814.79 1478.34 1811.32 1481.44 Q1807.85 1484.52 1801.53 1484.52 Q1799.35 1484.52 1797.08 1484.15 Q1794.84 1483.78 1792.43 1483.04 L1792.43 1478.34 Q1794.51 1479.48 1796.74 1480.03 Q1798.96 1480.59 1801.44 1480.59 Q1805.44 1480.59 1807.78 1478.48 Q1810.12 1476.38 1810.12 1472.76 Q1810.12 1469.15 1807.78 1467.05 Q1805.44 1464.94 1801.44 1464.94 Q1799.56 1464.94 1797.69 1465.36 Q1795.83 1465.77 1793.89 1466.65 L1793.89 1449.29 Z\" fill=\"#000000\" fill-rule=\"evenodd\" fill-opacity=\"1\" /><path clip-path=\"url(#clip110)\" d=\"M 0 0 M2255.9 1479.92 L2263.54 1479.92 L2263.54 1453.55 L2255.23 1455.22 L2255.23 1450.96 L2263.49 1449.29 L2268.17 1449.29 L2268.17 1479.92 L2275.81 1479.92 L2275.81 1483.85 L2255.9 1483.85 L2255.9 1479.92 Z\" fill=\"#000000\" fill-rule=\"evenodd\" fill-opacity=\"1\" /><path clip-path=\"url(#clip110)\" d=\"M 0 0 M2290.88 1452.37 Q2287.27 1452.37 2285.44 1455.94 Q2283.63 1459.48 2283.63 1466.61 Q2283.63 1473.71 2285.44 1477.28 Q2287.27 1480.82 2290.88 1480.82 Q2294.51 1480.82 2296.32 1477.28 Q2298.15 1473.71 2298.15 1466.61 Q2298.15 1459.48 2296.32 1455.94 Q2294.51 1452.37 2290.88 1452.37 M2290.88 1448.67 Q2296.69 1448.67 2299.74 1453.27 Q2302.82 1457.86 2302.82 1466.61 Q2302.82 1475.33 2299.74 1479.94 Q2296.69 1484.52 2290.88 1484.52 Q2285.07 1484.52 2281.99 1479.94 Q2278.93 1475.33 2278.93 1466.61 Q2278.93 1457.86 2281.99 1453.27 Q2285.07 1448.67 2290.88 1448.67 Z\" fill=\"#000000\" fill-rule=\"evenodd\" fill-opacity=\"1\" /><path clip-path=\"url(#clip110)\" d=\"M 0 0 M2317.89 1452.37 Q2314.28 1452.37 2312.45 1455.94 Q2310.65 1459.48 2310.65 1466.61 Q2310.65 1473.71 2312.45 1477.28 Q2314.28 1480.82 2317.89 1480.82 Q2321.53 1480.82 2323.33 1477.28 Q2325.16 1473.71 2325.16 1466.61 Q2325.16 1459.48 2323.33 1455.94 Q2321.53 1452.37 2317.89 1452.37 M2317.89 1448.67 Q2323.7 1448.67 2326.76 1453.27 Q2329.84 1457.86 2329.84 1466.61 Q2329.84 1475.33 2326.76 1479.94 Q2323.7 1484.52 2317.89 1484.52 Q2312.08 1484.52 2309 1479.94 Q2305.95 1475.33 2305.95 1466.61 Q2305.95 1457.86 2309 1453.27 Q2312.08 1448.67 2317.89 1448.67 Z\" fill=\"#000000\" fill-rule=\"evenodd\" fill-opacity=\"1\" /><path clip-path=\"url(#clip110)\" d=\"M 0 0 M1238.06 1522.08 L1238.06 1528.35 Q1234.4 1526.6 1231.15 1525.74 Q1227.91 1524.88 1224.88 1524.88 Q1219.63 1524.88 1216.77 1526.92 Q1213.93 1528.96 1213.93 1532.71 Q1213.93 1535.87 1215.81 1537.49 Q1217.72 1539.08 1223.01 1540.07 L1226.89 1540.86 Q1234.08 1542.23 1237.49 1545.7 Q1240.93 1549.14 1240.93 1554.93 Q1240.93 1561.84 1236.28 1565.4 Q1231.66 1568.97 1222.72 1568.97 Q1219.35 1568.97 1215.53 1568.2 Q1211.74 1567.44 1207.66 1565.94 L1207.66 1559.32 Q1211.58 1561.52 1215.33 1562.63 Q1219.09 1563.75 1222.72 1563.75 Q1228.23 1563.75 1231.22 1561.58 Q1234.21 1559.42 1234.21 1555.41 Q1234.21 1551.91 1232.04 1549.93 Q1229.91 1547.96 1225.01 1546.97 L1221.1 1546.21 Q1213.9 1544.78 1210.69 1541.72 Q1207.47 1538.67 1207.47 1533.22 Q1207.47 1526.92 1211.9 1523.29 Q1216.35 1519.66 1224.15 1519.66 Q1227.49 1519.66 1230.96 1520.27 Q1234.43 1520.87 1238.06 1522.08 Z\" fill=\"#000000\" fill-rule=\"evenodd\" fill-opacity=\"1\" /><path clip-path=\"url(#clip110)\" d=\"M 0 0 M1252.86 1522.27 L1252.86 1532.4 L1264.92 1532.4 L1264.92 1536.95 L1252.86 1536.95 L1252.86 1556.3 Q1252.86 1560.66 1254.04 1561.9 Q1255.25 1563.14 1258.91 1563.14 L1264.92 1563.14 L1264.92 1568.04 L1258.91 1568.04 Q1252.13 1568.04 1249.55 1565.53 Q1246.97 1562.98 1246.97 1556.3 L1246.97 1536.95 L1242.68 1536.95 L1242.68 1532.4 L1246.97 1532.4 L1246.97 1522.27 L1252.86 1522.27 Z\" fill=\"#000000\" fill-rule=\"evenodd\" fill-opacity=\"1\" /><path clip-path=\"url(#clip110)\" d=\"M 0 0 M1301.56 1548.76 L1301.56 1551.62 L1274.63 1551.62 Q1275.01 1557.67 1278.26 1560.85 Q1281.54 1564 1287.36 1564 Q1290.74 1564 1293.89 1563.17 Q1297.07 1562.35 1300.19 1560.69 L1300.19 1566.23 Q1297.04 1567.57 1293.73 1568.27 Q1290.42 1568.97 1287.01 1568.97 Q1278.48 1568.97 1273.49 1564 Q1268.52 1559.04 1268.52 1550.57 Q1268.52 1541.82 1273.23 1536.69 Q1277.97 1531.54 1285.99 1531.54 Q1293.19 1531.54 1297.36 1536.18 Q1301.56 1540.8 1301.56 1548.76 M1295.7 1547.04 Q1295.64 1542.23 1293 1539.37 Q1290.39 1536.5 1286.06 1536.5 Q1281.16 1536.5 1278.2 1539.27 Q1275.27 1542.04 1274.82 1547.07 L1295.7 1547.04 Z\" fill=\"#000000\" fill-rule=\"evenodd\" fill-opacity=\"1\" /><path clip-path=\"url(#clip110)\" d=\"M 0 0 M1313.37 1562.7 L1313.37 1581.6 L1307.48 1581.6 L1307.48 1532.4 L1313.37 1532.4 L1313.37 1537.81 Q1315.21 1534.62 1318.01 1533.1 Q1320.85 1531.54 1324.76 1531.54 Q1331.25 1531.54 1335.3 1536.69 Q1339.37 1541.85 1339.37 1550.25 Q1339.37 1558.65 1335.3 1563.81 Q1331.25 1568.97 1324.76 1568.97 Q1320.85 1568.97 1318.01 1567.44 Q1315.21 1565.88 1313.37 1562.7 M1333.29 1550.25 Q1333.29 1543.79 1330.62 1540.13 Q1327.98 1536.44 1323.33 1536.44 Q1318.68 1536.44 1316.01 1540.13 Q1313.37 1543.79 1313.37 1550.25 Q1313.37 1556.71 1316.01 1560.4 Q1318.68 1564.07 1323.33 1564.07 Q1327.98 1564.07 1330.62 1560.4 Q1333.29 1556.71 1333.29 1550.25 Z\" fill=\"#000000\" fill-rule=\"evenodd\" fill-opacity=\"1\" /><path clip-path=\"url(#clip110)\" d=\"M 0 0 M1368.24 1533.45 L1368.24 1538.98 Q1365.76 1537.71 1363.08 1537.07 Q1360.41 1536.44 1357.54 1536.44 Q1353.18 1536.44 1350.99 1537.77 Q1348.82 1539.11 1348.82 1541.79 Q1348.82 1543.82 1350.38 1545 Q1351.94 1546.15 1356.65 1547.2 L1358.66 1547.64 Q1364.9 1548.98 1367.51 1551.43 Q1370.15 1553.85 1370.15 1558.21 Q1370.15 1563.17 1366.2 1566.07 Q1362.29 1568.97 1355.41 1568.97 Q1352.55 1568.97 1349.43 1568.39 Q1346.34 1567.85 1342.9 1566.74 L1342.9 1560.69 Q1346.15 1562.38 1349.3 1563.24 Q1352.45 1564.07 1355.54 1564.07 Q1359.68 1564.07 1361.91 1562.66 Q1364.13 1561.23 1364.13 1558.65 Q1364.13 1556.27 1362.51 1554.99 Q1360.92 1553.72 1355.48 1552.54 L1353.44 1552.07 Q1348 1550.92 1345.58 1548.56 Q1343.16 1546.18 1343.16 1542.04 Q1343.16 1537.01 1346.72 1534.27 Q1350.29 1531.54 1356.84 1531.54 Q1360.09 1531.54 1362.96 1532.01 Q1365.82 1532.49 1368.24 1533.45 Z\" fill=\"#000000\" fill-rule=\"evenodd\" fill-opacity=\"1\" /><polyline clip-path=\"url(#clip112)\" style=\"stroke:#000000; stroke-width:2; stroke-opacity:0.1; fill:none\" points=\"\n",
       "  224.866,1337.32 2352.76,1337.32 \n",
       "  \"/>\n",
       "<polyline clip-path=\"url(#clip112)\" style=\"stroke:#000000; stroke-width:2; stroke-opacity:0.1; fill:none\" points=\"\n",
       "  224.866,1024.54 2352.76,1024.54 \n",
       "  \"/>\n",
       "<polyline clip-path=\"url(#clip112)\" style=\"stroke:#000000; stroke-width:2; stroke-opacity:0.1; fill:none\" points=\"\n",
       "  224.866,711.753 2352.76,711.753 \n",
       "  \"/>\n",
       "<polyline clip-path=\"url(#clip112)\" style=\"stroke:#000000; stroke-width:2; stroke-opacity:0.1; fill:none\" points=\"\n",
       "  224.866,398.969 2352.76,398.969 \n",
       "  \"/>\n",
       "<polyline clip-path=\"url(#clip112)\" style=\"stroke:#000000; stroke-width:2; stroke-opacity:0.1; fill:none\" points=\"\n",
       "  224.866,86.1857 2352.76,86.1857 \n",
       "  \"/>\n",
       "<polyline clip-path=\"url(#clip110)\" style=\"stroke:#000000; stroke-width:4; stroke-opacity:1; fill:none\" points=\"\n",
       "  224.866,1423.18 224.866,47.2441 \n",
       "  \"/>\n",
       "<polyline clip-path=\"url(#clip110)\" style=\"stroke:#000000; stroke-width:4; stroke-opacity:1; fill:none\" points=\"\n",
       "  224.866,1337.32 250.401,1337.32 \n",
       "  \"/>\n",
       "<polyline clip-path=\"url(#clip110)\" style=\"stroke:#000000; stroke-width:4; stroke-opacity:1; fill:none\" points=\"\n",
       "  224.866,1024.54 250.401,1024.54 \n",
       "  \"/>\n",
       "<polyline clip-path=\"url(#clip110)\" style=\"stroke:#000000; stroke-width:4; stroke-opacity:1; fill:none\" points=\"\n",
       "  224.866,711.753 250.401,711.753 \n",
       "  \"/>\n",
       "<polyline clip-path=\"url(#clip110)\" style=\"stroke:#000000; stroke-width:4; stroke-opacity:1; fill:none\" points=\"\n",
       "  224.866,398.969 250.401,398.969 \n",
       "  \"/>\n",
       "<polyline clip-path=\"url(#clip110)\" style=\"stroke:#000000; stroke-width:4; stroke-opacity:1; fill:none\" points=\"\n",
       "  224.866,86.1857 250.401,86.1857 \n",
       "  \"/>\n",
       "<path clip-path=\"url(#clip110)\" d=\"M 0 0 M145.533 1350.67 L161.852 1350.67 L161.852 1354.6 L139.908 1354.6 L139.908 1350.67 Q142.57 1347.91 147.153 1343.28 Q151.76 1338.63 152.941 1337.29 Q155.186 1334.76 156.065 1333.03 Q156.968 1331.27 156.968 1329.58 Q156.968 1326.82 155.024 1325.09 Q153.103 1323.35 150.001 1323.35 Q147.802 1323.35 145.348 1324.11 Q142.917 1324.88 140.14 1326.43 L140.14 1321.71 Q142.964 1320.57 145.417 1319.99 Q147.871 1319.42 149.908 1319.42 Q155.278 1319.42 158.473 1322.1 Q161.667 1324.79 161.667 1329.28 Q161.667 1331.41 160.857 1333.33 Q160.07 1335.23 157.964 1337.82 Q157.385 1338.49 154.283 1341.71 Q151.181 1344.9 145.533 1350.67 Z\" fill=\"#000000\" fill-rule=\"evenodd\" fill-opacity=\"1\" /><path clip-path=\"url(#clip110)\" d=\"M 0 0 M176.922 1323.12 Q173.311 1323.12 171.482 1326.68 Q169.677 1330.23 169.677 1337.36 Q169.677 1344.46 171.482 1348.03 Q173.311 1351.57 176.922 1351.57 Q180.556 1351.57 182.362 1348.03 Q184.19 1344.46 184.19 1337.36 Q184.19 1330.23 182.362 1326.68 Q180.556 1323.12 176.922 1323.12 M176.922 1319.42 Q182.732 1319.42 185.788 1324.02 Q188.866 1328.61 188.866 1337.36 Q188.866 1346.08 185.788 1350.69 Q182.732 1355.27 176.922 1355.27 Q171.112 1355.27 168.033 1350.69 Q164.977 1346.08 164.977 1337.36 Q164.977 1328.61 168.033 1324.02 Q171.112 1319.42 176.922 1319.42 Z\" fill=\"#000000\" fill-rule=\"evenodd\" fill-opacity=\"1\" /><path clip-path=\"url(#clip110)\" d=\"M 0 0 M152.269 1011.33 L140.464 1029.78 L152.269 1029.78 L152.269 1011.33 M151.042 1007.26 L156.922 1007.26 L156.922 1029.78 L161.852 1029.78 L161.852 1033.67 L156.922 1033.67 L156.922 1041.82 L152.269 1041.82 L152.269 1033.67 L136.667 1033.67 L136.667 1029.15 L151.042 1007.26 Z\" fill=\"#000000\" fill-rule=\"evenodd\" fill-opacity=\"1\" /><path clip-path=\"url(#clip110)\" d=\"M 0 0 M176.922 1010.34 Q173.311 1010.34 171.482 1013.9 Q169.677 1017.44 169.677 1024.57 Q169.677 1031.68 171.482 1035.24 Q173.311 1038.78 176.922 1038.78 Q180.556 1038.78 182.362 1035.24 Q184.19 1031.68 184.19 1024.57 Q184.19 1017.44 182.362 1013.9 Q180.556 1010.34 176.922 1010.34 M176.922 1006.63 Q182.732 1006.63 185.788 1011.24 Q188.866 1015.82 188.866 1024.57 Q188.866 1033.3 185.788 1037.9 Q182.732 1042.49 176.922 1042.49 Q171.112 1042.49 168.033 1037.9 Q164.977 1033.3 164.977 1024.57 Q164.977 1015.82 168.033 1011.24 Q171.112 1006.63 176.922 1006.63 Z\" fill=\"#000000\" fill-rule=\"evenodd\" fill-opacity=\"1\" /><path clip-path=\"url(#clip110)\" d=\"M 0 0 M150.325 709.89 Q147.177 709.89 145.325 712.043 Q143.496 714.195 143.496 717.945 Q143.496 721.672 145.325 723.848 Q147.177 726.001 150.325 726.001 Q153.473 726.001 155.302 723.848 Q157.153 721.672 157.153 717.945 Q157.153 714.195 155.302 712.043 Q153.473 709.89 150.325 709.89 M159.607 695.237 L159.607 699.496 Q157.848 698.663 156.042 698.223 Q154.26 697.783 152.501 697.783 Q147.871 697.783 145.417 700.908 Q142.987 704.033 142.64 710.353 Q144.005 708.339 146.066 707.274 Q148.126 706.186 150.603 706.186 Q155.811 706.186 158.82 709.357 Q161.852 712.505 161.852 717.945 Q161.852 723.269 158.704 726.487 Q155.556 729.704 150.325 729.704 Q144.329 729.704 141.158 725.121 Q137.987 720.515 137.987 711.788 Q137.987 703.594 141.876 698.732 Q145.765 693.848 152.316 693.848 Q154.075 693.848 155.857 694.195 Q157.663 694.543 159.607 695.237 Z\" fill=\"#000000\" fill-rule=\"evenodd\" fill-opacity=\"1\" /><path clip-path=\"url(#clip110)\" d=\"M 0 0 M176.922 697.552 Q173.311 697.552 171.482 701.117 Q169.677 704.658 169.677 711.788 Q169.677 718.894 171.482 722.459 Q173.311 726.001 176.922 726.001 Q180.556 726.001 182.362 722.459 Q184.19 718.894 184.19 711.788 Q184.19 704.658 182.362 701.117 Q180.556 697.552 176.922 697.552 M176.922 693.848 Q182.732 693.848 185.788 698.455 Q188.866 703.038 188.866 711.788 Q188.866 720.515 185.788 725.121 Q182.732 729.704 176.922 729.704 Q171.112 729.704 168.033 725.121 Q164.977 720.515 164.977 711.788 Q164.977 703.038 168.033 698.455 Q171.112 693.848 176.922 693.848 Z\" fill=\"#000000\" fill-rule=\"evenodd\" fill-opacity=\"1\" /><path clip-path=\"url(#clip110)\" d=\"M 0 0 M150.001 399.837 Q146.667 399.837 144.746 401.62 Q142.848 403.402 142.848 406.527 Q142.848 409.652 144.746 411.435 Q146.667 413.217 150.001 413.217 Q153.334 413.217 155.255 411.435 Q157.177 409.629 157.177 406.527 Q157.177 403.402 155.255 401.62 Q153.357 399.837 150.001 399.837 M145.325 397.847 Q142.316 397.106 140.626 395.046 Q138.959 392.986 138.959 390.023 Q138.959 385.879 141.899 383.472 Q144.862 381.064 150.001 381.064 Q155.163 381.064 158.103 383.472 Q161.042 385.879 161.042 390.023 Q161.042 392.986 159.353 395.046 Q157.686 397.106 154.7 397.847 Q158.079 398.634 159.954 400.925 Q161.852 403.217 161.852 406.527 Q161.852 411.55 158.774 414.236 Q155.718 416.921 150.001 416.921 Q144.283 416.921 141.204 414.236 Q138.149 411.55 138.149 406.527 Q138.149 403.217 140.047 400.925 Q141.945 398.634 145.325 397.847 M143.612 390.463 Q143.612 393.148 145.279 394.652 Q146.968 396.157 150.001 396.157 Q153.01 396.157 154.7 394.652 Q156.413 393.148 156.413 390.463 Q156.413 387.777 154.7 386.273 Q153.01 384.768 150.001 384.768 Q146.968 384.768 145.279 386.273 Q143.612 387.777 143.612 390.463 Z\" fill=\"#000000\" fill-rule=\"evenodd\" fill-opacity=\"1\" /><path clip-path=\"url(#clip110)\" d=\"M 0 0 M176.922 384.768 Q173.311 384.768 171.482 388.333 Q169.677 391.875 169.677 399.004 Q169.677 406.111 171.482 409.675 Q173.311 413.217 176.922 413.217 Q180.556 413.217 182.362 409.675 Q184.19 406.111 184.19 399.004 Q184.19 391.875 182.362 388.333 Q180.556 384.768 176.922 384.768 M176.922 381.064 Q182.732 381.064 185.788 385.671 Q188.866 390.254 188.866 399.004 Q188.866 407.731 185.788 412.337 Q182.732 416.921 176.922 416.921 Q171.112 416.921 168.033 412.337 Q164.977 407.731 164.977 399.004 Q164.977 390.254 168.033 385.671 Q171.112 381.064 176.922 381.064 Z\" fill=\"#000000\" fill-rule=\"evenodd\" fill-opacity=\"1\" /><path clip-path=\"url(#clip110)\" d=\"M 0 0 M114.931 99.5305 L122.57 99.5305 L122.57 73.1649 L114.26 74.8316 L114.26 70.5723 L122.524 68.9057 L127.2 68.9057 L127.2 99.5305 L134.839 99.5305 L134.839 103.466 L114.931 103.466 L114.931 99.5305 Z\" fill=\"#000000\" fill-rule=\"evenodd\" fill-opacity=\"1\" /><path clip-path=\"url(#clip110)\" d=\"M 0 0 M149.908 71.9844 Q146.297 71.9844 144.468 75.5492 Q142.663 79.0908 142.663 86.2204 Q142.663 93.3268 144.468 96.8916 Q146.297 100.433 149.908 100.433 Q153.542 100.433 155.348 96.8916 Q157.177 93.3268 157.177 86.2204 Q157.177 79.0908 155.348 75.5492 Q153.542 71.9844 149.908 71.9844 M149.908 68.2807 Q155.718 68.2807 158.774 72.8871 Q161.852 77.4704 161.852 86.2204 Q161.852 94.9472 158.774 99.5537 Q155.718 104.137 149.908 104.137 Q144.098 104.137 141.019 99.5537 Q137.964 94.9472 137.964 86.2204 Q137.964 77.4704 141.019 72.8871 Q144.098 68.2807 149.908 68.2807 Z\" fill=\"#000000\" fill-rule=\"evenodd\" fill-opacity=\"1\" /><path clip-path=\"url(#clip110)\" d=\"M 0 0 M176.922 71.9844 Q173.311 71.9844 171.482 75.5492 Q169.677 79.0908 169.677 86.2204 Q169.677 93.3268 171.482 96.8916 Q173.311 100.433 176.922 100.433 Q180.556 100.433 182.362 96.8916 Q184.19 93.3268 184.19 86.2204 Q184.19 79.0908 182.362 75.5492 Q180.556 71.9844 176.922 71.9844 M176.922 68.2807 Q182.732 68.2807 185.788 72.8871 Q188.866 77.4704 188.866 86.2204 Q188.866 94.9472 185.788 99.5537 Q182.732 104.137 176.922 104.137 Q171.112 104.137 168.033 99.5537 Q164.977 94.9472 164.977 86.2204 Q164.977 77.4704 168.033 72.8871 Q171.112 68.2807 176.922 68.2807 Z\" fill=\"#000000\" fill-rule=\"evenodd\" fill-opacity=\"1\" /><path clip-path=\"url(#clip110)\" d=\"M 0 0 M16.4842 815.897 L16.4842 809.436 L45.3526 809.436 Q52.9915 809.436 56.3653 806.667 Q59.7073 803.898 59.7073 797.691 Q59.7073 791.517 56.3653 788.748 Q52.9915 785.978 45.3526 785.978 L16.4842 785.978 L16.4842 779.517 L46.1484 779.517 Q55.4423 779.517 60.1847 784.132 Q64.9272 788.716 64.9272 797.691 Q64.9272 806.699 60.1847 811.314 Q55.4423 815.897 46.1484 815.897 L16.4842 815.897 Z\" fill=\"#000000\" fill-rule=\"evenodd\" fill-opacity=\"1\" /><path clip-path=\"url(#clip110)\" d=\"M 0 0 M29.4065 750.649 L34.9447 750.649 Q33.6716 753.131 33.035 755.805 Q32.3984 758.479 32.3984 761.343 Q32.3984 765.704 33.7352 767.9 Q35.072 770.064 37.7456 770.064 Q39.7826 770.064 40.9603 768.505 Q42.1061 766.945 43.1565 762.234 L43.6021 760.229 Q44.9389 753.991 47.3897 751.381 Q49.8086 748.739 54.1691 748.739 Q59.1344 748.739 62.0308 752.686 Q64.9272 756.601 64.9272 763.476 Q64.9272 766.34 64.3543 769.459 Q63.8132 772.547 62.6992 775.984 L56.6518 775.984 Q58.3387 772.738 59.198 769.587 Q60.0256 766.436 60.0256 763.348 Q60.0256 759.211 58.6251 756.983 Q57.1929 754.755 54.6147 754.755 Q52.2276 754.755 50.9545 756.378 Q49.6813 757.969 48.5037 763.412 L48.0262 765.449 Q46.8804 770.892 44.5251 773.311 Q42.138 775.73 38.0002 775.73 Q32.9713 775.73 30.2341 772.165 Q27.4968 768.6 27.4968 762.043 Q27.4968 758.797 27.9743 755.932 Q28.4517 753.068 29.4065 750.649 Z\" fill=\"#000000\" fill-rule=\"evenodd\" fill-opacity=\"1\" /><path clip-path=\"url(#clip110)\" d=\"M 0 0 M44.7161 712.104 L47.5806 712.104 L47.5806 739.031 Q53.6281 738.649 56.8109 735.403 Q59.9619 732.125 59.9619 726.3 Q59.9619 722.926 59.1344 719.775 Q58.3069 716.592 56.6518 713.473 L62.1899 713.473 Q63.5267 716.624 64.227 719.934 Q64.9272 723.244 64.9272 726.65 Q64.9272 735.18 59.9619 740.177 Q54.9967 745.142 46.5303 745.142 Q37.7774 745.142 32.6531 740.432 Q27.4968 735.689 27.4968 727.669 Q27.4968 720.475 32.1438 716.306 Q36.7589 712.104 44.7161 712.104 M42.9973 717.961 Q38.1912 718.025 35.3266 720.666 Q32.4621 723.276 32.4621 727.605 Q32.4621 732.507 35.2312 735.467 Q38.0002 738.395 43.0292 738.84 L42.9973 717.961 Z\" fill=\"#000000\" fill-rule=\"evenodd\" fill-opacity=\"1\" /><path clip-path=\"url(#clip110)\" d=\"M 0 0 M33.8307 685.305 Q33.2578 686.292 33.0032 687.469 Q32.7167 688.615 32.7167 690.015 Q32.7167 694.981 35.9632 697.654 Q39.1779 700.296 45.2253 700.296 L64.0042 700.296 L64.0042 706.184 L28.3562 706.184 L28.3562 700.296 L33.8944 700.296 Q30.6479 698.45 29.0883 695.49 Q27.4968 692.53 27.4968 688.297 Q27.4968 687.692 27.5923 686.96 Q27.656 686.228 27.8151 685.337 L33.8307 685.305 Z\" fill=\"#000000\" fill-rule=\"evenodd\" fill-opacity=\"1\" /><path clip-path=\"url(#clip110)\" d=\"M 0 0 M29.4065 656.436 L34.9447 656.436 Q33.6716 658.919 33.035 661.593 Q32.3984 664.266 32.3984 667.131 Q32.3984 671.491 33.7352 673.687 Q35.072 675.852 37.7456 675.852 Q39.7826 675.852 40.9603 674.292 Q42.1061 672.733 43.1565 668.022 L43.6021 666.017 Q44.9389 659.778 47.3897 657.168 Q49.8086 654.527 54.1691 654.527 Q59.1344 654.527 62.0308 658.473 Q64.9272 662.388 64.9272 669.263 Q64.9272 672.128 64.3543 675.247 Q63.8132 678.334 62.6992 681.772 L56.6518 681.772 Q58.3387 678.525 59.198 675.374 Q60.0256 672.223 60.0256 669.136 Q60.0256 664.998 58.6251 662.77 Q57.1929 660.542 54.6147 660.542 Q52.2276 660.542 50.9545 662.165 Q49.6813 663.757 48.5037 669.2 L48.0262 671.237 Q46.8804 676.679 44.5251 679.098 Q42.138 681.517 38.0002 681.517 Q32.9713 681.517 30.2341 677.952 Q27.4968 674.388 27.4968 667.831 Q27.4968 664.584 27.9743 661.72 Q28.4517 658.855 29.4065 656.436 Z\" fill=\"#000000\" fill-rule=\"evenodd\" fill-opacity=\"1\" /><polyline clip-path=\"url(#clip112)\" style=\"stroke:#009af9; stroke-width:4; stroke-opacity:1; fill:none\" points=\"\n",
       "  285.09,86.1857 305.164,86.1857 325.238,352.052 345.313,430.248 365.387,602.279 385.462,649.196 405.536,727.392 425.611,743.032 445.685,821.228 465.759,836.867 \n",
       "  485.834,836.867 505.908,868.145 525.983,868.145 546.057,868.145 566.132,868.145 586.206,868.145 606.28,868.145 626.355,868.145 646.429,868.145 666.504,868.145 \n",
       "  686.578,868.145 706.653,868.145 726.727,868.145 746.801,868.145 766.876,868.145 786.95,868.145 807.025,868.145 827.099,868.145 847.174,868.145 867.248,868.145 \n",
       "  887.322,868.145 907.397,868.145 927.471,868.145 947.546,868.145 967.62,868.145 987.695,868.145 1007.77,868.145 1027.84,868.145 1047.92,868.145 1067.99,868.145 \n",
       "  1088.07,868.145 1108.14,868.145 1128.22,868.145 1148.29,868.145 1168.36,868.145 1188.44,868.145 1208.51,868.145 1228.59,868.145 1248.66,868.145 1268.74,868.145 \n",
       "  1288.81,868.145 1308.89,868.145 1328.96,868.145 1349.03,868.145 1369.11,868.145 1389.18,868.145 1409.26,868.145 1429.33,868.145 1449.41,868.145 1469.48,868.145 \n",
       "  1489.56,868.145 1509.63,868.145 1529.7,868.145 1549.78,868.145 1569.85,868.145 1589.93,868.145 1610,868.145 1630.08,868.145 1650.15,868.145 1670.23,868.145 \n",
       "  1690.3,868.145 1710.37,868.145 1730.45,868.145 1750.52,868.145 1770.6,868.145 1790.67,868.145 1810.75,868.145 1830.82,868.145 1850.9,868.145 1870.97,868.145 \n",
       "  1891.04,868.145 1911.12,868.145 1931.19,868.145 1951.27,868.145 1971.34,868.145 1991.42,868.145 2011.49,868.145 2031.57,868.145 2051.64,868.145 2071.71,868.145 \n",
       "  2091.79,868.145 2111.86,868.145 2131.94,868.145 2152.01,868.145 2172.09,868.145 2192.16,868.145 2212.23,868.145 2232.31,868.145 2252.38,868.145 2272.46,868.145 \n",
       "  2292.53,868.145 \n",
       "  \"/>\n",
       "<polyline clip-path=\"url(#clip112)\" style=\"stroke:#e26f46; stroke-width:4; stroke-opacity:1; fill:none\" points=\"\n",
       "  325.238,1384.24 345.313,1306.04 365.387,1134.01 385.462,1087.09 405.536,1008.9 425.611,993.259 445.685,915.063 465.759,899.423 485.834,899.423 505.908,868.145 \n",
       "  525.983,868.145 546.057,868.145 566.132,868.145 586.206,868.145 606.28,868.145 626.355,868.145 646.429,868.145 666.504,868.145 686.578,868.145 706.653,868.145 \n",
       "  726.727,868.145 746.801,868.145 766.876,868.145 786.95,868.145 807.025,868.145 827.099,868.145 847.174,868.145 867.248,868.145 887.322,868.145 907.397,868.145 \n",
       "  927.471,868.145 947.546,868.145 967.62,868.145 987.695,868.145 1007.77,868.145 1027.84,868.145 1047.92,868.145 1067.99,868.145 1088.07,868.145 1108.14,868.145 \n",
       "  1128.22,868.145 1148.29,868.145 1168.36,868.145 1188.44,868.145 1208.51,868.145 1228.59,868.145 1248.66,868.145 1268.74,868.145 1288.81,868.145 1308.89,868.145 \n",
       "  1328.96,868.145 1349.03,868.145 1369.11,868.145 1389.18,868.145 1409.26,868.145 1429.33,868.145 1449.41,868.145 1469.48,868.145 1489.56,868.145 1509.63,868.145 \n",
       "  1529.7,868.145 1549.78,868.145 1569.85,868.145 1589.93,868.145 1610,868.145 1630.08,868.145 1650.15,868.145 1670.23,868.145 1690.3,868.145 1710.37,868.145 \n",
       "  1730.45,868.145 1750.52,868.145 1770.6,868.145 1790.67,868.145 1810.75,868.145 1830.82,868.145 1850.9,868.145 1870.97,868.145 1891.04,868.145 1911.12,868.145 \n",
       "  1931.19,868.145 1951.27,868.145 1971.34,868.145 1991.42,868.145 2011.49,868.145 2031.57,868.145 2051.64,868.145 2071.71,868.145 2091.79,868.145 2111.86,868.145 \n",
       "  2131.94,868.145 2152.01,868.145 2172.09,868.145 2192.16,868.145 2212.23,868.145 2232.31,868.145 2252.38,868.145 2272.46,868.145 2292.53,868.145 \n",
       "  \"/>\n",
       "<path clip-path=\"url(#clip110)\" d=\"\n",
       "M1683.94 274.549 L2281.83 274.549 L2281.83 93.1086 L1683.94 93.1086  Z\n",
       "  \" fill=\"#ffffff\" fill-rule=\"evenodd\" fill-opacity=\"1\"/>\n",
       "<polyline clip-path=\"url(#clip110)\" style=\"stroke:#000000; stroke-width:4; stroke-opacity:1; fill:none\" points=\"\n",
       "  1683.94,274.549 2281.83,274.549 2281.83,93.1086 1683.94,93.1086 1683.94,274.549 \n",
       "  \"/>\n",
       "<polyline clip-path=\"url(#clip110)\" style=\"stroke:#009af9; stroke-width:4; stroke-opacity:1; fill:none\" points=\"\n",
       "  1707.58,153.589 1849.44,153.589 \n",
       "  \"/>\n",
       "<path clip-path=\"url(#clip110)\" d=\"M 0 0 M1889.47 154.665 Q1890.98 155.174 1892.39 156.841 Q1893.82 158.508 1895.26 161.424 L1900 170.869 L1894.98 170.869 L1890.56 162.003 Q1888.85 158.531 1887.23 157.396 Q1885.63 156.262 1882.85 156.262 L1877.76 156.262 L1877.76 170.869 L1873.08 170.869 L1873.08 136.309 L1883.64 136.309 Q1889.56 136.309 1892.48 138.785 Q1895.4 141.262 1895.4 146.262 Q1895.4 149.526 1893.87 151.679 Q1892.37 153.832 1889.47 154.665 M1877.76 140.151 L1877.76 152.42 L1883.64 152.42 Q1887.02 152.42 1888.73 150.869 Q1890.47 149.295 1890.47 146.262 Q1890.47 143.23 1888.73 141.702 Q1887.02 140.151 1883.64 140.151 L1877.76 140.151 Z\" fill=\"#000000\" fill-rule=\"evenodd\" fill-opacity=\"1\" /><path clip-path=\"url(#clip110)\" d=\"M 0 0 M1912.39 147.929 Q1908.96 147.929 1906.97 150.614 Q1904.98 153.276 1904.98 157.929 Q1904.98 162.582 1906.95 165.267 Q1908.94 167.929 1912.39 167.929 Q1915.79 167.929 1917.78 165.244 Q1919.77 162.558 1919.77 157.929 Q1919.77 153.322 1917.78 150.637 Q1915.79 147.929 1912.39 147.929 M1912.39 144.318 Q1917.94 144.318 1921.12 147.929 Q1924.29 151.54 1924.29 157.929 Q1924.29 164.295 1921.12 167.929 Q1917.94 171.54 1912.39 171.54 Q1906.81 171.54 1903.64 167.929 Q1900.49 164.295 1900.49 157.929 Q1900.49 151.54 1903.64 147.929 Q1906.81 144.318 1912.39 144.318 Z\" fill=\"#000000\" fill-rule=\"evenodd\" fill-opacity=\"1\" /><path clip-path=\"url(#clip110)\" d=\"M 0 0 M1928.31 160.637 L1928.31 144.943 L1932.57 144.943 L1932.57 160.475 Q1932.57 164.156 1934.01 166.008 Q1935.44 167.836 1938.31 167.836 Q1941.76 167.836 1943.75 165.637 Q1945.77 163.438 1945.77 159.642 L1945.77 144.943 L1950.03 144.943 L1950.03 170.869 L1945.77 170.869 L1945.77 166.887 Q1944.22 169.248 1942.16 170.406 Q1940.12 171.54 1937.41 171.54 Q1932.94 171.54 1930.63 168.762 Q1928.31 165.984 1928.31 160.637 M1939.03 144.318 L1939.03 144.318 Z\" fill=\"#000000\" fill-rule=\"evenodd\" fill-opacity=\"1\" /><path clip-path=\"url(#clip110)\" d=\"M 0 0 M1958.71 137.582 L1958.71 144.943 L1967.48 144.943 L1967.48 148.253 L1958.71 148.253 L1958.71 162.327 Q1958.71 165.498 1959.56 166.401 Q1960.44 167.304 1963.11 167.304 L1967.48 167.304 L1967.48 170.869 L1963.11 170.869 Q1958.18 170.869 1956.3 169.04 Q1954.43 167.188 1954.43 162.327 L1954.43 148.253 L1951.3 148.253 L1951.3 144.943 L1954.43 144.943 L1954.43 137.582 L1958.71 137.582 Z\" fill=\"#000000\" fill-rule=\"evenodd\" fill-opacity=\"1\" /><path clip-path=\"url(#clip110)\" d=\"M 0 0 M1994.12 156.841 L1994.12 158.924 L1974.54 158.924 Q1974.82 163.322 1977.18 165.637 Q1979.56 167.929 1983.8 167.929 Q1986.25 167.929 1988.55 167.327 Q1990.86 166.725 1993.13 165.521 L1993.13 169.549 Q1990.84 170.521 1988.43 171.031 Q1986.02 171.54 1983.55 171.54 Q1977.34 171.54 1973.71 167.929 Q1970.1 164.318 1970.1 158.16 Q1970.1 151.795 1973.52 148.068 Q1976.97 144.318 1982.81 144.318 Q1988.04 144.318 1991.07 147.697 Q1994.12 151.054 1994.12 156.841 M1989.87 155.591 Q1989.82 152.096 1987.9 150.012 Q1986 147.929 1982.85 147.929 Q1979.29 147.929 1977.13 149.943 Q1975 151.957 1974.68 155.614 L1989.87 155.591 Z\" fill=\"#000000\" fill-rule=\"evenodd\" fill-opacity=\"1\" /><path clip-path=\"url(#clip110)\" d=\"M 0 0 M2015.07 166.933 L2022.71 166.933 L2022.71 140.568 L2014.4 142.235 L2014.4 137.975 L2022.67 136.309 L2027.34 136.309 L2027.34 166.933 L2034.98 166.933 L2034.98 170.869 L2015.07 170.869 L2015.07 166.933 Z\" fill=\"#000000\" fill-rule=\"evenodd\" fill-opacity=\"1\" /><path clip-path=\"url(#clip110)\" d=\"M 0 0 M2055.61 164.989 L2060.49 164.989 L2060.49 170.869 L2055.61 170.869 L2055.61 164.989 M2055.61 146.355 L2060.49 146.355 L2060.49 152.234 L2055.61 152.234 L2055.61 146.355 Z\" fill=\"#000000\" fill-rule=\"evenodd\" fill-opacity=\"1\" /><path clip-path=\"url(#clip110)\" d=\"M 0 0 M2079.63 134.85 L2089.45 134.85 L2089.45 138.16 L2083.89 138.16 L2083.89 173.808 L2089.45 173.808 L2089.45 177.119 L2079.63 177.119 L2079.63 134.85 Z\" fill=\"#000000\" fill-rule=\"evenodd\" fill-opacity=\"1\" /><path clip-path=\"url(#clip110)\" d=\"M 0 0 M2095.33 166.933 L2102.97 166.933 L2102.97 140.568 L2094.66 142.235 L2094.66 137.975 L2102.92 136.309 L2107.6 136.309 L2107.6 166.933 L2115.23 166.933 L2115.23 170.869 L2095.33 170.869 L2095.33 166.933 Z\" fill=\"#000000\" fill-rule=\"evenodd\" fill-opacity=\"1\" /><path clip-path=\"url(#clip110)\" d=\"M 0 0 M2120.79 164.989 L2125.67 164.989 L2125.67 168.97 L2121.88 176.378 L2118.89 176.378 L2120.79 168.97 L2120.79 164.989 Z\" fill=\"#000000\" fill-rule=\"evenodd\" fill-opacity=\"1\" /><path clip-path=\"url(#clip110)\" d=\"M 0 0 M2159.98 152.234 Q2163.34 152.952 2165.21 155.221 Q2167.11 157.489 2167.11 160.822 Q2167.11 165.938 2163.59 168.739 Q2160.07 171.54 2153.59 171.54 Q2151.42 171.54 2149.1 171.1 Q2146.81 170.683 2144.36 169.827 L2144.36 165.313 Q2146.3 166.447 2148.61 167.026 Q2150.93 167.605 2153.45 167.605 Q2157.85 167.605 2160.14 165.869 Q2162.46 164.133 2162.46 160.822 Q2162.46 157.767 2160.3 156.054 Q2158.17 154.318 2154.36 154.318 L2150.33 154.318 L2150.33 150.475 L2154.54 150.475 Q2157.99 150.475 2159.82 149.109 Q2161.65 147.721 2161.65 145.128 Q2161.65 142.466 2159.75 141.054 Q2157.87 139.619 2154.36 139.619 Q2152.43 139.619 2150.23 140.035 Q2148.04 140.452 2145.4 141.332 L2145.4 137.165 Q2148.06 136.424 2150.37 136.054 Q2152.71 135.684 2154.77 135.684 Q2160.1 135.684 2163.2 138.114 Q2166.3 140.522 2166.3 144.642 Q2166.3 147.512 2164.66 149.503 Q2163.01 151.471 2159.98 152.234 Z\" fill=\"#000000\" fill-rule=\"evenodd\" fill-opacity=\"1\" /><path clip-path=\"url(#clip110)\" d=\"M 0 0 M2172.67 164.989 L2177.55 164.989 L2177.55 168.97 L2173.75 176.378 L2170.77 176.378 L2172.67 168.97 L2172.67 164.989 Z\" fill=\"#000000\" fill-rule=\"evenodd\" fill-opacity=\"1\" /><path clip-path=\"url(#clip110)\" d=\"M 0 0 M2210.54 140.383 L2198.73 158.832 L2210.54 158.832 L2210.54 140.383 M2209.31 136.309 L2215.19 136.309 L2215.19 158.832 L2220.12 158.832 L2220.12 162.721 L2215.19 162.721 L2215.19 170.869 L2210.54 170.869 L2210.54 162.721 L2194.93 162.721 L2194.93 158.207 L2209.31 136.309 Z\" fill=\"#000000\" fill-rule=\"evenodd\" fill-opacity=\"1\" /><path clip-path=\"url(#clip110)\" d=\"M 0 0 M2234.54 134.85 L2234.54 177.119 L2224.73 177.119 L2224.73 173.808 L2230.26 173.808 L2230.26 138.16 L2224.73 138.16 L2224.73 134.85 L2234.54 134.85 Z\" fill=\"#000000\" fill-rule=\"evenodd\" fill-opacity=\"1\" /><polyline clip-path=\"url(#clip110)\" style=\"stroke:#e26f46; stroke-width:4; stroke-opacity:1; fill:none\" points=\"\n",
       "  1707.58,214.069 1849.44,214.069 \n",
       "  \"/>\n",
       "<path clip-path=\"url(#clip110)\" d=\"M 0 0 M1889.47 215.145 Q1890.98 215.654 1892.39 217.321 Q1893.82 218.988 1895.26 221.904 L1900 231.349 L1894.98 231.349 L1890.56 222.483 Q1888.85 219.011 1887.23 217.876 Q1885.63 216.742 1882.85 216.742 L1877.76 216.742 L1877.76 231.349 L1873.08 231.349 L1873.08 196.789 L1883.64 196.789 Q1889.56 196.789 1892.48 199.265 Q1895.4 201.742 1895.4 206.742 Q1895.4 210.006 1893.87 212.159 Q1892.37 214.312 1889.47 215.145 M1877.76 200.631 L1877.76 212.9 L1883.64 212.9 Q1887.02 212.9 1888.73 211.349 Q1890.47 209.775 1890.47 206.742 Q1890.47 203.71 1888.73 202.182 Q1887.02 200.631 1883.64 200.631 L1877.76 200.631 Z\" fill=\"#000000\" fill-rule=\"evenodd\" fill-opacity=\"1\" /><path clip-path=\"url(#clip110)\" d=\"M 0 0 M1912.39 208.409 Q1908.96 208.409 1906.97 211.094 Q1904.98 213.756 1904.98 218.409 Q1904.98 223.062 1906.95 225.747 Q1908.94 228.409 1912.39 228.409 Q1915.79 228.409 1917.78 225.724 Q1919.77 223.038 1919.77 218.409 Q1919.77 213.802 1917.78 211.117 Q1915.79 208.409 1912.39 208.409 M1912.39 204.798 Q1917.94 204.798 1921.12 208.409 Q1924.29 212.02 1924.29 218.409 Q1924.29 224.775 1921.12 228.409 Q1917.94 232.02 1912.39 232.02 Q1906.81 232.02 1903.64 228.409 Q1900.49 224.775 1900.49 218.409 Q1900.49 212.02 1903.64 208.409 Q1906.81 204.798 1912.39 204.798 Z\" fill=\"#000000\" fill-rule=\"evenodd\" fill-opacity=\"1\" /><path clip-path=\"url(#clip110)\" d=\"M 0 0 M1928.31 221.117 L1928.31 205.423 L1932.57 205.423 L1932.57 220.955 Q1932.57 224.636 1934.01 226.488 Q1935.44 228.316 1938.31 228.316 Q1941.76 228.316 1943.75 226.117 Q1945.77 223.918 1945.77 220.122 L1945.77 205.423 L1950.03 205.423 L1950.03 231.349 L1945.77 231.349 L1945.77 227.367 Q1944.22 229.728 1942.16 230.886 Q1940.12 232.02 1937.41 232.02 Q1932.94 232.02 1930.63 229.242 Q1928.31 226.464 1928.31 221.117 M1939.03 204.798 L1939.03 204.798 Z\" fill=\"#000000\" fill-rule=\"evenodd\" fill-opacity=\"1\" /><path clip-path=\"url(#clip110)\" d=\"M 0 0 M1958.71 198.062 L1958.71 205.423 L1967.48 205.423 L1967.48 208.733 L1958.71 208.733 L1958.71 222.807 Q1958.71 225.978 1959.56 226.881 Q1960.44 227.784 1963.11 227.784 L1967.48 227.784 L1967.48 231.349 L1963.11 231.349 Q1958.18 231.349 1956.3 229.52 Q1954.43 227.668 1954.43 222.807 L1954.43 208.733 L1951.3 208.733 L1951.3 205.423 L1954.43 205.423 L1954.43 198.062 L1958.71 198.062 Z\" fill=\"#000000\" fill-rule=\"evenodd\" fill-opacity=\"1\" /><path clip-path=\"url(#clip110)\" d=\"M 0 0 M1994.12 217.321 L1994.12 219.404 L1974.54 219.404 Q1974.82 223.802 1977.18 226.117 Q1979.56 228.409 1983.8 228.409 Q1986.25 228.409 1988.55 227.807 Q1990.86 227.205 1993.13 226.001 L1993.13 230.029 Q1990.84 231.001 1988.43 231.511 Q1986.02 232.02 1983.55 232.02 Q1977.34 232.02 1973.71 228.409 Q1970.1 224.798 1970.1 218.64 Q1970.1 212.275 1973.52 208.548 Q1976.97 204.798 1982.81 204.798 Q1988.04 204.798 1991.07 208.177 Q1994.12 211.534 1994.12 217.321 M1989.87 216.071 Q1989.82 212.576 1987.9 210.492 Q1986 208.409 1982.85 208.409 Q1979.29 208.409 1977.13 210.423 Q1975 212.437 1974.68 216.094 L1989.87 216.071 Z\" fill=\"#000000\" fill-rule=\"evenodd\" fill-opacity=\"1\" /><path clip-path=\"url(#clip110)\" d=\"M 0 0 M2018.29 227.413 L2034.61 227.413 L2034.61 231.349 L2012.67 231.349 L2012.67 227.413 Q2015.33 224.659 2019.91 220.029 Q2024.52 215.376 2025.7 214.034 Q2027.94 211.511 2028.82 209.775 Q2029.73 208.015 2029.73 206.326 Q2029.73 203.571 2027.78 201.835 Q2025.86 200.099 2022.76 200.099 Q2020.56 200.099 2018.11 200.863 Q2015.68 201.627 2012.9 203.177 L2012.9 198.455 Q2015.72 197.321 2018.18 196.742 Q2020.63 196.164 2022.67 196.164 Q2028.04 196.164 2031.23 198.849 Q2034.43 201.534 2034.43 206.025 Q2034.43 208.154 2033.61 210.076 Q2032.83 211.974 2030.72 214.566 Q2030.14 215.238 2027.04 218.455 Q2023.94 221.65 2018.29 227.413 Z\" fill=\"#000000\" fill-rule=\"evenodd\" fill-opacity=\"1\" /><path clip-path=\"url(#clip110)\" d=\"M 0 0 M2055.24 225.469 L2060.12 225.469 L2060.12 231.349 L2055.24 231.349 L2055.24 225.469 M2055.24 206.835 L2060.12 206.835 L2060.12 212.714 L2055.24 212.714 L2055.24 206.835 Z\" fill=\"#000000\" fill-rule=\"evenodd\" fill-opacity=\"1\" /><path clip-path=\"url(#clip110)\" d=\"M 0 0 M2079.26 195.33 L2089.08 195.33 L2089.08 198.64 L2083.52 198.64 L2083.52 234.288 L2089.08 234.288 L2089.08 237.599 L2079.26 237.599 L2079.26 195.33 Z\" fill=\"#000000\" fill-rule=\"evenodd\" fill-opacity=\"1\" /><path clip-path=\"url(#clip110)\" d=\"M 0 0 M2094.96 227.413 L2102.6 227.413 L2102.6 201.048 L2094.29 202.715 L2094.29 198.455 L2102.55 196.789 L2107.23 196.789 L2107.23 227.413 L2114.86 227.413 L2114.86 231.349 L2094.96 231.349 L2094.96 227.413 Z\" fill=\"#000000\" fill-rule=\"evenodd\" fill-opacity=\"1\" /><path clip-path=\"url(#clip110)\" d=\"M 0 0 M2120.42 225.469 L2125.3 225.469 L2125.3 229.45 L2121.51 236.858 L2118.52 236.858 L2120.42 229.45 L2120.42 225.469 Z\" fill=\"#000000\" fill-rule=\"evenodd\" fill-opacity=\"1\" /><path clip-path=\"url(#clip110)\" d=\"M 0 0 M2149.47 227.413 L2165.79 227.413 L2165.79 231.349 L2143.85 231.349 L2143.85 227.413 Q2146.51 224.659 2151.09 220.029 Q2155.7 215.376 2156.88 214.034 Q2159.12 211.511 2160 209.775 Q2160.91 208.015 2160.91 206.326 Q2160.91 203.571 2158.96 201.835 Q2157.04 200.099 2153.94 200.099 Q2151.74 200.099 2149.29 200.863 Q2146.86 201.627 2144.08 203.177 L2144.08 198.455 Q2146.9 197.321 2149.36 196.742 Q2151.81 196.164 2153.85 196.164 Q2159.22 196.164 2162.41 198.849 Q2165.6 201.534 2165.6 206.025 Q2165.6 208.154 2164.79 210.076 Q2164.01 211.974 2161.9 214.566 Q2161.32 215.238 2158.22 218.455 Q2155.12 221.65 2149.47 227.413 Z\" fill=\"#000000\" fill-rule=\"evenodd\" fill-opacity=\"1\" /><path clip-path=\"url(#clip110)\" d=\"M 0 0 M2171.35 225.469 L2176.23 225.469 L2176.23 229.45 L2172.43 236.858 L2169.45 236.858 L2171.35 229.45 L2171.35 225.469 Z\" fill=\"#000000\" fill-rule=\"evenodd\" fill-opacity=\"1\" /><path clip-path=\"url(#clip110)\" d=\"M 0 0 M2209.22 200.863 L2197.41 219.312 L2209.22 219.312 L2209.22 200.863 M2207.99 196.789 L2213.87 196.789 L2213.87 219.312 L2218.8 219.312 L2218.8 223.201 L2213.87 223.201 L2213.87 231.349 L2209.22 231.349 L2209.22 223.201 L2193.61 223.201 L2193.61 218.687 L2207.99 196.789 Z\" fill=\"#000000\" fill-rule=\"evenodd\" fill-opacity=\"1\" /><path clip-path=\"url(#clip110)\" d=\"M 0 0 M2233.22 195.33 L2233.22 237.599 L2223.41 237.599 L2223.41 234.288 L2228.94 234.288 L2228.94 198.64 L2223.41 198.64 L2223.41 195.33 L2233.22 195.33 Z\" fill=\"#000000\" fill-rule=\"evenodd\" fill-opacity=\"1\" /></svg>\n"
      ]
     },
     "execution_count": 46,
     "metadata": {},
     "output_type": "execute_result"
    }
   ],
   "source": [
    "p1"
   ]
  },
  {
   "cell_type": "markdown",
   "metadata": {
    "nbpresent": {
     "id": "5ac0597a-95d3-4c59-9421-9bbdb786a358"
    },
    "slideshow": {
     "slide_type": "slide"
    }
   },
   "source": [
    "## Average travel time\n",
    "\n",
    "Let's plot the average travel time"
   ]
  },
  {
   "cell_type": "code",
   "execution_count": 47,
   "metadata": {
    "nbpresent": {
     "id": "df30484c-3557-4278-aec8-2c67eef3f79c"
    }
   },
   "outputs": [
    {
     "data": {
      "image/svg+xml": [
       "<?xml version=\"1.0\" encoding=\"utf-8\"?>\n",
       "<svg xmlns=\"http://www.w3.org/2000/svg\" xmlns:xlink=\"http://www.w3.org/1999/xlink\" width=\"600\" height=\"400\" viewBox=\"0 0 2400 1600\">\n",
       "<defs>\n",
       "  <clipPath id=\"clip150\">\n",
       "    <rect x=\"0\" y=\"0\" width=\"2400\" height=\"1600\"/>\n",
       "  </clipPath>\n",
       "</defs>\n",
       "<path clip-path=\"url(#clip150)\" d=\"\n",
       "M0 1600 L2400 1600 L2400 0 L0 0  Z\n",
       "  \" fill=\"#ffffff\" fill-rule=\"evenodd\" fill-opacity=\"1\"/>\n",
       "<defs>\n",
       "  <clipPath id=\"clip151\">\n",
       "    <rect x=\"480\" y=\"0\" width=\"1681\" height=\"1600\"/>\n",
       "  </clipPath>\n",
       "</defs>\n",
       "<path clip-path=\"url(#clip150)\" d=\"\n",
       "M202.459 1423.18 L2352.76 1423.18 L2352.76 47.2441 L202.459 47.2441  Z\n",
       "  \" fill=\"#ffffff\" fill-rule=\"evenodd\" fill-opacity=\"1\"/>\n",
       "<defs>\n",
       "  <clipPath id=\"clip152\">\n",
       "    <rect x=\"202\" y=\"47\" width=\"2151\" height=\"1377\"/>\n",
       "  </clipPath>\n",
       "</defs>\n",
       "<polyline clip-path=\"url(#clip152)\" style=\"stroke:#000000; stroke-width:2; stroke-opacity:0.1; fill:none\" points=\"\n",
       "  242.826,1423.18 242.826,47.2441 \n",
       "  \"/>\n",
       "<polyline clip-path=\"url(#clip152)\" style=\"stroke:#000000; stroke-width:2; stroke-opacity:0.1; fill:none\" points=\"\n",
       "  755.094,1423.18 755.094,47.2441 \n",
       "  \"/>\n",
       "<polyline clip-path=\"url(#clip152)\" style=\"stroke:#000000; stroke-width:2; stroke-opacity:0.1; fill:none\" points=\"\n",
       "  1267.36,1423.18 1267.36,47.2441 \n",
       "  \"/>\n",
       "<polyline clip-path=\"url(#clip152)\" style=\"stroke:#000000; stroke-width:2; stroke-opacity:0.1; fill:none\" points=\"\n",
       "  1779.63,1423.18 1779.63,47.2441 \n",
       "  \"/>\n",
       "<polyline clip-path=\"url(#clip152)\" style=\"stroke:#000000; stroke-width:2; stroke-opacity:0.1; fill:none\" points=\"\n",
       "  2291.9,1423.18 2291.9,47.2441 \n",
       "  \"/>\n",
       "<polyline clip-path=\"url(#clip150)\" style=\"stroke:#000000; stroke-width:4; stroke-opacity:1; fill:none\" points=\"\n",
       "  202.459,1423.18 2352.76,1423.18 \n",
       "  \"/>\n",
       "<polyline clip-path=\"url(#clip150)\" style=\"stroke:#000000; stroke-width:4; stroke-opacity:1; fill:none\" points=\"\n",
       "  242.826,1423.18 242.826,1406.67 \n",
       "  \"/>\n",
       "<polyline clip-path=\"url(#clip150)\" style=\"stroke:#000000; stroke-width:4; stroke-opacity:1; fill:none\" points=\"\n",
       "  755.094,1423.18 755.094,1406.67 \n",
       "  \"/>\n",
       "<polyline clip-path=\"url(#clip150)\" style=\"stroke:#000000; stroke-width:4; stroke-opacity:1; fill:none\" points=\"\n",
       "  1267.36,1423.18 1267.36,1406.67 \n",
       "  \"/>\n",
       "<polyline clip-path=\"url(#clip150)\" style=\"stroke:#000000; stroke-width:4; stroke-opacity:1; fill:none\" points=\"\n",
       "  1779.63,1423.18 1779.63,1406.67 \n",
       "  \"/>\n",
       "<polyline clip-path=\"url(#clip150)\" style=\"stroke:#000000; stroke-width:4; stroke-opacity:1; fill:none\" points=\"\n",
       "  2291.9,1423.18 2291.9,1406.67 \n",
       "  \"/>\n",
       "<path clip-path=\"url(#clip150)\" d=\"M 0 0 M242.826 1452.37 Q239.215 1452.37 237.386 1455.94 Q235.58 1459.48 235.58 1466.61 Q235.58 1473.71 237.386 1477.28 Q239.215 1480.82 242.826 1480.82 Q246.46 1480.82 248.265 1477.28 Q250.094 1473.71 250.094 1466.61 Q250.094 1459.48 248.265 1455.94 Q246.46 1452.37 242.826 1452.37 M242.826 1448.67 Q248.636 1448.67 251.691 1453.27 Q254.77 1457.86 254.77 1466.61 Q254.77 1475.33 251.691 1479.94 Q248.636 1484.52 242.826 1484.52 Q237.016 1484.52 233.937 1479.94 Q230.881 1475.33 230.881 1466.61 Q230.881 1457.86 233.937 1453.27 Q237.016 1448.67 242.826 1448.67 Z\" fill=\"#000000\" fill-rule=\"evenodd\" fill-opacity=\"1\" /><path clip-path=\"url(#clip150)\" d=\"M 0 0 M736.737 1479.92 L753.057 1479.92 L753.057 1483.85 L731.113 1483.85 L731.113 1479.92 Q733.775 1477.16 738.358 1472.53 Q742.964 1467.88 744.145 1466.54 Q746.39 1464.01 747.27 1462.28 Q748.173 1460.52 748.173 1458.83 Q748.173 1456.07 746.228 1454.34 Q744.307 1452.6 741.205 1452.6 Q739.006 1452.6 736.552 1453.37 Q734.122 1454.13 731.344 1455.68 L731.344 1450.96 Q734.168 1449.82 736.622 1449.25 Q739.075 1448.67 741.112 1448.67 Q746.483 1448.67 749.677 1451.35 Q752.872 1454.04 752.872 1458.53 Q752.872 1460.66 752.061 1462.58 Q751.274 1464.48 749.168 1467.07 Q748.589 1467.74 745.487 1470.96 Q742.386 1474.15 736.737 1479.92 Z\" fill=\"#000000\" fill-rule=\"evenodd\" fill-opacity=\"1\" /><path clip-path=\"url(#clip150)\" d=\"M 0 0 M758.173 1449.29 L776.529 1449.29 L776.529 1453.23 L762.455 1453.23 L762.455 1461.7 Q763.473 1461.35 764.492 1461.19 Q765.51 1461 766.529 1461 Q772.316 1461 775.696 1464.18 Q779.075 1467.35 779.075 1472.76 Q779.075 1478.34 775.603 1481.44 Q772.131 1484.52 765.811 1484.52 Q763.635 1484.52 761.367 1484.15 Q759.122 1483.78 756.714 1483.04 L756.714 1478.34 Q758.798 1479.48 761.02 1480.03 Q763.242 1480.59 765.719 1480.59 Q769.723 1480.59 772.061 1478.48 Q774.399 1476.38 774.399 1472.76 Q774.399 1469.15 772.061 1467.05 Q769.723 1464.94 765.719 1464.94 Q763.844 1464.94 761.969 1465.36 Q760.117 1465.77 758.173 1466.65 L758.173 1449.29 Z\" fill=\"#000000\" fill-rule=\"evenodd\" fill-opacity=\"1\" /><path clip-path=\"url(#clip150)\" d=\"M 0 0 M1244.13 1449.29 L1262.49 1449.29 L1262.49 1453.23 L1248.42 1453.23 L1248.42 1461.7 Q1249.43 1461.35 1250.45 1461.19 Q1251.47 1461 1252.49 1461 Q1258.28 1461 1261.66 1464.18 Q1265.04 1467.35 1265.04 1472.76 Q1265.04 1478.34 1261.56 1481.44 Q1258.09 1484.52 1251.77 1484.52 Q1249.6 1484.52 1247.33 1484.15 Q1245.08 1483.78 1242.67 1483.04 L1242.67 1478.34 Q1244.76 1479.48 1246.98 1480.03 Q1249.2 1480.59 1251.68 1480.59 Q1255.68 1480.59 1258.02 1478.48 Q1260.36 1476.38 1260.36 1472.76 Q1260.36 1469.15 1258.02 1467.05 Q1255.68 1464.94 1251.68 1464.94 Q1249.8 1464.94 1247.93 1465.36 Q1246.08 1465.77 1244.13 1466.65 L1244.13 1449.29 Z\" fill=\"#000000\" fill-rule=\"evenodd\" fill-opacity=\"1\" /><path clip-path=\"url(#clip150)\" d=\"M 0 0 M1280.11 1452.37 Q1276.49 1452.37 1274.67 1455.94 Q1272.86 1459.48 1272.86 1466.61 Q1272.86 1473.71 1274.67 1477.28 Q1276.49 1480.82 1280.11 1480.82 Q1283.74 1480.82 1285.54 1477.28 Q1287.37 1473.71 1287.37 1466.61 Q1287.37 1459.48 1285.54 1455.94 Q1283.74 1452.37 1280.11 1452.37 M1280.11 1448.67 Q1285.92 1448.67 1288.97 1453.27 Q1292.05 1457.86 1292.05 1466.61 Q1292.05 1475.33 1288.97 1479.94 Q1285.92 1484.52 1280.11 1484.52 Q1274.29 1484.52 1271.22 1479.94 Q1268.16 1475.33 1268.16 1466.61 Q1268.16 1457.86 1271.22 1453.27 Q1274.29 1448.67 1280.11 1448.67 Z\" fill=\"#000000\" fill-rule=\"evenodd\" fill-opacity=\"1\" /><path clip-path=\"url(#clip150)\" d=\"M 0 0 M1755.51 1449.29 L1777.73 1449.29 L1777.73 1451.28 L1765.19 1483.85 L1760.3 1483.85 L1772.11 1453.23 L1755.51 1453.23 L1755.51 1449.29 Z\" fill=\"#000000\" fill-rule=\"evenodd\" fill-opacity=\"1\" /><path clip-path=\"url(#clip150)\" d=\"M 0 0 M1782.85 1449.29 L1801.2 1449.29 L1801.2 1453.23 L1787.13 1453.23 L1787.13 1461.7 Q1788.15 1461.35 1789.17 1461.19 Q1790.19 1461 1791.2 1461 Q1796.99 1461 1800.37 1464.18 Q1803.75 1467.35 1803.75 1472.76 Q1803.75 1478.34 1800.28 1481.44 Q1796.81 1484.52 1790.49 1484.52 Q1788.31 1484.52 1786.04 1484.15 Q1783.8 1483.78 1781.39 1483.04 L1781.39 1478.34 Q1783.47 1479.48 1785.7 1480.03 Q1787.92 1480.59 1790.39 1480.59 Q1794.4 1480.59 1796.74 1478.48 Q1799.07 1476.38 1799.07 1472.76 Q1799.07 1469.15 1796.74 1467.05 Q1794.4 1464.94 1790.39 1464.94 Q1788.52 1464.94 1786.64 1465.36 Q1784.79 1465.77 1782.85 1466.65 L1782.85 1449.29 Z\" fill=\"#000000\" fill-rule=\"evenodd\" fill-opacity=\"1\" /><path clip-path=\"url(#clip150)\" d=\"M 0 0 M2255.27 1479.92 L2262.91 1479.92 L2262.91 1453.55 L2254.6 1455.22 L2254.6 1450.96 L2262.86 1449.29 L2267.54 1449.29 L2267.54 1479.92 L2275.17 1479.92 L2275.17 1483.85 L2255.27 1483.85 L2255.27 1479.92 Z\" fill=\"#000000\" fill-rule=\"evenodd\" fill-opacity=\"1\" /><path clip-path=\"url(#clip150)\" d=\"M 0 0 M2290.24 1452.37 Q2286.63 1452.37 2284.8 1455.94 Q2283 1459.48 2283 1466.61 Q2283 1473.71 2284.8 1477.28 Q2286.63 1480.82 2290.24 1480.82 Q2293.88 1480.82 2295.68 1477.28 Q2297.51 1473.71 2297.51 1466.61 Q2297.51 1459.48 2295.68 1455.94 Q2293.88 1452.37 2290.24 1452.37 M2290.24 1448.67 Q2296.05 1448.67 2299.11 1453.27 Q2302.19 1457.86 2302.19 1466.61 Q2302.19 1475.33 2299.11 1479.94 Q2296.05 1484.52 2290.24 1484.52 Q2284.43 1484.52 2281.35 1479.94 Q2278.3 1475.33 2278.3 1466.61 Q2278.3 1457.86 2281.35 1453.27 Q2284.43 1448.67 2290.24 1448.67 Z\" fill=\"#000000\" fill-rule=\"evenodd\" fill-opacity=\"1\" /><path clip-path=\"url(#clip150)\" d=\"M 0 0 M2317.26 1452.37 Q2313.65 1452.37 2311.82 1455.94 Q2310.01 1459.48 2310.01 1466.61 Q2310.01 1473.71 2311.82 1477.28 Q2313.65 1480.82 2317.26 1480.82 Q2320.89 1480.82 2322.7 1477.28 Q2324.53 1473.71 2324.53 1466.61 Q2324.53 1459.48 2322.7 1455.94 Q2320.89 1452.37 2317.26 1452.37 M2317.26 1448.67 Q2323.07 1448.67 2326.12 1453.27 Q2329.2 1457.86 2329.2 1466.61 Q2329.2 1475.33 2326.12 1479.94 Q2323.07 1484.52 2317.26 1484.52 Q2311.45 1484.52 2308.37 1479.94 Q2305.31 1475.33 2305.31 1466.61 Q2305.31 1457.86 2308.37 1453.27 Q2311.45 1448.67 2317.26 1448.67 Z\" fill=\"#000000\" fill-rule=\"evenodd\" fill-opacity=\"1\" /><path clip-path=\"url(#clip150)\" d=\"M 0 0 M1226.86 1522.08 L1226.86 1528.35 Q1223.2 1526.6 1219.95 1525.74 Q1216.7 1524.88 1213.68 1524.88 Q1208.43 1524.88 1205.56 1526.92 Q1202.73 1528.96 1202.73 1532.71 Q1202.73 1535.87 1204.61 1537.49 Q1206.52 1539.08 1211.8 1540.07 L1215.69 1540.86 Q1222.88 1542.23 1226.28 1545.7 Q1229.72 1549.14 1229.72 1554.93 Q1229.72 1561.84 1225.07 1565.4 Q1220.46 1568.97 1211.52 1568.97 Q1208.14 1568.97 1204.32 1568.2 Q1200.53 1567.44 1196.46 1565.94 L1196.46 1559.32 Q1200.38 1561.52 1204.13 1562.63 Q1207.89 1563.75 1211.52 1563.75 Q1217.02 1563.75 1220.01 1561.58 Q1223.01 1559.42 1223.01 1555.41 Q1223.01 1551.91 1220.84 1549.93 Q1218.71 1547.96 1213.81 1546.97 L1209.89 1546.21 Q1202.7 1544.78 1199.48 1541.72 Q1196.27 1538.67 1196.27 1533.22 Q1196.27 1526.92 1200.69 1523.29 Q1205.15 1519.66 1212.95 1519.66 Q1216.29 1519.66 1219.76 1520.27 Q1223.23 1520.87 1226.86 1522.08 Z\" fill=\"#000000\" fill-rule=\"evenodd\" fill-opacity=\"1\" /><path clip-path=\"url(#clip150)\" d=\"M 0 0 M1241.66 1522.27 L1241.66 1532.4 L1253.72 1532.4 L1253.72 1536.95 L1241.66 1536.95 L1241.66 1556.3 Q1241.66 1560.66 1242.83 1561.9 Q1244.04 1563.14 1247.7 1563.14 L1253.72 1563.14 L1253.72 1568.04 L1247.7 1568.04 Q1240.93 1568.04 1238.35 1565.53 Q1235.77 1562.98 1235.77 1556.3 L1235.77 1536.95 L1231.47 1536.95 L1231.47 1532.4 L1235.77 1532.4 L1235.77 1522.27 L1241.66 1522.27 Z\" fill=\"#000000\" fill-rule=\"evenodd\" fill-opacity=\"1\" /><path clip-path=\"url(#clip150)\" d=\"M 0 0 M1290.35 1548.76 L1290.35 1551.62 L1263.43 1551.62 Q1263.81 1557.67 1267.06 1560.85 Q1270.33 1564 1276.16 1564 Q1279.53 1564 1282.68 1563.17 Q1285.87 1562.35 1288.99 1560.69 L1288.99 1566.23 Q1285.84 1567.57 1282.52 1568.27 Q1279.21 1568.97 1275.81 1568.97 Q1267.28 1568.97 1262.28 1564 Q1257.32 1559.04 1257.32 1550.57 Q1257.32 1541.82 1262.03 1536.69 Q1266.77 1531.54 1274.79 1531.54 Q1281.98 1531.54 1286.15 1536.18 Q1290.35 1540.8 1290.35 1548.76 M1284.5 1547.04 Q1284.43 1542.23 1281.79 1539.37 Q1279.18 1536.5 1274.85 1536.5 Q1269.95 1536.5 1266.99 1539.27 Q1264.06 1542.04 1263.62 1547.07 L1284.5 1547.04 Z\" fill=\"#000000\" fill-rule=\"evenodd\" fill-opacity=\"1\" /><path clip-path=\"url(#clip150)\" d=\"M 0 0 M1302.16 1562.7 L1302.16 1581.6 L1296.27 1581.6 L1296.27 1532.4 L1302.16 1532.4 L1302.16 1537.81 Q1304.01 1534.62 1306.81 1533.1 Q1309.64 1531.54 1313.56 1531.54 Q1320.05 1531.54 1324.09 1536.69 Q1328.17 1541.85 1328.17 1550.25 Q1328.17 1558.65 1324.09 1563.81 Q1320.05 1568.97 1313.56 1568.97 Q1309.64 1568.97 1306.81 1567.44 Q1304.01 1565.88 1302.16 1562.7 M1322.09 1550.25 Q1322.09 1543.79 1319.41 1540.13 Q1316.77 1536.44 1312.13 1536.44 Q1307.48 1536.44 1304.8 1540.13 Q1302.16 1543.79 1302.16 1550.25 Q1302.16 1556.71 1304.8 1560.4 Q1307.48 1564.07 1312.13 1564.07 Q1316.77 1564.07 1319.41 1560.4 Q1322.09 1556.71 1322.09 1550.25 Z\" fill=\"#000000\" fill-rule=\"evenodd\" fill-opacity=\"1\" /><path clip-path=\"url(#clip150)\" d=\"M 0 0 M1357.04 1533.45 L1357.04 1538.98 Q1354.55 1537.71 1351.88 1537.07 Q1349.21 1536.44 1346.34 1536.44 Q1341.98 1536.44 1339.78 1537.77 Q1337.62 1539.11 1337.62 1541.79 Q1337.62 1543.82 1339.18 1545 Q1340.74 1546.15 1345.45 1547.2 L1347.46 1547.64 Q1353.69 1548.98 1356.3 1551.43 Q1358.95 1553.85 1358.95 1558.21 Q1358.95 1563.17 1355 1566.07 Q1351.08 1568.97 1344.21 1568.97 Q1341.34 1568.97 1338.22 1568.39 Q1335.14 1567.85 1331.7 1566.74 L1331.7 1560.69 Q1334.95 1562.38 1338.1 1563.24 Q1341.25 1564.07 1344.34 1564.07 Q1348.47 1564.07 1350.7 1562.66 Q1352.93 1561.23 1352.93 1558.65 Q1352.93 1556.27 1351.31 1554.99 Q1349.71 1553.72 1344.27 1552.54 L1342.24 1552.07 Q1336.79 1550.92 1334.37 1548.56 Q1331.95 1546.18 1331.95 1542.04 Q1331.95 1537.01 1335.52 1534.27 Q1339.08 1531.54 1345.64 1531.54 Q1348.89 1531.54 1351.75 1532.01 Q1354.62 1532.49 1357.04 1533.45 Z\" fill=\"#000000\" fill-rule=\"evenodd\" fill-opacity=\"1\" /><polyline clip-path=\"url(#clip152)\" style=\"stroke:#000000; stroke-width:2; stroke-opacity:0.1; fill:none\" points=\"\n",
       "  202.459,1384.24 2352.76,1384.24 \n",
       "  \"/>\n",
       "<polyline clip-path=\"url(#clip152)\" style=\"stroke:#000000; stroke-width:2; stroke-opacity:0.1; fill:none\" points=\"\n",
       "  202.459,1124.63 2352.76,1124.63 \n",
       "  \"/>\n",
       "<polyline clip-path=\"url(#clip152)\" style=\"stroke:#000000; stroke-width:2; stroke-opacity:0.1; fill:none\" points=\"\n",
       "  202.459,865.017 2352.76,865.017 \n",
       "  \"/>\n",
       "<polyline clip-path=\"url(#clip152)\" style=\"stroke:#000000; stroke-width:2; stroke-opacity:0.1; fill:none\" points=\"\n",
       "  202.459,605.407 2352.76,605.407 \n",
       "  \"/>\n",
       "<polyline clip-path=\"url(#clip152)\" style=\"stroke:#000000; stroke-width:2; stroke-opacity:0.1; fill:none\" points=\"\n",
       "  202.459,345.796 2352.76,345.796 \n",
       "  \"/>\n",
       "<polyline clip-path=\"url(#clip152)\" style=\"stroke:#000000; stroke-width:2; stroke-opacity:0.1; fill:none\" points=\"\n",
       "  202.459,86.1857 2352.76,86.1857 \n",
       "  \"/>\n",
       "<polyline clip-path=\"url(#clip150)\" style=\"stroke:#000000; stroke-width:4; stroke-opacity:1; fill:none\" points=\"\n",
       "  202.459,1423.18 202.459,47.2441 \n",
       "  \"/>\n",
       "<polyline clip-path=\"url(#clip150)\" style=\"stroke:#000000; stroke-width:4; stroke-opacity:1; fill:none\" points=\"\n",
       "  202.459,1384.24 228.263,1384.24 \n",
       "  \"/>\n",
       "<polyline clip-path=\"url(#clip150)\" style=\"stroke:#000000; stroke-width:4; stroke-opacity:1; fill:none\" points=\"\n",
       "  202.459,1124.63 228.263,1124.63 \n",
       "  \"/>\n",
       "<polyline clip-path=\"url(#clip150)\" style=\"stroke:#000000; stroke-width:4; stroke-opacity:1; fill:none\" points=\"\n",
       "  202.459,865.017 228.263,865.017 \n",
       "  \"/>\n",
       "<polyline clip-path=\"url(#clip150)\" style=\"stroke:#000000; stroke-width:4; stroke-opacity:1; fill:none\" points=\"\n",
       "  202.459,605.407 228.263,605.407 \n",
       "  \"/>\n",
       "<polyline clip-path=\"url(#clip150)\" style=\"stroke:#000000; stroke-width:4; stroke-opacity:1; fill:none\" points=\"\n",
       "  202.459,345.796 228.263,345.796 \n",
       "  \"/>\n",
       "<polyline clip-path=\"url(#clip150)\" style=\"stroke:#000000; stroke-width:4; stroke-opacity:1; fill:none\" points=\"\n",
       "  202.459,86.1857 228.263,86.1857 \n",
       "  \"/>\n",
       "<path clip-path=\"url(#clip150)\" d=\"M 0 0 M154.515 1370.04 Q150.903 1370.04 149.075 1373.6 Q147.269 1377.14 147.269 1384.27 Q147.269 1391.38 149.075 1394.94 Q150.903 1398.49 154.515 1398.49 Q158.149 1398.49 159.954 1394.94 Q161.783 1391.38 161.783 1384.27 Q161.783 1377.14 159.954 1373.6 Q158.149 1370.04 154.515 1370.04 M154.515 1366.33 Q160.325 1366.33 163.38 1370.94 Q166.459 1375.52 166.459 1384.27 Q166.459 1393 163.38 1397.61 Q160.325 1402.19 154.515 1402.19 Q148.704 1402.19 145.626 1397.61 Q142.57 1393 142.57 1384.27 Q142.57 1375.52 145.626 1370.94 Q148.704 1366.33 154.515 1366.33 Z\" fill=\"#000000\" fill-rule=\"evenodd\" fill-opacity=\"1\" /><path clip-path=\"url(#clip150)\" d=\"M 0 0 M119.538 1137.97 L127.177 1137.97 L127.177 1111.61 L118.867 1113.27 L118.867 1109.01 L127.13 1107.35 L131.806 1107.35 L131.806 1137.97 L139.445 1137.97 L139.445 1141.91 L119.538 1141.91 L119.538 1137.97 Z\" fill=\"#000000\" fill-rule=\"evenodd\" fill-opacity=\"1\" /><path clip-path=\"url(#clip150)\" d=\"M 0 0 M154.515 1110.43 Q150.903 1110.43 149.075 1113.99 Q147.269 1117.53 147.269 1124.66 Q147.269 1131.77 149.075 1135.33 Q150.903 1138.88 154.515 1138.88 Q158.149 1138.88 159.954 1135.33 Q161.783 1131.77 161.783 1124.66 Q161.783 1117.53 159.954 1113.99 Q158.149 1110.43 154.515 1110.43 M154.515 1106.72 Q160.325 1106.72 163.38 1111.33 Q166.459 1115.91 166.459 1124.66 Q166.459 1133.39 163.38 1138 Q160.325 1142.58 154.515 1142.58 Q148.704 1142.58 145.626 1138 Q142.57 1133.39 142.57 1124.66 Q142.57 1115.91 145.626 1111.33 Q148.704 1106.72 154.515 1106.72 Z\" fill=\"#000000\" fill-rule=\"evenodd\" fill-opacity=\"1\" /><path clip-path=\"url(#clip150)\" d=\"M 0 0 M123.126 878.362 L139.445 878.362 L139.445 882.297 L117.501 882.297 L117.501 878.362 Q120.163 875.607 124.746 870.978 Q129.353 866.325 130.533 864.983 Q132.779 862.459 133.658 860.723 Q134.561 858.964 134.561 857.274 Q134.561 854.52 132.617 852.783 Q130.695 851.047 127.593 851.047 Q125.394 851.047 122.941 851.811 Q120.51 852.575 117.732 854.126 L117.732 849.404 Q120.556 848.27 123.01 847.691 Q125.464 847.112 127.501 847.112 Q132.871 847.112 136.066 849.797 Q139.26 852.483 139.26 856.973 Q139.26 859.103 138.45 861.024 Q137.663 862.922 135.556 865.515 Q134.978 866.186 131.876 869.404 Q128.774 872.598 123.126 878.362 Z\" fill=\"#000000\" fill-rule=\"evenodd\" fill-opacity=\"1\" /><path clip-path=\"url(#clip150)\" d=\"M 0 0 M154.515 850.816 Q150.903 850.816 149.075 854.381 Q147.269 857.922 147.269 865.052 Q147.269 872.158 149.075 875.723 Q150.903 879.265 154.515 879.265 Q158.149 879.265 159.954 875.723 Q161.783 872.158 161.783 865.052 Q161.783 857.922 159.954 854.381 Q158.149 850.816 154.515 850.816 M154.515 847.112 Q160.325 847.112 163.38 851.719 Q166.459 856.302 166.459 865.052 Q166.459 873.779 163.38 878.385 Q160.325 882.969 154.515 882.969 Q148.704 882.969 145.626 878.385 Q142.57 873.779 142.57 865.052 Q142.57 856.302 145.626 851.719 Q148.704 847.112 154.515 847.112 Z\" fill=\"#000000\" fill-rule=\"evenodd\" fill-opacity=\"1\" /><path clip-path=\"url(#clip150)\" d=\"M 0 0 M132.316 604.053 Q135.672 604.77 137.547 607.039 Q139.445 609.307 139.445 612.64 Q139.445 617.756 135.927 620.557 Q132.408 623.358 125.927 623.358 Q123.751 623.358 121.436 622.918 Q119.144 622.502 116.691 621.645 L116.691 617.131 Q118.635 618.265 120.95 618.844 Q123.265 619.423 125.788 619.423 Q130.186 619.423 132.478 617.687 Q134.792 615.951 134.792 612.64 Q134.792 609.585 132.64 607.872 Q130.51 606.136 126.691 606.136 L122.663 606.136 L122.663 602.293 L126.876 602.293 Q130.325 602.293 132.154 600.928 Q133.982 599.539 133.982 596.946 Q133.982 594.284 132.084 592.872 Q130.209 591.437 126.691 591.437 Q124.769 591.437 122.57 591.854 Q120.371 592.27 117.732 593.15 L117.732 588.983 Q120.394 588.242 122.709 587.872 Q125.047 587.502 127.107 587.502 Q132.431 587.502 135.533 589.932 Q138.635 592.34 138.635 596.46 Q138.635 599.33 136.992 601.321 Q135.348 603.289 132.316 604.053 Z\" fill=\"#000000\" fill-rule=\"evenodd\" fill-opacity=\"1\" /><path clip-path=\"url(#clip150)\" d=\"M 0 0 M154.515 591.205 Q150.903 591.205 149.075 594.77 Q147.269 598.312 147.269 605.441 Q147.269 612.548 149.075 616.113 Q150.903 619.654 154.515 619.654 Q158.149 619.654 159.954 616.113 Q161.783 612.548 161.783 605.441 Q161.783 598.312 159.954 594.77 Q158.149 591.205 154.515 591.205 M154.515 587.502 Q160.325 587.502 163.38 592.108 Q166.459 596.691 166.459 605.441 Q166.459 614.168 163.38 618.775 Q160.325 623.358 154.515 623.358 Q148.704 623.358 145.626 618.775 Q142.57 614.168 142.57 605.441 Q142.57 596.691 145.626 592.108 Q148.704 587.502 154.515 587.502 Z\" fill=\"#000000\" fill-rule=\"evenodd\" fill-opacity=\"1\" /><path clip-path=\"url(#clip150)\" d=\"M 0 0 M129.862 332.59 L118.056 351.039 L129.862 351.039 L129.862 332.59 M128.635 328.516 L134.515 328.516 L134.515 351.039 L139.445 351.039 L139.445 354.928 L134.515 354.928 L134.515 363.076 L129.862 363.076 L129.862 354.928 L114.26 354.928 L114.26 350.414 L128.635 328.516 Z\" fill=\"#000000\" fill-rule=\"evenodd\" fill-opacity=\"1\" /><path clip-path=\"url(#clip150)\" d=\"M 0 0 M154.515 331.595 Q150.903 331.595 149.075 335.16 Q147.269 338.701 147.269 345.831 Q147.269 352.937 149.075 356.502 Q150.903 360.044 154.515 360.044 Q158.149 360.044 159.954 356.502 Q161.783 352.937 161.783 345.831 Q161.783 338.701 159.954 335.16 Q158.149 331.595 154.515 331.595 M154.515 327.891 Q160.325 327.891 163.38 332.498 Q166.459 337.081 166.459 345.831 Q166.459 354.558 163.38 359.164 Q160.325 363.747 154.515 363.747 Q148.704 363.747 145.626 359.164 Q142.57 354.558 142.57 345.831 Q142.57 337.081 145.626 332.498 Q148.704 327.891 154.515 327.891 Z\" fill=\"#000000\" fill-rule=\"evenodd\" fill-opacity=\"1\" /><path clip-path=\"url(#clip150)\" d=\"M 0 0 M118.543 68.9057 L136.899 68.9057 L136.899 72.8408 L122.825 72.8408 L122.825 81.313 Q123.843 80.9658 124.862 80.8038 Q125.88 80.6186 126.899 80.6186 Q132.686 80.6186 136.066 83.7899 Q139.445 86.9611 139.445 92.3778 Q139.445 97.9564 135.973 101.058 Q132.501 104.137 126.181 104.137 Q124.005 104.137 121.737 103.767 Q119.492 103.396 117.084 102.655 L117.084 97.9564 Q119.168 99.0907 121.39 99.6462 Q123.612 100.202 126.089 100.202 Q130.093 100.202 132.431 98.0953 Q134.769 95.9889 134.769 92.3778 Q134.769 88.7667 132.431 86.6602 Q130.093 84.5537 126.089 84.5537 Q124.214 84.5537 122.339 84.9704 Q120.487 85.3871 118.543 86.2667 L118.543 68.9057 Z\" fill=\"#000000\" fill-rule=\"evenodd\" fill-opacity=\"1\" /><path clip-path=\"url(#clip150)\" d=\"M 0 0 M154.515 71.9844 Q150.903 71.9844 149.075 75.5492 Q147.269 79.0908 147.269 86.2204 Q147.269 93.3268 149.075 96.8916 Q150.903 100.433 154.515 100.433 Q158.149 100.433 159.954 96.8916 Q161.783 93.3268 161.783 86.2204 Q161.783 79.0908 159.954 75.5492 Q158.149 71.9844 154.515 71.9844 M154.515 68.2807 Q160.325 68.2807 163.38 72.8871 Q166.459 77.4704 166.459 86.2204 Q166.459 94.9472 163.38 99.5537 Q160.325 104.137 154.515 104.137 Q148.704 104.137 145.626 99.5537 Q142.57 94.9472 142.57 86.2204 Q142.57 77.4704 145.626 72.8871 Q148.704 68.2807 154.515 68.2807 Z\" fill=\"#000000\" fill-rule=\"evenodd\" fill-opacity=\"1\" /><path clip-path=\"url(#clip150)\" d=\"M 0 0 M16.4842 807.606 L16.4842 767.407 L21.895 767.407 L21.895 784.276 L64.0042 784.276 L64.0042 790.737 L21.895 790.737 L21.895 807.606 L16.4842 807.606 Z\" fill=\"#000000\" fill-rule=\"evenodd\" fill-opacity=\"1\" /><path clip-path=\"url(#clip150)\" d=\"M 0 0 M28.3562 763.269 L28.3562 757.412 L64.0042 757.412 L64.0042 763.269 L28.3562 763.269 M14.479 763.269 L14.479 757.412 L21.895 757.412 L21.895 763.269 L14.479 763.269 Z\" fill=\"#000000\" fill-rule=\"evenodd\" fill-opacity=\"1\" /><path clip-path=\"url(#clip150)\" d=\"M 0 0 M35.1993 723.515 Q31.2526 721.319 29.3747 718.263 Q27.4968 715.208 27.4968 711.07 Q27.4968 705.5 31.4117 702.476 Q35.2948 699.453 42.4881 699.453 L64.0042 699.453 L64.0042 705.341 L42.679 705.341 Q37.5546 705.341 35.072 707.155 Q32.5894 708.969 32.5894 712.693 Q32.5894 717.245 35.6131 719.887 Q38.6368 722.528 43.8567 722.528 L64.0042 722.528 L64.0042 728.417 L42.679 728.417 Q37.5228 728.417 35.072 730.231 Q32.5894 732.045 32.5894 735.833 Q32.5894 740.32 35.6449 742.962 Q38.6686 745.604 43.8567 745.604 L64.0042 745.604 L64.0042 751.492 L28.3562 751.492 L28.3562 745.604 L33.8944 745.604 Q30.616 743.599 29.0564 740.798 Q27.4968 737.997 27.4968 734.146 Q27.4968 730.263 29.4702 727.557 Q31.4436 724.82 35.1993 723.515 Z\" fill=\"#000000\" fill-rule=\"evenodd\" fill-opacity=\"1\" /><path clip-path=\"url(#clip150)\" d=\"M 0 0 M44.7161 662.818 L47.5806 662.818 L47.5806 689.745 Q53.6281 689.363 56.8109 686.116 Q59.9619 682.838 59.9619 677.013 Q59.9619 673.64 59.1344 670.489 Q58.3069 667.306 56.6518 664.187 L62.1899 664.187 Q63.5267 667.338 64.227 670.648 Q64.9272 673.958 64.9272 677.364 Q64.9272 685.894 59.9619 690.891 Q54.9967 695.856 46.5303 695.856 Q37.7774 695.856 32.6531 691.145 Q27.4968 686.403 27.4968 678.382 Q27.4968 671.189 32.1438 667.019 Q36.7589 662.818 44.7161 662.818 M42.9973 668.674 Q38.1912 668.738 35.3266 671.38 Q32.4621 673.99 32.4621 678.318 Q32.4621 683.22 35.2312 686.18 Q38.0002 689.108 43.0292 689.554 L42.9973 668.674 Z\" fill=\"#000000\" fill-rule=\"evenodd\" fill-opacity=\"1\" /><polyline clip-path=\"url(#clip152)\" style=\"stroke:#009af9; stroke-width:4; stroke-opacity:1; fill:none\" points=\"\n",
       "  263.316,735.212 283.807,808.474 304.298,824.31 324.789,850.012 345.279,854.84 365.77,860.812 386.261,861.694 406.752,864.55 427.242,864.81 447.733,864.81 \n",
       "  468.224,865.017 488.714,865.017 509.205,865.017 529.696,865.017 550.187,865.017 570.677,865.017 591.168,865.017 611.659,865.017 632.15,865.017 652.64,865.017 \n",
       "  673.131,865.017 693.622,865.017 714.112,865.017 734.603,865.017 755.094,865.017 775.585,865.017 796.075,865.017 816.566,865.017 837.057,865.017 857.548,865.017 \n",
       "  878.038,865.017 898.529,865.017 919.02,865.017 939.51,865.017 960.001,865.017 980.492,865.017 1000.98,865.017 1021.47,865.017 1041.96,865.017 1062.45,865.017 \n",
       "  1082.95,865.017 1103.44,865.017 1123.93,865.017 1144.42,865.017 1164.91,865.017 1185.4,865.017 1205.89,865.017 1226.38,865.017 1246.87,865.017 1267.36,865.017 \n",
       "  1287.85,865.017 1308.34,865.017 1328.83,865.017 1349.32,865.017 1369.82,865.017 1390.31,865.017 1410.8,865.017 1431.29,865.017 1451.78,865.017 1472.27,865.017 \n",
       "  1492.76,865.017 1513.25,865.017 1533.74,865.017 1554.23,865.017 1574.72,865.017 1595.21,865.017 1615.7,865.017 1636.2,865.017 1656.69,865.017 1677.18,865.017 \n",
       "  1697.67,865.017 1718.16,865.017 1738.65,865.017 1759.14,865.017 1779.63,865.017 1800.12,865.017 1820.61,865.017 1841.1,865.017 1861.59,865.017 1882.08,865.017 \n",
       "  1902.57,865.017 1923.07,865.017 1943.56,865.017 1964.05,865.017 1984.54,865.017 2005.03,865.017 2025.52,865.017 2046.01,865.017 2066.5,865.017 2086.99,865.017 \n",
       "  2107.48,865.017 2127.97,865.017 2148.46,865.017 2168.95,865.017 2189.44,865.017 2209.94,865.017 2230.43,865.017 2250.92,865.017 2271.41,865.017 2291.9,865.017 \n",
       "  \n",
       "  \"/>\n",
       "<path clip-path=\"url(#clip150)\" d=\"\n",
       "M1614.5 214.069 L2281.08 214.069 L2281.08 93.1086 L1614.5 93.1086  Z\n",
       "  \" fill=\"#ffffff\" fill-rule=\"evenodd\" fill-opacity=\"1\"/>\n",
       "<polyline clip-path=\"url(#clip150)\" style=\"stroke:#000000; stroke-width:4; stroke-opacity:1; fill:none\" points=\"\n",
       "  1614.5,214.069 2281.08,214.069 2281.08,93.1086 1614.5,93.1086 1614.5,214.069 \n",
       "  \"/>\n",
       "<polyline clip-path=\"url(#clip150)\" style=\"stroke:#009af9; stroke-width:4; stroke-opacity:1; fill:none\" points=\"\n",
       "  1638.39,153.589 1781.74,153.589 \n",
       "  \"/>\n",
       "<path clip-path=\"url(#clip150)\" d=\"M 0 0 M1821.47 140.915 L1815.13 158.114 L1827.83 158.114 L1821.47 140.915 M1818.83 136.309 L1824.13 136.309 L1837.3 170.869 L1832.44 170.869 L1829.29 162.003 L1813.71 162.003 L1810.57 170.869 L1805.64 170.869 L1818.83 136.309 Z\" fill=\"#000000\" fill-rule=\"evenodd\" fill-opacity=\"1\" /><path clip-path=\"url(#clip150)\" d=\"M 0 0 M1835.94 144.943 L1840.45 144.943 L1848.55 166.702 L1856.65 144.943 L1861.17 144.943 L1851.45 170.869 L1845.66 170.869 L1835.94 144.943 Z\" fill=\"#000000\" fill-rule=\"evenodd\" fill-opacity=\"1\" /><path clip-path=\"url(#clip150)\" d=\"M 0 0 M1887.81 156.841 L1887.81 158.924 L1868.23 158.924 Q1868.51 163.322 1870.87 165.637 Q1873.25 167.929 1877.49 167.929 Q1879.94 167.929 1882.23 167.327 Q1884.55 166.725 1886.82 165.521 L1886.82 169.549 Q1884.52 170.521 1882.12 171.031 Q1879.71 171.54 1877.23 171.54 Q1871.03 171.54 1867.39 167.929 Q1863.78 164.318 1863.78 158.16 Q1863.78 151.795 1867.21 148.068 Q1870.66 144.318 1876.49 144.318 Q1881.72 144.318 1884.76 147.697 Q1887.81 151.054 1887.81 156.841 M1883.55 155.591 Q1883.51 152.096 1881.58 150.012 Q1879.69 147.929 1876.54 147.929 Q1872.97 147.929 1870.82 149.943 Q1868.69 151.957 1868.37 155.614 L1883.55 155.591 Z\" fill=\"#000000\" fill-rule=\"evenodd\" fill-opacity=\"1\" /><path clip-path=\"url(#clip150)\" d=\"M 0 0 M1907.3 148.924 Q1906.58 148.508 1905.73 148.322 Q1904.89 148.114 1903.88 148.114 Q1900.26 148.114 1898.32 150.475 Q1896.4 152.813 1896.4 157.211 L1896.4 170.869 L1892.12 170.869 L1892.12 144.943 L1896.4 144.943 L1896.4 148.971 Q1897.74 146.609 1899.89 145.475 Q1902.05 144.318 1905.13 144.318 Q1905.57 144.318 1906.1 144.387 Q1906.63 144.434 1907.28 144.549 L1907.3 148.924 Z\" fill=\"#000000\" fill-rule=\"evenodd\" fill-opacity=\"1\" /><path clip-path=\"url(#clip150)\" d=\"M 0 0 M1923.55 157.836 Q1918.39 157.836 1916.4 159.017 Q1914.41 160.197 1914.41 163.045 Q1914.41 165.313 1915.89 166.656 Q1917.39 167.975 1919.96 167.975 Q1923.5 167.975 1925.63 165.475 Q1927.79 162.952 1927.79 158.785 L1927.79 157.836 L1923.55 157.836 M1932.05 156.077 L1932.05 170.869 L1927.79 170.869 L1927.79 166.933 Q1926.33 169.295 1924.15 170.429 Q1921.98 171.54 1918.83 171.54 Q1914.85 171.54 1912.49 169.318 Q1910.15 167.072 1910.15 163.322 Q1910.15 158.947 1913.07 156.725 Q1916 154.503 1921.82 154.503 L1927.79 154.503 L1927.79 154.086 Q1927.79 151.147 1925.84 149.549 Q1923.92 147.929 1920.43 147.929 Q1918.2 147.929 1916.1 148.461 Q1913.99 148.994 1912.05 150.059 L1912.05 146.123 Q1914.38 145.221 1916.58 144.781 Q1918.78 144.318 1920.87 144.318 Q1926.49 144.318 1929.27 147.234 Q1932.05 150.151 1932.05 156.077 Z\" fill=\"#000000\" fill-rule=\"evenodd\" fill-opacity=\"1\" /><path clip-path=\"url(#clip150)\" d=\"M 0 0 M1953.57 157.605 Q1953.57 152.975 1951.65 150.429 Q1949.75 147.883 1946.31 147.883 Q1942.88 147.883 1940.96 150.429 Q1939.06 152.975 1939.06 157.605 Q1939.06 162.211 1940.96 164.758 Q1942.88 167.304 1946.31 167.304 Q1949.75 167.304 1951.65 164.758 Q1953.57 162.211 1953.57 157.605 M1957.83 167.651 Q1957.83 174.271 1954.89 177.489 Q1951.95 180.73 1945.89 180.73 Q1943.64 180.73 1941.65 180.382 Q1939.66 180.058 1937.79 179.364 L1937.79 175.22 Q1939.66 176.239 1941.49 176.725 Q1943.32 177.211 1945.22 177.211 Q1949.41 177.211 1951.49 175.012 Q1953.57 172.836 1953.57 168.415 L1953.57 166.308 Q1952.25 168.6 1950.19 169.734 Q1948.13 170.869 1945.26 170.869 Q1940.5 170.869 1937.58 167.234 Q1934.66 163.6 1934.66 157.605 Q1934.66 151.586 1937.58 147.952 Q1940.5 144.318 1945.26 144.318 Q1948.13 144.318 1950.19 145.452 Q1952.25 146.586 1953.57 148.878 L1953.57 144.943 L1957.83 144.943 L1957.83 167.651 Z\" fill=\"#000000\" fill-rule=\"evenodd\" fill-opacity=\"1\" /><path clip-path=\"url(#clip150)\" d=\"M 0 0 M1984.48 156.841 L1984.48 158.924 L1964.89 158.924 Q1965.17 163.322 1967.53 165.637 Q1969.92 167.929 1974.15 167.929 Q1976.61 167.929 1978.9 167.327 Q1981.21 166.725 1983.48 165.521 L1983.48 169.549 Q1981.19 170.521 1978.78 171.031 Q1976.38 171.54 1973.9 171.54 Q1967.69 171.54 1964.06 167.929 Q1960.45 164.318 1960.45 158.16 Q1960.45 151.795 1963.88 148.068 Q1967.32 144.318 1973.16 144.318 Q1978.39 144.318 1981.42 147.697 Q1984.48 151.054 1984.48 156.841 M1980.22 155.591 Q1980.17 152.096 1978.25 150.012 Q1976.35 147.929 1973.2 147.929 Q1969.64 147.929 1967.49 149.943 Q1965.36 151.957 1965.03 155.614 L1980.22 155.591 Z\" fill=\"#000000\" fill-rule=\"evenodd\" fill-opacity=\"1\" /><path clip-path=\"url(#clip150)\" d=\"M 0 0 M2008.23 137.582 L2008.23 144.943 L2017 144.943 L2017 148.253 L2008.23 148.253 L2008.23 162.327 Q2008.23 165.498 2009.08 166.401 Q2009.96 167.304 2012.62 167.304 L2017 167.304 L2017 170.869 L2012.62 170.869 Q2007.69 170.869 2005.82 169.04 Q2003.94 167.188 2003.94 162.327 L2003.94 148.253 L2000.82 148.253 L2000.82 144.943 L2003.94 144.943 L2003.94 137.582 L2008.23 137.582 Z\" fill=\"#000000\" fill-rule=\"evenodd\" fill-opacity=\"1\" /><path clip-path=\"url(#clip150)\" d=\"M 0 0 M2036.49 148.924 Q2035.77 148.508 2034.92 148.322 Q2034.08 148.114 2033.06 148.114 Q2029.45 148.114 2027.51 150.475 Q2025.59 152.813 2025.59 157.211 L2025.59 170.869 L2021.31 170.869 L2021.31 144.943 L2025.59 144.943 L2025.59 148.971 Q2026.93 146.609 2029.08 145.475 Q2031.24 144.318 2034.31 144.318 Q2034.75 144.318 2035.29 144.387 Q2035.82 144.434 2036.47 144.549 L2036.49 148.924 Z\" fill=\"#000000\" fill-rule=\"evenodd\" fill-opacity=\"1\" /><path clip-path=\"url(#clip150)\" d=\"M 0 0 M2052.74 157.836 Q2047.58 157.836 2045.59 159.017 Q2043.6 160.197 2043.6 163.045 Q2043.6 165.313 2045.08 166.656 Q2046.58 167.975 2049.15 167.975 Q2052.69 167.975 2054.82 165.475 Q2056.98 162.952 2056.98 158.785 L2056.98 157.836 L2052.74 157.836 M2061.24 156.077 L2061.24 170.869 L2056.98 170.869 L2056.98 166.933 Q2055.52 169.295 2053.34 170.429 Q2051.17 171.54 2048.02 171.54 Q2044.04 171.54 2041.68 169.318 Q2039.34 167.072 2039.34 163.322 Q2039.34 158.947 2042.25 156.725 Q2045.19 154.503 2051 154.503 L2056.98 154.503 L2056.98 154.086 Q2056.98 151.147 2055.03 149.549 Q2053.11 147.929 2049.62 147.929 Q2047.39 147.929 2045.29 148.461 Q2043.18 148.994 2041.24 150.059 L2041.24 146.123 Q2043.57 145.221 2045.77 144.781 Q2047.97 144.318 2050.06 144.318 Q2055.68 144.318 2058.46 147.234 Q2061.24 150.151 2061.24 156.077 Z\" fill=\"#000000\" fill-rule=\"evenodd\" fill-opacity=\"1\" /><path clip-path=\"url(#clip150)\" d=\"M 0 0 M2062.65 144.943 L2067.16 144.943 L2075.26 166.702 L2083.37 144.943 L2087.88 144.943 L2078.16 170.869 L2072.37 170.869 L2062.65 144.943 Z\" fill=\"#000000\" fill-rule=\"evenodd\" fill-opacity=\"1\" /><path clip-path=\"url(#clip150)\" d=\"M 0 0 M2114.52 156.841 L2114.52 158.924 L2094.94 158.924 Q2095.22 163.322 2097.58 165.637 Q2099.96 167.929 2104.2 167.929 Q2106.65 167.929 2108.94 167.327 Q2111.26 166.725 2113.53 165.521 L2113.53 169.549 Q2111.24 170.521 2108.83 171.031 Q2106.42 171.54 2103.94 171.54 Q2097.74 171.54 2094.11 167.929 Q2090.49 164.318 2090.49 158.16 Q2090.49 151.795 2093.92 148.068 Q2097.37 144.318 2103.2 144.318 Q2108.43 144.318 2111.47 147.697 Q2114.52 151.054 2114.52 156.841 M2110.26 155.591 Q2110.22 152.096 2108.3 150.012 Q2106.4 147.929 2103.25 147.929 Q2099.68 147.929 2097.53 149.943 Q2095.4 151.957 2095.08 155.614 L2110.26 155.591 Z\" fill=\"#000000\" fill-rule=\"evenodd\" fill-opacity=\"1\" /><path clip-path=\"url(#clip150)\" d=\"M 0 0 M2118.99 134.85 L2123.25 134.85 L2123.25 170.869 L2118.99 170.869 L2118.99 134.85 Z\" fill=\"#000000\" fill-rule=\"evenodd\" fill-opacity=\"1\" /><path clip-path=\"url(#clip150)\" d=\"M 0 0 M2147 137.582 L2147 144.943 L2155.77 144.943 L2155.77 148.253 L2147 148.253 L2147 162.327 Q2147 165.498 2147.86 166.401 Q2148.74 167.304 2151.4 167.304 L2155.77 167.304 L2155.77 170.869 L2151.4 170.869 Q2146.47 170.869 2144.59 169.04 Q2142.72 167.188 2142.72 162.327 L2142.72 148.253 L2139.59 148.253 L2139.59 144.943 L2142.72 144.943 L2142.72 137.582 L2147 137.582 Z\" fill=\"#000000\" fill-rule=\"evenodd\" fill-opacity=\"1\" /><path clip-path=\"url(#clip150)\" d=\"M 0 0 M2160.24 144.943 L2164.5 144.943 L2164.5 170.869 L2160.24 170.869 L2160.24 144.943 M2160.24 134.85 L2164.5 134.85 L2164.5 140.244 L2160.24 140.244 L2160.24 134.85 Z\" fill=\"#000000\" fill-rule=\"evenodd\" fill-opacity=\"1\" /><path clip-path=\"url(#clip150)\" d=\"M 0 0 M2189.15 149.92 Q2190.75 147.049 2192.97 145.684 Q2195.19 144.318 2198.2 144.318 Q2202.25 144.318 2204.45 147.165 Q2206.65 149.989 2206.65 155.221 L2206.65 170.869 L2202.37 170.869 L2202.37 155.359 Q2202.37 151.633 2201.05 149.827 Q2199.73 148.022 2197.02 148.022 Q2193.71 148.022 2191.79 150.221 Q2189.87 152.42 2189.87 156.216 L2189.87 170.869 L2185.59 170.869 L2185.59 155.359 Q2185.59 151.609 2184.27 149.827 Q2182.95 148.022 2180.19 148.022 Q2176.93 148.022 2175.01 150.244 Q2173.09 152.443 2173.09 156.216 L2173.09 170.869 L2168.8 170.869 L2168.8 144.943 L2173.09 144.943 L2173.09 148.971 Q2174.55 146.586 2176.58 145.452 Q2178.62 144.318 2181.42 144.318 Q2184.24 144.318 2186.21 145.753 Q2188.2 147.188 2189.15 149.92 Z\" fill=\"#000000\" fill-rule=\"evenodd\" fill-opacity=\"1\" /><path clip-path=\"url(#clip150)\" d=\"M 0 0 M2233.29 156.841 L2233.29 158.924 L2213.71 158.924 Q2213.99 163.322 2216.35 165.637 Q2218.73 167.929 2222.97 167.929 Q2225.42 167.929 2227.72 167.327 Q2230.03 166.725 2232.3 165.521 L2232.3 169.549 Q2230.01 170.521 2227.6 171.031 Q2225.19 171.54 2222.72 171.54 Q2216.51 171.54 2212.88 167.929 Q2209.27 164.318 2209.27 158.16 Q2209.27 151.795 2212.69 148.068 Q2216.14 144.318 2221.98 144.318 Q2227.21 144.318 2230.24 147.697 Q2233.29 151.054 2233.29 156.841 M2229.04 155.591 Q2228.99 152.096 2227.07 150.012 Q2225.17 147.929 2222.02 147.929 Q2218.46 147.929 2216.3 149.943 Q2214.17 151.957 2213.85 155.614 L2229.04 155.591 Z\" fill=\"#000000\" fill-rule=\"evenodd\" fill-opacity=\"1\" /></svg>\n"
      ]
     },
     "execution_count": 47,
     "metadata": {},
     "output_type": "execute_result"
    }
   ],
   "source": [
    "p2 = plot(df_average_travel.step, df_average_travel.T, ylims=[0.0, 50.0], label=\"Average travel time\")\n",
    "xlabel!(\"Steps\")\n",
    "ylabel!(\"Time\")"
   ]
  },
  {
   "cell_type": "markdown",
   "metadata": {
    "nbpresent": {
     "id": "f70775ac-6781-48a8-b060-e8ed9569f93a"
    },
    "slideshow": {
     "slide_type": "slide"
    }
   },
   "source": [
    "## Average travel time\n",
    "The system quickly settles to a Wardrop equilibrium of 20 minutes - consistent with the demand delay functions for the two routes."
   ]
  },
  {
   "cell_type": "code",
   "execution_count": null,
   "metadata": {},
   "outputs": [],
   "source": [
    "p2"
   ]
  },
  {
   "cell_type": "markdown",
   "metadata": {
    "nbpresent": {
     "id": "d6f30ab3-e7f7-40d8-bdea-85754565c6b2"
    },
    "slideshow": {
     "slide_type": "slide"
    }
   },
   "source": [
    "## Aggregating data on the fly and querying the model\n",
    "\n",
    "It is possible to use the ```adata``` keyword to apply functions (such as `mean()` or `median()`) to the set of all agents' data at each step to avoid returning excessive amounts of data from large simulations and then doing complicated analyses of dataframes. \n",
    "\n",
    "You can also query the model object itself by defining functions that apply to the model and pass them into the ```run!()``` function with the ```mdata``` keyword. \n",
    "\n",
    "Here is an example:"
   ]
  },
  {
   "cell_type": "code",
   "execution_count": 50,
   "metadata": {
    "nbpresent": {
     "id": "69e5169a-9992-4728-951c-cbbf8201520d"
    },
    "slideshow": {
     "slide_type": "slide"
    }
   },
   "outputs": [],
   "source": [
    "# Specify a function to apply to agents' field to aggregate data on the fly\n",
    "adata = [(:travel_time, mean)]\n",
    "\n",
    "# Define functions that take the model as argument and return some of the model properties\n",
    "t1(model) = model.properties[:route_times][1]\n",
    "t2(model) = model.properties[:route_times][2]\n",
    "\n",
    "mdata = [t1, t2]\n",
    "\n",
    "# Initialise and run the model to gather data as before\n",
    "n = 100  \n",
    "when = 1:n  \n",
    "model = initialise(properties = properties)\n",
    "data_from_agents, data_from_model = run!(model, agent_step!, model_step!, n; adata, mdata);"
   ]
  },
  {
   "cell_type": "markdown",
   "metadata": {
    "slideshow": {
     "slide_type": "slide"
    }
   },
   "source": [
    "## Aggregating data on the fly and querying the model"
   ]
  },
  {
   "cell_type": "code",
   "execution_count": 51,
   "metadata": {
    "cell_style": "split"
   },
   "outputs": [
    {
     "data": {
      "text/html": [
       "<table class=\"data-frame\"><thead><tr><th></th><th>step</th><th>mean_travel_time</th></tr><tr><th></th><th>Int64</th><th>Float64</th></tr></thead><tbody><p>5 rows × 2 columns</p><tr><th>1</th><td>0</td><td>0.0</td></tr><tr><th>2</th><td>1</td><td>25.0</td></tr><tr><th>3</th><td>2</td><td>22.048</td></tr><tr><th>4</th><td>3</td><td>20.648</td></tr><tr><th>5</th><td>4</td><td>20.338</td></tr></tbody></table>"
      ],
      "text/latex": [
       "\\begin{tabular}{r|cc}\n",
       "\t& step & mean\\_travel\\_time\\\\\n",
       "\t\\hline\n",
       "\t& Int64 & Float64\\\\\n",
       "\t\\hline\n",
       "\t1 & 0 & 0.0 \\\\\n",
       "\t2 & 1 & 25.0 \\\\\n",
       "\t3 & 2 & 22.048 \\\\\n",
       "\t4 & 3 & 20.648 \\\\\n",
       "\t5 & 4 & 20.338 \\\\\n",
       "\\end{tabular}\n"
      ],
      "text/plain": [
       "\u001b[1m5×2 DataFrame\u001b[0m\n",
       "\u001b[1m Row \u001b[0m│\u001b[1m step  \u001b[0m\u001b[1m mean_travel_time \u001b[0m\n",
       "\u001b[1m     \u001b[0m│\u001b[90m Int64 \u001b[0m\u001b[90m Float64          \u001b[0m\n",
       "─────┼─────────────────────────\n",
       "   1 │     0             0.0\n",
       "   2 │     1            25.0\n",
       "   3 │     2            22.048\n",
       "   4 │     3            20.648\n",
       "   5 │     4            20.338"
      ]
     },
     "execution_count": 51,
     "metadata": {},
     "output_type": "execute_result"
    }
   ],
   "source": [
    "data_from_agents[1:5, :]"
   ]
  },
  {
   "cell_type": "code",
   "execution_count": 52,
   "metadata": {
    "cell_style": "split"
   },
   "outputs": [
    {
     "data": {
      "text/html": [
       "<table class=\"data-frame\"><thead><tr><th></th><th>step</th><th>t1</th><th>t2</th></tr><tr><th></th><th>Int64</th><th>Float64</th><th>Float64</th></tr></thead><tbody><p>5 rows × 3 columns</p><tr><th>1</th><td>0</td><td>20.0</td><td>20.0</td></tr><tr><th>2</th><td>1</td><td>25.0</td><td>15.0</td></tr><tr><th>3</th><td>2</td><td>23.2</td><td>16.8</td></tr><tr><th>4</th><td>3</td><td>21.8</td><td>18.2</td></tr><tr><th>5</th><td>4</td><td>21.3</td><td>18.7</td></tr></tbody></table>"
      ],
      "text/latex": [
       "\\begin{tabular}{r|ccc}\n",
       "\t& step & t1 & t2\\\\\n",
       "\t\\hline\n",
       "\t& Int64 & Float64 & Float64\\\\\n",
       "\t\\hline\n",
       "\t1 & 0 & 20.0 & 20.0 \\\\\n",
       "\t2 & 1 & 25.0 & 15.0 \\\\\n",
       "\t3 & 2 & 23.2 & 16.8 \\\\\n",
       "\t4 & 3 & 21.8 & 18.2 \\\\\n",
       "\t5 & 4 & 21.3 & 18.7 \\\\\n",
       "\\end{tabular}\n"
      ],
      "text/plain": [
       "\u001b[1m5×3 DataFrame\u001b[0m\n",
       "\u001b[1m Row \u001b[0m│\u001b[1m step  \u001b[0m\u001b[1m t1      \u001b[0m\u001b[1m t2      \u001b[0m\n",
       "\u001b[1m     \u001b[0m│\u001b[90m Int64 \u001b[0m\u001b[90m Float64 \u001b[0m\u001b[90m Float64 \u001b[0m\n",
       "─────┼─────────────────────────\n",
       "   1 │     0     20.0     20.0\n",
       "   2 │     1     25.0     15.0\n",
       "   3 │     2     23.2     16.8\n",
       "   4 │     3     21.8     18.2\n",
       "   5 │     4     21.3     18.7"
      ]
     },
     "execution_count": 52,
     "metadata": {},
     "output_type": "execute_result"
    }
   ],
   "source": [
    "data_from_model[1:5, :]"
   ]
  },
  {
   "cell_type": "markdown",
   "metadata": {
    "cell_style": "split",
    "nbpresent": {
     "id": "74477327-a0db-46df-b2e7-da3bcbe708e6"
    },
    "slideshow": {
     "slide_type": "slide"
    }
   },
   "source": [
    "## A (slightly) more complicated example\n",
    "\n",
    "Let's add an additional road linking 2->3 with a cost of 5.0 -  a new bridge perhaps.\n",
    "\n",
    "There is now an additional path in the network. Importantly some links are now shared between paths."
   ]
  },
  {
   "cell_type": "code",
   "execution_count": 53,
   "metadata": {
    "cell_style": "split",
    "nbpresent": {
     "id": "26a7e2d2-9bdb-4aa2-8356-148ce9ac3bae"
    }
   },
   "outputs": [
    {
     "data": {
      "image/svg+xml": [
       "<?xml version=\"1.0\" encoding=\"UTF-8\"?>\n",
       "<svg xmlns=\"http://www.w3.org/2000/svg\"\n",
       "     xmlns:xlink=\"http://www.w3.org/1999/xlink\"\n",
       "     version=\"1.2\"\n",
       "     width=\"141.42mm\" height=\"100mm\" viewBox=\"0 0 141.42 100\"\n",
       "     stroke=\"none\"\n",
       "     fill=\"#000000\"\n",
       "     stroke-width=\"0.3\"\n",
       "     font-size=\"3.88\"\n",
       ">\n",
       "<defs>\n",
       "  <marker id=\"arrow\" markerWidth=\"15\" markerHeight=\"7\" refX=\"5\" refY=\"3.5\" orient=\"auto\" markerUnits=\"strokeWidth\">\n",
       "    <path d=\"M0,0 L15,3.5 L0,7 z\" stroke=\"context-stroke\" fill=\"context-stroke\"/>\n",
       "  </marker>\n",
       "</defs>\n",
       "<g stroke-width=\"1.5\" fill=\"#000000\" fill-opacity=\"0.000\" stroke=\"#D3D3D3\" id=\"img-1cfaf43a-1\">\n",
       "  <g transform=\"translate(118.41,63.56)\">\n",
       "    <path fill=\"none\" d=\"M9.23,23.1 L-9.23,-23.1 \" class=\"primitive\"/>\n",
       "  </g>\n",
       "  <g transform=\"translate(81.95,78.11)\">\n",
       "    <path fill=\"none\" d=\"M40.86,11.61 L-40.86,-11.61 \" class=\"primitive\"/>\n",
       "  </g>\n",
       "  <g transform=\"translate(70.72,50)\">\n",
       "    <path fill=\"none\" d=\"M30.05,-12 L-30.05,12 \" class=\"primitive\"/>\n",
       "  </g>\n",
       "  <g transform=\"translate(59.48,21.89)\">\n",
       "    <path fill=\"none\" d=\"M40.86,11.61 L-40.86,-11.61 \" class=\"primitive\"/>\n",
       "  </g>\n",
       "  <g transform=\"translate(23.02,36.45)\">\n",
       "    <path fill=\"none\" d=\"M9.23,23.1 L-9.23,-23.1 \" class=\"primitive\"/>\n",
       "  </g>\n",
       "</g>\n",
       "<g stroke-width=\"1.5\" stroke=\"#D3D3D3\" id=\"img-1cfaf43a-2\">\n",
       "  <g transform=\"translate(110.18,42.97)\">\n",
       "    <path fill=\"none\" d=\"M-1.44,1.64 L-1,-2.51 2.44,0.87 \" class=\"primitive\"/>\n",
       "  </g>\n",
       "  <g transform=\"translate(44.52,67.48)\">\n",
       "    <path fill=\"none\" d=\"M0.96,1.81 L-3.43,-0.97 2.46,-0.84 \" class=\"primitive\"/>\n",
       "  </g>\n",
       "  <g transform=\"translate(43.88,60.72)\">\n",
       "    <path fill=\"none\" d=\"M2.6,0.6 L-3.21,1.28 0.62,-1.88 \" class=\"primitive\"/>\n",
       "  </g>\n",
       "  <g transform=\"translate(22.04,11.25)\">\n",
       "    <path fill=\"none\" d=\"M0.96,1.81 L-3.43,-0.97 2.46,-0.84 \" class=\"primitive\"/>\n",
       "  </g>\n",
       "  <g transform=\"translate(14.79,15.86)\">\n",
       "    <path fill=\"none\" d=\"M-1.44,1.64 L-1,-2.51 2.44,0.87 \" class=\"primitive\"/>\n",
       "  </g>\n",
       "</g>\n",
       "<g font-size=\"4\" stroke=\"#000000\" stroke-opacity=\"0.000\" fill=\"#000000\" id=\"img-1cfaf43a-3\">\n",
       "</g>\n",
       "<g stroke-width=\"0\" stroke=\"#000000\" stroke-opacity=\"0.000\" fill=\"#40E0D0\" id=\"img-1cfaf43a-4\">\n",
       "  <g transform=\"translate(129.64,91.67)\">\n",
       "    <circle cx=\"0\" cy=\"0\" r=\"7.07\" class=\"primitive\"/>\n",
       "  </g>\n",
       "  <g transform=\"translate(107.18,35.44)\">\n",
       "    <circle cx=\"0\" cy=\"0\" r=\"7.07\" class=\"primitive\"/>\n",
       "  </g>\n",
       "  <g transform=\"translate(34.26,64.56)\">\n",
       "    <circle cx=\"0\" cy=\"0\" r=\"7.07\" class=\"primitive\"/>\n",
       "  </g>\n",
       "  <g transform=\"translate(11.79,8.33)\">\n",
       "    <circle cx=\"0\" cy=\"0\" r=\"7.07\" class=\"primitive\"/>\n",
       "  </g>\n",
       "</g>\n",
       "<g font-size=\"4\" stroke=\"#000000\" stroke-opacity=\"0.000\" fill=\"#000000\" id=\"img-1cfaf43a-5\">\n",
       "  <g transform=\"translate(129.64,91.67)\">\n",
       "    <g class=\"primitive\">\n",
       "      <text text-anchor=\"middle\" dy=\"0.35em\">1</text>\n",
       "    </g>\n",
       "  </g>\n",
       "  <g transform=\"translate(107.18,35.44)\">\n",
       "    <g class=\"primitive\">\n",
       "      <text text-anchor=\"middle\" dy=\"0.35em\">2</text>\n",
       "    </g>\n",
       "  </g>\n",
       "  <g transform=\"translate(34.26,64.56)\">\n",
       "    <g class=\"primitive\">\n",
       "      <text text-anchor=\"middle\" dy=\"0.35em\">3</text>\n",
       "    </g>\n",
       "  </g>\n",
       "  <g transform=\"translate(11.79,8.33)\">\n",
       "    <g class=\"primitive\">\n",
       "      <text text-anchor=\"middle\" dy=\"0.35em\">4</text>\n",
       "    </g>\n",
       "  </g>\n",
       "</g>\n",
       "</svg>\n"
      ],
      "text/html": [
       "<?xml version=\"1.0\" encoding=\"UTF-8\"?>\n",
       "<svg xmlns=\"http://www.w3.org/2000/svg\"\n",
       "     xmlns:xlink=\"http://www.w3.org/1999/xlink\"\n",
       "     version=\"1.2\"\n",
       "     width=\"141.42mm\" height=\"100mm\" viewBox=\"0 0 141.42 100\"\n",
       "     stroke=\"none\"\n",
       "     fill=\"#000000\"\n",
       "     stroke-width=\"0.3\"\n",
       "     font-size=\"3.88\"\n",
       "\n",
       "     id=\"img-62779968\">\n",
       "<defs>\n",
       "  <marker id=\"arrow\" markerWidth=\"15\" markerHeight=\"7\" refX=\"5\" refY=\"3.5\" orient=\"auto\" markerUnits=\"strokeWidth\">\n",
       "    <path d=\"M0,0 L15,3.5 L0,7 z\" stroke=\"context-stroke\" fill=\"context-stroke\"/>\n",
       "  </marker>\n",
       "</defs>\n",
       "<g stroke-width=\"1.5\" fill=\"#000000\" fill-opacity=\"0.000\" stroke=\"#D3D3D3\" id=\"img-62779968-1\">\n",
       "  <g transform=\"translate(118.41,63.56)\">\n",
       "    <path fill=\"none\" d=\"M9.23,23.1 L-9.23,-23.1 \" class=\"primitive\"/>\n",
       "  </g>\n",
       "  <g transform=\"translate(81.95,78.11)\">\n",
       "    <path fill=\"none\" d=\"M40.86,11.61 L-40.86,-11.61 \" class=\"primitive\"/>\n",
       "  </g>\n",
       "  <g transform=\"translate(70.72,50)\">\n",
       "    <path fill=\"none\" d=\"M30.05,-12 L-30.05,12 \" class=\"primitive\"/>\n",
       "  </g>\n",
       "  <g transform=\"translate(59.48,21.89)\">\n",
       "    <path fill=\"none\" d=\"M40.86,11.61 L-40.86,-11.61 \" class=\"primitive\"/>\n",
       "  </g>\n",
       "  <g transform=\"translate(23.02,36.45)\">\n",
       "    <path fill=\"none\" d=\"M9.23,23.1 L-9.23,-23.1 \" class=\"primitive\"/>\n",
       "  </g>\n",
       "</g>\n",
       "<g stroke-width=\"1.5\" stroke=\"#D3D3D3\" id=\"img-62779968-2\">\n",
       "  <g transform=\"translate(110.18,42.97)\">\n",
       "    <path fill=\"none\" d=\"M-1.44,1.64 L-1,-2.51 2.44,0.87 \" class=\"primitive\"/>\n",
       "  </g>\n",
       "  <g transform=\"translate(44.52,67.48)\">\n",
       "    <path fill=\"none\" d=\"M0.96,1.81 L-3.43,-0.97 2.46,-0.84 \" class=\"primitive\"/>\n",
       "  </g>\n",
       "  <g transform=\"translate(43.88,60.72)\">\n",
       "    <path fill=\"none\" d=\"M2.6,0.6 L-3.21,1.28 0.62,-1.88 \" class=\"primitive\"/>\n",
       "  </g>\n",
       "  <g transform=\"translate(22.04,11.25)\">\n",
       "    <path fill=\"none\" d=\"M0.96,1.81 L-3.43,-0.97 2.46,-0.84 \" class=\"primitive\"/>\n",
       "  </g>\n",
       "  <g transform=\"translate(14.79,15.86)\">\n",
       "    <path fill=\"none\" d=\"M-1.44,1.64 L-1,-2.51 2.44,0.87 \" class=\"primitive\"/>\n",
       "  </g>\n",
       "</g>\n",
       "<g font-size=\"4\" stroke=\"#000000\" stroke-opacity=\"0.000\" fill=\"#000000\" id=\"img-62779968-3\">\n",
       "</g>\n",
       "<g stroke-width=\"0\" stroke=\"#000000\" stroke-opacity=\"0.000\" fill=\"#40E0D0\" id=\"img-62779968-4\">\n",
       "  <g transform=\"translate(129.64,91.67)\">\n",
       "    <circle cx=\"0\" cy=\"0\" r=\"7.07\" class=\"primitive\"/>\n",
       "  </g>\n",
       "  <g transform=\"translate(107.18,35.44)\">\n",
       "    <circle cx=\"0\" cy=\"0\" r=\"7.07\" class=\"primitive\"/>\n",
       "  </g>\n",
       "  <g transform=\"translate(34.26,64.56)\">\n",
       "    <circle cx=\"0\" cy=\"0\" r=\"7.07\" class=\"primitive\"/>\n",
       "  </g>\n",
       "  <g transform=\"translate(11.79,8.33)\">\n",
       "    <circle cx=\"0\" cy=\"0\" r=\"7.07\" class=\"primitive\"/>\n",
       "  </g>\n",
       "</g>\n",
       "<g font-size=\"4\" stroke=\"#000000\" stroke-opacity=\"0.000\" fill=\"#000000\" id=\"img-62779968-5\">\n",
       "  <g transform=\"translate(129.64,91.67)\">\n",
       "    <g class=\"primitive\">\n",
       "      <text text-anchor=\"middle\" dy=\"0.35em\">1</text>\n",
       "    </g>\n",
       "  </g>\n",
       "  <g transform=\"translate(107.18,35.44)\">\n",
       "    <g class=\"primitive\">\n",
       "      <text text-anchor=\"middle\" dy=\"0.35em\">2</text>\n",
       "    </g>\n",
       "  </g>\n",
       "  <g transform=\"translate(34.26,64.56)\">\n",
       "    <g class=\"primitive\">\n",
       "      <text text-anchor=\"middle\" dy=\"0.35em\">3</text>\n",
       "    </g>\n",
       "  </g>\n",
       "  <g transform=\"translate(11.79,8.33)\">\n",
       "    <g class=\"primitive\">\n",
       "      <text text-anchor=\"middle\" dy=\"0.35em\">4</text>\n",
       "    </g>\n",
       "  </g>\n",
       "</g>\n",
       "<script> <![CDATA[\n",
       "(function(N){var k=/[\\.\\/]/,L=/\\s*,\\s*/,C=function(a,d){return a-d},a,v,y={n:{}},M=function(){for(var a=0,d=this.length;a<d;a++)if(\"undefined\"!=typeof this[a])return this[a]},A=function(){for(var a=this.length;--a;)if(\"undefined\"!=typeof this[a])return this[a]},w=function(k,d){k=String(k);var f=v,n=Array.prototype.slice.call(arguments,2),u=w.listeners(k),p=0,b,q=[],e={},l=[],r=a;l.firstDefined=M;l.lastDefined=A;a=k;for(var s=v=0,x=u.length;s<x;s++)\"zIndex\"in u[s]&&(q.push(u[s].zIndex),0>u[s].zIndex&&\n",
       "(e[u[s].zIndex]=u[s]));for(q.sort(C);0>q[p];)if(b=e[q[p++] ],l.push(b.apply(d,n)),v)return v=f,l;for(s=0;s<x;s++)if(b=u[s],\"zIndex\"in b)if(b.zIndex==q[p]){l.push(b.apply(d,n));if(v)break;do if(p++,(b=e[q[p] ])&&l.push(b.apply(d,n)),v)break;while(b)}else e[b.zIndex]=b;else if(l.push(b.apply(d,n)),v)break;v=f;a=r;return l};w._events=y;w.listeners=function(a){a=a.split(k);var d=y,f,n,u,p,b,q,e,l=[d],r=[];u=0;for(p=a.length;u<p;u++){e=[];b=0;for(q=l.length;b<q;b++)for(d=l[b].n,f=[d[a[u] ],d[\"*\"] ],n=2;n--;)if(d=\n",
       "f[n])e.push(d),r=r.concat(d.f||[]);l=e}return r};w.on=function(a,d){a=String(a);if(\"function\"!=typeof d)return function(){};for(var f=a.split(L),n=0,u=f.length;n<u;n++)(function(a){a=a.split(k);for(var b=y,f,e=0,l=a.length;e<l;e++)b=b.n,b=b.hasOwnProperty(a[e])&&b[a[e] ]||(b[a[e] ]={n:{}});b.f=b.f||[];e=0;for(l=b.f.length;e<l;e++)if(b.f[e]==d){f=!0;break}!f&&b.f.push(d)})(f[n]);return function(a){+a==+a&&(d.zIndex=+a)}};w.f=function(a){var d=[].slice.call(arguments,1);return function(){w.apply(null,\n",
       "[a,null].concat(d).concat([].slice.call(arguments,0)))}};w.stop=function(){v=1};w.nt=function(k){return k?(new RegExp(\"(?:\\\\.|\\\\/|^)\"+k+\"(?:\\\\.|\\\\/|$)\")).test(a):a};w.nts=function(){return a.split(k)};w.off=w.unbind=function(a,d){if(a){var f=a.split(L);if(1<f.length)for(var n=0,u=f.length;n<u;n++)w.off(f[n],d);else{for(var f=a.split(k),p,b,q,e,l=[y],n=0,u=f.length;n<u;n++)for(e=0;e<l.length;e+=q.length-2){q=[e,1];p=l[e].n;if(\"*\"!=f[n])p[f[n] ]&&q.push(p[f[n] ]);else for(b in p)p.hasOwnProperty(b)&&\n",
       "q.push(p[b]);l.splice.apply(l,q)}n=0;for(u=l.length;n<u;n++)for(p=l[n];p.n;){if(d){if(p.f){e=0;for(f=p.f.length;e<f;e++)if(p.f[e]==d){p.f.splice(e,1);break}!p.f.length&&delete p.f}for(b in p.n)if(p.n.hasOwnProperty(b)&&p.n[b].f){q=p.n[b].f;e=0;for(f=q.length;e<f;e++)if(q[e]==d){q.splice(e,1);break}!q.length&&delete p.n[b].f}}else for(b in delete p.f,p.n)p.n.hasOwnProperty(b)&&p.n[b].f&&delete p.n[b].f;p=p.n}}}else w._events=y={n:{}}};w.once=function(a,d){var f=function(){w.unbind(a,f);return d.apply(this,\n",
       "arguments)};return w.on(a,f)};w.version=\"0.4.2\";w.toString=function(){return\"You are running Eve 0.4.2\"};\"undefined\"!=typeof module&&module.exports?module.exports=w:\"function\"===typeof define&&define.amd?define(\"eve\",[],function(){return w}):N.eve=w})(this);\n",
       "(function(N,k){\"function\"===typeof define&&define.amd?define(\"Snap.svg\",[\"eve\"],function(L){return k(N,L)}):k(N,N.eve)})(this,function(N,k){var L=function(a){var k={},y=N.requestAnimationFrame||N.webkitRequestAnimationFrame||N.mozRequestAnimationFrame||N.oRequestAnimationFrame||N.msRequestAnimationFrame||function(a){setTimeout(a,16)},M=Array.isArray||function(a){return a instanceof Array||\"[object Array]\"==Object.prototype.toString.call(a)},A=0,w=\"M\"+(+new Date).toString(36),z=function(a){if(null==\n",
       "a)return this.s;var b=this.s-a;this.b+=this.dur*b;this.B+=this.dur*b;this.s=a},d=function(a){if(null==a)return this.spd;this.spd=a},f=function(a){if(null==a)return this.dur;this.s=this.s*a/this.dur;this.dur=a},n=function(){delete k[this.id];this.update();a(\"mina.stop.\"+this.id,this)},u=function(){this.pdif||(delete k[this.id],this.update(),this.pdif=this.get()-this.b)},p=function(){this.pdif&&(this.b=this.get()-this.pdif,delete this.pdif,k[this.id]=this)},b=function(){var a;if(M(this.start)){a=[];\n",
       "for(var b=0,e=this.start.length;b<e;b++)a[b]=+this.start[b]+(this.end[b]-this.start[b])*this.easing(this.s)}else a=+this.start+(this.end-this.start)*this.easing(this.s);this.set(a)},q=function(){var l=0,b;for(b in k)if(k.hasOwnProperty(b)){var e=k[b],f=e.get();l++;e.s=(f-e.b)/(e.dur/e.spd);1<=e.s&&(delete k[b],e.s=1,l--,function(b){setTimeout(function(){a(\"mina.finish.\"+b.id,b)})}(e));e.update()}l&&y(q)},e=function(a,r,s,x,G,h,J){a={id:w+(A++).toString(36),start:a,end:r,b:s,s:0,dur:x-s,spd:1,get:G,\n",
       "set:h,easing:J||e.linear,status:z,speed:d,duration:f,stop:n,pause:u,resume:p,update:b};k[a.id]=a;r=0;for(var K in k)if(k.hasOwnProperty(K)&&(r++,2==r))break;1==r&&y(q);return a};e.time=Date.now||function(){return+new Date};e.getById=function(a){return k[a]||null};e.linear=function(a){return a};e.easeout=function(a){return Math.pow(a,1.7)};e.easein=function(a){return Math.pow(a,0.48)};e.easeinout=function(a){if(1==a)return 1;if(0==a)return 0;var b=0.48-a/1.04,e=Math.sqrt(0.1734+b*b);a=e-b;a=Math.pow(Math.abs(a),\n",
       "1/3)*(0>a?-1:1);b=-e-b;b=Math.pow(Math.abs(b),1/3)*(0>b?-1:1);a=a+b+0.5;return 3*(1-a)*a*a+a*a*a};e.backin=function(a){return 1==a?1:a*a*(2.70158*a-1.70158)};e.backout=function(a){if(0==a)return 0;a-=1;return a*a*(2.70158*a+1.70158)+1};e.elastic=function(a){return a==!!a?a:Math.pow(2,-10*a)*Math.sin(2*(a-0.075)*Math.PI/0.3)+1};e.bounce=function(a){a<1/2.75?a*=7.5625*a:a<2/2.75?(a-=1.5/2.75,a=7.5625*a*a+0.75):a<2.5/2.75?(a-=2.25/2.75,a=7.5625*a*a+0.9375):(a-=2.625/2.75,a=7.5625*a*a+0.984375);return a};\n",
       "return N.mina=e}(\"undefined\"==typeof k?function(){}:k),C=function(){function a(c,t){if(c){if(c.tagName)return x(c);if(y(c,\"array\")&&a.set)return a.set.apply(a,c);if(c instanceof e)return c;if(null==t)return c=G.doc.querySelector(c),x(c)}return new s(null==c?\"100%\":c,null==t?\"100%\":t)}function v(c,a){if(a){\"#text\"==c&&(c=G.doc.createTextNode(a.text||\"\"));\"string\"==typeof c&&(c=v(c));if(\"string\"==typeof a)return\"xlink:\"==a.substring(0,6)?c.getAttributeNS(m,a.substring(6)):\"xml:\"==a.substring(0,4)?c.getAttributeNS(la,\n",
       "a.substring(4)):c.getAttribute(a);for(var da in a)if(a[h](da)){var b=J(a[da]);b?\"xlink:\"==da.substring(0,6)?c.setAttributeNS(m,da.substring(6),b):\"xml:\"==da.substring(0,4)?c.setAttributeNS(la,da.substring(4),b):c.setAttribute(da,b):c.removeAttribute(da)}}else c=G.doc.createElementNS(la,c);return c}function y(c,a){a=J.prototype.toLowerCase.call(a);return\"finite\"==a?isFinite(c):\"array\"==a&&(c instanceof Array||Array.isArray&&Array.isArray(c))?!0:\"null\"==a&&null===c||a==typeof c&&null!==c||\"object\"==\n",
       "a&&c===Object(c)||$.call(c).slice(8,-1).toLowerCase()==a}function M(c){if(\"function\"==typeof c||Object(c)!==c)return c;var a=new c.constructor,b;for(b in c)c[h](b)&&(a[b]=M(c[b]));return a}function A(c,a,b){function m(){var e=Array.prototype.slice.call(arguments,0),f=e.join(\"\\u2400\"),d=m.cache=m.cache||{},l=m.count=m.count||[];if(d[h](f)){a:for(var e=l,l=f,B=0,H=e.length;B<H;B++)if(e[B]===l){e.push(e.splice(B,1)[0]);break a}return b?b(d[f]):d[f]}1E3<=l.length&&delete d[l.shift()];l.push(f);d[f]=c.apply(a,\n",
       "e);return b?b(d[f]):d[f]}return m}function w(c,a,b,m,e,f){return null==e?(c-=b,a-=m,c||a?(180*I.atan2(-a,-c)/C+540)%360:0):w(c,a,e,f)-w(b,m,e,f)}function z(c){return c%360*C/180}function d(c){var a=[];c=c.replace(/(?:^|\\s)(\\w+)\\(([^)]+)\\)/g,function(c,b,m){m=m.split(/\\s*,\\s*|\\s+/);\"rotate\"==b&&1==m.length&&m.push(0,0);\"scale\"==b&&(2<m.length?m=m.slice(0,2):2==m.length&&m.push(0,0),1==m.length&&m.push(m[0],0,0));\"skewX\"==b?a.push([\"m\",1,0,I.tan(z(m[0])),1,0,0]):\"skewY\"==b?a.push([\"m\",1,I.tan(z(m[0])),\n",
       "0,1,0,0]):a.push([b.charAt(0)].concat(m));return c});return a}function f(c,t){var b=O(c),m=new a.Matrix;if(b)for(var e=0,f=b.length;e<f;e++){var h=b[e],d=h.length,B=J(h[0]).toLowerCase(),H=h[0]!=B,l=H?m.invert():0,E;\"t\"==B&&2==d?m.translate(h[1],0):\"t\"==B&&3==d?H?(d=l.x(0,0),B=l.y(0,0),H=l.x(h[1],h[2]),l=l.y(h[1],h[2]),m.translate(H-d,l-B)):m.translate(h[1],h[2]):\"r\"==B?2==d?(E=E||t,m.rotate(h[1],E.x+E.width/2,E.y+E.height/2)):4==d&&(H?(H=l.x(h[2],h[3]),l=l.y(h[2],h[3]),m.rotate(h[1],H,l)):m.rotate(h[1],\n",
       "h[2],h[3])):\"s\"==B?2==d||3==d?(E=E||t,m.scale(h[1],h[d-1],E.x+E.width/2,E.y+E.height/2)):4==d?H?(H=l.x(h[2],h[3]),l=l.y(h[2],h[3]),m.scale(h[1],h[1],H,l)):m.scale(h[1],h[1],h[2],h[3]):5==d&&(H?(H=l.x(h[3],h[4]),l=l.y(h[3],h[4]),m.scale(h[1],h[2],H,l)):m.scale(h[1],h[2],h[3],h[4])):\"m\"==B&&7==d&&m.add(h[1],h[2],h[3],h[4],h[5],h[6])}return m}function n(c,t){if(null==t){var m=!0;t=\"linearGradient\"==c.type||\"radialGradient\"==c.type?c.node.getAttribute(\"gradientTransform\"):\"pattern\"==c.type?c.node.getAttribute(\"patternTransform\"):\n",
       "c.node.getAttribute(\"transform\");if(!t)return new a.Matrix;t=d(t)}else t=a._.rgTransform.test(t)?J(t).replace(/\\.{3}|\\u2026/g,c._.transform||aa):d(t),y(t,\"array\")&&(t=a.path?a.path.toString.call(t):J(t)),c._.transform=t;var b=f(t,c.getBBox(1));if(m)return b;c.matrix=b}function u(c){c=c.node.ownerSVGElement&&x(c.node.ownerSVGElement)||c.node.parentNode&&x(c.node.parentNode)||a.select(\"svg\")||a(0,0);var t=c.select(\"defs\"),t=null==t?!1:t.node;t||(t=r(\"defs\",c.node).node);return t}function p(c){return c.node.ownerSVGElement&&\n",
       "x(c.node.ownerSVGElement)||a.select(\"svg\")}function b(c,a,m){function b(c){if(null==c)return aa;if(c==+c)return c;v(B,{width:c});try{return B.getBBox().width}catch(a){return 0}}function h(c){if(null==c)return aa;if(c==+c)return c;v(B,{height:c});try{return B.getBBox().height}catch(a){return 0}}function e(b,B){null==a?d[b]=B(c.attr(b)||0):b==a&&(d=B(null==m?c.attr(b)||0:m))}var f=p(c).node,d={},B=f.querySelector(\".svg---mgr\");B||(B=v(\"rect\"),v(B,{x:-9E9,y:-9E9,width:10,height:10,\"class\":\"svg---mgr\",\n",
       "fill:\"none\"}),f.appendChild(B));switch(c.type){case \"rect\":e(\"rx\",b),e(\"ry\",h);case \"image\":e(\"width\",b),e(\"height\",h);case \"text\":e(\"x\",b);e(\"y\",h);break;case \"circle\":e(\"cx\",b);e(\"cy\",h);e(\"r\",b);break;case \"ellipse\":e(\"cx\",b);e(\"cy\",h);e(\"rx\",b);e(\"ry\",h);break;case \"line\":e(\"x1\",b);e(\"x2\",b);e(\"y1\",h);e(\"y2\",h);break;case \"marker\":e(\"refX\",b);e(\"markerWidth\",b);e(\"refY\",h);e(\"markerHeight\",h);break;case \"radialGradient\":e(\"fx\",b);e(\"fy\",h);break;case \"tspan\":e(\"dx\",b);e(\"dy\",h);break;default:e(a,\n",
       "b)}f.removeChild(B);return d}function q(c){y(c,\"array\")||(c=Array.prototype.slice.call(arguments,0));for(var a=0,b=0,m=this.node;this[a];)delete this[a++];for(a=0;a<c.length;a++)\"set\"==c[a].type?c[a].forEach(function(c){m.appendChild(c.node)}):m.appendChild(c[a].node);for(var h=m.childNodes,a=0;a<h.length;a++)this[b++]=x(h[a]);return this}function e(c){if(c.snap in E)return E[c.snap];var a=this.id=V(),b;try{b=c.ownerSVGElement}catch(m){}this.node=c;b&&(this.paper=new s(b));this.type=c.tagName;this.anims=\n",
       "{};this._={transform:[]};c.snap=a;E[a]=this;\"g\"==this.type&&(this.add=q);if(this.type in{g:1,mask:1,pattern:1})for(var e in s.prototype)s.prototype[h](e)&&(this[e]=s.prototype[e])}function l(c){this.node=c}function r(c,a){var b=v(c);a.appendChild(b);return x(b)}function s(c,a){var b,m,f,d=s.prototype;if(c&&\"svg\"==c.tagName){if(c.snap in E)return E[c.snap];var l=c.ownerDocument;b=new e(c);m=c.getElementsByTagName(\"desc\")[0];f=c.getElementsByTagName(\"defs\")[0];m||(m=v(\"desc\"),m.appendChild(l.createTextNode(\"Created with Snap\")),\n",
       "b.node.appendChild(m));f||(f=v(\"defs\"),b.node.appendChild(f));b.defs=f;for(var ca in d)d[h](ca)&&(b[ca]=d[ca]);b.paper=b.root=b}else b=r(\"svg\",G.doc.body),v(b.node,{height:a,version:1.1,width:c,xmlns:la});return b}function x(c){return!c||c instanceof e||c instanceof l?c:c.tagName&&\"svg\"==c.tagName.toLowerCase()?new s(c):c.tagName&&\"object\"==c.tagName.toLowerCase()&&\"image/svg+xml\"==c.type?new s(c.contentDocument.getElementsByTagName(\"svg\")[0]):new e(c)}a.version=\"0.3.0\";a.toString=function(){return\"Snap v\"+\n",
       "this.version};a._={};var G={win:N,doc:N.document};a._.glob=G;var h=\"hasOwnProperty\",J=String,K=parseFloat,U=parseInt,I=Math,P=I.max,Q=I.min,Y=I.abs,C=I.PI,aa=\"\",$=Object.prototype.toString,F=/^\\s*((#[a-f\\d]{6})|(#[a-f\\d]{3})|rgba?\\(\\s*([\\d\\.]+%?\\s*,\\s*[\\d\\.]+%?\\s*,\\s*[\\d\\.]+%?(?:\\s*,\\s*[\\d\\.]+%?)?)\\s*\\)|hsba?\\(\\s*([\\d\\.]+(?:deg|\\xb0|%)?\\s*,\\s*[\\d\\.]+%?\\s*,\\s*[\\d\\.]+(?:%?\\s*,\\s*[\\d\\.]+)?%?)\\s*\\)|hsla?\\(\\s*([\\d\\.]+(?:deg|\\xb0|%)?\\s*,\\s*[\\d\\.]+%?\\s*,\\s*[\\d\\.]+(?:%?\\s*,\\s*[\\d\\.]+)?%?)\\s*\\))\\s*$/i;a._.separator=\n",
       "RegExp(\"[,\\t\\n\\x0B\\f\\r \\u00a0\\u1680\\u180e\\u2000\\u2001\\u2002\\u2003\\u2004\\u2005\\u2006\\u2007\\u2008\\u2009\\u200a\\u202f\\u205f\\u3000\\u2028\\u2029]+\");var S=RegExp(\"[\\t\\n\\x0B\\f\\r \\u00a0\\u1680\\u180e\\u2000\\u2001\\u2002\\u2003\\u2004\\u2005\\u2006\\u2007\\u2008\\u2009\\u200a\\u202f\\u205f\\u3000\\u2028\\u2029]*,[\\t\\n\\x0B\\f\\r \\u00a0\\u1680\\u180e\\u2000\\u2001\\u2002\\u2003\\u2004\\u2005\\u2006\\u2007\\u2008\\u2009\\u200a\\u202f\\u205f\\u3000\\u2028\\u2029]*\"),X={hs:1,rg:1},W=RegExp(\"([a-z])[\\t\\n\\x0B\\f\\r \\u00a0\\u1680\\u180e\\u2000\\u2001\\u2002\\u2003\\u2004\\u2005\\u2006\\u2007\\u2008\\u2009\\u200a\\u202f\\u205f\\u3000\\u2028\\u2029,]*((-?\\\\d*\\\\.?\\\\d*(?:e[\\\\-+]?\\\\d+)?[\\t\\n\\x0B\\f\\r \\u00a0\\u1680\\u180e\\u2000\\u2001\\u2002\\u2003\\u2004\\u2005\\u2006\\u2007\\u2008\\u2009\\u200a\\u202f\\u205f\\u3000\\u2028\\u2029]*,?[\\t\\n\\x0B\\f\\r \\u00a0\\u1680\\u180e\\u2000\\u2001\\u2002\\u2003\\u2004\\u2005\\u2006\\u2007\\u2008\\u2009\\u200a\\u202f\\u205f\\u3000\\u2028\\u2029]*)+)\",\n",
       "\"ig\"),ma=RegExp(\"([rstm])[\\t\\n\\x0B\\f\\r \\u00a0\\u1680\\u180e\\u2000\\u2001\\u2002\\u2003\\u2004\\u2005\\u2006\\u2007\\u2008\\u2009\\u200a\\u202f\\u205f\\u3000\\u2028\\u2029,]*((-?\\\\d*\\\\.?\\\\d*(?:e[\\\\-+]?\\\\d+)?[\\t\\n\\x0B\\f\\r \\u00a0\\u1680\\u180e\\u2000\\u2001\\u2002\\u2003\\u2004\\u2005\\u2006\\u2007\\u2008\\u2009\\u200a\\u202f\\u205f\\u3000\\u2028\\u2029]*,?[\\t\\n\\x0B\\f\\r \\u00a0\\u1680\\u180e\\u2000\\u2001\\u2002\\u2003\\u2004\\u2005\\u2006\\u2007\\u2008\\u2009\\u200a\\u202f\\u205f\\u3000\\u2028\\u2029]*)+)\",\"ig\"),Z=RegExp(\"(-?\\\\d*\\\\.?\\\\d*(?:e[\\\\-+]?\\\\d+)?)[\\t\\n\\x0B\\f\\r \\u00a0\\u1680\\u180e\\u2000\\u2001\\u2002\\u2003\\u2004\\u2005\\u2006\\u2007\\u2008\\u2009\\u200a\\u202f\\u205f\\u3000\\u2028\\u2029]*,?[\\t\\n\\x0B\\f\\r \\u00a0\\u1680\\u180e\\u2000\\u2001\\u2002\\u2003\\u2004\\u2005\\u2006\\u2007\\u2008\\u2009\\u200a\\u202f\\u205f\\u3000\\u2028\\u2029]*\",\n",
       "\"ig\"),na=0,ba=\"S\"+(+new Date).toString(36),V=function(){return ba+(na++).toString(36)},m=\"http://www.w3.org/1999/xlink\",la=\"http://www.w3.org/2000/svg\",E={},ca=a.url=function(c){return\"url('#\"+c+\"')\"};a._.$=v;a._.id=V;a.format=function(){var c=/\\{([^\\}]+)\\}/g,a=/(?:(?:^|\\.)(.+?)(?=\\[|\\.|$|\\()|\\[('|\")(.+?)\\2\\])(\\(\\))?/g,b=function(c,b,m){var h=m;b.replace(a,function(c,a,b,m,t){a=a||m;h&&(a in h&&(h=h[a]),\"function\"==typeof h&&t&&(h=h()))});return h=(null==h||h==m?c:h)+\"\"};return function(a,m){return J(a).replace(c,\n",
       "function(c,a){return b(c,a,m)})}}();a._.clone=M;a._.cacher=A;a.rad=z;a.deg=function(c){return 180*c/C%360};a.angle=w;a.is=y;a.snapTo=function(c,a,b){b=y(b,\"finite\")?b:10;if(y(c,\"array\"))for(var m=c.length;m--;){if(Y(c[m]-a)<=b)return c[m]}else{c=+c;m=a%c;if(m<b)return a-m;if(m>c-b)return a-m+c}return a};a.getRGB=A(function(c){if(!c||(c=J(c)).indexOf(\"-\")+1)return{r:-1,g:-1,b:-1,hex:\"none\",error:1,toString:ka};if(\"none\"==c)return{r:-1,g:-1,b:-1,hex:\"none\",toString:ka};!X[h](c.toLowerCase().substring(0,\n",
       "2))&&\"#\"!=c.charAt()&&(c=T(c));if(!c)return{r:-1,g:-1,b:-1,hex:\"none\",error:1,toString:ka};var b,m,e,f,d;if(c=c.match(F)){c[2]&&(e=U(c[2].substring(5),16),m=U(c[2].substring(3,5),16),b=U(c[2].substring(1,3),16));c[3]&&(e=U((d=c[3].charAt(3))+d,16),m=U((d=c[3].charAt(2))+d,16),b=U((d=c[3].charAt(1))+d,16));c[4]&&(d=c[4].split(S),b=K(d[0]),\"%\"==d[0].slice(-1)&&(b*=2.55),m=K(d[1]),\"%\"==d[1].slice(-1)&&(m*=2.55),e=K(d[2]),\"%\"==d[2].slice(-1)&&(e*=2.55),\"rgba\"==c[1].toLowerCase().slice(0,4)&&(f=K(d[3])),\n",
       "d[3]&&\"%\"==d[3].slice(-1)&&(f/=100));if(c[5])return d=c[5].split(S),b=K(d[0]),\"%\"==d[0].slice(-1)&&(b/=100),m=K(d[1]),\"%\"==d[1].slice(-1)&&(m/=100),e=K(d[2]),\"%\"==d[2].slice(-1)&&(e/=100),\"deg\"!=d[0].slice(-3)&&\"\\u00b0\"!=d[0].slice(-1)||(b/=360),\"hsba\"==c[1].toLowerCase().slice(0,4)&&(f=K(d[3])),d[3]&&\"%\"==d[3].slice(-1)&&(f/=100),a.hsb2rgb(b,m,e,f);if(c[6])return d=c[6].split(S),b=K(d[0]),\"%\"==d[0].slice(-1)&&(b/=100),m=K(d[1]),\"%\"==d[1].slice(-1)&&(m/=100),e=K(d[2]),\"%\"==d[2].slice(-1)&&(e/=100),\n",
       "\"deg\"!=d[0].slice(-3)&&\"\\u00b0\"!=d[0].slice(-1)||(b/=360),\"hsla\"==c[1].toLowerCase().slice(0,4)&&(f=K(d[3])),d[3]&&\"%\"==d[3].slice(-1)&&(f/=100),a.hsl2rgb(b,m,e,f);b=Q(I.round(b),255);m=Q(I.round(m),255);e=Q(I.round(e),255);f=Q(P(f,0),1);c={r:b,g:m,b:e,toString:ka};c.hex=\"#\"+(16777216|e|m<<8|b<<16).toString(16).slice(1);c.opacity=y(f,\"finite\")?f:1;return c}return{r:-1,g:-1,b:-1,hex:\"none\",error:1,toString:ka}},a);a.hsb=A(function(c,b,m){return a.hsb2rgb(c,b,m).hex});a.hsl=A(function(c,b,m){return a.hsl2rgb(c,\n",
       "b,m).hex});a.rgb=A(function(c,a,b,m){if(y(m,\"finite\")){var e=I.round;return\"rgba(\"+[e(c),e(a),e(b),+m.toFixed(2)]+\")\"}return\"#\"+(16777216|b|a<<8|c<<16).toString(16).slice(1)});var T=function(c){var a=G.doc.getElementsByTagName(\"head\")[0]||G.doc.getElementsByTagName(\"svg\")[0];T=A(function(c){if(\"red\"==c.toLowerCase())return\"rgb(255, 0, 0)\";a.style.color=\"rgb(255, 0, 0)\";a.style.color=c;c=G.doc.defaultView.getComputedStyle(a,aa).getPropertyValue(\"color\");return\"rgb(255, 0, 0)\"==c?null:c});return T(c)},\n",
       "qa=function(){return\"hsb(\"+[this.h,this.s,this.b]+\")\"},ra=function(){return\"hsl(\"+[this.h,this.s,this.l]+\")\"},ka=function(){return 1==this.opacity||null==this.opacity?this.hex:\"rgba(\"+[this.r,this.g,this.b,this.opacity]+\")\"},D=function(c,b,m){null==b&&y(c,\"object\")&&\"r\"in c&&\"g\"in c&&\"b\"in c&&(m=c.b,b=c.g,c=c.r);null==b&&y(c,string)&&(m=a.getRGB(c),c=m.r,b=m.g,m=m.b);if(1<c||1<b||1<m)c/=255,b/=255,m/=255;return[c,b,m]},oa=function(c,b,m,e){c=I.round(255*c);b=I.round(255*b);m=I.round(255*m);c={r:c,\n",
       "g:b,b:m,opacity:y(e,\"finite\")?e:1,hex:a.rgb(c,b,m),toString:ka};y(e,\"finite\")&&(c.opacity=e);return c};a.color=function(c){var b;y(c,\"object\")&&\"h\"in c&&\"s\"in c&&\"b\"in c?(b=a.hsb2rgb(c),c.r=b.r,c.g=b.g,c.b=b.b,c.opacity=1,c.hex=b.hex):y(c,\"object\")&&\"h\"in c&&\"s\"in c&&\"l\"in c?(b=a.hsl2rgb(c),c.r=b.r,c.g=b.g,c.b=b.b,c.opacity=1,c.hex=b.hex):(y(c,\"string\")&&(c=a.getRGB(c)),y(c,\"object\")&&\"r\"in c&&\"g\"in c&&\"b\"in c&&!(\"error\"in c)?(b=a.rgb2hsl(c),c.h=b.h,c.s=b.s,c.l=b.l,b=a.rgb2hsb(c),c.v=b.b):(c={hex:\"none\"},\n",
       "c.r=c.g=c.b=c.h=c.s=c.v=c.l=-1,c.error=1));c.toString=ka;return c};a.hsb2rgb=function(c,a,b,m){y(c,\"object\")&&\"h\"in c&&\"s\"in c&&\"b\"in c&&(b=c.b,a=c.s,c=c.h,m=c.o);var e,h,d;c=360*c%360/60;d=b*a;a=d*(1-Y(c%2-1));b=e=h=b-d;c=~~c;b+=[d,a,0,0,a,d][c];e+=[a,d,d,a,0,0][c];h+=[0,0,a,d,d,a][c];return oa(b,e,h,m)};a.hsl2rgb=function(c,a,b,m){y(c,\"object\")&&\"h\"in c&&\"s\"in c&&\"l\"in c&&(b=c.l,a=c.s,c=c.h);if(1<c||1<a||1<b)c/=360,a/=100,b/=100;var e,h,d;c=360*c%360/60;d=2*a*(0.5>b?b:1-b);a=d*(1-Y(c%2-1));b=e=\n",
       "h=b-d/2;c=~~c;b+=[d,a,0,0,a,d][c];e+=[a,d,d,a,0,0][c];h+=[0,0,a,d,d,a][c];return oa(b,e,h,m)};a.rgb2hsb=function(c,a,b){b=D(c,a,b);c=b[0];a=b[1];b=b[2];var m,e;m=P(c,a,b);e=m-Q(c,a,b);c=((0==e?0:m==c?(a-b)/e:m==a?(b-c)/e+2:(c-a)/e+4)+360)%6*60/360;return{h:c,s:0==e?0:e/m,b:m,toString:qa}};a.rgb2hsl=function(c,a,b){b=D(c,a,b);c=b[0];a=b[1];b=b[2];var m,e,h;m=P(c,a,b);e=Q(c,a,b);h=m-e;c=((0==h?0:m==c?(a-b)/h:m==a?(b-c)/h+2:(c-a)/h+4)+360)%6*60/360;m=(m+e)/2;return{h:c,s:0==h?0:0.5>m?h/(2*m):h/(2-2*\n",
       "m),l:m,toString:ra}};a.parsePathString=function(c){if(!c)return null;var b=a.path(c);if(b.arr)return a.path.clone(b.arr);var m={a:7,c:6,o:2,h:1,l:2,m:2,r:4,q:4,s:4,t:2,v:1,u:3,z:0},e=[];y(c,\"array\")&&y(c[0],\"array\")&&(e=a.path.clone(c));e.length||J(c).replace(W,function(c,a,b){var h=[];c=a.toLowerCase();b.replace(Z,function(c,a){a&&h.push(+a)});\"m\"==c&&2<h.length&&(e.push([a].concat(h.splice(0,2))),c=\"l\",a=\"m\"==a?\"l\":\"L\");\"o\"==c&&1==h.length&&e.push([a,h[0] ]);if(\"r\"==c)e.push([a].concat(h));else for(;h.length>=\n",
       "m[c]&&(e.push([a].concat(h.splice(0,m[c]))),m[c]););});e.toString=a.path.toString;b.arr=a.path.clone(e);return e};var O=a.parseTransformString=function(c){if(!c)return null;var b=[];y(c,\"array\")&&y(c[0],\"array\")&&(b=a.path.clone(c));b.length||J(c).replace(ma,function(c,a,m){var e=[];a.toLowerCase();m.replace(Z,function(c,a){a&&e.push(+a)});b.push([a].concat(e))});b.toString=a.path.toString;return b};a._.svgTransform2string=d;a._.rgTransform=RegExp(\"^[a-z][\\t\\n\\x0B\\f\\r \\u00a0\\u1680\\u180e\\u2000\\u2001\\u2002\\u2003\\u2004\\u2005\\u2006\\u2007\\u2008\\u2009\\u200a\\u202f\\u205f\\u3000\\u2028\\u2029]*-?\\\\.?\\\\d\",\n",
       "\"i\");a._.transform2matrix=f;a._unit2px=b;a._.getSomeDefs=u;a._.getSomeSVG=p;a.select=function(c){return x(G.doc.querySelector(c))};a.selectAll=function(c){c=G.doc.querySelectorAll(c);for(var b=(a.set||Array)(),m=0;m<c.length;m++)b.push(x(c[m]));return b};setInterval(function(){for(var c in E)if(E[h](c)){var a=E[c],b=a.node;(\"svg\"!=a.type&&!b.ownerSVGElement||\"svg\"==a.type&&(!b.parentNode||\"ownerSVGElement\"in b.parentNode&&!b.ownerSVGElement))&&delete E[c]}},1E4);(function(c){function m(c){function a(c,\n",
       "b){var m=v(c.node,b);(m=(m=m&&m.match(d))&&m[2])&&\"#\"==m.charAt()&&(m=m.substring(1))&&(f[m]=(f[m]||[]).concat(function(a){var m={};m[b]=ca(a);v(c.node,m)}))}function b(c){var a=v(c.node,\"xlink:href\");a&&\"#\"==a.charAt()&&(a=a.substring(1))&&(f[a]=(f[a]||[]).concat(function(a){c.attr(\"xlink:href\",\"#\"+a)}))}var e=c.selectAll(\"*\"),h,d=/^\\s*url\\((\"|'|)(.*)\\1\\)\\s*$/;c=[];for(var f={},l=0,E=e.length;l<E;l++){h=e[l];a(h,\"fill\");a(h,\"stroke\");a(h,\"filter\");a(h,\"mask\");a(h,\"clip-path\");b(h);var t=v(h.node,\n",
       "\"id\");t&&(v(h.node,{id:h.id}),c.push({old:t,id:h.id}))}l=0;for(E=c.length;l<E;l++)if(e=f[c[l].old])for(h=0,t=e.length;h<t;h++)e[h](c[l].id)}function e(c,a,b){return function(m){m=m.slice(c,a);1==m.length&&(m=m[0]);return b?b(m):m}}function d(c){return function(){var a=c?\"<\"+this.type:\"\",b=this.node.attributes,m=this.node.childNodes;if(c)for(var e=0,h=b.length;e<h;e++)a+=\" \"+b[e].name+'=\"'+b[e].value.replace(/\"/g,'\\\\\"')+'\"';if(m.length){c&&(a+=\">\");e=0;for(h=m.length;e<h;e++)3==m[e].nodeType?a+=m[e].nodeValue:\n",
       "1==m[e].nodeType&&(a+=x(m[e]).toString());c&&(a+=\"</\"+this.type+\">\")}else c&&(a+=\"/>\");return a}}c.attr=function(c,a){if(!c)return this;if(y(c,\"string\"))if(1<arguments.length){var b={};b[c]=a;c=b}else return k(\"snap.util.getattr.\"+c,this).firstDefined();for(var m in c)c[h](m)&&k(\"snap.util.attr.\"+m,this,c[m]);return this};c.getBBox=function(c){if(!a.Matrix||!a.path)return this.node.getBBox();var b=this,m=new a.Matrix;if(b.removed)return a._.box();for(;\"use\"==b.type;)if(c||(m=m.add(b.transform().localMatrix.translate(b.attr(\"x\")||\n",
       "0,b.attr(\"y\")||0))),b.original)b=b.original;else var e=b.attr(\"xlink:href\"),b=b.original=b.node.ownerDocument.getElementById(e.substring(e.indexOf(\"#\")+1));var e=b._,h=a.path.get[b.type]||a.path.get.deflt;try{if(c)return e.bboxwt=h?a.path.getBBox(b.realPath=h(b)):a._.box(b.node.getBBox()),a._.box(e.bboxwt);b.realPath=h(b);b.matrix=b.transform().localMatrix;e.bbox=a.path.getBBox(a.path.map(b.realPath,m.add(b.matrix)));return a._.box(e.bbox)}catch(d){return a._.box()}};var f=function(){return this.string};\n",
       "c.transform=function(c){var b=this._;if(null==c){var m=this;c=new a.Matrix(this.node.getCTM());for(var e=n(this),h=[e],d=new a.Matrix,l=e.toTransformString(),b=J(e)==J(this.matrix)?J(b.transform):l;\"svg\"!=m.type&&(m=m.parent());)h.push(n(m));for(m=h.length;m--;)d.add(h[m]);return{string:b,globalMatrix:c,totalMatrix:d,localMatrix:e,diffMatrix:c.clone().add(e.invert()),global:c.toTransformString(),total:d.toTransformString(),local:l,toString:f}}c instanceof a.Matrix?this.matrix=c:n(this,c);this.node&&\n",
       "(\"linearGradient\"==this.type||\"radialGradient\"==this.type?v(this.node,{gradientTransform:this.matrix}):\"pattern\"==this.type?v(this.node,{patternTransform:this.matrix}):v(this.node,{transform:this.matrix}));return this};c.parent=function(){return x(this.node.parentNode)};c.append=c.add=function(c){if(c){if(\"set\"==c.type){var a=this;c.forEach(function(c){a.add(c)});return this}c=x(c);this.node.appendChild(c.node);c.paper=this.paper}return this};c.appendTo=function(c){c&&(c=x(c),c.append(this));return this};\n",
       "c.prepend=function(c){if(c){if(\"set\"==c.type){var a=this,b;c.forEach(function(c){b?b.after(c):a.prepend(c);b=c});return this}c=x(c);var m=c.parent();this.node.insertBefore(c.node,this.node.firstChild);this.add&&this.add();c.paper=this.paper;this.parent()&&this.parent().add();m&&m.add()}return this};c.prependTo=function(c){c=x(c);c.prepend(this);return this};c.before=function(c){if(\"set\"==c.type){var a=this;c.forEach(function(c){var b=c.parent();a.node.parentNode.insertBefore(c.node,a.node);b&&b.add()});\n",
       "this.parent().add();return this}c=x(c);var b=c.parent();this.node.parentNode.insertBefore(c.node,this.node);this.parent()&&this.parent().add();b&&b.add();c.paper=this.paper;return this};c.after=function(c){c=x(c);var a=c.parent();this.node.nextSibling?this.node.parentNode.insertBefore(c.node,this.node.nextSibling):this.node.parentNode.appendChild(c.node);this.parent()&&this.parent().add();a&&a.add();c.paper=this.paper;return this};c.insertBefore=function(c){c=x(c);var a=this.parent();c.node.parentNode.insertBefore(this.node,\n",
       "c.node);this.paper=c.paper;a&&a.add();c.parent()&&c.parent().add();return this};c.insertAfter=function(c){c=x(c);var a=this.parent();c.node.parentNode.insertBefore(this.node,c.node.nextSibling);this.paper=c.paper;a&&a.add();c.parent()&&c.parent().add();return this};c.remove=function(){var c=this.parent();this.node.parentNode&&this.node.parentNode.removeChild(this.node);delete this.paper;this.removed=!0;c&&c.add();return this};c.select=function(c){return x(this.node.querySelector(c))};c.selectAll=\n",
       "function(c){c=this.node.querySelectorAll(c);for(var b=(a.set||Array)(),m=0;m<c.length;m++)b.push(x(c[m]));return b};c.asPX=function(c,a){null==a&&(a=this.attr(c));return+b(this,c,a)};c.use=function(){var c,a=this.node.id;a||(a=this.id,v(this.node,{id:a}));c=\"linearGradient\"==this.type||\"radialGradient\"==this.type||\"pattern\"==this.type?r(this.type,this.node.parentNode):r(\"use\",this.node.parentNode);v(c.node,{\"xlink:href\":\"#\"+a});c.original=this;return c};var l=/\\S+/g;c.addClass=function(c){var a=(c||\n",
       "\"\").match(l)||[];c=this.node;var b=c.className.baseVal,m=b.match(l)||[],e,h,d;if(a.length){for(e=0;d=a[e++];)h=m.indexOf(d),~h||m.push(d);a=m.join(\" \");b!=a&&(c.className.baseVal=a)}return this};c.removeClass=function(c){var a=(c||\"\").match(l)||[];c=this.node;var b=c.className.baseVal,m=b.match(l)||[],e,h;if(m.length){for(e=0;h=a[e++];)h=m.indexOf(h),~h&&m.splice(h,1);a=m.join(\" \");b!=a&&(c.className.baseVal=a)}return this};c.hasClass=function(c){return!!~(this.node.className.baseVal.match(l)||[]).indexOf(c)};\n",
       "c.toggleClass=function(c,a){if(null!=a)return a?this.addClass(c):this.removeClass(c);var b=(c||\"\").match(l)||[],m=this.node,e=m.className.baseVal,h=e.match(l)||[],d,f,E;for(d=0;E=b[d++];)f=h.indexOf(E),~f?h.splice(f,1):h.push(E);b=h.join(\" \");e!=b&&(m.className.baseVal=b);return this};c.clone=function(){var c=x(this.node.cloneNode(!0));v(c.node,\"id\")&&v(c.node,{id:c.id});m(c);c.insertAfter(this);return c};c.toDefs=function(){u(this).appendChild(this.node);return this};c.pattern=c.toPattern=function(c,\n",
       "a,b,m){var e=r(\"pattern\",u(this));null==c&&(c=this.getBBox());y(c,\"object\")&&\"x\"in c&&(a=c.y,b=c.width,m=c.height,c=c.x);v(e.node,{x:c,y:a,width:b,height:m,patternUnits:\"userSpaceOnUse\",id:e.id,viewBox:[c,a,b,m].join(\" \")});e.node.appendChild(this.node);return e};c.marker=function(c,a,b,m,e,h){var d=r(\"marker\",u(this));null==c&&(c=this.getBBox());y(c,\"object\")&&\"x\"in c&&(a=c.y,b=c.width,m=c.height,e=c.refX||c.cx,h=c.refY||c.cy,c=c.x);v(d.node,{viewBox:[c,a,b,m].join(\" \"),markerWidth:b,markerHeight:m,\n",
       "orient:\"auto\",refX:e||0,refY:h||0,id:d.id});d.node.appendChild(this.node);return d};var E=function(c,a,b,m){\"function\"!=typeof b||b.length||(m=b,b=L.linear);this.attr=c;this.dur=a;b&&(this.easing=b);m&&(this.callback=m)};a._.Animation=E;a.animation=function(c,a,b,m){return new E(c,a,b,m)};c.inAnim=function(){var c=[],a;for(a in this.anims)this.anims[h](a)&&function(a){c.push({anim:new E(a._attrs,a.dur,a.easing,a._callback),mina:a,curStatus:a.status(),status:function(c){return a.status(c)},stop:function(){a.stop()}})}(this.anims[a]);\n",
       "return c};a.animate=function(c,a,b,m,e,h){\"function\"!=typeof e||e.length||(h=e,e=L.linear);var d=L.time();c=L(c,a,d,d+m,L.time,b,e);h&&k.once(\"mina.finish.\"+c.id,h);return c};c.stop=function(){for(var c=this.inAnim(),a=0,b=c.length;a<b;a++)c[a].stop();return this};c.animate=function(c,a,b,m){\"function\"!=typeof b||b.length||(m=b,b=L.linear);c instanceof E&&(m=c.callback,b=c.easing,a=b.dur,c=c.attr);var d=[],f=[],l={},t,ca,n,T=this,q;for(q in c)if(c[h](q)){T.equal?(n=T.equal(q,J(c[q])),t=n.from,ca=\n",
       "n.to,n=n.f):(t=+T.attr(q),ca=+c[q]);var la=y(t,\"array\")?t.length:1;l[q]=e(d.length,d.length+la,n);d=d.concat(t);f=f.concat(ca)}t=L.time();var p=L(d,f,t,t+a,L.time,function(c){var a={},b;for(b in l)l[h](b)&&(a[b]=l[b](c));T.attr(a)},b);T.anims[p.id]=p;p._attrs=c;p._callback=m;k(\"snap.animcreated.\"+T.id,p);k.once(\"mina.finish.\"+p.id,function(){delete T.anims[p.id];m&&m.call(T)});k.once(\"mina.stop.\"+p.id,function(){delete T.anims[p.id]});return T};var T={};c.data=function(c,b){var m=T[this.id]=T[this.id]||\n",
       "{};if(0==arguments.length)return k(\"snap.data.get.\"+this.id,this,m,null),m;if(1==arguments.length){if(a.is(c,\"object\")){for(var e in c)c[h](e)&&this.data(e,c[e]);return this}k(\"snap.data.get.\"+this.id,this,m[c],c);return m[c]}m[c]=b;k(\"snap.data.set.\"+this.id,this,b,c);return this};c.removeData=function(c){null==c?T[this.id]={}:T[this.id]&&delete T[this.id][c];return this};c.outerSVG=c.toString=d(1);c.innerSVG=d()})(e.prototype);a.parse=function(c){var a=G.doc.createDocumentFragment(),b=!0,m=G.doc.createElement(\"div\");\n",
       "c=J(c);c.match(/^\\s*<\\s*svg(?:\\s|>)/)||(c=\"<svg>\"+c+\"</svg>\",b=!1);m.innerHTML=c;if(c=m.getElementsByTagName(\"svg\")[0])if(b)a=c;else for(;c.firstChild;)a.appendChild(c.firstChild);m.innerHTML=aa;return new l(a)};l.prototype.select=e.prototype.select;l.prototype.selectAll=e.prototype.selectAll;a.fragment=function(){for(var c=Array.prototype.slice.call(arguments,0),b=G.doc.createDocumentFragment(),m=0,e=c.length;m<e;m++){var h=c[m];h.node&&h.node.nodeType&&b.appendChild(h.node);h.nodeType&&b.appendChild(h);\n",
       "\"string\"==typeof h&&b.appendChild(a.parse(h).node)}return new l(b)};a._.make=r;a._.wrap=x;s.prototype.el=function(c,a){var b=r(c,this.node);a&&b.attr(a);return b};k.on(\"snap.util.getattr\",function(){var c=k.nt(),c=c.substring(c.lastIndexOf(\".\")+1),a=c.replace(/[A-Z]/g,function(c){return\"-\"+c.toLowerCase()});return pa[h](a)?this.node.ownerDocument.defaultView.getComputedStyle(this.node,null).getPropertyValue(a):v(this.node,c)});var pa={\"alignment-baseline\":0,\"baseline-shift\":0,clip:0,\"clip-path\":0,\n",
       "\"clip-rule\":0,color:0,\"color-interpolation\":0,\"color-interpolation-filters\":0,\"color-profile\":0,\"color-rendering\":0,cursor:0,direction:0,display:0,\"dominant-baseline\":0,\"enable-background\":0,fill:0,\"fill-opacity\":0,\"fill-rule\":0,filter:0,\"flood-color\":0,\"flood-opacity\":0,font:0,\"font-family\":0,\"font-size\":0,\"font-size-adjust\":0,\"font-stretch\":0,\"font-style\":0,\"font-variant\":0,\"font-weight\":0,\"glyph-orientation-horizontal\":0,\"glyph-orientation-vertical\":0,\"image-rendering\":0,kerning:0,\"letter-spacing\":0,\n",
       "\"lighting-color\":0,marker:0,\"marker-end\":0,\"marker-mid\":0,\"marker-start\":0,mask:0,opacity:0,overflow:0,\"pointer-events\":0,\"shape-rendering\":0,\"stop-color\":0,\"stop-opacity\":0,stroke:0,\"stroke-dasharray\":0,\"stroke-dashoffset\":0,\"stroke-linecap\":0,\"stroke-linejoin\":0,\"stroke-miterlimit\":0,\"stroke-opacity\":0,\"stroke-width\":0,\"text-anchor\":0,\"text-decoration\":0,\"text-rendering\":0,\"unicode-bidi\":0,visibility:0,\"word-spacing\":0,\"writing-mode\":0};k.on(\"snap.util.attr\",function(c){var a=k.nt(),b={},a=a.substring(a.lastIndexOf(\".\")+\n",
       "1);b[a]=c;var m=a.replace(/-(\\w)/gi,function(c,a){return a.toUpperCase()}),a=a.replace(/[A-Z]/g,function(c){return\"-\"+c.toLowerCase()});pa[h](a)?this.node.style[m]=null==c?aa:c:v(this.node,b)});a.ajax=function(c,a,b,m){var e=new XMLHttpRequest,h=V();if(e){if(y(a,\"function\"))m=b,b=a,a=null;else if(y(a,\"object\")){var d=[],f;for(f in a)a.hasOwnProperty(f)&&d.push(encodeURIComponent(f)+\"=\"+encodeURIComponent(a[f]));a=d.join(\"&\")}e.open(a?\"POST\":\"GET\",c,!0);a&&(e.setRequestHeader(\"X-Requested-With\",\"XMLHttpRequest\"),\n",
       "e.setRequestHeader(\"Content-type\",\"application/x-www-form-urlencoded\"));b&&(k.once(\"snap.ajax.\"+h+\".0\",b),k.once(\"snap.ajax.\"+h+\".200\",b),k.once(\"snap.ajax.\"+h+\".304\",b));e.onreadystatechange=function(){4==e.readyState&&k(\"snap.ajax.\"+h+\".\"+e.status,m,e)};if(4==e.readyState)return e;e.send(a);return e}};a.load=function(c,b,m){a.ajax(c,function(c){c=a.parse(c.responseText);m?b.call(m,c):b(c)})};a.getElementByPoint=function(c,a){var b,m,e=G.doc.elementFromPoint(c,a);if(G.win.opera&&\"svg\"==e.tagName){b=\n",
       "e;m=b.getBoundingClientRect();b=b.ownerDocument;var h=b.body,d=b.documentElement;b=m.top+(g.win.pageYOffset||d.scrollTop||h.scrollTop)-(d.clientTop||h.clientTop||0);m=m.left+(g.win.pageXOffset||d.scrollLeft||h.scrollLeft)-(d.clientLeft||h.clientLeft||0);h=e.createSVGRect();h.x=c-m;h.y=a-b;h.width=h.height=1;b=e.getIntersectionList(h,null);b.length&&(e=b[b.length-1])}return e?x(e):null};a.plugin=function(c){c(a,e,s,G,l)};return G.win.Snap=a}();C.plugin(function(a,k,y,M,A){function w(a,d,f,b,q,e){null==\n",
       "d&&\"[object SVGMatrix]\"==z.call(a)?(this.a=a.a,this.b=a.b,this.c=a.c,this.d=a.d,this.e=a.e,this.f=a.f):null!=a?(this.a=+a,this.b=+d,this.c=+f,this.d=+b,this.e=+q,this.f=+e):(this.a=1,this.c=this.b=0,this.d=1,this.f=this.e=0)}var z=Object.prototype.toString,d=String,f=Math;(function(n){function k(a){return a[0]*a[0]+a[1]*a[1]}function p(a){var d=f.sqrt(k(a));a[0]&&(a[0]/=d);a[1]&&(a[1]/=d)}n.add=function(a,d,e,f,n,p){var k=[[],[],[] ],u=[[this.a,this.c,this.e],[this.b,this.d,this.f],[0,0,1] ];d=[[a,\n",
       "e,n],[d,f,p],[0,0,1] ];a&&a instanceof w&&(d=[[a.a,a.c,a.e],[a.b,a.d,a.f],[0,0,1] ]);for(a=0;3>a;a++)for(e=0;3>e;e++){for(f=n=0;3>f;f++)n+=u[a][f]*d[f][e];k[a][e]=n}this.a=k[0][0];this.b=k[1][0];this.c=k[0][1];this.d=k[1][1];this.e=k[0][2];this.f=k[1][2];return this};n.invert=function(){var a=this.a*this.d-this.b*this.c;return new w(this.d/a,-this.b/a,-this.c/a,this.a/a,(this.c*this.f-this.d*this.e)/a,(this.b*this.e-this.a*this.f)/a)};n.clone=function(){return new w(this.a,this.b,this.c,this.d,this.e,\n",
       "this.f)};n.translate=function(a,d){return this.add(1,0,0,1,a,d)};n.scale=function(a,d,e,f){null==d&&(d=a);(e||f)&&this.add(1,0,0,1,e,f);this.add(a,0,0,d,0,0);(e||f)&&this.add(1,0,0,1,-e,-f);return this};n.rotate=function(b,d,e){b=a.rad(b);d=d||0;e=e||0;var l=+f.cos(b).toFixed(9);b=+f.sin(b).toFixed(9);this.add(l,b,-b,l,d,e);return this.add(1,0,0,1,-d,-e)};n.x=function(a,d){return a*this.a+d*this.c+this.e};n.y=function(a,d){return a*this.b+d*this.d+this.f};n.get=function(a){return+this[d.fromCharCode(97+\n",
       "a)].toFixed(4)};n.toString=function(){return\"matrix(\"+[this.get(0),this.get(1),this.get(2),this.get(3),this.get(4),this.get(5)].join()+\")\"};n.offset=function(){return[this.e.toFixed(4),this.f.toFixed(4)]};n.determinant=function(){return this.a*this.d-this.b*this.c};n.split=function(){var b={};b.dx=this.e;b.dy=this.f;var d=[[this.a,this.c],[this.b,this.d] ];b.scalex=f.sqrt(k(d[0]));p(d[0]);b.shear=d[0][0]*d[1][0]+d[0][1]*d[1][1];d[1]=[d[1][0]-d[0][0]*b.shear,d[1][1]-d[0][1]*b.shear];b.scaley=f.sqrt(k(d[1]));\n",
       "p(d[1]);b.shear/=b.scaley;0>this.determinant()&&(b.scalex=-b.scalex);var e=-d[0][1],d=d[1][1];0>d?(b.rotate=a.deg(f.acos(d)),0>e&&(b.rotate=360-b.rotate)):b.rotate=a.deg(f.asin(e));b.isSimple=!+b.shear.toFixed(9)&&(b.scalex.toFixed(9)==b.scaley.toFixed(9)||!b.rotate);b.isSuperSimple=!+b.shear.toFixed(9)&&b.scalex.toFixed(9)==b.scaley.toFixed(9)&&!b.rotate;b.noRotation=!+b.shear.toFixed(9)&&!b.rotate;return b};n.toTransformString=function(a){a=a||this.split();if(+a.shear.toFixed(9))return\"m\"+[this.get(0),\n",
       "this.get(1),this.get(2),this.get(3),this.get(4),this.get(5)];a.scalex=+a.scalex.toFixed(4);a.scaley=+a.scaley.toFixed(4);a.rotate=+a.rotate.toFixed(4);return(a.dx||a.dy?\"t\"+[+a.dx.toFixed(4),+a.dy.toFixed(4)]:\"\")+(1!=a.scalex||1!=a.scaley?\"s\"+[a.scalex,a.scaley,0,0]:\"\")+(a.rotate?\"r\"+[+a.rotate.toFixed(4),0,0]:\"\")}})(w.prototype);a.Matrix=w;a.matrix=function(a,d,f,b,k,e){return new w(a,d,f,b,k,e)}});C.plugin(function(a,v,y,M,A){function w(h){return function(d){k.stop();d instanceof A&&1==d.node.childNodes.length&&\n",
       "(\"radialGradient\"==d.node.firstChild.tagName||\"linearGradient\"==d.node.firstChild.tagName||\"pattern\"==d.node.firstChild.tagName)&&(d=d.node.firstChild,b(this).appendChild(d),d=u(d));if(d instanceof v)if(\"radialGradient\"==d.type||\"linearGradient\"==d.type||\"pattern\"==d.type){d.node.id||e(d.node,{id:d.id});var f=l(d.node.id)}else f=d.attr(h);else f=a.color(d),f.error?(f=a(b(this).ownerSVGElement).gradient(d))?(f.node.id||e(f.node,{id:f.id}),f=l(f.node.id)):f=d:f=r(f);d={};d[h]=f;e(this.node,d);this.node.style[h]=\n",
       "x}}function z(a){k.stop();a==+a&&(a+=\"px\");this.node.style.fontSize=a}function d(a){var b=[];a=a.childNodes;for(var e=0,f=a.length;e<f;e++){var l=a[e];3==l.nodeType&&b.push(l.nodeValue);\"tspan\"==l.tagName&&(1==l.childNodes.length&&3==l.firstChild.nodeType?b.push(l.firstChild.nodeValue):b.push(d(l)))}return b}function f(){k.stop();return this.node.style.fontSize}var n=a._.make,u=a._.wrap,p=a.is,b=a._.getSomeDefs,q=/^url\\(#?([^)]+)\\)$/,e=a._.$,l=a.url,r=String,s=a._.separator,x=\"\";k.on(\"snap.util.attr.mask\",\n",
       "function(a){if(a instanceof v||a instanceof A){k.stop();a instanceof A&&1==a.node.childNodes.length&&(a=a.node.firstChild,b(this).appendChild(a),a=u(a));if(\"mask\"==a.type)var d=a;else d=n(\"mask\",b(this)),d.node.appendChild(a.node);!d.node.id&&e(d.node,{id:d.id});e(this.node,{mask:l(d.id)})}});(function(a){k.on(\"snap.util.attr.clip\",a);k.on(\"snap.util.attr.clip-path\",a);k.on(\"snap.util.attr.clipPath\",a)})(function(a){if(a instanceof v||a instanceof A){k.stop();if(\"clipPath\"==a.type)var d=a;else d=\n",
       "n(\"clipPath\",b(this)),d.node.appendChild(a.node),!d.node.id&&e(d.node,{id:d.id});e(this.node,{\"clip-path\":l(d.id)})}});k.on(\"snap.util.attr.fill\",w(\"fill\"));k.on(\"snap.util.attr.stroke\",w(\"stroke\"));var G=/^([lr])(?:\\(([^)]*)\\))?(.*)$/i;k.on(\"snap.util.grad.parse\",function(a){a=r(a);var b=a.match(G);if(!b)return null;a=b[1];var e=b[2],b=b[3],e=e.split(/\\s*,\\s*/).map(function(a){return+a==a?+a:a});1==e.length&&0==e[0]&&(e=[]);b=b.split(\"-\");b=b.map(function(a){a=a.split(\":\");var b={color:a[0]};a[1]&&\n",
       "(b.offset=parseFloat(a[1]));return b});return{type:a,params:e,stops:b}});k.on(\"snap.util.attr.d\",function(b){k.stop();p(b,\"array\")&&p(b[0],\"array\")&&(b=a.path.toString.call(b));b=r(b);b.match(/[ruo]/i)&&(b=a.path.toAbsolute(b));e(this.node,{d:b})})(-1);k.on(\"snap.util.attr.#text\",function(a){k.stop();a=r(a);for(a=M.doc.createTextNode(a);this.node.firstChild;)this.node.removeChild(this.node.firstChild);this.node.appendChild(a)})(-1);k.on(\"snap.util.attr.path\",function(a){k.stop();this.attr({d:a})})(-1);\n",
       "k.on(\"snap.util.attr.class\",function(a){k.stop();this.node.className.baseVal=a})(-1);k.on(\"snap.util.attr.viewBox\",function(a){a=p(a,\"object\")&&\"x\"in a?[a.x,a.y,a.width,a.height].join(\" \"):p(a,\"array\")?a.join(\" \"):a;e(this.node,{viewBox:a});k.stop()})(-1);k.on(\"snap.util.attr.transform\",function(a){this.transform(a);k.stop()})(-1);k.on(\"snap.util.attr.r\",function(a){\"rect\"==this.type&&(k.stop(),e(this.node,{rx:a,ry:a}))})(-1);k.on(\"snap.util.attr.textpath\",function(a){k.stop();if(\"text\"==this.type){var d,\n",
       "f;if(!a&&this.textPath){for(a=this.textPath;a.node.firstChild;)this.node.appendChild(a.node.firstChild);a.remove();delete this.textPath}else if(p(a,\"string\")?(d=b(this),a=u(d.parentNode).path(a),d.appendChild(a.node),d=a.id,a.attr({id:d})):(a=u(a),a instanceof v&&(d=a.attr(\"id\"),d||(d=a.id,a.attr({id:d})))),d)if(a=this.textPath,f=this.node,a)a.attr({\"xlink:href\":\"#\"+d});else{for(a=e(\"textPath\",{\"xlink:href\":\"#\"+d});f.firstChild;)a.appendChild(f.firstChild);f.appendChild(a);this.textPath=u(a)}}})(-1);\n",
       "k.on(\"snap.util.attr.text\",function(a){if(\"text\"==this.type){for(var b=this.node,d=function(a){var b=e(\"tspan\");if(p(a,\"array\"))for(var f=0;f<a.length;f++)b.appendChild(d(a[f]));else b.appendChild(M.doc.createTextNode(a));b.normalize&&b.normalize();return b};b.firstChild;)b.removeChild(b.firstChild);for(a=d(a);a.firstChild;)b.appendChild(a.firstChild)}k.stop()})(-1);k.on(\"snap.util.attr.fontSize\",z)(-1);k.on(\"snap.util.attr.font-size\",z)(-1);k.on(\"snap.util.getattr.transform\",function(){k.stop();\n",
       "return this.transform()})(-1);k.on(\"snap.util.getattr.textpath\",function(){k.stop();return this.textPath})(-1);(function(){function b(d){return function(){k.stop();var b=M.doc.defaultView.getComputedStyle(this.node,null).getPropertyValue(\"marker-\"+d);return\"none\"==b?b:a(M.doc.getElementById(b.match(q)[1]))}}function d(a){return function(b){k.stop();var d=\"marker\"+a.charAt(0).toUpperCase()+a.substring(1);if(\"\"==b||!b)this.node.style[d]=\"none\";else if(\"marker\"==b.type){var f=b.node.id;f||e(b.node,{id:b.id});\n",
       "this.node.style[d]=l(f)}}}k.on(\"snap.util.getattr.marker-end\",b(\"end\"))(-1);k.on(\"snap.util.getattr.markerEnd\",b(\"end\"))(-1);k.on(\"snap.util.getattr.marker-start\",b(\"start\"))(-1);k.on(\"snap.util.getattr.markerStart\",b(\"start\"))(-1);k.on(\"snap.util.getattr.marker-mid\",b(\"mid\"))(-1);k.on(\"snap.util.getattr.markerMid\",b(\"mid\"))(-1);k.on(\"snap.util.attr.marker-end\",d(\"end\"))(-1);k.on(\"snap.util.attr.markerEnd\",d(\"end\"))(-1);k.on(\"snap.util.attr.marker-start\",d(\"start\"))(-1);k.on(\"snap.util.attr.markerStart\",\n",
       "d(\"start\"))(-1);k.on(\"snap.util.attr.marker-mid\",d(\"mid\"))(-1);k.on(\"snap.util.attr.markerMid\",d(\"mid\"))(-1)})();k.on(\"snap.util.getattr.r\",function(){if(\"rect\"==this.type&&e(this.node,\"rx\")==e(this.node,\"ry\"))return k.stop(),e(this.node,\"rx\")})(-1);k.on(\"snap.util.getattr.text\",function(){if(\"text\"==this.type||\"tspan\"==this.type){k.stop();var a=d(this.node);return 1==a.length?a[0]:a}})(-1);k.on(\"snap.util.getattr.#text\",function(){return this.node.textContent})(-1);k.on(\"snap.util.getattr.viewBox\",\n",
       "function(){k.stop();var b=e(this.node,\"viewBox\");if(b)return b=b.split(s),a._.box(+b[0],+b[1],+b[2],+b[3])})(-1);k.on(\"snap.util.getattr.points\",function(){var a=e(this.node,\"points\");k.stop();if(a)return a.split(s)})(-1);k.on(\"snap.util.getattr.path\",function(){var a=e(this.node,\"d\");k.stop();return a})(-1);k.on(\"snap.util.getattr.class\",function(){return this.node.className.baseVal})(-1);k.on(\"snap.util.getattr.fontSize\",f)(-1);k.on(\"snap.util.getattr.font-size\",f)(-1)});C.plugin(function(a,v,y,\n",
       "M,A){function w(a){return a}function z(a){return function(b){return+b.toFixed(3)+a}}var d={\"+\":function(a,b){return a+b},\"-\":function(a,b){return a-b},\"/\":function(a,b){return a/b},\"*\":function(a,b){return a*b}},f=String,n=/[a-z]+$/i,u=/^\\s*([+\\-\\/*])\\s*=\\s*([\\d.eE+\\-]+)\\s*([^\\d\\s]+)?\\s*$/;k.on(\"snap.util.attr\",function(a){if(a=f(a).match(u)){var b=k.nt(),b=b.substring(b.lastIndexOf(\".\")+1),q=this.attr(b),e={};k.stop();var l=a[3]||\"\",r=q.match(n),s=d[a[1] ];r&&r==l?a=s(parseFloat(q),+a[2]):(q=this.asPX(b),\n",
       "a=s(this.asPX(b),this.asPX(b,a[2]+l)));isNaN(q)||isNaN(a)||(e[b]=a,this.attr(e))}})(-10);k.on(\"snap.util.equal\",function(a,b){var q=f(this.attr(a)||\"\"),e=f(b).match(u);if(e){k.stop();var l=e[3]||\"\",r=q.match(n),s=d[e[1] ];if(r&&r==l)return{from:parseFloat(q),to:s(parseFloat(q),+e[2]),f:z(r)};q=this.asPX(a);return{from:q,to:s(q,this.asPX(a,e[2]+l)),f:w}}})(-10)});C.plugin(function(a,v,y,M,A){var w=y.prototype,z=a.is;w.rect=function(a,d,k,p,b,q){var e;null==q&&(q=b);z(a,\"object\")&&\"[object Object]\"==\n",
       "a?e=a:null!=a&&(e={x:a,y:d,width:k,height:p},null!=b&&(e.rx=b,e.ry=q));return this.el(\"rect\",e)};w.circle=function(a,d,k){var p;z(a,\"object\")&&\"[object Object]\"==a?p=a:null!=a&&(p={cx:a,cy:d,r:k});return this.el(\"circle\",p)};var d=function(){function a(){this.parentNode.removeChild(this)}return function(d,k){var p=M.doc.createElement(\"img\"),b=M.doc.body;p.style.cssText=\"position:absolute;left:-9999em;top:-9999em\";p.onload=function(){k.call(p);p.onload=p.onerror=null;b.removeChild(p)};p.onerror=a;\n",
       "b.appendChild(p);p.src=d}}();w.image=function(f,n,k,p,b){var q=this.el(\"image\");if(z(f,\"object\")&&\"src\"in f)q.attr(f);else if(null!=f){var e={\"xlink:href\":f,preserveAspectRatio:\"none\"};null!=n&&null!=k&&(e.x=n,e.y=k);null!=p&&null!=b?(e.width=p,e.height=b):d(f,function(){a._.$(q.node,{width:this.offsetWidth,height:this.offsetHeight})});a._.$(q.node,e)}return q};w.ellipse=function(a,d,k,p){var b;z(a,\"object\")&&\"[object Object]\"==a?b=a:null!=a&&(b={cx:a,cy:d,rx:k,ry:p});return this.el(\"ellipse\",b)};\n",
       "w.path=function(a){var d;z(a,\"object\")&&!z(a,\"array\")?d=a:a&&(d={d:a});return this.el(\"path\",d)};w.group=w.g=function(a){var d=this.el(\"g\");1==arguments.length&&a&&!a.type?d.attr(a):arguments.length&&d.add(Array.prototype.slice.call(arguments,0));return d};w.svg=function(a,d,k,p,b,q,e,l){var r={};z(a,\"object\")&&null==d?r=a:(null!=a&&(r.x=a),null!=d&&(r.y=d),null!=k&&(r.width=k),null!=p&&(r.height=p),null!=b&&null!=q&&null!=e&&null!=l&&(r.viewBox=[b,q,e,l]));return this.el(\"svg\",r)};w.mask=function(a){var d=\n",
       "this.el(\"mask\");1==arguments.length&&a&&!a.type?d.attr(a):arguments.length&&d.add(Array.prototype.slice.call(arguments,0));return d};w.ptrn=function(a,d,k,p,b,q,e,l){if(z(a,\"object\"))var r=a;else arguments.length?(r={},null!=a&&(r.x=a),null!=d&&(r.y=d),null!=k&&(r.width=k),null!=p&&(r.height=p),null!=b&&null!=q&&null!=e&&null!=l&&(r.viewBox=[b,q,e,l])):r={patternUnits:\"userSpaceOnUse\"};return this.el(\"pattern\",r)};w.use=function(a){return null!=a?(make(\"use\",this.node),a instanceof v&&(a.attr(\"id\")||\n",
       "a.attr({id:ID()}),a=a.attr(\"id\")),this.el(\"use\",{\"xlink:href\":a})):v.prototype.use.call(this)};w.text=function(a,d,k){var p={};z(a,\"object\")?p=a:null!=a&&(p={x:a,y:d,text:k||\"\"});return this.el(\"text\",p)};w.line=function(a,d,k,p){var b={};z(a,\"object\")?b=a:null!=a&&(b={x1:a,x2:k,y1:d,y2:p});return this.el(\"line\",b)};w.polyline=function(a){1<arguments.length&&(a=Array.prototype.slice.call(arguments,0));var d={};z(a,\"object\")&&!z(a,\"array\")?d=a:null!=a&&(d={points:a});return this.el(\"polyline\",d)};\n",
       "w.polygon=function(a){1<arguments.length&&(a=Array.prototype.slice.call(arguments,0));var d={};z(a,\"object\")&&!z(a,\"array\")?d=a:null!=a&&(d={points:a});return this.el(\"polygon\",d)};(function(){function d(){return this.selectAll(\"stop\")}function n(b,d){var f=e(\"stop\"),k={offset:+d+\"%\"};b=a.color(b);k[\"stop-color\"]=b.hex;1>b.opacity&&(k[\"stop-opacity\"]=b.opacity);e(f,k);this.node.appendChild(f);return this}function u(){if(\"linearGradient\"==this.type){var b=e(this.node,\"x1\")||0,d=e(this.node,\"x2\")||\n",
       "1,f=e(this.node,\"y1\")||0,k=e(this.node,\"y2\")||0;return a._.box(b,f,math.abs(d-b),math.abs(k-f))}b=this.node.r||0;return a._.box((this.node.cx||0.5)-b,(this.node.cy||0.5)-b,2*b,2*b)}function p(a,d){function f(a,b){for(var d=(b-u)/(a-w),e=w;e<a;e++)h[e].offset=+(+u+d*(e-w)).toFixed(2);w=a;u=b}var n=k(\"snap.util.grad.parse\",null,d).firstDefined(),p;if(!n)return null;n.params.unshift(a);p=\"l\"==n.type.toLowerCase()?b.apply(0,n.params):q.apply(0,n.params);n.type!=n.type.toLowerCase()&&e(p.node,{gradientUnits:\"userSpaceOnUse\"});\n",
       "var h=n.stops,n=h.length,u=0,w=0;n--;for(var v=0;v<n;v++)\"offset\"in h[v]&&f(v,h[v].offset);h[n].offset=h[n].offset||100;f(n,h[n].offset);for(v=0;v<=n;v++){var y=h[v];p.addStop(y.color,y.offset)}return p}function b(b,k,p,q,w){b=a._.make(\"linearGradient\",b);b.stops=d;b.addStop=n;b.getBBox=u;null!=k&&e(b.node,{x1:k,y1:p,x2:q,y2:w});return b}function q(b,k,p,q,w,h){b=a._.make(\"radialGradient\",b);b.stops=d;b.addStop=n;b.getBBox=u;null!=k&&e(b.node,{cx:k,cy:p,r:q});null!=w&&null!=h&&e(b.node,{fx:w,fy:h});\n",
       "return b}var e=a._.$;w.gradient=function(a){return p(this.defs,a)};w.gradientLinear=function(a,d,e,f){return b(this.defs,a,d,e,f)};w.gradientRadial=function(a,b,d,e,f){return q(this.defs,a,b,d,e,f)};w.toString=function(){var b=this.node.ownerDocument,d=b.createDocumentFragment(),b=b.createElement(\"div\"),e=this.node.cloneNode(!0);d.appendChild(b);b.appendChild(e);a._.$(e,{xmlns:\"http://www.w3.org/2000/svg\"});b=b.innerHTML;d.removeChild(d.firstChild);return b};w.clear=function(){for(var a=this.node.firstChild,\n",
       "b;a;)b=a.nextSibling,\"defs\"!=a.tagName?a.parentNode.removeChild(a):w.clear.call({node:a}),a=b}})()});C.plugin(function(a,k,y,M){function A(a){var b=A.ps=A.ps||{};b[a]?b[a].sleep=100:b[a]={sleep:100};setTimeout(function(){for(var d in b)b[L](d)&&d!=a&&(b[d].sleep--,!b[d].sleep&&delete b[d])});return b[a]}function w(a,b,d,e){null==a&&(a=b=d=e=0);null==b&&(b=a.y,d=a.width,e=a.height,a=a.x);return{x:a,y:b,width:d,w:d,height:e,h:e,x2:a+d,y2:b+e,cx:a+d/2,cy:b+e/2,r1:F.min(d,e)/2,r2:F.max(d,e)/2,r0:F.sqrt(d*\n",
       "d+e*e)/2,path:s(a,b,d,e),vb:[a,b,d,e].join(\" \")}}function z(){return this.join(\",\").replace(N,\"$1\")}function d(a){a=C(a);a.toString=z;return a}function f(a,b,d,h,f,k,l,n,p){if(null==p)return e(a,b,d,h,f,k,l,n);if(0>p||e(a,b,d,h,f,k,l,n)<p)p=void 0;else{var q=0.5,O=1-q,s;for(s=e(a,b,d,h,f,k,l,n,O);0.01<Z(s-p);)q/=2,O+=(s<p?1:-1)*q,s=e(a,b,d,h,f,k,l,n,O);p=O}return u(a,b,d,h,f,k,l,n,p)}function n(b,d){function e(a){return+(+a).toFixed(3)}return a._.cacher(function(a,h,l){a instanceof k&&(a=a.attr(\"d\"));\n",
       "a=I(a);for(var n,p,D,q,O=\"\",s={},c=0,t=0,r=a.length;t<r;t++){D=a[t];if(\"M\"==D[0])n=+D[1],p=+D[2];else{q=f(n,p,D[1],D[2],D[3],D[4],D[5],D[6]);if(c+q>h){if(d&&!s.start){n=f(n,p,D[1],D[2],D[3],D[4],D[5],D[6],h-c);O+=[\"C\"+e(n.start.x),e(n.start.y),e(n.m.x),e(n.m.y),e(n.x),e(n.y)];if(l)return O;s.start=O;O=[\"M\"+e(n.x),e(n.y)+\"C\"+e(n.n.x),e(n.n.y),e(n.end.x),e(n.end.y),e(D[5]),e(D[6])].join();c+=q;n=+D[5];p=+D[6];continue}if(!b&&!d)return n=f(n,p,D[1],D[2],D[3],D[4],D[5],D[6],h-c)}c+=q;n=+D[5];p=+D[6]}O+=\n",
       "D.shift()+D}s.end=O;return n=b?c:d?s:u(n,p,D[0],D[1],D[2],D[3],D[4],D[5],1)},null,a._.clone)}function u(a,b,d,e,h,f,k,l,n){var p=1-n,q=ma(p,3),s=ma(p,2),c=n*n,t=c*n,r=q*a+3*s*n*d+3*p*n*n*h+t*k,q=q*b+3*s*n*e+3*p*n*n*f+t*l,s=a+2*n*(d-a)+c*(h-2*d+a),t=b+2*n*(e-b)+c*(f-2*e+b),x=d+2*n*(h-d)+c*(k-2*h+d),c=e+2*n*(f-e)+c*(l-2*f+e);a=p*a+n*d;b=p*b+n*e;h=p*h+n*k;f=p*f+n*l;l=90-180*F.atan2(s-x,t-c)/S;return{x:r,y:q,m:{x:s,y:t},n:{x:x,y:c},start:{x:a,y:b},end:{x:h,y:f},alpha:l}}function p(b,d,e,h,f,n,k,l){a.is(b,\n",
       "\"array\")||(b=[b,d,e,h,f,n,k,l]);b=U.apply(null,b);return w(b.min.x,b.min.y,b.max.x-b.min.x,b.max.y-b.min.y)}function b(a,b,d){return b>=a.x&&b<=a.x+a.width&&d>=a.y&&d<=a.y+a.height}function q(a,d){a=w(a);d=w(d);return b(d,a.x,a.y)||b(d,a.x2,a.y)||b(d,a.x,a.y2)||b(d,a.x2,a.y2)||b(a,d.x,d.y)||b(a,d.x2,d.y)||b(a,d.x,d.y2)||b(a,d.x2,d.y2)||(a.x<d.x2&&a.x>d.x||d.x<a.x2&&d.x>a.x)&&(a.y<d.y2&&a.y>d.y||d.y<a.y2&&d.y>a.y)}function e(a,b,d,e,h,f,n,k,l){null==l&&(l=1);l=(1<l?1:0>l?0:l)/2;for(var p=[-0.1252,\n",
       "0.1252,-0.3678,0.3678,-0.5873,0.5873,-0.7699,0.7699,-0.9041,0.9041,-0.9816,0.9816],q=[0.2491,0.2491,0.2335,0.2335,0.2032,0.2032,0.1601,0.1601,0.1069,0.1069,0.0472,0.0472],s=0,c=0;12>c;c++)var t=l*p[c]+l,r=t*(t*(-3*a+9*d-9*h+3*n)+6*a-12*d+6*h)-3*a+3*d,t=t*(t*(-3*b+9*e-9*f+3*k)+6*b-12*e+6*f)-3*b+3*e,s=s+q[c]*F.sqrt(r*r+t*t);return l*s}function l(a,b,d){a=I(a);b=I(b);for(var h,f,l,n,k,s,r,O,x,c,t=d?0:[],w=0,v=a.length;w<v;w++)if(x=a[w],\"M\"==x[0])h=k=x[1],f=s=x[2];else{\"C\"==x[0]?(x=[h,f].concat(x.slice(1)),\n",
       "h=x[6],f=x[7]):(x=[h,f,h,f,k,s,k,s],h=k,f=s);for(var G=0,y=b.length;G<y;G++)if(c=b[G],\"M\"==c[0])l=r=c[1],n=O=c[2];else{\"C\"==c[0]?(c=[l,n].concat(c.slice(1)),l=c[6],n=c[7]):(c=[l,n,l,n,r,O,r,O],l=r,n=O);var z;var K=x,B=c;z=d;var H=p(K),J=p(B);if(q(H,J)){for(var H=e.apply(0,K),J=e.apply(0,B),H=~~(H/8),J=~~(J/8),U=[],A=[],F={},M=z?0:[],P=0;P<H+1;P++){var C=u.apply(0,K.concat(P/H));U.push({x:C.x,y:C.y,t:P/H})}for(P=0;P<J+1;P++)C=u.apply(0,B.concat(P/J)),A.push({x:C.x,y:C.y,t:P/J});for(P=0;P<H;P++)for(K=\n",
       "0;K<J;K++){var Q=U[P],L=U[P+1],B=A[K],C=A[K+1],N=0.001>Z(L.x-Q.x)?\"y\":\"x\",S=0.001>Z(C.x-B.x)?\"y\":\"x\",R;R=Q.x;var Y=Q.y,V=L.x,ea=L.y,fa=B.x,ga=B.y,ha=C.x,ia=C.y;if(W(R,V)<X(fa,ha)||X(R,V)>W(fa,ha)||W(Y,ea)<X(ga,ia)||X(Y,ea)>W(ga,ia))R=void 0;else{var $=(R*ea-Y*V)*(fa-ha)-(R-V)*(fa*ia-ga*ha),aa=(R*ea-Y*V)*(ga-ia)-(Y-ea)*(fa*ia-ga*ha),ja=(R-V)*(ga-ia)-(Y-ea)*(fa-ha);if(ja){var $=$/ja,aa=aa/ja,ja=+$.toFixed(2),ba=+aa.toFixed(2);R=ja<+X(R,V).toFixed(2)||ja>+W(R,V).toFixed(2)||ja<+X(fa,ha).toFixed(2)||\n",
       "ja>+W(fa,ha).toFixed(2)||ba<+X(Y,ea).toFixed(2)||ba>+W(Y,ea).toFixed(2)||ba<+X(ga,ia).toFixed(2)||ba>+W(ga,ia).toFixed(2)?void 0:{x:$,y:aa}}else R=void 0}R&&F[R.x.toFixed(4)]!=R.y.toFixed(4)&&(F[R.x.toFixed(4)]=R.y.toFixed(4),Q=Q.t+Z((R[N]-Q[N])/(L[N]-Q[N]))*(L.t-Q.t),B=B.t+Z((R[S]-B[S])/(C[S]-B[S]))*(C.t-B.t),0<=Q&&1>=Q&&0<=B&&1>=B&&(z?M++:M.push({x:R.x,y:R.y,t1:Q,t2:B})))}z=M}else z=z?0:[];if(d)t+=z;else{H=0;for(J=z.length;H<J;H++)z[H].segment1=w,z[H].segment2=G,z[H].bez1=x,z[H].bez2=c;t=t.concat(z)}}}return t}\n",
       "function r(a){var b=A(a);if(b.bbox)return C(b.bbox);if(!a)return w();a=I(a);for(var d=0,e=0,h=[],f=[],l,n=0,k=a.length;n<k;n++)l=a[n],\"M\"==l[0]?(d=l[1],e=l[2],h.push(d),f.push(e)):(d=U(d,e,l[1],l[2],l[3],l[4],l[5],l[6]),h=h.concat(d.min.x,d.max.x),f=f.concat(d.min.y,d.max.y),d=l[5],e=l[6]);a=X.apply(0,h);l=X.apply(0,f);h=W.apply(0,h);f=W.apply(0,f);f=w(a,l,h-a,f-l);b.bbox=C(f);return f}function s(a,b,d,e,h){if(h)return[[\"M\",+a+ +h,b],[\"l\",d-2*h,0],[\"a\",h,h,0,0,1,h,h],[\"l\",0,e-2*h],[\"a\",h,h,0,0,1,\n",
       "-h,h],[\"l\",2*h-d,0],[\"a\",h,h,0,0,1,-h,-h],[\"l\",0,2*h-e],[\"a\",h,h,0,0,1,h,-h],[\"z\"] ];a=[[\"M\",a,b],[\"l\",d,0],[\"l\",0,e],[\"l\",-d,0],[\"z\"] ];a.toString=z;return a}function x(a,b,d,e,h){null==h&&null==e&&(e=d);a=+a;b=+b;d=+d;e=+e;if(null!=h){var f=Math.PI/180,l=a+d*Math.cos(-e*f);a+=d*Math.cos(-h*f);var n=b+d*Math.sin(-e*f);b+=d*Math.sin(-h*f);d=[[\"M\",l,n],[\"A\",d,d,0,+(180<h-e),0,a,b] ]}else d=[[\"M\",a,b],[\"m\",0,-e],[\"a\",d,e,0,1,1,0,2*e],[\"a\",d,e,0,1,1,0,-2*e],[\"z\"] ];d.toString=z;return d}function G(b){var e=\n",
       "A(b);if(e.abs)return d(e.abs);Q(b,\"array\")&&Q(b&&b[0],\"array\")||(b=a.parsePathString(b));if(!b||!b.length)return[[\"M\",0,0] ];var h=[],f=0,l=0,n=0,k=0,p=0;\"M\"==b[0][0]&&(f=+b[0][1],l=+b[0][2],n=f,k=l,p++,h[0]=[\"M\",f,l]);for(var q=3==b.length&&\"M\"==b[0][0]&&\"R\"==b[1][0].toUpperCase()&&\"Z\"==b[2][0].toUpperCase(),s,r,w=p,c=b.length;w<c;w++){h.push(s=[]);r=b[w];p=r[0];if(p!=p.toUpperCase())switch(s[0]=p.toUpperCase(),s[0]){case \"A\":s[1]=r[1];s[2]=r[2];s[3]=r[3];s[4]=r[4];s[5]=r[5];s[6]=+r[6]+f;s[7]=+r[7]+\n",
       "l;break;case \"V\":s[1]=+r[1]+l;break;case \"H\":s[1]=+r[1]+f;break;case \"R\":for(var t=[f,l].concat(r.slice(1)),u=2,v=t.length;u<v;u++)t[u]=+t[u]+f,t[++u]=+t[u]+l;h.pop();h=h.concat(P(t,q));break;case \"O\":h.pop();t=x(f,l,r[1],r[2]);t.push(t[0]);h=h.concat(t);break;case \"U\":h.pop();h=h.concat(x(f,l,r[1],r[2],r[3]));s=[\"U\"].concat(h[h.length-1].slice(-2));break;case \"M\":n=+r[1]+f,k=+r[2]+l;default:for(u=1,v=r.length;u<v;u++)s[u]=+r[u]+(u%2?f:l)}else if(\"R\"==p)t=[f,l].concat(r.slice(1)),h.pop(),h=h.concat(P(t,\n",
       "q)),s=[\"R\"].concat(r.slice(-2));else if(\"O\"==p)h.pop(),t=x(f,l,r[1],r[2]),t.push(t[0]),h=h.concat(t);else if(\"U\"==p)h.pop(),h=h.concat(x(f,l,r[1],r[2],r[3])),s=[\"U\"].concat(h[h.length-1].slice(-2));else for(t=0,u=r.length;t<u;t++)s[t]=r[t];p=p.toUpperCase();if(\"O\"!=p)switch(s[0]){case \"Z\":f=+n;l=+k;break;case \"H\":f=s[1];break;case \"V\":l=s[1];break;case \"M\":n=s[s.length-2],k=s[s.length-1];default:f=s[s.length-2],l=s[s.length-1]}}h.toString=z;e.abs=d(h);return h}function h(a,b,d,e){return[a,b,d,e,d,\n",
       "e]}function J(a,b,d,e,h,f){var l=1/3,n=2/3;return[l*a+n*d,l*b+n*e,l*h+n*d,l*f+n*e,h,f]}function K(b,d,e,h,f,l,n,k,p,s){var r=120*S/180,q=S/180*(+f||0),c=[],t,x=a._.cacher(function(a,b,c){var d=a*F.cos(c)-b*F.sin(c);a=a*F.sin(c)+b*F.cos(c);return{x:d,y:a}});if(s)v=s[0],t=s[1],l=s[2],u=s[3];else{t=x(b,d,-q);b=t.x;d=t.y;t=x(k,p,-q);k=t.x;p=t.y;F.cos(S/180*f);F.sin(S/180*f);t=(b-k)/2;v=(d-p)/2;u=t*t/(e*e)+v*v/(h*h);1<u&&(u=F.sqrt(u),e*=u,h*=u);var u=e*e,w=h*h,u=(l==n?-1:1)*F.sqrt(Z((u*w-u*v*v-w*t*t)/\n",
       "(u*v*v+w*t*t)));l=u*e*v/h+(b+k)/2;var u=u*-h*t/e+(d+p)/2,v=F.asin(((d-u)/h).toFixed(9));t=F.asin(((p-u)/h).toFixed(9));v=b<l?S-v:v;t=k<l?S-t:t;0>v&&(v=2*S+v);0>t&&(t=2*S+t);n&&v>t&&(v-=2*S);!n&&t>v&&(t-=2*S)}if(Z(t-v)>r){var c=t,w=k,G=p;t=v+r*(n&&t>v?1:-1);k=l+e*F.cos(t);p=u+h*F.sin(t);c=K(k,p,e,h,f,0,n,w,G,[t,c,l,u])}l=t-v;f=F.cos(v);r=F.sin(v);n=F.cos(t);t=F.sin(t);l=F.tan(l/4);e=4/3*e*l;l*=4/3*h;h=[b,d];b=[b+e*r,d-l*f];d=[k+e*t,p-l*n];k=[k,p];b[0]=2*h[0]-b[0];b[1]=2*h[1]-b[1];if(s)return[b,d,k].concat(c);\n",
       "c=[b,d,k].concat(c).join().split(\",\");s=[];k=0;for(p=c.length;k<p;k++)s[k]=k%2?x(c[k-1],c[k],q).y:x(c[k],c[k+1],q).x;return s}function U(a,b,d,e,h,f,l,k){for(var n=[],p=[[],[] ],s,r,c,t,q=0;2>q;++q)0==q?(r=6*a-12*d+6*h,s=-3*a+9*d-9*h+3*l,c=3*d-3*a):(r=6*b-12*e+6*f,s=-3*b+9*e-9*f+3*k,c=3*e-3*b),1E-12>Z(s)?1E-12>Z(r)||(s=-c/r,0<s&&1>s&&n.push(s)):(t=r*r-4*c*s,c=F.sqrt(t),0>t||(t=(-r+c)/(2*s),0<t&&1>t&&n.push(t),s=(-r-c)/(2*s),0<s&&1>s&&n.push(s)));for(r=q=n.length;q--;)s=n[q],c=1-s,p[0][q]=c*c*c*a+3*\n",
       "c*c*s*d+3*c*s*s*h+s*s*s*l,p[1][q]=c*c*c*b+3*c*c*s*e+3*c*s*s*f+s*s*s*k;p[0][r]=a;p[1][r]=b;p[0][r+1]=l;p[1][r+1]=k;p[0].length=p[1].length=r+2;return{min:{x:X.apply(0,p[0]),y:X.apply(0,p[1])},max:{x:W.apply(0,p[0]),y:W.apply(0,p[1])}}}function I(a,b){var e=!b&&A(a);if(!b&&e.curve)return d(e.curve);var f=G(a),l=b&&G(b),n={x:0,y:0,bx:0,by:0,X:0,Y:0,qx:null,qy:null},k={x:0,y:0,bx:0,by:0,X:0,Y:0,qx:null,qy:null},p=function(a,b,c){if(!a)return[\"C\",b.x,b.y,b.x,b.y,b.x,b.y];a[0]in{T:1,Q:1}||(b.qx=b.qy=null);\n",
       "switch(a[0]){case \"M\":b.X=a[1];b.Y=a[2];break;case \"A\":a=[\"C\"].concat(K.apply(0,[b.x,b.y].concat(a.slice(1))));break;case \"S\":\"C\"==c||\"S\"==c?(c=2*b.x-b.bx,b=2*b.y-b.by):(c=b.x,b=b.y);a=[\"C\",c,b].concat(a.slice(1));break;case \"T\":\"Q\"==c||\"T\"==c?(b.qx=2*b.x-b.qx,b.qy=2*b.y-b.qy):(b.qx=b.x,b.qy=b.y);a=[\"C\"].concat(J(b.x,b.y,b.qx,b.qy,a[1],a[2]));break;case \"Q\":b.qx=a[1];b.qy=a[2];a=[\"C\"].concat(J(b.x,b.y,a[1],a[2],a[3],a[4]));break;case \"L\":a=[\"C\"].concat(h(b.x,b.y,a[1],a[2]));break;case \"H\":a=[\"C\"].concat(h(b.x,\n",
       "b.y,a[1],b.y));break;case \"V\":a=[\"C\"].concat(h(b.x,b.y,b.x,a[1]));break;case \"Z\":a=[\"C\"].concat(h(b.x,b.y,b.X,b.Y))}return a},s=function(a,b){if(7<a[b].length){a[b].shift();for(var c=a[b];c.length;)q[b]=\"A\",l&&(u[b]=\"A\"),a.splice(b++,0,[\"C\"].concat(c.splice(0,6)));a.splice(b,1);v=W(f.length,l&&l.length||0)}},r=function(a,b,c,d,e){a&&b&&\"M\"==a[e][0]&&\"M\"!=b[e][0]&&(b.splice(e,0,[\"M\",d.x,d.y]),c.bx=0,c.by=0,c.x=a[e][1],c.y=a[e][2],v=W(f.length,l&&l.length||0))},q=[],u=[],c=\"\",t=\"\",x=0,v=W(f.length,\n",
       "l&&l.length||0);for(;x<v;x++){f[x]&&(c=f[x][0]);\"C\"!=c&&(q[x]=c,x&&(t=q[x-1]));f[x]=p(f[x],n,t);\"A\"!=q[x]&&\"C\"==c&&(q[x]=\"C\");s(f,x);l&&(l[x]&&(c=l[x][0]),\"C\"!=c&&(u[x]=c,x&&(t=u[x-1])),l[x]=p(l[x],k,t),\"A\"!=u[x]&&\"C\"==c&&(u[x]=\"C\"),s(l,x));r(f,l,n,k,x);r(l,f,k,n,x);var w=f[x],z=l&&l[x],y=w.length,U=l&&z.length;n.x=w[y-2];n.y=w[y-1];n.bx=$(w[y-4])||n.x;n.by=$(w[y-3])||n.y;k.bx=l&&($(z[U-4])||k.x);k.by=l&&($(z[U-3])||k.y);k.x=l&&z[U-2];k.y=l&&z[U-1]}l||(e.curve=d(f));return l?[f,l]:f}function P(a,\n",
       "b){for(var d=[],e=0,h=a.length;h-2*!b>e;e+=2){var f=[{x:+a[e-2],y:+a[e-1]},{x:+a[e],y:+a[e+1]},{x:+a[e+2],y:+a[e+3]},{x:+a[e+4],y:+a[e+5]}];b?e?h-4==e?f[3]={x:+a[0],y:+a[1]}:h-2==e&&(f[2]={x:+a[0],y:+a[1]},f[3]={x:+a[2],y:+a[3]}):f[0]={x:+a[h-2],y:+a[h-1]}:h-4==e?f[3]=f[2]:e||(f[0]={x:+a[e],y:+a[e+1]});d.push([\"C\",(-f[0].x+6*f[1].x+f[2].x)/6,(-f[0].y+6*f[1].y+f[2].y)/6,(f[1].x+6*f[2].x-f[3].x)/6,(f[1].y+6*f[2].y-f[3].y)/6,f[2].x,f[2].y])}return d}y=k.prototype;var Q=a.is,C=a._.clone,L=\"hasOwnProperty\",\n",
       "N=/,?([a-z]),?/gi,$=parseFloat,F=Math,S=F.PI,X=F.min,W=F.max,ma=F.pow,Z=F.abs;M=n(1);var na=n(),ba=n(0,1),V=a._unit2px;a.path=A;a.path.getTotalLength=M;a.path.getPointAtLength=na;a.path.getSubpath=function(a,b,d){if(1E-6>this.getTotalLength(a)-d)return ba(a,b).end;a=ba(a,d,1);return b?ba(a,b).end:a};y.getTotalLength=function(){if(this.node.getTotalLength)return this.node.getTotalLength()};y.getPointAtLength=function(a){return na(this.attr(\"d\"),a)};y.getSubpath=function(b,d){return a.path.getSubpath(this.attr(\"d\"),\n",
       "b,d)};a._.box=w;a.path.findDotsAtSegment=u;a.path.bezierBBox=p;a.path.isPointInsideBBox=b;a.path.isBBoxIntersect=q;a.path.intersection=function(a,b){return l(a,b)};a.path.intersectionNumber=function(a,b){return l(a,b,1)};a.path.isPointInside=function(a,d,e){var h=r(a);return b(h,d,e)&&1==l(a,[[\"M\",d,e],[\"H\",h.x2+10] ],1)%2};a.path.getBBox=r;a.path.get={path:function(a){return a.attr(\"path\")},circle:function(a){a=V(a);return x(a.cx,a.cy,a.r)},ellipse:function(a){a=V(a);return x(a.cx||0,a.cy||0,a.rx,\n",
       "a.ry)},rect:function(a){a=V(a);return s(a.x||0,a.y||0,a.width,a.height,a.rx,a.ry)},image:function(a){a=V(a);return s(a.x||0,a.y||0,a.width,a.height)},line:function(a){return\"M\"+[a.attr(\"x1\")||0,a.attr(\"y1\")||0,a.attr(\"x2\"),a.attr(\"y2\")]},polyline:function(a){return\"M\"+a.attr(\"points\")},polygon:function(a){return\"M\"+a.attr(\"points\")+\"z\"},deflt:function(a){a=a.node.getBBox();return s(a.x,a.y,a.width,a.height)}};a.path.toRelative=function(b){var e=A(b),h=String.prototype.toLowerCase;if(e.rel)return d(e.rel);\n",
       "a.is(b,\"array\")&&a.is(b&&b[0],\"array\")||(b=a.parsePathString(b));var f=[],l=0,n=0,k=0,p=0,s=0;\"M\"==b[0][0]&&(l=b[0][1],n=b[0][2],k=l,p=n,s++,f.push([\"M\",l,n]));for(var r=b.length;s<r;s++){var q=f[s]=[],x=b[s];if(x[0]!=h.call(x[0]))switch(q[0]=h.call(x[0]),q[0]){case \"a\":q[1]=x[1];q[2]=x[2];q[3]=x[3];q[4]=x[4];q[5]=x[5];q[6]=+(x[6]-l).toFixed(3);q[7]=+(x[7]-n).toFixed(3);break;case \"v\":q[1]=+(x[1]-n).toFixed(3);break;case \"m\":k=x[1],p=x[2];default:for(var c=1,t=x.length;c<t;c++)q[c]=+(x[c]-(c%2?l:\n",
       "n)).toFixed(3)}else for(f[s]=[],\"m\"==x[0]&&(k=x[1]+l,p=x[2]+n),q=0,c=x.length;q<c;q++)f[s][q]=x[q];x=f[s].length;switch(f[s][0]){case \"z\":l=k;n=p;break;case \"h\":l+=+f[s][x-1];break;case \"v\":n+=+f[s][x-1];break;default:l+=+f[s][x-2],n+=+f[s][x-1]}}f.toString=z;e.rel=d(f);return f};a.path.toAbsolute=G;a.path.toCubic=I;a.path.map=function(a,b){if(!b)return a;var d,e,h,f,l,n,k;a=I(a);h=0;for(l=a.length;h<l;h++)for(k=a[h],f=1,n=k.length;f<n;f+=2)d=b.x(k[f],k[f+1]),e=b.y(k[f],k[f+1]),k[f]=d,k[f+1]=e;return a};\n",
       "a.path.toString=z;a.path.clone=d});C.plugin(function(a,v,y,C){var A=Math.max,w=Math.min,z=function(a){this.items=[];this.bindings={};this.length=0;this.type=\"set\";if(a)for(var f=0,n=a.length;f<n;f++)a[f]&&(this[this.items.length]=this.items[this.items.length]=a[f],this.length++)};v=z.prototype;v.push=function(){for(var a,f,n=0,k=arguments.length;n<k;n++)if(a=arguments[n])f=this.items.length,this[f]=this.items[f]=a,this.length++;return this};v.pop=function(){this.length&&delete this[this.length--];\n",
       "return this.items.pop()};v.forEach=function(a,f){for(var n=0,k=this.items.length;n<k&&!1!==a.call(f,this.items[n],n);n++);return this};v.animate=function(d,f,n,u){\"function\"!=typeof n||n.length||(u=n,n=L.linear);d instanceof a._.Animation&&(u=d.callback,n=d.easing,f=n.dur,d=d.attr);var p=arguments;if(a.is(d,\"array\")&&a.is(p[p.length-1],\"array\"))var b=!0;var q,e=function(){q?this.b=q:q=this.b},l=0,r=u&&function(){l++==this.length&&u.call(this)};return this.forEach(function(a,l){k.once(\"snap.animcreated.\"+\n",
       "a.id,e);b?p[l]&&a.animate.apply(a,p[l]):a.animate(d,f,n,r)})};v.remove=function(){for(;this.length;)this.pop().remove();return this};v.bind=function(a,f,k){var u={};if(\"function\"==typeof f)this.bindings[a]=f;else{var p=k||a;this.bindings[a]=function(a){u[p]=a;f.attr(u)}}return this};v.attr=function(a){var f={},k;for(k in a)if(this.bindings[k])this.bindings[k](a[k]);else f[k]=a[k];a=0;for(k=this.items.length;a<k;a++)this.items[a].attr(f);return this};v.clear=function(){for(;this.length;)this.pop()};\n",
       "v.splice=function(a,f,k){a=0>a?A(this.length+a,0):a;f=A(0,w(this.length-a,f));var u=[],p=[],b=[],q;for(q=2;q<arguments.length;q++)b.push(arguments[q]);for(q=0;q<f;q++)p.push(this[a+q]);for(;q<this.length-a;q++)u.push(this[a+q]);var e=b.length;for(q=0;q<e+u.length;q++)this.items[a+q]=this[a+q]=q<e?b[q]:u[q-e];for(q=this.items.length=this.length-=f-e;this[q];)delete this[q++];return new z(p)};v.exclude=function(a){for(var f=0,k=this.length;f<k;f++)if(this[f]==a)return this.splice(f,1),!0;return!1};\n",
       "v.insertAfter=function(a){for(var f=this.items.length;f--;)this.items[f].insertAfter(a);return this};v.getBBox=function(){for(var a=[],f=[],k=[],u=[],p=this.items.length;p--;)if(!this.items[p].removed){var b=this.items[p].getBBox();a.push(b.x);f.push(b.y);k.push(b.x+b.width);u.push(b.y+b.height)}a=w.apply(0,a);f=w.apply(0,f);k=A.apply(0,k);u=A.apply(0,u);return{x:a,y:f,x2:k,y2:u,width:k-a,height:u-f,cx:a+(k-a)/2,cy:f+(u-f)/2}};v.clone=function(a){a=new z;for(var f=0,k=this.items.length;f<k;f++)a.push(this.items[f].clone());\n",
       "return a};v.toString=function(){return\"Snap\\u2018s set\"};v.type=\"set\";a.set=function(){var a=new z;arguments.length&&a.push.apply(a,Array.prototype.slice.call(arguments,0));return a}});C.plugin(function(a,v,y,C){function A(a){var b=a[0];switch(b.toLowerCase()){case \"t\":return[b,0,0];case \"m\":return[b,1,0,0,1,0,0];case \"r\":return 4==a.length?[b,0,a[2],a[3] ]:[b,0];case \"s\":return 5==a.length?[b,1,1,a[3],a[4] ]:3==a.length?[b,1,1]:[b,1]}}function w(b,d,f){d=q(d).replace(/\\.{3}|\\u2026/g,b);b=a.parseTransformString(b)||\n",
       "[];d=a.parseTransformString(d)||[];for(var k=Math.max(b.length,d.length),p=[],v=[],h=0,w,z,y,I;h<k;h++){y=b[h]||A(d[h]);I=d[h]||A(y);if(y[0]!=I[0]||\"r\"==y[0].toLowerCase()&&(y[2]!=I[2]||y[3]!=I[3])||\"s\"==y[0].toLowerCase()&&(y[3]!=I[3]||y[4]!=I[4])){b=a._.transform2matrix(b,f());d=a._.transform2matrix(d,f());p=[[\"m\",b.a,b.b,b.c,b.d,b.e,b.f] ];v=[[\"m\",d.a,d.b,d.c,d.d,d.e,d.f] ];break}p[h]=[];v[h]=[];w=0;for(z=Math.max(y.length,I.length);w<z;w++)w in y&&(p[h][w]=y[w]),w in I&&(v[h][w]=I[w])}return{from:u(p),\n",
       "to:u(v),f:n(p)}}function z(a){return a}function d(a){return function(b){return+b.toFixed(3)+a}}function f(b){return a.rgb(b[0],b[1],b[2])}function n(a){var b=0,d,f,k,n,h,p,q=[];d=0;for(f=a.length;d<f;d++){h=\"[\";p=['\"'+a[d][0]+'\"'];k=1;for(n=a[d].length;k<n;k++)p[k]=\"val[\"+b++ +\"]\";h+=p+\"]\";q[d]=h}return Function(\"val\",\"return Snap.path.toString.call([\"+q+\"])\")}function u(a){for(var b=[],d=0,f=a.length;d<f;d++)for(var k=1,n=a[d].length;k<n;k++)b.push(a[d][k]);return b}var p={},b=/[a-z]+$/i,q=String;\n",
       "p.stroke=p.fill=\"colour\";v.prototype.equal=function(a,b){return k(\"snap.util.equal\",this,a,b).firstDefined()};k.on(\"snap.util.equal\",function(e,k){var r,s;r=q(this.attr(e)||\"\");var x=this;if(r==+r&&k==+k)return{from:+r,to:+k,f:z};if(\"colour\"==p[e])return r=a.color(r),s=a.color(k),{from:[r.r,r.g,r.b,r.opacity],to:[s.r,s.g,s.b,s.opacity],f:f};if(\"transform\"==e||\"gradientTransform\"==e||\"patternTransform\"==e)return k instanceof a.Matrix&&(k=k.toTransformString()),a._.rgTransform.test(k)||(k=a._.svgTransform2string(k)),\n",
       "w(r,k,function(){return x.getBBox(1)});if(\"d\"==e||\"path\"==e)return r=a.path.toCubic(r,k),{from:u(r[0]),to:u(r[1]),f:n(r[0])};if(\"points\"==e)return r=q(r).split(a._.separator),s=q(k).split(a._.separator),{from:r,to:s,f:function(a){return a}};aUnit=r.match(b);s=q(k).match(b);return aUnit&&aUnit==s?{from:parseFloat(r),to:parseFloat(k),f:d(aUnit)}:{from:this.asPX(e),to:this.asPX(e,k),f:z}})});C.plugin(function(a,v,y,C){var A=v.prototype,w=\"createTouch\"in C.doc;v=\"click dblclick mousedown mousemove mouseout mouseover mouseup touchstart touchmove touchend touchcancel\".split(\" \");\n",
       "var z={mousedown:\"touchstart\",mousemove:\"touchmove\",mouseup:\"touchend\"},d=function(a,b){var d=\"y\"==a?\"scrollTop\":\"scrollLeft\",e=b&&b.node?b.node.ownerDocument:C.doc;return e[d in e.documentElement?\"documentElement\":\"body\"][d]},f=function(){this.returnValue=!1},n=function(){return this.originalEvent.preventDefault()},u=function(){this.cancelBubble=!0},p=function(){return this.originalEvent.stopPropagation()},b=function(){if(C.doc.addEventListener)return function(a,b,e,f){var k=w&&z[b]?z[b]:b,l=function(k){var l=\n",
       "d(\"y\",f),q=d(\"x\",f);if(w&&z.hasOwnProperty(b))for(var r=0,u=k.targetTouches&&k.targetTouches.length;r<u;r++)if(k.targetTouches[r].target==a||a.contains(k.targetTouches[r].target)){u=k;k=k.targetTouches[r];k.originalEvent=u;k.preventDefault=n;k.stopPropagation=p;break}return e.call(f,k,k.clientX+q,k.clientY+l)};b!==k&&a.addEventListener(b,l,!1);a.addEventListener(k,l,!1);return function(){b!==k&&a.removeEventListener(b,l,!1);a.removeEventListener(k,l,!1);return!0}};if(C.doc.attachEvent)return function(a,\n",
       "b,e,h){var k=function(a){a=a||h.node.ownerDocument.window.event;var b=d(\"y\",h),k=d(\"x\",h),k=a.clientX+k,b=a.clientY+b;a.preventDefault=a.preventDefault||f;a.stopPropagation=a.stopPropagation||u;return e.call(h,a,k,b)};a.attachEvent(\"on\"+b,k);return function(){a.detachEvent(\"on\"+b,k);return!0}}}(),q=[],e=function(a){for(var b=a.clientX,e=a.clientY,f=d(\"y\"),l=d(\"x\"),n,p=q.length;p--;){n=q[p];if(w)for(var r=a.touches&&a.touches.length,u;r--;){if(u=a.touches[r],u.identifier==n.el._drag.id||n.el.node.contains(u.target)){b=\n",
       "u.clientX;e=u.clientY;(a.originalEvent?a.originalEvent:a).preventDefault();break}}else a.preventDefault();b+=l;e+=f;k(\"snap.drag.move.\"+n.el.id,n.move_scope||n.el,b-n.el._drag.x,e-n.el._drag.y,b,e,a)}},l=function(b){a.unmousemove(e).unmouseup(l);for(var d=q.length,f;d--;)f=q[d],f.el._drag={},k(\"snap.drag.end.\"+f.el.id,f.end_scope||f.start_scope||f.move_scope||f.el,b);q=[]};for(y=v.length;y--;)(function(d){a[d]=A[d]=function(e,f){a.is(e,\"function\")&&(this.events=this.events||[],this.events.push({name:d,\n",
       "f:e,unbind:b(this.node||document,d,e,f||this)}));return this};a[\"un\"+d]=A[\"un\"+d]=function(a){for(var b=this.events||[],e=b.length;e--;)if(b[e].name==d&&(b[e].f==a||!a)){b[e].unbind();b.splice(e,1);!b.length&&delete this.events;break}return this}})(v[y]);A.hover=function(a,b,d,e){return this.mouseover(a,d).mouseout(b,e||d)};A.unhover=function(a,b){return this.unmouseover(a).unmouseout(b)};var r=[];A.drag=function(b,d,f,h,n,p){function u(r,v,w){(r.originalEvent||r).preventDefault();this._drag.x=v;\n",
       "this._drag.y=w;this._drag.id=r.identifier;!q.length&&a.mousemove(e).mouseup(l);q.push({el:this,move_scope:h,start_scope:n,end_scope:p});d&&k.on(\"snap.drag.start.\"+this.id,d);b&&k.on(\"snap.drag.move.\"+this.id,b);f&&k.on(\"snap.drag.end.\"+this.id,f);k(\"snap.drag.start.\"+this.id,n||h||this,v,w,r)}if(!arguments.length){var v;return this.drag(function(a,b){this.attr({transform:v+(v?\"T\":\"t\")+[a,b]})},function(){v=this.transform().local})}this._drag={};r.push({el:this,start:u});this.mousedown(u);return this};\n",
       "A.undrag=function(){for(var b=r.length;b--;)r[b].el==this&&(this.unmousedown(r[b].start),r.splice(b,1),k.unbind(\"snap.drag.*.\"+this.id));!r.length&&a.unmousemove(e).unmouseup(l);return this}});C.plugin(function(a,v,y,C){y=y.prototype;var A=/^\\s*url\\((.+)\\)/,w=String,z=a._.$;a.filter={};y.filter=function(d){var f=this;\"svg\"!=f.type&&(f=f.paper);d=a.parse(w(d));var k=a._.id(),u=z(\"filter\");z(u,{id:k,filterUnits:\"userSpaceOnUse\"});u.appendChild(d.node);f.defs.appendChild(u);return new v(u)};k.on(\"snap.util.getattr.filter\",\n",
       "function(){k.stop();var d=z(this.node,\"filter\");if(d)return(d=w(d).match(A))&&a.select(d[1])});k.on(\"snap.util.attr.filter\",function(d){if(d instanceof v&&\"filter\"==d.type){k.stop();var f=d.node.id;f||(z(d.node,{id:d.id}),f=d.id);z(this.node,{filter:a.url(f)})}d&&\"none\"!=d||(k.stop(),this.node.removeAttribute(\"filter\"))});a.filter.blur=function(d,f){null==d&&(d=2);return a.format('<feGaussianBlur stdDeviation=\"{def}\"/>',{def:null==f?d:[d,f]})};a.filter.blur.toString=function(){return this()};a.filter.shadow=\n",
       "function(d,f,k,u,p){\"string\"==typeof k&&(p=u=k,k=4);\"string\"!=typeof u&&(p=u,u=\"#000\");null==k&&(k=4);null==p&&(p=1);null==d&&(d=0,f=2);null==f&&(f=d);u=a.color(u||\"#000\");return a.format('<feGaussianBlur in=\"SourceAlpha\" stdDeviation=\"{blur}\"/><feOffset dx=\"{dx}\" dy=\"{dy}\" result=\"offsetblur\"/><feFlood flood-color=\"{color}\"/><feComposite in2=\"offsetblur\" operator=\"in\"/><feComponentTransfer><feFuncA type=\"linear\" slope=\"{opacity}\"/></feComponentTransfer><feMerge><feMergeNode/><feMergeNode in=\"SourceGraphic\"/></feMerge>',\n",
       "{color:u,dx:d,dy:f,blur:k,opacity:p})};a.filter.shadow.toString=function(){return this()};a.filter.grayscale=function(d){null==d&&(d=1);return a.format('<feColorMatrix type=\"matrix\" values=\"{a} {b} {c} 0 0 {d} {e} {f} 0 0 {g} {b} {h} 0 0 0 0 0 1 0\"/>',{a:0.2126+0.7874*(1-d),b:0.7152-0.7152*(1-d),c:0.0722-0.0722*(1-d),d:0.2126-0.2126*(1-d),e:0.7152+0.2848*(1-d),f:0.0722-0.0722*(1-d),g:0.2126-0.2126*(1-d),h:0.0722+0.9278*(1-d)})};a.filter.grayscale.toString=function(){return this()};a.filter.sepia=\n",
       "function(d){null==d&&(d=1);return a.format('<feColorMatrix type=\"matrix\" values=\"{a} {b} {c} 0 0 {d} {e} {f} 0 0 {g} {h} {i} 0 0 0 0 0 1 0\"/>',{a:0.393+0.607*(1-d),b:0.769-0.769*(1-d),c:0.189-0.189*(1-d),d:0.349-0.349*(1-d),e:0.686+0.314*(1-d),f:0.168-0.168*(1-d),g:0.272-0.272*(1-d),h:0.534-0.534*(1-d),i:0.131+0.869*(1-d)})};a.filter.sepia.toString=function(){return this()};a.filter.saturate=function(d){null==d&&(d=1);return a.format('<feColorMatrix type=\"saturate\" values=\"{amount}\"/>',{amount:1-\n",
       "d})};a.filter.saturate.toString=function(){return this()};a.filter.hueRotate=function(d){return a.format('<feColorMatrix type=\"hueRotate\" values=\"{angle}\"/>',{angle:d||0})};a.filter.hueRotate.toString=function(){return this()};a.filter.invert=function(d){null==d&&(d=1);return a.format('<feComponentTransfer><feFuncR type=\"table\" tableValues=\"{amount} {amount2}\"/><feFuncG type=\"table\" tableValues=\"{amount} {amount2}\"/><feFuncB type=\"table\" tableValues=\"{amount} {amount2}\"/></feComponentTransfer>',{amount:d,\n",
       "amount2:1-d})};a.filter.invert.toString=function(){return this()};a.filter.brightness=function(d){null==d&&(d=1);return a.format('<feComponentTransfer><feFuncR type=\"linear\" slope=\"{amount}\"/><feFuncG type=\"linear\" slope=\"{amount}\"/><feFuncB type=\"linear\" slope=\"{amount}\"/></feComponentTransfer>',{amount:d})};a.filter.brightness.toString=function(){return this()};a.filter.contrast=function(d){null==d&&(d=1);return a.format('<feComponentTransfer><feFuncR type=\"linear\" slope=\"{amount}\" intercept=\"{amount2}\"/><feFuncG type=\"linear\" slope=\"{amount}\" intercept=\"{amount2}\"/><feFuncB type=\"linear\" slope=\"{amount}\" intercept=\"{amount2}\"/></feComponentTransfer>',\n",
       "{amount:d,amount2:0.5-d/2})};a.filter.contrast.toString=function(){return this()}});return C});\n",
       "\n",
       "]]> </script>\n",
       "</svg>\n"
      ],
      "text/plain": [
       "Context(BBox{l,t,r,b,w,h = 0.0w,0.0h, 1.0w,1.0h, 1.0w,1.0h}, UnitBox{Float64,Float64,Float64,Float64}(-1.2, -1.2, 2.4, 2.4, 0.0mm, 0.0mm, 0.0mm, 0.0mm), nothing, nothing, nothing, List([Context(BBox{l,t,r,b,w,h = 0.0w,0.0h, 1.0w,1.0h, 1.0w,1.0h}, nothing, nothing, nothing, nothing, List([]), List([Compose.Form{Compose.LinePrimitive}(Compose.LinePrimitive[Compose.LinePrimitive{Tuple{Measure,Measure}}(Tuple{Measure,Measure}[(0.9660195881771103cx, 0.8797073085663688cy), (0.6528145208140952cx, -0.22905737386663222cy)]), Compose.LinePrimitive{Tuple{Measure,Measure}}(Tuple{Measure,Measure}[(0.8840150634650444cx, 0.9533899742868304cy), (-0.5026806398117072cx, 0.39612862365797596cy)]), Compose.LinePrimitive{Tuple{Measure,Measure}}(Tuple{Measure,Measure}[(0.5099916195247126cx, -0.28788208593916537cy), (-0.5098230868801699cx, 0.28805061858370823cy)]), Compose.LinePrimitive{Tuple{Measure,Measure}}(Tuple{Measure,Measure}[(0.50285167144697cx, -0.39596630904959945cy), (-0.8840175624557645cx, -0.9533837562506641cy)]), Compose.LinePrimitive{Tuple{Measure,Measure}}(Tuple{Measure,Measure}[(-0.6526559702469821cx, 0.22922872670661298cy), (-0.9660096060996807cx, -0.8797101287618067cy)])], Symbol(\"\"))]), List([Compose.Property{Compose.LineWidthPrimitive}(Compose.LineWidthPrimitive[Compose.LineWidthPrimitive(1.5mm)]), Compose.Property{Compose.FillPrimitive}(Compose.FillPrimitive[Compose.FillPrimitive(RGBA{Float64}(0.0,0.0,0.0,0.0))]), Compose.Property{Compose.StrokePrimitive}(Compose.StrokePrimitive[Compose.StrokePrimitive(RGBA{Float64}(0.8274509803921568,0.8274509803921568,0.8274509803921568,1.0))])]), 0, false, false, false, false, nothing, nothing, 0.0, Symbol(\"\")), Context(BBox{l,t,r,b,w,h = 0.0w,0.0h, 1.0w,1.0h, 1.0w,1.0h}, nothing, nothing, nothing, nothing, List([]), List([Compose.Form{Compose.LinePrimitive}(Compose.LinePrimitive[Compose.LinePrimitive{Tuple{Measure,Measure}}(Tuple{Measure,Measure}[(0.645445415754955cx, -0.12932926202936063cy), (0.6528145208140952cx, -0.22905737386663222cy), (0.7112734534592126cx, -0.14792443854444856cy)]), Compose.LinePrimitive{Tuple{Measure,Measure}}(Tuple{Measure,Measure}[(-0.4282417427641966cx, 0.46290324912566483cy), (-0.5026806398117072cx, 0.39612862365797596cy), (-0.40273523448446635cx, 0.39943255373797826cy)]), Compose.LinePrimitive{Tuple{Measure,Measure}}(Tuple{Measure,Measure}[(-0.41118166984764715cx, 0.27162287236531474cy), (-0.5098230868801699cx, 0.28805061858370823cy), (-0.4448189292252824cx, 0.2120607542097107cy)]), Compose.LinePrimitive{Tuple{Measure,Measure}}(Tuple{Measure,Measure}[(-0.8095822453896617cx, -0.8866051401129456cy), (-0.8840175624557645cx, -0.9533837562506641cy), (-0.7840723344001382cx, -0.9500744679723694cy)]), Compose.LinePrimitive{Tuple{Measure,Measure}}(Tuple{Measure,Measure}[(-0.973370435440302cx, -0.7799814057607662cy), (-0.9660096060996807cx, -0.8797101287618067cy), (-0.907543941037881cx, -0.7985820447903392cy)])], Symbol(\"\"))]), List([Compose.Property{Compose.LineWidthPrimitive}(Compose.LineWidthPrimitive[Compose.LineWidthPrimitive(1.5mm)]), Compose.Property{Compose.StrokePrimitive}(Compose.StrokePrimitive[Compose.StrokePrimitive(RGBA{Float64}(0.8274509803921568,0.8274509803921568,0.8274509803921568,1.0))])]), 0, false, false, false, false, nothing, nothing, 0.0, Symbol(\"\")), Context(BBox{l,t,r,b,w,h = 0.0w,0.0h, 1.0w,1.0h, 1.0w,1.0h}, nothing, nothing, nothing, nothing, List([]), List([]), List([Compose.Property{Compose.FontSizePrimitive}(Compose.FontSizePrimitive[Compose.FontSizePrimitive(4.0mm)]), Compose.Property{Compose.StrokePrimitive}(Compose.StrokePrimitive[Compose.StrokePrimitive(RGBA{Float64}(0.0,0.0,0.0,0.0))]), Compose.Property{Compose.FillPrimitive}(Compose.FillPrimitive[Compose.FillPrimitive(RGBA{Float64}(0.0,0.0,0.0,1.0))])]), 0, false, false, false, false, nothing, nothing, 0.0, Symbol(\"\")), Context(BBox{l,t,r,b,w,h = 0.0w,0.0h, 1.0w,1.0h, 1.0w,1.0h}, nothing, nothing, nothing, nothing, List([]), List([Compose.Form{Compose.CirclePrimitive{Tuple{Measure,Measure},Measure}}(Compose.CirclePrimitive{Tuple{Measure,Measure},Measure}[Compose.CirclePrimitive{Tuple{Measure,Measure},Measure}((1.0cx, 1.0cy), 0.05w), Compose.CirclePrimitive{Tuple{Measure,Measure},Measure}((0.6188341089912055cx, -0.34935006530026347cy), 0.05w), Compose.CirclePrimitive{Tuple{Measure,Measure},Measure}((-0.6186655763466627cx, 0.34951859794480633cy), 0.05w), Compose.CirclePrimitive{Tuple{Measure,Measure},Measure}((-1.0cx, -1.0cy), 0.05w)], Symbol(\"\"))]), List([Compose.Property{Compose.LineWidthPrimitive}(Compose.LineWidthPrimitive[Compose.LineWidthPrimitive(0.0mm)]), Compose.Property{Compose.StrokePrimitive}(Compose.StrokePrimitive[Compose.StrokePrimitive(RGBA{Float64}(0.0,0.0,0.0,0.0))]), Compose.Property{Compose.FillPrimitive}(Compose.FillPrimitive[Compose.FillPrimitive(RGBA{Float64}(0.25098039215686274,0.8784313725490196,0.8156862745098039,1.0))])]), 0, false, false, false, false, nothing, nothing, 0.0, Symbol(\"\")), Context(BBox{l,t,r,b,w,h = 0.0w,0.0h, 1.0w,1.0h, 1.0w,1.0h}, nothing, nothing, nothing, nothing, List([]), List([Compose.Form{Compose.TextPrimitive{Tuple{Measures.Length{:cx,Float64},Measures.Length{:cy,Float64}},Rotation{Tuple{Measures.Length{:w,Float64},Measures.Length{:h,Float64}}},Tuple{Measures.Length{:mm,Float64},Measures.Length{:mm,Float64}}}}(Compose.TextPrimitive{Tuple{Measures.Length{:cx,Float64},Measures.Length{:cy,Float64}},Rotation{Tuple{Measures.Length{:w,Float64},Measures.Length{:h,Float64}}},Tuple{Measures.Length{:mm,Float64},Measures.Length{:mm,Float64}}}[Compose.TextPrimitive{Tuple{Measures.Length{:cx,Float64},Measures.Length{:cy,Float64}},Rotation{Tuple{Measures.Length{:w,Float64},Measures.Length{:h,Float64}}},Tuple{Measures.Length{:mm,Float64},Measures.Length{:mm,Float64}}}((1.0cx, 1.0cy), \"1\", Compose.HCenter(), Compose.VCenter(), Rotation{Tuple{Measures.Length{:w,Float64},Measures.Length{:h,Float64}}}(0.0, (0.5w, 0.5h)), (0.0mm, 0.0mm)), Compose.TextPrimitive{Tuple{Measures.Length{:cx,Float64},Measures.Length{:cy,Float64}},Rotation{Tuple{Measures.Length{:w,Float64},Measures.Length{:h,Float64}}},Tuple{Measures.Length{:mm,Float64},Measures.Length{:mm,Float64}}}((0.6188341089912055cx, -0.34935006530026347cy), \"2\", Compose.HCenter(), Compose.VCenter(), Rotation{Tuple{Measures.Length{:w,Float64},Measures.Length{:h,Float64}}}(0.0, (0.5w, 0.5h)), (0.0mm, 0.0mm)), Compose.TextPrimitive{Tuple{Measures.Length{:cx,Float64},Measures.Length{:cy,Float64}},Rotation{Tuple{Measures.Length{:w,Float64},Measures.Length{:h,Float64}}},Tuple{Measures.Length{:mm,Float64},Measures.Length{:mm,Float64}}}((-0.6186655763466627cx, 0.34951859794480633cy), \"3\", Compose.HCenter(), Compose.VCenter(), Rotation{Tuple{Measures.Length{:w,Float64},Measures.Length{:h,Float64}}}(0.0, (0.5w, 0.5h)), (0.0mm, 0.0mm)), Compose.TextPrimitive{Tuple{Measures.Length{:cx,Float64},Measures.Length{:cy,Float64}},Rotation{Tuple{Measures.Length{:w,Float64},Measures.Length{:h,Float64}}},Tuple{Measures.Length{:mm,Float64},Measures.Length{:mm,Float64}}}((-1.0cx, -1.0cy), \"4\", Compose.HCenter(), Compose.VCenter(), Rotation{Tuple{Measures.Length{:w,Float64},Measures.Length{:h,Float64}}}(0.0, (0.5w, 0.5h)), (0.0mm, 0.0mm))], Symbol(\"\"))]), List([Compose.Property{Compose.FontSizePrimitive}(Compose.FontSizePrimitive[Compose.FontSizePrimitive(4.0mm)]), Compose.Property{Compose.StrokePrimitive}(Compose.StrokePrimitive[Compose.StrokePrimitive(RGBA{Float64}(0.0,0.0,0.0,0.0))]), Compose.Property{Compose.FillPrimitive}(Compose.FillPrimitive[Compose.FillPrimitive(RGBA{Float64}(0.0,0.0,0.0,1.0))])]), 0, false, false, false, false, nothing, nothing, 0.0, Symbol(\"\"))]), List([]), List([]), 0, false, false, false, false, nothing, nothing, 0.0, Symbol(\"\"))"
      ]
     },
     "execution_count": 53,
     "metadata": {},
     "output_type": "execute_result"
    }
   ],
   "source": [
    "G2 = DiGraph(4) # graph with 4 vertices\n",
    "add_edge!(G2, 1, 2)\n",
    "add_edge!(G2, 1, 3)\n",
    "add_edge!(G2, 2, 4)\n",
    "add_edge!(G2, 3, 4)\n",
    "add_edge!(G2, 2, 3)\n",
    "paths = [[1,2,4], [1,3,4], [1,2,3,4]]\n",
    "linkparams2 = [(0.1, 0.0), (0.0, 15.0), (0.0, 5.0), (0.0, 15.0), (0.1, 0.0)];\n",
    "nodelabel = 1:nv(G2)\n",
    "gplot(G2, nodelabel=nodelabel)"
   ]
  },
  {
   "cell_type": "markdown",
   "metadata": {
    "nbpresent": {
     "id": "15468295-1d8d-4194-8ef9-bf1613665865"
    },
    "slideshow": {
     "slide_type": "slide"
    }
   },
   "source": [
    "## Run the model again\n",
    "\n",
    "I have condensed all the above code into a module ```code/CG.jl```:"
   ]
  },
  {
   "cell_type": "code",
   "execution_count": 54,
   "metadata": {},
   "outputs": [
    {
     "data": {
      "text/plain": [
       "Main.CG"
      ]
     },
     "execution_count": 54,
     "metadata": {},
     "output_type": "execute_result"
    }
   ],
   "source": [
    "include(\"code/CG.jl\")"
   ]
  },
  {
   "cell_type": "code",
   "execution_count": 55,
   "metadata": {
    "nbpresent": {
     "id": "78573215-b036-43d2-a43a-c430c232d8bd"
    }
   },
   "outputs": [],
   "source": [
    "data2, p3, p4 = CG.run(G=G2, link_parameters = linkparams2);"
   ]
  },
  {
   "cell_type": "markdown",
   "metadata": {
    "nbpresent": {
     "id": "f3902cee-1ee2-4f02-bbf6-e223e213a07d"
    },
    "slideshow": {
     "slide_type": "slide"
    }
   },
   "source": [
    "## Path flows including the bridge\n",
    "\n",
    "Let's plot the number of users of each path"
   ]
  },
  {
   "cell_type": "code",
   "execution_count": 56,
   "metadata": {
    "nbpresent": {
     "id": "4a3ac46b-c89b-402c-8166-c529096c8a78"
    }
   },
   "outputs": [
    {
     "data": {
      "image/svg+xml": [
       "<?xml version=\"1.0\" encoding=\"utf-8\"?>\n",
       "<svg xmlns=\"http://www.w3.org/2000/svg\" xmlns:xlink=\"http://www.w3.org/1999/xlink\" width=\"600\" height=\"400\" viewBox=\"0 0 2400 1600\">\n",
       "<defs>\n",
       "  <clipPath id=\"clip190\">\n",
       "    <rect x=\"0\" y=\"0\" width=\"2400\" height=\"1600\"/>\n",
       "  </clipPath>\n",
       "</defs>\n",
       "<path clip-path=\"url(#clip190)\" d=\"\n",
       "M0 1600 L2400 1600 L2400 0 L0 0  Z\n",
       "  \" fill=\"#ffffff\" fill-rule=\"evenodd\" fill-opacity=\"1\"/>\n",
       "<defs>\n",
       "  <clipPath id=\"clip191\">\n",
       "    <rect x=\"480\" y=\"0\" width=\"1681\" height=\"1600\"/>\n",
       "  </clipPath>\n",
       "</defs>\n",
       "<path clip-path=\"url(#clip190)\" d=\"\n",
       "M224.866 1423.18 L2352.76 1423.18 L2352.76 47.2441 L224.866 47.2441  Z\n",
       "  \" fill=\"#ffffff\" fill-rule=\"evenodd\" fill-opacity=\"1\"/>\n",
       "<defs>\n",
       "  <clipPath id=\"clip192\">\n",
       "    <rect x=\"224\" y=\"47\" width=\"2129\" height=\"1377\"/>\n",
       "  </clipPath>\n",
       "</defs>\n",
       "<polyline clip-path=\"url(#clip192)\" style=\"stroke:#000000; stroke-width:2; stroke-opacity:0.1; fill:none\" points=\"\n",
       "  285.09,1423.18 285.09,47.2441 \n",
       "  \"/>\n",
       "<polyline clip-path=\"url(#clip192)\" style=\"stroke:#000000; stroke-width:2; stroke-opacity:0.1; fill:none\" points=\"\n",
       "  786.95,1423.18 786.95,47.2441 \n",
       "  \"/>\n",
       "<polyline clip-path=\"url(#clip192)\" style=\"stroke:#000000; stroke-width:2; stroke-opacity:0.1; fill:none\" points=\"\n",
       "  1288.81,1423.18 1288.81,47.2441 \n",
       "  \"/>\n",
       "<polyline clip-path=\"url(#clip192)\" style=\"stroke:#000000; stroke-width:2; stroke-opacity:0.1; fill:none\" points=\"\n",
       "  1790.67,1423.18 1790.67,47.2441 \n",
       "  \"/>\n",
       "<polyline clip-path=\"url(#clip192)\" style=\"stroke:#000000; stroke-width:2; stroke-opacity:0.1; fill:none\" points=\"\n",
       "  2292.53,1423.18 2292.53,47.2441 \n",
       "  \"/>\n",
       "<polyline clip-path=\"url(#clip190)\" style=\"stroke:#000000; stroke-width:4; stroke-opacity:1; fill:none\" points=\"\n",
       "  224.866,1423.18 2352.76,1423.18 \n",
       "  \"/>\n",
       "<polyline clip-path=\"url(#clip190)\" style=\"stroke:#000000; stroke-width:4; stroke-opacity:1; fill:none\" points=\"\n",
       "  285.09,1423.18 285.09,1406.67 \n",
       "  \"/>\n",
       "<polyline clip-path=\"url(#clip190)\" style=\"stroke:#000000; stroke-width:4; stroke-opacity:1; fill:none\" points=\"\n",
       "  786.95,1423.18 786.95,1406.67 \n",
       "  \"/>\n",
       "<polyline clip-path=\"url(#clip190)\" style=\"stroke:#000000; stroke-width:4; stroke-opacity:1; fill:none\" points=\"\n",
       "  1288.81,1423.18 1288.81,1406.67 \n",
       "  \"/>\n",
       "<polyline clip-path=\"url(#clip190)\" style=\"stroke:#000000; stroke-width:4; stroke-opacity:1; fill:none\" points=\"\n",
       "  1790.67,1423.18 1790.67,1406.67 \n",
       "  \"/>\n",
       "<polyline clip-path=\"url(#clip190)\" style=\"stroke:#000000; stroke-width:4; stroke-opacity:1; fill:none\" points=\"\n",
       "  2292.53,1423.18 2292.53,1406.67 \n",
       "  \"/>\n",
       "<path clip-path=\"url(#clip190)\" d=\"M 0 0 M285.09 1452.37 Q281.478 1452.37 279.65 1455.94 Q277.844 1459.48 277.844 1466.61 Q277.844 1473.71 279.65 1477.28 Q281.478 1480.82 285.09 1480.82 Q288.724 1480.82 290.529 1477.28 Q292.358 1473.71 292.358 1466.61 Q292.358 1459.48 290.529 1455.94 Q288.724 1452.37 285.09 1452.37 M285.09 1448.67 Q290.9 1448.67 293.955 1453.27 Q297.034 1457.86 297.034 1466.61 Q297.034 1475.33 293.955 1479.94 Q290.9 1484.52 285.09 1484.52 Q279.279 1484.52 276.201 1479.94 Q273.145 1475.33 273.145 1466.61 Q273.145 1457.86 276.201 1453.27 Q279.279 1448.67 285.09 1448.67 Z\" fill=\"#000000\" fill-rule=\"evenodd\" fill-opacity=\"1\" /><path clip-path=\"url(#clip190)\" d=\"M 0 0 M768.594 1479.92 L784.913 1479.92 L784.913 1483.85 L762.969 1483.85 L762.969 1479.92 Q765.631 1477.16 770.214 1472.53 Q774.821 1467.88 776.001 1466.54 Q778.247 1464.01 779.126 1462.28 Q780.029 1460.52 780.029 1458.83 Q780.029 1456.07 778.085 1454.34 Q776.163 1452.6 773.061 1452.6 Q770.862 1452.6 768.409 1453.37 Q765.978 1454.13 763.2 1455.68 L763.2 1450.96 Q766.024 1449.82 768.478 1449.25 Q770.932 1448.67 772.969 1448.67 Q778.339 1448.67 781.534 1451.35 Q784.728 1454.04 784.728 1458.53 Q784.728 1460.66 783.918 1462.58 Q783.131 1464.48 781.024 1467.07 Q780.446 1467.74 777.344 1470.96 Q774.242 1474.15 768.594 1479.92 Z\" fill=\"#000000\" fill-rule=\"evenodd\" fill-opacity=\"1\" /><path clip-path=\"url(#clip190)\" d=\"M 0 0 M790.029 1449.29 L808.385 1449.29 L808.385 1453.23 L794.311 1453.23 L794.311 1461.7 Q795.33 1461.35 796.348 1461.19 Q797.367 1461 798.385 1461 Q804.172 1461 807.552 1464.18 Q810.932 1467.35 810.932 1472.76 Q810.932 1478.34 807.459 1481.44 Q803.987 1484.52 797.668 1484.52 Q795.492 1484.52 793.223 1484.15 Q790.978 1483.78 788.571 1483.04 L788.571 1478.34 Q790.654 1479.48 792.876 1480.03 Q795.098 1480.59 797.575 1480.59 Q801.58 1480.59 803.918 1478.48 Q806.256 1476.38 806.256 1472.76 Q806.256 1469.15 803.918 1467.05 Q801.58 1464.94 797.575 1464.94 Q795.7 1464.94 793.825 1465.36 Q791.973 1465.77 790.029 1466.65 L790.029 1449.29 Z\" fill=\"#000000\" fill-rule=\"evenodd\" fill-opacity=\"1\" /><path clip-path=\"url(#clip190)\" d=\"M 0 0 M1265.58 1449.29 L1283.94 1449.29 L1283.94 1453.23 L1269.86 1453.23 L1269.86 1461.7 Q1270.88 1461.35 1271.9 1461.19 Q1272.92 1461 1273.94 1461 Q1279.73 1461 1283.11 1464.18 Q1286.48 1467.35 1286.48 1472.76 Q1286.48 1478.34 1283.01 1481.44 Q1279.54 1484.52 1273.22 1484.52 Q1271.04 1484.52 1268.78 1484.15 Q1266.53 1483.78 1264.12 1483.04 L1264.12 1478.34 Q1266.21 1479.48 1268.43 1480.03 Q1270.65 1480.59 1273.13 1480.59 Q1277.13 1480.59 1279.47 1478.48 Q1281.81 1476.38 1281.81 1472.76 Q1281.81 1469.15 1279.47 1467.05 Q1277.13 1464.94 1273.13 1464.94 Q1271.25 1464.94 1269.38 1465.36 Q1267.53 1465.77 1265.58 1466.65 L1265.58 1449.29 Z\" fill=\"#000000\" fill-rule=\"evenodd\" fill-opacity=\"1\" /><path clip-path=\"url(#clip190)\" d=\"M 0 0 M1301.55 1452.37 Q1297.94 1452.37 1296.11 1455.94 Q1294.31 1459.48 1294.31 1466.61 Q1294.31 1473.71 1296.11 1477.28 Q1297.94 1480.82 1301.55 1480.82 Q1305.19 1480.82 1306.99 1477.28 Q1308.82 1473.71 1308.82 1466.61 Q1308.82 1459.48 1306.99 1455.94 Q1305.19 1452.37 1301.55 1452.37 M1301.55 1448.67 Q1307.36 1448.67 1310.42 1453.27 Q1313.5 1457.86 1313.5 1466.61 Q1313.5 1475.33 1310.42 1479.94 Q1307.36 1484.52 1301.55 1484.52 Q1295.74 1484.52 1292.67 1479.94 Q1289.61 1475.33 1289.61 1466.61 Q1289.61 1457.86 1292.67 1453.27 Q1295.74 1448.67 1301.55 1448.67 Z\" fill=\"#000000\" fill-rule=\"evenodd\" fill-opacity=\"1\" /><path clip-path=\"url(#clip190)\" d=\"M 0 0 M1766.55 1449.29 L1788.77 1449.29 L1788.77 1451.28 L1776.23 1483.85 L1771.34 1483.85 L1783.15 1453.23 L1766.55 1453.23 L1766.55 1449.29 Z\" fill=\"#000000\" fill-rule=\"evenodd\" fill-opacity=\"1\" /><path clip-path=\"url(#clip190)\" d=\"M 0 0 M1793.89 1449.29 L1812.25 1449.29 L1812.25 1453.23 L1798.17 1453.23 L1798.17 1461.7 Q1799.19 1461.35 1800.21 1461.19 Q1801.23 1461 1802.25 1461 Q1808.03 1461 1811.41 1464.18 Q1814.79 1467.35 1814.79 1472.76 Q1814.79 1478.34 1811.32 1481.44 Q1807.85 1484.52 1801.53 1484.52 Q1799.35 1484.52 1797.08 1484.15 Q1794.84 1483.78 1792.43 1483.04 L1792.43 1478.34 Q1794.51 1479.48 1796.74 1480.03 Q1798.96 1480.59 1801.44 1480.59 Q1805.44 1480.59 1807.78 1478.48 Q1810.12 1476.38 1810.12 1472.76 Q1810.12 1469.15 1807.78 1467.05 Q1805.44 1464.94 1801.44 1464.94 Q1799.56 1464.94 1797.69 1465.36 Q1795.83 1465.77 1793.89 1466.65 L1793.89 1449.29 Z\" fill=\"#000000\" fill-rule=\"evenodd\" fill-opacity=\"1\" /><path clip-path=\"url(#clip190)\" d=\"M 0 0 M2255.9 1479.92 L2263.54 1479.92 L2263.54 1453.55 L2255.23 1455.22 L2255.23 1450.96 L2263.49 1449.29 L2268.17 1449.29 L2268.17 1479.92 L2275.81 1479.92 L2275.81 1483.85 L2255.9 1483.85 L2255.9 1479.92 Z\" fill=\"#000000\" fill-rule=\"evenodd\" fill-opacity=\"1\" /><path clip-path=\"url(#clip190)\" d=\"M 0 0 M2290.88 1452.37 Q2287.27 1452.37 2285.44 1455.94 Q2283.63 1459.48 2283.63 1466.61 Q2283.63 1473.71 2285.44 1477.28 Q2287.27 1480.82 2290.88 1480.82 Q2294.51 1480.82 2296.32 1477.28 Q2298.15 1473.71 2298.15 1466.61 Q2298.15 1459.48 2296.32 1455.94 Q2294.51 1452.37 2290.88 1452.37 M2290.88 1448.67 Q2296.69 1448.67 2299.74 1453.27 Q2302.82 1457.86 2302.82 1466.61 Q2302.82 1475.33 2299.74 1479.94 Q2296.69 1484.52 2290.88 1484.52 Q2285.07 1484.52 2281.99 1479.94 Q2278.93 1475.33 2278.93 1466.61 Q2278.93 1457.86 2281.99 1453.27 Q2285.07 1448.67 2290.88 1448.67 Z\" fill=\"#000000\" fill-rule=\"evenodd\" fill-opacity=\"1\" /><path clip-path=\"url(#clip190)\" d=\"M 0 0 M2317.89 1452.37 Q2314.28 1452.37 2312.45 1455.94 Q2310.65 1459.48 2310.65 1466.61 Q2310.65 1473.71 2312.45 1477.28 Q2314.28 1480.82 2317.89 1480.82 Q2321.53 1480.82 2323.33 1477.28 Q2325.16 1473.71 2325.16 1466.61 Q2325.16 1459.48 2323.33 1455.94 Q2321.53 1452.37 2317.89 1452.37 M2317.89 1448.67 Q2323.7 1448.67 2326.76 1453.27 Q2329.84 1457.86 2329.84 1466.61 Q2329.84 1475.33 2326.76 1479.94 Q2323.7 1484.52 2317.89 1484.52 Q2312.08 1484.52 2309 1479.94 Q2305.95 1475.33 2305.95 1466.61 Q2305.95 1457.86 2309 1453.27 Q2312.08 1448.67 2317.89 1448.67 Z\" fill=\"#000000\" fill-rule=\"evenodd\" fill-opacity=\"1\" /><path clip-path=\"url(#clip190)\" d=\"M 0 0 M1238.06 1522.08 L1238.06 1528.35 Q1234.4 1526.6 1231.15 1525.74 Q1227.91 1524.88 1224.88 1524.88 Q1219.63 1524.88 1216.77 1526.92 Q1213.93 1528.96 1213.93 1532.71 Q1213.93 1535.87 1215.81 1537.49 Q1217.72 1539.08 1223.01 1540.07 L1226.89 1540.86 Q1234.08 1542.23 1237.49 1545.7 Q1240.93 1549.14 1240.93 1554.93 Q1240.93 1561.84 1236.28 1565.4 Q1231.66 1568.97 1222.72 1568.97 Q1219.35 1568.97 1215.53 1568.2 Q1211.74 1567.44 1207.66 1565.94 L1207.66 1559.32 Q1211.58 1561.52 1215.33 1562.63 Q1219.09 1563.75 1222.72 1563.75 Q1228.23 1563.75 1231.22 1561.58 Q1234.21 1559.42 1234.21 1555.41 Q1234.21 1551.91 1232.04 1549.93 Q1229.91 1547.96 1225.01 1546.97 L1221.1 1546.21 Q1213.9 1544.78 1210.69 1541.72 Q1207.47 1538.67 1207.47 1533.22 Q1207.47 1526.92 1211.9 1523.29 Q1216.35 1519.66 1224.15 1519.66 Q1227.49 1519.66 1230.96 1520.27 Q1234.43 1520.87 1238.06 1522.08 Z\" fill=\"#000000\" fill-rule=\"evenodd\" fill-opacity=\"1\" /><path clip-path=\"url(#clip190)\" d=\"M 0 0 M1252.86 1522.27 L1252.86 1532.4 L1264.92 1532.4 L1264.92 1536.95 L1252.86 1536.95 L1252.86 1556.3 Q1252.86 1560.66 1254.04 1561.9 Q1255.25 1563.14 1258.91 1563.14 L1264.92 1563.14 L1264.92 1568.04 L1258.91 1568.04 Q1252.13 1568.04 1249.55 1565.53 Q1246.97 1562.98 1246.97 1556.3 L1246.97 1536.95 L1242.68 1536.95 L1242.68 1532.4 L1246.97 1532.4 L1246.97 1522.27 L1252.86 1522.27 Z\" fill=\"#000000\" fill-rule=\"evenodd\" fill-opacity=\"1\" /><path clip-path=\"url(#clip190)\" d=\"M 0 0 M1301.56 1548.76 L1301.56 1551.62 L1274.63 1551.62 Q1275.01 1557.67 1278.26 1560.85 Q1281.54 1564 1287.36 1564 Q1290.74 1564 1293.89 1563.17 Q1297.07 1562.35 1300.19 1560.69 L1300.19 1566.23 Q1297.04 1567.57 1293.73 1568.27 Q1290.42 1568.97 1287.01 1568.97 Q1278.48 1568.97 1273.49 1564 Q1268.52 1559.04 1268.52 1550.57 Q1268.52 1541.82 1273.23 1536.69 Q1277.97 1531.54 1285.99 1531.54 Q1293.19 1531.54 1297.36 1536.18 Q1301.56 1540.8 1301.56 1548.76 M1295.7 1547.04 Q1295.64 1542.23 1293 1539.37 Q1290.39 1536.5 1286.06 1536.5 Q1281.16 1536.5 1278.2 1539.27 Q1275.27 1542.04 1274.82 1547.07 L1295.7 1547.04 Z\" fill=\"#000000\" fill-rule=\"evenodd\" fill-opacity=\"1\" /><path clip-path=\"url(#clip190)\" d=\"M 0 0 M1313.37 1562.7 L1313.37 1581.6 L1307.48 1581.6 L1307.48 1532.4 L1313.37 1532.4 L1313.37 1537.81 Q1315.21 1534.62 1318.01 1533.1 Q1320.85 1531.54 1324.76 1531.54 Q1331.25 1531.54 1335.3 1536.69 Q1339.37 1541.85 1339.37 1550.25 Q1339.37 1558.65 1335.3 1563.81 Q1331.25 1568.97 1324.76 1568.97 Q1320.85 1568.97 1318.01 1567.44 Q1315.21 1565.88 1313.37 1562.7 M1333.29 1550.25 Q1333.29 1543.79 1330.62 1540.13 Q1327.98 1536.44 1323.33 1536.44 Q1318.68 1536.44 1316.01 1540.13 Q1313.37 1543.79 1313.37 1550.25 Q1313.37 1556.71 1316.01 1560.4 Q1318.68 1564.07 1323.33 1564.07 Q1327.98 1564.07 1330.62 1560.4 Q1333.29 1556.71 1333.29 1550.25 Z\" fill=\"#000000\" fill-rule=\"evenodd\" fill-opacity=\"1\" /><path clip-path=\"url(#clip190)\" d=\"M 0 0 M1368.24 1533.45 L1368.24 1538.98 Q1365.76 1537.71 1363.08 1537.07 Q1360.41 1536.44 1357.54 1536.44 Q1353.18 1536.44 1350.99 1537.77 Q1348.82 1539.11 1348.82 1541.79 Q1348.82 1543.82 1350.38 1545 Q1351.94 1546.15 1356.65 1547.2 L1358.66 1547.64 Q1364.9 1548.98 1367.51 1551.43 Q1370.15 1553.85 1370.15 1558.21 Q1370.15 1563.17 1366.2 1566.07 Q1362.29 1568.97 1355.41 1568.97 Q1352.55 1568.97 1349.43 1568.39 Q1346.34 1567.85 1342.9 1566.74 L1342.9 1560.69 Q1346.15 1562.38 1349.3 1563.24 Q1352.45 1564.07 1355.54 1564.07 Q1359.68 1564.07 1361.91 1562.66 Q1364.13 1561.23 1364.13 1558.65 Q1364.13 1556.27 1362.51 1554.99 Q1360.92 1553.72 1355.48 1552.54 L1353.44 1552.07 Q1348 1550.92 1345.58 1548.56 Q1343.16 1546.18 1343.16 1542.04 Q1343.16 1537.01 1346.72 1534.27 Q1350.29 1531.54 1356.84 1531.54 Q1360.09 1531.54 1362.96 1532.01 Q1365.82 1532.49 1368.24 1533.45 Z\" fill=\"#000000\" fill-rule=\"evenodd\" fill-opacity=\"1\" /><polyline clip-path=\"url(#clip192)\" style=\"stroke:#000000; stroke-width:2; stroke-opacity:0.1; fill:none\" points=\"\n",
       "  224.866,1202.79 2352.76,1202.79 \n",
       "  \"/>\n",
       "<polyline clip-path=\"url(#clip192)\" style=\"stroke:#000000; stroke-width:2; stroke-opacity:0.1; fill:none\" points=\"\n",
       "  224.866,923.639 2352.76,923.639 \n",
       "  \"/>\n",
       "<polyline clip-path=\"url(#clip192)\" style=\"stroke:#000000; stroke-width:2; stroke-opacity:0.1; fill:none\" points=\"\n",
       "  224.866,644.488 2352.76,644.488 \n",
       "  \"/>\n",
       "<polyline clip-path=\"url(#clip192)\" style=\"stroke:#000000; stroke-width:2; stroke-opacity:0.1; fill:none\" points=\"\n",
       "  224.866,365.337 2352.76,365.337 \n",
       "  \"/>\n",
       "<polyline clip-path=\"url(#clip192)\" style=\"stroke:#000000; stroke-width:2; stroke-opacity:0.1; fill:none\" points=\"\n",
       "  224.866,86.1857 2352.76,86.1857 \n",
       "  \"/>\n",
       "<polyline clip-path=\"url(#clip190)\" style=\"stroke:#000000; stroke-width:4; stroke-opacity:1; fill:none\" points=\"\n",
       "  224.866,1423.18 224.866,47.2441 \n",
       "  \"/>\n",
       "<polyline clip-path=\"url(#clip190)\" style=\"stroke:#000000; stroke-width:4; stroke-opacity:1; fill:none\" points=\"\n",
       "  224.866,1202.79 250.401,1202.79 \n",
       "  \"/>\n",
       "<polyline clip-path=\"url(#clip190)\" style=\"stroke:#000000; stroke-width:4; stroke-opacity:1; fill:none\" points=\"\n",
       "  224.866,923.639 250.401,923.639 \n",
       "  \"/>\n",
       "<polyline clip-path=\"url(#clip190)\" style=\"stroke:#000000; stroke-width:4; stroke-opacity:1; fill:none\" points=\"\n",
       "  224.866,644.488 250.401,644.488 \n",
       "  \"/>\n",
       "<polyline clip-path=\"url(#clip190)\" style=\"stroke:#000000; stroke-width:4; stroke-opacity:1; fill:none\" points=\"\n",
       "  224.866,365.337 250.401,365.337 \n",
       "  \"/>\n",
       "<polyline clip-path=\"url(#clip190)\" style=\"stroke:#000000; stroke-width:4; stroke-opacity:1; fill:none\" points=\"\n",
       "  224.866,86.1857 250.401,86.1857 \n",
       "  \"/>\n",
       "<path clip-path=\"url(#clip190)\" d=\"M 0 0 M145.533 1216.13 L161.852 1216.13 L161.852 1220.07 L139.908 1220.07 L139.908 1216.13 Q142.57 1213.38 147.153 1208.75 Q151.76 1204.1 152.941 1202.76 Q155.186 1200.23 156.065 1198.5 Q156.968 1196.74 156.968 1195.05 Q156.968 1192.29 155.024 1190.56 Q153.103 1188.82 150.001 1188.82 Q147.802 1188.82 145.348 1189.58 Q142.917 1190.35 140.14 1191.9 L140.14 1187.18 Q142.964 1186.04 145.417 1185.46 Q147.871 1184.89 149.908 1184.89 Q155.278 1184.89 158.473 1187.57 Q161.667 1190.26 161.667 1194.75 Q161.667 1196.88 160.857 1198.8 Q160.07 1200.7 157.964 1203.29 Q157.385 1203.96 154.283 1207.18 Q151.181 1210.37 145.533 1216.13 Z\" fill=\"#000000\" fill-rule=\"evenodd\" fill-opacity=\"1\" /><path clip-path=\"url(#clip190)\" d=\"M 0 0 M176.922 1188.59 Q173.311 1188.59 171.482 1192.15 Q169.677 1195.7 169.677 1202.82 Q169.677 1209.93 171.482 1213.5 Q173.311 1217.04 176.922 1217.04 Q180.556 1217.04 182.362 1213.5 Q184.19 1209.93 184.19 1202.82 Q184.19 1195.7 182.362 1192.15 Q180.556 1188.59 176.922 1188.59 M176.922 1184.89 Q182.732 1184.89 185.788 1189.49 Q188.866 1194.07 188.866 1202.82 Q188.866 1211.55 185.788 1216.16 Q182.732 1220.74 176.922 1220.74 Q171.112 1220.74 168.033 1216.16 Q164.977 1211.55 164.977 1202.82 Q164.977 1194.07 168.033 1189.49 Q171.112 1184.89 176.922 1184.89 Z\" fill=\"#000000\" fill-rule=\"evenodd\" fill-opacity=\"1\" /><path clip-path=\"url(#clip190)\" d=\"M 0 0 M152.269 910.433 L140.464 928.882 L152.269 928.882 L152.269 910.433 M151.042 906.359 L156.922 906.359 L156.922 928.882 L161.852 928.882 L161.852 932.771 L156.922 932.771 L156.922 940.919 L152.269 940.919 L152.269 932.771 L136.667 932.771 L136.667 928.257 L151.042 906.359 Z\" fill=\"#000000\" fill-rule=\"evenodd\" fill-opacity=\"1\" /><path clip-path=\"url(#clip190)\" d=\"M 0 0 M176.922 909.438 Q173.311 909.438 171.482 913.002 Q169.677 916.544 169.677 923.674 Q169.677 930.78 171.482 934.345 Q173.311 937.887 176.922 937.887 Q180.556 937.887 182.362 934.345 Q184.19 930.78 184.19 923.674 Q184.19 916.544 182.362 913.002 Q180.556 909.438 176.922 909.438 M176.922 905.734 Q182.732 905.734 185.788 910.34 Q188.866 914.924 188.866 923.674 Q188.866 932.4 185.788 937.007 Q182.732 941.59 176.922 941.59 Q171.112 941.59 168.033 937.007 Q164.977 932.4 164.977 923.674 Q164.977 914.924 168.033 910.34 Q171.112 905.734 176.922 905.734 Z\" fill=\"#000000\" fill-rule=\"evenodd\" fill-opacity=\"1\" /><path clip-path=\"url(#clip190)\" d=\"M 0 0 M150.325 642.624 Q147.177 642.624 145.325 644.777 Q143.496 646.93 143.496 650.68 Q143.496 654.407 145.325 656.583 Q147.177 658.735 150.325 658.735 Q153.473 658.735 155.302 656.583 Q157.153 654.407 157.153 650.68 Q157.153 646.93 155.302 644.777 Q153.473 642.624 150.325 642.624 M159.607 627.972 L159.607 632.231 Q157.848 631.398 156.042 630.958 Q154.26 630.518 152.501 630.518 Q147.871 630.518 145.417 633.643 Q142.987 636.768 142.64 643.087 Q144.005 641.074 146.066 640.009 Q148.126 638.921 150.603 638.921 Q155.811 638.921 158.82 642.092 Q161.852 645.24 161.852 650.68 Q161.852 656.004 158.704 659.222 Q155.556 662.439 150.325 662.439 Q144.329 662.439 141.158 657.856 Q137.987 653.249 137.987 644.523 Q137.987 636.328 141.876 631.467 Q145.765 626.583 152.316 626.583 Q154.075 626.583 155.857 626.93 Q157.663 627.277 159.607 627.972 Z\" fill=\"#000000\" fill-rule=\"evenodd\" fill-opacity=\"1\" /><path clip-path=\"url(#clip190)\" d=\"M 0 0 M176.922 630.287 Q173.311 630.287 171.482 633.851 Q169.677 637.393 169.677 644.523 Q169.677 651.629 171.482 655.194 Q173.311 658.735 176.922 658.735 Q180.556 658.735 182.362 655.194 Q184.19 651.629 184.19 644.523 Q184.19 637.393 182.362 633.851 Q180.556 630.287 176.922 630.287 M176.922 626.583 Q182.732 626.583 185.788 631.189 Q188.866 635.773 188.866 644.523 Q188.866 653.249 185.788 657.856 Q182.732 662.439 176.922 662.439 Q171.112 662.439 168.033 657.856 Q164.977 653.249 164.977 644.523 Q164.977 635.773 168.033 631.189 Q171.112 626.583 176.922 626.583 Z\" fill=\"#000000\" fill-rule=\"evenodd\" fill-opacity=\"1\" /><path clip-path=\"url(#clip190)\" d=\"M 0 0 M150.001 366.205 Q146.667 366.205 144.746 367.987 Q142.848 369.77 142.848 372.895 Q142.848 376.02 144.746 377.802 Q146.667 379.584 150.001 379.584 Q153.334 379.584 155.255 377.802 Q157.177 375.996 157.177 372.895 Q157.177 369.77 155.255 367.987 Q153.357 366.205 150.001 366.205 M145.325 364.214 Q142.316 363.473 140.626 361.413 Q138.959 359.353 138.959 356.39 Q138.959 352.247 141.899 349.839 Q144.862 347.432 150.001 347.432 Q155.163 347.432 158.103 349.839 Q161.042 352.247 161.042 356.39 Q161.042 359.353 159.353 361.413 Q157.686 363.473 154.7 364.214 Q158.079 365.001 159.954 367.293 Q161.852 369.584 161.852 372.895 Q161.852 377.918 158.774 380.603 Q155.718 383.288 150.001 383.288 Q144.283 383.288 141.204 380.603 Q138.149 377.918 138.149 372.895 Q138.149 369.584 140.047 367.293 Q141.945 365.001 145.325 364.214 M143.612 356.83 Q143.612 359.515 145.279 361.02 Q146.968 362.524 150.001 362.524 Q153.01 362.524 154.7 361.02 Q156.413 359.515 156.413 356.83 Q156.413 354.145 154.7 352.64 Q153.01 351.135 150.001 351.135 Q146.968 351.135 145.279 352.64 Q143.612 354.145 143.612 356.83 Z\" fill=\"#000000\" fill-rule=\"evenodd\" fill-opacity=\"1\" /><path clip-path=\"url(#clip190)\" d=\"M 0 0 M176.922 351.135 Q173.311 351.135 171.482 354.7 Q169.677 358.242 169.677 365.371 Q169.677 372.478 171.482 376.043 Q173.311 379.584 176.922 379.584 Q180.556 379.584 182.362 376.043 Q184.19 372.478 184.19 365.371 Q184.19 358.242 182.362 354.7 Q180.556 351.135 176.922 351.135 M176.922 347.432 Q182.732 347.432 185.788 352.038 Q188.866 356.622 188.866 365.371 Q188.866 374.098 185.788 378.705 Q182.732 383.288 176.922 383.288 Q171.112 383.288 168.033 378.705 Q164.977 374.098 164.977 365.371 Q164.977 356.622 168.033 352.038 Q171.112 347.432 176.922 347.432 Z\" fill=\"#000000\" fill-rule=\"evenodd\" fill-opacity=\"1\" /><path clip-path=\"url(#clip190)\" d=\"M 0 0 M114.931 99.5305 L122.57 99.5305 L122.57 73.1649 L114.26 74.8316 L114.26 70.5723 L122.524 68.9057 L127.2 68.9057 L127.2 99.5305 L134.839 99.5305 L134.839 103.466 L114.931 103.466 L114.931 99.5305 Z\" fill=\"#000000\" fill-rule=\"evenodd\" fill-opacity=\"1\" /><path clip-path=\"url(#clip190)\" d=\"M 0 0 M149.908 71.9844 Q146.297 71.9844 144.468 75.5492 Q142.663 79.0908 142.663 86.2204 Q142.663 93.3268 144.468 96.8916 Q146.297 100.433 149.908 100.433 Q153.542 100.433 155.348 96.8916 Q157.177 93.3268 157.177 86.2204 Q157.177 79.0908 155.348 75.5492 Q153.542 71.9844 149.908 71.9844 M149.908 68.2807 Q155.718 68.2807 158.774 72.8871 Q161.852 77.4704 161.852 86.2204 Q161.852 94.9472 158.774 99.5537 Q155.718 104.137 149.908 104.137 Q144.098 104.137 141.019 99.5537 Q137.964 94.9472 137.964 86.2204 Q137.964 77.4704 141.019 72.8871 Q144.098 68.2807 149.908 68.2807 Z\" fill=\"#000000\" fill-rule=\"evenodd\" fill-opacity=\"1\" /><path clip-path=\"url(#clip190)\" d=\"M 0 0 M176.922 71.9844 Q173.311 71.9844 171.482 75.5492 Q169.677 79.0908 169.677 86.2204 Q169.677 93.3268 171.482 96.8916 Q173.311 100.433 176.922 100.433 Q180.556 100.433 182.362 96.8916 Q184.19 93.3268 184.19 86.2204 Q184.19 79.0908 182.362 75.5492 Q180.556 71.9844 176.922 71.9844 M176.922 68.2807 Q182.732 68.2807 185.788 72.8871 Q188.866 77.4704 188.866 86.2204 Q188.866 94.9472 185.788 99.5537 Q182.732 104.137 176.922 104.137 Q171.112 104.137 168.033 99.5537 Q164.977 94.9472 164.977 86.2204 Q164.977 77.4704 168.033 72.8871 Q171.112 68.2807 176.922 68.2807 Z\" fill=\"#000000\" fill-rule=\"evenodd\" fill-opacity=\"1\" /><path clip-path=\"url(#clip190)\" d=\"M 0 0 M16.4842 815.897 L16.4842 809.436 L45.3526 809.436 Q52.9915 809.436 56.3653 806.667 Q59.7073 803.898 59.7073 797.691 Q59.7073 791.517 56.3653 788.748 Q52.9915 785.978 45.3526 785.978 L16.4842 785.978 L16.4842 779.517 L46.1484 779.517 Q55.4423 779.517 60.1847 784.132 Q64.9272 788.716 64.9272 797.691 Q64.9272 806.699 60.1847 811.314 Q55.4423 815.897 46.1484 815.897 L16.4842 815.897 Z\" fill=\"#000000\" fill-rule=\"evenodd\" fill-opacity=\"1\" /><path clip-path=\"url(#clip190)\" d=\"M 0 0 M29.4065 750.649 L34.9447 750.649 Q33.6716 753.131 33.035 755.805 Q32.3984 758.479 32.3984 761.343 Q32.3984 765.704 33.7352 767.9 Q35.072 770.064 37.7456 770.064 Q39.7826 770.064 40.9603 768.505 Q42.1061 766.945 43.1565 762.234 L43.6021 760.229 Q44.9389 753.991 47.3897 751.381 Q49.8086 748.739 54.1691 748.739 Q59.1344 748.739 62.0308 752.686 Q64.9272 756.601 64.9272 763.476 Q64.9272 766.34 64.3543 769.459 Q63.8132 772.547 62.6992 775.984 L56.6518 775.984 Q58.3387 772.738 59.198 769.587 Q60.0256 766.436 60.0256 763.348 Q60.0256 759.211 58.6251 756.983 Q57.1929 754.755 54.6147 754.755 Q52.2276 754.755 50.9545 756.378 Q49.6813 757.969 48.5037 763.412 L48.0262 765.449 Q46.8804 770.892 44.5251 773.311 Q42.138 775.73 38.0002 775.73 Q32.9713 775.73 30.2341 772.165 Q27.4968 768.6 27.4968 762.043 Q27.4968 758.797 27.9743 755.932 Q28.4517 753.068 29.4065 750.649 Z\" fill=\"#000000\" fill-rule=\"evenodd\" fill-opacity=\"1\" /><path clip-path=\"url(#clip190)\" d=\"M 0 0 M44.7161 712.104 L47.5806 712.104 L47.5806 739.031 Q53.6281 738.649 56.8109 735.403 Q59.9619 732.125 59.9619 726.3 Q59.9619 722.926 59.1344 719.775 Q58.3069 716.592 56.6518 713.473 L62.1899 713.473 Q63.5267 716.624 64.227 719.934 Q64.9272 723.244 64.9272 726.65 Q64.9272 735.18 59.9619 740.177 Q54.9967 745.142 46.5303 745.142 Q37.7774 745.142 32.6531 740.432 Q27.4968 735.689 27.4968 727.669 Q27.4968 720.475 32.1438 716.306 Q36.7589 712.104 44.7161 712.104 M42.9973 717.961 Q38.1912 718.025 35.3266 720.666 Q32.4621 723.276 32.4621 727.605 Q32.4621 732.507 35.2312 735.467 Q38.0002 738.395 43.0292 738.84 L42.9973 717.961 Z\" fill=\"#000000\" fill-rule=\"evenodd\" fill-opacity=\"1\" /><path clip-path=\"url(#clip190)\" d=\"M 0 0 M33.8307 685.305 Q33.2578 686.292 33.0032 687.469 Q32.7167 688.615 32.7167 690.015 Q32.7167 694.981 35.9632 697.654 Q39.1779 700.296 45.2253 700.296 L64.0042 700.296 L64.0042 706.184 L28.3562 706.184 L28.3562 700.296 L33.8944 700.296 Q30.6479 698.45 29.0883 695.49 Q27.4968 692.53 27.4968 688.297 Q27.4968 687.692 27.5923 686.96 Q27.656 686.228 27.8151 685.337 L33.8307 685.305 Z\" fill=\"#000000\" fill-rule=\"evenodd\" fill-opacity=\"1\" /><path clip-path=\"url(#clip190)\" d=\"M 0 0 M29.4065 656.436 L34.9447 656.436 Q33.6716 658.919 33.035 661.593 Q32.3984 664.266 32.3984 667.131 Q32.3984 671.491 33.7352 673.687 Q35.072 675.852 37.7456 675.852 Q39.7826 675.852 40.9603 674.292 Q42.1061 672.733 43.1565 668.022 L43.6021 666.017 Q44.9389 659.778 47.3897 657.168 Q49.8086 654.527 54.1691 654.527 Q59.1344 654.527 62.0308 658.473 Q64.9272 662.388 64.9272 669.263 Q64.9272 672.128 64.3543 675.247 Q63.8132 678.334 62.6992 681.772 L56.6518 681.772 Q58.3387 678.525 59.198 675.374 Q60.0256 672.223 60.0256 669.136 Q60.0256 664.998 58.6251 662.77 Q57.1929 660.542 54.6147 660.542 Q52.2276 660.542 50.9545 662.165 Q49.6813 663.757 48.5037 669.2 L48.0262 671.237 Q46.8804 676.679 44.5251 679.098 Q42.138 681.517 38.0002 681.517 Q32.9713 681.517 30.2341 677.952 Q27.4968 674.388 27.4968 667.831 Q27.4968 664.584 27.9743 661.72 Q28.4517 658.855 29.4065 656.436 Z\" fill=\"#000000\" fill-rule=\"evenodd\" fill-opacity=\"1\" /><polyline clip-path=\"url(#clip192)\" style=\"stroke:#009af9; stroke-width:4; stroke-opacity:1; fill:none\" points=\"\n",
       "  285.09,86.1857 305.164,86.1857 325.238,337.422 345.313,560.743 365.387,672.403 385.462,742.191 405.536,825.936 425.611,853.851 445.685,881.766 465.759,951.554 \n",
       "  485.834,965.512 505.908,965.512 525.983,979.469 546.057,1021.34 566.132,1035.3 586.206,1077.17 606.28,1091.13 626.355,1119.04 646.429,1119.04 666.504,1119.04 \n",
       "  686.578,1119.04 706.653,1119.04 726.727,1146.96 746.801,1146.96 766.876,1146.96 786.95,1146.96 807.025,1174.87 827.099,1174.87 847.174,1174.87 867.248,1188.83 \n",
       "  887.322,1216.75 907.397,1216.75 927.471,1216.75 947.546,1216.75 967.62,1216.75 987.695,1216.75 1007.77,1230.71 1027.84,1244.66 1047.92,1244.66 1067.99,1244.66 \n",
       "  1088.07,1244.66 1108.14,1258.62 1128.22,1258.62 1148.29,1258.62 1168.36,1272.58 1188.44,1272.58 1208.51,1272.58 1228.59,1272.58 1248.66,1286.54 1268.74,1286.54 \n",
       "  1288.81,1286.54 1308.89,1286.54 1328.96,1286.54 1349.03,1286.54 1369.11,1286.54 1389.18,1286.54 1409.26,1286.54 1429.33,1286.54 1449.41,1300.49 1469.48,1300.49 \n",
       "  1489.56,1300.49 1509.63,1300.49 1529.7,1300.49 1549.78,1314.45 1569.85,1314.45 1589.93,1314.45 1610,1314.45 1630.08,1314.45 1650.15,1314.45 1670.23,1314.45 \n",
       "  1690.3,1314.45 1710.37,1328.41 1730.45,1342.37 1750.52,1342.37 1770.6,1342.37 1790.67,1342.37 1810.75,1342.37 1830.82,1342.37 1850.9,1342.37 1870.97,1342.37 \n",
       "  1891.04,1342.37 1911.12,1342.37 1931.19,1342.37 1951.27,1342.37 1971.34,1342.37 1991.42,1342.37 2011.49,1342.37 2031.57,1342.37 2051.64,1356.32 2071.71,1356.32 \n",
       "  2091.79,1356.32 2111.86,1356.32 2131.94,1356.32 2152.01,1356.32 2172.09,1356.32 2192.16,1356.32 2212.23,1356.32 2232.31,1356.32 2252.38,1356.32 2272.46,1356.32 \n",
       "  2292.53,1356.32 \n",
       "  \"/>\n",
       "<polyline clip-path=\"url(#clip192)\" style=\"stroke:#e26f46; stroke-width:4; stroke-opacity:1; fill:none\" points=\"\n",
       "  325.238,1384.24 345.313,1314.45 365.387,1272.58 385.462,1244.66 405.536,1202.79 425.611,1202.79 445.685,1174.87 465.759,1160.92 485.834,1160.92 505.908,1160.92 \n",
       "  525.983,1160.92 546.057,1160.92 566.132,1174.87 586.206,1160.92 606.28,1160.92 626.355,1160.92 646.429,1160.92 666.504,1160.92 686.578,1174.87 706.653,1188.83 \n",
       "  726.727,1188.83 746.801,1188.83 766.876,1188.83 786.95,1188.83 807.025,1202.79 827.099,1202.79 847.174,1202.79 867.248,1202.79 887.322,1216.75 907.397,1216.75 \n",
       "  927.471,1216.75 947.546,1230.71 967.62,1244.66 987.695,1244.66 1007.77,1244.66 1027.84,1230.71 1047.92,1244.66 1067.99,1244.66 1088.07,1244.66 1108.14,1244.66 \n",
       "  1128.22,1244.66 1148.29,1244.66 1168.36,1244.66 1188.44,1244.66 1208.51,1258.62 1228.59,1286.54 1248.66,1300.49 1268.74,1300.49 1288.81,1300.49 1308.89,1300.49 \n",
       "  1328.96,1300.49 1349.03,1300.49 1369.11,1300.49 1389.18,1300.49 1409.26,1300.49 1429.33,1300.49 1449.41,1300.49 1469.48,1300.49 1489.56,1300.49 1509.63,1300.49 \n",
       "  1529.7,1300.49 1549.78,1314.45 1569.85,1314.45 1589.93,1314.45 1610,1314.45 1630.08,1314.45 1650.15,1314.45 1670.23,1314.45 1690.3,1314.45 1710.37,1328.41 \n",
       "  1730.45,1328.41 1750.52,1328.41 1770.6,1342.37 1790.67,1342.37 1810.75,1342.37 1830.82,1342.37 1850.9,1356.32 1870.97,1356.32 1891.04,1356.32 1911.12,1356.32 \n",
       "  1931.19,1356.32 1951.27,1370.28 1971.34,1370.28 1991.42,1370.28 2011.49,1370.28 2031.57,1370.28 2051.64,1370.28 2071.71,1370.28 2091.79,1370.28 2111.86,1370.28 \n",
       "  2131.94,1370.28 2152.01,1370.28 2172.09,1370.28 2192.16,1370.28 2212.23,1370.28 2232.31,1370.28 2252.38,1370.28 2272.46,1370.28 2292.53,1370.28 \n",
       "  \"/>\n",
       "<polyline clip-path=\"url(#clip192)\" style=\"stroke:#3da44d; stroke-width:4; stroke-opacity:1; fill:none\" points=\"\n",
       "  325.238,1328.41 345.313,1174.87 365.387,1105.09 385.462,1063.21 405.536,1021.34 425.611,993.427 445.685,993.427 465.759,937.597 485.834,923.639 505.908,923.639 \n",
       "  525.983,909.681 546.057,867.809 566.132,839.894 586.206,811.979 606.28,798.021 626.355,770.106 646.429,770.106 666.504,770.106 686.578,756.148 706.653,742.191 \n",
       "  726.727,714.276 746.801,714.276 766.876,714.276 786.95,714.276 807.025,672.403 827.099,672.403 847.174,672.403 867.248,658.445 887.322,616.573 907.397,616.573 \n",
       "  927.471,616.573 947.546,602.615 967.62,588.658 987.695,588.658 1007.77,574.7 1027.84,574.7 1047.92,560.743 1067.99,560.743 1088.07,560.743 1108.14,546.785 \n",
       "  1128.22,546.785 1148.29,546.785 1168.36,532.827 1188.44,532.827 1208.51,518.87 1228.59,490.955 1248.66,463.04 1268.74,463.04 1288.81,463.04 1308.89,463.04 \n",
       "  1328.96,463.04 1349.03,463.04 1369.11,463.04 1389.18,463.04 1409.26,463.04 1429.33,463.04 1449.41,449.082 1469.48,449.082 1489.56,449.082 1509.63,449.082 \n",
       "  1529.7,449.082 1549.78,421.167 1569.85,421.167 1589.93,421.167 1610,421.167 1630.08,421.167 1650.15,421.167 1670.23,421.167 1690.3,421.167 1710.37,393.252 \n",
       "  1730.45,379.294 1750.52,379.294 1770.6,365.337 1790.67,365.337 1810.75,365.337 1830.82,365.337 1850.9,351.379 1870.97,351.379 1891.04,351.379 1911.12,351.379 \n",
       "  1931.19,351.379 1951.27,337.422 1971.34,337.422 1991.42,337.422 2011.49,337.422 2031.57,337.422 2051.64,323.464 2071.71,323.464 2091.79,323.464 2111.86,323.464 \n",
       "  2131.94,323.464 2152.01,323.464 2172.09,323.464 2192.16,323.464 2212.23,323.464 2232.31,323.464 2252.38,323.464 2272.46,323.464 2292.53,323.464 \n",
       "  \"/>\n",
       "<path clip-path=\"url(#clip190)\" d=\"\n",
       "M1632.43 335.029 L2281.83 335.029 L2281.83 93.1086 L1632.43 93.1086  Z\n",
       "  \" fill=\"#ffffff\" fill-rule=\"evenodd\" fill-opacity=\"1\"/>\n",
       "<polyline clip-path=\"url(#clip190)\" style=\"stroke:#000000; stroke-width:4; stroke-opacity:1; fill:none\" points=\"\n",
       "  1632.43,335.029 2281.83,335.029 2281.83,93.1086 1632.43,93.1086 1632.43,335.029 \n",
       "  \"/>\n",
       "<polyline clip-path=\"url(#clip190)\" style=\"stroke:#009af9; stroke-width:4; stroke-opacity:1; fill:none\" points=\"\n",
       "  1656.08,153.589 1797.94,153.589 \n",
       "  \"/>\n",
       "<path clip-path=\"url(#clip190)\" d=\"M 0 0 M1837.97 154.665 Q1839.47 155.174 1840.88 156.841 Q1842.32 158.508 1843.75 161.424 L1848.5 170.869 L1843.48 170.869 L1839.06 162.003 Q1837.34 158.531 1835.72 157.396 Q1834.13 156.262 1831.35 156.262 L1826.25 156.262 L1826.25 170.869 L1821.58 170.869 L1821.58 136.309 L1832.13 136.309 Q1838.06 136.309 1840.98 138.785 Q1843.89 141.262 1843.89 146.262 Q1843.89 149.526 1842.37 151.679 Q1840.86 153.832 1837.97 154.665 M1826.25 140.151 L1826.25 152.42 L1832.13 152.42 Q1835.51 152.42 1837.23 150.869 Q1838.96 149.295 1838.96 146.262 Q1838.96 143.23 1837.23 141.702 Q1835.51 140.151 1832.13 140.151 L1826.25 140.151 Z\" fill=\"#000000\" fill-rule=\"evenodd\" fill-opacity=\"1\" /><path clip-path=\"url(#clip190)\" d=\"M 0 0 M1860.88 147.929 Q1857.46 147.929 1855.47 150.614 Q1853.48 153.276 1853.48 157.929 Q1853.48 162.582 1855.44 165.267 Q1857.44 167.929 1860.88 167.929 Q1864.29 167.929 1866.28 165.244 Q1868.27 162.558 1868.27 157.929 Q1868.27 153.322 1866.28 150.637 Q1864.29 147.929 1860.88 147.929 M1860.88 144.318 Q1866.44 144.318 1869.61 147.929 Q1872.78 151.54 1872.78 157.929 Q1872.78 164.295 1869.61 167.929 Q1866.44 171.54 1860.88 171.54 Q1855.31 171.54 1852.13 167.929 Q1848.99 164.295 1848.99 157.929 Q1848.99 151.54 1852.13 147.929 Q1855.31 144.318 1860.88 144.318 Z\" fill=\"#000000\" fill-rule=\"evenodd\" fill-opacity=\"1\" /><path clip-path=\"url(#clip190)\" d=\"M 0 0 M1876.81 160.637 L1876.81 144.943 L1881.07 144.943 L1881.07 160.475 Q1881.07 164.156 1882.5 166.008 Q1883.94 167.836 1886.81 167.836 Q1890.26 167.836 1892.25 165.637 Q1894.26 163.438 1894.26 159.642 L1894.26 144.943 L1898.52 144.943 L1898.52 170.869 L1894.26 170.869 L1894.26 166.887 Q1892.71 169.248 1890.65 170.406 Q1888.62 171.54 1885.91 171.54 Q1881.44 171.54 1879.13 168.762 Q1876.81 165.984 1876.81 160.637 M1887.53 144.318 L1887.53 144.318 Z\" fill=\"#000000\" fill-rule=\"evenodd\" fill-opacity=\"1\" /><path clip-path=\"url(#clip190)\" d=\"M 0 0 M1907.2 137.582 L1907.2 144.943 L1915.98 144.943 L1915.98 148.253 L1907.2 148.253 L1907.2 162.327 Q1907.2 165.498 1908.06 166.401 Q1908.94 167.304 1911.6 167.304 L1915.98 167.304 L1915.98 170.869 L1911.6 170.869 Q1906.67 170.869 1904.8 169.04 Q1902.92 167.188 1902.92 162.327 L1902.92 148.253 L1899.8 148.253 L1899.8 144.943 L1902.92 144.943 L1902.92 137.582 L1907.2 137.582 Z\" fill=\"#000000\" fill-rule=\"evenodd\" fill-opacity=\"1\" /><path clip-path=\"url(#clip190)\" d=\"M 0 0 M1942.62 156.841 L1942.62 158.924 L1923.04 158.924 Q1923.31 163.322 1925.68 165.637 Q1928.06 167.929 1932.3 167.929 Q1934.75 167.929 1937.04 167.327 Q1939.36 166.725 1941.62 165.521 L1941.62 169.549 Q1939.33 170.521 1936.93 171.031 Q1934.52 171.54 1932.04 171.54 Q1925.84 171.54 1922.2 167.929 Q1918.59 164.318 1918.59 158.16 Q1918.59 151.795 1922.02 148.068 Q1925.47 144.318 1931.3 144.318 Q1936.53 144.318 1939.56 147.697 Q1942.62 151.054 1942.62 156.841 M1938.36 155.591 Q1938.31 152.096 1936.39 150.012 Q1934.5 147.929 1931.35 147.929 Q1927.78 147.929 1925.63 149.943 Q1923.5 151.957 1923.18 155.614 L1938.36 155.591 Z\" fill=\"#000000\" fill-rule=\"evenodd\" fill-opacity=\"1\" /><path clip-path=\"url(#clip190)\" d=\"M 0 0 M1963.57 166.933 L1971.21 166.933 L1971.21 140.568 L1962.9 142.235 L1962.9 137.975 L1971.16 136.309 L1975.84 136.309 L1975.84 166.933 L1983.48 166.933 L1983.48 170.869 L1963.57 170.869 L1963.57 166.933 Z\" fill=\"#000000\" fill-rule=\"evenodd\" fill-opacity=\"1\" /><path clip-path=\"url(#clip190)\" d=\"M 0 0 M2004.1 164.989 L2008.99 164.989 L2008.99 170.869 L2004.1 170.869 L2004.1 164.989 M2004.1 146.355 L2008.99 146.355 L2008.99 152.234 L2004.1 152.234 L2004.1 146.355 Z\" fill=\"#000000\" fill-rule=\"evenodd\" fill-opacity=\"1\" /><path clip-path=\"url(#clip190)\" d=\"M 0 0 M2028.13 134.85 L2037.94 134.85 L2037.94 138.16 L2032.39 138.16 L2032.39 173.808 L2037.94 173.808 L2037.94 177.119 L2028.13 177.119 L2028.13 134.85 Z\" fill=\"#000000\" fill-rule=\"evenodd\" fill-opacity=\"1\" /><path clip-path=\"url(#clip190)\" d=\"M 0 0 M2043.82 166.933 L2051.46 166.933 L2051.46 140.568 L2043.15 142.235 L2043.15 137.975 L2051.42 136.309 L2056.09 136.309 L2056.09 166.933 L2063.73 166.933 L2063.73 170.869 L2043.82 170.869 L2043.82 166.933 Z\" fill=\"#000000\" fill-rule=\"evenodd\" fill-opacity=\"1\" /><path clip-path=\"url(#clip190)\" d=\"M 0 0 M2069.29 164.989 L2074.17 164.989 L2074.17 168.97 L2070.37 176.378 L2067.39 176.378 L2069.29 168.97 L2069.29 164.989 Z\" fill=\"#000000\" fill-rule=\"evenodd\" fill-opacity=\"1\" /><path clip-path=\"url(#clip190)\" d=\"M 0 0 M2108.48 152.234 Q2111.83 152.952 2113.71 155.221 Q2115.61 157.489 2115.61 160.822 Q2115.61 165.938 2112.09 168.739 Q2108.57 171.54 2102.09 171.54 Q2099.91 171.54 2097.6 171.1 Q2095.3 170.683 2092.85 169.827 L2092.85 165.313 Q2094.8 166.447 2097.11 167.026 Q2099.42 167.605 2101.95 167.605 Q2106.35 167.605 2108.64 165.869 Q2110.95 164.133 2110.95 160.822 Q2110.95 157.767 2108.8 156.054 Q2106.67 154.318 2102.85 154.318 L2098.82 154.318 L2098.82 150.475 L2103.04 150.475 Q2106.48 150.475 2108.31 149.109 Q2110.14 147.721 2110.14 145.128 Q2110.14 142.466 2108.24 141.054 Q2106.37 139.619 2102.85 139.619 Q2100.93 139.619 2098.73 140.035 Q2096.53 140.452 2093.89 141.332 L2093.89 137.165 Q2096.55 136.424 2098.87 136.054 Q2101.21 135.684 2103.27 135.684 Q2108.59 135.684 2111.69 138.114 Q2114.8 140.522 2114.8 144.642 Q2114.8 147.512 2113.15 149.503 Q2111.51 151.471 2108.48 152.234 Z\" fill=\"#000000\" fill-rule=\"evenodd\" fill-opacity=\"1\" /><path clip-path=\"url(#clip190)\" d=\"M 0 0 M2121.16 164.989 L2126.05 164.989 L2126.05 168.97 L2122.25 176.378 L2119.26 176.378 L2121.16 168.97 L2121.16 164.989 Z\" fill=\"#000000\" fill-rule=\"evenodd\" fill-opacity=\"1\" /><path clip-path=\"url(#clip190)\" d=\"M 0 0 M2159.03 140.383 L2147.23 158.832 L2159.03 158.832 L2159.03 140.383 M2157.8 136.309 L2163.68 136.309 L2163.68 158.832 L2168.61 158.832 L2168.61 162.721 L2163.68 162.721 L2163.68 170.869 L2159.03 170.869 L2159.03 162.721 L2143.43 162.721 L2143.43 158.207 L2157.8 136.309 Z\" fill=\"#000000\" fill-rule=\"evenodd\" fill-opacity=\"1\" /><path clip-path=\"url(#clip190)\" d=\"M 0 0 M2183.04 134.85 L2183.04 177.119 L2173.22 177.119 L2173.22 173.808 L2178.75 173.808 L2178.75 138.16 L2173.22 138.16 L2173.22 134.85 L2183.04 134.85 Z\" fill=\"#000000\" fill-rule=\"evenodd\" fill-opacity=\"1\" /><polyline clip-path=\"url(#clip190)\" style=\"stroke:#e26f46; stroke-width:4; stroke-opacity:1; fill:none\" points=\"\n",
       "  1656.08,214.069 1797.94,214.069 \n",
       "  \"/>\n",
       "<path clip-path=\"url(#clip190)\" d=\"M 0 0 M1837.97 215.145 Q1839.47 215.654 1840.88 217.321 Q1842.32 218.988 1843.75 221.904 L1848.5 231.349 L1843.48 231.349 L1839.06 222.483 Q1837.34 219.011 1835.72 217.876 Q1834.13 216.742 1831.35 216.742 L1826.25 216.742 L1826.25 231.349 L1821.58 231.349 L1821.58 196.789 L1832.13 196.789 Q1838.06 196.789 1840.98 199.265 Q1843.89 201.742 1843.89 206.742 Q1843.89 210.006 1842.37 212.159 Q1840.86 214.312 1837.97 215.145 M1826.25 200.631 L1826.25 212.9 L1832.13 212.9 Q1835.51 212.9 1837.23 211.349 Q1838.96 209.775 1838.96 206.742 Q1838.96 203.71 1837.23 202.182 Q1835.51 200.631 1832.13 200.631 L1826.25 200.631 Z\" fill=\"#000000\" fill-rule=\"evenodd\" fill-opacity=\"1\" /><path clip-path=\"url(#clip190)\" d=\"M 0 0 M1860.88 208.409 Q1857.46 208.409 1855.47 211.094 Q1853.48 213.756 1853.48 218.409 Q1853.48 223.062 1855.44 225.747 Q1857.44 228.409 1860.88 228.409 Q1864.29 228.409 1866.28 225.724 Q1868.27 223.038 1868.27 218.409 Q1868.27 213.802 1866.28 211.117 Q1864.29 208.409 1860.88 208.409 M1860.88 204.798 Q1866.44 204.798 1869.61 208.409 Q1872.78 212.02 1872.78 218.409 Q1872.78 224.775 1869.61 228.409 Q1866.44 232.02 1860.88 232.02 Q1855.31 232.02 1852.13 228.409 Q1848.99 224.775 1848.99 218.409 Q1848.99 212.02 1852.13 208.409 Q1855.31 204.798 1860.88 204.798 Z\" fill=\"#000000\" fill-rule=\"evenodd\" fill-opacity=\"1\" /><path clip-path=\"url(#clip190)\" d=\"M 0 0 M1876.81 221.117 L1876.81 205.423 L1881.07 205.423 L1881.07 220.955 Q1881.07 224.636 1882.5 226.488 Q1883.94 228.316 1886.81 228.316 Q1890.26 228.316 1892.25 226.117 Q1894.26 223.918 1894.26 220.122 L1894.26 205.423 L1898.52 205.423 L1898.52 231.349 L1894.26 231.349 L1894.26 227.367 Q1892.71 229.728 1890.65 230.886 Q1888.62 232.02 1885.91 232.02 Q1881.44 232.02 1879.13 229.242 Q1876.81 226.464 1876.81 221.117 M1887.53 204.798 L1887.53 204.798 Z\" fill=\"#000000\" fill-rule=\"evenodd\" fill-opacity=\"1\" /><path clip-path=\"url(#clip190)\" d=\"M 0 0 M1907.2 198.062 L1907.2 205.423 L1915.98 205.423 L1915.98 208.733 L1907.2 208.733 L1907.2 222.807 Q1907.2 225.978 1908.06 226.881 Q1908.94 227.784 1911.6 227.784 L1915.98 227.784 L1915.98 231.349 L1911.6 231.349 Q1906.67 231.349 1904.8 229.52 Q1902.92 227.668 1902.92 222.807 L1902.92 208.733 L1899.8 208.733 L1899.8 205.423 L1902.92 205.423 L1902.92 198.062 L1907.2 198.062 Z\" fill=\"#000000\" fill-rule=\"evenodd\" fill-opacity=\"1\" /><path clip-path=\"url(#clip190)\" d=\"M 0 0 M1942.62 217.321 L1942.62 219.404 L1923.04 219.404 Q1923.31 223.802 1925.68 226.117 Q1928.06 228.409 1932.3 228.409 Q1934.75 228.409 1937.04 227.807 Q1939.36 227.205 1941.62 226.001 L1941.62 230.029 Q1939.33 231.001 1936.93 231.511 Q1934.52 232.02 1932.04 232.02 Q1925.84 232.02 1922.2 228.409 Q1918.59 224.798 1918.59 218.64 Q1918.59 212.275 1922.02 208.548 Q1925.47 204.798 1931.3 204.798 Q1936.53 204.798 1939.56 208.177 Q1942.62 211.534 1942.62 217.321 M1938.36 216.071 Q1938.31 212.576 1936.39 210.492 Q1934.5 208.409 1931.35 208.409 Q1927.78 208.409 1925.63 210.423 Q1923.5 212.437 1923.18 216.094 L1938.36 216.071 Z\" fill=\"#000000\" fill-rule=\"evenodd\" fill-opacity=\"1\" /><path clip-path=\"url(#clip190)\" d=\"M 0 0 M1966.79 227.413 L1983.11 227.413 L1983.11 231.349 L1961.16 231.349 L1961.16 227.413 Q1963.82 224.659 1968.41 220.029 Q1973.01 215.376 1974.19 214.034 Q1976.44 211.511 1977.32 209.775 Q1978.22 208.015 1978.22 206.326 Q1978.22 203.571 1976.28 201.835 Q1974.36 200.099 1971.25 200.099 Q1969.06 200.099 1966.6 200.863 Q1964.17 201.627 1961.39 203.177 L1961.39 198.455 Q1964.22 197.321 1966.67 196.742 Q1969.12 196.164 1971.16 196.164 Q1976.53 196.164 1979.73 198.849 Q1982.92 201.534 1982.92 206.025 Q1982.92 208.154 1982.11 210.076 Q1981.32 211.974 1979.22 214.566 Q1978.64 215.238 1975.54 218.455 Q1972.43 221.65 1966.79 227.413 Z\" fill=\"#000000\" fill-rule=\"evenodd\" fill-opacity=\"1\" /><path clip-path=\"url(#clip190)\" d=\"M 0 0 M2003.73 225.469 L2008.62 225.469 L2008.62 231.349 L2003.73 231.349 L2003.73 225.469 M2003.73 206.835 L2008.62 206.835 L2008.62 212.714 L2003.73 212.714 L2003.73 206.835 Z\" fill=\"#000000\" fill-rule=\"evenodd\" fill-opacity=\"1\" /><path clip-path=\"url(#clip190)\" d=\"M 0 0 M2027.76 195.33 L2037.57 195.33 L2037.57 198.64 L2032.02 198.64 L2032.02 234.288 L2037.57 234.288 L2037.57 237.599 L2027.76 237.599 L2027.76 195.33 Z\" fill=\"#000000\" fill-rule=\"evenodd\" fill-opacity=\"1\" /><path clip-path=\"url(#clip190)\" d=\"M 0 0 M2043.45 227.413 L2051.09 227.413 L2051.09 201.048 L2042.78 202.715 L2042.78 198.455 L2051.05 196.789 L2055.72 196.789 L2055.72 227.413 L2063.36 227.413 L2063.36 231.349 L2043.45 231.349 L2043.45 227.413 Z\" fill=\"#000000\" fill-rule=\"evenodd\" fill-opacity=\"1\" /><path clip-path=\"url(#clip190)\" d=\"M 0 0 M2068.92 225.469 L2073.8 225.469 L2073.8 229.45 L2070 236.858 L2067.02 236.858 L2068.92 229.45 L2068.92 225.469 Z\" fill=\"#000000\" fill-rule=\"evenodd\" fill-opacity=\"1\" /><path clip-path=\"url(#clip190)\" d=\"M 0 0 M2097.97 227.413 L2114.29 227.413 L2114.29 231.349 L2092.34 231.349 L2092.34 227.413 Q2095 224.659 2099.59 220.029 Q2104.19 215.376 2105.37 214.034 Q2107.62 211.511 2108.5 209.775 Q2109.4 208.015 2109.4 206.326 Q2109.4 203.571 2107.46 201.835 Q2105.54 200.099 2102.43 200.099 Q2100.23 200.099 2097.78 200.863 Q2095.35 201.627 2092.57 203.177 L2092.57 198.455 Q2095.4 197.321 2097.85 196.742 Q2100.3 196.164 2102.34 196.164 Q2107.71 196.164 2110.91 198.849 Q2114.1 201.534 2114.1 206.025 Q2114.1 208.154 2113.29 210.076 Q2112.5 211.974 2110.4 214.566 Q2109.82 215.238 2106.72 218.455 Q2103.61 221.65 2097.97 227.413 Z\" fill=\"#000000\" fill-rule=\"evenodd\" fill-opacity=\"1\" /><path clip-path=\"url(#clip190)\" d=\"M 0 0 M2119.84 225.469 L2124.73 225.469 L2124.73 229.45 L2120.93 236.858 L2117.94 236.858 L2119.84 229.45 L2119.84 225.469 Z\" fill=\"#000000\" fill-rule=\"evenodd\" fill-opacity=\"1\" /><path clip-path=\"url(#clip190)\" d=\"M 0 0 M2157.71 200.863 L2145.91 219.312 L2157.71 219.312 L2157.71 200.863 M2156.48 196.789 L2162.36 196.789 L2162.36 219.312 L2167.29 219.312 L2167.29 223.201 L2162.36 223.201 L2162.36 231.349 L2157.71 231.349 L2157.71 223.201 L2142.11 223.201 L2142.11 218.687 L2156.48 196.789 Z\" fill=\"#000000\" fill-rule=\"evenodd\" fill-opacity=\"1\" /><path clip-path=\"url(#clip190)\" d=\"M 0 0 M2181.72 195.33 L2181.72 237.599 L2171.9 237.599 L2171.9 234.288 L2177.43 234.288 L2177.43 198.64 L2171.9 198.64 L2171.9 195.33 L2181.72 195.33 Z\" fill=\"#000000\" fill-rule=\"evenodd\" fill-opacity=\"1\" /><polyline clip-path=\"url(#clip190)\" style=\"stroke:#3da44d; stroke-width:4; stroke-opacity:1; fill:none\" points=\"\n",
       "  1656.08,274.549 1797.94,274.549 \n",
       "  \"/>\n",
       "<path clip-path=\"url(#clip190)\" d=\"M 0 0 M1837.97 275.625 Q1839.47 276.134 1840.88 277.801 Q1842.32 279.468 1843.75 282.384 L1848.5 291.829 L1843.48 291.829 L1839.06 282.963 Q1837.34 279.491 1835.72 278.356 Q1834.13 277.222 1831.35 277.222 L1826.25 277.222 L1826.25 291.829 L1821.58 291.829 L1821.58 257.269 L1832.13 257.269 Q1838.06 257.269 1840.98 259.745 Q1843.89 262.222 1843.89 267.222 Q1843.89 270.486 1842.37 272.639 Q1840.86 274.792 1837.97 275.625 M1826.25 261.111 L1826.25 273.38 L1832.13 273.38 Q1835.51 273.38 1837.23 271.829 Q1838.96 270.255 1838.96 267.222 Q1838.96 264.19 1837.23 262.662 Q1835.51 261.111 1832.13 261.111 L1826.25 261.111 Z\" fill=\"#000000\" fill-rule=\"evenodd\" fill-opacity=\"1\" /><path clip-path=\"url(#clip190)\" d=\"M 0 0 M1860.88 268.889 Q1857.46 268.889 1855.47 271.574 Q1853.48 274.236 1853.48 278.889 Q1853.48 283.542 1855.44 286.227 Q1857.44 288.889 1860.88 288.889 Q1864.29 288.889 1866.28 286.204 Q1868.27 283.518 1868.27 278.889 Q1868.27 274.282 1866.28 271.597 Q1864.29 268.889 1860.88 268.889 M1860.88 265.278 Q1866.44 265.278 1869.61 268.889 Q1872.78 272.5 1872.78 278.889 Q1872.78 285.255 1869.61 288.889 Q1866.44 292.5 1860.88 292.5 Q1855.31 292.5 1852.13 288.889 Q1848.99 285.255 1848.99 278.889 Q1848.99 272.5 1852.13 268.889 Q1855.31 265.278 1860.88 265.278 Z\" fill=\"#000000\" fill-rule=\"evenodd\" fill-opacity=\"1\" /><path clip-path=\"url(#clip190)\" d=\"M 0 0 M1876.81 281.597 L1876.81 265.903 L1881.07 265.903 L1881.07 281.435 Q1881.07 285.116 1882.5 286.968 Q1883.94 288.796 1886.81 288.796 Q1890.26 288.796 1892.25 286.597 Q1894.26 284.398 1894.26 280.602 L1894.26 265.903 L1898.52 265.903 L1898.52 291.829 L1894.26 291.829 L1894.26 287.847 Q1892.71 290.208 1890.65 291.366 Q1888.62 292.5 1885.91 292.5 Q1881.44 292.5 1879.13 289.722 Q1876.81 286.944 1876.81 281.597 M1887.53 265.278 L1887.53 265.278 Z\" fill=\"#000000\" fill-rule=\"evenodd\" fill-opacity=\"1\" /><path clip-path=\"url(#clip190)\" d=\"M 0 0 M1907.2 258.542 L1907.2 265.903 L1915.98 265.903 L1915.98 269.213 L1907.2 269.213 L1907.2 283.287 Q1907.2 286.458 1908.06 287.361 Q1908.94 288.264 1911.6 288.264 L1915.98 288.264 L1915.98 291.829 L1911.6 291.829 Q1906.67 291.829 1904.8 290 Q1902.92 288.148 1902.92 283.287 L1902.92 269.213 L1899.8 269.213 L1899.8 265.903 L1902.92 265.903 L1902.92 258.542 L1907.2 258.542 Z\" fill=\"#000000\" fill-rule=\"evenodd\" fill-opacity=\"1\" /><path clip-path=\"url(#clip190)\" d=\"M 0 0 M1942.62 277.801 L1942.62 279.884 L1923.04 279.884 Q1923.31 284.282 1925.68 286.597 Q1928.06 288.889 1932.3 288.889 Q1934.75 288.889 1937.04 288.287 Q1939.36 287.685 1941.62 286.481 L1941.62 290.509 Q1939.33 291.481 1936.93 291.991 Q1934.52 292.5 1932.04 292.5 Q1925.84 292.5 1922.2 288.889 Q1918.59 285.278 1918.59 279.12 Q1918.59 272.755 1922.02 269.028 Q1925.47 265.278 1931.3 265.278 Q1936.53 265.278 1939.56 268.657 Q1942.62 272.014 1942.62 277.801 M1938.36 276.551 Q1938.31 273.056 1936.39 270.972 Q1934.5 268.889 1931.35 268.889 Q1927.78 268.889 1925.63 270.903 Q1923.5 272.917 1923.18 276.574 L1938.36 276.551 Z\" fill=\"#000000\" fill-rule=\"evenodd\" fill-opacity=\"1\" /><path clip-path=\"url(#clip190)\" d=\"M 0 0 M1976.93 273.194 Q1980.28 273.912 1982.16 276.181 Q1984.06 278.449 1984.06 281.782 Q1984.06 286.898 1980.54 289.699 Q1977.02 292.5 1970.54 292.5 Q1968.36 292.5 1966.05 292.06 Q1963.75 291.643 1961.3 290.787 L1961.3 286.273 Q1963.24 287.407 1965.56 287.986 Q1967.87 288.565 1970.4 288.565 Q1974.8 288.565 1977.09 286.829 Q1979.4 285.093 1979.4 281.782 Q1979.4 278.727 1977.25 277.014 Q1975.12 275.278 1971.3 275.278 L1967.27 275.278 L1967.27 271.435 L1971.49 271.435 Q1974.93 271.435 1976.76 270.069 Q1978.59 268.681 1978.59 266.088 Q1978.59 263.426 1976.69 262.014 Q1974.82 260.579 1971.3 260.579 Q1969.38 260.579 1967.18 260.995 Q1964.98 261.412 1962.34 262.292 L1962.34 258.125 Q1965 257.384 1967.32 257.014 Q1969.66 256.644 1971.72 256.644 Q1977.04 256.644 1980.14 259.074 Q1983.24 261.482 1983.24 265.602 Q1983.24 268.472 1981.6 270.463 Q1979.96 272.431 1976.93 273.194 Z\" fill=\"#000000\" fill-rule=\"evenodd\" fill-opacity=\"1\" /><path clip-path=\"url(#clip190)\" d=\"M 0 0 M2004.68 285.949 L2009.56 285.949 L2009.56 291.829 L2004.68 291.829 L2004.68 285.949 M2004.68 267.315 L2009.56 267.315 L2009.56 273.194 L2004.68 273.194 L2004.68 267.315 Z\" fill=\"#000000\" fill-rule=\"evenodd\" fill-opacity=\"1\" /><path clip-path=\"url(#clip190)\" d=\"M 0 0 M2028.71 255.81 L2038.52 255.81 L2038.52 259.12 L2032.97 259.12 L2032.97 294.768 L2038.52 294.768 L2038.52 298.079 L2028.71 298.079 L2028.71 255.81 Z\" fill=\"#000000\" fill-rule=\"evenodd\" fill-opacity=\"1\" /><path clip-path=\"url(#clip190)\" d=\"M 0 0 M2044.4 287.893 L2052.04 287.893 L2052.04 261.528 L2043.73 263.195 L2043.73 258.935 L2051.99 257.269 L2056.67 257.269 L2056.67 287.893 L2064.31 287.893 L2064.31 291.829 L2044.4 291.829 L2044.4 287.893 Z\" fill=\"#000000\" fill-rule=\"evenodd\" fill-opacity=\"1\" /><path clip-path=\"url(#clip190)\" d=\"M 0 0 M2069.86 285.949 L2074.75 285.949 L2074.75 289.93 L2070.95 297.338 L2067.97 297.338 L2069.86 289.93 L2069.86 285.949 Z\" fill=\"#000000\" fill-rule=\"evenodd\" fill-opacity=\"1\" /><path clip-path=\"url(#clip190)\" d=\"M 0 0 M2098.92 287.893 L2115.23 287.893 L2115.23 291.829 L2093.29 291.829 L2093.29 287.893 Q2095.95 285.139 2100.54 280.509 Q2105.14 275.856 2106.32 274.514 Q2108.57 271.991 2109.45 270.255 Q2110.35 268.495 2110.35 266.806 Q2110.35 264.051 2108.41 262.315 Q2106.48 260.579 2103.38 260.579 Q2101.18 260.579 2098.73 261.343 Q2096.3 262.107 2093.52 263.657 L2093.52 258.935 Q2096.35 257.801 2098.8 257.222 Q2101.25 256.644 2103.29 256.644 Q2108.66 256.644 2111.86 259.329 Q2115.05 262.014 2115.05 266.505 Q2115.05 268.634 2114.24 270.556 Q2113.45 272.454 2111.35 275.046 Q2110.77 275.718 2107.67 278.935 Q2104.56 282.13 2098.92 287.893 Z\" fill=\"#000000\" fill-rule=\"evenodd\" fill-opacity=\"1\" /><path clip-path=\"url(#clip190)\" d=\"M 0 0 M2120.79 285.949 L2125.67 285.949 L2125.67 289.93 L2121.88 297.338 L2118.89 297.338 L2120.79 289.93 L2120.79 285.949 Z\" fill=\"#000000\" fill-rule=\"evenodd\" fill-opacity=\"1\" /><path clip-path=\"url(#clip190)\" d=\"M 0 0 M2159.98 273.194 Q2163.34 273.912 2165.21 276.181 Q2167.11 278.449 2167.11 281.782 Q2167.11 286.898 2163.59 289.699 Q2160.07 292.5 2153.59 292.5 Q2151.42 292.5 2149.1 292.06 Q2146.81 291.643 2144.36 290.787 L2144.36 286.273 Q2146.3 287.407 2148.61 287.986 Q2150.93 288.565 2153.45 288.565 Q2157.85 288.565 2160.14 286.829 Q2162.46 285.093 2162.46 281.782 Q2162.46 278.727 2160.3 277.014 Q2158.17 275.278 2154.36 275.278 L2150.33 275.278 L2150.33 271.435 L2154.54 271.435 Q2157.99 271.435 2159.82 270.069 Q2161.65 268.681 2161.65 266.088 Q2161.65 263.426 2159.75 262.014 Q2157.87 260.579 2154.36 260.579 Q2152.43 260.579 2150.23 260.995 Q2148.04 261.412 2145.4 262.292 L2145.4 258.125 Q2148.06 257.384 2150.37 257.014 Q2152.71 256.644 2154.77 256.644 Q2160.1 256.644 2163.2 259.074 Q2166.3 261.482 2166.3 265.602 Q2166.3 268.472 2164.66 270.463 Q2163.01 272.431 2159.98 273.194 Z\" fill=\"#000000\" fill-rule=\"evenodd\" fill-opacity=\"1\" /><path clip-path=\"url(#clip190)\" d=\"M 0 0 M2172.67 285.949 L2177.55 285.949 L2177.55 289.93 L2173.75 297.338 L2170.77 297.338 L2172.67 289.93 L2172.67 285.949 Z\" fill=\"#000000\" fill-rule=\"evenodd\" fill-opacity=\"1\" /><path clip-path=\"url(#clip190)\" d=\"M 0 0 M2210.54 261.343 L2198.73 279.792 L2210.54 279.792 L2210.54 261.343 M2209.31 257.269 L2215.19 257.269 L2215.19 279.792 L2220.12 279.792 L2220.12 283.681 L2215.19 283.681 L2215.19 291.829 L2210.54 291.829 L2210.54 283.681 L2194.93 283.681 L2194.93 279.167 L2209.31 257.269 Z\" fill=\"#000000\" fill-rule=\"evenodd\" fill-opacity=\"1\" /><path clip-path=\"url(#clip190)\" d=\"M 0 0 M2234.54 255.81 L2234.54 298.079 L2224.73 298.079 L2224.73 294.768 L2230.26 294.768 L2230.26 259.12 L2224.73 259.12 L2224.73 255.81 L2234.54 255.81 Z\" fill=\"#000000\" fill-rule=\"evenodd\" fill-opacity=\"1\" /></svg>\n"
      ]
     },
     "execution_count": 56,
     "metadata": {},
     "output_type": "execute_result"
    }
   ],
   "source": [
    "p4"
   ]
  },
  {
   "cell_type": "markdown",
   "metadata": {
    "nbpresent": {
     "id": "96432101-5059-4585-afb1-fd90e63eb008"
    }
   },
   "source": [
    "The agents are now all switching to route 3 (including the bridge). It must be faster right?"
   ]
  },
  {
   "cell_type": "markdown",
   "metadata": {
    "nbpresent": {
     "id": "e880add7-478a-4e60-8e97-95f20531e834"
    },
    "slideshow": {
     "slide_type": "slide"
    }
   },
   "source": [
    "## Average travel time\n",
    "\n",
    "Wrong! When all agents switch to route 2, the average travel time now tends to 25 minutes."
   ]
  },
  {
   "cell_type": "code",
   "execution_count": 57,
   "metadata": {
    "nbpresent": {
     "id": "74cc3fd1-b30f-4bc5-92ba-e088f3125ad3"
    }
   },
   "outputs": [
    {
     "data": {
      "image/svg+xml": [
       "<?xml version=\"1.0\" encoding=\"utf-8\"?>\n",
       "<svg xmlns=\"http://www.w3.org/2000/svg\" xmlns:xlink=\"http://www.w3.org/1999/xlink\" width=\"600\" height=\"400\" viewBox=\"0 0 2400 1600\">\n",
       "<defs>\n",
       "  <clipPath id=\"clip230\">\n",
       "    <rect x=\"0\" y=\"0\" width=\"2400\" height=\"1600\"/>\n",
       "  </clipPath>\n",
       "</defs>\n",
       "<path clip-path=\"url(#clip230)\" d=\"\n",
       "M0 1600 L2400 1600 L2400 0 L0 0  Z\n",
       "  \" fill=\"#ffffff\" fill-rule=\"evenodd\" fill-opacity=\"1\"/>\n",
       "<defs>\n",
       "  <clipPath id=\"clip231\">\n",
       "    <rect x=\"480\" y=\"0\" width=\"1681\" height=\"1600\"/>\n",
       "  </clipPath>\n",
       "</defs>\n",
       "<path clip-path=\"url(#clip230)\" d=\"\n",
       "M202.459 1423.18 L2352.76 1423.18 L2352.76 47.2441 L202.459 47.2441  Z\n",
       "  \" fill=\"#ffffff\" fill-rule=\"evenodd\" fill-opacity=\"1\"/>\n",
       "<defs>\n",
       "  <clipPath id=\"clip232\">\n",
       "    <rect x=\"202\" y=\"47\" width=\"2151\" height=\"1377\"/>\n",
       "  </clipPath>\n",
       "</defs>\n",
       "<polyline clip-path=\"url(#clip232)\" style=\"stroke:#000000; stroke-width:2; stroke-opacity:0.1; fill:none\" points=\"\n",
       "  242.826,1423.18 242.826,47.2441 \n",
       "  \"/>\n",
       "<polyline clip-path=\"url(#clip232)\" style=\"stroke:#000000; stroke-width:2; stroke-opacity:0.1; fill:none\" points=\"\n",
       "  755.094,1423.18 755.094,47.2441 \n",
       "  \"/>\n",
       "<polyline clip-path=\"url(#clip232)\" style=\"stroke:#000000; stroke-width:2; stroke-opacity:0.1; fill:none\" points=\"\n",
       "  1267.36,1423.18 1267.36,47.2441 \n",
       "  \"/>\n",
       "<polyline clip-path=\"url(#clip232)\" style=\"stroke:#000000; stroke-width:2; stroke-opacity:0.1; fill:none\" points=\"\n",
       "  1779.63,1423.18 1779.63,47.2441 \n",
       "  \"/>\n",
       "<polyline clip-path=\"url(#clip232)\" style=\"stroke:#000000; stroke-width:2; stroke-opacity:0.1; fill:none\" points=\"\n",
       "  2291.9,1423.18 2291.9,47.2441 \n",
       "  \"/>\n",
       "<polyline clip-path=\"url(#clip230)\" style=\"stroke:#000000; stroke-width:4; stroke-opacity:1; fill:none\" points=\"\n",
       "  202.459,1423.18 2352.76,1423.18 \n",
       "  \"/>\n",
       "<polyline clip-path=\"url(#clip230)\" style=\"stroke:#000000; stroke-width:4; stroke-opacity:1; fill:none\" points=\"\n",
       "  242.826,1423.18 242.826,1406.67 \n",
       "  \"/>\n",
       "<polyline clip-path=\"url(#clip230)\" style=\"stroke:#000000; stroke-width:4; stroke-opacity:1; fill:none\" points=\"\n",
       "  755.094,1423.18 755.094,1406.67 \n",
       "  \"/>\n",
       "<polyline clip-path=\"url(#clip230)\" style=\"stroke:#000000; stroke-width:4; stroke-opacity:1; fill:none\" points=\"\n",
       "  1267.36,1423.18 1267.36,1406.67 \n",
       "  \"/>\n",
       "<polyline clip-path=\"url(#clip230)\" style=\"stroke:#000000; stroke-width:4; stroke-opacity:1; fill:none\" points=\"\n",
       "  1779.63,1423.18 1779.63,1406.67 \n",
       "  \"/>\n",
       "<polyline clip-path=\"url(#clip230)\" style=\"stroke:#000000; stroke-width:4; stroke-opacity:1; fill:none\" points=\"\n",
       "  2291.9,1423.18 2291.9,1406.67 \n",
       "  \"/>\n",
       "<path clip-path=\"url(#clip230)\" d=\"M 0 0 M242.826 1452.37 Q239.215 1452.37 237.386 1455.94 Q235.58 1459.48 235.58 1466.61 Q235.58 1473.71 237.386 1477.28 Q239.215 1480.82 242.826 1480.82 Q246.46 1480.82 248.265 1477.28 Q250.094 1473.71 250.094 1466.61 Q250.094 1459.48 248.265 1455.94 Q246.46 1452.37 242.826 1452.37 M242.826 1448.67 Q248.636 1448.67 251.691 1453.27 Q254.77 1457.86 254.77 1466.61 Q254.77 1475.33 251.691 1479.94 Q248.636 1484.52 242.826 1484.52 Q237.016 1484.52 233.937 1479.94 Q230.881 1475.33 230.881 1466.61 Q230.881 1457.86 233.937 1453.27 Q237.016 1448.67 242.826 1448.67 Z\" fill=\"#000000\" fill-rule=\"evenodd\" fill-opacity=\"1\" /><path clip-path=\"url(#clip230)\" d=\"M 0 0 M736.737 1479.92 L753.057 1479.92 L753.057 1483.85 L731.113 1483.85 L731.113 1479.92 Q733.775 1477.16 738.358 1472.53 Q742.964 1467.88 744.145 1466.54 Q746.39 1464.01 747.27 1462.28 Q748.173 1460.52 748.173 1458.83 Q748.173 1456.07 746.228 1454.34 Q744.307 1452.6 741.205 1452.6 Q739.006 1452.6 736.552 1453.37 Q734.122 1454.13 731.344 1455.68 L731.344 1450.96 Q734.168 1449.82 736.622 1449.25 Q739.075 1448.67 741.112 1448.67 Q746.483 1448.67 749.677 1451.35 Q752.872 1454.04 752.872 1458.53 Q752.872 1460.66 752.061 1462.58 Q751.274 1464.48 749.168 1467.07 Q748.589 1467.74 745.487 1470.96 Q742.386 1474.15 736.737 1479.92 Z\" fill=\"#000000\" fill-rule=\"evenodd\" fill-opacity=\"1\" /><path clip-path=\"url(#clip230)\" d=\"M 0 0 M758.173 1449.29 L776.529 1449.29 L776.529 1453.23 L762.455 1453.23 L762.455 1461.7 Q763.473 1461.35 764.492 1461.19 Q765.51 1461 766.529 1461 Q772.316 1461 775.696 1464.18 Q779.075 1467.35 779.075 1472.76 Q779.075 1478.34 775.603 1481.44 Q772.131 1484.52 765.811 1484.52 Q763.635 1484.52 761.367 1484.15 Q759.122 1483.78 756.714 1483.04 L756.714 1478.34 Q758.798 1479.48 761.02 1480.03 Q763.242 1480.59 765.719 1480.59 Q769.723 1480.59 772.061 1478.48 Q774.399 1476.38 774.399 1472.76 Q774.399 1469.15 772.061 1467.05 Q769.723 1464.94 765.719 1464.94 Q763.844 1464.94 761.969 1465.36 Q760.117 1465.77 758.173 1466.65 L758.173 1449.29 Z\" fill=\"#000000\" fill-rule=\"evenodd\" fill-opacity=\"1\" /><path clip-path=\"url(#clip230)\" d=\"M 0 0 M1244.13 1449.29 L1262.49 1449.29 L1262.49 1453.23 L1248.42 1453.23 L1248.42 1461.7 Q1249.43 1461.35 1250.45 1461.19 Q1251.47 1461 1252.49 1461 Q1258.28 1461 1261.66 1464.18 Q1265.04 1467.35 1265.04 1472.76 Q1265.04 1478.34 1261.56 1481.44 Q1258.09 1484.52 1251.77 1484.52 Q1249.6 1484.52 1247.33 1484.15 Q1245.08 1483.78 1242.67 1483.04 L1242.67 1478.34 Q1244.76 1479.48 1246.98 1480.03 Q1249.2 1480.59 1251.68 1480.59 Q1255.68 1480.59 1258.02 1478.48 Q1260.36 1476.38 1260.36 1472.76 Q1260.36 1469.15 1258.02 1467.05 Q1255.68 1464.94 1251.68 1464.94 Q1249.8 1464.94 1247.93 1465.36 Q1246.08 1465.77 1244.13 1466.65 L1244.13 1449.29 Z\" fill=\"#000000\" fill-rule=\"evenodd\" fill-opacity=\"1\" /><path clip-path=\"url(#clip230)\" d=\"M 0 0 M1280.11 1452.37 Q1276.49 1452.37 1274.67 1455.94 Q1272.86 1459.48 1272.86 1466.61 Q1272.86 1473.71 1274.67 1477.28 Q1276.49 1480.82 1280.11 1480.82 Q1283.74 1480.82 1285.54 1477.28 Q1287.37 1473.71 1287.37 1466.61 Q1287.37 1459.48 1285.54 1455.94 Q1283.74 1452.37 1280.11 1452.37 M1280.11 1448.67 Q1285.92 1448.67 1288.97 1453.27 Q1292.05 1457.86 1292.05 1466.61 Q1292.05 1475.33 1288.97 1479.94 Q1285.92 1484.52 1280.11 1484.52 Q1274.29 1484.52 1271.22 1479.94 Q1268.16 1475.33 1268.16 1466.61 Q1268.16 1457.86 1271.22 1453.27 Q1274.29 1448.67 1280.11 1448.67 Z\" fill=\"#000000\" fill-rule=\"evenodd\" fill-opacity=\"1\" /><path clip-path=\"url(#clip230)\" d=\"M 0 0 M1755.51 1449.29 L1777.73 1449.29 L1777.73 1451.28 L1765.19 1483.85 L1760.3 1483.85 L1772.11 1453.23 L1755.51 1453.23 L1755.51 1449.29 Z\" fill=\"#000000\" fill-rule=\"evenodd\" fill-opacity=\"1\" /><path clip-path=\"url(#clip230)\" d=\"M 0 0 M1782.85 1449.29 L1801.2 1449.29 L1801.2 1453.23 L1787.13 1453.23 L1787.13 1461.7 Q1788.15 1461.35 1789.17 1461.19 Q1790.19 1461 1791.2 1461 Q1796.99 1461 1800.37 1464.18 Q1803.75 1467.35 1803.75 1472.76 Q1803.75 1478.34 1800.28 1481.44 Q1796.81 1484.52 1790.49 1484.52 Q1788.31 1484.52 1786.04 1484.15 Q1783.8 1483.78 1781.39 1483.04 L1781.39 1478.34 Q1783.47 1479.48 1785.7 1480.03 Q1787.92 1480.59 1790.39 1480.59 Q1794.4 1480.59 1796.74 1478.48 Q1799.07 1476.38 1799.07 1472.76 Q1799.07 1469.15 1796.74 1467.05 Q1794.4 1464.94 1790.39 1464.94 Q1788.52 1464.94 1786.64 1465.36 Q1784.79 1465.77 1782.85 1466.65 L1782.85 1449.29 Z\" fill=\"#000000\" fill-rule=\"evenodd\" fill-opacity=\"1\" /><path clip-path=\"url(#clip230)\" d=\"M 0 0 M2255.27 1479.92 L2262.91 1479.92 L2262.91 1453.55 L2254.6 1455.22 L2254.6 1450.96 L2262.86 1449.29 L2267.54 1449.29 L2267.54 1479.92 L2275.17 1479.92 L2275.17 1483.85 L2255.27 1483.85 L2255.27 1479.92 Z\" fill=\"#000000\" fill-rule=\"evenodd\" fill-opacity=\"1\" /><path clip-path=\"url(#clip230)\" d=\"M 0 0 M2290.24 1452.37 Q2286.63 1452.37 2284.8 1455.94 Q2283 1459.48 2283 1466.61 Q2283 1473.71 2284.8 1477.28 Q2286.63 1480.82 2290.24 1480.82 Q2293.88 1480.82 2295.68 1477.28 Q2297.51 1473.71 2297.51 1466.61 Q2297.51 1459.48 2295.68 1455.94 Q2293.88 1452.37 2290.24 1452.37 M2290.24 1448.67 Q2296.05 1448.67 2299.11 1453.27 Q2302.19 1457.86 2302.19 1466.61 Q2302.19 1475.33 2299.11 1479.94 Q2296.05 1484.52 2290.24 1484.52 Q2284.43 1484.52 2281.35 1479.94 Q2278.3 1475.33 2278.3 1466.61 Q2278.3 1457.86 2281.35 1453.27 Q2284.43 1448.67 2290.24 1448.67 Z\" fill=\"#000000\" fill-rule=\"evenodd\" fill-opacity=\"1\" /><path clip-path=\"url(#clip230)\" d=\"M 0 0 M2317.26 1452.37 Q2313.65 1452.37 2311.82 1455.94 Q2310.01 1459.48 2310.01 1466.61 Q2310.01 1473.71 2311.82 1477.28 Q2313.65 1480.82 2317.26 1480.82 Q2320.89 1480.82 2322.7 1477.28 Q2324.53 1473.71 2324.53 1466.61 Q2324.53 1459.48 2322.7 1455.94 Q2320.89 1452.37 2317.26 1452.37 M2317.26 1448.67 Q2323.07 1448.67 2326.12 1453.27 Q2329.2 1457.86 2329.2 1466.61 Q2329.2 1475.33 2326.12 1479.94 Q2323.07 1484.52 2317.26 1484.52 Q2311.45 1484.52 2308.37 1479.94 Q2305.31 1475.33 2305.31 1466.61 Q2305.31 1457.86 2308.37 1453.27 Q2311.45 1448.67 2317.26 1448.67 Z\" fill=\"#000000\" fill-rule=\"evenodd\" fill-opacity=\"1\" /><path clip-path=\"url(#clip230)\" d=\"M 0 0 M1226.86 1522.08 L1226.86 1528.35 Q1223.2 1526.6 1219.95 1525.74 Q1216.7 1524.88 1213.68 1524.88 Q1208.43 1524.88 1205.56 1526.92 Q1202.73 1528.96 1202.73 1532.71 Q1202.73 1535.87 1204.61 1537.49 Q1206.52 1539.08 1211.8 1540.07 L1215.69 1540.86 Q1222.88 1542.23 1226.28 1545.7 Q1229.72 1549.14 1229.72 1554.93 Q1229.72 1561.84 1225.07 1565.4 Q1220.46 1568.97 1211.52 1568.97 Q1208.14 1568.97 1204.32 1568.2 Q1200.53 1567.44 1196.46 1565.94 L1196.46 1559.32 Q1200.38 1561.52 1204.13 1562.63 Q1207.89 1563.75 1211.52 1563.75 Q1217.02 1563.75 1220.01 1561.58 Q1223.01 1559.42 1223.01 1555.41 Q1223.01 1551.91 1220.84 1549.93 Q1218.71 1547.96 1213.81 1546.97 L1209.89 1546.21 Q1202.7 1544.78 1199.48 1541.72 Q1196.27 1538.67 1196.27 1533.22 Q1196.27 1526.92 1200.69 1523.29 Q1205.15 1519.66 1212.95 1519.66 Q1216.29 1519.66 1219.76 1520.27 Q1223.23 1520.87 1226.86 1522.08 Z\" fill=\"#000000\" fill-rule=\"evenodd\" fill-opacity=\"1\" /><path clip-path=\"url(#clip230)\" d=\"M 0 0 M1241.66 1522.27 L1241.66 1532.4 L1253.72 1532.4 L1253.72 1536.95 L1241.66 1536.95 L1241.66 1556.3 Q1241.66 1560.66 1242.83 1561.9 Q1244.04 1563.14 1247.7 1563.14 L1253.72 1563.14 L1253.72 1568.04 L1247.7 1568.04 Q1240.93 1568.04 1238.35 1565.53 Q1235.77 1562.98 1235.77 1556.3 L1235.77 1536.95 L1231.47 1536.95 L1231.47 1532.4 L1235.77 1532.4 L1235.77 1522.27 L1241.66 1522.27 Z\" fill=\"#000000\" fill-rule=\"evenodd\" fill-opacity=\"1\" /><path clip-path=\"url(#clip230)\" d=\"M 0 0 M1290.35 1548.76 L1290.35 1551.62 L1263.43 1551.62 Q1263.81 1557.67 1267.06 1560.85 Q1270.33 1564 1276.16 1564 Q1279.53 1564 1282.68 1563.17 Q1285.87 1562.35 1288.99 1560.69 L1288.99 1566.23 Q1285.84 1567.57 1282.52 1568.27 Q1279.21 1568.97 1275.81 1568.97 Q1267.28 1568.97 1262.28 1564 Q1257.32 1559.04 1257.32 1550.57 Q1257.32 1541.82 1262.03 1536.69 Q1266.77 1531.54 1274.79 1531.54 Q1281.98 1531.54 1286.15 1536.18 Q1290.35 1540.8 1290.35 1548.76 M1284.5 1547.04 Q1284.43 1542.23 1281.79 1539.37 Q1279.18 1536.5 1274.85 1536.5 Q1269.95 1536.5 1266.99 1539.27 Q1264.06 1542.04 1263.62 1547.07 L1284.5 1547.04 Z\" fill=\"#000000\" fill-rule=\"evenodd\" fill-opacity=\"1\" /><path clip-path=\"url(#clip230)\" d=\"M 0 0 M1302.16 1562.7 L1302.16 1581.6 L1296.27 1581.6 L1296.27 1532.4 L1302.16 1532.4 L1302.16 1537.81 Q1304.01 1534.62 1306.81 1533.1 Q1309.64 1531.54 1313.56 1531.54 Q1320.05 1531.54 1324.09 1536.69 Q1328.17 1541.85 1328.17 1550.25 Q1328.17 1558.65 1324.09 1563.81 Q1320.05 1568.97 1313.56 1568.97 Q1309.64 1568.97 1306.81 1567.44 Q1304.01 1565.88 1302.16 1562.7 M1322.09 1550.25 Q1322.09 1543.79 1319.41 1540.13 Q1316.77 1536.44 1312.13 1536.44 Q1307.48 1536.44 1304.8 1540.13 Q1302.16 1543.79 1302.16 1550.25 Q1302.16 1556.71 1304.8 1560.4 Q1307.48 1564.07 1312.13 1564.07 Q1316.77 1564.07 1319.41 1560.4 Q1322.09 1556.71 1322.09 1550.25 Z\" fill=\"#000000\" fill-rule=\"evenodd\" fill-opacity=\"1\" /><path clip-path=\"url(#clip230)\" d=\"M 0 0 M1357.04 1533.45 L1357.04 1538.98 Q1354.55 1537.71 1351.88 1537.07 Q1349.21 1536.44 1346.34 1536.44 Q1341.98 1536.44 1339.78 1537.77 Q1337.62 1539.11 1337.62 1541.79 Q1337.62 1543.82 1339.18 1545 Q1340.74 1546.15 1345.45 1547.2 L1347.46 1547.64 Q1353.69 1548.98 1356.3 1551.43 Q1358.95 1553.85 1358.95 1558.21 Q1358.95 1563.17 1355 1566.07 Q1351.08 1568.97 1344.21 1568.97 Q1341.34 1568.97 1338.22 1568.39 Q1335.14 1567.85 1331.7 1566.74 L1331.7 1560.69 Q1334.95 1562.38 1338.1 1563.24 Q1341.25 1564.07 1344.34 1564.07 Q1348.47 1564.07 1350.7 1562.66 Q1352.93 1561.23 1352.93 1558.65 Q1352.93 1556.27 1351.31 1554.99 Q1349.71 1553.72 1344.27 1552.54 L1342.24 1552.07 Q1336.79 1550.92 1334.37 1548.56 Q1331.95 1546.18 1331.95 1542.04 Q1331.95 1537.01 1335.52 1534.27 Q1339.08 1531.54 1345.64 1531.54 Q1348.89 1531.54 1351.75 1532.01 Q1354.62 1532.49 1357.04 1533.45 Z\" fill=\"#000000\" fill-rule=\"evenodd\" fill-opacity=\"1\" /><polyline clip-path=\"url(#clip232)\" style=\"stroke:#000000; stroke-width:2; stroke-opacity:0.1; fill:none\" points=\"\n",
       "  202.459,1384.24 2352.76,1384.24 \n",
       "  \"/>\n",
       "<polyline clip-path=\"url(#clip232)\" style=\"stroke:#000000; stroke-width:2; stroke-opacity:0.1; fill:none\" points=\"\n",
       "  202.459,1124.63 2352.76,1124.63 \n",
       "  \"/>\n",
       "<polyline clip-path=\"url(#clip232)\" style=\"stroke:#000000; stroke-width:2; stroke-opacity:0.1; fill:none\" points=\"\n",
       "  202.459,865.017 2352.76,865.017 \n",
       "  \"/>\n",
       "<polyline clip-path=\"url(#clip232)\" style=\"stroke:#000000; stroke-width:2; stroke-opacity:0.1; fill:none\" points=\"\n",
       "  202.459,605.407 2352.76,605.407 \n",
       "  \"/>\n",
       "<polyline clip-path=\"url(#clip232)\" style=\"stroke:#000000; stroke-width:2; stroke-opacity:0.1; fill:none\" points=\"\n",
       "  202.459,345.796 2352.76,345.796 \n",
       "  \"/>\n",
       "<polyline clip-path=\"url(#clip232)\" style=\"stroke:#000000; stroke-width:2; stroke-opacity:0.1; fill:none\" points=\"\n",
       "  202.459,86.1857 2352.76,86.1857 \n",
       "  \"/>\n",
       "<polyline clip-path=\"url(#clip230)\" style=\"stroke:#000000; stroke-width:4; stroke-opacity:1; fill:none\" points=\"\n",
       "  202.459,1423.18 202.459,47.2441 \n",
       "  \"/>\n",
       "<polyline clip-path=\"url(#clip230)\" style=\"stroke:#000000; stroke-width:4; stroke-opacity:1; fill:none\" points=\"\n",
       "  202.459,1384.24 228.263,1384.24 \n",
       "  \"/>\n",
       "<polyline clip-path=\"url(#clip230)\" style=\"stroke:#000000; stroke-width:4; stroke-opacity:1; fill:none\" points=\"\n",
       "  202.459,1124.63 228.263,1124.63 \n",
       "  \"/>\n",
       "<polyline clip-path=\"url(#clip230)\" style=\"stroke:#000000; stroke-width:4; stroke-opacity:1; fill:none\" points=\"\n",
       "  202.459,865.017 228.263,865.017 \n",
       "  \"/>\n",
       "<polyline clip-path=\"url(#clip230)\" style=\"stroke:#000000; stroke-width:4; stroke-opacity:1; fill:none\" points=\"\n",
       "  202.459,605.407 228.263,605.407 \n",
       "  \"/>\n",
       "<polyline clip-path=\"url(#clip230)\" style=\"stroke:#000000; stroke-width:4; stroke-opacity:1; fill:none\" points=\"\n",
       "  202.459,345.796 228.263,345.796 \n",
       "  \"/>\n",
       "<polyline clip-path=\"url(#clip230)\" style=\"stroke:#000000; stroke-width:4; stroke-opacity:1; fill:none\" points=\"\n",
       "  202.459,86.1857 228.263,86.1857 \n",
       "  \"/>\n",
       "<path clip-path=\"url(#clip230)\" d=\"M 0 0 M154.515 1370.04 Q150.903 1370.04 149.075 1373.6 Q147.269 1377.14 147.269 1384.27 Q147.269 1391.38 149.075 1394.94 Q150.903 1398.49 154.515 1398.49 Q158.149 1398.49 159.954 1394.94 Q161.783 1391.38 161.783 1384.27 Q161.783 1377.14 159.954 1373.6 Q158.149 1370.04 154.515 1370.04 M154.515 1366.33 Q160.325 1366.33 163.38 1370.94 Q166.459 1375.52 166.459 1384.27 Q166.459 1393 163.38 1397.61 Q160.325 1402.19 154.515 1402.19 Q148.704 1402.19 145.626 1397.61 Q142.57 1393 142.57 1384.27 Q142.57 1375.52 145.626 1370.94 Q148.704 1366.33 154.515 1366.33 Z\" fill=\"#000000\" fill-rule=\"evenodd\" fill-opacity=\"1\" /><path clip-path=\"url(#clip230)\" d=\"M 0 0 M119.538 1137.97 L127.177 1137.97 L127.177 1111.61 L118.867 1113.27 L118.867 1109.01 L127.13 1107.35 L131.806 1107.35 L131.806 1137.97 L139.445 1137.97 L139.445 1141.91 L119.538 1141.91 L119.538 1137.97 Z\" fill=\"#000000\" fill-rule=\"evenodd\" fill-opacity=\"1\" /><path clip-path=\"url(#clip230)\" d=\"M 0 0 M154.515 1110.43 Q150.903 1110.43 149.075 1113.99 Q147.269 1117.53 147.269 1124.66 Q147.269 1131.77 149.075 1135.33 Q150.903 1138.88 154.515 1138.88 Q158.149 1138.88 159.954 1135.33 Q161.783 1131.77 161.783 1124.66 Q161.783 1117.53 159.954 1113.99 Q158.149 1110.43 154.515 1110.43 M154.515 1106.72 Q160.325 1106.72 163.38 1111.33 Q166.459 1115.91 166.459 1124.66 Q166.459 1133.39 163.38 1138 Q160.325 1142.58 154.515 1142.58 Q148.704 1142.58 145.626 1138 Q142.57 1133.39 142.57 1124.66 Q142.57 1115.91 145.626 1111.33 Q148.704 1106.72 154.515 1106.72 Z\" fill=\"#000000\" fill-rule=\"evenodd\" fill-opacity=\"1\" /><path clip-path=\"url(#clip230)\" d=\"M 0 0 M123.126 878.362 L139.445 878.362 L139.445 882.297 L117.501 882.297 L117.501 878.362 Q120.163 875.607 124.746 870.978 Q129.353 866.325 130.533 864.983 Q132.779 862.459 133.658 860.723 Q134.561 858.964 134.561 857.274 Q134.561 854.52 132.617 852.783 Q130.695 851.047 127.593 851.047 Q125.394 851.047 122.941 851.811 Q120.51 852.575 117.732 854.126 L117.732 849.404 Q120.556 848.27 123.01 847.691 Q125.464 847.112 127.501 847.112 Q132.871 847.112 136.066 849.797 Q139.26 852.483 139.26 856.973 Q139.26 859.103 138.45 861.024 Q137.663 862.922 135.556 865.515 Q134.978 866.186 131.876 869.404 Q128.774 872.598 123.126 878.362 Z\" fill=\"#000000\" fill-rule=\"evenodd\" fill-opacity=\"1\" /><path clip-path=\"url(#clip230)\" d=\"M 0 0 M154.515 850.816 Q150.903 850.816 149.075 854.381 Q147.269 857.922 147.269 865.052 Q147.269 872.158 149.075 875.723 Q150.903 879.265 154.515 879.265 Q158.149 879.265 159.954 875.723 Q161.783 872.158 161.783 865.052 Q161.783 857.922 159.954 854.381 Q158.149 850.816 154.515 850.816 M154.515 847.112 Q160.325 847.112 163.38 851.719 Q166.459 856.302 166.459 865.052 Q166.459 873.779 163.38 878.385 Q160.325 882.969 154.515 882.969 Q148.704 882.969 145.626 878.385 Q142.57 873.779 142.57 865.052 Q142.57 856.302 145.626 851.719 Q148.704 847.112 154.515 847.112 Z\" fill=\"#000000\" fill-rule=\"evenodd\" fill-opacity=\"1\" /><path clip-path=\"url(#clip230)\" d=\"M 0 0 M132.316 604.053 Q135.672 604.77 137.547 607.039 Q139.445 609.307 139.445 612.64 Q139.445 617.756 135.927 620.557 Q132.408 623.358 125.927 623.358 Q123.751 623.358 121.436 622.918 Q119.144 622.502 116.691 621.645 L116.691 617.131 Q118.635 618.265 120.95 618.844 Q123.265 619.423 125.788 619.423 Q130.186 619.423 132.478 617.687 Q134.792 615.951 134.792 612.64 Q134.792 609.585 132.64 607.872 Q130.51 606.136 126.691 606.136 L122.663 606.136 L122.663 602.293 L126.876 602.293 Q130.325 602.293 132.154 600.928 Q133.982 599.539 133.982 596.946 Q133.982 594.284 132.084 592.872 Q130.209 591.437 126.691 591.437 Q124.769 591.437 122.57 591.854 Q120.371 592.27 117.732 593.15 L117.732 588.983 Q120.394 588.242 122.709 587.872 Q125.047 587.502 127.107 587.502 Q132.431 587.502 135.533 589.932 Q138.635 592.34 138.635 596.46 Q138.635 599.33 136.992 601.321 Q135.348 603.289 132.316 604.053 Z\" fill=\"#000000\" fill-rule=\"evenodd\" fill-opacity=\"1\" /><path clip-path=\"url(#clip230)\" d=\"M 0 0 M154.515 591.205 Q150.903 591.205 149.075 594.77 Q147.269 598.312 147.269 605.441 Q147.269 612.548 149.075 616.113 Q150.903 619.654 154.515 619.654 Q158.149 619.654 159.954 616.113 Q161.783 612.548 161.783 605.441 Q161.783 598.312 159.954 594.77 Q158.149 591.205 154.515 591.205 M154.515 587.502 Q160.325 587.502 163.38 592.108 Q166.459 596.691 166.459 605.441 Q166.459 614.168 163.38 618.775 Q160.325 623.358 154.515 623.358 Q148.704 623.358 145.626 618.775 Q142.57 614.168 142.57 605.441 Q142.57 596.691 145.626 592.108 Q148.704 587.502 154.515 587.502 Z\" fill=\"#000000\" fill-rule=\"evenodd\" fill-opacity=\"1\" /><path clip-path=\"url(#clip230)\" d=\"M 0 0 M129.862 332.59 L118.056 351.039 L129.862 351.039 L129.862 332.59 M128.635 328.516 L134.515 328.516 L134.515 351.039 L139.445 351.039 L139.445 354.928 L134.515 354.928 L134.515 363.076 L129.862 363.076 L129.862 354.928 L114.26 354.928 L114.26 350.414 L128.635 328.516 Z\" fill=\"#000000\" fill-rule=\"evenodd\" fill-opacity=\"1\" /><path clip-path=\"url(#clip230)\" d=\"M 0 0 M154.515 331.595 Q150.903 331.595 149.075 335.16 Q147.269 338.701 147.269 345.831 Q147.269 352.937 149.075 356.502 Q150.903 360.044 154.515 360.044 Q158.149 360.044 159.954 356.502 Q161.783 352.937 161.783 345.831 Q161.783 338.701 159.954 335.16 Q158.149 331.595 154.515 331.595 M154.515 327.891 Q160.325 327.891 163.38 332.498 Q166.459 337.081 166.459 345.831 Q166.459 354.558 163.38 359.164 Q160.325 363.747 154.515 363.747 Q148.704 363.747 145.626 359.164 Q142.57 354.558 142.57 345.831 Q142.57 337.081 145.626 332.498 Q148.704 327.891 154.515 327.891 Z\" fill=\"#000000\" fill-rule=\"evenodd\" fill-opacity=\"1\" /><path clip-path=\"url(#clip230)\" d=\"M 0 0 M118.543 68.9057 L136.899 68.9057 L136.899 72.8408 L122.825 72.8408 L122.825 81.313 Q123.843 80.9658 124.862 80.8038 Q125.88 80.6186 126.899 80.6186 Q132.686 80.6186 136.066 83.7899 Q139.445 86.9611 139.445 92.3778 Q139.445 97.9564 135.973 101.058 Q132.501 104.137 126.181 104.137 Q124.005 104.137 121.737 103.767 Q119.492 103.396 117.084 102.655 L117.084 97.9564 Q119.168 99.0907 121.39 99.6462 Q123.612 100.202 126.089 100.202 Q130.093 100.202 132.431 98.0953 Q134.769 95.9889 134.769 92.3778 Q134.769 88.7667 132.431 86.6602 Q130.093 84.5537 126.089 84.5537 Q124.214 84.5537 122.339 84.9704 Q120.487 85.3871 118.543 86.2667 L118.543 68.9057 Z\" fill=\"#000000\" fill-rule=\"evenodd\" fill-opacity=\"1\" /><path clip-path=\"url(#clip230)\" d=\"M 0 0 M154.515 71.9844 Q150.903 71.9844 149.075 75.5492 Q147.269 79.0908 147.269 86.2204 Q147.269 93.3268 149.075 96.8916 Q150.903 100.433 154.515 100.433 Q158.149 100.433 159.954 96.8916 Q161.783 93.3268 161.783 86.2204 Q161.783 79.0908 159.954 75.5492 Q158.149 71.9844 154.515 71.9844 M154.515 68.2807 Q160.325 68.2807 163.38 72.8871 Q166.459 77.4704 166.459 86.2204 Q166.459 94.9472 163.38 99.5537 Q160.325 104.137 154.515 104.137 Q148.704 104.137 145.626 99.5537 Q142.57 94.9472 142.57 86.2204 Q142.57 77.4704 145.626 72.8871 Q148.704 68.2807 154.515 68.2807 Z\" fill=\"#000000\" fill-rule=\"evenodd\" fill-opacity=\"1\" /><path clip-path=\"url(#clip230)\" d=\"M 0 0 M16.4842 807.606 L16.4842 767.407 L21.895 767.407 L21.895 784.276 L64.0042 784.276 L64.0042 790.737 L21.895 790.737 L21.895 807.606 L16.4842 807.606 Z\" fill=\"#000000\" fill-rule=\"evenodd\" fill-opacity=\"1\" /><path clip-path=\"url(#clip230)\" d=\"M 0 0 M28.3562 763.269 L28.3562 757.412 L64.0042 757.412 L64.0042 763.269 L28.3562 763.269 M14.479 763.269 L14.479 757.412 L21.895 757.412 L21.895 763.269 L14.479 763.269 Z\" fill=\"#000000\" fill-rule=\"evenodd\" fill-opacity=\"1\" /><path clip-path=\"url(#clip230)\" d=\"M 0 0 M35.1993 723.515 Q31.2526 721.319 29.3747 718.263 Q27.4968 715.208 27.4968 711.07 Q27.4968 705.5 31.4117 702.476 Q35.2948 699.453 42.4881 699.453 L64.0042 699.453 L64.0042 705.341 L42.679 705.341 Q37.5546 705.341 35.072 707.155 Q32.5894 708.969 32.5894 712.693 Q32.5894 717.245 35.6131 719.887 Q38.6368 722.528 43.8567 722.528 L64.0042 722.528 L64.0042 728.417 L42.679 728.417 Q37.5228 728.417 35.072 730.231 Q32.5894 732.045 32.5894 735.833 Q32.5894 740.32 35.6449 742.962 Q38.6686 745.604 43.8567 745.604 L64.0042 745.604 L64.0042 751.492 L28.3562 751.492 L28.3562 745.604 L33.8944 745.604 Q30.616 743.599 29.0564 740.798 Q27.4968 737.997 27.4968 734.146 Q27.4968 730.263 29.4702 727.557 Q31.4436 724.82 35.1993 723.515 Z\" fill=\"#000000\" fill-rule=\"evenodd\" fill-opacity=\"1\" /><path clip-path=\"url(#clip230)\" d=\"M 0 0 M44.7161 662.818 L47.5806 662.818 L47.5806 689.745 Q53.6281 689.363 56.8109 686.116 Q59.9619 682.838 59.9619 677.013 Q59.9619 673.64 59.1344 670.489 Q58.3069 667.306 56.6518 664.187 L62.1899 664.187 Q63.5267 667.338 64.227 670.648 Q64.9272 673.958 64.9272 677.364 Q64.9272 685.894 59.9619 690.891 Q54.9967 695.856 46.5303 695.856 Q37.7774 695.856 32.6531 691.145 Q27.4968 686.403 27.4968 678.382 Q27.4968 671.189 32.1438 667.019 Q36.7589 662.818 44.7161 662.818 M42.9973 668.674 Q38.1912 668.738 35.3266 671.38 Q32.4621 673.99 32.4621 678.318 Q32.4621 683.22 35.2312 686.18 Q38.0002 689.108 43.0292 689.554 L42.9973 668.674 Z\" fill=\"#000000\" fill-rule=\"evenodd\" fill-opacity=\"1\" /><polyline clip-path=\"url(#clip232)\" style=\"stroke:#009af9; stroke-width:4; stroke-opacity:1; fill:none\" points=\"\n",
       "  263.316,735.212 283.807,790.431 304.298,820.883 324.789,831.553 345.279,836.512 365.77,841.419 386.261,841.003 406.752,843.392 427.242,842.353 447.733,841.704 \n",
       "  468.224,841.704 488.714,841.003 509.205,838.589 529.696,836.252 550.187,834.643 570.677,833.526 591.168,831.138 611.659,831.138 632.15,831.138 652.64,829.71 \n",
       "  673.131,828.23 693.622,825.634 714.112,825.634 734.603,825.634 755.094,825.634 775.585,821.299 796.075,821.299 816.566,821.299 837.057,819.819 857.548,815.12 \n",
       "  878.038,815.12 898.529,815.12 919.02,813.485 939.51,811.797 960.001,811.797 980.492,810.162 1000.98,810.162 1021.47,808.474 1041.96,808.474 1062.45,808.474 \n",
       "  1082.95,806.735 1103.44,806.735 1123.93,806.735 1144.42,804.943 1164.91,804.943 1185.4,803.204 1205.89,799.569 1226.38,795.831 1246.87,795.831 1267.36,795.831 \n",
       "  1287.85,795.831 1308.34,795.831 1328.83,795.831 1349.32,795.831 1369.82,795.831 1390.31,795.831 1410.8,795.831 1431.29,793.936 1451.78,793.936 1472.27,793.936 \n",
       "  1492.76,793.936 1513.25,793.936 1533.74,790.042 1554.23,790.042 1574.72,790.042 1595.21,790.042 1615.7,790.042 1636.2,790.042 1656.69,790.042 1677.18,790.042 \n",
       "  1697.67,786.044 1718.16,783.993 1738.65,783.993 1759.14,781.942 1779.63,781.942 1800.12,781.942 1820.61,781.942 1841.1,779.839 1861.59,779.839 1882.08,779.839 \n",
       "  1902.57,779.839 1923.07,779.839 1943.56,777.684 1964.05,777.684 1984.54,777.684 2005.03,777.684 2025.52,777.684 2046.01,775.581 2066.5,775.581 2086.99,775.581 \n",
       "  2107.48,775.581 2127.97,775.581 2148.46,775.581 2168.95,775.581 2189.44,775.581 2209.94,775.581 2230.43,775.581 2250.92,775.581 2271.41,775.581 2291.9,775.581 \n",
       "  \n",
       "  \"/>\n",
       "<path clip-path=\"url(#clip230)\" d=\"\n",
       "M1614.5 214.069 L2281.08 214.069 L2281.08 93.1086 L1614.5 93.1086  Z\n",
       "  \" fill=\"#ffffff\" fill-rule=\"evenodd\" fill-opacity=\"1\"/>\n",
       "<polyline clip-path=\"url(#clip230)\" style=\"stroke:#000000; stroke-width:4; stroke-opacity:1; fill:none\" points=\"\n",
       "  1614.5,214.069 2281.08,214.069 2281.08,93.1086 1614.5,93.1086 1614.5,214.069 \n",
       "  \"/>\n",
       "<polyline clip-path=\"url(#clip230)\" style=\"stroke:#009af9; stroke-width:4; stroke-opacity:1; fill:none\" points=\"\n",
       "  1638.39,153.589 1781.74,153.589 \n",
       "  \"/>\n",
       "<path clip-path=\"url(#clip230)\" d=\"M 0 0 M1821.47 140.915 L1815.13 158.114 L1827.83 158.114 L1821.47 140.915 M1818.83 136.309 L1824.13 136.309 L1837.3 170.869 L1832.44 170.869 L1829.29 162.003 L1813.71 162.003 L1810.57 170.869 L1805.64 170.869 L1818.83 136.309 Z\" fill=\"#000000\" fill-rule=\"evenodd\" fill-opacity=\"1\" /><path clip-path=\"url(#clip230)\" d=\"M 0 0 M1835.94 144.943 L1840.45 144.943 L1848.55 166.702 L1856.65 144.943 L1861.17 144.943 L1851.45 170.869 L1845.66 170.869 L1835.94 144.943 Z\" fill=\"#000000\" fill-rule=\"evenodd\" fill-opacity=\"1\" /><path clip-path=\"url(#clip230)\" d=\"M 0 0 M1887.81 156.841 L1887.81 158.924 L1868.23 158.924 Q1868.51 163.322 1870.87 165.637 Q1873.25 167.929 1877.49 167.929 Q1879.94 167.929 1882.23 167.327 Q1884.55 166.725 1886.82 165.521 L1886.82 169.549 Q1884.52 170.521 1882.12 171.031 Q1879.71 171.54 1877.23 171.54 Q1871.03 171.54 1867.39 167.929 Q1863.78 164.318 1863.78 158.16 Q1863.78 151.795 1867.21 148.068 Q1870.66 144.318 1876.49 144.318 Q1881.72 144.318 1884.76 147.697 Q1887.81 151.054 1887.81 156.841 M1883.55 155.591 Q1883.51 152.096 1881.58 150.012 Q1879.69 147.929 1876.54 147.929 Q1872.97 147.929 1870.82 149.943 Q1868.69 151.957 1868.37 155.614 L1883.55 155.591 Z\" fill=\"#000000\" fill-rule=\"evenodd\" fill-opacity=\"1\" /><path clip-path=\"url(#clip230)\" d=\"M 0 0 M1907.3 148.924 Q1906.58 148.508 1905.73 148.322 Q1904.89 148.114 1903.88 148.114 Q1900.26 148.114 1898.32 150.475 Q1896.4 152.813 1896.4 157.211 L1896.4 170.869 L1892.12 170.869 L1892.12 144.943 L1896.4 144.943 L1896.4 148.971 Q1897.74 146.609 1899.89 145.475 Q1902.05 144.318 1905.13 144.318 Q1905.57 144.318 1906.1 144.387 Q1906.63 144.434 1907.28 144.549 L1907.3 148.924 Z\" fill=\"#000000\" fill-rule=\"evenodd\" fill-opacity=\"1\" /><path clip-path=\"url(#clip230)\" d=\"M 0 0 M1923.55 157.836 Q1918.39 157.836 1916.4 159.017 Q1914.41 160.197 1914.41 163.045 Q1914.41 165.313 1915.89 166.656 Q1917.39 167.975 1919.96 167.975 Q1923.5 167.975 1925.63 165.475 Q1927.79 162.952 1927.79 158.785 L1927.79 157.836 L1923.55 157.836 M1932.05 156.077 L1932.05 170.869 L1927.79 170.869 L1927.79 166.933 Q1926.33 169.295 1924.15 170.429 Q1921.98 171.54 1918.83 171.54 Q1914.85 171.54 1912.49 169.318 Q1910.15 167.072 1910.15 163.322 Q1910.15 158.947 1913.07 156.725 Q1916 154.503 1921.82 154.503 L1927.79 154.503 L1927.79 154.086 Q1927.79 151.147 1925.84 149.549 Q1923.92 147.929 1920.43 147.929 Q1918.2 147.929 1916.1 148.461 Q1913.99 148.994 1912.05 150.059 L1912.05 146.123 Q1914.38 145.221 1916.58 144.781 Q1918.78 144.318 1920.87 144.318 Q1926.49 144.318 1929.27 147.234 Q1932.05 150.151 1932.05 156.077 Z\" fill=\"#000000\" fill-rule=\"evenodd\" fill-opacity=\"1\" /><path clip-path=\"url(#clip230)\" d=\"M 0 0 M1953.57 157.605 Q1953.57 152.975 1951.65 150.429 Q1949.75 147.883 1946.31 147.883 Q1942.88 147.883 1940.96 150.429 Q1939.06 152.975 1939.06 157.605 Q1939.06 162.211 1940.96 164.758 Q1942.88 167.304 1946.31 167.304 Q1949.75 167.304 1951.65 164.758 Q1953.57 162.211 1953.57 157.605 M1957.83 167.651 Q1957.83 174.271 1954.89 177.489 Q1951.95 180.73 1945.89 180.73 Q1943.64 180.73 1941.65 180.382 Q1939.66 180.058 1937.79 179.364 L1937.79 175.22 Q1939.66 176.239 1941.49 176.725 Q1943.32 177.211 1945.22 177.211 Q1949.41 177.211 1951.49 175.012 Q1953.57 172.836 1953.57 168.415 L1953.57 166.308 Q1952.25 168.6 1950.19 169.734 Q1948.13 170.869 1945.26 170.869 Q1940.5 170.869 1937.58 167.234 Q1934.66 163.6 1934.66 157.605 Q1934.66 151.586 1937.58 147.952 Q1940.5 144.318 1945.26 144.318 Q1948.13 144.318 1950.19 145.452 Q1952.25 146.586 1953.57 148.878 L1953.57 144.943 L1957.83 144.943 L1957.83 167.651 Z\" fill=\"#000000\" fill-rule=\"evenodd\" fill-opacity=\"1\" /><path clip-path=\"url(#clip230)\" d=\"M 0 0 M1984.48 156.841 L1984.48 158.924 L1964.89 158.924 Q1965.17 163.322 1967.53 165.637 Q1969.92 167.929 1974.15 167.929 Q1976.61 167.929 1978.9 167.327 Q1981.21 166.725 1983.48 165.521 L1983.48 169.549 Q1981.19 170.521 1978.78 171.031 Q1976.38 171.54 1973.9 171.54 Q1967.69 171.54 1964.06 167.929 Q1960.45 164.318 1960.45 158.16 Q1960.45 151.795 1963.88 148.068 Q1967.32 144.318 1973.16 144.318 Q1978.39 144.318 1981.42 147.697 Q1984.48 151.054 1984.48 156.841 M1980.22 155.591 Q1980.17 152.096 1978.25 150.012 Q1976.35 147.929 1973.2 147.929 Q1969.64 147.929 1967.49 149.943 Q1965.36 151.957 1965.03 155.614 L1980.22 155.591 Z\" fill=\"#000000\" fill-rule=\"evenodd\" fill-opacity=\"1\" /><path clip-path=\"url(#clip230)\" d=\"M 0 0 M2008.23 137.582 L2008.23 144.943 L2017 144.943 L2017 148.253 L2008.23 148.253 L2008.23 162.327 Q2008.23 165.498 2009.08 166.401 Q2009.96 167.304 2012.62 167.304 L2017 167.304 L2017 170.869 L2012.62 170.869 Q2007.69 170.869 2005.82 169.04 Q2003.94 167.188 2003.94 162.327 L2003.94 148.253 L2000.82 148.253 L2000.82 144.943 L2003.94 144.943 L2003.94 137.582 L2008.23 137.582 Z\" fill=\"#000000\" fill-rule=\"evenodd\" fill-opacity=\"1\" /><path clip-path=\"url(#clip230)\" d=\"M 0 0 M2036.49 148.924 Q2035.77 148.508 2034.92 148.322 Q2034.08 148.114 2033.06 148.114 Q2029.45 148.114 2027.51 150.475 Q2025.59 152.813 2025.59 157.211 L2025.59 170.869 L2021.31 170.869 L2021.31 144.943 L2025.59 144.943 L2025.59 148.971 Q2026.93 146.609 2029.08 145.475 Q2031.24 144.318 2034.31 144.318 Q2034.75 144.318 2035.29 144.387 Q2035.82 144.434 2036.47 144.549 L2036.49 148.924 Z\" fill=\"#000000\" fill-rule=\"evenodd\" fill-opacity=\"1\" /><path clip-path=\"url(#clip230)\" d=\"M 0 0 M2052.74 157.836 Q2047.58 157.836 2045.59 159.017 Q2043.6 160.197 2043.6 163.045 Q2043.6 165.313 2045.08 166.656 Q2046.58 167.975 2049.15 167.975 Q2052.69 167.975 2054.82 165.475 Q2056.98 162.952 2056.98 158.785 L2056.98 157.836 L2052.74 157.836 M2061.24 156.077 L2061.24 170.869 L2056.98 170.869 L2056.98 166.933 Q2055.52 169.295 2053.34 170.429 Q2051.17 171.54 2048.02 171.54 Q2044.04 171.54 2041.68 169.318 Q2039.34 167.072 2039.34 163.322 Q2039.34 158.947 2042.25 156.725 Q2045.19 154.503 2051 154.503 L2056.98 154.503 L2056.98 154.086 Q2056.98 151.147 2055.03 149.549 Q2053.11 147.929 2049.62 147.929 Q2047.39 147.929 2045.29 148.461 Q2043.18 148.994 2041.24 150.059 L2041.24 146.123 Q2043.57 145.221 2045.77 144.781 Q2047.97 144.318 2050.06 144.318 Q2055.68 144.318 2058.46 147.234 Q2061.24 150.151 2061.24 156.077 Z\" fill=\"#000000\" fill-rule=\"evenodd\" fill-opacity=\"1\" /><path clip-path=\"url(#clip230)\" d=\"M 0 0 M2062.65 144.943 L2067.16 144.943 L2075.26 166.702 L2083.37 144.943 L2087.88 144.943 L2078.16 170.869 L2072.37 170.869 L2062.65 144.943 Z\" fill=\"#000000\" fill-rule=\"evenodd\" fill-opacity=\"1\" /><path clip-path=\"url(#clip230)\" d=\"M 0 0 M2114.52 156.841 L2114.52 158.924 L2094.94 158.924 Q2095.22 163.322 2097.58 165.637 Q2099.96 167.929 2104.2 167.929 Q2106.65 167.929 2108.94 167.327 Q2111.26 166.725 2113.53 165.521 L2113.53 169.549 Q2111.24 170.521 2108.83 171.031 Q2106.42 171.54 2103.94 171.54 Q2097.74 171.54 2094.11 167.929 Q2090.49 164.318 2090.49 158.16 Q2090.49 151.795 2093.92 148.068 Q2097.37 144.318 2103.2 144.318 Q2108.43 144.318 2111.47 147.697 Q2114.52 151.054 2114.52 156.841 M2110.26 155.591 Q2110.22 152.096 2108.3 150.012 Q2106.4 147.929 2103.25 147.929 Q2099.68 147.929 2097.53 149.943 Q2095.4 151.957 2095.08 155.614 L2110.26 155.591 Z\" fill=\"#000000\" fill-rule=\"evenodd\" fill-opacity=\"1\" /><path clip-path=\"url(#clip230)\" d=\"M 0 0 M2118.99 134.85 L2123.25 134.85 L2123.25 170.869 L2118.99 170.869 L2118.99 134.85 Z\" fill=\"#000000\" fill-rule=\"evenodd\" fill-opacity=\"1\" /><path clip-path=\"url(#clip230)\" d=\"M 0 0 M2147 137.582 L2147 144.943 L2155.77 144.943 L2155.77 148.253 L2147 148.253 L2147 162.327 Q2147 165.498 2147.86 166.401 Q2148.74 167.304 2151.4 167.304 L2155.77 167.304 L2155.77 170.869 L2151.4 170.869 Q2146.47 170.869 2144.59 169.04 Q2142.72 167.188 2142.72 162.327 L2142.72 148.253 L2139.59 148.253 L2139.59 144.943 L2142.72 144.943 L2142.72 137.582 L2147 137.582 Z\" fill=\"#000000\" fill-rule=\"evenodd\" fill-opacity=\"1\" /><path clip-path=\"url(#clip230)\" d=\"M 0 0 M2160.24 144.943 L2164.5 144.943 L2164.5 170.869 L2160.24 170.869 L2160.24 144.943 M2160.24 134.85 L2164.5 134.85 L2164.5 140.244 L2160.24 140.244 L2160.24 134.85 Z\" fill=\"#000000\" fill-rule=\"evenodd\" fill-opacity=\"1\" /><path clip-path=\"url(#clip230)\" d=\"M 0 0 M2189.15 149.92 Q2190.75 147.049 2192.97 145.684 Q2195.19 144.318 2198.2 144.318 Q2202.25 144.318 2204.45 147.165 Q2206.65 149.989 2206.65 155.221 L2206.65 170.869 L2202.37 170.869 L2202.37 155.359 Q2202.37 151.633 2201.05 149.827 Q2199.73 148.022 2197.02 148.022 Q2193.71 148.022 2191.79 150.221 Q2189.87 152.42 2189.87 156.216 L2189.87 170.869 L2185.59 170.869 L2185.59 155.359 Q2185.59 151.609 2184.27 149.827 Q2182.95 148.022 2180.19 148.022 Q2176.93 148.022 2175.01 150.244 Q2173.09 152.443 2173.09 156.216 L2173.09 170.869 L2168.8 170.869 L2168.8 144.943 L2173.09 144.943 L2173.09 148.971 Q2174.55 146.586 2176.58 145.452 Q2178.62 144.318 2181.42 144.318 Q2184.24 144.318 2186.21 145.753 Q2188.2 147.188 2189.15 149.92 Z\" fill=\"#000000\" fill-rule=\"evenodd\" fill-opacity=\"1\" /><path clip-path=\"url(#clip230)\" d=\"M 0 0 M2233.29 156.841 L2233.29 158.924 L2213.71 158.924 Q2213.99 163.322 2216.35 165.637 Q2218.73 167.929 2222.97 167.929 Q2225.42 167.929 2227.72 167.327 Q2230.03 166.725 2232.3 165.521 L2232.3 169.549 Q2230.01 170.521 2227.6 171.031 Q2225.19 171.54 2222.72 171.54 Q2216.51 171.54 2212.88 167.929 Q2209.27 164.318 2209.27 158.16 Q2209.27 151.795 2212.69 148.068 Q2216.14 144.318 2221.98 144.318 Q2227.21 144.318 2230.24 147.697 Q2233.29 151.054 2233.29 156.841 M2229.04 155.591 Q2228.99 152.096 2227.07 150.012 Q2225.17 147.929 2222.02 147.929 Q2218.46 147.929 2216.3 149.943 Q2214.17 151.957 2213.85 155.614 L2229.04 155.591 Z\" fill=\"#000000\" fill-rule=\"evenodd\" fill-opacity=\"1\" /></svg>\n"
      ]
     },
     "execution_count": 57,
     "metadata": {},
     "output_type": "execute_result"
    }
   ],
   "source": [
    "p3"
   ]
  },
  {
   "cell_type": "markdown",
   "metadata": {
    "nbpresent": {
     "id": "5e33951d-031b-4217-96df-b6d8513d695c"
    }
   },
   "source": [
    "The fact that adding *extra capacity* to transport networks can sometimes result in *increased* journey times is known as Braess' paradox."
   ]
  },
  {
   "cell_type": "markdown",
   "metadata": {
    "nbpresent": {
     "id": "377222de-06fd-4724-b07d-6a20ca4f5e2c"
    },
    "slideshow": {
     "slide_type": "slide"
    }
   },
   "source": [
    "## Mathematical analysis of the congestion game: decision variables and constraints\n",
    "Let us now formulate the congestion game as an optimisation problem.\n",
    "\n",
    "Decision variables: link and path flows:\n",
    "$$X = (x_1, \\ldots, x_{n_v}, h_1, \\ldots h_{n_p})$$\n",
    "These variables are not all independent. The following **constraints** must be satisfied:\n",
    "* Flows are non-negative:\n",
    "$$x_i\\geq 0\\ \\ \\ i=1\\ldots n_v$$\n",
    "$$h_j\\geq 0\\ \\ \\ j=1\\ldots n_p$$"
   ]
  },
  {
   "cell_type": "markdown",
   "metadata": {
    "nbpresent": {
     "id": "377222de-06fd-4724-b07d-6a20ca4f5e2c"
    },
    "slideshow": {
     "slide_type": "slide"
    }
   },
   "source": [
    "## Mathematical analysis of the congestion game: decision variables and constraints\n",
    "\n",
    "* Path flows must match demand:\n",
    "$$\\sum_{i=1}^{n_p} h_i = 100$$\n",
    "* Link flows must be consistent with path flows:\n",
    "$$ \\sum_{j=1}^{n_p} A_{i\\,j}\\,h_j = x_i  \\ \\ \\ i=1\\ldots n_v$$"
   ]
  },
  {
   "cell_type": "markdown",
   "metadata": {
    "nbpresent": {
     "id": "8c4b4cef-f90f-418a-b0e8-4ba049a843e2"
    },
    "slideshow": {
     "slide_type": "slide"
    }
   },
   "source": [
    "## Mathematical analysis of the congestion game: optimand\n",
    "\n",
    "What to optimise? Total travel time?\n",
    "\n",
    "$$ F_{SO}(X) = \\sum_{i=1}^{n_v} x_i\\, \\tau_i(x_i) $$.\n",
    "\n",
    "We already know from our ABM that minimising the total travel time does not yield a Wardrop equilibrium. Minimising the total travel time yields a flow pattern which is called the \"social optimum\"."
   ]
  },
  {
   "cell_type": "markdown",
   "metadata": {
    "nbpresent": {
     "id": "8c4b4cef-f90f-418a-b0e8-4ba049a843e2"
    },
    "slideshow": {
     "slide_type": "slide"
    }
   },
   "source": [
    "## Mathematical analysis of the congestion game: optimand\n",
    "\n",
    "A flow pattern corresponding to a Wardrop equilibrium is obtained by minimising the Beckmann potential:\n",
    "\n",
    "$$ F_{WE}(X) = \\sum_{i=1}^{n_v} \\int\\, \\tau_i(x_i)\\ dx_i.$$\n",
    "\n",
    "This is not obvious. The difference between the social optimum and the Wardrop equilibrium is called the \"price of anarchy\". "
   ]
  },
  {
   "cell_type": "markdown",
   "metadata": {
    "nbpresent": {
     "id": "4930130b-637f-4cea-8835-9597ed662bc9"
    },
    "slideshow": {
     "slide_type": "slide"
    }
   },
   "source": [
    "## A closer look at the Beckmann potential\n",
    "\n",
    "Why does the minimising the Beckmann potential produce a Wardrop equilibrium? Consider the discrete case:\n",
    "\n",
    "$$ F_{WE}(X) = \\sum_{i=1}^{n_v} \\sum_{n=1}^{x_i} \\tau_i(n)$$\n",
    "\n",
    "Suppose the $x_i$ are such that $F_{WE}$ is a minimum (there is at least one such choice) that is *not* a Wardrop equilibrium.\n",
    "\n",
    "Then there is at least one driver (on route A with edges $e_1, e_2,\\ldots e_n$ say)  who can improve travel time by switching route (to route B with edges $e_1^\\prime, e_2^\\prime \\ldots e_m^\\prime$ say). "
   ]
  },
  {
   "cell_type": "markdown",
   "metadata": {
    "nbpresent": {
     "id": "4930130b-637f-4cea-8835-9597ed662bc9"
    },
    "slideshow": {
     "slide_type": "slide"
    }
   },
   "source": [
    "## A closer look at the Beckmann potential\n",
    "\n",
    "Upon switching, $F_{WE}$ decreases by $\\sum_{j=1}^n \\tau_{e_j}(x_{e_j})$ which is the travel time for route A and then increases by the new travel time for route B.\n",
    "\n",
    "Since the the travel time of B is less than that of A, $F_{WE}$ decreases.\n",
    "\n",
    "This contradicts the initial assumption of a minimum."
   ]
  },
  {
   "cell_type": "markdown",
   "metadata": {
    "nbpresent": {
     "id": "2251c402-3b92-418e-bda8-3868689d2b22"
    },
    "slideshow": {
     "slide_type": "slide"
    }
   },
   "source": [
    "## Homework (or exam!) question\n",
    "Consider the network above with demand-delay functions:\n",
    "1. [1,2] : $\\tau_1(x) = x/10 $ \n",
    "2. [1,3] : $\\tau_2(x) = 15 $ \n",
    "3. [2,3] : $\\tau_3(x) = 5 $ \n",
    "4. [2,4] : $\\tau_4(x) = 15 $ \n",
    "5. [3,4] : $\\tau_5(x) = x/10 $ \n",
    "\n",
    "Label the paths p1 = [1,2,4], p2 = [1,3,4], p3 = [1,2,3,4]\n",
    "* Show that minimising $F_{SO}(X)$ gives $h_1=50$, $h_2 = 50$ and $h_3 = 0$ and a travel time of 20.0.\n",
    "* Show that miminimising $F_{WE}(X)$ gives $h_1=0$, $h_2 = 0$ and $h_3 = 100$ and a travel time of 25.0.\n",
    "\n",
    "This example is solvable by hand but larger networks quickly become intractable and we need to resort to numerical optimisation."
   ]
  },
  {
   "cell_type": "markdown",
   "metadata": {
    "nbpresent": {
     "id": "279502b5-796d-4b26-a5fc-06cab209dcb4"
    },
    "slideshow": {
     "slide_type": "slide"
    }
   },
   "source": [
    "### Solution:\n",
    "\n",
    "There are 8 decision variables: $\\{x_1, x_2, x_3, x_4, x_5, h_1, h_2, h_3\\}$.\n",
    "The objective function to find a social optimum is:\n",
    "$$F_\\text{SO}(x_1, x_2, x_3, x_4, x_5) = \\sum_{i=1}^5 x_i\\,\\tau_i(x_i) $$\n",
    "With the link labels and parameters given above, the optimand is\n",
    "$$F_\\text{SO}(x_1, x_2, x_3, x_4, x_5) = \\frac{x_1^2}{10} + 15 x_2 + 5 x_3 + 15 x_4 + \\frac{x_5^2}{10},$$\n",
    "and the constraints are\n",
    "\\begin{align}\n",
    "100 & = h_1 + h_2 + h_3\\\\\n",
    "x_1 & = h_1 + h_3 \\\\\n",
    "x_2 & = h_2\\\\\n",
    "x_3 & = h_3\\\\\n",
    "x_4 & = h_1\\\\\n",
    "x_5 & = h_2 + h_3.\n",
    "\\end{align}\n",
    "Check that you understand where these come from."
   ]
  },
  {
   "cell_type": "markdown",
   "metadata": {
    "nbpresent": {
     "id": "d1f0a042-340a-4c8a-9c98-14bb6c4e6a98"
    },
    "slideshow": {
     "slide_type": "slide"
    }
   },
   "source": [
    "### Solution:\n",
    "\n",
    "We can eliminate the path flows in terms of the link flows: $h_1= x_4$, $h_2 = x_2$ and $h_3 = x_3$.\n",
    "There remain 3 equation relating the 5 path flows:\n",
    "\n",
    "\\begin{align}\n",
    "100 &= x_2 + x_3 + x_4 \\\\\n",
    "x_1 &= x_4 + x_3\\\\\n",
    "x_5 &= x_2 + x3.\n",
    "\\end{align}\n",
    "\n",
    "Using these equations we can reduce the 5 degrees of freedom in the optimand to 2. We eliminate $x_2$, $x_4$ and $x_5$ and write everything in terms of $x_1$ and $x_3$:\n",
    "\n",
    "\\begin{align}\n",
    "x_2 &= 100 - x_1\\\\\n",
    "x_4 &= x_1 - x_3\\\\\n",
    "x_5 &= 100 - x_1 + x_3.\n",
    "\\end{align}\n",
    "\n",
    "The optimand is now a function of two variables:\n",
    "\n",
    "$$F_\\text{SO}(x_1, x_3) = \\frac{x_1^2}{10} + 15\\, (100-x_1) + 5\\, x_3 + 15\\, (x_1-x_3) + \\frac{(100-x_1+x_3)^2}{10}.$$"
   ]
  },
  {
   "cell_type": "markdown",
   "metadata": {
    "nbpresent": {
     "id": "b64ab1d4-8564-46a2-adf7-ef899d6a3029"
    },
    "slideshow": {
     "slide_type": "slide"
    }
   },
   "source": [
    "### Solution:\n",
    "\n",
    "We minimise by setting $\\nabla\\,F_\\text{SO}(x_1, x_3) = 0$ but we should bear in mind that we still have the positivity constraints $x_1 \\geq 0$, $x_3 \\geq 0$. \n",
    "\n",
    "This gives:\n",
    "\\begin{align}\n",
    "\\frac{\\partial F_\\text{SO}}{\\partial x_1} &= \\frac{2}{5}\\, x_1  - \\frac{1}{5}\\, x_3 - 20 &= 0 \\\\\n",
    "\\frac{\\partial F_\\text{SO}}{\\partial x_3} &= -\\frac{1}{5}\\, x_1 + \\frac{1}{5}\\, x_3 + 10 &= 0.\n",
    "\\end{align}\n",
    "\n",
    "Solving these gives:\n",
    "\\begin{align}\n",
    "x_1 &= 50\\\\\n",
    "x_3 &= 0.\n",
    "\\end{align}\n",
    "\n",
    "Note how, in this case, the optimum turns out to be on the boundary of the feasible set.\n",
    "\n",
    "The remaining link flows are then: $x_2 = 50$, $x_4 = 50$, $x_5 = 50$. The path flows are $h_1 = 50$, $h_2 = 50$ and $h_3 = 0$.\n",
    "\n",
    "A similar calculation with a different optimand allows one to obtain the Wardrop equilibrium."
   ]
  },
  {
   "cell_type": "markdown",
   "metadata": {
    "nbpresent": {
     "id": "d8f2dc15-d936-4951-95b0-fd26bf1c8d61"
    },
    "slideshow": {
     "slide_type": "slide"
    }
   },
   "source": [
    "## Constrained optimisation\n",
    "\n",
    "Computation of Wardrop equilbria and social optima in congestion games require optimisation of a nonlinear function of the link and path flows subject to a set of linear constraints. We must solve problems of the form:\n",
    "\n",
    "$$ \\min_{X} F(X)$$\n",
    "\n",
    "subject to \n",
    "\n",
    "$$ A\\,X = b$$\n",
    "$$ X \\geq 0$$\n",
    "\n"
   ]
  },
  {
   "cell_type": "markdown",
   "metadata": {
    "nbpresent": {
     "id": "0bcc3382-9484-435c-a46a-bf109eab34aa"
    },
    "slideshow": {
     "slide_type": "slide"
    }
   },
   "source": [
    "## Constrained optimisation\n",
    "In MA934 we learned that solutions of constrained linear optimisation problems are always on the boundary of the feasible set. This is not true for constrained nonlinear optimisation problems.\n",
    "![Constrained optimisation](files/images/Inequality_constraint_diagram.svg.png \"Network 2\")\n",
    "\n",
    "[Onmyphd](https://commons.wikimedia.org/wiki/User:Onmyphd) [Inequality constraint diagram](https://commons.wikimedia.org/wiki/File:Inequality_constraint_diagram.svg) [CC BY-SA 3.0](https://creativecommons.org/licenses/by-sa/3.0/legalcode)"
   ]
  },
  {
   "cell_type": "markdown",
   "metadata": {
    "nbpresent": {
     "id": "204fcbb9-c073-42f9-bcd9-5a5df2e28549"
    },
    "slideshow": {
     "slide_type": "slide"
    }
   },
   "source": [
    "## Frank - Wolfe algorithm\n",
    "\n",
    "The Frank-Wolfe algorithm is an iterative algorithm for solving nonlinear optimisation problems with constraints.The basic idea is to linearise:\n",
    "$$ F(X_k+X) = F(X_k) + (X-X_k) \\cdot \\nabla\\, F(X_k) + \\ldots$$\n",
    "At each step of the iteration we linearise the objective function about the current point and the obtain the next point by solving the resulting contstrained linear optimisation problem - e.g. using the Dantzig algorithm.\n",
    "* initial guess: $k=0$, $X = X_0$\n",
    "* Solve the linearised problem\n",
    "$$s_k = \\text{arg} \\min_{s} s\\cdot \\nabla\\,F(s)$$\n",
    "subject to \n",
    "$$ A\\,s = b$$\n",
    "$$ s \\geq 0$$\n",
    "* Calculate step size: $\\gamma_k = \\frac{2}{k+2}$ \n",
    "* Update our solution: $X_{k+1} = X_k + \\gamma_k\\,(s_k - X_k)$, $\\ \\ \\ k=k+1$\n"
   ]
  },
  {
   "cell_type": "markdown",
   "metadata": {
    "nbpresent": {
     "id": "d968f27f-2fbd-461d-a001-13a9d3b8c8bd"
    },
    "slideshow": {
     "slide_type": "slide"
    }
   },
   "source": [
    "## Useful links\n",
    "* Agents.jl documentation : https://github.com/JuliaDynamics/Agents.jl/blob/master/docs/src/index.md \n",
    "\n",
    "## References"
   ]
  },
  {
   "cell_type": "code",
   "execution_count": null,
   "metadata": {
    "nbpresent": {
     "id": "90a8f86c-30e2-4459-a621-27e9b8a46e1b"
    }
   },
   "outputs": [],
   "source": []
  },
  {
   "cell_type": "code",
   "execution_count": null,
   "metadata": {
    "nbpresent": {
     "id": "65fc80f1-0db7-4916-baec-971eb591c557"
    }
   },
   "outputs": [],
   "source": []
  }
 ],
 "metadata": {
  "celltoolbar": "Slideshow",
  "kernelspec": {
   "display_name": "Julia 1.5.1",
   "language": "julia",
   "name": "julia-1.5"
  },
  "language_info": {
   "file_extension": ".jl",
   "mimetype": "application/julia",
   "name": "julia",
   "version": "1.5.1"
  }
 },
 "nbformat": 4,
 "nbformat_minor": 2
}

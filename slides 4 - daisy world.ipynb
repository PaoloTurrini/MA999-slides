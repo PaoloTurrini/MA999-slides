{
 "cells": [
  {
   "cell_type": "code",
   "execution_count": null,
   "metadata": {
    "slideshow": {
     "slide_type": "skip"
    }
   },
   "outputs": [],
   "source": [
    "using Pkg\n",
    "Pkg.activate(\".\")\n",
    "Pkg.instantiate()"
   ]
  },
  {
   "cell_type": "code",
   "execution_count": null,
   "metadata": {},
   "outputs": [],
   "source": [
    "using Plots\n",
    "using LaTeXStrings\n",
    "using DifferentialEquations\n",
    "using Agents\n",
    "using DataFrames\n",
    "using Statistics"
   ]
  },
  {
   "cell_type": "code",
   "execution_count": null,
   "metadata": {},
   "outputs": [],
   "source": [
    "include(\"code/DW.jl\")"
   ]
  },
  {
   "cell_type": "markdown",
   "metadata": {
    "slideshow": {
     "slide_type": "slide"
    }
   },
   "source": [
    "# MA999 - Agent based modelling 4 - Daisyworld\n",
    "\n",
    "## MathSys CDT 2022\n",
    "\n",
    "### Lecturer: Colm Connaughton"
   ]
  },
  {
   "cell_type": "markdown",
   "metadata": {
    "slideshow": {
     "slide_type": "slide"
    }
   },
   "source": [
    "## The Gaia Hypothesis\n",
    "\n",
    "The interactions between the biological and non-biological components of the Earth system form a self-regulating complex system which acts to maintain the conditions favourable to life on the planet.\n",
    "\n",
    "Watson & Lovelock (1983)\n",
    "\n",
    "Criticised by evolutionary biologists since it seemed to imply large scale cooperation between organisms counter to prevailing theories of natural selection"
   ]
  },
  {
   "cell_type": "markdown",
   "metadata": {
    "slideshow": {
     "slide_type": "slide"
    }
   },
   "source": [
    "## Daisyworld model\n",
    "\n",
    "The Daisyworld model is a minimal model of a planetary ecology demonstrating that thermoregulation can emerge from *competitive* interaction between species.\n",
    "\n",
    "### Model ingredients:\n",
    "\n",
    "* Daisyworld is home to two species of daisies, black daisies and white daisies, that are identical in all respects other than their color.\n",
    "* Daisies compete for space on Daisywork by spreading to occupy available bare ground.\n",
    "* Daisies' rate of reproduction, $\\beta(T)$, is a function of temperature with a single maximum at $T_\\text{opt}$.\n",
    "* Daisies' rate of death is constant, $\\gamma$.\n",
    "* Daisies interact with the environment through their *albedo*:\n",
    "    * Black daisies absorb sunlight and increase the local temperature above that of bare ground.\n",
    "    * White daisies reflect sunlight and decrease the local temperature below that of bare ground."
   ]
  },
  {
   "cell_type": "markdown",
   "metadata": {
    "slideshow": {
     "slide_type": "slide"
    }
   },
   "source": [
    "## Mathematical model of Daisyworld\n",
    "\n",
    "The orginal model of Watson and Lovelock was a mean-field model that did not explicitly account for space. The dependent variables are the *proportions* of the surface area occupied by the white and black daisies:\n",
    "* $A_w(t)$ : proportion of the surface occupied by white daisies.\n",
    "* $A_b(t)$ : proportion of the surface occupied by black daisies.\n",
    "\n",
    "We denote by $A_0(t)$ the proportion of the surface that is bare. Clearly we have the constraint:\n",
    "$$ A_w(t) + A_b(t) + A_0(t) = 1$$"
   ]
  },
  {
   "cell_type": "markdown",
   "metadata": {
    "slideshow": {
     "slide_type": "slide"
    }
   },
   "source": [
    "### Modelling the growth rate of daisies\n",
    "\n",
    "We need a model of the growth rate of the daisies. A parabolic function is the simplest:"
   ]
  },
  {
   "cell_type": "code",
   "execution_count": null,
   "metadata": {},
   "outputs": [],
   "source": [
    "\n",
    "X = 0:0.1:10\n",
    "xm = 5\n",
    "xr = 3\n",
    "f(x) = max(-(x-xm+xr)*(x-xm-xr)/xr^2, 0.0)\n",
    "Y = f.(X)\n",
    "plot(X,Y, label=L\"\\beta (T)\", ylabel = \"Growth rate\", xlabel=\"Temperature\" )"
   ]
  },
  {
   "cell_type": "markdown",
   "metadata": {
    "slideshow": {
     "slide_type": "slide"
    }
   },
   "source": [
    "### Modelling the population dynamics of the daisies\n",
    "\n",
    "We can use standard mean-field population dynamics equations to model the competitive dynamics of the daisies.\n",
    "\n",
    "$$ \\frac{d A_w}{d t} = \\beta(T_w)\\, A_w\\, A_0 - \\gamma\\,A_w $$\n",
    "$$ \\frac{d A_b}{d t} = \\beta(T_b)\\, A_b\\, A_0 - \\gamma\\,A_b $$\n",
    "\n",
    "with $A_0(t) = 1 - A_w(t) - A_b(t)$.\n",
    "\n",
    "In these equations, $T_w$ and $T_b$ are the local temperatures of patches of white and black daisies respectively."
   ]
  },
  {
   "cell_type": "markdown",
   "metadata": {
    "slideshow": {
     "slide_type": "slide"
    }
   },
   "source": [
    "### Modelling the average global temperature of Daisyworld\n",
    "\n",
    "The key to modelling the temperature is to capture incorporate concept of albedo. The albedo of a surface is the proportion of incoming radiation that it reflects. \n",
    "* An albedo of 1 means all incoming radiation is reflected (resulting in a cooler surface). \n",
    "* An albedo of 0 means all incoming radiation is absorbed (resulting in a hotter surface).\n",
    "\n",
    "If $F$ is the incoming solar radiation flux, the average temperature of Daisyworld, $T_\\text{av}$, is given by the [Stefan-Boltzmann law](https://www.britannica.com/science/Stefan-Boltzmann-law):\n",
    "$$ \\sigma T_\\text{av}^4 = F\\,(1-\\alpha)$$\n",
    "where $\\alpha$ is the average albedo of the surface and $\\sigma$ is a constant of proportionality.\n",
    "\n",
    "If $\\alpha_w$, $\\alpha_b$ and $\\alpha_0$ are the albedos of white, black and bare patches respectively (conventionally taken to be 3/4, 1/4 and 1/2), then the average albedo is\n",
    "$$ \\alpha(t) = \\alpha_w\\, A_w(t) + \\alpha_b\\,A_b(t) + \\alpha_0\\,A_0(t)$$."
   ]
  },
  {
   "cell_type": "markdown",
   "metadata": {
    "slideshow": {
     "slide_type": "slide"
    }
   },
   "source": [
    "### Modelling the local temperatures\n",
    "\n",
    "However, daisies don't experience the global temperature, they experience local modified temperatures that depend on the difference between the local and average albedo:\n",
    "\n",
    "$$ T_w^4 = T_\\text{av}^4 + q\\,(\\alpha - \\alpha_w) $$\n",
    "$$ T_b^4 = T_\\text{av}^4 + q\\,(\\alpha - \\alpha_b) $$\n",
    "$$ T_0^4 = T_\\text{av}^4 + q\\,(\\alpha - \\alpha_0). $$\n",
    "\n",
    "Here $q$ is a phenomenological modelling parameter (akin to a diffusion coefficient) controlling the strength of local variations in temperature. \n",
    "\n",
    "Later, we will do away with the need to make this assumption in an agent-based variation of the Daisyworld model which incorporates spatial structure directly.\n",
    "\n",
    "Note that since we have already written $T_\\text{av}$ and $\\alpha$ in terms of $A_w$ and $A_b$, we now have a closed set of differential equations which we can solve."
   ]
  },
  {
   "cell_type": "markdown",
   "metadata": {
    "slideshow": {
     "slide_type": "slide"
    }
   },
   "source": [
    "## Reminder: Solving differential equations in Julia: DifferentialEquations.jl\n",
    "\n",
    "Julia has a well developed system for solving systems of differential equations called [DifferentialEquations.jl](https://docs.juliadiffeq.org/stable/). In its basic form, it is very simple to use. Here is an example that solves the Lorentz equations:\n",
    "\n",
    "### Step 1: define the RHS of the system of equations\n",
    "\n",
    "* ```du``` is the right hand side of the system (as a vector)\n",
    "* ```u``` are the dependent variables for (as a vector)\n",
    "* ```t``` is the time variable (for non-autonomous systems)\n",
    "* ```p``` is a list of parameters that need to be passed in"
   ]
  },
  {
   "cell_type": "code",
   "execution_count": null,
   "metadata": {},
   "outputs": [],
   "source": [
    "# First we define the RHS:\n",
    "function lorenz!(du,u,p,t)\n",
    "    x,y,z = u\n",
    "    σ,ρ,β = p\n",
    "    du[1] = dx = σ*(y-x)\n",
    "    du[2] = dy = x*(ρ-z) - y\n",
    "    du[3] = dz = x*y - β*z\n",
    "end"
   ]
  },
  {
   "cell_type": "markdown",
   "metadata": {
    "slideshow": {
     "slide_type": "slide"
    }
   },
   "source": [
    "### Step 2: define the problem\n",
    "\n",
    "This entails\n",
    "* specifying the initial condition, ```u0```.\n",
    "* specifying the time interval in which to solve the equations, ```tspan```\n",
    "* providing values for the parameters, ```p```\n",
    "* creating an ```ODEProblem``` object which takes ```u0```, ```tspan```, ```p``` and the RHS function from step 1 as arguments."
   ]
  },
  {
   "cell_type": "code",
   "execution_count": null,
   "metadata": {},
   "outputs": [],
   "source": [
    "u0 = [1.0,0.0,0.0]\n",
    "tspan = (0.0,100.0)\n",
    "p = [10.0,28.0,8/3]\n",
    "prob = ODEProblem(lorenz!,u0,tspan,p)"
   ]
  },
  {
   "cell_type": "markdown",
   "metadata": {
    "slideshow": {
     "slide_type": "slide"
    }
   },
   "source": [
    "### Step 3: integrate the equation"
   ]
  },
  {
   "cell_type": "code",
   "execution_count": null,
   "metadata": {},
   "outputs": [],
   "source": [
    "sol = solve(prob)"
   ]
  },
  {
   "cell_type": "markdown",
   "metadata": {
    "slideshow": {
     "slide_type": "slide"
    }
   },
   "source": [
    "### Step 4: plot and analyse the solution."
   ]
  },
  {
   "cell_type": "code",
   "execution_count": null,
   "metadata": {
    "scrolled": true,
    "slideshow": {
     "slide_type": "-"
    }
   },
   "outputs": [],
   "source": [
    "plot(sol,vars=(1,2,3))"
   ]
  },
  {
   "cell_type": "markdown",
   "metadata": {
    "slideshow": {
     "slide_type": "slide"
    }
   },
   "source": [
    "## Solving the Daisyworld equations\n",
    "\n",
    "First we set up the parameters"
   ]
  },
  {
   "cell_type": "code",
   "execution_count": null,
   "metadata": {},
   "outputs": [],
   "source": [
    "# Define parameters\n",
    "Topt = 5\n",
    "ΔT = 6\n",
    "γ = 0.1\n",
    "αw = 0.75\n",
    "αb = 0.25\n",
    "α0 = 0.5\n",
    "σ = (1.0 - α0)/(Topt^4.0)\n",
    "q = 0.25\n",
    "\n",
    "β(T) = max(-(T-Topt+ΔT/2.0)*(T-Topt-ΔT/2)/(ΔT/2.0)^2, 0.0)\n",
    "F(t) = 1.0\n"
   ]
  },
  {
   "cell_type": "code",
   "execution_count": null,
   "metadata": {},
   "outputs": [],
   "source": [
    "p = [β, γ, αw, αb, α0, σ, q, F ]\n",
    "u0 = [0.08,0.12]\n",
    "tspan = (0.0,100.0)"
   ]
  },
  {
   "cell_type": "markdown",
   "metadata": {
    "slideshow": {
     "slide_type": "slide"
    }
   },
   "source": [
    "Here's a function that defines the right-hand side of the equations:"
   ]
  },
  {
   "cell_type": "code",
   "execution_count": null,
   "metadata": {},
   "outputs": [],
   "source": [
    "function daisyworld!(du,u,p,t)\n",
    "    # Get the dependent variables\n",
    "    Aw,Ab = u\n",
    "    # Get the parameters\n",
    "    β, γ, αw, αb, α0, σ, q, F  = p \n",
    "    # Proportion of bare ground:\n",
    "    A0 = 1.0 - Aw - Ab\n",
    "    # Work out average albedo and temperature\n",
    "    α = αw*Aw + αb*Ab + α0*A0\n",
    "    Tav = (F(t)*(1.0-α)/σ)^0.25\n",
    "    # Work out local temperatures:\n",
    "    Tw = (Tav^4.0 + q*(α - αw))^0.25\n",
    "    Tb = (Tav^4.0 + q*(α - αb))^0.25\n",
    "    # Construct the RHS of the population dynamics equations\n",
    "    du[1] = β(Tw)*Aw*A0 - γ*Aw\n",
    "    du[2] = β(Tb)*Ab*A0 - γ*Ab\n",
    "end"
   ]
  },
  {
   "cell_type": "markdown",
   "metadata": {
    "slideshow": {
     "slide_type": "slide"
    }
   },
   "source": [
    "Now we can integrate the equations as we did for the Lorentz model:"
   ]
  },
  {
   "cell_type": "code",
   "execution_count": null,
   "metadata": {},
   "outputs": [],
   "source": [
    "prob = ODEProblem(daisyworld!,u0,tspan,p)"
   ]
  },
  {
   "cell_type": "code",
   "execution_count": null,
   "metadata": {},
   "outputs": [],
   "source": [
    "sol = solve(prob);"
   ]
  },
  {
   "cell_type": "markdown",
   "metadata": {
    "slideshow": {
     "slide_type": "slide"
    }
   },
   "source": [
    "Here's how to extract the individual components of the solution for analysis"
   ]
  },
  {
   "cell_type": "code",
   "execution_count": null,
   "metadata": {},
   "outputs": [],
   "source": [
    "t = sol.t\n",
    "Aw = sol[1,:]\n",
    "Ab = sol[2,:]\n",
    "A0 = 1.0 .- Aw .-Ab\n",
    "plot(t, Aw, label=\"White\")\n",
    "plot!(t,Ab, label=\"Black\")\n",
    "plot!(t,A0, label=\"Bare\")"
   ]
  },
  {
   "cell_type": "markdown",
   "metadata": {
    "slideshow": {
     "slide_type": "slide"
    }
   },
   "source": [
    "Here's the average temperature"
   ]
  },
  {
   "cell_type": "code",
   "execution_count": null,
   "metadata": {},
   "outputs": [],
   "source": [
    "α = αw .* Aw .+   αb .* Ab .+ α0 .* A0\n",
    "Tav = (F.(t).*(1.0 .- α)./σ).^0.25\n",
    "Tbare = (F.(t).*(1.0 .- α0)./σ).^0.25\n",
    "plot(t, Tav, label=\"Average T\")\n",
    "plot!(t, Tbare, label = \"Bare T\")"
   ]
  },
  {
   "cell_type": "markdown",
   "metadata": {
    "slideshow": {
     "slide_type": "slide"
    }
   },
   "source": [
    "## Agent based version of the Daisyworld model\n",
    "\n",
    "The way in which local temperature variation is handled in the mean field Daisyworld model is not entirely transparent. \n",
    "\n",
    "An ABM version of Daisyworld will be modeled as a 2-D grid.\n",
    "\n",
    "Agents correspond to patches associated with grid points. Each patch has its own colour (with corresponding albedo) and local temperature.\n",
    "\n",
    "In an ABM each patch can absorb a fixed fraction of solar irradiance at each time step to assign it a temperature. Local temperatures can then be calculated in a natural way by averaging over the temperatures of neighbouring cells."
   ]
  },
  {
   "cell_type": "markdown",
   "metadata": {
    "slideshow": {
     "slide_type": "slide"
    }
   },
   "source": [
    "### Descriptive specification of the model dynamics\n",
    "\n",
    "At each step:\n",
    "1. each white/black patch picks a random neighbouring patch. If that patch is bare, a new white/black patch is created there with probability $p_\\beta(T_\\text{local})$. \n",
    "2. each white/black patch dies with probability $p_\\gamma$.\n",
    "3. each patch updates its local temperature to be $\\alpha F$ where $F$ is the solar irradiance and $\\alpha$ is the appropriate albedo value.\n",
    "4. after all agents have updated the local temperatures of all agents are recalculated by performing a weighted average of the local temperatures.\n",
    "\n",
    "It is natural to encode steps 1 - 3 in the ```agent_step!()``` function and step 4 in the ```model_step!()``` function. "
   ]
  },
  {
   "cell_type": "markdown",
   "metadata": {
    "slideshow": {
     "slide_type": "slide"
    }
   },
   "source": [
    "### Agent definition\n",
    "\n",
    "Let's get started."
   ]
  },
  {
   "cell_type": "markdown",
   "metadata": {
    "slideshow": {
     "slide_type": "-"
    }
   },
   "source": [
    "Here's the basic definition of an agent:"
   ]
  },
  {
   "cell_type": "code",
   "execution_count": null,
   "metadata": {},
   "outputs": [],
   "source": [
    "@agent daisy_patch GridAgent{2} begin\n",
    "    colour::Int\n",
    "    temperature::Float64\n",
    "end"
   ]
  },
  {
   "cell_type": "markdown",
   "metadata": {
    "slideshow": {
     "slide_type": "slide"
    }
   },
   "source": [
    "### Model properties\n",
    "\n",
    "As with our transportation example, we encode the parameters in a ```Dict()``` to pass to the model object:"
   ]
  },
  {
   "cell_type": "code",
   "execution_count": null,
   "metadata": {},
   "outputs": [],
   "source": [
    "size = 25\n",
    "T_opt = 22.5\n",
    "T_range = 10.0\n",
    "P_death = 0.1\n",
    "P_growth = 0.05\n",
    "delta = 0.25\n",
    "albedo = [0.75, 0.25, 0.5]\n",
    "F(step) = (T_opt + T_range)*2.0\n",
    "β(T) = max(-(T-T_opt+T_range)*(T-T_opt-T_range)/T_range^2, 0.0)\n",
    "\n",
    "properties = Dict{Symbol,Any}(:T_opt => T_opt, \n",
    "    :T_range=>T_range, \n",
    "    :P_death=>P_death, \n",
    "    :P_growth=>P_growth, \n",
    "    :delta=>delta,\n",
    "    :step=>0,\n",
    "    :flux=>F,\n",
    "    :growth_rate=>β,\n",
    "    :albedo=>albedo\n",
    ")"
   ]
  },
  {
   "cell_type": "code",
   "execution_count": null,
   "metadata": {
    "slideshow": {
     "slide_type": "skip"
    }
   },
   "outputs": [],
   "source": [
    "tmp = Dict{Symbol,Any}(:T_opt => T_opt, \n",
    "    :T_range=>T_range, \n",
    "    :P_death=>P_death, \n",
    "    :P_growth=>P_growth, \n",
    "    :delta=>delta,\n",
    "    :flux=>F,\n",
    "    :step=>0,\n",
    "    :growth_rate=>β,\n",
    "    :albedo=>albedo)"
   ]
  },
  {
   "cell_type": "markdown",
   "metadata": {
    "slideshow": {
     "slide_type": "slide"
    }
   },
   "source": [
    "### Agent step function\n",
    "\n",
    "Here is the agent step function:"
   ]
  },
  {
   "cell_type": "code",
   "execution_count": null,
   "metadata": {},
   "outputs": [],
   "source": [
    "function agent_step!(agent, model)\n",
    "    if agent.colour == 3\n",
    "        # With low probability an empty patch can grow daisies\n",
    "        rand() <= model.P_growth && (agent.colour = rand([1,2]))\n",
    "    else\n",
    "        # An occupied patch can attempt to reproduce\n",
    "        T = agent.temperature\n",
    "        neighbour = rand(collect(nearby_agents(agent, model)))\n",
    "        if neighbour.colour == 3\n",
    "            rand() <= model.growth_rate(T) && (neighbour.colour = agent.colour)\n",
    "        end\n",
    "        # An occupied patch can die and revert to being empty.\n",
    "        rand() <= model.P_death && (agent.colour = 3)\n",
    "    end\n",
    "end"
   ]
  },
  {
   "cell_type": "markdown",
   "metadata": {},
   "source": [
    "Note that we allow \"spontaneous regrowth\" with low probability to avoid the absorbing state (no daisies)."
   ]
  },
  {
   "cell_type": "markdown",
   "metadata": {
    "slideshow": {
     "slide_type": "slide"
    }
   },
   "source": [
    "### Model step function\n",
    "\n",
    "The model step function needs to calculate the local temperatures\n",
    "\n"
   ]
  },
  {
   "cell_type": "code",
   "execution_count": null,
   "metadata": {},
   "outputs": [],
   "source": [
    "function model_step!(model)\n",
    "    t =  model.step; δ = model.delta; F = model.flux; \n",
    "    # Calculate the proportion of absorbed energy\n",
    "    A = [1.0- x for x in model.albedo]\n",
    "    # Calculate the temperature at each point in the space\n",
    "    for pos in positions(model)\n",
    "        agent = collect(agents_in_position(pos, model))[1]\n",
    "        T1 = A[agent.colour]*F(t)\n",
    "        neighbours = collect(nearby_agents(agent, model))\n",
    "        T2=0.0\n",
    "        for n in neighbours\n",
    "            T2 += A[n.colour]*F(t)\n",
    "        end\n",
    "        T2 = T2/(length(neighbours))\n",
    "        # Update the local temperature to be a weighted sum of T1 and T2\n",
    "        agent.temperature = (1.0-δ)*T1 + δ*T2\n",
    "    end\n",
    "    model.step = t+1\n",
    "end"
   ]
  },
  {
   "cell_type": "markdown",
   "metadata": {
    "slideshow": {
     "slide_type": "slide"
    }
   },
   "source": [
    "### Model initialisation\n",
    "\n",
    "As with the previous example, it is convenient to combine the model initialisation steps into a function:"
   ]
  },
  {
   "cell_type": "code",
   "execution_count": null,
   "metadata": {},
   "outputs": [],
   "source": [
    "function initialise(;dims = (size,size), properties=properties)\n",
    "    # Create the underlying space\n",
    "    space = GridSpace(dims, periodic = true) \n",
    "    model = ABM(daisy_patch, space; scheduler = fastest, properties=properties)\n",
    "    # Initial temperature is that of \"bare\" planet\n",
    "    T_init = properties[:flux](1)*properties[:albedo][3]\n",
    "    # Add an agent to each node of the space. Initially all have type 3 (empty) and temperature T_init\n",
    "    for node in nodes(model)\n",
    "        add_agent!(node, model, 3, T_init)\n",
    "    end\n",
    "    return model\n",
    "end\n",
    "\n",
    "model = initialise(dims=(size,size),properties=properties)"
   ]
  },
  {
   "cell_type": "markdown",
   "metadata": {
    "slideshow": {
     "slide_type": "slide"
    }
   },
   "source": [
    "### Running the model and gathering data\n",
    "\n",
    "Let's just gather all agent states at each step rather than trying to do fancy data aggregation on the fly."
   ]
  },
  {
   "cell_type": "code",
   "execution_count": null,
   "metadata": {},
   "outputs": [],
   "source": [
    "nsteps=50\n",
    "adata = [:pos, :colour, :temperature]\n",
    "when = 1:nsteps  # At which steps to collect data\n",
    "data, _  = run!(model, agent_step!, model_step!, nsteps; adata);\n",
    "data[1:10, :] # print only a few rows"
   ]
  },
  {
   "cell_type": "markdown",
   "metadata": {
    "slideshow": {
     "slide_type": "slide"
    }
   },
   "source": [
    "### Analysing the results\n",
    "\n",
    "To visualise the simulation results, I think we need more power/flexibility than is provided by PlotAgents.jl. Instead we can use Plots.jl to build plots directly from the ```data``` DataFrame generated by the model.\n",
    "\n",
    "The @animate macro is very useful to create movies showing how the model evolves in time:"
   ]
  },
  {
   "cell_type": "code",
   "execution_count": null,
   "metadata": {},
   "outputs": [],
   "source": [
    "anim = @animate for i in when\n",
    "    plt=plot(5,xlim=(0,size),ylim=(0,size), c=:red, aspect_ratio=1,legend=false, framestyle=:origin)\n",
    "    frame = data[data.step .== i, :]\n",
    "    group1 = frame[frame.colour .== 1, :]\n",
    "    group2 = frame[frame.colour .== 2, :]\n",
    "    group3 = frame[frame.colour .== 3, :]\n",
    "    scatter!(group1.pos, markersize=10, color=\"black\", label=\"\")\n",
    "    scatter!(group2.pos, markersize=10, color=\"white\", label=\"\")\n",
    "    scatter!(group3.pos, markersize=10, color=\"brown\", label=\"\")\n",
    "end"
   ]
  },
  {
   "cell_type": "markdown",
   "metadata": {
    "slideshow": {
     "slide_type": "slide"
    }
   },
   "source": [
    "### Running the movie\n",
    "\n",
    "The results are created as an animated gif file. Read the output below to see where the file is located. It can be viewed in a Jupyter notebook as follows:"
   ]
  },
  {
   "cell_type": "code",
   "execution_count": null,
   "metadata": {},
   "outputs": [],
   "source": [
    "gif(anim, fps = 1)"
   ]
  },
  {
   "cell_type": "markdown",
   "metadata": {
    "slideshow": {
     "slide_type": "slide"
    }
   },
   "source": [
    "### Calculate the populations of white and black daisies and the temperature\n",
    "\n",
    "This requires a bit of post=processing on ```data```"
   ]
  },
  {
   "cell_type": "code",
   "execution_count": null,
   "metadata": {},
   "outputs": [],
   "source": [
    "# Extract some aggregated quantities from the simulation\n",
    "# Mean temperature of daisyworld as a function of step\n",
    "gdf = groupby(data, :step)\n",
    "df_T = combine(gdf, :temperature => mean => :T_average)\n",
    "    \n",
    "gdf = groupby(data, [:step, :colour]);\n",
    "df = combine(gdf, nrow => :count);\n",
    "colour_df = groupby(df, :colour);\n",
    "g1 = get(colour_df, (colour=1,), nothing);\n",
    "g2 = get(colour_df, (colour=2,), nothing);\n",
    "g3 = get(colour_df, (colour=3,), nothing);"
   ]
  },
  {
   "cell_type": "markdown",
   "metadata": {
    "slideshow": {
     "slide_type": "slide"
    }
   },
   "source": [
    "### Create the plot"
   ]
  },
  {
   "cell_type": "code",
   "execution_count": null,
   "metadata": {},
   "outputs": [],
   "source": [
    "p = plot(df_T.step, df_T.T_average /T_opt, label = \"T/T_opt\", color=\"red\")\n",
    "plot!(g1.step, g1.count/size^2, label = \"Proportion of white daisies\", color=\"green\")\n",
    "plot!(g2.step, g2.count/size^2, label = \"Proportion of black daisies\", color=\"black\")\n",
    "plot!(g3.step, g3.count/size^2, label = \"Proportion of empty patches\", color=\"blue\")"
   ]
  },
  {
   "cell_type": "code",
   "execution_count": null,
   "metadata": {},
   "outputs": [],
   "source": []
  },
  {
   "cell_type": "markdown",
   "metadata": {
    "slideshow": {
     "slide_type": "slide"
    }
   },
   "source": [
    "## The end\n",
    "\n",
    "Hopefully you now know the basics of how to build, visualise and analyse ABMs in Julia. Do let me know if you ever use any of this for your own research!"
   ]
  },
  {
   "cell_type": "markdown",
   "metadata": {
    "slideshow": {
     "slide_type": "slide"
    }
   },
   "source": [
    "## Useful links\n",
    "* DifferentialEquation.jl documentation : https://docs.juliadiffeq.org/stable/\n",
    "\n",
    "## References\n",
    "\n",
    "[Watson, Andrew J., and James E. Lovelock. \"Biological homeostasis of the global environment: the parable of Daisyworld.\" Tellus B: Chemical and Physical Meteorology 35, no. 4 (1983): 284-289.](https://www.tandfonline.com/doi/pdf/10.3402/tellusb.v35i4.14616)"
   ]
  },
  {
   "cell_type": "code",
   "execution_count": null,
   "metadata": {
    "slideshow": {
     "slide_type": "slide"
    }
   },
   "outputs": [],
   "source": [
    "include(\"code/DW.jl\")\n",
    "# Change the solar flux to see what happens\n",
    "T_opt = 22.5\n",
    "T_range = 10.0\n",
    "F2(step) = (T_opt + T_range)*1.5\n",
    "data, p = DW.run(50, F=F2)"
   ]
  },
  {
   "cell_type": "code",
   "execution_count": null,
   "metadata": {
    "slideshow": {
     "slide_type": "slide"
    }
   },
   "outputs": [],
   "source": [
    "p"
   ]
  },
  {
   "cell_type": "code",
   "execution_count": null,
   "metadata": {},
   "outputs": [],
   "source": []
  }
 ],
 "metadata": {
  "celltoolbar": "Slideshow",
  "kernelspec": {
   "display_name": "Julia 1.6.0",
   "language": "julia",
   "name": "julia-1.6"
  },
  "language_info": {
   "file_extension": ".jl",
   "mimetype": "application/julia",
   "name": "julia",
   "version": "1.6.0"
  }
 },
 "nbformat": 4,
 "nbformat_minor": 2
}

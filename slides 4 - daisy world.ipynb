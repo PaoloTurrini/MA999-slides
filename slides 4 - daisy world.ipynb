{
 "cells": [
  {
   "cell_type": "code",
   "execution_count": 1,
   "metadata": {
    "slideshow": {
     "slide_type": "skip"
    }
   },
   "outputs": [
    {
     "name": "stderr",
     "output_type": "stream",
     "text": [
      "\u001b[32m\u001b[1m  Activating\u001b[22m\u001b[39m project at `~/Documents/GitHub/MA999-slides`\n",
      "┌ Warning: The active manifest file is an older format with no julia version entry. Dependencies may have been resolved with a different julia version.\n",
      "└ @ nothing /Users/paoloturrini/Documents/GitHub/MA999-slides/Manifest.toml:0\n",
      "\u001b[32m\u001b[1mPrecompiling\u001b[22m\u001b[39m project...\n",
      "\u001b[32m  ✓ \u001b[39m\u001b[90mSuiteSparse_jll\u001b[39m\n",
      "\u001b[32m  ✓ \u001b[39m\u001b[90mKLU\u001b[39m\n",
      "\u001b[32m  ✓ \u001b[39m\u001b[90mSundials_jll\u001b[39m\n",
      "\u001b[32m  ✓ \u001b[39m\u001b[90mLinearSolve\u001b[39m\n",
      "\u001b[32m  ✓ \u001b[39m\u001b[90mSundials\u001b[39m\n",
      "\u001b[32m  ✓ \u001b[39m\u001b[90mOrdinaryDiffEq\u001b[39m\n",
      "\u001b[32m  ✓ \u001b[39m\u001b[90mDiffEqCallbacks\u001b[39m\n",
      "\u001b[32m  ✓ \u001b[39m\u001b[90mDelayDiffEq\u001b[39m\n",
      "\u001b[32m  ✓ \u001b[39m\u001b[90mStochasticDiffEq\u001b[39m\n",
      "\u001b[32m  ✓ \u001b[39m\u001b[90mSteadyStateDiffEq\u001b[39m\n",
      "\u001b[32m  ✓ \u001b[39mDifferentialEquations\n",
      "  11 dependencies successfully precompiled in 113 seconds (297 already precompiled)\n"
     ]
    }
   ],
   "source": [
    "using Pkg\n",
    "Pkg.activate(\".\")\n",
    "Pkg.instantiate()"
   ]
  },
  {
   "cell_type": "code",
   "execution_count": 2,
   "metadata": {},
   "outputs": [
    {
     "name": "stderr",
     "output_type": "stream",
     "text": [
      "┌ Info: Precompiling DifferentialEquations [0c46a032-eb83-5123-abaf-570d42b7fbaa]\n",
      "└ @ Base loading.jl:1423\n",
      "\u001b[33m\u001b[1m┌ \u001b[22m\u001b[39m\u001b[33m\u001b[1mWarning: \u001b[22m\u001b[39mPackage SuiteSparse_jll does not have libblastrampoline_jll in its dependencies:\n",
      "\u001b[33m\u001b[1m│ \u001b[22m\u001b[39m- If you have SuiteSparse_jll checked out for development and have\n",
      "\u001b[33m\u001b[1m│ \u001b[22m\u001b[39m  added libblastrampoline_jll as a dependency but haven't updated your primary\n",
      "\u001b[33m\u001b[1m│ \u001b[22m\u001b[39m  environment's manifest file, try `Pkg.resolve()`.\n",
      "\u001b[33m\u001b[1m│ \u001b[22m\u001b[39m- Otherwise you may need to report an issue with SuiteSparse_jll\n",
      "\u001b[33m\u001b[1m└ \u001b[22m\u001b[39mLoading libblastrampoline_jll into SuiteSparse_jll from project dependency, future warnings for SuiteSparse_jll are suppressed.\n",
      "\u001b[33m\u001b[1m┌ \u001b[22m\u001b[39m\u001b[33m\u001b[1mWarning: \u001b[22m\u001b[39mThe call to compilecache failed to create a usable precompiled cache file for Sundials_jll [fb77eaff-e24c-56d4-86b1-d163f2edb164]\n",
      "\u001b[33m\u001b[1m│ \u001b[22m\u001b[39m  exception = Required dependency SuiteSparse_jll [bea87d4a-7f5b-5778-9afe-8cc45184846c] failed to load from a cache file.\n",
      "\u001b[33m\u001b[1m└ \u001b[22m\u001b[39m\u001b[90m@ Base loading.jl:1132\u001b[39m\n",
      "\u001b[33m\u001b[1m┌ \u001b[22m\u001b[39m\u001b[33m\u001b[1mWarning: \u001b[22m\u001b[39mPackage SuiteSparse_jll does not have libblastrampoline_jll in its dependencies:\n",
      "\u001b[33m\u001b[1m│ \u001b[22m\u001b[39m- If you have SuiteSparse_jll checked out for development and have\n",
      "\u001b[33m\u001b[1m│ \u001b[22m\u001b[39m  added libblastrampoline_jll as a dependency but haven't updated your primary\n",
      "\u001b[33m\u001b[1m│ \u001b[22m\u001b[39m  environment's manifest file, try `Pkg.resolve()`.\n",
      "\u001b[33m\u001b[1m│ \u001b[22m\u001b[39m- Otherwise you may need to report an issue with SuiteSparse_jll\n",
      "\u001b[33m\u001b[1m└ \u001b[22m\u001b[39mLoading libblastrampoline_jll into SuiteSparse_jll from project dependency, future warnings for SuiteSparse_jll are suppressed.\n",
      "\u001b[33m\u001b[1m┌ \u001b[22m\u001b[39m\u001b[33m\u001b[1mWarning: \u001b[22m\u001b[39mThe call to compilecache failed to create a usable precompiled cache file for Sundials [c3572dad-4567-51f8-b174-8c6c989267f4]\n",
      "\u001b[33m\u001b[1m│ \u001b[22m\u001b[39m  exception = Required dependency SuiteSparse_jll [bea87d4a-7f5b-5778-9afe-8cc45184846c] failed to load from a cache file.\n",
      "\u001b[33m\u001b[1m└ \u001b[22m\u001b[39m\u001b[90m@ Base loading.jl:1132\u001b[39m\n",
      "\u001b[33m\u001b[1m┌ \u001b[22m\u001b[39m\u001b[33m\u001b[1mWarning: \u001b[22m\u001b[39mPackage SuiteSparse_jll does not have libblastrampoline_jll in its dependencies:\n",
      "\u001b[33m\u001b[1m│ \u001b[22m\u001b[39m- If you have SuiteSparse_jll checked out for development and have\n",
      "\u001b[33m\u001b[1m│ \u001b[22m\u001b[39m  added libblastrampoline_jll as a dependency but haven't updated your primary\n",
      "\u001b[33m\u001b[1m│ \u001b[22m\u001b[39m  environment's manifest file, try `Pkg.resolve()`.\n",
      "\u001b[33m\u001b[1m│ \u001b[22m\u001b[39m- Otherwise you may need to report an issue with SuiteSparse_jll\n",
      "\u001b[33m\u001b[1m└ \u001b[22m\u001b[39mLoading libblastrampoline_jll into SuiteSparse_jll from project dependency, future warnings for SuiteSparse_jll are suppressed.\n",
      "\u001b[33m\u001b[1m┌ \u001b[22m\u001b[39m\u001b[33m\u001b[1mWarning: \u001b[22m\u001b[39mThe call to compilecache failed to create a usable precompiled cache file for Sundials_jll [fb77eaff-e24c-56d4-86b1-d163f2edb164]\n",
      "\u001b[33m\u001b[1m│ \u001b[22m\u001b[39m  exception = Required dependency SuiteSparse_jll [bea87d4a-7f5b-5778-9afe-8cc45184846c] failed to load from a cache file.\n",
      "\u001b[33m\u001b[1m└ \u001b[22m\u001b[39m\u001b[90m@ Base loading.jl:1132\u001b[39m\n",
      "\u001b[33m\u001b[1m┌ \u001b[22m\u001b[39m\u001b[33m\u001b[1mWarning: \u001b[22m\u001b[39mPackage SuiteSparse_jll does not have libblastrampoline_jll in its dependencies:\n",
      "\u001b[33m\u001b[1m│ \u001b[22m\u001b[39m- If you have SuiteSparse_jll checked out for development and have\n",
      "\u001b[33m\u001b[1m│ \u001b[22m\u001b[39m  added libblastrampoline_jll as a dependency but haven't updated your primary\n",
      "\u001b[33m\u001b[1m│ \u001b[22m\u001b[39m  environment's manifest file, try `Pkg.resolve()`.\n",
      "\u001b[33m\u001b[1m│ \u001b[22m\u001b[39m- Otherwise you may need to report an issue with SuiteSparse_jll\n",
      "\u001b[33m\u001b[1m└ \u001b[22m\u001b[39mLoading libblastrampoline_jll into SuiteSparse_jll from project dependency, future warnings for SuiteSparse_jll are suppressed.\n",
      "┌ Warning: The call to compilecache failed to create a usable precompiled cache file for DifferentialEquations [0c46a032-eb83-5123-abaf-570d42b7fbaa]\n",
      "│   exception = ErrorException(\"Required dependency SuiteSparse_jll [bea87d4a-7f5b-5778-9afe-8cc45184846c] failed to load from a cache file.\")\n",
      "└ @ Base loading.jl:1132\n",
      "┌ Info: Precompiling Sundials [c3572dad-4567-51f8-b174-8c6c989267f4]\n",
      "└ @ Base loading.jl:1423\n",
      "\u001b[33m\u001b[1m┌ \u001b[22m\u001b[39m\u001b[33m\u001b[1mWarning: \u001b[22m\u001b[39mPackage SuiteSparse_jll does not have libblastrampoline_jll in its dependencies:\n",
      "\u001b[33m\u001b[1m│ \u001b[22m\u001b[39m- If you have SuiteSparse_jll checked out for development and have\n",
      "\u001b[33m\u001b[1m│ \u001b[22m\u001b[39m  added libblastrampoline_jll as a dependency but haven't updated your primary\n",
      "\u001b[33m\u001b[1m│ \u001b[22m\u001b[39m  environment's manifest file, try `Pkg.resolve()`.\n",
      "\u001b[33m\u001b[1m│ \u001b[22m\u001b[39m- Otherwise you may need to report an issue with SuiteSparse_jll\n",
      "\u001b[33m\u001b[1m└ \u001b[22m\u001b[39mLoading libblastrampoline_jll into SuiteSparse_jll from project dependency, future warnings for SuiteSparse_jll are suppressed.\n",
      "\u001b[33m\u001b[1m┌ \u001b[22m\u001b[39m\u001b[33m\u001b[1mWarning: \u001b[22m\u001b[39mThe call to compilecache failed to create a usable precompiled cache file for Sundials_jll [fb77eaff-e24c-56d4-86b1-d163f2edb164]\n",
      "\u001b[33m\u001b[1m│ \u001b[22m\u001b[39m  exception = Required dependency SuiteSparse_jll [bea87d4a-7f5b-5778-9afe-8cc45184846c] failed to load from a cache file.\n",
      "\u001b[33m\u001b[1m└ \u001b[22m\u001b[39m\u001b[90m@ Base loading.jl:1132\u001b[39m\n",
      "\u001b[33m\u001b[1m┌ \u001b[22m\u001b[39m\u001b[33m\u001b[1mWarning: \u001b[22m\u001b[39mPackage SuiteSparse_jll does not have libblastrampoline_jll in its dependencies:\n",
      "\u001b[33m\u001b[1m│ \u001b[22m\u001b[39m- If you have SuiteSparse_jll checked out for development and have\n",
      "\u001b[33m\u001b[1m│ \u001b[22m\u001b[39m  added libblastrampoline_jll as a dependency but haven't updated your primary\n",
      "\u001b[33m\u001b[1m│ \u001b[22m\u001b[39m  environment's manifest file, try `Pkg.resolve()`.\n",
      "\u001b[33m\u001b[1m│ \u001b[22m\u001b[39m- Otherwise you may need to report an issue with SuiteSparse_jll\n",
      "\u001b[33m\u001b[1m└ \u001b[22m\u001b[39mLoading libblastrampoline_jll into SuiteSparse_jll from project dependency, future warnings for SuiteSparse_jll are suppressed.\n",
      "┌ Warning: The call to compilecache failed to create a usable precompiled cache file for Sundials [c3572dad-4567-51f8-b174-8c6c989267f4]\n",
      "│   exception = ErrorException(\"Required dependency SuiteSparse_jll [bea87d4a-7f5b-5778-9afe-8cc45184846c] failed to load from a cache file.\")\n",
      "└ @ Base loading.jl:1132\n",
      "┌ Info: Precompiling Sundials_jll [fb77eaff-e24c-56d4-86b1-d163f2edb164]\n",
      "└ @ Base loading.jl:1423\n",
      "\u001b[33m\u001b[1m┌ \u001b[22m\u001b[39m\u001b[33m\u001b[1mWarning: \u001b[22m\u001b[39mPackage SuiteSparse_jll does not have libblastrampoline_jll in its dependencies:\n",
      "\u001b[33m\u001b[1m│ \u001b[22m\u001b[39m- If you have SuiteSparse_jll checked out for development and have\n",
      "\u001b[33m\u001b[1m│ \u001b[22m\u001b[39m  added libblastrampoline_jll as a dependency but haven't updated your primary\n",
      "\u001b[33m\u001b[1m│ \u001b[22m\u001b[39m  environment's manifest file, try `Pkg.resolve()`.\n",
      "\u001b[33m\u001b[1m│ \u001b[22m\u001b[39m- Otherwise you may need to report an issue with SuiteSparse_jll\n",
      "\u001b[33m\u001b[1m└ \u001b[22m\u001b[39mLoading libblastrampoline_jll into SuiteSparse_jll from project dependency, future warnings for SuiteSparse_jll are suppressed.\n",
      "┌ Warning: The call to compilecache failed to create a usable precompiled cache file for Sundials_jll [fb77eaff-e24c-56d4-86b1-d163f2edb164]\n",
      "│   exception = ErrorException(\"Required dependency SuiteSparse_jll [bea87d4a-7f5b-5778-9afe-8cc45184846c] failed to load from a cache file.\")\n",
      "└ @ Base loading.jl:1132\n",
      "┌ Info: Precompiling SuiteSparse_jll [bea87d4a-7f5b-5778-9afe-8cc45184846c]\n",
      "└ @ Base loading.jl:1423\n",
      "\u001b[33m\u001b[1m┌ \u001b[22m\u001b[39m\u001b[33m\u001b[1mWarning: \u001b[22m\u001b[39mPackage SuiteSparse_jll does not have libblastrampoline_jll in its dependencies:\n",
      "\u001b[33m\u001b[1m│ \u001b[22m\u001b[39m- If you have SuiteSparse_jll checked out for development and have\n",
      "\u001b[33m\u001b[1m│ \u001b[22m\u001b[39m  added libblastrampoline_jll as a dependency but haven't updated your primary\n",
      "\u001b[33m\u001b[1m│ \u001b[22m\u001b[39m  environment's manifest file, try `Pkg.resolve()`.\n",
      "\u001b[33m\u001b[1m│ \u001b[22m\u001b[39m- Otherwise you may need to report an issue with SuiteSparse_jll\n",
      "\u001b[33m\u001b[1m└ \u001b[22m\u001b[39mLoading libblastrampoline_jll into SuiteSparse_jll from project dependency, future warnings for SuiteSparse_jll are suppressed.\n"
     ]
    },
    {
     "ename": "LoadError",
     "evalue": "LoadError: InitError: could not load library \"/Users/paoloturrini/.julia/artifacts/bd8ae81b8657ac029ad0b2592aaba09a79121a96/lib/libsundials_sunlinsolklu.3.2.0.dylib\"\ndlopen(/Users/paoloturrini/.julia/artifacts/bd8ae81b8657ac029ad0b2592aaba09a79121a96/lib/libsundials_sunlinsolklu.3.2.0.dylib, 0x0001): Library not loaded: '@rpath/libsuitesparseconfig.5.4.0.dylib'\n  Referenced from: '/Users/paoloturrini/.julia/artifacts/bd8ae81b8657ac029ad0b2592aaba09a79121a96/lib/libsundials_sunlinsolklu.3.2.0.dylib'\n  Reason: tried: '/Users/paoloturrini/.julia/artifacts/bd8ae81b8657ac029ad0b2592aaba09a79121a96/lib/./libsuitesparseconfig.5.4.0.dylib' (no such file), '/Users/paoloturrini/.julia/artifacts/bd8ae81b8657ac029ad0b2592aaba09a79121a96/lib/./libsuitesparseconfig.5.4.0.dylib' (no such file), '/Applications/Julia-1.7.app/Contents/Resources/julia/lib/julia/libsuitesparseconfig.5.4.0.dylib' (no such file), '/Applications/Julia-1.7.app/Contents/Resources/julia/bin/../lib/libsuitesparseconfig.5.4.0.dylib' (no such file), '/usr/local/lib/libsuitesparseconfig.5.4.0.dylib' (no such file), '/usr/lib/libsuitesparseconfig.5.4.0.dylib' (no such file)\nduring initialization of module Sundials_jll\nin expression starting at /Users/paoloturrini/.julia/packages/Sundials_jll/heTyl/src/Sundials_jll.jl:1\nin expression starting at /Users/paoloturrini/.julia/packages/Sundials/s8xf8/src/Sundials.jl:3\nin expression starting at /Users/paoloturrini/.julia/packages/DifferentialEquations/4jfQK/src/DifferentialEquations.jl:1",
     "output_type": "error",
     "traceback": [
      "LoadError: InitError: could not load library \"/Users/paoloturrini/.julia/artifacts/bd8ae81b8657ac029ad0b2592aaba09a79121a96/lib/libsundials_sunlinsolklu.3.2.0.dylib\"\ndlopen(/Users/paoloturrini/.julia/artifacts/bd8ae81b8657ac029ad0b2592aaba09a79121a96/lib/libsundials_sunlinsolklu.3.2.0.dylib, 0x0001): Library not loaded: '@rpath/libsuitesparseconfig.5.4.0.dylib'\n  Referenced from: '/Users/paoloturrini/.julia/artifacts/bd8ae81b8657ac029ad0b2592aaba09a79121a96/lib/libsundials_sunlinsolklu.3.2.0.dylib'\n  Reason: tried: '/Users/paoloturrini/.julia/artifacts/bd8ae81b8657ac029ad0b2592aaba09a79121a96/lib/./libsuitesparseconfig.5.4.0.dylib' (no such file), '/Users/paoloturrini/.julia/artifacts/bd8ae81b8657ac029ad0b2592aaba09a79121a96/lib/./libsuitesparseconfig.5.4.0.dylib' (no such file), '/Applications/Julia-1.7.app/Contents/Resources/julia/lib/julia/libsuitesparseconfig.5.4.0.dylib' (no such file), '/Applications/Julia-1.7.app/Contents/Resources/julia/bin/../lib/libsuitesparseconfig.5.4.0.dylib' (no such file), '/usr/local/lib/libsuitesparseconfig.5.4.0.dylib' (no such file), '/usr/lib/libsuitesparseconfig.5.4.0.dylib' (no such file)\nduring initialization of module Sundials_jll\nin expression starting at /Users/paoloturrini/.julia/packages/Sundials_jll/heTyl/src/Sundials_jll.jl:1\nin expression starting at /Users/paoloturrini/.julia/packages/Sundials/s8xf8/src/Sundials.jl:3\nin expression starting at /Users/paoloturrini/.julia/packages/DifferentialEquations/4jfQK/src/DifferentialEquations.jl:1",
      "",
      "Stacktrace:",
      "  [1] dlopen(s::String, flags::UInt32; throw_error::Bool)",
      "    @ Base.Libc.Libdl ./libdl.jl:117",
      "  [2] dlopen (repeats 2 times)",
      "    @ ./libdl.jl:117 [inlined]",
      "  [3] __init__()",
      "    @ Sundials_jll ~/.julia/packages/Sundials_jll/heTyl/src/wrappers/x86_64-apple-darwin14-libgfortran5.jl:422",
      "  [4] include",
      "    @ ./Base.jl:418 [inlined]",
      "  [5] _require(pkg::Base.PkgId)",
      "    @ Base ./loading.jl:1149",
      "  [6] require(uuidkey::Base.PkgId)",
      "    @ Base ./loading.jl:1013",
      "  [7] require(into::Module, mod::Symbol)",
      "    @ Base ./loading.jl:997",
      "  [8] include",
      "    @ ./Base.jl:418 [inlined]",
      "  [9] _require(pkg::Base.PkgId)",
      "    @ Base ./loading.jl:1149",
      " [10] require(uuidkey::Base.PkgId)",
      "    @ Base ./loading.jl:1013",
      " [11] require(into::Module, mod::Symbol)",
      "    @ Base ./loading.jl:997",
      " [12] include",
      "    @ ./Base.jl:418 [inlined]",
      " [13] _require(pkg::Base.PkgId)",
      "    @ Base ./loading.jl:1149",
      " [14] require(uuidkey::Base.PkgId)",
      "    @ Base ./loading.jl:1013",
      " [15] require(into::Module, mod::Symbol)",
      "    @ Base ./loading.jl:997",
      " [16] eval",
      "    @ ./boot.jl:373 [inlined]",
      " [17] include_string(mapexpr::typeof(REPL.softscope), mod::Module, code::String, filename::String)",
      "    @ Base ./loading.jl:1196"
     ]
    }
   ],
   "source": [
    "using Plots\n",
    "using LaTeXStrings\n",
    "using DifferentialEquations\n",
    "using Agents\n",
    "using DataFrames\n",
    "using Statistics"
   ]
  },
  {
   "cell_type": "code",
   "execution_count": 3,
   "metadata": {},
   "outputs": [
    {
     "data": {
      "text/plain": [
       "Main.DW"
      ]
     },
     "execution_count": 3,
     "metadata": {},
     "output_type": "execute_result"
    }
   ],
   "source": [
    "include(\"code/DW.jl\")"
   ]
  },
  {
   "cell_type": "markdown",
   "metadata": {
    "slideshow": {
     "slide_type": "slide"
    }
   },
   "source": [
    "# MA999 - Agent based modelling 4 - Daisyworld\n",
    "\n",
    "## MathSys CDT 2023\n",
    "\n",
    "### Lecturer: Paolo Turrini \n",
    "(thanks to Colm Connaughton and Stas Zhydkov) "
   ]
  },
  {
   "cell_type": "markdown",
   "metadata": {
    "slideshow": {
     "slide_type": "slide"
    }
   },
   "source": [
    "## The Gaia Hypothesis\n",
    "\n",
    "The interactions between the biological and non-biological components of the Earth system form a self-regulating complex system which acts to maintain the conditions favourable to life on the planet.\n",
    "\n",
    "Watson & Lovelock (1983)\n",
    "\n",
    "Criticised by evolutionary biologists since it seemed to imply large scale cooperation between organisms counter to prevailing theories of natural selection"
   ]
  },
  {
   "cell_type": "markdown",
   "metadata": {
    "slideshow": {
     "slide_type": "slide"
    }
   },
   "source": [
    "## Daisyworld model\n",
    "\n",
    "The Daisyworld model is a minimal model of a planetary ecology demonstrating that thermoregulation can emerge from *competitive* interaction between species.\n",
    "\n",
    "### Model ingredients:\n",
    "\n",
    "* Daisyworld is home to two species of daisies, black daisies and white daisies, that are identical in all respects other than their color.\n",
    "* Daisies compete for space on Daisywork by spreading to occupy available bare ground.\n",
    "* Daisies' rate of reproduction, $\\beta(T)$, is a function of temperature with a single maximum at $T_\\text{opt}$.\n",
    "* Daisies' rate of death is constant, $\\gamma$.\n",
    "* Daisies interact with the environment through their *albedo*:\n",
    "    * Black daisies absorb sunlight and increase the local temperature above that of bare ground.\n",
    "    * White daisies reflect sunlight and decrease the local temperature below that of bare ground."
   ]
  },
  {
   "cell_type": "markdown",
   "metadata": {
    "slideshow": {
     "slide_type": "slide"
    }
   },
   "source": [
    "## Mathematical model of Daisyworld\n",
    "\n",
    "The orginal model of Watson and Lovelock was a mean-field model that did not explicitly account for space. The dependent variables are the *proportions* of the surface area occupied by the white and black daisies:\n",
    "* $A_w(t)$ : proportion of the surface occupied by white daisies.\n",
    "* $A_b(t)$ : proportion of the surface occupied by black daisies.\n",
    "\n",
    "We denote by $A_0(t)$ the proportion of the surface that is bare. Clearly we have the constraint:\n",
    "$$ A_w(t) + A_b(t) + A_0(t) = 1$$"
   ]
  },
  {
   "cell_type": "markdown",
   "metadata": {
    "slideshow": {
     "slide_type": "slide"
    }
   },
   "source": [
    "### Modelling the growth rate of daisies\n",
    "\n",
    "We need a model of the growth rate of the daisies. A parabolic function is the simplest:"
   ]
  },
  {
   "cell_type": "code",
   "execution_count": 3,
   "metadata": {},
   "outputs": [
    {
     "data": {
      "image/svg+xml": [
       "<?xml version=\"1.0\" encoding=\"utf-8\"?>\n",
       "<svg xmlns=\"http://www.w3.org/2000/svg\" xmlns:xlink=\"http://www.w3.org/1999/xlink\" width=\"600\" height=\"400\" viewBox=\"0 0 2400 1600\">\n",
       "<defs>\n",
       "  <clipPath id=\"clip830\">\n",
       "    <rect x=\"0\" y=\"0\" width=\"2400\" height=\"1600\"/>\n",
       "  </clipPath>\n",
       "</defs>\n",
       "<path clip-path=\"url(#clip830)\" d=\"\n",
       "M0 1600 L2400 1600 L2400 0 L0 0  Z\n",
       "  \" fill=\"#ffffff\" fill-rule=\"evenodd\" fill-opacity=\"1\"/>\n",
       "<defs>\n",
       "  <clipPath id=\"clip831\">\n",
       "    <rect x=\"480\" y=\"0\" width=\"1681\" height=\"1600\"/>\n",
       "  </clipPath>\n",
       "</defs>\n",
       "<path clip-path=\"url(#clip830)\" d=\"\n",
       "M249.542 1423.18 L2352.76 1423.18 L2352.76 47.2441 L249.542 47.2441  Z\n",
       "  \" fill=\"#ffffff\" fill-rule=\"evenodd\" fill-opacity=\"1\"/>\n",
       "<defs>\n",
       "  <clipPath id=\"clip832\">\n",
       "    <rect x=\"249\" y=\"47\" width=\"2104\" height=\"1377\"/>\n",
       "  </clipPath>\n",
       "</defs>\n",
       "<polyline clip-path=\"url(#clip832)\" style=\"stroke:#000000; stroke-linecap:butt; stroke-linejoin:round; stroke-width:2; stroke-opacity:0.1; fill:none\" points=\"\n",
       "  309.067,1423.18 309.067,47.2441 \n",
       "  \"/>\n",
       "<polyline clip-path=\"url(#clip832)\" style=\"stroke:#000000; stroke-linecap:butt; stroke-linejoin:round; stroke-width:2; stroke-opacity:0.1; fill:none\" points=\"\n",
       "  805.108,1423.18 805.108,47.2441 \n",
       "  \"/>\n",
       "<polyline clip-path=\"url(#clip832)\" style=\"stroke:#000000; stroke-linecap:butt; stroke-linejoin:round; stroke-width:2; stroke-opacity:0.1; fill:none\" points=\"\n",
       "  1301.15,1423.18 1301.15,47.2441 \n",
       "  \"/>\n",
       "<polyline clip-path=\"url(#clip832)\" style=\"stroke:#000000; stroke-linecap:butt; stroke-linejoin:round; stroke-width:2; stroke-opacity:0.1; fill:none\" points=\"\n",
       "  1797.19,1423.18 1797.19,47.2441 \n",
       "  \"/>\n",
       "<polyline clip-path=\"url(#clip832)\" style=\"stroke:#000000; stroke-linecap:butt; stroke-linejoin:round; stroke-width:2; stroke-opacity:0.1; fill:none\" points=\"\n",
       "  2293.23,1423.18 2293.23,47.2441 \n",
       "  \"/>\n",
       "<polyline clip-path=\"url(#clip830)\" style=\"stroke:#000000; stroke-linecap:butt; stroke-linejoin:round; stroke-width:4; stroke-opacity:1; fill:none\" points=\"\n",
       "  249.542,1423.18 2352.76,1423.18 \n",
       "  \"/>\n",
       "<polyline clip-path=\"url(#clip830)\" style=\"stroke:#000000; stroke-linecap:butt; stroke-linejoin:round; stroke-width:4; stroke-opacity:1; fill:none\" points=\"\n",
       "  309.067,1423.18 309.067,1404.28 \n",
       "  \"/>\n",
       "<polyline clip-path=\"url(#clip830)\" style=\"stroke:#000000; stroke-linecap:butt; stroke-linejoin:round; stroke-width:4; stroke-opacity:1; fill:none\" points=\"\n",
       "  805.108,1423.18 805.108,1404.28 \n",
       "  \"/>\n",
       "<polyline clip-path=\"url(#clip830)\" style=\"stroke:#000000; stroke-linecap:butt; stroke-linejoin:round; stroke-width:4; stroke-opacity:1; fill:none\" points=\"\n",
       "  1301.15,1423.18 1301.15,1404.28 \n",
       "  \"/>\n",
       "<polyline clip-path=\"url(#clip830)\" style=\"stroke:#000000; stroke-linecap:butt; stroke-linejoin:round; stroke-width:4; stroke-opacity:1; fill:none\" points=\"\n",
       "  1797.19,1423.18 1797.19,1404.28 \n",
       "  \"/>\n",
       "<polyline clip-path=\"url(#clip830)\" style=\"stroke:#000000; stroke-linecap:butt; stroke-linejoin:round; stroke-width:4; stroke-opacity:1; fill:none\" points=\"\n",
       "  2293.23,1423.18 2293.23,1404.28 \n",
       "  \"/>\n",
       "<path clip-path=\"url(#clip830)\" d=\"M286.451 1454.1 Q282.84 1454.1 281.012 1457.66 Q279.206 1461.2 279.206 1468.33 Q279.206 1475.44 281.012 1479.01 Q282.84 1482.55 286.451 1482.55 Q290.086 1482.55 291.891 1479.01 Q293.72 1475.44 293.72 1468.33 Q293.72 1461.2 291.891 1457.66 Q290.086 1454.1 286.451 1454.1 M286.451 1450.39 Q292.261 1450.39 295.317 1455 Q298.396 1459.58 298.396 1468.33 Q298.396 1477.06 295.317 1481.67 Q292.261 1486.25 286.451 1486.25 Q280.641 1486.25 277.562 1481.67 Q274.507 1477.06 274.507 1468.33 Q274.507 1459.58 277.562 1455 Q280.641 1450.39 286.451 1450.39 Z\" fill=\"#000000\" fill-rule=\"evenodd\" fill-opacity=\"1\" /><path clip-path=\"url(#clip830)\" d=\"M306.613 1479.7 L311.497 1479.7 L311.497 1485.58 L306.613 1485.58 L306.613 1479.7 Z\" fill=\"#000000\" fill-rule=\"evenodd\" fill-opacity=\"1\" /><path clip-path=\"url(#clip830)\" d=\"M331.683 1454.1 Q328.071 1454.1 326.243 1457.66 Q324.437 1461.2 324.437 1468.33 Q324.437 1475.44 326.243 1479.01 Q328.071 1482.55 331.683 1482.55 Q335.317 1482.55 337.122 1479.01 Q338.951 1475.44 338.951 1468.33 Q338.951 1461.2 337.122 1457.66 Q335.317 1454.1 331.683 1454.1 M331.683 1450.39 Q337.493 1450.39 340.548 1455 Q343.627 1459.58 343.627 1468.33 Q343.627 1477.06 340.548 1481.67 Q337.493 1486.25 331.683 1486.25 Q325.872 1486.25 322.794 1481.67 Q319.738 1477.06 319.738 1468.33 Q319.738 1459.58 322.794 1455 Q325.872 1450.39 331.683 1450.39 Z\" fill=\"#000000\" fill-rule=\"evenodd\" fill-opacity=\"1\" /><path clip-path=\"url(#clip830)\" d=\"M776.844 1481.64 L793.164 1481.64 L793.164 1485.58 L771.219 1485.58 L771.219 1481.64 Q773.881 1478.89 778.465 1474.26 Q783.071 1469.61 784.252 1468.27 Q786.497 1465.74 787.377 1464.01 Q788.279 1462.25 788.279 1460.56 Q788.279 1457.8 786.335 1456.07 Q784.414 1454.33 781.312 1454.33 Q779.113 1454.33 776.659 1455.09 Q774.228 1455.86 771.451 1457.41 L771.451 1452.69 Q774.275 1451.55 776.728 1450.97 Q779.182 1450.39 781.219 1450.39 Q786.59 1450.39 789.784 1453.08 Q792.978 1455.77 792.978 1460.26 Q792.978 1462.39 792.168 1464.31 Q791.381 1466.2 789.275 1468.8 Q788.696 1469.47 785.594 1472.69 Q782.492 1475.88 776.844 1481.64 Z\" fill=\"#000000\" fill-rule=\"evenodd\" fill-opacity=\"1\" /><path clip-path=\"url(#clip830)\" d=\"M802.978 1479.7 L807.863 1479.7 L807.863 1485.58 L802.978 1485.58 L802.978 1479.7 Z\" fill=\"#000000\" fill-rule=\"evenodd\" fill-opacity=\"1\" /><path clip-path=\"url(#clip830)\" d=\"M818.094 1451.02 L836.45 1451.02 L836.45 1454.96 L822.376 1454.96 L822.376 1463.43 Q823.395 1463.08 824.413 1462.92 Q825.432 1462.73 826.45 1462.73 Q832.237 1462.73 835.617 1465.9 Q838.997 1469.08 838.997 1474.49 Q838.997 1480.07 835.524 1483.17 Q832.052 1486.25 825.733 1486.25 Q823.557 1486.25 821.288 1485.88 Q819.043 1485.51 816.636 1484.77 L816.636 1480.07 Q818.719 1481.2 820.941 1481.76 Q823.163 1482.32 825.64 1482.32 Q829.645 1482.32 831.983 1480.21 Q834.321 1478.1 834.321 1474.49 Q834.321 1470.88 831.983 1468.77 Q829.645 1466.67 825.64 1466.67 Q823.765 1466.67 821.89 1467.08 Q820.038 1467.5 818.094 1468.38 L818.094 1451.02 Z\" fill=\"#000000\" fill-rule=\"evenodd\" fill-opacity=\"1\" /><path clip-path=\"url(#clip830)\" d=\"M1268.31 1451.02 L1286.67 1451.02 L1286.67 1454.96 L1272.6 1454.96 L1272.6 1463.43 Q1273.61 1463.08 1274.63 1462.92 Q1275.65 1462.73 1276.67 1462.73 Q1282.46 1462.73 1285.84 1465.9 Q1289.22 1469.08 1289.22 1474.49 Q1289.22 1480.07 1285.74 1483.17 Q1282.27 1486.25 1275.95 1486.25 Q1273.78 1486.25 1271.51 1485.88 Q1269.26 1485.51 1266.86 1484.77 L1266.86 1480.07 Q1268.94 1481.2 1271.16 1481.76 Q1273.38 1482.32 1275.86 1482.32 Q1279.86 1482.32 1282.2 1480.21 Q1284.54 1478.1 1284.54 1474.49 Q1284.54 1470.88 1282.2 1468.77 Q1279.86 1466.67 1275.86 1466.67 Q1273.98 1466.67 1272.11 1467.08 Q1270.26 1467.5 1268.31 1468.38 L1268.31 1451.02 Z\" fill=\"#000000\" fill-rule=\"evenodd\" fill-opacity=\"1\" /><path clip-path=\"url(#clip830)\" d=\"M1298.43 1479.7 L1303.31 1479.7 L1303.31 1485.58 L1298.43 1485.58 L1298.43 1479.7 Z\" fill=\"#000000\" fill-rule=\"evenodd\" fill-opacity=\"1\" /><path clip-path=\"url(#clip830)\" d=\"M1323.5 1454.1 Q1319.89 1454.1 1318.06 1457.66 Q1316.25 1461.2 1316.25 1468.33 Q1316.25 1475.44 1318.06 1479.01 Q1319.89 1482.55 1323.5 1482.55 Q1327.13 1482.55 1328.94 1479.01 Q1330.77 1475.44 1330.77 1468.33 Q1330.77 1461.2 1328.94 1457.66 Q1327.13 1454.1 1323.5 1454.1 M1323.5 1450.39 Q1329.31 1450.39 1332.36 1455 Q1335.44 1459.58 1335.44 1468.33 Q1335.44 1477.06 1332.36 1481.67 Q1329.31 1486.25 1323.5 1486.25 Q1317.69 1486.25 1314.61 1481.67 Q1311.55 1477.06 1311.55 1468.33 Q1311.55 1459.58 1314.61 1455 Q1317.69 1450.39 1323.5 1450.39 Z\" fill=\"#000000\" fill-rule=\"evenodd\" fill-opacity=\"1\" /><path clip-path=\"url(#clip830)\" d=\"M1763.51 1451.02 L1785.73 1451.02 L1785.73 1453.01 L1773.19 1485.58 L1768.3 1485.58 L1780.11 1454.96 L1763.51 1454.96 L1763.51 1451.02 Z\" fill=\"#000000\" fill-rule=\"evenodd\" fill-opacity=\"1\" /><path clip-path=\"url(#clip830)\" d=\"M1794.85 1479.7 L1799.74 1479.7 L1799.74 1485.58 L1794.85 1485.58 L1794.85 1479.7 Z\" fill=\"#000000\" fill-rule=\"evenodd\" fill-opacity=\"1\" /><path clip-path=\"url(#clip830)\" d=\"M1809.97 1451.02 L1828.32 1451.02 L1828.32 1454.96 L1814.25 1454.96 L1814.25 1463.43 Q1815.27 1463.08 1816.29 1462.92 Q1817.31 1462.73 1818.32 1462.73 Q1824.11 1462.73 1827.49 1465.9 Q1830.87 1469.08 1830.87 1474.49 Q1830.87 1480.07 1827.4 1483.17 Q1823.93 1486.25 1817.61 1486.25 Q1815.43 1486.25 1813.16 1485.88 Q1810.92 1485.51 1808.51 1484.77 L1808.51 1480.07 Q1810.59 1481.2 1812.81 1481.76 Q1815.04 1482.32 1817.51 1482.32 Q1821.52 1482.32 1823.86 1480.21 Q1826.19 1478.1 1826.19 1474.49 Q1826.19 1470.88 1823.86 1468.77 Q1821.52 1466.67 1817.51 1466.67 Q1815.64 1466.67 1813.76 1467.08 Q1811.91 1467.5 1809.97 1468.38 L1809.97 1451.02 Z\" fill=\"#000000\" fill-rule=\"evenodd\" fill-opacity=\"1\" /><path clip-path=\"url(#clip830)\" d=\"M2245.3 1481.64 L2252.94 1481.64 L2252.94 1455.28 L2244.63 1456.95 L2244.63 1452.69 L2252.9 1451.02 L2257.57 1451.02 L2257.57 1481.64 L2265.21 1481.64 L2265.21 1485.58 L2245.3 1485.58 L2245.3 1481.64 Z\" fill=\"#000000\" fill-rule=\"evenodd\" fill-opacity=\"1\" /><path clip-path=\"url(#clip830)\" d=\"M2284.65 1454.1 Q2281.04 1454.1 2279.21 1457.66 Q2277.41 1461.2 2277.41 1468.33 Q2277.41 1475.44 2279.21 1479.01 Q2281.04 1482.55 2284.65 1482.55 Q2288.29 1482.55 2290.09 1479.01 Q2291.92 1475.44 2291.92 1468.33 Q2291.92 1461.2 2290.09 1457.66 Q2288.29 1454.1 2284.65 1454.1 M2284.65 1450.39 Q2290.46 1450.39 2293.52 1455 Q2296.6 1459.58 2296.6 1468.33 Q2296.6 1477.06 2293.52 1481.67 Q2290.46 1486.25 2284.65 1486.25 Q2278.84 1486.25 2275.77 1481.67 Q2272.71 1477.06 2272.71 1468.33 Q2272.71 1459.58 2275.77 1455 Q2278.84 1450.39 2284.65 1450.39 Z\" fill=\"#000000\" fill-rule=\"evenodd\" fill-opacity=\"1\" /><path clip-path=\"url(#clip830)\" d=\"M2304.82 1479.7 L2309.7 1479.7 L2309.7 1485.58 L2304.82 1485.58 L2304.82 1479.7 Z\" fill=\"#000000\" fill-rule=\"evenodd\" fill-opacity=\"1\" /><path clip-path=\"url(#clip830)\" d=\"M2329.89 1454.1 Q2326.27 1454.1 2324.45 1457.66 Q2322.64 1461.2 2322.64 1468.33 Q2322.64 1475.44 2324.45 1479.01 Q2326.27 1482.55 2329.89 1482.55 Q2333.52 1482.55 2335.33 1479.01 Q2337.15 1475.44 2337.15 1468.33 Q2337.15 1461.2 2335.33 1457.66 Q2333.52 1454.1 2329.89 1454.1 M2329.89 1450.39 Q2335.7 1450.39 2338.75 1455 Q2341.83 1459.58 2341.83 1468.33 Q2341.83 1477.06 2338.75 1481.67 Q2335.7 1486.25 2329.89 1486.25 Q2324.08 1486.25 2321 1481.67 Q2317.94 1477.06 2317.94 1468.33 Q2317.94 1459.58 2321 1455 Q2324.08 1450.39 2329.89 1450.39 Z\" fill=\"#000000\" fill-rule=\"evenodd\" fill-opacity=\"1\" /><path clip-path=\"url(#clip830)\" d=\"M1096.33 1520.52 L1136.53 1520.52 L1136.53 1525.93 L1119.66 1525.93 L1119.66 1568.04 L1113.2 1568.04 L1113.2 1525.93 L1096.33 1525.93 L1096.33 1520.52 Z\" fill=\"#000000\" fill-rule=\"evenodd\" fill-opacity=\"1\" /><path clip-path=\"url(#clip830)\" d=\"M1161.9 1548.76 L1161.9 1551.62 L1134.97 1551.62 Q1135.35 1557.67 1138.6 1560.85 Q1141.88 1564 1147.7 1564 Q1151.08 1564 1154.23 1563.17 Q1157.41 1562.35 1160.53 1560.69 L1160.53 1566.23 Q1157.38 1567.57 1154.07 1568.27 Q1150.76 1568.97 1147.35 1568.97 Q1138.82 1568.97 1133.83 1564 Q1128.86 1559.04 1128.86 1550.57 Q1128.86 1541.82 1133.57 1536.69 Q1138.31 1531.54 1146.33 1531.54 Q1153.53 1531.54 1157.7 1536.18 Q1161.9 1540.8 1161.9 1548.76 M1156.04 1547.04 Q1155.98 1542.23 1153.34 1539.37 Q1150.73 1536.5 1146.4 1536.5 Q1141.5 1536.5 1138.54 1539.27 Q1135.61 1542.04 1135.16 1547.07 L1156.04 1547.04 Z\" fill=\"#000000\" fill-rule=\"evenodd\" fill-opacity=\"1\" /><path clip-path=\"url(#clip830)\" d=\"M1199.27 1539.24 Q1201.46 1535.29 1204.52 1533.41 Q1207.57 1531.54 1211.71 1531.54 Q1217.28 1531.54 1220.3 1535.45 Q1223.33 1539.33 1223.33 1546.53 L1223.33 1568.04 L1217.44 1568.04 L1217.44 1546.72 Q1217.44 1541.59 1215.63 1539.11 Q1213.81 1536.63 1210.09 1536.63 Q1205.54 1536.63 1202.89 1539.65 Q1200.25 1542.68 1200.25 1547.9 L1200.25 1568.04 L1194.36 1568.04 L1194.36 1546.72 Q1194.36 1541.56 1192.55 1539.11 Q1190.74 1536.63 1186.95 1536.63 Q1182.46 1536.63 1179.82 1539.68 Q1177.18 1542.71 1177.18 1547.9 L1177.18 1568.04 L1171.29 1568.04 L1171.29 1532.4 L1177.18 1532.4 L1177.18 1537.93 Q1179.18 1534.66 1181.98 1533.1 Q1184.78 1531.54 1188.64 1531.54 Q1192.52 1531.54 1195.22 1533.51 Q1197.96 1535.48 1199.27 1539.24 Z\" fill=\"#000000\" fill-rule=\"evenodd\" fill-opacity=\"1\" /><path clip-path=\"url(#clip830)\" d=\"M1240.67 1562.7 L1240.67 1581.6 L1234.79 1581.6 L1234.79 1532.4 L1240.67 1532.4 L1240.67 1537.81 Q1242.52 1534.62 1245.32 1533.1 Q1248.15 1531.54 1252.07 1531.54 Q1258.56 1531.54 1262.6 1536.69 Q1266.68 1541.85 1266.68 1550.25 Q1266.68 1558.65 1262.6 1563.81 Q1258.56 1568.97 1252.07 1568.97 Q1248.15 1568.97 1245.32 1567.44 Q1242.52 1565.88 1240.67 1562.7 M1260.6 1550.25 Q1260.6 1543.79 1257.93 1540.13 Q1255.28 1536.44 1250.64 1536.44 Q1245.99 1536.44 1243.32 1540.13 Q1240.67 1543.79 1240.67 1550.25 Q1240.67 1556.71 1243.32 1560.4 Q1245.99 1564.07 1250.64 1564.07 Q1255.28 1564.07 1257.93 1560.4 Q1260.6 1556.71 1260.6 1550.25 Z\" fill=\"#000000\" fill-rule=\"evenodd\" fill-opacity=\"1\" /><path clip-path=\"url(#clip830)\" d=\"M1306.88 1548.76 L1306.88 1551.62 L1279.95 1551.62 Q1280.33 1557.67 1283.58 1560.85 Q1286.86 1564 1292.68 1564 Q1296.06 1564 1299.21 1563.17 Q1302.39 1562.35 1305.51 1560.69 L1305.51 1566.23 Q1302.36 1567.57 1299.05 1568.27 Q1295.74 1568.97 1292.33 1568.97 Q1283.8 1568.97 1278.81 1564 Q1273.84 1559.04 1273.84 1550.57 Q1273.84 1541.82 1278.55 1536.69 Q1283.29 1531.54 1291.31 1531.54 Q1298.51 1531.54 1302.68 1536.18 Q1306.88 1540.8 1306.88 1548.76 M1301.02 1547.04 Q1300.96 1542.23 1298.32 1539.37 Q1295.71 1536.5 1291.38 1536.5 Q1286.48 1536.5 1283.52 1539.27 Q1280.59 1542.04 1280.14 1547.07 L1301.02 1547.04 Z\" fill=\"#000000\" fill-rule=\"evenodd\" fill-opacity=\"1\" /><path clip-path=\"url(#clip830)\" d=\"M1337.15 1537.87 Q1336.16 1537.3 1334.98 1537.04 Q1333.84 1536.76 1332.44 1536.76 Q1327.47 1536.76 1324.8 1540 Q1322.16 1543.22 1322.16 1549.27 L1322.16 1568.04 L1316.27 1568.04 L1316.27 1532.4 L1322.16 1532.4 L1322.16 1537.93 Q1324 1534.69 1326.96 1533.13 Q1329.92 1531.54 1334.16 1531.54 Q1334.76 1531.54 1335.49 1531.63 Q1336.22 1531.7 1337.12 1531.85 L1337.15 1537.87 Z\" fill=\"#000000\" fill-rule=\"evenodd\" fill-opacity=\"1\" /><path clip-path=\"url(#clip830)\" d=\"M1359.49 1550.12 Q1352.39 1550.12 1349.66 1551.75 Q1346.92 1553.37 1346.92 1557.29 Q1346.92 1560.4 1348.96 1562.25 Q1351.02 1564.07 1354.56 1564.07 Q1359.43 1564.07 1362.36 1560.63 Q1365.32 1557.16 1365.32 1551.43 L1365.32 1550.12 L1359.49 1550.12 M1371.17 1547.71 L1371.17 1568.04 L1365.32 1568.04 L1365.32 1562.63 Q1363.31 1565.88 1360.32 1567.44 Q1357.33 1568.97 1353 1568.97 Q1347.52 1568.97 1344.28 1565.91 Q1341.06 1562.82 1341.06 1557.67 Q1341.06 1551.65 1345.07 1548.6 Q1349.11 1545.54 1357.1 1545.54 L1365.32 1545.54 L1365.32 1544.97 Q1365.32 1540.93 1362.64 1538.73 Q1360 1536.5 1355.19 1536.5 Q1352.14 1536.5 1349.24 1537.23 Q1346.35 1537.97 1343.67 1539.43 L1343.67 1534.02 Q1346.89 1532.78 1349.91 1532.17 Q1352.93 1531.54 1355.8 1531.54 Q1363.53 1531.54 1367.35 1535.55 Q1371.17 1539.56 1371.17 1547.71 Z\" fill=\"#000000\" fill-rule=\"evenodd\" fill-opacity=\"1\" /><path clip-path=\"url(#clip830)\" d=\"M1389.03 1522.27 L1389.03 1532.4 L1401.09 1532.4 L1401.09 1536.95 L1389.03 1536.95 L1389.03 1556.3 Q1389.03 1560.66 1390.21 1561.9 Q1391.41 1563.14 1395.07 1563.14 L1401.09 1563.14 L1401.09 1568.04 L1395.07 1568.04 Q1388.3 1568.04 1385.72 1565.53 Q1383.14 1562.98 1383.14 1556.3 L1383.14 1536.95 L1378.84 1536.95 L1378.84 1532.4 L1383.14 1532.4 L1383.14 1522.27 L1389.03 1522.27 Z\" fill=\"#000000\" fill-rule=\"evenodd\" fill-opacity=\"1\" /><path clip-path=\"url(#clip830)\" d=\"M1408.19 1553.98 L1408.19 1532.4 L1414.04 1532.4 L1414.04 1553.75 Q1414.04 1558.81 1416.02 1561.36 Q1417.99 1563.87 1421.94 1563.87 Q1426.68 1563.87 1429.42 1560.85 Q1432.19 1557.83 1432.19 1552.61 L1432.19 1532.4 L1438.04 1532.4 L1438.04 1568.04 L1432.19 1568.04 L1432.19 1562.57 Q1430.05 1565.82 1427.22 1567.41 Q1424.42 1568.97 1420.7 1568.97 Q1414.55 1568.97 1411.37 1565.15 Q1408.19 1561.33 1408.19 1553.98 M1422.92 1531.54 L1422.92 1531.54 Z\" fill=\"#000000\" fill-rule=\"evenodd\" fill-opacity=\"1\" /><path clip-path=\"url(#clip830)\" d=\"M1470.76 1537.87 Q1469.78 1537.3 1468.6 1537.04 Q1467.45 1536.76 1466.05 1536.76 Q1461.09 1536.76 1458.41 1540 Q1455.77 1543.22 1455.77 1549.27 L1455.77 1568.04 L1449.88 1568.04 L1449.88 1532.4 L1455.77 1532.4 L1455.77 1537.93 Q1457.62 1534.69 1460.58 1533.13 Q1463.54 1531.54 1467.77 1531.54 Q1468.38 1531.54 1469.11 1531.63 Q1469.84 1531.7 1470.73 1531.85 L1470.76 1537.87 Z\" fill=\"#000000\" fill-rule=\"evenodd\" fill-opacity=\"1\" /><path clip-path=\"url(#clip830)\" d=\"M1505.97 1548.76 L1505.97 1551.62 L1479.04 1551.62 Q1479.42 1557.67 1482.67 1560.85 Q1485.95 1564 1491.77 1564 Q1495.14 1564 1498.29 1563.17 Q1501.48 1562.35 1504.6 1560.69 L1504.6 1566.23 Q1501.45 1567.57 1498.14 1568.27 Q1494.83 1568.97 1491.42 1568.97 Q1482.89 1568.97 1477.89 1564 Q1472.93 1559.04 1472.93 1550.57 Q1472.93 1541.82 1477.64 1536.69 Q1482.38 1531.54 1490.4 1531.54 Q1497.59 1531.54 1501.76 1536.18 Q1505.97 1540.8 1505.97 1548.76 M1500.11 1547.04 Q1500.05 1542.23 1497.4 1539.37 Q1494.79 1536.5 1490.47 1536.5 Q1485.56 1536.5 1482.6 1539.27 Q1479.68 1542.04 1479.23 1547.07 L1500.11 1547.04 Z\" fill=\"#000000\" fill-rule=\"evenodd\" fill-opacity=\"1\" /><polyline clip-path=\"url(#clip832)\" style=\"stroke:#000000; stroke-linecap:butt; stroke-linejoin:round; stroke-width:2; stroke-opacity:0.1; fill:none\" points=\"\n",
       "  249.542,1384.24 2352.76,1384.24 \n",
       "  \"/>\n",
       "<polyline clip-path=\"url(#clip832)\" style=\"stroke:#000000; stroke-linecap:butt; stroke-linejoin:round; stroke-width:2; stroke-opacity:0.1; fill:none\" points=\"\n",
       "  249.542,1059.73 2352.76,1059.73 \n",
       "  \"/>\n",
       "<polyline clip-path=\"url(#clip832)\" style=\"stroke:#000000; stroke-linecap:butt; stroke-linejoin:round; stroke-width:2; stroke-opacity:0.1; fill:none\" points=\"\n",
       "  249.542,735.212 2352.76,735.212 \n",
       "  \"/>\n",
       "<polyline clip-path=\"url(#clip832)\" style=\"stroke:#000000; stroke-linecap:butt; stroke-linejoin:round; stroke-width:2; stroke-opacity:0.1; fill:none\" points=\"\n",
       "  249.542,410.699 2352.76,410.699 \n",
       "  \"/>\n",
       "<polyline clip-path=\"url(#clip832)\" style=\"stroke:#000000; stroke-linecap:butt; stroke-linejoin:round; stroke-width:2; stroke-opacity:0.1; fill:none\" points=\"\n",
       "  249.542,86.1857 2352.76,86.1857 \n",
       "  \"/>\n",
       "<polyline clip-path=\"url(#clip830)\" style=\"stroke:#000000; stroke-linecap:butt; stroke-linejoin:round; stroke-width:4; stroke-opacity:1; fill:none\" points=\"\n",
       "  249.542,1423.18 249.542,47.2441 \n",
       "  \"/>\n",
       "<polyline clip-path=\"url(#clip830)\" style=\"stroke:#000000; stroke-linecap:butt; stroke-linejoin:round; stroke-width:4; stroke-opacity:1; fill:none\" points=\"\n",
       "  249.542,1384.24 268.44,1384.24 \n",
       "  \"/>\n",
       "<polyline clip-path=\"url(#clip830)\" style=\"stroke:#000000; stroke-linecap:butt; stroke-linejoin:round; stroke-width:4; stroke-opacity:1; fill:none\" points=\"\n",
       "  249.542,1059.73 268.44,1059.73 \n",
       "  \"/>\n",
       "<polyline clip-path=\"url(#clip830)\" style=\"stroke:#000000; stroke-linecap:butt; stroke-linejoin:round; stroke-width:4; stroke-opacity:1; fill:none\" points=\"\n",
       "  249.542,735.212 268.44,735.212 \n",
       "  \"/>\n",
       "<polyline clip-path=\"url(#clip830)\" style=\"stroke:#000000; stroke-linecap:butt; stroke-linejoin:round; stroke-width:4; stroke-opacity:1; fill:none\" points=\"\n",
       "  249.542,410.699 268.44,410.699 \n",
       "  \"/>\n",
       "<polyline clip-path=\"url(#clip830)\" style=\"stroke:#000000; stroke-linecap:butt; stroke-linejoin:round; stroke-width:4; stroke-opacity:1; fill:none\" points=\"\n",
       "  249.542,86.1857 268.44,86.1857 \n",
       "  \"/>\n",
       "<path clip-path=\"url(#clip830)\" d=\"M126.205 1370.04 Q122.593 1370.04 120.765 1373.6 Q118.959 1377.14 118.959 1384.27 Q118.959 1391.38 120.765 1394.94 Q122.593 1398.49 126.205 1398.49 Q129.839 1398.49 131.644 1394.94 Q133.473 1391.38 133.473 1384.27 Q133.473 1377.14 131.644 1373.6 Q129.839 1370.04 126.205 1370.04 M126.205 1366.33 Q132.015 1366.33 135.07 1370.94 Q138.149 1375.52 138.149 1384.27 Q138.149 1393 135.07 1397.61 Q132.015 1402.19 126.205 1402.19 Q120.394 1402.19 117.316 1397.61 Q114.26 1393 114.26 1384.27 Q114.26 1375.52 117.316 1370.94 Q120.394 1366.33 126.205 1366.33 Z\" fill=\"#000000\" fill-rule=\"evenodd\" fill-opacity=\"1\" /><path clip-path=\"url(#clip830)\" d=\"M146.366 1395.64 L151.251 1395.64 L151.251 1401.52 L146.366 1401.52 L146.366 1395.64 Z\" fill=\"#000000\" fill-rule=\"evenodd\" fill-opacity=\"1\" /><path clip-path=\"url(#clip830)\" d=\"M171.436 1370.04 Q167.825 1370.04 165.996 1373.6 Q164.19 1377.14 164.19 1384.27 Q164.19 1391.38 165.996 1394.94 Q167.825 1398.49 171.436 1398.49 Q175.07 1398.49 176.876 1394.94 Q178.704 1391.38 178.704 1384.27 Q178.704 1377.14 176.876 1373.6 Q175.07 1370.04 171.436 1370.04 M171.436 1366.33 Q177.246 1366.33 180.301 1370.94 Q183.38 1375.52 183.38 1384.27 Q183.38 1393 180.301 1397.61 Q177.246 1402.19 171.436 1402.19 Q165.626 1402.19 162.547 1397.61 Q159.491 1393 159.491 1384.27 Q159.491 1375.52 162.547 1370.94 Q165.626 1366.33 171.436 1366.33 Z\" fill=\"#000000\" fill-rule=\"evenodd\" fill-opacity=\"1\" /><path clip-path=\"url(#clip830)\" d=\"M201.598 1370.04 Q197.987 1370.04 196.158 1373.6 Q194.352 1377.14 194.352 1384.27 Q194.352 1391.38 196.158 1394.94 Q197.987 1398.49 201.598 1398.49 Q205.232 1398.49 207.037 1394.94 Q208.866 1391.38 208.866 1384.27 Q208.866 1377.14 207.037 1373.6 Q205.232 1370.04 201.598 1370.04 M201.598 1366.33 Q207.408 1366.33 210.463 1370.94 Q213.542 1375.52 213.542 1384.27 Q213.542 1393 210.463 1397.61 Q207.408 1402.19 201.598 1402.19 Q195.787 1402.19 192.709 1397.61 Q189.653 1393 189.653 1384.27 Q189.653 1375.52 192.709 1370.94 Q195.787 1366.33 201.598 1366.33 Z\" fill=\"#000000\" fill-rule=\"evenodd\" fill-opacity=\"1\" /><path clip-path=\"url(#clip830)\" d=\"M127.2 1045.52 Q123.589 1045.52 121.76 1049.09 Q119.955 1052.63 119.955 1059.76 Q119.955 1066.87 121.76 1070.43 Q123.589 1073.97 127.2 1073.97 Q130.834 1073.97 132.64 1070.43 Q134.468 1066.87 134.468 1059.76 Q134.468 1052.63 132.64 1049.09 Q130.834 1045.52 127.2 1045.52 M127.2 1041.82 Q133.01 1041.82 136.066 1046.43 Q139.144 1051.01 139.144 1059.76 Q139.144 1068.49 136.066 1073.09 Q133.01 1077.68 127.2 1077.68 Q121.39 1077.68 118.311 1073.09 Q115.256 1068.49 115.256 1059.76 Q115.256 1051.01 118.311 1046.43 Q121.39 1041.82 127.2 1041.82 Z\" fill=\"#000000\" fill-rule=\"evenodd\" fill-opacity=\"1\" /><path clip-path=\"url(#clip830)\" d=\"M147.362 1071.13 L152.246 1071.13 L152.246 1077.01 L147.362 1077.01 L147.362 1071.13 Z\" fill=\"#000000\" fill-rule=\"evenodd\" fill-opacity=\"1\" /><path clip-path=\"url(#clip830)\" d=\"M166.459 1073.07 L182.778 1073.07 L182.778 1077.01 L160.834 1077.01 L160.834 1073.07 Q163.496 1070.32 168.079 1065.69 Q172.686 1061.03 173.866 1059.69 Q176.112 1057.17 176.991 1055.43 Q177.894 1053.67 177.894 1051.98 Q177.894 1049.23 175.95 1047.49 Q174.028 1045.76 170.927 1045.76 Q168.727 1045.76 166.274 1046.52 Q163.843 1047.28 161.065 1048.83 L161.065 1044.11 Q163.89 1042.98 166.343 1042.4 Q168.797 1041.82 170.834 1041.82 Q176.204 1041.82 179.399 1044.51 Q182.593 1047.19 182.593 1051.68 Q182.593 1053.81 181.783 1055.73 Q180.996 1057.63 178.889 1060.22 Q178.311 1060.89 175.209 1064.11 Q172.107 1067.31 166.459 1073.07 Z\" fill=\"#000000\" fill-rule=\"evenodd\" fill-opacity=\"1\" /><path clip-path=\"url(#clip830)\" d=\"M192.639 1042.45 L210.996 1042.45 L210.996 1046.38 L196.922 1046.38 L196.922 1054.85 Q197.94 1054.51 198.959 1054.34 Q199.977 1054.16 200.996 1054.16 Q206.783 1054.16 210.162 1057.33 Q213.542 1060.5 213.542 1065.92 Q213.542 1071.5 210.07 1074.6 Q206.598 1077.68 200.278 1077.68 Q198.102 1077.68 195.834 1077.31 Q193.588 1076.94 191.181 1076.19 L191.181 1071.5 Q193.264 1072.63 195.487 1073.19 Q197.709 1073.74 200.186 1073.74 Q204.19 1073.74 206.528 1071.63 Q208.866 1069.53 208.866 1065.92 Q208.866 1062.31 206.528 1060.2 Q204.19 1058.09 200.186 1058.09 Q198.311 1058.09 196.436 1058.51 Q194.584 1058.93 192.639 1059.81 L192.639 1042.45 Z\" fill=\"#000000\" fill-rule=\"evenodd\" fill-opacity=\"1\" /><path clip-path=\"url(#clip830)\" d=\"M126.205 721.011 Q122.593 721.011 120.765 724.575 Q118.959 728.117 118.959 735.247 Q118.959 742.353 120.765 745.918 Q122.593 749.46 126.205 749.46 Q129.839 749.46 131.644 745.918 Q133.473 742.353 133.473 735.247 Q133.473 728.117 131.644 724.575 Q129.839 721.011 126.205 721.011 M126.205 717.307 Q132.015 717.307 135.07 721.913 Q138.149 726.497 138.149 735.247 Q138.149 743.973 135.07 748.58 Q132.015 753.163 126.205 753.163 Q120.394 753.163 117.316 748.58 Q114.26 743.973 114.26 735.247 Q114.26 726.497 117.316 721.913 Q120.394 717.307 126.205 717.307 Z\" fill=\"#000000\" fill-rule=\"evenodd\" fill-opacity=\"1\" /><path clip-path=\"url(#clip830)\" d=\"M146.366 746.612 L151.251 746.612 L151.251 752.492 L146.366 752.492 L146.366 746.612 Z\" fill=\"#000000\" fill-rule=\"evenodd\" fill-opacity=\"1\" /><path clip-path=\"url(#clip830)\" d=\"M161.482 717.932 L179.839 717.932 L179.839 721.867 L165.765 721.867 L165.765 730.339 Q166.783 729.992 167.802 729.83 Q168.82 729.645 169.839 729.645 Q175.626 729.645 179.005 732.816 Q182.385 735.987 182.385 741.404 Q182.385 746.983 178.913 750.085 Q175.44 753.163 169.121 753.163 Q166.945 753.163 164.677 752.793 Q162.431 752.423 160.024 751.682 L160.024 746.983 Q162.107 748.117 164.329 748.673 Q166.552 749.228 169.028 749.228 Q173.033 749.228 175.371 747.122 Q177.709 745.015 177.709 741.404 Q177.709 737.793 175.371 735.687 Q173.033 733.58 169.028 733.58 Q167.153 733.58 165.278 733.997 Q163.427 734.413 161.482 735.293 L161.482 717.932 Z\" fill=\"#000000\" fill-rule=\"evenodd\" fill-opacity=\"1\" /><path clip-path=\"url(#clip830)\" d=\"M201.598 721.011 Q197.987 721.011 196.158 724.575 Q194.352 728.117 194.352 735.247 Q194.352 742.353 196.158 745.918 Q197.987 749.46 201.598 749.46 Q205.232 749.46 207.037 745.918 Q208.866 742.353 208.866 735.247 Q208.866 728.117 207.037 724.575 Q205.232 721.011 201.598 721.011 M201.598 717.307 Q207.408 717.307 210.463 721.913 Q213.542 726.497 213.542 735.247 Q213.542 743.973 210.463 748.58 Q207.408 753.163 201.598 753.163 Q195.787 753.163 192.709 748.58 Q189.653 743.973 189.653 735.247 Q189.653 726.497 192.709 721.913 Q195.787 717.307 201.598 717.307 Z\" fill=\"#000000\" fill-rule=\"evenodd\" fill-opacity=\"1\" /><path clip-path=\"url(#clip830)\" d=\"M127.2 396.498 Q123.589 396.498 121.76 400.062 Q119.955 403.604 119.955 410.734 Q119.955 417.84 121.76 421.405 Q123.589 424.946 127.2 424.946 Q130.834 424.946 132.64 421.405 Q134.468 417.84 134.468 410.734 Q134.468 403.604 132.64 400.062 Q130.834 396.498 127.2 396.498 M127.2 392.794 Q133.01 392.794 136.066 397.4 Q139.144 401.984 139.144 410.734 Q139.144 419.46 136.066 424.067 Q133.01 428.65 127.2 428.65 Q121.39 428.65 118.311 424.067 Q115.256 419.46 115.256 410.734 Q115.256 401.984 118.311 397.4 Q121.39 392.794 127.2 392.794 Z\" fill=\"#000000\" fill-rule=\"evenodd\" fill-opacity=\"1\" /><path clip-path=\"url(#clip830)\" d=\"M147.362 422.099 L152.246 422.099 L152.246 427.979 L147.362 427.979 L147.362 422.099 Z\" fill=\"#000000\" fill-rule=\"evenodd\" fill-opacity=\"1\" /><path clip-path=\"url(#clip830)\" d=\"M161.251 393.419 L183.473 393.419 L183.473 395.41 L170.927 427.979 L166.042 427.979 L177.848 397.354 L161.251 397.354 L161.251 393.419 Z\" fill=\"#000000\" fill-rule=\"evenodd\" fill-opacity=\"1\" /><path clip-path=\"url(#clip830)\" d=\"M192.639 393.419 L210.996 393.419 L210.996 397.354 L196.922 397.354 L196.922 405.826 Q197.94 405.479 198.959 405.317 Q199.977 405.132 200.996 405.132 Q206.783 405.132 210.162 408.303 Q213.542 411.474 213.542 416.891 Q213.542 422.47 210.07 425.571 Q206.598 428.65 200.278 428.65 Q198.102 428.65 195.834 428.28 Q193.588 427.909 191.181 427.169 L191.181 422.47 Q193.264 423.604 195.487 424.159 Q197.709 424.715 200.186 424.715 Q204.19 424.715 206.528 422.608 Q208.866 420.502 208.866 416.891 Q208.866 413.28 206.528 411.173 Q204.19 409.067 200.186 409.067 Q198.311 409.067 196.436 409.484 Q194.584 409.9 192.639 410.78 L192.639 393.419 Z\" fill=\"#000000\" fill-rule=\"evenodd\" fill-opacity=\"1\" /><path clip-path=\"url(#clip830)\" d=\"M117.015 99.5305 L124.654 99.5305 L124.654 73.1649 L116.343 74.8316 L116.343 70.5723 L124.607 68.9057 L129.283 68.9057 L129.283 99.5305 L136.922 99.5305 L136.922 103.466 L117.015 103.466 L117.015 99.5305 Z\" fill=\"#000000\" fill-rule=\"evenodd\" fill-opacity=\"1\" /><path clip-path=\"url(#clip830)\" d=\"M146.366 97.5861 L151.251 97.5861 L151.251 103.466 L146.366 103.466 L146.366 97.5861 Z\" fill=\"#000000\" fill-rule=\"evenodd\" fill-opacity=\"1\" /><path clip-path=\"url(#clip830)\" d=\"M171.436 71.9844 Q167.825 71.9844 165.996 75.5492 Q164.19 79.0908 164.19 86.2204 Q164.19 93.3268 165.996 96.8916 Q167.825 100.433 171.436 100.433 Q175.07 100.433 176.876 96.8916 Q178.704 93.3268 178.704 86.2204 Q178.704 79.0908 176.876 75.5492 Q175.07 71.9844 171.436 71.9844 M171.436 68.2807 Q177.246 68.2807 180.301 72.8871 Q183.38 77.4704 183.38 86.2204 Q183.38 94.9472 180.301 99.5537 Q177.246 104.137 171.436 104.137 Q165.626 104.137 162.547 99.5537 Q159.491 94.9472 159.491 86.2204 Q159.491 77.4704 162.547 72.8871 Q165.626 68.2807 171.436 68.2807 Z\" fill=\"#000000\" fill-rule=\"evenodd\" fill-opacity=\"1\" /><path clip-path=\"url(#clip830)\" d=\"M201.598 71.9844 Q197.987 71.9844 196.158 75.5492 Q194.352 79.0908 194.352 86.2204 Q194.352 93.3268 196.158 96.8916 Q197.987 100.433 201.598 100.433 Q205.232 100.433 207.037 96.8916 Q208.866 93.3268 208.866 86.2204 Q208.866 79.0908 207.037 75.5492 Q205.232 71.9844 201.598 71.9844 M201.598 68.2807 Q207.408 68.2807 210.463 72.8871 Q213.542 77.4704 213.542 86.2204 Q213.542 94.9472 210.463 99.5537 Q207.408 104.137 201.598 104.137 Q195.787 104.137 192.709 99.5537 Q189.653 94.9472 189.653 86.2204 Q189.653 77.4704 192.709 72.8871 Q195.787 68.2807 201.598 68.2807 Z\" fill=\"#000000\" fill-rule=\"evenodd\" fill-opacity=\"1\" /><path clip-path=\"url(#clip830)\" d=\"M57.2247 891.044 L44.4614 891.044 L44.4614 901.548 L39.1779 901.548 L39.1779 884.679 L59.58 884.679 Q62.2218 888.403 63.5904 892.891 Q64.9272 897.378 64.9272 902.471 Q64.9272 913.611 58.4342 919.913 Q51.9093 926.183 40.2919 926.183 Q28.6427 926.183 22.1496 919.913 Q15.6248 913.611 15.6248 902.471 Q15.6248 897.824 16.7706 893.654 Q17.9164 889.453 20.1444 885.92 L26.9876 885.92 Q23.9639 889.485 22.4361 893.495 Q20.9083 897.506 20.9083 901.93 Q20.9083 910.651 25.7781 915.043 Q30.6479 919.404 40.2919 919.404 Q49.9041 919.404 54.7739 915.043 Q59.6436 910.651 59.6436 901.93 Q59.6436 898.524 59.0707 895.851 Q58.466 893.177 57.2247 891.044 Z\" fill=\"#000000\" fill-rule=\"evenodd\" fill-opacity=\"1\" /><path clip-path=\"url(#clip830)\" d=\"M33.8307 852.532 Q33.2578 853.519 33.0032 854.696 Q32.7167 855.842 32.7167 857.243 Q32.7167 862.208 35.9632 864.881 Q39.1779 867.523 45.2253 867.523 L64.0042 867.523 L64.0042 873.411 L28.3562 873.411 L28.3562 867.523 L33.8944 867.523 Q30.6479 865.677 29.0883 862.717 Q27.4968 859.757 27.4968 855.524 Q27.4968 854.919 27.5923 854.187 Q27.656 853.455 27.8151 852.564 L33.8307 852.532 Z\" fill=\"#000000\" fill-rule=\"evenodd\" fill-opacity=\"1\" /><path clip-path=\"url(#clip830)\" d=\"M32.4621 834.008 Q32.4621 838.718 36.1542 841.456 Q39.8145 844.193 46.212 844.193 Q52.6095 844.193 56.3017 841.487 Q59.9619 838.75 59.9619 834.008 Q59.9619 829.329 56.2698 826.592 Q52.5777 823.854 46.212 823.854 Q39.8781 823.854 36.186 826.592 Q32.4621 829.329 32.4621 834.008 M27.4968 834.008 Q27.4968 826.369 32.4621 822.008 Q37.4273 817.648 46.212 817.648 Q54.9649 817.648 59.9619 822.008 Q64.9272 826.369 64.9272 834.008 Q64.9272 841.678 59.9619 846.039 Q54.9649 850.368 46.212 850.368 Q37.4273 850.368 32.4621 846.039 Q27.4968 841.678 27.4968 834.008 Z\" fill=\"#000000\" fill-rule=\"evenodd\" fill-opacity=\"1\" /><path clip-path=\"url(#clip830)\" d=\"M28.3562 811.346 L28.3562 805.489 L56.1743 798.169 L28.3562 790.88 L28.3562 783.973 L56.1743 776.653 L28.3562 769.364 L28.3562 763.508 L64.0042 772.833 L64.0042 779.74 L34.7856 787.411 L64.0042 795.113 L64.0042 802.02 L28.3562 811.346 Z\" fill=\"#000000\" fill-rule=\"evenodd\" fill-opacity=\"1\" /><path clip-path=\"url(#clip830)\" d=\"M18.2347 748.835 L28.3562 748.835 L28.3562 736.772 L32.9077 736.772 L32.9077 748.835 L52.2594 748.835 Q56.6199 748.835 57.8613 747.657 Q59.1026 746.447 59.1026 742.787 L59.1026 736.772 L64.0042 736.772 L64.0042 742.787 Q64.0042 749.567 61.4897 752.145 Q58.9434 754.723 52.2594 754.723 L32.9077 754.723 L32.9077 759.02 L28.3562 759.02 L28.3562 754.723 L18.2347 754.723 L18.2347 748.835 Z\" fill=\"#000000\" fill-rule=\"evenodd\" fill-opacity=\"1\" /><path clip-path=\"url(#clip830)\" d=\"M42.4881 699.437 L64.0042 699.437 L64.0042 705.293 L42.679 705.293 Q37.6183 705.293 35.1038 707.267 Q32.5894 709.24 32.5894 713.187 Q32.5894 717.929 35.6131 720.666 Q38.6368 723.404 43.8567 723.404 L64.0042 723.404 L64.0042 729.292 L14.479 729.292 L14.479 723.404 L33.8944 723.404 Q30.6797 721.303 29.0883 718.47 Q27.4968 715.606 27.4968 711.882 Q27.4968 705.739 31.3163 702.588 Q35.1038 699.437 42.4881 699.437 Z\" fill=\"#000000\" fill-rule=\"evenodd\" fill-opacity=\"1\" /><path clip-path=\"url(#clip830)\" d=\"M33.8307 646.379 Q33.2578 647.365 33.0032 648.543 Q32.7167 649.689 32.7167 651.089 Q32.7167 656.054 35.9632 658.728 Q39.1779 661.37 45.2253 661.37 L64.0042 661.37 L64.0042 667.258 L28.3562 667.258 L28.3562 661.37 L33.8944 661.37 Q30.6479 659.524 29.0883 656.564 Q27.4968 653.604 27.4968 649.37 Q27.4968 648.766 27.5923 648.034 Q27.656 647.302 27.8151 646.41 L33.8307 646.379 Z\" fill=\"#000000\" fill-rule=\"evenodd\" fill-opacity=\"1\" /><path clip-path=\"url(#clip830)\" d=\"M46.0847 624.035 Q46.0847 631.133 47.7079 633.87 Q49.3312 636.607 53.2461 636.607 Q56.3653 636.607 58.2114 634.57 Q60.0256 632.501 60.0256 628.968 Q60.0256 624.099 56.5881 621.17 Q53.1188 618.21 47.3897 618.21 L46.0847 618.21 L46.0847 624.035 M43.6657 612.354 L64.0042 612.354 L64.0042 618.21 L58.5933 618.21 Q61.8398 620.215 63.3994 623.207 Q64.9272 626.199 64.9272 630.528 Q64.9272 636.002 61.8716 639.249 Q58.7843 642.464 53.6281 642.464 Q47.6125 642.464 44.5569 638.453 Q41.5014 634.411 41.5014 626.422 L41.5014 618.21 L40.9285 618.21 Q36.8862 618.21 34.6901 620.884 Q32.4621 623.526 32.4621 628.332 Q32.4621 631.387 33.1941 634.284 Q33.9262 637.18 35.3903 639.854 L29.9795 639.854 Q28.7381 636.639 28.1334 633.615 Q27.4968 630.592 27.4968 627.727 Q27.4968 619.993 31.5072 616.173 Q35.5176 612.354 43.6657 612.354 Z\" fill=\"#000000\" fill-rule=\"evenodd\" fill-opacity=\"1\" /><path clip-path=\"url(#clip830)\" d=\"M18.2347 594.498 L28.3562 594.498 L28.3562 582.435 L32.9077 582.435 L32.9077 594.498 L52.2594 594.498 Q56.6199 594.498 57.8613 593.32 Q59.1026 592.111 59.1026 588.451 L59.1026 582.435 L64.0042 582.435 L64.0042 588.451 Q64.0042 595.23 61.4897 597.808 Q58.9434 600.386 52.2594 600.386 L32.9077 600.386 L32.9077 604.683 L28.3562 604.683 L28.3562 600.386 L18.2347 600.386 L18.2347 594.498 Z\" fill=\"#000000\" fill-rule=\"evenodd\" fill-opacity=\"1\" /><path clip-path=\"url(#clip830)\" d=\"M44.7161 544.241 L47.5806 544.241 L47.5806 571.168 Q53.6281 570.786 56.8109 567.539 Q59.9619 564.261 59.9619 558.436 Q59.9619 555.062 59.1344 551.911 Q58.3069 548.729 56.6518 545.609 L62.1899 545.609 Q63.5267 548.76 64.227 552.071 Q64.9272 555.381 64.9272 558.786 Q64.9272 567.316 59.9619 572.314 Q54.9967 577.279 46.5303 577.279 Q37.7774 577.279 32.6531 572.568 Q27.4968 567.826 27.4968 559.805 Q27.4968 552.612 32.1438 548.442 Q36.7589 544.241 44.7161 544.241 M42.9973 550.097 Q38.1912 550.161 35.3266 552.803 Q32.4621 555.413 32.4621 559.741 Q32.4621 564.643 35.2312 567.603 Q38.0002 570.531 43.0292 570.977 L42.9973 550.097 Z\" fill=\"#000000\" fill-rule=\"evenodd\" fill-opacity=\"1\" /><polyline clip-path=\"url(#clip832)\" style=\"stroke:#009af9; stroke-linecap:butt; stroke-linejoin:round; stroke-width:4; stroke-opacity:1; fill:none\" points=\"\n",
       "  309.067,1384.24 328.909,1384.24 348.75,1384.24 368.592,1384.24 388.434,1384.24 408.275,1384.24 428.117,1384.24 447.958,1384.24 467.8,1384.24 487.642,1384.24 \n",
       "  507.483,1384.24 527.325,1384.24 547.167,1384.24 567.008,1384.24 586.85,1384.24 606.692,1384.24 626.533,1384.24 646.375,1384.24 666.216,1384.24 686.058,1384.24 \n",
       "  705.9,1384.24 725.741,1299.14 745.583,1216.93 765.425,1137.61 785.266,1061.17 805.108,987.611 824.95,916.939 844.791,849.152 864.633,784.25 884.475,722.231 \n",
       "  904.316,663.098 924.158,606.849 943.999,553.485 963.841,503.005 983.683,455.41 1003.52,410.699 1023.37,368.873 1043.21,329.931 1063.05,293.874 1082.89,260.702 \n",
       "  1102.73,230.414 1122.57,203.01 1142.42,178.492 1162.26,156.857 1182.1,138.108 1201.94,122.243 1221.78,109.262 1241.62,99.1662 1261.47,91.9548 1281.31,87.628 \n",
       "  1301.15,86.1857 1320.99,87.628 1340.83,91.9548 1360.67,99.1662 1380.52,109.262 1400.36,122.243 1420.2,138.108 1440.04,156.857 1459.88,178.492 1479.72,203.01 \n",
       "  1499.57,230.414 1519.41,260.702 1539.25,293.874 1559.09,329.931 1578.93,368.873 1598.77,410.699 1618.62,455.41 1638.46,503.005 1658.3,553.485 1678.14,606.849 \n",
       "  1697.98,663.098 1717.82,722.231 1737.67,784.25 1757.51,849.152 1777.35,916.939 1797.19,987.611 1817.03,1061.17 1836.87,1137.61 1856.71,1216.93 1876.56,1299.14 \n",
       "  1896.4,1384.24 1916.24,1384.24 1936.08,1384.24 1955.92,1384.24 1975.76,1384.24 1995.61,1384.24 2015.45,1384.24 2035.29,1384.24 2055.13,1384.24 2074.97,1384.24 \n",
       "  2094.81,1384.24 2114.66,1384.24 2134.5,1384.24 2154.34,1384.24 2174.18,1384.24 2194.02,1384.24 2213.86,1384.24 2233.71,1384.24 2253.55,1384.24 2273.39,1384.24 \n",
       "  2293.23,1384.24 \n",
       "  \"/>\n",
       "<path clip-path=\"url(#clip830)\" d=\"\n",
       "M1940.45 196.789 L2282.65 196.789 L2282.65 93.1086 L1940.45 93.1086  Z\n",
       "  \" fill=\"#ffffff\" fill-rule=\"evenodd\" fill-opacity=\"1\"/>\n",
       "<polyline clip-path=\"url(#clip830)\" style=\"stroke:#000000; stroke-linecap:butt; stroke-linejoin:round; stroke-width:4; stroke-opacity:1; fill:none\" points=\"\n",
       "  1940.45,196.789 2282.65,196.789 2282.65,93.1086 1940.45,93.1086 1940.45,196.789 \n",
       "  \"/>\n",
       "<polyline clip-path=\"url(#clip830)\" style=\"stroke:#009af9; stroke-linecap:butt; stroke-linejoin:round; stroke-width:4; stroke-opacity:1; fill:none\" points=\"\n",
       "  1964.45,144.949 2108.45,144.949 \n",
       "  \"/>\n",
       "<path clip-path=\"url(#clip830)\" d=\"M2158.56 136.191 Q2158.56 136.8 2158.3 137.971 Q2157.48 141.273 2154.42 143.545 Q2153.9 143.967 2152.99 144.506 Q2154.09 145.232 2155.05 146.567 Q2156.48 148.769 2156.48 151.743 Q2156.48 153.125 2156.1 154.812 Q2155.05 158.723 2151.35 161.534 Q2147.62 164.274 2143.2 164.274 Q2140.81 164.274 2139.17 163.01 Q2137.55 161.721 2136.92 159.566 L2133.66 172.706 Q2133.59 173.034 2133.17 173.034 L2132.94 173.034 Q2132.45 173.034 2132.45 172.472 L2139.85 142.96 Q2140.34 140.969 2141.14 139.095 Q2141.93 137.221 2143.03 135.535 Q2144.16 133.849 2145.44 132.607 Q2146.73 131.342 2148.33 130.616 Q2149.92 129.867 2151.6 129.867 Q2155.14 129.867 2157.16 132.279 Q2158.56 133.989 2158.56 136.191 M2155.87 135.348 Q2155.87 133.895 2155.28 132.888 Q2154.09 130.968 2151.56 130.968 Q2150.04 130.968 2148.58 131.67 Q2147.15 132.35 2146.01 133.521 Q2144.86 134.692 2143.88 136.285 Q2142.89 137.877 2142.17 139.611 Q2141.46 141.32 2140.99 143.194 L2138.11 154.812 Q2137.83 156.053 2137.83 157.154 Q2137.83 159.777 2139.28 161.487 Q2140.74 163.197 2143.24 163.197 Q2146.57 163.197 2149.43 160.714 Q2151.91 158.489 2152.94 154.577 Q2153.53 152.118 2153.53 150.408 Q2153.53 148.534 2152.85 147.082 Q2152.35 145.911 2151.39 145.208 Q2149.61 145.841 2147.81 145.841 Q2146.94 145.841 2146.48 145.817 Q2146.03 145.794 2145.37 145.7 Q2144.74 145.607 2144.44 145.349 Q2144.16 145.091 2144.16 144.693 Q2144.16 144.459 2144.2 144.365 Q2144.3 143.99 2144.6 143.733 Q2144.91 143.475 2145.26 143.358 Q2145.61 143.218 2146.19 143.147 Q2146.8 143.077 2147.2 143.077 Q2147.6 143.054 2148.28 143.054 Q2149.87 143.054 2151.49 143.686 Q2152.1 143.358 2152.75 142.773 Q2154.84 140.828 2155.54 137.737 Q2155.87 136.589 2155.87 135.348 M2149.97 144.412 Q2148.98 144.154 2148.23 144.154 Q2145.49 144.154 2145.35 144.599 Q2145.35 144.646 2145.44 144.693 Q2145.54 144.717 2145.75 144.74 Q2145.98 144.74 2146.17 144.763 Q2146.38 144.787 2146.73 144.787 Q2147.08 144.787 2147.27 144.787 Q2147.48 144.787 2147.86 144.787 Q2148.79 144.787 2149.97 144.412 Z\" fill=\"#000000\" fill-rule=\"evenodd\" fill-opacity=\"1\" /><path clip-path=\"url(#clip830)\" d=\"M2165.66 151.743 Q2165.66 143.639 2168.68 137.104 Q2169.97 134.364 2171.78 132.068 Q2173.58 129.773 2174.77 128.766 Q2175.97 127.759 2176.3 127.759 Q2176.76 127.759 2176.79 128.227 Q2176.79 128.461 2176.16 129.047 Q2168.43 136.917 2168.45 151.743 Q2168.45 166.617 2175.97 174.182 Q2176.79 175.002 2176.79 175.259 Q2176.79 175.728 2176.3 175.728 Q2175.97 175.728 2174.82 174.768 Q2173.67 173.807 2171.89 171.606 Q2170.11 169.404 2168.82 166.71 Q2165.66 160.175 2165.66 151.743 Z\" fill=\"#000000\" fill-rule=\"evenodd\" fill-opacity=\"1\" /><path clip-path=\"url(#clip830)\" d=\"M2213.06 131.787 Q2213.06 132.232 2212.96 132.607 L2211.65 140.946 Q2211.58 141.578 2211.44 141.812 Q2211.32 142.046 2210.95 142.046 Q2210.36 142.046 2210.36 141.437 Q2210.36 141.086 2210.5 140.524 Q2210.9 137.877 2210.9 136.683 Q2210.9 135.886 2210.74 135.301 Q2210.6 134.692 2210.36 134.27 Q2210.15 133.849 2209.66 133.568 Q2209.17 133.286 2208.7 133.122 Q2208.23 132.959 2207.39 132.888 Q2206.55 132.795 2205.82 132.771 Q2205.09 132.748 2203.9 132.748 Q2201.3 132.748 2200.88 132.841 Q2200.43 132.959 2200.2 133.31 Q2199.99 133.638 2199.75 134.622 L2193.38 160.082 L2193.2 161.089 Q2193.2 161.651 2193.55 161.838 Q2193.9 162.026 2194.98 162.143 Q2196.52 162.26 2198.04 162.26 Q2198.09 162.26 2198.18 162.26 Q2198.7 162.26 2198.91 162.283 Q2199.12 162.283 2199.33 162.33 Q2199.54 162.377 2199.59 162.494 Q2199.66 162.588 2199.66 162.775 Q2199.66 163.22 2199.47 163.455 Q2199.29 163.665 2199.1 163.712 Q2198.93 163.736 2198.61 163.736 Q2197.95 163.736 2196.54 163.689 Q2195.14 163.642 2194.44 163.642 L2190.45 163.595 L2186.38 163.642 Q2185.75 163.642 2184.41 163.689 Q2183.08 163.736 2182.44 163.736 Q2181.62 163.736 2181.62 163.15 Q2181.62 162.494 2181.93 162.377 Q2182.26 162.26 2183.64 162.26 Q2185.58 162.26 2186.64 162.166 Q2187.69 162.073 2188.25 161.745 Q2188.84 161.417 2189 161.089 Q2189.17 160.738 2189.35 159.941 L2195.8 134.34 Q2195.98 133.778 2195.98 133.333 Q2195.98 133.099 2195.91 133.005 Q2195.87 132.912 2195.56 132.841 Q2195.26 132.748 2194.62 132.748 L2192.75 132.748 Q2190.83 132.748 2189.64 132.841 Q2188.46 132.912 2187.34 133.263 Q2186.24 133.614 2185.58 134.106 Q2184.95 134.598 2184.25 135.605 Q2183.55 136.612 2183.03 137.83 Q2182.54 139.048 2181.84 141.039 Q2181.6 141.695 2181.46 141.882 Q2181.34 142.046 2181.02 142.046 Q2180.78 142.046 2180.59 141.906 Q2180.43 141.742 2180.43 141.531 Q2180.66 140.758 2180.71 140.665 L2183.59 132.209 Q2183.83 131.53 2184.04 131.413 Q2184.27 131.272 2185.14 131.272 L2211.75 131.272 Q2212.17 131.272 2212.31 131.272 Q2212.45 131.272 2212.68 131.319 Q2212.92 131.366 2212.99 131.483 Q2213.06 131.6 2213.06 131.787 Z\" fill=\"#000000\" fill-rule=\"evenodd\" fill-opacity=\"1\" /><path clip-path=\"url(#clip830)\" d=\"M2216.23 175.259 Q2216.23 175.025 2216.84 174.44 Q2224.57 166.57 2224.57 151.743 Q2224.57 136.87 2217.15 129.351 Q2216.23 128.485 2216.23 128.227 Q2216.23 127.759 2216.7 127.759 Q2217.03 127.759 2218.18 128.719 Q2219.35 129.679 2221.11 131.881 Q2222.89 134.083 2224.2 136.776 Q2227.36 143.311 2227.36 151.743 Q2227.36 159.847 2224.34 166.382 Q2223.05 169.123 2221.25 171.418 Q2219.44 173.714 2218.25 174.721 Q2217.05 175.728 2216.7 175.728 Q2216.23 175.728 2216.23 175.259 Z\" fill=\"#000000\" fill-rule=\"evenodd\" fill-opacity=\"1\" /></svg>\n"
      ]
     },
     "execution_count": 3,
     "metadata": {},
     "output_type": "execute_result"
    }
   ],
   "source": [
    "\n",
    "X = 0:0.1:10\n",
    "xm = 5\n",
    "xr = 3\n",
    "f(x) = max(-(x-xm+xr)*(x-xm-xr)/xr^2, 0.0)\n",
    "Y = f.(X)\n",
    "plot(X,Y, label=L\"\\beta (T)\", ylabel = \"Growth rate\", xlabel=\"Temperature\" )"
   ]
  },
  {
   "cell_type": "markdown",
   "metadata": {
    "slideshow": {
     "slide_type": "slide"
    }
   },
   "source": [
    "### Modelling the population dynamics of the daisies\n",
    "\n",
    "We can use standard mean-field population dynamics equations to model the competitive dynamics of the daisies.\n",
    "\n",
    "$$ \\frac{d A_w}{d t} = \\beta(T_w)\\, A_w\\, A_0 - \\gamma\\,A_w $$\n",
    "$$ \\frac{d A_b}{d t} = \\beta(T_b)\\, A_b\\, A_0 - \\gamma\\,A_b $$\n",
    "\n",
    "with $A_0(t) = 1 - A_w(t) - A_b(t)$.\n",
    "\n",
    "In these equations, $T_w$ and $T_b$ are the local temperatures of patches of white and black daisies respectively."
   ]
  },
  {
   "cell_type": "markdown",
   "metadata": {
    "slideshow": {
     "slide_type": "slide"
    }
   },
   "source": [
    "### Modelling the average global temperature of Daisyworld\n",
    "\n",
    "The key to modelling the temperature is to capture incorporate concept of albedo. The albedo of a surface is the proportion of incoming radiation that it reflects. \n",
    "* An albedo of 1 means all incoming radiation is reflected (resulting in a cooler surface). \n",
    "* An albedo of 0 means all incoming radiation is absorbed (resulting in a hotter surface).\n",
    "\n",
    "If $F$ is the incoming solar radiation flux, the average temperature of Daisyworld, $T_\\text{av}$, is given by the [Stefan-Boltzmann law](https://www.britannica.com/science/Stefan-Boltzmann-law):\n",
    "$$ \\sigma T_\\text{av}^4 = F\\,(1-\\alpha)$$\n",
    "where $\\alpha$ is the average albedo of the surface and $\\sigma$ is a constant of proportionality.\n",
    "\n",
    "If $\\alpha_w$, $\\alpha_b$ and $\\alpha_0$ are the albedos of white, black and bare patches respectively (conventionally taken to be 3/4, 1/4 and 1/2), then the average albedo is\n",
    "$$ \\alpha(t) = \\alpha_w\\, A_w(t) + \\alpha_b\\,A_b(t) + \\alpha_0\\,A_0(t)$$."
   ]
  },
  {
   "cell_type": "markdown",
   "metadata": {
    "slideshow": {
     "slide_type": "slide"
    }
   },
   "source": [
    "### Modelling the local temperatures\n",
    "\n",
    "However, daisies don't experience the global temperature, they experience local modified temperatures that depend on the difference between the local and average albedo:\n",
    "\n",
    "$$ T_w^4 = T_\\text{av}^4 + q\\,(\\alpha - \\alpha_w) $$\n",
    "$$ T_b^4 = T_\\text{av}^4 + q\\,(\\alpha - \\alpha_b) $$\n",
    "$$ T_0^4 = T_\\text{av}^4 + q\\,(\\alpha - \\alpha_0). $$\n",
    "\n",
    "Here $q$ is a phenomenological modelling parameter (akin to a diffusion coefficient) controlling the strength of local variations in temperature. \n",
    "\n",
    "Later, we will do away with the need to make this assumption in an agent-based variation of the Daisyworld model which incorporates spatial structure directly.\n",
    "\n",
    "Note that since we have already written $T_\\text{av}$ and $\\alpha$ in terms of $A_w$ and $A_b$, we now have a closed set of differential equations which we can solve."
   ]
  },
  {
   "cell_type": "markdown",
   "metadata": {
    "slideshow": {
     "slide_type": "slide"
    }
   },
   "source": [
    "## Reminder: Solving differential equations in Julia: DifferentialEquations.jl\n",
    "\n",
    "Julia has a well developed system for solving systems of differential equations called [DifferentialEquations.jl](https://docs.juliadiffeq.org/stable/). In its basic form, it is very simple to use. Here is an example that solves the Lorentz equations:\n",
    "\n",
    "### Step 1: define the RHS of the system of equations\n",
    "\n",
    "* ```du``` is the right hand side of the system (as a vector)\n",
    "* ```u``` are the dependent variables for (as a vector)\n",
    "* ```t``` is the time variable (for non-autonomous systems)\n",
    "* ```p``` is a list of parameters that need to be passed in"
   ]
  },
  {
   "cell_type": "code",
   "execution_count": 4,
   "metadata": {},
   "outputs": [
    {
     "data": {
      "text/plain": [
       "lorenz! (generic function with 1 method)"
      ]
     },
     "execution_count": 4,
     "metadata": {},
     "output_type": "execute_result"
    }
   ],
   "source": [
    "# First we define the RHS:\n",
    "function lorenz!(du,u,p,t)\n",
    "    x,y,z = u\n",
    "    σ,ρ,β = p\n",
    "    du[1] = dx = σ*(y-x)\n",
    "    du[2] = dy = x*(ρ-z) - y\n",
    "    du[3] = dz = x*y - β*z\n",
    "end"
   ]
  },
  {
   "cell_type": "markdown",
   "metadata": {
    "slideshow": {
     "slide_type": "slide"
    }
   },
   "source": [
    "### Step 2: define the problem\n",
    "\n",
    "This entails\n",
    "* specifying the initial condition, ```u0```.\n",
    "* specifying the time interval in which to solve the equations, ```tspan```\n",
    "* providing values for the parameters, ```p```\n",
    "* creating an ```ODEProblem``` object which takes ```u0```, ```tspan```, ```p``` and the RHS function from step 1 as arguments."
   ]
  },
  {
   "cell_type": "code",
   "execution_count": 5,
   "metadata": {},
   "outputs": [
    {
     "ename": "LoadError",
     "evalue": "UndefVarError: ODEProblem not defined",
     "output_type": "error",
     "traceback": [
      "UndefVarError: ODEProblem not defined",
      "",
      "Stacktrace:",
      " [1] top-level scope",
      "   @ In[5]:4",
      " [2] eval",
      "   @ ./boot.jl:373 [inlined]",
      " [3] include_string(mapexpr::typeof(REPL.softscope), mod::Module, code::String, filename::String)",
      "   @ Base ./loading.jl:1196"
     ]
    }
   ],
   "source": [
    "u0 = [1.0,0.0,0.0]\n",
    "tspan = (0.0,100.0)\n",
    "p = [10.0,28.0,8/3]\n",
    "prob = ODEProblem(lorenz!,u0,tspan,p)"
   ]
  },
  {
   "cell_type": "markdown",
   "metadata": {
    "slideshow": {
     "slide_type": "slide"
    }
   },
   "source": [
    "### Step 3: integrate the equation"
   ]
  },
  {
   "cell_type": "code",
   "execution_count": 6,
   "metadata": {},
   "outputs": [
    {
     "ename": "LoadError",
     "evalue": "UndefVarError: solve not defined",
     "output_type": "error",
     "traceback": [
      "UndefVarError: solve not defined",
      "",
      "Stacktrace:",
      " [1] top-level scope",
      "   @ In[6]:1",
      " [2] eval",
      "   @ ./boot.jl:373 [inlined]",
      " [3] include_string(mapexpr::typeof(REPL.softscope), mod::Module, code::String, filename::String)",
      "   @ Base ./loading.jl:1196"
     ]
    }
   ],
   "source": [
    "sol = solve(prob)"
   ]
  },
  {
   "cell_type": "markdown",
   "metadata": {
    "slideshow": {
     "slide_type": "slide"
    }
   },
   "source": [
    "### Step 4: plot and analyse the solution."
   ]
  },
  {
   "cell_type": "code",
   "execution_count": 7,
   "metadata": {
    "scrolled": true,
    "slideshow": {
     "slide_type": "-"
    }
   },
   "outputs": [
    {
     "ename": "LoadError",
     "evalue": "UndefVarError: sol not defined",
     "output_type": "error",
     "traceback": [
      "UndefVarError: sol not defined",
      "",
      "Stacktrace:",
      " [1] top-level scope",
      "   @ In[7]:1",
      " [2] eval",
      "   @ ./boot.jl:373 [inlined]",
      " [3] include_string(mapexpr::typeof(REPL.softscope), mod::Module, code::String, filename::String)",
      "   @ Base ./loading.jl:1196"
     ]
    }
   ],
   "source": [
    "plot(sol,vars=(1,2,3))"
   ]
  },
  {
   "cell_type": "markdown",
   "metadata": {
    "slideshow": {
     "slide_type": "slide"
    }
   },
   "source": [
    "## Solving the Daisyworld equations\n",
    "\n",
    "First we set up the parameters"
   ]
  },
  {
   "cell_type": "code",
   "execution_count": 8,
   "metadata": {},
   "outputs": [
    {
     "data": {
      "text/plain": [
       "F (generic function with 1 method)"
      ]
     },
     "execution_count": 8,
     "metadata": {},
     "output_type": "execute_result"
    }
   ],
   "source": [
    "# Define parameters\n",
    "Topt = 5\n",
    "ΔT = 6\n",
    "γ = 0.1\n",
    "αw = 0.75\n",
    "αb = 0.25\n",
    "α0 = 0.5\n",
    "σ = (1.0 - α0)/(Topt^4.0)\n",
    "q = 0.25\n",
    "\n",
    "β(T) = max(-(T-Topt+ΔT/2.0)*(T-Topt-ΔT/2)/(ΔT/2.0)^2, 0.0)\n",
    "F(t) = 1.0\n"
   ]
  },
  {
   "cell_type": "code",
   "execution_count": 9,
   "metadata": {},
   "outputs": [
    {
     "data": {
      "text/plain": [
       "(0.0, 100.0)"
      ]
     },
     "execution_count": 9,
     "metadata": {},
     "output_type": "execute_result"
    }
   ],
   "source": [
    "p = [β, γ, αw, αb, α0, σ, q, F ]\n",
    "u0 = [0.08,0.12]\n",
    "tspan = (0.0,100.0)"
   ]
  },
  {
   "cell_type": "markdown",
   "metadata": {
    "slideshow": {
     "slide_type": "slide"
    }
   },
   "source": [
    "Here's a function that defines the right-hand side of the equations:"
   ]
  },
  {
   "cell_type": "code",
   "execution_count": 10,
   "metadata": {},
   "outputs": [
    {
     "data": {
      "text/plain": [
       "daisyworld! (generic function with 1 method)"
      ]
     },
     "execution_count": 10,
     "metadata": {},
     "output_type": "execute_result"
    }
   ],
   "source": [
    "function daisyworld!(du,u,p,t)\n",
    "    # Get the dependent variables\n",
    "    Aw,Ab = u\n",
    "    # Get the parameters\n",
    "    β, γ, αw, αb, α0, σ, q, F  = p \n",
    "    # Proportion of bare ground:\n",
    "    A0 = 1.0 - Aw - Ab\n",
    "    # Work out average albedo and temperature\n",
    "    α = αw*Aw + αb*Ab + α0*A0\n",
    "    Tav = (F(t)*(1.0-α)/σ)^0.25\n",
    "    # Work out local temperatures:\n",
    "    Tw = (Tav^4.0 + q*(α - αw))^0.25\n",
    "    Tb = (Tav^4.0 + q*(α - αb))^0.25\n",
    "    # Construct the RHS of the population dynamics equations\n",
    "    du[1] = β(Tw)*Aw*A0 - γ*Aw\n",
    "    du[2] = β(Tb)*Ab*A0 - γ*Ab\n",
    "end"
   ]
  },
  {
   "cell_type": "markdown",
   "metadata": {
    "slideshow": {
     "slide_type": "slide"
    }
   },
   "source": [
    "Now we can integrate the equations as we did for the Lorentz model:"
   ]
  },
  {
   "cell_type": "code",
   "execution_count": 11,
   "metadata": {},
   "outputs": [
    {
     "ename": "LoadError",
     "evalue": "UndefVarError: ODEProblem not defined",
     "output_type": "error",
     "traceback": [
      "UndefVarError: ODEProblem not defined",
      "",
      "Stacktrace:",
      " [1] top-level scope",
      "   @ In[11]:1",
      " [2] eval",
      "   @ ./boot.jl:373 [inlined]",
      " [3] include_string(mapexpr::typeof(REPL.softscope), mod::Module, code::String, filename::String)",
      "   @ Base ./loading.jl:1196"
     ]
    }
   ],
   "source": [
    "prob = ODEProblem(daisyworld!,u0,tspan,p)"
   ]
  },
  {
   "cell_type": "code",
   "execution_count": 12,
   "metadata": {},
   "outputs": [
    {
     "ename": "LoadError",
     "evalue": "UndefVarError: solve not defined",
     "output_type": "error",
     "traceback": [
      "UndefVarError: solve not defined",
      "",
      "Stacktrace:",
      " [1] top-level scope",
      "   @ In[12]:1",
      " [2] eval",
      "   @ ./boot.jl:373 [inlined]",
      " [3] include_string(mapexpr::typeof(REPL.softscope), mod::Module, code::String, filename::String)",
      "   @ Base ./loading.jl:1196"
     ]
    }
   ],
   "source": [
    "sol = solve(prob);"
   ]
  },
  {
   "cell_type": "markdown",
   "metadata": {
    "slideshow": {
     "slide_type": "slide"
    }
   },
   "source": [
    "Here's how to extract the individual components of the solution for analysis"
   ]
  },
  {
   "cell_type": "code",
   "execution_count": 13,
   "metadata": {},
   "outputs": [
    {
     "ename": "LoadError",
     "evalue": "UndefVarError: sol not defined",
     "output_type": "error",
     "traceback": [
      "UndefVarError: sol not defined",
      "",
      "Stacktrace:",
      " [1] top-level scope",
      "   @ In[13]:1",
      " [2] eval",
      "   @ ./boot.jl:373 [inlined]",
      " [3] include_string(mapexpr::typeof(REPL.softscope), mod::Module, code::String, filename::String)",
      "   @ Base ./loading.jl:1196"
     ]
    }
   ],
   "source": [
    "t = sol.t\n",
    "Aw = sol[1,:]\n",
    "Ab = sol[2,:]\n",
    "A0 = 1.0 .- Aw .-Ab\n",
    "plot(t, Aw, label=\"White\")\n",
    "plot!(t,Ab, label=\"Black\")\n",
    "plot!(t,A0, label=\"Bare\")"
   ]
  },
  {
   "cell_type": "markdown",
   "metadata": {
    "slideshow": {
     "slide_type": "slide"
    }
   },
   "source": [
    "Here's the average temperature"
   ]
  },
  {
   "cell_type": "code",
   "execution_count": 14,
   "metadata": {},
   "outputs": [
    {
     "ename": "LoadError",
     "evalue": "UndefVarError: Aw not defined",
     "output_type": "error",
     "traceback": [
      "UndefVarError: Aw not defined",
      "",
      "Stacktrace:",
      " [1] top-level scope",
      "   @ In[14]:1",
      " [2] eval",
      "   @ ./boot.jl:373 [inlined]",
      " [3] include_string(mapexpr::typeof(REPL.softscope), mod::Module, code::String, filename::String)",
      "   @ Base ./loading.jl:1196"
     ]
    }
   ],
   "source": [
    "α = αw .* Aw .+   αb .* Ab .+ α0 .* A0\n",
    "Tav = (F.(t).*(1.0 .- α)./σ).^0.25\n",
    "Tbare = (F.(t).*(1.0 .- α0)./σ).^0.25\n",
    "plot(t, Tav, label=\"Average T\")\n",
    "plot!(t, Tbare, label = \"Bare T\")"
   ]
  },
  {
   "cell_type": "markdown",
   "metadata": {
    "slideshow": {
     "slide_type": "slide"
    }
   },
   "source": [
    "## Agent based version of the Daisyworld model\n",
    "\n",
    "The way in which local temperature variation is handled in the mean field Daisyworld model is not entirely transparent. \n",
    "\n",
    "An ABM version of Daisyworld will be modeled as a 2-D grid.\n",
    "\n",
    "Agents correspond to patches associated with grid points. Each patch has its own colour (with corresponding albedo) and local temperature.\n",
    "\n",
    "In an ABM each patch can absorb a fixed fraction of solar irradiance at each time step to assign it a temperature. Local temperatures can then be calculated in a natural way by averaging over the temperatures of neighbouring cells."
   ]
  },
  {
   "cell_type": "markdown",
   "metadata": {
    "slideshow": {
     "slide_type": "slide"
    }
   },
   "source": [
    "### Descriptive specification of the model dynamics\n",
    "\n",
    "At each step:\n",
    "1. each white/black patch picks a random neighbouring patch. If that patch is bare, a new white/black patch is created there with probability $p_\\beta(T_\\text{local})$. \n",
    "2. each white/black patch dies with probability $p_\\gamma$.\n",
    "3. each patch updates its local temperature to be $\\alpha F$ where $F$ is the solar irradiance and $\\alpha$ is the appropriate albedo value.\n",
    "4. after all agents have updated the local temperatures of all agents are recalculated by performing a weighted average of the local temperatures.\n",
    "\n",
    "It is natural to encode steps 1 - 3 in the ```agent_step!()``` function and step 4 in the ```model_step!()``` function. "
   ]
  },
  {
   "cell_type": "markdown",
   "metadata": {
    "slideshow": {
     "slide_type": "slide"
    }
   },
   "source": [
    "### Agent definition\n",
    "\n",
    "Let's get started."
   ]
  },
  {
   "cell_type": "markdown",
   "metadata": {
    "slideshow": {
     "slide_type": "-"
    }
   },
   "source": [
    "Here's the basic definition of an agent:"
   ]
  },
  {
   "cell_type": "code",
   "execution_count": 15,
   "metadata": {},
   "outputs": [
    {
     "ename": "LoadError",
     "evalue": "LoadError: UndefVarError: @agent not defined\nin expression starting at In[15]:1",
     "output_type": "error",
     "traceback": [
      "LoadError: UndefVarError: @agent not defined\nin expression starting at In[15]:1",
      "",
      "Stacktrace:",
      " [1] top-level scope",
      "   @ :0",
      " [2] eval",
      "   @ ./boot.jl:373 [inlined]",
      " [3] include_string(mapexpr::typeof(REPL.softscope), mod::Module, code::String, filename::String)",
      "   @ Base ./loading.jl:1196"
     ]
    }
   ],
   "source": [
    "@agent daisy_patch GridAgent{2} begin\n",
    "    colour::Int\n",
    "    temperature::Float64\n",
    "end"
   ]
  },
  {
   "cell_type": "markdown",
   "metadata": {
    "slideshow": {
     "slide_type": "slide"
    }
   },
   "source": [
    "### Model properties\n",
    "\n",
    "As with our transportation example, we encode the parameters in a ```Dict()``` to pass to the model object:"
   ]
  },
  {
   "cell_type": "code",
   "execution_count": 16,
   "metadata": {},
   "outputs": [
    {
     "data": {
      "text/plain": [
       "Dict{Symbol, Any} with 9 entries:\n",
       "  :flux        => F\n",
       "  :growth_rate => β\n",
       "  :P_death     => 0.1\n",
       "  :step        => 0\n",
       "  :T_opt       => 22.5\n",
       "  :P_growth    => 0.05\n",
       "  :T_range     => 10.0\n",
       "  :delta       => 0.25\n",
       "  :albedo      => [0.75, 0.25, 0.5]"
      ]
     },
     "execution_count": 16,
     "metadata": {},
     "output_type": "execute_result"
    }
   ],
   "source": [
    "size = 25\n",
    "T_opt = 22.5\n",
    "T_range = 10.0\n",
    "P_death = 0.1\n",
    "P_growth = 0.05\n",
    "delta = 0.25\n",
    "albedo = [0.75, 0.25, 0.5]\n",
    "F(step) = (T_opt + T_range)*2.0\n",
    "β(T) = max(-(T-T_opt+T_range)*(T-T_opt-T_range)/T_range^2, 0.0)\n",
    "\n",
    "properties = Dict{Symbol,Any}(:T_opt => T_opt, \n",
    "    :T_range=>T_range, \n",
    "    :P_death=>P_death, \n",
    "    :P_growth=>P_growth, \n",
    "    :delta=>delta,\n",
    "    :step=>0,\n",
    "    :flux=>F,\n",
    "    :growth_rate=>β,\n",
    "    :albedo=>albedo\n",
    ")"
   ]
  },
  {
   "cell_type": "code",
   "execution_count": 18,
   "metadata": {
    "slideshow": {
     "slide_type": "skip"
    }
   },
   "outputs": [
    {
     "data": {
      "text/plain": [
       "Dict{Symbol, Any} with 9 entries:\n",
       "  :flux        => F\n",
       "  :growth_rate => β\n",
       "  :P_death     => 0.1\n",
       "  :step        => 0\n",
       "  :T_opt       => 22.5\n",
       "  :P_growth    => 0.05\n",
       "  :T_range     => 10.0\n",
       "  :delta       => 0.25\n",
       "  :albedo      => [0.75, 0.25, 0.5]"
      ]
     },
     "execution_count": 18,
     "metadata": {},
     "output_type": "execute_result"
    }
   ],
   "source": [
    "tmp = Dict{Symbol,Any}(:T_opt => T_opt, \n",
    "    :T_range=>T_range, \n",
    "    :P_death=>P_death, \n",
    "    :P_growth=>P_growth, \n",
    "    :delta=>delta,\n",
    "    :flux=>F,\n",
    "    :step=>0,\n",
    "    :growth_rate=>β,\n",
    "    :albedo=>albedo)"
   ]
  },
  {
   "cell_type": "markdown",
   "metadata": {
    "slideshow": {
     "slide_type": "slide"
    }
   },
   "source": [
    "### Agent step function\n",
    "\n",
    "Here is the agent step function:"
   ]
  },
  {
   "cell_type": "code",
   "execution_count": 17,
   "metadata": {},
   "outputs": [
    {
     "data": {
      "text/plain": [
       "agent_step! (generic function with 1 method)"
      ]
     },
     "execution_count": 17,
     "metadata": {},
     "output_type": "execute_result"
    }
   ],
   "source": [
    "function agent_step!(agent, model)\n",
    "    if agent.colour == 3\n",
    "        # With low probability an empty patch can grow daisies\n",
    "        rand() <= model.P_growth && (agent.colour = rand([1,2]))\n",
    "    else\n",
    "        # An occupied patch can attempt to reproduce\n",
    "        T = agent.temperature\n",
    "        neighbour = rand(collect(nearby_agents(agent, model)))\n",
    "        if neighbour.colour == 3\n",
    "            rand() <= model.growth_rate(T) && (neighbour.colour = agent.colour)\n",
    "        end\n",
    "        # An occupied patch can die and revert to being empty.\n",
    "        rand() <= model.P_death && (agent.colour = 3)\n",
    "    end\n",
    "end"
   ]
  },
  {
   "cell_type": "markdown",
   "metadata": {},
   "source": [
    "Note that we allow \"spontaneous regrowth\" with low probability to avoid the absorbing state (no daisies)."
   ]
  },
  {
   "cell_type": "markdown",
   "metadata": {
    "slideshow": {
     "slide_type": "slide"
    }
   },
   "source": [
    "### Model step function\n",
    "\n",
    "The model step function needs to calculate the local temperatures\n",
    "\n"
   ]
  },
  {
   "cell_type": "code",
   "execution_count": 18,
   "metadata": {},
   "outputs": [
    {
     "data": {
      "text/plain": [
       "model_step! (generic function with 1 method)"
      ]
     },
     "execution_count": 18,
     "metadata": {},
     "output_type": "execute_result"
    }
   ],
   "source": [
    "function model_step!(model)\n",
    "    t =  model.step; δ = model.delta; F = model.flux; \n",
    "    # Calculate the proportion of absorbed energy\n",
    "    A = [1.0- x for x in model.albedo]\n",
    "    # Calculate the temperature at each point in the space\n",
    "    for pos in positions(model)\n",
    "        agent = collect(agents_in_position(pos, model))[1]\n",
    "        T1 = A[agent.colour]*F(t)\n",
    "        neighbours = collect(nearby_agents(agent, model))\n",
    "        T2=0.0\n",
    "        for n in neighbours\n",
    "            T2 += A[n.colour]*F(t)\n",
    "        end\n",
    "        T2 = T2/(length(neighbours))\n",
    "        # Update the local temperature to be a weighted sum of T1 and T2\n",
    "        agent.temperature = (1.0-δ)*T1 + δ*T2\n",
    "    end\n",
    "    model.step = t+1\n",
    "end"
   ]
  },
  {
   "cell_type": "markdown",
   "metadata": {
    "slideshow": {
     "slide_type": "slide"
    }
   },
   "source": [
    "### Model initialisation\n",
    "\n",
    "As with the previous example, it is convenient to combine the model initialisation steps into a function:"
   ]
  },
  {
   "cell_type": "code",
   "execution_count": 20,
   "metadata": {},
   "outputs": [
    {
     "ename": "LoadError",
     "evalue": "UndefVarError: GridSpace not defined",
     "output_type": "error",
     "traceback": [
      "UndefVarError: GridSpace not defined",
      "",
      "Stacktrace:",
      " [1] initialise(; dims::Tuple{Int64, Int64}, properties::Dict{Symbol, Any})",
      "   @ Main ./In[20]:3",
      " [2] top-level scope",
      "   @ In[20]:14",
      " [3] eval",
      "   @ ./boot.jl:373 [inlined]",
      " [4] include_string(mapexpr::typeof(REPL.softscope), mod::Module, code::String, filename::String)",
      "   @ Base ./loading.jl:1196"
     ]
    }
   ],
   "source": [
    "function initialise(;dims = (size,size), properties=properties)\n",
    "    # Create the underlying space\n",
    "    space = GridSpace(dims, periodic = true) \n",
    "    model = ABM(daisy_patch, space; scheduler = fastest, properties=properties)\n",
    "    # Initial temperature is that of \"bare\" planet\n",
    "    T_init = properties[:flux](1)*properties[:albedo][3]\n",
    "    # Add an agent to each node of the space. Initially all have type 3 (empty) and temperature T_init\n",
    "    for node in nodes(model)\n",
    "        add_agent!(node, model, 3, T_init)\n",
    "    end\n",
    "    return model\n",
    "end\n",
    "\n",
    "model = initialise(dims=(size,size),properties=properties)"
   ]
  },
  {
   "cell_type": "markdown",
   "metadata": {
    "slideshow": {
     "slide_type": "slide"
    }
   },
   "source": [
    "### Running the model and gathering data\n",
    "\n",
    "Let's just gather all agent states at each step rather than trying to do fancy data aggregation on the fly."
   ]
  },
  {
   "cell_type": "code",
   "execution_count": 21,
   "metadata": {},
   "outputs": [
    {
     "ename": "LoadError",
     "evalue": "UndefVarError: run! not defined",
     "output_type": "error",
     "traceback": [
      "UndefVarError: run! not defined",
      "",
      "Stacktrace:",
      " [1] top-level scope",
      "   @ In[21]:4",
      " [2] eval",
      "   @ ./boot.jl:373 [inlined]",
      " [3] include_string(mapexpr::typeof(REPL.softscope), mod::Module, code::String, filename::String)",
      "   @ Base ./loading.jl:1196"
     ]
    }
   ],
   "source": [
    "nsteps=50\n",
    "adata = [:pos, :colour, :temperature]\n",
    "when = 1:nsteps  # At which steps to collect data\n",
    "data, _  = run!(model, agent_step!, model_step!, nsteps; adata);\n",
    "data[1:10, :] # print only a few rows"
   ]
  },
  {
   "cell_type": "markdown",
   "metadata": {
    "slideshow": {
     "slide_type": "slide"
    }
   },
   "source": [
    "### Analysing the results\n",
    "\n",
    "To visualise the simulation results, I think we need more power/flexibility than is provided by PlotAgents.jl. Instead we can use Plots.jl to build plots directly from the ```data``` DataFrame generated by the model.\n",
    "\n",
    "The @animate macro is very useful to create movies showing how the model evolves in time:"
   ]
  },
  {
   "cell_type": "code",
   "execution_count": 22,
   "metadata": {},
   "outputs": [
    {
     "ename": "LoadError",
     "evalue": "UndefVarError: data not defined",
     "output_type": "error",
     "traceback": [
      "UndefVarError: data not defined",
      "",
      "Stacktrace:",
      " [1] macro expansion",
      "   @ ./In[22]:3 [inlined]",
      " [2] top-level scope",
      "   @ ~/.julia/packages/Plots/8ouqB/src/animation.jl:197",
      " [3] eval",
      "   @ ./boot.jl:373 [inlined]",
      " [4] include_string(mapexpr::typeof(REPL.softscope), mod::Module, code::String, filename::String)",
      "   @ Base ./loading.jl:1196"
     ]
    }
   ],
   "source": [
    "anim = @animate for i in when\n",
    "    plt=plot(5,xlim=(0,size),ylim=(0,size), c=:red, aspect_ratio=1,legend=false, framestyle=:origin)\n",
    "    frame = data[data.step .== i, :]\n",
    "    group1 = frame[frame.colour .== 1, :]\n",
    "    group2 = frame[frame.colour .== 2, :]\n",
    "    group3 = frame[frame.colour .== 3, :]\n",
    "    scatter!(group1.pos, markersize=10, color=\"black\", label=\"\")\n",
    "    scatter!(group2.pos, markersize=10, color=\"white\", label=\"\")\n",
    "    scatter!(group3.pos, markersize=10, color=\"brown\", label=\"\")\n",
    "end"
   ]
  },
  {
   "cell_type": "markdown",
   "metadata": {
    "slideshow": {
     "slide_type": "slide"
    }
   },
   "source": [
    "### Running the movie\n",
    "\n",
    "The results are created as an animated gif file. Read the output below to see where the file is located. It can be viewed in a Jupyter notebook as follows:"
   ]
  },
  {
   "cell_type": "code",
   "execution_count": 23,
   "metadata": {},
   "outputs": [
    {
     "ename": "LoadError",
     "evalue": "UndefVarError: anim not defined",
     "output_type": "error",
     "traceback": [
      "UndefVarError: anim not defined",
      "",
      "Stacktrace:",
      " [1] top-level scope",
      "   @ In[23]:1",
      " [2] eval",
      "   @ ./boot.jl:373 [inlined]",
      " [3] include_string(mapexpr::typeof(REPL.softscope), mod::Module, code::String, filename::String)",
      "   @ Base ./loading.jl:1196"
     ]
    }
   ],
   "source": [
    "gif(anim, fps = 1)"
   ]
  },
  {
   "cell_type": "markdown",
   "metadata": {
    "slideshow": {
     "slide_type": "slide"
    }
   },
   "source": [
    "### Calculate the populations of white and black daisies and the temperature\n",
    "\n",
    "This requires a bit of post=processing on ```data```"
   ]
  },
  {
   "cell_type": "code",
   "execution_count": 24,
   "metadata": {},
   "outputs": [
    {
     "ename": "LoadError",
     "evalue": "UndefVarError: groupby not defined",
     "output_type": "error",
     "traceback": [
      "UndefVarError: groupby not defined",
      "",
      "Stacktrace:",
      " [1] top-level scope",
      "   @ In[24]:3",
      " [2] eval",
      "   @ ./boot.jl:373 [inlined]",
      " [3] include_string(mapexpr::typeof(REPL.softscope), mod::Module, code::String, filename::String)",
      "   @ Base ./loading.jl:1196"
     ]
    }
   ],
   "source": [
    "# Extract some aggregated quantities from the simulation\n",
    "# Mean temperature of daisyworld as a function of step\n",
    "gdf = groupby(data, :step)\n",
    "df_T = combine(gdf, :temperature => mean => :T_average)\n",
    "    \n",
    "gdf = groupby(data, [:step, :colour]);\n",
    "df = combine(gdf, nrow => :count);\n",
    "colour_df = groupby(df, :colour);\n",
    "g1 = get(colour_df, (colour=1,), nothing);\n",
    "g2 = get(colour_df, (colour=2,), nothing);\n",
    "g3 = get(colour_df, (colour=3,), nothing);"
   ]
  },
  {
   "cell_type": "markdown",
   "metadata": {
    "slideshow": {
     "slide_type": "slide"
    }
   },
   "source": [
    "### Create the plot"
   ]
  },
  {
   "cell_type": "code",
   "execution_count": 25,
   "metadata": {},
   "outputs": [
    {
     "ename": "LoadError",
     "evalue": "UndefVarError: df_T not defined",
     "output_type": "error",
     "traceback": [
      "UndefVarError: df_T not defined",
      "",
      "Stacktrace:",
      " [1] top-level scope",
      "   @ In[25]:1",
      " [2] eval",
      "   @ ./boot.jl:373 [inlined]",
      " [3] include_string(mapexpr::typeof(REPL.softscope), mod::Module, code::String, filename::String)",
      "   @ Base ./loading.jl:1196"
     ]
    }
   ],
   "source": [
    "p = plot(df_T.step, df_T.T_average /T_opt, label = \"T/T_opt\", color=\"red\")\n",
    "plot!(g1.step, g1.count/size^2, label = \"Proportion of white daisies\", color=\"green\")\n",
    "plot!(g2.step, g2.count/size^2, label = \"Proportion of black daisies\", color=\"black\")\n",
    "plot!(g3.step, g3.count/size^2, label = \"Proportion of empty patches\", color=\"blue\")"
   ]
  },
  {
   "cell_type": "code",
   "execution_count": null,
   "metadata": {},
   "outputs": [],
   "source": []
  },
  {
   "cell_type": "markdown",
   "metadata": {
    "slideshow": {
     "slide_type": "slide"
    }
   },
   "source": [
    "## The end\n",
    "\n",
    "Hopefully you now know the basics of how to build, visualise and analyse ABMs in Julia. Do let me know if you ever use any of this for your own research!"
   ]
  },
  {
   "cell_type": "markdown",
   "metadata": {
    "slideshow": {
     "slide_type": "slide"
    }
   },
   "source": [
    "## Useful links\n",
    "* DifferentialEquation.jl documentation : https://docs.juliadiffeq.org/stable/\n",
    "\n",
    "## References\n",
    "\n",
    "[Watson, Andrew J., and James E. Lovelock. \"Biological homeostasis of the global environment: the parable of Daisyworld.\" Tellus B: Chemical and Physical Meteorology 35, no. 4 (1983): 284-289.](https://www.tandfonline.com/doi/pdf/10.3402/tellusb.v35i4.14616)"
   ]
  },
  {
   "cell_type": "code",
   "execution_count": null,
   "metadata": {
    "slideshow": {
     "slide_type": "slide"
    }
   },
   "outputs": [],
   "source": [
    "include(\"code/DW.jl\")\n",
    "# Change the solar flux to see what happens\n",
    "T_opt = 22.5\n",
    "T_range = 10.0\n",
    "F2(step) = (T_opt + T_range)*1.5\n",
    "data, p = DW.run(50, F=F2)"
   ]
  },
  {
   "cell_type": "code",
   "execution_count": 28,
   "metadata": {
    "slideshow": {
     "slide_type": "slide"
    }
   },
   "outputs": [
    {
     "data": {
      "image/svg+xml": [
       "<?xml version=\"1.0\" encoding=\"utf-8\"?>\n",
       "<svg xmlns=\"http://www.w3.org/2000/svg\" xmlns:xlink=\"http://www.w3.org/1999/xlink\" width=\"600\" height=\"400\" viewBox=\"0 0 2400 1600\">\n",
       "<defs>\n",
       "  <clipPath id=\"clip890\">\n",
       "    <rect x=\"0\" y=\"0\" width=\"2400\" height=\"1600\"/>\n",
       "  </clipPath>\n",
       "</defs>\n",
       "<path clip-path=\"url(#clip890)\" d=\"\n",
       "M0 1600 L2400 1600 L2400 0 L0 0  Z\n",
       "  \" fill=\"#ffffff\" fill-rule=\"evenodd\" fill-opacity=\"1\"/>\n",
       "<defs>\n",
       "  <clipPath id=\"clip891\">\n",
       "    <rect x=\"480\" y=\"0\" width=\"1681\" height=\"1600\"/>\n",
       "  </clipPath>\n",
       "</defs>\n",
       "<path clip-path=\"url(#clip890)\" d=\"\n",
       "M186.274 1486.45 L2352.76 1486.45 L2352.76 47.2441 L186.274 47.2441  Z\n",
       "  \" fill=\"#ffffff\" fill-rule=\"evenodd\" fill-opacity=\"1\"/>\n",
       "<defs>\n",
       "  <clipPath id=\"clip892\">\n",
       "    <rect x=\"186\" y=\"47\" width=\"2167\" height=\"1440\"/>\n",
       "  </clipPath>\n",
       "</defs>\n",
       "<polyline clip-path=\"url(#clip892)\" style=\"stroke:#000000; stroke-linecap:butt; stroke-linejoin:round; stroke-width:2; stroke-opacity:0.1; fill:none\" points=\"\n",
       "  247.59,1486.45 247.59,47.2441 \n",
       "  \"/>\n",
       "<polyline clip-path=\"url(#clip892)\" style=\"stroke:#000000; stroke-linecap:butt; stroke-linejoin:round; stroke-width:2; stroke-opacity:0.1; fill:none\" points=\"\n",
       "  656.36,1486.45 656.36,47.2441 \n",
       "  \"/>\n",
       "<polyline clip-path=\"url(#clip892)\" style=\"stroke:#000000; stroke-linecap:butt; stroke-linejoin:round; stroke-width:2; stroke-opacity:0.1; fill:none\" points=\"\n",
       "  1065.13,1486.45 1065.13,47.2441 \n",
       "  \"/>\n",
       "<polyline clip-path=\"url(#clip892)\" style=\"stroke:#000000; stroke-linecap:butt; stroke-linejoin:round; stroke-width:2; stroke-opacity:0.1; fill:none\" points=\"\n",
       "  1473.9,1486.45 1473.9,47.2441 \n",
       "  \"/>\n",
       "<polyline clip-path=\"url(#clip892)\" style=\"stroke:#000000; stroke-linecap:butt; stroke-linejoin:round; stroke-width:2; stroke-opacity:0.1; fill:none\" points=\"\n",
       "  1882.67,1486.45 1882.67,47.2441 \n",
       "  \"/>\n",
       "<polyline clip-path=\"url(#clip892)\" style=\"stroke:#000000; stroke-linecap:butt; stroke-linejoin:round; stroke-width:2; stroke-opacity:0.1; fill:none\" points=\"\n",
       "  2291.44,1486.45 2291.44,47.2441 \n",
       "  \"/>\n",
       "<polyline clip-path=\"url(#clip890)\" style=\"stroke:#000000; stroke-linecap:butt; stroke-linejoin:round; stroke-width:4; stroke-opacity:1; fill:none\" points=\"\n",
       "  186.274,1486.45 2352.76,1486.45 \n",
       "  \"/>\n",
       "<polyline clip-path=\"url(#clip890)\" style=\"stroke:#000000; stroke-linecap:butt; stroke-linejoin:round; stroke-width:4; stroke-opacity:1; fill:none\" points=\"\n",
       "  247.59,1486.45 247.59,1467.55 \n",
       "  \"/>\n",
       "<polyline clip-path=\"url(#clip890)\" style=\"stroke:#000000; stroke-linecap:butt; stroke-linejoin:round; stroke-width:4; stroke-opacity:1; fill:none\" points=\"\n",
       "  656.36,1486.45 656.36,1467.55 \n",
       "  \"/>\n",
       "<polyline clip-path=\"url(#clip890)\" style=\"stroke:#000000; stroke-linecap:butt; stroke-linejoin:round; stroke-width:4; stroke-opacity:1; fill:none\" points=\"\n",
       "  1065.13,1486.45 1065.13,1467.55 \n",
       "  \"/>\n",
       "<polyline clip-path=\"url(#clip890)\" style=\"stroke:#000000; stroke-linecap:butt; stroke-linejoin:round; stroke-width:4; stroke-opacity:1; fill:none\" points=\"\n",
       "  1473.9,1486.45 1473.9,1467.55 \n",
       "  \"/>\n",
       "<polyline clip-path=\"url(#clip890)\" style=\"stroke:#000000; stroke-linecap:butt; stroke-linejoin:round; stroke-width:4; stroke-opacity:1; fill:none\" points=\"\n",
       "  1882.67,1486.45 1882.67,1467.55 \n",
       "  \"/>\n",
       "<polyline clip-path=\"url(#clip890)\" style=\"stroke:#000000; stroke-linecap:butt; stroke-linejoin:round; stroke-width:4; stroke-opacity:1; fill:none\" points=\"\n",
       "  2291.44,1486.45 2291.44,1467.55 \n",
       "  \"/>\n",
       "<path clip-path=\"url(#clip890)\" d=\"M247.59 1517.37 Q243.978 1517.37 242.15 1520.93 Q240.344 1524.47 240.344 1531.6 Q240.344 1538.71 242.15 1542.27 Q243.978 1545.82 247.59 1545.82 Q251.224 1545.82 253.029 1542.27 Q254.858 1538.71 254.858 1531.6 Q254.858 1524.47 253.029 1520.93 Q251.224 1517.37 247.59 1517.37 M247.59 1513.66 Q253.4 1513.66 256.455 1518.27 Q259.534 1522.85 259.534 1531.6 Q259.534 1540.33 256.455 1544.94 Q253.4 1549.52 247.59 1549.52 Q241.779 1549.52 238.701 1544.94 Q235.645 1540.33 235.645 1531.6 Q235.645 1522.85 238.701 1518.27 Q241.779 1513.66 247.59 1513.66 Z\" fill=\"#000000\" fill-rule=\"evenodd\" fill-opacity=\"1\" /><path clip-path=\"url(#clip890)\" d=\"M631.047 1544.91 L638.686 1544.91 L638.686 1518.55 L630.376 1520.21 L630.376 1515.95 L638.64 1514.29 L643.316 1514.29 L643.316 1544.91 L650.955 1544.91 L650.955 1548.85 L631.047 1548.85 L631.047 1544.91 Z\" fill=\"#000000\" fill-rule=\"evenodd\" fill-opacity=\"1\" /><path clip-path=\"url(#clip890)\" d=\"M670.399 1517.37 Q666.788 1517.37 664.959 1520.93 Q663.154 1524.47 663.154 1531.6 Q663.154 1538.71 664.959 1542.27 Q666.788 1545.82 670.399 1545.82 Q674.033 1545.82 675.839 1542.27 Q677.667 1538.71 677.667 1531.6 Q677.667 1524.47 675.839 1520.93 Q674.033 1517.37 670.399 1517.37 M670.399 1513.66 Q676.209 1513.66 679.265 1518.27 Q682.343 1522.85 682.343 1531.6 Q682.343 1540.33 679.265 1544.94 Q676.209 1549.52 670.399 1549.52 Q664.589 1549.52 661.51 1544.94 Q658.455 1540.33 658.455 1531.6 Q658.455 1522.85 661.51 1518.27 Q664.589 1513.66 670.399 1513.66 Z\" fill=\"#000000\" fill-rule=\"evenodd\" fill-opacity=\"1\" /><path clip-path=\"url(#clip890)\" d=\"M1043.9 1544.91 L1060.22 1544.91 L1060.22 1548.85 L1038.28 1548.85 L1038.28 1544.91 Q1040.94 1542.16 1045.52 1537.53 Q1050.13 1532.88 1051.31 1531.53 Q1053.56 1529.01 1054.44 1527.27 Q1055.34 1525.51 1055.34 1523.82 Q1055.34 1521.07 1053.39 1519.33 Q1051.47 1517.6 1048.37 1517.6 Q1046.17 1517.6 1043.72 1518.36 Q1041.29 1519.13 1038.51 1520.68 L1038.51 1515.95 Q1041.33 1514.82 1043.79 1514.24 Q1046.24 1513.66 1048.28 1513.66 Q1053.65 1513.66 1056.84 1516.35 Q1060.04 1519.03 1060.04 1523.52 Q1060.04 1525.65 1059.23 1527.57 Q1058.44 1529.47 1056.33 1532.07 Q1055.75 1532.74 1052.65 1535.95 Q1049.55 1539.15 1043.9 1544.91 Z\" fill=\"#000000\" fill-rule=\"evenodd\" fill-opacity=\"1\" /><path clip-path=\"url(#clip890)\" d=\"M1080.04 1517.37 Q1076.43 1517.37 1074.6 1520.93 Q1072.79 1524.47 1072.79 1531.6 Q1072.79 1538.71 1074.6 1542.27 Q1076.43 1545.82 1080.04 1545.82 Q1083.67 1545.82 1085.48 1542.27 Q1087.31 1538.71 1087.31 1531.6 Q1087.31 1524.47 1085.48 1520.93 Q1083.67 1517.37 1080.04 1517.37 M1080.04 1513.66 Q1085.85 1513.66 1088.9 1518.27 Q1091.98 1522.85 1091.98 1531.6 Q1091.98 1540.33 1088.9 1544.94 Q1085.85 1549.52 1080.04 1549.52 Q1074.23 1549.52 1071.15 1544.94 Q1068.09 1540.33 1068.09 1531.6 Q1068.09 1522.85 1071.15 1518.27 Q1074.23 1513.66 1080.04 1513.66 Z\" fill=\"#000000\" fill-rule=\"evenodd\" fill-opacity=\"1\" /><path clip-path=\"url(#clip890)\" d=\"M1462.74 1530.21 Q1466.1 1530.93 1467.97 1533.2 Q1469.87 1535.47 1469.87 1538.8 Q1469.87 1543.92 1466.35 1546.72 Q1462.84 1549.52 1456.35 1549.52 Q1454.18 1549.52 1451.86 1549.08 Q1449.57 1548.66 1447.12 1547.81 L1447.12 1543.29 Q1449.06 1544.43 1451.38 1545.01 Q1453.69 1545.58 1456.21 1545.58 Q1460.61 1545.58 1462.9 1543.85 Q1465.22 1542.11 1465.22 1538.8 Q1465.22 1535.75 1463.07 1534.03 Q1460.94 1532.3 1457.12 1532.3 L1453.09 1532.3 L1453.09 1528.45 L1457.3 1528.45 Q1460.75 1528.45 1462.58 1527.09 Q1464.41 1525.7 1464.41 1523.11 Q1464.41 1520.45 1462.51 1519.03 Q1460.64 1517.6 1457.12 1517.6 Q1455.2 1517.6 1453 1518.01 Q1450.8 1518.43 1448.16 1519.31 L1448.16 1515.14 Q1450.82 1514.4 1453.14 1514.03 Q1455.47 1513.66 1457.53 1513.66 Q1462.86 1513.66 1465.96 1516.09 Q1469.06 1518.5 1469.06 1522.62 Q1469.06 1525.49 1467.42 1527.48 Q1465.78 1529.45 1462.74 1530.21 Z\" fill=\"#000000\" fill-rule=\"evenodd\" fill-opacity=\"1\" /><path clip-path=\"url(#clip890)\" d=\"M1488.74 1517.37 Q1485.13 1517.37 1483.3 1520.93 Q1481.49 1524.47 1481.49 1531.6 Q1481.49 1538.71 1483.3 1542.27 Q1485.13 1545.82 1488.74 1545.82 Q1492.37 1545.82 1494.18 1542.27 Q1496.01 1538.71 1496.01 1531.6 Q1496.01 1524.47 1494.18 1520.93 Q1492.37 1517.37 1488.74 1517.37 M1488.74 1513.66 Q1494.55 1513.66 1497.6 1518.27 Q1500.68 1522.85 1500.68 1531.6 Q1500.68 1540.33 1497.6 1544.94 Q1494.55 1549.52 1488.74 1549.52 Q1482.93 1549.52 1479.85 1544.94 Q1476.79 1540.33 1476.79 1531.6 Q1476.79 1522.85 1479.85 1518.27 Q1482.93 1513.66 1488.74 1513.66 Z\" fill=\"#000000\" fill-rule=\"evenodd\" fill-opacity=\"1\" /><path clip-path=\"url(#clip890)\" d=\"M1870.84 1518.36 L1859.04 1536.81 L1870.84 1536.81 L1870.84 1518.36 M1869.61 1514.29 L1875.49 1514.29 L1875.49 1536.81 L1880.42 1536.81 L1880.42 1540.7 L1875.49 1540.7 L1875.49 1548.85 L1870.84 1548.85 L1870.84 1540.7 L1855.24 1540.7 L1855.24 1536.19 L1869.61 1514.29 Z\" fill=\"#000000\" fill-rule=\"evenodd\" fill-opacity=\"1\" /><path clip-path=\"url(#clip890)\" d=\"M1898.16 1517.37 Q1894.55 1517.37 1892.72 1520.93 Q1890.91 1524.47 1890.91 1531.6 Q1890.91 1538.71 1892.72 1542.27 Q1894.55 1545.82 1898.16 1545.82 Q1901.79 1545.82 1903.6 1542.27 Q1905.42 1538.71 1905.42 1531.6 Q1905.42 1524.47 1903.6 1520.93 Q1901.79 1517.37 1898.16 1517.37 M1898.16 1513.66 Q1903.97 1513.66 1907.02 1518.27 Q1910.1 1522.85 1910.1 1531.6 Q1910.1 1540.33 1907.02 1544.94 Q1903.97 1549.52 1898.16 1549.52 Q1892.35 1549.52 1889.27 1544.94 Q1886.21 1540.33 1886.21 1531.6 Q1886.21 1522.85 1889.27 1518.27 Q1892.35 1513.66 1898.16 1513.66 Z\" fill=\"#000000\" fill-rule=\"evenodd\" fill-opacity=\"1\" /><path clip-path=\"url(#clip890)\" d=\"M2266.14 1514.29 L2284.5 1514.29 L2284.5 1518.22 L2270.42 1518.22 L2270.42 1526.7 Q2271.44 1526.35 2272.46 1526.19 Q2273.48 1526 2274.5 1526 Q2280.28 1526 2283.66 1529.17 Q2287.04 1532.34 2287.04 1537.76 Q2287.04 1543.34 2283.57 1546.44 Q2280.1 1549.52 2273.78 1549.52 Q2271.6 1549.52 2269.33 1549.15 Q2267.09 1548.78 2264.68 1548.04 L2264.68 1543.34 Q2266.76 1544.47 2268.99 1545.03 Q2271.21 1545.58 2273.69 1545.58 Q2277.69 1545.58 2280.03 1543.48 Q2282.37 1541.37 2282.37 1537.76 Q2282.37 1534.15 2280.03 1532.04 Q2277.69 1529.94 2273.69 1529.94 Q2271.81 1529.94 2269.94 1530.35 Q2268.08 1530.77 2266.14 1531.65 L2266.14 1514.29 Z\" fill=\"#000000\" fill-rule=\"evenodd\" fill-opacity=\"1\" /><path clip-path=\"url(#clip890)\" d=\"M2306.26 1517.37 Q2302.64 1517.37 2300.82 1520.93 Q2299.01 1524.47 2299.01 1531.6 Q2299.01 1538.71 2300.82 1542.27 Q2302.64 1545.82 2306.26 1545.82 Q2309.89 1545.82 2311.69 1542.27 Q2313.52 1538.71 2313.52 1531.6 Q2313.52 1524.47 2311.69 1520.93 Q2309.89 1517.37 2306.26 1517.37 M2306.26 1513.66 Q2312.07 1513.66 2315.12 1518.27 Q2318.2 1522.85 2318.2 1531.6 Q2318.2 1540.33 2315.12 1544.94 Q2312.07 1549.52 2306.26 1549.52 Q2300.44 1549.52 2297.37 1544.94 Q2294.31 1540.33 2294.31 1531.6 Q2294.31 1522.85 2297.37 1518.27 Q2300.44 1513.66 2306.26 1513.66 Z\" fill=\"#000000\" fill-rule=\"evenodd\" fill-opacity=\"1\" /><polyline clip-path=\"url(#clip892)\" style=\"stroke:#000000; stroke-linecap:butt; stroke-linejoin:round; stroke-width:2; stroke-opacity:0.1; fill:none\" points=\"\n",
       "  186.274,1470.11 2352.76,1470.11 \n",
       "  \"/>\n",
       "<polyline clip-path=\"url(#clip892)\" style=\"stroke:#000000; stroke-linecap:butt; stroke-linejoin:round; stroke-width:2; stroke-opacity:0.1; fill:none\" points=\"\n",
       "  186.274,1152.43 2352.76,1152.43 \n",
       "  \"/>\n",
       "<polyline clip-path=\"url(#clip892)\" style=\"stroke:#000000; stroke-linecap:butt; stroke-linejoin:round; stroke-width:2; stroke-opacity:0.1; fill:none\" points=\"\n",
       "  186.274,834.746 2352.76,834.746 \n",
       "  \"/>\n",
       "<polyline clip-path=\"url(#clip892)\" style=\"stroke:#000000; stroke-linecap:butt; stroke-linejoin:round; stroke-width:2; stroke-opacity:0.1; fill:none\" points=\"\n",
       "  186.274,517.062 2352.76,517.062 \n",
       "  \"/>\n",
       "<polyline clip-path=\"url(#clip892)\" style=\"stroke:#000000; stroke-linecap:butt; stroke-linejoin:round; stroke-width:2; stroke-opacity:0.1; fill:none\" points=\"\n",
       "  186.274,199.377 2352.76,199.377 \n",
       "  \"/>\n",
       "<polyline clip-path=\"url(#clip890)\" style=\"stroke:#000000; stroke-linecap:butt; stroke-linejoin:round; stroke-width:4; stroke-opacity:1; fill:none\" points=\"\n",
       "  186.274,1486.45 186.274,47.2441 \n",
       "  \"/>\n",
       "<polyline clip-path=\"url(#clip890)\" style=\"stroke:#000000; stroke-linecap:butt; stroke-linejoin:round; stroke-width:4; stroke-opacity:1; fill:none\" points=\"\n",
       "  186.274,1470.11 205.172,1470.11 \n",
       "  \"/>\n",
       "<polyline clip-path=\"url(#clip890)\" style=\"stroke:#000000; stroke-linecap:butt; stroke-linejoin:round; stroke-width:4; stroke-opacity:1; fill:none\" points=\"\n",
       "  186.274,1152.43 205.172,1152.43 \n",
       "  \"/>\n",
       "<polyline clip-path=\"url(#clip890)\" style=\"stroke:#000000; stroke-linecap:butt; stroke-linejoin:round; stroke-width:4; stroke-opacity:1; fill:none\" points=\"\n",
       "  186.274,834.746 205.172,834.746 \n",
       "  \"/>\n",
       "<polyline clip-path=\"url(#clip890)\" style=\"stroke:#000000; stroke-linecap:butt; stroke-linejoin:round; stroke-width:4; stroke-opacity:1; fill:none\" points=\"\n",
       "  186.274,517.062 205.172,517.062 \n",
       "  \"/>\n",
       "<polyline clip-path=\"url(#clip890)\" style=\"stroke:#000000; stroke-linecap:butt; stroke-linejoin:round; stroke-width:4; stroke-opacity:1; fill:none\" points=\"\n",
       "  186.274,199.377 205.172,199.377 \n",
       "  \"/>\n",
       "<path clip-path=\"url(#clip890)\" d=\"M62.9365 1455.91 Q59.3254 1455.91 57.4967 1459.48 Q55.6912 1463.02 55.6912 1470.15 Q55.6912 1477.25 57.4967 1480.82 Q59.3254 1484.36 62.9365 1484.36 Q66.5707 1484.36 68.3763 1480.82 Q70.205 1477.25 70.205 1470.15 Q70.205 1463.02 68.3763 1459.48 Q66.5707 1455.91 62.9365 1455.91 M62.9365 1452.21 Q68.7467 1452.21 71.8022 1456.82 Q74.8809 1461.4 74.8809 1470.15 Q74.8809 1478.88 71.8022 1483.48 Q68.7467 1488.07 62.9365 1488.07 Q57.1264 1488.07 54.0477 1483.48 Q50.9921 1478.88 50.9921 1470.15 Q50.9921 1461.4 54.0477 1456.82 Q57.1264 1452.21 62.9365 1452.21 Z\" fill=\"#000000\" fill-rule=\"evenodd\" fill-opacity=\"1\" /><path clip-path=\"url(#clip890)\" d=\"M83.0984 1481.51 L87.9827 1481.51 L87.9827 1487.39 L83.0984 1487.39 L83.0984 1481.51 Z\" fill=\"#000000\" fill-rule=\"evenodd\" fill-opacity=\"1\" /><path clip-path=\"url(#clip890)\" d=\"M108.168 1455.91 Q104.557 1455.91 102.728 1459.48 Q100.922 1463.02 100.922 1470.15 Q100.922 1477.25 102.728 1480.82 Q104.557 1484.36 108.168 1484.36 Q111.802 1484.36 113.608 1480.82 Q115.436 1477.25 115.436 1470.15 Q115.436 1463.02 113.608 1459.48 Q111.802 1455.91 108.168 1455.91 M108.168 1452.21 Q113.978 1452.21 117.033 1456.82 Q120.112 1461.4 120.112 1470.15 Q120.112 1478.88 117.033 1483.48 Q113.978 1488.07 108.168 1488.07 Q102.358 1488.07 99.2789 1483.48 Q96.2234 1478.88 96.2234 1470.15 Q96.2234 1461.4 99.2789 1456.82 Q102.358 1452.21 108.168 1452.21 Z\" fill=\"#000000\" fill-rule=\"evenodd\" fill-opacity=\"1\" /><path clip-path=\"url(#clip890)\" d=\"M138.33 1455.91 Q134.719 1455.91 132.89 1459.48 Q131.084 1463.02 131.084 1470.15 Q131.084 1477.25 132.89 1480.82 Q134.719 1484.36 138.33 1484.36 Q141.964 1484.36 143.769 1480.82 Q145.598 1477.25 145.598 1470.15 Q145.598 1463.02 143.769 1459.48 Q141.964 1455.91 138.33 1455.91 M138.33 1452.21 Q144.14 1452.21 147.195 1456.82 Q150.274 1461.4 150.274 1470.15 Q150.274 1478.88 147.195 1483.48 Q144.14 1488.07 138.33 1488.07 Q132.519 1488.07 129.441 1483.48 Q126.385 1478.88 126.385 1470.15 Q126.385 1461.4 129.441 1456.82 Q132.519 1452.21 138.33 1452.21 Z\" fill=\"#000000\" fill-rule=\"evenodd\" fill-opacity=\"1\" /><path clip-path=\"url(#clip890)\" d=\"M63.9319 1138.23 Q60.3208 1138.23 58.4921 1141.79 Q56.6865 1145.33 56.6865 1152.46 Q56.6865 1159.57 58.4921 1163.14 Q60.3208 1166.68 63.9319 1166.68 Q67.5661 1166.68 69.3717 1163.14 Q71.2004 1159.57 71.2004 1152.46 Q71.2004 1145.33 69.3717 1141.79 Q67.5661 1138.23 63.9319 1138.23 M63.9319 1134.52 Q69.742 1134.52 72.7976 1139.13 Q75.8763 1143.71 75.8763 1152.46 Q75.8763 1161.19 72.7976 1165.8 Q69.742 1170.38 63.9319 1170.38 Q58.1217 1170.38 55.043 1165.8 Q51.9875 1161.19 51.9875 1152.46 Q51.9875 1143.71 55.043 1139.13 Q58.1217 1134.52 63.9319 1134.52 Z\" fill=\"#000000\" fill-rule=\"evenodd\" fill-opacity=\"1\" /><path clip-path=\"url(#clip890)\" d=\"M84.0938 1163.83 L88.978 1163.83 L88.978 1169.71 L84.0938 1169.71 L84.0938 1163.83 Z\" fill=\"#000000\" fill-rule=\"evenodd\" fill-opacity=\"1\" /><path clip-path=\"url(#clip890)\" d=\"M103.191 1165.77 L119.51 1165.77 L119.51 1169.71 L97.566 1169.71 L97.566 1165.77 Q100.228 1163.02 104.811 1158.39 Q109.418 1153.74 110.598 1152.4 Q112.844 1149.87 113.723 1148.14 Q114.626 1146.38 114.626 1144.69 Q114.626 1141.93 112.682 1140.2 Q110.76 1138.46 107.658 1138.46 Q105.459 1138.46 103.006 1139.22 Q100.575 1139.99 97.7974 1141.54 L97.7974 1136.82 Q100.621 1135.68 103.075 1135.1 Q105.529 1134.52 107.566 1134.52 Q112.936 1134.52 116.131 1137.21 Q119.325 1139.9 119.325 1144.39 Q119.325 1146.52 118.515 1148.44 Q117.728 1150.33 115.621 1152.93 Q115.043 1153.6 111.941 1156.82 Q108.839 1160.01 103.191 1165.77 Z\" fill=\"#000000\" fill-rule=\"evenodd\" fill-opacity=\"1\" /><path clip-path=\"url(#clip890)\" d=\"M129.371 1135.15 L147.728 1135.15 L147.728 1139.08 L133.654 1139.08 L133.654 1147.56 Q134.672 1147.21 135.691 1147.05 Q136.709 1146.86 137.728 1146.86 Q143.515 1146.86 146.894 1150.03 Q150.274 1153.21 150.274 1158.62 Q150.274 1164.2 146.802 1167.3 Q143.33 1170.38 137.01 1170.38 Q134.834 1170.38 132.566 1170.01 Q130.32 1169.64 127.913 1168.9 L127.913 1164.2 Q129.996 1165.33 132.219 1165.89 Q134.441 1166.45 136.918 1166.45 Q140.922 1166.45 143.26 1164.34 Q145.598 1162.23 145.598 1158.62 Q145.598 1155.01 143.26 1152.9 Q140.922 1150.8 136.918 1150.8 Q135.043 1150.8 133.168 1151.21 Q131.316 1151.63 129.371 1152.51 L129.371 1135.15 Z\" fill=\"#000000\" fill-rule=\"evenodd\" fill-opacity=\"1\" /><path clip-path=\"url(#clip890)\" d=\"M62.9365 820.544 Q59.3254 820.544 57.4967 824.109 Q55.6912 827.651 55.6912 834.78 Q55.6912 841.887 57.4967 845.452 Q59.3254 848.993 62.9365 848.993 Q66.5707 848.993 68.3763 845.452 Q70.205 841.887 70.205 834.78 Q70.205 827.651 68.3763 824.109 Q66.5707 820.544 62.9365 820.544 M62.9365 816.841 Q68.7467 816.841 71.8022 821.447 Q74.8809 826.03 74.8809 834.78 Q74.8809 843.507 71.8022 848.114 Q68.7467 852.697 62.9365 852.697 Q57.1264 852.697 54.0477 848.114 Q50.9921 843.507 50.9921 834.78 Q50.9921 826.03 54.0477 821.447 Q57.1264 816.841 62.9365 816.841 Z\" fill=\"#000000\" fill-rule=\"evenodd\" fill-opacity=\"1\" /><path clip-path=\"url(#clip890)\" d=\"M83.0984 846.146 L87.9827 846.146 L87.9827 852.026 L83.0984 852.026 L83.0984 846.146 Z\" fill=\"#000000\" fill-rule=\"evenodd\" fill-opacity=\"1\" /><path clip-path=\"url(#clip890)\" d=\"M98.2141 817.466 L116.57 817.466 L116.57 821.401 L102.496 821.401 L102.496 829.873 Q103.515 829.526 104.534 829.364 Q105.552 829.179 106.571 829.179 Q112.358 829.179 115.737 832.35 Q119.117 835.521 119.117 840.938 Q119.117 846.516 115.645 849.618 Q112.172 852.697 105.853 852.697 Q103.677 852.697 101.409 852.327 Q99.1632 851.956 96.7558 851.215 L96.7558 846.516 Q98.8391 847.651 101.061 848.206 Q103.284 848.762 105.76 848.762 Q109.765 848.762 112.103 846.655 Q114.441 844.549 114.441 840.938 Q114.441 837.327 112.103 835.22 Q109.765 833.114 105.76 833.114 Q103.885 833.114 102.01 833.53 Q100.159 833.947 98.2141 834.827 L98.2141 817.466 Z\" fill=\"#000000\" fill-rule=\"evenodd\" fill-opacity=\"1\" /><path clip-path=\"url(#clip890)\" d=\"M138.33 820.544 Q134.719 820.544 132.89 824.109 Q131.084 827.651 131.084 834.78 Q131.084 841.887 132.89 845.452 Q134.719 848.993 138.33 848.993 Q141.964 848.993 143.769 845.452 Q145.598 841.887 145.598 834.78 Q145.598 827.651 143.769 824.109 Q141.964 820.544 138.33 820.544 M138.33 816.841 Q144.14 816.841 147.195 821.447 Q150.274 826.03 150.274 834.78 Q150.274 843.507 147.195 848.114 Q144.14 852.697 138.33 852.697 Q132.519 852.697 129.441 848.114 Q126.385 843.507 126.385 834.78 Q126.385 826.03 129.441 821.447 Q132.519 816.841 138.33 816.841 Z\" fill=\"#000000\" fill-rule=\"evenodd\" fill-opacity=\"1\" /><path clip-path=\"url(#clip890)\" d=\"M63.9319 502.86 Q60.3208 502.86 58.4921 506.425 Q56.6865 509.967 56.6865 517.096 Q56.6865 524.203 58.4921 527.768 Q60.3208 531.309 63.9319 531.309 Q67.5661 531.309 69.3717 527.768 Q71.2004 524.203 71.2004 517.096 Q71.2004 509.967 69.3717 506.425 Q67.5661 502.86 63.9319 502.86 M63.9319 499.157 Q69.742 499.157 72.7976 503.763 Q75.8763 508.346 75.8763 517.096 Q75.8763 525.823 72.7976 530.43 Q69.742 535.013 63.9319 535.013 Q58.1217 535.013 55.043 530.43 Q51.9875 525.823 51.9875 517.096 Q51.9875 508.346 55.043 503.763 Q58.1217 499.157 63.9319 499.157 Z\" fill=\"#000000\" fill-rule=\"evenodd\" fill-opacity=\"1\" /><path clip-path=\"url(#clip890)\" d=\"M84.0938 528.462 L88.978 528.462 L88.978 534.342 L84.0938 534.342 L84.0938 528.462 Z\" fill=\"#000000\" fill-rule=\"evenodd\" fill-opacity=\"1\" /><path clip-path=\"url(#clip890)\" d=\"M97.9826 499.782 L120.205 499.782 L120.205 501.772 L107.658 534.342 L102.774 534.342 L114.58 503.717 L97.9826 503.717 L97.9826 499.782 Z\" fill=\"#000000\" fill-rule=\"evenodd\" fill-opacity=\"1\" /><path clip-path=\"url(#clip890)\" d=\"M129.371 499.782 L147.728 499.782 L147.728 503.717 L133.654 503.717 L133.654 512.189 Q134.672 511.842 135.691 511.68 Q136.709 511.494 137.728 511.494 Q143.515 511.494 146.894 514.666 Q150.274 517.837 150.274 523.254 Q150.274 528.832 146.802 531.934 Q143.33 535.013 137.01 535.013 Q134.834 535.013 132.566 534.643 Q130.32 534.272 127.913 533.531 L127.913 528.832 Q129.996 529.967 132.219 530.522 Q134.441 531.078 136.918 531.078 Q140.922 531.078 143.26 528.971 Q145.598 526.865 145.598 523.254 Q145.598 519.643 143.26 517.536 Q140.922 515.43 136.918 515.43 Q135.043 515.43 133.168 515.846 Q131.316 516.263 129.371 517.143 L129.371 499.782 Z\" fill=\"#000000\" fill-rule=\"evenodd\" fill-opacity=\"1\" /><path clip-path=\"url(#clip890)\" d=\"M53.7467 212.722 L61.3856 212.722 L61.3856 186.357 L53.0754 188.023 L53.0754 183.764 L61.3393 182.097 L66.0152 182.097 L66.0152 212.722 L73.654 212.722 L73.654 216.657 L53.7467 216.657 L53.7467 212.722 Z\" fill=\"#000000\" fill-rule=\"evenodd\" fill-opacity=\"1\" /><path clip-path=\"url(#clip890)\" d=\"M83.0984 210.778 L87.9827 210.778 L87.9827 216.657 L83.0984 216.657 L83.0984 210.778 Z\" fill=\"#000000\" fill-rule=\"evenodd\" fill-opacity=\"1\" /><path clip-path=\"url(#clip890)\" d=\"M108.168 185.176 Q104.557 185.176 102.728 188.741 Q100.922 192.283 100.922 199.412 Q100.922 206.519 102.728 210.083 Q104.557 213.625 108.168 213.625 Q111.802 213.625 113.608 210.083 Q115.436 206.519 115.436 199.412 Q115.436 192.283 113.608 188.741 Q111.802 185.176 108.168 185.176 M108.168 181.472 Q113.978 181.472 117.033 186.079 Q120.112 190.662 120.112 199.412 Q120.112 208.139 117.033 212.745 Q113.978 217.329 108.168 217.329 Q102.358 217.329 99.2789 212.745 Q96.2234 208.139 96.2234 199.412 Q96.2234 190.662 99.2789 186.079 Q102.358 181.472 108.168 181.472 Z\" fill=\"#000000\" fill-rule=\"evenodd\" fill-opacity=\"1\" /><path clip-path=\"url(#clip890)\" d=\"M138.33 185.176 Q134.719 185.176 132.89 188.741 Q131.084 192.283 131.084 199.412 Q131.084 206.519 132.89 210.083 Q134.719 213.625 138.33 213.625 Q141.964 213.625 143.769 210.083 Q145.598 206.519 145.598 199.412 Q145.598 192.283 143.769 188.741 Q141.964 185.176 138.33 185.176 M138.33 181.472 Q144.14 181.472 147.195 186.079 Q150.274 190.662 150.274 199.412 Q150.274 208.139 147.195 212.745 Q144.14 217.329 138.33 217.329 Q132.519 217.329 129.441 212.745 Q126.385 208.139 126.385 199.412 Q126.385 190.662 129.441 186.079 Q132.519 181.472 138.33 181.472 Z\" fill=\"#000000\" fill-rule=\"evenodd\" fill-opacity=\"1\" /><polyline clip-path=\"url(#clip892)\" style=\"stroke:#ff0000; stroke-linecap:butt; stroke-linejoin:round; stroke-width:4; stroke-opacity:1; fill:none\" points=\"\n",
       "  247.59,93.4828 288.467,87.9763 329.344,89.0776 370.221,87.9763 411.098,119.914 451.975,150.751 492.852,180.486 533.729,193.702 574.606,219.032 615.483,246.564 \n",
       "  656.36,274.097 697.237,302.731 738.114,334.669 778.991,343.479 819.868,357.796 860.745,377.619 901.622,361.1 942.499,382.025 983.376,373.214 1024.25,382.025 \n",
       "  1065.13,389.734 1106.01,400.747 1146.88,410.659 1187.76,429.381 1228.64,409.557 1269.51,407.355 1310.39,417.266 1351.27,424.976 1392.15,430.482 1433.02,412.861 \n",
       "  1473.9,407.355 1514.78,408.456 1555.65,399.646 1596.53,407.355 1637.41,420.57 1678.29,413.963 1719.16,408.456 1760.04,401.848 1800.92,395.24 1841.79,391.936 \n",
       "  1882.67,391.936 1923.55,396.342 1964.42,387.531 2005.3,412.861 2046.18,435.989 2087.06,444.799 2127.93,434.887 2168.81,420.57 2209.69,434.887 2250.56,437.09 \n",
       "  2291.44,419.469 \n",
       "  \"/>\n",
       "<polyline clip-path=\"url(#clip892)\" style=\"stroke:#008000; stroke-linecap:butt; stroke-linejoin:round; stroke-width:4; stroke-opacity:1; fill:none\" points=\"\n",
       "  288.467,1445.72 329.344,1423.35 370.221,1388.79 411.098,1315.59 451.975,1250.53 492.852,1181.4 533.729,1128.54 574.606,1075.68 615.483,1016.72 656.36,967.919 \n",
       "  697.237,921.156 738.114,874.393 778.991,852.028 819.868,823.563 860.745,793.066 901.622,819.497 942.499,778.833 983.376,786.966 1024.25,770.701 1065.13,754.435 \n",
       "  1106.01,738.17 1146.88,738.17 1187.76,711.738 1228.64,736.137 1269.51,734.103 1310.39,711.738 1351.27,703.606 1392.15,703.606 1433.02,725.971 1473.9,730.037 \n",
       "  1514.78,725.971 1555.65,752.402 1596.53,744.269 1637.41,719.871 1678.29,725.971 1719.16,734.103 1760.04,742.236 1800.92,766.634 1841.79,768.667 1882.67,758.501 \n",
       "  1923.55,756.468 1964.42,778.833 2005.3,740.203 2046.18,707.672 2087.06,699.539 2127.93,719.871 2168.81,742.236 2209.69,721.904 2250.56,715.805 2291.44,750.369 \n",
       "  \n",
       "  \"/>\n",
       "<polyline clip-path=\"url(#clip892)\" style=\"stroke:#000000; stroke-linecap:butt; stroke-linejoin:round; stroke-width:4; stroke-opacity:1; fill:none\" points=\"\n",
       "  288.467,1435.55 329.344,1415.22 370.221,1378.62 411.098,1364.39 451.975,1356.26 492.852,1342.02 533.729,1313.56 574.606,1307.46 615.483,1299.33 656.36,1301.36 \n",
       "  697.237,1307.46 738.114,1319.66 778.991,1313.56 819.868,1311.53 860.745,1317.63 901.622,1313.56 942.499,1311.53 983.376,1303.39 1024.25,1303.39 1065.13,1301.36 \n",
       "  1106.01,1305.43 1146.88,1323.73 1187.76,1331.86 1228.64,1319.66 1269.51,1313.56 1310.39,1309.49 1351.27,1315.59 1392.15,1325.76 1433.02,1315.59 1473.9,1309.49 \n",
       "  1514.78,1307.46 1555.65,1317.63 1596.53,1323.73 1637.41,1323.73 1678.29,1317.63 1719.16,1315.59 1760.04,1311.53 1800.92,1323.73 1841.79,1319.66 1882.67,1309.49 \n",
       "  1923.55,1315.59 1964.42,1321.69 2005.3,1329.82 2046.18,1339.99 2087.06,1348.12 2127.93,1350.16 2168.81,1346.09 2209.69,1352.19 2250.56,1350.16 2291.44,1352.19 \n",
       "  \n",
       "  \"/>\n",
       "<polyline clip-path=\"url(#clip892)\" style=\"stroke:#0000ff; stroke-linecap:butt; stroke-linejoin:round; stroke-width:4; stroke-opacity:1; fill:none\" points=\"\n",
       "  247.59,199.377 288.467,258.34 329.344,301.036 370.221,372.198 411.098,459.624 451.975,532.819 492.852,616.179 533.729,697.506 574.606,756.468 615.483,823.563 \n",
       "  656.36,870.326 697.237,910.99 738.114,945.554 778.991,974.018 819.868,1004.52 860.745,1028.91 901.622,1006.55 942.499,1049.25 983.376,1049.25 1024.25,1065.51 \n",
       "  1065.13,1083.81 1106.01,1096.01 1146.88,1077.71 1187.76,1096.01 1228.64,1083.81 1269.51,1091.94 1310.39,1118.37 1351.27,1120.41 1392.15,1110.24 1433.02,1098.04 \n",
       "  1473.9,1100.08 1514.78,1106.17 1555.65,1069.58 1596.53,1071.61 1637.41,1096.01 1678.29,1096.01 1719.16,1089.91 1760.04,1085.84 1800.92,1049.25 1841.79,1051.28 \n",
       "  1882.67,1071.61 1923.55,1067.54 1964.42,1039.08 2005.3,1069.58 2046.18,1091.94 2087.06,1091.94 2127.93,1069.58 2168.81,1051.28 2209.69,1065.51 2250.56,1073.64 \n",
       "  2291.44,1037.05 \n",
       "  \"/>\n",
       "<path clip-path=\"url(#clip890)\" d=\"\n",
       "M1372.21 354.418 L2280.54 354.418 L2280.54 95.2176 L1372.21 95.2176  Z\n",
       "  \" fill=\"#ffffff\" fill-rule=\"evenodd\" fill-opacity=\"1\"/>\n",
       "<polyline clip-path=\"url(#clip890)\" style=\"stroke:#000000; stroke-linecap:butt; stroke-linejoin:round; stroke-width:4; stroke-opacity:1; fill:none\" points=\"\n",
       "  1372.21,354.418 2280.54,354.418 2280.54,95.2176 1372.21,95.2176 1372.21,354.418 \n",
       "  \"/>\n",
       "<polyline clip-path=\"url(#clip890)\" style=\"stroke:#ff0000; stroke-linecap:butt; stroke-linejoin:round; stroke-width:4; stroke-opacity:1; fill:none\" points=\"\n",
       "  1396.21,147.058 1540.21,147.058 \n",
       "  \"/>\n",
       "<path clip-path=\"url(#clip890)\" d=\"M1564.21 129.778 L1593.45 129.778 L1593.45 133.713 L1581.18 133.713 L1581.18 164.338 L1576.48 164.338 L1576.48 133.713 L1564.21 133.713 L1564.21 129.778 Z\" fill=\"#000000\" fill-rule=\"evenodd\" fill-opacity=\"1\" /><path clip-path=\"url(#clip890)\" d=\"M1605.34 129.778 L1609.28 129.778 L1597.24 168.736 L1593.31 168.736 L1605.34 129.778 Z\" fill=\"#000000\" fill-rule=\"evenodd\" fill-opacity=\"1\" /><path clip-path=\"url(#clip890)\" d=\"M1609.14 129.778 L1638.38 129.778 L1638.38 133.713 L1626.11 133.713 L1626.11 164.338 L1621.41 164.338 L1621.41 133.713 L1609.14 133.713 L1609.14 129.778 Z\" fill=\"#000000\" fill-rule=\"evenodd\" fill-opacity=\"1\" /><path clip-path=\"url(#clip890)\" d=\"M1662.4 172.208 L1662.4 175.518 L1637.77 175.518 L1637.77 172.208 L1662.4 172.208 Z\" fill=\"#000000\" fill-rule=\"evenodd\" fill-opacity=\"1\" /><path clip-path=\"url(#clip890)\" d=\"M1676.45 141.398 Q1673.03 141.398 1671.04 144.083 Q1669.05 146.745 1669.05 151.398 Q1669.05 156.051 1671.02 158.736 Q1673.01 161.398 1676.45 161.398 Q1679.86 161.398 1681.85 158.713 Q1683.84 156.027 1683.84 151.398 Q1683.84 146.791 1681.85 144.106 Q1679.86 141.398 1676.45 141.398 M1676.45 137.787 Q1682.01 137.787 1685.18 141.398 Q1688.35 145.009 1688.35 151.398 Q1688.35 157.764 1685.18 161.398 Q1682.01 165.009 1676.45 165.009 Q1670.88 165.009 1667.7 161.398 Q1664.56 157.764 1664.56 151.398 Q1664.56 145.009 1667.7 141.398 Q1670.88 137.787 1676.45 137.787 Z\" fill=\"#000000\" fill-rule=\"evenodd\" fill-opacity=\"1\" /><path clip-path=\"url(#clip890)\" d=\"M1699.53 160.449 L1699.53 174.199 L1695.25 174.199 L1695.25 138.412 L1699.53 138.412 L1699.53 142.347 Q1700.88 140.032 1702.91 138.921 Q1704.97 137.787 1707.82 137.787 Q1712.54 137.787 1715.48 141.537 Q1718.45 145.287 1718.45 151.398 Q1718.45 157.509 1715.48 161.259 Q1712.54 165.009 1707.82 165.009 Q1704.97 165.009 1702.91 163.898 Q1700.88 162.763 1699.53 160.449 M1714.02 151.398 Q1714.02 146.699 1712.08 144.037 Q1710.16 141.352 1706.78 141.352 Q1703.4 141.352 1701.45 144.037 Q1699.53 146.699 1699.53 151.398 Q1699.53 156.097 1701.45 158.782 Q1703.4 161.444 1706.78 161.444 Q1710.16 161.444 1712.08 158.782 Q1714.02 156.097 1714.02 151.398 Z\" fill=\"#000000\" fill-rule=\"evenodd\" fill-opacity=\"1\" /><path clip-path=\"url(#clip890)\" d=\"M1729.72 131.051 L1729.72 138.412 L1738.49 138.412 L1738.49 141.722 L1729.72 141.722 L1729.72 155.796 Q1729.72 158.967 1730.57 159.87 Q1731.45 160.773 1734.12 160.773 L1738.49 160.773 L1738.49 164.338 L1734.12 164.338 Q1729.19 164.338 1727.31 162.509 Q1725.44 160.657 1725.44 155.796 L1725.44 141.722 L1722.31 141.722 L1722.31 138.412 L1725.44 138.412 L1725.44 131.051 L1729.72 131.051 Z\" fill=\"#000000\" fill-rule=\"evenodd\" fill-opacity=\"1\" /><polyline clip-path=\"url(#clip890)\" style=\"stroke:#008000; stroke-linecap:butt; stroke-linejoin:round; stroke-width:4; stroke-opacity:1; fill:none\" points=\"\n",
       "  1396.21,198.898 1540.21,198.898 \n",
       "  \"/>\n",
       "<path clip-path=\"url(#clip890)\" d=\"M1568.89 185.46 L1568.89 198.446 L1574.77 198.446 Q1578.03 198.446 1579.81 196.756 Q1581.59 195.067 1581.59 191.942 Q1581.59 188.84 1579.81 187.15 Q1578.03 185.46 1574.77 185.46 L1568.89 185.46 M1564.21 181.618 L1574.77 181.618 Q1580.58 181.618 1583.54 184.256 Q1586.52 186.872 1586.52 191.942 Q1586.52 197.057 1583.54 199.673 Q1580.58 202.289 1574.77 202.289 L1568.89 202.289 L1568.89 216.178 L1564.21 216.178 L1564.21 181.618 Z\" fill=\"#000000\" fill-rule=\"evenodd\" fill-opacity=\"1\" /><path clip-path=\"url(#clip890)\" d=\"M1606.8 194.233 Q1606.08 193.817 1605.23 193.631 Q1604.4 193.423 1603.38 193.423 Q1599.77 193.423 1597.82 195.784 Q1595.9 198.122 1595.9 202.52 L1595.9 216.178 L1591.62 216.178 L1591.62 190.252 L1595.9 190.252 L1595.9 194.28 Q1597.24 191.918 1599.4 190.784 Q1601.55 189.627 1604.63 189.627 Q1605.07 189.627 1605.6 189.696 Q1606.13 189.743 1606.78 189.858 L1606.8 194.233 Z\" fill=\"#000000\" fill-rule=\"evenodd\" fill-opacity=\"1\" /><path clip-path=\"url(#clip890)\" d=\"M1620.27 193.238 Q1616.85 193.238 1614.86 195.923 Q1612.87 198.585 1612.87 203.238 Q1612.87 207.891 1614.83 210.576 Q1616.83 213.238 1620.27 213.238 Q1623.68 213.238 1625.67 210.553 Q1627.66 207.867 1627.66 203.238 Q1627.66 198.631 1625.67 195.946 Q1623.68 193.238 1620.27 193.238 M1620.27 189.627 Q1625.83 189.627 1629 193.238 Q1632.17 196.849 1632.17 203.238 Q1632.17 209.604 1629 213.238 Q1625.83 216.849 1620.27 216.849 Q1614.7 216.849 1611.52 213.238 Q1608.38 209.604 1608.38 203.238 Q1608.38 196.849 1611.52 193.238 Q1614.7 189.627 1620.27 189.627 Z\" fill=\"#000000\" fill-rule=\"evenodd\" fill-opacity=\"1\" /><path clip-path=\"url(#clip890)\" d=\"M1643.35 212.289 L1643.35 226.039 L1639.07 226.039 L1639.07 190.252 L1643.35 190.252 L1643.35 194.187 Q1644.7 191.872 1646.73 190.761 Q1648.79 189.627 1651.64 189.627 Q1656.36 189.627 1659.3 193.377 Q1662.27 197.127 1662.27 203.238 Q1662.27 209.349 1659.3 213.099 Q1656.36 216.849 1651.64 216.849 Q1648.79 216.849 1646.73 215.738 Q1644.7 214.603 1643.35 212.289 M1657.84 203.238 Q1657.84 198.539 1655.9 195.877 Q1653.98 193.192 1650.6 193.192 Q1647.22 193.192 1645.27 195.877 Q1643.35 198.539 1643.35 203.238 Q1643.35 207.937 1645.27 210.622 Q1647.22 213.284 1650.6 213.284 Q1653.98 213.284 1655.9 210.622 Q1657.84 207.937 1657.84 203.238 Z\" fill=\"#000000\" fill-rule=\"evenodd\" fill-opacity=\"1\" /><path clip-path=\"url(#clip890)\" d=\"M1679.37 193.238 Q1675.95 193.238 1673.95 195.923 Q1671.96 198.585 1671.96 203.238 Q1671.96 207.891 1673.93 210.576 Q1675.92 213.238 1679.37 213.238 Q1682.77 213.238 1684.76 210.553 Q1686.76 207.867 1686.76 203.238 Q1686.76 198.631 1684.76 195.946 Q1682.77 193.238 1679.37 193.238 M1679.37 189.627 Q1684.93 189.627 1688.1 193.238 Q1691.27 196.849 1691.27 203.238 Q1691.27 209.604 1688.1 213.238 Q1684.93 216.849 1679.37 216.849 Q1673.79 216.849 1670.62 213.238 Q1667.47 209.604 1667.47 203.238 Q1667.47 196.849 1670.62 193.238 Q1673.79 189.627 1679.37 189.627 Z\" fill=\"#000000\" fill-rule=\"evenodd\" fill-opacity=\"1\" /><path clip-path=\"url(#clip890)\" d=\"M1713.35 194.233 Q1712.64 193.817 1711.78 193.631 Q1710.95 193.423 1709.93 193.423 Q1706.32 193.423 1704.37 195.784 Q1702.45 198.122 1702.45 202.52 L1702.45 216.178 L1698.17 216.178 L1698.17 190.252 L1702.45 190.252 L1702.45 194.28 Q1703.79 191.918 1705.95 190.784 Q1708.1 189.627 1711.18 189.627 Q1711.62 189.627 1712.15 189.696 Q1712.68 189.743 1713.33 189.858 L1713.35 194.233 Z\" fill=\"#000000\" fill-rule=\"evenodd\" fill-opacity=\"1\" /><path clip-path=\"url(#clip890)\" d=\"M1722.03 182.891 L1722.03 190.252 L1730.81 190.252 L1730.81 193.562 L1722.03 193.562 L1722.03 207.636 Q1722.03 210.807 1722.89 211.71 Q1723.77 212.613 1726.43 212.613 L1730.81 212.613 L1730.81 216.178 L1726.43 216.178 Q1721.5 216.178 1719.63 214.349 Q1717.75 212.497 1717.75 207.636 L1717.75 193.562 L1714.63 193.562 L1714.63 190.252 L1717.75 190.252 L1717.75 182.891 L1722.03 182.891 Z\" fill=\"#000000\" fill-rule=\"evenodd\" fill-opacity=\"1\" /><path clip-path=\"url(#clip890)\" d=\"M1736.41 190.252 L1740.67 190.252 L1740.67 216.178 L1736.41 216.178 L1736.41 190.252 M1736.41 180.159 L1740.67 180.159 L1740.67 185.553 L1736.41 185.553 L1736.41 180.159 Z\" fill=\"#000000\" fill-rule=\"evenodd\" fill-opacity=\"1\" /><path clip-path=\"url(#clip890)\" d=\"M1759.63 193.238 Q1756.2 193.238 1754.21 195.923 Q1752.22 198.585 1752.22 203.238 Q1752.22 207.891 1754.19 210.576 Q1756.18 213.238 1759.63 213.238 Q1763.03 213.238 1765.02 210.553 Q1767.01 207.867 1767.01 203.238 Q1767.01 198.631 1765.02 195.946 Q1763.03 193.238 1759.63 193.238 M1759.63 189.627 Q1765.18 189.627 1768.35 193.238 Q1771.52 196.849 1771.52 203.238 Q1771.52 209.604 1768.35 213.238 Q1765.18 216.849 1759.63 216.849 Q1754.05 216.849 1750.88 213.238 Q1747.73 209.604 1747.73 203.238 Q1747.73 196.849 1750.88 193.238 Q1754.05 189.627 1759.63 189.627 Z\" fill=\"#000000\" fill-rule=\"evenodd\" fill-opacity=\"1\" /><path clip-path=\"url(#clip890)\" d=\"M1800.13 200.529 L1800.13 216.178 L1795.88 216.178 L1795.88 200.668 Q1795.88 196.988 1794.44 195.159 Q1793.01 193.33 1790.13 193.33 Q1786.69 193.33 1784.7 195.53 Q1782.7 197.729 1782.7 201.525 L1782.7 216.178 L1778.42 216.178 L1778.42 190.252 L1782.7 190.252 L1782.7 194.28 Q1784.23 191.942 1786.29 190.784 Q1788.38 189.627 1791.08 189.627 Q1795.55 189.627 1797.84 192.405 Q1800.13 195.159 1800.13 200.529 Z\" fill=\"#000000\" fill-rule=\"evenodd\" fill-opacity=\"1\" /><path clip-path=\"url(#clip890)\" d=\"M1833.75 193.238 Q1830.32 193.238 1828.33 195.923 Q1826.34 198.585 1826.34 203.238 Q1826.34 207.891 1828.31 210.576 Q1830.3 213.238 1833.75 213.238 Q1837.15 213.238 1839.14 210.553 Q1841.13 207.867 1841.13 203.238 Q1841.13 198.631 1839.14 195.946 Q1837.15 193.238 1833.75 193.238 M1833.75 189.627 Q1839.3 189.627 1842.47 193.238 Q1845.64 196.849 1845.64 203.238 Q1845.64 209.604 1842.47 213.238 Q1839.3 216.849 1833.75 216.849 Q1828.17 216.849 1825 213.238 Q1821.85 209.604 1821.85 203.238 Q1821.85 196.849 1825 193.238 Q1828.17 189.627 1833.75 189.627 Z\" fill=\"#000000\" fill-rule=\"evenodd\" fill-opacity=\"1\" /><path clip-path=\"url(#clip890)\" d=\"M1865.83 180.159 L1865.83 183.701 L1861.75 183.701 Q1859.46 183.701 1858.56 184.627 Q1857.68 185.553 1857.68 187.96 L1857.68 190.252 L1864.69 190.252 L1864.69 193.562 L1857.68 193.562 L1857.68 216.178 L1853.4 216.178 L1853.4 193.562 L1849.32 193.562 L1849.32 190.252 L1853.4 190.252 L1853.4 188.446 Q1853.4 184.118 1855.41 182.15 Q1857.43 180.159 1861.8 180.159 L1865.83 180.159 Z\" fill=\"#000000\" fill-rule=\"evenodd\" fill-opacity=\"1\" /><path clip-path=\"url(#clip890)\" d=\"M1881.99 190.252 L1886.25 190.252 L1891.57 210.483 L1896.87 190.252 L1901.89 190.252 L1907.22 210.483 L1912.52 190.252 L1916.78 190.252 L1910 216.178 L1904.97 216.178 L1899.39 194.928 L1893.79 216.178 L1888.77 216.178 L1881.99 190.252 Z\" fill=\"#000000\" fill-rule=\"evenodd\" fill-opacity=\"1\" /><path clip-path=\"url(#clip890)\" d=\"M1944.79 200.529 L1944.79 216.178 L1940.53 216.178 L1940.53 200.668 Q1940.53 196.988 1939.09 195.159 Q1937.66 193.33 1934.79 193.33 Q1931.34 193.33 1929.35 195.53 Q1927.36 197.729 1927.36 201.525 L1927.36 216.178 L1923.07 216.178 L1923.07 180.159 L1927.36 180.159 L1927.36 194.28 Q1928.88 191.942 1930.94 190.784 Q1933.03 189.627 1935.74 189.627 Q1940.2 189.627 1942.5 192.405 Q1944.79 195.159 1944.79 200.529 Z\" fill=\"#000000\" fill-rule=\"evenodd\" fill-opacity=\"1\" /><path clip-path=\"url(#clip890)\" d=\"M1953.28 190.252 L1957.54 190.252 L1957.54 216.178 L1953.28 216.178 L1953.28 190.252 M1953.28 180.159 L1957.54 180.159 L1957.54 185.553 L1953.28 185.553 L1953.28 180.159 Z\" fill=\"#000000\" fill-rule=\"evenodd\" fill-opacity=\"1\" /><path clip-path=\"url(#clip890)\" d=\"M1970.67 182.891 L1970.67 190.252 L1979.44 190.252 L1979.44 193.562 L1970.67 193.562 L1970.67 207.636 Q1970.67 210.807 1971.52 211.71 Q1972.4 212.613 1975.06 212.613 L1979.44 212.613 L1979.44 216.178 L1975.06 216.178 Q1970.13 216.178 1968.26 214.349 Q1966.38 212.497 1966.38 207.636 L1966.38 193.562 L1963.26 193.562 L1963.26 190.252 L1966.38 190.252 L1966.38 182.891 L1970.67 182.891 Z\" fill=\"#000000\" fill-rule=\"evenodd\" fill-opacity=\"1\" /><path clip-path=\"url(#clip890)\" d=\"M2007.22 202.15 L2007.22 204.233 L1987.63 204.233 Q1987.91 208.631 1990.27 210.946 Q1992.66 213.238 1996.89 213.238 Q1999.35 213.238 2001.64 212.636 Q2003.95 212.034 2006.22 210.83 L2006.22 214.858 Q2003.93 215.83 2001.52 216.34 Q1999.12 216.849 1996.64 216.849 Q1990.43 216.849 1986.8 213.238 Q1983.19 209.627 1983.19 203.469 Q1983.19 197.104 1986.62 193.377 Q1990.06 189.627 1995.9 189.627 Q2001.13 189.627 2004.16 193.006 Q2007.22 196.363 2007.22 202.15 M2002.96 200.9 Q2002.91 197.405 2000.99 195.321 Q1999.09 193.238 1995.94 193.238 Q1992.38 193.238 1990.23 195.252 Q1988.1 197.266 1987.77 200.923 L2002.96 200.9 Z\" fill=\"#000000\" fill-rule=\"evenodd\" fill-opacity=\"1\" /><path clip-path=\"url(#clip890)\" d=\"M2046.34 194.187 L2046.34 180.159 L2050.6 180.159 L2050.6 216.178 L2046.34 216.178 L2046.34 212.289 Q2044.99 214.603 2042.93 215.738 Q2040.9 216.849 2038.03 216.849 Q2033.33 216.849 2030.36 213.099 Q2027.43 209.349 2027.43 203.238 Q2027.43 197.127 2030.36 193.377 Q2033.33 189.627 2038.03 189.627 Q2040.9 189.627 2042.93 190.761 Q2044.99 191.872 2046.34 194.187 M2031.82 203.238 Q2031.82 207.937 2033.74 210.622 Q2035.69 213.284 2039.07 213.284 Q2042.45 213.284 2044.39 210.622 Q2046.34 207.937 2046.34 203.238 Q2046.34 198.539 2044.39 195.877 Q2042.45 193.192 2039.07 193.192 Q2035.69 193.192 2033.74 195.877 Q2031.82 198.539 2031.82 203.238 Z\" fill=\"#000000\" fill-rule=\"evenodd\" fill-opacity=\"1\" /><path clip-path=\"url(#clip890)\" d=\"M2071.15 203.145 Q2065.99 203.145 2064 204.326 Q2062.01 205.506 2062.01 208.354 Q2062.01 210.622 2063.49 211.965 Q2064.99 213.284 2067.56 213.284 Q2071.11 213.284 2073.24 210.784 Q2075.39 208.261 2075.39 204.094 L2075.39 203.145 L2071.15 203.145 M2079.65 201.386 L2079.65 216.178 L2075.39 216.178 L2075.39 212.242 Q2073.93 214.603 2071.75 215.738 Q2069.58 216.849 2066.43 216.849 Q2062.45 216.849 2060.09 214.627 Q2057.75 212.381 2057.75 208.631 Q2057.75 204.256 2060.67 202.034 Q2063.61 199.812 2069.42 199.812 L2075.39 199.812 L2075.39 199.395 Q2075.39 196.455 2073.44 194.858 Q2071.52 193.238 2068.03 193.238 Q2065.8 193.238 2063.7 193.77 Q2061.59 194.303 2059.65 195.367 L2059.65 191.432 Q2061.99 190.53 2064.18 190.09 Q2066.38 189.627 2068.47 189.627 Q2074.09 189.627 2076.87 192.543 Q2079.65 195.46 2079.65 201.386 Z\" fill=\"#000000\" fill-rule=\"evenodd\" fill-opacity=\"1\" /><path clip-path=\"url(#clip890)\" d=\"M2088.42 190.252 L2092.68 190.252 L2092.68 216.178 L2088.42 216.178 L2088.42 190.252 M2088.42 180.159 L2092.68 180.159 L2092.68 185.553 L2088.42 185.553 L2088.42 180.159 Z\" fill=\"#000000\" fill-rule=\"evenodd\" fill-opacity=\"1\" /><path clip-path=\"url(#clip890)\" d=\"M2118.12 191.016 L2118.12 195.043 Q2116.31 194.117 2114.37 193.655 Q2112.42 193.192 2110.34 193.192 Q2107.17 193.192 2105.57 194.164 Q2104 195.136 2104 197.08 Q2104 198.562 2105.13 199.418 Q2106.27 200.252 2109.69 201.016 L2111.15 201.34 Q2115.69 202.312 2117.59 204.094 Q2119.51 205.854 2119.51 209.025 Q2119.51 212.636 2116.64 214.742 Q2113.79 216.849 2108.79 216.849 Q2106.71 216.849 2104.44 216.432 Q2102.19 216.039 2099.69 215.228 L2099.69 210.83 Q2102.05 212.057 2104.35 212.682 Q2106.64 213.284 2108.88 213.284 Q2111.89 213.284 2113.51 212.266 Q2115.13 211.224 2115.13 209.349 Q2115.13 207.613 2113.95 206.687 Q2112.8 205.761 2108.84 204.904 L2107.36 204.557 Q2103.4 203.724 2101.64 202.011 Q2099.88 200.275 2099.88 197.266 Q2099.88 193.608 2102.47 191.618 Q2105.06 189.627 2109.83 189.627 Q2112.19 189.627 2114.28 189.974 Q2116.36 190.321 2118.12 191.016 Z\" fill=\"#000000\" fill-rule=\"evenodd\" fill-opacity=\"1\" /><path clip-path=\"url(#clip890)\" d=\"M2126.29 190.252 L2130.55 190.252 L2130.55 216.178 L2126.29 216.178 L2126.29 190.252 M2126.29 180.159 L2130.55 180.159 L2130.55 185.553 L2126.29 185.553 L2126.29 180.159 Z\" fill=\"#000000\" fill-rule=\"evenodd\" fill-opacity=\"1\" /><path clip-path=\"url(#clip890)\" d=\"M2161.64 202.15 L2161.64 204.233 L2142.05 204.233 Q2142.33 208.631 2144.69 210.946 Q2147.08 213.238 2151.31 213.238 Q2153.77 213.238 2156.06 212.636 Q2158.37 212.034 2160.64 210.83 L2160.64 214.858 Q2158.35 215.83 2155.94 216.34 Q2153.54 216.849 2151.06 216.849 Q2144.86 216.849 2141.22 213.238 Q2137.61 209.627 2137.61 203.469 Q2137.61 197.104 2141.04 193.377 Q2144.48 189.627 2150.32 189.627 Q2155.55 189.627 2158.58 193.006 Q2161.64 196.363 2161.64 202.15 M2157.38 200.9 Q2157.33 197.405 2155.41 195.321 Q2153.51 193.238 2150.36 193.238 Q2146.8 193.238 2144.65 195.252 Q2142.52 197.266 2142.19 200.923 L2157.38 200.9 Z\" fill=\"#000000\" fill-rule=\"evenodd\" fill-opacity=\"1\" /><path clip-path=\"url(#clip890)\" d=\"M2185.16 191.016 L2185.16 195.043 Q2183.35 194.117 2181.41 193.655 Q2179.46 193.192 2177.38 193.192 Q2174.21 193.192 2172.61 194.164 Q2171.04 195.136 2171.04 197.08 Q2171.04 198.562 2172.17 199.418 Q2173.3 200.252 2176.73 201.016 L2178.19 201.34 Q2182.73 202.312 2184.62 204.094 Q2186.54 205.854 2186.54 209.025 Q2186.54 212.636 2183.67 214.742 Q2180.83 216.849 2175.83 216.849 Q2173.74 216.849 2171.48 216.432 Q2169.23 216.039 2166.73 215.228 L2166.73 210.83 Q2169.09 212.057 2171.38 212.682 Q2173.67 213.284 2175.92 213.284 Q2178.93 213.284 2180.55 212.266 Q2182.17 211.224 2182.17 209.349 Q2182.17 207.613 2180.99 206.687 Q2179.83 205.761 2175.87 204.904 L2174.39 204.557 Q2170.43 203.724 2168.67 202.011 Q2166.92 200.275 2166.92 197.266 Q2166.92 193.608 2169.51 191.618 Q2172.1 189.627 2176.87 189.627 Q2179.23 189.627 2181.31 189.974 Q2183.4 190.321 2185.16 191.016 Z\" fill=\"#000000\" fill-rule=\"evenodd\" fill-opacity=\"1\" /><polyline clip-path=\"url(#clip890)\" style=\"stroke:#000000; stroke-linecap:butt; stroke-linejoin:round; stroke-width:4; stroke-opacity:1; fill:none\" points=\"\n",
       "  1396.21,250.738 1540.21,250.738 \n",
       "  \"/>\n",
       "<path clip-path=\"url(#clip890)\" d=\"M1568.89 237.3 L1568.89 250.286 L1574.77 250.286 Q1578.03 250.286 1579.81 248.596 Q1581.59 246.907 1581.59 243.782 Q1581.59 240.68 1579.81 238.99 Q1578.03 237.3 1574.77 237.3 L1568.89 237.3 M1564.21 233.458 L1574.77 233.458 Q1580.58 233.458 1583.54 236.096 Q1586.52 238.712 1586.52 243.782 Q1586.52 248.897 1583.54 251.513 Q1580.58 254.129 1574.77 254.129 L1568.89 254.129 L1568.89 268.018 L1564.21 268.018 L1564.21 233.458 Z\" fill=\"#000000\" fill-rule=\"evenodd\" fill-opacity=\"1\" /><path clip-path=\"url(#clip890)\" d=\"M1606.8 246.073 Q1606.08 245.657 1605.23 245.471 Q1604.4 245.263 1603.38 245.263 Q1599.77 245.263 1597.82 247.624 Q1595.9 249.962 1595.9 254.36 L1595.9 268.018 L1591.62 268.018 L1591.62 242.092 L1595.9 242.092 L1595.9 246.12 Q1597.24 243.758 1599.4 242.624 Q1601.55 241.467 1604.63 241.467 Q1605.07 241.467 1605.6 241.536 Q1606.13 241.583 1606.78 241.698 L1606.8 246.073 Z\" fill=\"#000000\" fill-rule=\"evenodd\" fill-opacity=\"1\" /><path clip-path=\"url(#clip890)\" d=\"M1620.27 245.078 Q1616.85 245.078 1614.86 247.763 Q1612.87 250.425 1612.87 255.078 Q1612.87 259.731 1614.83 262.416 Q1616.83 265.078 1620.27 265.078 Q1623.68 265.078 1625.67 262.393 Q1627.66 259.707 1627.66 255.078 Q1627.66 250.471 1625.67 247.786 Q1623.68 245.078 1620.27 245.078 M1620.27 241.467 Q1625.83 241.467 1629 245.078 Q1632.17 248.689 1632.17 255.078 Q1632.17 261.444 1629 265.078 Q1625.83 268.689 1620.27 268.689 Q1614.7 268.689 1611.52 265.078 Q1608.38 261.444 1608.38 255.078 Q1608.38 248.689 1611.52 245.078 Q1614.7 241.467 1620.27 241.467 Z\" fill=\"#000000\" fill-rule=\"evenodd\" fill-opacity=\"1\" /><path clip-path=\"url(#clip890)\" d=\"M1643.35 264.129 L1643.35 277.879 L1639.07 277.879 L1639.07 242.092 L1643.35 242.092 L1643.35 246.027 Q1644.7 243.712 1646.73 242.601 Q1648.79 241.467 1651.64 241.467 Q1656.36 241.467 1659.3 245.217 Q1662.27 248.967 1662.27 255.078 Q1662.27 261.189 1659.3 264.939 Q1656.36 268.689 1651.64 268.689 Q1648.79 268.689 1646.73 267.578 Q1644.7 266.443 1643.35 264.129 M1657.84 255.078 Q1657.84 250.379 1655.9 247.717 Q1653.98 245.032 1650.6 245.032 Q1647.22 245.032 1645.27 247.717 Q1643.35 250.379 1643.35 255.078 Q1643.35 259.777 1645.27 262.462 Q1647.22 265.124 1650.6 265.124 Q1653.98 265.124 1655.9 262.462 Q1657.84 259.777 1657.84 255.078 Z\" fill=\"#000000\" fill-rule=\"evenodd\" fill-opacity=\"1\" /><path clip-path=\"url(#clip890)\" d=\"M1679.37 245.078 Q1675.95 245.078 1673.95 247.763 Q1671.96 250.425 1671.96 255.078 Q1671.96 259.731 1673.93 262.416 Q1675.92 265.078 1679.37 265.078 Q1682.77 265.078 1684.76 262.393 Q1686.76 259.707 1686.76 255.078 Q1686.76 250.471 1684.76 247.786 Q1682.77 245.078 1679.37 245.078 M1679.37 241.467 Q1684.93 241.467 1688.1 245.078 Q1691.27 248.689 1691.27 255.078 Q1691.27 261.444 1688.1 265.078 Q1684.93 268.689 1679.37 268.689 Q1673.79 268.689 1670.62 265.078 Q1667.47 261.444 1667.47 255.078 Q1667.47 248.689 1670.62 245.078 Q1673.79 241.467 1679.37 241.467 Z\" fill=\"#000000\" fill-rule=\"evenodd\" fill-opacity=\"1\" /><path clip-path=\"url(#clip890)\" d=\"M1713.35 246.073 Q1712.64 245.657 1711.78 245.471 Q1710.95 245.263 1709.93 245.263 Q1706.32 245.263 1704.37 247.624 Q1702.45 249.962 1702.45 254.36 L1702.45 268.018 L1698.17 268.018 L1698.17 242.092 L1702.45 242.092 L1702.45 246.12 Q1703.79 243.758 1705.95 242.624 Q1708.1 241.467 1711.18 241.467 Q1711.62 241.467 1712.15 241.536 Q1712.68 241.583 1713.33 241.698 L1713.35 246.073 Z\" fill=\"#000000\" fill-rule=\"evenodd\" fill-opacity=\"1\" /><path clip-path=\"url(#clip890)\" d=\"M1722.03 234.731 L1722.03 242.092 L1730.81 242.092 L1730.81 245.402 L1722.03 245.402 L1722.03 259.476 Q1722.03 262.647 1722.89 263.55 Q1723.77 264.453 1726.43 264.453 L1730.81 264.453 L1730.81 268.018 L1726.43 268.018 Q1721.5 268.018 1719.63 266.189 Q1717.75 264.337 1717.75 259.476 L1717.75 245.402 L1714.63 245.402 L1714.63 242.092 L1717.75 242.092 L1717.75 234.731 L1722.03 234.731 Z\" fill=\"#000000\" fill-rule=\"evenodd\" fill-opacity=\"1\" /><path clip-path=\"url(#clip890)\" d=\"M1736.41 242.092 L1740.67 242.092 L1740.67 268.018 L1736.41 268.018 L1736.41 242.092 M1736.41 231.999 L1740.67 231.999 L1740.67 237.393 L1736.41 237.393 L1736.41 231.999 Z\" fill=\"#000000\" fill-rule=\"evenodd\" fill-opacity=\"1\" /><path clip-path=\"url(#clip890)\" d=\"M1759.63 245.078 Q1756.2 245.078 1754.21 247.763 Q1752.22 250.425 1752.22 255.078 Q1752.22 259.731 1754.19 262.416 Q1756.18 265.078 1759.63 265.078 Q1763.03 265.078 1765.02 262.393 Q1767.01 259.707 1767.01 255.078 Q1767.01 250.471 1765.02 247.786 Q1763.03 245.078 1759.63 245.078 M1759.63 241.467 Q1765.18 241.467 1768.35 245.078 Q1771.52 248.689 1771.52 255.078 Q1771.52 261.444 1768.35 265.078 Q1765.18 268.689 1759.63 268.689 Q1754.05 268.689 1750.88 265.078 Q1747.73 261.444 1747.73 255.078 Q1747.73 248.689 1750.88 245.078 Q1754.05 241.467 1759.63 241.467 Z\" fill=\"#000000\" fill-rule=\"evenodd\" fill-opacity=\"1\" /><path clip-path=\"url(#clip890)\" d=\"M1800.13 252.369 L1800.13 268.018 L1795.88 268.018 L1795.88 252.508 Q1795.88 248.828 1794.44 246.999 Q1793.01 245.17 1790.13 245.17 Q1786.69 245.17 1784.7 247.37 Q1782.7 249.569 1782.7 253.365 L1782.7 268.018 L1778.42 268.018 L1778.42 242.092 L1782.7 242.092 L1782.7 246.12 Q1784.23 243.782 1786.29 242.624 Q1788.38 241.467 1791.08 241.467 Q1795.55 241.467 1797.84 244.245 Q1800.13 246.999 1800.13 252.369 Z\" fill=\"#000000\" fill-rule=\"evenodd\" fill-opacity=\"1\" /><path clip-path=\"url(#clip890)\" d=\"M1833.75 245.078 Q1830.32 245.078 1828.33 247.763 Q1826.34 250.425 1826.34 255.078 Q1826.34 259.731 1828.31 262.416 Q1830.3 265.078 1833.75 265.078 Q1837.15 265.078 1839.14 262.393 Q1841.13 259.707 1841.13 255.078 Q1841.13 250.471 1839.14 247.786 Q1837.15 245.078 1833.75 245.078 M1833.75 241.467 Q1839.3 241.467 1842.47 245.078 Q1845.64 248.689 1845.64 255.078 Q1845.64 261.444 1842.47 265.078 Q1839.3 268.689 1833.75 268.689 Q1828.17 268.689 1825 265.078 Q1821.85 261.444 1821.85 255.078 Q1821.85 248.689 1825 245.078 Q1828.17 241.467 1833.75 241.467 Z\" fill=\"#000000\" fill-rule=\"evenodd\" fill-opacity=\"1\" /><path clip-path=\"url(#clip890)\" d=\"M1865.83 231.999 L1865.83 235.541 L1861.75 235.541 Q1859.46 235.541 1858.56 236.467 Q1857.68 237.393 1857.68 239.8 L1857.68 242.092 L1864.69 242.092 L1864.69 245.402 L1857.68 245.402 L1857.68 268.018 L1853.4 268.018 L1853.4 245.402 L1849.32 245.402 L1849.32 242.092 L1853.4 242.092 L1853.4 240.286 Q1853.4 235.958 1855.41 233.99 Q1857.43 231.999 1861.8 231.999 L1865.83 231.999 Z\" fill=\"#000000\" fill-rule=\"evenodd\" fill-opacity=\"1\" /><path clip-path=\"url(#clip890)\" d=\"M1903.07 255.078 Q1903.07 250.379 1901.13 247.717 Q1899.21 245.032 1895.83 245.032 Q1892.45 245.032 1890.5 247.717 Q1888.58 250.379 1888.58 255.078 Q1888.58 259.777 1890.5 262.462 Q1892.45 265.124 1895.83 265.124 Q1899.21 265.124 1901.13 262.462 Q1903.07 259.777 1903.07 255.078 M1888.58 246.027 Q1889.93 243.712 1891.96 242.601 Q1894.02 241.467 1896.87 241.467 Q1901.59 241.467 1904.53 245.217 Q1907.5 248.967 1907.5 255.078 Q1907.5 261.189 1904.53 264.939 Q1901.59 268.689 1896.87 268.689 Q1894.02 268.689 1891.96 267.578 Q1889.93 266.443 1888.58 264.129 L1888.58 268.018 L1884.3 268.018 L1884.3 231.999 L1888.58 231.999 L1888.58 246.027 Z\" fill=\"#000000\" fill-rule=\"evenodd\" fill-opacity=\"1\" /><path clip-path=\"url(#clip890)\" d=\"M1914.56 231.999 L1918.81 231.999 L1918.81 268.018 L1914.56 268.018 L1914.56 231.999 Z\" fill=\"#000000\" fill-rule=\"evenodd\" fill-opacity=\"1\" /><path clip-path=\"url(#clip890)\" d=\"M1939.51 254.985 Q1934.35 254.985 1932.36 256.166 Q1930.37 257.346 1930.37 260.194 Q1930.37 262.462 1931.85 263.805 Q1933.35 265.124 1935.92 265.124 Q1939.46 265.124 1941.59 262.624 Q1943.75 260.101 1943.75 255.934 L1943.75 254.985 L1939.51 254.985 M1948 253.226 L1948 268.018 L1943.75 268.018 L1943.75 264.082 Q1942.29 266.443 1940.11 267.578 Q1937.93 268.689 1934.79 268.689 Q1930.81 268.689 1928.44 266.467 Q1926.11 264.221 1926.11 260.471 Q1926.11 256.096 1929.02 253.874 Q1931.96 251.652 1937.77 251.652 L1943.75 251.652 L1943.75 251.235 Q1943.75 248.295 1941.8 246.698 Q1939.88 245.078 1936.38 245.078 Q1934.16 245.078 1932.06 245.61 Q1929.95 246.143 1928 247.207 L1928 243.272 Q1930.34 242.37 1932.54 241.93 Q1934.74 241.467 1936.82 241.467 Q1942.45 241.467 1945.23 244.383 Q1948 247.3 1948 253.226 Z\" fill=\"#000000\" fill-rule=\"evenodd\" fill-opacity=\"1\" /><path clip-path=\"url(#clip890)\" d=\"M1975.43 243.087 L1975.43 247.069 Q1973.63 246.073 1971.8 245.587 Q1969.99 245.078 1968.14 245.078 Q1964 245.078 1961.71 247.717 Q1959.42 250.332 1959.42 255.078 Q1959.42 259.823 1961.71 262.462 Q1964 265.078 1968.14 265.078 Q1969.99 265.078 1971.8 264.592 Q1973.63 264.082 1975.43 263.087 L1975.43 267.022 Q1973.65 267.856 1971.73 268.272 Q1969.83 268.689 1967.68 268.689 Q1961.82 268.689 1958.37 265.008 Q1954.93 261.328 1954.93 255.078 Q1954.93 248.735 1958.4 245.101 Q1961.89 241.467 1967.96 241.467 Q1969.93 241.467 1971.8 241.883 Q1973.68 242.277 1975.43 243.087 Z\" fill=\"#000000\" fill-rule=\"evenodd\" fill-opacity=\"1\" /><path clip-path=\"url(#clip890)\" d=\"M1982.68 231.999 L1986.96 231.999 L1986.96 253.272 L1999.67 242.092 L2005.11 242.092 L1991.36 254.221 L2005.69 268.018 L2000.13 268.018 L1986.96 255.356 L1986.96 268.018 L1982.68 268.018 L1982.68 231.999 Z\" fill=\"#000000\" fill-rule=\"evenodd\" fill-opacity=\"1\" /><path clip-path=\"url(#clip890)\" d=\"M2042.43 246.027 L2042.43 231.999 L2046.68 231.999 L2046.68 268.018 L2042.43 268.018 L2042.43 264.129 Q2041.08 266.443 2039.02 267.578 Q2036.99 268.689 2034.11 268.689 Q2029.42 268.689 2026.45 264.939 Q2023.51 261.189 2023.51 255.078 Q2023.51 248.967 2026.45 245.217 Q2029.42 241.467 2034.11 241.467 Q2036.99 241.467 2039.02 242.601 Q2041.08 243.712 2042.43 246.027 M2027.91 255.078 Q2027.91 259.777 2029.83 262.462 Q2031.78 265.124 2035.16 265.124 Q2038.54 265.124 2040.48 262.462 Q2042.43 259.777 2042.43 255.078 Q2042.43 250.379 2040.48 247.717 Q2038.54 245.032 2035.16 245.032 Q2031.78 245.032 2029.83 247.717 Q2027.91 250.379 2027.91 255.078 Z\" fill=\"#000000\" fill-rule=\"evenodd\" fill-opacity=\"1\" /><path clip-path=\"url(#clip890)\" d=\"M2067.24 254.985 Q2062.08 254.985 2060.09 256.166 Q2058.1 257.346 2058.1 260.194 Q2058.1 262.462 2059.58 263.805 Q2061.08 265.124 2063.65 265.124 Q2067.19 265.124 2069.32 262.624 Q2071.48 260.101 2071.48 255.934 L2071.48 254.985 L2067.24 254.985 M2075.74 253.226 L2075.74 268.018 L2071.48 268.018 L2071.48 264.082 Q2070.02 266.443 2067.84 267.578 Q2065.67 268.689 2062.52 268.689 Q2058.54 268.689 2056.18 266.467 Q2053.84 264.221 2053.84 260.471 Q2053.84 256.096 2056.75 253.874 Q2059.69 251.652 2065.5 251.652 L2071.48 251.652 L2071.48 251.235 Q2071.48 248.295 2069.53 246.698 Q2067.61 245.078 2064.11 245.078 Q2061.89 245.078 2059.79 245.61 Q2057.68 246.143 2055.74 247.207 L2055.74 243.272 Q2058.07 242.37 2060.27 241.93 Q2062.47 241.467 2064.55 241.467 Q2070.18 241.467 2072.96 244.383 Q2075.74 247.3 2075.74 253.226 Z\" fill=\"#000000\" fill-rule=\"evenodd\" fill-opacity=\"1\" /><path clip-path=\"url(#clip890)\" d=\"M2084.51 242.092 L2088.77 242.092 L2088.77 268.018 L2084.51 268.018 L2084.51 242.092 M2084.51 231.999 L2088.77 231.999 L2088.77 237.393 L2084.51 237.393 L2084.51 231.999 Z\" fill=\"#000000\" fill-rule=\"evenodd\" fill-opacity=\"1\" /><path clip-path=\"url(#clip890)\" d=\"M2114.21 242.856 L2114.21 246.883 Q2112.4 245.957 2110.46 245.495 Q2108.51 245.032 2106.43 245.032 Q2103.26 245.032 2101.66 246.004 Q2100.09 246.976 2100.09 248.92 Q2100.09 250.402 2101.22 251.258 Q2102.36 252.092 2105.78 252.856 L2107.24 253.18 Q2111.78 254.152 2113.67 255.934 Q2115.6 257.694 2115.6 260.865 Q2115.6 264.476 2112.73 266.582 Q2109.88 268.689 2104.88 268.689 Q2102.8 268.689 2100.53 268.272 Q2098.28 267.879 2095.78 267.068 L2095.78 262.67 Q2098.14 263.897 2100.43 264.522 Q2102.73 265.124 2104.97 265.124 Q2107.98 265.124 2109.6 264.106 Q2111.22 263.064 2111.22 261.189 Q2111.22 259.453 2110.04 258.527 Q2108.88 257.601 2104.92 256.744 L2103.44 256.397 Q2099.48 255.564 2097.73 253.851 Q2095.97 252.115 2095.97 249.106 Q2095.97 245.448 2098.56 243.458 Q2101.15 241.467 2105.92 241.467 Q2108.28 241.467 2110.36 241.814 Q2112.45 242.161 2114.21 242.856 Z\" fill=\"#000000\" fill-rule=\"evenodd\" fill-opacity=\"1\" /><path clip-path=\"url(#clip890)\" d=\"M2122.38 242.092 L2126.64 242.092 L2126.64 268.018 L2122.38 268.018 L2122.38 242.092 M2122.38 231.999 L2126.64 231.999 L2126.64 237.393 L2122.38 237.393 L2122.38 231.999 Z\" fill=\"#000000\" fill-rule=\"evenodd\" fill-opacity=\"1\" /><path clip-path=\"url(#clip890)\" d=\"M2157.73 253.99 L2157.73 256.073 L2138.14 256.073 Q2138.42 260.471 2140.78 262.786 Q2143.17 265.078 2147.4 265.078 Q2149.86 265.078 2152.15 264.476 Q2154.46 263.874 2156.73 262.67 L2156.73 266.698 Q2154.44 267.67 2152.03 268.18 Q2149.62 268.689 2147.15 268.689 Q2140.94 268.689 2137.31 265.078 Q2133.7 261.467 2133.7 255.309 Q2133.7 248.944 2137.12 245.217 Q2140.57 241.467 2146.41 241.467 Q2151.64 241.467 2154.67 244.846 Q2157.73 248.203 2157.73 253.99 M2153.47 252.74 Q2153.42 249.245 2151.5 247.161 Q2149.6 245.078 2146.45 245.078 Q2142.89 245.078 2140.73 247.092 Q2138.61 249.106 2138.28 252.763 L2153.47 252.74 Z\" fill=\"#000000\" fill-rule=\"evenodd\" fill-opacity=\"1\" /><path clip-path=\"url(#clip890)\" d=\"M2181.24 242.856 L2181.24 246.883 Q2179.44 245.957 2177.49 245.495 Q2175.55 245.032 2173.47 245.032 Q2170.29 245.032 2168.7 246.004 Q2167.12 246.976 2167.12 248.92 Q2167.12 250.402 2168.26 251.258 Q2169.39 252.092 2172.82 252.856 L2174.28 253.18 Q2178.81 254.152 2180.71 255.934 Q2182.63 257.694 2182.63 260.865 Q2182.63 264.476 2179.76 266.582 Q2176.92 268.689 2171.92 268.689 Q2169.83 268.689 2167.56 268.272 Q2165.32 267.879 2162.82 267.068 L2162.82 262.67 Q2165.18 263.897 2167.47 264.522 Q2169.76 265.124 2172.01 265.124 Q2175.02 265.124 2176.64 264.106 Q2178.26 263.064 2178.26 261.189 Q2178.26 259.453 2177.08 258.527 Q2175.92 257.601 2171.96 256.744 L2170.48 256.397 Q2166.52 255.564 2164.76 253.851 Q2163 252.115 2163 249.106 Q2163 245.448 2165.6 243.458 Q2168.19 241.467 2172.96 241.467 Q2175.32 241.467 2177.4 241.814 Q2179.48 242.161 2181.24 242.856 Z\" fill=\"#000000\" fill-rule=\"evenodd\" fill-opacity=\"1\" /><polyline clip-path=\"url(#clip890)\" style=\"stroke:#0000ff; stroke-linecap:butt; stroke-linejoin:round; stroke-width:4; stroke-opacity:1; fill:none\" points=\"\n",
       "  1396.21,302.578 1540.21,302.578 \n",
       "  \"/>\n",
       "<path clip-path=\"url(#clip890)\" d=\"M1568.89 289.14 L1568.89 302.126 L1574.77 302.126 Q1578.03 302.126 1579.81 300.436 Q1581.59 298.747 1581.59 295.622 Q1581.59 292.52 1579.81 290.83 Q1578.03 289.14 1574.77 289.14 L1568.89 289.14 M1564.21 285.298 L1574.77 285.298 Q1580.58 285.298 1583.54 287.936 Q1586.52 290.552 1586.52 295.622 Q1586.52 300.737 1583.54 303.353 Q1580.58 305.969 1574.77 305.969 L1568.89 305.969 L1568.89 319.858 L1564.21 319.858 L1564.21 285.298 Z\" fill=\"#000000\" fill-rule=\"evenodd\" fill-opacity=\"1\" /><path clip-path=\"url(#clip890)\" d=\"M1606.8 297.913 Q1606.08 297.497 1605.23 297.311 Q1604.4 297.103 1603.38 297.103 Q1599.77 297.103 1597.82 299.464 Q1595.9 301.802 1595.9 306.2 L1595.9 319.858 L1591.62 319.858 L1591.62 293.932 L1595.9 293.932 L1595.9 297.96 Q1597.24 295.598 1599.4 294.464 Q1601.55 293.307 1604.63 293.307 Q1605.07 293.307 1605.6 293.376 Q1606.13 293.423 1606.78 293.538 L1606.8 297.913 Z\" fill=\"#000000\" fill-rule=\"evenodd\" fill-opacity=\"1\" /><path clip-path=\"url(#clip890)\" d=\"M1620.27 296.918 Q1616.85 296.918 1614.86 299.603 Q1612.87 302.265 1612.87 306.918 Q1612.87 311.571 1614.83 314.256 Q1616.83 316.918 1620.27 316.918 Q1623.68 316.918 1625.67 314.233 Q1627.66 311.547 1627.66 306.918 Q1627.66 302.311 1625.67 299.626 Q1623.68 296.918 1620.27 296.918 M1620.27 293.307 Q1625.83 293.307 1629 296.918 Q1632.17 300.529 1632.17 306.918 Q1632.17 313.284 1629 316.918 Q1625.83 320.529 1620.27 320.529 Q1614.7 320.529 1611.52 316.918 Q1608.38 313.284 1608.38 306.918 Q1608.38 300.529 1611.52 296.918 Q1614.7 293.307 1620.27 293.307 Z\" fill=\"#000000\" fill-rule=\"evenodd\" fill-opacity=\"1\" /><path clip-path=\"url(#clip890)\" d=\"M1643.35 315.969 L1643.35 329.719 L1639.07 329.719 L1639.07 293.932 L1643.35 293.932 L1643.35 297.867 Q1644.7 295.552 1646.73 294.441 Q1648.79 293.307 1651.64 293.307 Q1656.36 293.307 1659.3 297.057 Q1662.27 300.807 1662.27 306.918 Q1662.27 313.029 1659.3 316.779 Q1656.36 320.529 1651.64 320.529 Q1648.79 320.529 1646.73 319.418 Q1644.7 318.283 1643.35 315.969 M1657.84 306.918 Q1657.84 302.219 1655.9 299.557 Q1653.98 296.872 1650.6 296.872 Q1647.22 296.872 1645.27 299.557 Q1643.35 302.219 1643.35 306.918 Q1643.35 311.617 1645.27 314.302 Q1647.22 316.964 1650.6 316.964 Q1653.98 316.964 1655.9 314.302 Q1657.84 311.617 1657.84 306.918 Z\" fill=\"#000000\" fill-rule=\"evenodd\" fill-opacity=\"1\" /><path clip-path=\"url(#clip890)\" d=\"M1679.37 296.918 Q1675.95 296.918 1673.95 299.603 Q1671.96 302.265 1671.96 306.918 Q1671.96 311.571 1673.93 314.256 Q1675.92 316.918 1679.37 316.918 Q1682.77 316.918 1684.76 314.233 Q1686.76 311.547 1686.76 306.918 Q1686.76 302.311 1684.76 299.626 Q1682.77 296.918 1679.37 296.918 M1679.37 293.307 Q1684.93 293.307 1688.1 296.918 Q1691.27 300.529 1691.27 306.918 Q1691.27 313.284 1688.1 316.918 Q1684.93 320.529 1679.37 320.529 Q1673.79 320.529 1670.62 316.918 Q1667.47 313.284 1667.47 306.918 Q1667.47 300.529 1670.62 296.918 Q1673.79 293.307 1679.37 293.307 Z\" fill=\"#000000\" fill-rule=\"evenodd\" fill-opacity=\"1\" /><path clip-path=\"url(#clip890)\" d=\"M1713.35 297.913 Q1712.64 297.497 1711.78 297.311 Q1710.95 297.103 1709.93 297.103 Q1706.32 297.103 1704.37 299.464 Q1702.45 301.802 1702.45 306.2 L1702.45 319.858 L1698.17 319.858 L1698.17 293.932 L1702.45 293.932 L1702.45 297.96 Q1703.79 295.598 1705.95 294.464 Q1708.1 293.307 1711.18 293.307 Q1711.62 293.307 1712.15 293.376 Q1712.68 293.423 1713.33 293.538 L1713.35 297.913 Z\" fill=\"#000000\" fill-rule=\"evenodd\" fill-opacity=\"1\" /><path clip-path=\"url(#clip890)\" d=\"M1722.03 286.571 L1722.03 293.932 L1730.81 293.932 L1730.81 297.242 L1722.03 297.242 L1722.03 311.316 Q1722.03 314.487 1722.89 315.39 Q1723.77 316.293 1726.43 316.293 L1730.81 316.293 L1730.81 319.858 L1726.43 319.858 Q1721.5 319.858 1719.63 318.029 Q1717.75 316.177 1717.75 311.316 L1717.75 297.242 L1714.63 297.242 L1714.63 293.932 L1717.75 293.932 L1717.75 286.571 L1722.03 286.571 Z\" fill=\"#000000\" fill-rule=\"evenodd\" fill-opacity=\"1\" /><path clip-path=\"url(#clip890)\" d=\"M1736.41 293.932 L1740.67 293.932 L1740.67 319.858 L1736.41 319.858 L1736.41 293.932 M1736.41 283.839 L1740.67 283.839 L1740.67 289.233 L1736.41 289.233 L1736.41 283.839 Z\" fill=\"#000000\" fill-rule=\"evenodd\" fill-opacity=\"1\" /><path clip-path=\"url(#clip890)\" d=\"M1759.63 296.918 Q1756.2 296.918 1754.21 299.603 Q1752.22 302.265 1752.22 306.918 Q1752.22 311.571 1754.19 314.256 Q1756.18 316.918 1759.63 316.918 Q1763.03 316.918 1765.02 314.233 Q1767.01 311.547 1767.01 306.918 Q1767.01 302.311 1765.02 299.626 Q1763.03 296.918 1759.63 296.918 M1759.63 293.307 Q1765.18 293.307 1768.35 296.918 Q1771.52 300.529 1771.52 306.918 Q1771.52 313.284 1768.35 316.918 Q1765.18 320.529 1759.63 320.529 Q1754.05 320.529 1750.88 316.918 Q1747.73 313.284 1747.73 306.918 Q1747.73 300.529 1750.88 296.918 Q1754.05 293.307 1759.63 293.307 Z\" fill=\"#000000\" fill-rule=\"evenodd\" fill-opacity=\"1\" /><path clip-path=\"url(#clip890)\" d=\"M1800.13 304.209 L1800.13 319.858 L1795.88 319.858 L1795.88 304.348 Q1795.88 300.668 1794.44 298.839 Q1793.01 297.01 1790.13 297.01 Q1786.69 297.01 1784.7 299.21 Q1782.7 301.409 1782.7 305.205 L1782.7 319.858 L1778.42 319.858 L1778.42 293.932 L1782.7 293.932 L1782.7 297.96 Q1784.23 295.622 1786.29 294.464 Q1788.38 293.307 1791.08 293.307 Q1795.55 293.307 1797.84 296.085 Q1800.13 298.839 1800.13 304.209 Z\" fill=\"#000000\" fill-rule=\"evenodd\" fill-opacity=\"1\" /><path clip-path=\"url(#clip890)\" d=\"M1833.75 296.918 Q1830.32 296.918 1828.33 299.603 Q1826.34 302.265 1826.34 306.918 Q1826.34 311.571 1828.31 314.256 Q1830.3 316.918 1833.75 316.918 Q1837.15 316.918 1839.14 314.233 Q1841.13 311.547 1841.13 306.918 Q1841.13 302.311 1839.14 299.626 Q1837.15 296.918 1833.75 296.918 M1833.75 293.307 Q1839.3 293.307 1842.47 296.918 Q1845.64 300.529 1845.64 306.918 Q1845.64 313.284 1842.47 316.918 Q1839.3 320.529 1833.75 320.529 Q1828.17 320.529 1825 316.918 Q1821.85 313.284 1821.85 306.918 Q1821.85 300.529 1825 296.918 Q1828.17 293.307 1833.75 293.307 Z\" fill=\"#000000\" fill-rule=\"evenodd\" fill-opacity=\"1\" /><path clip-path=\"url(#clip890)\" d=\"M1865.83 283.839 L1865.83 287.381 L1861.75 287.381 Q1859.46 287.381 1858.56 288.307 Q1857.68 289.233 1857.68 291.64 L1857.68 293.932 L1864.69 293.932 L1864.69 297.242 L1857.68 297.242 L1857.68 319.858 L1853.4 319.858 L1853.4 297.242 L1849.32 297.242 L1849.32 293.932 L1853.4 293.932 L1853.4 292.126 Q1853.4 287.798 1855.41 285.83 Q1857.43 283.839 1861.8 283.839 L1865.83 283.839 Z\" fill=\"#000000\" fill-rule=\"evenodd\" fill-opacity=\"1\" /><path clip-path=\"url(#clip890)\" d=\"M1906.64 305.83 L1906.64 307.913 L1887.06 307.913 Q1887.33 312.311 1889.69 314.626 Q1892.08 316.918 1896.31 316.918 Q1898.77 316.918 1901.06 316.316 Q1903.37 315.714 1905.64 314.51 L1905.64 318.538 Q1903.35 319.51 1900.94 320.02 Q1898.54 320.529 1896.06 320.529 Q1889.86 320.529 1886.22 316.918 Q1882.61 313.307 1882.61 307.149 Q1882.61 300.784 1886.04 297.057 Q1889.49 293.307 1895.32 293.307 Q1900.55 293.307 1903.58 296.686 Q1906.64 300.043 1906.64 305.83 M1902.38 304.58 Q1902.33 301.085 1900.41 299.001 Q1898.51 296.918 1895.37 296.918 Q1891.8 296.918 1889.65 298.932 Q1887.52 300.946 1887.19 304.603 L1902.38 304.58 Z\" fill=\"#000000\" fill-rule=\"evenodd\" fill-opacity=\"1\" /><path clip-path=\"url(#clip890)\" d=\"M1933.81 298.909 Q1935.41 296.038 1937.63 294.673 Q1939.86 293.307 1942.87 293.307 Q1946.92 293.307 1949.12 296.154 Q1951.31 298.978 1951.31 304.209 L1951.31 319.858 L1947.03 319.858 L1947.03 304.348 Q1947.03 300.622 1945.71 298.816 Q1944.39 297.01 1941.68 297.01 Q1938.37 297.01 1936.45 299.21 Q1934.53 301.409 1934.53 305.205 L1934.53 319.858 L1930.25 319.858 L1930.25 304.348 Q1930.25 300.598 1928.93 298.816 Q1927.61 297.01 1924.86 297.01 Q1921.59 297.01 1919.67 299.233 Q1917.75 301.432 1917.75 305.205 L1917.75 319.858 L1913.47 319.858 L1913.47 293.932 L1917.75 293.932 L1917.75 297.96 Q1919.21 295.575 1921.25 294.441 Q1923.28 293.307 1926.08 293.307 Q1928.91 293.307 1930.87 294.742 Q1932.87 296.177 1933.81 298.909 Z\" fill=\"#000000\" fill-rule=\"evenodd\" fill-opacity=\"1\" /><path clip-path=\"url(#clip890)\" d=\"M1963.93 315.969 L1963.93 329.719 L1959.65 329.719 L1959.65 293.932 L1963.93 293.932 L1963.93 297.867 Q1965.27 295.552 1967.31 294.441 Q1969.37 293.307 1972.22 293.307 Q1976.94 293.307 1979.88 297.057 Q1982.84 300.807 1982.84 306.918 Q1982.84 313.029 1979.88 316.779 Q1976.94 320.529 1972.22 320.529 Q1969.37 320.529 1967.31 319.418 Q1965.27 318.283 1963.93 315.969 M1978.42 306.918 Q1978.42 302.219 1976.48 299.557 Q1974.56 296.872 1971.18 296.872 Q1967.8 296.872 1965.85 299.557 Q1963.93 302.219 1963.93 306.918 Q1963.93 311.617 1965.85 314.302 Q1967.8 316.964 1971.18 316.964 Q1974.56 316.964 1976.48 314.302 Q1978.42 311.617 1978.42 306.918 Z\" fill=\"#000000\" fill-rule=\"evenodd\" fill-opacity=\"1\" /><path clip-path=\"url(#clip890)\" d=\"M1994.12 286.571 L1994.12 293.932 L2002.89 293.932 L2002.89 297.242 L1994.12 297.242 L1994.12 311.316 Q1994.12 314.487 1994.97 315.39 Q1995.85 316.293 1998.51 316.293 L2002.89 316.293 L2002.89 319.858 L1998.51 319.858 Q1993.58 319.858 1991.71 318.029 Q1989.83 316.177 1989.83 311.316 L1989.83 297.242 L1986.71 297.242 L1986.71 293.932 L1989.83 293.932 L1989.83 286.571 L1994.12 286.571 Z\" fill=\"#000000\" fill-rule=\"evenodd\" fill-opacity=\"1\" /><path clip-path=\"url(#clip890)\" d=\"M2019.28 322.265 Q2017.47 326.895 2015.76 328.307 Q2014.05 329.719 2011.18 329.719 L2007.77 329.719 L2007.77 326.154 L2010.27 326.154 Q2012.03 326.154 2013 325.32 Q2013.98 324.487 2015.16 321.385 L2015.92 319.441 L2005.43 293.932 L2009.95 293.932 L2018.05 314.209 L2026.15 293.932 L2030.67 293.932 L2019.28 322.265 Z\" fill=\"#000000\" fill-rule=\"evenodd\" fill-opacity=\"1\" /><path clip-path=\"url(#clip890)\" d=\"M2055.74 315.969 L2055.74 329.719 L2051.45 329.719 L2051.45 293.932 L2055.74 293.932 L2055.74 297.867 Q2057.08 295.552 2059.11 294.441 Q2061.18 293.307 2064.02 293.307 Q2068.74 293.307 2071.68 297.057 Q2074.65 300.807 2074.65 306.918 Q2074.65 313.029 2071.68 316.779 Q2068.74 320.529 2064.02 320.529 Q2061.18 320.529 2059.11 319.418 Q2057.08 318.283 2055.74 315.969 M2070.23 306.918 Q2070.23 302.219 2068.28 299.557 Q2066.36 296.872 2062.98 296.872 Q2059.6 296.872 2057.66 299.557 Q2055.74 302.219 2055.74 306.918 Q2055.74 311.617 2057.66 314.302 Q2059.6 316.964 2062.98 316.964 Q2066.36 316.964 2068.28 314.302 Q2070.23 311.617 2070.23 306.918 Z\" fill=\"#000000\" fill-rule=\"evenodd\" fill-opacity=\"1\" /><path clip-path=\"url(#clip890)\" d=\"M2093.49 306.825 Q2088.33 306.825 2086.34 308.006 Q2084.35 309.186 2084.35 312.034 Q2084.35 314.302 2085.83 315.645 Q2087.33 316.964 2089.9 316.964 Q2093.44 316.964 2095.57 314.464 Q2097.73 311.941 2097.73 307.774 L2097.73 306.825 L2093.49 306.825 M2101.98 305.066 L2101.98 319.858 L2097.73 319.858 L2097.73 315.922 Q2096.27 318.283 2094.09 319.418 Q2091.92 320.529 2088.77 320.529 Q2084.79 320.529 2082.42 318.307 Q2080.09 316.061 2080.09 312.311 Q2080.09 307.936 2083 305.714 Q2085.94 303.492 2091.75 303.492 L2097.73 303.492 L2097.73 303.075 Q2097.73 300.135 2095.78 298.538 Q2093.86 296.918 2090.36 296.918 Q2088.14 296.918 2086.04 297.45 Q2083.93 297.983 2081.99 299.047 L2081.99 295.112 Q2084.32 294.21 2086.52 293.77 Q2088.72 293.307 2090.8 293.307 Q2096.43 293.307 2099.21 296.223 Q2101.98 299.14 2101.98 305.066 Z\" fill=\"#000000\" fill-rule=\"evenodd\" fill-opacity=\"1\" /><path clip-path=\"url(#clip890)\" d=\"M2114.97 286.571 L2114.97 293.932 L2123.74 293.932 L2123.74 297.242 L2114.97 297.242 L2114.97 311.316 Q2114.97 314.487 2115.83 315.39 Q2116.71 316.293 2119.37 316.293 L2123.74 316.293 L2123.74 319.858 L2119.37 319.858 Q2114.44 319.858 2112.56 318.029 Q2110.69 316.177 2110.69 311.316 L2110.69 297.242 L2107.56 297.242 L2107.56 293.932 L2110.69 293.932 L2110.69 286.571 L2114.97 286.571 Z\" fill=\"#000000\" fill-rule=\"evenodd\" fill-opacity=\"1\" /><path clip-path=\"url(#clip890)\" d=\"M2148 294.927 L2148 298.909 Q2146.2 297.913 2144.37 297.427 Q2142.56 296.918 2140.71 296.918 Q2136.57 296.918 2134.28 299.557 Q2131.98 302.172 2131.98 306.918 Q2131.98 311.663 2134.28 314.302 Q2136.57 316.918 2140.71 316.918 Q2142.56 316.918 2144.37 316.432 Q2146.2 315.922 2148 314.927 L2148 318.862 Q2146.22 319.696 2144.3 320.112 Q2142.4 320.529 2140.25 320.529 Q2134.39 320.529 2130.94 316.848 Q2127.49 313.168 2127.49 306.918 Q2127.49 300.575 2130.97 296.941 Q2134.46 293.307 2140.53 293.307 Q2142.49 293.307 2144.37 293.723 Q2146.24 294.117 2148 294.927 Z\" fill=\"#000000\" fill-rule=\"evenodd\" fill-opacity=\"1\" /><path clip-path=\"url(#clip890)\" d=\"M2176.96 304.209 L2176.96 319.858 L2172.7 319.858 L2172.7 304.348 Q2172.7 300.668 2171.27 298.839 Q2169.83 297.01 2166.96 297.01 Q2163.51 297.01 2161.52 299.21 Q2159.53 301.409 2159.53 305.205 L2159.53 319.858 L2155.25 319.858 L2155.25 283.839 L2159.53 283.839 L2159.53 297.96 Q2161.06 295.622 2163.12 294.464 Q2165.2 293.307 2167.91 293.307 Q2172.38 293.307 2174.67 296.085 Q2176.96 298.839 2176.96 304.209 Z\" fill=\"#000000\" fill-rule=\"evenodd\" fill-opacity=\"1\" /><path clip-path=\"url(#clip890)\" d=\"M2207.63 305.83 L2207.63 307.913 L2188.05 307.913 Q2188.33 312.311 2190.69 314.626 Q2193.07 316.918 2197.31 316.918 Q2199.76 316.918 2202.05 316.316 Q2204.37 315.714 2206.64 314.51 L2206.64 318.538 Q2204.35 319.51 2201.94 320.02 Q2199.53 320.529 2197.05 320.529 Q2190.85 320.529 2187.22 316.918 Q2183.6 313.307 2183.6 307.149 Q2183.6 300.784 2187.03 297.057 Q2190.48 293.307 2196.31 293.307 Q2201.54 293.307 2204.58 296.686 Q2207.63 300.043 2207.63 305.83 M2203.37 304.58 Q2203.33 301.085 2201.41 299.001 Q2199.51 296.918 2196.36 296.918 Q2192.79 296.918 2190.64 298.932 Q2188.51 300.946 2188.19 304.603 L2203.37 304.58 Z\" fill=\"#000000\" fill-rule=\"evenodd\" fill-opacity=\"1\" /><path clip-path=\"url(#clip890)\" d=\"M2231.15 294.696 L2231.15 298.723 Q2229.35 297.797 2227.4 297.335 Q2225.46 296.872 2223.37 296.872 Q2220.2 296.872 2218.6 297.844 Q2217.03 298.816 2217.03 300.76 Q2217.03 302.242 2218.16 303.098 Q2219.3 303.932 2222.73 304.696 L2224.18 305.02 Q2228.72 305.992 2230.62 307.774 Q2232.54 309.534 2232.54 312.705 Q2232.54 316.316 2229.67 318.422 Q2226.82 320.529 2221.82 320.529 Q2219.74 320.529 2217.47 320.112 Q2215.23 319.719 2212.73 318.908 L2212.73 314.51 Q2215.09 315.737 2217.38 316.362 Q2219.67 316.964 2221.91 316.964 Q2224.92 316.964 2226.54 315.946 Q2228.16 314.904 2228.16 313.029 Q2228.16 311.293 2226.98 310.367 Q2225.83 309.441 2221.87 308.584 L2220.39 308.237 Q2216.43 307.404 2214.67 305.691 Q2212.91 303.955 2212.91 300.946 Q2212.91 297.288 2215.5 295.298 Q2218.1 293.307 2222.86 293.307 Q2225.23 293.307 2227.31 293.654 Q2229.39 294.001 2231.15 294.696 Z\" fill=\"#000000\" fill-rule=\"evenodd\" fill-opacity=\"1\" /></svg>\n"
      ]
     },
     "execution_count": 28,
     "metadata": {},
     "output_type": "execute_result"
    }
   ],
   "source": [
    "p"
   ]
  },
  {
   "cell_type": "code",
   "execution_count": null,
   "metadata": {},
   "outputs": [],
   "source": []
  }
 ],
 "metadata": {
  "celltoolbar": "Slideshow",
  "kernelspec": {
   "display_name": "Julia 1.7.2",
   "language": "julia",
   "name": "julia-1.7"
  },
  "language_info": {
   "file_extension": ".jl",
   "mimetype": "application/julia",
   "name": "julia",
   "version": "1.7.2"
  }
 },
 "nbformat": 4,
 "nbformat_minor": 2
}

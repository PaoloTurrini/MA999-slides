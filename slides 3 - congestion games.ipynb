{
 "cells": [
  {
   "cell_type": "code",
   "execution_count": 1,
   "metadata": {
    "slideshow": {
     "slide_type": "skip"
    }
   },
   "outputs": [
    {
     "name": "stderr",
     "output_type": "stream",
     "text": [
      "\u001b[32m\u001b[1m  Activating\u001b[22m\u001b[39m project at `~/Documents/GitHub/MA999-slides`\n",
      "┌ Warning: The active manifest file is an older format with no julia version entry. Dependencies may have been resolved with a different julia version.\n",
      "└ @ nothing /Users/paoloturrini/Documents/GitHub/MA999-slides/Manifest.toml:0\n",
      "\u001b[32m\u001b[1mPrecompiling\u001b[22m\u001b[39m project...\n",
      "\u001b[32m  ✓ \u001b[39m\u001b[90mSuiteSparse_jll\u001b[39m\n",
      "\u001b[32m  ✓ \u001b[39m\u001b[90mKLU\u001b[39m\n",
      "\u001b[32m  ✓ \u001b[39m\u001b[90mSundials_jll\u001b[39m\n",
      "\u001b[32m  ✓ \u001b[39m\u001b[90mLinearSolve\u001b[39m\n",
      "\u001b[32m  ✓ \u001b[39m\u001b[90mSundials\u001b[39m\n",
      "\u001b[32m  ✓ \u001b[39m\u001b[90mOrdinaryDiffEq\u001b[39m\n",
      "\u001b[32m  ✓ \u001b[39m\u001b[90mDiffEqCallbacks\u001b[39m\n",
      "\u001b[32m  ✓ \u001b[39m\u001b[90mDelayDiffEq\u001b[39m\n",
      "\u001b[32m  ✓ \u001b[39m\u001b[90mStochasticDiffEq\u001b[39m\n",
      "\u001b[32m  ✓ \u001b[39m\u001b[90mSteadyStateDiffEq\u001b[39m\n",
      "\u001b[32m  ✓ \u001b[39mDifferentialEquations\n",
      "  11 dependencies successfully precompiled in 170 seconds (297 already precompiled)\n"
     ]
    }
   ],
   "source": [
    "using Pkg\n",
    "Pkg.activate(\".\")\n",
    "Pkg.instantiate()"
   ]
  },
  {
   "cell_type": "code",
   "execution_count": 2,
   "metadata": {
    "slideshow": {
     "slide_type": "skip"
    }
   },
   "outputs": [],
   "source": [
    "using Agents\n",
    "using Plots\n",
    "using Graphs\n",
    "using GraphPlot, Compose\n",
    "using Statistics\n",
    "using DataFrames"
   ]
  },
  {
   "cell_type": "markdown",
   "metadata": {
    "nbpresent": {
     "id": "645119a8-e06f-49fe-afef-aeb582bec315"
    },
    "slideshow": {
     "slide_type": "slide"
    }
   },
   "source": [
    "# MA999 - Agent based modelling 3 - Congestion games\n",
    "\n",
    "## MathSys CDT 2022\n",
    "\n",
    "### Lecturer: Paolo Turrini (with massive acknowledgments to Colm Connaughton) "
   ]
  },
  {
   "cell_type": "markdown",
   "metadata": {
    "nbpresent": {
     "id": "0a4b00e1-10f3-4ffc-a645-58da215badc8"
    },
    "slideshow": {
     "slide_type": "slide"
    }
   },
   "source": [
    "## Example 2: Traffic flow patterns\n",
    "\n",
    "* Suppose we have $N = 100$ drivers who commute every day from point 1 to point 4 on a simple road network:\n",
    "<img src=\"files/images/network1.png\" alt=\"Drawing\" style=\"width: 200px;\"/>\n",
    "* There are multiple paths in the network leading from 1 to 4.\n",
    "* The travel time for each link, $i$, depends on the number of drivers, $x_i$, travelling on that link: generally travel time increases as the usage goes up.\n",
    "* Build a model to estimate the average travel time from 1 to 4."
   ]
  },
  {
   "cell_type": "markdown",
   "metadata": {
    "nbpresent": {
     "id": "77a5e7fb-4564-4513-9e54-ff3a72016004"
    },
    "slideshow": {
     "slide_type": "slide"
    }
   },
   "source": [
    "### Wardrop equilibrium and congestion games\n",
    "\n",
    "We can think of this problem as a repeated multiplayer game in which each player (agent) tries to choose the route that minimises its travel time subject to the choices of all the other agents.\n",
    "\n",
    "[John Wardrop](https://en.wikipedia.org/wiki/John_Glen_Wardrop) (a Warwick local!) suggested in 1952 that the observed pattern of use should satisfy the following principle: \n",
    "\n",
    "> journey times in all routes actually used are equal and less than those that would be experienced by a single vehicle on any unused route.\n",
    "\n",
    "This is nowadays known as Wardrop equilibrium."
   ]
  },
  {
   "cell_type": "markdown",
   "metadata": {
    "nbpresent": {
     "id": "77a5e7fb-4564-4513-9e54-ff3a72016004"
    },
    "slideshow": {
     "slide_type": "slide"
    }
   },
   "source": [
    "### Wardrop equilibrium and congestion games\n",
    "\n",
    "It is a multiplayer analogue of a Nash equilibrium: no driver can improve their journey time by unilaterally switching to a different route.\n",
    "\n",
    "Can we build an ABM to demonstrate the existence of Wardrop equilibrium from simple and plausible behavioural rules?"
   ]
  },
  {
   "cell_type": "markdown",
   "metadata": {
    "nbpresent": {
     "id": "0d14555b-0251-4d49-a0d8-12025e9baebd"
    },
    "slideshow": {
     "slide_type": "slide"
    }
   },
   "source": [
    "### ABM model of commuter patterns\n",
    "We shall assume that the travel time, $\\tau_i$, for each link, $i$, is a linear function of the number of agents $x_i$ travelling on that link on a given day:\n",
    "$$ \\tau_i(x_i) = a_i\\ x_i + b_i $$\n",
    "with the parameters $a_i$ and $b_i$ varying from link to link. These are called **demand-delay functions**."
   ]
  },
  {
   "cell_type": "markdown",
   "metadata": {
    "nbpresent": {
     "id": "0d14555b-0251-4d49-a0d8-12025e9baebd"
    },
    "slideshow": {
     "slide_type": "slide"
    }
   },
   "source": [
    "### Model description:\n",
    "* Each agent has a prefered route.\n",
    "* At each step (1 day) each agent travels its prefered route.\n",
    "* Travel times for all routes are calculated based on the choices of the agents.\n",
    "* Each agent compares travel time, $\\tau_\\text{c}$, of its current prefered route to the travel time of a randomly chosen alternative route, $\\tau_\\text{a}$, and calculates $\\Delta \\tau = \\tau_\\text{a} - \\tau_\\text{c}$. \n",
    "* If $\\Delta \\tau <0$, the agent updates its prefered route with probability\n",
    "$$P = 1 - \\exp(\\Delta \\tau/T),$$\n",
    "before the next iteration where $T$ is a model parameter."
   ]
  },
  {
   "cell_type": "markdown",
   "metadata": {
    "nbpresent": {
     "id": "79302d21-dd83-4865-9a22-4f9832efe020"
    },
    "slideshow": {
     "slide_type": "slide"
    }
   },
   "source": [
    "### Implementation of the model\n",
    "\n",
    "First we need to define the graph. To do this we use LightGraphs.jl:"
   ]
  },
  {
   "cell_type": "code",
   "execution_count": 3,
   "metadata": {
    "cell_style": "split",
    "nbpresent": {
     "id": "3b354c6a-6734-45b1-96fc-8354e4f35a1b"
    },
    "slideshow": {
     "slide_type": "-"
    }
   },
   "outputs": [
    {
     "data": {
      "text/plain": [
       "true"
      ]
     },
     "execution_count": 3,
     "metadata": {},
     "output_type": "execute_result"
    }
   ],
   "source": [
    "#using Graphs\n",
    "#using GraphPlot, Compose\n",
    "#using Statistics\n",
    "#using DataFrames\n",
    "\n",
    "# Make a graph\n",
    "G = DiGraph(4) # graph with 4 vertices\n",
    "Graphs.add_edge!(G, 1, 2)\n",
    "Graphs.add_edge!(G, 1, 3)\n",
    "Graphs.add_edge!(G, 2, 4)\n",
    "Graphs.add_edge!(G, 3, 4)"
   ]
  },
  {
   "cell_type": "code",
   "execution_count": 4,
   "metadata": {
    "cell_style": "split"
   },
   "outputs": [
    {
     "data": {
      "image/svg+xml": [
       "<?xml version=\"1.0\" encoding=\"UTF-8\"?>\n",
       "<svg xmlns=\"http://www.w3.org/2000/svg\"\n",
       "     xmlns:xlink=\"http://www.w3.org/1999/xlink\"\n",
       "     version=\"1.2\"\n",
       "     width=\"141.42mm\" height=\"100mm\" viewBox=\"0 0 141.42 100\"\n",
       "     stroke=\"none\"\n",
       "     fill=\"#000000\"\n",
       "     stroke-width=\"0.3\"\n",
       "     font-size=\"3.88\"\n",
       ">\n",
       "<defs>\n",
       "  <marker id=\"arrow\" markerWidth=\"15\" markerHeight=\"7\" refX=\"5\" refY=\"3.5\" orient=\"auto\" markerUnits=\"strokeWidth\">\n",
       "    <path d=\"M0,0 L15,3.5 L0,7 z\" stroke=\"context-stroke\" fill=\"context-stroke\"/>\n",
       "  </marker>\n",
       "</defs>\n",
       "<g stroke-width=\"1.5\" fill=\"#000000\" fill-opacity=\"0.000\" stroke=\"#D3D3D3\" id=\"img-3030ff01-1\">\n",
       "  <g transform=\"translate(100.17,29.17)\">\n",
       "    <path fill=\"none\" d=\"M-24.25,-17.15 L24.25,17.15 \" class=\"primitive\"/>\n",
       "  </g>\n",
       "  <g transform=\"translate(41.25,29.17)\">\n",
       "    <path fill=\"none\" d=\"M24.25,-17.15 L-24.25,17.15 \" class=\"primitive\"/>\n",
       "  </g>\n",
       "  <g transform=\"translate(100.17,70.83)\">\n",
       "    <path fill=\"none\" d=\"M24.25,-17.15 L-24.25,17.15 \" class=\"primitive\"/>\n",
       "  </g>\n",
       "  <g transform=\"translate(41.25,70.83)\">\n",
       "    <path fill=\"none\" d=\"M-24.25,-17.15 L24.25,17.15 \" class=\"primitive\"/>\n",
       "  </g>\n",
       "</g>\n",
       "<g stroke-width=\"1.5\" stroke=\"#D3D3D3\" id=\"img-3030ff01-2\">\n",
       "  <g transform=\"translate(121.82,44.47)\">\n",
       "    <path fill=\"none\" d=\"M0.12,-1.93 L2.61,1.85 -2.73,0.08 \" class=\"primitive\"/>\n",
       "  </g>\n",
       "  <g transform=\"translate(19.6,44.47)\">\n",
       "    <path fill=\"none\" d=\"M2.73,0.08 L-2.61,1.85 -0.12,-1.93 \" class=\"primitive\"/>\n",
       "  </g>\n",
       "  <g transform=\"translate(78.53,86.14)\">\n",
       "    <path fill=\"none\" d=\"M2.73,0.08 L-2.61,1.85 -0.12,-1.93 \" class=\"primitive\"/>\n",
       "  </g>\n",
       "  <g transform=\"translate(62.89,86.14)\">\n",
       "    <path fill=\"none\" d=\"M0.12,-1.93 L2.61,1.85 -2.73,0.08 \" class=\"primitive\"/>\n",
       "  </g>\n",
       "</g>\n",
       "<g font-size=\"4\" stroke=\"#000000\" stroke-opacity=\"0.000\" fill=\"#000000\" id=\"img-3030ff01-3\">\n",
       "</g>\n",
       "<g stroke-width=\"0\" stroke=\"#000000\" stroke-opacity=\"0.000\" fill=\"#40E0D0\" id=\"img-3030ff01-4\">\n",
       "  <g transform=\"translate(70.71,8.33)\">\n",
       "    <circle cx=\"0\" cy=\"0\" r=\"7.07\" class=\"primitive\"/>\n",
       "  </g>\n",
       "  <g transform=\"translate(129.64,50)\">\n",
       "    <circle cx=\"0\" cy=\"0\" r=\"7.07\" class=\"primitive\"/>\n",
       "  </g>\n",
       "  <g transform=\"translate(11.79,50)\">\n",
       "    <circle cx=\"0\" cy=\"0\" r=\"7.07\" class=\"primitive\"/>\n",
       "  </g>\n",
       "  <g transform=\"translate(70.71,91.67)\">\n",
       "    <circle cx=\"0\" cy=\"0\" r=\"7.07\" class=\"primitive\"/>\n",
       "  </g>\n",
       "</g>\n",
       "<g font-size=\"4\" stroke=\"#000000\" stroke-opacity=\"0.000\" fill=\"#000000\" id=\"img-3030ff01-5\">\n",
       "  <g transform=\"translate(70.71,8.33)\">\n",
       "    <g class=\"primitive\">\n",
       "      <text text-anchor=\"middle\" dy=\"0.35em\">1</text>\n",
       "    </g>\n",
       "  </g>\n",
       "  <g transform=\"translate(129.64,50)\">\n",
       "    <g class=\"primitive\">\n",
       "      <text text-anchor=\"middle\" dy=\"0.35em\">2</text>\n",
       "    </g>\n",
       "  </g>\n",
       "  <g transform=\"translate(11.79,50)\">\n",
       "    <g class=\"primitive\">\n",
       "      <text text-anchor=\"middle\" dy=\"0.35em\">3</text>\n",
       "    </g>\n",
       "  </g>\n",
       "  <g transform=\"translate(70.71,91.67)\">\n",
       "    <g class=\"primitive\">\n",
       "      <text text-anchor=\"middle\" dy=\"0.35em\">4</text>\n",
       "    </g>\n",
       "  </g>\n",
       "</g>\n",
       "</svg>\n"
      ],
      "text/html": [
       "<?xml version=\"1.0\" encoding=\"UTF-8\"?>\n",
       "<svg xmlns=\"http://www.w3.org/2000/svg\"\n",
       "     xmlns:xlink=\"http://www.w3.org/1999/xlink\"\n",
       "     version=\"1.2\"\n",
       "     width=\"141.42mm\" height=\"100mm\" viewBox=\"0 0 141.42 100\"\n",
       "     stroke=\"none\"\n",
       "     fill=\"#000000\"\n",
       "     stroke-width=\"0.3\"\n",
       "     font-size=\"3.88\"\n",
       "\n",
       "     id=\"img-0c93e28a\">\n",
       "<defs>\n",
       "  <marker id=\"arrow\" markerWidth=\"15\" markerHeight=\"7\" refX=\"5\" refY=\"3.5\" orient=\"auto\" markerUnits=\"strokeWidth\">\n",
       "    <path d=\"M0,0 L15,3.5 L0,7 z\" stroke=\"context-stroke\" fill=\"context-stroke\"/>\n",
       "  </marker>\n",
       "</defs>\n",
       "<g stroke-width=\"1.5\" fill=\"#000000\" fill-opacity=\"0.000\" stroke=\"#D3D3D3\" id=\"img-0c93e28a-1\">\n",
       "  <g transform=\"translate(100.17,29.17)\">\n",
       "    <path fill=\"none\" d=\"M-24.25,-17.15 L24.25,17.15 \" class=\"primitive\"/>\n",
       "  </g>\n",
       "  <g transform=\"translate(41.25,29.17)\">\n",
       "    <path fill=\"none\" d=\"M24.25,-17.15 L-24.25,17.15 \" class=\"primitive\"/>\n",
       "  </g>\n",
       "  <g transform=\"translate(100.17,70.83)\">\n",
       "    <path fill=\"none\" d=\"M24.25,-17.15 L-24.25,17.15 \" class=\"primitive\"/>\n",
       "  </g>\n",
       "  <g transform=\"translate(41.25,70.83)\">\n",
       "    <path fill=\"none\" d=\"M-24.25,-17.15 L24.25,17.15 \" class=\"primitive\"/>\n",
       "  </g>\n",
       "</g>\n",
       "<g stroke-width=\"1.5\" stroke=\"#D3D3D3\" id=\"img-0c93e28a-2\">\n",
       "  <g transform=\"translate(121.82,44.47)\">\n",
       "    <path fill=\"none\" d=\"M0.12,-1.93 L2.61,1.85 -2.73,0.08 \" class=\"primitive\"/>\n",
       "  </g>\n",
       "  <g transform=\"translate(19.6,44.47)\">\n",
       "    <path fill=\"none\" d=\"M2.73,0.08 L-2.61,1.85 -0.12,-1.93 \" class=\"primitive\"/>\n",
       "  </g>\n",
       "  <g transform=\"translate(78.53,86.14)\">\n",
       "    <path fill=\"none\" d=\"M2.73,0.08 L-2.61,1.85 -0.12,-1.93 \" class=\"primitive\"/>\n",
       "  </g>\n",
       "  <g transform=\"translate(62.89,86.14)\">\n",
       "    <path fill=\"none\" d=\"M0.12,-1.93 L2.61,1.85 -2.73,0.08 \" class=\"primitive\"/>\n",
       "  </g>\n",
       "</g>\n",
       "<g font-size=\"4\" stroke=\"#000000\" stroke-opacity=\"0.000\" fill=\"#000000\" id=\"img-0c93e28a-3\">\n",
       "</g>\n",
       "<g stroke-width=\"0\" stroke=\"#000000\" stroke-opacity=\"0.000\" fill=\"#40E0D0\" id=\"img-0c93e28a-4\">\n",
       "  <g transform=\"translate(70.71,8.33)\">\n",
       "    <circle cx=\"0\" cy=\"0\" r=\"7.07\" class=\"primitive\"/>\n",
       "  </g>\n",
       "  <g transform=\"translate(129.64,50)\">\n",
       "    <circle cx=\"0\" cy=\"0\" r=\"7.07\" class=\"primitive\"/>\n",
       "  </g>\n",
       "  <g transform=\"translate(11.79,50)\">\n",
       "    <circle cx=\"0\" cy=\"0\" r=\"7.07\" class=\"primitive\"/>\n",
       "  </g>\n",
       "  <g transform=\"translate(70.71,91.67)\">\n",
       "    <circle cx=\"0\" cy=\"0\" r=\"7.07\" class=\"primitive\"/>\n",
       "  </g>\n",
       "</g>\n",
       "<g font-size=\"4\" stroke=\"#000000\" stroke-opacity=\"0.000\" fill=\"#000000\" id=\"img-0c93e28a-5\">\n",
       "  <g transform=\"translate(70.71,8.33)\">\n",
       "    <g class=\"primitive\">\n",
       "      <text text-anchor=\"middle\" dy=\"0.35em\">1</text>\n",
       "    </g>\n",
       "  </g>\n",
       "  <g transform=\"translate(129.64,50)\">\n",
       "    <g class=\"primitive\">\n",
       "      <text text-anchor=\"middle\" dy=\"0.35em\">2</text>\n",
       "    </g>\n",
       "  </g>\n",
       "  <g transform=\"translate(11.79,50)\">\n",
       "    <g class=\"primitive\">\n",
       "      <text text-anchor=\"middle\" dy=\"0.35em\">3</text>\n",
       "    </g>\n",
       "  </g>\n",
       "  <g transform=\"translate(70.71,91.67)\">\n",
       "    <g class=\"primitive\">\n",
       "      <text text-anchor=\"middle\" dy=\"0.35em\">4</text>\n",
       "    </g>\n",
       "  </g>\n",
       "</g>\n",
       "<script> <![CDATA[\n",
       "(function(N){var k=/[\\.\\/]/,L=/\\s*,\\s*/,C=function(a,d){return a-d},a,v,y={n:{}},M=function(){for(var a=0,d=this.length;a<d;a++)if(\"undefined\"!=typeof this[a])return this[a]},A=function(){for(var a=this.length;--a;)if(\"undefined\"!=typeof this[a])return this[a]},w=function(k,d){k=String(k);var f=v,n=Array.prototype.slice.call(arguments,2),u=w.listeners(k),p=0,b,q=[],e={},l=[],r=a;l.firstDefined=M;l.lastDefined=A;a=k;for(var s=v=0,x=u.length;s<x;s++)\"zIndex\"in u[s]&&(q.push(u[s].zIndex),0>u[s].zIndex&&\n",
       "(e[u[s].zIndex]=u[s]));for(q.sort(C);0>q[p];)if(b=e[q[p++] ],l.push(b.apply(d,n)),v)return v=f,l;for(s=0;s<x;s++)if(b=u[s],\"zIndex\"in b)if(b.zIndex==q[p]){l.push(b.apply(d,n));if(v)break;do if(p++,(b=e[q[p] ])&&l.push(b.apply(d,n)),v)break;while(b)}else e[b.zIndex]=b;else if(l.push(b.apply(d,n)),v)break;v=f;a=r;return l};w._events=y;w.listeners=function(a){a=a.split(k);var d=y,f,n,u,p,b,q,e,l=[d],r=[];u=0;for(p=a.length;u<p;u++){e=[];b=0;for(q=l.length;b<q;b++)for(d=l[b].n,f=[d[a[u] ],d[\"*\"] ],n=2;n--;)if(d=\n",
       "f[n])e.push(d),r=r.concat(d.f||[]);l=e}return r};w.on=function(a,d){a=String(a);if(\"function\"!=typeof d)return function(){};for(var f=a.split(L),n=0,u=f.length;n<u;n++)(function(a){a=a.split(k);for(var b=y,f,e=0,l=a.length;e<l;e++)b=b.n,b=b.hasOwnProperty(a[e])&&b[a[e] ]||(b[a[e] ]={n:{}});b.f=b.f||[];e=0;for(l=b.f.length;e<l;e++)if(b.f[e]==d){f=!0;break}!f&&b.f.push(d)})(f[n]);return function(a){+a==+a&&(d.zIndex=+a)}};w.f=function(a){var d=[].slice.call(arguments,1);return function(){w.apply(null,\n",
       "[a,null].concat(d).concat([].slice.call(arguments,0)))}};w.stop=function(){v=1};w.nt=function(k){return k?(new RegExp(\"(?:\\\\.|\\\\/|^)\"+k+\"(?:\\\\.|\\\\/|$)\")).test(a):a};w.nts=function(){return a.split(k)};w.off=w.unbind=function(a,d){if(a){var f=a.split(L);if(1<f.length)for(var n=0,u=f.length;n<u;n++)w.off(f[n],d);else{for(var f=a.split(k),p,b,q,e,l=[y],n=0,u=f.length;n<u;n++)for(e=0;e<l.length;e+=q.length-2){q=[e,1];p=l[e].n;if(\"*\"!=f[n])p[f[n] ]&&q.push(p[f[n] ]);else for(b in p)p.hasOwnProperty(b)&&\n",
       "q.push(p[b]);l.splice.apply(l,q)}n=0;for(u=l.length;n<u;n++)for(p=l[n];p.n;){if(d){if(p.f){e=0;for(f=p.f.length;e<f;e++)if(p.f[e]==d){p.f.splice(e,1);break}!p.f.length&&delete p.f}for(b in p.n)if(p.n.hasOwnProperty(b)&&p.n[b].f){q=p.n[b].f;e=0;for(f=q.length;e<f;e++)if(q[e]==d){q.splice(e,1);break}!q.length&&delete p.n[b].f}}else for(b in delete p.f,p.n)p.n.hasOwnProperty(b)&&p.n[b].f&&delete p.n[b].f;p=p.n}}}else w._events=y={n:{}}};w.once=function(a,d){var f=function(){w.unbind(a,f);return d.apply(this,\n",
       "arguments)};return w.on(a,f)};w.version=\"0.4.2\";w.toString=function(){return\"You are running Eve 0.4.2\"};\"undefined\"!=typeof module&&module.exports?module.exports=w:\"function\"===typeof define&&define.amd?define(\"eve\",[],function(){return w}):N.eve=w})(this);\n",
       "(function(N,k){\"function\"===typeof define&&define.amd?define(\"Snap.svg\",[\"eve\"],function(L){return k(N,L)}):k(N,N.eve)})(this,function(N,k){var L=function(a){var k={},y=N.requestAnimationFrame||N.webkitRequestAnimationFrame||N.mozRequestAnimationFrame||N.oRequestAnimationFrame||N.msRequestAnimationFrame||function(a){setTimeout(a,16)},M=Array.isArray||function(a){return a instanceof Array||\"[object Array]\"==Object.prototype.toString.call(a)},A=0,w=\"M\"+(+new Date).toString(36),z=function(a){if(null==\n",
       "a)return this.s;var b=this.s-a;this.b+=this.dur*b;this.B+=this.dur*b;this.s=a},d=function(a){if(null==a)return this.spd;this.spd=a},f=function(a){if(null==a)return this.dur;this.s=this.s*a/this.dur;this.dur=a},n=function(){delete k[this.id];this.update();a(\"mina.stop.\"+this.id,this)},u=function(){this.pdif||(delete k[this.id],this.update(),this.pdif=this.get()-this.b)},p=function(){this.pdif&&(this.b=this.get()-this.pdif,delete this.pdif,k[this.id]=this)},b=function(){var a;if(M(this.start)){a=[];\n",
       "for(var b=0,e=this.start.length;b<e;b++)a[b]=+this.start[b]+(this.end[b]-this.start[b])*this.easing(this.s)}else a=+this.start+(this.end-this.start)*this.easing(this.s);this.set(a)},q=function(){var l=0,b;for(b in k)if(k.hasOwnProperty(b)){var e=k[b],f=e.get();l++;e.s=(f-e.b)/(e.dur/e.spd);1<=e.s&&(delete k[b],e.s=1,l--,function(b){setTimeout(function(){a(\"mina.finish.\"+b.id,b)})}(e));e.update()}l&&y(q)},e=function(a,r,s,x,G,h,J){a={id:w+(A++).toString(36),start:a,end:r,b:s,s:0,dur:x-s,spd:1,get:G,\n",
       "set:h,easing:J||e.linear,status:z,speed:d,duration:f,stop:n,pause:u,resume:p,update:b};k[a.id]=a;r=0;for(var K in k)if(k.hasOwnProperty(K)&&(r++,2==r))break;1==r&&y(q);return a};e.time=Date.now||function(){return+new Date};e.getById=function(a){return k[a]||null};e.linear=function(a){return a};e.easeout=function(a){return Math.pow(a,1.7)};e.easein=function(a){return Math.pow(a,0.48)};e.easeinout=function(a){if(1==a)return 1;if(0==a)return 0;var b=0.48-a/1.04,e=Math.sqrt(0.1734+b*b);a=e-b;a=Math.pow(Math.abs(a),\n",
       "1/3)*(0>a?-1:1);b=-e-b;b=Math.pow(Math.abs(b),1/3)*(0>b?-1:1);a=a+b+0.5;return 3*(1-a)*a*a+a*a*a};e.backin=function(a){return 1==a?1:a*a*(2.70158*a-1.70158)};e.backout=function(a){if(0==a)return 0;a-=1;return a*a*(2.70158*a+1.70158)+1};e.elastic=function(a){return a==!!a?a:Math.pow(2,-10*a)*Math.sin(2*(a-0.075)*Math.PI/0.3)+1};e.bounce=function(a){a<1/2.75?a*=7.5625*a:a<2/2.75?(a-=1.5/2.75,a=7.5625*a*a+0.75):a<2.5/2.75?(a-=2.25/2.75,a=7.5625*a*a+0.9375):(a-=2.625/2.75,a=7.5625*a*a+0.984375);return a};\n",
       "return N.mina=e}(\"undefined\"==typeof k?function(){}:k),C=function(){function a(c,t){if(c){if(c.tagName)return x(c);if(y(c,\"array\")&&a.set)return a.set.apply(a,c);if(c instanceof e)return c;if(null==t)return c=G.doc.querySelector(c),x(c)}return new s(null==c?\"100%\":c,null==t?\"100%\":t)}function v(c,a){if(a){\"#text\"==c&&(c=G.doc.createTextNode(a.text||\"\"));\"string\"==typeof c&&(c=v(c));if(\"string\"==typeof a)return\"xlink:\"==a.substring(0,6)?c.getAttributeNS(m,a.substring(6)):\"xml:\"==a.substring(0,4)?c.getAttributeNS(la,\n",
       "a.substring(4)):c.getAttribute(a);for(var da in a)if(a[h](da)){var b=J(a[da]);b?\"xlink:\"==da.substring(0,6)?c.setAttributeNS(m,da.substring(6),b):\"xml:\"==da.substring(0,4)?c.setAttributeNS(la,da.substring(4),b):c.setAttribute(da,b):c.removeAttribute(da)}}else c=G.doc.createElementNS(la,c);return c}function y(c,a){a=J.prototype.toLowerCase.call(a);return\"finite\"==a?isFinite(c):\"array\"==a&&(c instanceof Array||Array.isArray&&Array.isArray(c))?!0:\"null\"==a&&null===c||a==typeof c&&null!==c||\"object\"==\n",
       "a&&c===Object(c)||$.call(c).slice(8,-1).toLowerCase()==a}function M(c){if(\"function\"==typeof c||Object(c)!==c)return c;var a=new c.constructor,b;for(b in c)c[h](b)&&(a[b]=M(c[b]));return a}function A(c,a,b){function m(){var e=Array.prototype.slice.call(arguments,0),f=e.join(\"\\u2400\"),d=m.cache=m.cache||{},l=m.count=m.count||[];if(d[h](f)){a:for(var e=l,l=f,B=0,H=e.length;B<H;B++)if(e[B]===l){e.push(e.splice(B,1)[0]);break a}return b?b(d[f]):d[f]}1E3<=l.length&&delete d[l.shift()];l.push(f);d[f]=c.apply(a,\n",
       "e);return b?b(d[f]):d[f]}return m}function w(c,a,b,m,e,f){return null==e?(c-=b,a-=m,c||a?(180*I.atan2(-a,-c)/C+540)%360:0):w(c,a,e,f)-w(b,m,e,f)}function z(c){return c%360*C/180}function d(c){var a=[];c=c.replace(/(?:^|\\s)(\\w+)\\(([^)]+)\\)/g,function(c,b,m){m=m.split(/\\s*,\\s*|\\s+/);\"rotate\"==b&&1==m.length&&m.push(0,0);\"scale\"==b&&(2<m.length?m=m.slice(0,2):2==m.length&&m.push(0,0),1==m.length&&m.push(m[0],0,0));\"skewX\"==b?a.push([\"m\",1,0,I.tan(z(m[0])),1,0,0]):\"skewY\"==b?a.push([\"m\",1,I.tan(z(m[0])),\n",
       "0,1,0,0]):a.push([b.charAt(0)].concat(m));return c});return a}function f(c,t){var b=O(c),m=new a.Matrix;if(b)for(var e=0,f=b.length;e<f;e++){var h=b[e],d=h.length,B=J(h[0]).toLowerCase(),H=h[0]!=B,l=H?m.invert():0,E;\"t\"==B&&2==d?m.translate(h[1],0):\"t\"==B&&3==d?H?(d=l.x(0,0),B=l.y(0,0),H=l.x(h[1],h[2]),l=l.y(h[1],h[2]),m.translate(H-d,l-B)):m.translate(h[1],h[2]):\"r\"==B?2==d?(E=E||t,m.rotate(h[1],E.x+E.width/2,E.y+E.height/2)):4==d&&(H?(H=l.x(h[2],h[3]),l=l.y(h[2],h[3]),m.rotate(h[1],H,l)):m.rotate(h[1],\n",
       "h[2],h[3])):\"s\"==B?2==d||3==d?(E=E||t,m.scale(h[1],h[d-1],E.x+E.width/2,E.y+E.height/2)):4==d?H?(H=l.x(h[2],h[3]),l=l.y(h[2],h[3]),m.scale(h[1],h[1],H,l)):m.scale(h[1],h[1],h[2],h[3]):5==d&&(H?(H=l.x(h[3],h[4]),l=l.y(h[3],h[4]),m.scale(h[1],h[2],H,l)):m.scale(h[1],h[2],h[3],h[4])):\"m\"==B&&7==d&&m.add(h[1],h[2],h[3],h[4],h[5],h[6])}return m}function n(c,t){if(null==t){var m=!0;t=\"linearGradient\"==c.type||\"radialGradient\"==c.type?c.node.getAttribute(\"gradientTransform\"):\"pattern\"==c.type?c.node.getAttribute(\"patternTransform\"):\n",
       "c.node.getAttribute(\"transform\");if(!t)return new a.Matrix;t=d(t)}else t=a._.rgTransform.test(t)?J(t).replace(/\\.{3}|\\u2026/g,c._.transform||aa):d(t),y(t,\"array\")&&(t=a.path?a.path.toString.call(t):J(t)),c._.transform=t;var b=f(t,c.getBBox(1));if(m)return b;c.matrix=b}function u(c){c=c.node.ownerSVGElement&&x(c.node.ownerSVGElement)||c.node.parentNode&&x(c.node.parentNode)||a.select(\"svg\")||a(0,0);var t=c.select(\"defs\"),t=null==t?!1:t.node;t||(t=r(\"defs\",c.node).node);return t}function p(c){return c.node.ownerSVGElement&&\n",
       "x(c.node.ownerSVGElement)||a.select(\"svg\")}function b(c,a,m){function b(c){if(null==c)return aa;if(c==+c)return c;v(B,{width:c});try{return B.getBBox().width}catch(a){return 0}}function h(c){if(null==c)return aa;if(c==+c)return c;v(B,{height:c});try{return B.getBBox().height}catch(a){return 0}}function e(b,B){null==a?d[b]=B(c.attr(b)||0):b==a&&(d=B(null==m?c.attr(b)||0:m))}var f=p(c).node,d={},B=f.querySelector(\".svg---mgr\");B||(B=v(\"rect\"),v(B,{x:-9E9,y:-9E9,width:10,height:10,\"class\":\"svg---mgr\",\n",
       "fill:\"none\"}),f.appendChild(B));switch(c.type){case \"rect\":e(\"rx\",b),e(\"ry\",h);case \"image\":e(\"width\",b),e(\"height\",h);case \"text\":e(\"x\",b);e(\"y\",h);break;case \"circle\":e(\"cx\",b);e(\"cy\",h);e(\"r\",b);break;case \"ellipse\":e(\"cx\",b);e(\"cy\",h);e(\"rx\",b);e(\"ry\",h);break;case \"line\":e(\"x1\",b);e(\"x2\",b);e(\"y1\",h);e(\"y2\",h);break;case \"marker\":e(\"refX\",b);e(\"markerWidth\",b);e(\"refY\",h);e(\"markerHeight\",h);break;case \"radialGradient\":e(\"fx\",b);e(\"fy\",h);break;case \"tspan\":e(\"dx\",b);e(\"dy\",h);break;default:e(a,\n",
       "b)}f.removeChild(B);return d}function q(c){y(c,\"array\")||(c=Array.prototype.slice.call(arguments,0));for(var a=0,b=0,m=this.node;this[a];)delete this[a++];for(a=0;a<c.length;a++)\"set\"==c[a].type?c[a].forEach(function(c){m.appendChild(c.node)}):m.appendChild(c[a].node);for(var h=m.childNodes,a=0;a<h.length;a++)this[b++]=x(h[a]);return this}function e(c){if(c.snap in E)return E[c.snap];var a=this.id=V(),b;try{b=c.ownerSVGElement}catch(m){}this.node=c;b&&(this.paper=new s(b));this.type=c.tagName;this.anims=\n",
       "{};this._={transform:[]};c.snap=a;E[a]=this;\"g\"==this.type&&(this.add=q);if(this.type in{g:1,mask:1,pattern:1})for(var e in s.prototype)s.prototype[h](e)&&(this[e]=s.prototype[e])}function l(c){this.node=c}function r(c,a){var b=v(c);a.appendChild(b);return x(b)}function s(c,a){var b,m,f,d=s.prototype;if(c&&\"svg\"==c.tagName){if(c.snap in E)return E[c.snap];var l=c.ownerDocument;b=new e(c);m=c.getElementsByTagName(\"desc\")[0];f=c.getElementsByTagName(\"defs\")[0];m||(m=v(\"desc\"),m.appendChild(l.createTextNode(\"Created with Snap\")),\n",
       "b.node.appendChild(m));f||(f=v(\"defs\"),b.node.appendChild(f));b.defs=f;for(var ca in d)d[h](ca)&&(b[ca]=d[ca]);b.paper=b.root=b}else b=r(\"svg\",G.doc.body),v(b.node,{height:a,version:1.1,width:c,xmlns:la});return b}function x(c){return!c||c instanceof e||c instanceof l?c:c.tagName&&\"svg\"==c.tagName.toLowerCase()?new s(c):c.tagName&&\"object\"==c.tagName.toLowerCase()&&\"image/svg+xml\"==c.type?new s(c.contentDocument.getElementsByTagName(\"svg\")[0]):new e(c)}a.version=\"0.3.0\";a.toString=function(){return\"Snap v\"+\n",
       "this.version};a._={};var G={win:N,doc:N.document};a._.glob=G;var h=\"hasOwnProperty\",J=String,K=parseFloat,U=parseInt,I=Math,P=I.max,Q=I.min,Y=I.abs,C=I.PI,aa=\"\",$=Object.prototype.toString,F=/^\\s*((#[a-f\\d]{6})|(#[a-f\\d]{3})|rgba?\\(\\s*([\\d\\.]+%?\\s*,\\s*[\\d\\.]+%?\\s*,\\s*[\\d\\.]+%?(?:\\s*,\\s*[\\d\\.]+%?)?)\\s*\\)|hsba?\\(\\s*([\\d\\.]+(?:deg|\\xb0|%)?\\s*,\\s*[\\d\\.]+%?\\s*,\\s*[\\d\\.]+(?:%?\\s*,\\s*[\\d\\.]+)?%?)\\s*\\)|hsla?\\(\\s*([\\d\\.]+(?:deg|\\xb0|%)?\\s*,\\s*[\\d\\.]+%?\\s*,\\s*[\\d\\.]+(?:%?\\s*,\\s*[\\d\\.]+)?%?)\\s*\\))\\s*$/i;a._.separator=\n",
       "RegExp(\"[,\\t\\n\\x0B\\f\\r \\u00a0\\u1680\\u180e\\u2000\\u2001\\u2002\\u2003\\u2004\\u2005\\u2006\\u2007\\u2008\\u2009\\u200a\\u202f\\u205f\\u3000\\u2028\\u2029]+\");var S=RegExp(\"[\\t\\n\\x0B\\f\\r \\u00a0\\u1680\\u180e\\u2000\\u2001\\u2002\\u2003\\u2004\\u2005\\u2006\\u2007\\u2008\\u2009\\u200a\\u202f\\u205f\\u3000\\u2028\\u2029]*,[\\t\\n\\x0B\\f\\r \\u00a0\\u1680\\u180e\\u2000\\u2001\\u2002\\u2003\\u2004\\u2005\\u2006\\u2007\\u2008\\u2009\\u200a\\u202f\\u205f\\u3000\\u2028\\u2029]*\"),X={hs:1,rg:1},W=RegExp(\"([a-z])[\\t\\n\\x0B\\f\\r \\u00a0\\u1680\\u180e\\u2000\\u2001\\u2002\\u2003\\u2004\\u2005\\u2006\\u2007\\u2008\\u2009\\u200a\\u202f\\u205f\\u3000\\u2028\\u2029,]*((-?\\\\d*\\\\.?\\\\d*(?:e[\\\\-+]?\\\\d+)?[\\t\\n\\x0B\\f\\r \\u00a0\\u1680\\u180e\\u2000\\u2001\\u2002\\u2003\\u2004\\u2005\\u2006\\u2007\\u2008\\u2009\\u200a\\u202f\\u205f\\u3000\\u2028\\u2029]*,?[\\t\\n\\x0B\\f\\r \\u00a0\\u1680\\u180e\\u2000\\u2001\\u2002\\u2003\\u2004\\u2005\\u2006\\u2007\\u2008\\u2009\\u200a\\u202f\\u205f\\u3000\\u2028\\u2029]*)+)\",\n",
       "\"ig\"),ma=RegExp(\"([rstm])[\\t\\n\\x0B\\f\\r \\u00a0\\u1680\\u180e\\u2000\\u2001\\u2002\\u2003\\u2004\\u2005\\u2006\\u2007\\u2008\\u2009\\u200a\\u202f\\u205f\\u3000\\u2028\\u2029,]*((-?\\\\d*\\\\.?\\\\d*(?:e[\\\\-+]?\\\\d+)?[\\t\\n\\x0B\\f\\r \\u00a0\\u1680\\u180e\\u2000\\u2001\\u2002\\u2003\\u2004\\u2005\\u2006\\u2007\\u2008\\u2009\\u200a\\u202f\\u205f\\u3000\\u2028\\u2029]*,?[\\t\\n\\x0B\\f\\r \\u00a0\\u1680\\u180e\\u2000\\u2001\\u2002\\u2003\\u2004\\u2005\\u2006\\u2007\\u2008\\u2009\\u200a\\u202f\\u205f\\u3000\\u2028\\u2029]*)+)\",\"ig\"),Z=RegExp(\"(-?\\\\d*\\\\.?\\\\d*(?:e[\\\\-+]?\\\\d+)?)[\\t\\n\\x0B\\f\\r \\u00a0\\u1680\\u180e\\u2000\\u2001\\u2002\\u2003\\u2004\\u2005\\u2006\\u2007\\u2008\\u2009\\u200a\\u202f\\u205f\\u3000\\u2028\\u2029]*,?[\\t\\n\\x0B\\f\\r \\u00a0\\u1680\\u180e\\u2000\\u2001\\u2002\\u2003\\u2004\\u2005\\u2006\\u2007\\u2008\\u2009\\u200a\\u202f\\u205f\\u3000\\u2028\\u2029]*\",\n",
       "\"ig\"),na=0,ba=\"S\"+(+new Date).toString(36),V=function(){return ba+(na++).toString(36)},m=\"http://www.w3.org/1999/xlink\",la=\"http://www.w3.org/2000/svg\",E={},ca=a.url=function(c){return\"url('#\"+c+\"')\"};a._.$=v;a._.id=V;a.format=function(){var c=/\\{([^\\}]+)\\}/g,a=/(?:(?:^|\\.)(.+?)(?=\\[|\\.|$|\\()|\\[('|\")(.+?)\\2\\])(\\(\\))?/g,b=function(c,b,m){var h=m;b.replace(a,function(c,a,b,m,t){a=a||m;h&&(a in h&&(h=h[a]),\"function\"==typeof h&&t&&(h=h()))});return h=(null==h||h==m?c:h)+\"\"};return function(a,m){return J(a).replace(c,\n",
       "function(c,a){return b(c,a,m)})}}();a._.clone=M;a._.cacher=A;a.rad=z;a.deg=function(c){return 180*c/C%360};a.angle=w;a.is=y;a.snapTo=function(c,a,b){b=y(b,\"finite\")?b:10;if(y(c,\"array\"))for(var m=c.length;m--;){if(Y(c[m]-a)<=b)return c[m]}else{c=+c;m=a%c;if(m<b)return a-m;if(m>c-b)return a-m+c}return a};a.getRGB=A(function(c){if(!c||(c=J(c)).indexOf(\"-\")+1)return{r:-1,g:-1,b:-1,hex:\"none\",error:1,toString:ka};if(\"none\"==c)return{r:-1,g:-1,b:-1,hex:\"none\",toString:ka};!X[h](c.toLowerCase().substring(0,\n",
       "2))&&\"#\"!=c.charAt()&&(c=T(c));if(!c)return{r:-1,g:-1,b:-1,hex:\"none\",error:1,toString:ka};var b,m,e,f,d;if(c=c.match(F)){c[2]&&(e=U(c[2].substring(5),16),m=U(c[2].substring(3,5),16),b=U(c[2].substring(1,3),16));c[3]&&(e=U((d=c[3].charAt(3))+d,16),m=U((d=c[3].charAt(2))+d,16),b=U((d=c[3].charAt(1))+d,16));c[4]&&(d=c[4].split(S),b=K(d[0]),\"%\"==d[0].slice(-1)&&(b*=2.55),m=K(d[1]),\"%\"==d[1].slice(-1)&&(m*=2.55),e=K(d[2]),\"%\"==d[2].slice(-1)&&(e*=2.55),\"rgba\"==c[1].toLowerCase().slice(0,4)&&(f=K(d[3])),\n",
       "d[3]&&\"%\"==d[3].slice(-1)&&(f/=100));if(c[5])return d=c[5].split(S),b=K(d[0]),\"%\"==d[0].slice(-1)&&(b/=100),m=K(d[1]),\"%\"==d[1].slice(-1)&&(m/=100),e=K(d[2]),\"%\"==d[2].slice(-1)&&(e/=100),\"deg\"!=d[0].slice(-3)&&\"\\u00b0\"!=d[0].slice(-1)||(b/=360),\"hsba\"==c[1].toLowerCase().slice(0,4)&&(f=K(d[3])),d[3]&&\"%\"==d[3].slice(-1)&&(f/=100),a.hsb2rgb(b,m,e,f);if(c[6])return d=c[6].split(S),b=K(d[0]),\"%\"==d[0].slice(-1)&&(b/=100),m=K(d[1]),\"%\"==d[1].slice(-1)&&(m/=100),e=K(d[2]),\"%\"==d[2].slice(-1)&&(e/=100),\n",
       "\"deg\"!=d[0].slice(-3)&&\"\\u00b0\"!=d[0].slice(-1)||(b/=360),\"hsla\"==c[1].toLowerCase().slice(0,4)&&(f=K(d[3])),d[3]&&\"%\"==d[3].slice(-1)&&(f/=100),a.hsl2rgb(b,m,e,f);b=Q(I.round(b),255);m=Q(I.round(m),255);e=Q(I.round(e),255);f=Q(P(f,0),1);c={r:b,g:m,b:e,toString:ka};c.hex=\"#\"+(16777216|e|m<<8|b<<16).toString(16).slice(1);c.opacity=y(f,\"finite\")?f:1;return c}return{r:-1,g:-1,b:-1,hex:\"none\",error:1,toString:ka}},a);a.hsb=A(function(c,b,m){return a.hsb2rgb(c,b,m).hex});a.hsl=A(function(c,b,m){return a.hsl2rgb(c,\n",
       "b,m).hex});a.rgb=A(function(c,a,b,m){if(y(m,\"finite\")){var e=I.round;return\"rgba(\"+[e(c),e(a),e(b),+m.toFixed(2)]+\")\"}return\"#\"+(16777216|b|a<<8|c<<16).toString(16).slice(1)});var T=function(c){var a=G.doc.getElementsByTagName(\"head\")[0]||G.doc.getElementsByTagName(\"svg\")[0];T=A(function(c){if(\"red\"==c.toLowerCase())return\"rgb(255, 0, 0)\";a.style.color=\"rgb(255, 0, 0)\";a.style.color=c;c=G.doc.defaultView.getComputedStyle(a,aa).getPropertyValue(\"color\");return\"rgb(255, 0, 0)\"==c?null:c});return T(c)},\n",
       "qa=function(){return\"hsb(\"+[this.h,this.s,this.b]+\")\"},ra=function(){return\"hsl(\"+[this.h,this.s,this.l]+\")\"},ka=function(){return 1==this.opacity||null==this.opacity?this.hex:\"rgba(\"+[this.r,this.g,this.b,this.opacity]+\")\"},D=function(c,b,m){null==b&&y(c,\"object\")&&\"r\"in c&&\"g\"in c&&\"b\"in c&&(m=c.b,b=c.g,c=c.r);null==b&&y(c,string)&&(m=a.getRGB(c),c=m.r,b=m.g,m=m.b);if(1<c||1<b||1<m)c/=255,b/=255,m/=255;return[c,b,m]},oa=function(c,b,m,e){c=I.round(255*c);b=I.round(255*b);m=I.round(255*m);c={r:c,\n",
       "g:b,b:m,opacity:y(e,\"finite\")?e:1,hex:a.rgb(c,b,m),toString:ka};y(e,\"finite\")&&(c.opacity=e);return c};a.color=function(c){var b;y(c,\"object\")&&\"h\"in c&&\"s\"in c&&\"b\"in c?(b=a.hsb2rgb(c),c.r=b.r,c.g=b.g,c.b=b.b,c.opacity=1,c.hex=b.hex):y(c,\"object\")&&\"h\"in c&&\"s\"in c&&\"l\"in c?(b=a.hsl2rgb(c),c.r=b.r,c.g=b.g,c.b=b.b,c.opacity=1,c.hex=b.hex):(y(c,\"string\")&&(c=a.getRGB(c)),y(c,\"object\")&&\"r\"in c&&\"g\"in c&&\"b\"in c&&!(\"error\"in c)?(b=a.rgb2hsl(c),c.h=b.h,c.s=b.s,c.l=b.l,b=a.rgb2hsb(c),c.v=b.b):(c={hex:\"none\"},\n",
       "c.r=c.g=c.b=c.h=c.s=c.v=c.l=-1,c.error=1));c.toString=ka;return c};a.hsb2rgb=function(c,a,b,m){y(c,\"object\")&&\"h\"in c&&\"s\"in c&&\"b\"in c&&(b=c.b,a=c.s,c=c.h,m=c.o);var e,h,d;c=360*c%360/60;d=b*a;a=d*(1-Y(c%2-1));b=e=h=b-d;c=~~c;b+=[d,a,0,0,a,d][c];e+=[a,d,d,a,0,0][c];h+=[0,0,a,d,d,a][c];return oa(b,e,h,m)};a.hsl2rgb=function(c,a,b,m){y(c,\"object\")&&\"h\"in c&&\"s\"in c&&\"l\"in c&&(b=c.l,a=c.s,c=c.h);if(1<c||1<a||1<b)c/=360,a/=100,b/=100;var e,h,d;c=360*c%360/60;d=2*a*(0.5>b?b:1-b);a=d*(1-Y(c%2-1));b=e=\n",
       "h=b-d/2;c=~~c;b+=[d,a,0,0,a,d][c];e+=[a,d,d,a,0,0][c];h+=[0,0,a,d,d,a][c];return oa(b,e,h,m)};a.rgb2hsb=function(c,a,b){b=D(c,a,b);c=b[0];a=b[1];b=b[2];var m,e;m=P(c,a,b);e=m-Q(c,a,b);c=((0==e?0:m==c?(a-b)/e:m==a?(b-c)/e+2:(c-a)/e+4)+360)%6*60/360;return{h:c,s:0==e?0:e/m,b:m,toString:qa}};a.rgb2hsl=function(c,a,b){b=D(c,a,b);c=b[0];a=b[1];b=b[2];var m,e,h;m=P(c,a,b);e=Q(c,a,b);h=m-e;c=((0==h?0:m==c?(a-b)/h:m==a?(b-c)/h+2:(c-a)/h+4)+360)%6*60/360;m=(m+e)/2;return{h:c,s:0==h?0:0.5>m?h/(2*m):h/(2-2*\n",
       "m),l:m,toString:ra}};a.parsePathString=function(c){if(!c)return null;var b=a.path(c);if(b.arr)return a.path.clone(b.arr);var m={a:7,c:6,o:2,h:1,l:2,m:2,r:4,q:4,s:4,t:2,v:1,u:3,z:0},e=[];y(c,\"array\")&&y(c[0],\"array\")&&(e=a.path.clone(c));e.length||J(c).replace(W,function(c,a,b){var h=[];c=a.toLowerCase();b.replace(Z,function(c,a){a&&h.push(+a)});\"m\"==c&&2<h.length&&(e.push([a].concat(h.splice(0,2))),c=\"l\",a=\"m\"==a?\"l\":\"L\");\"o\"==c&&1==h.length&&e.push([a,h[0] ]);if(\"r\"==c)e.push([a].concat(h));else for(;h.length>=\n",
       "m[c]&&(e.push([a].concat(h.splice(0,m[c]))),m[c]););});e.toString=a.path.toString;b.arr=a.path.clone(e);return e};var O=a.parseTransformString=function(c){if(!c)return null;var b=[];y(c,\"array\")&&y(c[0],\"array\")&&(b=a.path.clone(c));b.length||J(c).replace(ma,function(c,a,m){var e=[];a.toLowerCase();m.replace(Z,function(c,a){a&&e.push(+a)});b.push([a].concat(e))});b.toString=a.path.toString;return b};a._.svgTransform2string=d;a._.rgTransform=RegExp(\"^[a-z][\\t\\n\\x0B\\f\\r \\u00a0\\u1680\\u180e\\u2000\\u2001\\u2002\\u2003\\u2004\\u2005\\u2006\\u2007\\u2008\\u2009\\u200a\\u202f\\u205f\\u3000\\u2028\\u2029]*-?\\\\.?\\\\d\",\n",
       "\"i\");a._.transform2matrix=f;a._unit2px=b;a._.getSomeDefs=u;a._.getSomeSVG=p;a.select=function(c){return x(G.doc.querySelector(c))};a.selectAll=function(c){c=G.doc.querySelectorAll(c);for(var b=(a.set||Array)(),m=0;m<c.length;m++)b.push(x(c[m]));return b};setInterval(function(){for(var c in E)if(E[h](c)){var a=E[c],b=a.node;(\"svg\"!=a.type&&!b.ownerSVGElement||\"svg\"==a.type&&(!b.parentNode||\"ownerSVGElement\"in b.parentNode&&!b.ownerSVGElement))&&delete E[c]}},1E4);(function(c){function m(c){function a(c,\n",
       "b){var m=v(c.node,b);(m=(m=m&&m.match(d))&&m[2])&&\"#\"==m.charAt()&&(m=m.substring(1))&&(f[m]=(f[m]||[]).concat(function(a){var m={};m[b]=ca(a);v(c.node,m)}))}function b(c){var a=v(c.node,\"xlink:href\");a&&\"#\"==a.charAt()&&(a=a.substring(1))&&(f[a]=(f[a]||[]).concat(function(a){c.attr(\"xlink:href\",\"#\"+a)}))}var e=c.selectAll(\"*\"),h,d=/^\\s*url\\((\"|'|)(.*)\\1\\)\\s*$/;c=[];for(var f={},l=0,E=e.length;l<E;l++){h=e[l];a(h,\"fill\");a(h,\"stroke\");a(h,\"filter\");a(h,\"mask\");a(h,\"clip-path\");b(h);var t=v(h.node,\n",
       "\"id\");t&&(v(h.node,{id:h.id}),c.push({old:t,id:h.id}))}l=0;for(E=c.length;l<E;l++)if(e=f[c[l].old])for(h=0,t=e.length;h<t;h++)e[h](c[l].id)}function e(c,a,b){return function(m){m=m.slice(c,a);1==m.length&&(m=m[0]);return b?b(m):m}}function d(c){return function(){var a=c?\"<\"+this.type:\"\",b=this.node.attributes,m=this.node.childNodes;if(c)for(var e=0,h=b.length;e<h;e++)a+=\" \"+b[e].name+'=\"'+b[e].value.replace(/\"/g,'\\\\\"')+'\"';if(m.length){c&&(a+=\">\");e=0;for(h=m.length;e<h;e++)3==m[e].nodeType?a+=m[e].nodeValue:\n",
       "1==m[e].nodeType&&(a+=x(m[e]).toString());c&&(a+=\"</\"+this.type+\">\")}else c&&(a+=\"/>\");return a}}c.attr=function(c,a){if(!c)return this;if(y(c,\"string\"))if(1<arguments.length){var b={};b[c]=a;c=b}else return k(\"snap.util.getattr.\"+c,this).firstDefined();for(var m in c)c[h](m)&&k(\"snap.util.attr.\"+m,this,c[m]);return this};c.getBBox=function(c){if(!a.Matrix||!a.path)return this.node.getBBox();var b=this,m=new a.Matrix;if(b.removed)return a._.box();for(;\"use\"==b.type;)if(c||(m=m.add(b.transform().localMatrix.translate(b.attr(\"x\")||\n",
       "0,b.attr(\"y\")||0))),b.original)b=b.original;else var e=b.attr(\"xlink:href\"),b=b.original=b.node.ownerDocument.getElementById(e.substring(e.indexOf(\"#\")+1));var e=b._,h=a.path.get[b.type]||a.path.get.deflt;try{if(c)return e.bboxwt=h?a.path.getBBox(b.realPath=h(b)):a._.box(b.node.getBBox()),a._.box(e.bboxwt);b.realPath=h(b);b.matrix=b.transform().localMatrix;e.bbox=a.path.getBBox(a.path.map(b.realPath,m.add(b.matrix)));return a._.box(e.bbox)}catch(d){return a._.box()}};var f=function(){return this.string};\n",
       "c.transform=function(c){var b=this._;if(null==c){var m=this;c=new a.Matrix(this.node.getCTM());for(var e=n(this),h=[e],d=new a.Matrix,l=e.toTransformString(),b=J(e)==J(this.matrix)?J(b.transform):l;\"svg\"!=m.type&&(m=m.parent());)h.push(n(m));for(m=h.length;m--;)d.add(h[m]);return{string:b,globalMatrix:c,totalMatrix:d,localMatrix:e,diffMatrix:c.clone().add(e.invert()),global:c.toTransformString(),total:d.toTransformString(),local:l,toString:f}}c instanceof a.Matrix?this.matrix=c:n(this,c);this.node&&\n",
       "(\"linearGradient\"==this.type||\"radialGradient\"==this.type?v(this.node,{gradientTransform:this.matrix}):\"pattern\"==this.type?v(this.node,{patternTransform:this.matrix}):v(this.node,{transform:this.matrix}));return this};c.parent=function(){return x(this.node.parentNode)};c.append=c.add=function(c){if(c){if(\"set\"==c.type){var a=this;c.forEach(function(c){a.add(c)});return this}c=x(c);this.node.appendChild(c.node);c.paper=this.paper}return this};c.appendTo=function(c){c&&(c=x(c),c.append(this));return this};\n",
       "c.prepend=function(c){if(c){if(\"set\"==c.type){var a=this,b;c.forEach(function(c){b?b.after(c):a.prepend(c);b=c});return this}c=x(c);var m=c.parent();this.node.insertBefore(c.node,this.node.firstChild);this.add&&this.add();c.paper=this.paper;this.parent()&&this.parent().add();m&&m.add()}return this};c.prependTo=function(c){c=x(c);c.prepend(this);return this};c.before=function(c){if(\"set\"==c.type){var a=this;c.forEach(function(c){var b=c.parent();a.node.parentNode.insertBefore(c.node,a.node);b&&b.add()});\n",
       "this.parent().add();return this}c=x(c);var b=c.parent();this.node.parentNode.insertBefore(c.node,this.node);this.parent()&&this.parent().add();b&&b.add();c.paper=this.paper;return this};c.after=function(c){c=x(c);var a=c.parent();this.node.nextSibling?this.node.parentNode.insertBefore(c.node,this.node.nextSibling):this.node.parentNode.appendChild(c.node);this.parent()&&this.parent().add();a&&a.add();c.paper=this.paper;return this};c.insertBefore=function(c){c=x(c);var a=this.parent();c.node.parentNode.insertBefore(this.node,\n",
       "c.node);this.paper=c.paper;a&&a.add();c.parent()&&c.parent().add();return this};c.insertAfter=function(c){c=x(c);var a=this.parent();c.node.parentNode.insertBefore(this.node,c.node.nextSibling);this.paper=c.paper;a&&a.add();c.parent()&&c.parent().add();return this};c.remove=function(){var c=this.parent();this.node.parentNode&&this.node.parentNode.removeChild(this.node);delete this.paper;this.removed=!0;c&&c.add();return this};c.select=function(c){return x(this.node.querySelector(c))};c.selectAll=\n",
       "function(c){c=this.node.querySelectorAll(c);for(var b=(a.set||Array)(),m=0;m<c.length;m++)b.push(x(c[m]));return b};c.asPX=function(c,a){null==a&&(a=this.attr(c));return+b(this,c,a)};c.use=function(){var c,a=this.node.id;a||(a=this.id,v(this.node,{id:a}));c=\"linearGradient\"==this.type||\"radialGradient\"==this.type||\"pattern\"==this.type?r(this.type,this.node.parentNode):r(\"use\",this.node.parentNode);v(c.node,{\"xlink:href\":\"#\"+a});c.original=this;return c};var l=/\\S+/g;c.addClass=function(c){var a=(c||\n",
       "\"\").match(l)||[];c=this.node;var b=c.className.baseVal,m=b.match(l)||[],e,h,d;if(a.length){for(e=0;d=a[e++];)h=m.indexOf(d),~h||m.push(d);a=m.join(\" \");b!=a&&(c.className.baseVal=a)}return this};c.removeClass=function(c){var a=(c||\"\").match(l)||[];c=this.node;var b=c.className.baseVal,m=b.match(l)||[],e,h;if(m.length){for(e=0;h=a[e++];)h=m.indexOf(h),~h&&m.splice(h,1);a=m.join(\" \");b!=a&&(c.className.baseVal=a)}return this};c.hasClass=function(c){return!!~(this.node.className.baseVal.match(l)||[]).indexOf(c)};\n",
       "c.toggleClass=function(c,a){if(null!=a)return a?this.addClass(c):this.removeClass(c);var b=(c||\"\").match(l)||[],m=this.node,e=m.className.baseVal,h=e.match(l)||[],d,f,E;for(d=0;E=b[d++];)f=h.indexOf(E),~f?h.splice(f,1):h.push(E);b=h.join(\" \");e!=b&&(m.className.baseVal=b);return this};c.clone=function(){var c=x(this.node.cloneNode(!0));v(c.node,\"id\")&&v(c.node,{id:c.id});m(c);c.insertAfter(this);return c};c.toDefs=function(){u(this).appendChild(this.node);return this};c.pattern=c.toPattern=function(c,\n",
       "a,b,m){var e=r(\"pattern\",u(this));null==c&&(c=this.getBBox());y(c,\"object\")&&\"x\"in c&&(a=c.y,b=c.width,m=c.height,c=c.x);v(e.node,{x:c,y:a,width:b,height:m,patternUnits:\"userSpaceOnUse\",id:e.id,viewBox:[c,a,b,m].join(\" \")});e.node.appendChild(this.node);return e};c.marker=function(c,a,b,m,e,h){var d=r(\"marker\",u(this));null==c&&(c=this.getBBox());y(c,\"object\")&&\"x\"in c&&(a=c.y,b=c.width,m=c.height,e=c.refX||c.cx,h=c.refY||c.cy,c=c.x);v(d.node,{viewBox:[c,a,b,m].join(\" \"),markerWidth:b,markerHeight:m,\n",
       "orient:\"auto\",refX:e||0,refY:h||0,id:d.id});d.node.appendChild(this.node);return d};var E=function(c,a,b,m){\"function\"!=typeof b||b.length||(m=b,b=L.linear);this.attr=c;this.dur=a;b&&(this.easing=b);m&&(this.callback=m)};a._.Animation=E;a.animation=function(c,a,b,m){return new E(c,a,b,m)};c.inAnim=function(){var c=[],a;for(a in this.anims)this.anims[h](a)&&function(a){c.push({anim:new E(a._attrs,a.dur,a.easing,a._callback),mina:a,curStatus:a.status(),status:function(c){return a.status(c)},stop:function(){a.stop()}})}(this.anims[a]);\n",
       "return c};a.animate=function(c,a,b,m,e,h){\"function\"!=typeof e||e.length||(h=e,e=L.linear);var d=L.time();c=L(c,a,d,d+m,L.time,b,e);h&&k.once(\"mina.finish.\"+c.id,h);return c};c.stop=function(){for(var c=this.inAnim(),a=0,b=c.length;a<b;a++)c[a].stop();return this};c.animate=function(c,a,b,m){\"function\"!=typeof b||b.length||(m=b,b=L.linear);c instanceof E&&(m=c.callback,b=c.easing,a=b.dur,c=c.attr);var d=[],f=[],l={},t,ca,n,T=this,q;for(q in c)if(c[h](q)){T.equal?(n=T.equal(q,J(c[q])),t=n.from,ca=\n",
       "n.to,n=n.f):(t=+T.attr(q),ca=+c[q]);var la=y(t,\"array\")?t.length:1;l[q]=e(d.length,d.length+la,n);d=d.concat(t);f=f.concat(ca)}t=L.time();var p=L(d,f,t,t+a,L.time,function(c){var a={},b;for(b in l)l[h](b)&&(a[b]=l[b](c));T.attr(a)},b);T.anims[p.id]=p;p._attrs=c;p._callback=m;k(\"snap.animcreated.\"+T.id,p);k.once(\"mina.finish.\"+p.id,function(){delete T.anims[p.id];m&&m.call(T)});k.once(\"mina.stop.\"+p.id,function(){delete T.anims[p.id]});return T};var T={};c.data=function(c,b){var m=T[this.id]=T[this.id]||\n",
       "{};if(0==arguments.length)return k(\"snap.data.get.\"+this.id,this,m,null),m;if(1==arguments.length){if(a.is(c,\"object\")){for(var e in c)c[h](e)&&this.data(e,c[e]);return this}k(\"snap.data.get.\"+this.id,this,m[c],c);return m[c]}m[c]=b;k(\"snap.data.set.\"+this.id,this,b,c);return this};c.removeData=function(c){null==c?T[this.id]={}:T[this.id]&&delete T[this.id][c];return this};c.outerSVG=c.toString=d(1);c.innerSVG=d()})(e.prototype);a.parse=function(c){var a=G.doc.createDocumentFragment(),b=!0,m=G.doc.createElement(\"div\");\n",
       "c=J(c);c.match(/^\\s*<\\s*svg(?:\\s|>)/)||(c=\"<svg>\"+c+\"</svg>\",b=!1);m.innerHTML=c;if(c=m.getElementsByTagName(\"svg\")[0])if(b)a=c;else for(;c.firstChild;)a.appendChild(c.firstChild);m.innerHTML=aa;return new l(a)};l.prototype.select=e.prototype.select;l.prototype.selectAll=e.prototype.selectAll;a.fragment=function(){for(var c=Array.prototype.slice.call(arguments,0),b=G.doc.createDocumentFragment(),m=0,e=c.length;m<e;m++){var h=c[m];h.node&&h.node.nodeType&&b.appendChild(h.node);h.nodeType&&b.appendChild(h);\n",
       "\"string\"==typeof h&&b.appendChild(a.parse(h).node)}return new l(b)};a._.make=r;a._.wrap=x;s.prototype.el=function(c,a){var b=r(c,this.node);a&&b.attr(a);return b};k.on(\"snap.util.getattr\",function(){var c=k.nt(),c=c.substring(c.lastIndexOf(\".\")+1),a=c.replace(/[A-Z]/g,function(c){return\"-\"+c.toLowerCase()});return pa[h](a)?this.node.ownerDocument.defaultView.getComputedStyle(this.node,null).getPropertyValue(a):v(this.node,c)});var pa={\"alignment-baseline\":0,\"baseline-shift\":0,clip:0,\"clip-path\":0,\n",
       "\"clip-rule\":0,color:0,\"color-interpolation\":0,\"color-interpolation-filters\":0,\"color-profile\":0,\"color-rendering\":0,cursor:0,direction:0,display:0,\"dominant-baseline\":0,\"enable-background\":0,fill:0,\"fill-opacity\":0,\"fill-rule\":0,filter:0,\"flood-color\":0,\"flood-opacity\":0,font:0,\"font-family\":0,\"font-size\":0,\"font-size-adjust\":0,\"font-stretch\":0,\"font-style\":0,\"font-variant\":0,\"font-weight\":0,\"glyph-orientation-horizontal\":0,\"glyph-orientation-vertical\":0,\"image-rendering\":0,kerning:0,\"letter-spacing\":0,\n",
       "\"lighting-color\":0,marker:0,\"marker-end\":0,\"marker-mid\":0,\"marker-start\":0,mask:0,opacity:0,overflow:0,\"pointer-events\":0,\"shape-rendering\":0,\"stop-color\":0,\"stop-opacity\":0,stroke:0,\"stroke-dasharray\":0,\"stroke-dashoffset\":0,\"stroke-linecap\":0,\"stroke-linejoin\":0,\"stroke-miterlimit\":0,\"stroke-opacity\":0,\"stroke-width\":0,\"text-anchor\":0,\"text-decoration\":0,\"text-rendering\":0,\"unicode-bidi\":0,visibility:0,\"word-spacing\":0,\"writing-mode\":0};k.on(\"snap.util.attr\",function(c){var a=k.nt(),b={},a=a.substring(a.lastIndexOf(\".\")+\n",
       "1);b[a]=c;var m=a.replace(/-(\\w)/gi,function(c,a){return a.toUpperCase()}),a=a.replace(/[A-Z]/g,function(c){return\"-\"+c.toLowerCase()});pa[h](a)?this.node.style[m]=null==c?aa:c:v(this.node,b)});a.ajax=function(c,a,b,m){var e=new XMLHttpRequest,h=V();if(e){if(y(a,\"function\"))m=b,b=a,a=null;else if(y(a,\"object\")){var d=[],f;for(f in a)a.hasOwnProperty(f)&&d.push(encodeURIComponent(f)+\"=\"+encodeURIComponent(a[f]));a=d.join(\"&\")}e.open(a?\"POST\":\"GET\",c,!0);a&&(e.setRequestHeader(\"X-Requested-With\",\"XMLHttpRequest\"),\n",
       "e.setRequestHeader(\"Content-type\",\"application/x-www-form-urlencoded\"));b&&(k.once(\"snap.ajax.\"+h+\".0\",b),k.once(\"snap.ajax.\"+h+\".200\",b),k.once(\"snap.ajax.\"+h+\".304\",b));e.onreadystatechange=function(){4==e.readyState&&k(\"snap.ajax.\"+h+\".\"+e.status,m,e)};if(4==e.readyState)return e;e.send(a);return e}};a.load=function(c,b,m){a.ajax(c,function(c){c=a.parse(c.responseText);m?b.call(m,c):b(c)})};a.getElementByPoint=function(c,a){var b,m,e=G.doc.elementFromPoint(c,a);if(G.win.opera&&\"svg\"==e.tagName){b=\n",
       "e;m=b.getBoundingClientRect();b=b.ownerDocument;var h=b.body,d=b.documentElement;b=m.top+(g.win.pageYOffset||d.scrollTop||h.scrollTop)-(d.clientTop||h.clientTop||0);m=m.left+(g.win.pageXOffset||d.scrollLeft||h.scrollLeft)-(d.clientLeft||h.clientLeft||0);h=e.createSVGRect();h.x=c-m;h.y=a-b;h.width=h.height=1;b=e.getIntersectionList(h,null);b.length&&(e=b[b.length-1])}return e?x(e):null};a.plugin=function(c){c(a,e,s,G,l)};return G.win.Snap=a}();C.plugin(function(a,k,y,M,A){function w(a,d,f,b,q,e){null==\n",
       "d&&\"[object SVGMatrix]\"==z.call(a)?(this.a=a.a,this.b=a.b,this.c=a.c,this.d=a.d,this.e=a.e,this.f=a.f):null!=a?(this.a=+a,this.b=+d,this.c=+f,this.d=+b,this.e=+q,this.f=+e):(this.a=1,this.c=this.b=0,this.d=1,this.f=this.e=0)}var z=Object.prototype.toString,d=String,f=Math;(function(n){function k(a){return a[0]*a[0]+a[1]*a[1]}function p(a){var d=f.sqrt(k(a));a[0]&&(a[0]/=d);a[1]&&(a[1]/=d)}n.add=function(a,d,e,f,n,p){var k=[[],[],[] ],u=[[this.a,this.c,this.e],[this.b,this.d,this.f],[0,0,1] ];d=[[a,\n",
       "e,n],[d,f,p],[0,0,1] ];a&&a instanceof w&&(d=[[a.a,a.c,a.e],[a.b,a.d,a.f],[0,0,1] ]);for(a=0;3>a;a++)for(e=0;3>e;e++){for(f=n=0;3>f;f++)n+=u[a][f]*d[f][e];k[a][e]=n}this.a=k[0][0];this.b=k[1][0];this.c=k[0][1];this.d=k[1][1];this.e=k[0][2];this.f=k[1][2];return this};n.invert=function(){var a=this.a*this.d-this.b*this.c;return new w(this.d/a,-this.b/a,-this.c/a,this.a/a,(this.c*this.f-this.d*this.e)/a,(this.b*this.e-this.a*this.f)/a)};n.clone=function(){return new w(this.a,this.b,this.c,this.d,this.e,\n",
       "this.f)};n.translate=function(a,d){return this.add(1,0,0,1,a,d)};n.scale=function(a,d,e,f){null==d&&(d=a);(e||f)&&this.add(1,0,0,1,e,f);this.add(a,0,0,d,0,0);(e||f)&&this.add(1,0,0,1,-e,-f);return this};n.rotate=function(b,d,e){b=a.rad(b);d=d||0;e=e||0;var l=+f.cos(b).toFixed(9);b=+f.sin(b).toFixed(9);this.add(l,b,-b,l,d,e);return this.add(1,0,0,1,-d,-e)};n.x=function(a,d){return a*this.a+d*this.c+this.e};n.y=function(a,d){return a*this.b+d*this.d+this.f};n.get=function(a){return+this[d.fromCharCode(97+\n",
       "a)].toFixed(4)};n.toString=function(){return\"matrix(\"+[this.get(0),this.get(1),this.get(2),this.get(3),this.get(4),this.get(5)].join()+\")\"};n.offset=function(){return[this.e.toFixed(4),this.f.toFixed(4)]};n.determinant=function(){return this.a*this.d-this.b*this.c};n.split=function(){var b={};b.dx=this.e;b.dy=this.f;var d=[[this.a,this.c],[this.b,this.d] ];b.scalex=f.sqrt(k(d[0]));p(d[0]);b.shear=d[0][0]*d[1][0]+d[0][1]*d[1][1];d[1]=[d[1][0]-d[0][0]*b.shear,d[1][1]-d[0][1]*b.shear];b.scaley=f.sqrt(k(d[1]));\n",
       "p(d[1]);b.shear/=b.scaley;0>this.determinant()&&(b.scalex=-b.scalex);var e=-d[0][1],d=d[1][1];0>d?(b.rotate=a.deg(f.acos(d)),0>e&&(b.rotate=360-b.rotate)):b.rotate=a.deg(f.asin(e));b.isSimple=!+b.shear.toFixed(9)&&(b.scalex.toFixed(9)==b.scaley.toFixed(9)||!b.rotate);b.isSuperSimple=!+b.shear.toFixed(9)&&b.scalex.toFixed(9)==b.scaley.toFixed(9)&&!b.rotate;b.noRotation=!+b.shear.toFixed(9)&&!b.rotate;return b};n.toTransformString=function(a){a=a||this.split();if(+a.shear.toFixed(9))return\"m\"+[this.get(0),\n",
       "this.get(1),this.get(2),this.get(3),this.get(4),this.get(5)];a.scalex=+a.scalex.toFixed(4);a.scaley=+a.scaley.toFixed(4);a.rotate=+a.rotate.toFixed(4);return(a.dx||a.dy?\"t\"+[+a.dx.toFixed(4),+a.dy.toFixed(4)]:\"\")+(1!=a.scalex||1!=a.scaley?\"s\"+[a.scalex,a.scaley,0,0]:\"\")+(a.rotate?\"r\"+[+a.rotate.toFixed(4),0,0]:\"\")}})(w.prototype);a.Matrix=w;a.matrix=function(a,d,f,b,k,e){return new w(a,d,f,b,k,e)}});C.plugin(function(a,v,y,M,A){function w(h){return function(d){k.stop();d instanceof A&&1==d.node.childNodes.length&&\n",
       "(\"radialGradient\"==d.node.firstChild.tagName||\"linearGradient\"==d.node.firstChild.tagName||\"pattern\"==d.node.firstChild.tagName)&&(d=d.node.firstChild,b(this).appendChild(d),d=u(d));if(d instanceof v)if(\"radialGradient\"==d.type||\"linearGradient\"==d.type||\"pattern\"==d.type){d.node.id||e(d.node,{id:d.id});var f=l(d.node.id)}else f=d.attr(h);else f=a.color(d),f.error?(f=a(b(this).ownerSVGElement).gradient(d))?(f.node.id||e(f.node,{id:f.id}),f=l(f.node.id)):f=d:f=r(f);d={};d[h]=f;e(this.node,d);this.node.style[h]=\n",
       "x}}function z(a){k.stop();a==+a&&(a+=\"px\");this.node.style.fontSize=a}function d(a){var b=[];a=a.childNodes;for(var e=0,f=a.length;e<f;e++){var l=a[e];3==l.nodeType&&b.push(l.nodeValue);\"tspan\"==l.tagName&&(1==l.childNodes.length&&3==l.firstChild.nodeType?b.push(l.firstChild.nodeValue):b.push(d(l)))}return b}function f(){k.stop();return this.node.style.fontSize}var n=a._.make,u=a._.wrap,p=a.is,b=a._.getSomeDefs,q=/^url\\(#?([^)]+)\\)$/,e=a._.$,l=a.url,r=String,s=a._.separator,x=\"\";k.on(\"snap.util.attr.mask\",\n",
       "function(a){if(a instanceof v||a instanceof A){k.stop();a instanceof A&&1==a.node.childNodes.length&&(a=a.node.firstChild,b(this).appendChild(a),a=u(a));if(\"mask\"==a.type)var d=a;else d=n(\"mask\",b(this)),d.node.appendChild(a.node);!d.node.id&&e(d.node,{id:d.id});e(this.node,{mask:l(d.id)})}});(function(a){k.on(\"snap.util.attr.clip\",a);k.on(\"snap.util.attr.clip-path\",a);k.on(\"snap.util.attr.clipPath\",a)})(function(a){if(a instanceof v||a instanceof A){k.stop();if(\"clipPath\"==a.type)var d=a;else d=\n",
       "n(\"clipPath\",b(this)),d.node.appendChild(a.node),!d.node.id&&e(d.node,{id:d.id});e(this.node,{\"clip-path\":l(d.id)})}});k.on(\"snap.util.attr.fill\",w(\"fill\"));k.on(\"snap.util.attr.stroke\",w(\"stroke\"));var G=/^([lr])(?:\\(([^)]*)\\))?(.*)$/i;k.on(\"snap.util.grad.parse\",function(a){a=r(a);var b=a.match(G);if(!b)return null;a=b[1];var e=b[2],b=b[3],e=e.split(/\\s*,\\s*/).map(function(a){return+a==a?+a:a});1==e.length&&0==e[0]&&(e=[]);b=b.split(\"-\");b=b.map(function(a){a=a.split(\":\");var b={color:a[0]};a[1]&&\n",
       "(b.offset=parseFloat(a[1]));return b});return{type:a,params:e,stops:b}});k.on(\"snap.util.attr.d\",function(b){k.stop();p(b,\"array\")&&p(b[0],\"array\")&&(b=a.path.toString.call(b));b=r(b);b.match(/[ruo]/i)&&(b=a.path.toAbsolute(b));e(this.node,{d:b})})(-1);k.on(\"snap.util.attr.#text\",function(a){k.stop();a=r(a);for(a=M.doc.createTextNode(a);this.node.firstChild;)this.node.removeChild(this.node.firstChild);this.node.appendChild(a)})(-1);k.on(\"snap.util.attr.path\",function(a){k.stop();this.attr({d:a})})(-1);\n",
       "k.on(\"snap.util.attr.class\",function(a){k.stop();this.node.className.baseVal=a})(-1);k.on(\"snap.util.attr.viewBox\",function(a){a=p(a,\"object\")&&\"x\"in a?[a.x,a.y,a.width,a.height].join(\" \"):p(a,\"array\")?a.join(\" \"):a;e(this.node,{viewBox:a});k.stop()})(-1);k.on(\"snap.util.attr.transform\",function(a){this.transform(a);k.stop()})(-1);k.on(\"snap.util.attr.r\",function(a){\"rect\"==this.type&&(k.stop(),e(this.node,{rx:a,ry:a}))})(-1);k.on(\"snap.util.attr.textpath\",function(a){k.stop();if(\"text\"==this.type){var d,\n",
       "f;if(!a&&this.textPath){for(a=this.textPath;a.node.firstChild;)this.node.appendChild(a.node.firstChild);a.remove();delete this.textPath}else if(p(a,\"string\")?(d=b(this),a=u(d.parentNode).path(a),d.appendChild(a.node),d=a.id,a.attr({id:d})):(a=u(a),a instanceof v&&(d=a.attr(\"id\"),d||(d=a.id,a.attr({id:d})))),d)if(a=this.textPath,f=this.node,a)a.attr({\"xlink:href\":\"#\"+d});else{for(a=e(\"textPath\",{\"xlink:href\":\"#\"+d});f.firstChild;)a.appendChild(f.firstChild);f.appendChild(a);this.textPath=u(a)}}})(-1);\n",
       "k.on(\"snap.util.attr.text\",function(a){if(\"text\"==this.type){for(var b=this.node,d=function(a){var b=e(\"tspan\");if(p(a,\"array\"))for(var f=0;f<a.length;f++)b.appendChild(d(a[f]));else b.appendChild(M.doc.createTextNode(a));b.normalize&&b.normalize();return b};b.firstChild;)b.removeChild(b.firstChild);for(a=d(a);a.firstChild;)b.appendChild(a.firstChild)}k.stop()})(-1);k.on(\"snap.util.attr.fontSize\",z)(-1);k.on(\"snap.util.attr.font-size\",z)(-1);k.on(\"snap.util.getattr.transform\",function(){k.stop();\n",
       "return this.transform()})(-1);k.on(\"snap.util.getattr.textpath\",function(){k.stop();return this.textPath})(-1);(function(){function b(d){return function(){k.stop();var b=M.doc.defaultView.getComputedStyle(this.node,null).getPropertyValue(\"marker-\"+d);return\"none\"==b?b:a(M.doc.getElementById(b.match(q)[1]))}}function d(a){return function(b){k.stop();var d=\"marker\"+a.charAt(0).toUpperCase()+a.substring(1);if(\"\"==b||!b)this.node.style[d]=\"none\";else if(\"marker\"==b.type){var f=b.node.id;f||e(b.node,{id:b.id});\n",
       "this.node.style[d]=l(f)}}}k.on(\"snap.util.getattr.marker-end\",b(\"end\"))(-1);k.on(\"snap.util.getattr.markerEnd\",b(\"end\"))(-1);k.on(\"snap.util.getattr.marker-start\",b(\"start\"))(-1);k.on(\"snap.util.getattr.markerStart\",b(\"start\"))(-1);k.on(\"snap.util.getattr.marker-mid\",b(\"mid\"))(-1);k.on(\"snap.util.getattr.markerMid\",b(\"mid\"))(-1);k.on(\"snap.util.attr.marker-end\",d(\"end\"))(-1);k.on(\"snap.util.attr.markerEnd\",d(\"end\"))(-1);k.on(\"snap.util.attr.marker-start\",d(\"start\"))(-1);k.on(\"snap.util.attr.markerStart\",\n",
       "d(\"start\"))(-1);k.on(\"snap.util.attr.marker-mid\",d(\"mid\"))(-1);k.on(\"snap.util.attr.markerMid\",d(\"mid\"))(-1)})();k.on(\"snap.util.getattr.r\",function(){if(\"rect\"==this.type&&e(this.node,\"rx\")==e(this.node,\"ry\"))return k.stop(),e(this.node,\"rx\")})(-1);k.on(\"snap.util.getattr.text\",function(){if(\"text\"==this.type||\"tspan\"==this.type){k.stop();var a=d(this.node);return 1==a.length?a[0]:a}})(-1);k.on(\"snap.util.getattr.#text\",function(){return this.node.textContent})(-1);k.on(\"snap.util.getattr.viewBox\",\n",
       "function(){k.stop();var b=e(this.node,\"viewBox\");if(b)return b=b.split(s),a._.box(+b[0],+b[1],+b[2],+b[3])})(-1);k.on(\"snap.util.getattr.points\",function(){var a=e(this.node,\"points\");k.stop();if(a)return a.split(s)})(-1);k.on(\"snap.util.getattr.path\",function(){var a=e(this.node,\"d\");k.stop();return a})(-1);k.on(\"snap.util.getattr.class\",function(){return this.node.className.baseVal})(-1);k.on(\"snap.util.getattr.fontSize\",f)(-1);k.on(\"snap.util.getattr.font-size\",f)(-1)});C.plugin(function(a,v,y,\n",
       "M,A){function w(a){return a}function z(a){return function(b){return+b.toFixed(3)+a}}var d={\"+\":function(a,b){return a+b},\"-\":function(a,b){return a-b},\"/\":function(a,b){return a/b},\"*\":function(a,b){return a*b}},f=String,n=/[a-z]+$/i,u=/^\\s*([+\\-\\/*])\\s*=\\s*([\\d.eE+\\-]+)\\s*([^\\d\\s]+)?\\s*$/;k.on(\"snap.util.attr\",function(a){if(a=f(a).match(u)){var b=k.nt(),b=b.substring(b.lastIndexOf(\".\")+1),q=this.attr(b),e={};k.stop();var l=a[3]||\"\",r=q.match(n),s=d[a[1] ];r&&r==l?a=s(parseFloat(q),+a[2]):(q=this.asPX(b),\n",
       "a=s(this.asPX(b),this.asPX(b,a[2]+l)));isNaN(q)||isNaN(a)||(e[b]=a,this.attr(e))}})(-10);k.on(\"snap.util.equal\",function(a,b){var q=f(this.attr(a)||\"\"),e=f(b).match(u);if(e){k.stop();var l=e[3]||\"\",r=q.match(n),s=d[e[1] ];if(r&&r==l)return{from:parseFloat(q),to:s(parseFloat(q),+e[2]),f:z(r)};q=this.asPX(a);return{from:q,to:s(q,this.asPX(a,e[2]+l)),f:w}}})(-10)});C.plugin(function(a,v,y,M,A){var w=y.prototype,z=a.is;w.rect=function(a,d,k,p,b,q){var e;null==q&&(q=b);z(a,\"object\")&&\"[object Object]\"==\n",
       "a?e=a:null!=a&&(e={x:a,y:d,width:k,height:p},null!=b&&(e.rx=b,e.ry=q));return this.el(\"rect\",e)};w.circle=function(a,d,k){var p;z(a,\"object\")&&\"[object Object]\"==a?p=a:null!=a&&(p={cx:a,cy:d,r:k});return this.el(\"circle\",p)};var d=function(){function a(){this.parentNode.removeChild(this)}return function(d,k){var p=M.doc.createElement(\"img\"),b=M.doc.body;p.style.cssText=\"position:absolute;left:-9999em;top:-9999em\";p.onload=function(){k.call(p);p.onload=p.onerror=null;b.removeChild(p)};p.onerror=a;\n",
       "b.appendChild(p);p.src=d}}();w.image=function(f,n,k,p,b){var q=this.el(\"image\");if(z(f,\"object\")&&\"src\"in f)q.attr(f);else if(null!=f){var e={\"xlink:href\":f,preserveAspectRatio:\"none\"};null!=n&&null!=k&&(e.x=n,e.y=k);null!=p&&null!=b?(e.width=p,e.height=b):d(f,function(){a._.$(q.node,{width:this.offsetWidth,height:this.offsetHeight})});a._.$(q.node,e)}return q};w.ellipse=function(a,d,k,p){var b;z(a,\"object\")&&\"[object Object]\"==a?b=a:null!=a&&(b={cx:a,cy:d,rx:k,ry:p});return this.el(\"ellipse\",b)};\n",
       "w.path=function(a){var d;z(a,\"object\")&&!z(a,\"array\")?d=a:a&&(d={d:a});return this.el(\"path\",d)};w.group=w.g=function(a){var d=this.el(\"g\");1==arguments.length&&a&&!a.type?d.attr(a):arguments.length&&d.add(Array.prototype.slice.call(arguments,0));return d};w.svg=function(a,d,k,p,b,q,e,l){var r={};z(a,\"object\")&&null==d?r=a:(null!=a&&(r.x=a),null!=d&&(r.y=d),null!=k&&(r.width=k),null!=p&&(r.height=p),null!=b&&null!=q&&null!=e&&null!=l&&(r.viewBox=[b,q,e,l]));return this.el(\"svg\",r)};w.mask=function(a){var d=\n",
       "this.el(\"mask\");1==arguments.length&&a&&!a.type?d.attr(a):arguments.length&&d.add(Array.prototype.slice.call(arguments,0));return d};w.ptrn=function(a,d,k,p,b,q,e,l){if(z(a,\"object\"))var r=a;else arguments.length?(r={},null!=a&&(r.x=a),null!=d&&(r.y=d),null!=k&&(r.width=k),null!=p&&(r.height=p),null!=b&&null!=q&&null!=e&&null!=l&&(r.viewBox=[b,q,e,l])):r={patternUnits:\"userSpaceOnUse\"};return this.el(\"pattern\",r)};w.use=function(a){return null!=a?(make(\"use\",this.node),a instanceof v&&(a.attr(\"id\")||\n",
       "a.attr({id:ID()}),a=a.attr(\"id\")),this.el(\"use\",{\"xlink:href\":a})):v.prototype.use.call(this)};w.text=function(a,d,k){var p={};z(a,\"object\")?p=a:null!=a&&(p={x:a,y:d,text:k||\"\"});return this.el(\"text\",p)};w.line=function(a,d,k,p){var b={};z(a,\"object\")?b=a:null!=a&&(b={x1:a,x2:k,y1:d,y2:p});return this.el(\"line\",b)};w.polyline=function(a){1<arguments.length&&(a=Array.prototype.slice.call(arguments,0));var d={};z(a,\"object\")&&!z(a,\"array\")?d=a:null!=a&&(d={points:a});return this.el(\"polyline\",d)};\n",
       "w.polygon=function(a){1<arguments.length&&(a=Array.prototype.slice.call(arguments,0));var d={};z(a,\"object\")&&!z(a,\"array\")?d=a:null!=a&&(d={points:a});return this.el(\"polygon\",d)};(function(){function d(){return this.selectAll(\"stop\")}function n(b,d){var f=e(\"stop\"),k={offset:+d+\"%\"};b=a.color(b);k[\"stop-color\"]=b.hex;1>b.opacity&&(k[\"stop-opacity\"]=b.opacity);e(f,k);this.node.appendChild(f);return this}function u(){if(\"linearGradient\"==this.type){var b=e(this.node,\"x1\")||0,d=e(this.node,\"x2\")||\n",
       "1,f=e(this.node,\"y1\")||0,k=e(this.node,\"y2\")||0;return a._.box(b,f,math.abs(d-b),math.abs(k-f))}b=this.node.r||0;return a._.box((this.node.cx||0.5)-b,(this.node.cy||0.5)-b,2*b,2*b)}function p(a,d){function f(a,b){for(var d=(b-u)/(a-w),e=w;e<a;e++)h[e].offset=+(+u+d*(e-w)).toFixed(2);w=a;u=b}var n=k(\"snap.util.grad.parse\",null,d).firstDefined(),p;if(!n)return null;n.params.unshift(a);p=\"l\"==n.type.toLowerCase()?b.apply(0,n.params):q.apply(0,n.params);n.type!=n.type.toLowerCase()&&e(p.node,{gradientUnits:\"userSpaceOnUse\"});\n",
       "var h=n.stops,n=h.length,u=0,w=0;n--;for(var v=0;v<n;v++)\"offset\"in h[v]&&f(v,h[v].offset);h[n].offset=h[n].offset||100;f(n,h[n].offset);for(v=0;v<=n;v++){var y=h[v];p.addStop(y.color,y.offset)}return p}function b(b,k,p,q,w){b=a._.make(\"linearGradient\",b);b.stops=d;b.addStop=n;b.getBBox=u;null!=k&&e(b.node,{x1:k,y1:p,x2:q,y2:w});return b}function q(b,k,p,q,w,h){b=a._.make(\"radialGradient\",b);b.stops=d;b.addStop=n;b.getBBox=u;null!=k&&e(b.node,{cx:k,cy:p,r:q});null!=w&&null!=h&&e(b.node,{fx:w,fy:h});\n",
       "return b}var e=a._.$;w.gradient=function(a){return p(this.defs,a)};w.gradientLinear=function(a,d,e,f){return b(this.defs,a,d,e,f)};w.gradientRadial=function(a,b,d,e,f){return q(this.defs,a,b,d,e,f)};w.toString=function(){var b=this.node.ownerDocument,d=b.createDocumentFragment(),b=b.createElement(\"div\"),e=this.node.cloneNode(!0);d.appendChild(b);b.appendChild(e);a._.$(e,{xmlns:\"http://www.w3.org/2000/svg\"});b=b.innerHTML;d.removeChild(d.firstChild);return b};w.clear=function(){for(var a=this.node.firstChild,\n",
       "b;a;)b=a.nextSibling,\"defs\"!=a.tagName?a.parentNode.removeChild(a):w.clear.call({node:a}),a=b}})()});C.plugin(function(a,k,y,M){function A(a){var b=A.ps=A.ps||{};b[a]?b[a].sleep=100:b[a]={sleep:100};setTimeout(function(){for(var d in b)b[L](d)&&d!=a&&(b[d].sleep--,!b[d].sleep&&delete b[d])});return b[a]}function w(a,b,d,e){null==a&&(a=b=d=e=0);null==b&&(b=a.y,d=a.width,e=a.height,a=a.x);return{x:a,y:b,width:d,w:d,height:e,h:e,x2:a+d,y2:b+e,cx:a+d/2,cy:b+e/2,r1:F.min(d,e)/2,r2:F.max(d,e)/2,r0:F.sqrt(d*\n",
       "d+e*e)/2,path:s(a,b,d,e),vb:[a,b,d,e].join(\" \")}}function z(){return this.join(\",\").replace(N,\"$1\")}function d(a){a=C(a);a.toString=z;return a}function f(a,b,d,h,f,k,l,n,p){if(null==p)return e(a,b,d,h,f,k,l,n);if(0>p||e(a,b,d,h,f,k,l,n)<p)p=void 0;else{var q=0.5,O=1-q,s;for(s=e(a,b,d,h,f,k,l,n,O);0.01<Z(s-p);)q/=2,O+=(s<p?1:-1)*q,s=e(a,b,d,h,f,k,l,n,O);p=O}return u(a,b,d,h,f,k,l,n,p)}function n(b,d){function e(a){return+(+a).toFixed(3)}return a._.cacher(function(a,h,l){a instanceof k&&(a=a.attr(\"d\"));\n",
       "a=I(a);for(var n,p,D,q,O=\"\",s={},c=0,t=0,r=a.length;t<r;t++){D=a[t];if(\"M\"==D[0])n=+D[1],p=+D[2];else{q=f(n,p,D[1],D[2],D[3],D[4],D[5],D[6]);if(c+q>h){if(d&&!s.start){n=f(n,p,D[1],D[2],D[3],D[4],D[5],D[6],h-c);O+=[\"C\"+e(n.start.x),e(n.start.y),e(n.m.x),e(n.m.y),e(n.x),e(n.y)];if(l)return O;s.start=O;O=[\"M\"+e(n.x),e(n.y)+\"C\"+e(n.n.x),e(n.n.y),e(n.end.x),e(n.end.y),e(D[5]),e(D[6])].join();c+=q;n=+D[5];p=+D[6];continue}if(!b&&!d)return n=f(n,p,D[1],D[2],D[3],D[4],D[5],D[6],h-c)}c+=q;n=+D[5];p=+D[6]}O+=\n",
       "D.shift()+D}s.end=O;return n=b?c:d?s:u(n,p,D[0],D[1],D[2],D[3],D[4],D[5],1)},null,a._.clone)}function u(a,b,d,e,h,f,k,l,n){var p=1-n,q=ma(p,3),s=ma(p,2),c=n*n,t=c*n,r=q*a+3*s*n*d+3*p*n*n*h+t*k,q=q*b+3*s*n*e+3*p*n*n*f+t*l,s=a+2*n*(d-a)+c*(h-2*d+a),t=b+2*n*(e-b)+c*(f-2*e+b),x=d+2*n*(h-d)+c*(k-2*h+d),c=e+2*n*(f-e)+c*(l-2*f+e);a=p*a+n*d;b=p*b+n*e;h=p*h+n*k;f=p*f+n*l;l=90-180*F.atan2(s-x,t-c)/S;return{x:r,y:q,m:{x:s,y:t},n:{x:x,y:c},start:{x:a,y:b},end:{x:h,y:f},alpha:l}}function p(b,d,e,h,f,n,k,l){a.is(b,\n",
       "\"array\")||(b=[b,d,e,h,f,n,k,l]);b=U.apply(null,b);return w(b.min.x,b.min.y,b.max.x-b.min.x,b.max.y-b.min.y)}function b(a,b,d){return b>=a.x&&b<=a.x+a.width&&d>=a.y&&d<=a.y+a.height}function q(a,d){a=w(a);d=w(d);return b(d,a.x,a.y)||b(d,a.x2,a.y)||b(d,a.x,a.y2)||b(d,a.x2,a.y2)||b(a,d.x,d.y)||b(a,d.x2,d.y)||b(a,d.x,d.y2)||b(a,d.x2,d.y2)||(a.x<d.x2&&a.x>d.x||d.x<a.x2&&d.x>a.x)&&(a.y<d.y2&&a.y>d.y||d.y<a.y2&&d.y>a.y)}function e(a,b,d,e,h,f,n,k,l){null==l&&(l=1);l=(1<l?1:0>l?0:l)/2;for(var p=[-0.1252,\n",
       "0.1252,-0.3678,0.3678,-0.5873,0.5873,-0.7699,0.7699,-0.9041,0.9041,-0.9816,0.9816],q=[0.2491,0.2491,0.2335,0.2335,0.2032,0.2032,0.1601,0.1601,0.1069,0.1069,0.0472,0.0472],s=0,c=0;12>c;c++)var t=l*p[c]+l,r=t*(t*(-3*a+9*d-9*h+3*n)+6*a-12*d+6*h)-3*a+3*d,t=t*(t*(-3*b+9*e-9*f+3*k)+6*b-12*e+6*f)-3*b+3*e,s=s+q[c]*F.sqrt(r*r+t*t);return l*s}function l(a,b,d){a=I(a);b=I(b);for(var h,f,l,n,k,s,r,O,x,c,t=d?0:[],w=0,v=a.length;w<v;w++)if(x=a[w],\"M\"==x[0])h=k=x[1],f=s=x[2];else{\"C\"==x[0]?(x=[h,f].concat(x.slice(1)),\n",
       "h=x[6],f=x[7]):(x=[h,f,h,f,k,s,k,s],h=k,f=s);for(var G=0,y=b.length;G<y;G++)if(c=b[G],\"M\"==c[0])l=r=c[1],n=O=c[2];else{\"C\"==c[0]?(c=[l,n].concat(c.slice(1)),l=c[6],n=c[7]):(c=[l,n,l,n,r,O,r,O],l=r,n=O);var z;var K=x,B=c;z=d;var H=p(K),J=p(B);if(q(H,J)){for(var H=e.apply(0,K),J=e.apply(0,B),H=~~(H/8),J=~~(J/8),U=[],A=[],F={},M=z?0:[],P=0;P<H+1;P++){var C=u.apply(0,K.concat(P/H));U.push({x:C.x,y:C.y,t:P/H})}for(P=0;P<J+1;P++)C=u.apply(0,B.concat(P/J)),A.push({x:C.x,y:C.y,t:P/J});for(P=0;P<H;P++)for(K=\n",
       "0;K<J;K++){var Q=U[P],L=U[P+1],B=A[K],C=A[K+1],N=0.001>Z(L.x-Q.x)?\"y\":\"x\",S=0.001>Z(C.x-B.x)?\"y\":\"x\",R;R=Q.x;var Y=Q.y,V=L.x,ea=L.y,fa=B.x,ga=B.y,ha=C.x,ia=C.y;if(W(R,V)<X(fa,ha)||X(R,V)>W(fa,ha)||W(Y,ea)<X(ga,ia)||X(Y,ea)>W(ga,ia))R=void 0;else{var $=(R*ea-Y*V)*(fa-ha)-(R-V)*(fa*ia-ga*ha),aa=(R*ea-Y*V)*(ga-ia)-(Y-ea)*(fa*ia-ga*ha),ja=(R-V)*(ga-ia)-(Y-ea)*(fa-ha);if(ja){var $=$/ja,aa=aa/ja,ja=+$.toFixed(2),ba=+aa.toFixed(2);R=ja<+X(R,V).toFixed(2)||ja>+W(R,V).toFixed(2)||ja<+X(fa,ha).toFixed(2)||\n",
       "ja>+W(fa,ha).toFixed(2)||ba<+X(Y,ea).toFixed(2)||ba>+W(Y,ea).toFixed(2)||ba<+X(ga,ia).toFixed(2)||ba>+W(ga,ia).toFixed(2)?void 0:{x:$,y:aa}}else R=void 0}R&&F[R.x.toFixed(4)]!=R.y.toFixed(4)&&(F[R.x.toFixed(4)]=R.y.toFixed(4),Q=Q.t+Z((R[N]-Q[N])/(L[N]-Q[N]))*(L.t-Q.t),B=B.t+Z((R[S]-B[S])/(C[S]-B[S]))*(C.t-B.t),0<=Q&&1>=Q&&0<=B&&1>=B&&(z?M++:M.push({x:R.x,y:R.y,t1:Q,t2:B})))}z=M}else z=z?0:[];if(d)t+=z;else{H=0;for(J=z.length;H<J;H++)z[H].segment1=w,z[H].segment2=G,z[H].bez1=x,z[H].bez2=c;t=t.concat(z)}}}return t}\n",
       "function r(a){var b=A(a);if(b.bbox)return C(b.bbox);if(!a)return w();a=I(a);for(var d=0,e=0,h=[],f=[],l,n=0,k=a.length;n<k;n++)l=a[n],\"M\"==l[0]?(d=l[1],e=l[2],h.push(d),f.push(e)):(d=U(d,e,l[1],l[2],l[3],l[4],l[5],l[6]),h=h.concat(d.min.x,d.max.x),f=f.concat(d.min.y,d.max.y),d=l[5],e=l[6]);a=X.apply(0,h);l=X.apply(0,f);h=W.apply(0,h);f=W.apply(0,f);f=w(a,l,h-a,f-l);b.bbox=C(f);return f}function s(a,b,d,e,h){if(h)return[[\"M\",+a+ +h,b],[\"l\",d-2*h,0],[\"a\",h,h,0,0,1,h,h],[\"l\",0,e-2*h],[\"a\",h,h,0,0,1,\n",
       "-h,h],[\"l\",2*h-d,0],[\"a\",h,h,0,0,1,-h,-h],[\"l\",0,2*h-e],[\"a\",h,h,0,0,1,h,-h],[\"z\"] ];a=[[\"M\",a,b],[\"l\",d,0],[\"l\",0,e],[\"l\",-d,0],[\"z\"] ];a.toString=z;return a}function x(a,b,d,e,h){null==h&&null==e&&(e=d);a=+a;b=+b;d=+d;e=+e;if(null!=h){var f=Math.PI/180,l=a+d*Math.cos(-e*f);a+=d*Math.cos(-h*f);var n=b+d*Math.sin(-e*f);b+=d*Math.sin(-h*f);d=[[\"M\",l,n],[\"A\",d,d,0,+(180<h-e),0,a,b] ]}else d=[[\"M\",a,b],[\"m\",0,-e],[\"a\",d,e,0,1,1,0,2*e],[\"a\",d,e,0,1,1,0,-2*e],[\"z\"] ];d.toString=z;return d}function G(b){var e=\n",
       "A(b);if(e.abs)return d(e.abs);Q(b,\"array\")&&Q(b&&b[0],\"array\")||(b=a.parsePathString(b));if(!b||!b.length)return[[\"M\",0,0] ];var h=[],f=0,l=0,n=0,k=0,p=0;\"M\"==b[0][0]&&(f=+b[0][1],l=+b[0][2],n=f,k=l,p++,h[0]=[\"M\",f,l]);for(var q=3==b.length&&\"M\"==b[0][0]&&\"R\"==b[1][0].toUpperCase()&&\"Z\"==b[2][0].toUpperCase(),s,r,w=p,c=b.length;w<c;w++){h.push(s=[]);r=b[w];p=r[0];if(p!=p.toUpperCase())switch(s[0]=p.toUpperCase(),s[0]){case \"A\":s[1]=r[1];s[2]=r[2];s[3]=r[3];s[4]=r[4];s[5]=r[5];s[6]=+r[6]+f;s[7]=+r[7]+\n",
       "l;break;case \"V\":s[1]=+r[1]+l;break;case \"H\":s[1]=+r[1]+f;break;case \"R\":for(var t=[f,l].concat(r.slice(1)),u=2,v=t.length;u<v;u++)t[u]=+t[u]+f,t[++u]=+t[u]+l;h.pop();h=h.concat(P(t,q));break;case \"O\":h.pop();t=x(f,l,r[1],r[2]);t.push(t[0]);h=h.concat(t);break;case \"U\":h.pop();h=h.concat(x(f,l,r[1],r[2],r[3]));s=[\"U\"].concat(h[h.length-1].slice(-2));break;case \"M\":n=+r[1]+f,k=+r[2]+l;default:for(u=1,v=r.length;u<v;u++)s[u]=+r[u]+(u%2?f:l)}else if(\"R\"==p)t=[f,l].concat(r.slice(1)),h.pop(),h=h.concat(P(t,\n",
       "q)),s=[\"R\"].concat(r.slice(-2));else if(\"O\"==p)h.pop(),t=x(f,l,r[1],r[2]),t.push(t[0]),h=h.concat(t);else if(\"U\"==p)h.pop(),h=h.concat(x(f,l,r[1],r[2],r[3])),s=[\"U\"].concat(h[h.length-1].slice(-2));else for(t=0,u=r.length;t<u;t++)s[t]=r[t];p=p.toUpperCase();if(\"O\"!=p)switch(s[0]){case \"Z\":f=+n;l=+k;break;case \"H\":f=s[1];break;case \"V\":l=s[1];break;case \"M\":n=s[s.length-2],k=s[s.length-1];default:f=s[s.length-2],l=s[s.length-1]}}h.toString=z;e.abs=d(h);return h}function h(a,b,d,e){return[a,b,d,e,d,\n",
       "e]}function J(a,b,d,e,h,f){var l=1/3,n=2/3;return[l*a+n*d,l*b+n*e,l*h+n*d,l*f+n*e,h,f]}function K(b,d,e,h,f,l,n,k,p,s){var r=120*S/180,q=S/180*(+f||0),c=[],t,x=a._.cacher(function(a,b,c){var d=a*F.cos(c)-b*F.sin(c);a=a*F.sin(c)+b*F.cos(c);return{x:d,y:a}});if(s)v=s[0],t=s[1],l=s[2],u=s[3];else{t=x(b,d,-q);b=t.x;d=t.y;t=x(k,p,-q);k=t.x;p=t.y;F.cos(S/180*f);F.sin(S/180*f);t=(b-k)/2;v=(d-p)/2;u=t*t/(e*e)+v*v/(h*h);1<u&&(u=F.sqrt(u),e*=u,h*=u);var u=e*e,w=h*h,u=(l==n?-1:1)*F.sqrt(Z((u*w-u*v*v-w*t*t)/\n",
       "(u*v*v+w*t*t)));l=u*e*v/h+(b+k)/2;var u=u*-h*t/e+(d+p)/2,v=F.asin(((d-u)/h).toFixed(9));t=F.asin(((p-u)/h).toFixed(9));v=b<l?S-v:v;t=k<l?S-t:t;0>v&&(v=2*S+v);0>t&&(t=2*S+t);n&&v>t&&(v-=2*S);!n&&t>v&&(t-=2*S)}if(Z(t-v)>r){var c=t,w=k,G=p;t=v+r*(n&&t>v?1:-1);k=l+e*F.cos(t);p=u+h*F.sin(t);c=K(k,p,e,h,f,0,n,w,G,[t,c,l,u])}l=t-v;f=F.cos(v);r=F.sin(v);n=F.cos(t);t=F.sin(t);l=F.tan(l/4);e=4/3*e*l;l*=4/3*h;h=[b,d];b=[b+e*r,d-l*f];d=[k+e*t,p-l*n];k=[k,p];b[0]=2*h[0]-b[0];b[1]=2*h[1]-b[1];if(s)return[b,d,k].concat(c);\n",
       "c=[b,d,k].concat(c).join().split(\",\");s=[];k=0;for(p=c.length;k<p;k++)s[k]=k%2?x(c[k-1],c[k],q).y:x(c[k],c[k+1],q).x;return s}function U(a,b,d,e,h,f,l,k){for(var n=[],p=[[],[] ],s,r,c,t,q=0;2>q;++q)0==q?(r=6*a-12*d+6*h,s=-3*a+9*d-9*h+3*l,c=3*d-3*a):(r=6*b-12*e+6*f,s=-3*b+9*e-9*f+3*k,c=3*e-3*b),1E-12>Z(s)?1E-12>Z(r)||(s=-c/r,0<s&&1>s&&n.push(s)):(t=r*r-4*c*s,c=F.sqrt(t),0>t||(t=(-r+c)/(2*s),0<t&&1>t&&n.push(t),s=(-r-c)/(2*s),0<s&&1>s&&n.push(s)));for(r=q=n.length;q--;)s=n[q],c=1-s,p[0][q]=c*c*c*a+3*\n",
       "c*c*s*d+3*c*s*s*h+s*s*s*l,p[1][q]=c*c*c*b+3*c*c*s*e+3*c*s*s*f+s*s*s*k;p[0][r]=a;p[1][r]=b;p[0][r+1]=l;p[1][r+1]=k;p[0].length=p[1].length=r+2;return{min:{x:X.apply(0,p[0]),y:X.apply(0,p[1])},max:{x:W.apply(0,p[0]),y:W.apply(0,p[1])}}}function I(a,b){var e=!b&&A(a);if(!b&&e.curve)return d(e.curve);var f=G(a),l=b&&G(b),n={x:0,y:0,bx:0,by:0,X:0,Y:0,qx:null,qy:null},k={x:0,y:0,bx:0,by:0,X:0,Y:0,qx:null,qy:null},p=function(a,b,c){if(!a)return[\"C\",b.x,b.y,b.x,b.y,b.x,b.y];a[0]in{T:1,Q:1}||(b.qx=b.qy=null);\n",
       "switch(a[0]){case \"M\":b.X=a[1];b.Y=a[2];break;case \"A\":a=[\"C\"].concat(K.apply(0,[b.x,b.y].concat(a.slice(1))));break;case \"S\":\"C\"==c||\"S\"==c?(c=2*b.x-b.bx,b=2*b.y-b.by):(c=b.x,b=b.y);a=[\"C\",c,b].concat(a.slice(1));break;case \"T\":\"Q\"==c||\"T\"==c?(b.qx=2*b.x-b.qx,b.qy=2*b.y-b.qy):(b.qx=b.x,b.qy=b.y);a=[\"C\"].concat(J(b.x,b.y,b.qx,b.qy,a[1],a[2]));break;case \"Q\":b.qx=a[1];b.qy=a[2];a=[\"C\"].concat(J(b.x,b.y,a[1],a[2],a[3],a[4]));break;case \"L\":a=[\"C\"].concat(h(b.x,b.y,a[1],a[2]));break;case \"H\":a=[\"C\"].concat(h(b.x,\n",
       "b.y,a[1],b.y));break;case \"V\":a=[\"C\"].concat(h(b.x,b.y,b.x,a[1]));break;case \"Z\":a=[\"C\"].concat(h(b.x,b.y,b.X,b.Y))}return a},s=function(a,b){if(7<a[b].length){a[b].shift();for(var c=a[b];c.length;)q[b]=\"A\",l&&(u[b]=\"A\"),a.splice(b++,0,[\"C\"].concat(c.splice(0,6)));a.splice(b,1);v=W(f.length,l&&l.length||0)}},r=function(a,b,c,d,e){a&&b&&\"M\"==a[e][0]&&\"M\"!=b[e][0]&&(b.splice(e,0,[\"M\",d.x,d.y]),c.bx=0,c.by=0,c.x=a[e][1],c.y=a[e][2],v=W(f.length,l&&l.length||0))},q=[],u=[],c=\"\",t=\"\",x=0,v=W(f.length,\n",
       "l&&l.length||0);for(;x<v;x++){f[x]&&(c=f[x][0]);\"C\"!=c&&(q[x]=c,x&&(t=q[x-1]));f[x]=p(f[x],n,t);\"A\"!=q[x]&&\"C\"==c&&(q[x]=\"C\");s(f,x);l&&(l[x]&&(c=l[x][0]),\"C\"!=c&&(u[x]=c,x&&(t=u[x-1])),l[x]=p(l[x],k,t),\"A\"!=u[x]&&\"C\"==c&&(u[x]=\"C\"),s(l,x));r(f,l,n,k,x);r(l,f,k,n,x);var w=f[x],z=l&&l[x],y=w.length,U=l&&z.length;n.x=w[y-2];n.y=w[y-1];n.bx=$(w[y-4])||n.x;n.by=$(w[y-3])||n.y;k.bx=l&&($(z[U-4])||k.x);k.by=l&&($(z[U-3])||k.y);k.x=l&&z[U-2];k.y=l&&z[U-1]}l||(e.curve=d(f));return l?[f,l]:f}function P(a,\n",
       "b){for(var d=[],e=0,h=a.length;h-2*!b>e;e+=2){var f=[{x:+a[e-2],y:+a[e-1]},{x:+a[e],y:+a[e+1]},{x:+a[e+2],y:+a[e+3]},{x:+a[e+4],y:+a[e+5]}];b?e?h-4==e?f[3]={x:+a[0],y:+a[1]}:h-2==e&&(f[2]={x:+a[0],y:+a[1]},f[3]={x:+a[2],y:+a[3]}):f[0]={x:+a[h-2],y:+a[h-1]}:h-4==e?f[3]=f[2]:e||(f[0]={x:+a[e],y:+a[e+1]});d.push([\"C\",(-f[0].x+6*f[1].x+f[2].x)/6,(-f[0].y+6*f[1].y+f[2].y)/6,(f[1].x+6*f[2].x-f[3].x)/6,(f[1].y+6*f[2].y-f[3].y)/6,f[2].x,f[2].y])}return d}y=k.prototype;var Q=a.is,C=a._.clone,L=\"hasOwnProperty\",\n",
       "N=/,?([a-z]),?/gi,$=parseFloat,F=Math,S=F.PI,X=F.min,W=F.max,ma=F.pow,Z=F.abs;M=n(1);var na=n(),ba=n(0,1),V=a._unit2px;a.path=A;a.path.getTotalLength=M;a.path.getPointAtLength=na;a.path.getSubpath=function(a,b,d){if(1E-6>this.getTotalLength(a)-d)return ba(a,b).end;a=ba(a,d,1);return b?ba(a,b).end:a};y.getTotalLength=function(){if(this.node.getTotalLength)return this.node.getTotalLength()};y.getPointAtLength=function(a){return na(this.attr(\"d\"),a)};y.getSubpath=function(b,d){return a.path.getSubpath(this.attr(\"d\"),\n",
       "b,d)};a._.box=w;a.path.findDotsAtSegment=u;a.path.bezierBBox=p;a.path.isPointInsideBBox=b;a.path.isBBoxIntersect=q;a.path.intersection=function(a,b){return l(a,b)};a.path.intersectionNumber=function(a,b){return l(a,b,1)};a.path.isPointInside=function(a,d,e){var h=r(a);return b(h,d,e)&&1==l(a,[[\"M\",d,e],[\"H\",h.x2+10] ],1)%2};a.path.getBBox=r;a.path.get={path:function(a){return a.attr(\"path\")},circle:function(a){a=V(a);return x(a.cx,a.cy,a.r)},ellipse:function(a){a=V(a);return x(a.cx||0,a.cy||0,a.rx,\n",
       "a.ry)},rect:function(a){a=V(a);return s(a.x||0,a.y||0,a.width,a.height,a.rx,a.ry)},image:function(a){a=V(a);return s(a.x||0,a.y||0,a.width,a.height)},line:function(a){return\"M\"+[a.attr(\"x1\")||0,a.attr(\"y1\")||0,a.attr(\"x2\"),a.attr(\"y2\")]},polyline:function(a){return\"M\"+a.attr(\"points\")},polygon:function(a){return\"M\"+a.attr(\"points\")+\"z\"},deflt:function(a){a=a.node.getBBox();return s(a.x,a.y,a.width,a.height)}};a.path.toRelative=function(b){var e=A(b),h=String.prototype.toLowerCase;if(e.rel)return d(e.rel);\n",
       "a.is(b,\"array\")&&a.is(b&&b[0],\"array\")||(b=a.parsePathString(b));var f=[],l=0,n=0,k=0,p=0,s=0;\"M\"==b[0][0]&&(l=b[0][1],n=b[0][2],k=l,p=n,s++,f.push([\"M\",l,n]));for(var r=b.length;s<r;s++){var q=f[s]=[],x=b[s];if(x[0]!=h.call(x[0]))switch(q[0]=h.call(x[0]),q[0]){case \"a\":q[1]=x[1];q[2]=x[2];q[3]=x[3];q[4]=x[4];q[5]=x[5];q[6]=+(x[6]-l).toFixed(3);q[7]=+(x[7]-n).toFixed(3);break;case \"v\":q[1]=+(x[1]-n).toFixed(3);break;case \"m\":k=x[1],p=x[2];default:for(var c=1,t=x.length;c<t;c++)q[c]=+(x[c]-(c%2?l:\n",
       "n)).toFixed(3)}else for(f[s]=[],\"m\"==x[0]&&(k=x[1]+l,p=x[2]+n),q=0,c=x.length;q<c;q++)f[s][q]=x[q];x=f[s].length;switch(f[s][0]){case \"z\":l=k;n=p;break;case \"h\":l+=+f[s][x-1];break;case \"v\":n+=+f[s][x-1];break;default:l+=+f[s][x-2],n+=+f[s][x-1]}}f.toString=z;e.rel=d(f);return f};a.path.toAbsolute=G;a.path.toCubic=I;a.path.map=function(a,b){if(!b)return a;var d,e,h,f,l,n,k;a=I(a);h=0;for(l=a.length;h<l;h++)for(k=a[h],f=1,n=k.length;f<n;f+=2)d=b.x(k[f],k[f+1]),e=b.y(k[f],k[f+1]),k[f]=d,k[f+1]=e;return a};\n",
       "a.path.toString=z;a.path.clone=d});C.plugin(function(a,v,y,C){var A=Math.max,w=Math.min,z=function(a){this.items=[];this.bindings={};this.length=0;this.type=\"set\";if(a)for(var f=0,n=a.length;f<n;f++)a[f]&&(this[this.items.length]=this.items[this.items.length]=a[f],this.length++)};v=z.prototype;v.push=function(){for(var a,f,n=0,k=arguments.length;n<k;n++)if(a=arguments[n])f=this.items.length,this[f]=this.items[f]=a,this.length++;return this};v.pop=function(){this.length&&delete this[this.length--];\n",
       "return this.items.pop()};v.forEach=function(a,f){for(var n=0,k=this.items.length;n<k&&!1!==a.call(f,this.items[n],n);n++);return this};v.animate=function(d,f,n,u){\"function\"!=typeof n||n.length||(u=n,n=L.linear);d instanceof a._.Animation&&(u=d.callback,n=d.easing,f=n.dur,d=d.attr);var p=arguments;if(a.is(d,\"array\")&&a.is(p[p.length-1],\"array\"))var b=!0;var q,e=function(){q?this.b=q:q=this.b},l=0,r=u&&function(){l++==this.length&&u.call(this)};return this.forEach(function(a,l){k.once(\"snap.animcreated.\"+\n",
       "a.id,e);b?p[l]&&a.animate.apply(a,p[l]):a.animate(d,f,n,r)})};v.remove=function(){for(;this.length;)this.pop().remove();return this};v.bind=function(a,f,k){var u={};if(\"function\"==typeof f)this.bindings[a]=f;else{var p=k||a;this.bindings[a]=function(a){u[p]=a;f.attr(u)}}return this};v.attr=function(a){var f={},k;for(k in a)if(this.bindings[k])this.bindings[k](a[k]);else f[k]=a[k];a=0;for(k=this.items.length;a<k;a++)this.items[a].attr(f);return this};v.clear=function(){for(;this.length;)this.pop()};\n",
       "v.splice=function(a,f,k){a=0>a?A(this.length+a,0):a;f=A(0,w(this.length-a,f));var u=[],p=[],b=[],q;for(q=2;q<arguments.length;q++)b.push(arguments[q]);for(q=0;q<f;q++)p.push(this[a+q]);for(;q<this.length-a;q++)u.push(this[a+q]);var e=b.length;for(q=0;q<e+u.length;q++)this.items[a+q]=this[a+q]=q<e?b[q]:u[q-e];for(q=this.items.length=this.length-=f-e;this[q];)delete this[q++];return new z(p)};v.exclude=function(a){for(var f=0,k=this.length;f<k;f++)if(this[f]==a)return this.splice(f,1),!0;return!1};\n",
       "v.insertAfter=function(a){for(var f=this.items.length;f--;)this.items[f].insertAfter(a);return this};v.getBBox=function(){for(var a=[],f=[],k=[],u=[],p=this.items.length;p--;)if(!this.items[p].removed){var b=this.items[p].getBBox();a.push(b.x);f.push(b.y);k.push(b.x+b.width);u.push(b.y+b.height)}a=w.apply(0,a);f=w.apply(0,f);k=A.apply(0,k);u=A.apply(0,u);return{x:a,y:f,x2:k,y2:u,width:k-a,height:u-f,cx:a+(k-a)/2,cy:f+(u-f)/2}};v.clone=function(a){a=new z;for(var f=0,k=this.items.length;f<k;f++)a.push(this.items[f].clone());\n",
       "return a};v.toString=function(){return\"Snap\\u2018s set\"};v.type=\"set\";a.set=function(){var a=new z;arguments.length&&a.push.apply(a,Array.prototype.slice.call(arguments,0));return a}});C.plugin(function(a,v,y,C){function A(a){var b=a[0];switch(b.toLowerCase()){case \"t\":return[b,0,0];case \"m\":return[b,1,0,0,1,0,0];case \"r\":return 4==a.length?[b,0,a[2],a[3] ]:[b,0];case \"s\":return 5==a.length?[b,1,1,a[3],a[4] ]:3==a.length?[b,1,1]:[b,1]}}function w(b,d,f){d=q(d).replace(/\\.{3}|\\u2026/g,b);b=a.parseTransformString(b)||\n",
       "[];d=a.parseTransformString(d)||[];for(var k=Math.max(b.length,d.length),p=[],v=[],h=0,w,z,y,I;h<k;h++){y=b[h]||A(d[h]);I=d[h]||A(y);if(y[0]!=I[0]||\"r\"==y[0].toLowerCase()&&(y[2]!=I[2]||y[3]!=I[3])||\"s\"==y[0].toLowerCase()&&(y[3]!=I[3]||y[4]!=I[4])){b=a._.transform2matrix(b,f());d=a._.transform2matrix(d,f());p=[[\"m\",b.a,b.b,b.c,b.d,b.e,b.f] ];v=[[\"m\",d.a,d.b,d.c,d.d,d.e,d.f] ];break}p[h]=[];v[h]=[];w=0;for(z=Math.max(y.length,I.length);w<z;w++)w in y&&(p[h][w]=y[w]),w in I&&(v[h][w]=I[w])}return{from:u(p),\n",
       "to:u(v),f:n(p)}}function z(a){return a}function d(a){return function(b){return+b.toFixed(3)+a}}function f(b){return a.rgb(b[0],b[1],b[2])}function n(a){var b=0,d,f,k,n,h,p,q=[];d=0;for(f=a.length;d<f;d++){h=\"[\";p=['\"'+a[d][0]+'\"'];k=1;for(n=a[d].length;k<n;k++)p[k]=\"val[\"+b++ +\"]\";h+=p+\"]\";q[d]=h}return Function(\"val\",\"return Snap.path.toString.call([\"+q+\"])\")}function u(a){for(var b=[],d=0,f=a.length;d<f;d++)for(var k=1,n=a[d].length;k<n;k++)b.push(a[d][k]);return b}var p={},b=/[a-z]+$/i,q=String;\n",
       "p.stroke=p.fill=\"colour\";v.prototype.equal=function(a,b){return k(\"snap.util.equal\",this,a,b).firstDefined()};k.on(\"snap.util.equal\",function(e,k){var r,s;r=q(this.attr(e)||\"\");var x=this;if(r==+r&&k==+k)return{from:+r,to:+k,f:z};if(\"colour\"==p[e])return r=a.color(r),s=a.color(k),{from:[r.r,r.g,r.b,r.opacity],to:[s.r,s.g,s.b,s.opacity],f:f};if(\"transform\"==e||\"gradientTransform\"==e||\"patternTransform\"==e)return k instanceof a.Matrix&&(k=k.toTransformString()),a._.rgTransform.test(k)||(k=a._.svgTransform2string(k)),\n",
       "w(r,k,function(){return x.getBBox(1)});if(\"d\"==e||\"path\"==e)return r=a.path.toCubic(r,k),{from:u(r[0]),to:u(r[1]),f:n(r[0])};if(\"points\"==e)return r=q(r).split(a._.separator),s=q(k).split(a._.separator),{from:r,to:s,f:function(a){return a}};aUnit=r.match(b);s=q(k).match(b);return aUnit&&aUnit==s?{from:parseFloat(r),to:parseFloat(k),f:d(aUnit)}:{from:this.asPX(e),to:this.asPX(e,k),f:z}})});C.plugin(function(a,v,y,C){var A=v.prototype,w=\"createTouch\"in C.doc;v=\"click dblclick mousedown mousemove mouseout mouseover mouseup touchstart touchmove touchend touchcancel\".split(\" \");\n",
       "var z={mousedown:\"touchstart\",mousemove:\"touchmove\",mouseup:\"touchend\"},d=function(a,b){var d=\"y\"==a?\"scrollTop\":\"scrollLeft\",e=b&&b.node?b.node.ownerDocument:C.doc;return e[d in e.documentElement?\"documentElement\":\"body\"][d]},f=function(){this.returnValue=!1},n=function(){return this.originalEvent.preventDefault()},u=function(){this.cancelBubble=!0},p=function(){return this.originalEvent.stopPropagation()},b=function(){if(C.doc.addEventListener)return function(a,b,e,f){var k=w&&z[b]?z[b]:b,l=function(k){var l=\n",
       "d(\"y\",f),q=d(\"x\",f);if(w&&z.hasOwnProperty(b))for(var r=0,u=k.targetTouches&&k.targetTouches.length;r<u;r++)if(k.targetTouches[r].target==a||a.contains(k.targetTouches[r].target)){u=k;k=k.targetTouches[r];k.originalEvent=u;k.preventDefault=n;k.stopPropagation=p;break}return e.call(f,k,k.clientX+q,k.clientY+l)};b!==k&&a.addEventListener(b,l,!1);a.addEventListener(k,l,!1);return function(){b!==k&&a.removeEventListener(b,l,!1);a.removeEventListener(k,l,!1);return!0}};if(C.doc.attachEvent)return function(a,\n",
       "b,e,h){var k=function(a){a=a||h.node.ownerDocument.window.event;var b=d(\"y\",h),k=d(\"x\",h),k=a.clientX+k,b=a.clientY+b;a.preventDefault=a.preventDefault||f;a.stopPropagation=a.stopPropagation||u;return e.call(h,a,k,b)};a.attachEvent(\"on\"+b,k);return function(){a.detachEvent(\"on\"+b,k);return!0}}}(),q=[],e=function(a){for(var b=a.clientX,e=a.clientY,f=d(\"y\"),l=d(\"x\"),n,p=q.length;p--;){n=q[p];if(w)for(var r=a.touches&&a.touches.length,u;r--;){if(u=a.touches[r],u.identifier==n.el._drag.id||n.el.node.contains(u.target)){b=\n",
       "u.clientX;e=u.clientY;(a.originalEvent?a.originalEvent:a).preventDefault();break}}else a.preventDefault();b+=l;e+=f;k(\"snap.drag.move.\"+n.el.id,n.move_scope||n.el,b-n.el._drag.x,e-n.el._drag.y,b,e,a)}},l=function(b){a.unmousemove(e).unmouseup(l);for(var d=q.length,f;d--;)f=q[d],f.el._drag={},k(\"snap.drag.end.\"+f.el.id,f.end_scope||f.start_scope||f.move_scope||f.el,b);q=[]};for(y=v.length;y--;)(function(d){a[d]=A[d]=function(e,f){a.is(e,\"function\")&&(this.events=this.events||[],this.events.push({name:d,\n",
       "f:e,unbind:b(this.node||document,d,e,f||this)}));return this};a[\"un\"+d]=A[\"un\"+d]=function(a){for(var b=this.events||[],e=b.length;e--;)if(b[e].name==d&&(b[e].f==a||!a)){b[e].unbind();b.splice(e,1);!b.length&&delete this.events;break}return this}})(v[y]);A.hover=function(a,b,d,e){return this.mouseover(a,d).mouseout(b,e||d)};A.unhover=function(a,b){return this.unmouseover(a).unmouseout(b)};var r=[];A.drag=function(b,d,f,h,n,p){function u(r,v,w){(r.originalEvent||r).preventDefault();this._drag.x=v;\n",
       "this._drag.y=w;this._drag.id=r.identifier;!q.length&&a.mousemove(e).mouseup(l);q.push({el:this,move_scope:h,start_scope:n,end_scope:p});d&&k.on(\"snap.drag.start.\"+this.id,d);b&&k.on(\"snap.drag.move.\"+this.id,b);f&&k.on(\"snap.drag.end.\"+this.id,f);k(\"snap.drag.start.\"+this.id,n||h||this,v,w,r)}if(!arguments.length){var v;return this.drag(function(a,b){this.attr({transform:v+(v?\"T\":\"t\")+[a,b]})},function(){v=this.transform().local})}this._drag={};r.push({el:this,start:u});this.mousedown(u);return this};\n",
       "A.undrag=function(){for(var b=r.length;b--;)r[b].el==this&&(this.unmousedown(r[b].start),r.splice(b,1),k.unbind(\"snap.drag.*.\"+this.id));!r.length&&a.unmousemove(e).unmouseup(l);return this}});C.plugin(function(a,v,y,C){y=y.prototype;var A=/^\\s*url\\((.+)\\)/,w=String,z=a._.$;a.filter={};y.filter=function(d){var f=this;\"svg\"!=f.type&&(f=f.paper);d=a.parse(w(d));var k=a._.id(),u=z(\"filter\");z(u,{id:k,filterUnits:\"userSpaceOnUse\"});u.appendChild(d.node);f.defs.appendChild(u);return new v(u)};k.on(\"snap.util.getattr.filter\",\n",
       "function(){k.stop();var d=z(this.node,\"filter\");if(d)return(d=w(d).match(A))&&a.select(d[1])});k.on(\"snap.util.attr.filter\",function(d){if(d instanceof v&&\"filter\"==d.type){k.stop();var f=d.node.id;f||(z(d.node,{id:d.id}),f=d.id);z(this.node,{filter:a.url(f)})}d&&\"none\"!=d||(k.stop(),this.node.removeAttribute(\"filter\"))});a.filter.blur=function(d,f){null==d&&(d=2);return a.format('<feGaussianBlur stdDeviation=\"{def}\"/>',{def:null==f?d:[d,f]})};a.filter.blur.toString=function(){return this()};a.filter.shadow=\n",
       "function(d,f,k,u,p){\"string\"==typeof k&&(p=u=k,k=4);\"string\"!=typeof u&&(p=u,u=\"#000\");null==k&&(k=4);null==p&&(p=1);null==d&&(d=0,f=2);null==f&&(f=d);u=a.color(u||\"#000\");return a.format('<feGaussianBlur in=\"SourceAlpha\" stdDeviation=\"{blur}\"/><feOffset dx=\"{dx}\" dy=\"{dy}\" result=\"offsetblur\"/><feFlood flood-color=\"{color}\"/><feComposite in2=\"offsetblur\" operator=\"in\"/><feComponentTransfer><feFuncA type=\"linear\" slope=\"{opacity}\"/></feComponentTransfer><feMerge><feMergeNode/><feMergeNode in=\"SourceGraphic\"/></feMerge>',\n",
       "{color:u,dx:d,dy:f,blur:k,opacity:p})};a.filter.shadow.toString=function(){return this()};a.filter.grayscale=function(d){null==d&&(d=1);return a.format('<feColorMatrix type=\"matrix\" values=\"{a} {b} {c} 0 0 {d} {e} {f} 0 0 {g} {b} {h} 0 0 0 0 0 1 0\"/>',{a:0.2126+0.7874*(1-d),b:0.7152-0.7152*(1-d),c:0.0722-0.0722*(1-d),d:0.2126-0.2126*(1-d),e:0.7152+0.2848*(1-d),f:0.0722-0.0722*(1-d),g:0.2126-0.2126*(1-d),h:0.0722+0.9278*(1-d)})};a.filter.grayscale.toString=function(){return this()};a.filter.sepia=\n",
       "function(d){null==d&&(d=1);return a.format('<feColorMatrix type=\"matrix\" values=\"{a} {b} {c} 0 0 {d} {e} {f} 0 0 {g} {h} {i} 0 0 0 0 0 1 0\"/>',{a:0.393+0.607*(1-d),b:0.769-0.769*(1-d),c:0.189-0.189*(1-d),d:0.349-0.349*(1-d),e:0.686+0.314*(1-d),f:0.168-0.168*(1-d),g:0.272-0.272*(1-d),h:0.534-0.534*(1-d),i:0.131+0.869*(1-d)})};a.filter.sepia.toString=function(){return this()};a.filter.saturate=function(d){null==d&&(d=1);return a.format('<feColorMatrix type=\"saturate\" values=\"{amount}\"/>',{amount:1-\n",
       "d})};a.filter.saturate.toString=function(){return this()};a.filter.hueRotate=function(d){return a.format('<feColorMatrix type=\"hueRotate\" values=\"{angle}\"/>',{angle:d||0})};a.filter.hueRotate.toString=function(){return this()};a.filter.invert=function(d){null==d&&(d=1);return a.format('<feComponentTransfer><feFuncR type=\"table\" tableValues=\"{amount} {amount2}\"/><feFuncG type=\"table\" tableValues=\"{amount} {amount2}\"/><feFuncB type=\"table\" tableValues=\"{amount} {amount2}\"/></feComponentTransfer>',{amount:d,\n",
       "amount2:1-d})};a.filter.invert.toString=function(){return this()};a.filter.brightness=function(d){null==d&&(d=1);return a.format('<feComponentTransfer><feFuncR type=\"linear\" slope=\"{amount}\"/><feFuncG type=\"linear\" slope=\"{amount}\"/><feFuncB type=\"linear\" slope=\"{amount}\"/></feComponentTransfer>',{amount:d})};a.filter.brightness.toString=function(){return this()};a.filter.contrast=function(d){null==d&&(d=1);return a.format('<feComponentTransfer><feFuncR type=\"linear\" slope=\"{amount}\" intercept=\"{amount2}\"/><feFuncG type=\"linear\" slope=\"{amount}\" intercept=\"{amount2}\"/><feFuncB type=\"linear\" slope=\"{amount}\" intercept=\"{amount2}\"/></feComponentTransfer>',\n",
       "{amount:d,amount2:0.5-d/2})};a.filter.contrast.toString=function(){return this()}});return C});\n",
       "\n",
       "]]> </script>\n",
       "</svg>\n"
      ],
      "text/plain": [
       "Context(BBox{l,t,r,b,w,h = 0.0w,0.0h, 1.0w,1.0h, 1.0w,1.0h}, UnitBox{Float64, Float64, Float64, Float64}(-1.2, -1.2, 2.4, 2.4, 0.0mm, 0.0mm, 0.0mm, 0.0mm), nothing, nothing, nothing, List([Context(BBox{l,t,r,b,w,h = 0.0w,0.0h, 1.0w,1.0h, 1.0w,1.0h}, nothing, nothing, nothing, nothing, List([]), List([Compose.Form{Compose.LinePrimitive}(Compose.LinePrimitive[Compose.LinePrimitive{Tuple{Measure, Measure}}(Tuple{Measure, Measure}[(0.08838834764831888cx, -0.9116116523516815cy), (0.9116116523516815cx, -0.08838834764831843cy)]), Compose.LinePrimitive{Tuple{Measure, Measure}}(Tuple{Measure, Measure}[(-0.08838834764831803cx, -0.9116116523516816cy), (-0.9116116523516815cx, -0.08838834764831849cy)]), Compose.LinePrimitive{Tuple{Measure, Measure}}(Tuple{Measure, Measure}[(0.9116116523516815cx, 0.08838834764831845cy), (0.08838834764831831cx, 0.9116116523516815cy)]), Compose.LinePrimitive{Tuple{Measure, Measure}}(Tuple{Measure, Measure}[(-0.9116116523516815cx, 0.08838834764831834cy), (-0.08838834764831857cx, 0.9116116523516815cy)])], Symbol(\"\"))]), List([Compose.Property{Compose.LineWidthPrimitive}(Compose.LineWidthPrimitive[Compose.LineWidthPrimitive(1.5mm)]), Compose.Property{Compose.FillPrimitive}(Compose.FillPrimitive[Compose.FillPrimitive(RGBA{Float64}(0.0,0.0,0.0,0.0))]), Compose.Property{Compose.StrokePrimitive}(Compose.StrokePrimitive[Compose.StrokePrimitive(RGBA{Float64}(0.8274509803921568,0.8274509803921568,0.8274509803921568,1.0))])]), 0, false, false, false, false, nothing, nothing, 0.0, Symbol(\"\")), Context(BBox{l,t,r,b,w,h = 0.0w,0.0h, 1.0w,1.0h, 1.0w,1.0h}, nothing, nothing, nothing, nothing, List([]), List([Compose.Form{Compose.LinePrimitive}(Compose.LinePrimitive[Compose.LinePrimitive{Tuple{Measure, Measure}}(Tuple{Measure, Measure}[(0.8693498261776116cx, -0.17901912635198344cy), (0.9116116523516815cx, -0.08838834764831843cy), (0.8209808736480165cx, -0.1306501738223884cy)]), Compose.LinePrimitive{Tuple{Measure, Measure}}(Tuple{Measure, Measure}[(-0.8209808736480165cx, -0.13065017382238842cy), (-0.9116116523516815cx, -0.08838834764831849cy), (-0.8693498261776116cx, -0.17901912635198347cy)]), Compose.LinePrimitive{Tuple{Measure, Measure}}(Tuple{Measure, Measure}[(0.1790191263519833cx, 0.8693498261776116cy), (0.08838834764831831cx, 0.9116116523516815cy), (0.13065017382238825cx, 0.8209808736480165cy)]), Compose.LinePrimitive{Tuple{Measure, Measure}}(Tuple{Measure, Measure}[(-0.13065017382238853cx, 0.8209808736480165cy), (-0.08838834764831857cx, 0.9116116523516815cy), (-0.17901912635198358cx, 0.8693498261776116cy)])], Symbol(\"\"))]), List([Compose.Property{Compose.LineWidthPrimitive}(Compose.LineWidthPrimitive[Compose.LineWidthPrimitive(1.5mm)]), Compose.Property{Compose.StrokePrimitive}(Compose.StrokePrimitive[Compose.StrokePrimitive(RGBA{Float64}(0.8274509803921568,0.8274509803921568,0.8274509803921568,1.0))])]), 0, false, false, false, false, nothing, nothing, 0.0, Symbol(\"\")), Context(BBox{l,t,r,b,w,h = 0.0w,0.0h, 1.0w,1.0h, 1.0w,1.0h}, nothing, nothing, nothing, nothing, List([]), List([]), List([Compose.Property{Compose.FontSizePrimitive}(Compose.FontSizePrimitive[Compose.FontSizePrimitive(4.0mm)]), Compose.Property{Compose.StrokePrimitive}(Compose.StrokePrimitive[Compose.StrokePrimitive(RGBA{Float64}(0.0,0.0,0.0,0.0))]), Compose.Property{Compose.FillPrimitive}(Compose.FillPrimitive[Compose.FillPrimitive(RGBA{Float64}(0.0,0.0,0.0,1.0))])]), 0, false, false, false, false, nothing, nothing, 0.0, Symbol(\"\")), Context(BBox{l,t,r,b,w,h = 0.0w,0.0h, 1.0w,1.0h, 1.0w,1.0h}, nothing, nothing, nothing, nothing, List([]), List([Compose.Form{Compose.CirclePrimitive{Tuple{Measure, Measure}, Measure}}(Compose.CirclePrimitive{Tuple{Measure, Measure}, Measure}[Compose.CirclePrimitive{Tuple{Measure, Measure}, Measure}((4.440892098500626e-16cx, -1.0cy), 0.05w), Compose.CirclePrimitive{Tuple{Measure, Measure}, Measure}((1.0cx, 0.0cy), 0.05w), Compose.CirclePrimitive{Tuple{Measure, Measure}, Measure}((-1.0cx, -1.1102230246251565e-16cy), 0.05w), Compose.CirclePrimitive{Tuple{Measure, Measure}, Measure}((-1.1102230246251565e-16cx, 1.0cy), 0.05w)], Symbol(\"\"))]), List([Compose.Property{Compose.LineWidthPrimitive}(Compose.LineWidthPrimitive[Compose.LineWidthPrimitive(0.0mm)]), Compose.Property{Compose.StrokePrimitive}(Compose.StrokePrimitive[Compose.StrokePrimitive(RGBA{Float64}(0.0,0.0,0.0,0.0))]), Compose.Property{Compose.FillPrimitive}(Compose.FillPrimitive[Compose.FillPrimitive(RGBA{Float64}(0.25098039215686274,0.8784313725490196,0.8156862745098039,1.0))])]), 0, false, false, false, false, nothing, nothing, 0.0, Symbol(\"\")), Context(BBox{l,t,r,b,w,h = 0.0w,0.0h, 1.0w,1.0h, 1.0w,1.0h}, nothing, nothing, nothing, nothing, List([]), List([Compose.Form{Compose.TextPrimitive{Tuple{Measures.Length{:cx, Float64}, Measures.Length{:cy, Float64}}, Rotation{Tuple{Measures.Length{:w, Float64}, Measures.Length{:h, Float64}}}, Tuple{Measures.AbsoluteLength, Measures.AbsoluteLength}}}(Compose.TextPrimitive{Tuple{Measures.Length{:cx, Float64}, Measures.Length{:cy, Float64}}, Rotation{Tuple{Measures.Length{:w, Float64}, Measures.Length{:h, Float64}}}, Tuple{Measures.AbsoluteLength, Measures.AbsoluteLength}}[Compose.TextPrimitive{Tuple{Measures.Length{:cx, Float64}, Measures.Length{:cy, Float64}}, Rotation{Tuple{Measures.Length{:w, Float64}, Measures.Length{:h, Float64}}}, Tuple{Measures.AbsoluteLength, Measures.AbsoluteLength}}((4.440892098500626e-16cx, -1.0cy), \"1\", Compose.HCenter(), Compose.VCenter(), Rotation{Tuple{Measures.Length{:w, Float64}, Measures.Length{:h, Float64}}}(0.0, (0.5w, 0.5h)), (0.0mm, 0.0mm)), Compose.TextPrimitive{Tuple{Measures.Length{:cx, Float64}, Measures.Length{:cy, Float64}}, Rotation{Tuple{Measures.Length{:w, Float64}, Measures.Length{:h, Float64}}}, Tuple{Measures.AbsoluteLength, Measures.AbsoluteLength}}((1.0cx, 0.0cy), \"2\", Compose.HCenter(), Compose.VCenter(), Rotation{Tuple{Measures.Length{:w, Float64}, Measures.Length{:h, Float64}}}(0.0, (0.5w, 0.5h)), (0.0mm, 0.0mm)), Compose.TextPrimitive{Tuple{Measures.Length{:cx, Float64}, Measures.Length{:cy, Float64}}, Rotation{Tuple{Measures.Length{:w, Float64}, Measures.Length{:h, Float64}}}, Tuple{Measures.AbsoluteLength, Measures.AbsoluteLength}}((-1.0cx, -1.1102230246251565e-16cy), \"3\", Compose.HCenter(), Compose.VCenter(), Rotation{Tuple{Measures.Length{:w, Float64}, Measures.Length{:h, Float64}}}(0.0, (0.5w, 0.5h)), (0.0mm, 0.0mm)), Compose.TextPrimitive{Tuple{Measures.Length{:cx, Float64}, Measures.Length{:cy, Float64}}, Rotation{Tuple{Measures.Length{:w, Float64}, Measures.Length{:h, Float64}}}, Tuple{Measures.AbsoluteLength, Measures.AbsoluteLength}}((-1.1102230246251565e-16cx, 1.0cy), \"4\", Compose.HCenter(), Compose.VCenter(), Rotation{Tuple{Measures.Length{:w, Float64}, Measures.Length{:h, Float64}}}(0.0, (0.5w, 0.5h)), (0.0mm, 0.0mm))], Symbol(\"\"))]), List([Compose.Property{Compose.FontSizePrimitive}(Compose.FontSizePrimitive[Compose.FontSizePrimitive(4.0mm)]), Compose.Property{Compose.StrokePrimitive}(Compose.StrokePrimitive[Compose.StrokePrimitive(RGBA{Float64}(0.0,0.0,0.0,0.0))]), Compose.Property{Compose.FillPrimitive}(Compose.FillPrimitive[Compose.FillPrimitive(RGBA{Float64}(0.0,0.0,0.0,1.0))])]), 0, false, false, false, false, nothing, nothing, 0.0, Symbol(\"\"))]), List([]), List([]), 0, false, false, false, false, nothing, nothing, 0.0, Symbol(\"\"))"
      ]
     },
     "execution_count": 4,
     "metadata": {},
     "output_type": "execute_result"
    }
   ],
   "source": [
    "nodelabel = 1:nv(G)\n",
    "gplot(G, layout=spectral_layout, nodelabel=nodelabel)"
   ]
  },
  {
   "cell_type": "markdown",
   "metadata": {
    "nbpresent": {
     "id": "168b3d5b-ec1f-4fda-92aa-978e93b9e2c6"
    },
    "slideshow": {
     "slide_type": "slide"
    }
   },
   "source": [
    "Next we make a list the available paths from 1 to 4"
   ]
  },
  {
   "cell_type": "code",
   "execution_count": 5,
   "metadata": {
    "nbpresent": {
     "id": "c2661e6c-25bc-4f76-bde4-1e96fa36e924"
    }
   },
   "outputs": [
    {
     "data": {
      "text/plain": [
       "SimplePathIterator{Int64}({4, 4} directed simple Int64 graph, 1, Set([4]), nothing)"
      ]
     },
     "execution_count": 5,
     "metadata": {},
     "output_type": "execute_result"
    }
   ],
   "source": [
    "include(\"code/all_simple_paths.jl\")\n",
    "paths = all_simple_paths(G, 1, 4)"
   ]
  },
  {
   "cell_type": "code",
   "execution_count": 6,
   "metadata": {},
   "outputs": [
    {
     "name": "stdout",
     "output_type": "stream",
     "text": [
      "1 : [1, 3, 4]\n",
      "2 : [1, 2, 4]\n"
     ]
    }
   ],
   "source": [
    "for (i, path) in enumerate(paths)\n",
    "    println(i, \" : \", path)\n",
    "end"
   ]
  },
  {
   "cell_type": "markdown",
   "metadata": {
    "nbpresent": {
     "id": "a382f662-5986-4cce-a299-3f187db024bb"
    },
    "slideshow": {
     "slide_type": "slide"
    }
   },
   "source": [
    "We use a dictionary to store the parameters $(a_i, b_i)$ for each link:"
   ]
  },
  {
   "cell_type": "code",
   "execution_count": 7,
   "metadata": {
    "nbpresent": {
     "id": "8938f57d-d106-4981-b7a5-b92d11387071"
    }
   },
   "outputs": [],
   "source": [
    "linkparams = [(0.1, 0.0), (0.0, 15.0), (0.0, 15.0), (0.1, 0.0)];"
   ]
  },
  {
   "cell_type": "markdown",
   "metadata": {
    "nbpresent": {
     "id": "e29970c4-1833-4386-ba51-4ff87ac22cab"
    }
   },
   "source": [
    "Since paths can share links, it will be helpful to define a link-path adjacency matrix:\n",
    "\n",
    "$$A_{i j} = \\left\\{\\begin{array}{ll}1& \\text{if link $i$ is part of path $j$}\\\\\n",
    "          0 & \\text{otherwise}\\end{array}\\right.$$"
   ]
  },
  {
   "cell_type": "code",
   "execution_count": 8,
   "metadata": {
    "nbpresent": {
     "id": "94a04644-2278-4299-8859-8027d2d478a1"
    },
    "slideshow": {
     "slide_type": "slide"
    }
   },
   "outputs": [
    {
     "data": {
      "text/plain": [
       "4×2 Matrix{Int64}:\n",
       " 0  1\n",
       " 1  0\n",
       " 0  1\n",
       " 1  0"
      ]
     },
     "execution_count": 8,
     "metadata": {},
     "output_type": "execute_result"
    }
   ],
   "source": [
    "function link_path_adjacency(link, path)\n",
    "    for i in 1:(length(path)-1)\n",
    "        (link.src == path[i] && link.dst == path[i+1]) && return 1\n",
    "    end\n",
    "    return 0\n",
    "end\n",
    "\n",
    "E = collect(edges(G))\n",
    "A = zeros(Int64, (length(E), length(paths)))\n",
    "for (i, edge) in enumerate(E), (j, path) in enumerate(paths)\n",
    "    A[i,j] = link_path_adjacency(edge, path)\n",
    "end\n",
    "A"
   ]
  },
  {
   "cell_type": "markdown",
   "metadata": {
    "nbpresent": {
     "id": "a84d50d4-9c4c-4d39-8e21-d02365064c36"
    },
    "slideshow": {
     "slide_type": "slide"
    }
   },
   "source": [
    "Now we define demand-delay functions and store them as a dictionary (again) of functions that will be passed as properties to the model. This is a very dense piece of code so check it at home: "
   ]
  },
  {
   "cell_type": "code",
   "execution_count": 9,
   "metadata": {
    "nbpresent": {
     "id": "b7b3baee-574c-4486-84a9-f5666929af3f"
    }
   },
   "outputs": [
    {
     "data": {
      "text/plain": [
       "Dict{Int64, var\"#6#8\"{Int64}} with 4 entries:\n",
       "  4 => #6\n",
       "  2 => #6\n",
       "  3 => #6\n",
       "  1 => #6"
      ]
     },
     "execution_count": 9,
     "metadata": {},
     "output_type": "execute_result"
    }
   ],
   "source": [
    "n = length(linkparams)\n",
    "a1 = collect(1:n)\n",
    "a2 = [x -> linkparams[i][1] * x + linkparams[i][2] for i in 1:n]\n",
    "demand_delay_functions = Dict( a1 .=> a2)"
   ]
  },
  {
   "cell_type": "markdown",
   "metadata": {
    "nbpresent": {
     "id": "708352b7-a7e2-4dfb-8855-7c809f07d5f2"
    }
   },
   "source": [
    "Now we are ready to start setting up the ABM."
   ]
  },
  {
   "cell_type": "markdown",
   "metadata": {
    "nbpresent": {
     "id": "e7764dc1-42b0-4709-8f0a-874b387362b3"
    },
    "slideshow": {
     "slide_type": "slide"
    }
   },
   "source": [
    "First we define the **agent** object. Our agents have three properties: \n",
    "* an id : every agent in Agents.jl must have a unique integer identifier\n",
    "* current preferred route\n",
    "* travel time for that route (not strictly necessary?)"
   ]
  },
  {
   "cell_type": "code",
   "execution_count": 10,
   "metadata": {
    "nbpresent": {
     "id": "aef3179e-f064-4928-a281-91beb4b7610b"
    }
   },
   "outputs": [],
   "source": [
    "mutable struct driverAgent <: AbstractAgent\n",
    "    id::Int\n",
    "    route_choice::Int\n",
    "    travel_time::Float64\n",
    "end"
   ]
  },
  {
   "cell_type": "markdown",
   "metadata": {
    "nbpresent": {
     "id": "ac4fd9bf-283b-4d1b-a862-985deee9089d"
    }
   },
   "source": [
    "Note that our custom-defined **driverAgent** object inherits properties from **AbstractAgent** which is defined by Agents.jl. This means we only need to worry about the aspects of the agent that are specific to our particular model."
   ]
  },
  {
   "cell_type": "markdown",
   "metadata": {
    "nbpresent": {
     "id": "261243ca-f311-4119-874c-a15f76e46ed9"
    },
    "slideshow": {
     "slide_type": "slide"
    }
   },
   "source": [
    "Next we have to decide what information needs to be passed to the **model** object as properties:\n",
    "* the \"temperature\" parameter, $T$\n",
    "* the link-path adjacency matrix we contructed above\n",
    "* the demand-delay functions we defined above\n",
    "* an array to store the travel times for each path"
   ]
  },
  {
   "cell_type": "code",
   "execution_count": 11,
   "metadata": {
    "nbpresent": {
     "id": "b6b3657c-61bf-4f15-8ba1-e23db258e320"
    }
   },
   "outputs": [
    {
     "data": {
      "text/plain": [
       "Dict{Symbol, Any} with 5 entries:\n",
       "  :T                => 50.0\n",
       "  :routes           => SimplePathIterator{Int64}({4, 4} directed simple Int64 g…\n",
       "  :demand_delay     => Dict{Int64, var\"#6#8\"{Int64}}(4=>#6, 2=>#6, 3=>#6, 1=>#6)\n",
       "  :route_times      => [0.0, 0.0]\n",
       "  :link_path_matrix => [0 1; 1 0; 0 1; 1 0]"
      ]
     },
     "execution_count": 11,
     "metadata": {},
     "output_type": "execute_result"
    }
   ],
   "source": [
    "route_times = zeros(Float64,length(paths))\n",
    "properties = Dict{Symbol, Any}(\n",
    "    :T => 50.0, \n",
    "    :link_path_matrix => A, \n",
    "    :demand_delay => demand_delay_functions, \n",
    "    :route_times => route_times,\n",
    "    :routes => paths\n",
    ")"
   ]
  },
  {
   "cell_type": "markdown",
   "metadata": {
    "nbpresent": {
     "id": "32bcd5c2-b8ea-4f18-9758-1de77aa74907"
    }
   },
   "source": [
    "Note that we again use a dictionary to pass properties to the model. The :x syntax creates a symbol in Julia - here it helps avoid confusion with variables that might contain values."
   ]
  },
  {
   "cell_type": "markdown",
   "metadata": {
    "nbpresent": {
     "id": "4691f7cc-5e62-44fe-841f-b4ebe00c7b4a"
    },
    "slideshow": {
     "slide_type": "slide"
    }
   },
   "source": [
    "### Building the model\n",
    "\n",
    "It is common practice to encapsulate the building and initialisation into a function so that model instances can be created easily"
   ]
  },
  {
   "cell_type": "code",
   "execution_count": 12,
   "metadata": {
    "nbpresent": {
     "id": "1f2082a2-bd96-4f0b-8e4b-3f7f7efe31fd"
    }
   },
   "outputs": [
    {
     "data": {
      "text/plain": [
       "initialise (generic function with 1 method)"
      ]
     },
     "execution_count": 12,
     "metadata": {},
     "output_type": "execute_result"
    }
   ],
   "source": [
    "function initialise(;numagents = 100, properties = Dict{Symbol,Any})\n",
    "    model = ABM(driverAgent, scheduler=fastest, properties=properties)\n",
    "    for i in 1:numagents\n",
    "        add_agent!(model, 1, 0.0)\n",
    "    end\n",
    "    return model\n",
    "end"
   ]
  },
  {
   "cell_type": "code",
   "execution_count": 13,
   "metadata": {},
   "outputs": [
    {
     "data": {
      "text/plain": [
       "50.0"
      ]
     },
     "execution_count": 13,
     "metadata": {},
     "output_type": "execute_result"
    }
   ],
   "source": [
    "model = initialise(properties=properties);\n",
    "model.T"
   ]
  },
  {
   "cell_type": "markdown",
   "metadata": {
    "nbpresent": {
     "id": "481c3450-406d-46bf-a602-9dc90b23d8eb"
    },
    "slideshow": {
     "slide_type": "slide"
    }
   },
   "source": [
    "### Defining the agent update function"
   ]
  },
  {
   "cell_type": "code",
   "execution_count": 14,
   "metadata": {
    "nbpresent": {
     "id": "6a5f91ad-cd57-4826-b5c7-84da31088ba0"
    }
   },
   "outputs": [
    {
     "data": {
      "text/plain": [
       "agent_step! (generic function with 1 method)"
      ]
     },
     "execution_count": 14,
     "metadata": {},
     "output_type": "execute_result"
    }
   ],
   "source": [
    "function agent_step!(agent, model)\n",
    "    T = model.properties[:T] \n",
    "    previous_route_times = model.properties[:route_times]; \n",
    "    nroutes = length(previous_route_times)\n",
    "    # Check how long agent's current route choice took the previous day\n",
    "    t = previous_route_times[agent.route_choice]\n",
    "    # Make a list of alternative routes\n",
    "    alternative_routes = collect(1:nroutes)\n",
    "    deleteat!(alternative_routes, alternative_routes .== agent.route_choice)\n",
    "    # Check how long a random alternative would have taken\n",
    "    alternative_route = rand(alternative_routes)\n",
    "    t_alternative = previous_route_times[alternative_route]\n",
    "    # Calculate the difference between the times for chosen route and alternative\n",
    "    Δt = t_alternative - t\n",
    "    # Switch route if Δt is negative with a probability that goes to 0 with Δt\n",
    "    if Δt <=0\n",
    "        P = 1.0 - exp(Δt/T)\n",
    "        rand() < P && (agent.route_choice = alternative_route)\n",
    "    end\n",
    "end"
   ]
  },
  {
   "cell_type": "markdown",
   "metadata": {
    "nbpresent": {
     "id": "60bbbcf8-ed7b-42c4-95a3-6c5de891ae4c"
    },
    "slideshow": {
     "slide_type": "slide"
    }
   },
   "source": [
    "### Defining the model update function\n",
    "At each iteration of the model, this is run *after* all the agents have updated.\n",
    "The model update needs to do the following:\n",
    "1. count how many agents chose each route in the previous iteration. These are the \"path flows\", $\\{h_i,\\ i=1\\ldots n_p\\}$, where $n_p$ is the number of paths from origin to destination.\n",
    "2. use the path flows to determine how many agents use each link (remember in general paths can share links). The \"link flows\",  $\\{x_i,\\ i=1\\ldots n_e\\}$, where $n_e$ is the number of edges in the network. The link-path adjacency matrix comes in handy here:"
   ]
  },
  {
   "cell_type": "markdown",
   "metadata": {
    "nbpresent": {
     "id": "60bbbcf8-ed7b-42c4-95a3-6c5de891ae4c"
    },
    "slideshow": {
     "slide_type": "slide"
    }
   },
   "source": [
    "### Defining the model update function\n",
    "\n",
    "$$ x_i = \\sum_{j=1}^{n_p} A_{i\\,j}\\, h_j $$\n",
    "3. Calculate the path travel times and update the agents' estimates of the travel times for their prefered routes. The link-path adjacency matrix again comes in handy here. The travel time for path $k$ is:\n",
    "$$ T_k = \\sum_{j=1}^{n_e} A_{j\\,k}\\, \\tau_j(x_j) $$"
   ]
  },
  {
   "cell_type": "markdown",
   "metadata": {
    "nbpresent": {
     "id": "bbd7912c-eac4-4126-8566-621c553151f6"
    },
    "slideshow": {
     "slide_type": "slide"
    }
   },
   "source": [
    "Here's the function:"
   ]
  },
  {
   "cell_type": "code",
   "execution_count": 15,
   "metadata": {
    "nbpresent": {
     "id": "a0344ade-a6f2-46f6-bb09-a903e11e1401"
    }
   },
   "outputs": [
    {
     "data": {
      "text/plain": [
       "model_step! (generic function with 1 method)"
      ]
     },
     "execution_count": 15,
     "metadata": {},
     "output_type": "execute_result"
    }
   ],
   "source": [
    "function model_step!(model)\n",
    "    A = model.link_path_matrix\n",
    "    nlinks=size(A)[1]\n",
    "    npaths=size(A)[2]\n",
    "    # Count how many agents chose each route\n",
    "    path_counts = zeros(Int64,npaths)\n",
    "    for agent in allagents(model)\n",
    "        r = agent.route_choice\n",
    "        path_counts[r]+=1\n",
    "    end\n",
    "    # Derive the link counts from the path counts\n",
    "    link_counts = A * path_counts\n",
    "    # Derive the link travel times from the link counts\n",
    "    link_travel_times = [model.properties[:demand_delay][i](link_counts[i]) for i in 1:nlinks]\n",
    "    # Calculate updated path travel times for each route based on the link travel times\n",
    "    model.properties[:route_times] = link_travel_times'*A\n",
    "    # Update the agents travel times\n",
    "    for agent in allagents(model)\n",
    "        r = agent.route_choice\n",
    "        agent.travel_time = model.properties[:route_times][r]\n",
    "    end\n",
    "end"
   ]
  },
  {
   "cell_type": "markdown",
   "metadata": {
    "nbpresent": {
     "id": "49d74200-b77d-4721-b09e-d4dc78184177"
    },
    "slideshow": {
     "slide_type": "slide"
    }
   },
   "source": [
    "## Running the model and gathering the data"
   ]
  },
  {
   "cell_type": "code",
   "execution_count": 16,
   "metadata": {
    "nbpresent": {
     "id": "7b55b2f6-ec43-4c1d-8b73-75f46b3ac06c"
    }
   },
   "outputs": [],
   "source": [
    "# Set up data gathering\n",
    "adata = [:route_choice, :travel_time]\n",
    "n = 100  # number of time steps to run the simulation\n",
    "when = 1:n  # At which steps to collect data\n",
    "# Initialise the model\n",
    "model = initialise(properties = properties)\n",
    "# Run the model\n",
    "data, _  = run!(model, agent_step!, model_step!, n; adata);"
   ]
  },
  {
   "cell_type": "markdown",
   "metadata": {
    "nbpresent": {
     "id": "abfdc902-f51e-4ee7-bb02-668233484679"
    }
   },
   "source": [
    "* `adata` are the agent properties to measure during the run.\n",
    "* `when` specifies the time steps you want to gather data. You don't have to output at every step.\n",
    "* `properties` is the dictionary of model properties defined above.\n",
    "* `agent_step!` and `model_step!` are the functions defined above."
   ]
  },
  {
   "cell_type": "markdown",
   "metadata": {
    "nbpresent": {
     "id": "b043867b-3c18-418c-bfc4-b236b62aec08"
    },
    "slideshow": {
     "slide_type": "slide"
    }
   },
   "source": [
    "## Analysing the output\n",
    "\n",
    "The output looks like this:"
   ]
  },
  {
   "cell_type": "code",
   "execution_count": 17,
   "metadata": {
    "nbpresent": {
     "id": "15b571a0-7a8c-4c94-8de3-42eef0119bf9"
    }
   },
   "outputs": [
    {
     "data": {
      "text/html": [
       "<div class=\"data-frame\"><p>10 rows × 4 columns</p><table class=\"data-frame\"><thead><tr><th></th><th>step</th><th>id</th><th>route_choice</th><th>travel_time</th></tr><tr><th></th><th title=\"Int64\">Int64</th><th title=\"Int64\">Int64</th><th title=\"Int64\">Int64</th><th title=\"Float64\">Float64</th></tr></thead><tbody><tr><th>1</th><td>0</td><td>1</td><td>1</td><td>0.0</td></tr><tr><th>2</th><td>0</td><td>2</td><td>1</td><td>0.0</td></tr><tr><th>3</th><td>0</td><td>3</td><td>1</td><td>0.0</td></tr><tr><th>4</th><td>0</td><td>4</td><td>1</td><td>0.0</td></tr><tr><th>5</th><td>0</td><td>5</td><td>1</td><td>0.0</td></tr><tr><th>6</th><td>0</td><td>6</td><td>1</td><td>0.0</td></tr><tr><th>7</th><td>0</td><td>7</td><td>1</td><td>0.0</td></tr><tr><th>8</th><td>0</td><td>8</td><td>1</td><td>0.0</td></tr><tr><th>9</th><td>0</td><td>9</td><td>1</td><td>0.0</td></tr><tr><th>10</th><td>0</td><td>10</td><td>1</td><td>0.0</td></tr></tbody></table></div>"
      ],
      "text/latex": [
       "\\begin{tabular}{r|cccc}\n",
       "\t& step & id & route\\_choice & travel\\_time\\\\\n",
       "\t\\hline\n",
       "\t& Int64 & Int64 & Int64 & Float64\\\\\n",
       "\t\\hline\n",
       "\t1 & 0 & 1 & 1 & 0.0 \\\\\n",
       "\t2 & 0 & 2 & 1 & 0.0 \\\\\n",
       "\t3 & 0 & 3 & 1 & 0.0 \\\\\n",
       "\t4 & 0 & 4 & 1 & 0.0 \\\\\n",
       "\t5 & 0 & 5 & 1 & 0.0 \\\\\n",
       "\t6 & 0 & 6 & 1 & 0.0 \\\\\n",
       "\t7 & 0 & 7 & 1 & 0.0 \\\\\n",
       "\t8 & 0 & 8 & 1 & 0.0 \\\\\n",
       "\t9 & 0 & 9 & 1 & 0.0 \\\\\n",
       "\t10 & 0 & 10 & 1 & 0.0 \\\\\n",
       "\\end{tabular}\n"
      ],
      "text/plain": [
       "\u001b[1m10×4 DataFrame\u001b[0m\n",
       "\u001b[1m Row \u001b[0m│\u001b[1m step  \u001b[0m\u001b[1m id    \u001b[0m\u001b[1m route_choice \u001b[0m\u001b[1m travel_time \u001b[0m\n",
       "\u001b[1m     \u001b[0m│\u001b[90m Int64 \u001b[0m\u001b[90m Int64 \u001b[0m\u001b[90m Int64        \u001b[0m\u001b[90m Float64     \u001b[0m\n",
       "─────┼─────────────────────────────────────────\n",
       "   1 │     0      1             1          0.0\n",
       "   2 │     0      2             1          0.0\n",
       "   3 │     0      3             1          0.0\n",
       "   4 │     0      4             1          0.0\n",
       "   5 │     0      5             1          0.0\n",
       "   6 │     0      6             1          0.0\n",
       "   7 │     0      7             1          0.0\n",
       "   8 │     0      8             1          0.0\n",
       "   9 │     0      9             1          0.0\n",
       "  10 │     0     10             1          0.0"
      ]
     },
     "execution_count": 17,
     "metadata": {},
     "output_type": "execute_result"
    }
   ],
   "source": [
    "data[1:10, :]"
   ]
  },
  {
   "cell_type": "markdown",
   "metadata": {
    "nbpresent": {
     "id": "f3ef2931-3e5e-447b-87bc-b68a597d19fc"
    },
    "slideshow": {
     "slide_type": "slide"
    }
   },
   "source": [
    "## Analysing the output\n",
    "\n",
    "You will need to learn a bit about manipulating data frames: https://juliadata.github.io/DataFrames.jl/stable/"
   ]
  },
  {
   "cell_type": "code",
   "execution_count": 18,
   "metadata": {
    "cell_style": "split",
    "nbpresent": {
     "id": "85210e26-dd7b-4082-8722-712b81719f96"
    }
   },
   "outputs": [
    {
     "data": {
      "text/html": [
       "<div class=\"data-frame\"><p>100 rows × 2 columns</p><table class=\"data-frame\"><thead><tr><th></th><th>step</th><th>T</th></tr><tr><th></th><th title=\"Int64\">Int64</th><th title=\"Float64\">Float64</th></tr></thead><tbody><tr><th>1</th><td>1</td><td>25.0</td></tr><tr><th>2</th><td>2</td><td>21.682</td></tr><tr><th>3</th><td>3</td><td>20.45</td></tr><tr><th>4</th><td>4</td><td>20.242</td></tr><tr><th>5</th><td>5</td><td>20.2</td></tr><tr><th>6</th><td>6</td><td>20.2</td></tr><tr><th>7</th><td>7</td><td>20.072</td></tr><tr><th>8</th><td>8</td><td>20.072</td></tr><tr><th>9</th><td>9</td><td>20.05</td></tr><tr><th>10</th><td>10</td><td>20.05</td></tr><tr><th>11</th><td>11</td><td>20.05</td></tr><tr><th>12</th><td>12</td><td>20.032</td></tr><tr><th>13</th><td>13</td><td>20.032</td></tr><tr><th>14</th><td>14</td><td>20.002</td></tr><tr><th>15</th><td>15</td><td>20.002</td></tr><tr><th>16</th><td>16</td><td>20.002</td></tr><tr><th>17</th><td>17</td><td>20.002</td></tr><tr><th>18</th><td>18</td><td>20.002</td></tr><tr><th>19</th><td>19</td><td>20.002</td></tr><tr><th>20</th><td>20</td><td>20.002</td></tr><tr><th>21</th><td>21</td><td>20.002</td></tr><tr><th>22</th><td>22</td><td>20.002</td></tr><tr><th>23</th><td>23</td><td>20.002</td></tr><tr><th>24</th><td>24</td><td>20.002</td></tr><tr><th>25</th><td>25</td><td>20.002</td></tr><tr><th>26</th><td>26</td><td>20.002</td></tr><tr><th>27</th><td>27</td><td>20.002</td></tr><tr><th>28</th><td>28</td><td>20.002</td></tr><tr><th>29</th><td>29</td><td>20.002</td></tr><tr><th>30</th><td>30</td><td>20.002</td></tr><tr><th>&vellip;</th><td>&vellip;</td><td>&vellip;</td></tr></tbody></table></div>"
      ],
      "text/latex": [
       "\\begin{tabular}{r|cc}\n",
       "\t& step & T\\\\\n",
       "\t\\hline\n",
       "\t& Int64 & Float64\\\\\n",
       "\t\\hline\n",
       "\t1 & 1 & 25.0 \\\\\n",
       "\t2 & 2 & 21.682 \\\\\n",
       "\t3 & 3 & 20.45 \\\\\n",
       "\t4 & 4 & 20.242 \\\\\n",
       "\t5 & 5 & 20.2 \\\\\n",
       "\t6 & 6 & 20.2 \\\\\n",
       "\t7 & 7 & 20.072 \\\\\n",
       "\t8 & 8 & 20.072 \\\\\n",
       "\t9 & 9 & 20.05 \\\\\n",
       "\t10 & 10 & 20.05 \\\\\n",
       "\t11 & 11 & 20.05 \\\\\n",
       "\t12 & 12 & 20.032 \\\\\n",
       "\t13 & 13 & 20.032 \\\\\n",
       "\t14 & 14 & 20.002 \\\\\n",
       "\t15 & 15 & 20.002 \\\\\n",
       "\t16 & 16 & 20.002 \\\\\n",
       "\t17 & 17 & 20.002 \\\\\n",
       "\t18 & 18 & 20.002 \\\\\n",
       "\t19 & 19 & 20.002 \\\\\n",
       "\t20 & 20 & 20.002 \\\\\n",
       "\t21 & 21 & 20.002 \\\\\n",
       "\t22 & 22 & 20.002 \\\\\n",
       "\t23 & 23 & 20.002 \\\\\n",
       "\t24 & 24 & 20.002 \\\\\n",
       "\t25 & 25 & 20.002 \\\\\n",
       "\t26 & 26 & 20.002 \\\\\n",
       "\t27 & 27 & 20.002 \\\\\n",
       "\t28 & 28 & 20.002 \\\\\n",
       "\t29 & 29 & 20.002 \\\\\n",
       "\t30 & 30 & 20.002 \\\\\n",
       "\t$\\dots$ & $\\dots$ & $\\dots$ \\\\\n",
       "\\end{tabular}\n"
      ],
      "text/plain": [
       "\u001b[1m100×2 DataFrame\u001b[0m\n",
       "\u001b[1m Row \u001b[0m│\u001b[1m step  \u001b[0m\u001b[1m T       \u001b[0m\n",
       "\u001b[1m     \u001b[0m│\u001b[90m Int64 \u001b[0m\u001b[90m Float64 \u001b[0m\n",
       "─────┼────────────────\n",
       "   1 │     1   25.0\n",
       "   2 │     2   21.682\n",
       "   3 │     3   20.45\n",
       "   4 │     4   20.242\n",
       "   5 │     5   20.2\n",
       "   6 │     6   20.2\n",
       "   7 │     7   20.072\n",
       "   8 │     8   20.072\n",
       "   9 │     9   20.05\n",
       "  10 │    10   20.05\n",
       "  11 │    11   20.05\n",
       "  ⋮  │   ⋮       ⋮\n",
       "  91 │    91   20.0\n",
       "  92 │    92   20.0\n",
       "  93 │    93   20.0\n",
       "  94 │    94   20.0\n",
       "  95 │    95   20.0\n",
       "  96 │    96   20.0\n",
       "  97 │    97   20.0\n",
       "  98 │    98   20.0\n",
       "  99 │    99   20.0\n",
       " 100 │   100   20.0\n",
       "\u001b[36m       79 rows omitted\u001b[0m"
      ]
     },
     "execution_count": 18,
     "metadata": {},
     "output_type": "execute_result"
    }
   ],
   "source": [
    "using DataFrames\n",
    "gdf = groupby(data, :step)\n",
    "df_average_travel = combine(gdf, :travel_time => mean => :T)\n",
    "delete!(df_average_travel, 1)"
   ]
  },
  {
   "cell_type": "markdown",
   "metadata": {
    "cell_style": "split",
    "nbpresent": {
     "id": "39a425a9-73aa-4df7-b0d9-82af70c083af"
    }
   },
   "source": [
    "Especially the [split-apply-combine](https://juliadata.github.io/DataFrames.jl/stable/man/split_apply_combine/) functionality of the `groupby` command which allows us to group the data by the step and the ```combine``` command to perform operations such as counts or averages on the groups. This is the analogue of the `pandas.DataFrame.groupby()` for those of you familiar with Python's pandas library."
   ]
  },
  {
   "cell_type": "markdown",
   "metadata": {
    "nbpresent": {
     "id": "08538037-fe2f-499e-87f7-ba6e3de5015d"
    },
    "slideshow": {
     "slide_type": "slide"
    }
   },
   "source": [
    "## Path flows\n",
    "\n",
    "Let's plot the number of users of each path"
   ]
  },
  {
   "cell_type": "code",
   "execution_count": 19,
   "metadata": {
    "cell_style": "split",
    "nbpresent": {
     "id": "260b2083-30f7-4c59-b431-a33a67d55d08"
    }
   },
   "outputs": [],
   "source": [
    "gdf = groupby(data, [:step, :route_choice])\n",
    "df = combine(gdf, nrow => :count)\n",
    "routes_df = groupby(df, :route_choice);"
   ]
  },
  {
   "cell_type": "code",
   "execution_count": 20,
   "metadata": {
    "cell_style": "split"
   },
   "outputs": [
    {
     "data": {
      "image/svg+xml": [
       "<?xml version=\"1.0\" encoding=\"utf-8\"?>\n",
       "<svg xmlns=\"http://www.w3.org/2000/svg\" xmlns:xlink=\"http://www.w3.org/1999/xlink\" width=\"600\" height=\"400\" viewBox=\"0 0 2400 1600\">\n",
       "<defs>\n",
       "  <clipPath id=\"clip310\">\n",
       "    <rect x=\"0\" y=\"0\" width=\"2400\" height=\"1600\"/>\n",
       "  </clipPath>\n",
       "</defs>\n",
       "<path clip-path=\"url(#clip310)\" d=\"\n",
       "M0 1600 L2400 1600 L2400 0 L0 0  Z\n",
       "  \" fill=\"#ffffff\" fill-rule=\"evenodd\" fill-opacity=\"1\"/>\n",
       "<defs>\n",
       "  <clipPath id=\"clip311\">\n",
       "    <rect x=\"480\" y=\"0\" width=\"1681\" height=\"1600\"/>\n",
       "  </clipPath>\n",
       "</defs>\n",
       "<path clip-path=\"url(#clip310)\" d=\"\n",
       "M232.389 1423.18 L2352.76 1423.18 L2352.76 47.2441 L232.389 47.2441  Z\n",
       "  \" fill=\"#ffffff\" fill-rule=\"evenodd\" fill-opacity=\"1\"/>\n",
       "<defs>\n",
       "  <clipPath id=\"clip312\">\n",
       "    <rect x=\"232\" y=\"47\" width=\"2121\" height=\"1377\"/>\n",
       "  </clipPath>\n",
       "</defs>\n",
       "<polyline clip-path=\"url(#clip312)\" style=\"stroke:#000000; stroke-linecap:butt; stroke-linejoin:round; stroke-width:2; stroke-opacity:0.1; fill:none\" points=\"\n",
       "  292.4,1423.18 292.4,47.2441 \n",
       "  \"/>\n",
       "<polyline clip-path=\"url(#clip312)\" style=\"stroke:#000000; stroke-linecap:butt; stroke-linejoin:round; stroke-width:2; stroke-opacity:0.1; fill:none\" points=\"\n",
       "  792.486,1423.18 792.486,47.2441 \n",
       "  \"/>\n",
       "<polyline clip-path=\"url(#clip312)\" style=\"stroke:#000000; stroke-linecap:butt; stroke-linejoin:round; stroke-width:2; stroke-opacity:0.1; fill:none\" points=\"\n",
       "  1292.57,1423.18 1292.57,47.2441 \n",
       "  \"/>\n",
       "<polyline clip-path=\"url(#clip312)\" style=\"stroke:#000000; stroke-linecap:butt; stroke-linejoin:round; stroke-width:2; stroke-opacity:0.1; fill:none\" points=\"\n",
       "  1792.66,1423.18 1792.66,47.2441 \n",
       "  \"/>\n",
       "<polyline clip-path=\"url(#clip312)\" style=\"stroke:#000000; stroke-linecap:butt; stroke-linejoin:round; stroke-width:2; stroke-opacity:0.1; fill:none\" points=\"\n",
       "  2292.75,1423.18 2292.75,47.2441 \n",
       "  \"/>\n",
       "<polyline clip-path=\"url(#clip310)\" style=\"stroke:#000000; stroke-linecap:butt; stroke-linejoin:round; stroke-width:4; stroke-opacity:1; fill:none\" points=\"\n",
       "  232.389,1423.18 2352.76,1423.18 \n",
       "  \"/>\n",
       "<polyline clip-path=\"url(#clip310)\" style=\"stroke:#000000; stroke-linecap:butt; stroke-linejoin:round; stroke-width:4; stroke-opacity:1; fill:none\" points=\"\n",
       "  292.4,1423.18 292.4,1404.28 \n",
       "  \"/>\n",
       "<polyline clip-path=\"url(#clip310)\" style=\"stroke:#000000; stroke-linecap:butt; stroke-linejoin:round; stroke-width:4; stroke-opacity:1; fill:none\" points=\"\n",
       "  792.486,1423.18 792.486,1404.28 \n",
       "  \"/>\n",
       "<polyline clip-path=\"url(#clip310)\" style=\"stroke:#000000; stroke-linecap:butt; stroke-linejoin:round; stroke-width:4; stroke-opacity:1; fill:none\" points=\"\n",
       "  1292.57,1423.18 1292.57,1404.28 \n",
       "  \"/>\n",
       "<polyline clip-path=\"url(#clip310)\" style=\"stroke:#000000; stroke-linecap:butt; stroke-linejoin:round; stroke-width:4; stroke-opacity:1; fill:none\" points=\"\n",
       "  1792.66,1423.18 1792.66,1404.28 \n",
       "  \"/>\n",
       "<polyline clip-path=\"url(#clip310)\" style=\"stroke:#000000; stroke-linecap:butt; stroke-linejoin:round; stroke-width:4; stroke-opacity:1; fill:none\" points=\"\n",
       "  2292.75,1423.18 2292.75,1404.28 \n",
       "  \"/>\n",
       "<path clip-path=\"url(#clip310)\" d=\"M292.4 1454.1 Q288.789 1454.1 286.96 1457.66 Q285.154 1461.2 285.154 1468.33 Q285.154 1475.44 286.96 1479.01 Q288.789 1482.55 292.4 1482.55 Q296.034 1482.55 297.84 1479.01 Q299.668 1475.44 299.668 1468.33 Q299.668 1461.2 297.84 1457.66 Q296.034 1454.1 292.4 1454.1 M292.4 1450.39 Q298.21 1450.39 301.265 1455 Q304.344 1459.58 304.344 1468.33 Q304.344 1477.06 301.265 1481.67 Q298.21 1486.25 292.4 1486.25 Q286.59 1486.25 283.511 1481.67 Q280.455 1477.06 280.455 1468.33 Q280.455 1459.58 283.511 1455 Q286.59 1450.39 292.4 1450.39 Z\" fill=\"#000000\" fill-rule=\"evenodd\" fill-opacity=\"1\" /><path clip-path=\"url(#clip310)\" d=\"M771.757 1481.64 L788.076 1481.64 L788.076 1485.58 L766.132 1485.58 L766.132 1481.64 Q768.794 1478.89 773.377 1474.26 Q777.984 1469.61 779.164 1468.27 Q781.41 1465.74 782.289 1464.01 Q783.192 1462.25 783.192 1460.56 Q783.192 1457.8 781.248 1456.07 Q779.327 1454.33 776.225 1454.33 Q774.026 1454.33 771.572 1455.09 Q769.141 1455.86 766.364 1457.41 L766.364 1452.69 Q769.188 1451.55 771.641 1450.97 Q774.095 1450.39 776.132 1450.39 Q781.502 1450.39 784.697 1453.08 Q787.891 1455.77 787.891 1460.26 Q787.891 1462.39 787.081 1464.31 Q786.294 1466.2 784.188 1468.8 Q783.609 1469.47 780.507 1472.69 Q777.405 1475.88 771.757 1481.64 Z\" fill=\"#000000\" fill-rule=\"evenodd\" fill-opacity=\"1\" /><path clip-path=\"url(#clip310)\" d=\"M797.938 1451.02 L816.294 1451.02 L816.294 1454.96 L802.22 1454.96 L802.22 1463.43 Q803.238 1463.08 804.257 1462.92 Q805.275 1462.73 806.294 1462.73 Q812.081 1462.73 815.461 1465.9 Q818.84 1469.08 818.84 1474.49 Q818.84 1480.07 815.368 1483.17 Q811.896 1486.25 805.576 1486.25 Q803.4 1486.25 801.132 1485.88 Q798.887 1485.51 796.479 1484.77 L796.479 1480.07 Q798.563 1481.2 800.785 1481.76 Q803.007 1482.32 805.484 1482.32 Q809.488 1482.32 811.826 1480.21 Q814.164 1478.1 814.164 1474.49 Q814.164 1470.88 811.826 1468.77 Q809.488 1466.67 805.484 1466.67 Q803.609 1466.67 801.734 1467.08 Q799.882 1467.5 797.938 1468.38 L797.938 1451.02 Z\" fill=\"#000000\" fill-rule=\"evenodd\" fill-opacity=\"1\" /><path clip-path=\"url(#clip310)\" d=\"M1267.27 1451.02 L1285.63 1451.02 L1285.63 1454.96 L1271.55 1454.96 L1271.55 1463.43 Q1272.57 1463.08 1273.59 1462.92 Q1274.61 1462.73 1275.63 1462.73 Q1281.42 1462.73 1284.79 1465.9 Q1288.17 1469.08 1288.17 1474.49 Q1288.17 1480.07 1284.7 1483.17 Q1281.23 1486.25 1274.91 1486.25 Q1272.73 1486.25 1270.47 1485.88 Q1268.22 1485.51 1265.81 1484.77 L1265.81 1480.07 Q1267.9 1481.2 1270.12 1481.76 Q1272.34 1482.32 1274.82 1482.32 Q1278.82 1482.32 1281.16 1480.21 Q1283.5 1478.1 1283.5 1474.49 Q1283.5 1470.88 1281.16 1468.77 Q1278.82 1466.67 1274.82 1466.67 Q1272.94 1466.67 1271.07 1467.08 Q1269.22 1467.5 1267.27 1468.38 L1267.27 1451.02 Z\" fill=\"#000000\" fill-rule=\"evenodd\" fill-opacity=\"1\" /><path clip-path=\"url(#clip310)\" d=\"M1307.39 1454.1 Q1303.78 1454.1 1301.95 1457.66 Q1300.14 1461.2 1300.14 1468.33 Q1300.14 1475.44 1301.95 1479.01 Q1303.78 1482.55 1307.39 1482.55 Q1311.02 1482.55 1312.83 1479.01 Q1314.66 1475.44 1314.66 1468.33 Q1314.66 1461.2 1312.83 1457.66 Q1311.02 1454.1 1307.39 1454.1 M1307.39 1450.39 Q1313.2 1450.39 1316.25 1455 Q1319.33 1459.58 1319.33 1468.33 Q1319.33 1477.06 1316.25 1481.67 Q1313.2 1486.25 1307.39 1486.25 Q1301.58 1486.25 1298.5 1481.67 Q1295.44 1477.06 1295.44 1468.33 Q1295.44 1459.58 1298.5 1455 Q1301.58 1450.39 1307.39 1450.39 Z\" fill=\"#000000\" fill-rule=\"evenodd\" fill-opacity=\"1\" /><path clip-path=\"url(#clip310)\" d=\"M1766.51 1451.02 L1788.74 1451.02 L1788.74 1453.01 L1776.19 1485.58 L1771.31 1485.58 L1783.11 1454.96 L1766.51 1454.96 L1766.51 1451.02 Z\" fill=\"#000000\" fill-rule=\"evenodd\" fill-opacity=\"1\" /><path clip-path=\"url(#clip310)\" d=\"M1797.9 1451.02 L1816.26 1451.02 L1816.26 1454.96 L1802.18 1454.96 L1802.18 1463.43 Q1803.2 1463.08 1804.22 1462.92 Q1805.24 1462.73 1806.26 1462.73 Q1812.05 1462.73 1815.43 1465.9 Q1818.8 1469.08 1818.8 1474.49 Q1818.8 1480.07 1815.33 1483.17 Q1811.86 1486.25 1805.54 1486.25 Q1803.37 1486.25 1801.1 1485.88 Q1798.85 1485.51 1796.44 1484.77 L1796.44 1480.07 Q1798.53 1481.2 1800.75 1481.76 Q1802.97 1482.32 1805.45 1482.32 Q1809.45 1482.32 1811.79 1480.21 Q1814.13 1478.1 1814.13 1474.49 Q1814.13 1470.88 1811.79 1468.77 Q1809.45 1466.67 1805.45 1466.67 Q1803.57 1466.67 1801.7 1467.08 Q1799.85 1467.5 1797.9 1468.38 L1797.9 1451.02 Z\" fill=\"#000000\" fill-rule=\"evenodd\" fill-opacity=\"1\" /><path clip-path=\"url(#clip310)\" d=\"M2252.35 1481.64 L2259.99 1481.64 L2259.99 1455.28 L2251.68 1456.95 L2251.68 1452.69 L2259.94 1451.02 L2264.62 1451.02 L2264.62 1481.64 L2272.26 1481.64 L2272.26 1485.58 L2252.35 1485.58 L2252.35 1481.64 Z\" fill=\"#000000\" fill-rule=\"evenodd\" fill-opacity=\"1\" /><path clip-path=\"url(#clip310)\" d=\"M2291.7 1454.1 Q2288.09 1454.1 2286.26 1457.66 Q2284.46 1461.2 2284.46 1468.33 Q2284.46 1475.44 2286.26 1479.01 Q2288.09 1482.55 2291.7 1482.55 Q2295.34 1482.55 2297.14 1479.01 Q2298.97 1475.44 2298.97 1468.33 Q2298.97 1461.2 2297.14 1457.66 Q2295.34 1454.1 2291.7 1454.1 M2291.7 1450.39 Q2297.51 1450.39 2300.57 1455 Q2303.65 1459.58 2303.65 1468.33 Q2303.65 1477.06 2300.57 1481.67 Q2297.51 1486.25 2291.7 1486.25 Q2285.89 1486.25 2282.82 1481.67 Q2279.76 1477.06 2279.76 1468.33 Q2279.76 1459.58 2282.82 1455 Q2285.89 1450.39 2291.7 1450.39 Z\" fill=\"#000000\" fill-rule=\"evenodd\" fill-opacity=\"1\" /><path clip-path=\"url(#clip310)\" d=\"M2321.87 1454.1 Q2318.25 1454.1 2316.43 1457.66 Q2314.62 1461.2 2314.62 1468.33 Q2314.62 1475.44 2316.43 1479.01 Q2318.25 1482.55 2321.87 1482.55 Q2325.5 1482.55 2327.31 1479.01 Q2329.13 1475.44 2329.13 1468.33 Q2329.13 1461.2 2327.31 1457.66 Q2325.5 1454.1 2321.87 1454.1 M2321.87 1450.39 Q2327.68 1450.39 2330.73 1455 Q2333.81 1459.58 2333.81 1468.33 Q2333.81 1477.06 2330.73 1481.67 Q2327.68 1486.25 2321.87 1486.25 Q2316.06 1486.25 2312.98 1481.67 Q2309.92 1477.06 2309.92 1468.33 Q2309.92 1459.58 2312.98 1455 Q2316.06 1450.39 2321.87 1450.39 Z\" fill=\"#000000\" fill-rule=\"evenodd\" fill-opacity=\"1\" /><path clip-path=\"url(#clip310)\" d=\"M1235.71 1522.08 L1235.71 1528.35 Q1232.05 1526.6 1228.8 1525.74 Q1225.56 1524.88 1222.53 1524.88 Q1217.28 1524.88 1214.42 1526.92 Q1211.58 1528.96 1211.58 1532.71 Q1211.58 1535.87 1213.46 1537.49 Q1215.37 1539.08 1220.66 1540.07 L1224.54 1540.86 Q1231.73 1542.23 1235.14 1545.7 Q1238.58 1549.14 1238.58 1554.93 Q1238.58 1561.84 1233.93 1565.4 Q1229.31 1568.97 1220.37 1568.97 Q1217 1568.97 1213.18 1568.2 Q1209.39 1567.44 1205.31 1565.94 L1205.31 1559.32 Q1209.23 1561.52 1212.99 1562.63 Q1216.74 1563.75 1220.37 1563.75 Q1225.88 1563.75 1228.87 1561.58 Q1231.86 1559.42 1231.86 1555.41 Q1231.86 1551.91 1229.7 1549.93 Q1227.56 1547.96 1222.66 1546.97 L1218.75 1546.21 Q1211.55 1544.78 1208.34 1541.72 Q1205.12 1538.67 1205.12 1533.22 Q1205.12 1526.92 1209.55 1523.29 Q1214 1519.66 1221.8 1519.66 Q1225.14 1519.66 1228.61 1520.27 Q1232.08 1520.87 1235.71 1522.08 Z\" fill=\"#000000\" fill-rule=\"evenodd\" fill-opacity=\"1\" /><path clip-path=\"url(#clip310)\" d=\"M1254.14 1522.27 L1254.14 1532.4 L1266.2 1532.4 L1266.2 1536.95 L1254.14 1536.95 L1254.14 1556.3 Q1254.14 1560.66 1255.32 1561.9 Q1256.53 1563.14 1260.19 1563.14 L1266.2 1563.14 L1266.2 1568.04 L1260.19 1568.04 Q1253.41 1568.04 1250.83 1565.53 Q1248.25 1562.98 1248.25 1556.3 L1248.25 1536.95 L1243.95 1536.95 L1243.95 1532.4 L1248.25 1532.4 L1248.25 1522.27 L1254.14 1522.27 Z\" fill=\"#000000\" fill-rule=\"evenodd\" fill-opacity=\"1\" /><path clip-path=\"url(#clip310)\" d=\"M1304.4 1548.76 L1304.4 1551.62 L1277.47 1551.62 Q1277.85 1557.67 1281.1 1560.85 Q1284.38 1564 1290.2 1564 Q1293.58 1564 1296.73 1563.17 Q1299.91 1562.35 1303.03 1560.69 L1303.03 1566.23 Q1299.88 1567.57 1296.57 1568.27 Q1293.26 1568.97 1289.85 1568.97 Q1281.32 1568.97 1276.32 1564 Q1271.36 1559.04 1271.36 1550.57 Q1271.36 1541.82 1276.07 1536.69 Q1280.81 1531.54 1288.83 1531.54 Q1296.03 1531.54 1300.2 1536.18 Q1304.4 1540.8 1304.4 1548.76 M1298.54 1547.04 Q1298.48 1542.23 1295.84 1539.37 Q1293.23 1536.5 1288.9 1536.5 Q1283.99 1536.5 1281.03 1539.27 Q1278.11 1542.04 1277.66 1547.07 L1298.54 1547.04 Z\" fill=\"#000000\" fill-rule=\"evenodd\" fill-opacity=\"1\" /><path clip-path=\"url(#clip310)\" d=\"M1319.67 1562.7 L1319.67 1581.6 L1313.79 1581.6 L1313.79 1532.4 L1319.67 1532.4 L1319.67 1537.81 Q1321.52 1534.62 1324.32 1533.1 Q1327.15 1531.54 1331.07 1531.54 Q1337.56 1531.54 1341.6 1536.69 Q1345.68 1541.85 1345.68 1550.25 Q1345.68 1558.65 1341.6 1563.81 Q1337.56 1568.97 1331.07 1568.97 Q1327.15 1568.97 1324.32 1567.44 Q1321.52 1565.88 1319.67 1562.7 M1339.6 1550.25 Q1339.6 1543.79 1336.93 1540.13 Q1334.28 1536.44 1329.64 1536.44 Q1324.99 1536.44 1322.32 1540.13 Q1319.67 1543.79 1319.67 1550.25 Q1319.67 1556.71 1322.32 1560.4 Q1324.99 1564.07 1329.64 1564.07 Q1334.28 1564.07 1336.93 1560.4 Q1339.6 1556.71 1339.6 1550.25 Z\" fill=\"#000000\" fill-rule=\"evenodd\" fill-opacity=\"1\" /><path clip-path=\"url(#clip310)\" d=\"M1378.11 1533.45 L1378.11 1538.98 Q1375.63 1537.71 1372.96 1537.07 Q1370.28 1536.44 1367.42 1536.44 Q1363.06 1536.44 1360.86 1537.77 Q1358.7 1539.11 1358.7 1541.79 Q1358.7 1543.82 1360.26 1545 Q1361.82 1546.15 1366.53 1547.2 L1368.53 1547.64 Q1374.77 1548.98 1377.38 1551.43 Q1380.02 1553.85 1380.02 1558.21 Q1380.02 1563.17 1376.07 1566.07 Q1372.16 1568.97 1365.28 1568.97 Q1362.42 1568.97 1359.3 1568.39 Q1356.21 1567.85 1352.78 1566.74 L1352.78 1560.69 Q1356.02 1562.38 1359.17 1563.24 Q1362.32 1564.07 1365.41 1564.07 Q1369.55 1564.07 1371.78 1562.66 Q1374.01 1561.23 1374.01 1558.65 Q1374.01 1556.27 1372.38 1554.99 Q1370.79 1553.72 1365.35 1552.54 L1363.31 1552.07 Q1357.87 1550.92 1355.45 1548.56 Q1353.03 1546.18 1353.03 1542.04 Q1353.03 1537.01 1356.6 1534.27 Q1360.16 1531.54 1366.72 1531.54 Q1369.96 1531.54 1372.83 1532.01 Q1375.69 1532.49 1378.11 1533.45 Z\" fill=\"#000000\" fill-rule=\"evenodd\" fill-opacity=\"1\" /><polyline clip-path=\"url(#clip312)\" style=\"stroke:#000000; stroke-linecap:butt; stroke-linejoin:round; stroke-width:2; stroke-opacity:0.1; fill:none\" points=\"\n",
       "  232.389,1400.67 2352.76,1400.67 \n",
       "  \"/>\n",
       "<polyline clip-path=\"url(#clip312)\" style=\"stroke:#000000; stroke-linecap:butt; stroke-linejoin:round; stroke-width:2; stroke-opacity:0.1; fill:none\" points=\"\n",
       "  232.389,1072.05 2352.76,1072.05 \n",
       "  \"/>\n",
       "<polyline clip-path=\"url(#clip312)\" style=\"stroke:#000000; stroke-linecap:butt; stroke-linejoin:round; stroke-width:2; stroke-opacity:0.1; fill:none\" points=\"\n",
       "  232.389,743.427 2352.76,743.427 \n",
       "  \"/>\n",
       "<polyline clip-path=\"url(#clip312)\" style=\"stroke:#000000; stroke-linecap:butt; stroke-linejoin:round; stroke-width:2; stroke-opacity:0.1; fill:none\" points=\"\n",
       "  232.389,414.807 2352.76,414.807 \n",
       "  \"/>\n",
       "<polyline clip-path=\"url(#clip312)\" style=\"stroke:#000000; stroke-linecap:butt; stroke-linejoin:round; stroke-width:2; stroke-opacity:0.1; fill:none\" points=\"\n",
       "  232.389,86.1857 2352.76,86.1857 \n",
       "  \"/>\n",
       "<polyline clip-path=\"url(#clip310)\" style=\"stroke:#000000; stroke-linecap:butt; stroke-linejoin:round; stroke-width:4; stroke-opacity:1; fill:none\" points=\"\n",
       "  232.389,1423.18 232.389,47.2441 \n",
       "  \"/>\n",
       "<polyline clip-path=\"url(#clip310)\" style=\"stroke:#000000; stroke-linecap:butt; stroke-linejoin:round; stroke-width:4; stroke-opacity:1; fill:none\" points=\"\n",
       "  232.389,1400.67 251.287,1400.67 \n",
       "  \"/>\n",
       "<polyline clip-path=\"url(#clip310)\" style=\"stroke:#000000; stroke-linecap:butt; stroke-linejoin:round; stroke-width:4; stroke-opacity:1; fill:none\" points=\"\n",
       "  232.389,1072.05 251.287,1072.05 \n",
       "  \"/>\n",
       "<polyline clip-path=\"url(#clip310)\" style=\"stroke:#000000; stroke-linecap:butt; stroke-linejoin:round; stroke-width:4; stroke-opacity:1; fill:none\" points=\"\n",
       "  232.389,743.427 251.287,743.427 \n",
       "  \"/>\n",
       "<polyline clip-path=\"url(#clip310)\" style=\"stroke:#000000; stroke-linecap:butt; stroke-linejoin:round; stroke-width:4; stroke-opacity:1; fill:none\" points=\"\n",
       "  232.389,414.807 251.287,414.807 \n",
       "  \"/>\n",
       "<polyline clip-path=\"url(#clip310)\" style=\"stroke:#000000; stroke-linecap:butt; stroke-linejoin:round; stroke-width:4; stroke-opacity:1; fill:none\" points=\"\n",
       "  232.389,86.1857 251.287,86.1857 \n",
       "  \"/>\n",
       "<path clip-path=\"url(#clip310)\" d=\"M148.311 1414.01 L164.63 1414.01 L164.63 1417.95 L142.686 1417.95 L142.686 1414.01 Q145.348 1411.26 149.931 1406.63 Q154.538 1401.98 155.718 1400.63 Q157.964 1398.11 158.843 1396.38 Q159.746 1394.62 159.746 1392.93 Q159.746 1390.17 157.802 1388.44 Q155.88 1386.7 152.778 1386.7 Q150.579 1386.7 148.126 1387.46 Q145.695 1388.23 142.917 1389.78 L142.917 1385.06 Q145.741 1383.92 148.195 1383.34 Q150.649 1382.76 152.686 1382.76 Q158.056 1382.76 161.251 1385.45 Q164.445 1388.13 164.445 1392.63 Q164.445 1394.75 163.635 1396.68 Q162.848 1398.57 160.741 1401.17 Q160.163 1401.84 157.061 1405.06 Q153.959 1408.25 148.311 1414.01 Z\" fill=\"#000000\" fill-rule=\"evenodd\" fill-opacity=\"1\" /><path clip-path=\"url(#clip310)\" d=\"M184.445 1386.47 Q180.834 1386.47 179.005 1390.03 Q177.2 1393.57 177.2 1400.7 Q177.2 1407.81 179.005 1411.38 Q180.834 1414.92 184.445 1414.92 Q188.079 1414.92 189.885 1411.38 Q191.713 1407.81 191.713 1400.7 Q191.713 1393.57 189.885 1390.03 Q188.079 1386.47 184.445 1386.47 M184.445 1382.76 Q190.255 1382.76 193.311 1387.37 Q196.389 1391.95 196.389 1400.7 Q196.389 1409.43 193.311 1414.04 Q190.255 1418.62 184.445 1418.62 Q178.635 1418.62 175.556 1414.04 Q172.501 1409.43 172.501 1400.7 Q172.501 1391.95 175.556 1387.37 Q178.635 1382.76 184.445 1382.76 Z\" fill=\"#000000\" fill-rule=\"evenodd\" fill-opacity=\"1\" /><path clip-path=\"url(#clip310)\" d=\"M157.13 1058.84 L145.325 1077.29 L157.13 1077.29 L157.13 1058.84 M155.903 1054.77 L161.783 1054.77 L161.783 1077.29 L166.714 1077.29 L166.714 1081.18 L161.783 1081.18 L161.783 1089.33 L157.13 1089.33 L157.13 1081.18 L141.529 1081.18 L141.529 1076.67 L155.903 1054.77 Z\" fill=\"#000000\" fill-rule=\"evenodd\" fill-opacity=\"1\" /><path clip-path=\"url(#clip310)\" d=\"M184.445 1057.85 Q180.834 1057.85 179.005 1061.41 Q177.2 1064.95 177.2 1072.08 Q177.2 1079.19 179.005 1082.75 Q180.834 1086.3 184.445 1086.3 Q188.079 1086.3 189.885 1082.75 Q191.713 1079.19 191.713 1072.08 Q191.713 1064.95 189.885 1061.41 Q188.079 1057.85 184.445 1057.85 M184.445 1054.14 Q190.255 1054.14 193.311 1058.75 Q196.389 1063.33 196.389 1072.08 Q196.389 1080.81 193.311 1085.42 Q190.255 1090 184.445 1090 Q178.635 1090 175.556 1085.42 Q172.501 1080.81 172.501 1072.08 Q172.501 1063.33 175.556 1058.75 Q178.635 1054.14 184.445 1054.14 Z\" fill=\"#000000\" fill-rule=\"evenodd\" fill-opacity=\"1\" /><path clip-path=\"url(#clip310)\" d=\"M154.862 741.564 Q151.714 741.564 149.862 743.717 Q148.033 745.87 148.033 749.62 Q148.033 753.346 149.862 755.522 Q151.714 757.675 154.862 757.675 Q158.01 757.675 159.839 755.522 Q161.69 753.346 161.69 749.62 Q161.69 745.87 159.839 743.717 Q158.01 741.564 154.862 741.564 M164.144 726.911 L164.144 731.171 Q162.385 730.337 160.579 729.897 Q158.797 729.458 157.038 729.458 Q152.408 729.458 149.954 732.583 Q147.524 735.708 147.177 742.027 Q148.542 740.013 150.603 738.948 Q152.663 737.86 155.14 737.86 Q160.348 737.86 163.357 741.032 Q166.39 744.18 166.39 749.62 Q166.39 754.944 163.241 758.161 Q160.093 761.379 154.862 761.379 Q148.866 761.379 145.695 756.795 Q142.524 752.189 142.524 743.462 Q142.524 735.268 146.413 730.407 Q150.302 725.522 156.853 725.522 Q158.612 725.522 160.394 725.87 Q162.2 726.217 164.144 726.911 Z\" fill=\"#000000\" fill-rule=\"evenodd\" fill-opacity=\"1\" /><path clip-path=\"url(#clip310)\" d=\"M184.445 729.226 Q180.834 729.226 179.005 732.791 Q177.2 736.333 177.2 743.462 Q177.2 750.569 179.005 754.133 Q180.834 757.675 184.445 757.675 Q188.079 757.675 189.885 754.133 Q191.713 750.569 191.713 743.462 Q191.713 736.333 189.885 732.791 Q188.079 729.226 184.445 729.226 M184.445 725.522 Q190.255 725.522 193.311 730.129 Q196.389 734.712 196.389 743.462 Q196.389 752.189 193.311 756.795 Q190.255 761.379 184.445 761.379 Q178.635 761.379 175.556 756.795 Q172.501 752.189 172.501 743.462 Q172.501 734.712 175.556 730.129 Q178.635 725.522 184.445 725.522 Z\" fill=\"#000000\" fill-rule=\"evenodd\" fill-opacity=\"1\" /><path clip-path=\"url(#clip310)\" d=\"M154.283 415.675 Q150.95 415.675 149.028 417.457 Q147.13 419.239 147.13 422.364 Q147.13 425.489 149.028 427.272 Q150.95 429.054 154.283 429.054 Q157.616 429.054 159.538 427.272 Q161.459 425.466 161.459 422.364 Q161.459 419.239 159.538 417.457 Q157.64 415.675 154.283 415.675 M149.607 413.684 Q146.598 412.943 144.908 410.883 Q143.241 408.823 143.241 405.86 Q143.241 401.716 146.181 399.309 Q149.144 396.902 154.283 396.902 Q159.445 396.902 162.385 399.309 Q165.325 401.716 165.325 405.86 Q165.325 408.823 163.635 410.883 Q161.968 412.943 158.982 413.684 Q162.362 414.471 164.237 416.763 Q166.135 419.054 166.135 422.364 Q166.135 427.388 163.056 430.073 Q160.001 432.758 154.283 432.758 Q148.566 432.758 145.487 430.073 Q142.431 427.388 142.431 422.364 Q142.431 419.054 144.329 416.763 Q146.228 414.471 149.607 413.684 M147.894 406.3 Q147.894 408.985 149.561 410.489 Q151.251 411.994 154.283 411.994 Q157.292 411.994 158.982 410.489 Q160.695 408.985 160.695 406.3 Q160.695 403.615 158.982 402.11 Q157.292 400.605 154.283 400.605 Q151.251 400.605 149.561 402.11 Q147.894 403.615 147.894 406.3 Z\" fill=\"#000000\" fill-rule=\"evenodd\" fill-opacity=\"1\" /><path clip-path=\"url(#clip310)\" d=\"M184.445 400.605 Q180.834 400.605 179.005 404.17 Q177.2 407.712 177.2 414.841 Q177.2 421.948 179.005 425.513 Q180.834 429.054 184.445 429.054 Q188.079 429.054 189.885 425.513 Q191.713 421.948 191.713 414.841 Q191.713 407.712 189.885 404.17 Q188.079 400.605 184.445 400.605 M184.445 396.902 Q190.255 396.902 193.311 401.508 Q196.389 406.091 196.389 414.841 Q196.389 423.568 193.311 428.175 Q190.255 432.758 184.445 432.758 Q178.635 432.758 175.556 428.175 Q172.501 423.568 172.501 414.841 Q172.501 406.091 175.556 401.508 Q178.635 396.902 184.445 396.902 Z\" fill=\"#000000\" fill-rule=\"evenodd\" fill-opacity=\"1\" /><path clip-path=\"url(#clip310)\" d=\"M114.931 99.5305 L122.57 99.5305 L122.57 73.1649 L114.26 74.8316 L114.26 70.5723 L122.524 68.9057 L127.2 68.9057 L127.2 99.5305 L134.839 99.5305 L134.839 103.466 L114.931 103.466 L114.931 99.5305 Z\" fill=\"#000000\" fill-rule=\"evenodd\" fill-opacity=\"1\" /><path clip-path=\"url(#clip310)\" d=\"M154.283 71.9844 Q150.672 71.9844 148.843 75.5492 Q147.038 79.0908 147.038 86.2204 Q147.038 93.3268 148.843 96.8916 Q150.672 100.433 154.283 100.433 Q157.917 100.433 159.723 96.8916 Q161.552 93.3268 161.552 86.2204 Q161.552 79.0908 159.723 75.5492 Q157.917 71.9844 154.283 71.9844 M154.283 68.2807 Q160.093 68.2807 163.149 72.8871 Q166.227 77.4704 166.227 86.2204 Q166.227 94.9472 163.149 99.5537 Q160.093 104.137 154.283 104.137 Q148.473 104.137 145.394 99.5537 Q142.339 94.9472 142.339 86.2204 Q142.339 77.4704 145.394 72.8871 Q148.473 68.2807 154.283 68.2807 Z\" fill=\"#000000\" fill-rule=\"evenodd\" fill-opacity=\"1\" /><path clip-path=\"url(#clip310)\" d=\"M184.445 71.9844 Q180.834 71.9844 179.005 75.5492 Q177.2 79.0908 177.2 86.2204 Q177.2 93.3268 179.005 96.8916 Q180.834 100.433 184.445 100.433 Q188.079 100.433 189.885 96.8916 Q191.713 93.3268 191.713 86.2204 Q191.713 79.0908 189.885 75.5492 Q188.079 71.9844 184.445 71.9844 M184.445 68.2807 Q190.255 68.2807 193.311 72.8871 Q196.389 77.4704 196.389 86.2204 Q196.389 94.9472 193.311 99.5537 Q190.255 104.137 184.445 104.137 Q178.635 104.137 175.556 99.5537 Q172.501 94.9472 172.501 86.2204 Q172.501 77.4704 175.556 72.8871 Q178.635 68.2807 184.445 68.2807 Z\" fill=\"#000000\" fill-rule=\"evenodd\" fill-opacity=\"1\" /><path clip-path=\"url(#clip310)\" d=\"M16.4842 822.056 L16.4842 815.595 L45.3526 815.595 Q52.9915 815.595 56.3653 812.826 Q59.7073 810.057 59.7073 803.85 Q59.7073 797.675 56.3653 794.906 Q52.9915 792.137 45.3526 792.137 L16.4842 792.137 L16.4842 785.676 L46.1484 785.676 Q55.4423 785.676 60.1847 790.291 Q64.9272 794.875 64.9272 803.85 Q64.9272 812.858 60.1847 817.473 Q55.4423 822.056 46.1484 822.056 L16.4842 822.056 Z\" fill=\"#000000\" fill-rule=\"evenodd\" fill-opacity=\"1\" /><path clip-path=\"url(#clip310)\" d=\"M29.4065 751.142 L34.9447 751.142 Q33.6716 753.625 33.035 756.298 Q32.3984 758.972 32.3984 761.837 Q32.3984 766.197 33.7352 768.393 Q35.072 770.558 37.7456 770.558 Q39.7826 770.558 40.9603 768.998 Q42.1061 767.438 43.1565 762.728 L43.6021 760.723 Q44.9389 754.484 47.3897 751.874 Q49.8086 749.232 54.1691 749.232 Q59.1344 749.232 62.0308 753.179 Q64.9272 757.094 64.9272 763.969 Q64.9272 766.834 64.3543 769.953 Q63.8132 773.04 62.6992 776.478 L56.6518 776.478 Q58.3387 773.231 59.198 770.08 Q60.0256 766.929 60.0256 763.842 Q60.0256 759.704 58.6251 757.476 Q57.1929 755.248 54.6147 755.248 Q52.2276 755.248 50.9545 756.871 Q49.6813 758.463 48.5037 763.905 L48.0262 765.942 Q46.8804 771.385 44.5251 773.804 Q42.138 776.223 38.0002 776.223 Q32.9713 776.223 30.2341 772.658 Q27.4968 769.093 27.4968 762.537 Q27.4968 759.29 27.9743 756.426 Q28.4517 753.561 29.4065 751.142 Z\" fill=\"#000000\" fill-rule=\"evenodd\" fill-opacity=\"1\" /><path clip-path=\"url(#clip310)\" d=\"M44.7161 709.415 L47.5806 709.415 L47.5806 736.342 Q53.6281 735.96 56.8109 732.713 Q59.9619 729.435 59.9619 723.61 Q59.9619 720.237 59.1344 717.086 Q58.3069 713.903 56.6518 710.784 L62.1899 710.784 Q63.5267 713.935 64.227 717.245 Q64.9272 720.555 64.9272 723.961 Q64.9272 732.491 59.9619 737.488 Q54.9967 742.453 46.5303 742.453 Q37.7774 742.453 32.6531 737.742 Q27.4968 733 27.4968 724.979 Q27.4968 717.786 32.1438 713.616 Q36.7589 709.415 44.7161 709.415 M42.9973 715.271 Q38.1912 715.335 35.3266 717.977 Q32.4621 720.587 32.4621 724.915 Q32.4621 729.817 35.2312 732.777 Q38.0002 735.705 43.0292 736.151 L42.9973 715.271 Z\" fill=\"#000000\" fill-rule=\"evenodd\" fill-opacity=\"1\" /><path clip-path=\"url(#clip310)\" d=\"M33.8307 679.146 Q33.2578 680.133 33.0032 681.31 Q32.7167 682.456 32.7167 683.857 Q32.7167 688.822 35.9632 691.495 Q39.1779 694.137 45.2253 694.137 L64.0042 694.137 L64.0042 700.026 L28.3562 700.026 L28.3562 694.137 L33.8944 694.137 Q30.6479 692.291 29.0883 689.331 Q27.4968 686.371 27.4968 682.138 Q27.4968 681.533 27.5923 680.801 Q27.656 680.069 27.8151 679.178 L33.8307 679.146 Z\" fill=\"#000000\" fill-rule=\"evenodd\" fill-opacity=\"1\" /><path clip-path=\"url(#clip310)\" d=\"M29.4065 650.278 L34.9447 650.278 Q33.6716 652.76 33.035 655.434 Q32.3984 658.107 32.3984 660.972 Q32.3984 665.332 33.7352 667.529 Q35.072 669.693 37.7456 669.693 Q39.7826 669.693 40.9603 668.133 Q42.1061 666.574 43.1565 661.863 L43.6021 659.858 Q44.9389 653.62 47.3897 651.01 Q49.8086 648.368 54.1691 648.368 Q59.1344 648.368 62.0308 652.315 Q64.9272 656.229 64.9272 663.104 Q64.9272 665.969 64.3543 669.088 Q63.8132 672.176 62.6992 675.613 L56.6518 675.613 Q58.3387 672.367 59.198 669.216 Q60.0256 666.064 60.0256 662.977 Q60.0256 658.839 58.6251 656.611 Q57.1929 654.383 54.6147 654.383 Q52.2276 654.383 50.9545 656.007 Q49.6813 657.598 48.5037 663.041 L48.0262 665.078 Q46.8804 670.52 44.5251 672.939 Q42.138 675.358 38.0002 675.358 Q32.9713 675.358 30.2341 671.794 Q27.4968 668.229 27.4968 661.672 Q27.4968 658.426 27.9743 655.561 Q28.4517 652.696 29.4065 650.278 Z\" fill=\"#000000\" fill-rule=\"evenodd\" fill-opacity=\"1\" /><polyline clip-path=\"url(#clip312)\" style=\"stroke:#009af9; stroke-linecap:butt; stroke-linejoin:round; stroke-width:4; stroke-opacity:1; fill:none\" points=\"\n",
       "  292.4,86.1857 312.403,86.1857 332.407,431.238 352.41,661.272 372.414,726.996 392.417,743.427 412.42,743.427 432.424,809.152 452.427,809.152 472.431,825.583 \n",
       "  492.434,825.583 512.438,825.583 532.441,842.014 552.445,842.014 572.448,891.307 592.452,891.307 612.455,891.307 632.459,891.307 652.462,891.307 672.465,891.307 \n",
       "  692.469,891.307 712.472,891.307 732.476,891.307 752.479,891.307 772.483,891.307 792.486,891.307 812.49,891.307 832.493,891.307 852.497,891.307 872.5,924.169 \n",
       "  892.503,924.169 912.507,924.169 932.51,924.169 952.514,924.169 972.517,924.169 992.521,924.169 1012.52,924.169 1032.53,924.169 1052.53,924.169 1072.53,924.169 \n",
       "  1092.54,924.169 1112.54,924.169 1132.54,891.307 1152.55,891.307 1172.55,907.738 1192.56,907.738 1212.56,907.738 1232.56,907.738 1252.57,907.738 1272.57,907.738 \n",
       "  1292.57,907.738 1312.58,907.738 1332.58,907.738 1352.58,907.738 1372.59,907.738 1392.59,907.738 1412.59,907.738 1432.6,907.738 1452.6,907.738 1472.6,907.738 \n",
       "  1492.61,907.738 1512.61,907.738 1532.61,907.738 1552.62,907.738 1572.62,907.738 1592.62,907.738 1612.63,907.738 1632.63,907.738 1652.63,907.738 1672.64,907.738 \n",
       "  1692.64,907.738 1712.65,907.738 1732.65,907.738 1752.65,907.738 1772.66,907.738 1792.66,907.738 1812.66,907.738 1832.67,907.738 1852.67,907.738 1872.67,907.738 \n",
       "  1892.68,907.738 1912.68,907.738 1932.68,907.738 1952.69,907.738 1972.69,907.738 1992.69,907.738 2012.7,907.738 2032.7,907.738 2052.7,907.738 2072.71,907.738 \n",
       "  2092.71,907.738 2112.71,907.738 2132.72,907.738 2152.72,907.738 2172.72,907.738 2192.73,907.738 2212.73,907.738 2232.74,907.738 2252.74,907.738 2272.74,907.738 \n",
       "  2292.75,907.738 \n",
       "  \"/>\n",
       "<polyline clip-path=\"url(#clip312)\" style=\"stroke:#e26f46; stroke-linecap:butt; stroke-linejoin:round; stroke-width:4; stroke-opacity:1; fill:none\" points=\"\n",
       "  332.407,1384.24 352.41,1154.2 372.414,1088.48 392.417,1072.05 412.42,1072.05 432.424,1006.32 452.427,1006.32 472.431,989.893 492.434,989.893 512.438,989.893 \n",
       "  532.441,973.462 552.445,973.462 572.448,924.169 592.452,924.169 612.455,924.169 632.459,924.169 652.462,924.169 672.465,924.169 692.469,924.169 712.472,924.169 \n",
       "  732.476,924.169 752.479,924.169 772.483,924.169 792.486,924.169 812.49,924.169 832.493,924.169 852.497,924.169 872.5,891.307 892.503,891.307 912.507,891.307 \n",
       "  932.51,891.307 952.514,891.307 972.517,891.307 992.521,891.307 1012.52,891.307 1032.53,891.307 1052.53,891.307 1072.53,891.307 1092.54,891.307 1112.54,891.307 \n",
       "  1132.54,924.169 1152.55,924.169 1172.55,907.738 1192.56,907.738 1212.56,907.738 1232.56,907.738 1252.57,907.738 1272.57,907.738 1292.57,907.738 1312.58,907.738 \n",
       "  1332.58,907.738 1352.58,907.738 1372.59,907.738 1392.59,907.738 1412.59,907.738 1432.6,907.738 1452.6,907.738 1472.6,907.738 1492.61,907.738 1512.61,907.738 \n",
       "  1532.61,907.738 1552.62,907.738 1572.62,907.738 1592.62,907.738 1612.63,907.738 1632.63,907.738 1652.63,907.738 1672.64,907.738 1692.64,907.738 1712.65,907.738 \n",
       "  1732.65,907.738 1752.65,907.738 1772.66,907.738 1792.66,907.738 1812.66,907.738 1832.67,907.738 1852.67,907.738 1872.67,907.738 1892.68,907.738 1912.68,907.738 \n",
       "  1932.68,907.738 1952.69,907.738 1972.69,907.738 1992.69,907.738 2012.7,907.738 2032.7,907.738 2052.7,907.738 2072.71,907.738 2092.71,907.738 2112.71,907.738 \n",
       "  2132.72,907.738 2152.72,907.738 2172.72,907.738 2192.73,907.738 2212.73,907.738 2232.74,907.738 2252.74,907.738 2272.74,907.738 2292.75,907.738 \n",
       "  \"/>\n",
       "<path clip-path=\"url(#clip310)\" d=\"\n",
       "M1634.09 248.629 L2282.08 248.629 L2282.08 93.1086 L1634.09 93.1086  Z\n",
       "  \" fill=\"#ffffff\" fill-rule=\"evenodd\" fill-opacity=\"1\"/>\n",
       "<polyline clip-path=\"url(#clip310)\" style=\"stroke:#000000; stroke-linecap:butt; stroke-linejoin:round; stroke-width:4; stroke-opacity:1; fill:none\" points=\"\n",
       "  1634.09,248.629 2282.08,248.629 2282.08,93.1086 1634.09,93.1086 1634.09,248.629 \n",
       "  \"/>\n",
       "<polyline clip-path=\"url(#clip310)\" style=\"stroke:#009af9; stroke-linecap:butt; stroke-linejoin:round; stroke-width:4; stroke-opacity:1; fill:none\" points=\"\n",
       "  1658.09,144.949 1802.09,144.949 \n",
       "  \"/>\n",
       "<path clip-path=\"url(#clip310)\" d=\"M1842.48 146.025 Q1843.99 146.534 1845.4 148.201 Q1846.83 149.868 1848.27 152.784 L1853.01 162.229 L1847.99 162.229 L1843.57 153.363 Q1841.86 149.891 1840.24 148.756 Q1838.64 147.622 1835.86 147.622 L1830.77 147.622 L1830.77 162.229 L1826.09 162.229 L1826.09 127.669 L1836.65 127.669 Q1842.57 127.669 1845.49 130.145 Q1848.41 132.622 1848.41 137.622 Q1848.41 140.886 1846.88 143.039 Q1845.38 145.192 1842.48 146.025 M1830.77 131.511 L1830.77 143.78 L1836.65 143.78 Q1840.03 143.78 1841.74 142.229 Q1843.48 140.655 1843.48 137.622 Q1843.48 134.59 1841.74 133.062 Q1840.03 131.511 1836.65 131.511 L1830.77 131.511 Z\" fill=\"#000000\" fill-rule=\"evenodd\" fill-opacity=\"1\" /><path clip-path=\"url(#clip310)\" d=\"M1866.76 139.289 Q1863.34 139.289 1861.35 141.974 Q1859.36 144.636 1859.36 149.289 Q1859.36 153.942 1861.32 156.627 Q1863.32 159.289 1866.76 159.289 Q1870.17 159.289 1872.16 156.604 Q1874.15 153.918 1874.15 149.289 Q1874.15 144.682 1872.16 141.997 Q1870.17 139.289 1866.76 139.289 M1866.76 135.678 Q1872.32 135.678 1875.49 139.289 Q1878.66 142.9 1878.66 149.289 Q1878.66 155.655 1875.49 159.289 Q1872.32 162.9 1866.76 162.9 Q1861.19 162.9 1858.01 159.289 Q1854.87 155.655 1854.87 149.289 Q1854.87 142.9 1858.01 139.289 Q1861.19 135.678 1866.76 135.678 Z\" fill=\"#000000\" fill-rule=\"evenodd\" fill-opacity=\"1\" /><path clip-path=\"url(#clip310)\" d=\"M1885.28 151.997 L1885.28 136.303 L1889.54 136.303 L1889.54 151.835 Q1889.54 155.516 1890.98 157.368 Q1892.41 159.196 1895.28 159.196 Q1898.73 159.196 1900.72 156.997 Q1902.74 154.798 1902.74 151.002 L1902.74 136.303 L1907 136.303 L1907 162.229 L1902.74 162.229 L1902.74 158.247 Q1901.19 160.608 1899.13 161.766 Q1897.09 162.9 1894.38 162.9 Q1889.91 162.9 1887.6 160.122 Q1885.28 157.344 1885.28 151.997 M1896 135.678 L1896 135.678 Z\" fill=\"#000000\" fill-rule=\"evenodd\" fill-opacity=\"1\" /><path clip-path=\"url(#clip310)\" d=\"M1919.98 128.942 L1919.98 136.303 L1928.75 136.303 L1928.75 139.613 L1919.98 139.613 L1919.98 153.687 Q1919.98 156.858 1920.84 157.761 Q1921.72 158.664 1924.38 158.664 L1928.75 158.664 L1928.75 162.229 L1924.38 162.229 Q1919.45 162.229 1917.57 160.4 Q1915.7 158.548 1915.7 153.687 L1915.7 139.613 L1912.57 139.613 L1912.57 136.303 L1915.7 136.303 L1915.7 128.942 L1919.98 128.942 Z\" fill=\"#000000\" fill-rule=\"evenodd\" fill-opacity=\"1\" /><path clip-path=\"url(#clip310)\" d=\"M1956.53 148.201 L1956.53 150.284 L1936.95 150.284 Q1937.23 154.682 1939.59 156.997 Q1941.97 159.289 1946.21 159.289 Q1948.66 159.289 1950.95 158.687 Q1953.27 158.085 1955.54 156.881 L1955.54 160.909 Q1953.25 161.881 1950.84 162.391 Q1948.43 162.9 1945.95 162.9 Q1939.75 162.9 1936.12 159.289 Q1932.5 155.678 1932.5 149.52 Q1932.5 143.155 1935.93 139.428 Q1939.38 135.678 1945.21 135.678 Q1950.44 135.678 1953.48 139.057 Q1956.53 142.414 1956.53 148.201 M1952.27 146.951 Q1952.23 143.456 1950.31 141.372 Q1948.41 139.289 1945.26 139.289 Q1941.69 139.289 1939.54 141.303 Q1937.41 143.317 1937.09 146.974 L1952.27 146.951 Z\" fill=\"#000000\" fill-rule=\"evenodd\" fill-opacity=\"1\" /><path clip-path=\"url(#clip310)\" d=\"M1980 158.293 L1987.64 158.293 L1987.64 131.928 L1979.33 133.595 L1979.33 129.335 L1987.6 127.669 L1992.27 127.669 L1992.27 158.293 L1999.91 158.293 L1999.91 162.229 L1980 162.229 L1980 158.293 Z\" fill=\"#000000\" fill-rule=\"evenodd\" fill-opacity=\"1\" /><path clip-path=\"url(#clip310)\" d=\"M2024.91 156.349 L2029.8 156.349 L2029.8 162.229 L2024.91 162.229 L2024.91 156.349 M2024.91 137.715 L2029.8 137.715 L2029.8 143.594 L2024.91 143.594 L2024.91 137.715 Z\" fill=\"#000000\" fill-rule=\"evenodd\" fill-opacity=\"1\" /><path clip-path=\"url(#clip310)\" d=\"M2054.47 126.21 L2064.29 126.21 L2064.29 129.52 L2058.73 129.52 L2058.73 165.168 L2064.29 165.168 L2064.29 168.479 L2054.47 168.479 L2054.47 126.21 Z\" fill=\"#000000\" fill-rule=\"evenodd\" fill-opacity=\"1\" /><path clip-path=\"url(#clip310)\" d=\"M2074.77 158.293 L2082.41 158.293 L2082.41 131.928 L2074.1 133.595 L2074.1 129.335 L2082.36 127.669 L2087.04 127.669 L2087.04 158.293 L2094.68 158.293 L2094.68 162.229 L2074.77 162.229 L2074.77 158.293 Z\" fill=\"#000000\" fill-rule=\"evenodd\" fill-opacity=\"1\" /><path clip-path=\"url(#clip310)\" d=\"M2104.61 156.349 L2109.49 156.349 L2109.49 160.33 L2105.7 167.738 L2102.71 167.738 L2104.61 160.33 L2104.61 156.349 Z\" fill=\"#000000\" fill-rule=\"evenodd\" fill-opacity=\"1\" /><path clip-path=\"url(#clip310)\" d=\"M2148.43 143.594 Q2151.79 144.312 2153.66 146.581 Q2155.56 148.849 2155.56 152.182 Q2155.56 157.298 2152.04 160.099 Q2148.52 162.9 2142.04 162.9 Q2139.86 162.9 2137.55 162.46 Q2135.26 162.043 2132.8 161.187 L2132.8 156.673 Q2134.75 157.807 2137.06 158.386 Q2139.38 158.965 2141.9 158.965 Q2146.3 158.965 2148.59 157.229 Q2150.91 155.493 2150.91 152.182 Q2150.91 149.127 2148.75 147.414 Q2146.62 145.678 2142.8 145.678 L2138.78 145.678 L2138.78 141.835 L2142.99 141.835 Q2146.44 141.835 2148.27 140.469 Q2150.1 139.081 2150.1 136.488 Q2150.1 133.826 2148.2 132.414 Q2146.32 130.979 2142.8 130.979 Q2140.88 130.979 2138.68 131.395 Q2136.48 131.812 2133.85 132.692 L2133.85 128.525 Q2136.51 127.784 2138.82 127.414 Q2141.16 127.044 2143.22 127.044 Q2148.55 127.044 2151.65 129.474 Q2154.75 131.882 2154.75 136.002 Q2154.75 138.872 2153.11 140.863 Q2151.46 142.831 2148.43 143.594 Z\" fill=\"#000000\" fill-rule=\"evenodd\" fill-opacity=\"1\" /><path clip-path=\"url(#clip310)\" d=\"M2164.91 156.349 L2169.79 156.349 L2169.79 160.33 L2166 167.738 L2163.01 167.738 L2164.91 160.33 L2164.91 156.349 Z\" fill=\"#000000\" fill-rule=\"evenodd\" fill-opacity=\"1\" /><path clip-path=\"url(#clip310)\" d=\"M2207.41 131.743 L2195.61 150.192 L2207.41 150.192 L2207.41 131.743 M2206.18 127.669 L2212.06 127.669 L2212.06 150.192 L2216.99 150.192 L2216.99 154.081 L2212.06 154.081 L2212.06 162.229 L2207.41 162.229 L2207.41 154.081 L2191.81 154.081 L2191.81 149.567 L2206.18 127.669 Z\" fill=\"#000000\" fill-rule=\"evenodd\" fill-opacity=\"1\" /><path clip-path=\"url(#clip310)\" d=\"M2234.08 126.21 L2234.08 168.479 L2224.26 168.479 L2224.26 165.168 L2229.79 165.168 L2229.79 129.52 L2224.26 129.52 L2224.26 126.21 L2234.08 126.21 Z\" fill=\"#000000\" fill-rule=\"evenodd\" fill-opacity=\"1\" /><polyline clip-path=\"url(#clip310)\" style=\"stroke:#e26f46; stroke-linecap:butt; stroke-linejoin:round; stroke-width:4; stroke-opacity:1; fill:none\" points=\"\n",
       "  1658.09,196.789 1802.09,196.789 \n",
       "  \"/>\n",
       "<path clip-path=\"url(#clip310)\" d=\"M1842.48 197.865 Q1843.99 198.374 1845.4 200.041 Q1846.83 201.708 1848.27 204.624 L1853.01 214.069 L1847.99 214.069 L1843.57 205.203 Q1841.86 201.731 1840.24 200.596 Q1838.64 199.462 1835.86 199.462 L1830.77 199.462 L1830.77 214.069 L1826.09 214.069 L1826.09 179.509 L1836.65 179.509 Q1842.57 179.509 1845.49 181.985 Q1848.41 184.462 1848.41 189.462 Q1848.41 192.726 1846.88 194.879 Q1845.38 197.032 1842.48 197.865 M1830.77 183.351 L1830.77 195.62 L1836.65 195.62 Q1840.03 195.62 1841.74 194.069 Q1843.48 192.495 1843.48 189.462 Q1843.48 186.43 1841.74 184.902 Q1840.03 183.351 1836.65 183.351 L1830.77 183.351 Z\" fill=\"#000000\" fill-rule=\"evenodd\" fill-opacity=\"1\" /><path clip-path=\"url(#clip310)\" d=\"M1866.76 191.129 Q1863.34 191.129 1861.35 193.814 Q1859.36 196.476 1859.36 201.129 Q1859.36 205.782 1861.32 208.467 Q1863.32 211.129 1866.76 211.129 Q1870.17 211.129 1872.16 208.444 Q1874.15 205.758 1874.15 201.129 Q1874.15 196.522 1872.16 193.837 Q1870.17 191.129 1866.76 191.129 M1866.76 187.518 Q1872.32 187.518 1875.49 191.129 Q1878.66 194.74 1878.66 201.129 Q1878.66 207.495 1875.49 211.129 Q1872.32 214.74 1866.76 214.74 Q1861.19 214.74 1858.01 211.129 Q1854.87 207.495 1854.87 201.129 Q1854.87 194.74 1858.01 191.129 Q1861.19 187.518 1866.76 187.518 Z\" fill=\"#000000\" fill-rule=\"evenodd\" fill-opacity=\"1\" /><path clip-path=\"url(#clip310)\" d=\"M1885.28 203.837 L1885.28 188.143 L1889.54 188.143 L1889.54 203.675 Q1889.54 207.356 1890.98 209.208 Q1892.41 211.036 1895.28 211.036 Q1898.73 211.036 1900.72 208.837 Q1902.74 206.638 1902.74 202.842 L1902.74 188.143 L1907 188.143 L1907 214.069 L1902.74 214.069 L1902.74 210.087 Q1901.19 212.448 1899.13 213.606 Q1897.09 214.74 1894.38 214.74 Q1889.91 214.74 1887.6 211.962 Q1885.28 209.184 1885.28 203.837 M1896 187.518 L1896 187.518 Z\" fill=\"#000000\" fill-rule=\"evenodd\" fill-opacity=\"1\" /><path clip-path=\"url(#clip310)\" d=\"M1919.98 180.782 L1919.98 188.143 L1928.75 188.143 L1928.75 191.453 L1919.98 191.453 L1919.98 205.527 Q1919.98 208.698 1920.84 209.601 Q1921.72 210.504 1924.38 210.504 L1928.75 210.504 L1928.75 214.069 L1924.38 214.069 Q1919.45 214.069 1917.57 212.24 Q1915.7 210.388 1915.7 205.527 L1915.7 191.453 L1912.57 191.453 L1912.57 188.143 L1915.7 188.143 L1915.7 180.782 L1919.98 180.782 Z\" fill=\"#000000\" fill-rule=\"evenodd\" fill-opacity=\"1\" /><path clip-path=\"url(#clip310)\" d=\"M1956.53 200.041 L1956.53 202.124 L1936.95 202.124 Q1937.23 206.522 1939.59 208.837 Q1941.97 211.129 1946.21 211.129 Q1948.66 211.129 1950.95 210.527 Q1953.27 209.925 1955.54 208.721 L1955.54 212.749 Q1953.25 213.721 1950.84 214.231 Q1948.43 214.74 1945.95 214.74 Q1939.75 214.74 1936.12 211.129 Q1932.5 207.518 1932.5 201.36 Q1932.5 194.995 1935.93 191.268 Q1939.38 187.518 1945.21 187.518 Q1950.44 187.518 1953.48 190.897 Q1956.53 194.254 1956.53 200.041 M1952.27 198.791 Q1952.23 195.296 1950.31 193.212 Q1948.41 191.129 1945.26 191.129 Q1941.69 191.129 1939.54 193.143 Q1937.41 195.157 1937.09 198.814 L1952.27 198.791 Z\" fill=\"#000000\" fill-rule=\"evenodd\" fill-opacity=\"1\" /><path clip-path=\"url(#clip310)\" d=\"M1983.22 210.133 L1999.54 210.133 L1999.54 214.069 L1977.6 214.069 L1977.6 210.133 Q1980.26 207.379 1984.84 202.749 Q1989.45 198.096 1990.63 196.754 Q1992.87 194.231 1993.75 192.495 Q1994.66 190.735 1994.66 189.046 Q1994.66 186.291 1992.71 184.555 Q1990.79 182.819 1987.69 182.819 Q1985.49 182.819 1983.04 183.583 Q1980.61 184.347 1977.83 185.897 L1977.83 181.175 Q1980.65 180.041 1983.11 179.462 Q1985.56 178.884 1987.6 178.884 Q1992.97 178.884 1996.16 181.569 Q1999.36 184.254 1999.36 188.745 Q1999.36 190.874 1998.55 192.796 Q1997.76 194.694 1995.65 197.286 Q1995.07 197.958 1991.97 201.175 Q1988.87 204.37 1983.22 210.133 Z\" fill=\"#000000\" fill-rule=\"evenodd\" fill-opacity=\"1\" /><path clip-path=\"url(#clip310)\" d=\"M2024.91 208.189 L2029.8 208.189 L2029.8 214.069 L2024.91 214.069 L2024.91 208.189 M2024.91 189.555 L2029.8 189.555 L2029.8 195.434 L2024.91 195.434 L2024.91 189.555 Z\" fill=\"#000000\" fill-rule=\"evenodd\" fill-opacity=\"1\" /><path clip-path=\"url(#clip310)\" d=\"M2054.47 178.05 L2064.29 178.05 L2064.29 181.36 L2058.73 181.36 L2058.73 217.008 L2064.29 217.008 L2064.29 220.319 L2054.47 220.319 L2054.47 178.05 Z\" fill=\"#000000\" fill-rule=\"evenodd\" fill-opacity=\"1\" /><path clip-path=\"url(#clip310)\" d=\"M2074.77 210.133 L2082.41 210.133 L2082.41 183.768 L2074.1 185.435 L2074.1 181.175 L2082.36 179.509 L2087.04 179.509 L2087.04 210.133 L2094.68 210.133 L2094.68 214.069 L2074.77 214.069 L2074.77 210.133 Z\" fill=\"#000000\" fill-rule=\"evenodd\" fill-opacity=\"1\" /><path clip-path=\"url(#clip310)\" d=\"M2104.61 208.189 L2109.49 208.189 L2109.49 212.17 L2105.7 219.578 L2102.71 219.578 L2104.61 212.17 L2104.61 208.189 Z\" fill=\"#000000\" fill-rule=\"evenodd\" fill-opacity=\"1\" /><path clip-path=\"url(#clip310)\" d=\"M2138.29 210.133 L2154.61 210.133 L2154.61 214.069 L2132.67 214.069 L2132.67 210.133 Q2135.33 207.379 2139.91 202.749 Q2144.52 198.096 2145.7 196.754 Q2147.94 194.231 2148.82 192.495 Q2149.73 190.735 2149.73 189.046 Q2149.73 186.291 2147.78 184.555 Q2145.86 182.819 2142.76 182.819 Q2140.56 182.819 2138.11 183.583 Q2135.67 184.347 2132.9 185.897 L2132.9 181.175 Q2135.72 180.041 2138.17 179.462 Q2140.63 178.884 2142.67 178.884 Q2148.04 178.884 2151.23 181.569 Q2154.42 184.254 2154.42 188.745 Q2154.42 190.874 2153.61 192.796 Q2152.83 194.694 2150.72 197.286 Q2150.14 197.958 2147.04 201.175 Q2143.94 204.37 2138.29 210.133 Z\" fill=\"#000000\" fill-rule=\"evenodd\" fill-opacity=\"1\" /><path clip-path=\"url(#clip310)\" d=\"M2164.91 208.189 L2169.79 208.189 L2169.79 212.17 L2166 219.578 L2163.01 219.578 L2164.91 212.17 L2164.91 208.189 Z\" fill=\"#000000\" fill-rule=\"evenodd\" fill-opacity=\"1\" /><path clip-path=\"url(#clip310)\" d=\"M2207.41 183.583 L2195.61 202.032 L2207.41 202.032 L2207.41 183.583 M2206.18 179.509 L2212.06 179.509 L2212.06 202.032 L2216.99 202.032 L2216.99 205.921 L2212.06 205.921 L2212.06 214.069 L2207.41 214.069 L2207.41 205.921 L2191.81 205.921 L2191.81 201.407 L2206.18 179.509 Z\" fill=\"#000000\" fill-rule=\"evenodd\" fill-opacity=\"1\" /><path clip-path=\"url(#clip310)\" d=\"M2234.08 178.05 L2234.08 220.319 L2224.26 220.319 L2224.26 217.008 L2229.79 217.008 L2229.79 181.36 L2224.26 181.36 L2224.26 178.05 L2234.08 178.05 Z\" fill=\"#000000\" fill-rule=\"evenodd\" fill-opacity=\"1\" /></svg>\n"
      ]
     },
     "execution_count": 20,
     "metadata": {},
     "output_type": "execute_result"
    }
   ],
   "source": [
    "p1 = plot()\n",
    "paths = collect(model.properties[:routes])\n",
    "for (key, df) in pairs(routes_df)\n",
    "    idx = key.route_choice\n",
    "    label = \"Route \"*string(idx)*\" : \"*string(paths[idx])\n",
    "    plot!(df.step, df.count, label=label )\n",
    "end\n",
    "xlabel!(\"Steps\")\n",
    "ylabel!(\"Users\")"
   ]
  },
  {
   "cell_type": "markdown",
   "metadata": {
    "nbpresent": {
     "id": "24570d3d-4633-49eb-94ed-d269d01e8621"
    },
    "slideshow": {
     "slide_type": "slide"
    }
   },
   "source": [
    "Perhaps unsurprisingly, the agents quickly learn to distribute themeselves evenly between the two available routes."
   ]
  },
  {
   "cell_type": "code",
   "execution_count": 21,
   "metadata": {},
   "outputs": [
    {
     "data": {
      "image/svg+xml": [
       "<?xml version=\"1.0\" encoding=\"utf-8\"?>\n",
       "<svg xmlns=\"http://www.w3.org/2000/svg\" xmlns:xlink=\"http://www.w3.org/1999/xlink\" width=\"600\" height=\"400\" viewBox=\"0 0 2400 1600\">\n",
       "<defs>\n",
       "  <clipPath id=\"clip350\">\n",
       "    <rect x=\"0\" y=\"0\" width=\"2400\" height=\"1600\"/>\n",
       "  </clipPath>\n",
       "</defs>\n",
       "<path clip-path=\"url(#clip350)\" d=\"\n",
       "M0 1600 L2400 1600 L2400 0 L0 0  Z\n",
       "  \" fill=\"#ffffff\" fill-rule=\"evenodd\" fill-opacity=\"1\"/>\n",
       "<defs>\n",
       "  <clipPath id=\"clip351\">\n",
       "    <rect x=\"480\" y=\"0\" width=\"1681\" height=\"1600\"/>\n",
       "  </clipPath>\n",
       "</defs>\n",
       "<path clip-path=\"url(#clip350)\" d=\"\n",
       "M232.389 1423.18 L2352.76 1423.18 L2352.76 47.2441 L232.389 47.2441  Z\n",
       "  \" fill=\"#ffffff\" fill-rule=\"evenodd\" fill-opacity=\"1\"/>\n",
       "<defs>\n",
       "  <clipPath id=\"clip352\">\n",
       "    <rect x=\"232\" y=\"47\" width=\"2121\" height=\"1377\"/>\n",
       "  </clipPath>\n",
       "</defs>\n",
       "<polyline clip-path=\"url(#clip352)\" style=\"stroke:#000000; stroke-linecap:butt; stroke-linejoin:round; stroke-width:2; stroke-opacity:0.1; fill:none\" points=\"\n",
       "  292.4,1423.18 292.4,47.2441 \n",
       "  \"/>\n",
       "<polyline clip-path=\"url(#clip352)\" style=\"stroke:#000000; stroke-linecap:butt; stroke-linejoin:round; stroke-width:2; stroke-opacity:0.1; fill:none\" points=\"\n",
       "  792.486,1423.18 792.486,47.2441 \n",
       "  \"/>\n",
       "<polyline clip-path=\"url(#clip352)\" style=\"stroke:#000000; stroke-linecap:butt; stroke-linejoin:round; stroke-width:2; stroke-opacity:0.1; fill:none\" points=\"\n",
       "  1292.57,1423.18 1292.57,47.2441 \n",
       "  \"/>\n",
       "<polyline clip-path=\"url(#clip352)\" style=\"stroke:#000000; stroke-linecap:butt; stroke-linejoin:round; stroke-width:2; stroke-opacity:0.1; fill:none\" points=\"\n",
       "  1792.66,1423.18 1792.66,47.2441 \n",
       "  \"/>\n",
       "<polyline clip-path=\"url(#clip352)\" style=\"stroke:#000000; stroke-linecap:butt; stroke-linejoin:round; stroke-width:2; stroke-opacity:0.1; fill:none\" points=\"\n",
       "  2292.75,1423.18 2292.75,47.2441 \n",
       "  \"/>\n",
       "<polyline clip-path=\"url(#clip350)\" style=\"stroke:#000000; stroke-linecap:butt; stroke-linejoin:round; stroke-width:4; stroke-opacity:1; fill:none\" points=\"\n",
       "  232.389,1423.18 2352.76,1423.18 \n",
       "  \"/>\n",
       "<polyline clip-path=\"url(#clip350)\" style=\"stroke:#000000; stroke-linecap:butt; stroke-linejoin:round; stroke-width:4; stroke-opacity:1; fill:none\" points=\"\n",
       "  292.4,1423.18 292.4,1404.28 \n",
       "  \"/>\n",
       "<polyline clip-path=\"url(#clip350)\" style=\"stroke:#000000; stroke-linecap:butt; stroke-linejoin:round; stroke-width:4; stroke-opacity:1; fill:none\" points=\"\n",
       "  792.486,1423.18 792.486,1404.28 \n",
       "  \"/>\n",
       "<polyline clip-path=\"url(#clip350)\" style=\"stroke:#000000; stroke-linecap:butt; stroke-linejoin:round; stroke-width:4; stroke-opacity:1; fill:none\" points=\"\n",
       "  1292.57,1423.18 1292.57,1404.28 \n",
       "  \"/>\n",
       "<polyline clip-path=\"url(#clip350)\" style=\"stroke:#000000; stroke-linecap:butt; stroke-linejoin:round; stroke-width:4; stroke-opacity:1; fill:none\" points=\"\n",
       "  1792.66,1423.18 1792.66,1404.28 \n",
       "  \"/>\n",
       "<polyline clip-path=\"url(#clip350)\" style=\"stroke:#000000; stroke-linecap:butt; stroke-linejoin:round; stroke-width:4; stroke-opacity:1; fill:none\" points=\"\n",
       "  2292.75,1423.18 2292.75,1404.28 \n",
       "  \"/>\n",
       "<path clip-path=\"url(#clip350)\" d=\"M292.4 1454.1 Q288.789 1454.1 286.96 1457.66 Q285.154 1461.2 285.154 1468.33 Q285.154 1475.44 286.96 1479.01 Q288.789 1482.55 292.4 1482.55 Q296.034 1482.55 297.84 1479.01 Q299.668 1475.44 299.668 1468.33 Q299.668 1461.2 297.84 1457.66 Q296.034 1454.1 292.4 1454.1 M292.4 1450.39 Q298.21 1450.39 301.265 1455 Q304.344 1459.58 304.344 1468.33 Q304.344 1477.06 301.265 1481.67 Q298.21 1486.25 292.4 1486.25 Q286.59 1486.25 283.511 1481.67 Q280.455 1477.06 280.455 1468.33 Q280.455 1459.58 283.511 1455 Q286.59 1450.39 292.4 1450.39 Z\" fill=\"#000000\" fill-rule=\"evenodd\" fill-opacity=\"1\" /><path clip-path=\"url(#clip350)\" d=\"M771.757 1481.64 L788.076 1481.64 L788.076 1485.58 L766.132 1485.58 L766.132 1481.64 Q768.794 1478.89 773.377 1474.26 Q777.984 1469.61 779.164 1468.27 Q781.41 1465.74 782.289 1464.01 Q783.192 1462.25 783.192 1460.56 Q783.192 1457.8 781.248 1456.07 Q779.327 1454.33 776.225 1454.33 Q774.026 1454.33 771.572 1455.09 Q769.141 1455.86 766.364 1457.41 L766.364 1452.69 Q769.188 1451.55 771.641 1450.97 Q774.095 1450.39 776.132 1450.39 Q781.502 1450.39 784.697 1453.08 Q787.891 1455.77 787.891 1460.26 Q787.891 1462.39 787.081 1464.31 Q786.294 1466.2 784.188 1468.8 Q783.609 1469.47 780.507 1472.69 Q777.405 1475.88 771.757 1481.64 Z\" fill=\"#000000\" fill-rule=\"evenodd\" fill-opacity=\"1\" /><path clip-path=\"url(#clip350)\" d=\"M797.938 1451.02 L816.294 1451.02 L816.294 1454.96 L802.22 1454.96 L802.22 1463.43 Q803.238 1463.08 804.257 1462.92 Q805.275 1462.73 806.294 1462.73 Q812.081 1462.73 815.461 1465.9 Q818.84 1469.08 818.84 1474.49 Q818.84 1480.07 815.368 1483.17 Q811.896 1486.25 805.576 1486.25 Q803.4 1486.25 801.132 1485.88 Q798.887 1485.51 796.479 1484.77 L796.479 1480.07 Q798.563 1481.2 800.785 1481.76 Q803.007 1482.32 805.484 1482.32 Q809.488 1482.32 811.826 1480.21 Q814.164 1478.1 814.164 1474.49 Q814.164 1470.88 811.826 1468.77 Q809.488 1466.67 805.484 1466.67 Q803.609 1466.67 801.734 1467.08 Q799.882 1467.5 797.938 1468.38 L797.938 1451.02 Z\" fill=\"#000000\" fill-rule=\"evenodd\" fill-opacity=\"1\" /><path clip-path=\"url(#clip350)\" d=\"M1267.27 1451.02 L1285.63 1451.02 L1285.63 1454.96 L1271.55 1454.96 L1271.55 1463.43 Q1272.57 1463.08 1273.59 1462.92 Q1274.61 1462.73 1275.63 1462.73 Q1281.42 1462.73 1284.79 1465.9 Q1288.17 1469.08 1288.17 1474.49 Q1288.17 1480.07 1284.7 1483.17 Q1281.23 1486.25 1274.91 1486.25 Q1272.73 1486.25 1270.47 1485.88 Q1268.22 1485.51 1265.81 1484.77 L1265.81 1480.07 Q1267.9 1481.2 1270.12 1481.76 Q1272.34 1482.32 1274.82 1482.32 Q1278.82 1482.32 1281.16 1480.21 Q1283.5 1478.1 1283.5 1474.49 Q1283.5 1470.88 1281.16 1468.77 Q1278.82 1466.67 1274.82 1466.67 Q1272.94 1466.67 1271.07 1467.08 Q1269.22 1467.5 1267.27 1468.38 L1267.27 1451.02 Z\" fill=\"#000000\" fill-rule=\"evenodd\" fill-opacity=\"1\" /><path clip-path=\"url(#clip350)\" d=\"M1307.39 1454.1 Q1303.78 1454.1 1301.95 1457.66 Q1300.14 1461.2 1300.14 1468.33 Q1300.14 1475.44 1301.95 1479.01 Q1303.78 1482.55 1307.39 1482.55 Q1311.02 1482.55 1312.83 1479.01 Q1314.66 1475.44 1314.66 1468.33 Q1314.66 1461.2 1312.83 1457.66 Q1311.02 1454.1 1307.39 1454.1 M1307.39 1450.39 Q1313.2 1450.39 1316.25 1455 Q1319.33 1459.58 1319.33 1468.33 Q1319.33 1477.06 1316.25 1481.67 Q1313.2 1486.25 1307.39 1486.25 Q1301.58 1486.25 1298.5 1481.67 Q1295.44 1477.06 1295.44 1468.33 Q1295.44 1459.58 1298.5 1455 Q1301.58 1450.39 1307.39 1450.39 Z\" fill=\"#000000\" fill-rule=\"evenodd\" fill-opacity=\"1\" /><path clip-path=\"url(#clip350)\" d=\"M1766.51 1451.02 L1788.74 1451.02 L1788.74 1453.01 L1776.19 1485.58 L1771.31 1485.58 L1783.11 1454.96 L1766.51 1454.96 L1766.51 1451.02 Z\" fill=\"#000000\" fill-rule=\"evenodd\" fill-opacity=\"1\" /><path clip-path=\"url(#clip350)\" d=\"M1797.9 1451.02 L1816.26 1451.02 L1816.26 1454.96 L1802.18 1454.96 L1802.18 1463.43 Q1803.2 1463.08 1804.22 1462.92 Q1805.24 1462.73 1806.26 1462.73 Q1812.05 1462.73 1815.43 1465.9 Q1818.8 1469.08 1818.8 1474.49 Q1818.8 1480.07 1815.33 1483.17 Q1811.86 1486.25 1805.54 1486.25 Q1803.37 1486.25 1801.1 1485.88 Q1798.85 1485.51 1796.44 1484.77 L1796.44 1480.07 Q1798.53 1481.2 1800.75 1481.76 Q1802.97 1482.32 1805.45 1482.32 Q1809.45 1482.32 1811.79 1480.21 Q1814.13 1478.1 1814.13 1474.49 Q1814.13 1470.88 1811.79 1468.77 Q1809.45 1466.67 1805.45 1466.67 Q1803.57 1466.67 1801.7 1467.08 Q1799.85 1467.5 1797.9 1468.38 L1797.9 1451.02 Z\" fill=\"#000000\" fill-rule=\"evenodd\" fill-opacity=\"1\" /><path clip-path=\"url(#clip350)\" d=\"M2252.35 1481.64 L2259.99 1481.64 L2259.99 1455.28 L2251.68 1456.95 L2251.68 1452.69 L2259.94 1451.02 L2264.62 1451.02 L2264.62 1481.64 L2272.26 1481.64 L2272.26 1485.58 L2252.35 1485.58 L2252.35 1481.64 Z\" fill=\"#000000\" fill-rule=\"evenodd\" fill-opacity=\"1\" /><path clip-path=\"url(#clip350)\" d=\"M2291.7 1454.1 Q2288.09 1454.1 2286.26 1457.66 Q2284.46 1461.2 2284.46 1468.33 Q2284.46 1475.44 2286.26 1479.01 Q2288.09 1482.55 2291.7 1482.55 Q2295.34 1482.55 2297.14 1479.01 Q2298.97 1475.44 2298.97 1468.33 Q2298.97 1461.2 2297.14 1457.66 Q2295.34 1454.1 2291.7 1454.1 M2291.7 1450.39 Q2297.51 1450.39 2300.57 1455 Q2303.65 1459.58 2303.65 1468.33 Q2303.65 1477.06 2300.57 1481.67 Q2297.51 1486.25 2291.7 1486.25 Q2285.89 1486.25 2282.82 1481.67 Q2279.76 1477.06 2279.76 1468.33 Q2279.76 1459.58 2282.82 1455 Q2285.89 1450.39 2291.7 1450.39 Z\" fill=\"#000000\" fill-rule=\"evenodd\" fill-opacity=\"1\" /><path clip-path=\"url(#clip350)\" d=\"M2321.87 1454.1 Q2318.25 1454.1 2316.43 1457.66 Q2314.62 1461.2 2314.62 1468.33 Q2314.62 1475.44 2316.43 1479.01 Q2318.25 1482.55 2321.87 1482.55 Q2325.5 1482.55 2327.31 1479.01 Q2329.13 1475.44 2329.13 1468.33 Q2329.13 1461.2 2327.31 1457.66 Q2325.5 1454.1 2321.87 1454.1 M2321.87 1450.39 Q2327.68 1450.39 2330.73 1455 Q2333.81 1459.58 2333.81 1468.33 Q2333.81 1477.06 2330.73 1481.67 Q2327.68 1486.25 2321.87 1486.25 Q2316.06 1486.25 2312.98 1481.67 Q2309.92 1477.06 2309.92 1468.33 Q2309.92 1459.58 2312.98 1455 Q2316.06 1450.39 2321.87 1450.39 Z\" fill=\"#000000\" fill-rule=\"evenodd\" fill-opacity=\"1\" /><path clip-path=\"url(#clip350)\" d=\"M1235.71 1522.08 L1235.71 1528.35 Q1232.05 1526.6 1228.8 1525.74 Q1225.56 1524.88 1222.53 1524.88 Q1217.28 1524.88 1214.42 1526.92 Q1211.58 1528.96 1211.58 1532.71 Q1211.58 1535.87 1213.46 1537.49 Q1215.37 1539.08 1220.66 1540.07 L1224.54 1540.86 Q1231.73 1542.23 1235.14 1545.7 Q1238.58 1549.14 1238.58 1554.93 Q1238.58 1561.84 1233.93 1565.4 Q1229.31 1568.97 1220.37 1568.97 Q1217 1568.97 1213.18 1568.2 Q1209.39 1567.44 1205.31 1565.94 L1205.31 1559.32 Q1209.23 1561.52 1212.99 1562.63 Q1216.74 1563.75 1220.37 1563.75 Q1225.88 1563.75 1228.87 1561.58 Q1231.86 1559.42 1231.86 1555.41 Q1231.86 1551.91 1229.7 1549.93 Q1227.56 1547.96 1222.66 1546.97 L1218.75 1546.21 Q1211.55 1544.78 1208.34 1541.72 Q1205.12 1538.67 1205.12 1533.22 Q1205.12 1526.92 1209.55 1523.29 Q1214 1519.66 1221.8 1519.66 Q1225.14 1519.66 1228.61 1520.27 Q1232.08 1520.87 1235.71 1522.08 Z\" fill=\"#000000\" fill-rule=\"evenodd\" fill-opacity=\"1\" /><path clip-path=\"url(#clip350)\" d=\"M1254.14 1522.27 L1254.14 1532.4 L1266.2 1532.4 L1266.2 1536.95 L1254.14 1536.95 L1254.14 1556.3 Q1254.14 1560.66 1255.32 1561.9 Q1256.53 1563.14 1260.19 1563.14 L1266.2 1563.14 L1266.2 1568.04 L1260.19 1568.04 Q1253.41 1568.04 1250.83 1565.53 Q1248.25 1562.98 1248.25 1556.3 L1248.25 1536.95 L1243.95 1536.95 L1243.95 1532.4 L1248.25 1532.4 L1248.25 1522.27 L1254.14 1522.27 Z\" fill=\"#000000\" fill-rule=\"evenodd\" fill-opacity=\"1\" /><path clip-path=\"url(#clip350)\" d=\"M1304.4 1548.76 L1304.4 1551.62 L1277.47 1551.62 Q1277.85 1557.67 1281.1 1560.85 Q1284.38 1564 1290.2 1564 Q1293.58 1564 1296.73 1563.17 Q1299.91 1562.35 1303.03 1560.69 L1303.03 1566.23 Q1299.88 1567.57 1296.57 1568.27 Q1293.26 1568.97 1289.85 1568.97 Q1281.32 1568.97 1276.32 1564 Q1271.36 1559.04 1271.36 1550.57 Q1271.36 1541.82 1276.07 1536.69 Q1280.81 1531.54 1288.83 1531.54 Q1296.03 1531.54 1300.2 1536.18 Q1304.4 1540.8 1304.4 1548.76 M1298.54 1547.04 Q1298.48 1542.23 1295.84 1539.37 Q1293.23 1536.5 1288.9 1536.5 Q1283.99 1536.5 1281.03 1539.27 Q1278.11 1542.04 1277.66 1547.07 L1298.54 1547.04 Z\" fill=\"#000000\" fill-rule=\"evenodd\" fill-opacity=\"1\" /><path clip-path=\"url(#clip350)\" d=\"M1319.67 1562.7 L1319.67 1581.6 L1313.79 1581.6 L1313.79 1532.4 L1319.67 1532.4 L1319.67 1537.81 Q1321.52 1534.62 1324.32 1533.1 Q1327.15 1531.54 1331.07 1531.54 Q1337.56 1531.54 1341.6 1536.69 Q1345.68 1541.85 1345.68 1550.25 Q1345.68 1558.65 1341.6 1563.81 Q1337.56 1568.97 1331.07 1568.97 Q1327.15 1568.97 1324.32 1567.44 Q1321.52 1565.88 1319.67 1562.7 M1339.6 1550.25 Q1339.6 1543.79 1336.93 1540.13 Q1334.28 1536.44 1329.64 1536.44 Q1324.99 1536.44 1322.32 1540.13 Q1319.67 1543.79 1319.67 1550.25 Q1319.67 1556.71 1322.32 1560.4 Q1324.99 1564.07 1329.64 1564.07 Q1334.28 1564.07 1336.93 1560.4 Q1339.6 1556.71 1339.6 1550.25 Z\" fill=\"#000000\" fill-rule=\"evenodd\" fill-opacity=\"1\" /><path clip-path=\"url(#clip350)\" d=\"M1378.11 1533.45 L1378.11 1538.98 Q1375.63 1537.71 1372.96 1537.07 Q1370.28 1536.44 1367.42 1536.44 Q1363.06 1536.44 1360.86 1537.77 Q1358.7 1539.11 1358.7 1541.79 Q1358.7 1543.82 1360.26 1545 Q1361.82 1546.15 1366.53 1547.2 L1368.53 1547.64 Q1374.77 1548.98 1377.38 1551.43 Q1380.02 1553.85 1380.02 1558.21 Q1380.02 1563.17 1376.07 1566.07 Q1372.16 1568.97 1365.28 1568.97 Q1362.42 1568.97 1359.3 1568.39 Q1356.21 1567.85 1352.78 1566.74 L1352.78 1560.69 Q1356.02 1562.38 1359.17 1563.24 Q1362.32 1564.07 1365.41 1564.07 Q1369.55 1564.07 1371.78 1562.66 Q1374.01 1561.23 1374.01 1558.65 Q1374.01 1556.27 1372.38 1554.99 Q1370.79 1553.72 1365.35 1552.54 L1363.31 1552.07 Q1357.87 1550.92 1355.45 1548.56 Q1353.03 1546.18 1353.03 1542.04 Q1353.03 1537.01 1356.6 1534.27 Q1360.16 1531.54 1366.72 1531.54 Q1369.96 1531.54 1372.83 1532.01 Q1375.69 1532.49 1378.11 1533.45 Z\" fill=\"#000000\" fill-rule=\"evenodd\" fill-opacity=\"1\" /><polyline clip-path=\"url(#clip352)\" style=\"stroke:#000000; stroke-linecap:butt; stroke-linejoin:round; stroke-width:2; stroke-opacity:0.1; fill:none\" points=\"\n",
       "  232.389,1400.67 2352.76,1400.67 \n",
       "  \"/>\n",
       "<polyline clip-path=\"url(#clip352)\" style=\"stroke:#000000; stroke-linecap:butt; stroke-linejoin:round; stroke-width:2; stroke-opacity:0.1; fill:none\" points=\"\n",
       "  232.389,1072.05 2352.76,1072.05 \n",
       "  \"/>\n",
       "<polyline clip-path=\"url(#clip352)\" style=\"stroke:#000000; stroke-linecap:butt; stroke-linejoin:round; stroke-width:2; stroke-opacity:0.1; fill:none\" points=\"\n",
       "  232.389,743.427 2352.76,743.427 \n",
       "  \"/>\n",
       "<polyline clip-path=\"url(#clip352)\" style=\"stroke:#000000; stroke-linecap:butt; stroke-linejoin:round; stroke-width:2; stroke-opacity:0.1; fill:none\" points=\"\n",
       "  232.389,414.807 2352.76,414.807 \n",
       "  \"/>\n",
       "<polyline clip-path=\"url(#clip352)\" style=\"stroke:#000000; stroke-linecap:butt; stroke-linejoin:round; stroke-width:2; stroke-opacity:0.1; fill:none\" points=\"\n",
       "  232.389,86.1857 2352.76,86.1857 \n",
       "  \"/>\n",
       "<polyline clip-path=\"url(#clip350)\" style=\"stroke:#000000; stroke-linecap:butt; stroke-linejoin:round; stroke-width:4; stroke-opacity:1; fill:none\" points=\"\n",
       "  232.389,1423.18 232.389,47.2441 \n",
       "  \"/>\n",
       "<polyline clip-path=\"url(#clip350)\" style=\"stroke:#000000; stroke-linecap:butt; stroke-linejoin:round; stroke-width:4; stroke-opacity:1; fill:none\" points=\"\n",
       "  232.389,1400.67 251.287,1400.67 \n",
       "  \"/>\n",
       "<polyline clip-path=\"url(#clip350)\" style=\"stroke:#000000; stroke-linecap:butt; stroke-linejoin:round; stroke-width:4; stroke-opacity:1; fill:none\" points=\"\n",
       "  232.389,1072.05 251.287,1072.05 \n",
       "  \"/>\n",
       "<polyline clip-path=\"url(#clip350)\" style=\"stroke:#000000; stroke-linecap:butt; stroke-linejoin:round; stroke-width:4; stroke-opacity:1; fill:none\" points=\"\n",
       "  232.389,743.427 251.287,743.427 \n",
       "  \"/>\n",
       "<polyline clip-path=\"url(#clip350)\" style=\"stroke:#000000; stroke-linecap:butt; stroke-linejoin:round; stroke-width:4; stroke-opacity:1; fill:none\" points=\"\n",
       "  232.389,414.807 251.287,414.807 \n",
       "  \"/>\n",
       "<polyline clip-path=\"url(#clip350)\" style=\"stroke:#000000; stroke-linecap:butt; stroke-linejoin:round; stroke-width:4; stroke-opacity:1; fill:none\" points=\"\n",
       "  232.389,86.1857 251.287,86.1857 \n",
       "  \"/>\n",
       "<path clip-path=\"url(#clip350)\" d=\"M148.311 1414.01 L164.63 1414.01 L164.63 1417.95 L142.686 1417.95 L142.686 1414.01 Q145.348 1411.26 149.931 1406.63 Q154.538 1401.98 155.718 1400.63 Q157.964 1398.11 158.843 1396.38 Q159.746 1394.62 159.746 1392.93 Q159.746 1390.17 157.802 1388.44 Q155.88 1386.7 152.778 1386.7 Q150.579 1386.7 148.126 1387.46 Q145.695 1388.23 142.917 1389.78 L142.917 1385.06 Q145.741 1383.92 148.195 1383.34 Q150.649 1382.76 152.686 1382.76 Q158.056 1382.76 161.251 1385.45 Q164.445 1388.13 164.445 1392.63 Q164.445 1394.75 163.635 1396.68 Q162.848 1398.57 160.741 1401.17 Q160.163 1401.84 157.061 1405.06 Q153.959 1408.25 148.311 1414.01 Z\" fill=\"#000000\" fill-rule=\"evenodd\" fill-opacity=\"1\" /><path clip-path=\"url(#clip350)\" d=\"M184.445 1386.47 Q180.834 1386.47 179.005 1390.03 Q177.2 1393.57 177.2 1400.7 Q177.2 1407.81 179.005 1411.38 Q180.834 1414.92 184.445 1414.92 Q188.079 1414.92 189.885 1411.38 Q191.713 1407.81 191.713 1400.7 Q191.713 1393.57 189.885 1390.03 Q188.079 1386.47 184.445 1386.47 M184.445 1382.76 Q190.255 1382.76 193.311 1387.37 Q196.389 1391.95 196.389 1400.7 Q196.389 1409.43 193.311 1414.04 Q190.255 1418.62 184.445 1418.62 Q178.635 1418.62 175.556 1414.04 Q172.501 1409.43 172.501 1400.7 Q172.501 1391.95 175.556 1387.37 Q178.635 1382.76 184.445 1382.76 Z\" fill=\"#000000\" fill-rule=\"evenodd\" fill-opacity=\"1\" /><path clip-path=\"url(#clip350)\" d=\"M157.13 1058.84 L145.325 1077.29 L157.13 1077.29 L157.13 1058.84 M155.903 1054.77 L161.783 1054.77 L161.783 1077.29 L166.714 1077.29 L166.714 1081.18 L161.783 1081.18 L161.783 1089.33 L157.13 1089.33 L157.13 1081.18 L141.529 1081.18 L141.529 1076.67 L155.903 1054.77 Z\" fill=\"#000000\" fill-rule=\"evenodd\" fill-opacity=\"1\" /><path clip-path=\"url(#clip350)\" d=\"M184.445 1057.85 Q180.834 1057.85 179.005 1061.41 Q177.2 1064.95 177.2 1072.08 Q177.2 1079.19 179.005 1082.75 Q180.834 1086.3 184.445 1086.3 Q188.079 1086.3 189.885 1082.75 Q191.713 1079.19 191.713 1072.08 Q191.713 1064.95 189.885 1061.41 Q188.079 1057.85 184.445 1057.85 M184.445 1054.14 Q190.255 1054.14 193.311 1058.75 Q196.389 1063.33 196.389 1072.08 Q196.389 1080.81 193.311 1085.42 Q190.255 1090 184.445 1090 Q178.635 1090 175.556 1085.42 Q172.501 1080.81 172.501 1072.08 Q172.501 1063.33 175.556 1058.75 Q178.635 1054.14 184.445 1054.14 Z\" fill=\"#000000\" fill-rule=\"evenodd\" fill-opacity=\"1\" /><path clip-path=\"url(#clip350)\" d=\"M154.862 741.564 Q151.714 741.564 149.862 743.717 Q148.033 745.87 148.033 749.62 Q148.033 753.346 149.862 755.522 Q151.714 757.675 154.862 757.675 Q158.01 757.675 159.839 755.522 Q161.69 753.346 161.69 749.62 Q161.69 745.87 159.839 743.717 Q158.01 741.564 154.862 741.564 M164.144 726.911 L164.144 731.171 Q162.385 730.337 160.579 729.897 Q158.797 729.458 157.038 729.458 Q152.408 729.458 149.954 732.583 Q147.524 735.708 147.177 742.027 Q148.542 740.013 150.603 738.948 Q152.663 737.86 155.14 737.86 Q160.348 737.86 163.357 741.032 Q166.39 744.18 166.39 749.62 Q166.39 754.944 163.241 758.161 Q160.093 761.379 154.862 761.379 Q148.866 761.379 145.695 756.795 Q142.524 752.189 142.524 743.462 Q142.524 735.268 146.413 730.407 Q150.302 725.522 156.853 725.522 Q158.612 725.522 160.394 725.87 Q162.2 726.217 164.144 726.911 Z\" fill=\"#000000\" fill-rule=\"evenodd\" fill-opacity=\"1\" /><path clip-path=\"url(#clip350)\" d=\"M184.445 729.226 Q180.834 729.226 179.005 732.791 Q177.2 736.333 177.2 743.462 Q177.2 750.569 179.005 754.133 Q180.834 757.675 184.445 757.675 Q188.079 757.675 189.885 754.133 Q191.713 750.569 191.713 743.462 Q191.713 736.333 189.885 732.791 Q188.079 729.226 184.445 729.226 M184.445 725.522 Q190.255 725.522 193.311 730.129 Q196.389 734.712 196.389 743.462 Q196.389 752.189 193.311 756.795 Q190.255 761.379 184.445 761.379 Q178.635 761.379 175.556 756.795 Q172.501 752.189 172.501 743.462 Q172.501 734.712 175.556 730.129 Q178.635 725.522 184.445 725.522 Z\" fill=\"#000000\" fill-rule=\"evenodd\" fill-opacity=\"1\" /><path clip-path=\"url(#clip350)\" d=\"M154.283 415.675 Q150.95 415.675 149.028 417.457 Q147.13 419.239 147.13 422.364 Q147.13 425.489 149.028 427.272 Q150.95 429.054 154.283 429.054 Q157.616 429.054 159.538 427.272 Q161.459 425.466 161.459 422.364 Q161.459 419.239 159.538 417.457 Q157.64 415.675 154.283 415.675 M149.607 413.684 Q146.598 412.943 144.908 410.883 Q143.241 408.823 143.241 405.86 Q143.241 401.716 146.181 399.309 Q149.144 396.902 154.283 396.902 Q159.445 396.902 162.385 399.309 Q165.325 401.716 165.325 405.86 Q165.325 408.823 163.635 410.883 Q161.968 412.943 158.982 413.684 Q162.362 414.471 164.237 416.763 Q166.135 419.054 166.135 422.364 Q166.135 427.388 163.056 430.073 Q160.001 432.758 154.283 432.758 Q148.566 432.758 145.487 430.073 Q142.431 427.388 142.431 422.364 Q142.431 419.054 144.329 416.763 Q146.228 414.471 149.607 413.684 M147.894 406.3 Q147.894 408.985 149.561 410.489 Q151.251 411.994 154.283 411.994 Q157.292 411.994 158.982 410.489 Q160.695 408.985 160.695 406.3 Q160.695 403.615 158.982 402.11 Q157.292 400.605 154.283 400.605 Q151.251 400.605 149.561 402.11 Q147.894 403.615 147.894 406.3 Z\" fill=\"#000000\" fill-rule=\"evenodd\" fill-opacity=\"1\" /><path clip-path=\"url(#clip350)\" d=\"M184.445 400.605 Q180.834 400.605 179.005 404.17 Q177.2 407.712 177.2 414.841 Q177.2 421.948 179.005 425.513 Q180.834 429.054 184.445 429.054 Q188.079 429.054 189.885 425.513 Q191.713 421.948 191.713 414.841 Q191.713 407.712 189.885 404.17 Q188.079 400.605 184.445 400.605 M184.445 396.902 Q190.255 396.902 193.311 401.508 Q196.389 406.091 196.389 414.841 Q196.389 423.568 193.311 428.175 Q190.255 432.758 184.445 432.758 Q178.635 432.758 175.556 428.175 Q172.501 423.568 172.501 414.841 Q172.501 406.091 175.556 401.508 Q178.635 396.902 184.445 396.902 Z\" fill=\"#000000\" fill-rule=\"evenodd\" fill-opacity=\"1\" /><path clip-path=\"url(#clip350)\" d=\"M114.931 99.5305 L122.57 99.5305 L122.57 73.1649 L114.26 74.8316 L114.26 70.5723 L122.524 68.9057 L127.2 68.9057 L127.2 99.5305 L134.839 99.5305 L134.839 103.466 L114.931 103.466 L114.931 99.5305 Z\" fill=\"#000000\" fill-rule=\"evenodd\" fill-opacity=\"1\" /><path clip-path=\"url(#clip350)\" d=\"M154.283 71.9844 Q150.672 71.9844 148.843 75.5492 Q147.038 79.0908 147.038 86.2204 Q147.038 93.3268 148.843 96.8916 Q150.672 100.433 154.283 100.433 Q157.917 100.433 159.723 96.8916 Q161.552 93.3268 161.552 86.2204 Q161.552 79.0908 159.723 75.5492 Q157.917 71.9844 154.283 71.9844 M154.283 68.2807 Q160.093 68.2807 163.149 72.8871 Q166.227 77.4704 166.227 86.2204 Q166.227 94.9472 163.149 99.5537 Q160.093 104.137 154.283 104.137 Q148.473 104.137 145.394 99.5537 Q142.339 94.9472 142.339 86.2204 Q142.339 77.4704 145.394 72.8871 Q148.473 68.2807 154.283 68.2807 Z\" fill=\"#000000\" fill-rule=\"evenodd\" fill-opacity=\"1\" /><path clip-path=\"url(#clip350)\" d=\"M184.445 71.9844 Q180.834 71.9844 179.005 75.5492 Q177.2 79.0908 177.2 86.2204 Q177.2 93.3268 179.005 96.8916 Q180.834 100.433 184.445 100.433 Q188.079 100.433 189.885 96.8916 Q191.713 93.3268 191.713 86.2204 Q191.713 79.0908 189.885 75.5492 Q188.079 71.9844 184.445 71.9844 M184.445 68.2807 Q190.255 68.2807 193.311 72.8871 Q196.389 77.4704 196.389 86.2204 Q196.389 94.9472 193.311 99.5537 Q190.255 104.137 184.445 104.137 Q178.635 104.137 175.556 99.5537 Q172.501 94.9472 172.501 86.2204 Q172.501 77.4704 175.556 72.8871 Q178.635 68.2807 184.445 68.2807 Z\" fill=\"#000000\" fill-rule=\"evenodd\" fill-opacity=\"1\" /><path clip-path=\"url(#clip350)\" d=\"M16.4842 822.056 L16.4842 815.595 L45.3526 815.595 Q52.9915 815.595 56.3653 812.826 Q59.7073 810.057 59.7073 803.85 Q59.7073 797.675 56.3653 794.906 Q52.9915 792.137 45.3526 792.137 L16.4842 792.137 L16.4842 785.676 L46.1484 785.676 Q55.4423 785.676 60.1847 790.291 Q64.9272 794.875 64.9272 803.85 Q64.9272 812.858 60.1847 817.473 Q55.4423 822.056 46.1484 822.056 L16.4842 822.056 Z\" fill=\"#000000\" fill-rule=\"evenodd\" fill-opacity=\"1\" /><path clip-path=\"url(#clip350)\" d=\"M29.4065 751.142 L34.9447 751.142 Q33.6716 753.625 33.035 756.298 Q32.3984 758.972 32.3984 761.837 Q32.3984 766.197 33.7352 768.393 Q35.072 770.558 37.7456 770.558 Q39.7826 770.558 40.9603 768.998 Q42.1061 767.438 43.1565 762.728 L43.6021 760.723 Q44.9389 754.484 47.3897 751.874 Q49.8086 749.232 54.1691 749.232 Q59.1344 749.232 62.0308 753.179 Q64.9272 757.094 64.9272 763.969 Q64.9272 766.834 64.3543 769.953 Q63.8132 773.04 62.6992 776.478 L56.6518 776.478 Q58.3387 773.231 59.198 770.08 Q60.0256 766.929 60.0256 763.842 Q60.0256 759.704 58.6251 757.476 Q57.1929 755.248 54.6147 755.248 Q52.2276 755.248 50.9545 756.871 Q49.6813 758.463 48.5037 763.905 L48.0262 765.942 Q46.8804 771.385 44.5251 773.804 Q42.138 776.223 38.0002 776.223 Q32.9713 776.223 30.2341 772.658 Q27.4968 769.093 27.4968 762.537 Q27.4968 759.29 27.9743 756.426 Q28.4517 753.561 29.4065 751.142 Z\" fill=\"#000000\" fill-rule=\"evenodd\" fill-opacity=\"1\" /><path clip-path=\"url(#clip350)\" d=\"M44.7161 709.415 L47.5806 709.415 L47.5806 736.342 Q53.6281 735.96 56.8109 732.713 Q59.9619 729.435 59.9619 723.61 Q59.9619 720.237 59.1344 717.086 Q58.3069 713.903 56.6518 710.784 L62.1899 710.784 Q63.5267 713.935 64.227 717.245 Q64.9272 720.555 64.9272 723.961 Q64.9272 732.491 59.9619 737.488 Q54.9967 742.453 46.5303 742.453 Q37.7774 742.453 32.6531 737.742 Q27.4968 733 27.4968 724.979 Q27.4968 717.786 32.1438 713.616 Q36.7589 709.415 44.7161 709.415 M42.9973 715.271 Q38.1912 715.335 35.3266 717.977 Q32.4621 720.587 32.4621 724.915 Q32.4621 729.817 35.2312 732.777 Q38.0002 735.705 43.0292 736.151 L42.9973 715.271 Z\" fill=\"#000000\" fill-rule=\"evenodd\" fill-opacity=\"1\" /><path clip-path=\"url(#clip350)\" d=\"M33.8307 679.146 Q33.2578 680.133 33.0032 681.31 Q32.7167 682.456 32.7167 683.857 Q32.7167 688.822 35.9632 691.495 Q39.1779 694.137 45.2253 694.137 L64.0042 694.137 L64.0042 700.026 L28.3562 700.026 L28.3562 694.137 L33.8944 694.137 Q30.6479 692.291 29.0883 689.331 Q27.4968 686.371 27.4968 682.138 Q27.4968 681.533 27.5923 680.801 Q27.656 680.069 27.8151 679.178 L33.8307 679.146 Z\" fill=\"#000000\" fill-rule=\"evenodd\" fill-opacity=\"1\" /><path clip-path=\"url(#clip350)\" d=\"M29.4065 650.278 L34.9447 650.278 Q33.6716 652.76 33.035 655.434 Q32.3984 658.107 32.3984 660.972 Q32.3984 665.332 33.7352 667.529 Q35.072 669.693 37.7456 669.693 Q39.7826 669.693 40.9603 668.133 Q42.1061 666.574 43.1565 661.863 L43.6021 659.858 Q44.9389 653.62 47.3897 651.01 Q49.8086 648.368 54.1691 648.368 Q59.1344 648.368 62.0308 652.315 Q64.9272 656.229 64.9272 663.104 Q64.9272 665.969 64.3543 669.088 Q63.8132 672.176 62.6992 675.613 L56.6518 675.613 Q58.3387 672.367 59.198 669.216 Q60.0256 666.064 60.0256 662.977 Q60.0256 658.839 58.6251 656.611 Q57.1929 654.383 54.6147 654.383 Q52.2276 654.383 50.9545 656.007 Q49.6813 657.598 48.5037 663.041 L48.0262 665.078 Q46.8804 670.52 44.5251 672.939 Q42.138 675.358 38.0002 675.358 Q32.9713 675.358 30.2341 671.794 Q27.4968 668.229 27.4968 661.672 Q27.4968 658.426 27.9743 655.561 Q28.4517 652.696 29.4065 650.278 Z\" fill=\"#000000\" fill-rule=\"evenodd\" fill-opacity=\"1\" /><polyline clip-path=\"url(#clip352)\" style=\"stroke:#009af9; stroke-linecap:butt; stroke-linejoin:round; stroke-width:4; stroke-opacity:1; fill:none\" points=\"\n",
       "  292.4,86.1857 312.403,86.1857 332.407,431.238 352.41,661.272 372.414,726.996 392.417,743.427 412.42,743.427 432.424,809.152 452.427,809.152 472.431,825.583 \n",
       "  492.434,825.583 512.438,825.583 532.441,842.014 552.445,842.014 572.448,891.307 592.452,891.307 612.455,891.307 632.459,891.307 652.462,891.307 672.465,891.307 \n",
       "  692.469,891.307 712.472,891.307 732.476,891.307 752.479,891.307 772.483,891.307 792.486,891.307 812.49,891.307 832.493,891.307 852.497,891.307 872.5,924.169 \n",
       "  892.503,924.169 912.507,924.169 932.51,924.169 952.514,924.169 972.517,924.169 992.521,924.169 1012.52,924.169 1032.53,924.169 1052.53,924.169 1072.53,924.169 \n",
       "  1092.54,924.169 1112.54,924.169 1132.54,891.307 1152.55,891.307 1172.55,907.738 1192.56,907.738 1212.56,907.738 1232.56,907.738 1252.57,907.738 1272.57,907.738 \n",
       "  1292.57,907.738 1312.58,907.738 1332.58,907.738 1352.58,907.738 1372.59,907.738 1392.59,907.738 1412.59,907.738 1432.6,907.738 1452.6,907.738 1472.6,907.738 \n",
       "  1492.61,907.738 1512.61,907.738 1532.61,907.738 1552.62,907.738 1572.62,907.738 1592.62,907.738 1612.63,907.738 1632.63,907.738 1652.63,907.738 1672.64,907.738 \n",
       "  1692.64,907.738 1712.65,907.738 1732.65,907.738 1752.65,907.738 1772.66,907.738 1792.66,907.738 1812.66,907.738 1832.67,907.738 1852.67,907.738 1872.67,907.738 \n",
       "  1892.68,907.738 1912.68,907.738 1932.68,907.738 1952.69,907.738 1972.69,907.738 1992.69,907.738 2012.7,907.738 2032.7,907.738 2052.7,907.738 2072.71,907.738 \n",
       "  2092.71,907.738 2112.71,907.738 2132.72,907.738 2152.72,907.738 2172.72,907.738 2192.73,907.738 2212.73,907.738 2232.74,907.738 2252.74,907.738 2272.74,907.738 \n",
       "  2292.75,907.738 \n",
       "  \"/>\n",
       "<polyline clip-path=\"url(#clip352)\" style=\"stroke:#e26f46; stroke-linecap:butt; stroke-linejoin:round; stroke-width:4; stroke-opacity:1; fill:none\" points=\"\n",
       "  332.407,1384.24 352.41,1154.2 372.414,1088.48 392.417,1072.05 412.42,1072.05 432.424,1006.32 452.427,1006.32 472.431,989.893 492.434,989.893 512.438,989.893 \n",
       "  532.441,973.462 552.445,973.462 572.448,924.169 592.452,924.169 612.455,924.169 632.459,924.169 652.462,924.169 672.465,924.169 692.469,924.169 712.472,924.169 \n",
       "  732.476,924.169 752.479,924.169 772.483,924.169 792.486,924.169 812.49,924.169 832.493,924.169 852.497,924.169 872.5,891.307 892.503,891.307 912.507,891.307 \n",
       "  932.51,891.307 952.514,891.307 972.517,891.307 992.521,891.307 1012.52,891.307 1032.53,891.307 1052.53,891.307 1072.53,891.307 1092.54,891.307 1112.54,891.307 \n",
       "  1132.54,924.169 1152.55,924.169 1172.55,907.738 1192.56,907.738 1212.56,907.738 1232.56,907.738 1252.57,907.738 1272.57,907.738 1292.57,907.738 1312.58,907.738 \n",
       "  1332.58,907.738 1352.58,907.738 1372.59,907.738 1392.59,907.738 1412.59,907.738 1432.6,907.738 1452.6,907.738 1472.6,907.738 1492.61,907.738 1512.61,907.738 \n",
       "  1532.61,907.738 1552.62,907.738 1572.62,907.738 1592.62,907.738 1612.63,907.738 1632.63,907.738 1652.63,907.738 1672.64,907.738 1692.64,907.738 1712.65,907.738 \n",
       "  1732.65,907.738 1752.65,907.738 1772.66,907.738 1792.66,907.738 1812.66,907.738 1832.67,907.738 1852.67,907.738 1872.67,907.738 1892.68,907.738 1912.68,907.738 \n",
       "  1932.68,907.738 1952.69,907.738 1972.69,907.738 1992.69,907.738 2012.7,907.738 2032.7,907.738 2052.7,907.738 2072.71,907.738 2092.71,907.738 2112.71,907.738 \n",
       "  2132.72,907.738 2152.72,907.738 2172.72,907.738 2192.73,907.738 2212.73,907.738 2232.74,907.738 2252.74,907.738 2272.74,907.738 2292.75,907.738 \n",
       "  \"/>\n",
       "<path clip-path=\"url(#clip350)\" d=\"\n",
       "M1634.09 248.629 L2282.08 248.629 L2282.08 93.1086 L1634.09 93.1086  Z\n",
       "  \" fill=\"#ffffff\" fill-rule=\"evenodd\" fill-opacity=\"1\"/>\n",
       "<polyline clip-path=\"url(#clip350)\" style=\"stroke:#000000; stroke-linecap:butt; stroke-linejoin:round; stroke-width:4; stroke-opacity:1; fill:none\" points=\"\n",
       "  1634.09,248.629 2282.08,248.629 2282.08,93.1086 1634.09,93.1086 1634.09,248.629 \n",
       "  \"/>\n",
       "<polyline clip-path=\"url(#clip350)\" style=\"stroke:#009af9; stroke-linecap:butt; stroke-linejoin:round; stroke-width:4; stroke-opacity:1; fill:none\" points=\"\n",
       "  1658.09,144.949 1802.09,144.949 \n",
       "  \"/>\n",
       "<path clip-path=\"url(#clip350)\" d=\"M1842.48 146.025 Q1843.99 146.534 1845.4 148.201 Q1846.83 149.868 1848.27 152.784 L1853.01 162.229 L1847.99 162.229 L1843.57 153.363 Q1841.86 149.891 1840.24 148.756 Q1838.64 147.622 1835.86 147.622 L1830.77 147.622 L1830.77 162.229 L1826.09 162.229 L1826.09 127.669 L1836.65 127.669 Q1842.57 127.669 1845.49 130.145 Q1848.41 132.622 1848.41 137.622 Q1848.41 140.886 1846.88 143.039 Q1845.38 145.192 1842.48 146.025 M1830.77 131.511 L1830.77 143.78 L1836.65 143.78 Q1840.03 143.78 1841.74 142.229 Q1843.48 140.655 1843.48 137.622 Q1843.48 134.59 1841.74 133.062 Q1840.03 131.511 1836.65 131.511 L1830.77 131.511 Z\" fill=\"#000000\" fill-rule=\"evenodd\" fill-opacity=\"1\" /><path clip-path=\"url(#clip350)\" d=\"M1866.76 139.289 Q1863.34 139.289 1861.35 141.974 Q1859.36 144.636 1859.36 149.289 Q1859.36 153.942 1861.32 156.627 Q1863.32 159.289 1866.76 159.289 Q1870.17 159.289 1872.16 156.604 Q1874.15 153.918 1874.15 149.289 Q1874.15 144.682 1872.16 141.997 Q1870.17 139.289 1866.76 139.289 M1866.76 135.678 Q1872.32 135.678 1875.49 139.289 Q1878.66 142.9 1878.66 149.289 Q1878.66 155.655 1875.49 159.289 Q1872.32 162.9 1866.76 162.9 Q1861.19 162.9 1858.01 159.289 Q1854.87 155.655 1854.87 149.289 Q1854.87 142.9 1858.01 139.289 Q1861.19 135.678 1866.76 135.678 Z\" fill=\"#000000\" fill-rule=\"evenodd\" fill-opacity=\"1\" /><path clip-path=\"url(#clip350)\" d=\"M1885.28 151.997 L1885.28 136.303 L1889.54 136.303 L1889.54 151.835 Q1889.54 155.516 1890.98 157.368 Q1892.41 159.196 1895.28 159.196 Q1898.73 159.196 1900.72 156.997 Q1902.74 154.798 1902.74 151.002 L1902.74 136.303 L1907 136.303 L1907 162.229 L1902.74 162.229 L1902.74 158.247 Q1901.19 160.608 1899.13 161.766 Q1897.09 162.9 1894.38 162.9 Q1889.91 162.9 1887.6 160.122 Q1885.28 157.344 1885.28 151.997 M1896 135.678 L1896 135.678 Z\" fill=\"#000000\" fill-rule=\"evenodd\" fill-opacity=\"1\" /><path clip-path=\"url(#clip350)\" d=\"M1919.98 128.942 L1919.98 136.303 L1928.75 136.303 L1928.75 139.613 L1919.98 139.613 L1919.98 153.687 Q1919.98 156.858 1920.84 157.761 Q1921.72 158.664 1924.38 158.664 L1928.75 158.664 L1928.75 162.229 L1924.38 162.229 Q1919.45 162.229 1917.57 160.4 Q1915.7 158.548 1915.7 153.687 L1915.7 139.613 L1912.57 139.613 L1912.57 136.303 L1915.7 136.303 L1915.7 128.942 L1919.98 128.942 Z\" fill=\"#000000\" fill-rule=\"evenodd\" fill-opacity=\"1\" /><path clip-path=\"url(#clip350)\" d=\"M1956.53 148.201 L1956.53 150.284 L1936.95 150.284 Q1937.23 154.682 1939.59 156.997 Q1941.97 159.289 1946.21 159.289 Q1948.66 159.289 1950.95 158.687 Q1953.27 158.085 1955.54 156.881 L1955.54 160.909 Q1953.25 161.881 1950.84 162.391 Q1948.43 162.9 1945.95 162.9 Q1939.75 162.9 1936.12 159.289 Q1932.5 155.678 1932.5 149.52 Q1932.5 143.155 1935.93 139.428 Q1939.38 135.678 1945.21 135.678 Q1950.44 135.678 1953.48 139.057 Q1956.53 142.414 1956.53 148.201 M1952.27 146.951 Q1952.23 143.456 1950.31 141.372 Q1948.41 139.289 1945.26 139.289 Q1941.69 139.289 1939.54 141.303 Q1937.41 143.317 1937.09 146.974 L1952.27 146.951 Z\" fill=\"#000000\" fill-rule=\"evenodd\" fill-opacity=\"1\" /><path clip-path=\"url(#clip350)\" d=\"M1980 158.293 L1987.64 158.293 L1987.64 131.928 L1979.33 133.595 L1979.33 129.335 L1987.6 127.669 L1992.27 127.669 L1992.27 158.293 L1999.91 158.293 L1999.91 162.229 L1980 162.229 L1980 158.293 Z\" fill=\"#000000\" fill-rule=\"evenodd\" fill-opacity=\"1\" /><path clip-path=\"url(#clip350)\" d=\"M2024.91 156.349 L2029.8 156.349 L2029.8 162.229 L2024.91 162.229 L2024.91 156.349 M2024.91 137.715 L2029.8 137.715 L2029.8 143.594 L2024.91 143.594 L2024.91 137.715 Z\" fill=\"#000000\" fill-rule=\"evenodd\" fill-opacity=\"1\" /><path clip-path=\"url(#clip350)\" d=\"M2054.47 126.21 L2064.29 126.21 L2064.29 129.52 L2058.73 129.52 L2058.73 165.168 L2064.29 165.168 L2064.29 168.479 L2054.47 168.479 L2054.47 126.21 Z\" fill=\"#000000\" fill-rule=\"evenodd\" fill-opacity=\"1\" /><path clip-path=\"url(#clip350)\" d=\"M2074.77 158.293 L2082.41 158.293 L2082.41 131.928 L2074.1 133.595 L2074.1 129.335 L2082.36 127.669 L2087.04 127.669 L2087.04 158.293 L2094.68 158.293 L2094.68 162.229 L2074.77 162.229 L2074.77 158.293 Z\" fill=\"#000000\" fill-rule=\"evenodd\" fill-opacity=\"1\" /><path clip-path=\"url(#clip350)\" d=\"M2104.61 156.349 L2109.49 156.349 L2109.49 160.33 L2105.7 167.738 L2102.71 167.738 L2104.61 160.33 L2104.61 156.349 Z\" fill=\"#000000\" fill-rule=\"evenodd\" fill-opacity=\"1\" /><path clip-path=\"url(#clip350)\" d=\"M2148.43 143.594 Q2151.79 144.312 2153.66 146.581 Q2155.56 148.849 2155.56 152.182 Q2155.56 157.298 2152.04 160.099 Q2148.52 162.9 2142.04 162.9 Q2139.86 162.9 2137.55 162.46 Q2135.26 162.043 2132.8 161.187 L2132.8 156.673 Q2134.75 157.807 2137.06 158.386 Q2139.38 158.965 2141.9 158.965 Q2146.3 158.965 2148.59 157.229 Q2150.91 155.493 2150.91 152.182 Q2150.91 149.127 2148.75 147.414 Q2146.62 145.678 2142.8 145.678 L2138.78 145.678 L2138.78 141.835 L2142.99 141.835 Q2146.44 141.835 2148.27 140.469 Q2150.1 139.081 2150.1 136.488 Q2150.1 133.826 2148.2 132.414 Q2146.32 130.979 2142.8 130.979 Q2140.88 130.979 2138.68 131.395 Q2136.48 131.812 2133.85 132.692 L2133.85 128.525 Q2136.51 127.784 2138.82 127.414 Q2141.16 127.044 2143.22 127.044 Q2148.55 127.044 2151.65 129.474 Q2154.75 131.882 2154.75 136.002 Q2154.75 138.872 2153.11 140.863 Q2151.46 142.831 2148.43 143.594 Z\" fill=\"#000000\" fill-rule=\"evenodd\" fill-opacity=\"1\" /><path clip-path=\"url(#clip350)\" d=\"M2164.91 156.349 L2169.79 156.349 L2169.79 160.33 L2166 167.738 L2163.01 167.738 L2164.91 160.33 L2164.91 156.349 Z\" fill=\"#000000\" fill-rule=\"evenodd\" fill-opacity=\"1\" /><path clip-path=\"url(#clip350)\" d=\"M2207.41 131.743 L2195.61 150.192 L2207.41 150.192 L2207.41 131.743 M2206.18 127.669 L2212.06 127.669 L2212.06 150.192 L2216.99 150.192 L2216.99 154.081 L2212.06 154.081 L2212.06 162.229 L2207.41 162.229 L2207.41 154.081 L2191.81 154.081 L2191.81 149.567 L2206.18 127.669 Z\" fill=\"#000000\" fill-rule=\"evenodd\" fill-opacity=\"1\" /><path clip-path=\"url(#clip350)\" d=\"M2234.08 126.21 L2234.08 168.479 L2224.26 168.479 L2224.26 165.168 L2229.79 165.168 L2229.79 129.52 L2224.26 129.52 L2224.26 126.21 L2234.08 126.21 Z\" fill=\"#000000\" fill-rule=\"evenodd\" fill-opacity=\"1\" /><polyline clip-path=\"url(#clip350)\" style=\"stroke:#e26f46; stroke-linecap:butt; stroke-linejoin:round; stroke-width:4; stroke-opacity:1; fill:none\" points=\"\n",
       "  1658.09,196.789 1802.09,196.789 \n",
       "  \"/>\n",
       "<path clip-path=\"url(#clip350)\" d=\"M1842.48 197.865 Q1843.99 198.374 1845.4 200.041 Q1846.83 201.708 1848.27 204.624 L1853.01 214.069 L1847.99 214.069 L1843.57 205.203 Q1841.86 201.731 1840.24 200.596 Q1838.64 199.462 1835.86 199.462 L1830.77 199.462 L1830.77 214.069 L1826.09 214.069 L1826.09 179.509 L1836.65 179.509 Q1842.57 179.509 1845.49 181.985 Q1848.41 184.462 1848.41 189.462 Q1848.41 192.726 1846.88 194.879 Q1845.38 197.032 1842.48 197.865 M1830.77 183.351 L1830.77 195.62 L1836.65 195.62 Q1840.03 195.62 1841.74 194.069 Q1843.48 192.495 1843.48 189.462 Q1843.48 186.43 1841.74 184.902 Q1840.03 183.351 1836.65 183.351 L1830.77 183.351 Z\" fill=\"#000000\" fill-rule=\"evenodd\" fill-opacity=\"1\" /><path clip-path=\"url(#clip350)\" d=\"M1866.76 191.129 Q1863.34 191.129 1861.35 193.814 Q1859.36 196.476 1859.36 201.129 Q1859.36 205.782 1861.32 208.467 Q1863.32 211.129 1866.76 211.129 Q1870.17 211.129 1872.16 208.444 Q1874.15 205.758 1874.15 201.129 Q1874.15 196.522 1872.16 193.837 Q1870.17 191.129 1866.76 191.129 M1866.76 187.518 Q1872.32 187.518 1875.49 191.129 Q1878.66 194.74 1878.66 201.129 Q1878.66 207.495 1875.49 211.129 Q1872.32 214.74 1866.76 214.74 Q1861.19 214.74 1858.01 211.129 Q1854.87 207.495 1854.87 201.129 Q1854.87 194.74 1858.01 191.129 Q1861.19 187.518 1866.76 187.518 Z\" fill=\"#000000\" fill-rule=\"evenodd\" fill-opacity=\"1\" /><path clip-path=\"url(#clip350)\" d=\"M1885.28 203.837 L1885.28 188.143 L1889.54 188.143 L1889.54 203.675 Q1889.54 207.356 1890.98 209.208 Q1892.41 211.036 1895.28 211.036 Q1898.73 211.036 1900.72 208.837 Q1902.74 206.638 1902.74 202.842 L1902.74 188.143 L1907 188.143 L1907 214.069 L1902.74 214.069 L1902.74 210.087 Q1901.19 212.448 1899.13 213.606 Q1897.09 214.74 1894.38 214.74 Q1889.91 214.74 1887.6 211.962 Q1885.28 209.184 1885.28 203.837 M1896 187.518 L1896 187.518 Z\" fill=\"#000000\" fill-rule=\"evenodd\" fill-opacity=\"1\" /><path clip-path=\"url(#clip350)\" d=\"M1919.98 180.782 L1919.98 188.143 L1928.75 188.143 L1928.75 191.453 L1919.98 191.453 L1919.98 205.527 Q1919.98 208.698 1920.84 209.601 Q1921.72 210.504 1924.38 210.504 L1928.75 210.504 L1928.75 214.069 L1924.38 214.069 Q1919.45 214.069 1917.57 212.24 Q1915.7 210.388 1915.7 205.527 L1915.7 191.453 L1912.57 191.453 L1912.57 188.143 L1915.7 188.143 L1915.7 180.782 L1919.98 180.782 Z\" fill=\"#000000\" fill-rule=\"evenodd\" fill-opacity=\"1\" /><path clip-path=\"url(#clip350)\" d=\"M1956.53 200.041 L1956.53 202.124 L1936.95 202.124 Q1937.23 206.522 1939.59 208.837 Q1941.97 211.129 1946.21 211.129 Q1948.66 211.129 1950.95 210.527 Q1953.27 209.925 1955.54 208.721 L1955.54 212.749 Q1953.25 213.721 1950.84 214.231 Q1948.43 214.74 1945.95 214.74 Q1939.75 214.74 1936.12 211.129 Q1932.5 207.518 1932.5 201.36 Q1932.5 194.995 1935.93 191.268 Q1939.38 187.518 1945.21 187.518 Q1950.44 187.518 1953.48 190.897 Q1956.53 194.254 1956.53 200.041 M1952.27 198.791 Q1952.23 195.296 1950.31 193.212 Q1948.41 191.129 1945.26 191.129 Q1941.69 191.129 1939.54 193.143 Q1937.41 195.157 1937.09 198.814 L1952.27 198.791 Z\" fill=\"#000000\" fill-rule=\"evenodd\" fill-opacity=\"1\" /><path clip-path=\"url(#clip350)\" d=\"M1983.22 210.133 L1999.54 210.133 L1999.54 214.069 L1977.6 214.069 L1977.6 210.133 Q1980.26 207.379 1984.84 202.749 Q1989.45 198.096 1990.63 196.754 Q1992.87 194.231 1993.75 192.495 Q1994.66 190.735 1994.66 189.046 Q1994.66 186.291 1992.71 184.555 Q1990.79 182.819 1987.69 182.819 Q1985.49 182.819 1983.04 183.583 Q1980.61 184.347 1977.83 185.897 L1977.83 181.175 Q1980.65 180.041 1983.11 179.462 Q1985.56 178.884 1987.6 178.884 Q1992.97 178.884 1996.16 181.569 Q1999.36 184.254 1999.36 188.745 Q1999.36 190.874 1998.55 192.796 Q1997.76 194.694 1995.65 197.286 Q1995.07 197.958 1991.97 201.175 Q1988.87 204.37 1983.22 210.133 Z\" fill=\"#000000\" fill-rule=\"evenodd\" fill-opacity=\"1\" /><path clip-path=\"url(#clip350)\" d=\"M2024.91 208.189 L2029.8 208.189 L2029.8 214.069 L2024.91 214.069 L2024.91 208.189 M2024.91 189.555 L2029.8 189.555 L2029.8 195.434 L2024.91 195.434 L2024.91 189.555 Z\" fill=\"#000000\" fill-rule=\"evenodd\" fill-opacity=\"1\" /><path clip-path=\"url(#clip350)\" d=\"M2054.47 178.05 L2064.29 178.05 L2064.29 181.36 L2058.73 181.36 L2058.73 217.008 L2064.29 217.008 L2064.29 220.319 L2054.47 220.319 L2054.47 178.05 Z\" fill=\"#000000\" fill-rule=\"evenodd\" fill-opacity=\"1\" /><path clip-path=\"url(#clip350)\" d=\"M2074.77 210.133 L2082.41 210.133 L2082.41 183.768 L2074.1 185.435 L2074.1 181.175 L2082.36 179.509 L2087.04 179.509 L2087.04 210.133 L2094.68 210.133 L2094.68 214.069 L2074.77 214.069 L2074.77 210.133 Z\" fill=\"#000000\" fill-rule=\"evenodd\" fill-opacity=\"1\" /><path clip-path=\"url(#clip350)\" d=\"M2104.61 208.189 L2109.49 208.189 L2109.49 212.17 L2105.7 219.578 L2102.71 219.578 L2104.61 212.17 L2104.61 208.189 Z\" fill=\"#000000\" fill-rule=\"evenodd\" fill-opacity=\"1\" /><path clip-path=\"url(#clip350)\" d=\"M2138.29 210.133 L2154.61 210.133 L2154.61 214.069 L2132.67 214.069 L2132.67 210.133 Q2135.33 207.379 2139.91 202.749 Q2144.52 198.096 2145.7 196.754 Q2147.94 194.231 2148.82 192.495 Q2149.73 190.735 2149.73 189.046 Q2149.73 186.291 2147.78 184.555 Q2145.86 182.819 2142.76 182.819 Q2140.56 182.819 2138.11 183.583 Q2135.67 184.347 2132.9 185.897 L2132.9 181.175 Q2135.72 180.041 2138.17 179.462 Q2140.63 178.884 2142.67 178.884 Q2148.04 178.884 2151.23 181.569 Q2154.42 184.254 2154.42 188.745 Q2154.42 190.874 2153.61 192.796 Q2152.83 194.694 2150.72 197.286 Q2150.14 197.958 2147.04 201.175 Q2143.94 204.37 2138.29 210.133 Z\" fill=\"#000000\" fill-rule=\"evenodd\" fill-opacity=\"1\" /><path clip-path=\"url(#clip350)\" d=\"M2164.91 208.189 L2169.79 208.189 L2169.79 212.17 L2166 219.578 L2163.01 219.578 L2164.91 212.17 L2164.91 208.189 Z\" fill=\"#000000\" fill-rule=\"evenodd\" fill-opacity=\"1\" /><path clip-path=\"url(#clip350)\" d=\"M2207.41 183.583 L2195.61 202.032 L2207.41 202.032 L2207.41 183.583 M2206.18 179.509 L2212.06 179.509 L2212.06 202.032 L2216.99 202.032 L2216.99 205.921 L2212.06 205.921 L2212.06 214.069 L2207.41 214.069 L2207.41 205.921 L2191.81 205.921 L2191.81 201.407 L2206.18 179.509 Z\" fill=\"#000000\" fill-rule=\"evenodd\" fill-opacity=\"1\" /><path clip-path=\"url(#clip350)\" d=\"M2234.08 178.05 L2234.08 220.319 L2224.26 220.319 L2224.26 217.008 L2229.79 217.008 L2229.79 181.36 L2224.26 181.36 L2224.26 178.05 L2234.08 178.05 Z\" fill=\"#000000\" fill-rule=\"evenodd\" fill-opacity=\"1\" /></svg>\n"
      ]
     },
     "execution_count": 21,
     "metadata": {},
     "output_type": "execute_result"
    }
   ],
   "source": [
    "p1"
   ]
  },
  {
   "cell_type": "markdown",
   "metadata": {
    "nbpresent": {
     "id": "5ac0597a-95d3-4c59-9421-9bbdb786a358"
    },
    "slideshow": {
     "slide_type": "slide"
    }
   },
   "source": [
    "## Average travel time\n",
    "\n",
    "Let's plot the average travel time"
   ]
  },
  {
   "cell_type": "code",
   "execution_count": 22,
   "metadata": {
    "nbpresent": {
     "id": "df30484c-3557-4278-aec8-2c67eef3f79c"
    }
   },
   "outputs": [
    {
     "data": {
      "image/svg+xml": [
       "<?xml version=\"1.0\" encoding=\"utf-8\"?>\n",
       "<svg xmlns=\"http://www.w3.org/2000/svg\" xmlns:xlink=\"http://www.w3.org/1999/xlink\" width=\"600\" height=\"400\" viewBox=\"0 0 2400 1600\">\n",
       "<defs>\n",
       "  <clipPath id=\"clip390\">\n",
       "    <rect x=\"0\" y=\"0\" width=\"2400\" height=\"1600\"/>\n",
       "  </clipPath>\n",
       "</defs>\n",
       "<path clip-path=\"url(#clip390)\" d=\"\n",
       "M0 1600 L2400 1600 L2400 0 L0 0  Z\n",
       "  \" fill=\"#ffffff\" fill-rule=\"evenodd\" fill-opacity=\"1\"/>\n",
       "<defs>\n",
       "  <clipPath id=\"clip391\">\n",
       "    <rect x=\"480\" y=\"0\" width=\"1681\" height=\"1600\"/>\n",
       "  </clipPath>\n",
       "</defs>\n",
       "<path clip-path=\"url(#clip390)\" d=\"\n",
       "M205.121 1423.18 L2352.76 1423.18 L2352.76 47.2441 L205.121 47.2441  Z\n",
       "  \" fill=\"#ffffff\" fill-rule=\"evenodd\" fill-opacity=\"1\"/>\n",
       "<defs>\n",
       "  <clipPath id=\"clip392\">\n",
       "    <rect x=\"205\" y=\"47\" width=\"2149\" height=\"1377\"/>\n",
       "  </clipPath>\n",
       "</defs>\n",
       "<polyline clip-path=\"url(#clip392)\" style=\"stroke:#000000; stroke-linecap:butt; stroke-linejoin:round; stroke-width:2; stroke-opacity:0.1; fill:none\" points=\"\n",
       "  245.438,1423.18 245.438,47.2441 \n",
       "  \"/>\n",
       "<polyline clip-path=\"url(#clip392)\" style=\"stroke:#000000; stroke-linecap:butt; stroke-linejoin:round; stroke-width:2; stroke-opacity:0.1; fill:none\" points=\"\n",
       "  757.072,1423.18 757.072,47.2441 \n",
       "  \"/>\n",
       "<polyline clip-path=\"url(#clip392)\" style=\"stroke:#000000; stroke-linecap:butt; stroke-linejoin:round; stroke-width:2; stroke-opacity:0.1; fill:none\" points=\"\n",
       "  1268.71,1423.18 1268.71,47.2441 \n",
       "  \"/>\n",
       "<polyline clip-path=\"url(#clip392)\" style=\"stroke:#000000; stroke-linecap:butt; stroke-linejoin:round; stroke-width:2; stroke-opacity:0.1; fill:none\" points=\"\n",
       "  1780.34,1423.18 1780.34,47.2441 \n",
       "  \"/>\n",
       "<polyline clip-path=\"url(#clip392)\" style=\"stroke:#000000; stroke-linecap:butt; stroke-linejoin:round; stroke-width:2; stroke-opacity:0.1; fill:none\" points=\"\n",
       "  2291.97,1423.18 2291.97,47.2441 \n",
       "  \"/>\n",
       "<polyline clip-path=\"url(#clip390)\" style=\"stroke:#000000; stroke-linecap:butt; stroke-linejoin:round; stroke-width:4; stroke-opacity:1; fill:none\" points=\"\n",
       "  205.121,1423.18 2352.76,1423.18 \n",
       "  \"/>\n",
       "<polyline clip-path=\"url(#clip390)\" style=\"stroke:#000000; stroke-linecap:butt; stroke-linejoin:round; stroke-width:4; stroke-opacity:1; fill:none\" points=\"\n",
       "  245.438,1423.18 245.438,1404.28 \n",
       "  \"/>\n",
       "<polyline clip-path=\"url(#clip390)\" style=\"stroke:#000000; stroke-linecap:butt; stroke-linejoin:round; stroke-width:4; stroke-opacity:1; fill:none\" points=\"\n",
       "  757.072,1423.18 757.072,1404.28 \n",
       "  \"/>\n",
       "<polyline clip-path=\"url(#clip390)\" style=\"stroke:#000000; stroke-linecap:butt; stroke-linejoin:round; stroke-width:4; stroke-opacity:1; fill:none\" points=\"\n",
       "  1268.71,1423.18 1268.71,1404.28 \n",
       "  \"/>\n",
       "<polyline clip-path=\"url(#clip390)\" style=\"stroke:#000000; stroke-linecap:butt; stroke-linejoin:round; stroke-width:4; stroke-opacity:1; fill:none\" points=\"\n",
       "  1780.34,1423.18 1780.34,1404.28 \n",
       "  \"/>\n",
       "<polyline clip-path=\"url(#clip390)\" style=\"stroke:#000000; stroke-linecap:butt; stroke-linejoin:round; stroke-width:4; stroke-opacity:1; fill:none\" points=\"\n",
       "  2291.97,1423.18 2291.97,1404.28 \n",
       "  \"/>\n",
       "<path clip-path=\"url(#clip390)\" d=\"M245.438 1454.1 Q241.827 1454.1 239.998 1457.66 Q238.192 1461.2 238.192 1468.33 Q238.192 1475.44 239.998 1479.01 Q241.827 1482.55 245.438 1482.55 Q249.072 1482.55 250.878 1479.01 Q252.706 1475.44 252.706 1468.33 Q252.706 1461.2 250.878 1457.66 Q249.072 1454.1 245.438 1454.1 M245.438 1450.39 Q251.248 1450.39 254.303 1455 Q257.382 1459.58 257.382 1468.33 Q257.382 1477.06 254.303 1481.67 Q251.248 1486.25 245.438 1486.25 Q239.628 1486.25 236.549 1481.67 Q233.493 1477.06 233.493 1468.33 Q233.493 1459.58 236.549 1455 Q239.628 1450.39 245.438 1450.39 Z\" fill=\"#000000\" fill-rule=\"evenodd\" fill-opacity=\"1\" /><path clip-path=\"url(#clip390)\" d=\"M736.343 1481.64 L752.662 1481.64 L752.662 1485.58 L730.718 1485.58 L730.718 1481.64 Q733.38 1478.89 737.963 1474.26 Q742.57 1469.61 743.75 1468.27 Q745.995 1465.74 746.875 1464.01 Q747.778 1462.25 747.778 1460.56 Q747.778 1457.8 745.833 1456.07 Q743.912 1454.33 740.81 1454.33 Q738.611 1454.33 736.158 1455.09 Q733.727 1455.86 730.949 1457.41 L730.949 1452.69 Q733.773 1451.55 736.227 1450.97 Q738.681 1450.39 740.718 1450.39 Q746.088 1450.39 749.282 1453.08 Q752.477 1455.77 752.477 1460.26 Q752.477 1462.39 751.667 1464.31 Q750.88 1466.2 748.773 1468.8 Q748.194 1469.47 745.093 1472.69 Q741.991 1475.88 736.343 1481.64 Z\" fill=\"#000000\" fill-rule=\"evenodd\" fill-opacity=\"1\" /><path clip-path=\"url(#clip390)\" d=\"M762.523 1451.02 L780.879 1451.02 L780.879 1454.96 L766.805 1454.96 L766.805 1463.43 Q767.824 1463.08 768.843 1462.92 Q769.861 1462.73 770.88 1462.73 Q776.667 1462.73 780.046 1465.9 Q783.426 1469.08 783.426 1474.49 Q783.426 1480.07 779.954 1483.17 Q776.481 1486.25 770.162 1486.25 Q767.986 1486.25 765.718 1485.88 Q763.472 1485.51 761.065 1484.77 L761.065 1480.07 Q763.148 1481.2 765.37 1481.76 Q767.593 1482.32 770.069 1482.32 Q774.074 1482.32 776.412 1480.21 Q778.75 1478.1 778.75 1474.49 Q778.75 1470.88 776.412 1468.77 Q774.074 1466.67 770.069 1466.67 Q768.194 1466.67 766.319 1467.08 Q764.468 1467.5 762.523 1468.38 L762.523 1451.02 Z\" fill=\"#000000\" fill-rule=\"evenodd\" fill-opacity=\"1\" /><path clip-path=\"url(#clip390)\" d=\"M1243.4 1451.02 L1261.76 1451.02 L1261.76 1454.96 L1247.69 1454.96 L1247.69 1463.43 Q1248.71 1463.08 1249.72 1462.92 Q1250.74 1462.73 1251.76 1462.73 Q1257.55 1462.73 1260.93 1465.9 Q1264.31 1469.08 1264.31 1474.49 Q1264.31 1480.07 1260.84 1483.17 Q1257.36 1486.25 1251.04 1486.25 Q1248.87 1486.25 1246.6 1485.88 Q1244.35 1485.51 1241.95 1484.77 L1241.95 1480.07 Q1244.03 1481.2 1246.25 1481.76 Q1248.47 1482.32 1250.95 1482.32 Q1254.96 1482.32 1257.29 1480.21 Q1259.63 1478.1 1259.63 1474.49 Q1259.63 1470.88 1257.29 1468.77 Q1254.96 1466.67 1250.95 1466.67 Q1249.08 1466.67 1247.2 1467.08 Q1245.35 1467.5 1243.4 1468.38 L1243.4 1451.02 Z\" fill=\"#000000\" fill-rule=\"evenodd\" fill-opacity=\"1\" /><path clip-path=\"url(#clip390)\" d=\"M1283.52 1454.1 Q1279.91 1454.1 1278.08 1457.66 Q1276.28 1461.2 1276.28 1468.33 Q1276.28 1475.44 1278.08 1479.01 Q1279.91 1482.55 1283.52 1482.55 Q1287.15 1482.55 1288.96 1479.01 Q1290.79 1475.44 1290.79 1468.33 Q1290.79 1461.2 1288.96 1457.66 Q1287.15 1454.1 1283.52 1454.1 M1283.52 1450.39 Q1289.33 1450.39 1292.39 1455 Q1295.46 1459.58 1295.46 1468.33 Q1295.46 1477.06 1292.39 1481.67 Q1289.33 1486.25 1283.52 1486.25 Q1277.71 1486.25 1274.63 1481.67 Q1271.58 1477.06 1271.58 1468.33 Q1271.58 1459.58 1274.63 1455 Q1277.71 1450.39 1283.52 1450.39 Z\" fill=\"#000000\" fill-rule=\"evenodd\" fill-opacity=\"1\" /><path clip-path=\"url(#clip390)\" d=\"M1754.19 1451.02 L1776.42 1451.02 L1776.42 1453.01 L1763.87 1485.58 L1758.99 1485.58 L1770.79 1454.96 L1754.19 1454.96 L1754.19 1451.02 Z\" fill=\"#000000\" fill-rule=\"evenodd\" fill-opacity=\"1\" /><path clip-path=\"url(#clip390)\" d=\"M1785.58 1451.02 L1803.94 1451.02 L1803.94 1454.96 L1789.87 1454.96 L1789.87 1463.43 Q1790.88 1463.08 1791.9 1462.92 Q1792.92 1462.73 1793.94 1462.73 Q1799.73 1462.73 1803.11 1465.9 Q1806.49 1469.08 1806.49 1474.49 Q1806.49 1480.07 1803.01 1483.17 Q1799.54 1486.25 1793.22 1486.25 Q1791.05 1486.25 1788.78 1485.88 Q1786.53 1485.51 1784.12 1484.77 L1784.12 1480.07 Q1786.21 1481.2 1788.43 1481.76 Q1790.65 1482.32 1793.13 1482.32 Q1797.13 1482.32 1799.47 1480.21 Q1801.81 1478.1 1801.81 1474.49 Q1801.81 1470.88 1799.47 1468.77 Q1797.13 1466.67 1793.13 1466.67 Q1791.25 1466.67 1789.38 1467.08 Q1787.53 1467.5 1785.58 1468.38 L1785.58 1451.02 Z\" fill=\"#000000\" fill-rule=\"evenodd\" fill-opacity=\"1\" /><path clip-path=\"url(#clip390)\" d=\"M2251.58 1481.64 L2259.22 1481.64 L2259.22 1455.28 L2250.91 1456.95 L2250.91 1452.69 L2259.17 1451.02 L2263.85 1451.02 L2263.85 1481.64 L2271.49 1481.64 L2271.49 1485.58 L2251.58 1485.58 L2251.58 1481.64 Z\" fill=\"#000000\" fill-rule=\"evenodd\" fill-opacity=\"1\" /><path clip-path=\"url(#clip390)\" d=\"M2290.93 1454.1 Q2287.32 1454.1 2285.49 1457.66 Q2283.69 1461.2 2283.69 1468.33 Q2283.69 1475.44 2285.49 1479.01 Q2287.32 1482.55 2290.93 1482.55 Q2294.57 1482.55 2296.37 1479.01 Q2298.2 1475.44 2298.2 1468.33 Q2298.2 1461.2 2296.37 1457.66 Q2294.57 1454.1 2290.93 1454.1 M2290.93 1450.39 Q2296.74 1450.39 2299.8 1455 Q2302.88 1459.58 2302.88 1468.33 Q2302.88 1477.06 2299.8 1481.67 Q2296.74 1486.25 2290.93 1486.25 Q2285.12 1486.25 2282.04 1481.67 Q2278.99 1477.06 2278.99 1468.33 Q2278.99 1459.58 2282.04 1455 Q2285.12 1450.39 2290.93 1450.39 Z\" fill=\"#000000\" fill-rule=\"evenodd\" fill-opacity=\"1\" /><path clip-path=\"url(#clip390)\" d=\"M2321.09 1454.1 Q2317.48 1454.1 2315.65 1457.66 Q2313.85 1461.2 2313.85 1468.33 Q2313.85 1475.44 2315.65 1479.01 Q2317.48 1482.55 2321.09 1482.55 Q2324.73 1482.55 2326.53 1479.01 Q2328.36 1475.44 2328.36 1468.33 Q2328.36 1461.2 2326.53 1457.66 Q2324.73 1454.1 2321.09 1454.1 M2321.09 1450.39 Q2326.9 1450.39 2329.96 1455 Q2333.04 1459.58 2333.04 1468.33 Q2333.04 1477.06 2329.96 1481.67 Q2326.9 1486.25 2321.09 1486.25 Q2315.28 1486.25 2312.21 1481.67 Q2309.15 1477.06 2309.15 1468.33 Q2309.15 1459.58 2312.21 1455 Q2315.28 1450.39 2321.09 1450.39 Z\" fill=\"#000000\" fill-rule=\"evenodd\" fill-opacity=\"1\" /><path clip-path=\"url(#clip390)\" d=\"M1222.08 1522.08 L1222.08 1528.35 Q1218.42 1526.6 1215.17 1525.74 Q1211.92 1524.88 1208.9 1524.88 Q1203.65 1524.88 1200.78 1526.92 Q1197.95 1528.96 1197.95 1532.71 Q1197.95 1535.87 1199.83 1537.49 Q1201.74 1539.08 1207.02 1540.07 L1210.9 1540.86 Q1218.1 1542.23 1221.5 1545.7 Q1224.94 1549.14 1224.94 1554.93 Q1224.94 1561.84 1220.29 1565.4 Q1215.68 1568.97 1206.74 1568.97 Q1203.36 1568.97 1199.54 1568.2 Q1195.75 1567.44 1191.68 1565.94 L1191.68 1559.32 Q1195.6 1561.52 1199.35 1562.63 Q1203.11 1563.75 1206.74 1563.75 Q1212.24 1563.75 1215.23 1561.58 Q1218.23 1559.42 1218.23 1555.41 Q1218.23 1551.91 1216.06 1549.93 Q1213.93 1547.96 1209.03 1546.97 L1205.11 1546.21 Q1197.92 1544.78 1194.7 1541.72 Q1191.49 1538.67 1191.49 1533.22 Q1191.49 1526.92 1195.91 1523.29 Q1200.37 1519.66 1208.17 1519.66 Q1211.51 1519.66 1214.98 1520.27 Q1218.45 1520.87 1222.08 1522.08 Z\" fill=\"#000000\" fill-rule=\"evenodd\" fill-opacity=\"1\" /><path clip-path=\"url(#clip390)\" d=\"M1240.51 1522.27 L1240.51 1532.4 L1252.57 1532.4 L1252.57 1536.95 L1240.51 1536.95 L1240.51 1556.3 Q1240.51 1560.66 1241.68 1561.9 Q1242.89 1563.14 1246.55 1563.14 L1252.57 1563.14 L1252.57 1568.04 L1246.55 1568.04 Q1239.77 1568.04 1237.2 1565.53 Q1234.62 1562.98 1234.62 1556.3 L1234.62 1536.95 L1230.32 1536.95 L1230.32 1532.4 L1234.62 1532.4 L1234.62 1522.27 L1240.51 1522.27 Z\" fill=\"#000000\" fill-rule=\"evenodd\" fill-opacity=\"1\" /><path clip-path=\"url(#clip390)\" d=\"M1290.76 1548.76 L1290.76 1551.62 L1263.84 1551.62 Q1264.22 1557.67 1267.46 1560.85 Q1270.74 1564 1276.57 1564 Q1279.94 1564 1283.09 1563.17 Q1286.27 1562.35 1289.39 1560.69 L1289.39 1566.23 Q1286.24 1567.57 1282.93 1568.27 Q1279.62 1568.97 1276.22 1568.97 Q1267.69 1568.97 1262.69 1564 Q1257.72 1559.04 1257.72 1550.57 Q1257.72 1541.82 1262.44 1536.69 Q1267.18 1531.54 1275.2 1531.54 Q1282.39 1531.54 1286.56 1536.18 Q1290.76 1540.8 1290.76 1548.76 M1284.91 1547.04 Q1284.84 1542.23 1282.2 1539.37 Q1279.59 1536.5 1275.26 1536.5 Q1270.36 1536.5 1267.4 1539.27 Q1264.47 1542.04 1264.03 1547.07 L1284.91 1547.04 Z\" fill=\"#000000\" fill-rule=\"evenodd\" fill-opacity=\"1\" /><path clip-path=\"url(#clip390)\" d=\"M1306.04 1562.7 L1306.04 1581.6 L1300.15 1581.6 L1300.15 1532.4 L1306.04 1532.4 L1306.04 1537.81 Q1307.89 1534.62 1310.69 1533.1 Q1313.52 1531.54 1317.44 1531.54 Q1323.93 1531.54 1327.97 1536.69 Q1332.04 1541.85 1332.04 1550.25 Q1332.04 1558.65 1327.97 1563.81 Q1323.93 1568.97 1317.44 1568.97 Q1313.52 1568.97 1310.69 1567.44 Q1307.89 1565.88 1306.04 1562.7 M1325.97 1550.25 Q1325.97 1543.79 1323.29 1540.13 Q1320.65 1536.44 1316 1536.44 Q1311.36 1536.44 1308.68 1540.13 Q1306.04 1543.79 1306.04 1550.25 Q1306.04 1556.71 1308.68 1560.4 Q1311.36 1564.07 1316 1564.07 Q1320.65 1564.07 1323.29 1560.4 Q1325.97 1556.71 1325.97 1550.25 Z\" fill=\"#000000\" fill-rule=\"evenodd\" fill-opacity=\"1\" /><path clip-path=\"url(#clip390)\" d=\"M1364.48 1533.45 L1364.48 1538.98 Q1361.99 1537.71 1359.32 1537.07 Q1356.65 1536.44 1353.78 1536.44 Q1349.42 1536.44 1347.23 1537.77 Q1345.06 1539.11 1345.06 1541.79 Q1345.06 1543.82 1346.62 1545 Q1348.18 1546.15 1352.89 1547.2 L1354.9 1547.64 Q1361.14 1548.98 1363.75 1551.43 Q1366.39 1553.85 1366.39 1558.21 Q1366.39 1563.17 1362.44 1566.07 Q1358.53 1568.97 1351.65 1568.97 Q1348.79 1568.97 1345.67 1568.39 Q1342.58 1567.85 1339.14 1566.74 L1339.14 1560.69 Q1342.39 1562.38 1345.54 1563.24 Q1348.69 1564.07 1351.78 1564.07 Q1355.92 1564.07 1358.14 1562.66 Q1360.37 1561.23 1360.37 1558.65 Q1360.37 1556.27 1358.75 1554.99 Q1357.16 1553.72 1351.71 1552.54 L1349.68 1552.07 Q1344.23 1550.92 1341.82 1548.56 Q1339.4 1546.18 1339.4 1542.04 Q1339.4 1537.01 1342.96 1534.27 Q1346.53 1531.54 1353.08 1531.54 Q1356.33 1531.54 1359.19 1532.01 Q1362.06 1532.49 1364.48 1533.45 Z\" fill=\"#000000\" fill-rule=\"evenodd\" fill-opacity=\"1\" /><polyline clip-path=\"url(#clip392)\" style=\"stroke:#000000; stroke-linecap:butt; stroke-linejoin:round; stroke-width:2; stroke-opacity:0.1; fill:none\" points=\"\n",
       "  205.121,1384.24 2352.76,1384.24 \n",
       "  \"/>\n",
       "<polyline clip-path=\"url(#clip392)\" style=\"stroke:#000000; stroke-linecap:butt; stroke-linejoin:round; stroke-width:2; stroke-opacity:0.1; fill:none\" points=\"\n",
       "  205.121,1124.63 2352.76,1124.63 \n",
       "  \"/>\n",
       "<polyline clip-path=\"url(#clip392)\" style=\"stroke:#000000; stroke-linecap:butt; stroke-linejoin:round; stroke-width:2; stroke-opacity:0.1; fill:none\" points=\"\n",
       "  205.121,865.017 2352.76,865.017 \n",
       "  \"/>\n",
       "<polyline clip-path=\"url(#clip392)\" style=\"stroke:#000000; stroke-linecap:butt; stroke-linejoin:round; stroke-width:2; stroke-opacity:0.1; fill:none\" points=\"\n",
       "  205.121,605.407 2352.76,605.407 \n",
       "  \"/>\n",
       "<polyline clip-path=\"url(#clip392)\" style=\"stroke:#000000; stroke-linecap:butt; stroke-linejoin:round; stroke-width:2; stroke-opacity:0.1; fill:none\" points=\"\n",
       "  205.121,345.796 2352.76,345.796 \n",
       "  \"/>\n",
       "<polyline clip-path=\"url(#clip392)\" style=\"stroke:#000000; stroke-linecap:butt; stroke-linejoin:round; stroke-width:2; stroke-opacity:0.1; fill:none\" points=\"\n",
       "  205.121,86.1857 2352.76,86.1857 \n",
       "  \"/>\n",
       "<polyline clip-path=\"url(#clip390)\" style=\"stroke:#000000; stroke-linecap:butt; stroke-linejoin:round; stroke-width:4; stroke-opacity:1; fill:none\" points=\"\n",
       "  205.121,1423.18 205.121,47.2441 \n",
       "  \"/>\n",
       "<polyline clip-path=\"url(#clip390)\" style=\"stroke:#000000; stroke-linecap:butt; stroke-linejoin:round; stroke-width:4; stroke-opacity:1; fill:none\" points=\"\n",
       "  205.121,1384.24 224.019,1384.24 \n",
       "  \"/>\n",
       "<polyline clip-path=\"url(#clip390)\" style=\"stroke:#000000; stroke-linecap:butt; stroke-linejoin:round; stroke-width:4; stroke-opacity:1; fill:none\" points=\"\n",
       "  205.121,1124.63 224.019,1124.63 \n",
       "  \"/>\n",
       "<polyline clip-path=\"url(#clip390)\" style=\"stroke:#000000; stroke-linecap:butt; stroke-linejoin:round; stroke-width:4; stroke-opacity:1; fill:none\" points=\"\n",
       "  205.121,865.017 224.019,865.017 \n",
       "  \"/>\n",
       "<polyline clip-path=\"url(#clip390)\" style=\"stroke:#000000; stroke-linecap:butt; stroke-linejoin:round; stroke-width:4; stroke-opacity:1; fill:none\" points=\"\n",
       "  205.121,605.407 224.019,605.407 \n",
       "  \"/>\n",
       "<polyline clip-path=\"url(#clip390)\" style=\"stroke:#000000; stroke-linecap:butt; stroke-linejoin:round; stroke-width:4; stroke-opacity:1; fill:none\" points=\"\n",
       "  205.121,345.796 224.019,345.796 \n",
       "  \"/>\n",
       "<polyline clip-path=\"url(#clip390)\" style=\"stroke:#000000; stroke-linecap:butt; stroke-linejoin:round; stroke-width:4; stroke-opacity:1; fill:none\" points=\"\n",
       "  205.121,86.1857 224.019,86.1857 \n",
       "  \"/>\n",
       "<path clip-path=\"url(#clip390)\" d=\"M157.177 1370.04 Q153.566 1370.04 151.737 1373.6 Q149.931 1377.14 149.931 1384.27 Q149.931 1391.38 151.737 1394.94 Q153.566 1398.49 157.177 1398.49 Q160.811 1398.49 162.616 1394.94 Q164.445 1391.38 164.445 1384.27 Q164.445 1377.14 162.616 1373.6 Q160.811 1370.04 157.177 1370.04 M157.177 1366.33 Q162.987 1366.33 166.042 1370.94 Q169.121 1375.52 169.121 1384.27 Q169.121 1393 166.042 1397.61 Q162.987 1402.19 157.177 1402.19 Q151.366 1402.19 148.288 1397.61 Q145.232 1393 145.232 1384.27 Q145.232 1375.52 148.288 1370.94 Q151.366 1366.33 157.177 1366.33 Z\" fill=\"#000000\" fill-rule=\"evenodd\" fill-opacity=\"1\" /><path clip-path=\"url(#clip390)\" d=\"M117.825 1137.97 L125.464 1137.97 L125.464 1111.61 L117.154 1113.27 L117.154 1109.01 L125.418 1107.35 L130.093 1107.35 L130.093 1137.97 L137.732 1137.97 L137.732 1141.91 L117.825 1141.91 L117.825 1137.97 Z\" fill=\"#000000\" fill-rule=\"evenodd\" fill-opacity=\"1\" /><path clip-path=\"url(#clip390)\" d=\"M157.177 1110.43 Q153.566 1110.43 151.737 1113.99 Q149.931 1117.53 149.931 1124.66 Q149.931 1131.77 151.737 1135.33 Q153.566 1138.88 157.177 1138.88 Q160.811 1138.88 162.616 1135.33 Q164.445 1131.77 164.445 1124.66 Q164.445 1117.53 162.616 1113.99 Q160.811 1110.43 157.177 1110.43 M157.177 1106.72 Q162.987 1106.72 166.042 1111.33 Q169.121 1115.91 169.121 1124.66 Q169.121 1133.39 166.042 1138 Q162.987 1142.58 157.177 1142.58 Q151.366 1142.58 148.288 1138 Q145.232 1133.39 145.232 1124.66 Q145.232 1115.91 148.288 1111.33 Q151.366 1106.72 157.177 1106.72 Z\" fill=\"#000000\" fill-rule=\"evenodd\" fill-opacity=\"1\" /><path clip-path=\"url(#clip390)\" d=\"M121.043 878.362 L137.362 878.362 L137.362 882.297 L115.418 882.297 L115.418 878.362 Q118.08 875.607 122.663 870.978 Q127.269 866.325 128.45 864.983 Q130.695 862.459 131.575 860.723 Q132.478 858.964 132.478 857.274 Q132.478 854.52 130.533 852.783 Q128.612 851.047 125.51 851.047 Q123.311 851.047 120.857 851.811 Q118.427 852.575 115.649 854.126 L115.649 849.404 Q118.473 848.27 120.927 847.691 Q123.38 847.112 125.418 847.112 Q130.788 847.112 133.982 849.797 Q137.177 852.483 137.177 856.973 Q137.177 859.103 136.367 861.024 Q135.579 862.922 133.473 865.515 Q132.894 866.186 129.792 869.404 Q126.691 872.598 121.043 878.362 Z\" fill=\"#000000\" fill-rule=\"evenodd\" fill-opacity=\"1\" /><path clip-path=\"url(#clip390)\" d=\"M157.177 850.816 Q153.566 850.816 151.737 854.381 Q149.931 857.922 149.931 865.052 Q149.931 872.158 151.737 875.723 Q153.566 879.265 157.177 879.265 Q160.811 879.265 162.616 875.723 Q164.445 872.158 164.445 865.052 Q164.445 857.922 162.616 854.381 Q160.811 850.816 157.177 850.816 M157.177 847.112 Q162.987 847.112 166.042 851.719 Q169.121 856.302 169.121 865.052 Q169.121 873.779 166.042 878.385 Q162.987 882.969 157.177 882.969 Q151.366 882.969 148.288 878.385 Q145.232 873.779 145.232 865.052 Q145.232 856.302 148.288 851.719 Q151.366 847.112 157.177 847.112 Z\" fill=\"#000000\" fill-rule=\"evenodd\" fill-opacity=\"1\" /><path clip-path=\"url(#clip390)\" d=\"M131.181 604.053 Q134.538 604.77 136.413 607.039 Q138.311 609.307 138.311 612.64 Q138.311 617.756 134.792 620.557 Q131.274 623.358 124.793 623.358 Q122.617 623.358 120.302 622.918 Q118.01 622.502 115.556 621.645 L115.556 617.131 Q117.501 618.265 119.816 618.844 Q122.13 619.423 124.654 619.423 Q129.052 619.423 131.343 617.687 Q133.658 615.951 133.658 612.64 Q133.658 609.585 131.505 607.872 Q129.376 606.136 125.556 606.136 L121.529 606.136 L121.529 602.293 L125.742 602.293 Q129.191 602.293 131.019 600.928 Q132.848 599.539 132.848 596.946 Q132.848 594.284 130.95 592.872 Q129.075 591.437 125.556 591.437 Q123.635 591.437 121.436 591.854 Q119.237 592.27 116.598 593.15 L116.598 588.983 Q119.26 588.242 121.575 587.872 Q123.913 587.502 125.973 587.502 Q131.297 587.502 134.399 589.932 Q137.501 592.34 137.501 596.46 Q137.501 599.33 135.857 601.321 Q134.214 603.289 131.181 604.053 Z\" fill=\"#000000\" fill-rule=\"evenodd\" fill-opacity=\"1\" /><path clip-path=\"url(#clip390)\" d=\"M157.177 591.205 Q153.566 591.205 151.737 594.77 Q149.931 598.312 149.931 605.441 Q149.931 612.548 151.737 616.113 Q153.566 619.654 157.177 619.654 Q160.811 619.654 162.616 616.113 Q164.445 612.548 164.445 605.441 Q164.445 598.312 162.616 594.77 Q160.811 591.205 157.177 591.205 M157.177 587.502 Q162.987 587.502 166.042 592.108 Q169.121 596.691 169.121 605.441 Q169.121 614.168 166.042 618.775 Q162.987 623.358 157.177 623.358 Q151.366 623.358 148.288 618.775 Q145.232 614.168 145.232 605.441 Q145.232 596.691 148.288 592.108 Q151.366 587.502 157.177 587.502 Z\" fill=\"#000000\" fill-rule=\"evenodd\" fill-opacity=\"1\" /><path clip-path=\"url(#clip390)\" d=\"M129.862 332.59 L118.056 351.039 L129.862 351.039 L129.862 332.59 M128.635 328.516 L134.515 328.516 L134.515 351.039 L139.445 351.039 L139.445 354.928 L134.515 354.928 L134.515 363.076 L129.862 363.076 L129.862 354.928 L114.26 354.928 L114.26 350.414 L128.635 328.516 Z\" fill=\"#000000\" fill-rule=\"evenodd\" fill-opacity=\"1\" /><path clip-path=\"url(#clip390)\" d=\"M157.177 331.595 Q153.566 331.595 151.737 335.16 Q149.931 338.701 149.931 345.831 Q149.931 352.937 151.737 356.502 Q153.566 360.044 157.177 360.044 Q160.811 360.044 162.616 356.502 Q164.445 352.937 164.445 345.831 Q164.445 338.701 162.616 335.16 Q160.811 331.595 157.177 331.595 M157.177 327.891 Q162.987 327.891 166.042 332.498 Q169.121 337.081 169.121 345.831 Q169.121 354.558 166.042 359.164 Q162.987 363.747 157.177 363.747 Q151.366 363.747 148.288 359.164 Q145.232 354.558 145.232 345.831 Q145.232 337.081 148.288 332.498 Q151.366 327.891 157.177 327.891 Z\" fill=\"#000000\" fill-rule=\"evenodd\" fill-opacity=\"1\" /><path clip-path=\"url(#clip390)\" d=\"M117.061 68.9057 L135.417 68.9057 L135.417 72.8408 L121.343 72.8408 L121.343 81.313 Q122.362 80.9658 123.38 80.8038 Q124.399 80.6186 125.418 80.6186 Q131.205 80.6186 134.584 83.7899 Q137.964 86.9611 137.964 92.3778 Q137.964 97.9564 134.492 101.058 Q131.019 104.137 124.7 104.137 Q122.524 104.137 120.255 103.767 Q118.01 103.396 115.603 102.655 L115.603 97.9564 Q117.686 99.0907 119.908 99.6462 Q122.13 100.202 124.607 100.202 Q128.612 100.202 130.95 98.0953 Q133.288 95.9889 133.288 92.3778 Q133.288 88.7667 130.95 86.6602 Q128.612 84.5537 124.607 84.5537 Q122.732 84.5537 120.857 84.9704 Q119.006 85.3871 117.061 86.2667 L117.061 68.9057 Z\" fill=\"#000000\" fill-rule=\"evenodd\" fill-opacity=\"1\" /><path clip-path=\"url(#clip390)\" d=\"M157.177 71.9844 Q153.566 71.9844 151.737 75.5492 Q149.931 79.0908 149.931 86.2204 Q149.931 93.3268 151.737 96.8916 Q153.566 100.433 157.177 100.433 Q160.811 100.433 162.616 96.8916 Q164.445 93.3268 164.445 86.2204 Q164.445 79.0908 162.616 75.5492 Q160.811 71.9844 157.177 71.9844 M157.177 68.2807 Q162.987 68.2807 166.042 72.8871 Q169.121 77.4704 169.121 86.2204 Q169.121 94.9472 166.042 99.5537 Q162.987 104.137 157.177 104.137 Q151.366 104.137 148.288 99.5537 Q145.232 94.9472 145.232 86.2204 Q145.232 77.4704 148.288 72.8871 Q151.366 68.2807 157.177 68.2807 Z\" fill=\"#000000\" fill-rule=\"evenodd\" fill-opacity=\"1\" /><path clip-path=\"url(#clip390)\" d=\"M16.4842 813.335 L16.4842 773.136 L21.895 773.136 L21.895 790.005 L64.0042 790.005 L64.0042 796.466 L21.895 796.466 L21.895 813.335 L16.4842 813.335 Z\" fill=\"#000000\" fill-rule=\"evenodd\" fill-opacity=\"1\" /><path clip-path=\"url(#clip390)\" d=\"M28.3562 769.189 L28.3562 763.332 L64.0042 763.332 L64.0042 769.189 L28.3562 769.189 M14.479 769.189 L14.479 763.332 L21.895 763.332 L21.895 769.189 L14.479 769.189 Z\" fill=\"#000000\" fill-rule=\"evenodd\" fill-opacity=\"1\" /><path clip-path=\"url(#clip390)\" d=\"M35.1993 723.324 Q31.2526 721.128 29.3747 718.072 Q27.4968 715.017 27.4968 710.879 Q27.4968 705.309 31.4117 702.285 Q35.2948 699.262 42.4881 699.262 L64.0042 699.262 L64.0042 705.15 L42.679 705.15 Q37.5546 705.15 35.072 706.964 Q32.5894 708.778 32.5894 712.502 Q32.5894 717.054 35.6131 719.696 Q38.6368 722.337 43.8567 722.337 L64.0042 722.337 L64.0042 728.226 L42.679 728.226 Q37.5228 728.226 35.072 730.04 Q32.5894 731.854 32.5894 735.642 Q32.5894 740.129 35.6449 742.771 Q38.6686 745.413 43.8567 745.413 L64.0042 745.413 L64.0042 751.301 L28.3562 751.301 L28.3562 745.413 L33.8944 745.413 Q30.616 743.408 29.0564 740.607 Q27.4968 737.806 27.4968 733.955 Q27.4968 730.072 29.4702 727.366 Q31.4436 724.629 35.1993 723.324 Z\" fill=\"#000000\" fill-rule=\"evenodd\" fill-opacity=\"1\" /><path clip-path=\"url(#clip390)\" d=\"M44.7161 657.089 L47.5806 657.089 L47.5806 684.016 Q53.6281 683.634 56.8109 680.387 Q59.9619 677.109 59.9619 671.284 Q59.9619 667.911 59.1344 664.76 Q58.3069 661.577 56.6518 658.457 L62.1899 658.457 Q63.5267 661.608 64.227 664.919 Q64.9272 668.229 64.9272 671.634 Q64.9272 680.165 59.9619 685.162 Q54.9967 690.127 46.5303 690.127 Q37.7774 690.127 32.6531 685.416 Q27.4968 680.674 27.4968 672.653 Q27.4968 665.46 32.1438 661.29 Q36.7589 657.089 44.7161 657.089 M42.9973 662.945 Q38.1912 663.009 35.3266 665.651 Q32.4621 668.261 32.4621 672.589 Q32.4621 677.491 35.2312 680.451 Q38.0002 683.379 43.0292 683.825 L42.9973 662.945 Z\" fill=\"#000000\" fill-rule=\"evenodd\" fill-opacity=\"1\" /><polyline clip-path=\"url(#clip392)\" style=\"stroke:#009af9; stroke-linecap:butt; stroke-linejoin:round; stroke-width:4; stroke-opacity:1; fill:none\" points=\"\n",
       "  265.903,735.212 286.368,821.351 306.834,853.335 327.299,858.735 347.765,859.825 368.23,859.825 388.695,863.148 409.161,863.148 429.626,863.719 450.091,863.719 \n",
       "  470.557,863.719 491.022,864.186 511.487,864.186 531.953,864.965 552.418,864.965 572.884,864.965 593.349,864.965 613.814,864.965 634.28,864.965 654.745,864.965 \n",
       "  675.21,864.965 695.676,864.965 716.141,864.965 736.606,864.965 757.072,864.965 777.537,864.965 798.002,864.965 818.468,864.965 838.933,864.965 859.399,864.965 \n",
       "  879.864,864.965 900.329,864.965 920.795,864.965 941.26,864.965 961.725,864.965 982.191,864.965 1002.66,864.965 1023.12,864.965 1043.59,864.965 1064.05,864.965 \n",
       "  1084.52,864.965 1104.98,864.965 1125.45,864.965 1145.91,865.017 1166.38,865.017 1186.84,865.017 1207.31,865.017 1227.78,865.017 1248.24,865.017 1268.71,865.017 \n",
       "  1289.17,865.017 1309.64,865.017 1330.1,865.017 1350.57,865.017 1371.03,865.017 1391.5,865.017 1411.96,865.017 1432.43,865.017 1452.89,865.017 1473.36,865.017 \n",
       "  1493.82,865.017 1514.29,865.017 1534.76,865.017 1555.22,865.017 1575.69,865.017 1596.15,865.017 1616.62,865.017 1637.08,865.017 1657.55,865.017 1678.01,865.017 \n",
       "  1698.48,865.017 1718.94,865.017 1739.41,865.017 1759.87,865.017 1780.34,865.017 1800.81,865.017 1821.27,865.017 1841.74,865.017 1862.2,865.017 1882.67,865.017 \n",
       "  1903.13,865.017 1923.6,865.017 1944.06,865.017 1964.53,865.017 1984.99,865.017 2005.46,865.017 2025.92,865.017 2046.39,865.017 2066.85,865.017 2087.32,865.017 \n",
       "  2107.79,865.017 2128.25,865.017 2148.72,865.017 2169.18,865.017 2189.65,865.017 2210.11,865.017 2230.58,865.017 2251.04,865.017 2271.51,865.017 2291.97,865.017 \n",
       "  \n",
       "  \"/>\n",
       "<path clip-path=\"url(#clip390)\" d=\"\n",
       "M1574.62 196.789 L2281.17 196.789 L2281.17 93.1086 L1574.62 93.1086  Z\n",
       "  \" fill=\"#ffffff\" fill-rule=\"evenodd\" fill-opacity=\"1\"/>\n",
       "<polyline clip-path=\"url(#clip390)\" style=\"stroke:#000000; stroke-linecap:butt; stroke-linejoin:round; stroke-width:4; stroke-opacity:1; fill:none\" points=\"\n",
       "  1574.62,196.789 2281.17,196.789 2281.17,93.1086 1574.62,93.1086 1574.62,196.789 \n",
       "  \"/>\n",
       "<polyline clip-path=\"url(#clip390)\" style=\"stroke:#009af9; stroke-linecap:butt; stroke-linejoin:round; stroke-width:4; stroke-opacity:1; fill:none\" points=\"\n",
       "  1598.62,144.949 1742.62,144.949 \n",
       "  \"/>\n",
       "<path clip-path=\"url(#clip390)\" d=\"M1782.45 132.275 L1776.11 149.474 L1788.82 149.474 L1782.45 132.275 M1779.81 127.669 L1785.11 127.669 L1798.29 162.229 L1793.43 162.229 L1790.28 153.363 L1774.7 153.363 L1771.55 162.229 L1766.62 162.229 L1779.81 127.669 Z\" fill=\"#000000\" fill-rule=\"evenodd\" fill-opacity=\"1\" /><path clip-path=\"url(#clip390)\" d=\"M1797.31 136.303 L1801.83 136.303 L1809.93 158.062 L1818.03 136.303 L1822.55 136.303 L1812.82 162.229 L1807.04 162.229 L1797.31 136.303 Z\" fill=\"#000000\" fill-rule=\"evenodd\" fill-opacity=\"1\" /><path clip-path=\"url(#clip390)\" d=\"M1850.6 148.201 L1850.6 150.284 L1831.02 150.284 Q1831.3 154.682 1833.66 156.997 Q1836.04 159.289 1840.28 159.289 Q1842.73 159.289 1845.02 158.687 Q1847.34 158.085 1849.61 156.881 L1849.61 160.909 Q1847.31 161.881 1844.91 162.391 Q1842.5 162.9 1840.02 162.9 Q1833.82 162.9 1830.18 159.289 Q1826.57 155.678 1826.57 149.52 Q1826.57 143.155 1830 139.428 Q1833.45 135.678 1839.28 135.678 Q1844.51 135.678 1847.55 139.057 Q1850.6 142.414 1850.6 148.201 M1846.34 146.951 Q1846.3 143.456 1844.37 141.372 Q1842.48 139.289 1839.33 139.289 Q1835.76 139.289 1833.61 141.303 Q1831.48 143.317 1831.16 146.974 L1846.34 146.951 Z\" fill=\"#000000\" fill-rule=\"evenodd\" fill-opacity=\"1\" /><path clip-path=\"url(#clip390)\" d=\"M1872.61 140.284 Q1871.9 139.868 1871.04 139.682 Q1870.21 139.474 1869.19 139.474 Q1865.58 139.474 1863.63 141.835 Q1861.71 144.173 1861.71 148.571 L1861.71 162.229 L1857.43 162.229 L1857.43 136.303 L1861.71 136.303 L1861.71 140.331 Q1863.05 137.969 1865.21 136.835 Q1867.36 135.678 1870.44 135.678 Q1870.88 135.678 1871.41 135.747 Q1871.94 135.794 1872.59 135.909 L1872.61 140.284 Z\" fill=\"#000000\" fill-rule=\"evenodd\" fill-opacity=\"1\" /><path clip-path=\"url(#clip390)\" d=\"M1888.86 149.196 Q1883.7 149.196 1881.71 150.377 Q1879.72 151.557 1879.72 154.405 Q1879.72 156.673 1881.2 158.016 Q1882.71 159.335 1885.28 159.335 Q1888.82 159.335 1890.95 156.835 Q1893.1 154.312 1893.1 150.145 L1893.1 149.196 L1888.86 149.196 M1897.36 147.437 L1897.36 162.229 L1893.1 162.229 L1893.1 158.293 Q1891.64 160.655 1889.47 161.789 Q1887.29 162.9 1884.14 162.9 Q1880.16 162.9 1877.8 160.678 Q1875.46 158.432 1875.46 154.682 Q1875.46 150.307 1878.38 148.085 Q1881.32 145.863 1887.13 145.863 L1893.1 145.863 L1893.1 145.446 Q1893.1 142.507 1891.16 140.909 Q1889.23 139.289 1885.74 139.289 Q1883.52 139.289 1881.41 139.821 Q1879.3 140.354 1877.36 141.419 L1877.36 137.483 Q1879.7 136.581 1881.9 136.141 Q1884.1 135.678 1886.18 135.678 Q1891.8 135.678 1894.58 138.594 Q1897.36 141.511 1897.36 147.437 Z\" fill=\"#000000\" fill-rule=\"evenodd\" fill-opacity=\"1\" /><path clip-path=\"url(#clip390)\" d=\"M1923.19 148.965 Q1923.19 144.335 1921.27 141.789 Q1919.37 139.243 1915.92 139.243 Q1912.5 139.243 1910.58 141.789 Q1908.68 144.335 1908.68 148.965 Q1908.68 153.571 1910.58 156.118 Q1912.5 158.664 1915.92 158.664 Q1919.37 158.664 1921.27 156.118 Q1923.19 153.571 1923.19 148.965 M1927.45 159.011 Q1927.45 165.631 1924.51 168.849 Q1921.57 172.09 1915.51 172.09 Q1913.26 172.09 1911.27 171.742 Q1909.28 171.418 1907.41 170.724 L1907.41 166.58 Q1909.28 167.599 1911.11 168.085 Q1912.94 168.571 1914.84 168.571 Q1919.03 168.571 1921.11 166.372 Q1923.19 164.196 1923.19 159.775 L1923.19 157.668 Q1921.87 159.96 1919.81 161.094 Q1917.75 162.229 1914.88 162.229 Q1910.11 162.229 1907.2 158.594 Q1904.28 154.96 1904.28 148.965 Q1904.28 142.946 1907.2 139.312 Q1910.11 135.678 1914.88 135.678 Q1917.75 135.678 1919.81 136.812 Q1921.87 137.946 1923.19 140.238 L1923.19 136.303 L1927.45 136.303 L1927.45 159.011 Z\" fill=\"#000000\" fill-rule=\"evenodd\" fill-opacity=\"1\" /><path clip-path=\"url(#clip390)\" d=\"M1958.4 148.201 L1958.4 150.284 L1938.82 150.284 Q1939.1 154.682 1941.46 156.997 Q1943.84 159.289 1948.08 159.289 Q1950.53 159.289 1952.82 158.687 Q1955.14 158.085 1957.41 156.881 L1957.41 160.909 Q1955.11 161.881 1952.71 162.391 Q1950.3 162.9 1947.82 162.9 Q1941.62 162.9 1937.98 159.289 Q1934.37 155.678 1934.37 149.52 Q1934.37 143.155 1937.8 139.428 Q1941.25 135.678 1947.08 135.678 Q1952.31 135.678 1955.35 139.057 Q1958.4 142.414 1958.4 148.201 M1954.14 146.951 Q1954.1 143.456 1952.17 141.372 Q1950.28 139.289 1947.13 139.289 Q1943.56 139.289 1941.41 141.303 Q1939.28 143.317 1938.96 146.974 L1954.14 146.951 Z\" fill=\"#000000\" fill-rule=\"evenodd\" fill-opacity=\"1\" /><path clip-path=\"url(#clip390)\" d=\"M1984.67 128.942 L1984.67 136.303 L1993.45 136.303 L1993.45 139.613 L1984.67 139.613 L1984.67 153.687 Q1984.67 156.858 1985.53 157.761 Q1986.41 158.664 1989.07 158.664 L1993.45 158.664 L1993.45 162.229 L1989.07 162.229 Q1984.14 162.229 1982.27 160.4 Q1980.39 158.548 1980.39 153.687 L1980.39 139.613 L1977.27 139.613 L1977.27 136.303 L1980.39 136.303 L1980.39 128.942 L1984.67 128.942 Z\" fill=\"#000000\" fill-rule=\"evenodd\" fill-opacity=\"1\" /><path clip-path=\"url(#clip390)\" d=\"M2014.07 140.284 Q2013.35 139.868 2012.5 139.682 Q2011.66 139.474 2010.65 139.474 Q2007.04 139.474 2005.09 141.835 Q2003.17 144.173 2003.17 148.571 L2003.17 162.229 L1998.89 162.229 L1998.89 136.303 L2003.17 136.303 L2003.17 140.331 Q2004.51 137.969 2006.66 136.835 Q2008.82 135.678 2011.9 135.678 Q2012.34 135.678 2012.87 135.747 Q2013.4 135.794 2014.05 135.909 L2014.07 140.284 Z\" fill=\"#000000\" fill-rule=\"evenodd\" fill-opacity=\"1\" /><path clip-path=\"url(#clip390)\" d=\"M2030.32 149.196 Q2025.16 149.196 2023.17 150.377 Q2021.18 151.557 2021.18 154.405 Q2021.18 156.673 2022.66 158.016 Q2024.16 159.335 2026.73 159.335 Q2030.28 159.335 2032.41 156.835 Q2034.56 154.312 2034.56 150.145 L2034.56 149.196 L2030.32 149.196 M2038.82 147.437 L2038.82 162.229 L2034.56 162.229 L2034.56 158.293 Q2033.1 160.655 2030.92 161.789 Q2028.75 162.9 2025.6 162.9 Q2021.62 162.9 2019.26 160.678 Q2016.92 158.432 2016.92 154.682 Q2016.92 150.307 2019.84 148.085 Q2022.78 145.863 2028.59 145.863 L2034.56 145.863 L2034.56 145.446 Q2034.56 142.507 2032.61 140.909 Q2030.69 139.289 2027.2 139.289 Q2024.97 139.289 2022.87 139.821 Q2020.76 140.354 2018.82 141.419 L2018.82 137.483 Q2021.16 136.581 2023.35 136.141 Q2025.55 135.678 2027.64 135.678 Q2033.26 135.678 2036.04 138.594 Q2038.82 141.511 2038.82 147.437 Z\" fill=\"#000000\" fill-rule=\"evenodd\" fill-opacity=\"1\" /><path clip-path=\"url(#clip390)\" d=\"M2044.53 136.303 L2049.05 136.303 L2057.15 158.062 L2065.25 136.303 L2069.77 136.303 L2060.04 162.229 L2054.26 162.229 L2044.53 136.303 Z\" fill=\"#000000\" fill-rule=\"evenodd\" fill-opacity=\"1\" /><path clip-path=\"url(#clip390)\" d=\"M2097.82 148.201 L2097.82 150.284 L2078.24 150.284 Q2078.52 154.682 2080.88 156.997 Q2083.26 159.289 2087.5 159.289 Q2089.95 159.289 2092.24 158.687 Q2094.56 158.085 2096.83 156.881 L2096.83 160.909 Q2094.53 161.881 2092.13 162.391 Q2089.72 162.9 2087.24 162.9 Q2081.04 162.9 2077.41 159.289 Q2073.79 155.678 2073.79 149.52 Q2073.79 143.155 2077.22 139.428 Q2080.67 135.678 2086.5 135.678 Q2091.73 135.678 2094.77 139.057 Q2097.82 142.414 2097.82 148.201 M2093.56 146.951 Q2093.52 143.456 2091.59 141.372 Q2089.7 139.289 2086.55 139.289 Q2082.98 139.289 2080.83 141.303 Q2078.7 143.317 2078.38 146.974 L2093.56 146.951 Z\" fill=\"#000000\" fill-rule=\"evenodd\" fill-opacity=\"1\" /><path clip-path=\"url(#clip390)\" d=\"M2104.81 126.21 L2109.07 126.21 L2109.07 162.229 L2104.81 162.229 L2104.81 126.21 Z\" fill=\"#000000\" fill-rule=\"evenodd\" fill-opacity=\"1\" /><path clip-path=\"url(#clip390)\" d=\"M2137.27 128.942 L2137.27 136.303 L2146.04 136.303 L2146.04 139.613 L2137.27 139.613 L2137.27 153.687 Q2137.27 156.858 2138.12 157.761 Q2139 158.664 2141.66 158.664 L2146.04 158.664 L2146.04 162.229 L2141.66 162.229 Q2136.73 162.229 2134.86 160.4 Q2132.98 158.548 2132.98 153.687 L2132.98 139.613 L2129.86 139.613 L2129.86 136.303 L2132.98 136.303 L2132.98 128.942 L2137.27 128.942 Z\" fill=\"#000000\" fill-rule=\"evenodd\" fill-opacity=\"1\" /><path clip-path=\"url(#clip390)\" d=\"M2151.64 136.303 L2155.9 136.303 L2155.9 162.229 L2151.64 162.229 L2151.64 136.303 M2151.64 126.21 L2155.9 126.21 L2155.9 131.604 L2151.64 131.604 L2151.64 126.21 Z\" fill=\"#000000\" fill-rule=\"evenodd\" fill-opacity=\"1\" /><path clip-path=\"url(#clip390)\" d=\"M2185 141.28 Q2186.59 138.409 2188.82 137.044 Q2191.04 135.678 2194.05 135.678 Q2198.1 135.678 2200.3 138.525 Q2202.5 141.349 2202.5 146.581 L2202.5 162.229 L2198.21 162.229 L2198.21 146.719 Q2198.21 142.993 2196.9 141.187 Q2195.58 139.382 2192.87 139.382 Q2189.56 139.382 2187.64 141.581 Q2185.71 143.78 2185.71 147.576 L2185.71 162.229 L2181.43 162.229 L2181.43 146.719 Q2181.43 142.969 2180.11 141.187 Q2178.79 139.382 2176.04 139.382 Q2172.77 139.382 2170.85 141.604 Q2168.93 143.803 2168.93 147.576 L2168.93 162.229 L2164.65 162.229 L2164.65 136.303 L2168.93 136.303 L2168.93 140.331 Q2170.39 137.946 2172.43 136.812 Q2174.46 135.678 2177.27 135.678 Q2180.09 135.678 2182.06 137.113 Q2184.05 138.548 2185 141.28 Z\" fill=\"#000000\" fill-rule=\"evenodd\" fill-opacity=\"1\" /><path clip-path=\"url(#clip390)\" d=\"M2233.17 148.201 L2233.17 150.284 L2213.58 150.284 Q2213.86 154.682 2216.22 156.997 Q2218.61 159.289 2222.84 159.289 Q2225.3 159.289 2227.59 158.687 Q2229.9 158.085 2232.17 156.881 L2232.17 160.909 Q2229.88 161.881 2227.47 162.391 Q2225.07 162.9 2222.59 162.9 Q2216.39 162.9 2212.75 159.289 Q2209.14 155.678 2209.14 149.52 Q2209.14 143.155 2212.57 139.428 Q2216.02 135.678 2221.85 135.678 Q2227.08 135.678 2230.11 139.057 Q2233.17 142.414 2233.17 148.201 M2228.91 146.951 Q2228.86 143.456 2226.94 141.372 Q2225.04 139.289 2221.89 139.289 Q2218.33 139.289 2216.18 141.303 Q2214.05 143.317 2213.72 146.974 L2228.91 146.951 Z\" fill=\"#000000\" fill-rule=\"evenodd\" fill-opacity=\"1\" /></svg>\n"
      ]
     },
     "execution_count": 22,
     "metadata": {},
     "output_type": "execute_result"
    }
   ],
   "source": [
    "p2 = plot(df_average_travel.step, df_average_travel.T, ylims=[0.0, 50.0], label=\"Average travel time\")\n",
    "xlabel!(\"Steps\")\n",
    "ylabel!(\"Time\")"
   ]
  },
  {
   "cell_type": "markdown",
   "metadata": {
    "nbpresent": {
     "id": "f70775ac-6781-48a8-b060-e8ed9569f93a"
    },
    "slideshow": {
     "slide_type": "slide"
    }
   },
   "source": [
    "## Average travel time\n",
    "The system quickly settles to a Wardrop equilibrium of 20 minutes - consistent with the demand delay functions for the two routes."
   ]
  },
  {
   "cell_type": "code",
   "execution_count": 23,
   "metadata": {},
   "outputs": [
    {
     "data": {
      "image/svg+xml": [
       "<?xml version=\"1.0\" encoding=\"utf-8\"?>\n",
       "<svg xmlns=\"http://www.w3.org/2000/svg\" xmlns:xlink=\"http://www.w3.org/1999/xlink\" width=\"600\" height=\"400\" viewBox=\"0 0 2400 1600\">\n",
       "<defs>\n",
       "  <clipPath id=\"clip430\">\n",
       "    <rect x=\"0\" y=\"0\" width=\"2400\" height=\"1600\"/>\n",
       "  </clipPath>\n",
       "</defs>\n",
       "<path clip-path=\"url(#clip430)\" d=\"\n",
       "M0 1600 L2400 1600 L2400 0 L0 0  Z\n",
       "  \" fill=\"#ffffff\" fill-rule=\"evenodd\" fill-opacity=\"1\"/>\n",
       "<defs>\n",
       "  <clipPath id=\"clip431\">\n",
       "    <rect x=\"480\" y=\"0\" width=\"1681\" height=\"1600\"/>\n",
       "  </clipPath>\n",
       "</defs>\n",
       "<path clip-path=\"url(#clip430)\" d=\"\n",
       "M205.121 1423.18 L2352.76 1423.18 L2352.76 47.2441 L205.121 47.2441  Z\n",
       "  \" fill=\"#ffffff\" fill-rule=\"evenodd\" fill-opacity=\"1\"/>\n",
       "<defs>\n",
       "  <clipPath id=\"clip432\">\n",
       "    <rect x=\"205\" y=\"47\" width=\"2149\" height=\"1377\"/>\n",
       "  </clipPath>\n",
       "</defs>\n",
       "<polyline clip-path=\"url(#clip432)\" style=\"stroke:#000000; stroke-linecap:butt; stroke-linejoin:round; stroke-width:2; stroke-opacity:0.1; fill:none\" points=\"\n",
       "  245.438,1423.18 245.438,47.2441 \n",
       "  \"/>\n",
       "<polyline clip-path=\"url(#clip432)\" style=\"stroke:#000000; stroke-linecap:butt; stroke-linejoin:round; stroke-width:2; stroke-opacity:0.1; fill:none\" points=\"\n",
       "  757.072,1423.18 757.072,47.2441 \n",
       "  \"/>\n",
       "<polyline clip-path=\"url(#clip432)\" style=\"stroke:#000000; stroke-linecap:butt; stroke-linejoin:round; stroke-width:2; stroke-opacity:0.1; fill:none\" points=\"\n",
       "  1268.71,1423.18 1268.71,47.2441 \n",
       "  \"/>\n",
       "<polyline clip-path=\"url(#clip432)\" style=\"stroke:#000000; stroke-linecap:butt; stroke-linejoin:round; stroke-width:2; stroke-opacity:0.1; fill:none\" points=\"\n",
       "  1780.34,1423.18 1780.34,47.2441 \n",
       "  \"/>\n",
       "<polyline clip-path=\"url(#clip432)\" style=\"stroke:#000000; stroke-linecap:butt; stroke-linejoin:round; stroke-width:2; stroke-opacity:0.1; fill:none\" points=\"\n",
       "  2291.97,1423.18 2291.97,47.2441 \n",
       "  \"/>\n",
       "<polyline clip-path=\"url(#clip430)\" style=\"stroke:#000000; stroke-linecap:butt; stroke-linejoin:round; stroke-width:4; stroke-opacity:1; fill:none\" points=\"\n",
       "  205.121,1423.18 2352.76,1423.18 \n",
       "  \"/>\n",
       "<polyline clip-path=\"url(#clip430)\" style=\"stroke:#000000; stroke-linecap:butt; stroke-linejoin:round; stroke-width:4; stroke-opacity:1; fill:none\" points=\"\n",
       "  245.438,1423.18 245.438,1404.28 \n",
       "  \"/>\n",
       "<polyline clip-path=\"url(#clip430)\" style=\"stroke:#000000; stroke-linecap:butt; stroke-linejoin:round; stroke-width:4; stroke-opacity:1; fill:none\" points=\"\n",
       "  757.072,1423.18 757.072,1404.28 \n",
       "  \"/>\n",
       "<polyline clip-path=\"url(#clip430)\" style=\"stroke:#000000; stroke-linecap:butt; stroke-linejoin:round; stroke-width:4; stroke-opacity:1; fill:none\" points=\"\n",
       "  1268.71,1423.18 1268.71,1404.28 \n",
       "  \"/>\n",
       "<polyline clip-path=\"url(#clip430)\" style=\"stroke:#000000; stroke-linecap:butt; stroke-linejoin:round; stroke-width:4; stroke-opacity:1; fill:none\" points=\"\n",
       "  1780.34,1423.18 1780.34,1404.28 \n",
       "  \"/>\n",
       "<polyline clip-path=\"url(#clip430)\" style=\"stroke:#000000; stroke-linecap:butt; stroke-linejoin:round; stroke-width:4; stroke-opacity:1; fill:none\" points=\"\n",
       "  2291.97,1423.18 2291.97,1404.28 \n",
       "  \"/>\n",
       "<path clip-path=\"url(#clip430)\" d=\"M245.438 1454.1 Q241.827 1454.1 239.998 1457.66 Q238.192 1461.2 238.192 1468.33 Q238.192 1475.44 239.998 1479.01 Q241.827 1482.55 245.438 1482.55 Q249.072 1482.55 250.878 1479.01 Q252.706 1475.44 252.706 1468.33 Q252.706 1461.2 250.878 1457.66 Q249.072 1454.1 245.438 1454.1 M245.438 1450.39 Q251.248 1450.39 254.303 1455 Q257.382 1459.58 257.382 1468.33 Q257.382 1477.06 254.303 1481.67 Q251.248 1486.25 245.438 1486.25 Q239.628 1486.25 236.549 1481.67 Q233.493 1477.06 233.493 1468.33 Q233.493 1459.58 236.549 1455 Q239.628 1450.39 245.438 1450.39 Z\" fill=\"#000000\" fill-rule=\"evenodd\" fill-opacity=\"1\" /><path clip-path=\"url(#clip430)\" d=\"M736.343 1481.64 L752.662 1481.64 L752.662 1485.58 L730.718 1485.58 L730.718 1481.64 Q733.38 1478.89 737.963 1474.26 Q742.57 1469.61 743.75 1468.27 Q745.995 1465.74 746.875 1464.01 Q747.778 1462.25 747.778 1460.56 Q747.778 1457.8 745.833 1456.07 Q743.912 1454.33 740.81 1454.33 Q738.611 1454.33 736.158 1455.09 Q733.727 1455.86 730.949 1457.41 L730.949 1452.69 Q733.773 1451.55 736.227 1450.97 Q738.681 1450.39 740.718 1450.39 Q746.088 1450.39 749.282 1453.08 Q752.477 1455.77 752.477 1460.26 Q752.477 1462.39 751.667 1464.31 Q750.88 1466.2 748.773 1468.8 Q748.194 1469.47 745.093 1472.69 Q741.991 1475.88 736.343 1481.64 Z\" fill=\"#000000\" fill-rule=\"evenodd\" fill-opacity=\"1\" /><path clip-path=\"url(#clip430)\" d=\"M762.523 1451.02 L780.879 1451.02 L780.879 1454.96 L766.805 1454.96 L766.805 1463.43 Q767.824 1463.08 768.843 1462.92 Q769.861 1462.73 770.88 1462.73 Q776.667 1462.73 780.046 1465.9 Q783.426 1469.08 783.426 1474.49 Q783.426 1480.07 779.954 1483.17 Q776.481 1486.25 770.162 1486.25 Q767.986 1486.25 765.718 1485.88 Q763.472 1485.51 761.065 1484.77 L761.065 1480.07 Q763.148 1481.2 765.37 1481.76 Q767.593 1482.32 770.069 1482.32 Q774.074 1482.32 776.412 1480.21 Q778.75 1478.1 778.75 1474.49 Q778.75 1470.88 776.412 1468.77 Q774.074 1466.67 770.069 1466.67 Q768.194 1466.67 766.319 1467.08 Q764.468 1467.5 762.523 1468.38 L762.523 1451.02 Z\" fill=\"#000000\" fill-rule=\"evenodd\" fill-opacity=\"1\" /><path clip-path=\"url(#clip430)\" d=\"M1243.4 1451.02 L1261.76 1451.02 L1261.76 1454.96 L1247.69 1454.96 L1247.69 1463.43 Q1248.71 1463.08 1249.72 1462.92 Q1250.74 1462.73 1251.76 1462.73 Q1257.55 1462.73 1260.93 1465.9 Q1264.31 1469.08 1264.31 1474.49 Q1264.31 1480.07 1260.84 1483.17 Q1257.36 1486.25 1251.04 1486.25 Q1248.87 1486.25 1246.6 1485.88 Q1244.35 1485.51 1241.95 1484.77 L1241.95 1480.07 Q1244.03 1481.2 1246.25 1481.76 Q1248.47 1482.32 1250.95 1482.32 Q1254.96 1482.32 1257.29 1480.21 Q1259.63 1478.1 1259.63 1474.49 Q1259.63 1470.88 1257.29 1468.77 Q1254.96 1466.67 1250.95 1466.67 Q1249.08 1466.67 1247.2 1467.08 Q1245.35 1467.5 1243.4 1468.38 L1243.4 1451.02 Z\" fill=\"#000000\" fill-rule=\"evenodd\" fill-opacity=\"1\" /><path clip-path=\"url(#clip430)\" d=\"M1283.52 1454.1 Q1279.91 1454.1 1278.08 1457.66 Q1276.28 1461.2 1276.28 1468.33 Q1276.28 1475.44 1278.08 1479.01 Q1279.91 1482.55 1283.52 1482.55 Q1287.15 1482.55 1288.96 1479.01 Q1290.79 1475.44 1290.79 1468.33 Q1290.79 1461.2 1288.96 1457.66 Q1287.15 1454.1 1283.52 1454.1 M1283.52 1450.39 Q1289.33 1450.39 1292.39 1455 Q1295.46 1459.58 1295.46 1468.33 Q1295.46 1477.06 1292.39 1481.67 Q1289.33 1486.25 1283.52 1486.25 Q1277.71 1486.25 1274.63 1481.67 Q1271.58 1477.06 1271.58 1468.33 Q1271.58 1459.58 1274.63 1455 Q1277.71 1450.39 1283.52 1450.39 Z\" fill=\"#000000\" fill-rule=\"evenodd\" fill-opacity=\"1\" /><path clip-path=\"url(#clip430)\" d=\"M1754.19 1451.02 L1776.42 1451.02 L1776.42 1453.01 L1763.87 1485.58 L1758.99 1485.58 L1770.79 1454.96 L1754.19 1454.96 L1754.19 1451.02 Z\" fill=\"#000000\" fill-rule=\"evenodd\" fill-opacity=\"1\" /><path clip-path=\"url(#clip430)\" d=\"M1785.58 1451.02 L1803.94 1451.02 L1803.94 1454.96 L1789.87 1454.96 L1789.87 1463.43 Q1790.88 1463.08 1791.9 1462.92 Q1792.92 1462.73 1793.94 1462.73 Q1799.73 1462.73 1803.11 1465.9 Q1806.49 1469.08 1806.49 1474.49 Q1806.49 1480.07 1803.01 1483.17 Q1799.54 1486.25 1793.22 1486.25 Q1791.05 1486.25 1788.78 1485.88 Q1786.53 1485.51 1784.12 1484.77 L1784.12 1480.07 Q1786.21 1481.2 1788.43 1481.76 Q1790.65 1482.32 1793.13 1482.32 Q1797.13 1482.32 1799.47 1480.21 Q1801.81 1478.1 1801.81 1474.49 Q1801.81 1470.88 1799.47 1468.77 Q1797.13 1466.67 1793.13 1466.67 Q1791.25 1466.67 1789.38 1467.08 Q1787.53 1467.5 1785.58 1468.38 L1785.58 1451.02 Z\" fill=\"#000000\" fill-rule=\"evenodd\" fill-opacity=\"1\" /><path clip-path=\"url(#clip430)\" d=\"M2251.58 1481.64 L2259.22 1481.64 L2259.22 1455.28 L2250.91 1456.95 L2250.91 1452.69 L2259.17 1451.02 L2263.85 1451.02 L2263.85 1481.64 L2271.49 1481.64 L2271.49 1485.58 L2251.58 1485.58 L2251.58 1481.64 Z\" fill=\"#000000\" fill-rule=\"evenodd\" fill-opacity=\"1\" /><path clip-path=\"url(#clip430)\" d=\"M2290.93 1454.1 Q2287.32 1454.1 2285.49 1457.66 Q2283.69 1461.2 2283.69 1468.33 Q2283.69 1475.44 2285.49 1479.01 Q2287.32 1482.55 2290.93 1482.55 Q2294.57 1482.55 2296.37 1479.01 Q2298.2 1475.44 2298.2 1468.33 Q2298.2 1461.2 2296.37 1457.66 Q2294.57 1454.1 2290.93 1454.1 M2290.93 1450.39 Q2296.74 1450.39 2299.8 1455 Q2302.88 1459.58 2302.88 1468.33 Q2302.88 1477.06 2299.8 1481.67 Q2296.74 1486.25 2290.93 1486.25 Q2285.12 1486.25 2282.04 1481.67 Q2278.99 1477.06 2278.99 1468.33 Q2278.99 1459.58 2282.04 1455 Q2285.12 1450.39 2290.93 1450.39 Z\" fill=\"#000000\" fill-rule=\"evenodd\" fill-opacity=\"1\" /><path clip-path=\"url(#clip430)\" d=\"M2321.09 1454.1 Q2317.48 1454.1 2315.65 1457.66 Q2313.85 1461.2 2313.85 1468.33 Q2313.85 1475.44 2315.65 1479.01 Q2317.48 1482.55 2321.09 1482.55 Q2324.73 1482.55 2326.53 1479.01 Q2328.36 1475.44 2328.36 1468.33 Q2328.36 1461.2 2326.53 1457.66 Q2324.73 1454.1 2321.09 1454.1 M2321.09 1450.39 Q2326.9 1450.39 2329.96 1455 Q2333.04 1459.58 2333.04 1468.33 Q2333.04 1477.06 2329.96 1481.67 Q2326.9 1486.25 2321.09 1486.25 Q2315.28 1486.25 2312.21 1481.67 Q2309.15 1477.06 2309.15 1468.33 Q2309.15 1459.58 2312.21 1455 Q2315.28 1450.39 2321.09 1450.39 Z\" fill=\"#000000\" fill-rule=\"evenodd\" fill-opacity=\"1\" /><path clip-path=\"url(#clip430)\" d=\"M1222.08 1522.08 L1222.08 1528.35 Q1218.42 1526.6 1215.17 1525.74 Q1211.92 1524.88 1208.9 1524.88 Q1203.65 1524.88 1200.78 1526.92 Q1197.95 1528.96 1197.95 1532.71 Q1197.95 1535.87 1199.83 1537.49 Q1201.74 1539.08 1207.02 1540.07 L1210.9 1540.86 Q1218.1 1542.23 1221.5 1545.7 Q1224.94 1549.14 1224.94 1554.93 Q1224.94 1561.84 1220.29 1565.4 Q1215.68 1568.97 1206.74 1568.97 Q1203.36 1568.97 1199.54 1568.2 Q1195.75 1567.44 1191.68 1565.94 L1191.68 1559.32 Q1195.6 1561.52 1199.35 1562.63 Q1203.11 1563.75 1206.74 1563.75 Q1212.24 1563.75 1215.23 1561.58 Q1218.23 1559.42 1218.23 1555.41 Q1218.23 1551.91 1216.06 1549.93 Q1213.93 1547.96 1209.03 1546.97 L1205.11 1546.21 Q1197.92 1544.78 1194.7 1541.72 Q1191.49 1538.67 1191.49 1533.22 Q1191.49 1526.92 1195.91 1523.29 Q1200.37 1519.66 1208.17 1519.66 Q1211.51 1519.66 1214.98 1520.27 Q1218.45 1520.87 1222.08 1522.08 Z\" fill=\"#000000\" fill-rule=\"evenodd\" fill-opacity=\"1\" /><path clip-path=\"url(#clip430)\" d=\"M1240.51 1522.27 L1240.51 1532.4 L1252.57 1532.4 L1252.57 1536.95 L1240.51 1536.95 L1240.51 1556.3 Q1240.51 1560.66 1241.68 1561.9 Q1242.89 1563.14 1246.55 1563.14 L1252.57 1563.14 L1252.57 1568.04 L1246.55 1568.04 Q1239.77 1568.04 1237.2 1565.53 Q1234.62 1562.98 1234.62 1556.3 L1234.62 1536.95 L1230.32 1536.95 L1230.32 1532.4 L1234.62 1532.4 L1234.62 1522.27 L1240.51 1522.27 Z\" fill=\"#000000\" fill-rule=\"evenodd\" fill-opacity=\"1\" /><path clip-path=\"url(#clip430)\" d=\"M1290.76 1548.76 L1290.76 1551.62 L1263.84 1551.62 Q1264.22 1557.67 1267.46 1560.85 Q1270.74 1564 1276.57 1564 Q1279.94 1564 1283.09 1563.17 Q1286.27 1562.35 1289.39 1560.69 L1289.39 1566.23 Q1286.24 1567.57 1282.93 1568.27 Q1279.62 1568.97 1276.22 1568.97 Q1267.69 1568.97 1262.69 1564 Q1257.72 1559.04 1257.72 1550.57 Q1257.72 1541.82 1262.44 1536.69 Q1267.18 1531.54 1275.2 1531.54 Q1282.39 1531.54 1286.56 1536.18 Q1290.76 1540.8 1290.76 1548.76 M1284.91 1547.04 Q1284.84 1542.23 1282.2 1539.37 Q1279.59 1536.5 1275.26 1536.5 Q1270.36 1536.5 1267.4 1539.27 Q1264.47 1542.04 1264.03 1547.07 L1284.91 1547.04 Z\" fill=\"#000000\" fill-rule=\"evenodd\" fill-opacity=\"1\" /><path clip-path=\"url(#clip430)\" d=\"M1306.04 1562.7 L1306.04 1581.6 L1300.15 1581.6 L1300.15 1532.4 L1306.04 1532.4 L1306.04 1537.81 Q1307.89 1534.62 1310.69 1533.1 Q1313.52 1531.54 1317.44 1531.54 Q1323.93 1531.54 1327.97 1536.69 Q1332.04 1541.85 1332.04 1550.25 Q1332.04 1558.65 1327.97 1563.81 Q1323.93 1568.97 1317.44 1568.97 Q1313.52 1568.97 1310.69 1567.44 Q1307.89 1565.88 1306.04 1562.7 M1325.97 1550.25 Q1325.97 1543.79 1323.29 1540.13 Q1320.65 1536.44 1316 1536.44 Q1311.36 1536.44 1308.68 1540.13 Q1306.04 1543.79 1306.04 1550.25 Q1306.04 1556.71 1308.68 1560.4 Q1311.36 1564.07 1316 1564.07 Q1320.65 1564.07 1323.29 1560.4 Q1325.97 1556.71 1325.97 1550.25 Z\" fill=\"#000000\" fill-rule=\"evenodd\" fill-opacity=\"1\" /><path clip-path=\"url(#clip430)\" d=\"M1364.48 1533.45 L1364.48 1538.98 Q1361.99 1537.71 1359.32 1537.07 Q1356.65 1536.44 1353.78 1536.44 Q1349.42 1536.44 1347.23 1537.77 Q1345.06 1539.11 1345.06 1541.79 Q1345.06 1543.82 1346.62 1545 Q1348.18 1546.15 1352.89 1547.2 L1354.9 1547.64 Q1361.14 1548.98 1363.75 1551.43 Q1366.39 1553.85 1366.39 1558.21 Q1366.39 1563.17 1362.44 1566.07 Q1358.53 1568.97 1351.65 1568.97 Q1348.79 1568.97 1345.67 1568.39 Q1342.58 1567.85 1339.14 1566.74 L1339.14 1560.69 Q1342.39 1562.38 1345.54 1563.24 Q1348.69 1564.07 1351.78 1564.07 Q1355.92 1564.07 1358.14 1562.66 Q1360.37 1561.23 1360.37 1558.65 Q1360.37 1556.27 1358.75 1554.99 Q1357.16 1553.72 1351.71 1552.54 L1349.68 1552.07 Q1344.23 1550.92 1341.82 1548.56 Q1339.4 1546.18 1339.4 1542.04 Q1339.4 1537.01 1342.96 1534.27 Q1346.53 1531.54 1353.08 1531.54 Q1356.33 1531.54 1359.19 1532.01 Q1362.06 1532.49 1364.48 1533.45 Z\" fill=\"#000000\" fill-rule=\"evenodd\" fill-opacity=\"1\" /><polyline clip-path=\"url(#clip432)\" style=\"stroke:#000000; stroke-linecap:butt; stroke-linejoin:round; stroke-width:2; stroke-opacity:0.1; fill:none\" points=\"\n",
       "  205.121,1384.24 2352.76,1384.24 \n",
       "  \"/>\n",
       "<polyline clip-path=\"url(#clip432)\" style=\"stroke:#000000; stroke-linecap:butt; stroke-linejoin:round; stroke-width:2; stroke-opacity:0.1; fill:none\" points=\"\n",
       "  205.121,1124.63 2352.76,1124.63 \n",
       "  \"/>\n",
       "<polyline clip-path=\"url(#clip432)\" style=\"stroke:#000000; stroke-linecap:butt; stroke-linejoin:round; stroke-width:2; stroke-opacity:0.1; fill:none\" points=\"\n",
       "  205.121,865.017 2352.76,865.017 \n",
       "  \"/>\n",
       "<polyline clip-path=\"url(#clip432)\" style=\"stroke:#000000; stroke-linecap:butt; stroke-linejoin:round; stroke-width:2; stroke-opacity:0.1; fill:none\" points=\"\n",
       "  205.121,605.407 2352.76,605.407 \n",
       "  \"/>\n",
       "<polyline clip-path=\"url(#clip432)\" style=\"stroke:#000000; stroke-linecap:butt; stroke-linejoin:round; stroke-width:2; stroke-opacity:0.1; fill:none\" points=\"\n",
       "  205.121,345.796 2352.76,345.796 \n",
       "  \"/>\n",
       "<polyline clip-path=\"url(#clip432)\" style=\"stroke:#000000; stroke-linecap:butt; stroke-linejoin:round; stroke-width:2; stroke-opacity:0.1; fill:none\" points=\"\n",
       "  205.121,86.1857 2352.76,86.1857 \n",
       "  \"/>\n",
       "<polyline clip-path=\"url(#clip430)\" style=\"stroke:#000000; stroke-linecap:butt; stroke-linejoin:round; stroke-width:4; stroke-opacity:1; fill:none\" points=\"\n",
       "  205.121,1423.18 205.121,47.2441 \n",
       "  \"/>\n",
       "<polyline clip-path=\"url(#clip430)\" style=\"stroke:#000000; stroke-linecap:butt; stroke-linejoin:round; stroke-width:4; stroke-opacity:1; fill:none\" points=\"\n",
       "  205.121,1384.24 224.019,1384.24 \n",
       "  \"/>\n",
       "<polyline clip-path=\"url(#clip430)\" style=\"stroke:#000000; stroke-linecap:butt; stroke-linejoin:round; stroke-width:4; stroke-opacity:1; fill:none\" points=\"\n",
       "  205.121,1124.63 224.019,1124.63 \n",
       "  \"/>\n",
       "<polyline clip-path=\"url(#clip430)\" style=\"stroke:#000000; stroke-linecap:butt; stroke-linejoin:round; stroke-width:4; stroke-opacity:1; fill:none\" points=\"\n",
       "  205.121,865.017 224.019,865.017 \n",
       "  \"/>\n",
       "<polyline clip-path=\"url(#clip430)\" style=\"stroke:#000000; stroke-linecap:butt; stroke-linejoin:round; stroke-width:4; stroke-opacity:1; fill:none\" points=\"\n",
       "  205.121,605.407 224.019,605.407 \n",
       "  \"/>\n",
       "<polyline clip-path=\"url(#clip430)\" style=\"stroke:#000000; stroke-linecap:butt; stroke-linejoin:round; stroke-width:4; stroke-opacity:1; fill:none\" points=\"\n",
       "  205.121,345.796 224.019,345.796 \n",
       "  \"/>\n",
       "<polyline clip-path=\"url(#clip430)\" style=\"stroke:#000000; stroke-linecap:butt; stroke-linejoin:round; stroke-width:4; stroke-opacity:1; fill:none\" points=\"\n",
       "  205.121,86.1857 224.019,86.1857 \n",
       "  \"/>\n",
       "<path clip-path=\"url(#clip430)\" d=\"M157.177 1370.04 Q153.566 1370.04 151.737 1373.6 Q149.931 1377.14 149.931 1384.27 Q149.931 1391.38 151.737 1394.94 Q153.566 1398.49 157.177 1398.49 Q160.811 1398.49 162.616 1394.94 Q164.445 1391.38 164.445 1384.27 Q164.445 1377.14 162.616 1373.6 Q160.811 1370.04 157.177 1370.04 M157.177 1366.33 Q162.987 1366.33 166.042 1370.94 Q169.121 1375.52 169.121 1384.27 Q169.121 1393 166.042 1397.61 Q162.987 1402.19 157.177 1402.19 Q151.366 1402.19 148.288 1397.61 Q145.232 1393 145.232 1384.27 Q145.232 1375.52 148.288 1370.94 Q151.366 1366.33 157.177 1366.33 Z\" fill=\"#000000\" fill-rule=\"evenodd\" fill-opacity=\"1\" /><path clip-path=\"url(#clip430)\" d=\"M117.825 1137.97 L125.464 1137.97 L125.464 1111.61 L117.154 1113.27 L117.154 1109.01 L125.418 1107.35 L130.093 1107.35 L130.093 1137.97 L137.732 1137.97 L137.732 1141.91 L117.825 1141.91 L117.825 1137.97 Z\" fill=\"#000000\" fill-rule=\"evenodd\" fill-opacity=\"1\" /><path clip-path=\"url(#clip430)\" d=\"M157.177 1110.43 Q153.566 1110.43 151.737 1113.99 Q149.931 1117.53 149.931 1124.66 Q149.931 1131.77 151.737 1135.33 Q153.566 1138.88 157.177 1138.88 Q160.811 1138.88 162.616 1135.33 Q164.445 1131.77 164.445 1124.66 Q164.445 1117.53 162.616 1113.99 Q160.811 1110.43 157.177 1110.43 M157.177 1106.72 Q162.987 1106.72 166.042 1111.33 Q169.121 1115.91 169.121 1124.66 Q169.121 1133.39 166.042 1138 Q162.987 1142.58 157.177 1142.58 Q151.366 1142.58 148.288 1138 Q145.232 1133.39 145.232 1124.66 Q145.232 1115.91 148.288 1111.33 Q151.366 1106.72 157.177 1106.72 Z\" fill=\"#000000\" fill-rule=\"evenodd\" fill-opacity=\"1\" /><path clip-path=\"url(#clip430)\" d=\"M121.043 878.362 L137.362 878.362 L137.362 882.297 L115.418 882.297 L115.418 878.362 Q118.08 875.607 122.663 870.978 Q127.269 866.325 128.45 864.983 Q130.695 862.459 131.575 860.723 Q132.478 858.964 132.478 857.274 Q132.478 854.52 130.533 852.783 Q128.612 851.047 125.51 851.047 Q123.311 851.047 120.857 851.811 Q118.427 852.575 115.649 854.126 L115.649 849.404 Q118.473 848.27 120.927 847.691 Q123.38 847.112 125.418 847.112 Q130.788 847.112 133.982 849.797 Q137.177 852.483 137.177 856.973 Q137.177 859.103 136.367 861.024 Q135.579 862.922 133.473 865.515 Q132.894 866.186 129.792 869.404 Q126.691 872.598 121.043 878.362 Z\" fill=\"#000000\" fill-rule=\"evenodd\" fill-opacity=\"1\" /><path clip-path=\"url(#clip430)\" d=\"M157.177 850.816 Q153.566 850.816 151.737 854.381 Q149.931 857.922 149.931 865.052 Q149.931 872.158 151.737 875.723 Q153.566 879.265 157.177 879.265 Q160.811 879.265 162.616 875.723 Q164.445 872.158 164.445 865.052 Q164.445 857.922 162.616 854.381 Q160.811 850.816 157.177 850.816 M157.177 847.112 Q162.987 847.112 166.042 851.719 Q169.121 856.302 169.121 865.052 Q169.121 873.779 166.042 878.385 Q162.987 882.969 157.177 882.969 Q151.366 882.969 148.288 878.385 Q145.232 873.779 145.232 865.052 Q145.232 856.302 148.288 851.719 Q151.366 847.112 157.177 847.112 Z\" fill=\"#000000\" fill-rule=\"evenodd\" fill-opacity=\"1\" /><path clip-path=\"url(#clip430)\" d=\"M131.181 604.053 Q134.538 604.77 136.413 607.039 Q138.311 609.307 138.311 612.64 Q138.311 617.756 134.792 620.557 Q131.274 623.358 124.793 623.358 Q122.617 623.358 120.302 622.918 Q118.01 622.502 115.556 621.645 L115.556 617.131 Q117.501 618.265 119.816 618.844 Q122.13 619.423 124.654 619.423 Q129.052 619.423 131.343 617.687 Q133.658 615.951 133.658 612.64 Q133.658 609.585 131.505 607.872 Q129.376 606.136 125.556 606.136 L121.529 606.136 L121.529 602.293 L125.742 602.293 Q129.191 602.293 131.019 600.928 Q132.848 599.539 132.848 596.946 Q132.848 594.284 130.95 592.872 Q129.075 591.437 125.556 591.437 Q123.635 591.437 121.436 591.854 Q119.237 592.27 116.598 593.15 L116.598 588.983 Q119.26 588.242 121.575 587.872 Q123.913 587.502 125.973 587.502 Q131.297 587.502 134.399 589.932 Q137.501 592.34 137.501 596.46 Q137.501 599.33 135.857 601.321 Q134.214 603.289 131.181 604.053 Z\" fill=\"#000000\" fill-rule=\"evenodd\" fill-opacity=\"1\" /><path clip-path=\"url(#clip430)\" d=\"M157.177 591.205 Q153.566 591.205 151.737 594.77 Q149.931 598.312 149.931 605.441 Q149.931 612.548 151.737 616.113 Q153.566 619.654 157.177 619.654 Q160.811 619.654 162.616 616.113 Q164.445 612.548 164.445 605.441 Q164.445 598.312 162.616 594.77 Q160.811 591.205 157.177 591.205 M157.177 587.502 Q162.987 587.502 166.042 592.108 Q169.121 596.691 169.121 605.441 Q169.121 614.168 166.042 618.775 Q162.987 623.358 157.177 623.358 Q151.366 623.358 148.288 618.775 Q145.232 614.168 145.232 605.441 Q145.232 596.691 148.288 592.108 Q151.366 587.502 157.177 587.502 Z\" fill=\"#000000\" fill-rule=\"evenodd\" fill-opacity=\"1\" /><path clip-path=\"url(#clip430)\" d=\"M129.862 332.59 L118.056 351.039 L129.862 351.039 L129.862 332.59 M128.635 328.516 L134.515 328.516 L134.515 351.039 L139.445 351.039 L139.445 354.928 L134.515 354.928 L134.515 363.076 L129.862 363.076 L129.862 354.928 L114.26 354.928 L114.26 350.414 L128.635 328.516 Z\" fill=\"#000000\" fill-rule=\"evenodd\" fill-opacity=\"1\" /><path clip-path=\"url(#clip430)\" d=\"M157.177 331.595 Q153.566 331.595 151.737 335.16 Q149.931 338.701 149.931 345.831 Q149.931 352.937 151.737 356.502 Q153.566 360.044 157.177 360.044 Q160.811 360.044 162.616 356.502 Q164.445 352.937 164.445 345.831 Q164.445 338.701 162.616 335.16 Q160.811 331.595 157.177 331.595 M157.177 327.891 Q162.987 327.891 166.042 332.498 Q169.121 337.081 169.121 345.831 Q169.121 354.558 166.042 359.164 Q162.987 363.747 157.177 363.747 Q151.366 363.747 148.288 359.164 Q145.232 354.558 145.232 345.831 Q145.232 337.081 148.288 332.498 Q151.366 327.891 157.177 327.891 Z\" fill=\"#000000\" fill-rule=\"evenodd\" fill-opacity=\"1\" /><path clip-path=\"url(#clip430)\" d=\"M117.061 68.9057 L135.417 68.9057 L135.417 72.8408 L121.343 72.8408 L121.343 81.313 Q122.362 80.9658 123.38 80.8038 Q124.399 80.6186 125.418 80.6186 Q131.205 80.6186 134.584 83.7899 Q137.964 86.9611 137.964 92.3778 Q137.964 97.9564 134.492 101.058 Q131.019 104.137 124.7 104.137 Q122.524 104.137 120.255 103.767 Q118.01 103.396 115.603 102.655 L115.603 97.9564 Q117.686 99.0907 119.908 99.6462 Q122.13 100.202 124.607 100.202 Q128.612 100.202 130.95 98.0953 Q133.288 95.9889 133.288 92.3778 Q133.288 88.7667 130.95 86.6602 Q128.612 84.5537 124.607 84.5537 Q122.732 84.5537 120.857 84.9704 Q119.006 85.3871 117.061 86.2667 L117.061 68.9057 Z\" fill=\"#000000\" fill-rule=\"evenodd\" fill-opacity=\"1\" /><path clip-path=\"url(#clip430)\" d=\"M157.177 71.9844 Q153.566 71.9844 151.737 75.5492 Q149.931 79.0908 149.931 86.2204 Q149.931 93.3268 151.737 96.8916 Q153.566 100.433 157.177 100.433 Q160.811 100.433 162.616 96.8916 Q164.445 93.3268 164.445 86.2204 Q164.445 79.0908 162.616 75.5492 Q160.811 71.9844 157.177 71.9844 M157.177 68.2807 Q162.987 68.2807 166.042 72.8871 Q169.121 77.4704 169.121 86.2204 Q169.121 94.9472 166.042 99.5537 Q162.987 104.137 157.177 104.137 Q151.366 104.137 148.288 99.5537 Q145.232 94.9472 145.232 86.2204 Q145.232 77.4704 148.288 72.8871 Q151.366 68.2807 157.177 68.2807 Z\" fill=\"#000000\" fill-rule=\"evenodd\" fill-opacity=\"1\" /><path clip-path=\"url(#clip430)\" d=\"M16.4842 813.335 L16.4842 773.136 L21.895 773.136 L21.895 790.005 L64.0042 790.005 L64.0042 796.466 L21.895 796.466 L21.895 813.335 L16.4842 813.335 Z\" fill=\"#000000\" fill-rule=\"evenodd\" fill-opacity=\"1\" /><path clip-path=\"url(#clip430)\" d=\"M28.3562 769.189 L28.3562 763.332 L64.0042 763.332 L64.0042 769.189 L28.3562 769.189 M14.479 769.189 L14.479 763.332 L21.895 763.332 L21.895 769.189 L14.479 769.189 Z\" fill=\"#000000\" fill-rule=\"evenodd\" fill-opacity=\"1\" /><path clip-path=\"url(#clip430)\" d=\"M35.1993 723.324 Q31.2526 721.128 29.3747 718.072 Q27.4968 715.017 27.4968 710.879 Q27.4968 705.309 31.4117 702.285 Q35.2948 699.262 42.4881 699.262 L64.0042 699.262 L64.0042 705.15 L42.679 705.15 Q37.5546 705.15 35.072 706.964 Q32.5894 708.778 32.5894 712.502 Q32.5894 717.054 35.6131 719.696 Q38.6368 722.337 43.8567 722.337 L64.0042 722.337 L64.0042 728.226 L42.679 728.226 Q37.5228 728.226 35.072 730.04 Q32.5894 731.854 32.5894 735.642 Q32.5894 740.129 35.6449 742.771 Q38.6686 745.413 43.8567 745.413 L64.0042 745.413 L64.0042 751.301 L28.3562 751.301 L28.3562 745.413 L33.8944 745.413 Q30.616 743.408 29.0564 740.607 Q27.4968 737.806 27.4968 733.955 Q27.4968 730.072 29.4702 727.366 Q31.4436 724.629 35.1993 723.324 Z\" fill=\"#000000\" fill-rule=\"evenodd\" fill-opacity=\"1\" /><path clip-path=\"url(#clip430)\" d=\"M44.7161 657.089 L47.5806 657.089 L47.5806 684.016 Q53.6281 683.634 56.8109 680.387 Q59.9619 677.109 59.9619 671.284 Q59.9619 667.911 59.1344 664.76 Q58.3069 661.577 56.6518 658.457 L62.1899 658.457 Q63.5267 661.608 64.227 664.919 Q64.9272 668.229 64.9272 671.634 Q64.9272 680.165 59.9619 685.162 Q54.9967 690.127 46.5303 690.127 Q37.7774 690.127 32.6531 685.416 Q27.4968 680.674 27.4968 672.653 Q27.4968 665.46 32.1438 661.29 Q36.7589 657.089 44.7161 657.089 M42.9973 662.945 Q38.1912 663.009 35.3266 665.651 Q32.4621 668.261 32.4621 672.589 Q32.4621 677.491 35.2312 680.451 Q38.0002 683.379 43.0292 683.825 L42.9973 662.945 Z\" fill=\"#000000\" fill-rule=\"evenodd\" fill-opacity=\"1\" /><polyline clip-path=\"url(#clip432)\" style=\"stroke:#009af9; stroke-linecap:butt; stroke-linejoin:round; stroke-width:4; stroke-opacity:1; fill:none\" points=\"\n",
       "  265.903,735.212 286.368,821.351 306.834,853.335 327.299,858.735 347.765,859.825 368.23,859.825 388.695,863.148 409.161,863.148 429.626,863.719 450.091,863.719 \n",
       "  470.557,863.719 491.022,864.186 511.487,864.186 531.953,864.965 552.418,864.965 572.884,864.965 593.349,864.965 613.814,864.965 634.28,864.965 654.745,864.965 \n",
       "  675.21,864.965 695.676,864.965 716.141,864.965 736.606,864.965 757.072,864.965 777.537,864.965 798.002,864.965 818.468,864.965 838.933,864.965 859.399,864.965 \n",
       "  879.864,864.965 900.329,864.965 920.795,864.965 941.26,864.965 961.725,864.965 982.191,864.965 1002.66,864.965 1023.12,864.965 1043.59,864.965 1064.05,864.965 \n",
       "  1084.52,864.965 1104.98,864.965 1125.45,864.965 1145.91,865.017 1166.38,865.017 1186.84,865.017 1207.31,865.017 1227.78,865.017 1248.24,865.017 1268.71,865.017 \n",
       "  1289.17,865.017 1309.64,865.017 1330.1,865.017 1350.57,865.017 1371.03,865.017 1391.5,865.017 1411.96,865.017 1432.43,865.017 1452.89,865.017 1473.36,865.017 \n",
       "  1493.82,865.017 1514.29,865.017 1534.76,865.017 1555.22,865.017 1575.69,865.017 1596.15,865.017 1616.62,865.017 1637.08,865.017 1657.55,865.017 1678.01,865.017 \n",
       "  1698.48,865.017 1718.94,865.017 1739.41,865.017 1759.87,865.017 1780.34,865.017 1800.81,865.017 1821.27,865.017 1841.74,865.017 1862.2,865.017 1882.67,865.017 \n",
       "  1903.13,865.017 1923.6,865.017 1944.06,865.017 1964.53,865.017 1984.99,865.017 2005.46,865.017 2025.92,865.017 2046.39,865.017 2066.85,865.017 2087.32,865.017 \n",
       "  2107.79,865.017 2128.25,865.017 2148.72,865.017 2169.18,865.017 2189.65,865.017 2210.11,865.017 2230.58,865.017 2251.04,865.017 2271.51,865.017 2291.97,865.017 \n",
       "  \n",
       "  \"/>\n",
       "<path clip-path=\"url(#clip430)\" d=\"\n",
       "M1574.62 196.789 L2281.17 196.789 L2281.17 93.1086 L1574.62 93.1086  Z\n",
       "  \" fill=\"#ffffff\" fill-rule=\"evenodd\" fill-opacity=\"1\"/>\n",
       "<polyline clip-path=\"url(#clip430)\" style=\"stroke:#000000; stroke-linecap:butt; stroke-linejoin:round; stroke-width:4; stroke-opacity:1; fill:none\" points=\"\n",
       "  1574.62,196.789 2281.17,196.789 2281.17,93.1086 1574.62,93.1086 1574.62,196.789 \n",
       "  \"/>\n",
       "<polyline clip-path=\"url(#clip430)\" style=\"stroke:#009af9; stroke-linecap:butt; stroke-linejoin:round; stroke-width:4; stroke-opacity:1; fill:none\" points=\"\n",
       "  1598.62,144.949 1742.62,144.949 \n",
       "  \"/>\n",
       "<path clip-path=\"url(#clip430)\" d=\"M1782.45 132.275 L1776.11 149.474 L1788.82 149.474 L1782.45 132.275 M1779.81 127.669 L1785.11 127.669 L1798.29 162.229 L1793.43 162.229 L1790.28 153.363 L1774.7 153.363 L1771.55 162.229 L1766.62 162.229 L1779.81 127.669 Z\" fill=\"#000000\" fill-rule=\"evenodd\" fill-opacity=\"1\" /><path clip-path=\"url(#clip430)\" d=\"M1797.31 136.303 L1801.83 136.303 L1809.93 158.062 L1818.03 136.303 L1822.55 136.303 L1812.82 162.229 L1807.04 162.229 L1797.31 136.303 Z\" fill=\"#000000\" fill-rule=\"evenodd\" fill-opacity=\"1\" /><path clip-path=\"url(#clip430)\" d=\"M1850.6 148.201 L1850.6 150.284 L1831.02 150.284 Q1831.3 154.682 1833.66 156.997 Q1836.04 159.289 1840.28 159.289 Q1842.73 159.289 1845.02 158.687 Q1847.34 158.085 1849.61 156.881 L1849.61 160.909 Q1847.31 161.881 1844.91 162.391 Q1842.5 162.9 1840.02 162.9 Q1833.82 162.9 1830.18 159.289 Q1826.57 155.678 1826.57 149.52 Q1826.57 143.155 1830 139.428 Q1833.45 135.678 1839.28 135.678 Q1844.51 135.678 1847.55 139.057 Q1850.6 142.414 1850.6 148.201 M1846.34 146.951 Q1846.3 143.456 1844.37 141.372 Q1842.48 139.289 1839.33 139.289 Q1835.76 139.289 1833.61 141.303 Q1831.48 143.317 1831.16 146.974 L1846.34 146.951 Z\" fill=\"#000000\" fill-rule=\"evenodd\" fill-opacity=\"1\" /><path clip-path=\"url(#clip430)\" d=\"M1872.61 140.284 Q1871.9 139.868 1871.04 139.682 Q1870.21 139.474 1869.19 139.474 Q1865.58 139.474 1863.63 141.835 Q1861.71 144.173 1861.71 148.571 L1861.71 162.229 L1857.43 162.229 L1857.43 136.303 L1861.71 136.303 L1861.71 140.331 Q1863.05 137.969 1865.21 136.835 Q1867.36 135.678 1870.44 135.678 Q1870.88 135.678 1871.41 135.747 Q1871.94 135.794 1872.59 135.909 L1872.61 140.284 Z\" fill=\"#000000\" fill-rule=\"evenodd\" fill-opacity=\"1\" /><path clip-path=\"url(#clip430)\" d=\"M1888.86 149.196 Q1883.7 149.196 1881.71 150.377 Q1879.72 151.557 1879.72 154.405 Q1879.72 156.673 1881.2 158.016 Q1882.71 159.335 1885.28 159.335 Q1888.82 159.335 1890.95 156.835 Q1893.1 154.312 1893.1 150.145 L1893.1 149.196 L1888.86 149.196 M1897.36 147.437 L1897.36 162.229 L1893.1 162.229 L1893.1 158.293 Q1891.64 160.655 1889.47 161.789 Q1887.29 162.9 1884.14 162.9 Q1880.16 162.9 1877.8 160.678 Q1875.46 158.432 1875.46 154.682 Q1875.46 150.307 1878.38 148.085 Q1881.32 145.863 1887.13 145.863 L1893.1 145.863 L1893.1 145.446 Q1893.1 142.507 1891.16 140.909 Q1889.23 139.289 1885.74 139.289 Q1883.52 139.289 1881.41 139.821 Q1879.3 140.354 1877.36 141.419 L1877.36 137.483 Q1879.7 136.581 1881.9 136.141 Q1884.1 135.678 1886.18 135.678 Q1891.8 135.678 1894.58 138.594 Q1897.36 141.511 1897.36 147.437 Z\" fill=\"#000000\" fill-rule=\"evenodd\" fill-opacity=\"1\" /><path clip-path=\"url(#clip430)\" d=\"M1923.19 148.965 Q1923.19 144.335 1921.27 141.789 Q1919.37 139.243 1915.92 139.243 Q1912.5 139.243 1910.58 141.789 Q1908.68 144.335 1908.68 148.965 Q1908.68 153.571 1910.58 156.118 Q1912.5 158.664 1915.92 158.664 Q1919.37 158.664 1921.27 156.118 Q1923.19 153.571 1923.19 148.965 M1927.45 159.011 Q1927.45 165.631 1924.51 168.849 Q1921.57 172.09 1915.51 172.09 Q1913.26 172.09 1911.27 171.742 Q1909.28 171.418 1907.41 170.724 L1907.41 166.58 Q1909.28 167.599 1911.11 168.085 Q1912.94 168.571 1914.84 168.571 Q1919.03 168.571 1921.11 166.372 Q1923.19 164.196 1923.19 159.775 L1923.19 157.668 Q1921.87 159.96 1919.81 161.094 Q1917.75 162.229 1914.88 162.229 Q1910.11 162.229 1907.2 158.594 Q1904.28 154.96 1904.28 148.965 Q1904.28 142.946 1907.2 139.312 Q1910.11 135.678 1914.88 135.678 Q1917.75 135.678 1919.81 136.812 Q1921.87 137.946 1923.19 140.238 L1923.19 136.303 L1927.45 136.303 L1927.45 159.011 Z\" fill=\"#000000\" fill-rule=\"evenodd\" fill-opacity=\"1\" /><path clip-path=\"url(#clip430)\" d=\"M1958.4 148.201 L1958.4 150.284 L1938.82 150.284 Q1939.1 154.682 1941.46 156.997 Q1943.84 159.289 1948.08 159.289 Q1950.53 159.289 1952.82 158.687 Q1955.14 158.085 1957.41 156.881 L1957.41 160.909 Q1955.11 161.881 1952.71 162.391 Q1950.3 162.9 1947.82 162.9 Q1941.62 162.9 1937.98 159.289 Q1934.37 155.678 1934.37 149.52 Q1934.37 143.155 1937.8 139.428 Q1941.25 135.678 1947.08 135.678 Q1952.31 135.678 1955.35 139.057 Q1958.4 142.414 1958.4 148.201 M1954.14 146.951 Q1954.1 143.456 1952.17 141.372 Q1950.28 139.289 1947.13 139.289 Q1943.56 139.289 1941.41 141.303 Q1939.28 143.317 1938.96 146.974 L1954.14 146.951 Z\" fill=\"#000000\" fill-rule=\"evenodd\" fill-opacity=\"1\" /><path clip-path=\"url(#clip430)\" d=\"M1984.67 128.942 L1984.67 136.303 L1993.45 136.303 L1993.45 139.613 L1984.67 139.613 L1984.67 153.687 Q1984.67 156.858 1985.53 157.761 Q1986.41 158.664 1989.07 158.664 L1993.45 158.664 L1993.45 162.229 L1989.07 162.229 Q1984.14 162.229 1982.27 160.4 Q1980.39 158.548 1980.39 153.687 L1980.39 139.613 L1977.27 139.613 L1977.27 136.303 L1980.39 136.303 L1980.39 128.942 L1984.67 128.942 Z\" fill=\"#000000\" fill-rule=\"evenodd\" fill-opacity=\"1\" /><path clip-path=\"url(#clip430)\" d=\"M2014.07 140.284 Q2013.35 139.868 2012.5 139.682 Q2011.66 139.474 2010.65 139.474 Q2007.04 139.474 2005.09 141.835 Q2003.17 144.173 2003.17 148.571 L2003.17 162.229 L1998.89 162.229 L1998.89 136.303 L2003.17 136.303 L2003.17 140.331 Q2004.51 137.969 2006.66 136.835 Q2008.82 135.678 2011.9 135.678 Q2012.34 135.678 2012.87 135.747 Q2013.4 135.794 2014.05 135.909 L2014.07 140.284 Z\" fill=\"#000000\" fill-rule=\"evenodd\" fill-opacity=\"1\" /><path clip-path=\"url(#clip430)\" d=\"M2030.32 149.196 Q2025.16 149.196 2023.17 150.377 Q2021.18 151.557 2021.18 154.405 Q2021.18 156.673 2022.66 158.016 Q2024.16 159.335 2026.73 159.335 Q2030.28 159.335 2032.41 156.835 Q2034.56 154.312 2034.56 150.145 L2034.56 149.196 L2030.32 149.196 M2038.82 147.437 L2038.82 162.229 L2034.56 162.229 L2034.56 158.293 Q2033.1 160.655 2030.92 161.789 Q2028.75 162.9 2025.6 162.9 Q2021.62 162.9 2019.26 160.678 Q2016.92 158.432 2016.92 154.682 Q2016.92 150.307 2019.84 148.085 Q2022.78 145.863 2028.59 145.863 L2034.56 145.863 L2034.56 145.446 Q2034.56 142.507 2032.61 140.909 Q2030.69 139.289 2027.2 139.289 Q2024.97 139.289 2022.87 139.821 Q2020.76 140.354 2018.82 141.419 L2018.82 137.483 Q2021.16 136.581 2023.35 136.141 Q2025.55 135.678 2027.64 135.678 Q2033.26 135.678 2036.04 138.594 Q2038.82 141.511 2038.82 147.437 Z\" fill=\"#000000\" fill-rule=\"evenodd\" fill-opacity=\"1\" /><path clip-path=\"url(#clip430)\" d=\"M2044.53 136.303 L2049.05 136.303 L2057.15 158.062 L2065.25 136.303 L2069.77 136.303 L2060.04 162.229 L2054.26 162.229 L2044.53 136.303 Z\" fill=\"#000000\" fill-rule=\"evenodd\" fill-opacity=\"1\" /><path clip-path=\"url(#clip430)\" d=\"M2097.82 148.201 L2097.82 150.284 L2078.24 150.284 Q2078.52 154.682 2080.88 156.997 Q2083.26 159.289 2087.5 159.289 Q2089.95 159.289 2092.24 158.687 Q2094.56 158.085 2096.83 156.881 L2096.83 160.909 Q2094.53 161.881 2092.13 162.391 Q2089.72 162.9 2087.24 162.9 Q2081.04 162.9 2077.41 159.289 Q2073.79 155.678 2073.79 149.52 Q2073.79 143.155 2077.22 139.428 Q2080.67 135.678 2086.5 135.678 Q2091.73 135.678 2094.77 139.057 Q2097.82 142.414 2097.82 148.201 M2093.56 146.951 Q2093.52 143.456 2091.59 141.372 Q2089.7 139.289 2086.55 139.289 Q2082.98 139.289 2080.83 141.303 Q2078.7 143.317 2078.38 146.974 L2093.56 146.951 Z\" fill=\"#000000\" fill-rule=\"evenodd\" fill-opacity=\"1\" /><path clip-path=\"url(#clip430)\" d=\"M2104.81 126.21 L2109.07 126.21 L2109.07 162.229 L2104.81 162.229 L2104.81 126.21 Z\" fill=\"#000000\" fill-rule=\"evenodd\" fill-opacity=\"1\" /><path clip-path=\"url(#clip430)\" d=\"M2137.27 128.942 L2137.27 136.303 L2146.04 136.303 L2146.04 139.613 L2137.27 139.613 L2137.27 153.687 Q2137.27 156.858 2138.12 157.761 Q2139 158.664 2141.66 158.664 L2146.04 158.664 L2146.04 162.229 L2141.66 162.229 Q2136.73 162.229 2134.86 160.4 Q2132.98 158.548 2132.98 153.687 L2132.98 139.613 L2129.86 139.613 L2129.86 136.303 L2132.98 136.303 L2132.98 128.942 L2137.27 128.942 Z\" fill=\"#000000\" fill-rule=\"evenodd\" fill-opacity=\"1\" /><path clip-path=\"url(#clip430)\" d=\"M2151.64 136.303 L2155.9 136.303 L2155.9 162.229 L2151.64 162.229 L2151.64 136.303 M2151.64 126.21 L2155.9 126.21 L2155.9 131.604 L2151.64 131.604 L2151.64 126.21 Z\" fill=\"#000000\" fill-rule=\"evenodd\" fill-opacity=\"1\" /><path clip-path=\"url(#clip430)\" d=\"M2185 141.28 Q2186.59 138.409 2188.82 137.044 Q2191.04 135.678 2194.05 135.678 Q2198.1 135.678 2200.3 138.525 Q2202.5 141.349 2202.5 146.581 L2202.5 162.229 L2198.21 162.229 L2198.21 146.719 Q2198.21 142.993 2196.9 141.187 Q2195.58 139.382 2192.87 139.382 Q2189.56 139.382 2187.64 141.581 Q2185.71 143.78 2185.71 147.576 L2185.71 162.229 L2181.43 162.229 L2181.43 146.719 Q2181.43 142.969 2180.11 141.187 Q2178.79 139.382 2176.04 139.382 Q2172.77 139.382 2170.85 141.604 Q2168.93 143.803 2168.93 147.576 L2168.93 162.229 L2164.65 162.229 L2164.65 136.303 L2168.93 136.303 L2168.93 140.331 Q2170.39 137.946 2172.43 136.812 Q2174.46 135.678 2177.27 135.678 Q2180.09 135.678 2182.06 137.113 Q2184.05 138.548 2185 141.28 Z\" fill=\"#000000\" fill-rule=\"evenodd\" fill-opacity=\"1\" /><path clip-path=\"url(#clip430)\" d=\"M2233.17 148.201 L2233.17 150.284 L2213.58 150.284 Q2213.86 154.682 2216.22 156.997 Q2218.61 159.289 2222.84 159.289 Q2225.3 159.289 2227.59 158.687 Q2229.9 158.085 2232.17 156.881 L2232.17 160.909 Q2229.88 161.881 2227.47 162.391 Q2225.07 162.9 2222.59 162.9 Q2216.39 162.9 2212.75 159.289 Q2209.14 155.678 2209.14 149.52 Q2209.14 143.155 2212.57 139.428 Q2216.02 135.678 2221.85 135.678 Q2227.08 135.678 2230.11 139.057 Q2233.17 142.414 2233.17 148.201 M2228.91 146.951 Q2228.86 143.456 2226.94 141.372 Q2225.04 139.289 2221.89 139.289 Q2218.33 139.289 2216.18 141.303 Q2214.05 143.317 2213.72 146.974 L2228.91 146.951 Z\" fill=\"#000000\" fill-rule=\"evenodd\" fill-opacity=\"1\" /></svg>\n"
      ]
     },
     "execution_count": 23,
     "metadata": {},
     "output_type": "execute_result"
    }
   ],
   "source": [
    "p2"
   ]
  },
  {
   "cell_type": "markdown",
   "metadata": {
    "nbpresent": {
     "id": "d6f30ab3-e7f7-40d8-bdea-85754565c6b2"
    },
    "slideshow": {
     "slide_type": "slide"
    }
   },
   "source": [
    "## Aggregating data on the fly and querying the model\n",
    "\n",
    "It is possible to use the ```adata``` keyword to apply functions (such as `mean()` or `median()`) to the set of all agents' data at each step to avoid returning excessive amounts of data from large simulations and then doing complicated analyses of dataframes. \n",
    "\n",
    "You can also query the model object itself by defining functions that apply to the model and pass them into the ```run!()``` function with the ```mdata``` keyword. \n",
    "\n",
    "Here is an example:"
   ]
  },
  {
   "cell_type": "code",
   "execution_count": 24,
   "metadata": {
    "nbpresent": {
     "id": "69e5169a-9992-4728-951c-cbbf8201520d"
    },
    "slideshow": {
     "slide_type": "slide"
    }
   },
   "outputs": [],
   "source": [
    "# Specify a function to apply to agents' field to aggregate data on the fly\n",
    "adata = [(:travel_time, mean)]\n",
    "\n",
    "# Define functions that take the model as argument and return some of the model properties\n",
    "t1(model) = model.properties[:route_times][1]\n",
    "t2(model) = model.properties[:route_times][2]\n",
    "\n",
    "mdata = [t1, t2]\n",
    "\n",
    "# Initialise and run the model to gather data as before\n",
    "n = 100  \n",
    "when = 1:n  \n",
    "model = initialise(properties = properties)\n",
    "data_from_agents, data_from_model = run!(model, agent_step!, model_step!, n; adata, mdata);"
   ]
  },
  {
   "cell_type": "markdown",
   "metadata": {
    "slideshow": {
     "slide_type": "slide"
    }
   },
   "source": [
    "## Aggregating data on the fly and querying the model"
   ]
  },
  {
   "cell_type": "code",
   "execution_count": 25,
   "metadata": {
    "cell_style": "split"
   },
   "outputs": [
    {
     "data": {
      "text/html": [
       "<div class=\"data-frame\"><p>5 rows × 2 columns</p><table class=\"data-frame\"><thead><tr><th></th><th>step</th><th>mean_travel_time</th></tr><tr><th></th><th title=\"Int64\">Int64</th><th title=\"Float64\">Float64</th></tr></thead><tbody><tr><th>1</th><td>0</td><td>0.0</td></tr><tr><th>2</th><td>1</td><td>25.0</td></tr><tr><th>3</th><td>2</td><td>22.888</td></tr><tr><th>4</th><td>3</td><td>21.058</td></tr><tr><th>5</th><td>4</td><td>20.338</td></tr></tbody></table></div>"
      ],
      "text/latex": [
       "\\begin{tabular}{r|cc}\n",
       "\t& step & mean\\_travel\\_time\\\\\n",
       "\t\\hline\n",
       "\t& Int64 & Float64\\\\\n",
       "\t\\hline\n",
       "\t1 & 0 & 0.0 \\\\\n",
       "\t2 & 1 & 25.0 \\\\\n",
       "\t3 & 2 & 22.888 \\\\\n",
       "\t4 & 3 & 21.058 \\\\\n",
       "\t5 & 4 & 20.338 \\\\\n",
       "\\end{tabular}\n"
      ],
      "text/plain": [
       "\u001b[1m5×2 DataFrame\u001b[0m\n",
       "\u001b[1m Row \u001b[0m│\u001b[1m step  \u001b[0m\u001b[1m mean_travel_time \u001b[0m\n",
       "\u001b[1m     \u001b[0m│\u001b[90m Int64 \u001b[0m\u001b[90m Float64          \u001b[0m\n",
       "─────┼─────────────────────────\n",
       "   1 │     0             0.0\n",
       "   2 │     1            25.0\n",
       "   3 │     2            22.888\n",
       "   4 │     3            21.058\n",
       "   5 │     4            20.338"
      ]
     },
     "execution_count": 25,
     "metadata": {},
     "output_type": "execute_result"
    }
   ],
   "source": [
    "data_from_agents[1:5, :]"
   ]
  },
  {
   "cell_type": "code",
   "execution_count": 26,
   "metadata": {
    "cell_style": "split"
   },
   "outputs": [
    {
     "data": {
      "text/html": [
       "<div class=\"data-frame\"><p>5 rows × 3 columns</p><table class=\"data-frame\"><thead><tr><th></th><th>step</th><th>t1</th><th>t2</th></tr><tr><th></th><th title=\"Int64\">Int64</th><th title=\"Float64\">Float64</th><th title=\"Float64\">Float64</th></tr></thead><tbody><tr><th>1</th><td>0</td><td>20.0</td><td>20.0</td></tr><tr><th>2</th><td>1</td><td>25.0</td><td>15.0</td></tr><tr><th>3</th><td>2</td><td>23.8</td><td>16.2</td></tr><tr><th>4</th><td>3</td><td>22.3</td><td>17.7</td></tr><tr><th>5</th><td>4</td><td>21.3</td><td>18.7</td></tr></tbody></table></div>"
      ],
      "text/latex": [
       "\\begin{tabular}{r|ccc}\n",
       "\t& step & t1 & t2\\\\\n",
       "\t\\hline\n",
       "\t& Int64 & Float64 & Float64\\\\\n",
       "\t\\hline\n",
       "\t1 & 0 & 20.0 & 20.0 \\\\\n",
       "\t2 & 1 & 25.0 & 15.0 \\\\\n",
       "\t3 & 2 & 23.8 & 16.2 \\\\\n",
       "\t4 & 3 & 22.3 & 17.7 \\\\\n",
       "\t5 & 4 & 21.3 & 18.7 \\\\\n",
       "\\end{tabular}\n"
      ],
      "text/plain": [
       "\u001b[1m5×3 DataFrame\u001b[0m\n",
       "\u001b[1m Row \u001b[0m│\u001b[1m step  \u001b[0m\u001b[1m t1      \u001b[0m\u001b[1m t2      \u001b[0m\n",
       "\u001b[1m     \u001b[0m│\u001b[90m Int64 \u001b[0m\u001b[90m Float64 \u001b[0m\u001b[90m Float64 \u001b[0m\n",
       "─────┼─────────────────────────\n",
       "   1 │     0     20.0     20.0\n",
       "   2 │     1     25.0     15.0\n",
       "   3 │     2     23.8     16.2\n",
       "   4 │     3     22.3     17.7\n",
       "   5 │     4     21.3     18.7"
      ]
     },
     "execution_count": 26,
     "metadata": {},
     "output_type": "execute_result"
    }
   ],
   "source": [
    "data_from_model[1:5, :]"
   ]
  },
  {
   "cell_type": "markdown",
   "metadata": {
    "cell_style": "split",
    "nbpresent": {
     "id": "74477327-a0db-46df-b2e7-da3bcbe708e6"
    },
    "slideshow": {
     "slide_type": "slide"
    }
   },
   "source": [
    "## A (slightly) more complicated example\n",
    "\n",
    "Let's add an additional road linking 2->3 with a cost of 5.0 -  a new bridge perhaps.\n",
    "\n",
    "There is now an additional path in the network. Importantly some links are now shared between paths."
   ]
  },
  {
   "cell_type": "code",
   "execution_count": 27,
   "metadata": {
    "cell_style": "split",
    "nbpresent": {
     "id": "26a7e2d2-9bdb-4aa2-8356-148ce9ac3bae"
    }
   },
   "outputs": [
    {
     "data": {
      "image/svg+xml": [
       "<?xml version=\"1.0\" encoding=\"UTF-8\"?>\n",
       "<svg xmlns=\"http://www.w3.org/2000/svg\"\n",
       "     xmlns:xlink=\"http://www.w3.org/1999/xlink\"\n",
       "     version=\"1.2\"\n",
       "     width=\"141.42mm\" height=\"100mm\" viewBox=\"0 0 141.42 100\"\n",
       "     stroke=\"none\"\n",
       "     fill=\"#000000\"\n",
       "     stroke-width=\"0.3\"\n",
       "     font-size=\"3.88\"\n",
       ">\n",
       "<defs>\n",
       "  <marker id=\"arrow\" markerWidth=\"15\" markerHeight=\"7\" refX=\"5\" refY=\"3.5\" orient=\"auto\" markerUnits=\"strokeWidth\">\n",
       "    <path d=\"M0,0 L15,3.5 L0,7 z\" stroke=\"context-stroke\" fill=\"context-stroke\"/>\n",
       "  </marker>\n",
       "</defs>\n",
       "<g stroke-width=\"1.5\" fill=\"#000000\" fill-opacity=\"0.000\" stroke=\"#D3D3D3\" id=\"img-1c65ac69-1\">\n",
       "  <g transform=\"translate(79.86,77.38)\">\n",
       "    <path fill=\"none\" d=\"M42.95,12.33 L-42.95,-12.33 \" class=\"primitive\"/>\n",
       "  </g>\n",
       "  <g transform=\"translate(121.05,64.69)\">\n",
       "    <path fill=\"none\" d=\"M6.97,21.9 L-6.97,-21.9 \" class=\"primitive\"/>\n",
       "  </g>\n",
       "  <g transform=\"translate(71.27,50.4)\">\n",
       "    <path fill=\"none\" d=\"M-34.44,10.61 L34.44,-10.61 \" class=\"primitive\"/>\n",
       "  </g>\n",
       "  <g transform=\"translate(20.93,35.71)\">\n",
       "    <path fill=\"none\" d=\"M7.45,22.31 L-7.45,-22.31 \" class=\"primitive\"/>\n",
       "  </g>\n",
       "  <g transform=\"translate(62.13,23.02)\">\n",
       "    <path fill=\"none\" d=\"M43.53,12.7 L-43.53,-12.7 \" class=\"primitive\"/>\n",
       "  </g>\n",
       "</g>\n",
       "<g stroke-width=\"1.5\" stroke=\"#D3D3D3\" id=\"img-1c65ac69-2\">\n",
       "  <g transform=\"translate(40.33,66.03)\">\n",
       "    <path fill=\"none\" d=\"M0.95,1.81 L-3.42,-0.98 2.47,-0.83 \" class=\"primitive\"/>\n",
       "  </g>\n",
       "  <g transform=\"translate(114.89,45.34)\">\n",
       "    <path fill=\"none\" d=\"M-1.56,1.59 L-0.81,-2.55 2.37,0.96 \" class=\"primitive\"/>\n",
       "  </g>\n",
       "  <g transform=\"translate(102.33,40.83)\">\n",
       "    <path fill=\"none\" d=\"M-2.5,-0.79 L3.38,-1.04 -0.89,1.83 \" class=\"primitive\"/>\n",
       "  </g>\n",
       "  <g transform=\"translate(14.33,15.94)\">\n",
       "    <path fill=\"none\" d=\"M-1.54,1.6 L-0.85,-2.54 2.39,0.94 \" class=\"primitive\"/>\n",
       "  </g>\n",
       "  <g transform=\"translate(22.01,11.32)\">\n",
       "    <path fill=\"none\" d=\"M0.94,1.82 L-3.41,-1 2.47,-0.82 \" class=\"primitive\"/>\n",
       "  </g>\n",
       "</g>\n",
       "<g font-size=\"4\" stroke=\"#000000\" stroke-opacity=\"0.000\" fill=\"#000000\" id=\"img-1c65ac69-3\">\n",
       "</g>\n",
       "<g stroke-width=\"0\" stroke=\"#000000\" stroke-opacity=\"0.000\" fill=\"#40E0D0\" id=\"img-1c65ac69-4\">\n",
       "  <g transform=\"translate(129.64,91.67)\">\n",
       "    <circle cx=\"0\" cy=\"0\" r=\"7.07\" class=\"primitive\"/>\n",
       "  </g>\n",
       "  <g transform=\"translate(30.08,63.08)\">\n",
       "    <circle cx=\"0\" cy=\"0\" r=\"7.07\" class=\"primitive\"/>\n",
       "  </g>\n",
       "  <g transform=\"translate(112.47,37.71)\">\n",
       "    <circle cx=\"0\" cy=\"0\" r=\"7.07\" class=\"primitive\"/>\n",
       "  </g>\n",
       "  <g transform=\"translate(11.79,8.33)\">\n",
       "    <circle cx=\"0\" cy=\"0\" r=\"7.07\" class=\"primitive\"/>\n",
       "  </g>\n",
       "</g>\n",
       "<g font-size=\"4\" stroke=\"#000000\" stroke-opacity=\"0.000\" fill=\"#000000\" id=\"img-1c65ac69-5\">\n",
       "  <g transform=\"translate(129.64,91.67)\">\n",
       "    <g class=\"primitive\">\n",
       "      <text text-anchor=\"middle\" dy=\"0.35em\">1</text>\n",
       "    </g>\n",
       "  </g>\n",
       "  <g transform=\"translate(30.08,63.08)\">\n",
       "    <g class=\"primitive\">\n",
       "      <text text-anchor=\"middle\" dy=\"0.35em\">2</text>\n",
       "    </g>\n",
       "  </g>\n",
       "  <g transform=\"translate(112.47,37.71)\">\n",
       "    <g class=\"primitive\">\n",
       "      <text text-anchor=\"middle\" dy=\"0.35em\">3</text>\n",
       "    </g>\n",
       "  </g>\n",
       "  <g transform=\"translate(11.79,8.33)\">\n",
       "    <g class=\"primitive\">\n",
       "      <text text-anchor=\"middle\" dy=\"0.35em\">4</text>\n",
       "    </g>\n",
       "  </g>\n",
       "</g>\n",
       "</svg>\n"
      ],
      "text/html": [
       "<?xml version=\"1.0\" encoding=\"UTF-8\"?>\n",
       "<svg xmlns=\"http://www.w3.org/2000/svg\"\n",
       "     xmlns:xlink=\"http://www.w3.org/1999/xlink\"\n",
       "     version=\"1.2\"\n",
       "     width=\"141.42mm\" height=\"100mm\" viewBox=\"0 0 141.42 100\"\n",
       "     stroke=\"none\"\n",
       "     fill=\"#000000\"\n",
       "     stroke-width=\"0.3\"\n",
       "     font-size=\"3.88\"\n",
       "\n",
       "     id=\"img-ccc94421\">\n",
       "<defs>\n",
       "  <marker id=\"arrow\" markerWidth=\"15\" markerHeight=\"7\" refX=\"5\" refY=\"3.5\" orient=\"auto\" markerUnits=\"strokeWidth\">\n",
       "    <path d=\"M0,0 L15,3.5 L0,7 z\" stroke=\"context-stroke\" fill=\"context-stroke\"/>\n",
       "  </marker>\n",
       "</defs>\n",
       "<g stroke-width=\"1.5\" fill=\"#000000\" fill-opacity=\"0.000\" stroke=\"#D3D3D3\" id=\"img-ccc94421-1\">\n",
       "  <g transform=\"translate(79.86,77.38)\">\n",
       "    <path fill=\"none\" d=\"M42.95,12.33 L-42.95,-12.33 \" class=\"primitive\"/>\n",
       "  </g>\n",
       "  <g transform=\"translate(121.05,64.69)\">\n",
       "    <path fill=\"none\" d=\"M6.97,21.9 L-6.97,-21.9 \" class=\"primitive\"/>\n",
       "  </g>\n",
       "  <g transform=\"translate(71.27,50.4)\">\n",
       "    <path fill=\"none\" d=\"M-34.44,10.61 L34.44,-10.61 \" class=\"primitive\"/>\n",
       "  </g>\n",
       "  <g transform=\"translate(20.93,35.71)\">\n",
       "    <path fill=\"none\" d=\"M7.45,22.31 L-7.45,-22.31 \" class=\"primitive\"/>\n",
       "  </g>\n",
       "  <g transform=\"translate(62.13,23.02)\">\n",
       "    <path fill=\"none\" d=\"M43.53,12.7 L-43.53,-12.7 \" class=\"primitive\"/>\n",
       "  </g>\n",
       "</g>\n",
       "<g stroke-width=\"1.5\" stroke=\"#D3D3D3\" id=\"img-ccc94421-2\">\n",
       "  <g transform=\"translate(40.33,66.03)\">\n",
       "    <path fill=\"none\" d=\"M0.95,1.81 L-3.42,-0.98 2.47,-0.83 \" class=\"primitive\"/>\n",
       "  </g>\n",
       "  <g transform=\"translate(114.89,45.34)\">\n",
       "    <path fill=\"none\" d=\"M-1.56,1.59 L-0.81,-2.55 2.37,0.96 \" class=\"primitive\"/>\n",
       "  </g>\n",
       "  <g transform=\"translate(102.33,40.83)\">\n",
       "    <path fill=\"none\" d=\"M-2.5,-0.79 L3.38,-1.04 -0.89,1.83 \" class=\"primitive\"/>\n",
       "  </g>\n",
       "  <g transform=\"translate(14.33,15.94)\">\n",
       "    <path fill=\"none\" d=\"M-1.54,1.6 L-0.85,-2.54 2.39,0.94 \" class=\"primitive\"/>\n",
       "  </g>\n",
       "  <g transform=\"translate(22.01,11.32)\">\n",
       "    <path fill=\"none\" d=\"M0.94,1.82 L-3.41,-1 2.47,-0.82 \" class=\"primitive\"/>\n",
       "  </g>\n",
       "</g>\n",
       "<g font-size=\"4\" stroke=\"#000000\" stroke-opacity=\"0.000\" fill=\"#000000\" id=\"img-ccc94421-3\">\n",
       "</g>\n",
       "<g stroke-width=\"0\" stroke=\"#000000\" stroke-opacity=\"0.000\" fill=\"#40E0D0\" id=\"img-ccc94421-4\">\n",
       "  <g transform=\"translate(129.64,91.67)\">\n",
       "    <circle cx=\"0\" cy=\"0\" r=\"7.07\" class=\"primitive\"/>\n",
       "  </g>\n",
       "  <g transform=\"translate(30.08,63.08)\">\n",
       "    <circle cx=\"0\" cy=\"0\" r=\"7.07\" class=\"primitive\"/>\n",
       "  </g>\n",
       "  <g transform=\"translate(112.47,37.71)\">\n",
       "    <circle cx=\"0\" cy=\"0\" r=\"7.07\" class=\"primitive\"/>\n",
       "  </g>\n",
       "  <g transform=\"translate(11.79,8.33)\">\n",
       "    <circle cx=\"0\" cy=\"0\" r=\"7.07\" class=\"primitive\"/>\n",
       "  </g>\n",
       "</g>\n",
       "<g font-size=\"4\" stroke=\"#000000\" stroke-opacity=\"0.000\" fill=\"#000000\" id=\"img-ccc94421-5\">\n",
       "  <g transform=\"translate(129.64,91.67)\">\n",
       "    <g class=\"primitive\">\n",
       "      <text text-anchor=\"middle\" dy=\"0.35em\">1</text>\n",
       "    </g>\n",
       "  </g>\n",
       "  <g transform=\"translate(30.08,63.08)\">\n",
       "    <g class=\"primitive\">\n",
       "      <text text-anchor=\"middle\" dy=\"0.35em\">2</text>\n",
       "    </g>\n",
       "  </g>\n",
       "  <g transform=\"translate(112.47,37.71)\">\n",
       "    <g class=\"primitive\">\n",
       "      <text text-anchor=\"middle\" dy=\"0.35em\">3</text>\n",
       "    </g>\n",
       "  </g>\n",
       "  <g transform=\"translate(11.79,8.33)\">\n",
       "    <g class=\"primitive\">\n",
       "      <text text-anchor=\"middle\" dy=\"0.35em\">4</text>\n",
       "    </g>\n",
       "  </g>\n",
       "</g>\n",
       "<script> <![CDATA[\n",
       "(function(N){var k=/[\\.\\/]/,L=/\\s*,\\s*/,C=function(a,d){return a-d},a,v,y={n:{}},M=function(){for(var a=0,d=this.length;a<d;a++)if(\"undefined\"!=typeof this[a])return this[a]},A=function(){for(var a=this.length;--a;)if(\"undefined\"!=typeof this[a])return this[a]},w=function(k,d){k=String(k);var f=v,n=Array.prototype.slice.call(arguments,2),u=w.listeners(k),p=0,b,q=[],e={},l=[],r=a;l.firstDefined=M;l.lastDefined=A;a=k;for(var s=v=0,x=u.length;s<x;s++)\"zIndex\"in u[s]&&(q.push(u[s].zIndex),0>u[s].zIndex&&\n",
       "(e[u[s].zIndex]=u[s]));for(q.sort(C);0>q[p];)if(b=e[q[p++] ],l.push(b.apply(d,n)),v)return v=f,l;for(s=0;s<x;s++)if(b=u[s],\"zIndex\"in b)if(b.zIndex==q[p]){l.push(b.apply(d,n));if(v)break;do if(p++,(b=e[q[p] ])&&l.push(b.apply(d,n)),v)break;while(b)}else e[b.zIndex]=b;else if(l.push(b.apply(d,n)),v)break;v=f;a=r;return l};w._events=y;w.listeners=function(a){a=a.split(k);var d=y,f,n,u,p,b,q,e,l=[d],r=[];u=0;for(p=a.length;u<p;u++){e=[];b=0;for(q=l.length;b<q;b++)for(d=l[b].n,f=[d[a[u] ],d[\"*\"] ],n=2;n--;)if(d=\n",
       "f[n])e.push(d),r=r.concat(d.f||[]);l=e}return r};w.on=function(a,d){a=String(a);if(\"function\"!=typeof d)return function(){};for(var f=a.split(L),n=0,u=f.length;n<u;n++)(function(a){a=a.split(k);for(var b=y,f,e=0,l=a.length;e<l;e++)b=b.n,b=b.hasOwnProperty(a[e])&&b[a[e] ]||(b[a[e] ]={n:{}});b.f=b.f||[];e=0;for(l=b.f.length;e<l;e++)if(b.f[e]==d){f=!0;break}!f&&b.f.push(d)})(f[n]);return function(a){+a==+a&&(d.zIndex=+a)}};w.f=function(a){var d=[].slice.call(arguments,1);return function(){w.apply(null,\n",
       "[a,null].concat(d).concat([].slice.call(arguments,0)))}};w.stop=function(){v=1};w.nt=function(k){return k?(new RegExp(\"(?:\\\\.|\\\\/|^)\"+k+\"(?:\\\\.|\\\\/|$)\")).test(a):a};w.nts=function(){return a.split(k)};w.off=w.unbind=function(a,d){if(a){var f=a.split(L);if(1<f.length)for(var n=0,u=f.length;n<u;n++)w.off(f[n],d);else{for(var f=a.split(k),p,b,q,e,l=[y],n=0,u=f.length;n<u;n++)for(e=0;e<l.length;e+=q.length-2){q=[e,1];p=l[e].n;if(\"*\"!=f[n])p[f[n] ]&&q.push(p[f[n] ]);else for(b in p)p.hasOwnProperty(b)&&\n",
       "q.push(p[b]);l.splice.apply(l,q)}n=0;for(u=l.length;n<u;n++)for(p=l[n];p.n;){if(d){if(p.f){e=0;for(f=p.f.length;e<f;e++)if(p.f[e]==d){p.f.splice(e,1);break}!p.f.length&&delete p.f}for(b in p.n)if(p.n.hasOwnProperty(b)&&p.n[b].f){q=p.n[b].f;e=0;for(f=q.length;e<f;e++)if(q[e]==d){q.splice(e,1);break}!q.length&&delete p.n[b].f}}else for(b in delete p.f,p.n)p.n.hasOwnProperty(b)&&p.n[b].f&&delete p.n[b].f;p=p.n}}}else w._events=y={n:{}}};w.once=function(a,d){var f=function(){w.unbind(a,f);return d.apply(this,\n",
       "arguments)};return w.on(a,f)};w.version=\"0.4.2\";w.toString=function(){return\"You are running Eve 0.4.2\"};\"undefined\"!=typeof module&&module.exports?module.exports=w:\"function\"===typeof define&&define.amd?define(\"eve\",[],function(){return w}):N.eve=w})(this);\n",
       "(function(N,k){\"function\"===typeof define&&define.amd?define(\"Snap.svg\",[\"eve\"],function(L){return k(N,L)}):k(N,N.eve)})(this,function(N,k){var L=function(a){var k={},y=N.requestAnimationFrame||N.webkitRequestAnimationFrame||N.mozRequestAnimationFrame||N.oRequestAnimationFrame||N.msRequestAnimationFrame||function(a){setTimeout(a,16)},M=Array.isArray||function(a){return a instanceof Array||\"[object Array]\"==Object.prototype.toString.call(a)},A=0,w=\"M\"+(+new Date).toString(36),z=function(a){if(null==\n",
       "a)return this.s;var b=this.s-a;this.b+=this.dur*b;this.B+=this.dur*b;this.s=a},d=function(a){if(null==a)return this.spd;this.spd=a},f=function(a){if(null==a)return this.dur;this.s=this.s*a/this.dur;this.dur=a},n=function(){delete k[this.id];this.update();a(\"mina.stop.\"+this.id,this)},u=function(){this.pdif||(delete k[this.id],this.update(),this.pdif=this.get()-this.b)},p=function(){this.pdif&&(this.b=this.get()-this.pdif,delete this.pdif,k[this.id]=this)},b=function(){var a;if(M(this.start)){a=[];\n",
       "for(var b=0,e=this.start.length;b<e;b++)a[b]=+this.start[b]+(this.end[b]-this.start[b])*this.easing(this.s)}else a=+this.start+(this.end-this.start)*this.easing(this.s);this.set(a)},q=function(){var l=0,b;for(b in k)if(k.hasOwnProperty(b)){var e=k[b],f=e.get();l++;e.s=(f-e.b)/(e.dur/e.spd);1<=e.s&&(delete k[b],e.s=1,l--,function(b){setTimeout(function(){a(\"mina.finish.\"+b.id,b)})}(e));e.update()}l&&y(q)},e=function(a,r,s,x,G,h,J){a={id:w+(A++).toString(36),start:a,end:r,b:s,s:0,dur:x-s,spd:1,get:G,\n",
       "set:h,easing:J||e.linear,status:z,speed:d,duration:f,stop:n,pause:u,resume:p,update:b};k[a.id]=a;r=0;for(var K in k)if(k.hasOwnProperty(K)&&(r++,2==r))break;1==r&&y(q);return a};e.time=Date.now||function(){return+new Date};e.getById=function(a){return k[a]||null};e.linear=function(a){return a};e.easeout=function(a){return Math.pow(a,1.7)};e.easein=function(a){return Math.pow(a,0.48)};e.easeinout=function(a){if(1==a)return 1;if(0==a)return 0;var b=0.48-a/1.04,e=Math.sqrt(0.1734+b*b);a=e-b;a=Math.pow(Math.abs(a),\n",
       "1/3)*(0>a?-1:1);b=-e-b;b=Math.pow(Math.abs(b),1/3)*(0>b?-1:1);a=a+b+0.5;return 3*(1-a)*a*a+a*a*a};e.backin=function(a){return 1==a?1:a*a*(2.70158*a-1.70158)};e.backout=function(a){if(0==a)return 0;a-=1;return a*a*(2.70158*a+1.70158)+1};e.elastic=function(a){return a==!!a?a:Math.pow(2,-10*a)*Math.sin(2*(a-0.075)*Math.PI/0.3)+1};e.bounce=function(a){a<1/2.75?a*=7.5625*a:a<2/2.75?(a-=1.5/2.75,a=7.5625*a*a+0.75):a<2.5/2.75?(a-=2.25/2.75,a=7.5625*a*a+0.9375):(a-=2.625/2.75,a=7.5625*a*a+0.984375);return a};\n",
       "return N.mina=e}(\"undefined\"==typeof k?function(){}:k),C=function(){function a(c,t){if(c){if(c.tagName)return x(c);if(y(c,\"array\")&&a.set)return a.set.apply(a,c);if(c instanceof e)return c;if(null==t)return c=G.doc.querySelector(c),x(c)}return new s(null==c?\"100%\":c,null==t?\"100%\":t)}function v(c,a){if(a){\"#text\"==c&&(c=G.doc.createTextNode(a.text||\"\"));\"string\"==typeof c&&(c=v(c));if(\"string\"==typeof a)return\"xlink:\"==a.substring(0,6)?c.getAttributeNS(m,a.substring(6)):\"xml:\"==a.substring(0,4)?c.getAttributeNS(la,\n",
       "a.substring(4)):c.getAttribute(a);for(var da in a)if(a[h](da)){var b=J(a[da]);b?\"xlink:\"==da.substring(0,6)?c.setAttributeNS(m,da.substring(6),b):\"xml:\"==da.substring(0,4)?c.setAttributeNS(la,da.substring(4),b):c.setAttribute(da,b):c.removeAttribute(da)}}else c=G.doc.createElementNS(la,c);return c}function y(c,a){a=J.prototype.toLowerCase.call(a);return\"finite\"==a?isFinite(c):\"array\"==a&&(c instanceof Array||Array.isArray&&Array.isArray(c))?!0:\"null\"==a&&null===c||a==typeof c&&null!==c||\"object\"==\n",
       "a&&c===Object(c)||$.call(c).slice(8,-1).toLowerCase()==a}function M(c){if(\"function\"==typeof c||Object(c)!==c)return c;var a=new c.constructor,b;for(b in c)c[h](b)&&(a[b]=M(c[b]));return a}function A(c,a,b){function m(){var e=Array.prototype.slice.call(arguments,0),f=e.join(\"\\u2400\"),d=m.cache=m.cache||{},l=m.count=m.count||[];if(d[h](f)){a:for(var e=l,l=f,B=0,H=e.length;B<H;B++)if(e[B]===l){e.push(e.splice(B,1)[0]);break a}return b?b(d[f]):d[f]}1E3<=l.length&&delete d[l.shift()];l.push(f);d[f]=c.apply(a,\n",
       "e);return b?b(d[f]):d[f]}return m}function w(c,a,b,m,e,f){return null==e?(c-=b,a-=m,c||a?(180*I.atan2(-a,-c)/C+540)%360:0):w(c,a,e,f)-w(b,m,e,f)}function z(c){return c%360*C/180}function d(c){var a=[];c=c.replace(/(?:^|\\s)(\\w+)\\(([^)]+)\\)/g,function(c,b,m){m=m.split(/\\s*,\\s*|\\s+/);\"rotate\"==b&&1==m.length&&m.push(0,0);\"scale\"==b&&(2<m.length?m=m.slice(0,2):2==m.length&&m.push(0,0),1==m.length&&m.push(m[0],0,0));\"skewX\"==b?a.push([\"m\",1,0,I.tan(z(m[0])),1,0,0]):\"skewY\"==b?a.push([\"m\",1,I.tan(z(m[0])),\n",
       "0,1,0,0]):a.push([b.charAt(0)].concat(m));return c});return a}function f(c,t){var b=O(c),m=new a.Matrix;if(b)for(var e=0,f=b.length;e<f;e++){var h=b[e],d=h.length,B=J(h[0]).toLowerCase(),H=h[0]!=B,l=H?m.invert():0,E;\"t\"==B&&2==d?m.translate(h[1],0):\"t\"==B&&3==d?H?(d=l.x(0,0),B=l.y(0,0),H=l.x(h[1],h[2]),l=l.y(h[1],h[2]),m.translate(H-d,l-B)):m.translate(h[1],h[2]):\"r\"==B?2==d?(E=E||t,m.rotate(h[1],E.x+E.width/2,E.y+E.height/2)):4==d&&(H?(H=l.x(h[2],h[3]),l=l.y(h[2],h[3]),m.rotate(h[1],H,l)):m.rotate(h[1],\n",
       "h[2],h[3])):\"s\"==B?2==d||3==d?(E=E||t,m.scale(h[1],h[d-1],E.x+E.width/2,E.y+E.height/2)):4==d?H?(H=l.x(h[2],h[3]),l=l.y(h[2],h[3]),m.scale(h[1],h[1],H,l)):m.scale(h[1],h[1],h[2],h[3]):5==d&&(H?(H=l.x(h[3],h[4]),l=l.y(h[3],h[4]),m.scale(h[1],h[2],H,l)):m.scale(h[1],h[2],h[3],h[4])):\"m\"==B&&7==d&&m.add(h[1],h[2],h[3],h[4],h[5],h[6])}return m}function n(c,t){if(null==t){var m=!0;t=\"linearGradient\"==c.type||\"radialGradient\"==c.type?c.node.getAttribute(\"gradientTransform\"):\"pattern\"==c.type?c.node.getAttribute(\"patternTransform\"):\n",
       "c.node.getAttribute(\"transform\");if(!t)return new a.Matrix;t=d(t)}else t=a._.rgTransform.test(t)?J(t).replace(/\\.{3}|\\u2026/g,c._.transform||aa):d(t),y(t,\"array\")&&(t=a.path?a.path.toString.call(t):J(t)),c._.transform=t;var b=f(t,c.getBBox(1));if(m)return b;c.matrix=b}function u(c){c=c.node.ownerSVGElement&&x(c.node.ownerSVGElement)||c.node.parentNode&&x(c.node.parentNode)||a.select(\"svg\")||a(0,0);var t=c.select(\"defs\"),t=null==t?!1:t.node;t||(t=r(\"defs\",c.node).node);return t}function p(c){return c.node.ownerSVGElement&&\n",
       "x(c.node.ownerSVGElement)||a.select(\"svg\")}function b(c,a,m){function b(c){if(null==c)return aa;if(c==+c)return c;v(B,{width:c});try{return B.getBBox().width}catch(a){return 0}}function h(c){if(null==c)return aa;if(c==+c)return c;v(B,{height:c});try{return B.getBBox().height}catch(a){return 0}}function e(b,B){null==a?d[b]=B(c.attr(b)||0):b==a&&(d=B(null==m?c.attr(b)||0:m))}var f=p(c).node,d={},B=f.querySelector(\".svg---mgr\");B||(B=v(\"rect\"),v(B,{x:-9E9,y:-9E9,width:10,height:10,\"class\":\"svg---mgr\",\n",
       "fill:\"none\"}),f.appendChild(B));switch(c.type){case \"rect\":e(\"rx\",b),e(\"ry\",h);case \"image\":e(\"width\",b),e(\"height\",h);case \"text\":e(\"x\",b);e(\"y\",h);break;case \"circle\":e(\"cx\",b);e(\"cy\",h);e(\"r\",b);break;case \"ellipse\":e(\"cx\",b);e(\"cy\",h);e(\"rx\",b);e(\"ry\",h);break;case \"line\":e(\"x1\",b);e(\"x2\",b);e(\"y1\",h);e(\"y2\",h);break;case \"marker\":e(\"refX\",b);e(\"markerWidth\",b);e(\"refY\",h);e(\"markerHeight\",h);break;case \"radialGradient\":e(\"fx\",b);e(\"fy\",h);break;case \"tspan\":e(\"dx\",b);e(\"dy\",h);break;default:e(a,\n",
       "b)}f.removeChild(B);return d}function q(c){y(c,\"array\")||(c=Array.prototype.slice.call(arguments,0));for(var a=0,b=0,m=this.node;this[a];)delete this[a++];for(a=0;a<c.length;a++)\"set\"==c[a].type?c[a].forEach(function(c){m.appendChild(c.node)}):m.appendChild(c[a].node);for(var h=m.childNodes,a=0;a<h.length;a++)this[b++]=x(h[a]);return this}function e(c){if(c.snap in E)return E[c.snap];var a=this.id=V(),b;try{b=c.ownerSVGElement}catch(m){}this.node=c;b&&(this.paper=new s(b));this.type=c.tagName;this.anims=\n",
       "{};this._={transform:[]};c.snap=a;E[a]=this;\"g\"==this.type&&(this.add=q);if(this.type in{g:1,mask:1,pattern:1})for(var e in s.prototype)s.prototype[h](e)&&(this[e]=s.prototype[e])}function l(c){this.node=c}function r(c,a){var b=v(c);a.appendChild(b);return x(b)}function s(c,a){var b,m,f,d=s.prototype;if(c&&\"svg\"==c.tagName){if(c.snap in E)return E[c.snap];var l=c.ownerDocument;b=new e(c);m=c.getElementsByTagName(\"desc\")[0];f=c.getElementsByTagName(\"defs\")[0];m||(m=v(\"desc\"),m.appendChild(l.createTextNode(\"Created with Snap\")),\n",
       "b.node.appendChild(m));f||(f=v(\"defs\"),b.node.appendChild(f));b.defs=f;for(var ca in d)d[h](ca)&&(b[ca]=d[ca]);b.paper=b.root=b}else b=r(\"svg\",G.doc.body),v(b.node,{height:a,version:1.1,width:c,xmlns:la});return b}function x(c){return!c||c instanceof e||c instanceof l?c:c.tagName&&\"svg\"==c.tagName.toLowerCase()?new s(c):c.tagName&&\"object\"==c.tagName.toLowerCase()&&\"image/svg+xml\"==c.type?new s(c.contentDocument.getElementsByTagName(\"svg\")[0]):new e(c)}a.version=\"0.3.0\";a.toString=function(){return\"Snap v\"+\n",
       "this.version};a._={};var G={win:N,doc:N.document};a._.glob=G;var h=\"hasOwnProperty\",J=String,K=parseFloat,U=parseInt,I=Math,P=I.max,Q=I.min,Y=I.abs,C=I.PI,aa=\"\",$=Object.prototype.toString,F=/^\\s*((#[a-f\\d]{6})|(#[a-f\\d]{3})|rgba?\\(\\s*([\\d\\.]+%?\\s*,\\s*[\\d\\.]+%?\\s*,\\s*[\\d\\.]+%?(?:\\s*,\\s*[\\d\\.]+%?)?)\\s*\\)|hsba?\\(\\s*([\\d\\.]+(?:deg|\\xb0|%)?\\s*,\\s*[\\d\\.]+%?\\s*,\\s*[\\d\\.]+(?:%?\\s*,\\s*[\\d\\.]+)?%?)\\s*\\)|hsla?\\(\\s*([\\d\\.]+(?:deg|\\xb0|%)?\\s*,\\s*[\\d\\.]+%?\\s*,\\s*[\\d\\.]+(?:%?\\s*,\\s*[\\d\\.]+)?%?)\\s*\\))\\s*$/i;a._.separator=\n",
       "RegExp(\"[,\\t\\n\\x0B\\f\\r \\u00a0\\u1680\\u180e\\u2000\\u2001\\u2002\\u2003\\u2004\\u2005\\u2006\\u2007\\u2008\\u2009\\u200a\\u202f\\u205f\\u3000\\u2028\\u2029]+\");var S=RegExp(\"[\\t\\n\\x0B\\f\\r \\u00a0\\u1680\\u180e\\u2000\\u2001\\u2002\\u2003\\u2004\\u2005\\u2006\\u2007\\u2008\\u2009\\u200a\\u202f\\u205f\\u3000\\u2028\\u2029]*,[\\t\\n\\x0B\\f\\r \\u00a0\\u1680\\u180e\\u2000\\u2001\\u2002\\u2003\\u2004\\u2005\\u2006\\u2007\\u2008\\u2009\\u200a\\u202f\\u205f\\u3000\\u2028\\u2029]*\"),X={hs:1,rg:1},W=RegExp(\"([a-z])[\\t\\n\\x0B\\f\\r \\u00a0\\u1680\\u180e\\u2000\\u2001\\u2002\\u2003\\u2004\\u2005\\u2006\\u2007\\u2008\\u2009\\u200a\\u202f\\u205f\\u3000\\u2028\\u2029,]*((-?\\\\d*\\\\.?\\\\d*(?:e[\\\\-+]?\\\\d+)?[\\t\\n\\x0B\\f\\r \\u00a0\\u1680\\u180e\\u2000\\u2001\\u2002\\u2003\\u2004\\u2005\\u2006\\u2007\\u2008\\u2009\\u200a\\u202f\\u205f\\u3000\\u2028\\u2029]*,?[\\t\\n\\x0B\\f\\r \\u00a0\\u1680\\u180e\\u2000\\u2001\\u2002\\u2003\\u2004\\u2005\\u2006\\u2007\\u2008\\u2009\\u200a\\u202f\\u205f\\u3000\\u2028\\u2029]*)+)\",\n",
       "\"ig\"),ma=RegExp(\"([rstm])[\\t\\n\\x0B\\f\\r \\u00a0\\u1680\\u180e\\u2000\\u2001\\u2002\\u2003\\u2004\\u2005\\u2006\\u2007\\u2008\\u2009\\u200a\\u202f\\u205f\\u3000\\u2028\\u2029,]*((-?\\\\d*\\\\.?\\\\d*(?:e[\\\\-+]?\\\\d+)?[\\t\\n\\x0B\\f\\r \\u00a0\\u1680\\u180e\\u2000\\u2001\\u2002\\u2003\\u2004\\u2005\\u2006\\u2007\\u2008\\u2009\\u200a\\u202f\\u205f\\u3000\\u2028\\u2029]*,?[\\t\\n\\x0B\\f\\r \\u00a0\\u1680\\u180e\\u2000\\u2001\\u2002\\u2003\\u2004\\u2005\\u2006\\u2007\\u2008\\u2009\\u200a\\u202f\\u205f\\u3000\\u2028\\u2029]*)+)\",\"ig\"),Z=RegExp(\"(-?\\\\d*\\\\.?\\\\d*(?:e[\\\\-+]?\\\\d+)?)[\\t\\n\\x0B\\f\\r \\u00a0\\u1680\\u180e\\u2000\\u2001\\u2002\\u2003\\u2004\\u2005\\u2006\\u2007\\u2008\\u2009\\u200a\\u202f\\u205f\\u3000\\u2028\\u2029]*,?[\\t\\n\\x0B\\f\\r \\u00a0\\u1680\\u180e\\u2000\\u2001\\u2002\\u2003\\u2004\\u2005\\u2006\\u2007\\u2008\\u2009\\u200a\\u202f\\u205f\\u3000\\u2028\\u2029]*\",\n",
       "\"ig\"),na=0,ba=\"S\"+(+new Date).toString(36),V=function(){return ba+(na++).toString(36)},m=\"http://www.w3.org/1999/xlink\",la=\"http://www.w3.org/2000/svg\",E={},ca=a.url=function(c){return\"url('#\"+c+\"')\"};a._.$=v;a._.id=V;a.format=function(){var c=/\\{([^\\}]+)\\}/g,a=/(?:(?:^|\\.)(.+?)(?=\\[|\\.|$|\\()|\\[('|\")(.+?)\\2\\])(\\(\\))?/g,b=function(c,b,m){var h=m;b.replace(a,function(c,a,b,m,t){a=a||m;h&&(a in h&&(h=h[a]),\"function\"==typeof h&&t&&(h=h()))});return h=(null==h||h==m?c:h)+\"\"};return function(a,m){return J(a).replace(c,\n",
       "function(c,a){return b(c,a,m)})}}();a._.clone=M;a._.cacher=A;a.rad=z;a.deg=function(c){return 180*c/C%360};a.angle=w;a.is=y;a.snapTo=function(c,a,b){b=y(b,\"finite\")?b:10;if(y(c,\"array\"))for(var m=c.length;m--;){if(Y(c[m]-a)<=b)return c[m]}else{c=+c;m=a%c;if(m<b)return a-m;if(m>c-b)return a-m+c}return a};a.getRGB=A(function(c){if(!c||(c=J(c)).indexOf(\"-\")+1)return{r:-1,g:-1,b:-1,hex:\"none\",error:1,toString:ka};if(\"none\"==c)return{r:-1,g:-1,b:-1,hex:\"none\",toString:ka};!X[h](c.toLowerCase().substring(0,\n",
       "2))&&\"#\"!=c.charAt()&&(c=T(c));if(!c)return{r:-1,g:-1,b:-1,hex:\"none\",error:1,toString:ka};var b,m,e,f,d;if(c=c.match(F)){c[2]&&(e=U(c[2].substring(5),16),m=U(c[2].substring(3,5),16),b=U(c[2].substring(1,3),16));c[3]&&(e=U((d=c[3].charAt(3))+d,16),m=U((d=c[3].charAt(2))+d,16),b=U((d=c[3].charAt(1))+d,16));c[4]&&(d=c[4].split(S),b=K(d[0]),\"%\"==d[0].slice(-1)&&(b*=2.55),m=K(d[1]),\"%\"==d[1].slice(-1)&&(m*=2.55),e=K(d[2]),\"%\"==d[2].slice(-1)&&(e*=2.55),\"rgba\"==c[1].toLowerCase().slice(0,4)&&(f=K(d[3])),\n",
       "d[3]&&\"%\"==d[3].slice(-1)&&(f/=100));if(c[5])return d=c[5].split(S),b=K(d[0]),\"%\"==d[0].slice(-1)&&(b/=100),m=K(d[1]),\"%\"==d[1].slice(-1)&&(m/=100),e=K(d[2]),\"%\"==d[2].slice(-1)&&(e/=100),\"deg\"!=d[0].slice(-3)&&\"\\u00b0\"!=d[0].slice(-1)||(b/=360),\"hsba\"==c[1].toLowerCase().slice(0,4)&&(f=K(d[3])),d[3]&&\"%\"==d[3].slice(-1)&&(f/=100),a.hsb2rgb(b,m,e,f);if(c[6])return d=c[6].split(S),b=K(d[0]),\"%\"==d[0].slice(-1)&&(b/=100),m=K(d[1]),\"%\"==d[1].slice(-1)&&(m/=100),e=K(d[2]),\"%\"==d[2].slice(-1)&&(e/=100),\n",
       "\"deg\"!=d[0].slice(-3)&&\"\\u00b0\"!=d[0].slice(-1)||(b/=360),\"hsla\"==c[1].toLowerCase().slice(0,4)&&(f=K(d[3])),d[3]&&\"%\"==d[3].slice(-1)&&(f/=100),a.hsl2rgb(b,m,e,f);b=Q(I.round(b),255);m=Q(I.round(m),255);e=Q(I.round(e),255);f=Q(P(f,0),1);c={r:b,g:m,b:e,toString:ka};c.hex=\"#\"+(16777216|e|m<<8|b<<16).toString(16).slice(1);c.opacity=y(f,\"finite\")?f:1;return c}return{r:-1,g:-1,b:-1,hex:\"none\",error:1,toString:ka}},a);a.hsb=A(function(c,b,m){return a.hsb2rgb(c,b,m).hex});a.hsl=A(function(c,b,m){return a.hsl2rgb(c,\n",
       "b,m).hex});a.rgb=A(function(c,a,b,m){if(y(m,\"finite\")){var e=I.round;return\"rgba(\"+[e(c),e(a),e(b),+m.toFixed(2)]+\")\"}return\"#\"+(16777216|b|a<<8|c<<16).toString(16).slice(1)});var T=function(c){var a=G.doc.getElementsByTagName(\"head\")[0]||G.doc.getElementsByTagName(\"svg\")[0];T=A(function(c){if(\"red\"==c.toLowerCase())return\"rgb(255, 0, 0)\";a.style.color=\"rgb(255, 0, 0)\";a.style.color=c;c=G.doc.defaultView.getComputedStyle(a,aa).getPropertyValue(\"color\");return\"rgb(255, 0, 0)\"==c?null:c});return T(c)},\n",
       "qa=function(){return\"hsb(\"+[this.h,this.s,this.b]+\")\"},ra=function(){return\"hsl(\"+[this.h,this.s,this.l]+\")\"},ka=function(){return 1==this.opacity||null==this.opacity?this.hex:\"rgba(\"+[this.r,this.g,this.b,this.opacity]+\")\"},D=function(c,b,m){null==b&&y(c,\"object\")&&\"r\"in c&&\"g\"in c&&\"b\"in c&&(m=c.b,b=c.g,c=c.r);null==b&&y(c,string)&&(m=a.getRGB(c),c=m.r,b=m.g,m=m.b);if(1<c||1<b||1<m)c/=255,b/=255,m/=255;return[c,b,m]},oa=function(c,b,m,e){c=I.round(255*c);b=I.round(255*b);m=I.round(255*m);c={r:c,\n",
       "g:b,b:m,opacity:y(e,\"finite\")?e:1,hex:a.rgb(c,b,m),toString:ka};y(e,\"finite\")&&(c.opacity=e);return c};a.color=function(c){var b;y(c,\"object\")&&\"h\"in c&&\"s\"in c&&\"b\"in c?(b=a.hsb2rgb(c),c.r=b.r,c.g=b.g,c.b=b.b,c.opacity=1,c.hex=b.hex):y(c,\"object\")&&\"h\"in c&&\"s\"in c&&\"l\"in c?(b=a.hsl2rgb(c),c.r=b.r,c.g=b.g,c.b=b.b,c.opacity=1,c.hex=b.hex):(y(c,\"string\")&&(c=a.getRGB(c)),y(c,\"object\")&&\"r\"in c&&\"g\"in c&&\"b\"in c&&!(\"error\"in c)?(b=a.rgb2hsl(c),c.h=b.h,c.s=b.s,c.l=b.l,b=a.rgb2hsb(c),c.v=b.b):(c={hex:\"none\"},\n",
       "c.r=c.g=c.b=c.h=c.s=c.v=c.l=-1,c.error=1));c.toString=ka;return c};a.hsb2rgb=function(c,a,b,m){y(c,\"object\")&&\"h\"in c&&\"s\"in c&&\"b\"in c&&(b=c.b,a=c.s,c=c.h,m=c.o);var e,h,d;c=360*c%360/60;d=b*a;a=d*(1-Y(c%2-1));b=e=h=b-d;c=~~c;b+=[d,a,0,0,a,d][c];e+=[a,d,d,a,0,0][c];h+=[0,0,a,d,d,a][c];return oa(b,e,h,m)};a.hsl2rgb=function(c,a,b,m){y(c,\"object\")&&\"h\"in c&&\"s\"in c&&\"l\"in c&&(b=c.l,a=c.s,c=c.h);if(1<c||1<a||1<b)c/=360,a/=100,b/=100;var e,h,d;c=360*c%360/60;d=2*a*(0.5>b?b:1-b);a=d*(1-Y(c%2-1));b=e=\n",
       "h=b-d/2;c=~~c;b+=[d,a,0,0,a,d][c];e+=[a,d,d,a,0,0][c];h+=[0,0,a,d,d,a][c];return oa(b,e,h,m)};a.rgb2hsb=function(c,a,b){b=D(c,a,b);c=b[0];a=b[1];b=b[2];var m,e;m=P(c,a,b);e=m-Q(c,a,b);c=((0==e?0:m==c?(a-b)/e:m==a?(b-c)/e+2:(c-a)/e+4)+360)%6*60/360;return{h:c,s:0==e?0:e/m,b:m,toString:qa}};a.rgb2hsl=function(c,a,b){b=D(c,a,b);c=b[0];a=b[1];b=b[2];var m,e,h;m=P(c,a,b);e=Q(c,a,b);h=m-e;c=((0==h?0:m==c?(a-b)/h:m==a?(b-c)/h+2:(c-a)/h+4)+360)%6*60/360;m=(m+e)/2;return{h:c,s:0==h?0:0.5>m?h/(2*m):h/(2-2*\n",
       "m),l:m,toString:ra}};a.parsePathString=function(c){if(!c)return null;var b=a.path(c);if(b.arr)return a.path.clone(b.arr);var m={a:7,c:6,o:2,h:1,l:2,m:2,r:4,q:4,s:4,t:2,v:1,u:3,z:0},e=[];y(c,\"array\")&&y(c[0],\"array\")&&(e=a.path.clone(c));e.length||J(c).replace(W,function(c,a,b){var h=[];c=a.toLowerCase();b.replace(Z,function(c,a){a&&h.push(+a)});\"m\"==c&&2<h.length&&(e.push([a].concat(h.splice(0,2))),c=\"l\",a=\"m\"==a?\"l\":\"L\");\"o\"==c&&1==h.length&&e.push([a,h[0] ]);if(\"r\"==c)e.push([a].concat(h));else for(;h.length>=\n",
       "m[c]&&(e.push([a].concat(h.splice(0,m[c]))),m[c]););});e.toString=a.path.toString;b.arr=a.path.clone(e);return e};var O=a.parseTransformString=function(c){if(!c)return null;var b=[];y(c,\"array\")&&y(c[0],\"array\")&&(b=a.path.clone(c));b.length||J(c).replace(ma,function(c,a,m){var e=[];a.toLowerCase();m.replace(Z,function(c,a){a&&e.push(+a)});b.push([a].concat(e))});b.toString=a.path.toString;return b};a._.svgTransform2string=d;a._.rgTransform=RegExp(\"^[a-z][\\t\\n\\x0B\\f\\r \\u00a0\\u1680\\u180e\\u2000\\u2001\\u2002\\u2003\\u2004\\u2005\\u2006\\u2007\\u2008\\u2009\\u200a\\u202f\\u205f\\u3000\\u2028\\u2029]*-?\\\\.?\\\\d\",\n",
       "\"i\");a._.transform2matrix=f;a._unit2px=b;a._.getSomeDefs=u;a._.getSomeSVG=p;a.select=function(c){return x(G.doc.querySelector(c))};a.selectAll=function(c){c=G.doc.querySelectorAll(c);for(var b=(a.set||Array)(),m=0;m<c.length;m++)b.push(x(c[m]));return b};setInterval(function(){for(var c in E)if(E[h](c)){var a=E[c],b=a.node;(\"svg\"!=a.type&&!b.ownerSVGElement||\"svg\"==a.type&&(!b.parentNode||\"ownerSVGElement\"in b.parentNode&&!b.ownerSVGElement))&&delete E[c]}},1E4);(function(c){function m(c){function a(c,\n",
       "b){var m=v(c.node,b);(m=(m=m&&m.match(d))&&m[2])&&\"#\"==m.charAt()&&(m=m.substring(1))&&(f[m]=(f[m]||[]).concat(function(a){var m={};m[b]=ca(a);v(c.node,m)}))}function b(c){var a=v(c.node,\"xlink:href\");a&&\"#\"==a.charAt()&&(a=a.substring(1))&&(f[a]=(f[a]||[]).concat(function(a){c.attr(\"xlink:href\",\"#\"+a)}))}var e=c.selectAll(\"*\"),h,d=/^\\s*url\\((\"|'|)(.*)\\1\\)\\s*$/;c=[];for(var f={},l=0,E=e.length;l<E;l++){h=e[l];a(h,\"fill\");a(h,\"stroke\");a(h,\"filter\");a(h,\"mask\");a(h,\"clip-path\");b(h);var t=v(h.node,\n",
       "\"id\");t&&(v(h.node,{id:h.id}),c.push({old:t,id:h.id}))}l=0;for(E=c.length;l<E;l++)if(e=f[c[l].old])for(h=0,t=e.length;h<t;h++)e[h](c[l].id)}function e(c,a,b){return function(m){m=m.slice(c,a);1==m.length&&(m=m[0]);return b?b(m):m}}function d(c){return function(){var a=c?\"<\"+this.type:\"\",b=this.node.attributes,m=this.node.childNodes;if(c)for(var e=0,h=b.length;e<h;e++)a+=\" \"+b[e].name+'=\"'+b[e].value.replace(/\"/g,'\\\\\"')+'\"';if(m.length){c&&(a+=\">\");e=0;for(h=m.length;e<h;e++)3==m[e].nodeType?a+=m[e].nodeValue:\n",
       "1==m[e].nodeType&&(a+=x(m[e]).toString());c&&(a+=\"</\"+this.type+\">\")}else c&&(a+=\"/>\");return a}}c.attr=function(c,a){if(!c)return this;if(y(c,\"string\"))if(1<arguments.length){var b={};b[c]=a;c=b}else return k(\"snap.util.getattr.\"+c,this).firstDefined();for(var m in c)c[h](m)&&k(\"snap.util.attr.\"+m,this,c[m]);return this};c.getBBox=function(c){if(!a.Matrix||!a.path)return this.node.getBBox();var b=this,m=new a.Matrix;if(b.removed)return a._.box();for(;\"use\"==b.type;)if(c||(m=m.add(b.transform().localMatrix.translate(b.attr(\"x\")||\n",
       "0,b.attr(\"y\")||0))),b.original)b=b.original;else var e=b.attr(\"xlink:href\"),b=b.original=b.node.ownerDocument.getElementById(e.substring(e.indexOf(\"#\")+1));var e=b._,h=a.path.get[b.type]||a.path.get.deflt;try{if(c)return e.bboxwt=h?a.path.getBBox(b.realPath=h(b)):a._.box(b.node.getBBox()),a._.box(e.bboxwt);b.realPath=h(b);b.matrix=b.transform().localMatrix;e.bbox=a.path.getBBox(a.path.map(b.realPath,m.add(b.matrix)));return a._.box(e.bbox)}catch(d){return a._.box()}};var f=function(){return this.string};\n",
       "c.transform=function(c){var b=this._;if(null==c){var m=this;c=new a.Matrix(this.node.getCTM());for(var e=n(this),h=[e],d=new a.Matrix,l=e.toTransformString(),b=J(e)==J(this.matrix)?J(b.transform):l;\"svg\"!=m.type&&(m=m.parent());)h.push(n(m));for(m=h.length;m--;)d.add(h[m]);return{string:b,globalMatrix:c,totalMatrix:d,localMatrix:e,diffMatrix:c.clone().add(e.invert()),global:c.toTransformString(),total:d.toTransformString(),local:l,toString:f}}c instanceof a.Matrix?this.matrix=c:n(this,c);this.node&&\n",
       "(\"linearGradient\"==this.type||\"radialGradient\"==this.type?v(this.node,{gradientTransform:this.matrix}):\"pattern\"==this.type?v(this.node,{patternTransform:this.matrix}):v(this.node,{transform:this.matrix}));return this};c.parent=function(){return x(this.node.parentNode)};c.append=c.add=function(c){if(c){if(\"set\"==c.type){var a=this;c.forEach(function(c){a.add(c)});return this}c=x(c);this.node.appendChild(c.node);c.paper=this.paper}return this};c.appendTo=function(c){c&&(c=x(c),c.append(this));return this};\n",
       "c.prepend=function(c){if(c){if(\"set\"==c.type){var a=this,b;c.forEach(function(c){b?b.after(c):a.prepend(c);b=c});return this}c=x(c);var m=c.parent();this.node.insertBefore(c.node,this.node.firstChild);this.add&&this.add();c.paper=this.paper;this.parent()&&this.parent().add();m&&m.add()}return this};c.prependTo=function(c){c=x(c);c.prepend(this);return this};c.before=function(c){if(\"set\"==c.type){var a=this;c.forEach(function(c){var b=c.parent();a.node.parentNode.insertBefore(c.node,a.node);b&&b.add()});\n",
       "this.parent().add();return this}c=x(c);var b=c.parent();this.node.parentNode.insertBefore(c.node,this.node);this.parent()&&this.parent().add();b&&b.add();c.paper=this.paper;return this};c.after=function(c){c=x(c);var a=c.parent();this.node.nextSibling?this.node.parentNode.insertBefore(c.node,this.node.nextSibling):this.node.parentNode.appendChild(c.node);this.parent()&&this.parent().add();a&&a.add();c.paper=this.paper;return this};c.insertBefore=function(c){c=x(c);var a=this.parent();c.node.parentNode.insertBefore(this.node,\n",
       "c.node);this.paper=c.paper;a&&a.add();c.parent()&&c.parent().add();return this};c.insertAfter=function(c){c=x(c);var a=this.parent();c.node.parentNode.insertBefore(this.node,c.node.nextSibling);this.paper=c.paper;a&&a.add();c.parent()&&c.parent().add();return this};c.remove=function(){var c=this.parent();this.node.parentNode&&this.node.parentNode.removeChild(this.node);delete this.paper;this.removed=!0;c&&c.add();return this};c.select=function(c){return x(this.node.querySelector(c))};c.selectAll=\n",
       "function(c){c=this.node.querySelectorAll(c);for(var b=(a.set||Array)(),m=0;m<c.length;m++)b.push(x(c[m]));return b};c.asPX=function(c,a){null==a&&(a=this.attr(c));return+b(this,c,a)};c.use=function(){var c,a=this.node.id;a||(a=this.id,v(this.node,{id:a}));c=\"linearGradient\"==this.type||\"radialGradient\"==this.type||\"pattern\"==this.type?r(this.type,this.node.parentNode):r(\"use\",this.node.parentNode);v(c.node,{\"xlink:href\":\"#\"+a});c.original=this;return c};var l=/\\S+/g;c.addClass=function(c){var a=(c||\n",
       "\"\").match(l)||[];c=this.node;var b=c.className.baseVal,m=b.match(l)||[],e,h,d;if(a.length){for(e=0;d=a[e++];)h=m.indexOf(d),~h||m.push(d);a=m.join(\" \");b!=a&&(c.className.baseVal=a)}return this};c.removeClass=function(c){var a=(c||\"\").match(l)||[];c=this.node;var b=c.className.baseVal,m=b.match(l)||[],e,h;if(m.length){for(e=0;h=a[e++];)h=m.indexOf(h),~h&&m.splice(h,1);a=m.join(\" \");b!=a&&(c.className.baseVal=a)}return this};c.hasClass=function(c){return!!~(this.node.className.baseVal.match(l)||[]).indexOf(c)};\n",
       "c.toggleClass=function(c,a){if(null!=a)return a?this.addClass(c):this.removeClass(c);var b=(c||\"\").match(l)||[],m=this.node,e=m.className.baseVal,h=e.match(l)||[],d,f,E;for(d=0;E=b[d++];)f=h.indexOf(E),~f?h.splice(f,1):h.push(E);b=h.join(\" \");e!=b&&(m.className.baseVal=b);return this};c.clone=function(){var c=x(this.node.cloneNode(!0));v(c.node,\"id\")&&v(c.node,{id:c.id});m(c);c.insertAfter(this);return c};c.toDefs=function(){u(this).appendChild(this.node);return this};c.pattern=c.toPattern=function(c,\n",
       "a,b,m){var e=r(\"pattern\",u(this));null==c&&(c=this.getBBox());y(c,\"object\")&&\"x\"in c&&(a=c.y,b=c.width,m=c.height,c=c.x);v(e.node,{x:c,y:a,width:b,height:m,patternUnits:\"userSpaceOnUse\",id:e.id,viewBox:[c,a,b,m].join(\" \")});e.node.appendChild(this.node);return e};c.marker=function(c,a,b,m,e,h){var d=r(\"marker\",u(this));null==c&&(c=this.getBBox());y(c,\"object\")&&\"x\"in c&&(a=c.y,b=c.width,m=c.height,e=c.refX||c.cx,h=c.refY||c.cy,c=c.x);v(d.node,{viewBox:[c,a,b,m].join(\" \"),markerWidth:b,markerHeight:m,\n",
       "orient:\"auto\",refX:e||0,refY:h||0,id:d.id});d.node.appendChild(this.node);return d};var E=function(c,a,b,m){\"function\"!=typeof b||b.length||(m=b,b=L.linear);this.attr=c;this.dur=a;b&&(this.easing=b);m&&(this.callback=m)};a._.Animation=E;a.animation=function(c,a,b,m){return new E(c,a,b,m)};c.inAnim=function(){var c=[],a;for(a in this.anims)this.anims[h](a)&&function(a){c.push({anim:new E(a._attrs,a.dur,a.easing,a._callback),mina:a,curStatus:a.status(),status:function(c){return a.status(c)},stop:function(){a.stop()}})}(this.anims[a]);\n",
       "return c};a.animate=function(c,a,b,m,e,h){\"function\"!=typeof e||e.length||(h=e,e=L.linear);var d=L.time();c=L(c,a,d,d+m,L.time,b,e);h&&k.once(\"mina.finish.\"+c.id,h);return c};c.stop=function(){for(var c=this.inAnim(),a=0,b=c.length;a<b;a++)c[a].stop();return this};c.animate=function(c,a,b,m){\"function\"!=typeof b||b.length||(m=b,b=L.linear);c instanceof E&&(m=c.callback,b=c.easing,a=b.dur,c=c.attr);var d=[],f=[],l={},t,ca,n,T=this,q;for(q in c)if(c[h](q)){T.equal?(n=T.equal(q,J(c[q])),t=n.from,ca=\n",
       "n.to,n=n.f):(t=+T.attr(q),ca=+c[q]);var la=y(t,\"array\")?t.length:1;l[q]=e(d.length,d.length+la,n);d=d.concat(t);f=f.concat(ca)}t=L.time();var p=L(d,f,t,t+a,L.time,function(c){var a={},b;for(b in l)l[h](b)&&(a[b]=l[b](c));T.attr(a)},b);T.anims[p.id]=p;p._attrs=c;p._callback=m;k(\"snap.animcreated.\"+T.id,p);k.once(\"mina.finish.\"+p.id,function(){delete T.anims[p.id];m&&m.call(T)});k.once(\"mina.stop.\"+p.id,function(){delete T.anims[p.id]});return T};var T={};c.data=function(c,b){var m=T[this.id]=T[this.id]||\n",
       "{};if(0==arguments.length)return k(\"snap.data.get.\"+this.id,this,m,null),m;if(1==arguments.length){if(a.is(c,\"object\")){for(var e in c)c[h](e)&&this.data(e,c[e]);return this}k(\"snap.data.get.\"+this.id,this,m[c],c);return m[c]}m[c]=b;k(\"snap.data.set.\"+this.id,this,b,c);return this};c.removeData=function(c){null==c?T[this.id]={}:T[this.id]&&delete T[this.id][c];return this};c.outerSVG=c.toString=d(1);c.innerSVG=d()})(e.prototype);a.parse=function(c){var a=G.doc.createDocumentFragment(),b=!0,m=G.doc.createElement(\"div\");\n",
       "c=J(c);c.match(/^\\s*<\\s*svg(?:\\s|>)/)||(c=\"<svg>\"+c+\"</svg>\",b=!1);m.innerHTML=c;if(c=m.getElementsByTagName(\"svg\")[0])if(b)a=c;else for(;c.firstChild;)a.appendChild(c.firstChild);m.innerHTML=aa;return new l(a)};l.prototype.select=e.prototype.select;l.prototype.selectAll=e.prototype.selectAll;a.fragment=function(){for(var c=Array.prototype.slice.call(arguments,0),b=G.doc.createDocumentFragment(),m=0,e=c.length;m<e;m++){var h=c[m];h.node&&h.node.nodeType&&b.appendChild(h.node);h.nodeType&&b.appendChild(h);\n",
       "\"string\"==typeof h&&b.appendChild(a.parse(h).node)}return new l(b)};a._.make=r;a._.wrap=x;s.prototype.el=function(c,a){var b=r(c,this.node);a&&b.attr(a);return b};k.on(\"snap.util.getattr\",function(){var c=k.nt(),c=c.substring(c.lastIndexOf(\".\")+1),a=c.replace(/[A-Z]/g,function(c){return\"-\"+c.toLowerCase()});return pa[h](a)?this.node.ownerDocument.defaultView.getComputedStyle(this.node,null).getPropertyValue(a):v(this.node,c)});var pa={\"alignment-baseline\":0,\"baseline-shift\":0,clip:0,\"clip-path\":0,\n",
       "\"clip-rule\":0,color:0,\"color-interpolation\":0,\"color-interpolation-filters\":0,\"color-profile\":0,\"color-rendering\":0,cursor:0,direction:0,display:0,\"dominant-baseline\":0,\"enable-background\":0,fill:0,\"fill-opacity\":0,\"fill-rule\":0,filter:0,\"flood-color\":0,\"flood-opacity\":0,font:0,\"font-family\":0,\"font-size\":0,\"font-size-adjust\":0,\"font-stretch\":0,\"font-style\":0,\"font-variant\":0,\"font-weight\":0,\"glyph-orientation-horizontal\":0,\"glyph-orientation-vertical\":0,\"image-rendering\":0,kerning:0,\"letter-spacing\":0,\n",
       "\"lighting-color\":0,marker:0,\"marker-end\":0,\"marker-mid\":0,\"marker-start\":0,mask:0,opacity:0,overflow:0,\"pointer-events\":0,\"shape-rendering\":0,\"stop-color\":0,\"stop-opacity\":0,stroke:0,\"stroke-dasharray\":0,\"stroke-dashoffset\":0,\"stroke-linecap\":0,\"stroke-linejoin\":0,\"stroke-miterlimit\":0,\"stroke-opacity\":0,\"stroke-width\":0,\"text-anchor\":0,\"text-decoration\":0,\"text-rendering\":0,\"unicode-bidi\":0,visibility:0,\"word-spacing\":0,\"writing-mode\":0};k.on(\"snap.util.attr\",function(c){var a=k.nt(),b={},a=a.substring(a.lastIndexOf(\".\")+\n",
       "1);b[a]=c;var m=a.replace(/-(\\w)/gi,function(c,a){return a.toUpperCase()}),a=a.replace(/[A-Z]/g,function(c){return\"-\"+c.toLowerCase()});pa[h](a)?this.node.style[m]=null==c?aa:c:v(this.node,b)});a.ajax=function(c,a,b,m){var e=new XMLHttpRequest,h=V();if(e){if(y(a,\"function\"))m=b,b=a,a=null;else if(y(a,\"object\")){var d=[],f;for(f in a)a.hasOwnProperty(f)&&d.push(encodeURIComponent(f)+\"=\"+encodeURIComponent(a[f]));a=d.join(\"&\")}e.open(a?\"POST\":\"GET\",c,!0);a&&(e.setRequestHeader(\"X-Requested-With\",\"XMLHttpRequest\"),\n",
       "e.setRequestHeader(\"Content-type\",\"application/x-www-form-urlencoded\"));b&&(k.once(\"snap.ajax.\"+h+\".0\",b),k.once(\"snap.ajax.\"+h+\".200\",b),k.once(\"snap.ajax.\"+h+\".304\",b));e.onreadystatechange=function(){4==e.readyState&&k(\"snap.ajax.\"+h+\".\"+e.status,m,e)};if(4==e.readyState)return e;e.send(a);return e}};a.load=function(c,b,m){a.ajax(c,function(c){c=a.parse(c.responseText);m?b.call(m,c):b(c)})};a.getElementByPoint=function(c,a){var b,m,e=G.doc.elementFromPoint(c,a);if(G.win.opera&&\"svg\"==e.tagName){b=\n",
       "e;m=b.getBoundingClientRect();b=b.ownerDocument;var h=b.body,d=b.documentElement;b=m.top+(g.win.pageYOffset||d.scrollTop||h.scrollTop)-(d.clientTop||h.clientTop||0);m=m.left+(g.win.pageXOffset||d.scrollLeft||h.scrollLeft)-(d.clientLeft||h.clientLeft||0);h=e.createSVGRect();h.x=c-m;h.y=a-b;h.width=h.height=1;b=e.getIntersectionList(h,null);b.length&&(e=b[b.length-1])}return e?x(e):null};a.plugin=function(c){c(a,e,s,G,l)};return G.win.Snap=a}();C.plugin(function(a,k,y,M,A){function w(a,d,f,b,q,e){null==\n",
       "d&&\"[object SVGMatrix]\"==z.call(a)?(this.a=a.a,this.b=a.b,this.c=a.c,this.d=a.d,this.e=a.e,this.f=a.f):null!=a?(this.a=+a,this.b=+d,this.c=+f,this.d=+b,this.e=+q,this.f=+e):(this.a=1,this.c=this.b=0,this.d=1,this.f=this.e=0)}var z=Object.prototype.toString,d=String,f=Math;(function(n){function k(a){return a[0]*a[0]+a[1]*a[1]}function p(a){var d=f.sqrt(k(a));a[0]&&(a[0]/=d);a[1]&&(a[1]/=d)}n.add=function(a,d,e,f,n,p){var k=[[],[],[] ],u=[[this.a,this.c,this.e],[this.b,this.d,this.f],[0,0,1] ];d=[[a,\n",
       "e,n],[d,f,p],[0,0,1] ];a&&a instanceof w&&(d=[[a.a,a.c,a.e],[a.b,a.d,a.f],[0,0,1] ]);for(a=0;3>a;a++)for(e=0;3>e;e++){for(f=n=0;3>f;f++)n+=u[a][f]*d[f][e];k[a][e]=n}this.a=k[0][0];this.b=k[1][0];this.c=k[0][1];this.d=k[1][1];this.e=k[0][2];this.f=k[1][2];return this};n.invert=function(){var a=this.a*this.d-this.b*this.c;return new w(this.d/a,-this.b/a,-this.c/a,this.a/a,(this.c*this.f-this.d*this.e)/a,(this.b*this.e-this.a*this.f)/a)};n.clone=function(){return new w(this.a,this.b,this.c,this.d,this.e,\n",
       "this.f)};n.translate=function(a,d){return this.add(1,0,0,1,a,d)};n.scale=function(a,d,e,f){null==d&&(d=a);(e||f)&&this.add(1,0,0,1,e,f);this.add(a,0,0,d,0,0);(e||f)&&this.add(1,0,0,1,-e,-f);return this};n.rotate=function(b,d,e){b=a.rad(b);d=d||0;e=e||0;var l=+f.cos(b).toFixed(9);b=+f.sin(b).toFixed(9);this.add(l,b,-b,l,d,e);return this.add(1,0,0,1,-d,-e)};n.x=function(a,d){return a*this.a+d*this.c+this.e};n.y=function(a,d){return a*this.b+d*this.d+this.f};n.get=function(a){return+this[d.fromCharCode(97+\n",
       "a)].toFixed(4)};n.toString=function(){return\"matrix(\"+[this.get(0),this.get(1),this.get(2),this.get(3),this.get(4),this.get(5)].join()+\")\"};n.offset=function(){return[this.e.toFixed(4),this.f.toFixed(4)]};n.determinant=function(){return this.a*this.d-this.b*this.c};n.split=function(){var b={};b.dx=this.e;b.dy=this.f;var d=[[this.a,this.c],[this.b,this.d] ];b.scalex=f.sqrt(k(d[0]));p(d[0]);b.shear=d[0][0]*d[1][0]+d[0][1]*d[1][1];d[1]=[d[1][0]-d[0][0]*b.shear,d[1][1]-d[0][1]*b.shear];b.scaley=f.sqrt(k(d[1]));\n",
       "p(d[1]);b.shear/=b.scaley;0>this.determinant()&&(b.scalex=-b.scalex);var e=-d[0][1],d=d[1][1];0>d?(b.rotate=a.deg(f.acos(d)),0>e&&(b.rotate=360-b.rotate)):b.rotate=a.deg(f.asin(e));b.isSimple=!+b.shear.toFixed(9)&&(b.scalex.toFixed(9)==b.scaley.toFixed(9)||!b.rotate);b.isSuperSimple=!+b.shear.toFixed(9)&&b.scalex.toFixed(9)==b.scaley.toFixed(9)&&!b.rotate;b.noRotation=!+b.shear.toFixed(9)&&!b.rotate;return b};n.toTransformString=function(a){a=a||this.split();if(+a.shear.toFixed(9))return\"m\"+[this.get(0),\n",
       "this.get(1),this.get(2),this.get(3),this.get(4),this.get(5)];a.scalex=+a.scalex.toFixed(4);a.scaley=+a.scaley.toFixed(4);a.rotate=+a.rotate.toFixed(4);return(a.dx||a.dy?\"t\"+[+a.dx.toFixed(4),+a.dy.toFixed(4)]:\"\")+(1!=a.scalex||1!=a.scaley?\"s\"+[a.scalex,a.scaley,0,0]:\"\")+(a.rotate?\"r\"+[+a.rotate.toFixed(4),0,0]:\"\")}})(w.prototype);a.Matrix=w;a.matrix=function(a,d,f,b,k,e){return new w(a,d,f,b,k,e)}});C.plugin(function(a,v,y,M,A){function w(h){return function(d){k.stop();d instanceof A&&1==d.node.childNodes.length&&\n",
       "(\"radialGradient\"==d.node.firstChild.tagName||\"linearGradient\"==d.node.firstChild.tagName||\"pattern\"==d.node.firstChild.tagName)&&(d=d.node.firstChild,b(this).appendChild(d),d=u(d));if(d instanceof v)if(\"radialGradient\"==d.type||\"linearGradient\"==d.type||\"pattern\"==d.type){d.node.id||e(d.node,{id:d.id});var f=l(d.node.id)}else f=d.attr(h);else f=a.color(d),f.error?(f=a(b(this).ownerSVGElement).gradient(d))?(f.node.id||e(f.node,{id:f.id}),f=l(f.node.id)):f=d:f=r(f);d={};d[h]=f;e(this.node,d);this.node.style[h]=\n",
       "x}}function z(a){k.stop();a==+a&&(a+=\"px\");this.node.style.fontSize=a}function d(a){var b=[];a=a.childNodes;for(var e=0,f=a.length;e<f;e++){var l=a[e];3==l.nodeType&&b.push(l.nodeValue);\"tspan\"==l.tagName&&(1==l.childNodes.length&&3==l.firstChild.nodeType?b.push(l.firstChild.nodeValue):b.push(d(l)))}return b}function f(){k.stop();return this.node.style.fontSize}var n=a._.make,u=a._.wrap,p=a.is,b=a._.getSomeDefs,q=/^url\\(#?([^)]+)\\)$/,e=a._.$,l=a.url,r=String,s=a._.separator,x=\"\";k.on(\"snap.util.attr.mask\",\n",
       "function(a){if(a instanceof v||a instanceof A){k.stop();a instanceof A&&1==a.node.childNodes.length&&(a=a.node.firstChild,b(this).appendChild(a),a=u(a));if(\"mask\"==a.type)var d=a;else d=n(\"mask\",b(this)),d.node.appendChild(a.node);!d.node.id&&e(d.node,{id:d.id});e(this.node,{mask:l(d.id)})}});(function(a){k.on(\"snap.util.attr.clip\",a);k.on(\"snap.util.attr.clip-path\",a);k.on(\"snap.util.attr.clipPath\",a)})(function(a){if(a instanceof v||a instanceof A){k.stop();if(\"clipPath\"==a.type)var d=a;else d=\n",
       "n(\"clipPath\",b(this)),d.node.appendChild(a.node),!d.node.id&&e(d.node,{id:d.id});e(this.node,{\"clip-path\":l(d.id)})}});k.on(\"snap.util.attr.fill\",w(\"fill\"));k.on(\"snap.util.attr.stroke\",w(\"stroke\"));var G=/^([lr])(?:\\(([^)]*)\\))?(.*)$/i;k.on(\"snap.util.grad.parse\",function(a){a=r(a);var b=a.match(G);if(!b)return null;a=b[1];var e=b[2],b=b[3],e=e.split(/\\s*,\\s*/).map(function(a){return+a==a?+a:a});1==e.length&&0==e[0]&&(e=[]);b=b.split(\"-\");b=b.map(function(a){a=a.split(\":\");var b={color:a[0]};a[1]&&\n",
       "(b.offset=parseFloat(a[1]));return b});return{type:a,params:e,stops:b}});k.on(\"snap.util.attr.d\",function(b){k.stop();p(b,\"array\")&&p(b[0],\"array\")&&(b=a.path.toString.call(b));b=r(b);b.match(/[ruo]/i)&&(b=a.path.toAbsolute(b));e(this.node,{d:b})})(-1);k.on(\"snap.util.attr.#text\",function(a){k.stop();a=r(a);for(a=M.doc.createTextNode(a);this.node.firstChild;)this.node.removeChild(this.node.firstChild);this.node.appendChild(a)})(-1);k.on(\"snap.util.attr.path\",function(a){k.stop();this.attr({d:a})})(-1);\n",
       "k.on(\"snap.util.attr.class\",function(a){k.stop();this.node.className.baseVal=a})(-1);k.on(\"snap.util.attr.viewBox\",function(a){a=p(a,\"object\")&&\"x\"in a?[a.x,a.y,a.width,a.height].join(\" \"):p(a,\"array\")?a.join(\" \"):a;e(this.node,{viewBox:a});k.stop()})(-1);k.on(\"snap.util.attr.transform\",function(a){this.transform(a);k.stop()})(-1);k.on(\"snap.util.attr.r\",function(a){\"rect\"==this.type&&(k.stop(),e(this.node,{rx:a,ry:a}))})(-1);k.on(\"snap.util.attr.textpath\",function(a){k.stop();if(\"text\"==this.type){var d,\n",
       "f;if(!a&&this.textPath){for(a=this.textPath;a.node.firstChild;)this.node.appendChild(a.node.firstChild);a.remove();delete this.textPath}else if(p(a,\"string\")?(d=b(this),a=u(d.parentNode).path(a),d.appendChild(a.node),d=a.id,a.attr({id:d})):(a=u(a),a instanceof v&&(d=a.attr(\"id\"),d||(d=a.id,a.attr({id:d})))),d)if(a=this.textPath,f=this.node,a)a.attr({\"xlink:href\":\"#\"+d});else{for(a=e(\"textPath\",{\"xlink:href\":\"#\"+d});f.firstChild;)a.appendChild(f.firstChild);f.appendChild(a);this.textPath=u(a)}}})(-1);\n",
       "k.on(\"snap.util.attr.text\",function(a){if(\"text\"==this.type){for(var b=this.node,d=function(a){var b=e(\"tspan\");if(p(a,\"array\"))for(var f=0;f<a.length;f++)b.appendChild(d(a[f]));else b.appendChild(M.doc.createTextNode(a));b.normalize&&b.normalize();return b};b.firstChild;)b.removeChild(b.firstChild);for(a=d(a);a.firstChild;)b.appendChild(a.firstChild)}k.stop()})(-1);k.on(\"snap.util.attr.fontSize\",z)(-1);k.on(\"snap.util.attr.font-size\",z)(-1);k.on(\"snap.util.getattr.transform\",function(){k.stop();\n",
       "return this.transform()})(-1);k.on(\"snap.util.getattr.textpath\",function(){k.stop();return this.textPath})(-1);(function(){function b(d){return function(){k.stop();var b=M.doc.defaultView.getComputedStyle(this.node,null).getPropertyValue(\"marker-\"+d);return\"none\"==b?b:a(M.doc.getElementById(b.match(q)[1]))}}function d(a){return function(b){k.stop();var d=\"marker\"+a.charAt(0).toUpperCase()+a.substring(1);if(\"\"==b||!b)this.node.style[d]=\"none\";else if(\"marker\"==b.type){var f=b.node.id;f||e(b.node,{id:b.id});\n",
       "this.node.style[d]=l(f)}}}k.on(\"snap.util.getattr.marker-end\",b(\"end\"))(-1);k.on(\"snap.util.getattr.markerEnd\",b(\"end\"))(-1);k.on(\"snap.util.getattr.marker-start\",b(\"start\"))(-1);k.on(\"snap.util.getattr.markerStart\",b(\"start\"))(-1);k.on(\"snap.util.getattr.marker-mid\",b(\"mid\"))(-1);k.on(\"snap.util.getattr.markerMid\",b(\"mid\"))(-1);k.on(\"snap.util.attr.marker-end\",d(\"end\"))(-1);k.on(\"snap.util.attr.markerEnd\",d(\"end\"))(-1);k.on(\"snap.util.attr.marker-start\",d(\"start\"))(-1);k.on(\"snap.util.attr.markerStart\",\n",
       "d(\"start\"))(-1);k.on(\"snap.util.attr.marker-mid\",d(\"mid\"))(-1);k.on(\"snap.util.attr.markerMid\",d(\"mid\"))(-1)})();k.on(\"snap.util.getattr.r\",function(){if(\"rect\"==this.type&&e(this.node,\"rx\")==e(this.node,\"ry\"))return k.stop(),e(this.node,\"rx\")})(-1);k.on(\"snap.util.getattr.text\",function(){if(\"text\"==this.type||\"tspan\"==this.type){k.stop();var a=d(this.node);return 1==a.length?a[0]:a}})(-1);k.on(\"snap.util.getattr.#text\",function(){return this.node.textContent})(-1);k.on(\"snap.util.getattr.viewBox\",\n",
       "function(){k.stop();var b=e(this.node,\"viewBox\");if(b)return b=b.split(s),a._.box(+b[0],+b[1],+b[2],+b[3])})(-1);k.on(\"snap.util.getattr.points\",function(){var a=e(this.node,\"points\");k.stop();if(a)return a.split(s)})(-1);k.on(\"snap.util.getattr.path\",function(){var a=e(this.node,\"d\");k.stop();return a})(-1);k.on(\"snap.util.getattr.class\",function(){return this.node.className.baseVal})(-1);k.on(\"snap.util.getattr.fontSize\",f)(-1);k.on(\"snap.util.getattr.font-size\",f)(-1)});C.plugin(function(a,v,y,\n",
       "M,A){function w(a){return a}function z(a){return function(b){return+b.toFixed(3)+a}}var d={\"+\":function(a,b){return a+b},\"-\":function(a,b){return a-b},\"/\":function(a,b){return a/b},\"*\":function(a,b){return a*b}},f=String,n=/[a-z]+$/i,u=/^\\s*([+\\-\\/*])\\s*=\\s*([\\d.eE+\\-]+)\\s*([^\\d\\s]+)?\\s*$/;k.on(\"snap.util.attr\",function(a){if(a=f(a).match(u)){var b=k.nt(),b=b.substring(b.lastIndexOf(\".\")+1),q=this.attr(b),e={};k.stop();var l=a[3]||\"\",r=q.match(n),s=d[a[1] ];r&&r==l?a=s(parseFloat(q),+a[2]):(q=this.asPX(b),\n",
       "a=s(this.asPX(b),this.asPX(b,a[2]+l)));isNaN(q)||isNaN(a)||(e[b]=a,this.attr(e))}})(-10);k.on(\"snap.util.equal\",function(a,b){var q=f(this.attr(a)||\"\"),e=f(b).match(u);if(e){k.stop();var l=e[3]||\"\",r=q.match(n),s=d[e[1] ];if(r&&r==l)return{from:parseFloat(q),to:s(parseFloat(q),+e[2]),f:z(r)};q=this.asPX(a);return{from:q,to:s(q,this.asPX(a,e[2]+l)),f:w}}})(-10)});C.plugin(function(a,v,y,M,A){var w=y.prototype,z=a.is;w.rect=function(a,d,k,p,b,q){var e;null==q&&(q=b);z(a,\"object\")&&\"[object Object]\"==\n",
       "a?e=a:null!=a&&(e={x:a,y:d,width:k,height:p},null!=b&&(e.rx=b,e.ry=q));return this.el(\"rect\",e)};w.circle=function(a,d,k){var p;z(a,\"object\")&&\"[object Object]\"==a?p=a:null!=a&&(p={cx:a,cy:d,r:k});return this.el(\"circle\",p)};var d=function(){function a(){this.parentNode.removeChild(this)}return function(d,k){var p=M.doc.createElement(\"img\"),b=M.doc.body;p.style.cssText=\"position:absolute;left:-9999em;top:-9999em\";p.onload=function(){k.call(p);p.onload=p.onerror=null;b.removeChild(p)};p.onerror=a;\n",
       "b.appendChild(p);p.src=d}}();w.image=function(f,n,k,p,b){var q=this.el(\"image\");if(z(f,\"object\")&&\"src\"in f)q.attr(f);else if(null!=f){var e={\"xlink:href\":f,preserveAspectRatio:\"none\"};null!=n&&null!=k&&(e.x=n,e.y=k);null!=p&&null!=b?(e.width=p,e.height=b):d(f,function(){a._.$(q.node,{width:this.offsetWidth,height:this.offsetHeight})});a._.$(q.node,e)}return q};w.ellipse=function(a,d,k,p){var b;z(a,\"object\")&&\"[object Object]\"==a?b=a:null!=a&&(b={cx:a,cy:d,rx:k,ry:p});return this.el(\"ellipse\",b)};\n",
       "w.path=function(a){var d;z(a,\"object\")&&!z(a,\"array\")?d=a:a&&(d={d:a});return this.el(\"path\",d)};w.group=w.g=function(a){var d=this.el(\"g\");1==arguments.length&&a&&!a.type?d.attr(a):arguments.length&&d.add(Array.prototype.slice.call(arguments,0));return d};w.svg=function(a,d,k,p,b,q,e,l){var r={};z(a,\"object\")&&null==d?r=a:(null!=a&&(r.x=a),null!=d&&(r.y=d),null!=k&&(r.width=k),null!=p&&(r.height=p),null!=b&&null!=q&&null!=e&&null!=l&&(r.viewBox=[b,q,e,l]));return this.el(\"svg\",r)};w.mask=function(a){var d=\n",
       "this.el(\"mask\");1==arguments.length&&a&&!a.type?d.attr(a):arguments.length&&d.add(Array.prototype.slice.call(arguments,0));return d};w.ptrn=function(a,d,k,p,b,q,e,l){if(z(a,\"object\"))var r=a;else arguments.length?(r={},null!=a&&(r.x=a),null!=d&&(r.y=d),null!=k&&(r.width=k),null!=p&&(r.height=p),null!=b&&null!=q&&null!=e&&null!=l&&(r.viewBox=[b,q,e,l])):r={patternUnits:\"userSpaceOnUse\"};return this.el(\"pattern\",r)};w.use=function(a){return null!=a?(make(\"use\",this.node),a instanceof v&&(a.attr(\"id\")||\n",
       "a.attr({id:ID()}),a=a.attr(\"id\")),this.el(\"use\",{\"xlink:href\":a})):v.prototype.use.call(this)};w.text=function(a,d,k){var p={};z(a,\"object\")?p=a:null!=a&&(p={x:a,y:d,text:k||\"\"});return this.el(\"text\",p)};w.line=function(a,d,k,p){var b={};z(a,\"object\")?b=a:null!=a&&(b={x1:a,x2:k,y1:d,y2:p});return this.el(\"line\",b)};w.polyline=function(a){1<arguments.length&&(a=Array.prototype.slice.call(arguments,0));var d={};z(a,\"object\")&&!z(a,\"array\")?d=a:null!=a&&(d={points:a});return this.el(\"polyline\",d)};\n",
       "w.polygon=function(a){1<arguments.length&&(a=Array.prototype.slice.call(arguments,0));var d={};z(a,\"object\")&&!z(a,\"array\")?d=a:null!=a&&(d={points:a});return this.el(\"polygon\",d)};(function(){function d(){return this.selectAll(\"stop\")}function n(b,d){var f=e(\"stop\"),k={offset:+d+\"%\"};b=a.color(b);k[\"stop-color\"]=b.hex;1>b.opacity&&(k[\"stop-opacity\"]=b.opacity);e(f,k);this.node.appendChild(f);return this}function u(){if(\"linearGradient\"==this.type){var b=e(this.node,\"x1\")||0,d=e(this.node,\"x2\")||\n",
       "1,f=e(this.node,\"y1\")||0,k=e(this.node,\"y2\")||0;return a._.box(b,f,math.abs(d-b),math.abs(k-f))}b=this.node.r||0;return a._.box((this.node.cx||0.5)-b,(this.node.cy||0.5)-b,2*b,2*b)}function p(a,d){function f(a,b){for(var d=(b-u)/(a-w),e=w;e<a;e++)h[e].offset=+(+u+d*(e-w)).toFixed(2);w=a;u=b}var n=k(\"snap.util.grad.parse\",null,d).firstDefined(),p;if(!n)return null;n.params.unshift(a);p=\"l\"==n.type.toLowerCase()?b.apply(0,n.params):q.apply(0,n.params);n.type!=n.type.toLowerCase()&&e(p.node,{gradientUnits:\"userSpaceOnUse\"});\n",
       "var h=n.stops,n=h.length,u=0,w=0;n--;for(var v=0;v<n;v++)\"offset\"in h[v]&&f(v,h[v].offset);h[n].offset=h[n].offset||100;f(n,h[n].offset);for(v=0;v<=n;v++){var y=h[v];p.addStop(y.color,y.offset)}return p}function b(b,k,p,q,w){b=a._.make(\"linearGradient\",b);b.stops=d;b.addStop=n;b.getBBox=u;null!=k&&e(b.node,{x1:k,y1:p,x2:q,y2:w});return b}function q(b,k,p,q,w,h){b=a._.make(\"radialGradient\",b);b.stops=d;b.addStop=n;b.getBBox=u;null!=k&&e(b.node,{cx:k,cy:p,r:q});null!=w&&null!=h&&e(b.node,{fx:w,fy:h});\n",
       "return b}var e=a._.$;w.gradient=function(a){return p(this.defs,a)};w.gradientLinear=function(a,d,e,f){return b(this.defs,a,d,e,f)};w.gradientRadial=function(a,b,d,e,f){return q(this.defs,a,b,d,e,f)};w.toString=function(){var b=this.node.ownerDocument,d=b.createDocumentFragment(),b=b.createElement(\"div\"),e=this.node.cloneNode(!0);d.appendChild(b);b.appendChild(e);a._.$(e,{xmlns:\"http://www.w3.org/2000/svg\"});b=b.innerHTML;d.removeChild(d.firstChild);return b};w.clear=function(){for(var a=this.node.firstChild,\n",
       "b;a;)b=a.nextSibling,\"defs\"!=a.tagName?a.parentNode.removeChild(a):w.clear.call({node:a}),a=b}})()});C.plugin(function(a,k,y,M){function A(a){var b=A.ps=A.ps||{};b[a]?b[a].sleep=100:b[a]={sleep:100};setTimeout(function(){for(var d in b)b[L](d)&&d!=a&&(b[d].sleep--,!b[d].sleep&&delete b[d])});return b[a]}function w(a,b,d,e){null==a&&(a=b=d=e=0);null==b&&(b=a.y,d=a.width,e=a.height,a=a.x);return{x:a,y:b,width:d,w:d,height:e,h:e,x2:a+d,y2:b+e,cx:a+d/2,cy:b+e/2,r1:F.min(d,e)/2,r2:F.max(d,e)/2,r0:F.sqrt(d*\n",
       "d+e*e)/2,path:s(a,b,d,e),vb:[a,b,d,e].join(\" \")}}function z(){return this.join(\",\").replace(N,\"$1\")}function d(a){a=C(a);a.toString=z;return a}function f(a,b,d,h,f,k,l,n,p){if(null==p)return e(a,b,d,h,f,k,l,n);if(0>p||e(a,b,d,h,f,k,l,n)<p)p=void 0;else{var q=0.5,O=1-q,s;for(s=e(a,b,d,h,f,k,l,n,O);0.01<Z(s-p);)q/=2,O+=(s<p?1:-1)*q,s=e(a,b,d,h,f,k,l,n,O);p=O}return u(a,b,d,h,f,k,l,n,p)}function n(b,d){function e(a){return+(+a).toFixed(3)}return a._.cacher(function(a,h,l){a instanceof k&&(a=a.attr(\"d\"));\n",
       "a=I(a);for(var n,p,D,q,O=\"\",s={},c=0,t=0,r=a.length;t<r;t++){D=a[t];if(\"M\"==D[0])n=+D[1],p=+D[2];else{q=f(n,p,D[1],D[2],D[3],D[4],D[5],D[6]);if(c+q>h){if(d&&!s.start){n=f(n,p,D[1],D[2],D[3],D[4],D[5],D[6],h-c);O+=[\"C\"+e(n.start.x),e(n.start.y),e(n.m.x),e(n.m.y),e(n.x),e(n.y)];if(l)return O;s.start=O;O=[\"M\"+e(n.x),e(n.y)+\"C\"+e(n.n.x),e(n.n.y),e(n.end.x),e(n.end.y),e(D[5]),e(D[6])].join();c+=q;n=+D[5];p=+D[6];continue}if(!b&&!d)return n=f(n,p,D[1],D[2],D[3],D[4],D[5],D[6],h-c)}c+=q;n=+D[5];p=+D[6]}O+=\n",
       "D.shift()+D}s.end=O;return n=b?c:d?s:u(n,p,D[0],D[1],D[2],D[3],D[4],D[5],1)},null,a._.clone)}function u(a,b,d,e,h,f,k,l,n){var p=1-n,q=ma(p,3),s=ma(p,2),c=n*n,t=c*n,r=q*a+3*s*n*d+3*p*n*n*h+t*k,q=q*b+3*s*n*e+3*p*n*n*f+t*l,s=a+2*n*(d-a)+c*(h-2*d+a),t=b+2*n*(e-b)+c*(f-2*e+b),x=d+2*n*(h-d)+c*(k-2*h+d),c=e+2*n*(f-e)+c*(l-2*f+e);a=p*a+n*d;b=p*b+n*e;h=p*h+n*k;f=p*f+n*l;l=90-180*F.atan2(s-x,t-c)/S;return{x:r,y:q,m:{x:s,y:t},n:{x:x,y:c},start:{x:a,y:b},end:{x:h,y:f},alpha:l}}function p(b,d,e,h,f,n,k,l){a.is(b,\n",
       "\"array\")||(b=[b,d,e,h,f,n,k,l]);b=U.apply(null,b);return w(b.min.x,b.min.y,b.max.x-b.min.x,b.max.y-b.min.y)}function b(a,b,d){return b>=a.x&&b<=a.x+a.width&&d>=a.y&&d<=a.y+a.height}function q(a,d){a=w(a);d=w(d);return b(d,a.x,a.y)||b(d,a.x2,a.y)||b(d,a.x,a.y2)||b(d,a.x2,a.y2)||b(a,d.x,d.y)||b(a,d.x2,d.y)||b(a,d.x,d.y2)||b(a,d.x2,d.y2)||(a.x<d.x2&&a.x>d.x||d.x<a.x2&&d.x>a.x)&&(a.y<d.y2&&a.y>d.y||d.y<a.y2&&d.y>a.y)}function e(a,b,d,e,h,f,n,k,l){null==l&&(l=1);l=(1<l?1:0>l?0:l)/2;for(var p=[-0.1252,\n",
       "0.1252,-0.3678,0.3678,-0.5873,0.5873,-0.7699,0.7699,-0.9041,0.9041,-0.9816,0.9816],q=[0.2491,0.2491,0.2335,0.2335,0.2032,0.2032,0.1601,0.1601,0.1069,0.1069,0.0472,0.0472],s=0,c=0;12>c;c++)var t=l*p[c]+l,r=t*(t*(-3*a+9*d-9*h+3*n)+6*a-12*d+6*h)-3*a+3*d,t=t*(t*(-3*b+9*e-9*f+3*k)+6*b-12*e+6*f)-3*b+3*e,s=s+q[c]*F.sqrt(r*r+t*t);return l*s}function l(a,b,d){a=I(a);b=I(b);for(var h,f,l,n,k,s,r,O,x,c,t=d?0:[],w=0,v=a.length;w<v;w++)if(x=a[w],\"M\"==x[0])h=k=x[1],f=s=x[2];else{\"C\"==x[0]?(x=[h,f].concat(x.slice(1)),\n",
       "h=x[6],f=x[7]):(x=[h,f,h,f,k,s,k,s],h=k,f=s);for(var G=0,y=b.length;G<y;G++)if(c=b[G],\"M\"==c[0])l=r=c[1],n=O=c[2];else{\"C\"==c[0]?(c=[l,n].concat(c.slice(1)),l=c[6],n=c[7]):(c=[l,n,l,n,r,O,r,O],l=r,n=O);var z;var K=x,B=c;z=d;var H=p(K),J=p(B);if(q(H,J)){for(var H=e.apply(0,K),J=e.apply(0,B),H=~~(H/8),J=~~(J/8),U=[],A=[],F={},M=z?0:[],P=0;P<H+1;P++){var C=u.apply(0,K.concat(P/H));U.push({x:C.x,y:C.y,t:P/H})}for(P=0;P<J+1;P++)C=u.apply(0,B.concat(P/J)),A.push({x:C.x,y:C.y,t:P/J});for(P=0;P<H;P++)for(K=\n",
       "0;K<J;K++){var Q=U[P],L=U[P+1],B=A[K],C=A[K+1],N=0.001>Z(L.x-Q.x)?\"y\":\"x\",S=0.001>Z(C.x-B.x)?\"y\":\"x\",R;R=Q.x;var Y=Q.y,V=L.x,ea=L.y,fa=B.x,ga=B.y,ha=C.x,ia=C.y;if(W(R,V)<X(fa,ha)||X(R,V)>W(fa,ha)||W(Y,ea)<X(ga,ia)||X(Y,ea)>W(ga,ia))R=void 0;else{var $=(R*ea-Y*V)*(fa-ha)-(R-V)*(fa*ia-ga*ha),aa=(R*ea-Y*V)*(ga-ia)-(Y-ea)*(fa*ia-ga*ha),ja=(R-V)*(ga-ia)-(Y-ea)*(fa-ha);if(ja){var $=$/ja,aa=aa/ja,ja=+$.toFixed(2),ba=+aa.toFixed(2);R=ja<+X(R,V).toFixed(2)||ja>+W(R,V).toFixed(2)||ja<+X(fa,ha).toFixed(2)||\n",
       "ja>+W(fa,ha).toFixed(2)||ba<+X(Y,ea).toFixed(2)||ba>+W(Y,ea).toFixed(2)||ba<+X(ga,ia).toFixed(2)||ba>+W(ga,ia).toFixed(2)?void 0:{x:$,y:aa}}else R=void 0}R&&F[R.x.toFixed(4)]!=R.y.toFixed(4)&&(F[R.x.toFixed(4)]=R.y.toFixed(4),Q=Q.t+Z((R[N]-Q[N])/(L[N]-Q[N]))*(L.t-Q.t),B=B.t+Z((R[S]-B[S])/(C[S]-B[S]))*(C.t-B.t),0<=Q&&1>=Q&&0<=B&&1>=B&&(z?M++:M.push({x:R.x,y:R.y,t1:Q,t2:B})))}z=M}else z=z?0:[];if(d)t+=z;else{H=0;for(J=z.length;H<J;H++)z[H].segment1=w,z[H].segment2=G,z[H].bez1=x,z[H].bez2=c;t=t.concat(z)}}}return t}\n",
       "function r(a){var b=A(a);if(b.bbox)return C(b.bbox);if(!a)return w();a=I(a);for(var d=0,e=0,h=[],f=[],l,n=0,k=a.length;n<k;n++)l=a[n],\"M\"==l[0]?(d=l[1],e=l[2],h.push(d),f.push(e)):(d=U(d,e,l[1],l[2],l[3],l[4],l[5],l[6]),h=h.concat(d.min.x,d.max.x),f=f.concat(d.min.y,d.max.y),d=l[5],e=l[6]);a=X.apply(0,h);l=X.apply(0,f);h=W.apply(0,h);f=W.apply(0,f);f=w(a,l,h-a,f-l);b.bbox=C(f);return f}function s(a,b,d,e,h){if(h)return[[\"M\",+a+ +h,b],[\"l\",d-2*h,0],[\"a\",h,h,0,0,1,h,h],[\"l\",0,e-2*h],[\"a\",h,h,0,0,1,\n",
       "-h,h],[\"l\",2*h-d,0],[\"a\",h,h,0,0,1,-h,-h],[\"l\",0,2*h-e],[\"a\",h,h,0,0,1,h,-h],[\"z\"] ];a=[[\"M\",a,b],[\"l\",d,0],[\"l\",0,e],[\"l\",-d,0],[\"z\"] ];a.toString=z;return a}function x(a,b,d,e,h){null==h&&null==e&&(e=d);a=+a;b=+b;d=+d;e=+e;if(null!=h){var f=Math.PI/180,l=a+d*Math.cos(-e*f);a+=d*Math.cos(-h*f);var n=b+d*Math.sin(-e*f);b+=d*Math.sin(-h*f);d=[[\"M\",l,n],[\"A\",d,d,0,+(180<h-e),0,a,b] ]}else d=[[\"M\",a,b],[\"m\",0,-e],[\"a\",d,e,0,1,1,0,2*e],[\"a\",d,e,0,1,1,0,-2*e],[\"z\"] ];d.toString=z;return d}function G(b){var e=\n",
       "A(b);if(e.abs)return d(e.abs);Q(b,\"array\")&&Q(b&&b[0],\"array\")||(b=a.parsePathString(b));if(!b||!b.length)return[[\"M\",0,0] ];var h=[],f=0,l=0,n=0,k=0,p=0;\"M\"==b[0][0]&&(f=+b[0][1],l=+b[0][2],n=f,k=l,p++,h[0]=[\"M\",f,l]);for(var q=3==b.length&&\"M\"==b[0][0]&&\"R\"==b[1][0].toUpperCase()&&\"Z\"==b[2][0].toUpperCase(),s,r,w=p,c=b.length;w<c;w++){h.push(s=[]);r=b[w];p=r[0];if(p!=p.toUpperCase())switch(s[0]=p.toUpperCase(),s[0]){case \"A\":s[1]=r[1];s[2]=r[2];s[3]=r[3];s[4]=r[4];s[5]=r[5];s[6]=+r[6]+f;s[7]=+r[7]+\n",
       "l;break;case \"V\":s[1]=+r[1]+l;break;case \"H\":s[1]=+r[1]+f;break;case \"R\":for(var t=[f,l].concat(r.slice(1)),u=2,v=t.length;u<v;u++)t[u]=+t[u]+f,t[++u]=+t[u]+l;h.pop();h=h.concat(P(t,q));break;case \"O\":h.pop();t=x(f,l,r[1],r[2]);t.push(t[0]);h=h.concat(t);break;case \"U\":h.pop();h=h.concat(x(f,l,r[1],r[2],r[3]));s=[\"U\"].concat(h[h.length-1].slice(-2));break;case \"M\":n=+r[1]+f,k=+r[2]+l;default:for(u=1,v=r.length;u<v;u++)s[u]=+r[u]+(u%2?f:l)}else if(\"R\"==p)t=[f,l].concat(r.slice(1)),h.pop(),h=h.concat(P(t,\n",
       "q)),s=[\"R\"].concat(r.slice(-2));else if(\"O\"==p)h.pop(),t=x(f,l,r[1],r[2]),t.push(t[0]),h=h.concat(t);else if(\"U\"==p)h.pop(),h=h.concat(x(f,l,r[1],r[2],r[3])),s=[\"U\"].concat(h[h.length-1].slice(-2));else for(t=0,u=r.length;t<u;t++)s[t]=r[t];p=p.toUpperCase();if(\"O\"!=p)switch(s[0]){case \"Z\":f=+n;l=+k;break;case \"H\":f=s[1];break;case \"V\":l=s[1];break;case \"M\":n=s[s.length-2],k=s[s.length-1];default:f=s[s.length-2],l=s[s.length-1]}}h.toString=z;e.abs=d(h);return h}function h(a,b,d,e){return[a,b,d,e,d,\n",
       "e]}function J(a,b,d,e,h,f){var l=1/3,n=2/3;return[l*a+n*d,l*b+n*e,l*h+n*d,l*f+n*e,h,f]}function K(b,d,e,h,f,l,n,k,p,s){var r=120*S/180,q=S/180*(+f||0),c=[],t,x=a._.cacher(function(a,b,c){var d=a*F.cos(c)-b*F.sin(c);a=a*F.sin(c)+b*F.cos(c);return{x:d,y:a}});if(s)v=s[0],t=s[1],l=s[2],u=s[3];else{t=x(b,d,-q);b=t.x;d=t.y;t=x(k,p,-q);k=t.x;p=t.y;F.cos(S/180*f);F.sin(S/180*f);t=(b-k)/2;v=(d-p)/2;u=t*t/(e*e)+v*v/(h*h);1<u&&(u=F.sqrt(u),e*=u,h*=u);var u=e*e,w=h*h,u=(l==n?-1:1)*F.sqrt(Z((u*w-u*v*v-w*t*t)/\n",
       "(u*v*v+w*t*t)));l=u*e*v/h+(b+k)/2;var u=u*-h*t/e+(d+p)/2,v=F.asin(((d-u)/h).toFixed(9));t=F.asin(((p-u)/h).toFixed(9));v=b<l?S-v:v;t=k<l?S-t:t;0>v&&(v=2*S+v);0>t&&(t=2*S+t);n&&v>t&&(v-=2*S);!n&&t>v&&(t-=2*S)}if(Z(t-v)>r){var c=t,w=k,G=p;t=v+r*(n&&t>v?1:-1);k=l+e*F.cos(t);p=u+h*F.sin(t);c=K(k,p,e,h,f,0,n,w,G,[t,c,l,u])}l=t-v;f=F.cos(v);r=F.sin(v);n=F.cos(t);t=F.sin(t);l=F.tan(l/4);e=4/3*e*l;l*=4/3*h;h=[b,d];b=[b+e*r,d-l*f];d=[k+e*t,p-l*n];k=[k,p];b[0]=2*h[0]-b[0];b[1]=2*h[1]-b[1];if(s)return[b,d,k].concat(c);\n",
       "c=[b,d,k].concat(c).join().split(\",\");s=[];k=0;for(p=c.length;k<p;k++)s[k]=k%2?x(c[k-1],c[k],q).y:x(c[k],c[k+1],q).x;return s}function U(a,b,d,e,h,f,l,k){for(var n=[],p=[[],[] ],s,r,c,t,q=0;2>q;++q)0==q?(r=6*a-12*d+6*h,s=-3*a+9*d-9*h+3*l,c=3*d-3*a):(r=6*b-12*e+6*f,s=-3*b+9*e-9*f+3*k,c=3*e-3*b),1E-12>Z(s)?1E-12>Z(r)||(s=-c/r,0<s&&1>s&&n.push(s)):(t=r*r-4*c*s,c=F.sqrt(t),0>t||(t=(-r+c)/(2*s),0<t&&1>t&&n.push(t),s=(-r-c)/(2*s),0<s&&1>s&&n.push(s)));for(r=q=n.length;q--;)s=n[q],c=1-s,p[0][q]=c*c*c*a+3*\n",
       "c*c*s*d+3*c*s*s*h+s*s*s*l,p[1][q]=c*c*c*b+3*c*c*s*e+3*c*s*s*f+s*s*s*k;p[0][r]=a;p[1][r]=b;p[0][r+1]=l;p[1][r+1]=k;p[0].length=p[1].length=r+2;return{min:{x:X.apply(0,p[0]),y:X.apply(0,p[1])},max:{x:W.apply(0,p[0]),y:W.apply(0,p[1])}}}function I(a,b){var e=!b&&A(a);if(!b&&e.curve)return d(e.curve);var f=G(a),l=b&&G(b),n={x:0,y:0,bx:0,by:0,X:0,Y:0,qx:null,qy:null},k={x:0,y:0,bx:0,by:0,X:0,Y:0,qx:null,qy:null},p=function(a,b,c){if(!a)return[\"C\",b.x,b.y,b.x,b.y,b.x,b.y];a[0]in{T:1,Q:1}||(b.qx=b.qy=null);\n",
       "switch(a[0]){case \"M\":b.X=a[1];b.Y=a[2];break;case \"A\":a=[\"C\"].concat(K.apply(0,[b.x,b.y].concat(a.slice(1))));break;case \"S\":\"C\"==c||\"S\"==c?(c=2*b.x-b.bx,b=2*b.y-b.by):(c=b.x,b=b.y);a=[\"C\",c,b].concat(a.slice(1));break;case \"T\":\"Q\"==c||\"T\"==c?(b.qx=2*b.x-b.qx,b.qy=2*b.y-b.qy):(b.qx=b.x,b.qy=b.y);a=[\"C\"].concat(J(b.x,b.y,b.qx,b.qy,a[1],a[2]));break;case \"Q\":b.qx=a[1];b.qy=a[2];a=[\"C\"].concat(J(b.x,b.y,a[1],a[2],a[3],a[4]));break;case \"L\":a=[\"C\"].concat(h(b.x,b.y,a[1],a[2]));break;case \"H\":a=[\"C\"].concat(h(b.x,\n",
       "b.y,a[1],b.y));break;case \"V\":a=[\"C\"].concat(h(b.x,b.y,b.x,a[1]));break;case \"Z\":a=[\"C\"].concat(h(b.x,b.y,b.X,b.Y))}return a},s=function(a,b){if(7<a[b].length){a[b].shift();for(var c=a[b];c.length;)q[b]=\"A\",l&&(u[b]=\"A\"),a.splice(b++,0,[\"C\"].concat(c.splice(0,6)));a.splice(b,1);v=W(f.length,l&&l.length||0)}},r=function(a,b,c,d,e){a&&b&&\"M\"==a[e][0]&&\"M\"!=b[e][0]&&(b.splice(e,0,[\"M\",d.x,d.y]),c.bx=0,c.by=0,c.x=a[e][1],c.y=a[e][2],v=W(f.length,l&&l.length||0))},q=[],u=[],c=\"\",t=\"\",x=0,v=W(f.length,\n",
       "l&&l.length||0);for(;x<v;x++){f[x]&&(c=f[x][0]);\"C\"!=c&&(q[x]=c,x&&(t=q[x-1]));f[x]=p(f[x],n,t);\"A\"!=q[x]&&\"C\"==c&&(q[x]=\"C\");s(f,x);l&&(l[x]&&(c=l[x][0]),\"C\"!=c&&(u[x]=c,x&&(t=u[x-1])),l[x]=p(l[x],k,t),\"A\"!=u[x]&&\"C\"==c&&(u[x]=\"C\"),s(l,x));r(f,l,n,k,x);r(l,f,k,n,x);var w=f[x],z=l&&l[x],y=w.length,U=l&&z.length;n.x=w[y-2];n.y=w[y-1];n.bx=$(w[y-4])||n.x;n.by=$(w[y-3])||n.y;k.bx=l&&($(z[U-4])||k.x);k.by=l&&($(z[U-3])||k.y);k.x=l&&z[U-2];k.y=l&&z[U-1]}l||(e.curve=d(f));return l?[f,l]:f}function P(a,\n",
       "b){for(var d=[],e=0,h=a.length;h-2*!b>e;e+=2){var f=[{x:+a[e-2],y:+a[e-1]},{x:+a[e],y:+a[e+1]},{x:+a[e+2],y:+a[e+3]},{x:+a[e+4],y:+a[e+5]}];b?e?h-4==e?f[3]={x:+a[0],y:+a[1]}:h-2==e&&(f[2]={x:+a[0],y:+a[1]},f[3]={x:+a[2],y:+a[3]}):f[0]={x:+a[h-2],y:+a[h-1]}:h-4==e?f[3]=f[2]:e||(f[0]={x:+a[e],y:+a[e+1]});d.push([\"C\",(-f[0].x+6*f[1].x+f[2].x)/6,(-f[0].y+6*f[1].y+f[2].y)/6,(f[1].x+6*f[2].x-f[3].x)/6,(f[1].y+6*f[2].y-f[3].y)/6,f[2].x,f[2].y])}return d}y=k.prototype;var Q=a.is,C=a._.clone,L=\"hasOwnProperty\",\n",
       "N=/,?([a-z]),?/gi,$=parseFloat,F=Math,S=F.PI,X=F.min,W=F.max,ma=F.pow,Z=F.abs;M=n(1);var na=n(),ba=n(0,1),V=a._unit2px;a.path=A;a.path.getTotalLength=M;a.path.getPointAtLength=na;a.path.getSubpath=function(a,b,d){if(1E-6>this.getTotalLength(a)-d)return ba(a,b).end;a=ba(a,d,1);return b?ba(a,b).end:a};y.getTotalLength=function(){if(this.node.getTotalLength)return this.node.getTotalLength()};y.getPointAtLength=function(a){return na(this.attr(\"d\"),a)};y.getSubpath=function(b,d){return a.path.getSubpath(this.attr(\"d\"),\n",
       "b,d)};a._.box=w;a.path.findDotsAtSegment=u;a.path.bezierBBox=p;a.path.isPointInsideBBox=b;a.path.isBBoxIntersect=q;a.path.intersection=function(a,b){return l(a,b)};a.path.intersectionNumber=function(a,b){return l(a,b,1)};a.path.isPointInside=function(a,d,e){var h=r(a);return b(h,d,e)&&1==l(a,[[\"M\",d,e],[\"H\",h.x2+10] ],1)%2};a.path.getBBox=r;a.path.get={path:function(a){return a.attr(\"path\")},circle:function(a){a=V(a);return x(a.cx,a.cy,a.r)},ellipse:function(a){a=V(a);return x(a.cx||0,a.cy||0,a.rx,\n",
       "a.ry)},rect:function(a){a=V(a);return s(a.x||0,a.y||0,a.width,a.height,a.rx,a.ry)},image:function(a){a=V(a);return s(a.x||0,a.y||0,a.width,a.height)},line:function(a){return\"M\"+[a.attr(\"x1\")||0,a.attr(\"y1\")||0,a.attr(\"x2\"),a.attr(\"y2\")]},polyline:function(a){return\"M\"+a.attr(\"points\")},polygon:function(a){return\"M\"+a.attr(\"points\")+\"z\"},deflt:function(a){a=a.node.getBBox();return s(a.x,a.y,a.width,a.height)}};a.path.toRelative=function(b){var e=A(b),h=String.prototype.toLowerCase;if(e.rel)return d(e.rel);\n",
       "a.is(b,\"array\")&&a.is(b&&b[0],\"array\")||(b=a.parsePathString(b));var f=[],l=0,n=0,k=0,p=0,s=0;\"M\"==b[0][0]&&(l=b[0][1],n=b[0][2],k=l,p=n,s++,f.push([\"M\",l,n]));for(var r=b.length;s<r;s++){var q=f[s]=[],x=b[s];if(x[0]!=h.call(x[0]))switch(q[0]=h.call(x[0]),q[0]){case \"a\":q[1]=x[1];q[2]=x[2];q[3]=x[3];q[4]=x[4];q[5]=x[5];q[6]=+(x[6]-l).toFixed(3);q[7]=+(x[7]-n).toFixed(3);break;case \"v\":q[1]=+(x[1]-n).toFixed(3);break;case \"m\":k=x[1],p=x[2];default:for(var c=1,t=x.length;c<t;c++)q[c]=+(x[c]-(c%2?l:\n",
       "n)).toFixed(3)}else for(f[s]=[],\"m\"==x[0]&&(k=x[1]+l,p=x[2]+n),q=0,c=x.length;q<c;q++)f[s][q]=x[q];x=f[s].length;switch(f[s][0]){case \"z\":l=k;n=p;break;case \"h\":l+=+f[s][x-1];break;case \"v\":n+=+f[s][x-1];break;default:l+=+f[s][x-2],n+=+f[s][x-1]}}f.toString=z;e.rel=d(f);return f};a.path.toAbsolute=G;a.path.toCubic=I;a.path.map=function(a,b){if(!b)return a;var d,e,h,f,l,n,k;a=I(a);h=0;for(l=a.length;h<l;h++)for(k=a[h],f=1,n=k.length;f<n;f+=2)d=b.x(k[f],k[f+1]),e=b.y(k[f],k[f+1]),k[f]=d,k[f+1]=e;return a};\n",
       "a.path.toString=z;a.path.clone=d});C.plugin(function(a,v,y,C){var A=Math.max,w=Math.min,z=function(a){this.items=[];this.bindings={};this.length=0;this.type=\"set\";if(a)for(var f=0,n=a.length;f<n;f++)a[f]&&(this[this.items.length]=this.items[this.items.length]=a[f],this.length++)};v=z.prototype;v.push=function(){for(var a,f,n=0,k=arguments.length;n<k;n++)if(a=arguments[n])f=this.items.length,this[f]=this.items[f]=a,this.length++;return this};v.pop=function(){this.length&&delete this[this.length--];\n",
       "return this.items.pop()};v.forEach=function(a,f){for(var n=0,k=this.items.length;n<k&&!1!==a.call(f,this.items[n],n);n++);return this};v.animate=function(d,f,n,u){\"function\"!=typeof n||n.length||(u=n,n=L.linear);d instanceof a._.Animation&&(u=d.callback,n=d.easing,f=n.dur,d=d.attr);var p=arguments;if(a.is(d,\"array\")&&a.is(p[p.length-1],\"array\"))var b=!0;var q,e=function(){q?this.b=q:q=this.b},l=0,r=u&&function(){l++==this.length&&u.call(this)};return this.forEach(function(a,l){k.once(\"snap.animcreated.\"+\n",
       "a.id,e);b?p[l]&&a.animate.apply(a,p[l]):a.animate(d,f,n,r)})};v.remove=function(){for(;this.length;)this.pop().remove();return this};v.bind=function(a,f,k){var u={};if(\"function\"==typeof f)this.bindings[a]=f;else{var p=k||a;this.bindings[a]=function(a){u[p]=a;f.attr(u)}}return this};v.attr=function(a){var f={},k;for(k in a)if(this.bindings[k])this.bindings[k](a[k]);else f[k]=a[k];a=0;for(k=this.items.length;a<k;a++)this.items[a].attr(f);return this};v.clear=function(){for(;this.length;)this.pop()};\n",
       "v.splice=function(a,f,k){a=0>a?A(this.length+a,0):a;f=A(0,w(this.length-a,f));var u=[],p=[],b=[],q;for(q=2;q<arguments.length;q++)b.push(arguments[q]);for(q=0;q<f;q++)p.push(this[a+q]);for(;q<this.length-a;q++)u.push(this[a+q]);var e=b.length;for(q=0;q<e+u.length;q++)this.items[a+q]=this[a+q]=q<e?b[q]:u[q-e];for(q=this.items.length=this.length-=f-e;this[q];)delete this[q++];return new z(p)};v.exclude=function(a){for(var f=0,k=this.length;f<k;f++)if(this[f]==a)return this.splice(f,1),!0;return!1};\n",
       "v.insertAfter=function(a){for(var f=this.items.length;f--;)this.items[f].insertAfter(a);return this};v.getBBox=function(){for(var a=[],f=[],k=[],u=[],p=this.items.length;p--;)if(!this.items[p].removed){var b=this.items[p].getBBox();a.push(b.x);f.push(b.y);k.push(b.x+b.width);u.push(b.y+b.height)}a=w.apply(0,a);f=w.apply(0,f);k=A.apply(0,k);u=A.apply(0,u);return{x:a,y:f,x2:k,y2:u,width:k-a,height:u-f,cx:a+(k-a)/2,cy:f+(u-f)/2}};v.clone=function(a){a=new z;for(var f=0,k=this.items.length;f<k;f++)a.push(this.items[f].clone());\n",
       "return a};v.toString=function(){return\"Snap\\u2018s set\"};v.type=\"set\";a.set=function(){var a=new z;arguments.length&&a.push.apply(a,Array.prototype.slice.call(arguments,0));return a}});C.plugin(function(a,v,y,C){function A(a){var b=a[0];switch(b.toLowerCase()){case \"t\":return[b,0,0];case \"m\":return[b,1,0,0,1,0,0];case \"r\":return 4==a.length?[b,0,a[2],a[3] ]:[b,0];case \"s\":return 5==a.length?[b,1,1,a[3],a[4] ]:3==a.length?[b,1,1]:[b,1]}}function w(b,d,f){d=q(d).replace(/\\.{3}|\\u2026/g,b);b=a.parseTransformString(b)||\n",
       "[];d=a.parseTransformString(d)||[];for(var k=Math.max(b.length,d.length),p=[],v=[],h=0,w,z,y,I;h<k;h++){y=b[h]||A(d[h]);I=d[h]||A(y);if(y[0]!=I[0]||\"r\"==y[0].toLowerCase()&&(y[2]!=I[2]||y[3]!=I[3])||\"s\"==y[0].toLowerCase()&&(y[3]!=I[3]||y[4]!=I[4])){b=a._.transform2matrix(b,f());d=a._.transform2matrix(d,f());p=[[\"m\",b.a,b.b,b.c,b.d,b.e,b.f] ];v=[[\"m\",d.a,d.b,d.c,d.d,d.e,d.f] ];break}p[h]=[];v[h]=[];w=0;for(z=Math.max(y.length,I.length);w<z;w++)w in y&&(p[h][w]=y[w]),w in I&&(v[h][w]=I[w])}return{from:u(p),\n",
       "to:u(v),f:n(p)}}function z(a){return a}function d(a){return function(b){return+b.toFixed(3)+a}}function f(b){return a.rgb(b[0],b[1],b[2])}function n(a){var b=0,d,f,k,n,h,p,q=[];d=0;for(f=a.length;d<f;d++){h=\"[\";p=['\"'+a[d][0]+'\"'];k=1;for(n=a[d].length;k<n;k++)p[k]=\"val[\"+b++ +\"]\";h+=p+\"]\";q[d]=h}return Function(\"val\",\"return Snap.path.toString.call([\"+q+\"])\")}function u(a){for(var b=[],d=0,f=a.length;d<f;d++)for(var k=1,n=a[d].length;k<n;k++)b.push(a[d][k]);return b}var p={},b=/[a-z]+$/i,q=String;\n",
       "p.stroke=p.fill=\"colour\";v.prototype.equal=function(a,b){return k(\"snap.util.equal\",this,a,b).firstDefined()};k.on(\"snap.util.equal\",function(e,k){var r,s;r=q(this.attr(e)||\"\");var x=this;if(r==+r&&k==+k)return{from:+r,to:+k,f:z};if(\"colour\"==p[e])return r=a.color(r),s=a.color(k),{from:[r.r,r.g,r.b,r.opacity],to:[s.r,s.g,s.b,s.opacity],f:f};if(\"transform\"==e||\"gradientTransform\"==e||\"patternTransform\"==e)return k instanceof a.Matrix&&(k=k.toTransformString()),a._.rgTransform.test(k)||(k=a._.svgTransform2string(k)),\n",
       "w(r,k,function(){return x.getBBox(1)});if(\"d\"==e||\"path\"==e)return r=a.path.toCubic(r,k),{from:u(r[0]),to:u(r[1]),f:n(r[0])};if(\"points\"==e)return r=q(r).split(a._.separator),s=q(k).split(a._.separator),{from:r,to:s,f:function(a){return a}};aUnit=r.match(b);s=q(k).match(b);return aUnit&&aUnit==s?{from:parseFloat(r),to:parseFloat(k),f:d(aUnit)}:{from:this.asPX(e),to:this.asPX(e,k),f:z}})});C.plugin(function(a,v,y,C){var A=v.prototype,w=\"createTouch\"in C.doc;v=\"click dblclick mousedown mousemove mouseout mouseover mouseup touchstart touchmove touchend touchcancel\".split(\" \");\n",
       "var z={mousedown:\"touchstart\",mousemove:\"touchmove\",mouseup:\"touchend\"},d=function(a,b){var d=\"y\"==a?\"scrollTop\":\"scrollLeft\",e=b&&b.node?b.node.ownerDocument:C.doc;return e[d in e.documentElement?\"documentElement\":\"body\"][d]},f=function(){this.returnValue=!1},n=function(){return this.originalEvent.preventDefault()},u=function(){this.cancelBubble=!0},p=function(){return this.originalEvent.stopPropagation()},b=function(){if(C.doc.addEventListener)return function(a,b,e,f){var k=w&&z[b]?z[b]:b,l=function(k){var l=\n",
       "d(\"y\",f),q=d(\"x\",f);if(w&&z.hasOwnProperty(b))for(var r=0,u=k.targetTouches&&k.targetTouches.length;r<u;r++)if(k.targetTouches[r].target==a||a.contains(k.targetTouches[r].target)){u=k;k=k.targetTouches[r];k.originalEvent=u;k.preventDefault=n;k.stopPropagation=p;break}return e.call(f,k,k.clientX+q,k.clientY+l)};b!==k&&a.addEventListener(b,l,!1);a.addEventListener(k,l,!1);return function(){b!==k&&a.removeEventListener(b,l,!1);a.removeEventListener(k,l,!1);return!0}};if(C.doc.attachEvent)return function(a,\n",
       "b,e,h){var k=function(a){a=a||h.node.ownerDocument.window.event;var b=d(\"y\",h),k=d(\"x\",h),k=a.clientX+k,b=a.clientY+b;a.preventDefault=a.preventDefault||f;a.stopPropagation=a.stopPropagation||u;return e.call(h,a,k,b)};a.attachEvent(\"on\"+b,k);return function(){a.detachEvent(\"on\"+b,k);return!0}}}(),q=[],e=function(a){for(var b=a.clientX,e=a.clientY,f=d(\"y\"),l=d(\"x\"),n,p=q.length;p--;){n=q[p];if(w)for(var r=a.touches&&a.touches.length,u;r--;){if(u=a.touches[r],u.identifier==n.el._drag.id||n.el.node.contains(u.target)){b=\n",
       "u.clientX;e=u.clientY;(a.originalEvent?a.originalEvent:a).preventDefault();break}}else a.preventDefault();b+=l;e+=f;k(\"snap.drag.move.\"+n.el.id,n.move_scope||n.el,b-n.el._drag.x,e-n.el._drag.y,b,e,a)}},l=function(b){a.unmousemove(e).unmouseup(l);for(var d=q.length,f;d--;)f=q[d],f.el._drag={},k(\"snap.drag.end.\"+f.el.id,f.end_scope||f.start_scope||f.move_scope||f.el,b);q=[]};for(y=v.length;y--;)(function(d){a[d]=A[d]=function(e,f){a.is(e,\"function\")&&(this.events=this.events||[],this.events.push({name:d,\n",
       "f:e,unbind:b(this.node||document,d,e,f||this)}));return this};a[\"un\"+d]=A[\"un\"+d]=function(a){for(var b=this.events||[],e=b.length;e--;)if(b[e].name==d&&(b[e].f==a||!a)){b[e].unbind();b.splice(e,1);!b.length&&delete this.events;break}return this}})(v[y]);A.hover=function(a,b,d,e){return this.mouseover(a,d).mouseout(b,e||d)};A.unhover=function(a,b){return this.unmouseover(a).unmouseout(b)};var r=[];A.drag=function(b,d,f,h,n,p){function u(r,v,w){(r.originalEvent||r).preventDefault();this._drag.x=v;\n",
       "this._drag.y=w;this._drag.id=r.identifier;!q.length&&a.mousemove(e).mouseup(l);q.push({el:this,move_scope:h,start_scope:n,end_scope:p});d&&k.on(\"snap.drag.start.\"+this.id,d);b&&k.on(\"snap.drag.move.\"+this.id,b);f&&k.on(\"snap.drag.end.\"+this.id,f);k(\"snap.drag.start.\"+this.id,n||h||this,v,w,r)}if(!arguments.length){var v;return this.drag(function(a,b){this.attr({transform:v+(v?\"T\":\"t\")+[a,b]})},function(){v=this.transform().local})}this._drag={};r.push({el:this,start:u});this.mousedown(u);return this};\n",
       "A.undrag=function(){for(var b=r.length;b--;)r[b].el==this&&(this.unmousedown(r[b].start),r.splice(b,1),k.unbind(\"snap.drag.*.\"+this.id));!r.length&&a.unmousemove(e).unmouseup(l);return this}});C.plugin(function(a,v,y,C){y=y.prototype;var A=/^\\s*url\\((.+)\\)/,w=String,z=a._.$;a.filter={};y.filter=function(d){var f=this;\"svg\"!=f.type&&(f=f.paper);d=a.parse(w(d));var k=a._.id(),u=z(\"filter\");z(u,{id:k,filterUnits:\"userSpaceOnUse\"});u.appendChild(d.node);f.defs.appendChild(u);return new v(u)};k.on(\"snap.util.getattr.filter\",\n",
       "function(){k.stop();var d=z(this.node,\"filter\");if(d)return(d=w(d).match(A))&&a.select(d[1])});k.on(\"snap.util.attr.filter\",function(d){if(d instanceof v&&\"filter\"==d.type){k.stop();var f=d.node.id;f||(z(d.node,{id:d.id}),f=d.id);z(this.node,{filter:a.url(f)})}d&&\"none\"!=d||(k.stop(),this.node.removeAttribute(\"filter\"))});a.filter.blur=function(d,f){null==d&&(d=2);return a.format('<feGaussianBlur stdDeviation=\"{def}\"/>',{def:null==f?d:[d,f]})};a.filter.blur.toString=function(){return this()};a.filter.shadow=\n",
       "function(d,f,k,u,p){\"string\"==typeof k&&(p=u=k,k=4);\"string\"!=typeof u&&(p=u,u=\"#000\");null==k&&(k=4);null==p&&(p=1);null==d&&(d=0,f=2);null==f&&(f=d);u=a.color(u||\"#000\");return a.format('<feGaussianBlur in=\"SourceAlpha\" stdDeviation=\"{blur}\"/><feOffset dx=\"{dx}\" dy=\"{dy}\" result=\"offsetblur\"/><feFlood flood-color=\"{color}\"/><feComposite in2=\"offsetblur\" operator=\"in\"/><feComponentTransfer><feFuncA type=\"linear\" slope=\"{opacity}\"/></feComponentTransfer><feMerge><feMergeNode/><feMergeNode in=\"SourceGraphic\"/></feMerge>',\n",
       "{color:u,dx:d,dy:f,blur:k,opacity:p})};a.filter.shadow.toString=function(){return this()};a.filter.grayscale=function(d){null==d&&(d=1);return a.format('<feColorMatrix type=\"matrix\" values=\"{a} {b} {c} 0 0 {d} {e} {f} 0 0 {g} {b} {h} 0 0 0 0 0 1 0\"/>',{a:0.2126+0.7874*(1-d),b:0.7152-0.7152*(1-d),c:0.0722-0.0722*(1-d),d:0.2126-0.2126*(1-d),e:0.7152+0.2848*(1-d),f:0.0722-0.0722*(1-d),g:0.2126-0.2126*(1-d),h:0.0722+0.9278*(1-d)})};a.filter.grayscale.toString=function(){return this()};a.filter.sepia=\n",
       "function(d){null==d&&(d=1);return a.format('<feColorMatrix type=\"matrix\" values=\"{a} {b} {c} 0 0 {d} {e} {f} 0 0 {g} {h} {i} 0 0 0 0 0 1 0\"/>',{a:0.393+0.607*(1-d),b:0.769-0.769*(1-d),c:0.189-0.189*(1-d),d:0.349-0.349*(1-d),e:0.686+0.314*(1-d),f:0.168-0.168*(1-d),g:0.272-0.272*(1-d),h:0.534-0.534*(1-d),i:0.131+0.869*(1-d)})};a.filter.sepia.toString=function(){return this()};a.filter.saturate=function(d){null==d&&(d=1);return a.format('<feColorMatrix type=\"saturate\" values=\"{amount}\"/>',{amount:1-\n",
       "d})};a.filter.saturate.toString=function(){return this()};a.filter.hueRotate=function(d){return a.format('<feColorMatrix type=\"hueRotate\" values=\"{angle}\"/>',{angle:d||0})};a.filter.hueRotate.toString=function(){return this()};a.filter.invert=function(d){null==d&&(d=1);return a.format('<feComponentTransfer><feFuncR type=\"table\" tableValues=\"{amount} {amount2}\"/><feFuncG type=\"table\" tableValues=\"{amount} {amount2}\"/><feFuncB type=\"table\" tableValues=\"{amount} {amount2}\"/></feComponentTransfer>',{amount:d,\n",
       "amount2:1-d})};a.filter.invert.toString=function(){return this()};a.filter.brightness=function(d){null==d&&(d=1);return a.format('<feComponentTransfer><feFuncR type=\"linear\" slope=\"{amount}\"/><feFuncG type=\"linear\" slope=\"{amount}\"/><feFuncB type=\"linear\" slope=\"{amount}\"/></feComponentTransfer>',{amount:d})};a.filter.brightness.toString=function(){return this()};a.filter.contrast=function(d){null==d&&(d=1);return a.format('<feComponentTransfer><feFuncR type=\"linear\" slope=\"{amount}\" intercept=\"{amount2}\"/><feFuncG type=\"linear\" slope=\"{amount}\" intercept=\"{amount2}\"/><feFuncB type=\"linear\" slope=\"{amount}\" intercept=\"{amount2}\"/></feComponentTransfer>',\n",
       "{amount:d,amount2:0.5-d/2})};a.filter.contrast.toString=function(){return this()}});return C});\n",
       "\n",
       "]]> </script>\n",
       "</svg>\n"
      ],
      "text/plain": [
       "Context(BBox{l,t,r,b,w,h = 0.0w,0.0h, 1.0w,1.0h, 1.0w,1.0h}, UnitBox{Float64, Float64, Float64, Float64}(-1.2, -1.2, 2.4, 2.4, 0.0mm, 0.0mm, 0.0mm, 0.0mm), nothing, nothing, nothing, List([Context(BBox{l,t,r,b,w,h = 0.0w,0.0h, 1.0w,1.0h, 1.0w,1.0h}, nothing, nothing, nothing, nothing, List([]), List([Compose.Form{Compose.LinePrimitive}(Compose.LinePrimitive[Compose.LinePrimitive{Tuple{Measure, Measure}}(Tuple{Measure, Measure}[(0.8841825461847777cx, 0.9529753533584906cy), (-0.5736978644919184cx, 0.3610411595104153cy)]), Compose.LinePrimitive{Tuple{Measure, Measure}}(Tuple{Measure, Measure}[(0.9725593895262488cx, 0.8780491373674304cy), (0.7360698287024321cx, -0.1729517495716373cy)]), Compose.LinePrimitive{Tuple{Measure, Measure}}(Tuple{Measure, Measure}[(-0.5749124606572585cx, 0.26410474052529104cy), (0.5940263605787987cx, -0.24499083986059206cy)]), Compose.LinePrimitive{Tuple{Measure, Measure}}(Tuple{Measure, Measure}[(-0.7182596407887487cx, 0.19236634260567387cy), (-0.971255677518392cx, -0.878349829736768cy)]), Compose.LinePrimitive{Tuple{Measure, Measure}}(Tuple{Measure, Measure}[(0.5930812560970018cx, -0.34258561176606384cy), (-0.8844520378683209cx, -0.952317000438143cy)])], Symbol(\"\"))]), List([Compose.Property{Compose.LineWidthPrimitive}(Compose.LineWidthPrimitive[Compose.LineWidthPrimitive(1.5mm)]), Compose.Property{Compose.FillPrimitive}(Compose.FillPrimitive[Compose.FillPrimitive(RGBA{Float64}(0.0,0.0,0.0,0.0))]), Compose.Property{Compose.StrokePrimitive}(Compose.StrokePrimitive[Compose.StrokePrimitive(RGBA{Float64}(0.8274509803921568,0.8274509803921568,0.8274509803921568,1.0))])]), 0, false, false, false, false, nothing, nothing, 0.0, Symbol(\"\")), Context(BBox{l,t,r,b,w,h = 0.0w,0.0h, 1.0w,1.0h, 1.0w,1.0h}, nothing, nothing, nothing, nothing, List([]), List([Compose.Form{Compose.LinePrimitive}(Compose.LinePrimitive[Compose.LinePrimitive{Tuple{Measure, Measure}}(Tuple{Measure, Measure}[(-0.49949832023255103cx, 0.42808165198848547cy), (-0.5736978644919184cx, 0.3610411595104153cy), (-0.47376491801788223cx, 0.36470260854289127cy)]), Compose.LinePrimitive{Tuple{Measure, Measure}}(Tuple{Measure, Measure}[(0.7233306988270434cx, -0.07376649577845502cy), (0.7360698287024321cx, -0.1729517495716373cy), (0.790066141253092cx, -0.088782882221937cy)]), Compose.LinePrimitive{Tuple{Measure, Measure}}(Tuple{Measure, Measure}[(0.4942165276306598cx, -0.2388266491704344cy), (0.5940263605787987cx, -0.24499083986059206cy), (0.5215298580796219cx, -0.17611227189212408cy)]), Compose.LinePrimitive{Tuple{Measure, Measure}}(Tuple{Measure, Measure}[(-0.9829324622732442cx, -0.7790339060498342cy), (-0.971255677518392cx, -0.878349829736768cy), (-0.916361568402808cx, -0.7947637257217682cy)]), Compose.LinePrimitive{Tuple{Measure, Measure}}(Tuple{Measure, Measure}[(-0.8106352210542055cx, -0.8848553257225586cy), (-0.8844520378683209cx, -0.952317000438143cy), (-0.7845415469032548cx, -0.948086894633384cy)])], Symbol(\"\"))]), List([Compose.Property{Compose.LineWidthPrimitive}(Compose.LineWidthPrimitive[Compose.LineWidthPrimitive(1.5mm)]), Compose.Property{Compose.StrokePrimitive}(Compose.StrokePrimitive[Compose.StrokePrimitive(RGBA{Float64}(0.8274509803921568,0.8274509803921568,0.8274509803921568,1.0))])]), 0, false, false, false, false, nothing, nothing, 0.0, Symbol(\"\")), Context(BBox{l,t,r,b,w,h = 0.0w,0.0h, 1.0w,1.0h, 1.0w,1.0h}, nothing, nothing, nothing, nothing, List([]), List([]), List([Compose.Property{Compose.FontSizePrimitive}(Compose.FontSizePrimitive[Compose.FontSizePrimitive(4.0mm)]), Compose.Property{Compose.StrokePrimitive}(Compose.StrokePrimitive[Compose.StrokePrimitive(RGBA{Float64}(0.0,0.0,0.0,0.0))]), Compose.Property{Compose.FillPrimitive}(Compose.FillPrimitive[Compose.FillPrimitive(RGBA{Float64}(0.0,0.0,0.0,1.0))])]), 0, false, false, false, false, nothing, nothing, 0.0, Symbol(\"\")), Context(BBox{l,t,r,b,w,h = 0.0w,0.0h, 1.0w,1.0h, 1.0w,1.0h}, nothing, nothing, nothing, nothing, List([]), List([Compose.Form{Compose.CirclePrimitive{Tuple{Measure, Measure}, Measure}}(Compose.CirclePrimitive{Tuple{Measure, Measure}, Measure}[Compose.CirclePrimitive{Tuple{Measure, Measure}, Measure}((1.0cx, 1.0cy), 0.05w), Compose.CirclePrimitive{Tuple{Measure, Measure}, Measure}((-0.6895153183071407cx, 0.31401651286890586cy), 0.05w), Compose.CirclePrimitive{Tuple{Measure, Measure}, Measure}((0.7086292182286809cx, -0.2949026122042069cy), 0.05w), Compose.CirclePrimitive{Tuple{Measure, Measure}, Measure}((-1.0cx, -1.0cy), 0.05w)], Symbol(\"\"))]), List([Compose.Property{Compose.LineWidthPrimitive}(Compose.LineWidthPrimitive[Compose.LineWidthPrimitive(0.0mm)]), Compose.Property{Compose.StrokePrimitive}(Compose.StrokePrimitive[Compose.StrokePrimitive(RGBA{Float64}(0.0,0.0,0.0,0.0))]), Compose.Property{Compose.FillPrimitive}(Compose.FillPrimitive[Compose.FillPrimitive(RGBA{Float64}(0.25098039215686274,0.8784313725490196,0.8156862745098039,1.0))])]), 0, false, false, false, false, nothing, nothing, 0.0, Symbol(\"\")), Context(BBox{l,t,r,b,w,h = 0.0w,0.0h, 1.0w,1.0h, 1.0w,1.0h}, nothing, nothing, nothing, nothing, List([]), List([Compose.Form{Compose.TextPrimitive{Tuple{Measures.Length{:cx, Float64}, Measures.Length{:cy, Float64}}, Rotation{Tuple{Measures.Length{:w, Float64}, Measures.Length{:h, Float64}}}, Tuple{Measures.AbsoluteLength, Measures.AbsoluteLength}}}(Compose.TextPrimitive{Tuple{Measures.Length{:cx, Float64}, Measures.Length{:cy, Float64}}, Rotation{Tuple{Measures.Length{:w, Float64}, Measures.Length{:h, Float64}}}, Tuple{Measures.AbsoluteLength, Measures.AbsoluteLength}}[Compose.TextPrimitive{Tuple{Measures.Length{:cx, Float64}, Measures.Length{:cy, Float64}}, Rotation{Tuple{Measures.Length{:w, Float64}, Measures.Length{:h, Float64}}}, Tuple{Measures.AbsoluteLength, Measures.AbsoluteLength}}((1.0cx, 1.0cy), \"1\", Compose.HCenter(), Compose.VCenter(), Rotation{Tuple{Measures.Length{:w, Float64}, Measures.Length{:h, Float64}}}(0.0, (0.5w, 0.5h)), (0.0mm, 0.0mm)), Compose.TextPrimitive{Tuple{Measures.Length{:cx, Float64}, Measures.Length{:cy, Float64}}, Rotation{Tuple{Measures.Length{:w, Float64}, Measures.Length{:h, Float64}}}, Tuple{Measures.AbsoluteLength, Measures.AbsoluteLength}}((-0.6895153183071407cx, 0.31401651286890586cy), \"2\", Compose.HCenter(), Compose.VCenter(), Rotation{Tuple{Measures.Length{:w, Float64}, Measures.Length{:h, Float64}}}(0.0, (0.5w, 0.5h)), (0.0mm, 0.0mm)), Compose.TextPrimitive{Tuple{Measures.Length{:cx, Float64}, Measures.Length{:cy, Float64}}, Rotation{Tuple{Measures.Length{:w, Float64}, Measures.Length{:h, Float64}}}, Tuple{Measures.AbsoluteLength, Measures.AbsoluteLength}}((0.7086292182286809cx, -0.2949026122042069cy), \"3\", Compose.HCenter(), Compose.VCenter(), Rotation{Tuple{Measures.Length{:w, Float64}, Measures.Length{:h, Float64}}}(0.0, (0.5w, 0.5h)), (0.0mm, 0.0mm)), Compose.TextPrimitive{Tuple{Measures.Length{:cx, Float64}, Measures.Length{:cy, Float64}}, Rotation{Tuple{Measures.Length{:w, Float64}, Measures.Length{:h, Float64}}}, Tuple{Measures.AbsoluteLength, Measures.AbsoluteLength}}((-1.0cx, -1.0cy), \"4\", Compose.HCenter(), Compose.VCenter(), Rotation{Tuple{Measures.Length{:w, Float64}, Measures.Length{:h, Float64}}}(0.0, (0.5w, 0.5h)), (0.0mm, 0.0mm))], Symbol(\"\"))]), List([Compose.Property{Compose.FontSizePrimitive}(Compose.FontSizePrimitive[Compose.FontSizePrimitive(4.0mm)]), Compose.Property{Compose.StrokePrimitive}(Compose.StrokePrimitive[Compose.StrokePrimitive(RGBA{Float64}(0.0,0.0,0.0,0.0))]), Compose.Property{Compose.FillPrimitive}(Compose.FillPrimitive[Compose.FillPrimitive(RGBA{Float64}(0.0,0.0,0.0,1.0))])]), 0, false, false, false, false, nothing, nothing, 0.0, Symbol(\"\"))]), List([]), List([]), 0, false, false, false, false, nothing, nothing, 0.0, Symbol(\"\"))"
      ]
     },
     "execution_count": 27,
     "metadata": {},
     "output_type": "execute_result"
    }
   ],
   "source": [
    "G2 = DiGraph(4) # graph with 4 vertices\n",
    "Graphs.add_edge!(G2, 1, 2)\n",
    "Graphs.add_edge!(G2, 1, 3)\n",
    "Graphs.add_edge!(G2, 2, 4)\n",
    "Graphs.add_edge!(G2, 3, 4)\n",
    "Graphs.add_edge!(G2, 2, 3)\n",
    "paths = [[1,2,4], [1,3,4], [1,2,3,4]]\n",
    "linkparams2 = [(0.1, 0.0), (0.0, 15.0), (0.0, 5.0), (0.0, 15.0), (0.1, 0.0)];\n",
    "nodelabel = 1:nv(G2)\n",
    "gplot(G2, nodelabel=nodelabel)"
   ]
  },
  {
   "cell_type": "markdown",
   "metadata": {
    "nbpresent": {
     "id": "15468295-1d8d-4194-8ef9-bf1613665865"
    },
    "slideshow": {
     "slide_type": "slide"
    }
   },
   "source": [
    "## Run the model again\n",
    "\n",
    "I have condensed all the above code into a module ```code/CG.jl```:"
   ]
  },
  {
   "cell_type": "code",
   "execution_count": 28,
   "metadata": {},
   "outputs": [
    {
     "data": {
      "text/plain": [
       "Main.CG"
      ]
     },
     "execution_count": 28,
     "metadata": {},
     "output_type": "execute_result"
    }
   ],
   "source": [
    "include(\"code/CG.jl\")"
   ]
  },
  {
   "cell_type": "code",
   "execution_count": 29,
   "metadata": {
    "nbpresent": {
     "id": "78573215-b036-43d2-a43a-c430c232d8bd"
    }
   },
   "outputs": [],
   "source": [
    "data2, p3, p4 = CG.run(G=G2, link_parameters = linkparams2);"
   ]
  },
  {
   "cell_type": "markdown",
   "metadata": {
    "nbpresent": {
     "id": "f3902cee-1ee2-4f02-bbf6-e223e213a07d"
    },
    "slideshow": {
     "slide_type": "slide"
    }
   },
   "source": [
    "## Path flows including the bridge\n",
    "\n",
    "Let's plot the number of users of each path"
   ]
  },
  {
   "cell_type": "code",
   "execution_count": 30,
   "metadata": {
    "nbpresent": {
     "id": "4a3ac46b-c89b-402c-8166-c529096c8a78"
    }
   },
   "outputs": [
    {
     "data": {
      "image/svg+xml": [
       "<?xml version=\"1.0\" encoding=\"utf-8\"?>\n",
       "<svg xmlns=\"http://www.w3.org/2000/svg\" xmlns:xlink=\"http://www.w3.org/1999/xlink\" width=\"600\" height=\"400\" viewBox=\"0 0 2400 1600\">\n",
       "<defs>\n",
       "  <clipPath id=\"clip470\">\n",
       "    <rect x=\"0\" y=\"0\" width=\"2400\" height=\"1600\"/>\n",
       "  </clipPath>\n",
       "</defs>\n",
       "<path clip-path=\"url(#clip470)\" d=\"\n",
       "M0 1600 L2400 1600 L2400 0 L0 0  Z\n",
       "  \" fill=\"#ffffff\" fill-rule=\"evenodd\" fill-opacity=\"1\"/>\n",
       "<defs>\n",
       "  <clipPath id=\"clip471\">\n",
       "    <rect x=\"480\" y=\"0\" width=\"1681\" height=\"1600\"/>\n",
       "  </clipPath>\n",
       "</defs>\n",
       "<path clip-path=\"url(#clip470)\" d=\"\n",
       "M232.389 1423.18 L2352.76 1423.18 L2352.76 47.2441 L232.389 47.2441  Z\n",
       "  \" fill=\"#ffffff\" fill-rule=\"evenodd\" fill-opacity=\"1\"/>\n",
       "<defs>\n",
       "  <clipPath id=\"clip472\">\n",
       "    <rect x=\"232\" y=\"47\" width=\"2121\" height=\"1377\"/>\n",
       "  </clipPath>\n",
       "</defs>\n",
       "<polyline clip-path=\"url(#clip472)\" style=\"stroke:#000000; stroke-linecap:butt; stroke-linejoin:round; stroke-width:2; stroke-opacity:0.1; fill:none\" points=\"\n",
       "  292.4,1423.18 292.4,47.2441 \n",
       "  \"/>\n",
       "<polyline clip-path=\"url(#clip472)\" style=\"stroke:#000000; stroke-linecap:butt; stroke-linejoin:round; stroke-width:2; stroke-opacity:0.1; fill:none\" points=\"\n",
       "  792.486,1423.18 792.486,47.2441 \n",
       "  \"/>\n",
       "<polyline clip-path=\"url(#clip472)\" style=\"stroke:#000000; stroke-linecap:butt; stroke-linejoin:round; stroke-width:2; stroke-opacity:0.1; fill:none\" points=\"\n",
       "  1292.57,1423.18 1292.57,47.2441 \n",
       "  \"/>\n",
       "<polyline clip-path=\"url(#clip472)\" style=\"stroke:#000000; stroke-linecap:butt; stroke-linejoin:round; stroke-width:2; stroke-opacity:0.1; fill:none\" points=\"\n",
       "  1792.66,1423.18 1792.66,47.2441 \n",
       "  \"/>\n",
       "<polyline clip-path=\"url(#clip472)\" style=\"stroke:#000000; stroke-linecap:butt; stroke-linejoin:round; stroke-width:2; stroke-opacity:0.1; fill:none\" points=\"\n",
       "  2292.75,1423.18 2292.75,47.2441 \n",
       "  \"/>\n",
       "<polyline clip-path=\"url(#clip470)\" style=\"stroke:#000000; stroke-linecap:butt; stroke-linejoin:round; stroke-width:4; stroke-opacity:1; fill:none\" points=\"\n",
       "  232.389,1423.18 2352.76,1423.18 \n",
       "  \"/>\n",
       "<polyline clip-path=\"url(#clip470)\" style=\"stroke:#000000; stroke-linecap:butt; stroke-linejoin:round; stroke-width:4; stroke-opacity:1; fill:none\" points=\"\n",
       "  292.4,1423.18 292.4,1404.28 \n",
       "  \"/>\n",
       "<polyline clip-path=\"url(#clip470)\" style=\"stroke:#000000; stroke-linecap:butt; stroke-linejoin:round; stroke-width:4; stroke-opacity:1; fill:none\" points=\"\n",
       "  792.486,1423.18 792.486,1404.28 \n",
       "  \"/>\n",
       "<polyline clip-path=\"url(#clip470)\" style=\"stroke:#000000; stroke-linecap:butt; stroke-linejoin:round; stroke-width:4; stroke-opacity:1; fill:none\" points=\"\n",
       "  1292.57,1423.18 1292.57,1404.28 \n",
       "  \"/>\n",
       "<polyline clip-path=\"url(#clip470)\" style=\"stroke:#000000; stroke-linecap:butt; stroke-linejoin:round; stroke-width:4; stroke-opacity:1; fill:none\" points=\"\n",
       "  1792.66,1423.18 1792.66,1404.28 \n",
       "  \"/>\n",
       "<polyline clip-path=\"url(#clip470)\" style=\"stroke:#000000; stroke-linecap:butt; stroke-linejoin:round; stroke-width:4; stroke-opacity:1; fill:none\" points=\"\n",
       "  2292.75,1423.18 2292.75,1404.28 \n",
       "  \"/>\n",
       "<path clip-path=\"url(#clip470)\" d=\"M292.4 1454.1 Q288.789 1454.1 286.96 1457.66 Q285.154 1461.2 285.154 1468.33 Q285.154 1475.44 286.96 1479.01 Q288.789 1482.55 292.4 1482.55 Q296.034 1482.55 297.84 1479.01 Q299.668 1475.44 299.668 1468.33 Q299.668 1461.2 297.84 1457.66 Q296.034 1454.1 292.4 1454.1 M292.4 1450.39 Q298.21 1450.39 301.265 1455 Q304.344 1459.58 304.344 1468.33 Q304.344 1477.06 301.265 1481.67 Q298.21 1486.25 292.4 1486.25 Q286.59 1486.25 283.511 1481.67 Q280.455 1477.06 280.455 1468.33 Q280.455 1459.58 283.511 1455 Q286.59 1450.39 292.4 1450.39 Z\" fill=\"#000000\" fill-rule=\"evenodd\" fill-opacity=\"1\" /><path clip-path=\"url(#clip470)\" d=\"M771.757 1481.64 L788.076 1481.64 L788.076 1485.58 L766.132 1485.58 L766.132 1481.64 Q768.794 1478.89 773.377 1474.26 Q777.984 1469.61 779.164 1468.27 Q781.41 1465.74 782.289 1464.01 Q783.192 1462.25 783.192 1460.56 Q783.192 1457.8 781.248 1456.07 Q779.327 1454.33 776.225 1454.33 Q774.026 1454.33 771.572 1455.09 Q769.141 1455.86 766.364 1457.41 L766.364 1452.69 Q769.188 1451.55 771.641 1450.97 Q774.095 1450.39 776.132 1450.39 Q781.502 1450.39 784.697 1453.08 Q787.891 1455.77 787.891 1460.26 Q787.891 1462.39 787.081 1464.31 Q786.294 1466.2 784.188 1468.8 Q783.609 1469.47 780.507 1472.69 Q777.405 1475.88 771.757 1481.64 Z\" fill=\"#000000\" fill-rule=\"evenodd\" fill-opacity=\"1\" /><path clip-path=\"url(#clip470)\" d=\"M797.938 1451.02 L816.294 1451.02 L816.294 1454.96 L802.22 1454.96 L802.22 1463.43 Q803.238 1463.08 804.257 1462.92 Q805.275 1462.73 806.294 1462.73 Q812.081 1462.73 815.461 1465.9 Q818.84 1469.08 818.84 1474.49 Q818.84 1480.07 815.368 1483.17 Q811.896 1486.25 805.576 1486.25 Q803.4 1486.25 801.132 1485.88 Q798.887 1485.51 796.479 1484.77 L796.479 1480.07 Q798.563 1481.2 800.785 1481.76 Q803.007 1482.32 805.484 1482.32 Q809.488 1482.32 811.826 1480.21 Q814.164 1478.1 814.164 1474.49 Q814.164 1470.88 811.826 1468.77 Q809.488 1466.67 805.484 1466.67 Q803.609 1466.67 801.734 1467.08 Q799.882 1467.5 797.938 1468.38 L797.938 1451.02 Z\" fill=\"#000000\" fill-rule=\"evenodd\" fill-opacity=\"1\" /><path clip-path=\"url(#clip470)\" d=\"M1267.27 1451.02 L1285.63 1451.02 L1285.63 1454.96 L1271.55 1454.96 L1271.55 1463.43 Q1272.57 1463.08 1273.59 1462.92 Q1274.61 1462.73 1275.63 1462.73 Q1281.42 1462.73 1284.79 1465.9 Q1288.17 1469.08 1288.17 1474.49 Q1288.17 1480.07 1284.7 1483.17 Q1281.23 1486.25 1274.91 1486.25 Q1272.73 1486.25 1270.47 1485.88 Q1268.22 1485.51 1265.81 1484.77 L1265.81 1480.07 Q1267.9 1481.2 1270.12 1481.76 Q1272.34 1482.32 1274.82 1482.32 Q1278.82 1482.32 1281.16 1480.21 Q1283.5 1478.1 1283.5 1474.49 Q1283.5 1470.88 1281.16 1468.77 Q1278.82 1466.67 1274.82 1466.67 Q1272.94 1466.67 1271.07 1467.08 Q1269.22 1467.5 1267.27 1468.38 L1267.27 1451.02 Z\" fill=\"#000000\" fill-rule=\"evenodd\" fill-opacity=\"1\" /><path clip-path=\"url(#clip470)\" d=\"M1307.39 1454.1 Q1303.78 1454.1 1301.95 1457.66 Q1300.14 1461.2 1300.14 1468.33 Q1300.14 1475.44 1301.95 1479.01 Q1303.78 1482.55 1307.39 1482.55 Q1311.02 1482.55 1312.83 1479.01 Q1314.66 1475.44 1314.66 1468.33 Q1314.66 1461.2 1312.83 1457.66 Q1311.02 1454.1 1307.39 1454.1 M1307.39 1450.39 Q1313.2 1450.39 1316.25 1455 Q1319.33 1459.58 1319.33 1468.33 Q1319.33 1477.06 1316.25 1481.67 Q1313.2 1486.25 1307.39 1486.25 Q1301.58 1486.25 1298.5 1481.67 Q1295.44 1477.06 1295.44 1468.33 Q1295.44 1459.58 1298.5 1455 Q1301.58 1450.39 1307.39 1450.39 Z\" fill=\"#000000\" fill-rule=\"evenodd\" fill-opacity=\"1\" /><path clip-path=\"url(#clip470)\" d=\"M1766.51 1451.02 L1788.74 1451.02 L1788.74 1453.01 L1776.19 1485.58 L1771.31 1485.58 L1783.11 1454.96 L1766.51 1454.96 L1766.51 1451.02 Z\" fill=\"#000000\" fill-rule=\"evenodd\" fill-opacity=\"1\" /><path clip-path=\"url(#clip470)\" d=\"M1797.9 1451.02 L1816.26 1451.02 L1816.26 1454.96 L1802.18 1454.96 L1802.18 1463.43 Q1803.2 1463.08 1804.22 1462.92 Q1805.24 1462.73 1806.26 1462.73 Q1812.05 1462.73 1815.43 1465.9 Q1818.8 1469.08 1818.8 1474.49 Q1818.8 1480.07 1815.33 1483.17 Q1811.86 1486.25 1805.54 1486.25 Q1803.37 1486.25 1801.1 1485.88 Q1798.85 1485.51 1796.44 1484.77 L1796.44 1480.07 Q1798.53 1481.2 1800.75 1481.76 Q1802.97 1482.32 1805.45 1482.32 Q1809.45 1482.32 1811.79 1480.21 Q1814.13 1478.1 1814.13 1474.49 Q1814.13 1470.88 1811.79 1468.77 Q1809.45 1466.67 1805.45 1466.67 Q1803.57 1466.67 1801.7 1467.08 Q1799.85 1467.5 1797.9 1468.38 L1797.9 1451.02 Z\" fill=\"#000000\" fill-rule=\"evenodd\" fill-opacity=\"1\" /><path clip-path=\"url(#clip470)\" d=\"M2252.35 1481.64 L2259.99 1481.64 L2259.99 1455.28 L2251.68 1456.95 L2251.68 1452.69 L2259.94 1451.02 L2264.62 1451.02 L2264.62 1481.64 L2272.26 1481.64 L2272.26 1485.58 L2252.35 1485.58 L2252.35 1481.64 Z\" fill=\"#000000\" fill-rule=\"evenodd\" fill-opacity=\"1\" /><path clip-path=\"url(#clip470)\" d=\"M2291.7 1454.1 Q2288.09 1454.1 2286.26 1457.66 Q2284.46 1461.2 2284.46 1468.33 Q2284.46 1475.44 2286.26 1479.01 Q2288.09 1482.55 2291.7 1482.55 Q2295.34 1482.55 2297.14 1479.01 Q2298.97 1475.44 2298.97 1468.33 Q2298.97 1461.2 2297.14 1457.66 Q2295.34 1454.1 2291.7 1454.1 M2291.7 1450.39 Q2297.51 1450.39 2300.57 1455 Q2303.65 1459.58 2303.65 1468.33 Q2303.65 1477.06 2300.57 1481.67 Q2297.51 1486.25 2291.7 1486.25 Q2285.89 1486.25 2282.82 1481.67 Q2279.76 1477.06 2279.76 1468.33 Q2279.76 1459.58 2282.82 1455 Q2285.89 1450.39 2291.7 1450.39 Z\" fill=\"#000000\" fill-rule=\"evenodd\" fill-opacity=\"1\" /><path clip-path=\"url(#clip470)\" d=\"M2321.87 1454.1 Q2318.25 1454.1 2316.43 1457.66 Q2314.62 1461.2 2314.62 1468.33 Q2314.62 1475.44 2316.43 1479.01 Q2318.25 1482.55 2321.87 1482.55 Q2325.5 1482.55 2327.31 1479.01 Q2329.13 1475.44 2329.13 1468.33 Q2329.13 1461.2 2327.31 1457.66 Q2325.5 1454.1 2321.87 1454.1 M2321.87 1450.39 Q2327.68 1450.39 2330.73 1455 Q2333.81 1459.58 2333.81 1468.33 Q2333.81 1477.06 2330.73 1481.67 Q2327.68 1486.25 2321.87 1486.25 Q2316.06 1486.25 2312.98 1481.67 Q2309.92 1477.06 2309.92 1468.33 Q2309.92 1459.58 2312.98 1455 Q2316.06 1450.39 2321.87 1450.39 Z\" fill=\"#000000\" fill-rule=\"evenodd\" fill-opacity=\"1\" /><path clip-path=\"url(#clip470)\" d=\"M1235.71 1522.08 L1235.71 1528.35 Q1232.05 1526.6 1228.8 1525.74 Q1225.56 1524.88 1222.53 1524.88 Q1217.28 1524.88 1214.42 1526.92 Q1211.58 1528.96 1211.58 1532.71 Q1211.58 1535.87 1213.46 1537.49 Q1215.37 1539.08 1220.66 1540.07 L1224.54 1540.86 Q1231.73 1542.23 1235.14 1545.7 Q1238.58 1549.14 1238.58 1554.93 Q1238.58 1561.84 1233.93 1565.4 Q1229.31 1568.97 1220.37 1568.97 Q1217 1568.97 1213.18 1568.2 Q1209.39 1567.44 1205.31 1565.94 L1205.31 1559.32 Q1209.23 1561.52 1212.99 1562.63 Q1216.74 1563.75 1220.37 1563.75 Q1225.88 1563.75 1228.87 1561.58 Q1231.86 1559.42 1231.86 1555.41 Q1231.86 1551.91 1229.7 1549.93 Q1227.56 1547.96 1222.66 1546.97 L1218.75 1546.21 Q1211.55 1544.78 1208.34 1541.72 Q1205.12 1538.67 1205.12 1533.22 Q1205.12 1526.92 1209.55 1523.29 Q1214 1519.66 1221.8 1519.66 Q1225.14 1519.66 1228.61 1520.27 Q1232.08 1520.87 1235.71 1522.08 Z\" fill=\"#000000\" fill-rule=\"evenodd\" fill-opacity=\"1\" /><path clip-path=\"url(#clip470)\" d=\"M1254.14 1522.27 L1254.14 1532.4 L1266.2 1532.4 L1266.2 1536.95 L1254.14 1536.95 L1254.14 1556.3 Q1254.14 1560.66 1255.32 1561.9 Q1256.53 1563.14 1260.19 1563.14 L1266.2 1563.14 L1266.2 1568.04 L1260.19 1568.04 Q1253.41 1568.04 1250.83 1565.53 Q1248.25 1562.98 1248.25 1556.3 L1248.25 1536.95 L1243.95 1536.95 L1243.95 1532.4 L1248.25 1532.4 L1248.25 1522.27 L1254.14 1522.27 Z\" fill=\"#000000\" fill-rule=\"evenodd\" fill-opacity=\"1\" /><path clip-path=\"url(#clip470)\" d=\"M1304.4 1548.76 L1304.4 1551.62 L1277.47 1551.62 Q1277.85 1557.67 1281.1 1560.85 Q1284.38 1564 1290.2 1564 Q1293.58 1564 1296.73 1563.17 Q1299.91 1562.35 1303.03 1560.69 L1303.03 1566.23 Q1299.88 1567.57 1296.57 1568.27 Q1293.26 1568.97 1289.85 1568.97 Q1281.32 1568.97 1276.32 1564 Q1271.36 1559.04 1271.36 1550.57 Q1271.36 1541.82 1276.07 1536.69 Q1280.81 1531.54 1288.83 1531.54 Q1296.03 1531.54 1300.2 1536.18 Q1304.4 1540.8 1304.4 1548.76 M1298.54 1547.04 Q1298.48 1542.23 1295.84 1539.37 Q1293.23 1536.5 1288.9 1536.5 Q1283.99 1536.5 1281.03 1539.27 Q1278.11 1542.04 1277.66 1547.07 L1298.54 1547.04 Z\" fill=\"#000000\" fill-rule=\"evenodd\" fill-opacity=\"1\" /><path clip-path=\"url(#clip470)\" d=\"M1319.67 1562.7 L1319.67 1581.6 L1313.79 1581.6 L1313.79 1532.4 L1319.67 1532.4 L1319.67 1537.81 Q1321.52 1534.62 1324.32 1533.1 Q1327.15 1531.54 1331.07 1531.54 Q1337.56 1531.54 1341.6 1536.69 Q1345.68 1541.85 1345.68 1550.25 Q1345.68 1558.65 1341.6 1563.81 Q1337.56 1568.97 1331.07 1568.97 Q1327.15 1568.97 1324.32 1567.44 Q1321.52 1565.88 1319.67 1562.7 M1339.6 1550.25 Q1339.6 1543.79 1336.93 1540.13 Q1334.28 1536.44 1329.64 1536.44 Q1324.99 1536.44 1322.32 1540.13 Q1319.67 1543.79 1319.67 1550.25 Q1319.67 1556.71 1322.32 1560.4 Q1324.99 1564.07 1329.64 1564.07 Q1334.28 1564.07 1336.93 1560.4 Q1339.6 1556.71 1339.6 1550.25 Z\" fill=\"#000000\" fill-rule=\"evenodd\" fill-opacity=\"1\" /><path clip-path=\"url(#clip470)\" d=\"M1378.11 1533.45 L1378.11 1538.98 Q1375.63 1537.71 1372.96 1537.07 Q1370.28 1536.44 1367.42 1536.44 Q1363.06 1536.44 1360.86 1537.77 Q1358.7 1539.11 1358.7 1541.79 Q1358.7 1543.82 1360.26 1545 Q1361.82 1546.15 1366.53 1547.2 L1368.53 1547.64 Q1374.77 1548.98 1377.38 1551.43 Q1380.02 1553.85 1380.02 1558.21 Q1380.02 1563.17 1376.07 1566.07 Q1372.16 1568.97 1365.28 1568.97 Q1362.42 1568.97 1359.3 1568.39 Q1356.21 1567.85 1352.78 1566.74 L1352.78 1560.69 Q1356.02 1562.38 1359.17 1563.24 Q1362.32 1564.07 1365.41 1564.07 Q1369.55 1564.07 1371.78 1562.66 Q1374.01 1561.23 1374.01 1558.65 Q1374.01 1556.27 1372.38 1554.99 Q1370.79 1553.72 1365.35 1552.54 L1363.31 1552.07 Q1357.87 1550.92 1355.45 1548.56 Q1353.03 1546.18 1353.03 1542.04 Q1353.03 1537.01 1356.6 1534.27 Q1360.16 1531.54 1366.72 1531.54 Q1369.96 1531.54 1372.83 1532.01 Q1375.69 1532.49 1378.11 1533.45 Z\" fill=\"#000000\" fill-rule=\"evenodd\" fill-opacity=\"1\" /><polyline clip-path=\"url(#clip472)\" style=\"stroke:#000000; stroke-linecap:butt; stroke-linejoin:round; stroke-width:2; stroke-opacity:0.1; fill:none\" points=\"\n",
       "  232.389,1202.79 2352.76,1202.79 \n",
       "  \"/>\n",
       "<polyline clip-path=\"url(#clip472)\" style=\"stroke:#000000; stroke-linecap:butt; stroke-linejoin:round; stroke-width:2; stroke-opacity:0.1; fill:none\" points=\"\n",
       "  232.389,923.639 2352.76,923.639 \n",
       "  \"/>\n",
       "<polyline clip-path=\"url(#clip472)\" style=\"stroke:#000000; stroke-linecap:butt; stroke-linejoin:round; stroke-width:2; stroke-opacity:0.1; fill:none\" points=\"\n",
       "  232.389,644.488 2352.76,644.488 \n",
       "  \"/>\n",
       "<polyline clip-path=\"url(#clip472)\" style=\"stroke:#000000; stroke-linecap:butt; stroke-linejoin:round; stroke-width:2; stroke-opacity:0.1; fill:none\" points=\"\n",
       "  232.389,365.337 2352.76,365.337 \n",
       "  \"/>\n",
       "<polyline clip-path=\"url(#clip472)\" style=\"stroke:#000000; stroke-linecap:butt; stroke-linejoin:round; stroke-width:2; stroke-opacity:0.1; fill:none\" points=\"\n",
       "  232.389,86.1857 2352.76,86.1857 \n",
       "  \"/>\n",
       "<polyline clip-path=\"url(#clip470)\" style=\"stroke:#000000; stroke-linecap:butt; stroke-linejoin:round; stroke-width:4; stroke-opacity:1; fill:none\" points=\"\n",
       "  232.389,1423.18 232.389,47.2441 \n",
       "  \"/>\n",
       "<polyline clip-path=\"url(#clip470)\" style=\"stroke:#000000; stroke-linecap:butt; stroke-linejoin:round; stroke-width:4; stroke-opacity:1; fill:none\" points=\"\n",
       "  232.389,1202.79 251.287,1202.79 \n",
       "  \"/>\n",
       "<polyline clip-path=\"url(#clip470)\" style=\"stroke:#000000; stroke-linecap:butt; stroke-linejoin:round; stroke-width:4; stroke-opacity:1; fill:none\" points=\"\n",
       "  232.389,923.639 251.287,923.639 \n",
       "  \"/>\n",
       "<polyline clip-path=\"url(#clip470)\" style=\"stroke:#000000; stroke-linecap:butt; stroke-linejoin:round; stroke-width:4; stroke-opacity:1; fill:none\" points=\"\n",
       "  232.389,644.488 251.287,644.488 \n",
       "  \"/>\n",
       "<polyline clip-path=\"url(#clip470)\" style=\"stroke:#000000; stroke-linecap:butt; stroke-linejoin:round; stroke-width:4; stroke-opacity:1; fill:none\" points=\"\n",
       "  232.389,365.337 251.287,365.337 \n",
       "  \"/>\n",
       "<polyline clip-path=\"url(#clip470)\" style=\"stroke:#000000; stroke-linecap:butt; stroke-linejoin:round; stroke-width:4; stroke-opacity:1; fill:none\" points=\"\n",
       "  232.389,86.1857 251.287,86.1857 \n",
       "  \"/>\n",
       "<path clip-path=\"url(#clip470)\" d=\"M148.311 1216.13 L164.63 1216.13 L164.63 1220.07 L142.686 1220.07 L142.686 1216.13 Q145.348 1213.38 149.931 1208.75 Q154.538 1204.1 155.718 1202.76 Q157.964 1200.23 158.843 1198.5 Q159.746 1196.74 159.746 1195.05 Q159.746 1192.29 157.802 1190.56 Q155.88 1188.82 152.778 1188.82 Q150.579 1188.82 148.126 1189.58 Q145.695 1190.35 142.917 1191.9 L142.917 1187.18 Q145.741 1186.04 148.195 1185.46 Q150.649 1184.89 152.686 1184.89 Q158.056 1184.89 161.251 1187.57 Q164.445 1190.26 164.445 1194.75 Q164.445 1196.88 163.635 1198.8 Q162.848 1200.7 160.741 1203.29 Q160.163 1203.96 157.061 1207.18 Q153.959 1210.37 148.311 1216.13 Z\" fill=\"#000000\" fill-rule=\"evenodd\" fill-opacity=\"1\" /><path clip-path=\"url(#clip470)\" d=\"M184.445 1188.59 Q180.834 1188.59 179.005 1192.15 Q177.2 1195.7 177.2 1202.82 Q177.2 1209.93 179.005 1213.5 Q180.834 1217.04 184.445 1217.04 Q188.079 1217.04 189.885 1213.5 Q191.713 1209.93 191.713 1202.82 Q191.713 1195.7 189.885 1192.15 Q188.079 1188.59 184.445 1188.59 M184.445 1184.89 Q190.255 1184.89 193.311 1189.49 Q196.389 1194.07 196.389 1202.82 Q196.389 1211.55 193.311 1216.16 Q190.255 1220.74 184.445 1220.74 Q178.635 1220.74 175.556 1216.16 Q172.501 1211.55 172.501 1202.82 Q172.501 1194.07 175.556 1189.49 Q178.635 1184.89 184.445 1184.89 Z\" fill=\"#000000\" fill-rule=\"evenodd\" fill-opacity=\"1\" /><path clip-path=\"url(#clip470)\" d=\"M157.13 910.433 L145.325 928.882 L157.13 928.882 L157.13 910.433 M155.903 906.359 L161.783 906.359 L161.783 928.882 L166.714 928.882 L166.714 932.771 L161.783 932.771 L161.783 940.919 L157.13 940.919 L157.13 932.771 L141.529 932.771 L141.529 928.257 L155.903 906.359 Z\" fill=\"#000000\" fill-rule=\"evenodd\" fill-opacity=\"1\" /><path clip-path=\"url(#clip470)\" d=\"M184.445 909.438 Q180.834 909.438 179.005 913.002 Q177.2 916.544 177.2 923.674 Q177.2 930.78 179.005 934.345 Q180.834 937.887 184.445 937.887 Q188.079 937.887 189.885 934.345 Q191.713 930.78 191.713 923.674 Q191.713 916.544 189.885 913.002 Q188.079 909.438 184.445 909.438 M184.445 905.734 Q190.255 905.734 193.311 910.34 Q196.389 914.924 196.389 923.674 Q196.389 932.4 193.311 937.007 Q190.255 941.59 184.445 941.59 Q178.635 941.59 175.556 937.007 Q172.501 932.4 172.501 923.674 Q172.501 914.924 175.556 910.34 Q178.635 905.734 184.445 905.734 Z\" fill=\"#000000\" fill-rule=\"evenodd\" fill-opacity=\"1\" /><path clip-path=\"url(#clip470)\" d=\"M154.862 642.624 Q151.714 642.624 149.862 644.777 Q148.033 646.93 148.033 650.68 Q148.033 654.407 149.862 656.583 Q151.714 658.735 154.862 658.735 Q158.01 658.735 159.839 656.583 Q161.69 654.407 161.69 650.68 Q161.69 646.93 159.839 644.777 Q158.01 642.624 154.862 642.624 M164.144 627.972 L164.144 632.231 Q162.385 631.398 160.579 630.958 Q158.797 630.518 157.038 630.518 Q152.408 630.518 149.954 633.643 Q147.524 636.768 147.177 643.087 Q148.542 641.074 150.603 640.009 Q152.663 638.921 155.14 638.921 Q160.348 638.921 163.357 642.092 Q166.39 645.24 166.39 650.68 Q166.39 656.004 163.241 659.222 Q160.093 662.439 154.862 662.439 Q148.866 662.439 145.695 657.856 Q142.524 653.249 142.524 644.523 Q142.524 636.328 146.413 631.467 Q150.302 626.583 156.853 626.583 Q158.612 626.583 160.394 626.93 Q162.2 627.277 164.144 627.972 Z\" fill=\"#000000\" fill-rule=\"evenodd\" fill-opacity=\"1\" /><path clip-path=\"url(#clip470)\" d=\"M184.445 630.287 Q180.834 630.287 179.005 633.851 Q177.2 637.393 177.2 644.523 Q177.2 651.629 179.005 655.194 Q180.834 658.735 184.445 658.735 Q188.079 658.735 189.885 655.194 Q191.713 651.629 191.713 644.523 Q191.713 637.393 189.885 633.851 Q188.079 630.287 184.445 630.287 M184.445 626.583 Q190.255 626.583 193.311 631.189 Q196.389 635.773 196.389 644.523 Q196.389 653.249 193.311 657.856 Q190.255 662.439 184.445 662.439 Q178.635 662.439 175.556 657.856 Q172.501 653.249 172.501 644.523 Q172.501 635.773 175.556 631.189 Q178.635 626.583 184.445 626.583 Z\" fill=\"#000000\" fill-rule=\"evenodd\" fill-opacity=\"1\" /><path clip-path=\"url(#clip470)\" d=\"M154.283 366.205 Q150.95 366.205 149.028 367.987 Q147.13 369.77 147.13 372.895 Q147.13 376.02 149.028 377.802 Q150.95 379.584 154.283 379.584 Q157.616 379.584 159.538 377.802 Q161.459 375.996 161.459 372.895 Q161.459 369.77 159.538 367.987 Q157.64 366.205 154.283 366.205 M149.607 364.214 Q146.598 363.473 144.908 361.413 Q143.241 359.353 143.241 356.39 Q143.241 352.247 146.181 349.839 Q149.144 347.432 154.283 347.432 Q159.445 347.432 162.385 349.839 Q165.325 352.247 165.325 356.39 Q165.325 359.353 163.635 361.413 Q161.968 363.473 158.982 364.214 Q162.362 365.001 164.237 367.293 Q166.135 369.584 166.135 372.895 Q166.135 377.918 163.056 380.603 Q160.001 383.288 154.283 383.288 Q148.566 383.288 145.487 380.603 Q142.431 377.918 142.431 372.895 Q142.431 369.584 144.329 367.293 Q146.228 365.001 149.607 364.214 M147.894 356.83 Q147.894 359.515 149.561 361.02 Q151.251 362.524 154.283 362.524 Q157.292 362.524 158.982 361.02 Q160.695 359.515 160.695 356.83 Q160.695 354.145 158.982 352.64 Q157.292 351.135 154.283 351.135 Q151.251 351.135 149.561 352.64 Q147.894 354.145 147.894 356.83 Z\" fill=\"#000000\" fill-rule=\"evenodd\" fill-opacity=\"1\" /><path clip-path=\"url(#clip470)\" d=\"M184.445 351.135 Q180.834 351.135 179.005 354.7 Q177.2 358.242 177.2 365.371 Q177.2 372.478 179.005 376.043 Q180.834 379.584 184.445 379.584 Q188.079 379.584 189.885 376.043 Q191.713 372.478 191.713 365.371 Q191.713 358.242 189.885 354.7 Q188.079 351.135 184.445 351.135 M184.445 347.432 Q190.255 347.432 193.311 352.038 Q196.389 356.622 196.389 365.371 Q196.389 374.098 193.311 378.705 Q190.255 383.288 184.445 383.288 Q178.635 383.288 175.556 378.705 Q172.501 374.098 172.501 365.371 Q172.501 356.622 175.556 352.038 Q178.635 347.432 184.445 347.432 Z\" fill=\"#000000\" fill-rule=\"evenodd\" fill-opacity=\"1\" /><path clip-path=\"url(#clip470)\" d=\"M114.931 99.5305 L122.57 99.5305 L122.57 73.1649 L114.26 74.8316 L114.26 70.5723 L122.524 68.9057 L127.2 68.9057 L127.2 99.5305 L134.839 99.5305 L134.839 103.466 L114.931 103.466 L114.931 99.5305 Z\" fill=\"#000000\" fill-rule=\"evenodd\" fill-opacity=\"1\" /><path clip-path=\"url(#clip470)\" d=\"M154.283 71.9844 Q150.672 71.9844 148.843 75.5492 Q147.038 79.0908 147.038 86.2204 Q147.038 93.3268 148.843 96.8916 Q150.672 100.433 154.283 100.433 Q157.917 100.433 159.723 96.8916 Q161.552 93.3268 161.552 86.2204 Q161.552 79.0908 159.723 75.5492 Q157.917 71.9844 154.283 71.9844 M154.283 68.2807 Q160.093 68.2807 163.149 72.8871 Q166.227 77.4704 166.227 86.2204 Q166.227 94.9472 163.149 99.5537 Q160.093 104.137 154.283 104.137 Q148.473 104.137 145.394 99.5537 Q142.339 94.9472 142.339 86.2204 Q142.339 77.4704 145.394 72.8871 Q148.473 68.2807 154.283 68.2807 Z\" fill=\"#000000\" fill-rule=\"evenodd\" fill-opacity=\"1\" /><path clip-path=\"url(#clip470)\" d=\"M184.445 71.9844 Q180.834 71.9844 179.005 75.5492 Q177.2 79.0908 177.2 86.2204 Q177.2 93.3268 179.005 96.8916 Q180.834 100.433 184.445 100.433 Q188.079 100.433 189.885 96.8916 Q191.713 93.3268 191.713 86.2204 Q191.713 79.0908 189.885 75.5492 Q188.079 71.9844 184.445 71.9844 M184.445 68.2807 Q190.255 68.2807 193.311 72.8871 Q196.389 77.4704 196.389 86.2204 Q196.389 94.9472 193.311 99.5537 Q190.255 104.137 184.445 104.137 Q178.635 104.137 175.556 99.5537 Q172.501 94.9472 172.501 86.2204 Q172.501 77.4704 175.556 72.8871 Q178.635 68.2807 184.445 68.2807 Z\" fill=\"#000000\" fill-rule=\"evenodd\" fill-opacity=\"1\" /><path clip-path=\"url(#clip470)\" d=\"M16.4842 822.056 L16.4842 815.595 L45.3526 815.595 Q52.9915 815.595 56.3653 812.826 Q59.7073 810.057 59.7073 803.85 Q59.7073 797.675 56.3653 794.906 Q52.9915 792.137 45.3526 792.137 L16.4842 792.137 L16.4842 785.676 L46.1484 785.676 Q55.4423 785.676 60.1847 790.291 Q64.9272 794.875 64.9272 803.85 Q64.9272 812.858 60.1847 817.473 Q55.4423 822.056 46.1484 822.056 L16.4842 822.056 Z\" fill=\"#000000\" fill-rule=\"evenodd\" fill-opacity=\"1\" /><path clip-path=\"url(#clip470)\" d=\"M29.4065 751.142 L34.9447 751.142 Q33.6716 753.625 33.035 756.298 Q32.3984 758.972 32.3984 761.837 Q32.3984 766.197 33.7352 768.393 Q35.072 770.558 37.7456 770.558 Q39.7826 770.558 40.9603 768.998 Q42.1061 767.438 43.1565 762.728 L43.6021 760.723 Q44.9389 754.484 47.3897 751.874 Q49.8086 749.232 54.1691 749.232 Q59.1344 749.232 62.0308 753.179 Q64.9272 757.094 64.9272 763.969 Q64.9272 766.834 64.3543 769.953 Q63.8132 773.04 62.6992 776.478 L56.6518 776.478 Q58.3387 773.231 59.198 770.08 Q60.0256 766.929 60.0256 763.842 Q60.0256 759.704 58.6251 757.476 Q57.1929 755.248 54.6147 755.248 Q52.2276 755.248 50.9545 756.871 Q49.6813 758.463 48.5037 763.905 L48.0262 765.942 Q46.8804 771.385 44.5251 773.804 Q42.138 776.223 38.0002 776.223 Q32.9713 776.223 30.2341 772.658 Q27.4968 769.093 27.4968 762.537 Q27.4968 759.29 27.9743 756.426 Q28.4517 753.561 29.4065 751.142 Z\" fill=\"#000000\" fill-rule=\"evenodd\" fill-opacity=\"1\" /><path clip-path=\"url(#clip470)\" d=\"M44.7161 709.415 L47.5806 709.415 L47.5806 736.342 Q53.6281 735.96 56.8109 732.713 Q59.9619 729.435 59.9619 723.61 Q59.9619 720.237 59.1344 717.086 Q58.3069 713.903 56.6518 710.784 L62.1899 710.784 Q63.5267 713.935 64.227 717.245 Q64.9272 720.555 64.9272 723.961 Q64.9272 732.491 59.9619 737.488 Q54.9967 742.453 46.5303 742.453 Q37.7774 742.453 32.6531 737.742 Q27.4968 733 27.4968 724.979 Q27.4968 717.786 32.1438 713.616 Q36.7589 709.415 44.7161 709.415 M42.9973 715.271 Q38.1912 715.335 35.3266 717.977 Q32.4621 720.587 32.4621 724.915 Q32.4621 729.817 35.2312 732.777 Q38.0002 735.705 43.0292 736.151 L42.9973 715.271 Z\" fill=\"#000000\" fill-rule=\"evenodd\" fill-opacity=\"1\" /><path clip-path=\"url(#clip470)\" d=\"M33.8307 679.146 Q33.2578 680.133 33.0032 681.31 Q32.7167 682.456 32.7167 683.857 Q32.7167 688.822 35.9632 691.495 Q39.1779 694.137 45.2253 694.137 L64.0042 694.137 L64.0042 700.026 L28.3562 700.026 L28.3562 694.137 L33.8944 694.137 Q30.6479 692.291 29.0883 689.331 Q27.4968 686.371 27.4968 682.138 Q27.4968 681.533 27.5923 680.801 Q27.656 680.069 27.8151 679.178 L33.8307 679.146 Z\" fill=\"#000000\" fill-rule=\"evenodd\" fill-opacity=\"1\" /><path clip-path=\"url(#clip470)\" d=\"M29.4065 650.278 L34.9447 650.278 Q33.6716 652.76 33.035 655.434 Q32.3984 658.107 32.3984 660.972 Q32.3984 665.332 33.7352 667.529 Q35.072 669.693 37.7456 669.693 Q39.7826 669.693 40.9603 668.133 Q42.1061 666.574 43.1565 661.863 L43.6021 659.858 Q44.9389 653.62 47.3897 651.01 Q49.8086 648.368 54.1691 648.368 Q59.1344 648.368 62.0308 652.315 Q64.9272 656.229 64.9272 663.104 Q64.9272 665.969 64.3543 669.088 Q63.8132 672.176 62.6992 675.613 L56.6518 675.613 Q58.3387 672.367 59.198 669.216 Q60.0256 666.064 60.0256 662.977 Q60.0256 658.839 58.6251 656.611 Q57.1929 654.383 54.6147 654.383 Q52.2276 654.383 50.9545 656.007 Q49.6813 657.598 48.5037 663.041 L48.0262 665.078 Q46.8804 670.52 44.5251 672.939 Q42.138 675.358 38.0002 675.358 Q32.9713 675.358 30.2341 671.794 Q27.4968 668.229 27.4968 661.672 Q27.4968 658.426 27.9743 655.561 Q28.4517 652.696 29.4065 650.278 Z\" fill=\"#000000\" fill-rule=\"evenodd\" fill-opacity=\"1\" /><polyline clip-path=\"url(#clip472)\" style=\"stroke:#009af9; stroke-linecap:butt; stroke-linejoin:round; stroke-width:4; stroke-opacity:1; fill:none\" points=\"\n",
       "  292.4,86.1857 312.403,86.1857 332.407,323.464 352.41,532.827 372.414,630.53 392.417,686.361 412.42,756.148 432.424,798.021 452.427,839.894 472.431,867.809 \n",
       "  492.434,923.639 512.438,951.554 532.441,965.512 552.445,1021.34 572.448,1049.26 592.452,1077.17 612.455,1091.13 632.459,1091.13 652.462,1091.13 672.465,1091.13 \n",
       "  692.469,1091.13 712.472,1091.13 732.476,1105.09 752.479,1105.09 772.483,1133 792.486,1146.96 812.49,1160.92 832.493,1174.87 852.497,1188.83 872.5,1188.83 \n",
       "  892.503,1188.83 912.507,1188.83 932.51,1188.83 952.514,1202.79 972.517,1216.75 992.521,1230.71 1012.52,1230.71 1032.53,1244.66 1052.53,1244.66 1072.53,1244.66 \n",
       "  1092.54,1244.66 1112.54,1244.66 1132.54,1258.62 1152.55,1258.62 1172.55,1258.62 1192.56,1258.62 1212.56,1258.62 1232.56,1258.62 1252.57,1258.62 1272.57,1258.62 \n",
       "  1292.57,1258.62 1312.58,1258.62 1332.58,1272.58 1352.58,1286.54 1372.59,1286.54 1392.59,1286.54 1412.59,1286.54 1432.6,1286.54 1452.6,1300.49 1472.6,1300.49 \n",
       "  1492.61,1300.49 1512.61,1314.45 1532.61,1314.45 1552.62,1314.45 1572.62,1314.45 1592.62,1314.45 1612.63,1328.41 1632.63,1328.41 1652.63,1328.41 1672.64,1328.41 \n",
       "  1692.64,1328.41 1712.65,1328.41 1732.65,1328.41 1752.65,1328.41 1772.66,1328.41 1792.66,1328.41 1812.66,1328.41 1832.67,1328.41 1852.67,1328.41 1872.67,1342.37 \n",
       "  1892.68,1356.32 1912.68,1370.28 1932.68,1370.28 1952.69,1384.24 1972.69,1384.24 1992.69,1384.24 2012.7,1384.24 2032.7,1384.24 2052.7,1384.24 2072.71,1384.24 \n",
       "  2092.71,1384.24 2112.71,1384.24 2132.72,1384.24 2152.72,1384.24 2172.72,1384.24 2192.73,1384.24 2212.73,1384.24 2232.74,1384.24 2252.74,1384.24 2272.74,1384.24 \n",
       "  2292.75,1384.24 \n",
       "  \"/>\n",
       "<polyline clip-path=\"url(#clip472)\" style=\"stroke:#e26f46; stroke-linecap:butt; stroke-linejoin:round; stroke-width:4; stroke-opacity:1; fill:none\" points=\"\n",
       "  332.407,1370.28 352.41,1300.49 372.414,1272.58 392.417,1258.62 412.42,1244.66 432.424,1216.75 452.427,1216.75 472.431,1216.75 492.434,1202.79 512.438,1202.79 \n",
       "  532.441,1216.75 552.445,1174.87 572.448,1188.83 592.452,1174.87 612.455,1160.92 632.459,1174.87 652.462,1188.83 672.465,1188.83 692.469,1188.83 712.472,1216.75 \n",
       "  732.476,1216.75 752.479,1230.71 772.483,1216.75 792.486,1216.75 812.49,1230.71 832.493,1244.66 852.497,1244.66 872.5,1244.66 892.503,1258.62 912.507,1258.62 \n",
       "  932.51,1258.62 952.514,1258.62 972.517,1258.62 992.521,1272.58 1012.52,1272.58 1032.53,1286.54 1052.53,1286.54 1072.53,1286.54 1092.54,1300.49 1112.54,1300.49 \n",
       "  1132.54,1286.54 1152.55,1286.54 1172.55,1286.54 1192.56,1300.49 1212.56,1300.49 1232.56,1300.49 1252.57,1300.49 1272.57,1300.49 1292.57,1300.49 1312.58,1300.49 \n",
       "  1332.58,1314.45 1352.58,1300.49 1372.59,1300.49 1392.59,1300.49 1412.59,1300.49 1432.6,1300.49 1452.6,1314.45 1472.6,1314.45 1492.61,1314.45 1512.61,1314.45 \n",
       "  1532.61,1314.45 1552.62,1314.45 1572.62,1314.45 1592.62,1314.45 1612.63,1314.45 1632.63,1314.45 1652.63,1314.45 1672.64,1314.45 1692.64,1314.45 1712.65,1314.45 \n",
       "  1732.65,1314.45 1752.65,1314.45 1772.66,1314.45 1792.66,1314.45 1812.66,1314.45 1832.67,1314.45 1852.67,1314.45 1872.67,1314.45 1892.68,1314.45 1912.68,1328.41 \n",
       "  1932.68,1328.41 1952.69,1328.41 1972.69,1328.41 1992.69,1356.32 2012.7,1356.32 2032.7,1356.32 2052.7,1356.32 2072.71,1356.32 2092.71,1356.32 2112.71,1370.28 \n",
       "  2132.72,1370.28 2152.72,1370.28 2172.72,1370.28 2192.73,1370.28 2212.73,1370.28 2232.74,1370.28 2252.74,1370.28 2272.74,1370.28 2292.75,1370.28 \n",
       "  \"/>\n",
       "<polyline clip-path=\"url(#clip472)\" style=\"stroke:#3da44d; stroke-linecap:butt; stroke-linejoin:round; stroke-width:4; stroke-opacity:1; fill:none\" points=\"\n",
       "  332.407,1356.32 352.41,1216.75 372.414,1146.96 392.417,1105.09 412.42,1049.26 432.424,1035.3 452.427,993.427 472.431,965.512 492.434,923.639 512.438,895.724 \n",
       "  532.441,867.809 552.445,853.851 572.448,811.979 592.452,798.021 612.455,798.021 632.459,784.063 652.462,770.106 672.465,770.106 692.469,770.106 712.472,742.191 \n",
       "  732.476,728.233 752.479,714.276 772.483,700.318 792.486,686.361 812.49,658.445 832.493,630.53 852.497,616.573 872.5,616.573 892.503,602.615 912.507,602.615 \n",
       "  932.51,602.615 952.514,588.658 972.517,574.7 992.521,546.785 1012.52,546.785 1032.53,518.87 1052.53,518.87 1072.53,518.87 1092.54,504.912 1112.54,504.912 \n",
       "  1132.54,504.912 1152.55,504.912 1172.55,504.912 1192.56,490.955 1212.56,490.955 1232.56,490.955 1252.57,490.955 1272.57,490.955 1292.57,490.955 1312.58,490.955 \n",
       "  1332.58,463.04 1352.58,463.04 1372.59,463.04 1392.59,463.04 1412.59,463.04 1432.6,463.04 1452.6,435.125 1472.6,435.125 1492.61,435.125 1512.61,421.167 \n",
       "  1532.61,421.167 1552.62,421.167 1572.62,421.167 1592.62,421.167 1612.63,407.209 1632.63,407.209 1652.63,407.209 1672.64,407.209 1692.64,407.209 1712.65,407.209 \n",
       "  1732.65,407.209 1752.65,407.209 1772.66,407.209 1792.66,407.209 1812.66,407.209 1832.67,407.209 1852.67,407.209 1872.67,393.252 1892.68,379.294 1912.68,351.379 \n",
       "  1932.68,351.379 1952.69,337.422 1972.69,337.422 1992.69,309.507 2012.7,309.507 2032.7,309.507 2052.7,309.507 2072.71,309.507 2092.71,309.507 2112.71,295.549 \n",
       "  2132.72,295.549 2152.72,295.549 2172.72,295.549 2192.73,295.549 2212.73,295.549 2232.74,295.549 2252.74,295.549 2272.74,295.549 2292.75,295.549 \n",
       "  \"/>\n",
       "<path clip-path=\"url(#clip470)\" d=\"\n",
       "M1573.79 300.469 L2282.08 300.469 L2282.08 93.1086 L1573.79 93.1086  Z\n",
       "  \" fill=\"#ffffff\" fill-rule=\"evenodd\" fill-opacity=\"1\"/>\n",
       "<polyline clip-path=\"url(#clip470)\" style=\"stroke:#000000; stroke-linecap:butt; stroke-linejoin:round; stroke-width:4; stroke-opacity:1; fill:none\" points=\"\n",
       "  1573.79,300.469 2282.08,300.469 2282.08,93.1086 1573.79,93.1086 1573.79,300.469 \n",
       "  \"/>\n",
       "<polyline clip-path=\"url(#clip470)\" style=\"stroke:#009af9; stroke-linecap:butt; stroke-linejoin:round; stroke-width:4; stroke-opacity:1; fill:none\" points=\"\n",
       "  1597.79,144.949 1741.79,144.949 \n",
       "  \"/>\n",
       "<path clip-path=\"url(#clip470)\" d=\"M1782.18 146.025 Q1783.69 146.534 1785.1 148.201 Q1786.53 149.868 1787.97 152.784 L1792.71 162.229 L1787.69 162.229 L1783.27 153.363 Q1781.56 149.891 1779.94 148.756 Q1778.34 147.622 1775.56 147.622 L1770.47 147.622 L1770.47 162.229 L1765.79 162.229 L1765.79 127.669 L1776.35 127.669 Q1782.27 127.669 1785.19 130.145 Q1788.11 132.622 1788.11 137.622 Q1788.11 140.886 1786.58 143.039 Q1785.07 145.192 1782.18 146.025 M1770.47 131.511 L1770.47 143.78 L1776.35 143.78 Q1779.73 143.78 1781.44 142.229 Q1783.18 140.655 1783.18 137.622 Q1783.18 134.59 1781.44 133.062 Q1779.73 131.511 1776.35 131.511 L1770.47 131.511 Z\" fill=\"#000000\" fill-rule=\"evenodd\" fill-opacity=\"1\" /><path clip-path=\"url(#clip470)\" d=\"M1806.46 139.289 Q1803.04 139.289 1801.05 141.974 Q1799.06 144.636 1799.06 149.289 Q1799.06 153.942 1801.02 156.627 Q1803.01 159.289 1806.46 159.289 Q1809.87 159.289 1811.86 156.604 Q1813.85 153.918 1813.85 149.289 Q1813.85 144.682 1811.86 141.997 Q1809.87 139.289 1806.46 139.289 M1806.46 135.678 Q1812.02 135.678 1815.19 139.289 Q1818.36 142.9 1818.36 149.289 Q1818.36 155.655 1815.19 159.289 Q1812.02 162.9 1806.46 162.9 Q1800.88 162.9 1797.71 159.289 Q1794.57 155.655 1794.57 149.289 Q1794.57 142.9 1797.71 139.289 Q1800.88 135.678 1806.46 135.678 Z\" fill=\"#000000\" fill-rule=\"evenodd\" fill-opacity=\"1\" /><path clip-path=\"url(#clip470)\" d=\"M1824.98 151.997 L1824.98 136.303 L1829.24 136.303 L1829.24 151.835 Q1829.24 155.516 1830.68 157.368 Q1832.11 159.196 1834.98 159.196 Q1838.43 159.196 1840.42 156.997 Q1842.44 154.798 1842.44 151.002 L1842.44 136.303 L1846.69 136.303 L1846.69 162.229 L1842.44 162.229 L1842.44 158.247 Q1840.88 160.608 1838.82 161.766 Q1836.79 162.9 1834.08 162.9 Q1829.61 162.9 1827.3 160.122 Q1824.98 157.344 1824.98 151.997 M1835.7 135.678 L1835.7 135.678 Z\" fill=\"#000000\" fill-rule=\"evenodd\" fill-opacity=\"1\" /><path clip-path=\"url(#clip470)\" d=\"M1859.68 128.942 L1859.68 136.303 L1868.45 136.303 L1868.45 139.613 L1859.68 139.613 L1859.68 153.687 Q1859.68 156.858 1860.54 157.761 Q1861.42 158.664 1864.08 158.664 L1868.45 158.664 L1868.45 162.229 L1864.08 162.229 Q1859.15 162.229 1857.27 160.4 Q1855.4 158.548 1855.4 153.687 L1855.4 139.613 L1852.27 139.613 L1852.27 136.303 L1855.4 136.303 L1855.4 128.942 L1859.68 128.942 Z\" fill=\"#000000\" fill-rule=\"evenodd\" fill-opacity=\"1\" /><path clip-path=\"url(#clip470)\" d=\"M1896.23 148.201 L1896.23 150.284 L1876.65 150.284 Q1876.93 154.682 1879.29 156.997 Q1881.67 159.289 1885.91 159.289 Q1888.36 159.289 1890.65 158.687 Q1892.97 158.085 1895.24 156.881 L1895.24 160.909 Q1892.94 161.881 1890.54 162.391 Q1888.13 162.9 1885.65 162.9 Q1879.45 162.9 1875.82 159.289 Q1872.2 155.678 1872.2 149.52 Q1872.2 143.155 1875.63 139.428 Q1879.08 135.678 1884.91 135.678 Q1890.14 135.678 1893.18 139.057 Q1896.23 142.414 1896.23 148.201 M1891.97 146.951 Q1891.93 143.456 1890 141.372 Q1888.11 139.289 1884.96 139.289 Q1881.39 139.289 1879.24 141.303 Q1877.11 143.317 1876.79 146.974 L1891.97 146.951 Z\" fill=\"#000000\" fill-rule=\"evenodd\" fill-opacity=\"1\" /><path clip-path=\"url(#clip470)\" d=\"M1919.7 158.293 L1927.34 158.293 L1927.34 131.928 L1919.03 133.595 L1919.03 129.335 L1927.3 127.669 L1931.97 127.669 L1931.97 158.293 L1939.61 158.293 L1939.61 162.229 L1919.7 162.229 L1919.7 158.293 Z\" fill=\"#000000\" fill-rule=\"evenodd\" fill-opacity=\"1\" /><path clip-path=\"url(#clip470)\" d=\"M1964.61 156.349 L1969.5 156.349 L1969.5 162.229 L1964.61 162.229 L1964.61 156.349 M1964.61 137.715 L1969.5 137.715 L1969.5 143.594 L1964.61 143.594 L1964.61 137.715 Z\" fill=\"#000000\" fill-rule=\"evenodd\" fill-opacity=\"1\" /><path clip-path=\"url(#clip470)\" d=\"M1994.17 126.21 L2003.99 126.21 L2003.99 129.52 L1998.43 129.52 L1998.43 165.168 L2003.99 165.168 L2003.99 168.479 L1994.17 168.479 L1994.17 126.21 Z\" fill=\"#000000\" fill-rule=\"evenodd\" fill-opacity=\"1\" /><path clip-path=\"url(#clip470)\" d=\"M2014.47 158.293 L2022.11 158.293 L2022.11 131.928 L2013.8 133.595 L2013.8 129.335 L2022.06 127.669 L2026.74 127.669 L2026.74 158.293 L2034.38 158.293 L2034.38 162.229 L2014.47 162.229 L2014.47 158.293 Z\" fill=\"#000000\" fill-rule=\"evenodd\" fill-opacity=\"1\" /><path clip-path=\"url(#clip470)\" d=\"M2044.31 156.349 L2049.19 156.349 L2049.19 160.33 L2045.4 167.738 L2042.41 167.738 L2044.31 160.33 L2044.31 156.349 Z\" fill=\"#000000\" fill-rule=\"evenodd\" fill-opacity=\"1\" /><path clip-path=\"url(#clip470)\" d=\"M2088.13 143.594 Q2091.49 144.312 2093.36 146.581 Q2095.26 148.849 2095.26 152.182 Q2095.26 157.298 2091.74 160.099 Q2088.22 162.9 2081.74 162.9 Q2079.56 162.9 2077.25 162.46 Q2074.96 162.043 2072.5 161.187 L2072.5 156.673 Q2074.45 157.807 2076.76 158.386 Q2079.08 158.965 2081.6 158.965 Q2086 158.965 2088.29 157.229 Q2090.61 155.493 2090.61 152.182 Q2090.61 149.127 2088.45 147.414 Q2086.32 145.678 2082.5 145.678 L2078.48 145.678 L2078.48 141.835 L2082.69 141.835 Q2086.14 141.835 2087.97 140.469 Q2089.8 139.081 2089.8 136.488 Q2089.8 133.826 2087.9 132.414 Q2086.02 130.979 2082.5 130.979 Q2080.58 130.979 2078.38 131.395 Q2076.18 131.812 2073.55 132.692 L2073.55 128.525 Q2076.21 127.784 2078.52 127.414 Q2080.86 127.044 2082.92 127.044 Q2088.24 127.044 2091.35 129.474 Q2094.45 131.882 2094.45 136.002 Q2094.45 138.872 2092.8 140.863 Q2091.16 142.831 2088.13 143.594 Z\" fill=\"#000000\" fill-rule=\"evenodd\" fill-opacity=\"1\" /><path clip-path=\"url(#clip470)\" d=\"M2104.61 156.349 L2109.49 156.349 L2109.49 160.33 L2105.7 167.738 L2102.71 167.738 L2104.61 160.33 L2104.61 156.349 Z\" fill=\"#000000\" fill-rule=\"evenodd\" fill-opacity=\"1\" /><path clip-path=\"url(#clip470)\" d=\"M2147.11 131.743 L2135.3 150.192 L2147.11 150.192 L2147.11 131.743 M2145.88 127.669 L2151.76 127.669 L2151.76 150.192 L2156.69 150.192 L2156.69 154.081 L2151.76 154.081 L2151.76 162.229 L2147.11 162.229 L2147.11 154.081 L2131.51 154.081 L2131.51 149.567 L2145.88 127.669 Z\" fill=\"#000000\" fill-rule=\"evenodd\" fill-opacity=\"1\" /><path clip-path=\"url(#clip470)\" d=\"M2173.78 126.21 L2173.78 168.479 L2163.96 168.479 L2163.96 165.168 L2169.49 165.168 L2169.49 129.52 L2163.96 129.52 L2163.96 126.21 L2173.78 126.21 Z\" fill=\"#000000\" fill-rule=\"evenodd\" fill-opacity=\"1\" /><polyline clip-path=\"url(#clip470)\" style=\"stroke:#e26f46; stroke-linecap:butt; stroke-linejoin:round; stroke-width:4; stroke-opacity:1; fill:none\" points=\"\n",
       "  1597.79,196.789 1741.79,196.789 \n",
       "  \"/>\n",
       "<path clip-path=\"url(#clip470)\" d=\"M1782.18 197.865 Q1783.69 198.374 1785.1 200.041 Q1786.53 201.708 1787.97 204.624 L1792.71 214.069 L1787.69 214.069 L1783.27 205.203 Q1781.56 201.731 1779.94 200.596 Q1778.34 199.462 1775.56 199.462 L1770.47 199.462 L1770.47 214.069 L1765.79 214.069 L1765.79 179.509 L1776.35 179.509 Q1782.27 179.509 1785.19 181.985 Q1788.11 184.462 1788.11 189.462 Q1788.11 192.726 1786.58 194.879 Q1785.07 197.032 1782.18 197.865 M1770.47 183.351 L1770.47 195.62 L1776.35 195.62 Q1779.73 195.62 1781.44 194.069 Q1783.18 192.495 1783.18 189.462 Q1783.18 186.43 1781.44 184.902 Q1779.73 183.351 1776.35 183.351 L1770.47 183.351 Z\" fill=\"#000000\" fill-rule=\"evenodd\" fill-opacity=\"1\" /><path clip-path=\"url(#clip470)\" d=\"M1806.46 191.129 Q1803.04 191.129 1801.05 193.814 Q1799.06 196.476 1799.06 201.129 Q1799.06 205.782 1801.02 208.467 Q1803.01 211.129 1806.46 211.129 Q1809.87 211.129 1811.86 208.444 Q1813.85 205.758 1813.85 201.129 Q1813.85 196.522 1811.86 193.837 Q1809.87 191.129 1806.46 191.129 M1806.46 187.518 Q1812.02 187.518 1815.19 191.129 Q1818.36 194.74 1818.36 201.129 Q1818.36 207.495 1815.19 211.129 Q1812.02 214.74 1806.46 214.74 Q1800.88 214.74 1797.71 211.129 Q1794.57 207.495 1794.57 201.129 Q1794.57 194.74 1797.71 191.129 Q1800.88 187.518 1806.46 187.518 Z\" fill=\"#000000\" fill-rule=\"evenodd\" fill-opacity=\"1\" /><path clip-path=\"url(#clip470)\" d=\"M1824.98 203.837 L1824.98 188.143 L1829.24 188.143 L1829.24 203.675 Q1829.24 207.356 1830.68 209.208 Q1832.11 211.036 1834.98 211.036 Q1838.43 211.036 1840.42 208.837 Q1842.44 206.638 1842.44 202.842 L1842.44 188.143 L1846.69 188.143 L1846.69 214.069 L1842.44 214.069 L1842.44 210.087 Q1840.88 212.448 1838.82 213.606 Q1836.79 214.74 1834.08 214.74 Q1829.61 214.74 1827.3 211.962 Q1824.98 209.184 1824.98 203.837 M1835.7 187.518 L1835.7 187.518 Z\" fill=\"#000000\" fill-rule=\"evenodd\" fill-opacity=\"1\" /><path clip-path=\"url(#clip470)\" d=\"M1859.68 180.782 L1859.68 188.143 L1868.45 188.143 L1868.45 191.453 L1859.68 191.453 L1859.68 205.527 Q1859.68 208.698 1860.54 209.601 Q1861.42 210.504 1864.08 210.504 L1868.45 210.504 L1868.45 214.069 L1864.08 214.069 Q1859.15 214.069 1857.27 212.24 Q1855.4 210.388 1855.4 205.527 L1855.4 191.453 L1852.27 191.453 L1852.27 188.143 L1855.4 188.143 L1855.4 180.782 L1859.68 180.782 Z\" fill=\"#000000\" fill-rule=\"evenodd\" fill-opacity=\"1\" /><path clip-path=\"url(#clip470)\" d=\"M1896.23 200.041 L1896.23 202.124 L1876.65 202.124 Q1876.93 206.522 1879.29 208.837 Q1881.67 211.129 1885.91 211.129 Q1888.36 211.129 1890.65 210.527 Q1892.97 209.925 1895.24 208.721 L1895.24 212.749 Q1892.94 213.721 1890.54 214.231 Q1888.13 214.74 1885.65 214.74 Q1879.45 214.74 1875.82 211.129 Q1872.2 207.518 1872.2 201.36 Q1872.2 194.995 1875.63 191.268 Q1879.08 187.518 1884.91 187.518 Q1890.14 187.518 1893.18 190.897 Q1896.23 194.254 1896.23 200.041 M1891.97 198.791 Q1891.93 195.296 1890 193.212 Q1888.11 191.129 1884.96 191.129 Q1881.39 191.129 1879.24 193.143 Q1877.11 195.157 1876.79 198.814 L1891.97 198.791 Z\" fill=\"#000000\" fill-rule=\"evenodd\" fill-opacity=\"1\" /><path clip-path=\"url(#clip470)\" d=\"M1922.92 210.133 L1939.24 210.133 L1939.24 214.069 L1917.3 214.069 L1917.3 210.133 Q1919.96 207.379 1924.54 202.749 Q1929.15 198.096 1930.33 196.754 Q1932.57 194.231 1933.45 192.495 Q1934.36 190.735 1934.36 189.046 Q1934.36 186.291 1932.41 184.555 Q1930.49 182.819 1927.39 182.819 Q1925.19 182.819 1922.74 183.583 Q1920.31 184.347 1917.53 185.897 L1917.53 181.175 Q1920.35 180.041 1922.81 179.462 Q1925.26 178.884 1927.3 178.884 Q1932.67 178.884 1935.86 181.569 Q1939.06 184.254 1939.06 188.745 Q1939.06 190.874 1938.25 192.796 Q1937.46 194.694 1935.35 197.286 Q1934.77 197.958 1931.67 201.175 Q1928.57 204.37 1922.92 210.133 Z\" fill=\"#000000\" fill-rule=\"evenodd\" fill-opacity=\"1\" /><path clip-path=\"url(#clip470)\" d=\"M1964.61 208.189 L1969.5 208.189 L1969.5 214.069 L1964.61 214.069 L1964.61 208.189 M1964.61 189.555 L1969.5 189.555 L1969.5 195.434 L1964.61 195.434 L1964.61 189.555 Z\" fill=\"#000000\" fill-rule=\"evenodd\" fill-opacity=\"1\" /><path clip-path=\"url(#clip470)\" d=\"M1994.17 178.05 L2003.99 178.05 L2003.99 181.36 L1998.43 181.36 L1998.43 217.008 L2003.99 217.008 L2003.99 220.319 L1994.17 220.319 L1994.17 178.05 Z\" fill=\"#000000\" fill-rule=\"evenodd\" fill-opacity=\"1\" /><path clip-path=\"url(#clip470)\" d=\"M2014.47 210.133 L2022.11 210.133 L2022.11 183.768 L2013.8 185.435 L2013.8 181.175 L2022.06 179.509 L2026.74 179.509 L2026.74 210.133 L2034.38 210.133 L2034.38 214.069 L2014.47 214.069 L2014.47 210.133 Z\" fill=\"#000000\" fill-rule=\"evenodd\" fill-opacity=\"1\" /><path clip-path=\"url(#clip470)\" d=\"M2044.31 208.189 L2049.19 208.189 L2049.19 212.17 L2045.4 219.578 L2042.41 219.578 L2044.31 212.17 L2044.31 208.189 Z\" fill=\"#000000\" fill-rule=\"evenodd\" fill-opacity=\"1\" /><path clip-path=\"url(#clip470)\" d=\"M2077.99 210.133 L2094.31 210.133 L2094.31 214.069 L2072.36 214.069 L2072.36 210.133 Q2075.03 207.379 2079.61 202.749 Q2084.22 198.096 2085.4 196.754 Q2087.64 194.231 2088.52 192.495 Q2089.43 190.735 2089.43 189.046 Q2089.43 186.291 2087.48 184.555 Q2085.56 182.819 2082.46 182.819 Q2080.26 182.819 2077.8 183.583 Q2075.37 184.347 2072.6 185.897 L2072.6 181.175 Q2075.42 180.041 2077.87 179.462 Q2080.33 178.884 2082.36 178.884 Q2087.74 178.884 2090.93 181.569 Q2094.12 184.254 2094.12 188.745 Q2094.12 190.874 2093.31 192.796 Q2092.53 194.694 2090.42 197.286 Q2089.84 197.958 2086.74 201.175 Q2083.64 204.37 2077.99 210.133 Z\" fill=\"#000000\" fill-rule=\"evenodd\" fill-opacity=\"1\" /><path clip-path=\"url(#clip470)\" d=\"M2104.61 208.189 L2109.49 208.189 L2109.49 212.17 L2105.7 219.578 L2102.71 219.578 L2104.61 212.17 L2104.61 208.189 Z\" fill=\"#000000\" fill-rule=\"evenodd\" fill-opacity=\"1\" /><path clip-path=\"url(#clip470)\" d=\"M2147.11 183.583 L2135.3 202.032 L2147.11 202.032 L2147.11 183.583 M2145.88 179.509 L2151.76 179.509 L2151.76 202.032 L2156.69 202.032 L2156.69 205.921 L2151.76 205.921 L2151.76 214.069 L2147.11 214.069 L2147.11 205.921 L2131.51 205.921 L2131.51 201.407 L2145.88 179.509 Z\" fill=\"#000000\" fill-rule=\"evenodd\" fill-opacity=\"1\" /><path clip-path=\"url(#clip470)\" d=\"M2173.78 178.05 L2173.78 220.319 L2163.96 220.319 L2163.96 217.008 L2169.49 217.008 L2169.49 181.36 L2163.96 181.36 L2163.96 178.05 L2173.78 178.05 Z\" fill=\"#000000\" fill-rule=\"evenodd\" fill-opacity=\"1\" /><polyline clip-path=\"url(#clip470)\" style=\"stroke:#3da44d; stroke-linecap:butt; stroke-linejoin:round; stroke-width:4; stroke-opacity:1; fill:none\" points=\"\n",
       "  1597.79,248.629 1741.79,248.629 \n",
       "  \"/>\n",
       "<path clip-path=\"url(#clip470)\" d=\"M1782.18 249.705 Q1783.69 250.214 1785.1 251.881 Q1786.53 253.548 1787.97 256.464 L1792.71 265.909 L1787.69 265.909 L1783.27 257.043 Q1781.56 253.571 1779.94 252.436 Q1778.34 251.302 1775.56 251.302 L1770.47 251.302 L1770.47 265.909 L1765.79 265.909 L1765.79 231.349 L1776.35 231.349 Q1782.27 231.349 1785.19 233.825 Q1788.11 236.302 1788.11 241.302 Q1788.11 244.566 1786.58 246.719 Q1785.07 248.872 1782.18 249.705 M1770.47 235.191 L1770.47 247.46 L1776.35 247.46 Q1779.73 247.46 1781.44 245.909 Q1783.18 244.335 1783.18 241.302 Q1783.18 238.27 1781.44 236.742 Q1779.73 235.191 1776.35 235.191 L1770.47 235.191 Z\" fill=\"#000000\" fill-rule=\"evenodd\" fill-opacity=\"1\" /><path clip-path=\"url(#clip470)\" d=\"M1806.46 242.969 Q1803.04 242.969 1801.05 245.654 Q1799.06 248.316 1799.06 252.969 Q1799.06 257.622 1801.02 260.307 Q1803.01 262.969 1806.46 262.969 Q1809.87 262.969 1811.86 260.284 Q1813.85 257.598 1813.85 252.969 Q1813.85 248.362 1811.86 245.677 Q1809.87 242.969 1806.46 242.969 M1806.46 239.358 Q1812.02 239.358 1815.19 242.969 Q1818.36 246.58 1818.36 252.969 Q1818.36 259.335 1815.19 262.969 Q1812.02 266.58 1806.46 266.58 Q1800.88 266.58 1797.71 262.969 Q1794.57 259.335 1794.57 252.969 Q1794.57 246.58 1797.71 242.969 Q1800.88 239.358 1806.46 239.358 Z\" fill=\"#000000\" fill-rule=\"evenodd\" fill-opacity=\"1\" /><path clip-path=\"url(#clip470)\" d=\"M1824.98 255.677 L1824.98 239.983 L1829.24 239.983 L1829.24 255.515 Q1829.24 259.196 1830.68 261.048 Q1832.11 262.876 1834.98 262.876 Q1838.43 262.876 1840.42 260.677 Q1842.44 258.478 1842.44 254.682 L1842.44 239.983 L1846.69 239.983 L1846.69 265.909 L1842.44 265.909 L1842.44 261.927 Q1840.88 264.288 1838.82 265.446 Q1836.79 266.58 1834.08 266.58 Q1829.61 266.58 1827.3 263.802 Q1824.98 261.024 1824.98 255.677 M1835.7 239.358 L1835.7 239.358 Z\" fill=\"#000000\" fill-rule=\"evenodd\" fill-opacity=\"1\" /><path clip-path=\"url(#clip470)\" d=\"M1859.68 232.622 L1859.68 239.983 L1868.45 239.983 L1868.45 243.293 L1859.68 243.293 L1859.68 257.367 Q1859.68 260.538 1860.54 261.441 Q1861.42 262.344 1864.08 262.344 L1868.45 262.344 L1868.45 265.909 L1864.08 265.909 Q1859.15 265.909 1857.27 264.08 Q1855.4 262.228 1855.4 257.367 L1855.4 243.293 L1852.27 243.293 L1852.27 239.983 L1855.4 239.983 L1855.4 232.622 L1859.68 232.622 Z\" fill=\"#000000\" fill-rule=\"evenodd\" fill-opacity=\"1\" /><path clip-path=\"url(#clip470)\" d=\"M1896.23 251.881 L1896.23 253.964 L1876.65 253.964 Q1876.93 258.362 1879.29 260.677 Q1881.67 262.969 1885.91 262.969 Q1888.36 262.969 1890.65 262.367 Q1892.97 261.765 1895.24 260.561 L1895.24 264.589 Q1892.94 265.561 1890.54 266.071 Q1888.13 266.58 1885.65 266.58 Q1879.45 266.58 1875.82 262.969 Q1872.2 259.358 1872.2 253.2 Q1872.2 246.835 1875.63 243.108 Q1879.08 239.358 1884.91 239.358 Q1890.14 239.358 1893.18 242.737 Q1896.23 246.094 1896.23 251.881 M1891.97 250.631 Q1891.93 247.136 1890 245.052 Q1888.11 242.969 1884.96 242.969 Q1881.39 242.969 1879.24 244.983 Q1877.11 246.997 1876.79 250.654 L1891.97 250.631 Z\" fill=\"#000000\" fill-rule=\"evenodd\" fill-opacity=\"1\" /><path clip-path=\"url(#clip470)\" d=\"M1933.06 247.274 Q1936.42 247.992 1938.29 250.261 Q1940.19 252.529 1940.19 255.862 Q1940.19 260.978 1936.67 263.779 Q1933.15 266.58 1926.67 266.58 Q1924.5 266.58 1922.18 266.14 Q1919.89 265.723 1917.44 264.867 L1917.44 260.353 Q1919.38 261.487 1921.69 262.066 Q1924.01 262.645 1926.53 262.645 Q1930.93 262.645 1933.22 260.909 Q1935.54 259.173 1935.54 255.862 Q1935.54 252.807 1933.38 251.094 Q1931.25 249.358 1927.44 249.358 L1923.41 249.358 L1923.41 245.515 L1927.62 245.515 Q1931.07 245.515 1932.9 244.149 Q1934.73 242.761 1934.73 240.168 Q1934.73 237.506 1932.83 236.094 Q1930.95 234.659 1927.44 234.659 Q1925.51 234.659 1923.31 235.075 Q1921.12 235.492 1918.48 236.372 L1918.48 232.205 Q1921.14 231.464 1923.45 231.094 Q1925.79 230.724 1927.85 230.724 Q1933.18 230.724 1936.28 233.154 Q1939.38 235.562 1939.38 239.682 Q1939.38 242.552 1937.74 244.543 Q1936.09 246.511 1933.06 247.274 Z\" fill=\"#000000\" fill-rule=\"evenodd\" fill-opacity=\"1\" /><path clip-path=\"url(#clip470)\" d=\"M1964.61 260.029 L1969.5 260.029 L1969.5 265.909 L1964.61 265.909 L1964.61 260.029 M1964.61 241.395 L1969.5 241.395 L1969.5 247.274 L1964.61 247.274 L1964.61 241.395 Z\" fill=\"#000000\" fill-rule=\"evenodd\" fill-opacity=\"1\" /><path clip-path=\"url(#clip470)\" d=\"M1994.17 229.89 L2003.99 229.89 L2003.99 233.2 L1998.43 233.2 L1998.43 268.848 L2003.99 268.848 L2003.99 272.159 L1994.17 272.159 L1994.17 229.89 Z\" fill=\"#000000\" fill-rule=\"evenodd\" fill-opacity=\"1\" /><path clip-path=\"url(#clip470)\" d=\"M2014.47 261.973 L2022.11 261.973 L2022.11 235.608 L2013.8 237.275 L2013.8 233.015 L2022.06 231.349 L2026.74 231.349 L2026.74 261.973 L2034.38 261.973 L2034.38 265.909 L2014.47 265.909 L2014.47 261.973 Z\" fill=\"#000000\" fill-rule=\"evenodd\" fill-opacity=\"1\" /><path clip-path=\"url(#clip470)\" d=\"M2044.31 260.029 L2049.19 260.029 L2049.19 264.01 L2045.4 271.418 L2042.41 271.418 L2044.31 264.01 L2044.31 260.029 Z\" fill=\"#000000\" fill-rule=\"evenodd\" fill-opacity=\"1\" /><path clip-path=\"url(#clip470)\" d=\"M2077.99 261.973 L2094.31 261.973 L2094.31 265.909 L2072.36 265.909 L2072.36 261.973 Q2075.03 259.219 2079.61 254.589 Q2084.22 249.936 2085.4 248.594 Q2087.64 246.071 2088.52 244.335 Q2089.43 242.575 2089.43 240.886 Q2089.43 238.131 2087.48 236.395 Q2085.56 234.659 2082.46 234.659 Q2080.26 234.659 2077.8 235.423 Q2075.37 236.187 2072.6 237.737 L2072.6 233.015 Q2075.42 231.881 2077.87 231.302 Q2080.33 230.724 2082.36 230.724 Q2087.74 230.724 2090.93 233.409 Q2094.12 236.094 2094.12 240.585 Q2094.12 242.714 2093.31 244.636 Q2092.53 246.534 2090.42 249.126 Q2089.84 249.798 2086.74 253.015 Q2083.64 256.21 2077.99 261.973 Z\" fill=\"#000000\" fill-rule=\"evenodd\" fill-opacity=\"1\" /><path clip-path=\"url(#clip470)\" d=\"M2104.61 260.029 L2109.49 260.029 L2109.49 264.01 L2105.7 271.418 L2102.71 271.418 L2104.61 264.01 L2104.61 260.029 Z\" fill=\"#000000\" fill-rule=\"evenodd\" fill-opacity=\"1\" /><path clip-path=\"url(#clip470)\" d=\"M2148.43 247.274 Q2151.79 247.992 2153.66 250.261 Q2155.56 252.529 2155.56 255.862 Q2155.56 260.978 2152.04 263.779 Q2148.52 266.58 2142.04 266.58 Q2139.86 266.58 2137.55 266.14 Q2135.26 265.723 2132.8 264.867 L2132.8 260.353 Q2134.75 261.487 2137.06 262.066 Q2139.38 262.645 2141.9 262.645 Q2146.3 262.645 2148.59 260.909 Q2150.91 259.173 2150.91 255.862 Q2150.91 252.807 2148.75 251.094 Q2146.62 249.358 2142.8 249.358 L2138.78 249.358 L2138.78 245.515 L2142.99 245.515 Q2146.44 245.515 2148.27 244.149 Q2150.1 242.761 2150.1 240.168 Q2150.1 237.506 2148.2 236.094 Q2146.32 234.659 2142.8 234.659 Q2140.88 234.659 2138.68 235.075 Q2136.48 235.492 2133.85 236.372 L2133.85 232.205 Q2136.51 231.464 2138.82 231.094 Q2141.16 230.724 2143.22 230.724 Q2148.55 230.724 2151.65 233.154 Q2154.75 235.562 2154.75 239.682 Q2154.75 242.552 2153.11 244.543 Q2151.46 246.511 2148.43 247.274 Z\" fill=\"#000000\" fill-rule=\"evenodd\" fill-opacity=\"1\" /><path clip-path=\"url(#clip470)\" d=\"M2164.91 260.029 L2169.79 260.029 L2169.79 264.01 L2166 271.418 L2163.01 271.418 L2164.91 264.01 L2164.91 260.029 Z\" fill=\"#000000\" fill-rule=\"evenodd\" fill-opacity=\"1\" /><path clip-path=\"url(#clip470)\" d=\"M2207.41 235.423 L2195.61 253.872 L2207.41 253.872 L2207.41 235.423 M2206.18 231.349 L2212.06 231.349 L2212.06 253.872 L2216.99 253.872 L2216.99 257.761 L2212.06 257.761 L2212.06 265.909 L2207.41 265.909 L2207.41 257.761 L2191.81 257.761 L2191.81 253.247 L2206.18 231.349 Z\" fill=\"#000000\" fill-rule=\"evenodd\" fill-opacity=\"1\" /><path clip-path=\"url(#clip470)\" d=\"M2234.08 229.89 L2234.08 272.159 L2224.26 272.159 L2224.26 268.848 L2229.79 268.848 L2229.79 233.2 L2224.26 233.2 L2224.26 229.89 L2234.08 229.89 Z\" fill=\"#000000\" fill-rule=\"evenodd\" fill-opacity=\"1\" /></svg>\n"
      ]
     },
     "execution_count": 30,
     "metadata": {},
     "output_type": "execute_result"
    }
   ],
   "source": [
    "p4"
   ]
  },
  {
   "cell_type": "markdown",
   "metadata": {
    "nbpresent": {
     "id": "96432101-5059-4585-afb1-fd90e63eb008"
    }
   },
   "source": [
    "The agents are now all switching to route 3 (including the bridge). It must be faster right?"
   ]
  },
  {
   "cell_type": "markdown",
   "metadata": {
    "nbpresent": {
     "id": "e880add7-478a-4e60-8e97-95f20531e834"
    },
    "slideshow": {
     "slide_type": "slide"
    }
   },
   "source": [
    "## Average travel time\n",
    "\n",
    "Wrong! When all agents switch to route 2, the average travel time now tends to 25 minutes."
   ]
  },
  {
   "cell_type": "code",
   "execution_count": 31,
   "metadata": {
    "nbpresent": {
     "id": "74cc3fd1-b30f-4bc5-92ba-e088f3125ad3"
    }
   },
   "outputs": [
    {
     "data": {
      "image/svg+xml": [
       "<?xml version=\"1.0\" encoding=\"utf-8\"?>\n",
       "<svg xmlns=\"http://www.w3.org/2000/svg\" xmlns:xlink=\"http://www.w3.org/1999/xlink\" width=\"600\" height=\"400\" viewBox=\"0 0 2400 1600\">\n",
       "<defs>\n",
       "  <clipPath id=\"clip510\">\n",
       "    <rect x=\"0\" y=\"0\" width=\"2400\" height=\"1600\"/>\n",
       "  </clipPath>\n",
       "</defs>\n",
       "<path clip-path=\"url(#clip510)\" d=\"\n",
       "M0 1600 L2400 1600 L2400 0 L0 0  Z\n",
       "  \" fill=\"#ffffff\" fill-rule=\"evenodd\" fill-opacity=\"1\"/>\n",
       "<defs>\n",
       "  <clipPath id=\"clip511\">\n",
       "    <rect x=\"480\" y=\"0\" width=\"1681\" height=\"1600\"/>\n",
       "  </clipPath>\n",
       "</defs>\n",
       "<path clip-path=\"url(#clip510)\" d=\"\n",
       "M205.121 1423.18 L2352.76 1423.18 L2352.76 47.2441 L205.121 47.2441  Z\n",
       "  \" fill=\"#ffffff\" fill-rule=\"evenodd\" fill-opacity=\"1\"/>\n",
       "<defs>\n",
       "  <clipPath id=\"clip512\">\n",
       "    <rect x=\"205\" y=\"47\" width=\"2149\" height=\"1377\"/>\n",
       "  </clipPath>\n",
       "</defs>\n",
       "<polyline clip-path=\"url(#clip512)\" style=\"stroke:#000000; stroke-linecap:butt; stroke-linejoin:round; stroke-width:2; stroke-opacity:0.1; fill:none\" points=\"\n",
       "  245.438,1423.18 245.438,47.2441 \n",
       "  \"/>\n",
       "<polyline clip-path=\"url(#clip512)\" style=\"stroke:#000000; stroke-linecap:butt; stroke-linejoin:round; stroke-width:2; stroke-opacity:0.1; fill:none\" points=\"\n",
       "  757.072,1423.18 757.072,47.2441 \n",
       "  \"/>\n",
       "<polyline clip-path=\"url(#clip512)\" style=\"stroke:#000000; stroke-linecap:butt; stroke-linejoin:round; stroke-width:2; stroke-opacity:0.1; fill:none\" points=\"\n",
       "  1268.71,1423.18 1268.71,47.2441 \n",
       "  \"/>\n",
       "<polyline clip-path=\"url(#clip512)\" style=\"stroke:#000000; stroke-linecap:butt; stroke-linejoin:round; stroke-width:2; stroke-opacity:0.1; fill:none\" points=\"\n",
       "  1780.34,1423.18 1780.34,47.2441 \n",
       "  \"/>\n",
       "<polyline clip-path=\"url(#clip512)\" style=\"stroke:#000000; stroke-linecap:butt; stroke-linejoin:round; stroke-width:2; stroke-opacity:0.1; fill:none\" points=\"\n",
       "  2291.97,1423.18 2291.97,47.2441 \n",
       "  \"/>\n",
       "<polyline clip-path=\"url(#clip510)\" style=\"stroke:#000000; stroke-linecap:butt; stroke-linejoin:round; stroke-width:4; stroke-opacity:1; fill:none\" points=\"\n",
       "  205.121,1423.18 2352.76,1423.18 \n",
       "  \"/>\n",
       "<polyline clip-path=\"url(#clip510)\" style=\"stroke:#000000; stroke-linecap:butt; stroke-linejoin:round; stroke-width:4; stroke-opacity:1; fill:none\" points=\"\n",
       "  245.438,1423.18 245.438,1404.28 \n",
       "  \"/>\n",
       "<polyline clip-path=\"url(#clip510)\" style=\"stroke:#000000; stroke-linecap:butt; stroke-linejoin:round; stroke-width:4; stroke-opacity:1; fill:none\" points=\"\n",
       "  757.072,1423.18 757.072,1404.28 \n",
       "  \"/>\n",
       "<polyline clip-path=\"url(#clip510)\" style=\"stroke:#000000; stroke-linecap:butt; stroke-linejoin:round; stroke-width:4; stroke-opacity:1; fill:none\" points=\"\n",
       "  1268.71,1423.18 1268.71,1404.28 \n",
       "  \"/>\n",
       "<polyline clip-path=\"url(#clip510)\" style=\"stroke:#000000; stroke-linecap:butt; stroke-linejoin:round; stroke-width:4; stroke-opacity:1; fill:none\" points=\"\n",
       "  1780.34,1423.18 1780.34,1404.28 \n",
       "  \"/>\n",
       "<polyline clip-path=\"url(#clip510)\" style=\"stroke:#000000; stroke-linecap:butt; stroke-linejoin:round; stroke-width:4; stroke-opacity:1; fill:none\" points=\"\n",
       "  2291.97,1423.18 2291.97,1404.28 \n",
       "  \"/>\n",
       "<path clip-path=\"url(#clip510)\" d=\"M245.438 1454.1 Q241.827 1454.1 239.998 1457.66 Q238.192 1461.2 238.192 1468.33 Q238.192 1475.44 239.998 1479.01 Q241.827 1482.55 245.438 1482.55 Q249.072 1482.55 250.878 1479.01 Q252.706 1475.44 252.706 1468.33 Q252.706 1461.2 250.878 1457.66 Q249.072 1454.1 245.438 1454.1 M245.438 1450.39 Q251.248 1450.39 254.303 1455 Q257.382 1459.58 257.382 1468.33 Q257.382 1477.06 254.303 1481.67 Q251.248 1486.25 245.438 1486.25 Q239.628 1486.25 236.549 1481.67 Q233.493 1477.06 233.493 1468.33 Q233.493 1459.58 236.549 1455 Q239.628 1450.39 245.438 1450.39 Z\" fill=\"#000000\" fill-rule=\"evenodd\" fill-opacity=\"1\" /><path clip-path=\"url(#clip510)\" d=\"M736.343 1481.64 L752.662 1481.64 L752.662 1485.58 L730.718 1485.58 L730.718 1481.64 Q733.38 1478.89 737.963 1474.26 Q742.57 1469.61 743.75 1468.27 Q745.995 1465.74 746.875 1464.01 Q747.778 1462.25 747.778 1460.56 Q747.778 1457.8 745.833 1456.07 Q743.912 1454.33 740.81 1454.33 Q738.611 1454.33 736.158 1455.09 Q733.727 1455.86 730.949 1457.41 L730.949 1452.69 Q733.773 1451.55 736.227 1450.97 Q738.681 1450.39 740.718 1450.39 Q746.088 1450.39 749.282 1453.08 Q752.477 1455.77 752.477 1460.26 Q752.477 1462.39 751.667 1464.31 Q750.88 1466.2 748.773 1468.8 Q748.194 1469.47 745.093 1472.69 Q741.991 1475.88 736.343 1481.64 Z\" fill=\"#000000\" fill-rule=\"evenodd\" fill-opacity=\"1\" /><path clip-path=\"url(#clip510)\" d=\"M762.523 1451.02 L780.879 1451.02 L780.879 1454.96 L766.805 1454.96 L766.805 1463.43 Q767.824 1463.08 768.843 1462.92 Q769.861 1462.73 770.88 1462.73 Q776.667 1462.73 780.046 1465.9 Q783.426 1469.08 783.426 1474.49 Q783.426 1480.07 779.954 1483.17 Q776.481 1486.25 770.162 1486.25 Q767.986 1486.25 765.718 1485.88 Q763.472 1485.51 761.065 1484.77 L761.065 1480.07 Q763.148 1481.2 765.37 1481.76 Q767.593 1482.32 770.069 1482.32 Q774.074 1482.32 776.412 1480.21 Q778.75 1478.1 778.75 1474.49 Q778.75 1470.88 776.412 1468.77 Q774.074 1466.67 770.069 1466.67 Q768.194 1466.67 766.319 1467.08 Q764.468 1467.5 762.523 1468.38 L762.523 1451.02 Z\" fill=\"#000000\" fill-rule=\"evenodd\" fill-opacity=\"1\" /><path clip-path=\"url(#clip510)\" d=\"M1243.4 1451.02 L1261.76 1451.02 L1261.76 1454.96 L1247.69 1454.96 L1247.69 1463.43 Q1248.71 1463.08 1249.72 1462.92 Q1250.74 1462.73 1251.76 1462.73 Q1257.55 1462.73 1260.93 1465.9 Q1264.31 1469.08 1264.31 1474.49 Q1264.31 1480.07 1260.84 1483.17 Q1257.36 1486.25 1251.04 1486.25 Q1248.87 1486.25 1246.6 1485.88 Q1244.35 1485.51 1241.95 1484.77 L1241.95 1480.07 Q1244.03 1481.2 1246.25 1481.76 Q1248.47 1482.32 1250.95 1482.32 Q1254.96 1482.32 1257.29 1480.21 Q1259.63 1478.1 1259.63 1474.49 Q1259.63 1470.88 1257.29 1468.77 Q1254.96 1466.67 1250.95 1466.67 Q1249.08 1466.67 1247.2 1467.08 Q1245.35 1467.5 1243.4 1468.38 L1243.4 1451.02 Z\" fill=\"#000000\" fill-rule=\"evenodd\" fill-opacity=\"1\" /><path clip-path=\"url(#clip510)\" d=\"M1283.52 1454.1 Q1279.91 1454.1 1278.08 1457.66 Q1276.28 1461.2 1276.28 1468.33 Q1276.28 1475.44 1278.08 1479.01 Q1279.91 1482.55 1283.52 1482.55 Q1287.15 1482.55 1288.96 1479.01 Q1290.79 1475.44 1290.79 1468.33 Q1290.79 1461.2 1288.96 1457.66 Q1287.15 1454.1 1283.52 1454.1 M1283.52 1450.39 Q1289.33 1450.39 1292.39 1455 Q1295.46 1459.58 1295.46 1468.33 Q1295.46 1477.06 1292.39 1481.67 Q1289.33 1486.25 1283.52 1486.25 Q1277.71 1486.25 1274.63 1481.67 Q1271.58 1477.06 1271.58 1468.33 Q1271.58 1459.58 1274.63 1455 Q1277.71 1450.39 1283.52 1450.39 Z\" fill=\"#000000\" fill-rule=\"evenodd\" fill-opacity=\"1\" /><path clip-path=\"url(#clip510)\" d=\"M1754.19 1451.02 L1776.42 1451.02 L1776.42 1453.01 L1763.87 1485.58 L1758.99 1485.58 L1770.79 1454.96 L1754.19 1454.96 L1754.19 1451.02 Z\" fill=\"#000000\" fill-rule=\"evenodd\" fill-opacity=\"1\" /><path clip-path=\"url(#clip510)\" d=\"M1785.58 1451.02 L1803.94 1451.02 L1803.94 1454.96 L1789.87 1454.96 L1789.87 1463.43 Q1790.88 1463.08 1791.9 1462.92 Q1792.92 1462.73 1793.94 1462.73 Q1799.73 1462.73 1803.11 1465.9 Q1806.49 1469.08 1806.49 1474.49 Q1806.49 1480.07 1803.01 1483.17 Q1799.54 1486.25 1793.22 1486.25 Q1791.05 1486.25 1788.78 1485.88 Q1786.53 1485.51 1784.12 1484.77 L1784.12 1480.07 Q1786.21 1481.2 1788.43 1481.76 Q1790.65 1482.32 1793.13 1482.32 Q1797.13 1482.32 1799.47 1480.21 Q1801.81 1478.1 1801.81 1474.49 Q1801.81 1470.88 1799.47 1468.77 Q1797.13 1466.67 1793.13 1466.67 Q1791.25 1466.67 1789.38 1467.08 Q1787.53 1467.5 1785.58 1468.38 L1785.58 1451.02 Z\" fill=\"#000000\" fill-rule=\"evenodd\" fill-opacity=\"1\" /><path clip-path=\"url(#clip510)\" d=\"M2251.58 1481.64 L2259.22 1481.64 L2259.22 1455.28 L2250.91 1456.95 L2250.91 1452.69 L2259.17 1451.02 L2263.85 1451.02 L2263.85 1481.64 L2271.49 1481.64 L2271.49 1485.58 L2251.58 1485.58 L2251.58 1481.64 Z\" fill=\"#000000\" fill-rule=\"evenodd\" fill-opacity=\"1\" /><path clip-path=\"url(#clip510)\" d=\"M2290.93 1454.1 Q2287.32 1454.1 2285.49 1457.66 Q2283.69 1461.2 2283.69 1468.33 Q2283.69 1475.44 2285.49 1479.01 Q2287.32 1482.55 2290.93 1482.55 Q2294.57 1482.55 2296.37 1479.01 Q2298.2 1475.44 2298.2 1468.33 Q2298.2 1461.2 2296.37 1457.66 Q2294.57 1454.1 2290.93 1454.1 M2290.93 1450.39 Q2296.74 1450.39 2299.8 1455 Q2302.88 1459.58 2302.88 1468.33 Q2302.88 1477.06 2299.8 1481.67 Q2296.74 1486.25 2290.93 1486.25 Q2285.12 1486.25 2282.04 1481.67 Q2278.99 1477.06 2278.99 1468.33 Q2278.99 1459.58 2282.04 1455 Q2285.12 1450.39 2290.93 1450.39 Z\" fill=\"#000000\" fill-rule=\"evenodd\" fill-opacity=\"1\" /><path clip-path=\"url(#clip510)\" d=\"M2321.09 1454.1 Q2317.48 1454.1 2315.65 1457.66 Q2313.85 1461.2 2313.85 1468.33 Q2313.85 1475.44 2315.65 1479.01 Q2317.48 1482.55 2321.09 1482.55 Q2324.73 1482.55 2326.53 1479.01 Q2328.36 1475.44 2328.36 1468.33 Q2328.36 1461.2 2326.53 1457.66 Q2324.73 1454.1 2321.09 1454.1 M2321.09 1450.39 Q2326.9 1450.39 2329.96 1455 Q2333.04 1459.58 2333.04 1468.33 Q2333.04 1477.06 2329.96 1481.67 Q2326.9 1486.25 2321.09 1486.25 Q2315.28 1486.25 2312.21 1481.67 Q2309.15 1477.06 2309.15 1468.33 Q2309.15 1459.58 2312.21 1455 Q2315.28 1450.39 2321.09 1450.39 Z\" fill=\"#000000\" fill-rule=\"evenodd\" fill-opacity=\"1\" /><path clip-path=\"url(#clip510)\" d=\"M1222.08 1522.08 L1222.08 1528.35 Q1218.42 1526.6 1215.17 1525.74 Q1211.92 1524.88 1208.9 1524.88 Q1203.65 1524.88 1200.78 1526.92 Q1197.95 1528.96 1197.95 1532.71 Q1197.95 1535.87 1199.83 1537.49 Q1201.74 1539.08 1207.02 1540.07 L1210.9 1540.86 Q1218.1 1542.23 1221.5 1545.7 Q1224.94 1549.14 1224.94 1554.93 Q1224.94 1561.84 1220.29 1565.4 Q1215.68 1568.97 1206.74 1568.97 Q1203.36 1568.97 1199.54 1568.2 Q1195.75 1567.44 1191.68 1565.94 L1191.68 1559.32 Q1195.6 1561.52 1199.35 1562.63 Q1203.11 1563.75 1206.74 1563.75 Q1212.24 1563.75 1215.23 1561.58 Q1218.23 1559.42 1218.23 1555.41 Q1218.23 1551.91 1216.06 1549.93 Q1213.93 1547.96 1209.03 1546.97 L1205.11 1546.21 Q1197.92 1544.78 1194.7 1541.72 Q1191.49 1538.67 1191.49 1533.22 Q1191.49 1526.92 1195.91 1523.29 Q1200.37 1519.66 1208.17 1519.66 Q1211.51 1519.66 1214.98 1520.27 Q1218.45 1520.87 1222.08 1522.08 Z\" fill=\"#000000\" fill-rule=\"evenodd\" fill-opacity=\"1\" /><path clip-path=\"url(#clip510)\" d=\"M1240.51 1522.27 L1240.51 1532.4 L1252.57 1532.4 L1252.57 1536.95 L1240.51 1536.95 L1240.51 1556.3 Q1240.51 1560.66 1241.68 1561.9 Q1242.89 1563.14 1246.55 1563.14 L1252.57 1563.14 L1252.57 1568.04 L1246.55 1568.04 Q1239.77 1568.04 1237.2 1565.53 Q1234.62 1562.98 1234.62 1556.3 L1234.62 1536.95 L1230.32 1536.95 L1230.32 1532.4 L1234.62 1532.4 L1234.62 1522.27 L1240.51 1522.27 Z\" fill=\"#000000\" fill-rule=\"evenodd\" fill-opacity=\"1\" /><path clip-path=\"url(#clip510)\" d=\"M1290.76 1548.76 L1290.76 1551.62 L1263.84 1551.62 Q1264.22 1557.67 1267.46 1560.85 Q1270.74 1564 1276.57 1564 Q1279.94 1564 1283.09 1563.17 Q1286.27 1562.35 1289.39 1560.69 L1289.39 1566.23 Q1286.24 1567.57 1282.93 1568.27 Q1279.62 1568.97 1276.22 1568.97 Q1267.69 1568.97 1262.69 1564 Q1257.72 1559.04 1257.72 1550.57 Q1257.72 1541.82 1262.44 1536.69 Q1267.18 1531.54 1275.2 1531.54 Q1282.39 1531.54 1286.56 1536.18 Q1290.76 1540.8 1290.76 1548.76 M1284.91 1547.04 Q1284.84 1542.23 1282.2 1539.37 Q1279.59 1536.5 1275.26 1536.5 Q1270.36 1536.5 1267.4 1539.27 Q1264.47 1542.04 1264.03 1547.07 L1284.91 1547.04 Z\" fill=\"#000000\" fill-rule=\"evenodd\" fill-opacity=\"1\" /><path clip-path=\"url(#clip510)\" d=\"M1306.04 1562.7 L1306.04 1581.6 L1300.15 1581.6 L1300.15 1532.4 L1306.04 1532.4 L1306.04 1537.81 Q1307.89 1534.62 1310.69 1533.1 Q1313.52 1531.54 1317.44 1531.54 Q1323.93 1531.54 1327.97 1536.69 Q1332.04 1541.85 1332.04 1550.25 Q1332.04 1558.65 1327.97 1563.81 Q1323.93 1568.97 1317.44 1568.97 Q1313.52 1568.97 1310.69 1567.44 Q1307.89 1565.88 1306.04 1562.7 M1325.97 1550.25 Q1325.97 1543.79 1323.29 1540.13 Q1320.65 1536.44 1316 1536.44 Q1311.36 1536.44 1308.68 1540.13 Q1306.04 1543.79 1306.04 1550.25 Q1306.04 1556.71 1308.68 1560.4 Q1311.36 1564.07 1316 1564.07 Q1320.65 1564.07 1323.29 1560.4 Q1325.97 1556.71 1325.97 1550.25 Z\" fill=\"#000000\" fill-rule=\"evenodd\" fill-opacity=\"1\" /><path clip-path=\"url(#clip510)\" d=\"M1364.48 1533.45 L1364.48 1538.98 Q1361.99 1537.71 1359.32 1537.07 Q1356.65 1536.44 1353.78 1536.44 Q1349.42 1536.44 1347.23 1537.77 Q1345.06 1539.11 1345.06 1541.79 Q1345.06 1543.82 1346.62 1545 Q1348.18 1546.15 1352.89 1547.2 L1354.9 1547.64 Q1361.14 1548.98 1363.75 1551.43 Q1366.39 1553.85 1366.39 1558.21 Q1366.39 1563.17 1362.44 1566.07 Q1358.53 1568.97 1351.65 1568.97 Q1348.79 1568.97 1345.67 1568.39 Q1342.58 1567.85 1339.14 1566.74 L1339.14 1560.69 Q1342.39 1562.38 1345.54 1563.24 Q1348.69 1564.07 1351.78 1564.07 Q1355.92 1564.07 1358.14 1562.66 Q1360.37 1561.23 1360.37 1558.65 Q1360.37 1556.27 1358.75 1554.99 Q1357.16 1553.72 1351.71 1552.54 L1349.68 1552.07 Q1344.23 1550.92 1341.82 1548.56 Q1339.4 1546.18 1339.4 1542.04 Q1339.4 1537.01 1342.96 1534.27 Q1346.53 1531.54 1353.08 1531.54 Q1356.33 1531.54 1359.19 1532.01 Q1362.06 1532.49 1364.48 1533.45 Z\" fill=\"#000000\" fill-rule=\"evenodd\" fill-opacity=\"1\" /><polyline clip-path=\"url(#clip512)\" style=\"stroke:#000000; stroke-linecap:butt; stroke-linejoin:round; stroke-width:2; stroke-opacity:0.1; fill:none\" points=\"\n",
       "  205.121,1384.24 2352.76,1384.24 \n",
       "  \"/>\n",
       "<polyline clip-path=\"url(#clip512)\" style=\"stroke:#000000; stroke-linecap:butt; stroke-linejoin:round; stroke-width:2; stroke-opacity:0.1; fill:none\" points=\"\n",
       "  205.121,1124.63 2352.76,1124.63 \n",
       "  \"/>\n",
       "<polyline clip-path=\"url(#clip512)\" style=\"stroke:#000000; stroke-linecap:butt; stroke-linejoin:round; stroke-width:2; stroke-opacity:0.1; fill:none\" points=\"\n",
       "  205.121,865.017 2352.76,865.017 \n",
       "  \"/>\n",
       "<polyline clip-path=\"url(#clip512)\" style=\"stroke:#000000; stroke-linecap:butt; stroke-linejoin:round; stroke-width:2; stroke-opacity:0.1; fill:none\" points=\"\n",
       "  205.121,605.407 2352.76,605.407 \n",
       "  \"/>\n",
       "<polyline clip-path=\"url(#clip512)\" style=\"stroke:#000000; stroke-linecap:butt; stroke-linejoin:round; stroke-width:2; stroke-opacity:0.1; fill:none\" points=\"\n",
       "  205.121,345.796 2352.76,345.796 \n",
       "  \"/>\n",
       "<polyline clip-path=\"url(#clip512)\" style=\"stroke:#000000; stroke-linecap:butt; stroke-linejoin:round; stroke-width:2; stroke-opacity:0.1; fill:none\" points=\"\n",
       "  205.121,86.1857 2352.76,86.1857 \n",
       "  \"/>\n",
       "<polyline clip-path=\"url(#clip510)\" style=\"stroke:#000000; stroke-linecap:butt; stroke-linejoin:round; stroke-width:4; stroke-opacity:1; fill:none\" points=\"\n",
       "  205.121,1423.18 205.121,47.2441 \n",
       "  \"/>\n",
       "<polyline clip-path=\"url(#clip510)\" style=\"stroke:#000000; stroke-linecap:butt; stroke-linejoin:round; stroke-width:4; stroke-opacity:1; fill:none\" points=\"\n",
       "  205.121,1384.24 224.019,1384.24 \n",
       "  \"/>\n",
       "<polyline clip-path=\"url(#clip510)\" style=\"stroke:#000000; stroke-linecap:butt; stroke-linejoin:round; stroke-width:4; stroke-opacity:1; fill:none\" points=\"\n",
       "  205.121,1124.63 224.019,1124.63 \n",
       "  \"/>\n",
       "<polyline clip-path=\"url(#clip510)\" style=\"stroke:#000000; stroke-linecap:butt; stroke-linejoin:round; stroke-width:4; stroke-opacity:1; fill:none\" points=\"\n",
       "  205.121,865.017 224.019,865.017 \n",
       "  \"/>\n",
       "<polyline clip-path=\"url(#clip510)\" style=\"stroke:#000000; stroke-linecap:butt; stroke-linejoin:round; stroke-width:4; stroke-opacity:1; fill:none\" points=\"\n",
       "  205.121,605.407 224.019,605.407 \n",
       "  \"/>\n",
       "<polyline clip-path=\"url(#clip510)\" style=\"stroke:#000000; stroke-linecap:butt; stroke-linejoin:round; stroke-width:4; stroke-opacity:1; fill:none\" points=\"\n",
       "  205.121,345.796 224.019,345.796 \n",
       "  \"/>\n",
       "<polyline clip-path=\"url(#clip510)\" style=\"stroke:#000000; stroke-linecap:butt; stroke-linejoin:round; stroke-width:4; stroke-opacity:1; fill:none\" points=\"\n",
       "  205.121,86.1857 224.019,86.1857 \n",
       "  \"/>\n",
       "<path clip-path=\"url(#clip510)\" d=\"M157.177 1370.04 Q153.566 1370.04 151.737 1373.6 Q149.931 1377.14 149.931 1384.27 Q149.931 1391.38 151.737 1394.94 Q153.566 1398.49 157.177 1398.49 Q160.811 1398.49 162.616 1394.94 Q164.445 1391.38 164.445 1384.27 Q164.445 1377.14 162.616 1373.6 Q160.811 1370.04 157.177 1370.04 M157.177 1366.33 Q162.987 1366.33 166.042 1370.94 Q169.121 1375.52 169.121 1384.27 Q169.121 1393 166.042 1397.61 Q162.987 1402.19 157.177 1402.19 Q151.366 1402.19 148.288 1397.61 Q145.232 1393 145.232 1384.27 Q145.232 1375.52 148.288 1370.94 Q151.366 1366.33 157.177 1366.33 Z\" fill=\"#000000\" fill-rule=\"evenodd\" fill-opacity=\"1\" /><path clip-path=\"url(#clip510)\" d=\"M117.825 1137.97 L125.464 1137.97 L125.464 1111.61 L117.154 1113.27 L117.154 1109.01 L125.418 1107.35 L130.093 1107.35 L130.093 1137.97 L137.732 1137.97 L137.732 1141.91 L117.825 1141.91 L117.825 1137.97 Z\" fill=\"#000000\" fill-rule=\"evenodd\" fill-opacity=\"1\" /><path clip-path=\"url(#clip510)\" d=\"M157.177 1110.43 Q153.566 1110.43 151.737 1113.99 Q149.931 1117.53 149.931 1124.66 Q149.931 1131.77 151.737 1135.33 Q153.566 1138.88 157.177 1138.88 Q160.811 1138.88 162.616 1135.33 Q164.445 1131.77 164.445 1124.66 Q164.445 1117.53 162.616 1113.99 Q160.811 1110.43 157.177 1110.43 M157.177 1106.72 Q162.987 1106.72 166.042 1111.33 Q169.121 1115.91 169.121 1124.66 Q169.121 1133.39 166.042 1138 Q162.987 1142.58 157.177 1142.58 Q151.366 1142.58 148.288 1138 Q145.232 1133.39 145.232 1124.66 Q145.232 1115.91 148.288 1111.33 Q151.366 1106.72 157.177 1106.72 Z\" fill=\"#000000\" fill-rule=\"evenodd\" fill-opacity=\"1\" /><path clip-path=\"url(#clip510)\" d=\"M121.043 878.362 L137.362 878.362 L137.362 882.297 L115.418 882.297 L115.418 878.362 Q118.08 875.607 122.663 870.978 Q127.269 866.325 128.45 864.983 Q130.695 862.459 131.575 860.723 Q132.478 858.964 132.478 857.274 Q132.478 854.52 130.533 852.783 Q128.612 851.047 125.51 851.047 Q123.311 851.047 120.857 851.811 Q118.427 852.575 115.649 854.126 L115.649 849.404 Q118.473 848.27 120.927 847.691 Q123.38 847.112 125.418 847.112 Q130.788 847.112 133.982 849.797 Q137.177 852.483 137.177 856.973 Q137.177 859.103 136.367 861.024 Q135.579 862.922 133.473 865.515 Q132.894 866.186 129.792 869.404 Q126.691 872.598 121.043 878.362 Z\" fill=\"#000000\" fill-rule=\"evenodd\" fill-opacity=\"1\" /><path clip-path=\"url(#clip510)\" d=\"M157.177 850.816 Q153.566 850.816 151.737 854.381 Q149.931 857.922 149.931 865.052 Q149.931 872.158 151.737 875.723 Q153.566 879.265 157.177 879.265 Q160.811 879.265 162.616 875.723 Q164.445 872.158 164.445 865.052 Q164.445 857.922 162.616 854.381 Q160.811 850.816 157.177 850.816 M157.177 847.112 Q162.987 847.112 166.042 851.719 Q169.121 856.302 169.121 865.052 Q169.121 873.779 166.042 878.385 Q162.987 882.969 157.177 882.969 Q151.366 882.969 148.288 878.385 Q145.232 873.779 145.232 865.052 Q145.232 856.302 148.288 851.719 Q151.366 847.112 157.177 847.112 Z\" fill=\"#000000\" fill-rule=\"evenodd\" fill-opacity=\"1\" /><path clip-path=\"url(#clip510)\" d=\"M131.181 604.053 Q134.538 604.77 136.413 607.039 Q138.311 609.307 138.311 612.64 Q138.311 617.756 134.792 620.557 Q131.274 623.358 124.793 623.358 Q122.617 623.358 120.302 622.918 Q118.01 622.502 115.556 621.645 L115.556 617.131 Q117.501 618.265 119.816 618.844 Q122.13 619.423 124.654 619.423 Q129.052 619.423 131.343 617.687 Q133.658 615.951 133.658 612.64 Q133.658 609.585 131.505 607.872 Q129.376 606.136 125.556 606.136 L121.529 606.136 L121.529 602.293 L125.742 602.293 Q129.191 602.293 131.019 600.928 Q132.848 599.539 132.848 596.946 Q132.848 594.284 130.95 592.872 Q129.075 591.437 125.556 591.437 Q123.635 591.437 121.436 591.854 Q119.237 592.27 116.598 593.15 L116.598 588.983 Q119.26 588.242 121.575 587.872 Q123.913 587.502 125.973 587.502 Q131.297 587.502 134.399 589.932 Q137.501 592.34 137.501 596.46 Q137.501 599.33 135.857 601.321 Q134.214 603.289 131.181 604.053 Z\" fill=\"#000000\" fill-rule=\"evenodd\" fill-opacity=\"1\" /><path clip-path=\"url(#clip510)\" d=\"M157.177 591.205 Q153.566 591.205 151.737 594.77 Q149.931 598.312 149.931 605.441 Q149.931 612.548 151.737 616.113 Q153.566 619.654 157.177 619.654 Q160.811 619.654 162.616 616.113 Q164.445 612.548 164.445 605.441 Q164.445 598.312 162.616 594.77 Q160.811 591.205 157.177 591.205 M157.177 587.502 Q162.987 587.502 166.042 592.108 Q169.121 596.691 169.121 605.441 Q169.121 614.168 166.042 618.775 Q162.987 623.358 157.177 623.358 Q151.366 623.358 148.288 618.775 Q145.232 614.168 145.232 605.441 Q145.232 596.691 148.288 592.108 Q151.366 587.502 157.177 587.502 Z\" fill=\"#000000\" fill-rule=\"evenodd\" fill-opacity=\"1\" /><path clip-path=\"url(#clip510)\" d=\"M129.862 332.59 L118.056 351.039 L129.862 351.039 L129.862 332.59 M128.635 328.516 L134.515 328.516 L134.515 351.039 L139.445 351.039 L139.445 354.928 L134.515 354.928 L134.515 363.076 L129.862 363.076 L129.862 354.928 L114.26 354.928 L114.26 350.414 L128.635 328.516 Z\" fill=\"#000000\" fill-rule=\"evenodd\" fill-opacity=\"1\" /><path clip-path=\"url(#clip510)\" d=\"M157.177 331.595 Q153.566 331.595 151.737 335.16 Q149.931 338.701 149.931 345.831 Q149.931 352.937 151.737 356.502 Q153.566 360.044 157.177 360.044 Q160.811 360.044 162.616 356.502 Q164.445 352.937 164.445 345.831 Q164.445 338.701 162.616 335.16 Q160.811 331.595 157.177 331.595 M157.177 327.891 Q162.987 327.891 166.042 332.498 Q169.121 337.081 169.121 345.831 Q169.121 354.558 166.042 359.164 Q162.987 363.747 157.177 363.747 Q151.366 363.747 148.288 359.164 Q145.232 354.558 145.232 345.831 Q145.232 337.081 148.288 332.498 Q151.366 327.891 157.177 327.891 Z\" fill=\"#000000\" fill-rule=\"evenodd\" fill-opacity=\"1\" /><path clip-path=\"url(#clip510)\" d=\"M117.061 68.9057 L135.417 68.9057 L135.417 72.8408 L121.343 72.8408 L121.343 81.313 Q122.362 80.9658 123.38 80.8038 Q124.399 80.6186 125.418 80.6186 Q131.205 80.6186 134.584 83.7899 Q137.964 86.9611 137.964 92.3778 Q137.964 97.9564 134.492 101.058 Q131.019 104.137 124.7 104.137 Q122.524 104.137 120.255 103.767 Q118.01 103.396 115.603 102.655 L115.603 97.9564 Q117.686 99.0907 119.908 99.6462 Q122.13 100.202 124.607 100.202 Q128.612 100.202 130.95 98.0953 Q133.288 95.9889 133.288 92.3778 Q133.288 88.7667 130.95 86.6602 Q128.612 84.5537 124.607 84.5537 Q122.732 84.5537 120.857 84.9704 Q119.006 85.3871 117.061 86.2667 L117.061 68.9057 Z\" fill=\"#000000\" fill-rule=\"evenodd\" fill-opacity=\"1\" /><path clip-path=\"url(#clip510)\" d=\"M157.177 71.9844 Q153.566 71.9844 151.737 75.5492 Q149.931 79.0908 149.931 86.2204 Q149.931 93.3268 151.737 96.8916 Q153.566 100.433 157.177 100.433 Q160.811 100.433 162.616 96.8916 Q164.445 93.3268 164.445 86.2204 Q164.445 79.0908 162.616 75.5492 Q160.811 71.9844 157.177 71.9844 M157.177 68.2807 Q162.987 68.2807 166.042 72.8871 Q169.121 77.4704 169.121 86.2204 Q169.121 94.9472 166.042 99.5537 Q162.987 104.137 157.177 104.137 Q151.366 104.137 148.288 99.5537 Q145.232 94.9472 145.232 86.2204 Q145.232 77.4704 148.288 72.8871 Q151.366 68.2807 157.177 68.2807 Z\" fill=\"#000000\" fill-rule=\"evenodd\" fill-opacity=\"1\" /><path clip-path=\"url(#clip510)\" d=\"M16.4842 813.335 L16.4842 773.136 L21.895 773.136 L21.895 790.005 L64.0042 790.005 L64.0042 796.466 L21.895 796.466 L21.895 813.335 L16.4842 813.335 Z\" fill=\"#000000\" fill-rule=\"evenodd\" fill-opacity=\"1\" /><path clip-path=\"url(#clip510)\" d=\"M28.3562 769.189 L28.3562 763.332 L64.0042 763.332 L64.0042 769.189 L28.3562 769.189 M14.479 769.189 L14.479 763.332 L21.895 763.332 L21.895 769.189 L14.479 769.189 Z\" fill=\"#000000\" fill-rule=\"evenodd\" fill-opacity=\"1\" /><path clip-path=\"url(#clip510)\" d=\"M35.1993 723.324 Q31.2526 721.128 29.3747 718.072 Q27.4968 715.017 27.4968 710.879 Q27.4968 705.309 31.4117 702.285 Q35.2948 699.262 42.4881 699.262 L64.0042 699.262 L64.0042 705.15 L42.679 705.15 Q37.5546 705.15 35.072 706.964 Q32.5894 708.778 32.5894 712.502 Q32.5894 717.054 35.6131 719.696 Q38.6368 722.337 43.8567 722.337 L64.0042 722.337 L64.0042 728.226 L42.679 728.226 Q37.5228 728.226 35.072 730.04 Q32.5894 731.854 32.5894 735.642 Q32.5894 740.129 35.6449 742.771 Q38.6686 745.413 43.8567 745.413 L64.0042 745.413 L64.0042 751.301 L28.3562 751.301 L28.3562 745.413 L33.8944 745.413 Q30.616 743.408 29.0564 740.607 Q27.4968 737.806 27.4968 733.955 Q27.4968 730.072 29.4702 727.366 Q31.4436 724.629 35.1993 723.324 Z\" fill=\"#000000\" fill-rule=\"evenodd\" fill-opacity=\"1\" /><path clip-path=\"url(#clip510)\" d=\"M44.7161 657.089 L47.5806 657.089 L47.5806 684.016 Q53.6281 683.634 56.8109 680.387 Q59.9619 677.109 59.9619 671.284 Q59.9619 667.911 59.1344 664.76 Q58.3069 661.577 56.6518 658.457 L62.1899 658.457 Q63.5267 661.608 64.227 664.919 Q64.9272 668.229 64.9272 671.634 Q64.9272 680.165 59.9619 685.162 Q54.9967 690.127 46.5303 690.127 Q37.7774 690.127 32.6531 685.416 Q27.4968 680.674 27.4968 672.653 Q27.4968 665.46 32.1438 661.29 Q36.7589 657.089 44.7161 657.089 M42.9973 662.945 Q38.1912 663.009 35.3266 665.651 Q32.4621 668.261 32.4621 672.589 Q32.4621 677.491 35.2312 680.451 Q38.0002 683.379 43.0292 683.825 L42.9973 662.945 Z\" fill=\"#000000\" fill-rule=\"evenodd\" fill-opacity=\"1\" /><polyline clip-path=\"url(#clip512)\" style=\"stroke:#009af9; stroke-linecap:butt; stroke-linejoin:round; stroke-width:4; stroke-opacity:1; fill:none\" points=\"\n",
       "  265.903,735.212 286.368,790.95 306.834,821.065 327.299,830.074 347.765,833.734 368.23,836.642 388.695,840.043 409.161,839.653 429.626,839.134 450.091,839.056 \n",
       "  470.557,837.914 491.022,835.681 511.487,837.161 531.953,833.812 552.418,833.215 572.884,833.526 593.349,832.099 613.814,830.619 634.28,830.619 654.745,830.619 \n",
       "  675.21,827.504 695.676,826.335 716.141,824.7 736.606,823.843 757.072,822.519 777.537,819.508 798.002,816.392 818.468,814.912 838.933,814.912 859.399,813.173 \n",
       "  879.864,813.173 900.329,813.173 920.795,811.641 941.26,810.058 961.725,806.631 982.191,806.631 1002.66,803.1 1023.12,803.1 1043.59,803.1 1064.05,801.205 \n",
       "  1084.52,801.205 1104.98,801.361 1125.45,801.361 1145.91,801.361 1166.38,799.466 1186.84,799.466 1207.31,799.466 1227.78,799.466 1248.24,799.466 1268.71,799.466 \n",
       "  1289.17,799.466 1309.64,795.727 1330.1,795.831 1350.57,795.831 1371.03,795.831 1391.5,795.831 1411.96,795.831 1432.43,791.989 1452.89,791.989 1473.36,791.989 \n",
       "  1493.82,790.042 1514.29,790.042 1534.76,790.042 1555.22,790.042 1575.69,790.042 1596.15,788.043 1616.62,788.043 1637.08,788.043 1657.55,788.043 1678.01,788.043 \n",
       "  1698.48,788.043 1718.94,788.043 1739.41,788.043 1759.87,788.043 1780.34,788.043 1800.81,788.043 1821.27,788.043 1841.74,788.043 1862.2,785.992 1882.67,783.889 \n",
       "  1903.13,779.735 1923.6,779.735 1944.06,777.528 1964.53,777.528 1984.99,773.375 2005.46,773.375 2025.92,773.375 2046.39,773.375 2066.85,773.375 2087.32,773.375 \n",
       "  2107.79,771.22 2128.25,771.22 2148.72,771.22 2169.18,771.22 2189.65,771.22 2210.11,771.22 2230.58,771.22 2251.04,771.22 2271.51,771.22 2291.97,771.22 \n",
       "  \n",
       "  \"/>\n",
       "<path clip-path=\"url(#clip510)\" d=\"\n",
       "M1574.62 196.789 L2281.17 196.789 L2281.17 93.1086 L1574.62 93.1086  Z\n",
       "  \" fill=\"#ffffff\" fill-rule=\"evenodd\" fill-opacity=\"1\"/>\n",
       "<polyline clip-path=\"url(#clip510)\" style=\"stroke:#000000; stroke-linecap:butt; stroke-linejoin:round; stroke-width:4; stroke-opacity:1; fill:none\" points=\"\n",
       "  1574.62,196.789 2281.17,196.789 2281.17,93.1086 1574.62,93.1086 1574.62,196.789 \n",
       "  \"/>\n",
       "<polyline clip-path=\"url(#clip510)\" style=\"stroke:#009af9; stroke-linecap:butt; stroke-linejoin:round; stroke-width:4; stroke-opacity:1; fill:none\" points=\"\n",
       "  1598.62,144.949 1742.62,144.949 \n",
       "  \"/>\n",
       "<path clip-path=\"url(#clip510)\" d=\"M1782.45 132.275 L1776.11 149.474 L1788.82 149.474 L1782.45 132.275 M1779.81 127.669 L1785.11 127.669 L1798.29 162.229 L1793.43 162.229 L1790.28 153.363 L1774.7 153.363 L1771.55 162.229 L1766.62 162.229 L1779.81 127.669 Z\" fill=\"#000000\" fill-rule=\"evenodd\" fill-opacity=\"1\" /><path clip-path=\"url(#clip510)\" d=\"M1797.31 136.303 L1801.83 136.303 L1809.93 158.062 L1818.03 136.303 L1822.55 136.303 L1812.82 162.229 L1807.04 162.229 L1797.31 136.303 Z\" fill=\"#000000\" fill-rule=\"evenodd\" fill-opacity=\"1\" /><path clip-path=\"url(#clip510)\" d=\"M1850.6 148.201 L1850.6 150.284 L1831.02 150.284 Q1831.3 154.682 1833.66 156.997 Q1836.04 159.289 1840.28 159.289 Q1842.73 159.289 1845.02 158.687 Q1847.34 158.085 1849.61 156.881 L1849.61 160.909 Q1847.31 161.881 1844.91 162.391 Q1842.5 162.9 1840.02 162.9 Q1833.82 162.9 1830.18 159.289 Q1826.57 155.678 1826.57 149.52 Q1826.57 143.155 1830 139.428 Q1833.45 135.678 1839.28 135.678 Q1844.51 135.678 1847.55 139.057 Q1850.6 142.414 1850.6 148.201 M1846.34 146.951 Q1846.3 143.456 1844.37 141.372 Q1842.48 139.289 1839.33 139.289 Q1835.76 139.289 1833.61 141.303 Q1831.48 143.317 1831.16 146.974 L1846.34 146.951 Z\" fill=\"#000000\" fill-rule=\"evenodd\" fill-opacity=\"1\" /><path clip-path=\"url(#clip510)\" d=\"M1872.61 140.284 Q1871.9 139.868 1871.04 139.682 Q1870.21 139.474 1869.19 139.474 Q1865.58 139.474 1863.63 141.835 Q1861.71 144.173 1861.71 148.571 L1861.71 162.229 L1857.43 162.229 L1857.43 136.303 L1861.71 136.303 L1861.71 140.331 Q1863.05 137.969 1865.21 136.835 Q1867.36 135.678 1870.44 135.678 Q1870.88 135.678 1871.41 135.747 Q1871.94 135.794 1872.59 135.909 L1872.61 140.284 Z\" fill=\"#000000\" fill-rule=\"evenodd\" fill-opacity=\"1\" /><path clip-path=\"url(#clip510)\" d=\"M1888.86 149.196 Q1883.7 149.196 1881.71 150.377 Q1879.72 151.557 1879.72 154.405 Q1879.72 156.673 1881.2 158.016 Q1882.71 159.335 1885.28 159.335 Q1888.82 159.335 1890.95 156.835 Q1893.1 154.312 1893.1 150.145 L1893.1 149.196 L1888.86 149.196 M1897.36 147.437 L1897.36 162.229 L1893.1 162.229 L1893.1 158.293 Q1891.64 160.655 1889.47 161.789 Q1887.29 162.9 1884.14 162.9 Q1880.16 162.9 1877.8 160.678 Q1875.46 158.432 1875.46 154.682 Q1875.46 150.307 1878.38 148.085 Q1881.32 145.863 1887.13 145.863 L1893.1 145.863 L1893.1 145.446 Q1893.1 142.507 1891.16 140.909 Q1889.23 139.289 1885.74 139.289 Q1883.52 139.289 1881.41 139.821 Q1879.3 140.354 1877.36 141.419 L1877.36 137.483 Q1879.7 136.581 1881.9 136.141 Q1884.1 135.678 1886.18 135.678 Q1891.8 135.678 1894.58 138.594 Q1897.36 141.511 1897.36 147.437 Z\" fill=\"#000000\" fill-rule=\"evenodd\" fill-opacity=\"1\" /><path clip-path=\"url(#clip510)\" d=\"M1923.19 148.965 Q1923.19 144.335 1921.27 141.789 Q1919.37 139.243 1915.92 139.243 Q1912.5 139.243 1910.58 141.789 Q1908.68 144.335 1908.68 148.965 Q1908.68 153.571 1910.58 156.118 Q1912.5 158.664 1915.92 158.664 Q1919.37 158.664 1921.27 156.118 Q1923.19 153.571 1923.19 148.965 M1927.45 159.011 Q1927.45 165.631 1924.51 168.849 Q1921.57 172.09 1915.51 172.09 Q1913.26 172.09 1911.27 171.742 Q1909.28 171.418 1907.41 170.724 L1907.41 166.58 Q1909.28 167.599 1911.11 168.085 Q1912.94 168.571 1914.84 168.571 Q1919.03 168.571 1921.11 166.372 Q1923.19 164.196 1923.19 159.775 L1923.19 157.668 Q1921.87 159.96 1919.81 161.094 Q1917.75 162.229 1914.88 162.229 Q1910.11 162.229 1907.2 158.594 Q1904.28 154.96 1904.28 148.965 Q1904.28 142.946 1907.2 139.312 Q1910.11 135.678 1914.88 135.678 Q1917.75 135.678 1919.81 136.812 Q1921.87 137.946 1923.19 140.238 L1923.19 136.303 L1927.45 136.303 L1927.45 159.011 Z\" fill=\"#000000\" fill-rule=\"evenodd\" fill-opacity=\"1\" /><path clip-path=\"url(#clip510)\" d=\"M1958.4 148.201 L1958.4 150.284 L1938.82 150.284 Q1939.1 154.682 1941.46 156.997 Q1943.84 159.289 1948.08 159.289 Q1950.53 159.289 1952.82 158.687 Q1955.14 158.085 1957.41 156.881 L1957.41 160.909 Q1955.11 161.881 1952.71 162.391 Q1950.3 162.9 1947.82 162.9 Q1941.62 162.9 1937.98 159.289 Q1934.37 155.678 1934.37 149.52 Q1934.37 143.155 1937.8 139.428 Q1941.25 135.678 1947.08 135.678 Q1952.31 135.678 1955.35 139.057 Q1958.4 142.414 1958.4 148.201 M1954.14 146.951 Q1954.1 143.456 1952.17 141.372 Q1950.28 139.289 1947.13 139.289 Q1943.56 139.289 1941.41 141.303 Q1939.28 143.317 1938.96 146.974 L1954.14 146.951 Z\" fill=\"#000000\" fill-rule=\"evenodd\" fill-opacity=\"1\" /><path clip-path=\"url(#clip510)\" d=\"M1984.67 128.942 L1984.67 136.303 L1993.45 136.303 L1993.45 139.613 L1984.67 139.613 L1984.67 153.687 Q1984.67 156.858 1985.53 157.761 Q1986.41 158.664 1989.07 158.664 L1993.45 158.664 L1993.45 162.229 L1989.07 162.229 Q1984.14 162.229 1982.27 160.4 Q1980.39 158.548 1980.39 153.687 L1980.39 139.613 L1977.27 139.613 L1977.27 136.303 L1980.39 136.303 L1980.39 128.942 L1984.67 128.942 Z\" fill=\"#000000\" fill-rule=\"evenodd\" fill-opacity=\"1\" /><path clip-path=\"url(#clip510)\" d=\"M2014.07 140.284 Q2013.35 139.868 2012.5 139.682 Q2011.66 139.474 2010.65 139.474 Q2007.04 139.474 2005.09 141.835 Q2003.17 144.173 2003.17 148.571 L2003.17 162.229 L1998.89 162.229 L1998.89 136.303 L2003.17 136.303 L2003.17 140.331 Q2004.51 137.969 2006.66 136.835 Q2008.82 135.678 2011.9 135.678 Q2012.34 135.678 2012.87 135.747 Q2013.4 135.794 2014.05 135.909 L2014.07 140.284 Z\" fill=\"#000000\" fill-rule=\"evenodd\" fill-opacity=\"1\" /><path clip-path=\"url(#clip510)\" d=\"M2030.32 149.196 Q2025.16 149.196 2023.17 150.377 Q2021.18 151.557 2021.18 154.405 Q2021.18 156.673 2022.66 158.016 Q2024.16 159.335 2026.73 159.335 Q2030.28 159.335 2032.41 156.835 Q2034.56 154.312 2034.56 150.145 L2034.56 149.196 L2030.32 149.196 M2038.82 147.437 L2038.82 162.229 L2034.56 162.229 L2034.56 158.293 Q2033.1 160.655 2030.92 161.789 Q2028.75 162.9 2025.6 162.9 Q2021.62 162.9 2019.26 160.678 Q2016.92 158.432 2016.92 154.682 Q2016.92 150.307 2019.84 148.085 Q2022.78 145.863 2028.59 145.863 L2034.56 145.863 L2034.56 145.446 Q2034.56 142.507 2032.61 140.909 Q2030.69 139.289 2027.2 139.289 Q2024.97 139.289 2022.87 139.821 Q2020.76 140.354 2018.82 141.419 L2018.82 137.483 Q2021.16 136.581 2023.35 136.141 Q2025.55 135.678 2027.64 135.678 Q2033.26 135.678 2036.04 138.594 Q2038.82 141.511 2038.82 147.437 Z\" fill=\"#000000\" fill-rule=\"evenodd\" fill-opacity=\"1\" /><path clip-path=\"url(#clip510)\" d=\"M2044.53 136.303 L2049.05 136.303 L2057.15 158.062 L2065.25 136.303 L2069.77 136.303 L2060.04 162.229 L2054.26 162.229 L2044.53 136.303 Z\" fill=\"#000000\" fill-rule=\"evenodd\" fill-opacity=\"1\" /><path clip-path=\"url(#clip510)\" d=\"M2097.82 148.201 L2097.82 150.284 L2078.24 150.284 Q2078.52 154.682 2080.88 156.997 Q2083.26 159.289 2087.5 159.289 Q2089.95 159.289 2092.24 158.687 Q2094.56 158.085 2096.83 156.881 L2096.83 160.909 Q2094.53 161.881 2092.13 162.391 Q2089.72 162.9 2087.24 162.9 Q2081.04 162.9 2077.41 159.289 Q2073.79 155.678 2073.79 149.52 Q2073.79 143.155 2077.22 139.428 Q2080.67 135.678 2086.5 135.678 Q2091.73 135.678 2094.77 139.057 Q2097.82 142.414 2097.82 148.201 M2093.56 146.951 Q2093.52 143.456 2091.59 141.372 Q2089.7 139.289 2086.55 139.289 Q2082.98 139.289 2080.83 141.303 Q2078.7 143.317 2078.38 146.974 L2093.56 146.951 Z\" fill=\"#000000\" fill-rule=\"evenodd\" fill-opacity=\"1\" /><path clip-path=\"url(#clip510)\" d=\"M2104.81 126.21 L2109.07 126.21 L2109.07 162.229 L2104.81 162.229 L2104.81 126.21 Z\" fill=\"#000000\" fill-rule=\"evenodd\" fill-opacity=\"1\" /><path clip-path=\"url(#clip510)\" d=\"M2137.27 128.942 L2137.27 136.303 L2146.04 136.303 L2146.04 139.613 L2137.27 139.613 L2137.27 153.687 Q2137.27 156.858 2138.12 157.761 Q2139 158.664 2141.66 158.664 L2146.04 158.664 L2146.04 162.229 L2141.66 162.229 Q2136.73 162.229 2134.86 160.4 Q2132.98 158.548 2132.98 153.687 L2132.98 139.613 L2129.86 139.613 L2129.86 136.303 L2132.98 136.303 L2132.98 128.942 L2137.27 128.942 Z\" fill=\"#000000\" fill-rule=\"evenodd\" fill-opacity=\"1\" /><path clip-path=\"url(#clip510)\" d=\"M2151.64 136.303 L2155.9 136.303 L2155.9 162.229 L2151.64 162.229 L2151.64 136.303 M2151.64 126.21 L2155.9 126.21 L2155.9 131.604 L2151.64 131.604 L2151.64 126.21 Z\" fill=\"#000000\" fill-rule=\"evenodd\" fill-opacity=\"1\" /><path clip-path=\"url(#clip510)\" d=\"M2185 141.28 Q2186.59 138.409 2188.82 137.044 Q2191.04 135.678 2194.05 135.678 Q2198.1 135.678 2200.3 138.525 Q2202.5 141.349 2202.5 146.581 L2202.5 162.229 L2198.21 162.229 L2198.21 146.719 Q2198.21 142.993 2196.9 141.187 Q2195.58 139.382 2192.87 139.382 Q2189.56 139.382 2187.64 141.581 Q2185.71 143.78 2185.71 147.576 L2185.71 162.229 L2181.43 162.229 L2181.43 146.719 Q2181.43 142.969 2180.11 141.187 Q2178.79 139.382 2176.04 139.382 Q2172.77 139.382 2170.85 141.604 Q2168.93 143.803 2168.93 147.576 L2168.93 162.229 L2164.65 162.229 L2164.65 136.303 L2168.93 136.303 L2168.93 140.331 Q2170.39 137.946 2172.43 136.812 Q2174.46 135.678 2177.27 135.678 Q2180.09 135.678 2182.06 137.113 Q2184.05 138.548 2185 141.28 Z\" fill=\"#000000\" fill-rule=\"evenodd\" fill-opacity=\"1\" /><path clip-path=\"url(#clip510)\" d=\"M2233.17 148.201 L2233.17 150.284 L2213.58 150.284 Q2213.86 154.682 2216.22 156.997 Q2218.61 159.289 2222.84 159.289 Q2225.3 159.289 2227.59 158.687 Q2229.9 158.085 2232.17 156.881 L2232.17 160.909 Q2229.88 161.881 2227.47 162.391 Q2225.07 162.9 2222.59 162.9 Q2216.39 162.9 2212.75 159.289 Q2209.14 155.678 2209.14 149.52 Q2209.14 143.155 2212.57 139.428 Q2216.02 135.678 2221.85 135.678 Q2227.08 135.678 2230.11 139.057 Q2233.17 142.414 2233.17 148.201 M2228.91 146.951 Q2228.86 143.456 2226.94 141.372 Q2225.04 139.289 2221.89 139.289 Q2218.33 139.289 2216.18 141.303 Q2214.05 143.317 2213.72 146.974 L2228.91 146.951 Z\" fill=\"#000000\" fill-rule=\"evenodd\" fill-opacity=\"1\" /></svg>\n"
      ]
     },
     "execution_count": 31,
     "metadata": {},
     "output_type": "execute_result"
    }
   ],
   "source": [
    "p3"
   ]
  },
  {
   "cell_type": "markdown",
   "metadata": {
    "nbpresent": {
     "id": "5e33951d-031b-4217-96df-b6d8513d695c"
    }
   },
   "source": [
    "The fact that adding *extra capacity* to transport networks can sometimes result in *increased* journey times is known as Braess' paradox."
   ]
  },
  {
   "cell_type": "markdown",
   "metadata": {
    "nbpresent": {
     "id": "377222de-06fd-4724-b07d-6a20ca4f5e2c"
    },
    "slideshow": {
     "slide_type": "slide"
    }
   },
   "source": [
    "## Mathematical analysis of the congestion game: decision variables and constraints\n",
    "Let us now formulate the congestion game as an optimisation problem.\n",
    "\n",
    "Decision variables: link and path flows:\n",
    "$$X = (x_1, \\ldots, x_{n_v}, h_1, \\ldots h_{n_p})$$\n",
    "These variables are not all independent. The following **constraints** must be satisfied:\n",
    "* Flows are non-negative:\n",
    "$$x_i\\geq 0\\ \\ \\ i=1\\ldots n_v$$\n",
    "$$h_j\\geq 0\\ \\ \\ j=1\\ldots n_p$$"
   ]
  },
  {
   "cell_type": "markdown",
   "metadata": {
    "nbpresent": {
     "id": "377222de-06fd-4724-b07d-6a20ca4f5e2c"
    },
    "slideshow": {
     "slide_type": "slide"
    }
   },
   "source": [
    "## Mathematical analysis of the congestion game: decision variables and constraints\n",
    "\n",
    "* Path flows must match demand:\n",
    "$$\\sum_{i=1}^{n_p} h_i = 100$$\n",
    "* Link flows must be consistent with path flows:\n",
    "$$ \\sum_{j=1}^{n_p} A_{i\\,j}\\,h_j = x_i  \\ \\ \\ i=1\\ldots n_v$$"
   ]
  },
  {
   "cell_type": "markdown",
   "metadata": {
    "nbpresent": {
     "id": "8c4b4cef-f90f-418a-b0e8-4ba049a843e2"
    },
    "slideshow": {
     "slide_type": "slide"
    }
   },
   "source": [
    "## Mathematical analysis of the congestion game: optimand\n",
    "\n",
    "What to optimise? Total travel time?\n",
    "\n",
    "$$ F_{SO}(X) = \\sum_{i=1}^{n_v} x_i\\, \\tau_i(x_i) $$.\n",
    "\n",
    "We already know from our ABM that minimising the total travel time does not yield a Wardrop equilibrium. Minimising the total travel time yields a flow pattern which is called the \"social optimum\"."
   ]
  },
  {
   "cell_type": "markdown",
   "metadata": {
    "nbpresent": {
     "id": "8c4b4cef-f90f-418a-b0e8-4ba049a843e2"
    },
    "slideshow": {
     "slide_type": "slide"
    }
   },
   "source": [
    "## Mathematical analysis of the congestion game: optimand\n",
    "\n",
    "A flow pattern corresponding to a Wardrop equilibrium is obtained by minimising the Beckmann potential:\n",
    "\n",
    "$$ F_{WE}(X) = \\sum_{i=1}^{n_v} \\int_0^{x_i}\\, \\tau_i(\\chi)\\ d\\chi.$$\n",
    "\n",
    "This is not obvious. The difference between the social optimum and the Wardrop equilibrium is called the \"price of anarchy\". "
   ]
  },
  {
   "cell_type": "markdown",
   "metadata": {
    "nbpresent": {
     "id": "4930130b-637f-4cea-8835-9597ed662bc9"
    },
    "slideshow": {
     "slide_type": "slide"
    }
   },
   "source": [
    "## A closer look at the Beckmann potential\n",
    "\n",
    "Why does the minimising the Beckmann potential produce a Wardrop equilibrium? Consider the discrete case:\n",
    "\n",
    "$$ F_{WE}(X) = \\sum_{i=1}^{n_v} \\sum_{n=1}^{x_i} \\tau_i(n)$$\n",
    "\n",
    "Suppose the $x_i$ are such that $F_{WE}$ is a minimum (there is at least one such choice) that is *not* a Wardrop equilibrium.\n",
    "\n",
    "Then there is at least one driver (on route A with edges $e_1, e_2,\\ldots e_n$ say)  who can improve travel time by switching route (to route B with edges $e_1^\\prime, e_2^\\prime \\ldots e_m^\\prime$ say). "
   ]
  },
  {
   "cell_type": "markdown",
   "metadata": {
    "nbpresent": {
     "id": "4930130b-637f-4cea-8835-9597ed662bc9"
    },
    "slideshow": {
     "slide_type": "slide"
    }
   },
   "source": [
    "## A closer look at the Beckmann potential\n",
    "\n",
    "Upon switching, $F_{WE}$ decreases by $\\sum_{j=1}^n \\tau_{e_j}(x_{e_j})$ which is the travel time for route A and then increases by the new travel time for route B.\n",
    "\n",
    "Since the the travel time of B is less than that of A, $F_{WE}$ decreases.\n",
    "\n",
    "This contradicts the initial assumption of a minimum."
   ]
  },
  {
   "cell_type": "markdown",
   "metadata": {
    "nbpresent": {
     "id": "2251c402-3b92-418e-bda8-3868689d2b22"
    },
    "slideshow": {
     "slide_type": "slide"
    }
   },
   "source": [
    "## Homework (or exam!) question\n",
    "Consider the network above with demand-delay functions:\n",
    "1. [1,2] : $\\tau_1(x) = x/10 $ \n",
    "2. [1,3] : $\\tau_2(x) = 15 $ \n",
    "3. [2,3] : $\\tau_3(x) = 5 $ \n",
    "4. [2,4] : $\\tau_4(x) = 15 $ \n",
    "5. [3,4] : $\\tau_5(x) = x/10 $ \n",
    "\n",
    "Label the paths p1 = [1,2,4], p2 = [1,3,4], p3 = [1,2,3,4]\n",
    "* Show that minimising $F_{SO}(X)$ gives $h_1=50$, $h_2 = 50$ and $h_3 = 0$ and a travel time of 20.0.\n",
    "* Show that miminimising $F_{WE}(X)$ gives $h_1=0$, $h_2 = 0$ and $h_3 = 100$ and a travel time of 25.0.\n",
    "\n",
    "This example is solvable by hand but larger networks quickly become intractable and we need to resort to numerical optimisation."
   ]
  },
  {
   "cell_type": "markdown",
   "metadata": {
    "nbpresent": {
     "id": "279502b5-796d-4b26-a5fc-06cab209dcb4"
    },
    "slideshow": {
     "slide_type": "slide"
    }
   },
   "source": [
    "### Solution:\n",
    "\n",
    "There are 8 decision variables: $\\{x_1, x_2, x_3, x_4, x_5, h_1, h_2, h_3\\}$.\n",
    "The objective function to find a social optimum is:\n",
    "$$F_\\text{SO}(x_1, x_2, x_3, x_4, x_5) = \\sum_{i=1}^5 x_i\\,\\tau_i(x_i) $$\n",
    "With the link labels and parameters given above, the optimand is\n",
    "$$F_\\text{SO}(x_1, x_2, x_3, x_4, x_5) = \\frac{x_1^2}{10} + 15 x_2 + 5 x_3 + 15 x_4 + \\frac{x_5^2}{10},$$\n",
    "and the constraints are\n",
    "\\begin{align}\n",
    "100 & = h_1 + h_2 + h_3\\\\\n",
    "x_1 & = h_1 + h_3 \\\\\n",
    "x_2 & = h_2\\\\\n",
    "x_3 & = h_3\\\\\n",
    "x_4 & = h_1\\\\\n",
    "x_5 & = h_2 + h_3.\n",
    "\\end{align}\n",
    "Check that you understand where these come from."
   ]
  },
  {
   "cell_type": "markdown",
   "metadata": {
    "nbpresent": {
     "id": "d1f0a042-340a-4c8a-9c98-14bb6c4e6a98"
    },
    "slideshow": {
     "slide_type": "slide"
    }
   },
   "source": [
    "### Solution:\n",
    "\n",
    "We can eliminate the path flows in terms of the link flows: $h_1= x_4$, $h_2 = x_2$ and $h_3 = x_3$.\n",
    "There remain 3 equation relating the 5 path flows:\n",
    "\n",
    "\\begin{align}\n",
    "100 &= x_2 + x_3 + x_4 \\\\\n",
    "x_1 &= x_4 + x_3\\\\\n",
    "x_5 &= x_2 + x3.\n",
    "\\end{align}\n",
    "\n",
    "Using these equations we can reduce the 5 degrees of freedom in the optimand to 2. We eliminate $x_2$, $x_4$ and $x_5$ and write everything in terms of $x_1$ and $x_3$:\n",
    "\n",
    "\\begin{align}\n",
    "x_2 &= 100 - x_1\\\\\n",
    "x_4 &= x_1 - x_3\\\\\n",
    "x_5 &= 100 - x_1 + x_3.\n",
    "\\end{align}\n",
    "\n",
    "The optimand is now a function of two variables:\n",
    "\n",
    "$$F_\\text{SO}(x_1, x_3) = \\frac{x_1^2}{10} + 15\\, (100-x_1) + 5\\, x_3 + 15\\, (x_1-x_3) + \\frac{(100-x_1+x_3)^2}{10}.$$"
   ]
  },
  {
   "cell_type": "markdown",
   "metadata": {
    "nbpresent": {
     "id": "b64ab1d4-8564-46a2-adf7-ef899d6a3029"
    },
    "slideshow": {
     "slide_type": "slide"
    }
   },
   "source": [
    "### Solution:\n",
    "\n",
    "We minimise by setting $\\nabla\\,F_\\text{SO}(x_1, x_3) = 0$ but we should bear in mind that we still have the positivity constraints $x_1 \\geq 0$, $x_3 \\geq 0$. \n",
    "\n",
    "This gives:\n",
    "\\begin{align}\n",
    "\\frac{\\partial F_\\text{SO}}{\\partial x_1} &= \\frac{2}{5}\\, x_1  - \\frac{1}{5}\\, x_3 - 20 &= 0 \\\\\n",
    "\\frac{\\partial F_\\text{SO}}{\\partial x_3} &= -\\frac{1}{5}\\, x_1 + \\frac{1}{5}\\, x_3 + 10 &= 0.\n",
    "\\end{align}\n",
    "\n",
    "Solving these gives:\n",
    "\\begin{align}\n",
    "x_1 &= 50\\\\\n",
    "x_3 &= 0.\n",
    "\\end{align}\n",
    "\n",
    "Note how, in this case, the optimum turns out to be on the boundary of the feasible set.\n",
    "\n",
    "The remaining link flows are then: $x_2 = 50$, $x_4 = 50$, $x_5 = 50$. The path flows are $h_1 = 50$, $h_2 = 50$ and $h_3 = 0$.\n",
    "\n",
    "A similar calculation with a different optimand allows one to obtain the Wardrop equilibrium."
   ]
  },
  {
   "cell_type": "markdown",
   "metadata": {
    "nbpresent": {
     "id": "d8f2dc15-d936-4951-95b0-fd26bf1c8d61"
    },
    "slideshow": {
     "slide_type": "slide"
    }
   },
   "source": [
    "## Constrained optimisation\n",
    "\n",
    "Computation of Wardrop equilbria and social optima in congestion games require optimisation of a nonlinear function of the link and path flows subject to a set of linear constraints. We must solve problems of the form:\n",
    "\n",
    "$$ \\min_{X} F(X)$$\n",
    "\n",
    "subject to \n",
    "\n",
    "$$ A\\,X = b$$\n",
    "$$ X \\geq 0$$\n",
    "\n"
   ]
  },
  {
   "cell_type": "markdown",
   "metadata": {
    "nbpresent": {
     "id": "0bcc3382-9484-435c-a46a-bf109eab34aa"
    },
    "slideshow": {
     "slide_type": "slide"
    }
   },
   "source": [
    "## Constrained optimisation\n",
    "In MA934 we learned that solutions of constrained linear optimisation problems are always on the boundary of the feasible set. This is not true for constrained nonlinear optimisation problems.\n",
    "![Constrained optimisation](files/images/Inequality_constraint_diagram.svg.png \"Network 2\")\n",
    "\n",
    "[Onmyphd](https://commons.wikimedia.org/wiki/User:Onmyphd) [Inequality constraint diagram](https://commons.wikimedia.org/wiki/File:Inequality_constraint_diagram.svg) [CC BY-SA 3.0](https://creativecommons.org/licenses/by-sa/3.0/legalcode)"
   ]
  },
  {
   "cell_type": "markdown",
   "metadata": {
    "nbpresent": {
     "id": "204fcbb9-c073-42f9-bcd9-5a5df2e28549"
    },
    "slideshow": {
     "slide_type": "slide"
    }
   },
   "source": [
    "## Reminder:  Frank - Wolfe algorithm\n",
    "\n",
    "The Frank-Wolfe algorithm is an iterative algorithm for solving nonlinear optimisation problems with constraints.The basic idea is to linearise:\n",
    "$$ F(X_k+X) = F(X_k) + (X-X_k) \\cdot \\nabla\\, F(X_k) + \\ldots$$\n",
    "At each step of the iteration we linearise the objective function about the current point and the obtain the next point by solving the resulting contstrained linear optimisation problem - e.g. using the Dantzig algorithm.\n",
    "* initial guess: $k=0$, $X = X_0$\n",
    "* Solve the linearised problem\n",
    "$$s_k = \\text{arg} \\min_{s} s\\cdot \\nabla\\,F(s)$$\n",
    "subject to \n",
    "$$ A\\,s = b$$\n",
    "$$ s \\geq 0$$\n",
    "* Calculate step size: $\\gamma_k = \\frac{2}{k+2}$ \n",
    "* Update our solution: $X_{k+1} = X_k + \\gamma_k\\,(s_k - X_k)$, $\\ \\ \\ k=k+1$\n"
   ]
  },
  {
   "cell_type": "markdown",
   "metadata": {
    "nbpresent": {
     "id": "d968f27f-2fbd-461d-a001-13a9d3b8c8bd"
    },
    "slideshow": {
     "slide_type": "slide"
    }
   },
   "source": [
    "## Useful links\n",
    "* Agents.jl documentation : https://github.com/JuliaDynamics/Agents.jl/blob/master/docs/src/index.md \n",
    "\n",
    "## References"
   ]
  },
  {
   "cell_type": "code",
   "execution_count": null,
   "metadata": {
    "nbpresent": {
     "id": "90a8f86c-30e2-4459-a621-27e9b8a46e1b"
    }
   },
   "outputs": [],
   "source": []
  },
  {
   "cell_type": "code",
   "execution_count": null,
   "metadata": {
    "nbpresent": {
     "id": "65fc80f1-0db7-4916-baec-971eb591c557"
    }
   },
   "outputs": [],
   "source": []
  }
 ],
 "metadata": {
  "celltoolbar": "Slideshow",
  "kernelspec": {
   "display_name": "Julia 1.7.2",
   "language": "julia",
   "name": "julia-1.7"
  },
  "language_info": {
   "file_extension": ".jl",
   "mimetype": "application/julia",
   "name": "julia",
   "version": "1.7.2"
  }
 },
 "nbformat": 4,
 "nbformat_minor": 2
}

{
 "cells": [
  {
   "cell_type": "code",
   "execution_count": null,
   "metadata": {
    "slideshow": {
     "slide_type": "skip"
    }
   },
   "outputs": [],
   "source": [
    "using Pkg\n",
    "Pkg.activate(\".\")\n",
    "Pkg.instantiate()"
   ]
  },
  {
   "cell_type": "code",
   "execution_count": null,
   "metadata": {
    "slideshow": {
     "slide_type": "skip"
    }
   },
   "outputs": [],
   "source": [
    "using Agents\n",
    "using Plots\n",
    "using Graphs\n",
    "using GraphPlot, Compose\n",
    "using Statistics\n",
    "using DataFrames"
   ]
  },
  {
   "cell_type": "markdown",
   "metadata": {
    "nbpresent": {
     "id": "645119a8-e06f-49fe-afef-aeb582bec315"
    },
    "slideshow": {
     "slide_type": "slide"
    }
   },
   "source": [
    "# MA999 - Agent based modelling 3 - Congestion games\n",
    "\n",
    "## MathSys CDT 2022\n",
    "\n",
    "### Lecturer: Colm Connaughton"
   ]
  },
  {
   "cell_type": "markdown",
   "metadata": {
    "nbpresent": {
     "id": "0a4b00e1-10f3-4ffc-a645-58da215badc8"
    },
    "slideshow": {
     "slide_type": "slide"
    }
   },
   "source": [
    "## Example 2: Traffic flow patterns\n",
    "\n",
    "* Suppose we have $N = 100$ drivers who commute every day from point 1 to point 4 on a simple road network:\n",
    "<img src=\"files/images/network1.png\" alt=\"Drawing\" style=\"width: 200px;\"/>\n",
    "* There are multiple paths in the network leading from 1 to 4.\n",
    "* The travel time for each link, $i$, depends on the number of drivers, $x_i$, travelling on that link: generally travel time increases as the usage goes up.\n",
    "* Build a model to estimate the average travel time from 1 to 4."
   ]
  },
  {
   "cell_type": "markdown",
   "metadata": {
    "nbpresent": {
     "id": "77a5e7fb-4564-4513-9e54-ff3a72016004"
    },
    "slideshow": {
     "slide_type": "slide"
    }
   },
   "source": [
    "### Wardrop equilibrium and congestion games\n",
    "\n",
    "We can think of this problem as a repeated multiplayer game in which each player (agent) tries to choose the route that minimises its travel time subject to the choices of all the other agents.\n",
    "\n",
    "[John Wardrop](https://en.wikipedia.org/wiki/John_Glen_Wardrop) (a Warwick local!) suggested in 1952 that the observed pattern of use should satisfy the following principle: \n",
    "\n",
    "> journey times in all routes actually used are equal and less than those that would be experienced by a single vehicle on any unused route.\n",
    "\n",
    "This is nowadays known as Wardrop equilibrium."
   ]
  },
  {
   "cell_type": "markdown",
   "metadata": {
    "nbpresent": {
     "id": "77a5e7fb-4564-4513-9e54-ff3a72016004"
    },
    "slideshow": {
     "slide_type": "slide"
    }
   },
   "source": [
    "### Wardrop equilibrium and congestion games\n",
    "\n",
    "It is a multiplayer analogue of a Nash equilibrium: no driver can improve their journey time by unilaterally switching to a different route.\n",
    "\n",
    "Can we build an ABM to demonstrate the existence of Wardrop equilibrium from simple and plausible behavioural rules?"
   ]
  },
  {
   "cell_type": "markdown",
   "metadata": {
    "nbpresent": {
     "id": "0d14555b-0251-4d49-a0d8-12025e9baebd"
    },
    "slideshow": {
     "slide_type": "slide"
    }
   },
   "source": [
    "### ABM model of commuter patterns\n",
    "We shall assume that the travel time, $\\tau_i$, for each link, $i$, is a linear function of the number of agents $x_i$ travelling on that link on a given day:\n",
    "$$ \\tau_i(x_i) = a_i\\ x_i + b_i $$\n",
    "with the parameters $a_i$ and $b_i$ varying from link to link. These are called **demand-delay functions**."
   ]
  },
  {
   "cell_type": "markdown",
   "metadata": {
    "nbpresent": {
     "id": "0d14555b-0251-4d49-a0d8-12025e9baebd"
    },
    "slideshow": {
     "slide_type": "slide"
    }
   },
   "source": [
    "### Model description:\n",
    "* Each agent has a prefered route.\n",
    "* At each step (1 day) each agent travels its prefered route.\n",
    "* Travel times for all routes are calculated based on the choices of the agents.\n",
    "* Each agent compares travel time, $\\tau_\\text{c}$, of its current prefered route to the travel time of a randomly chosen alternative route, $\\tau_\\text{a}$, and calculates $\\Delta \\tau = \\tau_\\text{a} - \\tau_\\text{c}$. \n",
    "* If $\\Delta \\tau <0$, the agent updates its prefered route with probability\n",
    "$$P = 1 - \\exp(\\Delta \\tau/T),$$\n",
    "before the next iteration where $T$ is a model parameter."
   ]
  },
  {
   "cell_type": "markdown",
   "metadata": {
    "nbpresent": {
     "id": "79302d21-dd83-4865-9a22-4f9832efe020"
    },
    "slideshow": {
     "slide_type": "slide"
    }
   },
   "source": [
    "### Implementation of the model\n",
    "\n",
    "First we need to define the graph. To do this we use LightGraphs.jl:"
   ]
  },
  {
   "cell_type": "code",
   "execution_count": null,
   "metadata": {
    "cell_style": "split",
    "nbpresent": {
     "id": "3b354c6a-6734-45b1-96fc-8354e4f35a1b"
    },
    "slideshow": {
     "slide_type": "-"
    }
   },
   "outputs": [],
   "source": [
    "#using Graphs\n",
    "#using GraphPlot, Compose\n",
    "#using Statistics\n",
    "#using DataFrames\n",
    "\n",
    "# Make a graph\n",
    "G = DiGraph(4) # graph with 4 vertices\n",
    "Graphs.add_edge!(G, 1, 2)\n",
    "Graphs.add_edge!(G, 1, 3)\n",
    "Graphs.add_edge!(G, 2, 4)\n",
    "Graphs.add_edge!(G, 3, 4)"
   ]
  },
  {
   "cell_type": "code",
   "execution_count": null,
   "metadata": {
    "cell_style": "split"
   },
   "outputs": [],
   "source": [
    "nodelabel = 1:nv(G)\n",
    "gplot(G, layout=spectral_layout, nodelabel=nodelabel)"
   ]
  },
  {
   "cell_type": "markdown",
   "metadata": {
    "nbpresent": {
     "id": "168b3d5b-ec1f-4fda-92aa-978e93b9e2c6"
    },
    "slideshow": {
     "slide_type": "slide"
    }
   },
   "source": [
    "Next we make a list the available paths from 1 to 4"
   ]
  },
  {
   "cell_type": "code",
   "execution_count": null,
   "metadata": {
    "nbpresent": {
     "id": "c2661e6c-25bc-4f76-bde4-1e96fa36e924"
    }
   },
   "outputs": [],
   "source": [
    "include(\"code/all_simple_paths.jl\")\n",
    "paths = all_simple_paths(G, 1, 4)"
   ]
  },
  {
   "cell_type": "code",
   "execution_count": null,
   "metadata": {},
   "outputs": [],
   "source": [
    "for (i, path) in enumerate(paths)\n",
    "    println(i, \" : \", path)\n",
    "end"
   ]
  },
  {
   "cell_type": "markdown",
   "metadata": {
    "nbpresent": {
     "id": "a382f662-5986-4cce-a299-3f187db024bb"
    },
    "slideshow": {
     "slide_type": "slide"
    }
   },
   "source": [
    "We use a dictionary to store the parameters $(a_i, b_i)$ for each link:"
   ]
  },
  {
   "cell_type": "code",
   "execution_count": null,
   "metadata": {
    "nbpresent": {
     "id": "8938f57d-d106-4981-b7a5-b92d11387071"
    }
   },
   "outputs": [],
   "source": [
    "linkparams = [(0.1, 0.0), (0.0, 15.0), (0.0, 15.0), (0.1, 0.0)];"
   ]
  },
  {
   "cell_type": "markdown",
   "metadata": {
    "nbpresent": {
     "id": "e29970c4-1833-4386-ba51-4ff87ac22cab"
    }
   },
   "source": [
    "Since paths can share links, it will be helpful to define a link-path adjacency matrix:\n",
    "\n",
    "$$A_{i j} = \\left\\{\\begin{array}{ll}1& \\text{if link $i$ is part of path $j$}\\\\\n",
    "          0 & \\text{otherwise}\\end{array}\\right.$$"
   ]
  },
  {
   "cell_type": "code",
   "execution_count": null,
   "metadata": {
    "nbpresent": {
     "id": "94a04644-2278-4299-8859-8027d2d478a1"
    },
    "slideshow": {
     "slide_type": "slide"
    }
   },
   "outputs": [],
   "source": [
    "function link_path_adjacency(link, path)\n",
    "    for i in 1:(length(path)-1)\n",
    "        (link.src == path[i] && link.dst == path[i+1]) && return 1\n",
    "    end\n",
    "    return 0\n",
    "end\n",
    "\n",
    "E = collect(edges(G))\n",
    "A = zeros(Int64, (length(E), length(paths)))\n",
    "for (i, edge) in enumerate(E), (j, path) in enumerate(paths)\n",
    "    A[i,j] = link_path_adjacency(edge, path)\n",
    "end\n",
    "A"
   ]
  },
  {
   "cell_type": "markdown",
   "metadata": {
    "nbpresent": {
     "id": "a84d50d4-9c4c-4d39-8e21-d02365064c36"
    },
    "slideshow": {
     "slide_type": "slide"
    }
   },
   "source": [
    "Now we define demand-delay functions and store them as a dictionary (again) of functions that will be passed as properties to the model. This is a very dense piece of code so check it at home: "
   ]
  },
  {
   "cell_type": "code",
   "execution_count": null,
   "metadata": {
    "nbpresent": {
     "id": "b7b3baee-574c-4486-84a9-f5666929af3f"
    }
   },
   "outputs": [],
   "source": [
    "n = length(linkparams)\n",
    "a1 = collect(1:n)\n",
    "a2 = [x -> linkparams[i][1] * x + linkparams[i][2] for i in 1:n]\n",
    "demand_delay_functions = Dict( a1 .=> a2)"
   ]
  },
  {
   "cell_type": "markdown",
   "metadata": {
    "nbpresent": {
     "id": "708352b7-a7e2-4dfb-8855-7c809f07d5f2"
    }
   },
   "source": [
    "Now we are ready to start setting up the ABM."
   ]
  },
  {
   "cell_type": "markdown",
   "metadata": {
    "nbpresent": {
     "id": "e7764dc1-42b0-4709-8f0a-874b387362b3"
    },
    "slideshow": {
     "slide_type": "slide"
    }
   },
   "source": [
    "First we define the **agent** object. Our agents have three properties: \n",
    "* an id : every agent in Agents.jl must have a unique integer identifier\n",
    "* current preferred route\n",
    "* travel time for that route (not strictly necessary?)"
   ]
  },
  {
   "cell_type": "code",
   "execution_count": null,
   "metadata": {
    "nbpresent": {
     "id": "aef3179e-f064-4928-a281-91beb4b7610b"
    }
   },
   "outputs": [],
   "source": [
    "mutable struct driverAgent <: AbstractAgent\n",
    "    id::Int\n",
    "    route_choice::Int\n",
    "    travel_time::Float64\n",
    "end"
   ]
  },
  {
   "cell_type": "markdown",
   "metadata": {
    "nbpresent": {
     "id": "ac4fd9bf-283b-4d1b-a862-985deee9089d"
    }
   },
   "source": [
    "Note that our custom-defined **driverAgent** object inherits properties from **AbstractAgent** which is defined by Agents.jl. This means we only need to worry about the aspects of the agent that are specific to our particular model."
   ]
  },
  {
   "cell_type": "markdown",
   "metadata": {
    "nbpresent": {
     "id": "261243ca-f311-4119-874c-a15f76e46ed9"
    },
    "slideshow": {
     "slide_type": "slide"
    }
   },
   "source": [
    "Next we have to decide what information needs to be passed to the **model** object as properties:\n",
    "* the \"temperature\" parameter, $T$\n",
    "* the link-path adjacency matrix we contructed above\n",
    "* the demand-delay functions we defined above\n",
    "* an array to store the travel times for each path"
   ]
  },
  {
   "cell_type": "code",
   "execution_count": null,
   "metadata": {
    "nbpresent": {
     "id": "b6b3657c-61bf-4f15-8ba1-e23db258e320"
    }
   },
   "outputs": [],
   "source": [
    "route_times = zeros(Float64,length(paths))\n",
    "properties = Dict{Symbol, Any}(\n",
    "    :T => 50.0, \n",
    "    :link_path_matrix => A, \n",
    "    :demand_delay => demand_delay_functions, \n",
    "    :route_times => route_times,\n",
    "    :routes => paths\n",
    ")"
   ]
  },
  {
   "cell_type": "markdown",
   "metadata": {
    "nbpresent": {
     "id": "32bcd5c2-b8ea-4f18-9758-1de77aa74907"
    }
   },
   "source": [
    "Note that we again use a dictionary to pass properties to the model. The :x syntax creates a symbol in Julia - here it helps avoid confusion with variables that might contain values."
   ]
  },
  {
   "cell_type": "markdown",
   "metadata": {
    "nbpresent": {
     "id": "4691f7cc-5e62-44fe-841f-b4ebe00c7b4a"
    },
    "slideshow": {
     "slide_type": "slide"
    }
   },
   "source": [
    "### Building the model\n",
    "\n",
    "It is common practice to encapsulate the building and initialisation into a function so that model instances can be created easily"
   ]
  },
  {
   "cell_type": "code",
   "execution_count": null,
   "metadata": {
    "nbpresent": {
     "id": "1f2082a2-bd96-4f0b-8e4b-3f7f7efe31fd"
    }
   },
   "outputs": [],
   "source": [
    "function initialise(;numagents = 100, properties = Dict{Symbol,Any})\n",
    "    model = ABM(driverAgent, scheduler=fastest, properties=properties)\n",
    "    for i in 1:numagents\n",
    "        add_agent!(model, 1, 0.0)\n",
    "    end\n",
    "    return model\n",
    "end"
   ]
  },
  {
   "cell_type": "code",
   "execution_count": null,
   "metadata": {},
   "outputs": [],
   "source": [
    "model = initialise(properties=properties);\n",
    "model.T"
   ]
  },
  {
   "cell_type": "markdown",
   "metadata": {
    "nbpresent": {
     "id": "481c3450-406d-46bf-a602-9dc90b23d8eb"
    },
    "slideshow": {
     "slide_type": "slide"
    }
   },
   "source": [
    "### Defining the agent update function"
   ]
  },
  {
   "cell_type": "code",
   "execution_count": null,
   "metadata": {
    "nbpresent": {
     "id": "6a5f91ad-cd57-4826-b5c7-84da31088ba0"
    }
   },
   "outputs": [],
   "source": [
    "function agent_step!(agent, model)\n",
    "    T = model.properties[:T] \n",
    "    previous_route_times = model.properties[:route_times]; \n",
    "    nroutes = length(previous_route_times)\n",
    "    # Check how long agent's current route choice took the previous day\n",
    "    t = previous_route_times[agent.route_choice]\n",
    "    # Make a list of alternative routes\n",
    "    alternative_routes = collect(1:nroutes)\n",
    "    deleteat!(alternative_routes, alternative_routes .== agent.route_choice)\n",
    "    # Check how long a random alternative would have taken\n",
    "    alternative_route = rand(alternative_routes)\n",
    "    t_alternative = previous_route_times[alternative_route]\n",
    "    # Calculate the difference between the times for chosen route and alternative\n",
    "    Δt = t_alternative - t\n",
    "    # Switch route if Δt is negative with a probability that goes to 0 with Δt\n",
    "    if Δt <=0\n",
    "        P = 1.0 - exp(Δt/T)\n",
    "        rand() < P && (agent.route_choice = alternative_route)\n",
    "    end\n",
    "end"
   ]
  },
  {
   "cell_type": "markdown",
   "metadata": {
    "nbpresent": {
     "id": "60bbbcf8-ed7b-42c4-95a3-6c5de891ae4c"
    },
    "slideshow": {
     "slide_type": "slide"
    }
   },
   "source": [
    "### Defining the model update function\n",
    "At each iteration of the model, this is run *after* all the agents have updated.\n",
    "The model update needs to do the following:\n",
    "1. count how many agents chose each route in the previous iteration. These are the \"path flows\", $\\{h_i,\\ i=1\\ldots n_p\\}$, where $n_p$ is the number of paths from origin to destination.\n",
    "2. use the path flows to determine how many agents use each link (remember in general paths can share links). The \"link flows\",  $\\{x_i,\\ i=1\\ldots n_e\\}$, where $n_e$ is the number of edges in the network. The link-path adjacency matrix comes in handy here:"
   ]
  },
  {
   "cell_type": "markdown",
   "metadata": {
    "nbpresent": {
     "id": "60bbbcf8-ed7b-42c4-95a3-6c5de891ae4c"
    },
    "slideshow": {
     "slide_type": "slide"
    }
   },
   "source": [
    "### Defining the model update function\n",
    "\n",
    "$$ x_i = \\sum_{j=1}^{n_p} A_{i\\,j}\\, h_j $$\n",
    "3. Calculate the path travel times and update the agents' estimates of the travel times for their prefered routes. The link-path adjacency matrix again comes in handy here. The travel time for path $k$ is:\n",
    "$$ T_k = \\sum_{j=1}^{n_e} A_{j\\,k}\\, \\tau_j(x_j) $$"
   ]
  },
  {
   "cell_type": "markdown",
   "metadata": {
    "nbpresent": {
     "id": "bbd7912c-eac4-4126-8566-621c553151f6"
    },
    "slideshow": {
     "slide_type": "slide"
    }
   },
   "source": [
    "Here's the function:"
   ]
  },
  {
   "cell_type": "code",
   "execution_count": null,
   "metadata": {
    "nbpresent": {
     "id": "a0344ade-a6f2-46f6-bb09-a903e11e1401"
    }
   },
   "outputs": [],
   "source": [
    "function model_step!(model)\n",
    "    A = model.link_path_matrix\n",
    "    nlinks=size(A)[1]\n",
    "    npaths=size(A)[2]\n",
    "    # Count how many agents chose each route\n",
    "    path_counts = zeros(Int64,npaths)\n",
    "    for agent in allagents(model)\n",
    "        r = agent.route_choice\n",
    "        path_counts[r]+=1\n",
    "    end\n",
    "    # Derive the link counts from the path counts\n",
    "    link_counts = A * path_counts\n",
    "    # Derive the link travel times from the link counts\n",
    "    link_travel_times = [model.properties[:demand_delay][i](link_counts[i]) for i in 1:nlinks]\n",
    "    # Calculate updated path travel times for each route based on the link travel times\n",
    "    model.properties[:route_times] = link_travel_times'*A\n",
    "    # Update the agents travel times\n",
    "    for agent in allagents(model)\n",
    "        r = agent.route_choice\n",
    "        agent.travel_time = model.properties[:route_times][r]\n",
    "    end\n",
    "end"
   ]
  },
  {
   "cell_type": "markdown",
   "metadata": {
    "nbpresent": {
     "id": "49d74200-b77d-4721-b09e-d4dc78184177"
    },
    "slideshow": {
     "slide_type": "slide"
    }
   },
   "source": [
    "## Running the model and gathering the data"
   ]
  },
  {
   "cell_type": "code",
   "execution_count": null,
   "metadata": {
    "nbpresent": {
     "id": "7b55b2f6-ec43-4c1d-8b73-75f46b3ac06c"
    }
   },
   "outputs": [],
   "source": [
    "# Set up data gathering\n",
    "adata = [:route_choice, :travel_time]\n",
    "n = 100  # number of time steps to run the simulation\n",
    "when = 1:n  # At which steps to collect data\n",
    "# Initialise the model\n",
    "model = initialise(properties = properties)\n",
    "# Run the model\n",
    "data, _  = run!(model, agent_step!, model_step!, n; adata);"
   ]
  },
  {
   "cell_type": "markdown",
   "metadata": {
    "nbpresent": {
     "id": "abfdc902-f51e-4ee7-bb02-668233484679"
    }
   },
   "source": [
    "* `adata` are the agent properties to measure during the run.\n",
    "* `when` specifies the time steps you want to gather data. You don't have to output at every step.\n",
    "* `properties` is the dictionary of model properties defined above.\n",
    "* `agent_step!` and `model_step!` are the functions defined above."
   ]
  },
  {
   "cell_type": "markdown",
   "metadata": {
    "nbpresent": {
     "id": "b043867b-3c18-418c-bfc4-b236b62aec08"
    },
    "slideshow": {
     "slide_type": "slide"
    }
   },
   "source": [
    "## Analysing the output\n",
    "\n",
    "The output looks like this:"
   ]
  },
  {
   "cell_type": "code",
   "execution_count": null,
   "metadata": {
    "nbpresent": {
     "id": "15b571a0-7a8c-4c94-8de3-42eef0119bf9"
    }
   },
   "outputs": [],
   "source": [
    "data[1:10, :]"
   ]
  },
  {
   "cell_type": "markdown",
   "metadata": {
    "nbpresent": {
     "id": "f3ef2931-3e5e-447b-87bc-b68a597d19fc"
    },
    "slideshow": {
     "slide_type": "slide"
    }
   },
   "source": [
    "## Analysing the output\n",
    "\n",
    "You will need to learn a bit about manipulating data frames: https://juliadata.github.io/DataFrames.jl/stable/"
   ]
  },
  {
   "cell_type": "code",
   "execution_count": null,
   "metadata": {
    "cell_style": "split",
    "nbpresent": {
     "id": "85210e26-dd7b-4082-8722-712b81719f96"
    }
   },
   "outputs": [],
   "source": [
    "using DataFrames\n",
    "gdf = groupby(data, :step)\n",
    "df_average_travel = combine(gdf, :travel_time => mean => :T)\n",
    "delete!(df_average_travel, 1)"
   ]
  },
  {
   "cell_type": "markdown",
   "metadata": {
    "cell_style": "split",
    "nbpresent": {
     "id": "39a425a9-73aa-4df7-b0d9-82af70c083af"
    }
   },
   "source": [
    "Especially the [split-apply-combine](https://juliadata.github.io/DataFrames.jl/stable/man/split_apply_combine/) functionality of the `groupby` command which allows us to group the data by the step and the ```combine``` command to perform operations such as counts or averages on the groups. This is the analogue of the `pandas.DataFrame.groupby()` for those of you familiar with Python's pandas library."
   ]
  },
  {
   "cell_type": "markdown",
   "metadata": {
    "nbpresent": {
     "id": "08538037-fe2f-499e-87f7-ba6e3de5015d"
    },
    "slideshow": {
     "slide_type": "slide"
    }
   },
   "source": [
    "## Path flows\n",
    "\n",
    "Let's plot the number of users of each path"
   ]
  },
  {
   "cell_type": "code",
   "execution_count": null,
   "metadata": {
    "cell_style": "split",
    "nbpresent": {
     "id": "260b2083-30f7-4c59-b431-a33a67d55d08"
    }
   },
   "outputs": [],
   "source": [
    "gdf = groupby(data, [:step, :route_choice])\n",
    "df = combine(gdf, nrow => :count)\n",
    "routes_df = groupby(df, :route_choice);"
   ]
  },
  {
   "cell_type": "code",
   "execution_count": null,
   "metadata": {
    "cell_style": "split"
   },
   "outputs": [],
   "source": [
    "p1 = plot()\n",
    "paths = collect(model.properties[:routes])\n",
    "for (key, df) in pairs(routes_df)\n",
    "    idx = key.route_choice\n",
    "    label = \"Route \"*string(idx)*\" : \"*string(paths[idx])\n",
    "    plot!(df.step, df.count, label=label )\n",
    "end\n",
    "xlabel!(\"Steps\")\n",
    "ylabel!(\"Users\")"
   ]
  },
  {
   "cell_type": "markdown",
   "metadata": {
    "nbpresent": {
     "id": "24570d3d-4633-49eb-94ed-d269d01e8621"
    },
    "slideshow": {
     "slide_type": "slide"
    }
   },
   "source": [
    "Perhaps unsurprisingly, the agents quickly learn to distribute themeselves evenly between the two available routes."
   ]
  },
  {
   "cell_type": "code",
   "execution_count": null,
   "metadata": {},
   "outputs": [],
   "source": [
    "p1"
   ]
  },
  {
   "cell_type": "markdown",
   "metadata": {
    "nbpresent": {
     "id": "5ac0597a-95d3-4c59-9421-9bbdb786a358"
    },
    "slideshow": {
     "slide_type": "slide"
    }
   },
   "source": [
    "## Average travel time\n",
    "\n",
    "Let's plot the average travel time"
   ]
  },
  {
   "cell_type": "code",
   "execution_count": null,
   "metadata": {
    "nbpresent": {
     "id": "df30484c-3557-4278-aec8-2c67eef3f79c"
    }
   },
   "outputs": [],
   "source": [
    "p2 = plot(df_average_travel.step, df_average_travel.T, ylims=[0.0, 50.0], label=\"Average travel time\")\n",
    "xlabel!(\"Steps\")\n",
    "ylabel!(\"Time\")"
   ]
  },
  {
   "cell_type": "markdown",
   "metadata": {
    "nbpresent": {
     "id": "f70775ac-6781-48a8-b060-e8ed9569f93a"
    },
    "slideshow": {
     "slide_type": "slide"
    }
   },
   "source": [
    "## Average travel time\n",
    "The system quickly settles to a Wardrop equilibrium of 20 minutes - consistent with the demand delay functions for the two routes."
   ]
  },
  {
   "cell_type": "code",
   "execution_count": null,
   "metadata": {},
   "outputs": [],
   "source": [
    "p2"
   ]
  },
  {
   "cell_type": "markdown",
   "metadata": {
    "nbpresent": {
     "id": "d6f30ab3-e7f7-40d8-bdea-85754565c6b2"
    },
    "slideshow": {
     "slide_type": "slide"
    }
   },
   "source": [
    "## Aggregating data on the fly and querying the model\n",
    "\n",
    "It is possible to use the ```adata``` keyword to apply functions (such as `mean()` or `median()`) to the set of all agents' data at each step to avoid returning excessive amounts of data from large simulations and then doing complicated analyses of dataframes. \n",
    "\n",
    "You can also query the model object itself by defining functions that apply to the model and pass them into the ```run!()``` function with the ```mdata``` keyword. \n",
    "\n",
    "Here is an example:"
   ]
  },
  {
   "cell_type": "code",
   "execution_count": null,
   "metadata": {
    "nbpresent": {
     "id": "69e5169a-9992-4728-951c-cbbf8201520d"
    },
    "slideshow": {
     "slide_type": "slide"
    }
   },
   "outputs": [],
   "source": [
    "# Specify a function to apply to agents' field to aggregate data on the fly\n",
    "adata = [(:travel_time, mean)]\n",
    "\n",
    "# Define functions that take the model as argument and return some of the model properties\n",
    "t1(model) = model.properties[:route_times][1]\n",
    "t2(model) = model.properties[:route_times][2]\n",
    "\n",
    "mdata = [t1, t2]\n",
    "\n",
    "# Initialise and run the model to gather data as before\n",
    "n = 100  \n",
    "when = 1:n  \n",
    "model = initialise(properties = properties)\n",
    "data_from_agents, data_from_model = run!(model, agent_step!, model_step!, n; adata, mdata);"
   ]
  },
  {
   "cell_type": "markdown",
   "metadata": {
    "slideshow": {
     "slide_type": "slide"
    }
   },
   "source": [
    "## Aggregating data on the fly and querying the model"
   ]
  },
  {
   "cell_type": "code",
   "execution_count": null,
   "metadata": {
    "cell_style": "split"
   },
   "outputs": [],
   "source": [
    "data_from_agents[1:5, :]"
   ]
  },
  {
   "cell_type": "code",
   "execution_count": null,
   "metadata": {
    "cell_style": "split"
   },
   "outputs": [],
   "source": [
    "data_from_model[1:5, :]"
   ]
  },
  {
   "cell_type": "markdown",
   "metadata": {
    "cell_style": "split",
    "nbpresent": {
     "id": "74477327-a0db-46df-b2e7-da3bcbe708e6"
    },
    "slideshow": {
     "slide_type": "slide"
    }
   },
   "source": [
    "## A (slightly) more complicated example\n",
    "\n",
    "Let's add an additional road linking 2->3 with a cost of 5.0 -  a new bridge perhaps.\n",
    "\n",
    "There is now an additional path in the network. Importantly some links are now shared between paths."
   ]
  },
  {
   "cell_type": "code",
   "execution_count": null,
   "metadata": {
    "cell_style": "split",
    "nbpresent": {
     "id": "26a7e2d2-9bdb-4aa2-8356-148ce9ac3bae"
    }
   },
   "outputs": [],
   "source": [
    "G2 = DiGraph(4) # graph with 4 vertices\n",
    "Graphs.add_edge!(G2, 1, 2)\n",
    "Graphs.add_edge!(G2, 1, 3)\n",
    "Graphs.add_edge!(G2, 2, 4)\n",
    "Graphs.add_edge!(G2, 3, 4)\n",
    "Graphs.add_edge!(G2, 2, 3)\n",
    "paths = [[1,2,4], [1,3,4], [1,2,3,4]]\n",
    "linkparams2 = [(0.1, 0.0), (0.0, 15.0), (0.0, 5.0), (0.0, 15.0), (0.1, 0.0)];\n",
    "nodelabel = 1:nv(G2)\n",
    "gplot(G2, nodelabel=nodelabel)"
   ]
  },
  {
   "cell_type": "markdown",
   "metadata": {
    "nbpresent": {
     "id": "15468295-1d8d-4194-8ef9-bf1613665865"
    },
    "slideshow": {
     "slide_type": "slide"
    }
   },
   "source": [
    "## Run the model again\n",
    "\n",
    "I have condensed all the above code into a module ```code/CG.jl```:"
   ]
  },
  {
   "cell_type": "code",
   "execution_count": null,
   "metadata": {},
   "outputs": [],
   "source": [
    "include(\"code/CG.jl\")"
   ]
  },
  {
   "cell_type": "code",
   "execution_count": null,
   "metadata": {
    "nbpresent": {
     "id": "78573215-b036-43d2-a43a-c430c232d8bd"
    }
   },
   "outputs": [],
   "source": [
    "data2, p3, p4 = CG.run(G=G2, link_parameters = linkparams2);"
   ]
  },
  {
   "cell_type": "markdown",
   "metadata": {
    "nbpresent": {
     "id": "f3902cee-1ee2-4f02-bbf6-e223e213a07d"
    },
    "slideshow": {
     "slide_type": "slide"
    }
   },
   "source": [
    "## Path flows including the bridge\n",
    "\n",
    "Let's plot the number of users of each path"
   ]
  },
  {
   "cell_type": "code",
   "execution_count": null,
   "metadata": {
    "nbpresent": {
     "id": "4a3ac46b-c89b-402c-8166-c529096c8a78"
    }
   },
   "outputs": [],
   "source": [
    "p4"
   ]
  },
  {
   "cell_type": "markdown",
   "metadata": {
    "nbpresent": {
     "id": "96432101-5059-4585-afb1-fd90e63eb008"
    }
   },
   "source": [
    "The agents are now all switching to route 3 (including the bridge). It must be faster right?"
   ]
  },
  {
   "cell_type": "markdown",
   "metadata": {
    "nbpresent": {
     "id": "e880add7-478a-4e60-8e97-95f20531e834"
    },
    "slideshow": {
     "slide_type": "slide"
    }
   },
   "source": [
    "## Average travel time\n",
    "\n",
    "Wrong! When all agents switch to route 2, the average travel time now tends to 25 minutes."
   ]
  },
  {
   "cell_type": "code",
   "execution_count": null,
   "metadata": {
    "nbpresent": {
     "id": "74cc3fd1-b30f-4bc5-92ba-e088f3125ad3"
    }
   },
   "outputs": [],
   "source": [
    "p3"
   ]
  },
  {
   "cell_type": "markdown",
   "metadata": {
    "nbpresent": {
     "id": "5e33951d-031b-4217-96df-b6d8513d695c"
    }
   },
   "source": [
    "The fact that adding *extra capacity* to transport networks can sometimes result in *increased* journey times is known as Braess' paradox."
   ]
  },
  {
   "cell_type": "markdown",
   "metadata": {
    "nbpresent": {
     "id": "377222de-06fd-4724-b07d-6a20ca4f5e2c"
    },
    "slideshow": {
     "slide_type": "slide"
    }
   },
   "source": [
    "## Mathematical analysis of the congestion game: decision variables and constraints\n",
    "Let us now formulate the congestion game as an optimisation problem.\n",
    "\n",
    "Decision variables: link and path flows:\n",
    "$$X = (x_1, \\ldots, x_{n_v}, h_1, \\ldots h_{n_p})$$\n",
    "These variables are not all independent. The following **constraints** must be satisfied:\n",
    "* Flows are non-negative:\n",
    "$$x_i\\geq 0\\ \\ \\ i=1\\ldots n_v$$\n",
    "$$h_j\\geq 0\\ \\ \\ j=1\\ldots n_p$$"
   ]
  },
  {
   "cell_type": "markdown",
   "metadata": {
    "nbpresent": {
     "id": "377222de-06fd-4724-b07d-6a20ca4f5e2c"
    },
    "slideshow": {
     "slide_type": "slide"
    }
   },
   "source": [
    "## Mathematical analysis of the congestion game: decision variables and constraints\n",
    "\n",
    "* Path flows must match demand:\n",
    "$$\\sum_{i=1}^{n_p} h_i = 100$$\n",
    "* Link flows must be consistent with path flows:\n",
    "$$ \\sum_{j=1}^{n_p} A_{i\\,j}\\,h_j = x_i  \\ \\ \\ i=1\\ldots n_v$$"
   ]
  },
  {
   "cell_type": "markdown",
   "metadata": {
    "nbpresent": {
     "id": "8c4b4cef-f90f-418a-b0e8-4ba049a843e2"
    },
    "slideshow": {
     "slide_type": "slide"
    }
   },
   "source": [
    "## Mathematical analysis of the congestion game: optimand\n",
    "\n",
    "What to optimise? Total travel time?\n",
    "\n",
    "$$ F_{SO}(X) = \\sum_{i=1}^{n_v} x_i\\, \\tau_i(x_i) $$.\n",
    "\n",
    "We already know from our ABM that minimising the total travel time does not yield a Wardrop equilibrium. Minimising the total travel time yields a flow pattern which is called the \"social optimum\"."
   ]
  },
  {
   "cell_type": "markdown",
   "metadata": {
    "nbpresent": {
     "id": "8c4b4cef-f90f-418a-b0e8-4ba049a843e2"
    },
    "slideshow": {
     "slide_type": "slide"
    }
   },
   "source": [
    "## Mathematical analysis of the congestion game: optimand\n",
    "\n",
    "A flow pattern corresponding to a Wardrop equilibrium is obtained by minimising the Beckmann potential:\n",
    "\n",
    "$$ F_{WE}(X) = \\sum_{i=1}^{n_v} \\int\\, \\tau_i(x_i)\\ dx_i.$$\n",
    "\n",
    "This is not obvious. The difference between the social optimum and the Wardrop equilibrium is called the \"price of anarchy\". "
   ]
  },
  {
   "cell_type": "markdown",
   "metadata": {
    "nbpresent": {
     "id": "4930130b-637f-4cea-8835-9597ed662bc9"
    },
    "slideshow": {
     "slide_type": "slide"
    }
   },
   "source": [
    "## A closer look at the Beckmann potential\n",
    "\n",
    "Why does the minimising the Beckmann potential produce a Wardrop equilibrium? Consider the discrete case:\n",
    "\n",
    "$$ F_{WE}(X) = \\sum_{i=1}^{n_v} \\sum_{n=1}^{x_i} \\tau_i(n)$$\n",
    "\n",
    "Suppose the $x_i$ are such that $F_{WE}$ is a minimum (there is at least one such choice) that is *not* a Wardrop equilibrium.\n",
    "\n",
    "Then there is at least one driver (on route A with edges $e_1, e_2,\\ldots e_n$ say)  who can improve travel time by switching route (to route B with edges $e_1^\\prime, e_2^\\prime \\ldots e_m^\\prime$ say). "
   ]
  },
  {
   "cell_type": "markdown",
   "metadata": {
    "nbpresent": {
     "id": "4930130b-637f-4cea-8835-9597ed662bc9"
    },
    "slideshow": {
     "slide_type": "slide"
    }
   },
   "source": [
    "## A closer look at the Beckmann potential\n",
    "\n",
    "Upon switching, $F_{WE}$ decreases by $\\sum_{j=1}^n \\tau_{e_j}(x_{e_j})$ which is the travel time for route A and then increases by the new travel time for route B.\n",
    "\n",
    "Since the the travel time of B is less than that of A, $F_{WE}$ decreases.\n",
    "\n",
    "This contradicts the initial assumption of a minimum."
   ]
  },
  {
   "cell_type": "markdown",
   "metadata": {
    "nbpresent": {
     "id": "2251c402-3b92-418e-bda8-3868689d2b22"
    },
    "slideshow": {
     "slide_type": "slide"
    }
   },
   "source": [
    "## Homework (or exam!) question\n",
    "Consider the network above with demand-delay functions:\n",
    "1. [1,2] : $\\tau_1(x) = x/10 $ \n",
    "2. [1,3] : $\\tau_2(x) = 15 $ \n",
    "3. [2,3] : $\\tau_3(x) = 5 $ \n",
    "4. [2,4] : $\\tau_4(x) = 15 $ \n",
    "5. [3,4] : $\\tau_5(x) = x/10 $ \n",
    "\n",
    "Label the paths p1 = [1,2,4], p2 = [1,3,4], p3 = [1,2,3,4]\n",
    "* Show that minimising $F_{SO}(X)$ gives $h_1=50$, $h_2 = 50$ and $h_3 = 0$ and a travel time of 20.0.\n",
    "* Show that miminimising $F_{WE}(X)$ gives $h_1=0$, $h_2 = 0$ and $h_3 = 100$ and a travel time of 25.0.\n",
    "\n",
    "This example is solvable by hand but larger networks quickly become intractable and we need to resort to numerical optimisation."
   ]
  },
  {
   "cell_type": "markdown",
   "metadata": {
    "nbpresent": {
     "id": "279502b5-796d-4b26-a5fc-06cab209dcb4"
    },
    "slideshow": {
     "slide_type": "slide"
    }
   },
   "source": [
    "### Solution:\n",
    "\n",
    "There are 8 decision variables: $\\{x_1, x_2, x_3, x_4, x_5, h_1, h_2, h_3\\}$.\n",
    "The objective function to find a social optimum is:\n",
    "$$F_\\text{SO}(x_1, x_2, x_3, x_4, x_5) = \\sum_{i=1}^5 x_i\\,\\tau_i(x_i) $$\n",
    "With the link labels and parameters given above, the optimand is\n",
    "$$F_\\text{SO}(x_1, x_2, x_3, x_4, x_5) = \\frac{x_1^2}{10} + 15 x_2 + 5 x_3 + 15 x_4 + \\frac{x_5^2}{10},$$\n",
    "and the constraints are\n",
    "\\begin{align}\n",
    "100 & = h_1 + h_2 + h_3\\\\\n",
    "x_1 & = h_1 + h_3 \\\\\n",
    "x_2 & = h_2\\\\\n",
    "x_3 & = h_3\\\\\n",
    "x_4 & = h_1\\\\\n",
    "x_5 & = h_2 + h_3.\n",
    "\\end{align}\n",
    "Check that you understand where these come from."
   ]
  },
  {
   "cell_type": "markdown",
   "metadata": {
    "nbpresent": {
     "id": "d1f0a042-340a-4c8a-9c98-14bb6c4e6a98"
    },
    "slideshow": {
     "slide_type": "slide"
    }
   },
   "source": [
    "### Solution:\n",
    "\n",
    "We can eliminate the path flows in terms of the link flows: $h_1= x_4$, $h_2 = x_2$ and $h_3 = x_3$.\n",
    "There remain 3 equation relating the 5 path flows:\n",
    "\n",
    "\\begin{align}\n",
    "100 &= x_2 + x_3 + x_4 \\\\\n",
    "x_1 &= x_4 + x_3\\\\\n",
    "x_5 &= x_2 + x3.\n",
    "\\end{align}\n",
    "\n",
    "Using these equations we can reduce the 5 degrees of freedom in the optimand to 2. We eliminate $x_2$, $x_4$ and $x_5$ and write everything in terms of $x_1$ and $x_3$:\n",
    "\n",
    "\\begin{align}\n",
    "x_2 &= 100 - x_1\\\\\n",
    "x_4 &= x_1 - x_3\\\\\n",
    "x_5 &= 100 - x_1 + x_3.\n",
    "\\end{align}\n",
    "\n",
    "The optimand is now a function of two variables:\n",
    "\n",
    "$$F_\\text{SO}(x_1, x_3) = \\frac{x_1^2}{10} + 15\\, (100-x_1) + 5\\, x_3 + 15\\, (x_1-x_3) + \\frac{(100-x_1+x_3)^2}{10}.$$"
   ]
  },
  {
   "cell_type": "markdown",
   "metadata": {
    "nbpresent": {
     "id": "b64ab1d4-8564-46a2-adf7-ef899d6a3029"
    },
    "slideshow": {
     "slide_type": "slide"
    }
   },
   "source": [
    "### Solution:\n",
    "\n",
    "We minimise by setting $\\nabla\\,F_\\text{SO}(x_1, x_3) = 0$ but we should bear in mind that we still have the positivity constraints $x_1 \\geq 0$, $x_3 \\geq 0$. \n",
    "\n",
    "This gives:\n",
    "\\begin{align}\n",
    "\\frac{\\partial F_\\text{SO}}{\\partial x_1} &= \\frac{2}{5}\\, x_1  - \\frac{1}{5}\\, x_3 - 20 &= 0 \\\\\n",
    "\\frac{\\partial F_\\text{SO}}{\\partial x_3} &= -\\frac{1}{5}\\, x_1 + \\frac{1}{5}\\, x_3 + 10 &= 0.\n",
    "\\end{align}\n",
    "\n",
    "Solving these gives:\n",
    "\\begin{align}\n",
    "x_1 &= 50\\\\\n",
    "x_3 &= 0.\n",
    "\\end{align}\n",
    "\n",
    "Note how, in this case, the optimum turns out to be on the boundary of the feasible set.\n",
    "\n",
    "The remaining link flows are then: $x_2 = 50$, $x_4 = 50$, $x_5 = 50$. The path flows are $h_1 = 50$, $h_2 = 50$ and $h_3 = 0$.\n",
    "\n",
    "A similar calculation with a different optimand allows one to obtain the Wardrop equilibrium."
   ]
  },
  {
   "cell_type": "markdown",
   "metadata": {
    "nbpresent": {
     "id": "d8f2dc15-d936-4951-95b0-fd26bf1c8d61"
    },
    "slideshow": {
     "slide_type": "slide"
    }
   },
   "source": [
    "## Constrained optimisation\n",
    "\n",
    "Computation of Wardrop equilbria and social optima in congestion games require optimisation of a nonlinear function of the link and path flows subject to a set of linear constraints. We must solve problems of the form:\n",
    "\n",
    "$$ \\min_{X} F(X)$$\n",
    "\n",
    "subject to \n",
    "\n",
    "$$ A\\,X = b$$\n",
    "$$ X \\geq 0$$\n",
    "\n"
   ]
  },
  {
   "cell_type": "markdown",
   "metadata": {
    "nbpresent": {
     "id": "0bcc3382-9484-435c-a46a-bf109eab34aa"
    },
    "slideshow": {
     "slide_type": "slide"
    }
   },
   "source": [
    "## Constrained optimisation\n",
    "In MA934 we learned that solutions of constrained linear optimisation problems are always on the boundary of the feasible set. This is not true for constrained nonlinear optimisation problems.\n",
    "![Constrained optimisation](files/images/Inequality_constraint_diagram.svg.png \"Network 2\")\n",
    "\n",
    "[Onmyphd](https://commons.wikimedia.org/wiki/User:Onmyphd) [Inequality constraint diagram](https://commons.wikimedia.org/wiki/File:Inequality_constraint_diagram.svg) [CC BY-SA 3.0](https://creativecommons.org/licenses/by-sa/3.0/legalcode)"
   ]
  },
  {
   "cell_type": "markdown",
   "metadata": {
    "nbpresent": {
     "id": "204fcbb9-c073-42f9-bcd9-5a5df2e28549"
    },
    "slideshow": {
     "slide_type": "slide"
    }
   },
   "source": [
    "## Reminder:  Frank - Wolfe algorithm\n",
    "\n",
    "The Frank-Wolfe algorithm is an iterative algorithm for solving nonlinear optimisation problems with constraints.The basic idea is to linearise:\n",
    "$$ F(X_k+X) = F(X_k) + (X-X_k) \\cdot \\nabla\\, F(X_k) + \\ldots$$\n",
    "At each step of the iteration we linearise the objective function about the current point and the obtain the next point by solving the resulting contstrained linear optimisation problem - e.g. using the Dantzig algorithm.\n",
    "* initial guess: $k=0$, $X = X_0$\n",
    "* Solve the linearised problem\n",
    "$$s_k = \\text{arg} \\min_{s} s\\cdot \\nabla\\,F(s)$$\n",
    "subject to \n",
    "$$ A\\,s = b$$\n",
    "$$ s \\geq 0$$\n",
    "* Calculate step size: $\\gamma_k = \\frac{2}{k+2}$ \n",
    "* Update our solution: $X_{k+1} = X_k + \\gamma_k\\,(s_k - X_k)$, $\\ \\ \\ k=k+1$\n"
   ]
  },
  {
   "cell_type": "markdown",
   "metadata": {
    "nbpresent": {
     "id": "d968f27f-2fbd-461d-a001-13a9d3b8c8bd"
    },
    "slideshow": {
     "slide_type": "slide"
    }
   },
   "source": [
    "## Useful links\n",
    "* Agents.jl documentation : https://github.com/JuliaDynamics/Agents.jl/blob/master/docs/src/index.md \n",
    "\n",
    "## References"
   ]
  },
  {
   "cell_type": "code",
   "execution_count": null,
   "metadata": {
    "nbpresent": {
     "id": "90a8f86c-30e2-4459-a621-27e9b8a46e1b"
    }
   },
   "outputs": [],
   "source": []
  },
  {
   "cell_type": "code",
   "execution_count": null,
   "metadata": {
    "nbpresent": {
     "id": "65fc80f1-0db7-4916-baec-971eb591c557"
    }
   },
   "outputs": [],
   "source": []
  }
 ],
 "metadata": {
  "celltoolbar": "Slideshow",
  "kernelspec": {
   "display_name": "Julia 1.6.0",
   "language": "julia",
   "name": "julia-1.6"
  },
  "language_info": {
   "file_extension": ".jl",
   "mimetype": "application/julia",
   "name": "julia",
   "version": "1.6.0"
  }
 },
 "nbformat": 4,
 "nbformat_minor": 2
}
